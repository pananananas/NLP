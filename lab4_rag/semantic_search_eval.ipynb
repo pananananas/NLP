{
 "cells": [
  {
   "cell_type": "markdown",
   "metadata": {},
   "source": [
    "# Evaluation of Semantic Search\n"
   ]
  },
  {
   "cell_type": "markdown",
   "metadata": {},
   "source": [
    "## Data preparation\n"
   ]
  },
  {
   "cell_type": "code",
   "execution_count": 1,
   "metadata": {},
   "outputs": [
    {
     "data": {
      "text/plain": [
       "True"
      ]
     },
     "execution_count": 1,
     "metadata": {},
     "output_type": "execute_result"
    }
   ],
   "source": [
    "from transformers import AutoTokenizer, AutoModel\n",
    "from sentence_transformers import CrossEncoder\n",
    "import matplotlib.pyplot as plt\n",
    "from dotenv import load_dotenv\n",
    "from datasets import Dataset\n",
    "from tqdm import tqdm\n",
    "import pandas as pd\n",
    "import numpy as np\n",
    "import faiss\n",
    "import torch\n",
    "import os\n",
    "\n",
    "load_dotenv()"
   ]
  },
  {
   "cell_type": "code",
   "execution_count": 2,
   "metadata": {},
   "outputs": [
    {
     "data": {
      "text/html": [
       "<div>\n",
       "<style scoped>\n",
       "    .dataframe tbody tr th:only-of-type {\n",
       "        vertical-align: middle;\n",
       "    }\n",
       "\n",
       "    .dataframe tbody tr th {\n",
       "        vertical-align: top;\n",
       "    }\n",
       "\n",
       "    .dataframe thead th {\n",
       "        text-align: right;\n",
       "    }\n",
       "</style>\n",
       "<table border=\"1\" class=\"dataframe\">\n",
       "  <thead>\n",
       "    <tr style=\"text-align: right;\">\n",
       "      <th></th>\n",
       "      <th>post_id</th>\n",
       "      <th>Title</th>\n",
       "      <th>tattoo_description</th>\n",
       "      <th>tattoo_color</th>\n",
       "      <th>tattoo_style</th>\n",
       "      <th>Topic</th>\n",
       "      <th>Topic_Description</th>\n",
       "    </tr>\n",
       "  </thead>\n",
       "  <tbody>\n",
       "    <tr>\n",
       "      <th>0</th>\n",
       "      <td>16fjoi5</td>\n",
       "      <td>Good placement for a goofy tattoo when you hav...</td>\n",
       "      <td>a cute kitten standing behind a wine glass</td>\n",
       "      <td>black</td>\n",
       "      <td>illustrative</td>\n",
       "      <td>0</td>\n",
       "      <td>Cats (cats, kittens, furry pets)</td>\n",
       "    </tr>\n",
       "    <tr>\n",
       "      <th>1</th>\n",
       "      <td>t0s1uk</td>\n",
       "      <td>Recently got this cat, and the “x” looks like ...</td>\n",
       "      <td>black cat tattoo with a cross on its back</td>\n",
       "      <td>black</td>\n",
       "      <td>illustrative</td>\n",
       "      <td>0</td>\n",
       "      <td>Cats (cats, kittens, furry pets)</td>\n",
       "    </tr>\n",
       "    <tr>\n",
       "      <th>2</th>\n",
       "      <td>14wkvrl</td>\n",
       "      <td>My friend who is a tattoo artist, designed my ...</td>\n",
       "      <td>a traditional style tattoo featuring a cat wit...</td>\n",
       "      <td>multicolored</td>\n",
       "      <td>traditional</td>\n",
       "      <td>0</td>\n",
       "      <td>Cats (cats, kittens, furry pets)</td>\n",
       "    </tr>\n",
       "    <tr>\n",
       "      <th>3</th>\n",
       "      <td>txcbmr</td>\n",
       "      <td>Pretty cute cat astronaut @ Freedom Ink, Brazil</td>\n",
       "      <td>black and white tattoo of a cat in an astronau...</td>\n",
       "      <td>black</td>\n",
       "      <td>illustrative</td>\n",
       "      <td>0</td>\n",
       "      <td>Cats (cats, kittens, furry pets)</td>\n",
       "    </tr>\n",
       "    <tr>\n",
       "      <th>4</th>\n",
       "      <td>1eg49eq</td>\n",
       "      <td>Just wanted to share my new car tattoo cuz I’m...</td>\n",
       "      <td>a detailed black and grey tattoo of a demonic ...</td>\n",
       "      <td>black gray</td>\n",
       "      <td>realism</td>\n",
       "      <td>0</td>\n",
       "      <td>Cats (cats, kittens, furry pets)</td>\n",
       "    </tr>\n",
       "  </tbody>\n",
       "</table>\n",
       "</div>"
      ],
      "text/plain": [
       "   post_id                                              Title  \\\n",
       "0  16fjoi5  Good placement for a goofy tattoo when you hav...   \n",
       "1   t0s1uk  Recently got this cat, and the “x” looks like ...   \n",
       "2  14wkvrl  My friend who is a tattoo artist, designed my ...   \n",
       "3   txcbmr    Pretty cute cat astronaut @ Freedom Ink, Brazil   \n",
       "4  1eg49eq  Just wanted to share my new car tattoo cuz I’m...   \n",
       "\n",
       "                                  tattoo_description  tattoo_color  \\\n",
       "0         a cute kitten standing behind a wine glass         black   \n",
       "1          black cat tattoo with a cross on its back         black   \n",
       "2  a traditional style tattoo featuring a cat wit...  multicolored   \n",
       "3  black and white tattoo of a cat in an astronau...         black   \n",
       "4  a detailed black and grey tattoo of a demonic ...    black gray   \n",
       "\n",
       "   tattoo_style  Topic                 Topic_Description  \n",
       "0  illustrative      0  Cats (cats, kittens, furry pets)  \n",
       "1  illustrative      0  Cats (cats, kittens, furry pets)  \n",
       "2   traditional      0  Cats (cats, kittens, furry pets)  \n",
       "3  illustrative      0  Cats (cats, kittens, furry pets)  \n",
       "4       realism      0  Cats (cats, kittens, furry pets)  "
      ]
     },
     "execution_count": 2,
     "metadata": {},
     "output_type": "execute_result"
    }
   ],
   "source": [
    "topic_data_df = pd.read_csv('../tattoos/topic_data.csv')[['post_id', 'Title', 'tattoo_description', 'tattoo_color', 'tattoo_style', 'Topic', 'Topic_Description']]\n",
    "topic_data_df.head()"
   ]
  },
  {
   "cell_type": "code",
   "execution_count": 3,
   "metadata": {},
   "outputs": [],
   "source": [
    "topic_data_df.dropna(subset=['post_id', 'Title', 'tattoo_description', 'tattoo_color', 'tattoo_style', 'Topic_Description', 'Topic'], inplace=True)\n",
    "\n",
    "topic_data_df['text'] = (\n",
    "    topic_data_df['Title'] + \" \\n \" +\n",
    "    topic_data_df['tattoo_description'] + \" \\n \" +\n",
    "    topic_data_df['tattoo_color'] + \" \\n \" +\n",
    "    topic_data_df['tattoo_style']\n",
    ")\n"
   ]
  },
  {
   "cell_type": "code",
   "execution_count": 4,
   "metadata": {},
   "outputs": [],
   "source": [
    "k_values = [2, 3, 5, 8, 10, 12, 15, 20, 25, 30]\n",
    "\n",
    "map_before_faiss_scores = []\n",
    "map_after_faiss_scores = []\n",
    "map_reranker_scores = []\n",
    "\n",
    "\n",
    "topic_labels = {\n",
    "    0:  \"Cats (cats, kittens, furry pets)\",\n",
    "    1:  \"Skulls (skulls, bones, dark atmosphere)\",\n",
    "    2:  \"Wolfs (wolves, forest, wild predators)\",\n",
    "    3:  \"Birds (birds, wings, outspread feathers)\",\n",
    "    4:  \"Florals (flowers, leaves, vegetation)\",\n",
    "    5:  \"Spider and webs (spiders, webs, nature)\",\n",
    "    6:  \"Tigers (tigers, wild cats, stripes)\",\n",
    "    7:  \"Lions (lions, manes, majesty)\",\n",
    "    8:  \"Owls (owls, nocturnal birds, outspread wings)\",\n",
    "    9:  \"Trees (trees, roots, nature, forest)\",\n",
    "    10: \"Fishs (fish, fishing, underwater world)\",\n",
    "    11: \"Ships (ships, sails, maritime journeys)\",\n",
    "    12: \"Mushrooms (mushrooms, forest floor, nature)\",\n",
    "    13: \"Moths (moths, insects, transformation)\",\n",
    "    14: \"Bats (bats, night, mystery)\",\n",
    "    15: \"Dinosaurs (dinosaurs, prehistory)\",\n",
    "    16: \"Bees (beekeeping, honey, insects)\",\n",
    "    17: \"Cosmics (galaxies, planets, cosmos)\",\n",
    "    18: \"Blackworks (simple dark outlines, geometric patterns)\",\n",
    "    19: \"Dogs (dogs, dog portraits, various breeds)\"\n",
    "}"
   ]
  },
  {
   "cell_type": "code",
   "execution_count": 5,
   "metadata": {},
   "outputs": [
    {
     "data": {
      "text/html": [
       "<div>\n",
       "<style scoped>\n",
       "    .dataframe tbody tr th:only-of-type {\n",
       "        vertical-align: middle;\n",
       "    }\n",
       "\n",
       "    .dataframe tbody tr th {\n",
       "        vertical-align: top;\n",
       "    }\n",
       "\n",
       "    .dataframe thead th {\n",
       "        text-align: right;\n",
       "    }\n",
       "</style>\n",
       "<table border=\"1\" class=\"dataframe\">\n",
       "  <thead>\n",
       "    <tr style=\"text-align: right;\">\n",
       "      <th></th>\n",
       "      <th>post_id</th>\n",
       "      <th>tattoo_description</th>\n",
       "      <th>tattoo_color</th>\n",
       "      <th>tattoo_style</th>\n",
       "      <th>Title</th>\n",
       "    </tr>\n",
       "  </thead>\n",
       "  <tbody>\n",
       "    <tr>\n",
       "      <th>0</th>\n",
       "      <td>11tj1ya</td>\n",
       "      <td>blackwork tattoo with intricate designs on the...</td>\n",
       "      <td>black</td>\n",
       "      <td>blackwork</td>\n",
       "      <td>Palm sleeves tattoos done by Chris at Timeless...</td>\n",
       "    </tr>\n",
       "    <tr>\n",
       "      <th>1</th>\n",
       "      <td>uyp3wc</td>\n",
       "      <td>colorful illustrative tattoo with various shap...</td>\n",
       "      <td>multicolored</td>\n",
       "      <td>illustrative</td>\n",
       "      <td>How it started and how its going. A map to esc...</td>\n",
       "    </tr>\n",
       "    <tr>\n",
       "      <th>2</th>\n",
       "      <td>de326x</td>\n",
       "      <td>blackwork tattoo featuring two raccoons with g...</td>\n",
       "      <td>black</td>\n",
       "      <td>blackwork</td>\n",
       "      <td>Raccoon and otter by Shaun Horlock, Black Lodg...</td>\n",
       "    </tr>\n",
       "    <tr>\n",
       "      <th>3</th>\n",
       "      <td>94gpbt</td>\n",
       "      <td>a watercolor tattoo of a landscape scene withi...</td>\n",
       "      <td>blue</td>\n",
       "      <td>illustrative</td>\n",
       "      <td>Got my first tattoo in four years from the ama...</td>\n",
       "    </tr>\n",
       "    <tr>\n",
       "      <th>4</th>\n",
       "      <td>108rdjd</td>\n",
       "      <td>animestyle tattoo with red tears and black eye...</td>\n",
       "      <td>red black</td>\n",
       "      <td>anime</td>\n",
       "      <td>My Kill Bill thigh piece, by Nikol Safronova a...</td>\n",
       "    </tr>\n",
       "    <tr>\n",
       "      <th>...</th>\n",
       "      <td>...</td>\n",
       "      <td>...</td>\n",
       "      <td>...</td>\n",
       "      <td>...</td>\n",
       "      <td>...</td>\n",
       "    </tr>\n",
       "    <tr>\n",
       "      <th>78618</th>\n",
       "      <td>18k69hq</td>\n",
       "      <td>a traditional tattoo featuring a heart with ey...</td>\n",
       "      <td>red  black  yellow</td>\n",
       "      <td>traditional</td>\n",
       "      <td>does this look normal?</td>\n",
       "    </tr>\n",
       "    <tr>\n",
       "      <th>78619</th>\n",
       "      <td>1ba61b8</td>\n",
       "      <td>black floral tattoo on the arm</td>\n",
       "      <td>black</td>\n",
       "      <td>blackwork</td>\n",
       "      <td>how much to tip</td>\n",
       "    </tr>\n",
       "    <tr>\n",
       "      <th>78620</th>\n",
       "      <td>1cea717</td>\n",
       "      <td>black fine line floral tattoo on the inner for...</td>\n",
       "      <td>black</td>\n",
       "      <td>fine line</td>\n",
       "      <td>First Tattoo is missing something...</td>\n",
       "    </tr>\n",
       "    <tr>\n",
       "      <th>78621</th>\n",
       "      <td>12b3npz</td>\n",
       "      <td>blackwork floral and butterfly tattoo on the r...</td>\n",
       "      <td>black</td>\n",
       "      <td>blackwork</td>\n",
       "      <td>Is it too jumbled up? I like it sometimes and ...</td>\n",
       "    </tr>\n",
       "    <tr>\n",
       "      <th>78622</th>\n",
       "      <td>14jbbkd</td>\n",
       "      <td>a realistic tattoo of a cat's face with green ...</td>\n",
       "      <td>green  black  white</td>\n",
       "      <td>realism</td>\n",
       "      <td>Got my first tattoo last year and afraid this ...</td>\n",
       "    </tr>\n",
       "  </tbody>\n",
       "</table>\n",
       "<p>78623 rows × 5 columns</p>\n",
       "</div>"
      ],
      "text/plain": [
       "       post_id                                 tattoo_description  \\\n",
       "0      11tj1ya  blackwork tattoo with intricate designs on the...   \n",
       "1       uyp3wc  colorful illustrative tattoo with various shap...   \n",
       "2       de326x  blackwork tattoo featuring two raccoons with g...   \n",
       "3       94gpbt  a watercolor tattoo of a landscape scene withi...   \n",
       "4      108rdjd  animestyle tattoo with red tears and black eye...   \n",
       "...        ...                                                ...   \n",
       "78618  18k69hq  a traditional tattoo featuring a heart with ey...   \n",
       "78619  1ba61b8                     black floral tattoo on the arm   \n",
       "78620  1cea717  black fine line floral tattoo on the inner for...   \n",
       "78621  12b3npz  blackwork floral and butterfly tattoo on the r...   \n",
       "78622  14jbbkd  a realistic tattoo of a cat's face with green ...   \n",
       "\n",
       "              tattoo_color  tattoo_style  \\\n",
       "0                    black     blackwork   \n",
       "1             multicolored  illustrative   \n",
       "2                    black     blackwork   \n",
       "3                     blue  illustrative   \n",
       "4                red black         anime   \n",
       "...                    ...           ...   \n",
       "78618   red  black  yellow   traditional   \n",
       "78619                black     blackwork   \n",
       "78620                black     fine line   \n",
       "78621                black     blackwork   \n",
       "78622  green  black  white       realism   \n",
       "\n",
       "                                                   Title  \n",
       "0      Palm sleeves tattoos done by Chris at Timeless...  \n",
       "1      How it started and how its going. A map to esc...  \n",
       "2      Raccoon and otter by Shaun Horlock, Black Lodg...  \n",
       "3      Got my first tattoo in four years from the ama...  \n",
       "4      My Kill Bill thigh piece, by Nikol Safronova a...  \n",
       "...                                                  ...  \n",
       "78618                             does this look normal?  \n",
       "78619                                    how much to tip  \n",
       "78620               First Tattoo is missing something...  \n",
       "78621  Is it too jumbled up? I like it sometimes and ...  \n",
       "78622  Got my first tattoo last year and afraid this ...  \n",
       "\n",
       "[78623 rows x 5 columns]"
      ]
     },
     "execution_count": 5,
     "metadata": {},
     "output_type": "execute_result"
    }
   ],
   "source": [
    "descriptions_df = pd.read_csv('../data.csv')[['post_id', 'tattoo_description','tattoo_color', 'tattoo_style', 'Title']]\n",
    "descriptions_df"
   ]
  },
  {
   "cell_type": "markdown",
   "metadata": {},
   "source": [
    "### Merge Posts\n"
   ]
  },
  {
   "cell_type": "code",
   "execution_count": 6,
   "metadata": {},
   "outputs": [],
   "source": [
    "if not os.path.exists('../tattoos/posts_content.csv'):\n",
    "    # Get all CSV files in the specified directory\n",
    "    csv_path = '../tattoos/posts_per_subreddit'\n",
    "    csv_files = [f for f in os.listdir(csv_path) if f.endswith('.csv')]\n",
    "\n",
    "    # Initialize empty DataFrame\n",
    "    posts_content_df = pd.DataFrame()\n",
    "\n",
    "    # Read and concatenate each CSV file\n",
    "    for file in csv_files:\n",
    "        file_path = os.path.join(csv_path, file)\n",
    "        df = pd.read_csv(file_path)\n",
    "        posts_content_df = pd.concat([posts_content_df, df], ignore_index=True)\n",
    "\n",
    "    posts_content_df = posts_content_df[['Id', 'Content']]\n",
    "    # Replace NaN values in 'Content' column with empty string\n",
    "    posts_content_df['Content'] = posts_content_df['Content'].fillna('')\n",
    "    posts_content_df = posts_content_df.rename(columns={'Id': 'post_id'})\n",
    "\n",
    "    posts_content_df.to_csv('../tattoos/posts_content.csv')\n",
    "else:\n",
    "    posts_content_df = pd.read_csv('../tattoos/posts_content.csv')\n",
    "    # Replace NaN values in 'Content' column with empty string\n",
    "    posts_content_df['Content'] = posts_content_df['Content'].fillna('')"
   ]
  },
  {
   "cell_type": "code",
   "execution_count": 7,
   "metadata": {},
   "outputs": [
    {
     "data": {
      "text/html": [
       "<div>\n",
       "<style scoped>\n",
       "    .dataframe tbody tr th:only-of-type {\n",
       "        vertical-align: middle;\n",
       "    }\n",
       "\n",
       "    .dataframe tbody tr th {\n",
       "        vertical-align: top;\n",
       "    }\n",
       "\n",
       "    .dataframe thead th {\n",
       "        text-align: right;\n",
       "    }\n",
       "</style>\n",
       "<table border=\"1\" class=\"dataframe\">\n",
       "  <thead>\n",
       "    <tr style=\"text-align: right;\">\n",
       "      <th></th>\n",
       "      <th>Unnamed: 0</th>\n",
       "      <th>post_id</th>\n",
       "      <th>Content</th>\n",
       "    </tr>\n",
       "  </thead>\n",
       "  <tbody>\n",
       "    <tr>\n",
       "      <th>0</th>\n",
       "      <td>0</td>\n",
       "      <td>2zbp4x</td>\n",
       "      <td></td>\n",
       "    </tr>\n",
       "    <tr>\n",
       "      <th>1</th>\n",
       "      <td>1</td>\n",
       "      <td>2zeq1l</td>\n",
       "      <td></td>\n",
       "    </tr>\n",
       "    <tr>\n",
       "      <th>2</th>\n",
       "      <td>2</td>\n",
       "      <td>2zfjp4</td>\n",
       "      <td></td>\n",
       "    </tr>\n",
       "    <tr>\n",
       "      <th>3</th>\n",
       "      <td>3</td>\n",
       "      <td>2zizqs</td>\n",
       "      <td></td>\n",
       "    </tr>\n",
       "    <tr>\n",
       "      <th>4</th>\n",
       "      <td>4</td>\n",
       "      <td>2zlsqy</td>\n",
       "      <td></td>\n",
       "    </tr>\n",
       "    <tr>\n",
       "      <th>...</th>\n",
       "      <td>...</td>\n",
       "      <td>...</td>\n",
       "      <td>...</td>\n",
       "    </tr>\n",
       "    <tr>\n",
       "      <th>332450</th>\n",
       "      <td>332450</td>\n",
       "      <td>1gk2hyh</td>\n",
       "      <td></td>\n",
       "    </tr>\n",
       "    <tr>\n",
       "      <th>332451</th>\n",
       "      <td>332451</td>\n",
       "      <td>1gk33iq</td>\n",
       "      <td>This is my second tattoo ever, I decided to ge...</td>\n",
       "    </tr>\n",
       "    <tr>\n",
       "      <th>332452</th>\n",
       "      <td>332452</td>\n",
       "      <td>1gk34gz</td>\n",
       "      <td></td>\n",
       "    </tr>\n",
       "    <tr>\n",
       "      <th>332453</th>\n",
       "      <td>332453</td>\n",
       "      <td>1gk37w5</td>\n",
       "      <td></td>\n",
       "    </tr>\n",
       "    <tr>\n",
       "      <th>332454</th>\n",
       "      <td>332454</td>\n",
       "      <td>1gk3fdx</td>\n",
       "      <td></td>\n",
       "    </tr>\n",
       "  </tbody>\n",
       "</table>\n",
       "<p>332455 rows × 3 columns</p>\n",
       "</div>"
      ],
      "text/plain": [
       "        Unnamed: 0  post_id                                            Content\n",
       "0                0   2zbp4x                                                   \n",
       "1                1   2zeq1l                                                   \n",
       "2                2   2zfjp4                                                   \n",
       "3                3   2zizqs                                                   \n",
       "4                4   2zlsqy                                                   \n",
       "...            ...      ...                                                ...\n",
       "332450      332450  1gk2hyh                                                   \n",
       "332451      332451  1gk33iq  This is my second tattoo ever, I decided to ge...\n",
       "332452      332452  1gk34gz                                                   \n",
       "332453      332453  1gk37w5                                                   \n",
       "332454      332454  1gk3fdx                                                   \n",
       "\n",
       "[332455 rows x 3 columns]"
      ]
     },
     "execution_count": 7,
     "metadata": {},
     "output_type": "execute_result"
    }
   ],
   "source": [
    "posts_content_df"
   ]
  },
  {
   "cell_type": "markdown",
   "metadata": {},
   "source": [
    "### Join Posts and Descriptions\n"
   ]
  },
  {
   "cell_type": "code",
   "execution_count": 8,
   "metadata": {},
   "outputs": [
    {
     "data": {
      "text/html": [
       "<div>\n",
       "<style scoped>\n",
       "    .dataframe tbody tr th:only-of-type {\n",
       "        vertical-align: middle;\n",
       "    }\n",
       "\n",
       "    .dataframe tbody tr th {\n",
       "        vertical-align: top;\n",
       "    }\n",
       "\n",
       "    .dataframe thead th {\n",
       "        text-align: right;\n",
       "    }\n",
       "</style>\n",
       "<table border=\"1\" class=\"dataframe\">\n",
       "  <thead>\n",
       "    <tr style=\"text-align: right;\">\n",
       "      <th></th>\n",
       "      <th>post_id</th>\n",
       "      <th>tattoo_description</th>\n",
       "      <th>tattoo_color</th>\n",
       "      <th>tattoo_style</th>\n",
       "      <th>Title</th>\n",
       "      <th>Unnamed: 0</th>\n",
       "      <th>Content</th>\n",
       "    </tr>\n",
       "  </thead>\n",
       "  <tbody>\n",
       "    <tr>\n",
       "      <th>0</th>\n",
       "      <td>11tj1ya</td>\n",
       "      <td>blackwork tattoo with intricate designs on the...</td>\n",
       "      <td>black</td>\n",
       "      <td>blackwork</td>\n",
       "      <td>Palm sleeves tattoos done by Chris at Timeless...</td>\n",
       "      <td>273511</td>\n",
       "      <td></td>\n",
       "    </tr>\n",
       "    <tr>\n",
       "      <th>1</th>\n",
       "      <td>uyp3wc</td>\n",
       "      <td>colorful illustrative tattoo with various shap...</td>\n",
       "      <td>multicolored</td>\n",
       "      <td>illustrative</td>\n",
       "      <td>How it started and how its going. A map to esc...</td>\n",
       "      <td>261900</td>\n",
       "      <td></td>\n",
       "    </tr>\n",
       "    <tr>\n",
       "      <th>2</th>\n",
       "      <td>de326x</td>\n",
       "      <td>blackwork tattoo featuring two raccoons with g...</td>\n",
       "      <td>black</td>\n",
       "      <td>blackwork</td>\n",
       "      <td>Raccoon and otter by Shaun Horlock, Black Lodg...</td>\n",
       "      <td>215506</td>\n",
       "      <td></td>\n",
       "    </tr>\n",
       "    <tr>\n",
       "      <th>3</th>\n",
       "      <td>94gpbt</td>\n",
       "      <td>a watercolor tattoo of a landscape scene withi...</td>\n",
       "      <td>blue</td>\n",
       "      <td>illustrative</td>\n",
       "      <td>Got my first tattoo in four years from the ama...</td>\n",
       "      <td>192953</td>\n",
       "      <td></td>\n",
       "    </tr>\n",
       "    <tr>\n",
       "      <th>4</th>\n",
       "      <td>108rdjd</td>\n",
       "      <td>animestyle tattoo with red tears and black eye...</td>\n",
       "      <td>red black</td>\n",
       "      <td>anime</td>\n",
       "      <td>My Kill Bill thigh piece, by Nikol Safronova a...</td>\n",
       "      <td>270201</td>\n",
       "      <td></td>\n",
       "    </tr>\n",
       "    <tr>\n",
       "      <th>...</th>\n",
       "      <td>...</td>\n",
       "      <td>...</td>\n",
       "      <td>...</td>\n",
       "      <td>...</td>\n",
       "      <td>...</td>\n",
       "      <td>...</td>\n",
       "      <td>...</td>\n",
       "    </tr>\n",
       "    <tr>\n",
       "      <th>78618</th>\n",
       "      <td>18k69hq</td>\n",
       "      <td>a traditional tattoo featuring a heart with ey...</td>\n",
       "      <td>red  black  yellow</td>\n",
       "      <td>traditional</td>\n",
       "      <td>does this look normal?</td>\n",
       "      <td>30635</td>\n",
       "      <td>so i have several tattoos but i’ve never had c...</td>\n",
       "    </tr>\n",
       "    <tr>\n",
       "      <th>78619</th>\n",
       "      <td>1ba61b8</td>\n",
       "      <td>black floral tattoo on the arm</td>\n",
       "      <td>black</td>\n",
       "      <td>blackwork</td>\n",
       "      <td>how much to tip</td>\n",
       "      <td>38301</td>\n",
       "      <td>how much of a tip should you leave on a $480 t...</td>\n",
       "    </tr>\n",
       "    <tr>\n",
       "      <th>78620</th>\n",
       "      <td>1cea717</td>\n",
       "      <td>black fine line floral tattoo on the inner for...</td>\n",
       "      <td>black</td>\n",
       "      <td>fine line</td>\n",
       "      <td>First Tattoo is missing something...</td>\n",
       "      <td>43349</td>\n",
       "      <td>I got my first tattoo last month (got 2 fine l...</td>\n",
       "    </tr>\n",
       "    <tr>\n",
       "      <th>78621</th>\n",
       "      <td>12b3npz</td>\n",
       "      <td>blackwork floral and butterfly tattoo on the r...</td>\n",
       "      <td>black</td>\n",
       "      <td>blackwork</td>\n",
       "      <td>Is it too jumbled up? I like it sometimes and ...</td>\n",
       "      <td>14909</td>\n",
       "      <td></td>\n",
       "    </tr>\n",
       "    <tr>\n",
       "      <th>78622</th>\n",
       "      <td>14jbbkd</td>\n",
       "      <td>a realistic tattoo of a cat's face with green ...</td>\n",
       "      <td>green  black  white</td>\n",
       "      <td>realism</td>\n",
       "      <td>Got my first tattoo last year and afraid this ...</td>\n",
       "      <td>17254</td>\n",
       "      <td>I got my first big tattoo a year ago, I was so...</td>\n",
       "    </tr>\n",
       "  </tbody>\n",
       "</table>\n",
       "<p>78623 rows × 7 columns</p>\n",
       "</div>"
      ],
      "text/plain": [
       "       post_id                                 tattoo_description  \\\n",
       "0      11tj1ya  blackwork tattoo with intricate designs on the...   \n",
       "1       uyp3wc  colorful illustrative tattoo with various shap...   \n",
       "2       de326x  blackwork tattoo featuring two raccoons with g...   \n",
       "3       94gpbt  a watercolor tattoo of a landscape scene withi...   \n",
       "4      108rdjd  animestyle tattoo with red tears and black eye...   \n",
       "...        ...                                                ...   \n",
       "78618  18k69hq  a traditional tattoo featuring a heart with ey...   \n",
       "78619  1ba61b8                     black floral tattoo on the arm   \n",
       "78620  1cea717  black fine line floral tattoo on the inner for...   \n",
       "78621  12b3npz  blackwork floral and butterfly tattoo on the r...   \n",
       "78622  14jbbkd  a realistic tattoo of a cat's face with green ...   \n",
       "\n",
       "              tattoo_color  tattoo_style  \\\n",
       "0                    black     blackwork   \n",
       "1             multicolored  illustrative   \n",
       "2                    black     blackwork   \n",
       "3                     blue  illustrative   \n",
       "4                red black         anime   \n",
       "...                    ...           ...   \n",
       "78618   red  black  yellow   traditional   \n",
       "78619                black     blackwork   \n",
       "78620                black     fine line   \n",
       "78621                black     blackwork   \n",
       "78622  green  black  white       realism   \n",
       "\n",
       "                                                   Title  Unnamed: 0  \\\n",
       "0      Palm sleeves tattoos done by Chris at Timeless...      273511   \n",
       "1      How it started and how its going. A map to esc...      261900   \n",
       "2      Raccoon and otter by Shaun Horlock, Black Lodg...      215506   \n",
       "3      Got my first tattoo in four years from the ama...      192953   \n",
       "4      My Kill Bill thigh piece, by Nikol Safronova a...      270201   \n",
       "...                                                  ...         ...   \n",
       "78618                             does this look normal?       30635   \n",
       "78619                                    how much to tip       38301   \n",
       "78620               First Tattoo is missing something...       43349   \n",
       "78621  Is it too jumbled up? I like it sometimes and ...       14909   \n",
       "78622  Got my first tattoo last year and afraid this ...       17254   \n",
       "\n",
       "                                                 Content  \n",
       "0                                                         \n",
       "1                                                         \n",
       "2                                                         \n",
       "3                                                         \n",
       "4                                                         \n",
       "...                                                  ...  \n",
       "78618  so i have several tattoos but i’ve never had c...  \n",
       "78619  how much of a tip should you leave on a $480 t...  \n",
       "78620  I got my first tattoo last month (got 2 fine l...  \n",
       "78621                                                     \n",
       "78622  I got my first big tattoo a year ago, I was so...  \n",
       "\n",
       "[78623 rows x 7 columns]"
      ]
     },
     "execution_count": 8,
     "metadata": {},
     "output_type": "execute_result"
    }
   ],
   "source": [
    "tattoos_df = pd.merge(descriptions_df, posts_content_df, on='post_id', how='left')\n",
    "tattoos_df"
   ]
  },
  {
   "cell_type": "code",
   "execution_count": 9,
   "metadata": {},
   "outputs": [
    {
     "data": {
      "text/plain": [
       "post_id               0\n",
       "tattoo_description    0\n",
       "tattoo_color          0\n",
       "tattoo_style          0\n",
       "Title                 0\n",
       "Unnamed: 0            0\n",
       "Content               0\n",
       "dtype: int64"
      ]
     },
     "execution_count": 9,
     "metadata": {},
     "output_type": "execute_result"
    }
   ],
   "source": [
    "tattoos_df.dropna(inplace=True, ignore_index=True)\n",
    "tattoos_df.isnull().sum()\n"
   ]
  },
  {
   "cell_type": "code",
   "execution_count": 10,
   "metadata": {},
   "outputs": [
    {
     "data": {
      "text/plain": [
       "Dataset({\n",
       "    features: ['post_id', 'tattoo_description', 'tattoo_color', 'tattoo_style', 'Title', 'Unnamed: 0', 'Content'],\n",
       "    num_rows: 78233\n",
       "})"
      ]
     },
     "execution_count": 10,
     "metadata": {},
     "output_type": "execute_result"
    }
   ],
   "source": [
    "\n",
    "tattoos_dataset = Dataset.from_pandas(tattoos_df)\n",
    "tattoos_dataset"
   ]
  },
  {
   "cell_type": "code",
   "execution_count": 11,
   "metadata": {},
   "outputs": [
    {
     "data": {
      "application/vnd.jupyter.widget-view+json": {
       "model_id": "4758c8c7477042889b37b4a6052caa7b",
       "version_major": 2,
       "version_minor": 0
      },
      "text/plain": [
       "Map:   0%|          | 0/78233 [00:00<?, ? examples/s]"
      ]
     },
     "metadata": {},
     "output_type": "display_data"
    },
    {
     "data": {
      "text/plain": [
       "Dataset({\n",
       "    features: ['post_id', 'tattoo_description', 'tattoo_color', 'tattoo_style', 'Title', 'Unnamed: 0', 'Content', 'text'],\n",
       "    num_rows: 78233\n",
       "})"
      ]
     },
     "execution_count": 11,
     "metadata": {},
     "output_type": "execute_result"
    }
   ],
   "source": [
    "def concatenate_text(examples):\n",
    "    return {\n",
    "        \"text\": examples[\"Title\"]\n",
    "        + \" \\n \"\n",
    "        + examples[\"Content\"]\n",
    "        + \" \\n \"\n",
    "        + examples[\"tattoo_description\"]\n",
    "        + \" \\n \"\n",
    "        + examples[\"tattoo_color\"]\n",
    "        + \" \\n \"\n",
    "        + examples[\"tattoo_style\"]\n",
    "    }\n",
    "\n",
    "\n",
    "tattoos_dataset = tattoos_dataset.map(concatenate_text)\n",
    "tattoos_dataset"
   ]
  },
  {
   "cell_type": "code",
   "execution_count": 12,
   "metadata": {},
   "outputs": [
    {
     "data": {
      "application/vnd.jupyter.widget-view+json": {
       "model_id": "1b8ef97c26f44983a9d6d80414c37eb4",
       "version_major": 2,
       "version_minor": 0
      },
      "text/plain": [
       "Map:   0%|          | 0/78233 [00:00<?, ? examples/s]"
      ]
     },
     "metadata": {},
     "output_type": "display_data"
    },
    {
     "data": {
      "text/plain": [
       "Dataset({\n",
       "    features: ['post_id', 'tattoo_description', 'tattoo_color', 'tattoo_style', 'Title', 'Unnamed: 0', 'Content', 'text', 'text_length'],\n",
       "    num_rows: 78233\n",
       "})"
      ]
     },
     "execution_count": 12,
     "metadata": {},
     "output_type": "execute_result"
    }
   ],
   "source": [
    "tattoos_dataset = tattoos_dataset.map(\n",
    "    lambda x: {\"text_length\": len(x[\"text\"].split())}\n",
    ")\n",
    "tattoos_dataset"
   ]
  },
  {
   "cell_type": "code",
   "execution_count": 13,
   "metadata": {},
   "outputs": [
    {
     "data": {
      "application/vnd.jupyter.widget-view+json": {
       "model_id": "4d4c3a7eb0b74efd8049fb97807a9ac5",
       "version_major": 2,
       "version_minor": 0
      },
      "text/plain": [
       "Filter:   0%|          | 0/78233 [00:00<?, ? examples/s]"
      ]
     },
     "metadata": {},
     "output_type": "display_data"
    },
    {
     "data": {
      "text/plain": [
       "Dataset({\n",
       "    features: ['post_id', 'tattoo_description', 'tattoo_color', 'tattoo_style', 'Title', 'Unnamed: 0', 'Content', 'text', 'text_length'],\n",
       "    num_rows: 76931\n",
       "})"
      ]
     },
     "execution_count": 13,
     "metadata": {},
     "output_type": "execute_result"
    }
   ],
   "source": [
    "tattoos_dataset = tattoos_dataset.filter(lambda x: x[\"text_length\"] > 15)\n",
    "tattoos_dataset"
   ]
  },
  {
   "cell_type": "markdown",
   "metadata": {},
   "source": [
    "## Retriever\n"
   ]
  },
  {
   "cell_type": "markdown",
   "metadata": {},
   "source": [
    "### Embeddings\n"
   ]
  },
  {
   "cell_type": "code",
   "execution_count": 14,
   "metadata": {},
   "outputs": [],
   "source": [
    "model_ckpt = \"sentence-transformers/multi-qa-mpnet-base-dot-v1\"\n",
    "tokenizer = AutoTokenizer.from_pretrained(model_ckpt)\n",
    "model = AutoModel.from_pretrained(model_ckpt)"
   ]
  },
  {
   "cell_type": "code",
   "execution_count": 15,
   "metadata": {},
   "outputs": [
    {
     "name": "stdout",
     "output_type": "stream",
     "text": [
      "mps\n"
     ]
    },
    {
     "data": {
      "text/plain": [
       "MPNetModel(\n",
       "  (embeddings): MPNetEmbeddings(\n",
       "    (word_embeddings): Embedding(30527, 768, padding_idx=1)\n",
       "    (position_embeddings): Embedding(514, 768, padding_idx=1)\n",
       "    (LayerNorm): LayerNorm((768,), eps=1e-05, elementwise_affine=True)\n",
       "    (dropout): Dropout(p=0.1, inplace=False)\n",
       "  )\n",
       "  (encoder): MPNetEncoder(\n",
       "    (layer): ModuleList(\n",
       "      (0-11): 12 x MPNetLayer(\n",
       "        (attention): MPNetAttention(\n",
       "          (attn): MPNetSelfAttention(\n",
       "            (q): Linear(in_features=768, out_features=768, bias=True)\n",
       "            (k): Linear(in_features=768, out_features=768, bias=True)\n",
       "            (v): Linear(in_features=768, out_features=768, bias=True)\n",
       "            (o): Linear(in_features=768, out_features=768, bias=True)\n",
       "            (dropout): Dropout(p=0.1, inplace=False)\n",
       "          )\n",
       "          (LayerNorm): LayerNorm((768,), eps=1e-05, elementwise_affine=True)\n",
       "          (dropout): Dropout(p=0.1, inplace=False)\n",
       "        )\n",
       "        (intermediate): MPNetIntermediate(\n",
       "          (dense): Linear(in_features=768, out_features=3072, bias=True)\n",
       "          (intermediate_act_fn): GELUActivation()\n",
       "        )\n",
       "        (output): MPNetOutput(\n",
       "          (dense): Linear(in_features=3072, out_features=768, bias=True)\n",
       "          (LayerNorm): LayerNorm((768,), eps=1e-05, elementwise_affine=True)\n",
       "          (dropout): Dropout(p=0.1, inplace=False)\n",
       "        )\n",
       "      )\n",
       "    )\n",
       "    (relative_attention_bias): Embedding(32, 12)\n",
       "  )\n",
       "  (pooler): MPNetPooler(\n",
       "    (dense): Linear(in_features=768, out_features=768, bias=True)\n",
       "    (activation): Tanh()\n",
       "  )\n",
       ")"
      ]
     },
     "execution_count": 15,
     "metadata": {},
     "output_type": "execute_result"
    }
   ],
   "source": [
    "device = torch.device(\"cuda\" if torch.cuda.is_available() else \"mps\" if torch.backends.mps.is_available() else \"cpu\")\n",
    "print(device)\n",
    "model.to(device)"
   ]
  },
  {
   "cell_type": "code",
   "execution_count": 16,
   "metadata": {},
   "outputs": [],
   "source": [
    "def mean_pooling(model_output, attention_mask):\n",
    "    token_embeddings = model_output.last_hidden_state  # (batch_size, seq_length, hidden_size)\n",
    "    input_mask_expanded = attention_mask.unsqueeze(-1).expand(token_embeddings.size()).float()\n",
    "    return torch.sum(token_embeddings * input_mask_expanded, dim=1) / torch.clamp(input_mask_expanded.sum(dim=1), min=1e-9)\n"
   ]
  },
  {
   "cell_type": "code",
   "execution_count": 17,
   "metadata": {},
   "outputs": [],
   "source": [
    "def get_embeddings(text_list):\n",
    "    encoded_input = tokenizer(\n",
    "        text_list, padding=True, truncation=True, return_tensors=\"pt\"\n",
    "    )\n",
    "    encoded_input = {k: v.to(device) for k, v in encoded_input.items()}\n",
    "    with torch.no_grad():\n",
    "        model_output = model(**encoded_input)\n",
    "    return mean_pooling(model_output, encoded_input['attention_mask'])"
   ]
  },
  {
   "cell_type": "code",
   "execution_count": 18,
   "metadata": {},
   "outputs": [
    {
     "data": {
      "text/plain": [
       "torch.Size([1, 768])"
      ]
     },
     "execution_count": 18,
     "metadata": {},
     "output_type": "execute_result"
    }
   ],
   "source": [
    "embedding = get_embeddings(tattoos_dataset[\"text\"][0])\n",
    "embedding.shape\n"
   ]
  },
  {
   "cell_type": "code",
   "execution_count": 19,
   "metadata": {},
   "outputs": [],
   "source": [
    "if os.path.exists(\"../data/tattoos_embeddings\"):\n",
    "    embeddings_dataset = Dataset.load_from_disk(\"../data/tattoos_embeddings\")\n",
    "else:\n",
    "    embeddings_dataset = tattoos_dataset.map(\n",
    "        lambda x: {\"embeddings\": get_embeddings(x[\"text\"]).detach().cpu().numpy()[0]}\n",
    "    )\n",
    "    # Create data directory if it doesn't exist\n",
    "    os.makedirs(\"../data\", exist_ok=True)\n",
    "    # Save the dataset with embeddings \n",
    "    embeddings_dataset.save_to_disk(\"../data/tattoos_embeddings\")"
   ]
  },
  {
   "cell_type": "code",
   "execution_count": 20,
   "metadata": {},
   "outputs": [],
   "source": [
    "def average_precision(relevant_docs, retrieved_docs):\n",
    "    \"\"\"\n",
    "    Compute the average precision for a single query.\n",
    "\n",
    "    Args:\n",
    "        relevant_docs (set): Set of relevant document IDs.\n",
    "        retrieved_docs (list): List of retrieved document IDs in rank order.\n",
    "\n",
    "    Returns:\n",
    "        float: Average Precision score.\n",
    "    \"\"\"\n",
    "    if not relevant_docs:\n",
    "        return 0.0\n",
    "    score = 0.0\n",
    "    num_relevant = 0\n",
    "    for i, doc_id in enumerate(retrieved_docs, start=1):\n",
    "        if doc_id in relevant_docs:\n",
    "            num_relevant += 1\n",
    "            score += num_relevant / i\n",
    "    return score / len(relevant_docs)\n",
    "\n",
    "def compute_map(queries, relevant_docs_dict, retrieve_func, k=15):\n",
    "    \"\"\"\n",
    "    Compute Mean Average Precision (MAP) for the given queries.\n",
    "\n",
    "    Args:\n",
    "        queries (list): List of query strings.\n",
    "        relevant_docs_dict (dict): Mapping from query index to set of relevant document IDs.\n",
    "        retrieve_func (callable): Function that takes a query and returns a list of retrieved document IDs ranked by relevance.\n",
    "        k (int): Number of top documents to retrieve.\n",
    "\n",
    "    Returns:\n",
    "        float: MAP score.\n",
    "    \"\"\"\n",
    "    average_precisions = []\n",
    "    for idx, query in enumerate(queries):\n",
    "        relevant_docs = relevant_docs_dict.get(idx, set())\n",
    "        retrieved_docs = retrieve_func(query, k)\n",
    "        ap = average_precision(relevant_docs, retrieved_docs)\n",
    "        average_precisions.append(ap)\n",
    "    map_score = np.mean(average_precisions)\n",
    "    return map_score"
   ]
  },
  {
   "cell_type": "code",
   "execution_count": 21,
   "metadata": {},
   "outputs": [
    {
     "name": "stdout",
     "output_type": "stream",
     "text": [
      "Number of queries: 20\n",
      "Sample query: tattoos with Cats (cats, kittens, furry pets)\n",
      "Number of relevant documents for first query: 8\n"
     ]
    }
   ],
   "source": [
    "queries = [\n",
    "    f\"tattoos with {label}\"\n",
    "    for label in topic_labels.values()\n",
    "]\n",
    "\n",
    "\n",
    "relevant_docs_dict = {}\n",
    "for idx, label in topic_labels.items():\n",
    "    relevant_docs = set(topic_data_df[topic_data_df['Topic'] == idx]['post_id'].tolist())\n",
    "    relevant_docs_dict[idx] = relevant_docs\n",
    "\n",
    "print(\"Number of queries:\", len(queries))\n",
    "print(\"Sample query:\", queries[0])\n",
    "print(\"Number of relevant documents for first query:\", len(relevant_docs_dict[0]))\n"
   ]
  },
  {
   "cell_type": "code",
   "execution_count": 22,
   "metadata": {},
   "outputs": [],
   "source": [
    "all_embeddings = np.vstack(embeddings_dataset['embeddings'])\n",
    "\n",
    "all_embeddings_norm = all_embeddings / np.linalg.norm(all_embeddings, axis=1, keepdims=True)\n",
    "\n",
    "def retrieve_before_faiss(query, k=15):\n",
    "    # Get query embedding\n",
    "    query_emb = get_embeddings([query]).detach().cpu().numpy()\n",
    "    query_emb_norm = query_emb / np.linalg.norm(query_emb, axis=1, keepdims=True)\n",
    "    \n",
    "    # Compute cosine similarity\n",
    "    similarities = np.dot(all_embeddings_norm, query_emb_norm.T).squeeze()\n",
    "    \n",
    "    # Get top-k indices\n",
    "    top_k_indices = similarities.argsort()[::-1][:k]\n",
    "    \n",
    "    # Get corresponding post_ids\n",
    "    retrieved_post_ids = [embeddings_dataset[int(i)]['post_id'] for i in top_k_indices]\n",
    "    \n",
    "    return retrieved_post_ids"
   ]
  },
  {
   "cell_type": "code",
   "execution_count": 23,
   "metadata": {},
   "outputs": [
    {
     "data": {
      "text/plain": [
       "Dataset({\n",
       "    features: ['post_id', 'tattoo_description', 'tattoo_color', 'tattoo_style', 'Title', 'Unnamed: 0', 'Content', 'text', 'text_length', 'embeddings'],\n",
       "    num_rows: 76931\n",
       "})"
      ]
     },
     "execution_count": 23,
     "metadata": {},
     "output_type": "execute_result"
    }
   ],
   "source": [
    "embeddings_dataset"
   ]
  },
  {
   "cell_type": "code",
   "execution_count": 24,
   "metadata": {},
   "outputs": [
    {
     "name": "stdout",
     "output_type": "stream",
     "text": [
      "MAP before FAISS index: 0.0079\n"
     ]
    }
   ],
   "source": [
    "map_before_faiss = compute_map(queries, relevant_docs_dict, retrieve_before_faiss, k=15)\n",
    "print(f\"MAP before FAISS index: {map_before_faiss:.4f}\")"
   ]
  },
  {
   "cell_type": "markdown",
   "metadata": {},
   "source": [
    "### Faiss Index\n"
   ]
  },
  {
   "cell_type": "code",
   "execution_count": 25,
   "metadata": {},
   "outputs": [
    {
     "data": {
      "application/vnd.jupyter.widget-view+json": {
       "model_id": "86f5d39d8fd24bd7ad459d72a8f7d0ea",
       "version_major": 2,
       "version_minor": 0
      },
      "text/plain": [
       "  0%|          | 0/77 [00:00<?, ?it/s]"
      ]
     },
     "metadata": {},
     "output_type": "display_data"
    },
    {
     "data": {
      "text/plain": [
       "Dataset({\n",
       "    features: ['post_id', 'tattoo_description', 'tattoo_color', 'tattoo_style', 'Title', 'Unnamed: 0', 'Content', 'text', 'text_length', 'embeddings'],\n",
       "    num_rows: 76931\n",
       "})"
      ]
     },
     "execution_count": 25,
     "metadata": {},
     "output_type": "execute_result"
    }
   ],
   "source": [
    "embeddings_dataset.add_faiss_index(column=\"embeddings\")"
   ]
  },
  {
   "cell_type": "code",
   "execution_count": 26,
   "metadata": {},
   "outputs": [],
   "source": [
    "# Ensure embeddings are normalized\n",
    "all_embeddings = np.vstack(embeddings_dataset['embeddings']).astype('float32')\n",
    "faiss.normalize_L2(all_embeddings)\n",
    "\n",
    "# Create FAISS index\n",
    "dimension = all_embeddings.shape[1]\n",
    "index = faiss.IndexFlatIP(dimension)  # Inner Product for cosine similarity\n",
    "index.add(all_embeddings)\n",
    "\n",
    "\n",
    "def retrieve_after_faiss(query, k=15):\n",
    "    \"\"\"\n",
    "    Retrieve top-k documents using FAISS index.\n",
    "\n",
    "    Args:\n",
    "        query (str): Query string.\n",
    "        k (int): Number of top documents to retrieve.\n",
    "\n",
    "    Returns:\n",
    "        list: List of retrieved document IDs.\n",
    "    \"\"\"\n",
    "    query_emb = get_embeddings([query]).cpu().detach().numpy()\n",
    "    scores, samples = embeddings_dataset.get_nearest_examples(\"embeddings\", query_emb, k=k)\n",
    "    retrieved_post_ids = samples['post_id']\n",
    "    return retrieved_post_ids\n"
   ]
  },
  {
   "cell_type": "code",
   "execution_count": 27,
   "metadata": {},
   "outputs": [
    {
     "name": "stdout",
     "output_type": "stream",
     "text": [
      "MAP after FAISS index: 0.0098\n"
     ]
    }
   ],
   "source": [
    "map_after_faiss = compute_map(queries, relevant_docs_dict, retrieve_after_faiss, k=15)\n",
    "print(f\"MAP after FAISS index: {map_after_faiss:.4f}\")"
   ]
  },
  {
   "cell_type": "markdown",
   "metadata": {},
   "source": [
    "## Re-ranker\n"
   ]
  },
  {
   "cell_type": "code",
   "execution_count": 28,
   "metadata": {},
   "outputs": [],
   "source": [
    "reranker_model = CrossEncoder(\"cross-encoder/ms-marco-MiniLM-L-12-v2\")\n",
    "\n",
    "def retrieve_and_rerank(query, k=15):\n",
    "    \"\"\"\n",
    "    Retrieve top-k documents using FAISS and rerank them using CrossEncoder.\n",
    "\n",
    "    Args:\n",
    "        query (str): Query string.\n",
    "        k (int): Number of top documents to retrieve and rerank.\n",
    "\n",
    "    Returns:\n",
    "        list: List of reranked document IDs.\n",
    "    \"\"\"\n",
    "    # Retrieve top-k using FAISS\n",
    "    retrieved_post_ids = retrieve_after_faiss(query, k=k)\n",
    "    \n",
    "    # Get the texts of the retrieved documents\n",
    "    retrieved_texts = []\n",
    "    for post_id in retrieved_post_ids:\n",
    "        # Fetch the text from topic_data_df\n",
    "        text = topic_data_df[topic_data_df['post_id'] == post_id]['text'].values\n",
    "        if len(text) > 0:\n",
    "            retrieved_texts.append(text[0])\n",
    "        else:\n",
    "            # Handle missing post_id gracefully\n",
    "            retrieved_texts.append(\"\")\n",
    "    \n",
    "    # Prepare pairs for CrossEncoder: (query, doc_text)\n",
    "    pairs = [(query, text) for text in retrieved_texts]\n",
    "    \n",
    "    scores = reranker_model.predict(pairs)\n",
    "    \n",
    "    # Sort the retrieved documents based on reranker scores\n",
    "    sorted_indices = np.argsort(scores)[::-1]\n",
    "    reranked_post_ids = [retrieved_post_ids[i] for i in sorted_indices]\n",
    "    \n",
    "    return reranked_post_ids"
   ]
  },
  {
   "cell_type": "code",
   "execution_count": 29,
   "metadata": {},
   "outputs": [
    {
     "name": "stdout",
     "output_type": "stream",
     "text": [
      "MAP after reranking: 0.0382\n"
     ]
    }
   ],
   "source": [
    "map_after_reranker = compute_map(queries, relevant_docs_dict, retrieve_and_rerank, k=15)\n",
    "print(f\"MAP after reranking: {map_after_reranker:.4f}\")"
   ]
  },
  {
   "cell_type": "code",
   "execution_count": 30,
   "metadata": {},
   "outputs": [
    {
     "name": "stdout",
     "output_type": "stream",
     "text": [
      "=== Evaluation Results ===\n",
      "MAP Before FAISS:   0.0079\n",
      "MAP After FAISS:    0.0098\n",
      "MAP After Reranker: 0.0382\n"
     ]
    }
   ],
   "source": [
    "print(\"=== Evaluation Results ===\")\n",
    "print(f\"MAP Before FAISS:   {map_before_faiss:.4f}\")\n",
    "print(f\"MAP After FAISS:    {map_after_faiss:.4f}\")\n",
    "print(f\"MAP After Reranker: {map_after_reranker:.4f}\")"
   ]
  },
  {
   "cell_type": "code",
   "execution_count": 31,
   "metadata": {},
   "outputs": [
    {
     "name": "stderr",
     "output_type": "stream",
     "text": [
      "Evaluating Brute-Force Retrieval MAP across different k values: 100%|██████████| 10/10 [00:04<00:00,  2.35it/s]\n"
     ]
    }
   ],
   "source": [
    "for k in tqdm(k_values, desc=\"Evaluating Brute-Force Retrieval MAP across different k values\"):\n",
    "    \n",
    "    map_before_faiss = compute_map(queries, relevant_docs_dict, retrieve_before_faiss, k=k)\n",
    "    map_before_faiss_scores.append(map_before_faiss)"
   ]
  },
  {
   "cell_type": "code",
   "execution_count": 32,
   "metadata": {},
   "outputs": [
    {
     "name": "stderr",
     "output_type": "stream",
     "text": [
      "Evaluating FAISS Retrieval MAP across different k values: 100%|██████████| 10/10 [00:03<00:00,  2.89it/s]\n"
     ]
    }
   ],
   "source": [
    "for k in tqdm(k_values, desc=\"Evaluating FAISS Retrieval MAP across different k values\"):\n",
    "    \n",
    "    map_after_faiss = compute_map(queries, relevant_docs_dict, retrieve_after_faiss, k=k)\n",
    "    map_after_faiss_scores.append(map_after_faiss)"
   ]
  },
  {
   "cell_type": "code",
   "execution_count": 33,
   "metadata": {},
   "outputs": [
    {
     "name": "stderr",
     "output_type": "stream",
     "text": [
      "Evaluating Reranker MAP across different k values: 100%|██████████| 10/10 [00:10<00:00,  1.05s/it]\n"
     ]
    }
   ],
   "source": [
    "for k in tqdm(k_values, desc=\"Evaluating Reranker MAP across different k values\"):\n",
    "    \n",
    "    map_after_reranker = compute_map(queries, relevant_docs_dict, retrieve_and_rerank, k=k)\n",
    "    map_reranker_scores.append(map_after_reranker)\n"
   ]
  },
  {
   "cell_type": "code",
   "execution_count": 34,
   "metadata": {},
   "outputs": [],
   "source": [
    "# map_before_faiss_scores, map_after_faiss_scores, map_reranker_scores"
   ]
  },
  {
   "cell_type": "code",
   "execution_count": 35,
   "metadata": {},
   "outputs": [
    {
     "data": {
      "image/png": "[encoded data removed]",
      "text/plain": [
       "<Figure size 1200x600 with 1 Axes>"
      ]
     },
     "metadata": {},
     "output_type": "display_data"
    }
   ],
   "source": [
    "plt.figure(figsize=(12, 6))\n",
    "\n",
    "plt.plot(k_values, map_before_faiss_scores, color='blue',  label='Brute-Force Retrieval')\n",
    "plt.plot(k_values, map_after_faiss_scores,  color='green', label='FAISS Retrieval')\n",
    "plt.plot(k_values, map_reranker_scores,     color='red',   label='Reranker')\n",
    "\n",
    "plt.title('Mean Average Precision (MAP) Across Different k Values', fontsize=16)\n",
    "plt.xlabel('k (Number of Retrieved Documents)', fontsize=14)\n",
    "plt.ylabel('MAP Score', fontsize=14)\n",
    "plt.xticks(k_values)\n",
    "plt.legend(fontsize=12)\n",
    "plt.tight_layout()\n",
    "\n",
    "plt.show()"
   ]
  }
 ],
 "metadata": {
  "kernelspec": {
   "display_name": "Python 3 (ipykernel)",
   "language": "python",
   "name": "python3"
  },
  "language_info": {
   "codemirror_mode": {
    "name": "ipython",
    "version": 3
   },
   "file_extension": ".py",
   "mimetype": "text/x-python",
   "name": "python",
   "nbconvert_exporter": "python",
   "pygments_lexer": "ipython3",
   "version": "3.10.13"
  }
 },
 "nbformat": 4,
 "nbformat_minor": 2
}
