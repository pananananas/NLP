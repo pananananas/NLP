{
 "cells": [
  {
   "cell_type": "code",
   "execution_count": 1,
   "metadata": {},
   "outputs": [
    {
     "data": {
      "application/vnd.jupyter.widget-view+json": {
       "model_id": "517a971a07c440b9b4e45e50a4dfef63",
       "version_major": 2,
       "version_minor": 0
      },
      "text/plain": [
       "Map:   0%|          | 0/78233 [00:00<?, ? examples/s]"
      ]
     },
     "metadata": {},
     "output_type": "display_data"
    },
    {
     "data": {
      "application/vnd.jupyter.widget-view+json": {
       "model_id": "2c550ba27e9640fcafccfd03423b3610",
       "version_major": 2,
       "version_minor": 0
      },
      "text/plain": [
       "Map:   0%|          | 0/78233 [00:00<?, ? examples/s]"
      ]
     },
     "metadata": {},
     "output_type": "display_data"
    },
    {
     "data": {
      "application/vnd.jupyter.widget-view+json": {
       "model_id": "c5271e334ebf403e92ef90b884b250b5",
       "version_major": 2,
       "version_minor": 0
      },
      "text/plain": [
       "Filter:   0%|          | 0/78233 [00:00<?, ? examples/s]"
      ]
     },
     "metadata": {},
     "output_type": "display_data"
    },
    {
     "data": {
      "application/vnd.jupyter.widget-view+json": {
       "model_id": "e1f369eb83cd480f8585d7bbcc1bb44b",
       "version_major": 2,
       "version_minor": 0
      },
      "text/plain": [
       "  0%|          | 0/77 [00:00<?, ?it/s]"
      ]
     },
     "metadata": {},
     "output_type": "display_data"
    }
   ],
   "source": [
    "import os\n",
    "from transformers import AutoTokenizer, AutoModel\n",
    "from sentence_transformers import CrossEncoder\n",
    "from dotenv import load_dotenv\n",
    "from datasets import Dataset\n",
    "import pandas as pd\n",
    "import requests\n",
    "import torch\n",
    "import json\n",
    "\n",
    "# Load environment variables\n",
    "load_dotenv()\n",
    "\n",
    "# Replace this with your actual question or leave as is\n",
    "default_question = \"Give me very short summary of all tattoos containing lions. Summary must be up to 3 sentences.\"\n",
    "\n",
    "# Load data\n",
    "image_df = pd.read_csv('data.csv')[['post_id', 'subreddit', 'image_path']]\n",
    "\n",
    "# Update the image paths as per your environment\n",
    "old_prefix = '/net/pr2/projects/plgrid/plggtattooai'\n",
    "new_prefix = '/Users/ewojcik/Code/pwr/AMC/amc-lab3/data'\n",
    "image_df['image_path'] = image_df['image_path'].str.replace(old_prefix, new_prefix)\n",
    "\n",
    "descriptions_df = pd.read_csv('data.csv')[['post_id', 'tattoo_description','tattoo_color', 'tattoo_style', 'Title']]\n",
    "\n",
    "if not os.path.exists('tattoos/posts_content.csv'):\n",
    "    # Get all CSV files in the specified directory\n",
    "    csv_path = 'tattoos/posts_per_subreddit'\n",
    "    csv_files = [f for f in os.listdir(csv_path) if f.endswith('.csv')]\n",
    "\n",
    "    posts_content_df = pd.DataFrame()\n",
    "\n",
    "    # Read and concatenate each CSV file\n",
    "    for file in csv_files:\n",
    "        file_path = os.path.join(csv_path, file)\n",
    "        df = pd.read_csv(file_path)\n",
    "        posts_content_df = pd.concat([posts_content_df, df], ignore_index=True)\n",
    "\n",
    "    posts_content_df = posts_content_df[['Id', 'Content']]\n",
    "    posts_content_df['Content'] = posts_content_df['Content'].fillna('')\n",
    "    posts_content_df = posts_content_df.rename(columns={'Id': 'post_id'})\n",
    "    posts_content_df.to_csv('tattoos/posts_content.csv', index=False)\n",
    "else:\n",
    "    posts_content_df = pd.read_csv('tattoos/posts_content.csv')\n",
    "    posts_content_df['Content'] = posts_content_df['Content'].fillna('')\n",
    "\n",
    "# Merge datasets\n",
    "tattoos_df = pd.merge(descriptions_df, posts_content_df, on='post_id', how='left')\n",
    "tattoos_df.dropna(inplace=True, ignore_index=True)\n",
    "\n",
    "# Create Hugging Face Dataset\n",
    "tattoos_dataset = Dataset.from_pandas(tattoos_df)\n",
    "\n",
    "def concatenate_text(examples):\n",
    "    return {\n",
    "        \"text\": examples[\"Title\"]\n",
    "        + \" \\n \"\n",
    "        + examples[\"Content\"]\n",
    "        + \" \\n \"\n",
    "        + examples[\"tattoo_description\"]\n",
    "        + \" \\n \"\n",
    "        + examples[\"tattoo_color\"]\n",
    "        + \" \\n \"\n",
    "        + examples[\"tattoo_style\"]\n",
    "    }\n",
    "\n",
    "tattoos_dataset = tattoos_dataset.map(concatenate_text)\n",
    "tattoos_dataset = tattoos_dataset.map(lambda x: {\"text_length\": len(x[\"text\"].split())})\n",
    "tattoos_dataset = tattoos_dataset.filter(lambda x: x[\"text_length\"] > 15)\n",
    "\n",
    "# %% [markdown]\n",
    "# ## Load Embedding Model and Compute Embeddings\n",
    "\n",
    "model_ckpt = \"sentence-transformers/multi-qa-mpnet-base-dot-v1\"\n",
    "embedding_tokenizer = AutoTokenizer.from_pretrained(model_ckpt)\n",
    "embedding_model = AutoModel.from_pretrained(model_ckpt)\n",
    "\n",
    "device = torch.device(\"cuda\" if torch.cuda.is_available() else \"mps\" if torch.backends.mps.is_available() else \"cpu\")\n",
    "embedding_model.to(device)\n",
    "\n",
    "def cls_pooling(model_output):\n",
    "    return model_output.last_hidden_state[:, 0]\n",
    "\n",
    "def get_embeddings(text_list):\n",
    "    encoded_input = embedding_tokenizer(\n",
    "        text_list, padding=True, truncation=True, return_tensors=\"pt\"\n",
    "    )\n",
    "    encoded_input = {k: v.to(device) for k, v in encoded_input.items()}\n",
    "    with torch.no_grad():\n",
    "        model_output = embedding_model(**encoded_input)\n",
    "    return cls_pooling(model_output)\n",
    "\n",
    "# Load or compute embeddings\n",
    "if os.path.exists(\"data/tattoos_embeddings\"):\n",
    "    embeddings_dataset = Dataset.load_from_disk(\"data/tattoos_embeddings\")\n",
    "else:\n",
    "    embeddings_dataset = tattoos_dataset.map(\n",
    "        lambda x: {\"embeddings\": get_embeddings([x[\"text\"]]).detach().cpu().numpy()[0]}\n",
    "    )\n",
    "    os.makedirs(\"data\", exist_ok=True)\n",
    "    embeddings_dataset.save_to_disk(\"data/tattoos_embeddings\")\n",
    "\n",
    "# Add Faiss index for efficient similarity search\n",
    "embeddings_dataset.add_faiss_index(column=\"embeddings\")\n",
    "\n",
    "# %% [markdown]\n",
    "# ## Load Reranker (Cross-Encoder)\n",
    "\n",
    "rerank_model = CrossEncoder(\"cross-encoder/ms-marco-MiniLM-L-12-v2\")\n",
    "\n",
    "# %% [markdown]\n",
    "# ## RAG Function (Query and Answer)\n",
    "\n",
    "def rag_answer(context, question):\n",
    "    user_token = os.getenv('CLARIN_API_TOKEN')\n",
    "    if not user_token:\n",
    "        return \"No CLARIN_API_TOKEN found. Please set it in your environment.\"\n",
    "    \n",
    "    url = \"https://services.clarin-pl.eu/api/v1/oapi/chat/completions\"\n",
    "    headers = {\n",
    "        \"accept\": \"application/json\",\n",
    "        \"Authorization\": f\"Bearer {user_token}\",\n",
    "        \"Content-Type\": \"application/json\"\n",
    "    }\n",
    "    prompt = f\"\"\"\n",
    "Context information is below.\n",
    "---------------------\n",
    "{context}\n",
    "---------------------\n",
    "Given the context information and not prior knowledge, answer the query.\n",
    "Question: {question}\n",
    "Answer:\n",
    "\"\"\"\n",
    "    payload = {\n",
    "        \"model\": \"llama\",\n",
    "        \"messages\": [\n",
    "            {\n",
    "                \"role\": \"user\",\n",
    "                \"content\": prompt\n",
    "            }\n",
    "        ]\n",
    "    }\n",
    "    response = requests.post(url, headers=headers, json=payload)\n",
    "    if response.status_code == 200:\n",
    "        data = response.json()\n",
    "        assistant_message = data['choices'][0]['message']['content']\n",
    "        return assistant_message.strip()\n",
    "    else:\n",
    "        return \"No response from the model.\"\n",
    "\n",
    "# %% [markdown]\n",
    "# ## Helper Function for Text Wrapping\n",
    "\n",
    "def wrap_text(text, width=100):\n",
    "    import textwrap\n",
    "    return \"\\n\".join(textwrap.wrap(text, width=width))\n",
    "\n",
    "# %% [markdown]\n",
    "# ## Interactive Demo with Plotly and Widgets"
   ]
  },
  {
   "cell_type": "code",
   "execution_count": 4,
   "metadata": {},
   "outputs": [
    {
     "data": {
      "application/vnd.jupyter.widget-view+json": {
       "model_id": "26c02d6f26bf42b28993b971de8bca0e",
       "version_major": 2,
       "version_minor": 0
      },
      "text/plain": [
       "Text(value='Give me very short summary of all tattoos containing lions. Summary must be up to 3 sentences.', d…"
      ]
     },
     "metadata": {},
     "output_type": "display_data"
    },
    {
     "data": {
      "application/vnd.jupyter.widget-view+json": {
       "model_id": "e0c13f6c641f44929d8655b319c510b4",
       "version_major": 2,
       "version_minor": 0
      },
      "text/plain": [
       "Button(button_style='info', description='Search', style=ButtonStyle())"
      ]
     },
     "metadata": {},
     "output_type": "display_data"
    },
    {
     "data": {
      "application/vnd.jupyter.widget-view+json": {
       "model_id": "d1f7777ead8e4d8782d53626dad0595c",
       "version_major": 2,
       "version_minor": 0
      },
      "text/plain": [
       "Output()"
      ]
     },
     "metadata": {},
     "output_type": "display_data"
    },
    {
     "data": {
      "application/vnd.plotly.v1+json": {
       "config": {
        "plotlyServerURL": "https://plot.ly"
       },
       "data": [
        {
         "marker": {
          "color": "blue"
         },
         "orientation": "h",
         "type": "bar",
         "x": [
          -1.5248384,
          -3.5470662,
          -4.3984137,
          -5.6366568,
          -6.040468,
          -6.247258,
          -6.655357,
          -7.6882043,
          -7.7090497,
          -8.3098955
         ],
         "y": [
          "3D Cubes; by Brian Abrahamsen @ Fyns Tattoo Corner, Denmark",
          "Some tattoo designs by me.",
          "Hello everyone! I wanted to share my artvsartist2022 here, share yours ☺️✨",
          "My 3rd tattoo - My sibilings initials in nautical flags (BMM)",
          "Some of my most recent tattoos",
          "Some tattoo desings i recently did!",
          "Full picture of my tattoo for those asking!",
          "Tattoo designs would like peoples feed back! I’m a self taught artist just getting a feel for my own\nflow ❤️‍🔥",
          "Wanted to show off my tats. Hope y’all like them",
          "You all might like this, by Mike @ Electric Boogaloo Tattoo, Vancouver WA"
         ]
        }
       ],
       "layout": {
        "height": 600,
        "template": {
         "data": {
          "bar": [
           {
            "error_x": {
             "color": "#2a3f5f"
            },
            "error_y": {
             "color": "#2a3f5f"
            },
            "marker": {
             "line": {
              "color": "#E5ECF6",
              "width": 0.5
             },
             "pattern": {
              "fillmode": "overlay",
              "size": 10,
              "solidity": 0.2
             }
            },
            "type": "bar"
           }
          ],
          "barpolar": [
           {
            "marker": {
             "line": {
              "color": "#E5ECF6",
              "width": 0.5
             },
             "pattern": {
              "fillmode": "overlay",
              "size": 10,
              "solidity": 0.2
             }
            },
            "type": "barpolar"
           }
          ],
          "carpet": [
           {
            "aaxis": {
             "endlinecolor": "#2a3f5f",
             "gridcolor": "white",
             "linecolor": "white",
             "minorgridcolor": "white",
             "startlinecolor": "#2a3f5f"
            },
            "baxis": {
             "endlinecolor": "#2a3f5f",
             "gridcolor": "white",
             "linecolor": "white",
             "minorgridcolor": "white",
             "startlinecolor": "#2a3f5f"
            },
            "type": "carpet"
           }
          ],
          "choropleth": [
           {
            "colorbar": {
             "outlinewidth": 0,
             "ticks": ""
            },
            "type": "choropleth"
           }
          ],
          "contour": [
           {
            "colorbar": {
             "outlinewidth": 0,
             "ticks": ""
            },
            "colorscale": [
             [
              0,
              "#0d0887"
             ],
             [
              0.1111111111111111,
              "#46039f"
             ],
             [
              0.2222222222222222,
              "#7201a8"
             ],
             [
              0.3333333333333333,
              "#9c179e"
             ],
             [
              0.4444444444444444,
              "#bd3786"
             ],
             [
              0.5555555555555556,
              "#d8576b"
             ],
             [
              0.6666666666666666,
              "#ed7953"
             ],
             [
              0.7777777777777778,
              "#fb9f3a"
             ],
             [
              0.8888888888888888,
              "#fdca26"
             ],
             [
              1,
              "#f0f921"
             ]
            ],
            "type": "contour"
           }
          ],
          "contourcarpet": [
           {
            "colorbar": {
             "outlinewidth": 0,
             "ticks": ""
            },
            "type": "contourcarpet"
           }
          ],
          "heatmap": [
           {
            "colorbar": {
             "outlinewidth": 0,
             "ticks": ""
            },
            "colorscale": [
             [
              0,
              "#0d0887"
             ],
             [
              0.1111111111111111,
              "#46039f"
             ],
             [
              0.2222222222222222,
              "#7201a8"
             ],
             [
              0.3333333333333333,
              "#9c179e"
             ],
             [
              0.4444444444444444,
              "#bd3786"
             ],
             [
              0.5555555555555556,
              "#d8576b"
             ],
             [
              0.6666666666666666,
              "#ed7953"
             ],
             [
              0.7777777777777778,
              "#fb9f3a"
             ],
             [
              0.8888888888888888,
              "#fdca26"
             ],
             [
              1,
              "#f0f921"
             ]
            ],
            "type": "heatmap"
           }
          ],
          "heatmapgl": [
           {
            "colorbar": {
             "outlinewidth": 0,
             "ticks": ""
            },
            "colorscale": [
             [
              0,
              "#0d0887"
             ],
             [
              0.1111111111111111,
              "#46039f"
             ],
             [
              0.2222222222222222,
              "#7201a8"
             ],
             [
              0.3333333333333333,
              "#9c179e"
             ],
             [
              0.4444444444444444,
              "#bd3786"
             ],
             [
              0.5555555555555556,
              "#d8576b"
             ],
             [
              0.6666666666666666,
              "#ed7953"
             ],
             [
              0.7777777777777778,
              "#fb9f3a"
             ],
             [
              0.8888888888888888,
              "#fdca26"
             ],
             [
              1,
              "#f0f921"
             ]
            ],
            "type": "heatmapgl"
           }
          ],
          "histogram": [
           {
            "marker": {
             "pattern": {
              "fillmode": "overlay",
              "size": 10,
              "solidity": 0.2
             }
            },
            "type": "histogram"
           }
          ],
          "histogram2d": [
           {
            "colorbar": {
             "outlinewidth": 0,
             "ticks": ""
            },
            "colorscale": [
             [
              0,
              "#0d0887"
             ],
             [
              0.1111111111111111,
              "#46039f"
             ],
             [
              0.2222222222222222,
              "#7201a8"
             ],
             [
              0.3333333333333333,
              "#9c179e"
             ],
             [
              0.4444444444444444,
              "#bd3786"
             ],
             [
              0.5555555555555556,
              "#d8576b"
             ],
             [
              0.6666666666666666,
              "#ed7953"
             ],
             [
              0.7777777777777778,
              "#fb9f3a"
             ],
             [
              0.8888888888888888,
              "#fdca26"
             ],
             [
              1,
              "#f0f921"
             ]
            ],
            "type": "histogram2d"
           }
          ],
          "histogram2dcontour": [
           {
            "colorbar": {
             "outlinewidth": 0,
             "ticks": ""
            },
            "colorscale": [
             [
              0,
              "#0d0887"
             ],
             [
              0.1111111111111111,
              "#46039f"
             ],
             [
              0.2222222222222222,
              "#7201a8"
             ],
             [
              0.3333333333333333,
              "#9c179e"
             ],
             [
              0.4444444444444444,
              "#bd3786"
             ],
             [
              0.5555555555555556,
              "#d8576b"
             ],
             [
              0.6666666666666666,
              "#ed7953"
             ],
             [
              0.7777777777777778,
              "#fb9f3a"
             ],
             [
              0.8888888888888888,
              "#fdca26"
             ],
             [
              1,
              "#f0f921"
             ]
            ],
            "type": "histogram2dcontour"
           }
          ],
          "mesh3d": [
           {
            "colorbar": {
             "outlinewidth": 0,
             "ticks": ""
            },
            "type": "mesh3d"
           }
          ],
          "parcoords": [
           {
            "line": {
             "colorbar": {
              "outlinewidth": 0,
              "ticks": ""
             }
            },
            "type": "parcoords"
           }
          ],
          "pie": [
           {
            "automargin": true,
            "type": "pie"
           }
          ],
          "scatter": [
           {
            "fillpattern": {
             "fillmode": "overlay",
             "size": 10,
             "solidity": 0.2
            },
            "type": "scatter"
           }
          ],
          "scatter3d": [
           {
            "line": {
             "colorbar": {
              "outlinewidth": 0,
              "ticks": ""
             }
            },
            "marker": {
             "colorbar": {
              "outlinewidth": 0,
              "ticks": ""
             }
            },
            "type": "scatter3d"
           }
          ],
          "scattercarpet": [
           {
            "marker": {
             "colorbar": {
              "outlinewidth": 0,
              "ticks": ""
             }
            },
            "type": "scattercarpet"
           }
          ],
          "scattergeo": [
           {
            "marker": {
             "colorbar": {
              "outlinewidth": 0,
              "ticks": ""
             }
            },
            "type": "scattergeo"
           }
          ],
          "scattergl": [
           {
            "marker": {
             "colorbar": {
              "outlinewidth": 0,
              "ticks": ""
             }
            },
            "type": "scattergl"
           }
          ],
          "scattermapbox": [
           {
            "marker": {
             "colorbar": {
              "outlinewidth": 0,
              "ticks": ""
             }
            },
            "type": "scattermapbox"
           }
          ],
          "scatterpolar": [
           {
            "marker": {
             "colorbar": {
              "outlinewidth": 0,
              "ticks": ""
             }
            },
            "type": "scatterpolar"
           }
          ],
          "scatterpolargl": [
           {
            "marker": {
             "colorbar": {
              "outlinewidth": 0,
              "ticks": ""
             }
            },
            "type": "scatterpolargl"
           }
          ],
          "scatterternary": [
           {
            "marker": {
             "colorbar": {
              "outlinewidth": 0,
              "ticks": ""
             }
            },
            "type": "scatterternary"
           }
          ],
          "surface": [
           {
            "colorbar": {
             "outlinewidth": 0,
             "ticks": ""
            },
            "colorscale": [
             [
              0,
              "#0d0887"
             ],
             [
              0.1111111111111111,
              "#46039f"
             ],
             [
              0.2222222222222222,
              "#7201a8"
             ],
             [
              0.3333333333333333,
              "#9c179e"
             ],
             [
              0.4444444444444444,
              "#bd3786"
             ],
             [
              0.5555555555555556,
              "#d8576b"
             ],
             [
              0.6666666666666666,
              "#ed7953"
             ],
             [
              0.7777777777777778,
              "#fb9f3a"
             ],
             [
              0.8888888888888888,
              "#fdca26"
             ],
             [
              1,
              "#f0f921"
             ]
            ],
            "type": "surface"
           }
          ],
          "table": [
           {
            "cells": {
             "fill": {
              "color": "#EBF0F8"
             },
             "line": {
              "color": "white"
             }
            },
            "header": {
             "fill": {
              "color": "#C8D4E3"
             },
             "line": {
              "color": "white"
             }
            },
            "type": "table"
           }
          ]
         },
         "layout": {
          "annotationdefaults": {
           "arrowcolor": "#2a3f5f",
           "arrowhead": 0,
           "arrowwidth": 1
          },
          "autotypenumbers": "strict",
          "coloraxis": {
           "colorbar": {
            "outlinewidth": 0,
            "ticks": ""
           }
          },
          "colorscale": {
           "diverging": [
            [
             0,
             "#8e0152"
            ],
            [
             0.1,
             "#c51b7d"
            ],
            [
             0.2,
             "#de77ae"
            ],
            [
             0.3,
             "#f1b6da"
            ],
            [
             0.4,
             "#fde0ef"
            ],
            [
             0.5,
             "#f7f7f7"
            ],
            [
             0.6,
             "#e6f5d0"
            ],
            [
             0.7,
             "#b8e186"
            ],
            [
             0.8,
             "#7fbc41"
            ],
            [
             0.9,
             "#4d9221"
            ],
            [
             1,
             "#276419"
            ]
           ],
           "sequential": [
            [
             0,
             "#0d0887"
            ],
            [
             0.1111111111111111,
             "#46039f"
            ],
            [
             0.2222222222222222,
             "#7201a8"
            ],
            [
             0.3333333333333333,
             "#9c179e"
            ],
            [
             0.4444444444444444,
             "#bd3786"
            ],
            [
             0.5555555555555556,
             "#d8576b"
            ],
            [
             0.6666666666666666,
             "#ed7953"
            ],
            [
             0.7777777777777778,
             "#fb9f3a"
            ],
            [
             0.8888888888888888,
             "#fdca26"
            ],
            [
             1,
             "#f0f921"
            ]
           ],
           "sequentialminus": [
            [
             0,
             "#0d0887"
            ],
            [
             0.1111111111111111,
             "#46039f"
            ],
            [
             0.2222222222222222,
             "#7201a8"
            ],
            [
             0.3333333333333333,
             "#9c179e"
            ],
            [
             0.4444444444444444,
             "#bd3786"
            ],
            [
             0.5555555555555556,
             "#d8576b"
            ],
            [
             0.6666666666666666,
             "#ed7953"
            ],
            [
             0.7777777777777778,
             "#fb9f3a"
            ],
            [
             0.8888888888888888,
             "#fdca26"
            ],
            [
             1,
             "#f0f921"
            ]
           ]
          },
          "colorway": [
           "#636efa",
           "#EF553B",
           "#00cc96",
           "#ab63fa",
           "#FFA15A",
           "#19d3f3",
           "#FF6692",
           "#B6E880",
           "#FF97FF",
           "#FECB52"
          ],
          "font": {
           "color": "#2a3f5f"
          },
          "geo": {
           "bgcolor": "white",
           "lakecolor": "white",
           "landcolor": "#E5ECF6",
           "showlakes": true,
           "showland": true,
           "subunitcolor": "white"
          },
          "hoverlabel": {
           "align": "left"
          },
          "hovermode": "closest",
          "mapbox": {
           "style": "light"
          },
          "paper_bgcolor": "white",
          "plot_bgcolor": "#E5ECF6",
          "polar": {
           "angularaxis": {
            "gridcolor": "white",
            "linecolor": "white",
            "ticks": ""
           },
           "bgcolor": "#E5ECF6",
           "radialaxis": {
            "gridcolor": "white",
            "linecolor": "white",
            "ticks": ""
           }
          },
          "scene": {
           "xaxis": {
            "backgroundcolor": "#E5ECF6",
            "gridcolor": "white",
            "gridwidth": 2,
            "linecolor": "white",
            "showbackground": true,
            "ticks": "",
            "zerolinecolor": "white"
           },
           "yaxis": {
            "backgroundcolor": "#E5ECF6",
            "gridcolor": "white",
            "gridwidth": 2,
            "linecolor": "white",
            "showbackground": true,
            "ticks": "",
            "zerolinecolor": "white"
           },
           "zaxis": {
            "backgroundcolor": "#E5ECF6",
            "gridcolor": "white",
            "gridwidth": 2,
            "linecolor": "white",
            "showbackground": true,
            "ticks": "",
            "zerolinecolor": "white"
           }
          },
          "shapedefaults": {
           "line": {
            "color": "#2a3f5f"
           }
          },
          "ternary": {
           "aaxis": {
            "gridcolor": "white",
            "linecolor": "white",
            "ticks": ""
           },
           "baxis": {
            "gridcolor": "white",
            "linecolor": "white",
            "ticks": ""
           },
           "bgcolor": "#E5ECF6",
           "caxis": {
            "gridcolor": "white",
            "linecolor": "white",
            "ticks": ""
           }
          },
          "title": {
           "x": 0.05
          },
          "xaxis": {
           "automargin": true,
           "gridcolor": "white",
           "linecolor": "white",
           "ticks": "",
           "title": {
            "standoff": 15
           },
           "zerolinecolor": "white",
           "zerolinewidth": 2
          },
          "yaxis": {
           "automargin": true,
           "gridcolor": "white",
           "linecolor": "white",
           "ticks": "",
           "title": {
            "standoff": 15
           },
           "zerolinecolor": "white",
           "zerolinewidth": 2
          }
         }
        },
        "title": {
         "text": "Top Retrieved Documents (re-ranked)"
        },
        "xaxis": {
         "title": {
          "text": "Re-ranker Score"
         }
        },
        "yaxis": {
         "autorange": "reversed",
         "title": {
          "text": "Title"
         }
        }
       }
      }
     },
     "metadata": {},
     "output_type": "display_data"
    }
   ],
   "source": [
    "import ipywidgets as widgets\n",
    "from IPython.display import display, clear_output, HTML\n",
    "import plotly.graph_objects as go\n",
    "\n",
    "# Widgets\n",
    "question_input = widgets.Text(\n",
    "    value=default_question,\n",
    "    description='Question:',\n",
    "    layout=widgets.Layout(width='70%')\n",
    ")\n",
    "search_button = widgets.Button(\n",
    "    description=\"Search\",\n",
    "    button_style='info'\n",
    ")\n",
    "output_area = widgets.Output()\n",
    "\n",
    "def on_search_button_clicked(b):\n",
    "    with output_area:\n",
    "        clear_output()\n",
    "        question = question_input.value.strip()\n",
    "        if not question:\n",
    "            print(\"Please enter a valid question.\")\n",
    "            return\n",
    "        \n",
    "        # Compute question embedding\n",
    "        question_embedding = get_embeddings([question]).cpu().detach().numpy()\n",
    "        \n",
    "        # Retrieve top k from Faiss\n",
    "        k_for_rag = 10\n",
    "        scores, samples = embeddings_dataset.get_nearest_examples(\n",
    "            \"embeddings\", question_embedding, k=k_for_rag\n",
    "        )\n",
    "        \n",
    "        samples_df = pd.DataFrame.from_dict(samples)\n",
    "        samples_df[\"scores\"] = scores\n",
    "        \n",
    "        # Re-rank with cross-encoder\n",
    "        cross_scores = rerank_model.predict([(question, txt) for txt in samples_df[\"text\"]])\n",
    "        samples_df[\"scores_re_ranker\"] = cross_scores\n",
    "        samples_df.sort_values(\"scores_re_ranker\", ascending=False, inplace=True)\n",
    "        \n",
    "        # Display a bar chart of top documents by reranker score\n",
    "        top_results = samples_df.head(k_for_rag)\n",
    "        \n",
    "        # Wrap text for readability\n",
    "        top_results[\"wrapped_title\"] = top_results[\"Title\"].apply(lambda x: wrap_text(x, 100))\n",
    "        \n",
    "        fig = go.Figure(\n",
    "            data=go.Bar(\n",
    "                x=top_results[\"scores_re_ranker\"],\n",
    "                y=top_results[\"wrapped_title\"],\n",
    "                orientation='h',\n",
    "                marker=dict(color='blue')\n",
    "            )\n",
    "        )\n",
    "        fig.update_layout(\n",
    "            title=\"Top Retrieved Documents (re-ranked)\",\n",
    "            xaxis_title=\"Re-ranker Score\",\n",
    "            yaxis_title=\"Title\",\n",
    "            yaxis=dict(autorange='reversed'),  # So the highest score is at the top\n",
    "            height=600\n",
    "        )\n",
    "        \n",
    "        display(fig)\n",
    "        \n",
    "        # Filter top_results to only include entries from 'tattoos' subreddit\n",
    "        top_tattoos = top_results.merge(image_df, on='post_id', how='left')\n",
    "        top_tattoos = top_tattoos[top_tattoos['subreddit'] == 'tattoos']\n",
    "        top_tattoos = top_tattoos.dropna(subset=['image_path'])\n",
    "        \n",
    "        # Display up to 3 images\n",
    "        images_to_display = top_tattoos.head(3)\n",
    "        if not images_to_display.empty:\n",
    "            image_tags = []\n",
    "            for _, row in images_to_display.iterrows():\n",
    "                image_path = row['image_path']\n",
    "                if os.path.exists(image_path):\n",
    "                    # Encode image to display inline\n",
    "                    import base64\n",
    "                    with open(image_path, \"rb\") as img_file:\n",
    "                        img_bytes = img_file.read()\n",
    "                        img_type = 'png' if image_path.lower().endswith('.png') else 'jpeg'\n",
    "                        b64_image = base64.b64encode(img_bytes).decode('utf-8')\n",
    "                    image_tags.append(f'<img src=\"data:image/{img_type};base64,{b64_image}\" width=\"200\" style=\"margin-right:10px;\"/>')\n",
    "                else:\n",
    "                    image_tags.append('<p>Image not found.</p>')\n",
    "            # Display images horizontally\n",
    "            display(HTML('<div style=\"display: flex; gap: 10px;\">' + ''.join(image_tags) + '</div>'))\n",
    "        else:\n",
    "            print(\"No images from the 'tattoos' subreddit found in the top results.\")\n",
    "        \n",
    "        # Generate RAG answer\n",
    "        context = \"\\n\\n\".join(top_results[\"text\"].tolist())\n",
    "        answer = rag_answer(context, question)\n",
    "        if answer:\n",
    "            print(f\"**Answer:**\\n{wrap_text(answer, 100)}\")\n",
    "        else:\n",
    "            print(\"No answer generated.\")\n",
    "\n",
    "# Attach the click event to the button\n",
    "search_button.on_click(on_search_button_clicked)\n",
    "\n",
    "# Display widgets\n",
    "display(question_input, search_button, output_area)"
   ]
  }
 ],
 "metadata": {
  "kernelspec": {
   "display_name": "py310",
   "language": "python",
   "name": "python3"
  },
  "language_info": {
   "codemirror_mode": {
    "name": "ipython",
    "version": 3
   },
   "file_extension": ".py",
   "mimetype": "text/x-python",
   "name": "python",
   "nbconvert_exporter": "python",
   "pygments_lexer": "ipython3",
   "version": "3.10.13"
  }
 },
 "nbformat": 4,
 "nbformat_minor": 2
}
