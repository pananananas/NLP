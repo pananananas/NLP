{
 "cells": [
  {
   "cell_type": "markdown",
   "metadata": {},
   "source": [
    "# Podsumowanie anotacji przymiotników"
   ]
  },
  {
   "cell_type": "code",
   "execution_count": 1,
   "metadata": {},
   "outputs": [],
   "source": [
    "from statsmodels.stats.inter_rater import fleiss_kappa\n",
    "from sklearn.metrics import cohen_kappa_score\n",
    "from plotly.subplots import make_subplots\n",
    "import plotly.express as px\n",
    "import pandas as pd\n",
    "import numpy as np\n",
    "import itertools\n",
    "import json\n",
    "import os"
   ]
  },
  {
   "cell_type": "code",
   "execution_count": 2,
   "metadata": {},
   "outputs": [],
   "source": [
    "sentiment_mapping = {\n",
    "    'Negative': 1,\n",
    "    'Neutral': 2,\n",
    "    'Positive': 3\n",
    "}"
   ]
  },
  {
   "cell_type": "markdown",
   "metadata": {},
   "source": [
    "# 1. Iteracja"
   ]
  },
  {
   "cell_type": "code",
   "execution_count": 3,
   "metadata": {},
   "outputs": [],
   "source": [
    "files_it1 = {\n",
    "    'Bartek': 'annotations/words/it1/bartek.jsonl',\n",
    "    'Darek': 'annotations/words/it1/darek.jsonl',\n",
    "    'Patryk': 'annotations/words/it1/patryk.jsonl'\n",
    "}"
   ]
  },
  {
   "cell_type": "code",
   "execution_count": 4,
   "metadata": {},
   "outputs": [],
   "source": [
    "def extract_labeled_words(file_path):\n",
    "    labeled_words = []\n",
    "    with open(file_path, 'r', encoding='utf-8') as f:\n",
    "        for line_number, line in enumerate(f, 1):\n",
    "            try:\n",
    "                data = json.loads(line)\n",
    "                text = data.get('text', '')\n",
    "                labels = data.get('label', [])\n",
    "                for label in labels:\n",
    "                    if len(label) == 3:\n",
    "                        start_idx, end_idx, sentiment = label\n",
    "                        if 0 <= start_idx < end_idx <= len(text):\n",
    "                            word = text[start_idx:end_idx].replace(\" \", \"\").lower()  # Usunięcie spacji i konwersja na małe litery\n",
    "                            if len(word) <= 1:\n",
    "                                continue\n",
    "                            \n",
    "                            sentiment_code = sentiment_mapping.get(sentiment, 0)     # Mapowanie sentymentu, jeśli brak mapowania, ustaw 0\n",
    "                            labeled_words.append({\n",
    "                                'word': word,\n",
    "                                'sentiment': sentiment_code\n",
    "                            })\n",
    "                            # print(f'sentiment: {sentiment_code} for word: {word}')\n",
    "                        else:\n",
    "                            print(f\"Warning: Indeksy [{start_idx}, {end_idx}] poza zakresem w pliku {file_path}, linia {line_number}.\")\n",
    "                    else:\n",
    "                        print(f\"Warning: Niepoprawny format etykiety {label} w pliku {file_path}, linia {line_number}.\")\n",
    "            except json.JSONDecodeError as e:\n",
    "              print(f\"Error decoding JSON w pliku {file_path}, linia {line_number}: {e}\")\n",
    "    return labeled_words"
   ]
  },
  {
   "cell_type": "code",
   "execution_count": 5,
   "metadata": {},
   "outputs": [
    {
     "name": "stdout",
     "output_type": "stream",
     "text": [
      "Processed annotator: Bartek, liczba słów: 338\n",
      "Processed annotator: Darek, liczba słów: 340\n",
      "Processed annotator: Patryk, liczba słów: 355\n"
     ]
    }
   ],
   "source": [
    "annotator_words = {}\n",
    "\n",
    "for name, path in files_it1.items():\n",
    "    if os.path.exists(path):\n",
    "        labeled_words = extract_labeled_words(path)\n",
    "        # Tworzymy słownik: klucz = słowo, wartość = sentyment\n",
    "        word_sentiment_dict = {}\n",
    "        for entry in labeled_words:\n",
    "            word = entry['word']\n",
    "            sentiment = entry['sentiment']\n",
    "            # Jeśli słowo występuje wielokrotnie, zachowujemy ostatni sentyment\n",
    "            word_sentiment_dict[word] = sentiment\n",
    "        annotator_words[name] = word_sentiment_dict\n",
    "        print(f\"Processed annotator: {name}, liczba słów: {len(word_sentiment_dict)}\")\n",
    "    else:\n",
    "        print(f\"File not found: {path}\")\n"
   ]
  },
  {
   "cell_type": "code",
   "execution_count": 6,
   "metadata": {},
   "outputs": [
    {
     "name": "stdout",
     "output_type": "stream",
     "text": [
      "Total unique words across all annotators: 464\n"
     ]
    }
   ],
   "source": [
    "all_words = set()\n",
    "for words in annotator_words.values():\n",
    "    all_words.update(words.keys())\n",
    "\n",
    "print(f\"Total unique words across all annotators: {len(all_words)}\")"
   ]
  },
  {
   "cell_type": "code",
   "execution_count": 7,
   "metadata": {},
   "outputs": [
    {
     "name": "stdout",
     "output_type": "stream",
     "text": [
      "Dane Wspólnego DataFrame\n"
     ]
    },
    {
     "data": {
      "text/html": [
       "<div>\n",
       "<style scoped>\n",
       "    .dataframe tbody tr th:only-of-type {\n",
       "        vertical-align: middle;\n",
       "    }\n",
       "\n",
       "    .dataframe tbody tr th {\n",
       "        vertical-align: top;\n",
       "    }\n",
       "\n",
       "    .dataframe thead th {\n",
       "        text-align: right;\n",
       "    }\n",
       "</style>\n",
       "<table border=\"1\" class=\"dataframe\">\n",
       "  <thead>\n",
       "    <tr style=\"text-align: right;\">\n",
       "      <th></th>\n",
       "      <th>word</th>\n",
       "      <th>Bartek</th>\n",
       "      <th>Darek</th>\n",
       "      <th>Patryk</th>\n",
       "    </tr>\n",
       "  </thead>\n",
       "  <tbody>\n",
       "    <tr>\n",
       "      <th>0</th>\n",
       "      <td>absurdalna</td>\n",
       "      <td>1</td>\n",
       "      <td>1</td>\n",
       "      <td>1</td>\n",
       "    </tr>\n",
       "    <tr>\n",
       "      <th>1</th>\n",
       "      <td>aluminiowej</td>\n",
       "      <td>2</td>\n",
       "      <td>2</td>\n",
       "      <td>2</td>\n",
       "    </tr>\n",
       "    <tr>\n",
       "      <th>2</th>\n",
       "      <td>atrakcyjny</td>\n",
       "      <td>3</td>\n",
       "      <td>3</td>\n",
       "      <td>3</td>\n",
       "    </tr>\n",
       "    <tr>\n",
       "      <th>3</th>\n",
       "      <td>badziewie</td>\n",
       "      <td>0</td>\n",
       "      <td>1</td>\n",
       "      <td>0</td>\n",
       "    </tr>\n",
       "    <tr>\n",
       "      <th>4</th>\n",
       "      <td>bardzo</td>\n",
       "      <td>0</td>\n",
       "      <td>0</td>\n",
       "      <td>2</td>\n",
       "    </tr>\n",
       "    <tr>\n",
       "      <th>5</th>\n",
       "      <td>bdb</td>\n",
       "      <td>3</td>\n",
       "      <td>3</td>\n",
       "      <td>0</td>\n",
       "    </tr>\n",
       "    <tr>\n",
       "      <th>6</th>\n",
       "      <td>bezmyślnie</td>\n",
       "      <td>1</td>\n",
       "      <td>0</td>\n",
       "      <td>0</td>\n",
       "    </tr>\n",
       "    <tr>\n",
       "      <th>7</th>\n",
       "      <td>beznadziejne</td>\n",
       "      <td>1</td>\n",
       "      <td>1</td>\n",
       "      <td>1</td>\n",
       "    </tr>\n",
       "    <tr>\n",
       "      <th>8</th>\n",
       "      <td>bezprzewodowych</td>\n",
       "      <td>2</td>\n",
       "      <td>2</td>\n",
       "      <td>2</td>\n",
       "    </tr>\n",
       "    <tr>\n",
       "      <th>9</th>\n",
       "      <td>bezprzewodową</td>\n",
       "      <td>0</td>\n",
       "      <td>2</td>\n",
       "      <td>2</td>\n",
       "    </tr>\n",
       "    <tr>\n",
       "      <th>10</th>\n",
       "      <td>brudne</td>\n",
       "      <td>1</td>\n",
       "      <td>1</td>\n",
       "      <td>1</td>\n",
       "    </tr>\n",
       "    <tr>\n",
       "      <th>11</th>\n",
       "      <td>brzydsze</td>\n",
       "      <td>1</td>\n",
       "      <td>1</td>\n",
       "      <td>1</td>\n",
       "    </tr>\n",
       "    <tr>\n",
       "      <th>12</th>\n",
       "      <td>bublowaty</td>\n",
       "      <td>1</td>\n",
       "      <td>1</td>\n",
       "      <td>1</td>\n",
       "    </tr>\n",
       "    <tr>\n",
       "      <th>13</th>\n",
       "      <td>budowniczego</td>\n",
       "      <td>0</td>\n",
       "      <td>0</td>\n",
       "      <td>2</td>\n",
       "    </tr>\n",
       "    <tr>\n",
       "      <th>14</th>\n",
       "      <td>budowniczy</td>\n",
       "      <td>0</td>\n",
       "      <td>2</td>\n",
       "      <td>2</td>\n",
       "    </tr>\n",
       "    <tr>\n",
       "      <th>15</th>\n",
       "      <td>błyskowej</td>\n",
       "      <td>2</td>\n",
       "      <td>2</td>\n",
       "      <td>2</td>\n",
       "    </tr>\n",
       "    <tr>\n",
       "      <th>16</th>\n",
       "      <td>calej</td>\n",
       "      <td>2</td>\n",
       "      <td>0</td>\n",
       "      <td>2</td>\n",
       "    </tr>\n",
       "    <tr>\n",
       "      <th>17</th>\n",
       "      <td>całe</td>\n",
       "      <td>0</td>\n",
       "      <td>2</td>\n",
       "      <td>2</td>\n",
       "    </tr>\n",
       "    <tr>\n",
       "      <th>18</th>\n",
       "      <td>całej</td>\n",
       "      <td>0</td>\n",
       "      <td>2</td>\n",
       "      <td>0</td>\n",
       "    </tr>\n",
       "    <tr>\n",
       "      <th>19</th>\n",
       "      <td>całkowitym</td>\n",
       "      <td>0</td>\n",
       "      <td>2</td>\n",
       "      <td>2</td>\n",
       "    </tr>\n",
       "  </tbody>\n",
       "</table>\n",
       "</div>"
      ],
      "text/plain": [
       "               word  Bartek  Darek  Patryk\n",
       "0        absurdalna       1      1       1\n",
       "1       aluminiowej       2      2       2\n",
       "2        atrakcyjny       3      3       3\n",
       "3         badziewie       0      1       0\n",
       "4            bardzo       0      0       2\n",
       "5               bdb       3      3       0\n",
       "6        bezmyślnie       1      0       0\n",
       "7      beznadziejne       1      1       1\n",
       "8   bezprzewodowych       2      2       2\n",
       "9     bezprzewodową       0      2       2\n",
       "10           brudne       1      1       1\n",
       "11         brzydsze       1      1       1\n",
       "12        bublowaty       1      1       1\n",
       "13     budowniczego       0      0       2\n",
       "14       budowniczy       0      2       2\n",
       "15        błyskowej       2      2       2\n",
       "16            calej       2      0       2\n",
       "17             całe       0      2       2\n",
       "18            całej       0      2       0\n",
       "19       całkowitym       0      2       2"
      ]
     },
     "execution_count": 7,
     "metadata": {},
     "output_type": "execute_result"
    }
   ],
   "source": [
    "df = pd.DataFrame({'word': sorted(all_words)})\n",
    "\n",
    "for name in files_it1.keys():\n",
    "    word_sentiment = annotator_words.get(name, {})\n",
    "    df[f'{name}'] = df['word'].apply(lambda x: word_sentiment.get(x, 0))\n",
    "\n",
    "print(\"Dane Wspólnego DataFrame\")\n",
    "df.head(20)\n"
   ]
  },
  {
   "cell_type": "code",
   "execution_count": 8,
   "metadata": {},
   "outputs": [
    {
     "name": "stdout",
     "output_type": "stream",
     "text": [
      "DataFrame z kolumną 'agreement_level'\n"
     ]
    },
    {
     "data": {
      "text/html": [
       "<div>\n",
       "<style scoped>\n",
       "    .dataframe tbody tr th:only-of-type {\n",
       "        vertical-align: middle;\n",
       "    }\n",
       "\n",
       "    .dataframe tbody tr th {\n",
       "        vertical-align: top;\n",
       "    }\n",
       "\n",
       "    .dataframe thead th {\n",
       "        text-align: right;\n",
       "    }\n",
       "</style>\n",
       "<table border=\"1\" class=\"dataframe\">\n",
       "  <thead>\n",
       "    <tr style=\"text-align: right;\">\n",
       "      <th></th>\n",
       "      <th>word</th>\n",
       "      <th>Bartek</th>\n",
       "      <th>Darek</th>\n",
       "      <th>Patryk</th>\n",
       "      <th>agreement_level</th>\n",
       "    </tr>\n",
       "  </thead>\n",
       "  <tbody>\n",
       "    <tr>\n",
       "      <th>0</th>\n",
       "      <td>absurdalna</td>\n",
       "      <td>1</td>\n",
       "      <td>1</td>\n",
       "      <td>1</td>\n",
       "      <td>1</td>\n",
       "    </tr>\n",
       "    <tr>\n",
       "      <th>1</th>\n",
       "      <td>aluminiowej</td>\n",
       "      <td>2</td>\n",
       "      <td>2</td>\n",
       "      <td>2</td>\n",
       "      <td>1</td>\n",
       "    </tr>\n",
       "    <tr>\n",
       "      <th>2</th>\n",
       "      <td>atrakcyjny</td>\n",
       "      <td>3</td>\n",
       "      <td>3</td>\n",
       "      <td>3</td>\n",
       "      <td>1</td>\n",
       "    </tr>\n",
       "    <tr>\n",
       "      <th>3</th>\n",
       "      <td>badziewie</td>\n",
       "      <td>0</td>\n",
       "      <td>1</td>\n",
       "      <td>0</td>\n",
       "      <td>2</td>\n",
       "    </tr>\n",
       "    <tr>\n",
       "      <th>4</th>\n",
       "      <td>bardzo</td>\n",
       "      <td>0</td>\n",
       "      <td>0</td>\n",
       "      <td>2</td>\n",
       "      <td>2</td>\n",
       "    </tr>\n",
       "    <tr>\n",
       "      <th>5</th>\n",
       "      <td>bdb</td>\n",
       "      <td>3</td>\n",
       "      <td>3</td>\n",
       "      <td>0</td>\n",
       "      <td>1</td>\n",
       "    </tr>\n",
       "    <tr>\n",
       "      <th>6</th>\n",
       "      <td>bezmyślnie</td>\n",
       "      <td>1</td>\n",
       "      <td>0</td>\n",
       "      <td>0</td>\n",
       "      <td>2</td>\n",
       "    </tr>\n",
       "    <tr>\n",
       "      <th>7</th>\n",
       "      <td>beznadziejne</td>\n",
       "      <td>1</td>\n",
       "      <td>1</td>\n",
       "      <td>1</td>\n",
       "      <td>1</td>\n",
       "    </tr>\n",
       "    <tr>\n",
       "      <th>8</th>\n",
       "      <td>bezprzewodowych</td>\n",
       "      <td>2</td>\n",
       "      <td>2</td>\n",
       "      <td>2</td>\n",
       "      <td>1</td>\n",
       "    </tr>\n",
       "    <tr>\n",
       "      <th>9</th>\n",
       "      <td>bezprzewodową</td>\n",
       "      <td>0</td>\n",
       "      <td>2</td>\n",
       "      <td>2</td>\n",
       "      <td>1</td>\n",
       "    </tr>\n",
       "    <tr>\n",
       "      <th>10</th>\n",
       "      <td>brudne</td>\n",
       "      <td>1</td>\n",
       "      <td>1</td>\n",
       "      <td>1</td>\n",
       "      <td>1</td>\n",
       "    </tr>\n",
       "    <tr>\n",
       "      <th>11</th>\n",
       "      <td>brzydsze</td>\n",
       "      <td>1</td>\n",
       "      <td>1</td>\n",
       "      <td>1</td>\n",
       "      <td>1</td>\n",
       "    </tr>\n",
       "    <tr>\n",
       "      <th>12</th>\n",
       "      <td>bublowaty</td>\n",
       "      <td>1</td>\n",
       "      <td>1</td>\n",
       "      <td>1</td>\n",
       "      <td>1</td>\n",
       "    </tr>\n",
       "    <tr>\n",
       "      <th>13</th>\n",
       "      <td>budowniczego</td>\n",
       "      <td>0</td>\n",
       "      <td>0</td>\n",
       "      <td>2</td>\n",
       "      <td>2</td>\n",
       "    </tr>\n",
       "    <tr>\n",
       "      <th>14</th>\n",
       "      <td>budowniczy</td>\n",
       "      <td>0</td>\n",
       "      <td>2</td>\n",
       "      <td>2</td>\n",
       "      <td>1</td>\n",
       "    </tr>\n",
       "    <tr>\n",
       "      <th>15</th>\n",
       "      <td>błyskowej</td>\n",
       "      <td>2</td>\n",
       "      <td>2</td>\n",
       "      <td>2</td>\n",
       "      <td>1</td>\n",
       "    </tr>\n",
       "    <tr>\n",
       "      <th>16</th>\n",
       "      <td>calej</td>\n",
       "      <td>2</td>\n",
       "      <td>0</td>\n",
       "      <td>2</td>\n",
       "      <td>1</td>\n",
       "    </tr>\n",
       "    <tr>\n",
       "      <th>17</th>\n",
       "      <td>całe</td>\n",
       "      <td>0</td>\n",
       "      <td>2</td>\n",
       "      <td>2</td>\n",
       "      <td>1</td>\n",
       "    </tr>\n",
       "    <tr>\n",
       "      <th>18</th>\n",
       "      <td>całej</td>\n",
       "      <td>0</td>\n",
       "      <td>2</td>\n",
       "      <td>0</td>\n",
       "      <td>2</td>\n",
       "    </tr>\n",
       "    <tr>\n",
       "      <th>19</th>\n",
       "      <td>całkowitym</td>\n",
       "      <td>0</td>\n",
       "      <td>2</td>\n",
       "      <td>2</td>\n",
       "      <td>1</td>\n",
       "    </tr>\n",
       "  </tbody>\n",
       "</table>\n",
       "</div>"
      ],
      "text/plain": [
       "               word  Bartek  Darek  Patryk  agreement_level\n",
       "0        absurdalna       1      1       1                1\n",
       "1       aluminiowej       2      2       2                1\n",
       "2        atrakcyjny       3      3       3                1\n",
       "3         badziewie       0      1       0                2\n",
       "4            bardzo       0      0       2                2\n",
       "5               bdb       3      3       0                1\n",
       "6        bezmyślnie       1      0       0                2\n",
       "7      beznadziejne       1      1       1                1\n",
       "8   bezprzewodowych       2      2       2                1\n",
       "9     bezprzewodową       0      2       2                1\n",
       "10           brudne       1      1       1                1\n",
       "11         brzydsze       1      1       1                1\n",
       "12        bublowaty       1      1       1                1\n",
       "13     budowniczego       0      0       2                2\n",
       "14       budowniczy       0      2       2                1\n",
       "15        błyskowej       2      2       2                1\n",
       "16            calej       2      0       2                1\n",
       "17             całe       0      2       2                1\n",
       "18            całej       0      2       0                2\n",
       "19       całkowitym       0      2       2                1"
      ]
     },
     "execution_count": 8,
     "metadata": {},
     "output_type": "execute_result"
    }
   ],
   "source": [
    "def calculate_agreement(row):\n",
    "    sentiments = [row['Bartek'], row['Darek'], row['Patryk']]\n",
    "    unique_sentiments = set(sentiments)\n",
    "    \n",
    "    if len(unique_sentiments) == 1 and 0 not in unique_sentiments:   # Wszystkie trzy są zgodne i nie mają 0\n",
    "        return 1\n",
    "    \n",
    "    if len(unique_sentiments) == 2:\n",
    "        counts = pd.Series(sentiments).value_counts()\n",
    "        if 0 in counts.index and counts[0] == 1:                    # Dwóch annotatorów ma ten sam sentyment, a trzeci ma 0\n",
    "            return 1\n",
    "        else:                                                       # Dwóch annotatorów jest zgodnych, a trzeci ma inny sentyment\n",
    "            return 2\n",
    "    \n",
    "    if len(unique_sentiments) == 3 and 0 not in unique_sentiments:  # Każdy annotator dał inny sentyment\n",
    "        return 3\n",
    "    \n",
    "    return 2\n",
    "\n",
    "\n",
    "df['agreement_level'] = df.apply(calculate_agreement, axis=1)\n",
    "print(\"DataFrame z kolumną 'agreement_level'\")\n",
    "df.head(20) "
   ]
  },
  {
   "cell_type": "code",
   "execution_count": 9,
   "metadata": {},
   "outputs": [
    {
     "name": "stdout",
     "output_type": "stream",
     "text": [
      "Współczynniki Kappa Cohena dla każdej pary annotatorów\n",
      " - Bartek vs Darek:\n",
      "   * Kappa Cohena: 0.3897\n",
      "   * Procentowa zgodność: 59.48%\n",
      " - Bartek vs Patryk:\n",
      "   * Kappa Cohena: 0.3640\n",
      "   * Procentowa zgodność: 58.62%\n",
      " - Darek vs Patryk:\n",
      "   * Kappa Cohena: 0.5088\n",
      "   * Procentowa zgodność: 67.89%\n"
     ]
    }
   ],
   "source": [
    "def percent_agreement(series1, series2):\n",
    "    return (series1 == series2).mean()\n",
    "\n",
    "annotators = list(files_it1.keys())\n",
    "kappa_results = {}\n",
    "\n",
    "print(\"Współczynniki Kappa Cohena dla każdej pary annotatorów\")\n",
    "for i in range(len(annotators)):\n",
    "  for j in range(i+1, len(annotators)):\n",
    "    annot1 = annotators[i]\n",
    "    annot2 = annotators[j]\n",
    "    kappa = cohen_kappa_score(df[annot1], df[annot2])\n",
    "    agreement = percent_agreement(df[annot1], df[annot2]) * 100\n",
    "    kappa_results[(annot1, annot2)] = kappa\n",
    "    print(f\" - {annot1} vs {annot2}:\")\n",
    "    print(f\"   * Kappa Cohena: {kappa:.4f}\")\n",
    "    print(f\"   * Procentowa zgodność: {agreement:.2f}%\")"
   ]
  },
  {
   "cell_type": "code",
   "execution_count": 10,
   "metadata": {},
   "outputs": [
    {
     "name": "stdout",
     "output_type": "stream",
     "text": [
      "Współczynnik Kappa Fleissa dla wszystkich annotatorów: 0.8735\n"
     ]
    }
   ],
   "source": [
    "filtered_df = df[(df['Bartek'] != 0) & (df['Darek'] != 0) & (df['Patryk'] != 0)]\n",
    "\n",
    "\n",
    "categories = sorted(sentiment_mapping.values())\n",
    "\n",
    "def create_fleiss_matrix(df, annotators, categories):\n",
    "    fleiss_matrix = []\n",
    "    for index, row in df.iterrows():\n",
    "        counts = [row[f'{annot}'] for annot in annotators]\n",
    "        category_counts = [counts.count(category) for category in categories]\n",
    "        fleiss_matrix.append(category_counts)\n",
    "    return np.array(fleiss_matrix)\n",
    "\n",
    "fleiss_data = create_fleiss_matrix(filtered_df, annotators, categories)\n",
    "\n",
    "kappa_fleiss = fleiss_kappa(fleiss_data, method='fleiss')\n",
    "\n",
    "print(f\"Współczynnik Kappa Fleissa dla wszystkich annotatorów: {kappa_fleiss:.4f}\")\n"
   ]
  },
  {
   "cell_type": "code",
   "execution_count": 11,
   "metadata": {},
   "outputs": [
    {
     "name": "stdout",
     "output_type": "stream",
     "text": [
      "Średnia procentowa zgodność między annotatorami: 62.00%\n"
     ]
    }
   ],
   "source": [
    "percent_agreements = []\n",
    "for i in range(len(annotators)):\n",
    "    for j in range(i+1, len(annotators)):\n",
    "        annot1 = annotators[i]\n",
    "        annot2 = annotators[j]\n",
    "        agreement = percent_agreement(df[annot1], df[annot2]) * 100\n",
    "        percent_agreements.append(agreement)\n",
    "average_agreement = np.mean(percent_agreements)\n",
    "print(f\"Średnia procentowa zgodność między annotatorami: {average_agreement:.2f}%\")"
   ]
  },
  {
   "cell_type": "code",
   "execution_count": 12,
   "metadata": {},
   "outputs": [
    {
     "name": "stdout",
     "output_type": "stream",
     "text": [
      "Krzyżowe tabele kontyngencji dla każdej pary annotatorów:\n",
      "\n",
      "Bartek vs Darek:\n",
      "Darek    0   1    2   3\n",
      "Bartek                 \n",
      "0       39   7   64  16\n",
      "1        9  29    3   1\n",
      "2       61   3  152   8\n",
      "3       15   0    1  56\n",
      "\n",
      "Bartek vs Patryk:\n",
      "Patryk   0   1    2   3\n",
      "Bartek                 \n",
      "0       30   5   75  16\n",
      "1        9  30    3   0\n",
      "2       54   4  161   5\n",
      "3       16   0    5  51\n",
      "\n",
      "Darek vs Patryk:\n",
      "Patryk   0   1    2   3\n",
      "Darek                  \n",
      "0       52   4   60   8\n",
      "1        6  32    1   0\n",
      "2       43   2  171   4\n",
      "3        8   1   12  60\n"
     ]
    }
   ],
   "source": [
    "print(\"Krzyżowe tabele kontyngencji dla każdej pary annotatorów:\")\n",
    "for annot1, annot2 in itertools.combinations(annotators, 2):\n",
    "    contingency = pd.crosstab(df[f'{annot1}'], df[f'{annot2}'])\n",
    "    print(f\"\\n{annot1} vs {annot2}:\")\n",
    "    print(contingency)"
   ]
  },
  {
   "cell_type": "code",
   "execution_count": 13,
   "metadata": {},
   "outputs": [
    {
     "name": "stdout",
     "output_type": "stream",
     "text": [
      "Interpretacja współczynników Kappa Cohena\n",
      " - Bartek vs Darek: Kappa = 0.3897 -> Słaba zgodność.\n",
      " - Bartek vs Patryk: Kappa = 0.3640 -> Słaba zgodność.\n",
      " - Darek vs Patryk: Kappa = 0.5088 -> Umiarkowana zgodność.\n",
      "Interpretacja współczynnika Kappa Fleissa\n",
      "Kappa = 0.8735 -> Bardzo dobra zgodność.\n"
     ]
    }
   ],
   "source": [
    "def interpret_kappa(kappa):\n",
    "    if kappa < 0:\n",
    "        return \"Zgoda gorsza niż przypadkowa.\"\n",
    "    elif kappa == 0:\n",
    "        return \"Brak zgodności lepszy niż przypadkowy.\"\n",
    "    elif kappa <= 0.20:\n",
    "        return \"Znikoma zgodność.\"\n",
    "    elif kappa <= 0.40:\n",
    "        return \"Słaba zgodność.\"\n",
    "    elif kappa <= 0.60:\n",
    "        return \"Umiarkowana zgodność.\"\n",
    "    elif kappa <= 0.80:\n",
    "        return \"Dobra zgodność.\"\n",
    "    else:\n",
    "        return \"Bardzo dobra zgodność.\"\n",
    "\n",
    "print(\"Interpretacja współczynników Kappa Cohena\")\n",
    "for pair, kappa in kappa_results.items():\n",
    "    interpretation = interpret_kappa(kappa)\n",
    "    print(f\" - {pair[0]} vs {pair[1]}: Kappa = {kappa:.4f} -> {interpretation}\")\n",
    "\n",
    "print(f\"Interpretacja współczynnika Kappa Fleissa\")\n",
    "print(f\"Kappa = {kappa_fleiss:.4f} -> {interpret_kappa(kappa_fleiss)}\")"
   ]
  },
  {
   "cell_type": "code",
   "execution_count": 14,
   "metadata": {},
   "outputs": [
    {
     "name": "stdout",
     "output_type": "stream",
     "text": [
      "Liczba wierszy dla każdego poziomu zgodności\n",
      "agreement_level\n",
      "1    313\n",
      "2    151\n",
      "Name: count, dtype: int64\n",
      "Liczba wierszy z najniższą zgodnością (poziom 2): 151\n",
      "Wiersze najmniej zgodne\n",
      "            word  Bartek  Darek  Patryk\n",
      "3      badziewie       0      1       0\n",
      "4         bardzo       0      0       2\n",
      "6     bezmyślnie       1      0       0\n",
      "13  budowniczego       0      0       2\n",
      "18         całej       0      2       0\n",
      "20          cały       0      0       2\n",
      "21      celująco       3      0       0\n",
      "22     ceniących       0      2       0\n",
      "24        ciasno       0      2       0\n",
      "26        cienka       1      2       2\n"
     ]
    }
   ],
   "source": [
    "agreement_counts = df['agreement_level'].value_counts().sort_index()\n",
    "print(\"Liczba wierszy dla każdego poziomu zgodności\")\n",
    "print(agreement_counts)\n",
    "\n",
    "# Liczba wierszy z maksymalną liczbą unikalnych etykiet (najmniejsza zgodność)\n",
    "max_unique = df['agreement_level'].max()\n",
    "min_agreement_rows = df[df['agreement_level'] == max_unique]\n",
    "\n",
    "print(f\"Liczba wierszy z najniższą zgodnością (poziom {max_unique}): {min_agreement_rows.shape[0]}\")\n",
    "\n",
    "print(\"Wiersze najmniej zgodne\")\n",
    "print(min_agreement_rows[['word', 'Bartek', 'Darek', 'Patryk']].head(10))"
   ]
  },
  {
   "cell_type": "code",
   "execution_count": 15,
   "metadata": {},
   "outputs": [],
   "source": [
    "df.to_csv('annotations/words/it1/combined.csv', index=False)"
   ]
  },
  {
   "cell_type": "code",
   "execution_count": 16,
   "metadata": {},
   "outputs": [],
   "source": [
    "sentiment_reverse_mapping = {\n",
    "    1: 'Negative',\n",
    "    2: 'Neutral',\n",
    "    3: 'Positive'\n",
    "}"
   ]
  },
  {
   "cell_type": "code",
   "execution_count": 17,
   "metadata": {},
   "outputs": [],
   "source": [
    "def get_sentiment_text(row):\n",
    "    sentiments = [row['Bartek'], row['Darek'], row['Patryk']]\n",
    "    sentiments_filtered = [s for s in sentiments if s != 0]\n",
    "    unique_sentiments = set(sentiments_filtered)\n",
    "    \n",
    "    if len(unique_sentiments) == 1 and 0 not in unique_sentiments:\n",
    "        return sentiment_reverse_mapping[sentiments_filtered[0]]\n",
    "    \n",
    "    if len(unique_sentiments) == 2 and 0 in unique_sentiments:\n",
    "        for sentiment in unique_sentiments:\n",
    "            if sentiments_filtered.count(sentiment) > 1:\n",
    "                return sentiment_reverse_mapping[sentiment]\n",
    "    \n",
    "    return 'Disagreement'"
   ]
  },
  {
   "cell_type": "code",
   "execution_count": 18,
   "metadata": {},
   "outputs": [
    {
     "data": {
      "text/html": [
       "<div>\n",
       "<style scoped>\n",
       "    .dataframe tbody tr th:only-of-type {\n",
       "        vertical-align: middle;\n",
       "    }\n",
       "\n",
       "    .dataframe tbody tr th {\n",
       "        vertical-align: top;\n",
       "    }\n",
       "\n",
       "    .dataframe thead th {\n",
       "        text-align: right;\n",
       "    }\n",
       "</style>\n",
       "<table border=\"1\" class=\"dataframe\">\n",
       "  <thead>\n",
       "    <tr style=\"text-align: right;\">\n",
       "      <th></th>\n",
       "      <th>word</th>\n",
       "      <th>sentiment</th>\n",
       "    </tr>\n",
       "  </thead>\n",
       "  <tbody>\n",
       "    <tr>\n",
       "      <th>0</th>\n",
       "      <td>absurdalna</td>\n",
       "      <td>Negative</td>\n",
       "    </tr>\n",
       "    <tr>\n",
       "      <th>1</th>\n",
       "      <td>aluminiowej</td>\n",
       "      <td>Neutral</td>\n",
       "    </tr>\n",
       "    <tr>\n",
       "      <th>2</th>\n",
       "      <td>atrakcyjny</td>\n",
       "      <td>Positive</td>\n",
       "    </tr>\n",
       "    <tr>\n",
       "      <th>5</th>\n",
       "      <td>bdb</td>\n",
       "      <td>Positive</td>\n",
       "    </tr>\n",
       "    <tr>\n",
       "      <th>7</th>\n",
       "      <td>beznadziejne</td>\n",
       "      <td>Negative</td>\n",
       "    </tr>\n",
       "    <tr>\n",
       "      <th>8</th>\n",
       "      <td>bezprzewodowych</td>\n",
       "      <td>Neutral</td>\n",
       "    </tr>\n",
       "    <tr>\n",
       "      <th>9</th>\n",
       "      <td>bezprzewodową</td>\n",
       "      <td>Neutral</td>\n",
       "    </tr>\n",
       "    <tr>\n",
       "      <th>10</th>\n",
       "      <td>brudne</td>\n",
       "      <td>Negative</td>\n",
       "    </tr>\n",
       "    <tr>\n",
       "      <th>11</th>\n",
       "      <td>brzydsze</td>\n",
       "      <td>Negative</td>\n",
       "    </tr>\n",
       "    <tr>\n",
       "      <th>12</th>\n",
       "      <td>bublowaty</td>\n",
       "      <td>Negative</td>\n",
       "    </tr>\n",
       "    <tr>\n",
       "      <th>14</th>\n",
       "      <td>budowniczy</td>\n",
       "      <td>Neutral</td>\n",
       "    </tr>\n",
       "    <tr>\n",
       "      <th>15</th>\n",
       "      <td>błyskowej</td>\n",
       "      <td>Neutral</td>\n",
       "    </tr>\n",
       "    <tr>\n",
       "      <th>16</th>\n",
       "      <td>calej</td>\n",
       "      <td>Neutral</td>\n",
       "    </tr>\n",
       "    <tr>\n",
       "      <th>17</th>\n",
       "      <td>całe</td>\n",
       "      <td>Neutral</td>\n",
       "    </tr>\n",
       "    <tr>\n",
       "      <th>19</th>\n",
       "      <td>całkowitym</td>\n",
       "      <td>Neutral</td>\n",
       "    </tr>\n",
       "    <tr>\n",
       "      <th>23</th>\n",
       "      <td>chiński</td>\n",
       "      <td>Neutral</td>\n",
       "    </tr>\n",
       "    <tr>\n",
       "      <th>25</th>\n",
       "      <td>cicha</td>\n",
       "      <td>Neutral</td>\n",
       "    </tr>\n",
       "    <tr>\n",
       "      <th>27</th>\n",
       "      <td>cienki</td>\n",
       "      <td>Neutral</td>\n",
       "    </tr>\n",
       "    <tr>\n",
       "      <th>29</th>\n",
       "      <td>ciepłej</td>\n",
       "      <td>Neutral</td>\n",
       "    </tr>\n",
       "    <tr>\n",
       "      <th>30</th>\n",
       "      <td>ciężki</td>\n",
       "      <td>Neutral</td>\n",
       "    </tr>\n",
       "  </tbody>\n",
       "</table>\n",
       "</div>"
      ],
      "text/plain": [
       "               word sentiment\n",
       "0        absurdalna  Negative\n",
       "1       aluminiowej   Neutral\n",
       "2        atrakcyjny  Positive\n",
       "5               bdb  Positive\n",
       "7      beznadziejne  Negative\n",
       "8   bezprzewodowych   Neutral\n",
       "9     bezprzewodową   Neutral\n",
       "10           brudne  Negative\n",
       "11         brzydsze  Negative\n",
       "12        bublowaty  Negative\n",
       "14       budowniczy   Neutral\n",
       "15        błyskowej   Neutral\n",
       "16            calej   Neutral\n",
       "17             całe   Neutral\n",
       "19       całkowitym   Neutral\n",
       "23          chiński   Neutral\n",
       "25            cicha   Neutral\n",
       "27           cienki   Neutral\n",
       "29          ciepłej   Neutral\n",
       "30           ciężki   Neutral"
      ]
     },
     "execution_count": 18,
     "metadata": {},
     "output_type": "execute_result"
    }
   ],
   "source": [
    "agreement_df = df[df['agreement_level'] == 1].copy()\n",
    "\n",
    "agreement_df['sentiment'] = agreement_df.apply(get_sentiment_text, axis=1)\n",
    "\n",
    "agreement_df = agreement_df[['word', 'sentiment']]\n",
    "\n",
    "agreement_df.head(20)"
   ]
  },
  {
   "cell_type": "code",
   "execution_count": 19,
   "metadata": {},
   "outputs": [
    {
     "name": "stdout",
     "output_type": "stream",
     "text": [
      "Zapisano słowa z poziomem zgodności = 1 do pliku 'words.csv'\n"
     ]
    }
   ],
   "source": [
    "\n",
    "# Zapisanie do pliku CSV\n",
    "agreement_df.to_csv('annotations/words/it1/words.csv', index=False)\n",
    "\n",
    "print(\"Zapisano słowa z poziomem zgodności = 1 do pliku 'words.csv'\")"
   ]
  },
  {
   "cell_type": "markdown",
   "metadata": {},
   "source": [
    "# Wytyczne do anotacji sentymentu\n",
    "\n",
    "1. Kategorie sentymentu:\n",
    "- `1` - Negatywny\n",
    "- `2` - Neutralny\n",
    "- `3` - Pozytywny\n",
    "\n",
    "2. Kryteria anotacji\n",
    "\n",
    "- Analiza słów w zależnosci od kontekstu:\n",
    "Znając kontekst zdania oceniamy sentyment słowa.\n",
    "\n",
    "- Wykrywanie przymiotników:\n",
    "Gdy mamy wątpliwosci odpowiedzmy sobie na pytanie czy dane słowo odpowiada na pytania \"jaki?\", \"jaka?\", \"jakie?\". Jesli tak jest - mamy do czynienia z przymiotnikiem.\n",
    "\n",
    "- Neutralny sentyment:\n",
    "Spora częsc przymiotników ma neutralny sentyment, więc nie zasanawiajmy się nad tym szczególnie i zaznaczmy neutral.\n"
   ]
  },
  {
   "cell_type": "markdown",
   "metadata": {},
   "source": [
    "# Anotacja całosci tekstu"
   ]
  },
  {
   "cell_type": "code",
   "execution_count": 20,
   "metadata": {},
   "outputs": [],
   "source": [
    "files_all = {\n",
    "    'Bartek': 'annotations/words/all/rev_bartek_seq.jsonl',\n",
    "    'Darek': 'annotations/words/all/rev_darek_seq.jsonl',\n",
    "    'Patryk': 'annotations/words/all/rev_patryk_seq.jsonl',\n",
    "    'Eryk': 'annotations/words/all/rev_eryk_seq.jsonl'\n",
    "}"
   ]
  },
  {
   "cell_type": "code",
   "execution_count": 21,
   "metadata": {},
   "outputs": [],
   "source": [
    "sentiment_reverse_mapping = {v: k for k, v in sentiment_mapping.items()}\n",
    "\n",
    "def extract_labeled_words(file_path, annotator):\n",
    "    \"\"\"\n",
    "    Funkcja do ekstrakcji słów i przypisanych sentymentów z pliku JSONL.\n",
    "    Dodaje kolumnę 'annotator' do każdej anotacji.\n",
    "    \"\"\"\n",
    "    labeled_words = []\n",
    "    if not os.path.exists(file_path):\n",
    "        print(f\"File not found: {file_path}\")\n",
    "        return labeled_words\n",
    "\n",
    "    with open(file_path, 'r', encoding='utf-8') as f:\n",
    "        for line_number, line in enumerate(f, 1):\n",
    "            try:\n",
    "                data = json.loads(line)\n",
    "                text = data.get('text', '')\n",
    "                labels = data.get('label', [])\n",
    "                for label in labels:\n",
    "                    if len(label) == 3:\n",
    "                        start_idx, end_idx, sentiment = label\n",
    "                        # Sprawdzenie poprawności indeksów\n",
    "                        if 0 <= start_idx < end_idx <= len(text):\n",
    "                            word = text[start_idx:end_idx].replace(\" \", \"\").lower()  # Usunięcie spacji i konwersja na małe litery\n",
    "                            sentiment_code = sentiment_mapping.get(sentiment, np.nan)  # Mapowanie sentymentu, brak mapowania -> NaN\n",
    "                            labeled_words.append({\n",
    "                                'annotator': annotator,\n",
    "                                'word': word,\n",
    "                                'sentiment': sentiment_code\n",
    "                            })\n",
    "                        else:\n",
    "                            print(f\"Warning: Indeksy [{start_idx}, {end_idx}] poza zakresem w pliku {file_path}, linia {line_number}.\")\n",
    "                    else:\n",
    "                        print(f\"Warning: Niepoprawny format etykiety {label} w pliku {file_path}, linia {line_number}.\")\n",
    "            except json.JSONDecodeError as e:\n",
    "                print(f\"Error decoding JSON w pliku {file_path}, linia {line_number}: {e}\")\n",
    "    return labeled_words"
   ]
  },
  {
   "cell_type": "code",
   "execution_count": 22,
   "metadata": {},
   "outputs": [
    {
     "name": "stdout",
     "output_type": "stream",
     "text": [
      "Processed annotator: Bartek, liczba słów: 45\n",
      "Processed annotator: Darek, liczba słów: 66\n",
      "Processed annotator: Patryk, liczba słów: 74\n",
      "Processed annotator: Eryk, liczba słów: 85\n"
     ]
    }
   ],
   "source": [
    "# Lista wszystkich annotatorów\n",
    "annotators = list(files_all.keys())\n",
    "\n",
    "# Lista do przechowywania wszystkich annotacji\n",
    "all_annotations = []\n",
    "\n",
    "for name, path in files_all.items():\n",
    "    annotated_words = extract_labeled_words(path, name)\n",
    "    all_annotations.extend(annotated_words)\n",
    "    print(f\"Processed annotator: {name}, liczba słów: {len(annotated_words)}\")"
   ]
  },
  {
   "cell_type": "code",
   "execution_count": 23,
   "metadata": {},
   "outputs": [
    {
     "data": {
      "text/html": [
       "<div>\n",
       "<style scoped>\n",
       "    .dataframe tbody tr th:only-of-type {\n",
       "        vertical-align: middle;\n",
       "    }\n",
       "\n",
       "    .dataframe tbody tr th {\n",
       "        vertical-align: top;\n",
       "    }\n",
       "\n",
       "    .dataframe thead th {\n",
       "        text-align: right;\n",
       "    }\n",
       "</style>\n",
       "<table border=\"1\" class=\"dataframe\">\n",
       "  <thead>\n",
       "    <tr style=\"text-align: right;\">\n",
       "      <th></th>\n",
       "      <th>annotator</th>\n",
       "      <th>word</th>\n",
       "      <th>sentiment</th>\n",
       "      <th>sentiment_text</th>\n",
       "    </tr>\n",
       "  </thead>\n",
       "  <tbody>\n",
       "    <tr>\n",
       "      <th>0</th>\n",
       "      <td>Bartek</td>\n",
       "      <td>wszystkie</td>\n",
       "      <td>2</td>\n",
       "      <td>Neutral</td>\n",
       "    </tr>\n",
       "    <tr>\n",
       "      <th>1</th>\n",
       "      <td>Bartek</td>\n",
       "      <td>luzacki</td>\n",
       "      <td>3</td>\n",
       "      <td>Positive</td>\n",
       "    </tr>\n",
       "    <tr>\n",
       "      <th>2</th>\n",
       "      <td>Bartek</td>\n",
       "      <td>nudne</td>\n",
       "      <td>1</td>\n",
       "      <td>Negative</td>\n",
       "    </tr>\n",
       "    <tr>\n",
       "      <th>3</th>\n",
       "      <td>Bartek</td>\n",
       "      <td>wporzadku</td>\n",
       "      <td>3</td>\n",
       "      <td>Positive</td>\n",
       "    </tr>\n",
       "    <tr>\n",
       "      <th>4</th>\n",
       "      <td>Bartek</td>\n",
       "      <td>groźny</td>\n",
       "      <td>1</td>\n",
       "      <td>Negative</td>\n",
       "    </tr>\n",
       "  </tbody>\n",
       "</table>\n",
       "</div>"
      ],
      "text/plain": [
       "  annotator       word  sentiment sentiment_text\n",
       "0    Bartek  wszystkie          2        Neutral\n",
       "1    Bartek    luzacki          3       Positive\n",
       "2    Bartek      nudne          1       Negative\n",
       "3    Bartek  wporzadku          3       Positive\n",
       "4    Bartek     groźny          1       Negative"
      ]
     },
     "execution_count": 23,
     "metadata": {},
     "output_type": "execute_result"
    }
   ],
   "source": [
    "df_all = pd.DataFrame(all_annotations)\n",
    "\n",
    "df_all['sentiment_text'] = df_all['sentiment'].map(sentiment_reverse_mapping)\n",
    "\n",
    "df_all.head()"
   ]
  },
  {
   "cell_type": "code",
   "execution_count": 24,
   "metadata": {},
   "outputs": [
    {
     "data": {
      "text/html": [
       "<div>\n",
       "<style scoped>\n",
       "    .dataframe tbody tr th:only-of-type {\n",
       "        vertical-align: middle;\n",
       "    }\n",
       "\n",
       "    .dataframe tbody tr th {\n",
       "        vertical-align: top;\n",
       "    }\n",
       "\n",
       "    .dataframe thead th {\n",
       "        text-align: right;\n",
       "    }\n",
       "</style>\n",
       "<table border=\"1\" class=\"dataframe\">\n",
       "  <thead>\n",
       "    <tr style=\"text-align: right;\">\n",
       "      <th></th>\n",
       "      <th>word</th>\n",
       "      <th>sentiment</th>\n",
       "    </tr>\n",
       "  </thead>\n",
       "  <tbody>\n",
       "    <tr>\n",
       "      <th>0</th>\n",
       "      <td>wszystkie</td>\n",
       "      <td>Neutral</td>\n",
       "    </tr>\n",
       "    <tr>\n",
       "      <th>1</th>\n",
       "      <td>luzacki</td>\n",
       "      <td>Positive</td>\n",
       "    </tr>\n",
       "    <tr>\n",
       "      <th>2</th>\n",
       "      <td>nudne</td>\n",
       "      <td>Negative</td>\n",
       "    </tr>\n",
       "    <tr>\n",
       "      <th>3</th>\n",
       "      <td>wporzadku</td>\n",
       "      <td>Positive</td>\n",
       "    </tr>\n",
       "    <tr>\n",
       "      <th>4</th>\n",
       "      <td>groźny</td>\n",
       "      <td>Negative</td>\n",
       "    </tr>\n",
       "    <tr>\n",
       "      <th>5</th>\n",
       "      <td>mieszane</td>\n",
       "      <td>Neutral</td>\n",
       "    </tr>\n",
       "    <tr>\n",
       "      <th>6</th>\n",
       "      <td>fajny</td>\n",
       "      <td>Positive</td>\n",
       "    </tr>\n",
       "    <tr>\n",
       "      <th>7</th>\n",
       "      <td>dobra</td>\n",
       "      <td>Positive</td>\n",
       "    </tr>\n",
       "    <tr>\n",
       "      <th>8</th>\n",
       "      <td>duza</td>\n",
       "      <td>Neutral</td>\n",
       "    </tr>\n",
       "    <tr>\n",
       "      <th>9</th>\n",
       "      <td>totalny</td>\n",
       "      <td>Neutral</td>\n",
       "    </tr>\n",
       "    <tr>\n",
       "      <th>10</th>\n",
       "      <td>spoko</td>\n",
       "      <td>Positive</td>\n",
       "    </tr>\n",
       "    <tr>\n",
       "      <th>11</th>\n",
       "      <td>symetri</td>\n",
       "      <td>Neutral</td>\n",
       "    </tr>\n",
       "    <tr>\n",
       "      <th>12</th>\n",
       "      <td>grubym</td>\n",
       "      <td>Neutral</td>\n",
       "    </tr>\n",
       "    <tr>\n",
       "      <th>13</th>\n",
       "      <td>drewniany</td>\n",
       "      <td>Neutral</td>\n",
       "    </tr>\n",
       "    <tr>\n",
       "      <th>14</th>\n",
       "      <td>drugiej</td>\n",
       "      <td>Neutral</td>\n",
       "    </tr>\n",
       "    <tr>\n",
       "      <th>15</th>\n",
       "      <td>niektórych</td>\n",
       "      <td>Neutral</td>\n",
       "    </tr>\n",
       "    <tr>\n",
       "      <th>16</th>\n",
       "      <td>czylelnie</td>\n",
       "      <td>Positive</td>\n",
       "    </tr>\n",
       "    <tr>\n",
       "      <th>17</th>\n",
       "      <td>jasno</td>\n",
       "      <td>Neutral</td>\n",
       "    </tr>\n",
       "    <tr>\n",
       "      <th>18</th>\n",
       "      <td>prosta</td>\n",
       "      <td>Neutral</td>\n",
       "    </tr>\n",
       "    <tr>\n",
       "      <th>19</th>\n",
       "      <td>niewtajemniczonych</td>\n",
       "      <td>Neutral</td>\n",
       "    </tr>\n",
       "  </tbody>\n",
       "</table>\n",
       "</div>"
      ],
      "text/plain": [
       "                  word sentiment\n",
       "0            wszystkie   Neutral\n",
       "1              luzacki  Positive\n",
       "2                nudne  Negative\n",
       "3            wporzadku  Positive\n",
       "4               groźny  Negative\n",
       "5             mieszane   Neutral\n",
       "6                fajny  Positive\n",
       "7                dobra  Positive\n",
       "8                 duza   Neutral\n",
       "9              totalny   Neutral\n",
       "10               spoko  Positive\n",
       "11             symetri   Neutral\n",
       "12              grubym   Neutral\n",
       "13           drewniany   Neutral\n",
       "14             drugiej   Neutral\n",
       "15          niektórych   Neutral\n",
       "16           czylelnie  Positive\n",
       "17               jasno   Neutral\n",
       "18              prosta   Neutral\n",
       "19  niewtajemniczonych   Neutral"
      ]
     },
     "execution_count": 24,
     "metadata": {},
     "output_type": "execute_result"
    }
   ],
   "source": [
    "final_df_all = df_all[['word', 'sentiment_text']].rename(columns={'sentiment_text': 'sentiment'})\n",
    "\n",
    "final_df_all = final_df_all.drop_duplicates(subset=['word'])\n",
    "\n",
    "final_df_all.head(20)\n"
   ]
  },
  {
   "cell_type": "code",
   "execution_count": 25,
   "metadata": {},
   "outputs": [
    {
     "name": "stdout",
     "output_type": "stream",
     "text": [
      "Zapisano połączone annotacje do pliku 'annotations/words/all/words.csv'\n"
     ]
    }
   ],
   "source": [
    "output_csv = 'annotations/words/all/words.csv'\n",
    "final_df_all.to_csv(output_csv, index=False, encoding='utf-8')\n",
    "\n",
    "print(f\"Zapisano połączone annotacje do pliku '{output_csv}'\")"
   ]
  },
  {
   "cell_type": "code",
   "execution_count": 26,
   "metadata": {},
   "outputs": [
    {
     "name": "stdout",
     "output_type": "stream",
     "text": [
      "Łączna liczba słów po połączeniu: 514\n"
     ]
    },
    {
     "data": {
      "text/html": [
       "<div>\n",
       "<style scoped>\n",
       "    .dataframe tbody tr th:only-of-type {\n",
       "        vertical-align: middle;\n",
       "    }\n",
       "\n",
       "    .dataframe tbody tr th {\n",
       "        vertical-align: top;\n",
       "    }\n",
       "\n",
       "    .dataframe thead th {\n",
       "        text-align: right;\n",
       "    }\n",
       "</style>\n",
       "<table border=\"1\" class=\"dataframe\">\n",
       "  <thead>\n",
       "    <tr style=\"text-align: right;\">\n",
       "      <th></th>\n",
       "      <th>word</th>\n",
       "      <th>sentiment</th>\n",
       "    </tr>\n",
       "  </thead>\n",
       "  <tbody>\n",
       "    <tr>\n",
       "      <th>0</th>\n",
       "      <td>wszystkie</td>\n",
       "      <td>Neutral</td>\n",
       "    </tr>\n",
       "    <tr>\n",
       "      <th>1</th>\n",
       "      <td>luzacki</td>\n",
       "      <td>Positive</td>\n",
       "    </tr>\n",
       "    <tr>\n",
       "      <th>2</th>\n",
       "      <td>nudne</td>\n",
       "      <td>Negative</td>\n",
       "    </tr>\n",
       "    <tr>\n",
       "      <th>3</th>\n",
       "      <td>wporzadku</td>\n",
       "      <td>Positive</td>\n",
       "    </tr>\n",
       "    <tr>\n",
       "      <th>4</th>\n",
       "      <td>groźny</td>\n",
       "      <td>Negative</td>\n",
       "    </tr>\n",
       "    <tr>\n",
       "      <th>5</th>\n",
       "      <td>mieszane</td>\n",
       "      <td>Neutral</td>\n",
       "    </tr>\n",
       "    <tr>\n",
       "      <th>6</th>\n",
       "      <td>fajny</td>\n",
       "      <td>Positive</td>\n",
       "    </tr>\n",
       "    <tr>\n",
       "      <th>7</th>\n",
       "      <td>dobra</td>\n",
       "      <td>Positive</td>\n",
       "    </tr>\n",
       "    <tr>\n",
       "      <th>8</th>\n",
       "      <td>duza</td>\n",
       "      <td>Neutral</td>\n",
       "    </tr>\n",
       "    <tr>\n",
       "      <th>9</th>\n",
       "      <td>totalny</td>\n",
       "      <td>Neutral</td>\n",
       "    </tr>\n",
       "    <tr>\n",
       "      <th>10</th>\n",
       "      <td>spoko</td>\n",
       "      <td>Positive</td>\n",
       "    </tr>\n",
       "    <tr>\n",
       "      <th>11</th>\n",
       "      <td>symetri</td>\n",
       "      <td>Neutral</td>\n",
       "    </tr>\n",
       "    <tr>\n",
       "      <th>12</th>\n",
       "      <td>grubym</td>\n",
       "      <td>Neutral</td>\n",
       "    </tr>\n",
       "    <tr>\n",
       "      <th>13</th>\n",
       "      <td>drewniany</td>\n",
       "      <td>Neutral</td>\n",
       "    </tr>\n",
       "    <tr>\n",
       "      <th>14</th>\n",
       "      <td>drugiej</td>\n",
       "      <td>Neutral</td>\n",
       "    </tr>\n",
       "    <tr>\n",
       "      <th>15</th>\n",
       "      <td>niektórych</td>\n",
       "      <td>Neutral</td>\n",
       "    </tr>\n",
       "    <tr>\n",
       "      <th>16</th>\n",
       "      <td>czylelnie</td>\n",
       "      <td>Positive</td>\n",
       "    </tr>\n",
       "    <tr>\n",
       "      <th>17</th>\n",
       "      <td>jasno</td>\n",
       "      <td>Neutral</td>\n",
       "    </tr>\n",
       "    <tr>\n",
       "      <th>18</th>\n",
       "      <td>prosta</td>\n",
       "      <td>Neutral</td>\n",
       "    </tr>\n",
       "    <tr>\n",
       "      <th>19</th>\n",
       "      <td>niewtajemniczonych</td>\n",
       "      <td>Neutral</td>\n",
       "    </tr>\n",
       "  </tbody>\n",
       "</table>\n",
       "</div>"
      ],
      "text/plain": [
       "                  word sentiment\n",
       "0            wszystkie   Neutral\n",
       "1              luzacki  Positive\n",
       "2                nudne  Negative\n",
       "3            wporzadku  Positive\n",
       "4               groźny  Negative\n",
       "5             mieszane   Neutral\n",
       "6                fajny  Positive\n",
       "7                dobra  Positive\n",
       "8                 duza   Neutral\n",
       "9              totalny   Neutral\n",
       "10               spoko  Positive\n",
       "11             symetri   Neutral\n",
       "12              grubym   Neutral\n",
       "13           drewniany   Neutral\n",
       "14             drugiej   Neutral\n",
       "15          niektórych   Neutral\n",
       "16           czylelnie  Positive\n",
       "17               jasno   Neutral\n",
       "18              prosta   Neutral\n",
       "19  niewtajemniczonych   Neutral"
      ]
     },
     "execution_count": 26,
     "metadata": {},
     "output_type": "execute_result"
    }
   ],
   "source": [
    "all_words_combined_df = pd.concat([final_df_all, agreement_df], ignore_index=True)\n",
    "\n",
    "all_words_combined_df = all_words_combined_df.drop_duplicates(subset=['word'])\n",
    "\n",
    "print(f\"Łączna liczba słów po połączeniu: {all_words_combined_df.shape[0]}\")\n",
    "\n",
    "all_words_combined_df.head(20)"
   ]
  },
  {
   "cell_type": "code",
   "execution_count": 27,
   "metadata": {},
   "outputs": [
    {
     "name": "stdout",
     "output_type": "stream",
     "text": [
      "Zapisano połączone annotacje do pliku 'annotations/words/all_words.csv'\n"
     ]
    }
   ],
   "source": [
    "output_csv = 'annotations/words/all_words.csv'\n",
    "\n",
    "all_words_combined_df.to_csv(output_csv, index=False, encoding='utf-8')\n",
    "\n",
    "print(f\"Zapisano połączone annotacje do pliku '{output_csv}'\")\n"
   ]
  },
  {
   "cell_type": "code",
   "execution_count": 35,
   "metadata": {},
   "outputs": [
    {
     "data": {
      "application/vnd.plotly.v1+json": {
       "config": {
        "plotlyServerURL": "https://plot.ly"
       },
       "data": [
        {
         "alignmentgroup": "True",
         "bingroup": "x",
         "hovertemplate": "len_char=%{x}<br>count=%{y}<extra></extra>",
         "legendgroup": "",
         "marker": {
          "color": "rgba(255, 0, 0, 0.6)",
          "pattern": {
           "shape": ""
          }
         },
         "name": "",
         "nbinsx": 50,
         "offsetgroup": "",
         "orientation": "v",
         "showlegend": false,
         "type": "histogram",
         "x": [
          5,
          6,
          5,
          8,
          13,
          3,
          13,
          3,
          6,
          9,
          10,
          13,
          11,
          13,
          10,
          11,
          6,
          8,
          8,
          7,
          10,
          5,
          10,
          15,
          11,
          6,
          12,
          9,
          13,
          10,
          11,
          10,
          12,
          6,
          8,
          9,
          6,
          7,
          7,
          9,
          9,
          8,
          7,
          9,
          6,
          9,
          9,
          13,
          14,
          14,
          13,
          11,
          10,
          10,
          6,
          9,
          15,
          15,
          14,
          9,
          8,
          9,
          7,
          7,
          11
         ],
         "xaxis": "x",
         "yaxis": "y"
        },
        {
         "alignmentgroup": "True",
         "bingroup": "x",
         "hovertemplate": "len_char=%{x}<br>count=%{y}<extra></extra>",
         "legendgroup": "",
         "marker": {
          "color": "rgba(0, 0, 255, 0.6)",
          "pattern": {
           "shape": ""
          }
         },
         "name": "",
         "nbinsx": 50,
         "offsetgroup": "",
         "orientation": "v",
         "showlegend": false,
         "type": "histogram",
         "x": [
          9,
          8,
          4,
          7,
          7,
          6,
          9,
          7,
          10,
          5,
          6,
          18,
          12,
          9,
          9,
          13,
          7,
          5,
          9,
          6,
          10,
          8,
          6,
          8,
          13,
          9,
          5,
          12,
          10,
          7,
          10,
          6,
          11,
          7,
          12,
          6,
          8,
          11,
          9,
          7,
          7,
          10,
          14,
          10,
          9,
          6,
          7,
          8,
          7,
          7,
          11,
          11,
          10,
          7,
          11,
          8,
          13,
          11,
          7,
          11,
          11,
          11,
          8,
          6,
          14,
          19,
          7,
          5,
          6,
          18,
          15,
          13,
          13,
          9,
          10,
          13,
          6,
          9,
          6,
          8,
          10,
          10,
          14,
          14,
          5,
          11,
          5,
          4,
          6,
          7,
          6,
          6,
          11,
          5,
          5,
          12,
          7,
          6,
          12,
          9,
          10,
          12,
          6,
          12,
          4,
          5,
          4,
          4,
          5,
          13,
          7,
          10,
          9,
          11,
          4,
          4,
          4,
          9,
          5,
          7,
          10,
          10,
          6,
          12,
          5,
          6,
          8,
          4,
          12,
          4,
          4,
          2,
          7,
          4,
          11,
          4,
          6,
          12,
          8,
          4,
          7,
          11,
          9,
          11,
          15,
          13,
          10,
          9,
          5,
          10,
          7,
          5,
          6,
          7,
          6,
          9,
          9,
          6,
          9,
          11,
          10,
          14,
          11,
          7,
          8,
          9,
          10,
          10,
          7,
          5,
          6,
          7,
          5,
          6,
          5,
          9,
          6,
          4,
          4,
          8,
          8,
          7,
          5,
          9,
          9,
          9,
          11,
          13,
          6,
          8,
          9,
          8,
          6,
          6,
          6,
          6,
          13,
          13,
          6,
          7,
          11,
          10,
          5,
          4,
          6,
          5,
          11,
          7,
          11,
          13,
          7,
          9,
          9,
          5,
          7,
          4,
          8,
          5,
          7,
          6,
          4,
          5,
          4,
          5,
          11,
          7,
          4,
          9,
          10,
          12,
          12,
          10,
          8,
          5,
          11,
          17,
          11,
          6,
          7,
          5,
          7,
          10,
          4,
          6,
          7,
          4,
          13,
          9,
          7,
          7,
          5,
          7,
          10,
          12,
          10,
          11,
          14,
          13,
          13,
          11,
          10,
          12,
          9,
          7,
          11,
          11,
          8,
          8,
          10,
          11,
          7,
          7,
          11,
          8,
          6,
          7,
          6,
          12,
          12,
          10,
          9,
          10,
          6,
          10,
          9,
          5,
          10,
          7,
          11,
          7,
          7,
          6,
          4,
          4,
          4,
          7,
          8,
          8,
          6,
          11,
          3,
          11,
          6,
          7,
          6,
          6,
          6,
          12,
          6,
          15,
          8,
          8,
          8,
          11,
          7,
          7,
          8,
          9,
          7,
          7,
          10,
          7,
          6,
          7,
          8,
          7,
          8,
          12,
          10,
          9,
          10,
          8,
          6,
          7,
          10,
          5,
          7,
          8,
          7,
          9,
          10
         ],
         "xaxis": "x2",
         "yaxis": "y2"
        },
        {
         "alignmentgroup": "True",
         "bingroup": "x",
         "hovertemplate": "len_char=%{x}<br>count=%{y}<extra></extra>",
         "legendgroup": "",
         "marker": {
          "color": "rgba(0, 255, 0, 0.6)",
          "pattern": {
           "shape": ""
          }
         },
         "name": "",
         "nbinsx": 50,
         "offsetgroup": "",
         "orientation": "v",
         "showlegend": false,
         "type": "histogram",
         "x": [
          7,
          9,
          5,
          5,
          5,
          9,
          8,
          11,
          7,
          11,
          5,
          10,
          12,
          10,
          7,
          9,
          5,
          2,
          7,
          4,
          11,
          5,
          5,
          3,
          11,
          7,
          9,
          9,
          12,
          11,
          9,
          7,
          9,
          9,
          11,
          11,
          5,
          6,
          9,
          9,
          10,
          4,
          7,
          8,
          4,
          9,
          4,
          5,
          5,
          8,
          4,
          4,
          4,
          10,
          10,
          8,
          8,
          6,
          6,
          8,
          13,
          12,
          5,
          5,
          9,
          7,
          8,
          11,
          12,
          14,
          8,
          7,
          6,
          10,
          11,
          6,
          10,
          13,
          6,
          8,
          8,
          13,
          10,
          10,
          9,
          9,
          11,
          12,
          7,
          11,
          10,
          7,
          14,
          12,
          5,
          7,
          7,
          7,
          7,
          10,
          10,
          12,
          10,
          10,
          5,
          6,
          5,
          7
         ],
         "xaxis": "x3",
         "yaxis": "y3"
        }
       ],
       "layout": {
        "annotations": [
         {
          "font": {
           "size": 16
          },
          "showarrow": false,
          "text": "Text Length - Negative",
          "x": 0.14444444444444446,
          "xanchor": "center",
          "xref": "paper",
          "y": 1,
          "yanchor": "bottom",
          "yref": "paper"
         },
         {
          "font": {
           "size": 16
          },
          "showarrow": false,
          "text": "Text Length - Neutral",
          "x": 0.5,
          "xanchor": "center",
          "xref": "paper",
          "y": 1,
          "yanchor": "bottom",
          "yref": "paper"
         },
         {
          "font": {
           "size": 16
          },
          "showarrow": false,
          "text": "Text Length - Positive",
          "x": 0.8555555555555556,
          "xanchor": "center",
          "xref": "paper",
          "y": 1,
          "yanchor": "bottom",
          "yref": "paper"
         }
        ],
        "height": 400,
        "template": {
         "data": {
          "bar": [
           {
            "error_x": {
             "color": "#2a3f5f"
            },
            "error_y": {
             "color": "#2a3f5f"
            },
            "marker": {
             "line": {
              "color": "#E5ECF6",
              "width": 0.5
             },
             "pattern": {
              "fillmode": "overlay",
              "size": 10,
              "solidity": 0.2
             }
            },
            "type": "bar"
           }
          ],
          "barpolar": [
           {
            "marker": {
             "line": {
              "color": "#E5ECF6",
              "width": 0.5
             },
             "pattern": {
              "fillmode": "overlay",
              "size": 10,
              "solidity": 0.2
             }
            },
            "type": "barpolar"
           }
          ],
          "carpet": [
           {
            "aaxis": {
             "endlinecolor": "#2a3f5f",
             "gridcolor": "white",
             "linecolor": "white",
             "minorgridcolor": "white",
             "startlinecolor": "#2a3f5f"
            },
            "baxis": {
             "endlinecolor": "#2a3f5f",
             "gridcolor": "white",
             "linecolor": "white",
             "minorgridcolor": "white",
             "startlinecolor": "#2a3f5f"
            },
            "type": "carpet"
           }
          ],
          "choropleth": [
           {
            "colorbar": {
             "outlinewidth": 0,
             "ticks": ""
            },
            "type": "choropleth"
           }
          ],
          "contour": [
           {
            "colorbar": {
             "outlinewidth": 0,
             "ticks": ""
            },
            "colorscale": [
             [
              0,
              "#0d0887"
             ],
             [
              0.1111111111111111,
              "#46039f"
             ],
             [
              0.2222222222222222,
              "#7201a8"
             ],
             [
              0.3333333333333333,
              "#9c179e"
             ],
             [
              0.4444444444444444,
              "#bd3786"
             ],
             [
              0.5555555555555556,
              "#d8576b"
             ],
             [
              0.6666666666666666,
              "#ed7953"
             ],
             [
              0.7777777777777778,
              "#fb9f3a"
             ],
             [
              0.8888888888888888,
              "#fdca26"
             ],
             [
              1,
              "#f0f921"
             ]
            ],
            "type": "contour"
           }
          ],
          "contourcarpet": [
           {
            "colorbar": {
             "outlinewidth": 0,
             "ticks": ""
            },
            "type": "contourcarpet"
           }
          ],
          "heatmap": [
           {
            "colorbar": {
             "outlinewidth": 0,
             "ticks": ""
            },
            "colorscale": [
             [
              0,
              "#0d0887"
             ],
             [
              0.1111111111111111,
              "#46039f"
             ],
             [
              0.2222222222222222,
              "#7201a8"
             ],
             [
              0.3333333333333333,
              "#9c179e"
             ],
             [
              0.4444444444444444,
              "#bd3786"
             ],
             [
              0.5555555555555556,
              "#d8576b"
             ],
             [
              0.6666666666666666,
              "#ed7953"
             ],
             [
              0.7777777777777778,
              "#fb9f3a"
             ],
             [
              0.8888888888888888,
              "#fdca26"
             ],
             [
              1,
              "#f0f921"
             ]
            ],
            "type": "heatmap"
           }
          ],
          "heatmapgl": [
           {
            "colorbar": {
             "outlinewidth": 0,
             "ticks": ""
            },
            "colorscale": [
             [
              0,
              "#0d0887"
             ],
             [
              0.1111111111111111,
              "#46039f"
             ],
             [
              0.2222222222222222,
              "#7201a8"
             ],
             [
              0.3333333333333333,
              "#9c179e"
             ],
             [
              0.4444444444444444,
              "#bd3786"
             ],
             [
              0.5555555555555556,
              "#d8576b"
             ],
             [
              0.6666666666666666,
              "#ed7953"
             ],
             [
              0.7777777777777778,
              "#fb9f3a"
             ],
             [
              0.8888888888888888,
              "#fdca26"
             ],
             [
              1,
              "#f0f921"
             ]
            ],
            "type": "heatmapgl"
           }
          ],
          "histogram": [
           {
            "marker": {
             "pattern": {
              "fillmode": "overlay",
              "size": 10,
              "solidity": 0.2
             }
            },
            "type": "histogram"
           }
          ],
          "histogram2d": [
           {
            "colorbar": {
             "outlinewidth": 0,
             "ticks": ""
            },
            "colorscale": [
             [
              0,
              "#0d0887"
             ],
             [
              0.1111111111111111,
              "#46039f"
             ],
             [
              0.2222222222222222,
              "#7201a8"
             ],
             [
              0.3333333333333333,
              "#9c179e"
             ],
             [
              0.4444444444444444,
              "#bd3786"
             ],
             [
              0.5555555555555556,
              "#d8576b"
             ],
             [
              0.6666666666666666,
              "#ed7953"
             ],
             [
              0.7777777777777778,
              "#fb9f3a"
             ],
             [
              0.8888888888888888,
              "#fdca26"
             ],
             [
              1,
              "#f0f921"
             ]
            ],
            "type": "histogram2d"
           }
          ],
          "histogram2dcontour": [
           {
            "colorbar": {
             "outlinewidth": 0,
             "ticks": ""
            },
            "colorscale": [
             [
              0,
              "#0d0887"
             ],
             [
              0.1111111111111111,
              "#46039f"
             ],
             [
              0.2222222222222222,
              "#7201a8"
             ],
             [
              0.3333333333333333,
              "#9c179e"
             ],
             [
              0.4444444444444444,
              "#bd3786"
             ],
             [
              0.5555555555555556,
              "#d8576b"
             ],
             [
              0.6666666666666666,
              "#ed7953"
             ],
             [
              0.7777777777777778,
              "#fb9f3a"
             ],
             [
              0.8888888888888888,
              "#fdca26"
             ],
             [
              1,
              "#f0f921"
             ]
            ],
            "type": "histogram2dcontour"
           }
          ],
          "mesh3d": [
           {
            "colorbar": {
             "outlinewidth": 0,
             "ticks": ""
            },
            "type": "mesh3d"
           }
          ],
          "parcoords": [
           {
            "line": {
             "colorbar": {
              "outlinewidth": 0,
              "ticks": ""
             }
            },
            "type": "parcoords"
           }
          ],
          "pie": [
           {
            "automargin": true,
            "type": "pie"
           }
          ],
          "scatter": [
           {
            "fillpattern": {
             "fillmode": "overlay",
             "size": 10,
             "solidity": 0.2
            },
            "type": "scatter"
           }
          ],
          "scatter3d": [
           {
            "line": {
             "colorbar": {
              "outlinewidth": 0,
              "ticks": ""
             }
            },
            "marker": {
             "colorbar": {
              "outlinewidth": 0,
              "ticks": ""
             }
            },
            "type": "scatter3d"
           }
          ],
          "scattercarpet": [
           {
            "marker": {
             "colorbar": {
              "outlinewidth": 0,
              "ticks": ""
             }
            },
            "type": "scattercarpet"
           }
          ],
          "scattergeo": [
           {
            "marker": {
             "colorbar": {
              "outlinewidth": 0,
              "ticks": ""
             }
            },
            "type": "scattergeo"
           }
          ],
          "scattergl": [
           {
            "marker": {
             "colorbar": {
              "outlinewidth": 0,
              "ticks": ""
             }
            },
            "type": "scattergl"
           }
          ],
          "scattermapbox": [
           {
            "marker": {
             "colorbar": {
              "outlinewidth": 0,
              "ticks": ""
             }
            },
            "type": "scattermapbox"
           }
          ],
          "scatterpolar": [
           {
            "marker": {
             "colorbar": {
              "outlinewidth": 0,
              "ticks": ""
             }
            },
            "type": "scatterpolar"
           }
          ],
          "scatterpolargl": [
           {
            "marker": {
             "colorbar": {
              "outlinewidth": 0,
              "ticks": ""
             }
            },
            "type": "scatterpolargl"
           }
          ],
          "scatterternary": [
           {
            "marker": {
             "colorbar": {
              "outlinewidth": 0,
              "ticks": ""
             }
            },
            "type": "scatterternary"
           }
          ],
          "surface": [
           {
            "colorbar": {
             "outlinewidth": 0,
             "ticks": ""
            },
            "colorscale": [
             [
              0,
              "#0d0887"
             ],
             [
              0.1111111111111111,
              "#46039f"
             ],
             [
              0.2222222222222222,
              "#7201a8"
             ],
             [
              0.3333333333333333,
              "#9c179e"
             ],
             [
              0.4444444444444444,
              "#bd3786"
             ],
             [
              0.5555555555555556,
              "#d8576b"
             ],
             [
              0.6666666666666666,
              "#ed7953"
             ],
             [
              0.7777777777777778,
              "#fb9f3a"
             ],
             [
              0.8888888888888888,
              "#fdca26"
             ],
             [
              1,
              "#f0f921"
             ]
            ],
            "type": "surface"
           }
          ],
          "table": [
           {
            "cells": {
             "fill": {
              "color": "#EBF0F8"
             },
             "line": {
              "color": "white"
             }
            },
            "header": {
             "fill": {
              "color": "#C8D4E3"
             },
             "line": {
              "color": "white"
             }
            },
            "type": "table"
           }
          ]
         },
         "layout": {
          "annotationdefaults": {
           "arrowcolor": "#2a3f5f",
           "arrowhead": 0,
           "arrowwidth": 1
          },
          "autotypenumbers": "strict",
          "coloraxis": {
           "colorbar": {
            "outlinewidth": 0,
            "ticks": ""
           }
          },
          "colorscale": {
           "diverging": [
            [
             0,
             "#8e0152"
            ],
            [
             0.1,
             "#c51b7d"
            ],
            [
             0.2,
             "#de77ae"
            ],
            [
             0.3,
             "#f1b6da"
            ],
            [
             0.4,
             "#fde0ef"
            ],
            [
             0.5,
             "#f7f7f7"
            ],
            [
             0.6,
             "#e6f5d0"
            ],
            [
             0.7,
             "#b8e186"
            ],
            [
             0.8,
             "#7fbc41"
            ],
            [
             0.9,
             "#4d9221"
            ],
            [
             1,
             "#276419"
            ]
           ],
           "sequential": [
            [
             0,
             "#0d0887"
            ],
            [
             0.1111111111111111,
             "#46039f"
            ],
            [
             0.2222222222222222,
             "#7201a8"
            ],
            [
             0.3333333333333333,
             "#9c179e"
            ],
            [
             0.4444444444444444,
             "#bd3786"
            ],
            [
             0.5555555555555556,
             "#d8576b"
            ],
            [
             0.6666666666666666,
             "#ed7953"
            ],
            [
             0.7777777777777778,
             "#fb9f3a"
            ],
            [
             0.8888888888888888,
             "#fdca26"
            ],
            [
             1,
             "#f0f921"
            ]
           ],
           "sequentialminus": [
            [
             0,
             "#0d0887"
            ],
            [
             0.1111111111111111,
             "#46039f"
            ],
            [
             0.2222222222222222,
             "#7201a8"
            ],
            [
             0.3333333333333333,
             "#9c179e"
            ],
            [
             0.4444444444444444,
             "#bd3786"
            ],
            [
             0.5555555555555556,
             "#d8576b"
            ],
            [
             0.6666666666666666,
             "#ed7953"
            ],
            [
             0.7777777777777778,
             "#fb9f3a"
            ],
            [
             0.8888888888888888,
             "#fdca26"
            ],
            [
             1,
             "#f0f921"
            ]
           ]
          },
          "colorway": [
           "#636efa",
           "#EF553B",
           "#00cc96",
           "#ab63fa",
           "#FFA15A",
           "#19d3f3",
           "#FF6692",
           "#B6E880",
           "#FF97FF",
           "#FECB52"
          ],
          "font": {
           "color": "#2a3f5f"
          },
          "geo": {
           "bgcolor": "white",
           "lakecolor": "white",
           "landcolor": "#E5ECF6",
           "showlakes": true,
           "showland": true,
           "subunitcolor": "white"
          },
          "hoverlabel": {
           "align": "left"
          },
          "hovermode": "closest",
          "mapbox": {
           "style": "light"
          },
          "paper_bgcolor": "white",
          "plot_bgcolor": "#E5ECF6",
          "polar": {
           "angularaxis": {
            "gridcolor": "white",
            "linecolor": "white",
            "ticks": ""
           },
           "bgcolor": "#E5ECF6",
           "radialaxis": {
            "gridcolor": "white",
            "linecolor": "white",
            "ticks": ""
           }
          },
          "scene": {
           "xaxis": {
            "backgroundcolor": "#E5ECF6",
            "gridcolor": "white",
            "gridwidth": 2,
            "linecolor": "white",
            "showbackground": true,
            "ticks": "",
            "zerolinecolor": "white"
           },
           "yaxis": {
            "backgroundcolor": "#E5ECF6",
            "gridcolor": "white",
            "gridwidth": 2,
            "linecolor": "white",
            "showbackground": true,
            "ticks": "",
            "zerolinecolor": "white"
           },
           "zaxis": {
            "backgroundcolor": "#E5ECF6",
            "gridcolor": "white",
            "gridwidth": 2,
            "linecolor": "white",
            "showbackground": true,
            "ticks": "",
            "zerolinecolor": "white"
           }
          },
          "shapedefaults": {
           "line": {
            "color": "#2a3f5f"
           }
          },
          "ternary": {
           "aaxis": {
            "gridcolor": "white",
            "linecolor": "white",
            "ticks": ""
           },
           "baxis": {
            "gridcolor": "white",
            "linecolor": "white",
            "ticks": ""
           },
           "bgcolor": "#E5ECF6",
           "caxis": {
            "gridcolor": "white",
            "linecolor": "white",
            "ticks": ""
           }
          },
          "title": {
           "x": 0.05
          },
          "xaxis": {
           "automargin": true,
           "gridcolor": "white",
           "linecolor": "white",
           "ticks": "",
           "title": {
            "standoff": 15
           },
           "zerolinecolor": "white",
           "zerolinewidth": 2
          },
          "yaxis": {
           "automargin": true,
           "gridcolor": "white",
           "linecolor": "white",
           "ticks": "",
           "title": {
            "standoff": 15
           },
           "zerolinecolor": "white",
           "zerolinewidth": 2
          }
         }
        },
        "title": {
         "text": "Distribution of Text Length by Sentiment Class"
        },
        "width": 1200,
        "xaxis": {
         "anchor": "y",
         "domain": [
          0,
          0.2888888888888889
         ]
        },
        "xaxis2": {
         "anchor": "y2",
         "domain": [
          0.35555555555555557,
          0.6444444444444445
         ]
        },
        "xaxis3": {
         "anchor": "y3",
         "domain": [
          0.7111111111111111,
          1
         ]
        },
        "yaxis": {
         "anchor": "x",
         "domain": [
          0,
          1
         ]
        },
        "yaxis2": {
         "anchor": "x2",
         "domain": [
          0,
          1
         ],
         "matches": "y",
         "showticklabels": false
        },
        "yaxis3": {
         "anchor": "x3",
         "domain": [
          0,
          1
         ],
         "matches": "y",
         "showticklabels": false
        }
       }
      }
     },
     "metadata": {},
     "output_type": "display_data"
    }
   ],
   "source": [
    "all_words = all_words_combined_df\n",
    "all_words[\"len_char\"] = all_words[\"word\"].apply(lambda x: len(x))\n",
    "df = all_words\n",
    "\n",
    "color_map = {\n",
    "    'Negative': 'rgba(255, 0, 0, 0.6)',  # Red\n",
    "    'Positive': 'rgba(0, 255, 0, 0.6)',  # Green\n",
    "    'Neutral': 'rgba(0, 0, 255, 0.6)'    # Blue\n",
    "}\n",
    "\n",
    "fig = make_subplots(rows=1, cols=3, subplot_titles=(\"Text Length - Negative\", \"Text Length - Neutral\", \"Text Length - Positive\"), shared_yaxes=True)\n",
    "\n",
    "fig.add_trace(px.histogram(df[df['sentiment'] == 'Negative'], x=\"len_char\", nbins=50, color_discrete_sequence=[color_map['Negative']]).data[0], row=1, col=1)\n",
    "fig.add_trace(px.histogram(df[df['sentiment'] == 'Neutral'], x=\"len_char\", nbins=50, color_discrete_sequence=[color_map['Neutral']]).data[0], row=1, col=2)\n",
    "fig.add_trace(px.histogram(df[df['sentiment'] == 'Positive'], x=\"len_char\", nbins=50, color_discrete_sequence=[color_map['Positive']]).data[0], row=1, col=3)\n",
    "\n",
    "fig.update_layout(height=400, width=1200, title_text=\"Distribution of Text Length by Sentiment Class\")\n",
    "\n",
    "fig.show()"
   ]
  }
 ],
 "metadata": {
  "kernelspec": {
   "display_name": "pytorch310",
   "language": "python",
   "name": "python3"
  },
  "language_info": {
   "codemirror_mode": {
    "name": "ipython",
    "version": 3
   },
   "file_extension": ".py",
   "mimetype": "text/x-python",
   "name": "python",
   "nbconvert_exporter": "python",
   "pygments_lexer": "ipython3",
   "version": "3.10.14"
  }
 },
 "nbformat": 4,
 "nbformat_minor": 2
}
