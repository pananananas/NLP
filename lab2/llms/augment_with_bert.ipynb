{
 "cells": [
  {
   "cell_type": "code",
   "execution_count": 1,
   "metadata": {},
   "outputs": [],
   "source": [
    "from transformers import AutoTokenizer, AutoModelForMaskedLM, pipeline\n",
    "import pandas as pd\n",
    "import numpy as np\n",
    "import random\n",
    "import torch\n",
    "import re"
   ]
  },
  {
   "cell_type": "code",
   "execution_count": 2,
   "metadata": {},
   "outputs": [
    {
     "data": {
      "text/plain": [
       "<torch._C.Generator at 0x16fc40c30>"
      ]
     },
     "execution_count": 2,
     "metadata": {},
     "output_type": "execute_result"
    }
   ],
   "source": [
    "# Configuration\n",
    "model_name = \"allegro/herbert-base-cased\"\n",
    "mask_prob = 0.2  # Probability of masking a token\n",
    "augmentation_factor = 2  # Number of augmented examples per original example\n",
    "random_seed = 42\n",
    "\n",
    "# Set seed for reproducibility\n",
    "random.seed(random_seed)\n",
    "np.random.seed(random_seed)\n",
    "torch.manual_seed(random_seed)"
   ]
  },
  {
   "cell_type": "code",
   "execution_count": 3,
   "metadata": {},
   "outputs": [
    {
     "name": "stderr",
     "output_type": "stream",
     "text": [
      "BertForMaskedLM has generative capabilities, as `prepare_inputs_for_generation` is explicitly overwritten. However, it doesn't directly inherit from `GenerationMixin`. From 👉v4.50👈 onwards, `PreTrainedModel` will NOT inherit from `GenerationMixin`, and this model will lose the ability to call `generate` and other related functions.\n",
      "  - If you're using `trust_remote_code=True`, you can get rid of this warning by loading the model with an auto class. See https://huggingface.co/docs/transformers/en/model_doc/auto#auto-classes\n",
      "  - If you are the owner of the model architecture code, please modify your model class such that it inherits from `GenerationMixin` (after `PreTrainedModel`, otherwise you'll get an exception).\n",
      "  - If you are not the owner of the model architecture class, please contact the model code owner to update it.\n"
     ]
    }
   ],
   "source": [
    "tokenizer = AutoTokenizer.from_pretrained(model_name)\n",
    "mlm_model = AutoModelForMaskedLM.from_pretrained(model_name)\n",
    "\n",
    "mlm_pipeline = pipeline(\"fill-mask\", model=mlm_model, tokenizer=tokenizer, device=0)"
   ]
  },
  {
   "cell_type": "code",
   "execution_count": 4,
   "metadata": {},
   "outputs": [],
   "source": [
    "def augment_text_with_word_mask(text, augmentation_factor=1, mask_prob=0.15):\n",
    "    words = text.split()\n",
    "    augmented_texts = []\n",
    "\n",
    "    for _ in range(augmentation_factor):\n",
    "        masked_words = words[:]\n",
    "        num_words_to_mask = max(1, int(len(words) * mask_prob))\n",
    "        mask_indices = random.sample(range(len(words)), num_words_to_mask)\n",
    "\n",
    "        for idx in mask_indices:\n",
    "            masked_words[idx] = tokenizer.mask_token\n",
    "\n",
    "        masked_text = \" \".join(masked_words)\n",
    "\n",
    "        predictions = mlm_pipeline(masked_text)\n",
    "\n",
    "        # Replace the masks with predictions\n",
    "        for idx, pred in zip(mask_indices, predictions):\n",
    "            try:\n",
    "                if isinstance(pred, list) and len(pred) > 0:\n",
    "                    # Normal case: List of predictions\n",
    "                    masked_words[idx] = pred[0][\"token_str\"]\n",
    "                elif isinstance(pred, dict):\n",
    "                    # Edge case: Single dictionary as output\n",
    "                    masked_words[idx] = pred.get(\"token_str\", tokenizer.mask_token)\n",
    "            except Exception as e:\n",
    "                print(f\"Error with prediction: {e}, Prediction Output: {pred}\")\n",
    "                masked_words[idx] = tokenizer.mask_token  # Fallback\n",
    "\n",
    "        augmented_texts.append(\" \".join(masked_words))\n",
    "\n",
    "    return augmented_texts\n",
    "\n",
    "\n",
    "def augment_dataset(df, text_column=\"text\", label_column=\"label\", augmentation_factor=1, mask_prob=0.15):\n",
    "    augmented_rows = []\n",
    "\n",
    "    for _, row in df.iterrows():\n",
    "        original_text = row[text_column]\n",
    "        label = row[label_column]\n",
    "\n",
    "        augmented_texts = augment_text_with_word_mask(\n",
    "            original_text, augmentation_factor=augmentation_factor, mask_prob=mask_prob\n",
    "        )\n",
    "        augmented_rows.append({text_column: original_text, label_column: label})\n",
    "        for aug_text in augmented_texts:\n",
    "            augmented_rows.append({text_column: aug_text, label_column: label})\n",
    "\n",
    "    augmented_df = pd.DataFrame(augmented_rows)\n",
    "    return augmented_df"
   ]
  },
  {
   "cell_type": "code",
   "execution_count": 5,
   "metadata": {},
   "outputs": [],
   "source": [
    "def remove_spaces_before_punctuation(text):\n",
    "    return re.sub(r'\\s+(?=[.,])', '', text)"
   ]
  },
  {
   "cell_type": "code",
   "execution_count": 6,
   "metadata": {},
   "outputs": [
    {
     "name": "stdout",
     "output_type": "stream",
     "text": [
      "Augmented dataset saved to 'augmented_texts.csv'.\n"
     ]
    }
   ],
   "source": [
    "data_path = \"all_texts.csv\"\n",
    "df = pd.read_csv(data_path)\n",
    "df['text'] = df['text'].apply(remove_spaces_before_punctuation)\n",
    "\n",
    "augmented_df = augment_dataset(df, text_column=\"text\", label_column=\"label\", augmentation_factor=augmentation_factor, mask_prob=mask_prob)\n",
    "\n",
    "augmented_df.to_csv(\"augmented_texts_bert.csv\", index=False)\n",
    "print(\"Augmented dataset saved to 'augmented_texts.csv'.\")"
   ]
  },
  {
   "cell_type": "code",
   "execution_count": 7,
   "metadata": {},
   "outputs": [
    {
     "data": {
      "text/html": [
       "<div>\n",
       "<style scoped>\n",
       "    .dataframe tbody tr th:only-of-type {\n",
       "        vertical-align: middle;\n",
       "    }\n",
       "\n",
       "    .dataframe tbody tr th {\n",
       "        vertical-align: top;\n",
       "    }\n",
       "\n",
       "    .dataframe thead th {\n",
       "        text-align: right;\n",
       "    }\n",
       "</style>\n",
       "<table border=\"1\" class=\"dataframe\">\n",
       "  <thead>\n",
       "    <tr style=\"text-align: right;\">\n",
       "      <th></th>\n",
       "      <th>text</th>\n",
       "      <th>label</th>\n",
       "    </tr>\n",
       "  </thead>\n",
       "  <tbody>\n",
       "    <tr>\n",
       "      <th>0</th>\n",
       "      <td>Lakier roweru bardzo kiepskiej jakości, robią ...</td>\n",
       "      <td>Negative</td>\n",
       "    </tr>\n",
       "    <tr>\n",
       "      <th>1</th>\n",
       "      <td>Lakier roweru bardzo kiedy ŻE robią się odprys...</td>\n",
       "      <td>Negative</td>\n",
       "    </tr>\n",
       "    <tr>\n",
       "      <th>2</th>\n",
       "      <td>od roweru bardzo kiepskiej jakości, robią się ...</td>\n",
       "      <td>Negative</td>\n",
       "    </tr>\n",
       "    <tr>\n",
       "      <th>3</th>\n",
       "      <td>Nie jestem zadowolony z zakupu. Przede wszystk...</td>\n",
       "      <td>Negative</td>\n",
       "    </tr>\n",
       "    <tr>\n",
       "      <th>4</th>\n",
       "      <td>Nie jestem zadowolony z zakupu. mnie wszystkim...</td>\n",
       "      <td>Negative</td>\n",
       "    </tr>\n",
       "    <tr>\n",
       "      <th>...</th>\n",
       "      <td>...</td>\n",
       "      <td>...</td>\n",
       "    </tr>\n",
       "    <tr>\n",
       "      <th>95</th>\n",
       "      <td>Ten router to porażka, gdyż nie jest w , popra...</td>\n",
       "      <td>Negative</td>\n",
       "    </tr>\n",
       "    <tr>\n",
       "      <th>96</th>\n",
       "      <td>Chyba spodziewała m się czegoś więcej, po kosm...</td>\n",
       "      <td>Neutral</td>\n",
       "    </tr>\n",
       "    <tr>\n",
       "      <th>97</th>\n",
       "      <td>Chyba spodziewała m się czegoś więcej, zbędnyc...</td>\n",
       "      <td>Neutral</td>\n",
       "    </tr>\n",
       "    <tr>\n",
       "      <th>98</th>\n",
       "      <td>Chyba spodziewała m ż czegoś więcej, po kosmet...</td>\n",
       "      <td>Neutral</td>\n",
       "    </tr>\n",
       "    <tr>\n",
       "      <th>99</th>\n",
       "      <td>Zanim wybrała m Lumie 640 szukała m opinii, al...</td>\n",
       "      <td>Negative</td>\n",
       "    </tr>\n",
       "  </tbody>\n",
       "</table>\n",
       "<p>100 rows × 2 columns</p>\n",
       "</div>"
      ],
      "text/plain": [
       "                                                 text     label\n",
       "0   Lakier roweru bardzo kiepskiej jakości, robią ...  Negative\n",
       "1   Lakier roweru bardzo kiedy ŻE robią się odprys...  Negative\n",
       "2   od roweru bardzo kiepskiej jakości, robią się ...  Negative\n",
       "3   Nie jestem zadowolony z zakupu. Przede wszystk...  Negative\n",
       "4   Nie jestem zadowolony z zakupu. mnie wszystkim...  Negative\n",
       "..                                                ...       ...\n",
       "95  Ten router to porażka, gdyż nie jest w , popra...  Negative\n",
       "96  Chyba spodziewała m się czegoś więcej, po kosm...   Neutral\n",
       "97  Chyba spodziewała m się czegoś więcej, zbędnyc...   Neutral\n",
       "98  Chyba spodziewała m ż czegoś więcej, po kosmet...   Neutral\n",
       "99  Zanim wybrała m Lumie 640 szukała m opinii, al...  Negative\n",
       "\n",
       "[100 rows x 2 columns]"
      ]
     },
     "execution_count": 7,
     "metadata": {},
     "output_type": "execute_result"
    }
   ],
   "source": [
    "augmented_df.head(100)"
   ]
  }
 ],
 "metadata": {
  "kernelspec": {
   "display_name": "py310",
   "language": "python",
   "name": "python3"
  },
  "language_info": {
   "codemirror_mode": {
    "name": "ipython",
    "version": 3
   },
   "file_extension": ".py",
   "mimetype": "text/x-python",
   "name": "python",
   "nbconvert_exporter": "python",
   "pygments_lexer": "ipython3",
   "version": "3.10.13"
  }
 },
 "nbformat": 4,
 "nbformat_minor": 2
}
