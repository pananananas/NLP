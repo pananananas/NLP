{
 "cells": [
  {
   "cell_type": "code",
   "execution_count": 327,
   "metadata": {},
   "outputs": [],
   "source": [
    "import torch\n",
    "from transformers import AutoTokenizer, AutoModelForCausalLM\n",
    "from datasets import load_dataset, Dataset\n",
    "import pandas as pd\n",
    "from sklearn.linear_model import LogisticRegression\n",
    "from sklearn.metrics import f1_score\n",
    "import pyvene as pv\n",
    "from tqdm.notebook import tqdm\n",
    "import random\n",
    "from collections import namedtuple\n",
    "from copy import deepcopy"
   ]
  },
  {
   "cell_type": "code",
   "execution_count": 328,
   "metadata": {},
   "outputs": [],
   "source": [
    "%config InlineBackend.figure_formats = ['svg']\n",
    "from plotnine import (\n",
    "    ggplot,\n",
    "    geom_tile,\n",
    "    aes,\n",
    "    theme,\n",
    "    element_text,\n",
    "    ggtitle, xlab, ylab\n",
    ")\n",
    "from plotnine.scales import scale_y_discrete, scale_fill_cmap"
   ]
  },
  {
   "cell_type": "code",
   "execution_count": 329,
   "metadata": {},
   "outputs": [
    {
     "name": "stdout",
     "output_type": "stream",
     "text": [
      "cuda\n"
     ]
    }
   ],
   "source": [
    "device = torch.device(\"cuda\" if torch.cuda.is_available() else \"cpu\")\n",
    "print(device)"
   ]
  },
  {
   "cell_type": "markdown",
   "metadata": {},
   "source": [
    "## Data processing"
   ]
  },
  {
   "cell_type": "code",
   "execution_count": 330,
   "metadata": {},
   "outputs": [],
   "source": [
    "animals_ds = load_dataset(\"tasksource/babi_nli\", name='basic-deduction')\n",
    "rooms_ds = load_dataset(\"tasksource/babi_nli\", name='compound-coreference')"
   ]
  },
  {
   "cell_type": "code",
   "execution_count": 331,
   "metadata": {},
   "outputs": [
    {
     "data": {
      "text/plain": [
       "{'premise': 'Sheep are afraid of cats. Mice are afraid of cats. Jessica is a mouse. Winona is a mouse. Wolves are afraid of sheep. Gertrude is a wolf. Emily is a mouse. Cats are afraid of wolves.',\n",
       " 'hypothesis': 'Emily is afraid of cat.',\n",
       " 'label': 1,\n",
       " 'idx': 0}"
      ]
     },
     "execution_count": 331,
     "metadata": {},
     "output_type": "execute_result"
    }
   ],
   "source": [
    "animals_ds['train'][0]"
   ]
  },
  {
   "cell_type": "code",
   "execution_count": 332,
   "metadata": {},
   "outputs": [
    {
     "data": {
      "text/plain": [
       "{'premise': 'John and Daniel went to the office. After that they went back to the kitchen.',\n",
       " 'hypothesis': 'John is in the kitchen.',\n",
       " 'label': 1,\n",
       " 'idx': 0}"
      ]
     },
     "execution_count": 332,
     "metadata": {},
     "output_type": "execute_result"
    }
   ],
   "source": [
    "rooms_ds['train'][0]"
   ]
  },
  {
   "cell_type": "code",
   "execution_count": 333,
   "metadata": {},
   "outputs": [],
   "source": [
    "def prepare_last_as_label(data):\n",
    "    data = deepcopy(data)\n",
    "    for split in ['train', 'validation', 'test']:\n",
    "        # usuwamy przykłady label=1 (entailed) \n",
    "        examples = data[split].filter(lambda x: x['label'] == 0)\n",
    "        \n",
    "        inputs = [ex['premise'] + \" \" + ex['hypothesis'].rsplit(\" \", 1)[0] for ex in examples]\n",
    "        labels = [ex['hypothesis'].rsplit(\" \", 1)[-1].strip('.') for ex in examples]\n",
    "        data[split] = Dataset.from_dict({'input': inputs, 'label': labels})\n",
    "    return data"
   ]
  },
  {
   "cell_type": "code",
   "execution_count": 334,
   "metadata": {},
   "outputs": [],
   "source": [
    "animals = prepare_last_as_label(animals_ds)\n",
    "rooms = prepare_last_as_label(rooms_ds)"
   ]
  },
  {
   "cell_type": "code",
   "execution_count": 335,
   "metadata": {},
   "outputs": [
    {
     "data": {
      "text/plain": [
       "{'input': 'Sheep are afraid of mice. Emily is a sheep. Cats are afraid of mice. Wolves are afraid of cats. Mice are afraid of wolves. Winona is a mouse. Gertrude is a cat. Jessica is a wolf. Emily is afraid of',\n",
       " 'label': 'cat'}"
      ]
     },
     "execution_count": 335,
     "metadata": {},
     "output_type": "execute_result"
    }
   ],
   "source": [
    "animals['train'][0]"
   ]
  },
  {
   "cell_type": "code",
   "execution_count": 336,
   "metadata": {},
   "outputs": [
    {
     "data": {
      "text/plain": [
       "{'input': 'Daniel and Sandra went to the office. Following that they travelled to the hallway. Sandra is in the',\n",
       " 'label': 'office'}"
      ]
     },
     "execution_count": 336,
     "metadata": {},
     "output_type": "execute_result"
    }
   ],
   "source": [
    "rooms['train'][0]"
   ]
  },
  {
   "cell_type": "code",
   "execution_count": 337,
   "metadata": {},
   "outputs": [],
   "source": [
    "def get_label_mapping(labels):\n",
    "    label_mapping = {label: i for i, label in enumerate(set(labels))}\n",
    "    return label_mapping"
   ]
  },
  {
   "cell_type": "code",
   "execution_count": 338,
   "metadata": {},
   "outputs": [
    {
     "data": {
      "text/plain": [
       "dict_keys(['wolf', 'mouse', 'sheep', 'cat'])"
      ]
     },
     "execution_count": 338,
     "metadata": {},
     "output_type": "execute_result"
    }
   ],
   "source": [
    "animals_label_mapping = get_label_mapping(animals['train']['label'])\n",
    "animals_label_mapping.keys()"
   ]
  },
  {
   "cell_type": "code",
   "execution_count": 339,
   "metadata": {},
   "outputs": [
    {
     "data": {
      "text/plain": [
       "dict_keys(['garden', 'bedroom', 'bathroom', 'hallway', 'office', 'kitchen'])"
      ]
     },
     "execution_count": 339,
     "metadata": {},
     "output_type": "execute_result"
    }
   ],
   "source": [
    "rooms_label_mapping = get_label_mapping(rooms['train']['label'])\n",
    "rooms_label_mapping.keys()"
   ]
  },
  {
   "cell_type": "markdown",
   "metadata": {},
   "source": [
    "## Loading model"
   ]
  },
  {
   "cell_type": "code",
   "execution_count": 340,
   "metadata": {},
   "outputs": [],
   "source": [
    "model_name = \"EleutherAI/pythia-70m\"\n",
    "model = AutoModelForCausalLM.from_pretrained(\n",
    "    model_name, \n",
    "    revision=\"main\",\n",
    "    return_dict_in_generate=True,\n",
    "    torch_dtype=torch.float32\n",
    ").to(device)\n",
    "tokenizer = AutoTokenizer.from_pretrained(model_name)\n",
    "tokenizer.pad_token = tokenizer.eos_token"
   ]
  },
  {
   "cell_type": "code",
   "execution_count": 341,
   "metadata": {},
   "outputs": [],
   "source": [
    "# Szukanie określonych pozycji tokenów\n",
    "def get_relevant_positions(text, tokenizer, labels, context_markers, positions_list):\n",
    "    tokens = tokenizer.tokenize(text)\n",
    "    tokens = [token.replace('Ġ', '') for token in tokens]\n",
    "    positions = {key: set() for key in positions_list}\n",
    "\n",
    "    # Add final position (before room prediction)\n",
    "    positions['last'].add(len(tokens) - 1)\n",
    "\n",
    "    # Find positions of label words\n",
    "    for i, token in enumerate(tokens):\n",
    "        # Clean token for comparison\n",
    "        clean_token = token.replace('Ġ', '').lower()\n",
    "        if clean_token in labels:\n",
    "            positions['label'].add(i)\n",
    "            \n",
    "    # Find positions of target name words\n",
    "    target_name = text.split('. ')[-1].split(' ')[0] # Sarah, John, etc.\n",
    "    target_name_tokens = [token.replace('Ġ', '') for token in tokenizer.tokenize(' '+target_name)]\n",
    "    for i in range(len(tokens) - len(target_name_tokens) + 1):\n",
    "        if tokens[i:i+len(target_name_tokens)] == target_name_tokens:\n",
    "            positions['name'].add(i + len(target_name_tokens) - 1)\n",
    "    \n",
    "    # Find positions of key context phrases\n",
    "    text_lower = text.lower()\n",
    "    for marker in context_markers:\n",
    "        if marker in text_lower:\n",
    "            # Find position of marker in tokenized sequence\n",
    "            marker_tokens = [token.replace('Ġ', '') for token in tokenizer.tokenize(' '+marker)]\n",
    "            for i in range(len(tokens) - len(marker_tokens) + 1):\n",
    "                if tokens[i:i+len(marker_tokens)] == marker_tokens:\n",
    "                    positions['context'].add(i + len(marker_tokens) - 1)\n",
    "    \n",
    "    return positions"
   ]
  },
  {
   "cell_type": "code",
   "execution_count": 342,
   "metadata": {},
   "outputs": [],
   "source": [
    "Example = namedtuple(\"Example\", [\"base\", \"src\", \"base_label\", \"src_label\", \"positions\"])\n",
    "\n",
    "def sample_example(sample, tokenizer, labels, context_markers, positions_list):\n",
    "    # get labels\n",
    "    base_label = sample['label']\n",
    "    src_label = random.choice([label for label in labels if label != base_label])\n",
    "    \n",
    "    # get texts\n",
    "    base = sample['input']\n",
    "    src = base.replace(base_label, src_label)\n",
    "    \n",
    "    # make pairs\n",
    "    base = tokenizer(base, return_tensors='pt', padding='max_length', truncation=True, max_length=128)\n",
    "    src = tokenizer(src, return_tensors='pt', padding='max_length', truncation=True, max_length=128)\n",
    "    \n",
    "    base_label = tokenizer.encode(\" \" + base_label)[0]\n",
    "    src_label = tokenizer.encode(\" \" + src_label)[0]\n",
    "    \n",
    "    # get relevant positions\n",
    "    positions = get_relevant_positions(sample['input'], tokenizer, labels, context_markers, positions_list)\n",
    "    \n",
    "    return Example(base, src, base_label, src_label, positions)\n",
    "\n",
    "def generate_doable_examples(data, model, tokenizer, labels, context_markers, positions_list):\n",
    "    examples = []\n",
    "    for sample in tqdm(data):\n",
    "        ex = sample_example(sample, tokenizer, labels, context_markers, positions_list)\n",
    "        for k, v in ex.base.items():\n",
    "            if v is not None and isinstance(v, torch.Tensor):\n",
    "                ex.base[k] = v.to(model.device)\n",
    "        for k, v in ex.src.items():\n",
    "            if v is not None and isinstance(v, torch.Tensor):\n",
    "                ex.src[k] = v.to(model.device)\n",
    "\n",
    "        # Get model predictions\n",
    "        logits_base = model(**ex.base).logits[0, -1]\n",
    "        logits_src = model(**ex.src).logits[0, -1]\n",
    "        \n",
    "        # examples.append(ex)\n",
    "        \n",
    "        # Check if model correctly predicts both labels\n",
    "        if (\n",
    "            logits_base[ex.base_label] > logits_base[ex.src_label]\n",
    "            and logits_src[ex.src_label] > logits_src[ex.base_label]\n",
    "        ):\n",
    "            examples.append(ex)\n",
    "\n",
    "    return examples"
   ]
  },
  {
   "cell_type": "markdown",
   "metadata": {},
   "source": [
    "## Probing"
   ]
  },
  {
   "cell_type": "code",
   "execution_count": 343,
   "metadata": {},
   "outputs": [],
   "source": [
    "def probing_config(intervention_site, layer, max_units):\n",
    "    \"\"\"Generate intervention config for probing.\"\"\"\n",
    "    config = pv.IntervenableConfig([{\n",
    "        \"layer\": layer,\n",
    "        \"component\": intervention_site,\n",
    "        \"max_number_of_units\": max_units,\n",
    "        \"intervention_type\": pv.CollectIntervention,\n",
    "    }])\n",
    "    return config\n"
   ]
  },
  {
   "cell_type": "code",
   "execution_count": 344,
   "metadata": {},
   "outputs": [],
   "source": [
    "def train_eval_probe(model, tokenizer, trainset, evalset, label_mapping, positions_list, max_iterations):\n",
    "    # intervention settings\n",
    "    stats = []\n",
    "    num_layers = model.config.num_hidden_layers\n",
    "    \n",
    "    label_map = {tokenizer.encode(\" \" + k)[0]: v for k,v in label_mapping.items()}\n",
    "\n",
    "    # loop over layers and positions\n",
    "    with torch.no_grad():\n",
    "        for layer in tqdm(range(num_layers)):\n",
    "            for position in positions_list:\n",
    "                # try:\n",
    "                print(f\"layer: {layer}, position: {position}\")\n",
    "\n",
    "                # set up intervenable model\n",
    "                config = probing_config(\"block_output\", layer, max_units=32)\n",
    "                intervenable = pv.IntervenableModel(config, model)\n",
    "                intervenable.set_device(device)\n",
    "                intervenable.disable_model_gradients()\n",
    "\n",
    "                # training loop\n",
    "                activations, labels = [], []\n",
    "                for example in trainset:\n",
    "                    # relevant positions\n",
    "                    pos_idx = list(example.positions[position])\n",
    "                    \n",
    "                    # forward pass\n",
    "                    base_outputs, _ = intervenable(\n",
    "                        example.base,\n",
    "                        unit_locations={\"base\": pos_idx},\n",
    "                    )\n",
    "                    base_activations = base_outputs[1][0]\n",
    "\n",
    "                    src_outputs, _ = intervenable(\n",
    "                        example.src,\n",
    "                        unit_locations={\"base\": pos_idx},\n",
    "                    )\n",
    "                    src_activations = src_outputs[1][0]\n",
    "                    \n",
    "                    # collect activation\n",
    "                    activations.extend(\n",
    "                        [base_activations.detach()[0].cpu().numpy(), src_activations.detach()[0].cpu().numpy()]\n",
    "                    )\n",
    "                    labels.extend([example.base_label, example.src_label])\n",
    "                labels = [label_map[label] for label in labels]\n",
    "                # except:\n",
    "                #     return base_activations\n",
    "                \n",
    "                # train logistic regression\n",
    "                lr = LogisticRegression(random_state=42, max_iter=max_iterations).fit(\n",
    "                    activations, labels\n",
    "                )\n",
    "\n",
    "                # eval\n",
    "                activations, labels = [], []\n",
    "                for example in tqdm(evalset):\n",
    "                    # relevant positions\n",
    "                    pos_idx = list(example.positions[position])\n",
    "                    \n",
    "                    # forward pass\n",
    "                    base_outputs, _ = intervenable(\n",
    "                        example.base,\n",
    "                        unit_locations={\"base\": pos_idx},\n",
    "                    )\n",
    "                    base_activations = base_outputs[1][0]\n",
    "\n",
    "                    src_outputs, _ = intervenable(\n",
    "                        example.src,\n",
    "                        unit_locations={\"base\": pos_idx},\n",
    "                    )\n",
    "                    src_activations = src_outputs[1][0]\n",
    "                    \n",
    "                    # collect activation\n",
    "                    activations.extend(\n",
    "                        [base_activations.detach()[0].cpu().numpy(), src_activations.detach()[0].cpu().numpy()]\n",
    "                    )\n",
    "                    labels.extend([example.base_label, example.src_label])\n",
    "                labels = [label_map[label] for label in labels]\n",
    "\n",
    "                # stats\n",
    "                acc = lr.score(activations, labels)\n",
    "                f1 = f1_score(labels, lr.predict(activations), average=\"macro\")\n",
    "                stats.append({\"layer\": layer, \"position\": position, \"acc\": acc, \"f1\": f1})\n",
    "                print(f\"acc: {acc:.3%}, f1: {f1:.3f}\")\n",
    "    return pd.DataFrame(stats)"
   ]
  },
  {
   "cell_type": "code",
   "execution_count": 345,
   "metadata": {},
   "outputs": [],
   "source": [
    "def plot_results(stats_df, title, positions_list):\n",
    "\n",
    "    df = pd.DataFrame()\n",
    "    df[\"layer\"] = stats_df[\"layer\"].astype(int)\n",
    "    df[\"pos\"] = stats_df[\"position\"].astype(\"category\")\n",
    "    df[\"ACC\"] = stats_df[\"acc\"].astype(float)\n",
    "    df[\"F1\"] = stats_df['f1'].astype(float)\n",
    "\n",
    "    custom_labels = positions_list\n",
    "    df['pos'] = pd.Categorical(df[\"pos\"], categories=custom_labels, ordered=True)\n",
    "\n",
    "    plot = (\n",
    "        ggplot(df, aes(x=\"layer\", y=\"pos\", fill=\"ACC\"))    \n",
    "        + geom_tile()\n",
    "        + scale_fill_cmap(\"Reds\") + xlab(\"layers\")\n",
    "        + scale_y_discrete(labels=custom_labels)\n",
    "        + theme(figure_size=(7, 5)) + ylab(\"\") \n",
    "        + theme(axis_text_y  = element_text(angle = 90, hjust = 1))\n",
    "        + ggtitle(f\"Trained Linear Probe ({title})\")\n",
    "    )\n",
    "    display(plot)\n",
    "\n",
    "    plot = (\n",
    "        ggplot(df, aes(x=\"layer\", y=\"pos\", fill=\"F1\"))    \n",
    "        + geom_tile()\n",
    "        + scale_fill_cmap(\"Purples\") + xlab(\"layers\")\n",
    "        + scale_y_discrete(labels=custom_labels)\n",
    "        + theme(figure_size=(7, 5)) + ylab(\"\") \n",
    "        + theme(axis_text_y  = element_text(angle = 90, hjust = 1))\n",
    "        + ggtitle(f\"Trained Linear Probe ({title})\")\n",
    "    )\n",
    "    display(plot)"
   ]
  },
  {
   "cell_type": "markdown",
   "metadata": {},
   "source": [
    "## Animals: Basic-deducion"
   ]
  },
  {
   "cell_type": "code",
   "execution_count": 346,
   "metadata": {},
   "outputs": [
    {
     "data": {
      "application/vnd.jupyter.widget-view+json": {
       "model_id": "4cbdc5c11f554470ad1103b8d7d78029",
       "version_major": 2,
       "version_minor": 0
      },
      "text/plain": [
       "  0%|          | 0/497 [00:00<?, ?it/s]"
      ]
     },
     "metadata": {},
     "output_type": "display_data"
    },
    {
     "data": {
      "application/vnd.jupyter.widget-view+json": {
       "model_id": "9e05ba45e9c14dd1924fd7ff2b961d33",
       "version_major": 2,
       "version_minor": 0
      },
      "text/plain": [
       "  0%|          | 0/259 [00:00<?, ?it/s]"
      ]
     },
     "metadata": {},
     "output_type": "display_data"
    },
    {
     "data": {
      "application/vnd.jupyter.widget-view+json": {
       "model_id": "1c3b40ee036b447c9530d4e281e9ddb1",
       "version_major": 2,
       "version_minor": 0
      },
      "text/plain": [
       "  0%|          | 0/238 [00:00<?, ?it/s]"
      ]
     },
     "metadata": {},
     "output_type": "display_data"
    }
   ],
   "source": [
    "positions_list = ['last', 'label', 'name', 'context']\n",
    "animals_context_markers = ['is afraid of']\n",
    "animals_trainset = generate_doable_examples(animals['train'], model, tokenizer, animals_label_mapping.keys(), animals_context_markers, positions_list) + generate_doable_examples(animals['validation'], model, tokenizer, animals_label_mapping.keys(), animals_context_markers, positions_list)\n",
    "animals_evalset = generate_doable_examples(animals['test'], model, tokenizer, animals_label_mapping.keys(), animals_context_markers, positions_list)"
   ]
  },
  {
   "cell_type": "code",
   "execution_count": 347,
   "metadata": {},
   "outputs": [
    {
     "data": {
      "application/vnd.jupyter.widget-view+json": {
       "model_id": "9b62bd67c3b2418e9bf6e31b86b7cf92",
       "version_major": 2,
       "version_minor": 0
      },
      "text/plain": [
       "  0%|          | 0/6 [00:00<?, ?it/s]"
      ]
     },
     "metadata": {},
     "output_type": "display_data"
    },
    {
     "name": "stdout",
     "output_type": "stream",
     "text": [
      "layer: 0, position: last\n"
     ]
    },
    {
     "data": {
      "application/vnd.jupyter.widget-view+json": {
       "model_id": "8d9d7920e28543c682b24af20156cc8b",
       "version_major": 2,
       "version_minor": 0
      },
      "text/plain": [
       "  0%|          | 0/6 [00:00<?, ?it/s]"
      ]
     },
     "metadata": {},
     "output_type": "display_data"
    },
    {
     "name": "stdout",
     "output_type": "stream",
     "text": [
      "acc: 66.667%, f1: 0.625\n",
      "layer: 0, position: label\n"
     ]
    },
    {
     "data": {
      "application/vnd.jupyter.widget-view+json": {
       "model_id": "32bc12b9f9b948d08f10b208960baed7",
       "version_major": 2,
       "version_minor": 0
      },
      "text/plain": [
       "  0%|          | 0/6 [00:00<?, ?it/s]"
      ]
     },
     "metadata": {},
     "output_type": "display_data"
    },
    {
     "name": "stdout",
     "output_type": "stream",
     "text": [
      "acc: 66.667%, f1: 0.657\n",
      "layer: 0, position: name\n"
     ]
    },
    {
     "data": {
      "application/vnd.jupyter.widget-view+json": {
       "model_id": "1611013b435147b2ae0b51a198a6f7e4",
       "version_major": 2,
       "version_minor": 0
      },
      "text/plain": [
       "  0%|          | 0/6 [00:00<?, ?it/s]"
      ]
     },
     "metadata": {},
     "output_type": "display_data"
    },
    {
     "name": "stdout",
     "output_type": "stream",
     "text": [
      "acc: 58.333%, f1: 0.580\n",
      "layer: 0, position: context\n"
     ]
    },
    {
     "data": {
      "application/vnd.jupyter.widget-view+json": {
       "model_id": "88655b0951484b18beae4d2eef62e037",
       "version_major": 2,
       "version_minor": 0
      },
      "text/plain": [
       "  0%|          | 0/6 [00:00<?, ?it/s]"
      ]
     },
     "metadata": {},
     "output_type": "display_data"
    },
    {
     "name": "stdout",
     "output_type": "stream",
     "text": [
      "acc: 66.667%, f1: 0.625\n",
      "layer: 1, position: last\n"
     ]
    },
    {
     "data": {
      "application/vnd.jupyter.widget-view+json": {
       "model_id": "df83bb30be13462d9455d8cfdb122c0c",
       "version_major": 2,
       "version_minor": 0
      },
      "text/plain": [
       "  0%|          | 0/6 [00:00<?, ?it/s]"
      ]
     },
     "metadata": {},
     "output_type": "display_data"
    },
    {
     "name": "stdout",
     "output_type": "stream",
     "text": [
      "acc: 66.667%, f1: 0.625\n",
      "layer: 1, position: label\n"
     ]
    },
    {
     "data": {
      "application/vnd.jupyter.widget-view+json": {
       "model_id": "9c04a2a95b914f1ebf0636d192c7f1f7",
       "version_major": 2,
       "version_minor": 0
      },
      "text/plain": [
       "  0%|          | 0/6 [00:00<?, ?it/s]"
      ]
     },
     "metadata": {},
     "output_type": "display_data"
    },
    {
     "name": "stdout",
     "output_type": "stream",
     "text": [
      "acc: 66.667%, f1: 0.657\n",
      "layer: 1, position: name\n"
     ]
    },
    {
     "data": {
      "application/vnd.jupyter.widget-view+json": {
       "model_id": "cbd8ab659e304dd2a89f7bd03c366559",
       "version_major": 2,
       "version_minor": 0
      },
      "text/plain": [
       "  0%|          | 0/6 [00:00<?, ?it/s]"
      ]
     },
     "metadata": {},
     "output_type": "display_data"
    },
    {
     "name": "stdout",
     "output_type": "stream",
     "text": [
      "acc: 58.333%, f1: 0.580\n",
      "layer: 1, position: context\n"
     ]
    },
    {
     "data": {
      "application/vnd.jupyter.widget-view+json": {
       "model_id": "565af4e44a1f49d59cde5669bd663e8f",
       "version_major": 2,
       "version_minor": 0
      },
      "text/plain": [
       "  0%|          | 0/6 [00:00<?, ?it/s]"
      ]
     },
     "metadata": {},
     "output_type": "display_data"
    },
    {
     "name": "stdout",
     "output_type": "stream",
     "text": [
      "acc: 66.667%, f1: 0.625\n",
      "layer: 2, position: last\n"
     ]
    },
    {
     "data": {
      "application/vnd.jupyter.widget-view+json": {
       "model_id": "9586db49977d4a33a6796997feeab4ae",
       "version_major": 2,
       "version_minor": 0
      },
      "text/plain": [
       "  0%|          | 0/6 [00:00<?, ?it/s]"
      ]
     },
     "metadata": {},
     "output_type": "display_data"
    },
    {
     "name": "stdout",
     "output_type": "stream",
     "text": [
      "acc: 58.333%, f1: 0.556\n",
      "layer: 2, position: label\n"
     ]
    },
    {
     "data": {
      "application/vnd.jupyter.widget-view+json": {
       "model_id": "cc204bd88fc947608e1c5ec5cc079750",
       "version_major": 2,
       "version_minor": 0
      },
      "text/plain": [
       "  0%|          | 0/6 [00:00<?, ?it/s]"
      ]
     },
     "metadata": {},
     "output_type": "display_data"
    },
    {
     "name": "stdout",
     "output_type": "stream",
     "text": [
      "acc: 75.000%, f1: 0.748\n",
      "layer: 2, position: name\n"
     ]
    },
    {
     "data": {
      "application/vnd.jupyter.widget-view+json": {
       "model_id": "0c23cd81b6f6417ba719520bc723e35d",
       "version_major": 2,
       "version_minor": 0
      },
      "text/plain": [
       "  0%|          | 0/6 [00:00<?, ?it/s]"
      ]
     },
     "metadata": {},
     "output_type": "display_data"
    },
    {
     "name": "stdout",
     "output_type": "stream",
     "text": [
      "acc: 66.667%, f1: 0.657\n",
      "layer: 2, position: context\n"
     ]
    },
    {
     "data": {
      "application/vnd.jupyter.widget-view+json": {
       "model_id": "338023ba1e804eb4a9673d259706d56a",
       "version_major": 2,
       "version_minor": 0
      },
      "text/plain": [
       "  0%|          | 0/6 [00:00<?, ?it/s]"
      ]
     },
     "metadata": {},
     "output_type": "display_data"
    },
    {
     "name": "stdout",
     "output_type": "stream",
     "text": [
      "acc: 58.333%, f1: 0.556\n",
      "layer: 3, position: last\n"
     ]
    },
    {
     "data": {
      "application/vnd.jupyter.widget-view+json": {
       "model_id": "a72d9740fc3643838d9d27eb1617e9af",
       "version_major": 2,
       "version_minor": 0
      },
      "text/plain": [
       "  0%|          | 0/6 [00:00<?, ?it/s]"
      ]
     },
     "metadata": {},
     "output_type": "display_data"
    },
    {
     "name": "stdout",
     "output_type": "stream",
     "text": [
      "acc: 83.333%, f1: 0.829\n",
      "layer: 3, position: label\n"
     ]
    },
    {
     "data": {
      "application/vnd.jupyter.widget-view+json": {
       "model_id": "dfa701ff6385476daae28bd0bf4d2f08",
       "version_major": 2,
       "version_minor": 0
      },
      "text/plain": [
       "  0%|          | 0/6 [00:00<?, ?it/s]"
      ]
     },
     "metadata": {},
     "output_type": "display_data"
    },
    {
     "name": "stdout",
     "output_type": "stream",
     "text": [
      "acc: 66.667%, f1: 0.657\n",
      "layer: 3, position: name\n"
     ]
    },
    {
     "data": {
      "application/vnd.jupyter.widget-view+json": {
       "model_id": "ed0a8fc00f204baaa22d6ccb4ee51aa1",
       "version_major": 2,
       "version_minor": 0
      },
      "text/plain": [
       "  0%|          | 0/6 [00:00<?, ?it/s]"
      ]
     },
     "metadata": {},
     "output_type": "display_data"
    },
    {
     "name": "stdout",
     "output_type": "stream",
     "text": [
      "acc: 58.333%, f1: 0.556\n",
      "layer: 3, position: context\n"
     ]
    },
    {
     "data": {
      "application/vnd.jupyter.widget-view+json": {
       "model_id": "894747ed337548f38995376fbc07bc4d",
       "version_major": 2,
       "version_minor": 0
      },
      "text/plain": [
       "  0%|          | 0/6 [00:00<?, ?it/s]"
      ]
     },
     "metadata": {},
     "output_type": "display_data"
    },
    {
     "name": "stdout",
     "output_type": "stream",
     "text": [
      "acc: 83.333%, f1: 0.829\n",
      "layer: 4, position: last\n"
     ]
    },
    {
     "data": {
      "application/vnd.jupyter.widget-view+json": {
       "model_id": "ac64b24a36b141b68fe48427957405aa",
       "version_major": 2,
       "version_minor": 0
      },
      "text/plain": [
       "  0%|          | 0/6 [00:00<?, ?it/s]"
      ]
     },
     "metadata": {},
     "output_type": "display_data"
    },
    {
     "name": "stdout",
     "output_type": "stream",
     "text": [
      "acc: 75.000%, f1: 0.733\n",
      "layer: 4, position: label\n"
     ]
    },
    {
     "data": {
      "application/vnd.jupyter.widget-view+json": {
       "model_id": "d6a9c3114e2e4dbdb73fb26defce7a37",
       "version_major": 2,
       "version_minor": 0
      },
      "text/plain": [
       "  0%|          | 0/6 [00:00<?, ?it/s]"
      ]
     },
     "metadata": {},
     "output_type": "display_data"
    },
    {
     "name": "stdout",
     "output_type": "stream",
     "text": [
      "acc: 75.000%, f1: 0.733\n",
      "layer: 4, position: name\n"
     ]
    },
    {
     "data": {
      "application/vnd.jupyter.widget-view+json": {
       "model_id": "5e3384b9c4df4fca9909492b1a0f4299",
       "version_major": 2,
       "version_minor": 0
      },
      "text/plain": [
       "  0%|          | 0/6 [00:00<?, ?it/s]"
      ]
     },
     "metadata": {},
     "output_type": "display_data"
    },
    {
     "name": "stdout",
     "output_type": "stream",
     "text": [
      "acc: 58.333%, f1: 0.556\n",
      "layer: 4, position: context\n"
     ]
    },
    {
     "data": {
      "application/vnd.jupyter.widget-view+json": {
       "model_id": "b76433f5539e4a6a9313c4fc6acc3fcc",
       "version_major": 2,
       "version_minor": 0
      },
      "text/plain": [
       "  0%|          | 0/6 [00:00<?, ?it/s]"
      ]
     },
     "metadata": {},
     "output_type": "display_data"
    },
    {
     "name": "stdout",
     "output_type": "stream",
     "text": [
      "acc: 75.000%, f1: 0.733\n",
      "layer: 5, position: last\n"
     ]
    },
    {
     "data": {
      "application/vnd.jupyter.widget-view+json": {
       "model_id": "2b0d770949e84214b89b065ea19461e3",
       "version_major": 2,
       "version_minor": 0
      },
      "text/plain": [
       "  0%|          | 0/6 [00:00<?, ?it/s]"
      ]
     },
     "metadata": {},
     "output_type": "display_data"
    },
    {
     "name": "stdout",
     "output_type": "stream",
     "text": [
      "acc: 75.000%, f1: 0.733\n",
      "layer: 5, position: label\n"
     ]
    },
    {
     "data": {
      "application/vnd.jupyter.widget-view+json": {
       "model_id": "9084cec2b41a471f9b1d946577a32d02",
       "version_major": 2,
       "version_minor": 0
      },
      "text/plain": [
       "  0%|          | 0/6 [00:00<?, ?it/s]"
      ]
     },
     "metadata": {},
     "output_type": "display_data"
    },
    {
     "name": "stdout",
     "output_type": "stream",
     "text": [
      "acc: 66.667%, f1: 0.625\n",
      "layer: 5, position: name\n"
     ]
    },
    {
     "data": {
      "application/vnd.jupyter.widget-view+json": {
       "model_id": "61e3657245ca4f748b3b4390d0e15e7e",
       "version_major": 2,
       "version_minor": 0
      },
      "text/plain": [
       "  0%|          | 0/6 [00:00<?, ?it/s]"
      ]
     },
     "metadata": {},
     "output_type": "display_data"
    },
    {
     "name": "stdout",
     "output_type": "stream",
     "text": [
      "acc: 66.667%, f1: 0.657\n",
      "layer: 5, position: context\n"
     ]
    },
    {
     "data": {
      "application/vnd.jupyter.widget-view+json": {
       "model_id": "12853ee18ad44a6b8b852f6d43da1e9e",
       "version_major": 2,
       "version_minor": 0
      },
      "text/plain": [
       "  0%|          | 0/6 [00:00<?, ?it/s]"
      ]
     },
     "metadata": {},
     "output_type": "display_data"
    },
    {
     "name": "stdout",
     "output_type": "stream",
     "text": [
      "acc: 75.000%, f1: 0.733\n"
     ]
    }
   ],
   "source": [
    "animals_stats = train_eval_probe(model, tokenizer, animals_trainset, animals_evalset, animals_label_mapping, positions_list, max_iterations=1000)"
   ]
  },
  {
   "cell_type": "code",
   "execution_count": 348,
   "metadata": {},
   "outputs": [
    {
     "data": {
      "image/png": "[encoded data removed]"
     },
     "metadata": {
      "image/png": {
       "height": 500,
       "width": 700
      }
     },
     "output_type": "display_data"
    },
    {
     "data": {
      "image/png": "[encoded data removed]"
     },
     "metadata": {
      "image/png": {
       "height": 500,
       "width": 700
      }
     },
     "output_type": "display_data"
    }
   ],
   "source": [
    "plot_results(animals_stats, \"Animals\", positions_list)"
   ]
  },
  {
   "cell_type": "markdown",
   "metadata": {},
   "source": [
    "## Rooms: compound-coreference"
   ]
  },
  {
   "cell_type": "code",
   "execution_count": 349,
   "metadata": {},
   "outputs": [
    {
     "data": {
      "application/vnd.jupyter.widget-view+json": {
       "model_id": "8b28c3e978654fcea0d98709a995528e",
       "version_major": 2,
       "version_minor": 0
      },
      "text/plain": [
       "  0%|          | 0/497 [00:00<?, ?it/s]"
      ]
     },
     "metadata": {},
     "output_type": "display_data"
    },
    {
     "data": {
      "application/vnd.jupyter.widget-view+json": {
       "model_id": "39d060c327c5400dbdbeeb0b75b2ffc7",
       "version_major": 2,
       "version_minor": 0
      },
      "text/plain": [
       "  0%|          | 0/228 [00:00<?, ?it/s]"
      ]
     },
     "metadata": {},
     "output_type": "display_data"
    },
    {
     "data": {
      "application/vnd.jupyter.widget-view+json": {
       "model_id": "3cbab20914cc426da5defe95e8198d23",
       "version_major": 2,
       "version_minor": 0
      },
      "text/plain": [
       "  0%|          | 0/269 [00:00<?, ?it/s]"
      ]
     },
     "metadata": {},
     "output_type": "display_data"
    }
   ],
   "source": [
    "positions_list = ['last', 'label', 'name', 'context']\n",
    "rooms_context_markers = ['is in', 'moved to', 'went to', 'travelled to', 'journeyed to', 'went back to']\n",
    "rooms_trainset = generate_doable_examples(rooms['train'], model, tokenizer, rooms_label_mapping.keys(), rooms_context_markers, positions_list) + generate_doable_examples(rooms['validation'], model, tokenizer, rooms_label_mapping.keys(), rooms_context_markers, positions_list)\n",
    "rooms_evalset = generate_doable_examples(rooms['test'], model, tokenizer, rooms_label_mapping.keys(), rooms_context_markers, positions_list)"
   ]
  },
  {
   "cell_type": "code",
   "execution_count": 350,
   "metadata": {},
   "outputs": [
    {
     "data": {
      "application/vnd.jupyter.widget-view+json": {
       "model_id": "08f84959596c4c04ba18f12ebee45298",
       "version_major": 2,
       "version_minor": 0
      },
      "text/plain": [
       "  0%|          | 0/6 [00:00<?, ?it/s]"
      ]
     },
     "metadata": {},
     "output_type": "display_data"
    },
    {
     "name": "stdout",
     "output_type": "stream",
     "text": [
      "layer: 0, position: last\n"
     ]
    },
    {
     "data": {
      "application/vnd.jupyter.widget-view+json": {
       "model_id": "6892c82c586c44d8a0a6a7ec87f99f67",
       "version_major": 2,
       "version_minor": 0
      },
      "text/plain": [
       "  0%|          | 0/20 [00:00<?, ?it/s]"
      ]
     },
     "metadata": {},
     "output_type": "display_data"
    },
    {
     "name": "stdout",
     "output_type": "stream",
     "text": [
      "acc: 50.000%, f1: 0.248\n",
      "layer: 0, position: label\n"
     ]
    },
    {
     "data": {
      "application/vnd.jupyter.widget-view+json": {
       "model_id": "c57a913cd5304bc7bd3be6b001f68160",
       "version_major": 2,
       "version_minor": 0
      },
      "text/plain": [
       "  0%|          | 0/20 [00:00<?, ?it/s]"
      ]
     },
     "metadata": {},
     "output_type": "display_data"
    },
    {
     "name": "stdout",
     "output_type": "stream",
     "text": [
      "acc: 70.000%, f1: 0.426\n",
      "layer: 0, position: name\n"
     ]
    },
    {
     "data": {
      "application/vnd.jupyter.widget-view+json": {
       "model_id": "63fb742c2b2f4b36a372efe646989dbf",
       "version_major": 2,
       "version_minor": 0
      },
      "text/plain": [
       "  0%|          | 0/20 [00:00<?, ?it/s]"
      ]
     },
     "metadata": {},
     "output_type": "display_data"
    },
    {
     "name": "stdout",
     "output_type": "stream",
     "text": [
      "acc: 37.500%, f1: 0.204\n",
      "layer: 0, position: context\n"
     ]
    },
    {
     "data": {
      "application/vnd.jupyter.widget-view+json": {
       "model_id": "575aac31e6ab4506bef00a26ebd0f208",
       "version_major": 2,
       "version_minor": 0
      },
      "text/plain": [
       "  0%|          | 0/20 [00:00<?, ?it/s]"
      ]
     },
     "metadata": {},
     "output_type": "display_data"
    },
    {
     "name": "stdout",
     "output_type": "stream",
     "text": [
      "acc: 57.500%, f1: 0.283\n",
      "layer: 1, position: last\n"
     ]
    },
    {
     "data": {
      "application/vnd.jupyter.widget-view+json": {
       "model_id": "220c11e400fb46d782ce4338d95ad8b0",
       "version_major": 2,
       "version_minor": 0
      },
      "text/plain": [
       "  0%|          | 0/20 [00:00<?, ?it/s]"
      ]
     },
     "metadata": {},
     "output_type": "display_data"
    },
    {
     "name": "stdout",
     "output_type": "stream",
     "text": [
      "acc: 47.500%, f1: 0.239\n",
      "layer: 1, position: label\n"
     ]
    },
    {
     "data": {
      "application/vnd.jupyter.widget-view+json": {
       "model_id": "eeb9582800954c46a7bbdd67c5eea4b3",
       "version_major": 2,
       "version_minor": 0
      },
      "text/plain": [
       "  0%|          | 0/20 [00:00<?, ?it/s]"
      ]
     },
     "metadata": {},
     "output_type": "display_data"
    },
    {
     "name": "stdout",
     "output_type": "stream",
     "text": [
      "acc: 67.500%, f1: 0.424\n",
      "layer: 1, position: name\n"
     ]
    },
    {
     "data": {
      "application/vnd.jupyter.widget-view+json": {
       "model_id": "6d54cfa6e62f4ae59c0388300b453a62",
       "version_major": 2,
       "version_minor": 0
      },
      "text/plain": [
       "  0%|          | 0/20 [00:00<?, ?it/s]"
      ]
     },
     "metadata": {},
     "output_type": "display_data"
    },
    {
     "name": "stdout",
     "output_type": "stream",
     "text": [
      "acc: 47.500%, f1: 0.257\n",
      "layer: 1, position: context\n"
     ]
    },
    {
     "data": {
      "application/vnd.jupyter.widget-view+json": {
       "model_id": "7610e956838240a3b9d7ed88640ced82",
       "version_major": 2,
       "version_minor": 0
      },
      "text/plain": [
       "  0%|          | 0/20 [00:00<?, ?it/s]"
      ]
     },
     "metadata": {},
     "output_type": "display_data"
    },
    {
     "name": "stdout",
     "output_type": "stream",
     "text": [
      "acc: 57.500%, f1: 0.322\n",
      "layer: 2, position: last\n"
     ]
    },
    {
     "data": {
      "application/vnd.jupyter.widget-view+json": {
       "model_id": "f1072f046e8047aa94f3d8fc69213829",
       "version_major": 2,
       "version_minor": 0
      },
      "text/plain": [
       "  0%|          | 0/20 [00:00<?, ?it/s]"
      ]
     },
     "metadata": {},
     "output_type": "display_data"
    },
    {
     "name": "stdout",
     "output_type": "stream",
     "text": [
      "acc: 62.500%, f1: 0.350\n",
      "layer: 2, position: label\n"
     ]
    },
    {
     "data": {
      "application/vnd.jupyter.widget-view+json": {
       "model_id": "40da8791c3d348d6948724693727450e",
       "version_major": 2,
       "version_minor": 0
      },
      "text/plain": [
       "  0%|          | 0/20 [00:00<?, ?it/s]"
      ]
     },
     "metadata": {},
     "output_type": "display_data"
    },
    {
     "name": "stdout",
     "output_type": "stream",
     "text": [
      "acc: 67.500%, f1: 0.420\n",
      "layer: 2, position: name\n"
     ]
    },
    {
     "data": {
      "application/vnd.jupyter.widget-view+json": {
       "model_id": "995e580ddd44488d9398ab5df1b3cc8b",
       "version_major": 2,
       "version_minor": 0
      },
      "text/plain": [
       "  0%|          | 0/20 [00:00<?, ?it/s]"
      ]
     },
     "metadata": {},
     "output_type": "display_data"
    },
    {
     "name": "stdout",
     "output_type": "stream",
     "text": [
      "acc: 47.500%, f1: 0.268\n",
      "layer: 2, position: context\n"
     ]
    },
    {
     "data": {
      "application/vnd.jupyter.widget-view+json": {
       "model_id": "7666453ffc3c4a7da261b28d5e76e85d",
       "version_major": 2,
       "version_minor": 0
      },
      "text/plain": [
       "  0%|          | 0/20 [00:00<?, ?it/s]"
      ]
     },
     "metadata": {},
     "output_type": "display_data"
    },
    {
     "name": "stdout",
     "output_type": "stream",
     "text": [
      "acc: 62.500%, f1: 0.370\n",
      "layer: 3, position: last\n"
     ]
    },
    {
     "data": {
      "application/vnd.jupyter.widget-view+json": {
       "model_id": "080ced5f63044d9c8be45960cf05d6b4",
       "version_major": 2,
       "version_minor": 0
      },
      "text/plain": [
       "  0%|          | 0/20 [00:00<?, ?it/s]"
      ]
     },
     "metadata": {},
     "output_type": "display_data"
    },
    {
     "name": "stdout",
     "output_type": "stream",
     "text": [
      "acc: 72.500%, f1: 0.452\n",
      "layer: 3, position: label\n"
     ]
    },
    {
     "data": {
      "application/vnd.jupyter.widget-view+json": {
       "model_id": "d8681aa15a964637aa50b9b382a286df",
       "version_major": 2,
       "version_minor": 0
      },
      "text/plain": [
       "  0%|          | 0/20 [00:00<?, ?it/s]"
      ]
     },
     "metadata": {},
     "output_type": "display_data"
    },
    {
     "name": "stdout",
     "output_type": "stream",
     "text": [
      "acc: 72.500%, f1: 0.645\n",
      "layer: 3, position: name\n"
     ]
    },
    {
     "data": {
      "application/vnd.jupyter.widget-view+json": {
       "model_id": "fb94dbdc6fe344ea9fda66dab41aed13",
       "version_major": 2,
       "version_minor": 0
      },
      "text/plain": [
       "  0%|          | 0/20 [00:00<?, ?it/s]"
      ]
     },
     "metadata": {},
     "output_type": "display_data"
    },
    {
     "name": "stdout",
     "output_type": "stream",
     "text": [
      "acc: 45.000%, f1: 0.244\n",
      "layer: 3, position: context\n"
     ]
    },
    {
     "data": {
      "application/vnd.jupyter.widget-view+json": {
       "model_id": "93cfddd5e3df4381b677f645803220a5",
       "version_major": 2,
       "version_minor": 0
      },
      "text/plain": [
       "  0%|          | 0/20 [00:00<?, ?it/s]"
      ]
     },
     "metadata": {},
     "output_type": "display_data"
    },
    {
     "name": "stdout",
     "output_type": "stream",
     "text": [
      "acc: 60.000%, f1: 0.367\n",
      "layer: 4, position: last\n"
     ]
    },
    {
     "data": {
      "application/vnd.jupyter.widget-view+json": {
       "model_id": "e646a66515d54ce19472920ceab58120",
       "version_major": 2,
       "version_minor": 0
      },
      "text/plain": [
       "  0%|          | 0/20 [00:00<?, ?it/s]"
      ]
     },
     "metadata": {},
     "output_type": "display_data"
    },
    {
     "name": "stdout",
     "output_type": "stream",
     "text": [
      "acc: 72.500%, f1: 0.440\n",
      "layer: 4, position: label\n"
     ]
    },
    {
     "data": {
      "application/vnd.jupyter.widget-view+json": {
       "model_id": "6f8849f73ae741ae8cfc1706eac2b12e",
       "version_major": 2,
       "version_minor": 0
      },
      "text/plain": [
       "  0%|          | 0/20 [00:00<?, ?it/s]"
      ]
     },
     "metadata": {},
     "output_type": "display_data"
    },
    {
     "name": "stdout",
     "output_type": "stream",
     "text": [
      "acc: 72.500%, f1: 0.466\n",
      "layer: 4, position: name\n"
     ]
    },
    {
     "data": {
      "application/vnd.jupyter.widget-view+json": {
       "model_id": "af0d6d48566f42189686ff135ea9b850",
       "version_major": 2,
       "version_minor": 0
      },
      "text/plain": [
       "  0%|          | 0/20 [00:00<?, ?it/s]"
      ]
     },
     "metadata": {},
     "output_type": "display_data"
    },
    {
     "name": "stdout",
     "output_type": "stream",
     "text": [
      "acc: 50.000%, f1: 0.262\n",
      "layer: 4, position: context\n"
     ]
    },
    {
     "data": {
      "application/vnd.jupyter.widget-view+json": {
       "model_id": "012151aec1104a4aa28f08739fc11074",
       "version_major": 2,
       "version_minor": 0
      },
      "text/plain": [
       "  0%|          | 0/20 [00:00<?, ?it/s]"
      ]
     },
     "metadata": {},
     "output_type": "display_data"
    },
    {
     "name": "stdout",
     "output_type": "stream",
     "text": [
      "acc: 65.000%, f1: 0.400\n",
      "layer: 5, position: last\n"
     ]
    },
    {
     "data": {
      "application/vnd.jupyter.widget-view+json": {
       "model_id": "96750f3a6a9b44f388bcdc81e807e6ae",
       "version_major": 2,
       "version_minor": 0
      },
      "text/plain": [
       "  0%|          | 0/20 [00:00<?, ?it/s]"
      ]
     },
     "metadata": {},
     "output_type": "display_data"
    },
    {
     "name": "stdout",
     "output_type": "stream",
     "text": [
      "acc: 72.500%, f1: 0.446\n",
      "layer: 5, position: label\n"
     ]
    },
    {
     "data": {
      "application/vnd.jupyter.widget-view+json": {
       "model_id": "4c884f66914543e08c6a32818fd737b3",
       "version_major": 2,
       "version_minor": 0
      },
      "text/plain": [
       "  0%|          | 0/20 [00:00<?, ?it/s]"
      ]
     },
     "metadata": {},
     "output_type": "display_data"
    },
    {
     "name": "stdout",
     "output_type": "stream",
     "text": [
      "acc: 75.000%, f1: 0.474\n",
      "layer: 5, position: name\n"
     ]
    },
    {
     "data": {
      "application/vnd.jupyter.widget-view+json": {
       "model_id": "72729b24c48f47519848c0839f655707",
       "version_major": 2,
       "version_minor": 0
      },
      "text/plain": [
       "  0%|          | 0/20 [00:00<?, ?it/s]"
      ]
     },
     "metadata": {},
     "output_type": "display_data"
    },
    {
     "name": "stdout",
     "output_type": "stream",
     "text": [
      "acc: 50.000%, f1: 0.254\n",
      "layer: 5, position: context\n"
     ]
    },
    {
     "data": {
      "application/vnd.jupyter.widget-view+json": {
       "model_id": "d10f7e8d713b41fa9f8deeafacb53596",
       "version_major": 2,
       "version_minor": 0
      },
      "text/plain": [
       "  0%|          | 0/20 [00:00<?, ?it/s]"
      ]
     },
     "metadata": {},
     "output_type": "display_data"
    },
    {
     "name": "stdout",
     "output_type": "stream",
     "text": [
      "acc: 67.500%, f1: 0.410\n"
     ]
    }
   ],
   "source": [
    "rooms_stats = train_eval_probe(model, tokenizer, rooms_trainset, rooms_evalset, rooms_label_mapping, positions_list, max_iterations=5000)"
   ]
  },
  {
   "cell_type": "code",
   "execution_count": 351,
   "metadata": {},
   "outputs": [
    {
     "data": {
      "image/png": "[encoded data removed]"
     },
     "metadata": {
      "image/png": {
       "height": 500,
       "width": 700
      }
     },
     "output_type": "display_data"
    },
    {
     "data": {
      "image/png": "[encoded data removed]"
     },
     "metadata": {
      "image/png": {
       "height": 500,
       "width": 700
      }
     },
     "output_type": "display_data"
    }
   ],
   "source": [
    "plot_results(rooms_stats, \"Rooms\", positions_list)"
   ]
  }
 ],
 "metadata": {
  "kernelspec": {
   "display_name": "Python 3",
   "language": "python",
   "name": "python3"
  },
  "language_info": {
   "codemirror_mode": {
    "name": "ipython",
    "version": 3
   },
   "file_extension": ".py",
   "mimetype": "text/x-python",
   "name": "python",
   "nbconvert_exporter": "python",
   "pygments_lexer": "ipython3",
   "version": "3.10.8"
  }
 },
 "nbformat": 4,
 "nbformat_minor": 2
}
