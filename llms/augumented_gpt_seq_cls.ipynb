{
 "cells": [
  {
   "cell_type": "code",
   "execution_count": 1,
   "metadata": {},
   "outputs": [],
   "source": [
    "from transformers import AutoTokenizer, AutoModelForSequenceClassification, DataCollatorWithPadding, Trainer, TrainingArguments, pipeline\n",
    "from peft import PeftModel, PeftConfig, LoraConfig, TaskType, get_peft_model\n",
    "from sklearn.metrics import confusion_matrix, classification_report\n",
    "from sklearn.model_selection import train_test_split\n",
    "from datasets import Dataset, DatasetDict\n",
    "from torch.utils.data import DataLoader\n",
    "from sklearn.decomposition import PCA\n",
    "from sklearn.manifold import TSNE\n",
    "from tqdm import tqdm\n",
    "import torch.nn.functional as F\n",
    "import matplotlib.pyplot as plt\n",
    "import plotly.express as px\n",
    "import seaborn as sns\n",
    "import pandas as pd\n",
    "import numpy as np\n",
    "import torch\n",
    "import os"
   ]
  },
  {
   "cell_type": "code",
   "execution_count": 2,
   "metadata": {},
   "outputs": [],
   "source": [
    "model_name = \"sdadas/polish-gpt2-small\"\n",
    "device = \"mps\""
   ]
  },
  {
   "cell_type": "code",
   "execution_count": 3,
   "metadata": {},
   "outputs": [
    {
     "name": "stdout",
     "output_type": "stream",
     "text": [
      "First few entries:\n"
     ]
    },
    {
     "data": {
      "text/html": [
       "<div>\n",
       "<style scoped>\n",
       "    .dataframe tbody tr th:only-of-type {\n",
       "        vertical-align: middle;\n",
       "    }\n",
       "\n",
       "    .dataframe tbody tr th {\n",
       "        vertical-align: top;\n",
       "    }\n",
       "\n",
       "    .dataframe thead th {\n",
       "        text-align: right;\n",
       "    }\n",
       "</style>\n",
       "<table border=\"1\" class=\"dataframe\">\n",
       "  <thead>\n",
       "    <tr style=\"text-align: right;\">\n",
       "      <th></th>\n",
       "      <th>text</th>\n",
       "      <th>label</th>\n",
       "    </tr>\n",
       "  </thead>\n",
       "  <tbody>\n",
       "    <tr>\n",
       "      <th>0</th>\n",
       "      <td>Lakier roweru bardzo kiepskiej jakości, robią ...</td>\n",
       "      <td>Negative</td>\n",
       "    </tr>\n",
       "    <tr>\n",
       "      <th>1</th>\n",
       "      <td>Lakier roweru bardzo kiepskiej jakości, robią ...</td>\n",
       "      <td>Negative</td>\n",
       "    </tr>\n",
       "    <tr>\n",
       "      <th>2</th>\n",
       "      <td>Lakier roweru bardzo kiepskiej jakości, robią ...</td>\n",
       "      <td>Negative</td>\n",
       "    </tr>\n",
       "    <tr>\n",
       "      <th>3</th>\n",
       "      <td>Nie jestem zadowolony z zakupu. Przede wszystk...</td>\n",
       "      <td>Negative</td>\n",
       "    </tr>\n",
       "    <tr>\n",
       "      <th>4</th>\n",
       "      <td>Nie jestem zadowolony z zakupu. Przede wszystk...</td>\n",
       "      <td>Negative</td>\n",
       "    </tr>\n",
       "  </tbody>\n",
       "</table>\n",
       "</div>"
      ],
      "text/plain": [
       "                                                text     label\n",
       "0  Lakier roweru bardzo kiepskiej jakości, robią ...  Negative\n",
       "1  Lakier roweru bardzo kiepskiej jakości, robią ...  Negative\n",
       "2  Lakier roweru bardzo kiepskiej jakości, robią ...  Negative\n",
       "3  Nie jestem zadowolony z zakupu. Przede wszystk...  Negative\n",
       "4  Nie jestem zadowolony z zakupu. Przede wszystk...  Negative"
      ]
     },
     "execution_count": 3,
     "metadata": {},
     "output_type": "execute_result"
    }
   ],
   "source": [
    "data_path = \"augmented_texts_gpt2.csv\"\n",
    "df = pd.read_csv(data_path)\n",
    "\n",
    "print(\"First few entries:\")\n",
    "df.head()"
   ]
  },
  {
   "cell_type": "code",
   "execution_count": 4,
   "metadata": {},
   "outputs": [
    {
     "name": "stdout",
     "output_type": "stream",
     "text": [
      "\n",
      "Class Counts:\n",
      "label\n",
      "Neutral     450\n",
      "Positive    249\n",
      "Negative    201\n",
      "Name: count, dtype: int64\n",
      "\n",
      "Minimum class count: 201\n"
     ]
    }
   ],
   "source": [
    "class_counts = df['label'].value_counts()\n",
    "print(\"\\nClass Counts:\")\n",
    "print(class_counts)\n",
    "\n",
    "min_count = class_counts.min()\n",
    "print(f\"\\nMinimum class count: {min_count}\")"
   ]
  },
  {
   "cell_type": "code",
   "execution_count": 5,
   "metadata": {},
   "outputs": [
    {
     "name": "stdout",
     "output_type": "stream",
     "text": [
      "\n",
      "Balanced Label Distribution:\n",
      "label\n",
      "Negative    33.333333\n",
      "Neutral     33.333333\n",
      "Positive    33.333333\n",
      "Name: proportion, dtype: float64\n"
     ]
    },
    {
     "name": "stderr",
     "output_type": "stream",
     "text": [
      "/var/folders/ld/46j6jly10md36dbxgn_h72br0000gn/T/ipykernel_92948/1788761823.py:3: DeprecationWarning: DataFrameGroupBy.apply operated on the grouping columns. This behavior is deprecated, and in a future version of pandas the grouping columns will be excluded from the operation. Either pass `include_groups=False` to exclude the groupings or explicitly select the grouping columns after groupby to silence this warning.\n",
      "  df_balanced = df.groupby('label').apply(lambda x: x.sample(n=min_count, random_state=random_seed)).reset_index(drop=True)\n"
     ]
    }
   ],
   "source": [
    "random_seed = 42\n",
    "\n",
    "df_balanced = df.groupby('label').apply(lambda x: x.sample(n=min_count, random_state=random_seed)).reset_index(drop=True)\n",
    "\n",
    "print(\"\\nBalanced Label Distribution:\")\n",
    "print(df_balanced['label'].value_counts(normalize=True) * 100)"
   ]
  },
  {
   "cell_type": "code",
   "execution_count": 6,
   "metadata": {},
   "outputs": [
    {
     "data": {
      "text/plain": [
       "DatasetDict({\n",
       "    train: Dataset({\n",
       "        features: ['text', 'label', '__index_level_0__'],\n",
       "        num_rows: 482\n",
       "    })\n",
       "    test: Dataset({\n",
       "        features: ['text', 'label', '__index_level_0__'],\n",
       "        num_rows: 121\n",
       "    })\n",
       "})"
      ]
     },
     "execution_count": 6,
     "metadata": {},
     "output_type": "execute_result"
    }
   ],
   "source": [
    "train_df, test_df = train_test_split(\n",
    "    df_balanced, \n",
    "    test_size=0.2, \n",
    "    random_state=42, \n",
    "    # stratify=df['label']\n",
    ")\n",
    "\n",
    "train_dataset = Dataset.from_pandas(train_df)\n",
    "test_dataset = Dataset.from_pandas(test_df)\n",
    "\n",
    "dataset = DatasetDict({\n",
    "    \"train\": train_dataset,\n",
    "    \"test\": test_dataset\n",
    "})\n",
    "dataset"
   ]
  },
  {
   "cell_type": "code",
   "execution_count": 7,
   "metadata": {},
   "outputs": [
    {
     "name": "stdout",
     "output_type": "stream",
     "text": [
      "Unique Labels: ['Negative', 'Neutral', 'Positive']\n",
      "Number of Labels: 3\n",
      "Training Set Label Distribution:\n",
      "label\n",
      "Positive    33.817427\n",
      "Neutral     33.609959\n",
      "Negative    32.572614\n",
      "Name: proportion, dtype: float64\n",
      "\n",
      "Test Set Label Distribution:\n",
      "label\n",
      "Negative    36.363636\n",
      "Neutral     32.231405\n",
      "Positive    31.404959\n",
      "Name: proportion, dtype: float64\n"
     ]
    }
   ],
   "source": [
    "print(\"Unique Labels:\", sorted(df['label'].unique()))\n",
    "print(\"Number of Labels:\", len(sorted(df['label'].unique())))\n",
    "\n",
    "print(\"Training Set Label Distribution:\")\n",
    "print(train_df['label'].value_counts(normalize=True) * 100)\n",
    "\n",
    "print(\"\\nTest Set Label Distribution:\")\n",
    "print(test_df['label'].value_counts(normalize=True) * 100)      # 41.46341463414634"
   ]
  },
  {
   "cell_type": "code",
   "execution_count": 8,
   "metadata": {},
   "outputs": [
    {
     "name": "stdout",
     "output_type": "stream",
     "text": [
      "INPUT: Witam Długo się namyślał em przed zakupem przyzwoitego pistoletu i zdecydował em się na STEINELA 3002. Porażka na całej lini pierwsza próba pracy zagrzewa, podał klej i przestał działać. Wysyłka na serwis. Po wymianie systemu grzejnego pistolet puszczał klej bokami, kapał z podajnika i po pięciu minutach ponownie przestał działać. Wysyłka na serwis. Jak do tej pory mam go od dwóch miesięcy a popracował 5 minut. Wydaje mi się że pistolet za 100 powinien wytrzymać dłużej. Koszty dostawy na serwis i odbiór zbliżają się do ceny zakupu. Nie polecam tego produktu. Zapomniał em serwis sam był zaskoczony jakością tworzyw i brakiem jakiś plomb ( prawdopodobnie zmieniono wykonawcę produktu na producenta z Rumuni ) Steinel to już nie te same narzędzia co kiedyś. Proponuję poważnie się zastanowić przed zakupem. Pozdrawiam \n",
      "OUTPUT: Negative\n",
      "\n",
      "INPUT: Human do odbębnienia, na zajęciach można było grać w karty, wormsy, a może i nawet w pokera. W sobotę była też szansa na zobaczenie tego samego spektaklu w Teatrze Horzycy. Tam też w ramach obchodów 70. \n",
      "OUTPUT: Positive\n",
      "\n",
      "INPUT: Fizyka laborki POLECAM ! ! ! [ / b ] Tadeusz bardzo wporzadku facet, początkowo wydawał się groźny, zapowiedział na pierwszych zajęciach kartkówke, ale zdołał przestraszyć tylko samego siebie chyba : P Kartkówki sa specyficzne, część grupy je ma, część która bardzo marudzi nie ma. \n",
      "OUTPUT: Positive\n",
      "\n"
     ]
    }
   ],
   "source": [
    "for entry in dataset['train'].select(range(3)):\n",
    "    print('INPUT: {} \\nOUTPUT: {}\\n'.format(entry['text'], entry['label']))"
   ]
  },
  {
   "cell_type": "code",
   "execution_count": 9,
   "metadata": {},
   "outputs": [
    {
     "data": {
      "text/html": [
       "<div>\n",
       "<style scoped>\n",
       "    .dataframe tbody tr th:only-of-type {\n",
       "        vertical-align: middle;\n",
       "    }\n",
       "\n",
       "    .dataframe tbody tr th {\n",
       "        vertical-align: top;\n",
       "    }\n",
       "\n",
       "    .dataframe thead th {\n",
       "        text-align: right;\n",
       "    }\n",
       "</style>\n",
       "<table border=\"1\" class=\"dataframe\">\n",
       "  <thead>\n",
       "    <tr style=\"text-align: right;\">\n",
       "      <th></th>\n",
       "      <th>Diagnosis</th>\n",
       "      <th>train_set</th>\n",
       "      <th>test_set</th>\n",
       "    </tr>\n",
       "  </thead>\n",
       "  <tbody>\n",
       "    <tr>\n",
       "      <th>0</th>\n",
       "      <td>Negative</td>\n",
       "      <td>157</td>\n",
       "      <td>44</td>\n",
       "    </tr>\n",
       "    <tr>\n",
       "      <th>1</th>\n",
       "      <td>Neutral</td>\n",
       "      <td>162</td>\n",
       "      <td>39</td>\n",
       "    </tr>\n",
       "    <tr>\n",
       "      <th>2</th>\n",
       "      <td>Positive</td>\n",
       "      <td>163</td>\n",
       "      <td>38</td>\n",
       "    </tr>\n",
       "  </tbody>\n",
       "</table>\n",
       "</div>"
      ],
      "text/plain": [
       "  Diagnosis  train_set  test_set\n",
       "0  Negative        157        44\n",
       "1   Neutral        162        39\n",
       "2  Positive        163        38"
      ]
     },
     "metadata": {},
     "output_type": "display_data"
    }
   ],
   "source": [
    "train_counts = pd.DataFrame({'Diagnosis': train_df['label']})\n",
    "train_counts = train_counts.groupby('Diagnosis').size().reset_index(name='train_set')\n",
    "\n",
    "test_counts = pd.DataFrame({'Diagnosis': test_df['label']})\n",
    "test_counts = test_counts.groupby('Diagnosis').size().reset_index(name='test_set')\n",
    "\n",
    "display(train_counts.merge(test_counts, on='Diagnosis'))"
   ]
  },
  {
   "cell_type": "code",
   "execution_count": 10,
   "metadata": {},
   "outputs": [
    {
     "name": "stdout",
     "output_type": "stream",
     "text": [
      "Label to ID mapping: {'Negative': 0, 'Neutral': 1, 'Positive': 2}\n",
      "ID to Label mapping: {0: 'Negative', 1: 'Neutral', 2: 'Positive'}\n"
     ]
    }
   ],
   "source": [
    "sorted_labels = sorted(set(df['label']))\n",
    "label2id = {label: idx for idx, label in enumerate(sorted_labels)}\n",
    "id2label = {idx: label for label, idx in label2id.items()}\n",
    "\n",
    "print(\"Label to ID mapping:\", label2id)\n",
    "print(\"ID to Label mapping:\", id2label)"
   ]
  },
  {
   "cell_type": "code",
   "execution_count": 11,
   "metadata": {},
   "outputs": [
    {
     "name": "stderr",
     "output_type": "stream",
     "text": [
      "Some weights of GPT2ForSequenceClassification were not initialized from the model checkpoint at sdadas/polish-gpt2-small and are newly initialized: ['score.weight']\n",
      "You should probably TRAIN this model on a down-stream task to be able to use it for predictions and inference.\n"
     ]
    }
   ],
   "source": [
    "\n",
    "tokenizer = AutoTokenizer.from_pretrained(model_name)\n",
    "\n",
    "foundation_model = AutoModelForSequenceClassification.from_pretrained(\n",
    "    model_name,\n",
    "    num_labels=len(label2id),\n",
    "    label2id=label2id,\n",
    "    id2label=id2label\n",
    ")\n",
    "\n",
    "classifier = pipeline(\"text-classification\", model=foundation_model, tokenizer=tokenizer, device=device)"
   ]
  },
  {
   "cell_type": "code",
   "execution_count": 12,
   "metadata": {},
   "outputs": [
    {
     "name": "stderr",
     "output_type": "stream",
     "text": [
      "Asking to truncate to max_length but no maximum length is provided and the model has no predefined maximum length. Default to no truncation.\n"
     ]
    },
    {
     "name": "stdout",
     "output_type": "stream",
     "text": [
      "Evaluating foundation model before fine-tuning...\n",
      "Foundation Model Accuracy: 32.23%\n"
     ]
    }
   ],
   "source": [
    "print(\"Evaluating foundation model before fine-tuning...\")\n",
    "\n",
    "# Assign padding token if not already assigned\n",
    "if tokenizer.pad_token is None:\n",
    "    tokenizer.pad_token = tokenizer.eos_token\n",
    "\n",
    "# Ensure model recognizes pad_token_id\n",
    "foundation_model.config.pad_token_id = tokenizer.pad_token_id\n",
    "\n",
    "test_encodings = tokenizer(\n",
    "    test_df['text'].tolist(), \n",
    "    padding=True, \n",
    "    truncation=True, \n",
    "    return_tensors=\"pt\"\n",
    ")\n",
    "\n",
    "foundation_model.to(device)\n",
    "test_encodings = {k: v.to(device) for k, v in test_encodings.items()}\n",
    "\n",
    "with torch.no_grad():\n",
    "    outputs = foundation_model(**test_encodings)\n",
    "    logits = outputs.logits\n",
    "    predictions = torch.argmax(logits, dim=-1).cpu().numpy()\n",
    "\n",
    "# Calculate accuracy\n",
    "test_labels = test_df['label'].map(label2id).values\n",
    "foundation_accuracy = round(np.mean(predictions == test_labels) * 100, 2)\n",
    "print(f\"Foundation Model Accuracy: {foundation_accuracy}%\")"
   ]
  },
  {
   "cell_type": "code",
   "execution_count": 13,
   "metadata": {},
   "outputs": [
    {
     "name": "stdout",
     "output_type": "stream",
     "text": [
      "Number of Labels in Model: 3\n"
     ]
    }
   ],
   "source": [
    "print(\"Number of Labels in Model:\", foundation_model.config.num_labels)"
   ]
  },
  {
   "cell_type": "code",
   "execution_count": 14,
   "metadata": {},
   "outputs": [
    {
     "name": "stderr",
     "output_type": "stream",
     "text": [
      "/opt/miniconda3/envs/py310/lib/python3.10/site-packages/peft/tuners/lora/layer.py:1150: UserWarning: fan_in_fan_out is set to False but the target module is `Conv1D`. Setting fan_in_fan_out to True.\n",
      "  warnings.warn(\n"
     ]
    },
    {
     "data": {
      "text/plain": [
       "PeftModelForSequenceClassification(\n",
       "  (base_model): LoraModel(\n",
       "    (model): GPT2ForSequenceClassification(\n",
       "      (transformer): GPT2Model(\n",
       "        (wte): Embedding(51200, 768)\n",
       "        (wpe): Embedding(2048, 768)\n",
       "        (drop): Dropout(p=0.1, inplace=False)\n",
       "        (h): ModuleList(\n",
       "          (0-11): 12 x GPT2Block(\n",
       "            (ln_1): LayerNorm((768,), eps=1e-05, elementwise_affine=True)\n",
       "            (attn): GPT2SdpaAttention(\n",
       "              (c_attn): lora.Linear(\n",
       "                (base_layer): Conv1D(nf=2304, nx=768)\n",
       "                (lora_dropout): ModuleDict(\n",
       "                  (default): Dropout(p=0.1, inplace=False)\n",
       "                )\n",
       "                (lora_A): ModuleDict(\n",
       "                  (default): Linear(in_features=768, out_features=16, bias=False)\n",
       "                )\n",
       "                (lora_B): ModuleDict(\n",
       "                  (default): Linear(in_features=16, out_features=2304, bias=False)\n",
       "                )\n",
       "                (lora_embedding_A): ParameterDict()\n",
       "                (lora_embedding_B): ParameterDict()\n",
       "                (lora_magnitude_vector): ModuleDict()\n",
       "              )\n",
       "              (c_proj): Conv1D(nf=768, nx=768)\n",
       "              (attn_dropout): Dropout(p=0.1, inplace=False)\n",
       "              (resid_dropout): Dropout(p=0.1, inplace=False)\n",
       "            )\n",
       "            (ln_2): LayerNorm((768,), eps=1e-05, elementwise_affine=True)\n",
       "            (mlp): GPT2MLP(\n",
       "              (c_fc): Conv1D(nf=3072, nx=768)\n",
       "              (c_proj): Conv1D(nf=768, nx=3072)\n",
       "              (act): FastGELUActivation()\n",
       "              (dropout): Dropout(p=0.1, inplace=False)\n",
       "            )\n",
       "          )\n",
       "        )\n",
       "        (ln_f): LayerNorm((768,), eps=1e-05, elementwise_affine=True)\n",
       "      )\n",
       "      (score): ModulesToSaveWrapper(\n",
       "        (original_module): Linear(in_features=768, out_features=3, bias=False)\n",
       "        (modules_to_save): ModuleDict(\n",
       "          (default): Linear(in_features=768, out_features=3, bias=False)\n",
       "        )\n",
       "      )\n",
       "    )\n",
       "  )\n",
       ")"
      ]
     },
     "execution_count": 14,
     "metadata": {},
     "output_type": "execute_result"
    }
   ],
   "source": [
    "lora_config = LoraConfig(\n",
    "    task_type=TaskType.SEQ_CLS, \n",
    "    r=16, \n",
    "    lora_alpha=1, \n",
    "    lora_dropout=0.1\n",
    ")\n",
    "\n",
    "peft_model = get_peft_model(foundation_model, lora_config)\n",
    "peft_model"
   ]
  },
  {
   "cell_type": "code",
   "execution_count": 15,
   "metadata": {},
   "outputs": [
    {
     "name": "stdout",
     "output_type": "stream",
     "text": [
      "trainable params: 592,128 || all params: 126,544,896 || trainable%: 0.4679\n"
     ]
    }
   ],
   "source": [
    "peft_model.print_trainable_parameters()"
   ]
  },
  {
   "cell_type": "code",
   "execution_count": 16,
   "metadata": {},
   "outputs": [
    {
     "name": "stderr",
     "output_type": "stream",
     "text": [
      "huggingface/tokenizers: The current process just got forked, after parallelism has already been used. Disabling parallelism to avoid deadlocks...\n",
      "To disable this warning, you can either:\n",
      "\t- Avoid using `tokenizers` before the fork if possible\n",
      "\t- Explicitly set the environment variable TOKENIZERS_PARALLELISM=(true | false)\n"
     ]
    },
    {
     "data": {
      "application/vnd.jupyter.widget-view+json": {
       "model_id": "3b6787f6468740f3b23e92226e7ac05d",
       "version_major": 2,
       "version_minor": 0
      },
      "text/plain": [
       "Map:   0%|          | 0/482 [00:00<?, ? examples/s]"
      ]
     },
     "metadata": {},
     "output_type": "display_data"
    },
    {
     "name": "stderr",
     "output_type": "stream",
     "text": [
      "Asking to pad to max_length but no maximum length is provided and the model has no predefined maximum length. Default to no padding.\n"
     ]
    },
    {
     "data": {
      "application/vnd.jupyter.widget-view+json": {
       "model_id": "451a76941d354b51a678c72ff3b773ac",
       "version_major": 2,
       "version_minor": 0
      },
      "text/plain": [
       "Map:   0%|          | 0/121 [00:00<?, ? examples/s]"
      ]
     },
     "metadata": {},
     "output_type": "display_data"
    },
    {
     "name": "stdout",
     "output_type": "stream",
     "text": [
      "DatasetDict({\n",
      "    train: Dataset({\n",
      "        features: ['text', '__index_level_0__', 'input_ids', 'attention_mask', 'labels'],\n",
      "        num_rows: 482\n",
      "    })\n",
      "    test: Dataset({\n",
      "        features: ['text', '__index_level_0__', 'input_ids', 'attention_mask', 'labels'],\n",
      "        num_rows: 121\n",
      "    })\n",
      "})\n"
     ]
    }
   ],
   "source": [
    "def preprocess_function(examples):\n",
    "    \"\"\"Preprocess the dataset by returning tokenized examples.\"\"\"\n",
    "    tokens = tokenizer(examples[\"text\"], padding=\"max_length\", truncation=True)\n",
    "    tokens['labels'] = [label2id[l] for l in examples[\"label\"]]\n",
    "    return tokens\n",
    "\n",
    "tokenized_ds = dataset.map(preprocess_function, batched=True, remove_columns=[\"label\"])\n",
    "\n",
    "print(tokenized_ds)"
   ]
  },
  {
   "cell_type": "code",
   "execution_count": 17,
   "metadata": {},
   "outputs": [
    {
     "name": "stdout",
     "output_type": "stream",
     "text": [
      "A tokenized training input example:\n",
      "Witam Długo się namyślał em przed zakupem przyzwoitego pistoletu i zdecydował em się na STEINELA 3002. Porażka na całej lini pierwsza próba pracy zagrzewa, podał klej i przestał działać. Wysyłka na serwis. Po wymianie systemu grzejnego pistolet puszczał klej bokami, kapał z podajnika i po pięciu minutach ponownie przestał działać. Wysyłka na serwis. Jak do tej pory mam go od dwóch miesięcy a popracował 5 minut. Wydaje mi się że pistolet za 100 powinien wytrzymać dłużej. Koszty dostawy na serwis i odbiór zbliżają się do ceny zakupu. Nie polecam tego produktu. Zapomniał em serwis sam był zaskoczony jakością tworzyw i brakiem jakiś plomb ( prawdopodobnie zmieniono wykonawcę produktu na producenta z Rumuni ) Steinel to już nie te same narzędzia co kiedyś. Proponuję poważnie się zastanowić przed zakupem. Pozdrawiam\n",
      "[16462, 26214, 309, 293, 43971, 1601, 534, 38829, 17815, 1632, 23755, 292, 10412, 1601, 309, 293, 12134, 41, 45, 7092, 7398, 6812, 22, 18, 836, 2010, 318, 293, 3060, 17884, 5877, 12117, 1158, 42197, 332, 16, 8821, 14630, 292, 10441, 6962, 18, 1330, 566, 6447, 293, 14432, 18, 836, 28375, 3577, 44182, 450, 12130, 869, 13087, 14630, 514, 1188, 16, 567, 4500, 268, 39139, 754, 292, 291, 5802, 11552, 3780, 10441, 6962, 18, 1330, 566, 6447, 293, 14432, 18, 2221, 306, 725, 3402, 1011, 461, 357, 1816, 3507, 330, 291, 2355, 580, 933, 3102, 18, 23445, 385, 309, 337, 12130, 313, 2341, 2665, 20447, 5066, 18, 930, 5754, 21573, 293, 14432, 292, 27782, 47832, 309, 306, 5489, 12459, 18, 747, 7988, 520, 9797, 18, 35308, 1836, 1601, 14432, 509, 630, 12891, 33419, 8067, 91, 292, 16140, 1683, 263, 2131, 70, 463, 4888, 33775, 7551, 1195, 9797, 293, 14971, 268, 13742, 277, 8112, 3998, 5731, 80, 339, 555, 304, 348, 3904, 12962, 446, 2632, 18, 1762, 8409, 6155, 309, 11889, 534, 38829, 18, 836, 19820]\n",
      "\n",
      "\n",
      "A tokenized training label example:\n",
      "0\n"
     ]
    }
   ],
   "source": [
    "print(\"A tokenized training input example:\")\n",
    "# text\n",
    "print(tokenized_ds[\"train\"][0][\"text\"])\n",
    "# tokens\n",
    "print(tokenized_ds[\"train\"][0][\"input_ids\"])\n",
    "print(\"\\n\")\n",
    "print(\"A tokenized training label example:\")\n",
    "print(tokenized_ds[\"train\"][0][\"labels\"])"
   ]
  },
  {
   "cell_type": "code",
   "execution_count": 18,
   "metadata": {},
   "outputs": [
    {
     "name": "stderr",
     "output_type": "stream",
     "text": [
      "/opt/miniconda3/envs/py310/lib/python3.10/site-packages/transformers/training_args.py:1545: FutureWarning: `evaluation_strategy` is deprecated and will be removed in version 4.46 of 🤗 Transformers. Use `eval_strategy` instead\n",
      "  warnings.warn(\n"
     ]
    }
   ],
   "source": [
    "def compute_metrics(eval_pred):\n",
    "    predictions, labels = eval_pred\n",
    "    predictions = np.argmax(predictions, axis=1)\n",
    "    accuracy = (predictions == labels).mean() * 100\n",
    "    return {\"accuracy\": accuracy}\n",
    "\n",
    "trainer = Trainer(\n",
    "    model=peft_model,\n",
    "    args=TrainingArguments(\n",
    "        output_dir=\"gpt-lora\",\n",
    "        learning_rate=2e-5,\n",
    "        per_device_train_batch_size=8,\n",
    "        per_device_eval_batch_size=8,\n",
    "        num_train_epochs=10,\n",
    "        weight_decay=0.01,\n",
    "        evaluation_strategy=\"epoch\",\n",
    "        save_strategy=\"epoch\",\n",
    "        load_best_model_at_end=True,\n",
    "        metric_for_best_model=\"accuracy\",\n",
    "    ),\n",
    "    train_dataset=tokenized_ds[\"train\"],\n",
    "    eval_dataset=tokenized_ds[\"test\"],\n",
    "    tokenizer=tokenizer,\n",
    "    data_collator=DataCollatorWithPadding(tokenizer=tokenizer),\n",
    "    compute_metrics=compute_metrics,\n",
    ")"
   ]
  },
  {
   "cell_type": "code",
   "execution_count": 19,
   "metadata": {},
   "outputs": [
    {
     "name": "stderr",
     "output_type": "stream",
     "text": [
      "huggingface/tokenizers: The current process just got forked, after parallelism has already been used. Disabling parallelism to avoid deadlocks...\n",
      "To disable this warning, you can either:\n",
      "\t- Avoid using `tokenizers` before the fork if possible\n",
      "\t- Explicitly set the environment variable TOKENIZERS_PARALLELISM=(true | false)\n",
      "huggingface/tokenizers: The current process just got forked, after parallelism has already been used. Disabling parallelism to avoid deadlocks...\n",
      "To disable this warning, you can either:\n",
      "\t- Avoid using `tokenizers` before the fork if possible\n",
      "\t- Explicitly set the environment variable TOKENIZERS_PARALLELISM=(true | false)\n",
      "huggingface/tokenizers: The current process just got forked, after parallelism has already been used. Disabling parallelism to avoid deadlocks...\n",
      "To disable this warning, you can either:\n",
      "\t- Avoid using `tokenizers` before the fork if possible\n",
      "\t- Explicitly set the environment variable TOKENIZERS_PARALLELISM=(true | false)\n"
     ]
    },
    {
     "data": {
      "application/vnd.jupyter.widget-view+json": {
       "model_id": "e42202dcb6e640648c514efbd6984a91",
       "version_major": 2,
       "version_minor": 0
      },
      "text/plain": [
       "  0%|          | 0/610 [00:00<?, ?it/s]"
      ]
     },
     "metadata": {},
     "output_type": "display_data"
    },
    {
     "data": {
      "application/vnd.jupyter.widget-view+json": {
       "model_id": "3248d8e0a49448fd8ca4670b6b722238",
       "version_major": 2,
       "version_minor": 0
      },
      "text/plain": [
       "  0%|          | 0/16 [00:00<?, ?it/s]"
      ]
     },
     "metadata": {},
     "output_type": "display_data"
    },
    {
     "name": "stdout",
     "output_type": "stream",
     "text": [
      "{'eval_loss': 1.1933130025863647, 'eval_accuracy': 33.057851239669425, 'eval_runtime': 5.2913, 'eval_samples_per_second': 22.868, 'eval_steps_per_second': 3.024, 'epoch': 1.0}\n"
     ]
    },
    {
     "data": {
      "application/vnd.jupyter.widget-view+json": {
       "model_id": "9291d241803d4752853dee134a5aa55f",
       "version_major": 2,
       "version_minor": 0
      },
      "text/plain": [
       "  0%|          | 0/16 [00:00<?, ?it/s]"
      ]
     },
     "metadata": {},
     "output_type": "display_data"
    },
    {
     "name": "stdout",
     "output_type": "stream",
     "text": [
      "{'eval_loss': 1.1633869409561157, 'eval_accuracy': 36.36363636363637, 'eval_runtime': 5.4856, 'eval_samples_per_second': 22.058, 'eval_steps_per_second': 2.917, 'epoch': 2.0}\n"
     ]
    },
    {
     "data": {
      "application/vnd.jupyter.widget-view+json": {
       "model_id": "76bd98d4ee6a4c6c918e4c19008ab3f5",
       "version_major": 2,
       "version_minor": 0
      },
      "text/plain": [
       "  0%|          | 0/16 [00:00<?, ?it/s]"
      ]
     },
     "metadata": {},
     "output_type": "display_data"
    },
    {
     "name": "stdout",
     "output_type": "stream",
     "text": [
      "{'eval_loss': 1.1459300518035889, 'eval_accuracy': 37.1900826446281, 'eval_runtime': 3.1814, 'eval_samples_per_second': 38.033, 'eval_steps_per_second': 5.029, 'epoch': 3.0}\n"
     ]
    },
    {
     "data": {
      "application/vnd.jupyter.widget-view+json": {
       "model_id": "224a84d0b56e49b1b03904953fa4aaf3",
       "version_major": 2,
       "version_minor": 0
      },
      "text/plain": [
       "  0%|          | 0/16 [00:00<?, ?it/s]"
      ]
     },
     "metadata": {},
     "output_type": "display_data"
    },
    {
     "name": "stdout",
     "output_type": "stream",
     "text": [
      "{'eval_loss': 1.1343810558319092, 'eval_accuracy': 38.84297520661157, 'eval_runtime': 2.6653, 'eval_samples_per_second': 45.398, 'eval_steps_per_second': 6.003, 'epoch': 4.0}\n"
     ]
    },
    {
     "data": {
      "application/vnd.jupyter.widget-view+json": {
       "model_id": "76b8d1fe8cf84b299897965f74cef86e",
       "version_major": 2,
       "version_minor": 0
      },
      "text/plain": [
       "  0%|          | 0/16 [00:00<?, ?it/s]"
      ]
     },
     "metadata": {},
     "output_type": "display_data"
    },
    {
     "name": "stdout",
     "output_type": "stream",
     "text": [
      "{'eval_loss': 1.1251986026763916, 'eval_accuracy': 42.14876033057851, 'eval_runtime': 3.7865, 'eval_samples_per_second': 31.955, 'eval_steps_per_second': 4.225, 'epoch': 5.0}\n"
     ]
    },
    {
     "data": {
      "application/vnd.jupyter.widget-view+json": {
       "model_id": "8479a3b7b4d745f9a52bdee3a580bc83",
       "version_major": 2,
       "version_minor": 0
      },
      "text/plain": [
       "  0%|          | 0/16 [00:00<?, ?it/s]"
      ]
     },
     "metadata": {},
     "output_type": "display_data"
    },
    {
     "name": "stdout",
     "output_type": "stream",
     "text": [
      "{'eval_loss': 1.118575096130371, 'eval_accuracy': 43.80165289256198, 'eval_runtime': 2.351, 'eval_samples_per_second': 51.468, 'eval_steps_per_second': 6.806, 'epoch': 6.0}\n"
     ]
    },
    {
     "data": {
      "application/vnd.jupyter.widget-view+json": {
       "model_id": "6442ac51cee84e2ea1a16c8b3a3995f1",
       "version_major": 2,
       "version_minor": 0
      },
      "text/plain": [
       "  0%|          | 0/16 [00:00<?, ?it/s]"
      ]
     },
     "metadata": {},
     "output_type": "display_data"
    },
    {
     "name": "stdout",
     "output_type": "stream",
     "text": [
      "{'eval_loss': 1.1123815774917603, 'eval_accuracy': 44.62809917355372, 'eval_runtime': 2.9354, 'eval_samples_per_second': 41.22, 'eval_steps_per_second': 5.451, 'epoch': 7.0}\n"
     ]
    },
    {
     "data": {
      "application/vnd.jupyter.widget-view+json": {
       "model_id": "8a651760858b4e509d7719a80b908e8b",
       "version_major": 2,
       "version_minor": 0
      },
      "text/plain": [
       "  0%|          | 0/16 [00:00<?, ?it/s]"
      ]
     },
     "metadata": {},
     "output_type": "display_data"
    },
    {
     "name": "stdout",
     "output_type": "stream",
     "text": [
      "{'eval_loss': 1.1085572242736816, 'eval_accuracy': 43.80165289256198, 'eval_runtime': 4.3768, 'eval_samples_per_second': 27.646, 'eval_steps_per_second': 3.656, 'epoch': 8.0}\n",
      "{'loss': 1.13, 'grad_norm': 10.574540138244629, 'learning_rate': 3.6065573770491806e-06, 'epoch': 8.2}\n"
     ]
    },
    {
     "data": {
      "application/vnd.jupyter.widget-view+json": {
       "model_id": "746d33913e3d46979b47afc2552a801e",
       "version_major": 2,
       "version_minor": 0
      },
      "text/plain": [
       "  0%|          | 0/16 [00:00<?, ?it/s]"
      ]
     },
     "metadata": {},
     "output_type": "display_data"
    },
    {
     "name": "stdout",
     "output_type": "stream",
     "text": [
      "{'eval_loss': 1.1066497564315796, 'eval_accuracy': 43.80165289256198, 'eval_runtime': 3.4978, 'eval_samples_per_second': 34.593, 'eval_steps_per_second': 4.574, 'epoch': 9.0}\n"
     ]
    },
    {
     "data": {
      "application/vnd.jupyter.widget-view+json": {
       "model_id": "2c3a1c0bd470469ca745a50754c82506",
       "version_major": 2,
       "version_minor": 0
      },
      "text/plain": [
       "  0%|          | 0/16 [00:00<?, ?it/s]"
      ]
     },
     "metadata": {},
     "output_type": "display_data"
    },
    {
     "name": "stdout",
     "output_type": "stream",
     "text": [
      "{'eval_loss': 1.105981707572937, 'eval_accuracy': 43.80165289256198, 'eval_runtime': 2.9343, 'eval_samples_per_second': 41.236, 'eval_steps_per_second': 5.453, 'epoch': 10.0}\n",
      "{'train_runtime': 656.8619, 'train_samples_per_second': 7.338, 'train_steps_per_second': 0.929, 'train_loss': 1.1199778197241612, 'epoch': 10.0}\n"
     ]
    },
    {
     "data": {
      "text/plain": [
       "TrainOutput(global_step=610, training_loss=1.1199778197241612, metrics={'train_runtime': 656.8619, 'train_samples_per_second': 7.338, 'train_steps_per_second': 0.929, 'total_flos': 352326478049280.0, 'train_loss': 1.1199778197241612, 'epoch': 10.0})"
      ]
     },
     "execution_count": 19,
     "metadata": {},
     "output_type": "execute_result"
    }
   ],
   "source": [
    "trainer.train()"
   ]
  },
  {
   "cell_type": "code",
   "execution_count": 20,
   "metadata": {},
   "outputs": [
    {
     "name": "stdout",
     "output_type": "stream",
     "text": [
      "File Name: adapter_model.safetensors; File Size: 2316.09KB\n",
      "File Name: README.md; File Size: 4.98KB\n",
      "File Name: adapter_config.json; File Size: 0.65KB\n"
     ]
    }
   ],
   "source": [
    "peft_gpt_model_path = \"fine-tuned-peft-gpt2-model-weights/\"\n",
    "peft_model.save_pretrained(peft_gpt_model_path)\n",
    "\n",
    "for file_name in os.listdir(peft_gpt_model_path):\n",
    "    file_size = os.path.getsize(os.path.join(peft_gpt_model_path, file_name))\n",
    "    print(f\"File Name: {file_name}; File Size: {file_size / 1024:.2f}KB\")"
   ]
  },
  {
   "cell_type": "code",
   "execution_count": 21,
   "metadata": {},
   "outputs": [
    {
     "name": "stdout",
     "output_type": "stream",
     "text": [
      "Evaluating fine-tuned model...\n"
     ]
    },
    {
     "name": "stderr",
     "output_type": "stream",
     "text": [
      "Some weights of GPT2ForSequenceClassification were not initialized from the model checkpoint at sdadas/polish-gpt2-small and are newly initialized: ['score.weight']\n",
      "You should probably TRAIN this model on a down-stream task to be able to use it for predictions and inference.\n",
      "/opt/miniconda3/envs/py310/lib/python3.10/site-packages/transformers/training_args.py:1545: FutureWarning: `evaluation_strategy` is deprecated and will be removed in version 4.46 of 🤗 Transformers. Use `eval_strategy` instead\n",
      "  warnings.warn(\n"
     ]
    },
    {
     "data": {
      "application/vnd.jupyter.widget-view+json": {
       "model_id": "df5bc8d18c964f4e9672bb937ed3aa8e",
       "version_major": 2,
       "version_minor": 0
      },
      "text/plain": [
       "  0%|          | 0/16 [00:00<?, ?it/s]"
      ]
     },
     "metadata": {},
     "output_type": "display_data"
    },
    {
     "name": "stdout",
     "output_type": "stream",
     "text": [
      "{'eval_loss': 1.1123815774917603, 'eval_model_preparation_time': 0.0014, 'eval_accuracy': 44.62809917355372, 'eval_runtime': 2.1562, 'eval_samples_per_second': 56.118, 'eval_steps_per_second': 7.421}\n"
     ]
    },
    {
     "data": {
      "text/plain": [
       "('final-fine-tuned-peft-gpt-model/tokenizer_config.json',\n",
       " 'final-fine-tuned-peft-gpt-model/special_tokens_map.json',\n",
       " 'final-fine-tuned-peft-gpt-model/vocab.json',\n",
       " 'final-fine-tuned-peft-gpt-model/merges.txt',\n",
       " 'final-fine-tuned-peft-gpt-model/added_tokens.json',\n",
       " 'final-fine-tuned-peft-gpt-model/tokenizer.json')"
      ]
     },
     "execution_count": 21,
     "metadata": {},
     "output_type": "execute_result"
    }
   ],
   "source": [
    "print(\"Evaluating fine-tuned model...\")\n",
    "\n",
    "config = PeftConfig.from_pretrained(peft_gpt_model_path)\n",
    "model = AutoModelForSequenceClassification.from_pretrained(\n",
    "    model_name, \n",
    "    num_labels=len(label2id),\n",
    "    label2id=label2id,\n",
    "    id2label=id2label\n",
    ")\n",
    "\n",
    "# Ensure pad_token_id is set in model configuration\n",
    "if model.config.pad_token_id is None:\n",
    "    model.config.pad_token_id = tokenizer.pad_token_id\n",
    "\n",
    "model = PeftModel.from_pretrained(model, peft_gpt_model_path)\n",
    "model.to(device)\n",
    "\n",
    "eval_trainer = Trainer(\n",
    "    model=model,\n",
    "    args=TrainingArguments(\n",
    "        output_dir=\"gpt-lora\",\n",
    "        learning_rate=2e-5,\n",
    "        per_device_train_batch_size=8,\n",
    "        per_device_eval_batch_size=8,\n",
    "        num_train_epochs=5,\n",
    "        weight_decay=0.01,\n",
    "        evaluation_strategy=\"epoch\",\n",
    "        save_strategy=\"epoch\",\n",
    "        load_best_model_at_end=True,\n",
    "        metric_for_best_model=\"accuracy\",\n",
    "    ),\n",
    "    eval_dataset=tokenized_ds['test'],\n",
    "    tokenizer=tokenizer,\n",
    "    data_collator=DataCollatorWithPadding(tokenizer=tokenizer),\n",
    "    compute_metrics=compute_metrics,\n",
    ")\n",
    "\n",
    "test_results = eval_trainer.evaluate()\n",
    "print(test_results)\n",
    "\n",
    "model_save_path = \"final-fine-tuned-peft-gpt-model/\"\n",
    "model.save_pretrained(model_save_path)\n",
    "tokenizer.save_pretrained(model_save_path)"
   ]
  },
  {
   "cell_type": "code",
   "execution_count": 22,
   "metadata": {},
   "outputs": [
    {
     "data": {
      "application/vnd.jupyter.widget-view+json": {
       "model_id": "6f0c16a4ff774c2ab827ec1f5bc22a7d",
       "version_major": 2,
       "version_minor": 0
      },
      "text/plain": [
       "  0%|          | 0/16 [00:00<?, ?it/s]"
      ]
     },
     "metadata": {},
     "output_type": "display_data"
    }
   ],
   "source": [
    "predictions_output = trainer.predict(tokenized_ds[\"test\"])\n",
    "\n",
    "preds = np.argmax(predictions_output.predictions, axis=1)\n",
    "labels = predictions_output.label_ids\n",
    "\n",
    "predicted_labels = [id2label[pred] for pred in preds]\n",
    "true_labels = [id2label[label] for label in labels]"
   ]
  },
  {
   "cell_type": "code",
   "execution_count": 23,
   "metadata": {},
   "outputs": [],
   "source": [
    "data_collator = DataCollatorWithPadding(tokenizer=tokenizer)\n",
    "\n",
    "test_loader = DataLoader(\n",
    "    tokenized_ds[\"test\"],\n",
    "    batch_size=16,\n",
    "    shuffle=False,\n",
    "    collate_fn=data_collator\n",
    ")"
   ]
  },
  {
   "cell_type": "code",
   "execution_count": 24,
   "metadata": {},
   "outputs": [
    {
     "data": {
      "application/vnd.jupyter.widget-view+json": {
       "model_id": "1675c523afd84df08e2c79349c33f3d6",
       "version_major": 2,
       "version_minor": 0
      },
      "text/plain": [
       "  0%|          | 0/16 [00:00<?, ?it/s]"
      ]
     },
     "metadata": {},
     "output_type": "display_data"
    }
   ],
   "source": [
    "predictions_output = eval_trainer.predict(tokenized_ds[\"test\"])\n",
    "\n",
    "preds = np.argmax(predictions_output.predictions, axis=1)\n",
    "labels = predictions_output.label_ids\n",
    "\n",
    "predicted_labels = [id2label[pred] for pred in preds]\n",
    "true_labels = [id2label[label] for label in labels]"
   ]
  },
  {
   "cell_type": "code",
   "execution_count": 25,
   "metadata": {},
   "outputs": [
    {
     "name": "stderr",
     "output_type": "stream",
     "text": [
      "/var/folders/ld/46j6jly10md36dbxgn_h72br0000gn/T/ipykernel_92948/2686228197.py:4: FutureWarning: \n",
      "\n",
      "Passing `palette` without assigning `hue` is deprecated and will be removed in v0.14.0. Assign the `x` variable to `hue` and set `legend=False` for the same effect.\n",
      "\n",
      "  sns.barplot(x=pred_label_counts.index, y=pred_label_counts.values, palette='viridis')\n"
     ]
    },
    {
     "data": {
      "image/png": "[encoded data removed]",
      "text/plain": [
       "<Figure size 600x400 with 1 Axes>"
      ]
     },
     "metadata": {},
     "output_type": "display_data"
    }
   ],
   "source": [
    "pred_label_counts = pd.Series(predicted_labels).value_counts()\n",
    "\n",
    "plt.figure(figsize=(6,4))\n",
    "sns.barplot(x=pred_label_counts.index, y=pred_label_counts.values, palette='viridis')\n",
    "plt.xlabel('Predicted Labels')\n",
    "plt.ylabel('Count')\n",
    "plt.title('Distribution of Predicted Labels')\n",
    "plt.show()"
   ]
  },
  {
   "cell_type": "code",
   "execution_count": 26,
   "metadata": {},
   "outputs": [
    {
     "data": {
      "image/png": "[encoded data removed]",
      "text/plain": [
       "<Figure size 800x600 with 2 Axes>"
      ]
     },
     "metadata": {},
     "output_type": "display_data"
    }
   ],
   "source": [
    "\n",
    "cm = confusion_matrix(true_labels, predicted_labels, labels=sorted_labels)\n",
    "\n",
    "plt.figure(figsize=(8,6))\n",
    "sns.heatmap(cm, annot=True, fmt='d', xticklabels=sorted_labels, yticklabels=sorted_labels, cmap='Blues')\n",
    "plt.xlabel('Predicted Labels')\n",
    "plt.ylabel('True Labels')\n",
    "plt.title('Confusion Matrix')\n",
    "plt.show()"
   ]
  },
  {
   "cell_type": "code",
   "execution_count": 27,
   "metadata": {},
   "outputs": [
    {
     "data": {
      "image/png": "[encoded data removed]",
      "text/plain": [
       "<Figure size 800x600 with 2 Axes>"
      ]
     },
     "metadata": {},
     "output_type": "display_data"
    }
   ],
   "source": [
    "cm_normalized = confusion_matrix(true_labels, predicted_labels, labels=sorted_labels, normalize='true')\n",
    "\n",
    "plt.figure(figsize=(8,6))\n",
    "sns.heatmap(cm_normalized, annot=True, fmt='.2f', xticklabels=sorted_labels, yticklabels=sorted_labels, cmap='Blues')\n",
    "plt.xlabel('Predicted Labels')\n",
    "plt.ylabel('True Labels')\n",
    "plt.title('Normalized Confusion Matrix')\n",
    "plt.show()"
   ]
  },
  {
   "cell_type": "code",
   "execution_count": 28,
   "metadata": {},
   "outputs": [
    {
     "name": "stdout",
     "output_type": "stream",
     "text": [
      "              precision    recall  f1-score   support\n",
      "\n",
      "    Negative       0.51      0.61      0.56        44\n",
      "     Neutral       0.34      0.26      0.29        39\n",
      "    Positive       0.44      0.45      0.44        38\n",
      "\n",
      "    accuracy                           0.45       121\n",
      "   macro avg       0.43      0.44      0.43       121\n",
      "weighted avg       0.43      0.45      0.44       121\n",
      "\n"
     ]
    }
   ],
   "source": [
    "report = classification_report(true_labels, predicted_labels, target_names=sorted_labels)\n",
    "print(report)"
   ]
  },
  {
   "cell_type": "code",
   "execution_count": 29,
   "metadata": {},
   "outputs": [
    {
     "name": "stdout",
     "output_type": "stream",
     "text": [
      "Example 1:\n",
      "Text: Zacznijmy od tego, ze na zajecia trzeba sie absolutnie obryc z zadan, bo szanowny doktor nie ma czasu na zajecia.\n",
      "True Label: Negative\n",
      "Predicted Label: Neutral\n",
      "Probabilities: [0.24124885 0.42213425 0.3366169 ]\n",
      "--------------------------------------------------\n",
      "Example 2:\n",
      "Text: Ogolna ocena , jakosc i poczucie estetyki.\n",
      "True Label: Positive\n",
      "Predicted Label: Positive\n",
      "Probabilities: [0.19233066 0.38572046 0.42194894]\n",
      "--------------------------------------------------\n",
      "Example 3:\n",
      "Text: Znam ją tez z ćwiczeń gdzie ćwiczę bo nie ma innych opcji.\n",
      "True Label: Positive\n",
      "Predicted Label: Neutral\n",
      "Probabilities: [0.28178063 0.38523903 0.3329803 ]\n",
      "--------------------------------------------------\n",
      "Example 4:\n",
      "Text: Analiza matematyczna 1 ćwiczenia Ocena : unikać [ / b ] Na pierwszych ćwiczeniach myślał em, że analize zaliczę bez problemów ( jak na swoje lata), ale z czasem zacząłem sobie uświadamiać, że tak nie jest.\n",
      "True Label: Negative\n",
      "Predicted Label: Neutral\n",
      "Probabilities: [0.31715283 0.36332363 0.3195235 ]\n",
      "--------------------------------------------------\n",
      "Example 5:\n",
      "Text: Lakier roweru bardzo kiepskiej jakości, robią się odpryski nie wiadomo od czego rower ładny wygodny ale po 3 miesiącach użytkowania widoczne odpryski lakieru czego za taką cenę nie powinno być ! ! ! ! ! ! ! ! ! ! ! ! ! ! ! ! ! ! ! ! ! ! ! ! ! ! ! ! ! ! ! ! ! ! ! ! ! ! ! ! ! ! ! ! ! ! ! ! ! ! ! ! ! ! ! ! ! ! ! ! ! ! ! ! ! ! ! ! ! ! ! ! ! ! ! ! ! ! ! ! ! ! ! ! ! ! ! ! ! ! ! ! ! ! ! ! ! ! ! ! ! ! ! ! ! ! ! ! ! ! ! ! ! ! ! ! ! ! ! ! ! ! ! ! ! ! ! ! !\n",
      "True Label: Negative\n",
      "Predicted Label: Negative\n",
      "Probabilities: [0.7097055  0.18914936 0.10114516]\n",
      "--------------------------------------------------\n"
     ]
    }
   ],
   "source": [
    "def get_probabilities(logits):\n",
    "    # Apply softmax to the logits across the label dimension\n",
    "    return F.softmax(torch.tensor(logits), dim=-1).numpy()\n",
    "\n",
    "\n",
    "probabilities = get_probabilities(predictions_output.predictions)\n",
    "\n",
    "for i in range(5):\n",
    "    print(f\"Example {i+1}:\")\n",
    "    print(f\"Text: {test_df['text'].iloc[i]}\")\n",
    "    print(f\"True Label: {true_labels[i]}\")\n",
    "    print(f\"Predicted Label: {predicted_labels[i]}\")\n",
    "    print(f\"Probabilities: {probabilities[i]}\")\n",
    "    print(\"-\" * 50)"
   ]
  },
  {
   "cell_type": "code",
   "execution_count": 30,
   "metadata": {},
   "outputs": [
    {
     "data": {
      "application/vnd.jupyter.widget-view+json": {
       "model_id": "0b1f5119e3ef473eb0d8bcb7363ac717",
       "version_major": 2,
       "version_minor": 0
      },
      "text/plain": [
       "Map:   0%|          | 0/482 [00:00<?, ? examples/s]"
      ]
     },
     "metadata": {},
     "output_type": "display_data"
    },
    {
     "data": {
      "application/vnd.jupyter.widget-view+json": {
       "model_id": "68ee53d396ee4e8c887b9078176ae1f9",
       "version_major": 2,
       "version_minor": 0
      },
      "text/plain": [
       "Map:   0%|          | 0/121 [00:00<?, ? examples/s]"
      ]
     },
     "metadata": {},
     "output_type": "display_data"
    },
    {
     "name": "stdout",
     "output_type": "stream",
     "text": [
      "DatasetDict({\n",
      "    train: Dataset({\n",
      "        features: ['input_ids', 'attention_mask', 'labels'],\n",
      "        num_rows: 482\n",
      "    })\n",
      "    test: Dataset({\n",
      "        features: ['input_ids', 'attention_mask', 'labels'],\n",
      "        num_rows: 121\n",
      "    })\n",
      "})\n"
     ]
    }
   ],
   "source": [
    "def preprocess_function(examples):\n",
    "    tokens = tokenizer(\n",
    "        examples[\"text\"], \n",
    "        padding=\"longest\",  # GPT-2 uses left-padding\n",
    "        truncation=True, \n",
    "        max_length=512\n",
    "    )\n",
    "    tokens['labels'] = [label2id[l] for l in examples[\"label\"]]\n",
    "    return tokens\n",
    "\n",
    "tokenized_ds = dataset.map(\n",
    "    preprocess_function, \n",
    "    batched=True, \n",
    "    remove_columns=dataset[\"train\"].column_names\n",
    ")\n",
    "\n",
    "print(tokenized_ds)\n",
    "\n"
   ]
  },
  {
   "cell_type": "code",
   "execution_count": 31,
   "metadata": {},
   "outputs": [
    {
     "name": "stderr",
     "output_type": "stream",
     "text": [
      "Extracting embeddings: 100%|██████████| 8/8 [00:15<00:00,  1.98s/it]\n"
     ]
    }
   ],
   "source": [
    "def extract_embeddings(model, tokenizer, dataset, device, batch_size=16):\n",
    "    model.eval()\n",
    "    loader = DataLoader(\n",
    "        dataset, \n",
    "        batch_size=batch_size, \n",
    "        shuffle=False, \n",
    "        collate_fn=DataCollatorWithPadding(tokenizer=tokenizer)\n",
    "    )\n",
    "    embeddings = []\n",
    "    labels = []\n",
    "    \n",
    "    model_input_keys = tokenizer.model_input_names\n",
    "\n",
    "    with torch.no_grad():\n",
    "        for batch in tqdm(loader, desc=\"Extracting embeddings\"):\n",
    "            inputs = {k: v.to(device) for k, v in batch.items() if k in model_input_keys}\n",
    "            outputs = model(**inputs, output_hidden_states=True, return_dict=True)\n",
    "            hidden_states = outputs.hidden_states\n",
    "            last_hidden_state = hidden_states[-1]  # [batch_size, seq_length, hidden_size]\n",
    "\n",
    "            # Option 1: Last token embedding\n",
    "            last_token_embeddings = last_hidden_state[:, -1, :].cpu().numpy()\n",
    "\n",
    "            # Option 2: Mean pooling\n",
    "            # mean_embeddings = last_hidden_state.mean(dim=1).cpu().numpy()\n",
    "\n",
    "            embeddings.append(last_token_embeddings)  # Use one of the above\n",
    "            labels.extend(batch['labels'].cpu().numpy())\n",
    "    \n",
    "    embeddings = np.vstack(embeddings)\n",
    "    return embeddings, labels\n",
    "\n",
    "\n",
    "test_embeddings, test_labels_ids = extract_embeddings(\n",
    "    model, \n",
    "    tokenizer, \n",
    "    tokenized_ds[\"test\"], \n",
    "    device=device, \n",
    "    batch_size=16\n",
    ")\n",
    "\n",
    "test_labels = [id2label[label_id] for label_id in test_labels_ids]\n",
    "\n",
    "test_predicted_labels = [id2label[pred] for pred in preds]"
   ]
  },
  {
   "cell_type": "code",
   "execution_count": 32,
   "metadata": {},
   "outputs": [
    {
     "name": "stderr",
     "output_type": "stream",
     "text": [
      "/opt/miniconda3/envs/py310/lib/python3.10/site-packages/sklearn/manifold/_t_sne.py:1162: FutureWarning: 'n_iter' was renamed to 'max_iter' in version 1.5 and will be removed in 1.7.\n",
      "  warnings.warn(\n",
      "huggingface/tokenizers: The current process just got forked, after parallelism has already been used. Disabling parallelism to avoid deadlocks...\n",
      "To disable this warning, you can either:\n",
      "\t- Avoid using `tokenizers` before the fork if possible\n",
      "\t- Explicitly set the environment variable TOKENIZERS_PARALLELISM=(true | false)\n"
     ]
    },
    {
     "data": {
      "application/vnd.plotly.v1+json": {
       "config": {
        "plotlyServerURL": "https://plot.ly"
       },
       "data": [
        {
         "customdata": [
          [
           "Negative",
           "Neutral",
           "Zacznijmy od tego, ze na zajecia trzeba sie absolutnie obryc z zadan, bo szanowny doktor nie ma czasu na zajecia."
          ],
          [
           "Negative",
           "Neutral",
           "Analiza matematyczna 1 ćwiczenia Ocena : unikać [ / b ] Na pierwszych ćwiczeniach myślał em, że analize zaliczę bez problemów ( jak na swoje lata), ale z czasem zacząłem sobie uświadamiać, że tak nie jest."
          ],
          [
           "Negative",
           "Negative",
           "Lakier roweru bardzo kiepskiej jakości, robią się odpryski nie wiadomo od czego rower ładny wygodny ale po 3 miesiącach użytkowania widoczne odpryski lakieru czego za taką cenę nie powinno być ! ! ! ! ! ! ! ! ! ! ! ! ! ! ! ! ! ! ! ! ! ! ! ! ! ! ! ! ! ! ! ! ! ! ! ! ! ! ! ! ! ! ! ! ! ! ! ! ! ! ! ! ! ! ! ! ! ! ! ! ! ! ! ! ! ! ! ! ! ! ! ! ! ! ! ! ! ! ! ! ! ! ! ! ! ! ! ! ! ! ! ! ! ! ! ! ! ! ! ! ! ! ! ! ! ! ! ! ! ! ! ! ! ! ! ! ! ! ! ! ! ! ! ! ! ! ! ! !"
          ],
          [
           "Negative",
           "Negative",
           "Budzik zdecydowanie nie jest warty ceny 75 zł. Zalety : ładny wygląd, dobre spasowanie materiału, duże czytelne cyfry, głośny alarm. Wady : wykonany z kiepskiej jakości, taniego plastiku, przyciski ( w tym alarmu i drzemki ) umieszczone z tyłu, co jest bardzo niepraktyczne w nocy, przyciski też tandetne ( głośne i twarde ). Może przeszkadzać : brak regulacji podświetlenia, bateria podtrzymująca pamięć w coraz rzadziej spotykanej postaci 9V ( nie mogły być paluszki ? ). Przydatna była by również opcja regulacji alarmu ( np. od delikatnego do mocnego )."
          ],
          [
           "Negative",
           "Positive",
           "UWA ŻAJ NA SIEBIE BO CI ODPISZ"
          ],
          [
           "Negative",
           "Positive",
           "Przereklamowane. ( podobnie jak inne towary ( np. wkrętarka bosch i to z serii dla prof. użytku ! )."
          ],
          [
           "Negative",
           "Neutral",
           "Jeżeli niechcesz się w to bawic to sobie odpusc, bo masz czas albo hajs"
          ],
          [
           "Negative",
           "Negative",
           "Ja idąc na informatyke 3 nie znałęm prawie w ogóle jezyka C no i to nie jest kurs dla takich osób jak ja tylko dla początkujących."
          ],
          [
           "Negative",
           "Negative",
           "jestem pilarzem od parunastu lat, skusił em się na tego partnera w listopadzie 2016r. Łatwo się uruchamia i dobrze pracuje, lekka, poręczna, wygodna ale za mały otwór wlewu oleju i za małe objętości zbiornika paliwa i oleju - trzeba często uzupełniać je, filtr powietrza w zasadzie jednorazowy zapycha się po około tygodniu pracy ( około 3h dziennej pracy piły ) - koszt nowego 10zł, zaś po 3 miesiącach pękła linka gazu ( każde naciśnięcie manetki gazu łamie linkę - takie dziwne rozwiązanie konstrukcyjne ) - koszt nowej 40zł, jak dla mnie trochę za wysokie koszty utrzymania tej piły - jestem zawiedziony tym modelem partnera."
          ],
          [
           "Negative",
           "Positive",
           "Potrafi przyczepic sie do wszystkie - osie symetri za grubym olowkiem rysowane, wkrecajac srube w drewniany otwor z gwintem - i tak az do skutku."
          ],
          [
           "Negative",
           "Negative",
           "NIE OLEWAJ GORNIAKA i nie podpadaj pod żadne paragrafy. Ja zawsze staram się tak jak mówisz nie podpaść."
          ],
          [
           "Negative",
           "Neutral",
           "Podobnie jak większość zawiodła m się na tej kosiarce. Wydawało się, że firmowa kosiarka będzie służyć dłużej... Od samego początku była bardzo delikatna, dobra tylko do drobnej trawki na idealnie równym terenie. Koszenie na lekkich nierównościach zakończyło się powyginanym nożem. Nóż po roku wymieniony na nowy, bo nie dało się go naostrzyć. Długo jednak nim się nie cieszyła m, silnik zaczął dziwnie pracować... aż w końcu przestał. Powiem szczerze, że dużo lepiej sprawowała się moja pierwsza najtańsza kosiarka no name. Z nożem nic się nie działo na górkach i dołkach, silnik nie do zajeżdżenia. Gdyby nie to, że uszkodziły się kółka, to dalej by pracowała. Zawiodła m się na Gardenie."
          ],
          [
           "Negative",
           "Positive",
           "Jeżeli niechcesz słuchać to nie musisz."
          ],
          [
           "Negative",
           "Neutral",
           "Analiza matematyczna 1 ćwiczenia Ocena : unikać [ / b ] Na pierwszych ćwiczeniach myślał em, że analize zaliczę bez problemów ( pokazywał jak się dodaje ułamki o różnych mianownikach, bawił się swoją ' maszyną liczącą ( kalkulator : wink : lubi sie nim bawić ) )."
          ],
          [
           "Negative",
           "Positive",
           "Fizyka 2 [ / b ] Zdac egzamin jest dosyc trudno . Zalaczam zdjecie z egzaminem."
          ],
          [
           "Negative",
           "Negative",
           "Witam Długo się namyślał em przed zakupem przyzwoitego pistoletu i zdecydował em się na STEINELA 3002. Porażka na całej lini pierwsza próba pracy zagrzewa, podał klej i przestał działać. Wysyłka na serwis. Po wymianie systemu grzejnego pistolet puszczał klej bokami, kapał z podajnika i po pięciu minutach ponownie przestał działać. Wysyłka na serwis. Jak do tej pory mam go od dwóch miesięcy a popracował 5 dni. Nie jest zły ale nie jest też wart swojej ceny."
          ],
          [
           "Negative",
           "Negative",
           "Po prostu trzeba dużo się uczyć i rozumieć, że z każdego zdania można coś wynieść."
          ],
          [
           "Negative",
           "Positive",
           "Ocena ogólna - 0."
          ],
          [
           "Negative",
           "Negative",
           "Jest po prostu na tych wykładach nudno i niczego się człowiek nie dowie pożytecznego, bo na ćwiczeniach materiał idzie zdecydowanie szybciej ( wszystko za sprawą wszelkich dygresji Pana doktora podczas wykładu )."
          ],
          [
           "Negative",
           "Negative",
           "Grzejniki ładne ale mają beznadziejne termostaty bez pamięci nastaw i możliwości programowania. Można jedynie skorygować nastawy fabryczne ale do czasu pierwszego zaniku napięcia, potem i tak wszystko powróci do nastaw fabrycznych. Poza tym termostaty bardzo łatwo się przegrzewają i przy bardzo niskich temperaturach przy bardzo wysokich temp. nie są wcale stabilne."
          ],
          [
           "Negative",
           "Negative",
           "Za ta cenę spodziewał em się bardziej dopracowanego sprzętu. Miska mocowana w robocie jest w przeciwnym kierunku niż kręci się rózga tak więc przy cięższych ciastach lubi się wypiąć podczas pracy. Niedopracowane same rózgi do misy ( chociaż wyglądają bardzo profesjonalnie ) pozostawiają na dnie nierozmieszane ciasto lub krem ( zaznaczę ze posiadam inne miksery roboty które wypadają o niebo lepiej ) Najbardziej irytujące są jednak mieszadła silikonowe które powinny zbierać wszystko ze ścianek oraz spodu misy co bardzo przeszkadza a właściwie uniemożliwia korzystanie z miski."
          ],
          [
           "Negative",
           "Positive",
           "Na analizie 2 była m raz na jego blogu, gdzie pisał o czymś co nazywa \"wszechstronnym spojrzeniem\", co bardzo spodobało mi się na"
          ],
          [
           "Negative",
           "Negative",
           "Kiedy na początku zobaczył em słuchawki zachwycał em się nimi. Dobry mikrofon, ładne opakowanie, przyjemny wygląd słuchawek. Ogólnie mówiąc NAJPIERW był em bardzo zadowolony. Gdzieś po 3 miesiącach problemy z mikrofonem się zaczęły raz działał raz nie, po 6 nie odpinał em go ponieważ wtedy już nie działał na długo i nie chciał em kusić losu licząc na kolejny cud, że jak podłącze to znowu zadziała. Po 3 / 4 roku siadła jedna strona zupełnie.... To już mnie kompletnie dobiło i zmienił em na akg 514 i co... ? Ogromna różnica w jakości a należało trochę dopłacić. I na nowych słuchawkach słychać znacznie lepiej w fps na jakim przeciwnik jest poziomie jak jest z tyłu na fatality nie mogł em rozróżnić. Dopóki się odwrócił em i sprawdził em zazwyczaj dead. Nie polecam na dłuższą metę na 3 miesiące mogą być w porządku ale na to zakup na krótko. Beznadziejne wykonanie, kabla mikrofona i ogólnie całych słuchawek."
          ],
          [
           "Negative",
           "Negative",
           "Podobnie jak większość zawiodła m się na tej kosiarce. Wydawało się, że firmowa kosiarka będzie służyć dłużej... Od samego początku była bardzo delikatna, dobra tylko do drobnej trawki na idealnie równym terenie. Koszenie na lekkich nierównościach zakończyło się powyginanym nożem. Nóż po roku wymieniony na nowy, bo nie dało się go naostrzyć. Kosiarka była dobra tylko do koszenia trawy. Wózek, który na nim jest teraz, jest bardzo wąski, a kosiarka jest naprawdę lekka. Kosiarka była tania, ale kosiarka była bardzo dobra. Nie było w niej nic nadzwyczajnego. Wózek, który teraz posiadam, jest bardzo stabilny i stabilny. Jest cichy, ale jeździ się nim cicho. Kosz na trawę jest mniejszy i mniej poręczny."
          ],
          [
           "Negative",
           "Negative",
           "Jestem świeżo po zakupie Marantza 611. Urządzenie bardzo dobrze odtwarza płyty CD. Gorzej jest z nośnikami USB. Nośniki czytane są długo i dźwięk jest słyszalnie uboższy pomimo odtwarzania plików FLAC. Jednak kompletna porażka to wieszanie się urządzenia jeśli zaczynamy słuchać stacji z radia cyfrowego DAB +. Sytuacja jest powtarzalna po dodaniu stacji dwóch DAB + do ulubionych i próbie przełączania się między nimi następuje zawieszenie urządzenia, dokładniej odtwarzania dźwięku. Przywrócenie odtwarzania dziwięku jest możliwe po wybraniu stacji FM do odtwarzania. Drugą kwestią jest włączanie się samo z siebie urządzenia. Czyli śpisz sobie a ono się włącza. Wyłączasz. Za 2h jest to samo. Jeśli do tego dodamy głęboko rozczarowującą scenę dżwiękową dla nośników USB lepiej kupić coś tańszego nawet jeśli będzie miało te same wady."
          ],
          [
           "Negative",
           "Neutral",
           "Niestety co do samego prowadzącego mam już obekcje, z punktu wdzienia treningu itd. wszytko było ok ( a czesami nawet bardzo ok - rozgrzewki w formie zabawy ), ale niestety miala miejse u nas na treningu sytulacja ktora bardzo mnie do tego pana zrazila ; podczas pokazywania dźwigni na noge ( stopę ) zignorował zupełnie odklepenie w mate ( czyli powiadomienie o tym, że ma się dość, że boi ) studenta na ktorym pokazywal technike i nie puścił lub chociaż zmniejszył nacisku ( siłę skrętu )."
          ],
          [
           "Negative",
           "Negative",
           "Grill ma wadę, dużą, z którą niestety żył em 3 lata. Tłuszcz zamiast skapywać w całości do dołączonej miseczki, spływał pod płytę grzewczą, zawsze po grillowaniu, musiałem go postawić w pionie i patrzeć jak wylewa się to na blat. Nie wiem czy Philips tego nie przemyślał, nie sprawdził, ale jest to tragiczne niedopatrzenie. Kilka dni temu grill owałem grillowane warzywa i już widzę jak tłuszcz spłynie pod płytę, a na płycie nie pozostanie nawet kropla tłuszczu, który powinien zostać w pojemniku na tłuszcz."
          ],
          [
           "Negative",
           "Negative",
           "Niestety w moich testach wypadł strasznie marnie. Prędkość zapisu dużego pojedynczego pliku na USB 2. 0 to 5MB / s i nie chce być szybciej. Obojętne czy NTFS czy FAT32. Kupił em 2 egzemplarze i na każdym taka żenada. Wstyd dla Patriota. Dane podane przez producenta są wyssane z palca."
          ],
          [
           "Negative",
           "Neutral",
           "Ogolnie, to ujdzie, ale jezeli ma sie mozliwosc (a w koncu ktos musi), to warto ja kupic, chocby tylko na te pare dni, zeby sie upewnic"
          ],
          [
           "Negative",
           "Negative",
           "Za ta cenę spodziewał em się bardziej dopracowanego sprzętu. Miska mocowana w robocie jest w przeciwnym kierunku niż kręci się rózga tak więc przy cięższych ciastach lubi się wypiąć podczas pracy. Niedopracowane same rózgi do misy ( chociaż wyglądają bardzo profesjonalnie ) pozostawiają na dnie nierozmieszane ciasto lub krem ( zaznaczę ze posiadam inne miksery roboty które wypadają o niebo lepiej ) Najbardziej irytujące są jednak mieszadła silikonowe które powinny zbierać wszystko ze ścianek oraz spodu misy co bardzo przeszkadza a właściwie uniemożliwia podbijanie mas na * * * * * z jednoczesnym podgrzewaniem ( w tym celu to zakupił em ) chyba że chcemy jajecznicę to wtedy są wręcz idealne. Co do trwałości robota nie mogę nic powiedzieć za krótko go posiadam. Reasumując osobiście nie kupił by m ponownie robota za taką cenę wiedząc o jego wadach. Do napisania opini skłoniło mnie rozczarowanie : ( : ( : ( i jestem delikatnie wciekły nie wspomnę że lżejszy o 3800. Zawsze jest nadzieja ze ktoś z firmy Kenwood przeczyta moje wypociny i w przyszłych modelach poprawią niedoróbki. Tak tak wiem ze nadzieja jest matką....."
          ],
          [
           "Negative",
           "Negative",
           "hhmm, no to jazda z tym Wygląd i to tylko ta zaleta. Jeśli chodzi o resztę to ; brak osiowości ławki, brak stabilności ( ćwicząc na ławce skos ujemny radzę zakładać pampersa ). Teraz widze że sprzęt jest robiony masowo przez zwykłego Kowalskiego ( na Chiński to będzie Jung Pęk Spaw ). Urządzenie do ćwiczeń na nogi ucieka kilka stopni w jedną stronę, modlitewnik tragedia, oparcie do ćwiczenia rozpiętek na siedząco jest krzywo osadzone, i nawet przy prawidłowym wyproście siedzi się trochę za głęboko i plecy bolą. Za bardzo odstaje od reszty. Wybieram się w tym roku na siłkę, ale chyba nie pójdę bo jestem za biedny, żeby mieć sprzęt do ćwiczeń na nogi za 300-500 zł."
          ],
          [
           "Negative",
           "Negative",
           "Grill ma wadę, dużą, z którą niestety żył em 3 lata. Tłuszcz zamiast skapywać w całości do dołączonej miseczki, spływał pod płytę grzewczą, zawsze po grillowaniu, musiałem go postawić w pionie i patrzeć jak wylewa się to na blat. Nie wiem czy Philips tego nie przemyślał, nie sprawdził, ale jest to tragiczne niedopatrzenie. Kilka dni temu grill odmówił posłuszeństwa. Nie grzeje. Pokrętło do do ustawiania temperatury odmówiło z rok temu, przestało mieć grzechotkę, ale nie przeszkadzało to w użytkowaniu. Za minus uważam też brak możliwości dokupienia samych płyt teflonowych, choćby w cenie połowy grilla. Zdecydowanie nie polecam i nie kupię grilla Philipsa, a w przypadku awarii, muszę kupić nowego."
          ],
          [
           "Negative",
           "Negative",
           "Najpierw + dostajemy produkt z najwyższej półki, pięknie zapakowany. Mysz jest wygodna, działa ( jak już działa ) precyzyjnie. To tyle z +... teraz - nigdy więcej sprzętu dla graczy RAZERA. Przereklamowane - to pierwsze to narzuca mi się na myśl. Absurdalna cena jak za taki sprzęt. Gumki pod kciukiem odpadły po trzech miesiącach. Scroll miał problem z działaniem już po miesiącu, sensor również choć korzystam z aluminiowej podkładki. Obydwie części musiałem czyścić. Najgorsze jednak jest oprogramowanie Razer Synapse, które zawiesza się za każdym razem kiedy je podłączę do PC. Nie mogę nawet sprawdzić czy klawiatura się kręci, czy na ekranie coś jest. A nawet jak jestem podłączony do PC, to nie działa, nie mam jak sprawdzić czy klawiatura się kręci."
          ],
          [
           "Negative",
           "Negative",
           "hhmm, no to jazda z tym Wygląd i to tylko ta zaleta. Jeśli chodzi o resztę to ; brak osiowości ławki, brak stabilności ( ćwicząc na ławce skos ujemny radzę zakładać pampersa ). Teraz widze że sprzęt jest robiony masowo przez zwykłego Kowalskiego ( na Chiński to będzie Jung Pęk Spaw ). Urządzenie do ćwiczeń na nogi ucieka kilka stopni w jedną stronę, modlitewnik tragedia, oparcie do ćwiczenia rozpiętek na siedząco jest krzywo osadzone, sztanga do wyciskania na ławce jest za ciężka i źle leży na nodze ( to moje subiektywne odczucie) a do tego dochodzi wadliwy system chłodzenia i nie mogę na nim ćwiczyć. Na razie to tylko moje spostrzeżenia, ale to jeszcze nie koniec. Jeśli coś nie jest złe to z pewnością nie można tego nazwać wadliwym sprzętem."
          ],
          [
           "Negative",
           "Negative",
           "Ten router to porażka, gdyż nie jest w stanie poprawnie współpracować z modemem Huawei E180 pomimo tego ze w specyfikacji umieszczonej na opakowaniu producent zapewnia, że biedzie współpracować co okazało się nieprawdą. Router po chwili od włączenia rozłącza internet także nie da się z niego w ogóle korzystać i nie pomagają aktualizacje firmware. Być może z innym modem ten router by zadziałał ale ten który mam z racji tego że go posiadam nie posiada tego złącza co powinien. Zasadniczo na początku działania nie było problemu gdyż działało, natomiast gdy zacząłem korzystać z routera to z niego nie dało się korzystać. Odłączenie od internetu i restarty nie pomogły. Aktualizacja firmware nie pomogła. Przetestowałem go z poziomu routera, w domu mam 2 urządzenia sieciowe i każdy działa tak samo."
          ],
          [
           "Negative",
           "Positive",
           "Wydaje sie jakby s sam tego chcial - tylko ze to nie bedzie sie dawac zmienic"
          ],
          [
           "Negative",
           "Negative",
           "Fizyka 2 [ / b ] Zdac egzamin jest dosyc trudno tak bylo w moim przypadku zdalo bardzo mało osub."
          ],
          [
           "Negative",
           "Neutral",
           "Ogolnie, to ujdzie, ale jezeli ma sie mozliwosc sprawdzenia jakie leki sa dozwolone, jak sie leczy i jak sie je stosowalo, to wiadomo, ze moze to kosztowac"
          ],
          [
           "Negative",
           "Negative",
           "* * * * * jakich mało za tę cenę to jakieś ewidentne żarty. Oddał em jedną kamerę na gwarancji bo nie nagrywała filmów akurat tych co mi byly potrzebne. 1 wyskoczyła mi sarna nie ma filmu, 2. wyskoczył mi lis nie ma filmu Wszystkie sytuacje obeszły się szczęśliwie ale gdyby coś poszło nie tak potrzebował by m filmu żeby chociaż udowodnić moją racje ubezpieczycielowi. Oddał em kamerę i ona zaginęła . W międzyczasie znalazłem inną kamerke i tam tez nie było problemu. Oddał em drugą kamerę ale tam tez nie było problemów."
          ],
          [
           "Negative",
           "Negative",
           "Na każdej laborce kartkówka, teraz moge stwierdzić że może nie były aż takie trudne, ale zaliczył em jedną na 5 czy 6... po prostu jeżeli nigdy przedtem nie miał eś do czynienia z językiem C to naprawde jest trudno."
          ],
          [
           "Negative",
           "Positive",
           "Radze trzymac go tam, gdzie moze sie zgubic."
          ],
          [
           "Negative",
           "Negative",
           "Graficzny zapis konstrukcji (FILM): - Wyświetlacz: LED - Format obrazu: 16:9"
          ],
          [
           "Negative",
           "Negative",
           "Dla mnie żadna rewelacja, ale może mam jakiś wybrakowany produkt... Urządzenie mam od grudnia i użyła m go może z 5 razy. Za każdym razem mieszkanie zadymione i strasznie śmierdziało ( jakby palonym kablem czy coś ). Jedzenia nie można w sumie ani na chwilkę spuścić z oka, bo zaraz się to zacznie. Nie ma opcji, że ktoś do mnie przyjdzie czy przyjdzie, bo coś jest nie tak. Jeśli już, to to jest raczej kwestia kilku dni lub miesięcy. W nocy jest też tak, że włącza się światło, a za chwilę znowu znika i znowu nie włącza się. Czasem nawet nie ma w ogóle prądu."
          ],
          [
           "Negative",
           "Negative",
           "Mylący tytuł który sugeruje że mamy do czynienia z dziełem Smitha, w rzeczywistości w książce zawarte są tylko fragmenty Bogactwa Narodów oraz Teorii Uczuć Moralnych, które okraszone są niestety bardzo kiepskim komentarzem jak się okazuje AUTORA KSIĄŻKI którym NIE JEST ADAM SMITH ! (a przynajmniej nie był zanim został opisany w książce)."
          ]
         ],
         "hovertemplate": "True Label=%{customdata[0]}<br>TSNE-1=%{x}<br>TSNE-2=%{y}<br>Predicted Label=%{customdata[1]}<br>Text=%{customdata[2]}<extra></extra>",
         "legendgroup": "Negative",
         "marker": {
          "color": "red",
          "symbol": "circle"
         },
         "mode": "markers",
         "name": "Negative",
         "orientation": "v",
         "showlegend": true,
         "type": "scatter",
         "x": [
          -1.1971267,
          -2.0221345,
          -3.7441258,
          -6.621524,
          1.6928091,
          5.074019,
          -4.292148,
          6.0579853,
          -4.699565,
          0.5031039,
          7.410631,
          -7.365675,
          4.2420306,
          -2.0897048,
          2.886108,
          -4.8166513,
          -3.754804,
          -0.037816312,
          0.20477274,
          -3.7158132,
          5.624836,
          -4.4245143,
          -6.74836,
          -7.702805,
          -6.3636246,
          -4.586269,
          -5.232725,
          7.202339,
          -4.4888654,
          9.027487,
          -5.4941645,
          -6.3092012,
          -6.0042796,
          -5.8870416,
          -5.3479424,
          -4.1794,
          2.8680258,
          -4.4224544,
          -5.4089026,
          -1.2886211,
          1.5200546,
          2.4455006,
          -4.83242,
          -2.6141307
         ],
         "xaxis": "x",
         "y": [
          3.1456745,
          5.779196,
          9.995363,
          6.229853,
          -8.770576,
          -2.9861896,
          -0.84132874,
          -5.29755,
          7.117062,
          0.22641315,
          -5.2951775,
          6.9526362,
          -7.420264,
          5.8132105,
          -6.262788,
          6.395106,
          0.16942418,
          -6.3141546,
          2.6137383,
          5.3045726,
          -2.4304779,
          2.1829007,
          7.505844,
          7.209076,
          5.5607457,
          5.92486,
          6.4912605,
          -4.686772,
          -2.140523,
          -5.0857015,
          7.2463346,
          6.9272814,
          7.1774025,
          7.666123,
          8.479619,
          -3.149556,
          -6.3809276,
          -1.9710178,
          5.267227,
          2.5510798,
          4.1444345,
          -5.515593,
          7.887475,
          4.7290006
         ],
         "yaxis": "y"
        },
        {
         "customdata": [
          [
           "Positive",
           "Positive",
           "Ogolna ocena , jakosc i poczucie estetyki."
          ],
          [
           "Positive",
           "Neutral",
           "Znam ją tez z ćwiczeń gdzie ćwiczę bo nie ma innych opcji."
          ],
          [
           "Positive",
           "Positive",
           "Miał em przyjemność pracować z nim przy wielu projektach. To prawdziwy profesjonalista."
          ],
          [
           "Positive",
           "Positive",
           "Polecam ten artykuł. Może coś się zmieni w tej materii."
          ],
          [
           "Positive",
           "Negative",
           "Analiza matemtyczna 1 ocena : ok [ / b ] miły, zajecia jakos mijają, wiesz za duzo rzeczy do ogarnięcia, i za malo czasu, i za malo czasu, i za malo czasu, za duzo czasu, za malo czasu,"
          ],
          [
           "Positive",
           "Negative",
           "Każda nieobecność to jest ocena w dół na koniec chyba, że odrobisz pracę domową i się postarasz, ale to nie jest tak, że nie mam prawa do zwolnienia, bo na to już nie wystarczy"
          ],
          [
           "Positive",
           "Positive",
           "Niesamowite poczucie humoru ciagle mnie zadziwia."
          ],
          [
           "Positive",
           "Positive",
           "Ogólnie się z tobą zgadzam, ale nie można się poddawać."
          ],
          [
           "Positive",
           "Positive",
           "Tak Podstawa oceny w indeksie : egzamin Niespodziewajki : brak ( zadania powtarzają się co roku ) Poczucie humorupane pokłady Ogólne podejście do studenta : pozytywne Zerowy termin jest najprostszy ( 3 zadania ) - warunkiem przystąpienia jest jednak zaliczenie projektu u dr."
          ],
          [
           "Positive",
           "Positive",
           "Dobry wykładowca."
          ],
          [
           "Positive",
           "Positive",
           "Scharoch wypada naprawde swietnie."
          ],
          [
           "Positive",
           "Negative",
           "dr Kornel jest wporzadku. wprwawdzie nie potrafi nauczyc algebry ( jak sam przyznaje sam jej juz nie umie : D ), ale jest bardzo przyjaznie nastawiony do studentow. wyklady sa dosc ciekawe, bo pan dr niezbyt czesto porusza problematyke czysto matematyczna, zwykle opowiada co ciekawego dzieje sie na siwecie. kolokwia sa proste pod warunkiem, ze posiedzi sie przy skrypcie ; ) ale nie radze na nich sciagac ( zlaszcza od sasiadow ) bo na samym kole dr Kornel siedzi w kacie i na nikogo nie zwraca uwagi, za to przy sprawdzaniu prac robi wnikliwe.. sledztwo. ogólnie : polecam ! ! !"
          ],
          [
           "Positive",
           "Negative",
           "Uważam, że to najlepszy kitowy obiektyw na rynku. Wykonanie metal i bardzo dobrej jakości tworzywi. Pierścień przysłony chodzi z należytym oporem i skokiem. Wbudowana stabilizacja jest wydajna i naprawdę pomaga w wielu sytuacjach. Obiektyw bardzo ostry już od największego otworu przysłony. Celność bdb. To za co pochwalę go dodatkowo to szybki silnik autofokusa - używał em go na poczatku z dosyć mułowatym X - E1, teraz, kiedy przesiadł em się na X - T1 to mogę tylko chwalić ! ! ! Ostatni plus to bardzo dobrze opracowany system uszczelnień - obiektyw, mimo, iż jest to zoom, w ogóle nie zasysa kurzu do środka ( miałem już wiele zoomów : Nikkory, Sigmy i tam był to problem ). Polecam !"
          ],
          [
           "Positive",
           "Neutral",
           "Duza częśc grupy zaliczyła w kolokwiach."
          ],
          [
           "Positive",
           "Negative",
           "Kurs : Fizyka 1 ćw. [ / b ] Miła, miła, miła."
          ],
          [
           "Positive",
           "Neutral",
           "Niesamowite poczucie humoru ciagle sie pojawia w rozmowach, bo to jest bardzo specyficzne poczucie humoru."
          ],
          [
           "Positive",
           "Positive",
           "Gosc jest do rany przyłóż."
          ],
          [
           "Positive",
           "Neutral",
           "Mozna sie z tym nie zgodzic, ale takie zycie."
          ],
          [
           "Positive",
           "Negative",
           "Obiektyw ten przeznaczony jest dla osób które dopiero zaczynają fotografowanie lustrzankami cyfrowymi marki Canon. Jest to obiektyw bez stabilizacji obrazu ( jest ona w nowszym modelu Mark III ). Cena tego obiektywu nie jest wygórowana. Można go już kupić w bardzo dobrym stanie za około 160 - 190 zł, czyli jak na obiektyw śmieszne pieniądze. Dla początkującego fotografa będzie to okazja do nauczenia się jak robić zdjęcia oraz zapoznania się z technologią optyczną. Zdjęcia będą bardzo realistyczne a film, w jakości Full HD, nie będzie przeszkadzał."
          ],
          [
           "Positive",
           "Negative",
           "Fizyka laborki POLECAM ! ! ! !"
          ],
          [
           "Positive",
           "Positive",
           "Pan Gańcza jest osobą bardzo dobrą jako nauczyciel dla moich uczniów."
          ],
          [
           "Positive",
           "Neutral",
           "Kisielewska M., mgr Pływanie , Łódź 1997. Chmielewski J., Mentor z klasą, Łódź 1997. Chmielewski J., B."
          ],
          [
           "Positive",
           "Negative",
           "Pani Małgorzata chętna jest do pomocy z trudniejszymi zadaniami."
          ],
          [
           "Positive",
           "Neutral",
           "Każda nieobecność to jest ocena w dół na koniec chyba, że odrobisz ten termin. na koniec jest krótki, bezstresowy egzamin ( bez paniki )."
          ],
          [
           "Positive",
           "Negative",
           "Nie ma kartkówek , ale z tego co wiem to w gimnazjum się to już nie zdarza."
          ],
          [
           "Positive",
           "Neutral",
           "Kurs : Fizyka 1 ćw. [ / b ] Miła, sympatyczna, często się śmieje ( czesto ironicznie : P )."
          ],
          [
           "Positive",
           "Positive",
           "Kolokwia nie sa trudne - taki standart ogolnouczelniany."
          ],
          [
           "Positive",
           "Neutral",
           "Lepiej nie . Wykonał kolejny ruch, jakby chciał ją uderzyć."
          ],
          [
           "Positive",
           "Neutral",
           "Mozna sobie to porownac z ludzmi z Afryki czy Ameryki Srodkowej, ktorzy"
          ],
          [
           "Positive",
           "Neutral",
           "Kisielewska M., mgr Pływanie ."
          ],
          [
           "Positive",
           "Positive",
           "Ludzie... takiego lajtu jak zyje to nie widzialem... : ) Postanowilem zrobic sobie z tego tytulu mala przyjemnosc. Zaczalem ogladac ten film z czystej ciekawosci."
          ],
          [
           "Positive",
           "Positive",
           "ANALIZA MATEMATYCZNA 1 ( WYKŁAD + ĆW ) Pani wydaje byc sie bardzo dobra w tych swoich rachunkach. To znaczy, ze nie ma w nich zadnych bledow."
          ],
          [
           "Positive",
           "Positive",
           "Na koniec jest to, że \"konkurencja\" w tym przypadku była \"na rękę"
          ],
          [
           "Positive",
           "Neutral",
           "Kola nie sa zbyt trudne, wystarczy miec dobra marke. Wrzucic to do sieci i sprzedac."
          ],
          [
           "Positive",
           "Positive",
           "Szermierka to bardzo ciekawy sport, a Pan Gańcza potrafi go nauczyc."
          ],
          [
           "Positive",
           "Negative",
           "Choć gra ma już swoje lata ciągle robi wrażenie i choć widać że jest to 1 odsłona lego Batmana na pierwszy rzut oka, trudno też nie zauważyć zalet jakie ta gra ma. Chociażby bardzo ładna i klimatyczna grafika czy według mnie jedna z największych zalet tej gry czyli ROBIENIE WŁASNYCH POSTACI, którymi można grać. Niby nic takiego ale jednak sam fakt że coś takiego jest cieszy. Gra poziom trudności zmienia z poziomu na poziom, jeden etap jest łatwy inny trudny. Fabuła jest dość ciekawa i nawet jak się z nią nie zgadzamy to musimy ją jakoś opowiedzieć. A jak nie mamy pomysłu to możemy sobie zrobić z niej jakąś historię albo jakiś filmik, który będzie można obejrzeć z różnych perspektyw. Gra ma też swoje słabe momenty. Nie można powiedzieć że jest to gra dla każdego, ale z całą pewnością są to jej plusy i minusy. Za to minusów w sumie nie ma. Nie podoba mi się jedna rzecz - nie można po prostu wyłączyć gry, wyłączyć się i nie grać."
          ],
          [
           "Positive",
           "Positive",
           "Znam ją tez z ćwiczeń gdzie dobrze i przystepnie tłumaczy."
          ],
          [
           "Positive",
           "Positive",
           "Ogólnie bardzo polecam, Krzysztof Bogdan ze swoim plecakiem i poczuciem humoru ( ' a ) bardzo fajne są te filmy, bo to są takie komedie o życiu ( 'a) - fajne są też te wszystkie wywiady z psychologami"
          ]
         ],
         "hovertemplate": "True Label=%{customdata[0]}<br>TSNE-1=%{x}<br>TSNE-2=%{y}<br>Predicted Label=%{customdata[1]}<br>Text=%{customdata[2]}<extra></extra>",
         "legendgroup": "Positive",
         "marker": {
          "color": "green",
          "symbol": "circle"
         },
         "mode": "markers",
         "name": "Positive",
         "orientation": "v",
         "showlegend": true,
         "type": "scatter",
         "x": [
          0.51170886,
          6.227946,
          7.552584,
          5.2792325,
          -3.6588326,
          2.848,
          1.0317616,
          -3.928296,
          2.2152627,
          -1.2861308,
          4.415779,
          -6.3561807,
          -5.388692,
          8.101439,
          4.0288587,
          -3.5958655,
          8.229519,
          -3.1643517,
          -3.8929203,
          2.019078,
          7.207337,
          -0.6807973,
          5.5897584,
          0.544401,
          1.5754321,
          3.9901679,
          3.356329,
          0.3799412,
          -2.9521337,
          0.27034557,
          1.8675283,
          2.8801258,
          -6.354857,
          -1.0294371,
          -0.4579829,
          -6.072554,
          6.173527,
          -2.216516
         ],
         "xaxis": "x",
         "y": [
          -5.67392,
          -5.844741,
          -6.716221,
          -6.395121,
          1.0206184,
          4.428552,
          -7.5230336,
          -0.96748793,
          -2.1185598,
          -6.7856975,
          -7.230442,
          8.470549,
          7.867398,
          -5.9091334,
          0.46709445,
          0.066810235,
          -6.3215866,
          -0.25611758,
          7.758099,
          -7.6549234,
          -6.877384,
          -3.0160112,
          -7.4002213,
          1.8393472,
          -0.7853172,
          0.4814676,
          -1.5114363,
          5.0648136,
          -1.1089644,
          -7.3382354,
          -2.806859,
          -2.2201548,
          0.7609572,
          0.7456454,
          2.9217682,
          8.55449,
          -6.041665,
          0.19821244
         ],
         "yaxis": "y"
        },
        {
         "customdata": [
          [
           "Neutral",
           "Positive",
           "Ocena : do przejścia Pan Jerzy to całkiem fajny matematyk, co nie?"
          ],
          [
           "Neutral",
           "Neutral",
           "Cóż...."
          ],
          [
           "Neutral",
           "Positive",
           "Przez większośc zajęć prowadzący uczą pływać, na sali nie ma nikogo, kto by był w stanie to zrobić w pojedynkę. Po prostu w każdej chwili mogę wskoczyć do wody."
          ],
          [
           "Neutral",
           "Positive",
           "Wykład jak to wykład, ale jak się go słucha, to widać że coś jest na rzeczy, nie tylko w"
          ],
          [
           "Neutral",
           "Positive",
           "Ogólnie dla ambitnych nie warto, a dla tych co chcą przejśc na 3.0 - warto się wstrzymać z decyzją, bo jest szansa, że i w tym roku też się uda i będzie w końcu tak jak z csgo."
          ],
          [
           "Neutral",
           "Negative",
           "Umie wytłumaczyc trudne zadania, chociaz tak naprawde te najtrudniejsze to z miła chęcią omiajał mówiąc po prostu że są one głupie i nie ma sensu ich rozwiązywać. Na koniec zapytał mnie ile czasu mam na wykonanie zadań i powiedział że do 1 roku studiów chce mieć skończone."
          ],
          [
           "Neutral",
           "Negative",
           "Koła zwykle do najłatwiejszych nie należą, ale jeśli to nie jest dla Ciebie za trudne to polecam sprawdzić, bo w dzisiejszych czasach są różne typy motocykli."
          ],
          [
           "Neutral",
           "Negative",
           "Niestety z zaliczeniem nie jest łatwo ( kolokwia oceniane w skali 3 - 5,5, kolokwia oceniane w skali 1 - 10, kolokwia oceniane w skali"
          ],
          [
           "Neutral",
           "Negative",
           "W tym roku nawet obnizyl prog zaliczenia z 12 na 10 pkt : shock : Generalnie nie jest zle, pozatym AiR nie ma innego wyboru ; )"
          ],
          [
           "Neutral",
           "Negative",
           "Pisemna to test z gramatyki ( uzupełnianka )... obszerny ale do przejścia, jest też poprawka."
          ],
          [
           "Neutral",
           "Negative",
           "W ktorym mogą pojawić się problemy z dostępnością i poprawnym działaniem."
          ],
          [
           "Neutral",
           "Neutral",
           "Zaliczenie : : Strona internetowa wymyślonej firmy lub biznes plan."
          ],
          [
           "Neutral",
           "Neutral",
           "Oczywiscie odda j prawo jazdy."
          ],
          [
           "Neutral",
           "Negative",
           "Podobno jeszcze do niedawna był postrachem, głównie za sprawą Fizyki I i II stopnia, ale potem był już nie do zatrzymania. Występował z coraz większym entuzjazmem, stał się niekwestionowanym przywódcą ruchu."
          ],
          [
           "Neutral",
           "Neutral",
           "W sumie bezstresowe wychowanie, szkoła, praca... Ja to bym się wstydził być rodzicem."
          ],
          [
           "Neutral",
           "Neutral",
           "Na zajeciach nalezy byc cicho, osoby siedzace w kucki i zachowujace sie cicho moga byc zauwazane."
          ],
          [
           "Neutral",
           "Negative",
           "To był pierwszy krem do twarzy, którego używała m. Jest tani, wydajny i dobrze natłuszcza skórę, co jest ogromną zaletą szczególnie zimą. Poza tym, krem jest nijaki. Nie polecam używania go latem i w ciepłe dni. Skóra po nim bardzo się świeci i jest bardzo tłusta. Krem ma swój zapach, za każdym razem kiedy go używam czuję ten sam słodki zapach. Polecam go jednak do stosowania w okresie zimowym, ponieważ po nim skóra jest bardzo przesuszona i sucha."
          ],
          [
           "Neutral",
           "Positive",
           "Wg mnie te 6 ,5k to zdecydowanie przesada. Ja mam to samo."
          ],
          [
           "Neutral",
           "Negative",
           "Pani Profesor jest bardzo miłą osobą jako człwiek, na wykładzie z chemii analitycznej I rzeczywiście delikatnie rzecz ujmując podpowiadała , co się dzieje z pierwiastkami w naszych organizmach, a więc z cząsteczkami, które się ze sobą łączą."
          ],
          [
           "Neutral",
           "Neutral",
           "Zajmuje to góra dwa dni, zwłaszcza ze odpowiedzi sa wspólnie opracowywane przez studentów."
          ],
          [
           "Neutral",
           "Neutral",
           "Tak czy inaczej, jeśli wahasz się między Panem Bogiem a Tobą i chcesz się upewnić co do prawdziwości tego, co On mówi, proszę, powiedz mi, czy rzeczywiście nie masz"
          ],
          [
           "Neutral",
           "Positive",
           "Wymaga absolutnej ciszy, mam słuch i wzrok jak u człowieka - zapewnił ją. - Pomożesz mi się rozebrać?"
          ],
          [
           "Neutral",
           "Positive",
           "Projekt nie musi być specjalnie rozbudowany, ma ładnie wyglądać, mieć elegancką zrobioną dokumentację, i mają się pokazywać ładne wykresy."
          ],
          [
           "Neutral",
           "Neutral",
           "Ocena jest za obecność, ale trzeba uważać : bardzo nie lubi ludzi, którzy mają coś do ukrycia."
          ],
          [
           "Neutral",
           "Positive",
           "Jest piec kartkowek / kurs angielskiego i tyle/."
          ],
          [
           "Neutral",
           "Positive",
           "Pan Górniak jest wymagający ale daje radę, na pewno to nie jest taki trener, który może dać nam tylko jednego"
          ],
          [
           "Neutral",
           "Positive",
           "Wg mnie te 6 minut to troche za mało."
          ],
          [
           "Neutral",
           "Positive",
           "Nie było na sali osoby która potrafiła by nie śmiać mu się prosto w twarz."
          ],
          [
           "Neutral",
           "Negative",
           "Zaliczyli wszyscy ( można było oddać wypracowanie - wtedy się nie płaci ). Poszedłem ze znajomymi, każdy oddawał."
          ],
          [
           "Neutral",
           "Negative",
           "Reszta zadań : – Połączenie z Internetem (mobilna, bezprzewodowa)"
          ],
          [
           "Neutral",
           "Negative",
           "To co mówi pan profesor może i jesst ciekawe i nieraz na wykopie czytałem."
          ],
          [
           "Neutral",
           "Negative",
           "Zadania zlecone gminie w ramach części oświatowej subwencji ogólnej są zadaniem zleconym"
          ],
          [
           "Neutral",
           "Neutral",
           "Jeśli wyczyta nieobecnego, to ta osoba na 100 % będzie czytana na kolejnych zajęciach."
          ],
          [
           "Neutral",
           "Negative",
           "krzesełko o ładnej kolorystyce, bardzo przydatna regulacja siedziska i oparcia, można je szybko wyczyścić bo jest pokryte specjalnym materiałem w który nie wnika woda ale oprócz tego same minusy, moje dziecko poci się w tym krzesełku straszliwie - właśnie ze względu na to, że siedzisko jest mokre, nawet do około 1/3 wysokości, to dziecko nie potrafi sie wyprostować i nie potrafi się wyprostować do pozycji leżącej. Niestety po paru miesiącach użytkowania krzesełko przestało sie ruszać."
          ],
          [
           "Neutral",
           "Neutral",
           "Był em na jej zajęciach w 100 %, starał em się jak mogł em by nadgonić grupę gdyż nie zdawał em matury z anglika a znalazł em się na B 1."
          ],
          [
           "Neutral",
           "Negative",
           "Co innego po angielsku. Z tym że to już nie jest ta sama jakość."
          ],
          [
           "Neutral",
           "Negative",
           "Przyłapanie na ściąganiu to 2.0 z danej pracy."
          ],
          [
           "Neutral",
           "Positive",
           "On jest chyba fanatykiem swoich dziedzin ( a jest tego pewien) a nie potrafi nic w tym kierunku zrobic, tylko sie wypowiada."
          ],
          [
           "Neutral",
           "Positive",
           "Jeśli chodzi o wykład na WEMiF - ie ludzie chyba nie bardzo rozumieją o co chodzi."
          ]
         ],
         "hovertemplate": "True Label=%{customdata[0]}<br>TSNE-1=%{x}<br>TSNE-2=%{y}<br>Predicted Label=%{customdata[1]}<br>Text=%{customdata[2]}<extra></extra>",
         "legendgroup": "Neutral",
         "marker": {
          "color": "blue",
          "symbol": "circle"
         },
         "mode": "markers",
         "name": "Neutral",
         "orientation": "v",
         "showlegend": true,
         "type": "scatter",
         "x": [
          2.5107434,
          -2.638941,
          -0.70194125,
          -5.212305,
          -0.54833287,
          -2.2301962,
          -1.1292069,
          0.55703235,
          -1.1394123,
          1.2777803,
          5.9340982,
          1.0015692,
          3.6854775,
          -0.44181514,
          -2.6157217,
          -3.680755,
          -3.8856597,
          0.2236444,
          -1.8542064,
          0.5268989,
          3.2073803,
          1.3415964,
          1.4267379,
          0.9407974,
          5.411408,
          3.093513,
          3.4732313,
          7.607587,
          1.5847495,
          3.3482556,
          3.0354207,
          -0.17344062,
          1.5046372,
          -5.6236773,
          1.6602612,
          4.444455,
          6.929181,
          0.570079,
          2.674873
         ],
         "xaxis": "x",
         "y": [
          2.253826,
          -5.8290358,
          2.748439,
          -2.014449,
          2.20478,
          2.7074819,
          1.8088847,
          6.3920126,
          0.58821714,
          0.5220635,
          -6.6273756,
          -7.0557528,
          -8.146912,
          4.157432,
          1.9514661,
          2.1843941,
          7.0609145,
          -4.733386,
          4.580997,
          3.4876137,
          5.043602,
          3.3676362,
          2.5644083,
          2.8051627,
          -5.3734765,
          4.0242243,
          -7.365179,
          -6.0486474,
          0.81528604,
          0.77227485,
          -7.348999,
          -8.066307,
          2.0280654,
          6.2123246,
          1.6195947,
          -6.5159345,
          -6.2783027,
          0.9582658,
          -0.8732764
         ],
         "yaxis": "y"
        }
       ],
       "layout": {
        "height": 600,
        "legend": {
         "title": {
          "text": "True Label"
         },
         "tracegroupgap": 0
        },
        "template": {
         "data": {
          "bar": [
           {
            "error_x": {
             "color": "#2a3f5f"
            },
            "error_y": {
             "color": "#2a3f5f"
            },
            "marker": {
             "line": {
              "color": "#E5ECF6",
              "width": 0.5
             },
             "pattern": {
              "fillmode": "overlay",
              "size": 10,
              "solidity": 0.2
             }
            },
            "type": "bar"
           }
          ],
          "barpolar": [
           {
            "marker": {
             "line": {
              "color": "#E5ECF6",
              "width": 0.5
             },
             "pattern": {
              "fillmode": "overlay",
              "size": 10,
              "solidity": 0.2
             }
            },
            "type": "barpolar"
           }
          ],
          "carpet": [
           {
            "aaxis": {
             "endlinecolor": "#2a3f5f",
             "gridcolor": "white",
             "linecolor": "white",
             "minorgridcolor": "white",
             "startlinecolor": "#2a3f5f"
            },
            "baxis": {
             "endlinecolor": "#2a3f5f",
             "gridcolor": "white",
             "linecolor": "white",
             "minorgridcolor": "white",
             "startlinecolor": "#2a3f5f"
            },
            "type": "carpet"
           }
          ],
          "choropleth": [
           {
            "colorbar": {
             "outlinewidth": 0,
             "ticks": ""
            },
            "type": "choropleth"
           }
          ],
          "contour": [
           {
            "colorbar": {
             "outlinewidth": 0,
             "ticks": ""
            },
            "colorscale": [
             [
              0,
              "#0d0887"
             ],
             [
              0.1111111111111111,
              "#46039f"
             ],
             [
              0.2222222222222222,
              "#7201a8"
             ],
             [
              0.3333333333333333,
              "#9c179e"
             ],
             [
              0.4444444444444444,
              "#bd3786"
             ],
             [
              0.5555555555555556,
              "#d8576b"
             ],
             [
              0.6666666666666666,
              "#ed7953"
             ],
             [
              0.7777777777777778,
              "#fb9f3a"
             ],
             [
              0.8888888888888888,
              "#fdca26"
             ],
             [
              1,
              "#f0f921"
             ]
            ],
            "type": "contour"
           }
          ],
          "contourcarpet": [
           {
            "colorbar": {
             "outlinewidth": 0,
             "ticks": ""
            },
            "type": "contourcarpet"
           }
          ],
          "heatmap": [
           {
            "colorbar": {
             "outlinewidth": 0,
             "ticks": ""
            },
            "colorscale": [
             [
              0,
              "#0d0887"
             ],
             [
              0.1111111111111111,
              "#46039f"
             ],
             [
              0.2222222222222222,
              "#7201a8"
             ],
             [
              0.3333333333333333,
              "#9c179e"
             ],
             [
              0.4444444444444444,
              "#bd3786"
             ],
             [
              0.5555555555555556,
              "#d8576b"
             ],
             [
              0.6666666666666666,
              "#ed7953"
             ],
             [
              0.7777777777777778,
              "#fb9f3a"
             ],
             [
              0.8888888888888888,
              "#fdca26"
             ],
             [
              1,
              "#f0f921"
             ]
            ],
            "type": "heatmap"
           }
          ],
          "heatmapgl": [
           {
            "colorbar": {
             "outlinewidth": 0,
             "ticks": ""
            },
            "colorscale": [
             [
              0,
              "#0d0887"
             ],
             [
              0.1111111111111111,
              "#46039f"
             ],
             [
              0.2222222222222222,
              "#7201a8"
             ],
             [
              0.3333333333333333,
              "#9c179e"
             ],
             [
              0.4444444444444444,
              "#bd3786"
             ],
             [
              0.5555555555555556,
              "#d8576b"
             ],
             [
              0.6666666666666666,
              "#ed7953"
             ],
             [
              0.7777777777777778,
              "#fb9f3a"
             ],
             [
              0.8888888888888888,
              "#fdca26"
             ],
             [
              1,
              "#f0f921"
             ]
            ],
            "type": "heatmapgl"
           }
          ],
          "histogram": [
           {
            "marker": {
             "pattern": {
              "fillmode": "overlay",
              "size": 10,
              "solidity": 0.2
             }
            },
            "type": "histogram"
           }
          ],
          "histogram2d": [
           {
            "colorbar": {
             "outlinewidth": 0,
             "ticks": ""
            },
            "colorscale": [
             [
              0,
              "#0d0887"
             ],
             [
              0.1111111111111111,
              "#46039f"
             ],
             [
              0.2222222222222222,
              "#7201a8"
             ],
             [
              0.3333333333333333,
              "#9c179e"
             ],
             [
              0.4444444444444444,
              "#bd3786"
             ],
             [
              0.5555555555555556,
              "#d8576b"
             ],
             [
              0.6666666666666666,
              "#ed7953"
             ],
             [
              0.7777777777777778,
              "#fb9f3a"
             ],
             [
              0.8888888888888888,
              "#fdca26"
             ],
             [
              1,
              "#f0f921"
             ]
            ],
            "type": "histogram2d"
           }
          ],
          "histogram2dcontour": [
           {
            "colorbar": {
             "outlinewidth": 0,
             "ticks": ""
            },
            "colorscale": [
             [
              0,
              "#0d0887"
             ],
             [
              0.1111111111111111,
              "#46039f"
             ],
             [
              0.2222222222222222,
              "#7201a8"
             ],
             [
              0.3333333333333333,
              "#9c179e"
             ],
             [
              0.4444444444444444,
              "#bd3786"
             ],
             [
              0.5555555555555556,
              "#d8576b"
             ],
             [
              0.6666666666666666,
              "#ed7953"
             ],
             [
              0.7777777777777778,
              "#fb9f3a"
             ],
             [
              0.8888888888888888,
              "#fdca26"
             ],
             [
              1,
              "#f0f921"
             ]
            ],
            "type": "histogram2dcontour"
           }
          ],
          "mesh3d": [
           {
            "colorbar": {
             "outlinewidth": 0,
             "ticks": ""
            },
            "type": "mesh3d"
           }
          ],
          "parcoords": [
           {
            "line": {
             "colorbar": {
              "outlinewidth": 0,
              "ticks": ""
             }
            },
            "type": "parcoords"
           }
          ],
          "pie": [
           {
            "automargin": true,
            "type": "pie"
           }
          ],
          "scatter": [
           {
            "fillpattern": {
             "fillmode": "overlay",
             "size": 10,
             "solidity": 0.2
            },
            "type": "scatter"
           }
          ],
          "scatter3d": [
           {
            "line": {
             "colorbar": {
              "outlinewidth": 0,
              "ticks": ""
             }
            },
            "marker": {
             "colorbar": {
              "outlinewidth": 0,
              "ticks": ""
             }
            },
            "type": "scatter3d"
           }
          ],
          "scattercarpet": [
           {
            "marker": {
             "colorbar": {
              "outlinewidth": 0,
              "ticks": ""
             }
            },
            "type": "scattercarpet"
           }
          ],
          "scattergeo": [
           {
            "marker": {
             "colorbar": {
              "outlinewidth": 0,
              "ticks": ""
             }
            },
            "type": "scattergeo"
           }
          ],
          "scattergl": [
           {
            "marker": {
             "colorbar": {
              "outlinewidth": 0,
              "ticks": ""
             }
            },
            "type": "scattergl"
           }
          ],
          "scattermapbox": [
           {
            "marker": {
             "colorbar": {
              "outlinewidth": 0,
              "ticks": ""
             }
            },
            "type": "scattermapbox"
           }
          ],
          "scatterpolar": [
           {
            "marker": {
             "colorbar": {
              "outlinewidth": 0,
              "ticks": ""
             }
            },
            "type": "scatterpolar"
           }
          ],
          "scatterpolargl": [
           {
            "marker": {
             "colorbar": {
              "outlinewidth": 0,
              "ticks": ""
             }
            },
            "type": "scatterpolargl"
           }
          ],
          "scatterternary": [
           {
            "marker": {
             "colorbar": {
              "outlinewidth": 0,
              "ticks": ""
             }
            },
            "type": "scatterternary"
           }
          ],
          "surface": [
           {
            "colorbar": {
             "outlinewidth": 0,
             "ticks": ""
            },
            "colorscale": [
             [
              0,
              "#0d0887"
             ],
             [
              0.1111111111111111,
              "#46039f"
             ],
             [
              0.2222222222222222,
              "#7201a8"
             ],
             [
              0.3333333333333333,
              "#9c179e"
             ],
             [
              0.4444444444444444,
              "#bd3786"
             ],
             [
              0.5555555555555556,
              "#d8576b"
             ],
             [
              0.6666666666666666,
              "#ed7953"
             ],
             [
              0.7777777777777778,
              "#fb9f3a"
             ],
             [
              0.8888888888888888,
              "#fdca26"
             ],
             [
              1,
              "#f0f921"
             ]
            ],
            "type": "surface"
           }
          ],
          "table": [
           {
            "cells": {
             "fill": {
              "color": "#EBF0F8"
             },
             "line": {
              "color": "white"
             }
            },
            "header": {
             "fill": {
              "color": "#C8D4E3"
             },
             "line": {
              "color": "white"
             }
            },
            "type": "table"
           }
          ]
         },
         "layout": {
          "annotationdefaults": {
           "arrowcolor": "#2a3f5f",
           "arrowhead": 0,
           "arrowwidth": 1
          },
          "autotypenumbers": "strict",
          "coloraxis": {
           "colorbar": {
            "outlinewidth": 0,
            "ticks": ""
           }
          },
          "colorscale": {
           "diverging": [
            [
             0,
             "#8e0152"
            ],
            [
             0.1,
             "#c51b7d"
            ],
            [
             0.2,
             "#de77ae"
            ],
            [
             0.3,
             "#f1b6da"
            ],
            [
             0.4,
             "#fde0ef"
            ],
            [
             0.5,
             "#f7f7f7"
            ],
            [
             0.6,
             "#e6f5d0"
            ],
            [
             0.7,
             "#b8e186"
            ],
            [
             0.8,
             "#7fbc41"
            ],
            [
             0.9,
             "#4d9221"
            ],
            [
             1,
             "#276419"
            ]
           ],
           "sequential": [
            [
             0,
             "#0d0887"
            ],
            [
             0.1111111111111111,
             "#46039f"
            ],
            [
             0.2222222222222222,
             "#7201a8"
            ],
            [
             0.3333333333333333,
             "#9c179e"
            ],
            [
             0.4444444444444444,
             "#bd3786"
            ],
            [
             0.5555555555555556,
             "#d8576b"
            ],
            [
             0.6666666666666666,
             "#ed7953"
            ],
            [
             0.7777777777777778,
             "#fb9f3a"
            ],
            [
             0.8888888888888888,
             "#fdca26"
            ],
            [
             1,
             "#f0f921"
            ]
           ],
           "sequentialminus": [
            [
             0,
             "#0d0887"
            ],
            [
             0.1111111111111111,
             "#46039f"
            ],
            [
             0.2222222222222222,
             "#7201a8"
            ],
            [
             0.3333333333333333,
             "#9c179e"
            ],
            [
             0.4444444444444444,
             "#bd3786"
            ],
            [
             0.5555555555555556,
             "#d8576b"
            ],
            [
             0.6666666666666666,
             "#ed7953"
            ],
            [
             0.7777777777777778,
             "#fb9f3a"
            ],
            [
             0.8888888888888888,
             "#fdca26"
            ],
            [
             1,
             "#f0f921"
            ]
           ]
          },
          "colorway": [
           "#636efa",
           "#EF553B",
           "#00cc96",
           "#ab63fa",
           "#FFA15A",
           "#19d3f3",
           "#FF6692",
           "#B6E880",
           "#FF97FF",
           "#FECB52"
          ],
          "font": {
           "color": "#2a3f5f"
          },
          "geo": {
           "bgcolor": "white",
           "lakecolor": "white",
           "landcolor": "#E5ECF6",
           "showlakes": true,
           "showland": true,
           "subunitcolor": "white"
          },
          "hoverlabel": {
           "align": "left"
          },
          "hovermode": "closest",
          "mapbox": {
           "style": "light"
          },
          "paper_bgcolor": "white",
          "plot_bgcolor": "#E5ECF6",
          "polar": {
           "angularaxis": {
            "gridcolor": "white",
            "linecolor": "white",
            "ticks": ""
           },
           "bgcolor": "#E5ECF6",
           "radialaxis": {
            "gridcolor": "white",
            "linecolor": "white",
            "ticks": ""
           }
          },
          "scene": {
           "xaxis": {
            "backgroundcolor": "#E5ECF6",
            "gridcolor": "white",
            "gridwidth": 2,
            "linecolor": "white",
            "showbackground": true,
            "ticks": "",
            "zerolinecolor": "white"
           },
           "yaxis": {
            "backgroundcolor": "#E5ECF6",
            "gridcolor": "white",
            "gridwidth": 2,
            "linecolor": "white",
            "showbackground": true,
            "ticks": "",
            "zerolinecolor": "white"
           },
           "zaxis": {
            "backgroundcolor": "#E5ECF6",
            "gridcolor": "white",
            "gridwidth": 2,
            "linecolor": "white",
            "showbackground": true,
            "ticks": "",
            "zerolinecolor": "white"
           }
          },
          "shapedefaults": {
           "line": {
            "color": "#2a3f5f"
           }
          },
          "ternary": {
           "aaxis": {
            "gridcolor": "white",
            "linecolor": "white",
            "ticks": ""
           },
           "baxis": {
            "gridcolor": "white",
            "linecolor": "white",
            "ticks": ""
           },
           "bgcolor": "#E5ECF6",
           "caxis": {
            "gridcolor": "white",
            "linecolor": "white",
            "ticks": ""
           }
          },
          "title": {
           "x": 0.05
          },
          "xaxis": {
           "automargin": true,
           "gridcolor": "white",
           "linecolor": "white",
           "ticks": "",
           "title": {
            "standoff": 15
           },
           "zerolinecolor": "white",
           "zerolinewidth": 2
          },
          "yaxis": {
           "automargin": true,
           "gridcolor": "white",
           "linecolor": "white",
           "ticks": "",
           "title": {
            "standoff": 15
           },
           "zerolinecolor": "white",
           "zerolinewidth": 2
          }
         }
        },
        "title": {
         "text": "Przestrzeń Wektorowa Testowych Przypadków (Kolor: Prawdziwe Etykiety)"
        },
        "width": 1200,
        "xaxis": {
         "anchor": "y",
         "domain": [
          0,
          1
         ],
         "title": {
          "text": "TSNE-1"
         }
        },
        "yaxis": {
         "anchor": "x",
         "domain": [
          0,
          1
         ],
         "title": {
          "text": "TSNE-2"
         }
        }
       }
      }
     },
     "metadata": {},
     "output_type": "display_data"
    },
    {
     "data": {
      "application/vnd.plotly.v1+json": {
       "config": {
        "plotlyServerURL": "https://plot.ly"
       },
       "data": [
        {
         "customdata": [
          [
           "Negative",
           "Neutral",
           "Zacznijmy od tego, ze na zajecia trzeba sie absolutnie obryc z zadan, bo szanowny doktor nie ma czasu na zajecia."
          ],
          [
           "Positive",
           "Neutral",
           "Znam ją tez z ćwiczeń gdzie ćwiczę bo nie ma innych opcji."
          ],
          [
           "Negative",
           "Neutral",
           "Analiza matematyczna 1 ćwiczenia Ocena : unikać [ / b ] Na pierwszych ćwiczeniach myślał em, że analize zaliczę bez problemów ( jak na swoje lata), ale z czasem zacząłem sobie uświadamiać, że tak nie jest."
          ],
          [
           "Neutral",
           "Neutral",
           "Cóż...."
          ],
          [
           "Negative",
           "Neutral",
           "Jeżeli niechcesz się w to bawic to sobie odpusc, bo masz czas albo hajs"
          ],
          [
           "Negative",
           "Neutral",
           "Podobnie jak większość zawiodła m się na tej kosiarce. Wydawało się, że firmowa kosiarka będzie służyć dłużej... Od samego początku była bardzo delikatna, dobra tylko do drobnej trawki na idealnie równym terenie. Koszenie na lekkich nierównościach zakończyło się powyginanym nożem. Nóż po roku wymieniony na nowy, bo nie dało się go naostrzyć. Długo jednak nim się nie cieszyła m, silnik zaczął dziwnie pracować... aż w końcu przestał. Powiem szczerze, że dużo lepiej sprawowała się moja pierwsza najtańsza kosiarka no name. Z nożem nic się nie działo na górkach i dołkach, silnik nie do zajeżdżenia. Gdyby nie to, że uszkodziły się kółka, to dalej by pracowała. Zawiodła m się na Gardenie."
          ],
          [
           "Negative",
           "Neutral",
           "Analiza matematyczna 1 ćwiczenia Ocena : unikać [ / b ] Na pierwszych ćwiczeniach myślał em, że analize zaliczę bez problemów ( pokazywał jak się dodaje ułamki o różnych mianownikach, bawił się swoją ' maszyną liczącą ( kalkulator : wink : lubi sie nim bawić ) )."
          ],
          [
           "Positive",
           "Neutral",
           "Duza częśc grupy zaliczyła w kolokwiach."
          ],
          [
           "Positive",
           "Neutral",
           "Niesamowite poczucie humoru ciagle sie pojawia w rozmowach, bo to jest bardzo specyficzne poczucie humoru."
          ],
          [
           "Neutral",
           "Neutral",
           "Zaliczenie : : Strona internetowa wymyślonej firmy lub biznes plan."
          ],
          [
           "Neutral",
           "Neutral",
           "Oczywiscie odda j prawo jazdy."
          ],
          [
           "Positive",
           "Neutral",
           "Mozna sie z tym nie zgodzic, ale takie zycie."
          ],
          [
           "Neutral",
           "Neutral",
           "W sumie bezstresowe wychowanie, szkoła, praca... Ja to bym się wstydził być rodzicem."
          ],
          [
           "Negative",
           "Neutral",
           "Niestety co do samego prowadzącego mam już obekcje, z punktu wdzienia treningu itd. wszytko było ok ( a czesami nawet bardzo ok - rozgrzewki w formie zabawy ), ale niestety miala miejse u nas na treningu sytulacja ktora bardzo mnie do tego pana zrazila ; podczas pokazywania dźwigni na noge ( stopę ) zignorował zupełnie odklepenie w mate ( czyli powiadomienie o tym, że ma się dość, że boi ) studenta na ktorym pokazywal technike i nie puścił lub chociaż zmniejszył nacisku ( siłę skrętu )."
          ],
          [
           "Negative",
           "Neutral",
           "Ogolnie, to ujdzie, ale jezeli ma sie mozliwosc (a w koncu ktos musi), to warto ja kupic, chocby tylko na te pare dni, zeby sie upewnic"
          ],
          [
           "Neutral",
           "Neutral",
           "Na zajeciach nalezy byc cicho, osoby siedzace w kucki i zachowujace sie cicho moga byc zauwazane."
          ],
          [
           "Positive",
           "Neutral",
           "Kisielewska M., mgr Pływanie , Łódź 1997. Chmielewski J., Mentor z klasą, Łódź 1997. Chmielewski J., B."
          ],
          [
           "Positive",
           "Neutral",
           "Każda nieobecność to jest ocena w dół na koniec chyba, że odrobisz ten termin. na koniec jest krótki, bezstresowy egzamin ( bez paniki )."
          ],
          [
           "Neutral",
           "Neutral",
           "Zajmuje to góra dwa dni, zwłaszcza ze odpowiedzi sa wspólnie opracowywane przez studentów."
          ],
          [
           "Neutral",
           "Neutral",
           "Tak czy inaczej, jeśli wahasz się między Panem Bogiem a Tobą i chcesz się upewnić co do prawdziwości tego, co On mówi, proszę, powiedz mi, czy rzeczywiście nie masz"
          ],
          [
           "Positive",
           "Neutral",
           "Kurs : Fizyka 1 ćw. [ / b ] Miła, sympatyczna, często się śmieje ( czesto ironicznie : P )."
          ],
          [
           "Positive",
           "Neutral",
           "Lepiej nie . Wykonał kolejny ruch, jakby chciał ją uderzyć."
          ],
          [
           "Neutral",
           "Neutral",
           "Ocena jest za obecność, ale trzeba uważać : bardzo nie lubi ludzi, którzy mają coś do ukrycia."
          ],
          [
           "Positive",
           "Neutral",
           "Mozna sobie to porownac z ludzmi z Afryki czy Ameryki Srodkowej, ktorzy"
          ],
          [
           "Positive",
           "Neutral",
           "Kisielewska M., mgr Pływanie ."
          ],
          [
           "Negative",
           "Neutral",
           "Ogolnie, to ujdzie, ale jezeli ma sie mozliwosc sprawdzenia jakie leki sa dozwolone, jak sie leczy i jak sie je stosowalo, to wiadomo, ze moze to kosztowac"
          ],
          [
           "Neutral",
           "Neutral",
           "Jeśli wyczyta nieobecnego, to ta osoba na 100 % będzie czytana na kolejnych zajęciach."
          ],
          [
           "Neutral",
           "Neutral",
           "Był em na jej zajęciach w 100 %, starał em się jak mogł em by nadgonić grupę gdyż nie zdawał em matury z anglika a znalazł em się na B 1."
          ],
          [
           "Positive",
           "Neutral",
           "Kola nie sa zbyt trudne, wystarczy miec dobra marke. Wrzucic to do sieci i sprzedac."
          ]
         ],
         "hovertemplate": "Predicted Label=%{customdata[1]}<br>TSNE-1=%{x}<br>TSNE-2=%{y}<br>True Label=%{customdata[0]}<br>Text=%{customdata[2]}<extra></extra>",
         "legendgroup": "Neutral",
         "marker": {
          "color": "blue",
          "symbol": "circle"
         },
         "mode": "markers",
         "name": "Neutral",
         "orientation": "v",
         "showlegend": true,
         "type": "scatter",
         "x": [
          -1.1971267,
          6.227946,
          -2.0221345,
          -2.638941,
          -4.292148,
          -7.365675,
          -2.0897048,
          8.101439,
          -3.5958655,
          1.0015692,
          3.6854775,
          -3.1643517,
          -2.6157217,
          -4.586269,
          -4.4888654,
          -3.680755,
          -0.6807973,
          0.544401,
          0.5268989,
          3.2073803,
          3.9901679,
          0.3799412,
          0.9407974,
          -2.9521337,
          0.27034557,
          -4.4224544,
          1.5046372,
          1.6602612,
          -1.0294371
         ],
         "xaxis": "x",
         "y": [
          3.1456745,
          -5.844741,
          5.779196,
          -5.8290358,
          -0.84132874,
          6.9526362,
          5.8132105,
          -5.9091334,
          0.066810235,
          -7.0557528,
          -8.146912,
          -0.25611758,
          1.9514661,
          5.92486,
          -2.140523,
          2.1843941,
          -3.0160112,
          1.8393472,
          3.4876137,
          5.043602,
          0.4814676,
          5.0648136,
          2.8051627,
          -1.1089644,
          -7.3382354,
          -1.9710178,
          2.0280654,
          1.6195947,
          0.7456454
         ],
         "yaxis": "y"
        },
        {
         "customdata": [
          [
           "Positive",
           "Positive",
           "Ogolna ocena , jakosc i poczucie estetyki."
          ],
          [
           "Neutral",
           "Positive",
           "Ocena : do przejścia Pan Jerzy to całkiem fajny matematyk, co nie?"
          ],
          [
           "Positive",
           "Positive",
           "Miał em przyjemność pracować z nim przy wielu projektach. To prawdziwy profesjonalista."
          ],
          [
           "Negative",
           "Positive",
           "UWA ŻAJ NA SIEBIE BO CI ODPISZ"
          ],
          [
           "Negative",
           "Positive",
           "Przereklamowane. ( podobnie jak inne towary ( np. wkrętarka bosch i to z serii dla prof. użytku ! )."
          ],
          [
           "Positive",
           "Positive",
           "Polecam ten artykuł. Może coś się zmieni w tej materii."
          ],
          [
           "Neutral",
           "Positive",
           "Przez większośc zajęć prowadzący uczą pływać, na sali nie ma nikogo, kto by był w stanie to zrobić w pojedynkę. Po prostu w każdej chwili mogę wskoczyć do wody."
          ],
          [
           "Neutral",
           "Positive",
           "Wykład jak to wykład, ale jak się go słucha, to widać że coś jest na rzeczy, nie tylko w"
          ],
          [
           "Neutral",
           "Positive",
           "Ogólnie dla ambitnych nie warto, a dla tych co chcą przejśc na 3.0 - warto się wstrzymać z decyzją, bo jest szansa, że i w tym roku też się uda i będzie w końcu tak jak z csgo."
          ],
          [
           "Negative",
           "Positive",
           "Potrafi przyczepic sie do wszystkie - osie symetri za grubym olowkiem rysowane, wkrecajac srube w drewniany otwor z gwintem - i tak az do skutku."
          ],
          [
           "Positive",
           "Positive",
           "Niesamowite poczucie humoru ciagle mnie zadziwia."
          ],
          [
           "Positive",
           "Positive",
           "Ogólnie się z tobą zgadzam, ale nie można się poddawać."
          ],
          [
           "Negative",
           "Positive",
           "Jeżeli niechcesz słuchać to nie musisz."
          ],
          [
           "Positive",
           "Positive",
           "Tak Podstawa oceny w indeksie : egzamin Niespodziewajki : brak ( zadania powtarzają się co roku ) Poczucie humorupane pokłady Ogólne podejście do studenta : pozytywne Zerowy termin jest najprostszy ( 3 zadania ) - warunkiem przystąpienia jest jednak zaliczenie projektu u dr."
          ],
          [
           "Positive",
           "Positive",
           "Dobry wykładowca."
          ],
          [
           "Positive",
           "Positive",
           "Scharoch wypada naprawde swietnie."
          ],
          [
           "Negative",
           "Positive",
           "Fizyka 2 [ / b ] Zdac egzamin jest dosyc trudno . Zalaczam zdjecie z egzaminem."
          ],
          [
           "Negative",
           "Positive",
           "Ocena ogólna - 0."
          ],
          [
           "Negative",
           "Positive",
           "Na analizie 2 była m raz na jego blogu, gdzie pisał o czymś co nazywa \"wszechstronnym spojrzeniem\", co bardzo spodobało mi się na"
          ],
          [
           "Positive",
           "Positive",
           "Gosc jest do rany przyłóż."
          ],
          [
           "Positive",
           "Positive",
           "Pan Gańcza jest osobą bardzo dobrą jako nauczyciel dla moich uczniów."
          ],
          [
           "Neutral",
           "Positive",
           "Wg mnie te 6 ,5k to zdecydowanie przesada. Ja mam to samo."
          ],
          [
           "Positive",
           "Positive",
           "Kolokwia nie sa trudne - taki standart ogolnouczelniany."
          ],
          [
           "Neutral",
           "Positive",
           "Wymaga absolutnej ciszy, mam słuch i wzrok jak u człowieka - zapewnił ją. - Pomożesz mi się rozebrać?"
          ],
          [
           "Neutral",
           "Positive",
           "Projekt nie musi być specjalnie rozbudowany, ma ładnie wyglądać, mieć elegancką zrobioną dokumentację, i mają się pokazywać ładne wykresy."
          ],
          [
           "Neutral",
           "Positive",
           "Jest piec kartkowek / kurs angielskiego i tyle/."
          ],
          [
           "Neutral",
           "Positive",
           "Pan Górniak jest wymagający ale daje radę, na pewno to nie jest taki trener, który może dać nam tylko jednego"
          ],
          [
           "Neutral",
           "Positive",
           "Wg mnie te 6 minut to troche za mało."
          ],
          [
           "Neutral",
           "Positive",
           "Nie było na sali osoby która potrafiła by nie śmiać mu się prosto w twarz."
          ],
          [
           "Negative",
           "Positive",
           "Wydaje sie jakby s sam tego chcial - tylko ze to nie bedzie sie dawac zmienic"
          ],
          [
           "Positive",
           "Positive",
           "Ludzie... takiego lajtu jak zyje to nie widzialem... : ) Postanowilem zrobic sobie z tego tytulu mala przyjemnosc. Zaczalem ogladac ten film z czystej ciekawosci."
          ],
          [
           "Positive",
           "Positive",
           "ANALIZA MATEMATYCZNA 1 ( WYKŁAD + ĆW ) Pani wydaje byc sie bardzo dobra w tych swoich rachunkach. To znaczy, ze nie ma w nich zadnych bledow."
          ],
          [
           "Negative",
           "Positive",
           "Radze trzymac go tam, gdzie moze sie zgubic."
          ],
          [
           "Positive",
           "Positive",
           "Na koniec jest to, że \"konkurencja\" w tym przypadku była \"na rękę"
          ],
          [
           "Positive",
           "Positive",
           "Szermierka to bardzo ciekawy sport, a Pan Gańcza potrafi go nauczyc."
          ],
          [
           "Neutral",
           "Positive",
           "On jest chyba fanatykiem swoich dziedzin ( a jest tego pewien) a nie potrafi nic w tym kierunku zrobic, tylko sie wypowiada."
          ],
          [
           "Neutral",
           "Positive",
           "Jeśli chodzi o wykład na WEMiF - ie ludzie chyba nie bardzo rozumieją o co chodzi."
          ],
          [
           "Positive",
           "Positive",
           "Znam ją tez z ćwiczeń gdzie dobrze i przystepnie tłumaczy."
          ],
          [
           "Positive",
           "Positive",
           "Ogólnie bardzo polecam, Krzysztof Bogdan ze swoim plecakiem i poczuciem humoru ( ' a ) bardzo fajne są te filmy, bo to są takie komedie o życiu ( 'a) - fajne są też te wszystkie wywiady z psychologami"
          ]
         ],
         "hovertemplate": "Predicted Label=%{customdata[1]}<br>TSNE-1=%{x}<br>TSNE-2=%{y}<br>True Label=%{customdata[0]}<br>Text=%{customdata[2]}<extra></extra>",
         "legendgroup": "Positive",
         "marker": {
          "color": "green",
          "symbol": "circle"
         },
         "mode": "markers",
         "name": "Positive",
         "orientation": "v",
         "showlegend": true,
         "type": "scatter",
         "x": [
          0.51170886,
          2.5107434,
          7.552584,
          1.6928091,
          5.074019,
          5.2792325,
          -0.70194125,
          -5.212305,
          -0.54833287,
          0.5031039,
          1.0317616,
          -3.928296,
          4.2420306,
          2.2152627,
          -1.2861308,
          4.415779,
          2.886108,
          -0.037816312,
          -4.4245143,
          8.229519,
          7.207337,
          0.2236444,
          3.356329,
          1.3415964,
          1.4267379,
          5.411408,
          3.093513,
          3.4732313,
          7.607587,
          -4.1794,
          1.8675283,
          2.8801258,
          1.5200546,
          -6.354857,
          -0.4579829,
          0.570079,
          2.674873,
          6.173527,
          -2.216516
         ],
         "xaxis": "x",
         "y": [
          -5.67392,
          2.253826,
          -6.716221,
          -8.770576,
          -2.9861896,
          -6.395121,
          2.748439,
          -2.014449,
          2.20478,
          0.22641315,
          -7.5230336,
          -0.96748793,
          -7.420264,
          -2.1185598,
          -6.7856975,
          -7.230442,
          -6.262788,
          -6.3141546,
          2.1829007,
          -6.3215866,
          -6.877384,
          -4.733386,
          -1.5114363,
          3.3676362,
          2.5644083,
          -5.3734765,
          4.0242243,
          -7.365179,
          -6.0486474,
          -3.149556,
          -2.806859,
          -2.2201548,
          4.1444345,
          0.7609572,
          2.9217682,
          0.9582658,
          -0.8732764,
          -6.041665,
          0.19821244
         ],
         "yaxis": "y"
        },
        {
         "customdata": [
          [
           "Negative",
           "Negative",
           "Lakier roweru bardzo kiepskiej jakości, robią się odpryski nie wiadomo od czego rower ładny wygodny ale po 3 miesiącach użytkowania widoczne odpryski lakieru czego za taką cenę nie powinno być ! ! ! ! ! ! ! ! ! ! ! ! ! ! ! ! ! ! ! ! ! ! ! ! ! ! ! ! ! ! ! ! ! ! ! ! ! ! ! ! ! ! ! ! ! ! ! ! ! ! ! ! ! ! ! ! ! ! ! ! ! ! ! ! ! ! ! ! ! ! ! ! ! ! ! ! ! ! ! ! ! ! ! ! ! ! ! ! ! ! ! ! ! ! ! ! ! ! ! ! ! ! ! ! ! ! ! ! ! ! ! ! ! ! ! ! ! ! ! ! ! ! ! ! ! ! ! ! !"
          ],
          [
           "Negative",
           "Negative",
           "Budzik zdecydowanie nie jest warty ceny 75 zł. Zalety : ładny wygląd, dobre spasowanie materiału, duże czytelne cyfry, głośny alarm. Wady : wykonany z kiepskiej jakości, taniego plastiku, przyciski ( w tym alarmu i drzemki ) umieszczone z tyłu, co jest bardzo niepraktyczne w nocy, przyciski też tandetne ( głośne i twarde ). Może przeszkadzać : brak regulacji podświetlenia, bateria podtrzymująca pamięć w coraz rzadziej spotykanej postaci 9V ( nie mogły być paluszki ? ). Przydatna była by również opcja regulacji alarmu ( np. od delikatnego do mocnego )."
          ],
          [
           "Negative",
           "Negative",
           "Ja idąc na informatyke 3 nie znałęm prawie w ogóle jezyka C no i to nie jest kurs dla takich osób jak ja tylko dla początkujących."
          ],
          [
           "Negative",
           "Negative",
           "jestem pilarzem od parunastu lat, skusił em się na tego partnera w listopadzie 2016r. Łatwo się uruchamia i dobrze pracuje, lekka, poręczna, wygodna ale za mały otwór wlewu oleju i za małe objętości zbiornika paliwa i oleju - trzeba często uzupełniać je, filtr powietrza w zasadzie jednorazowy zapycha się po około tygodniu pracy ( około 3h dziennej pracy piły ) - koszt nowego 10zł, zaś po 3 miesiącach pękła linka gazu ( każde naciśnięcie manetki gazu łamie linkę - takie dziwne rozwiązanie konstrukcyjne ) - koszt nowej 40zł, jak dla mnie trochę za wysokie koszty utrzymania tej piły - jestem zawiedziony tym modelem partnera."
          ],
          [
           "Negative",
           "Negative",
           "NIE OLEWAJ GORNIAKA i nie podpadaj pod żadne paragrafy. Ja zawsze staram się tak jak mówisz nie podpaść."
          ],
          [
           "Positive",
           "Negative",
           "Analiza matemtyczna 1 ocena : ok [ / b ] miły, zajecia jakos mijają, wiesz za duzo rzeczy do ogarnięcia, i za malo czasu, i za malo czasu, i za malo czasu, za duzo czasu, za malo czasu,"
          ],
          [
           "Positive",
           "Negative",
           "Każda nieobecność to jest ocena w dół na koniec chyba, że odrobisz pracę domową i się postarasz, ale to nie jest tak, że nie mam prawa do zwolnienia, bo na to już nie wystarczy"
          ],
          [
           "Neutral",
           "Negative",
           "Umie wytłumaczyc trudne zadania, chociaz tak naprawde te najtrudniejsze to z miła chęcią omiajał mówiąc po prostu że są one głupie i nie ma sensu ich rozwiązywać. Na koniec zapytał mnie ile czasu mam na wykonanie zadań i powiedział że do 1 roku studiów chce mieć skończone."
          ],
          [
           "Negative",
           "Negative",
           "Witam Długo się namyślał em przed zakupem przyzwoitego pistoletu i zdecydował em się na STEINELA 3002. Porażka na całej lini pierwsza próba pracy zagrzewa, podał klej i przestał działać. Wysyłka na serwis. Po wymianie systemu grzejnego pistolet puszczał klej bokami, kapał z podajnika i po pięciu minutach ponownie przestał działać. Wysyłka na serwis. Jak do tej pory mam go od dwóch miesięcy a popracował 5 dni. Nie jest zły ale nie jest też wart swojej ceny."
          ],
          [
           "Neutral",
           "Negative",
           "Koła zwykle do najłatwiejszych nie należą, ale jeśli to nie jest dla Ciebie za trudne to polecam sprawdzić, bo w dzisiejszych czasach są różne typy motocykli."
          ],
          [
           "Negative",
           "Negative",
           "Po prostu trzeba dużo się uczyć i rozumieć, że z każdego zdania można coś wynieść."
          ],
          [
           "Positive",
           "Negative",
           "dr Kornel jest wporzadku. wprwawdzie nie potrafi nauczyc algebry ( jak sam przyznaje sam jej juz nie umie : D ), ale jest bardzo przyjaznie nastawiony do studentow. wyklady sa dosc ciekawe, bo pan dr niezbyt czesto porusza problematyke czysto matematyczna, zwykle opowiada co ciekawego dzieje sie na siwecie. kolokwia sa proste pod warunkiem, ze posiedzi sie przy skrypcie ; ) ale nie radze na nich sciagac ( zlaszcza od sasiadow ) bo na samym kole dr Kornel siedzi w kacie i na nikogo nie zwraca uwagi, za to przy sprawdzaniu prac robi wnikliwe.. sledztwo. ogólnie : polecam ! ! !"
          ],
          [
           "Positive",
           "Negative",
           "Uważam, że to najlepszy kitowy obiektyw na rynku. Wykonanie metal i bardzo dobrej jakości tworzywi. Pierścień przysłony chodzi z należytym oporem i skokiem. Wbudowana stabilizacja jest wydajna i naprawdę pomaga w wielu sytuacjach. Obiektyw bardzo ostry już od największego otworu przysłony. Celność bdb. To za co pochwalę go dodatkowo to szybki silnik autofokusa - używał em go na poczatku z dosyć mułowatym X - E1, teraz, kiedy przesiadł em się na X - T1 to mogę tylko chwalić ! ! ! Ostatni plus to bardzo dobrze opracowany system uszczelnień - obiektyw, mimo, iż jest to zoom, w ogóle nie zasysa kurzu do środka ( miałem już wiele zoomów : Nikkory, Sigmy i tam był to problem ). Polecam !"
          ],
          [
           "Neutral",
           "Negative",
           "Niestety z zaliczeniem nie jest łatwo ( kolokwia oceniane w skali 3 - 5,5, kolokwia oceniane w skali 1 - 10, kolokwia oceniane w skali"
          ],
          [
           "Neutral",
           "Negative",
           "W tym roku nawet obnizyl prog zaliczenia z 12 na 10 pkt : shock : Generalnie nie jest zle, pozatym AiR nie ma innego wyboru ; )"
          ],
          [
           "Negative",
           "Negative",
           "Jest po prostu na tych wykładach nudno i niczego się człowiek nie dowie pożytecznego, bo na ćwiczeniach materiał idzie zdecydowanie szybciej ( wszystko za sprawą wszelkich dygresji Pana doktora podczas wykładu )."
          ],
          [
           "Positive",
           "Negative",
           "Kurs : Fizyka 1 ćw. [ / b ] Miła, miła, miła."
          ],
          [
           "Negative",
           "Negative",
           "Grzejniki ładne ale mają beznadziejne termostaty bez pamięci nastaw i możliwości programowania. Można jedynie skorygować nastawy fabryczne ale do czasu pierwszego zaniku napięcia, potem i tak wszystko powróci do nastaw fabrycznych. Poza tym termostaty bardzo łatwo się przegrzewają i przy bardzo niskich temperaturach przy bardzo wysokich temp. nie są wcale stabilne."
          ],
          [
           "Negative",
           "Negative",
           "Za ta cenę spodziewał em się bardziej dopracowanego sprzętu. Miska mocowana w robocie jest w przeciwnym kierunku niż kręci się rózga tak więc przy cięższych ciastach lubi się wypiąć podczas pracy. Niedopracowane same rózgi do misy ( chociaż wyglądają bardzo profesjonalnie ) pozostawiają na dnie nierozmieszane ciasto lub krem ( zaznaczę ze posiadam inne miksery roboty które wypadają o niebo lepiej ) Najbardziej irytujące są jednak mieszadła silikonowe które powinny zbierać wszystko ze ścianek oraz spodu misy co bardzo przeszkadza a właściwie uniemożliwia korzystanie z miski."
          ],
          [
           "Neutral",
           "Negative",
           "Pisemna to test z gramatyki ( uzupełnianka )... obszerny ale do przejścia, jest też poprawka."
          ],
          [
           "Negative",
           "Negative",
           "Kiedy na początku zobaczył em słuchawki zachwycał em się nimi. Dobry mikrofon, ładne opakowanie, przyjemny wygląd słuchawek. Ogólnie mówiąc NAJPIERW był em bardzo zadowolony. Gdzieś po 3 miesiącach problemy z mikrofonem się zaczęły raz działał raz nie, po 6 nie odpinał em go ponieważ wtedy już nie działał na długo i nie chciał em kusić losu licząc na kolejny cud, że jak podłącze to znowu zadziała. Po 3 / 4 roku siadła jedna strona zupełnie.... To już mnie kompletnie dobiło i zmienił em na akg 514 i co... ? Ogromna różnica w jakości a należało trochę dopłacić. I na nowych słuchawkach słychać znacznie lepiej w fps na jakim przeciwnik jest poziomie jak jest z tyłu na fatality nie mogł em rozróżnić. Dopóki się odwrócił em i sprawdził em zazwyczaj dead. Nie polecam na dłuższą metę na 3 miesiące mogą być w porządku ale na to zakup na krótko. Beznadziejne wykonanie, kabla mikrofona i ogólnie całych słuchawek."
          ],
          [
           "Neutral",
           "Negative",
           "W ktorym mogą pojawić się problemy z dostępnością i poprawnym działaniem."
          ],
          [
           "Negative",
           "Negative",
           "Podobnie jak większość zawiodła m się na tej kosiarce. Wydawało się, że firmowa kosiarka będzie służyć dłużej... Od samego początku była bardzo delikatna, dobra tylko do drobnej trawki na idealnie równym terenie. Koszenie na lekkich nierównościach zakończyło się powyginanym nożem. Nóż po roku wymieniony na nowy, bo nie dało się go naostrzyć. Kosiarka była dobra tylko do koszenia trawy. Wózek, który na nim jest teraz, jest bardzo wąski, a kosiarka jest naprawdę lekka. Kosiarka była tania, ale kosiarka była bardzo dobra. Nie było w niej nic nadzwyczajnego. Wózek, który teraz posiadam, jest bardzo stabilny i stabilny. Jest cichy, ale jeździ się nim cicho. Kosz na trawę jest mniejszy i mniej poręczny."
          ],
          [
           "Neutral",
           "Negative",
           "Podobno jeszcze do niedawna był postrachem, głównie za sprawą Fizyki I i II stopnia, ale potem był już nie do zatrzymania. Występował z coraz większym entuzjazmem, stał się niekwestionowanym przywódcą ruchu."
          ],
          [
           "Negative",
           "Negative",
           "Jestem świeżo po zakupie Marantza 611. Urządzenie bardzo dobrze odtwarza płyty CD. Gorzej jest z nośnikami USB. Nośniki czytane są długo i dźwięk jest słyszalnie uboższy pomimo odtwarzania plików FLAC. Jednak kompletna porażka to wieszanie się urządzenia jeśli zaczynamy słuchać stacji z radia cyfrowego DAB +. Sytuacja jest powtarzalna po dodaniu stacji dwóch DAB + do ulubionych i próbie przełączania się między nimi następuje zawieszenie urządzenia, dokładniej odtwarzania dźwięku. Przywrócenie odtwarzania dziwięku jest możliwe po wybraniu stacji FM do odtwarzania. Drugą kwestią jest włączanie się samo z siebie urządzenia. Czyli śpisz sobie a ono się włącza. Wyłączasz. Za 2h jest to samo. Jeśli do tego dodamy głęboko rozczarowującą scenę dżwiękową dla nośników USB lepiej kupić coś tańszego nawet jeśli będzie miało te same wady."
          ],
          [
           "Negative",
           "Negative",
           "Grill ma wadę, dużą, z którą niestety żył em 3 lata. Tłuszcz zamiast skapywać w całości do dołączonej miseczki, spływał pod płytę grzewczą, zawsze po grillowaniu, musiałem go postawić w pionie i patrzeć jak wylewa się to na blat. Nie wiem czy Philips tego nie przemyślał, nie sprawdził, ale jest to tragiczne niedopatrzenie. Kilka dni temu grill owałem grillowane warzywa i już widzę jak tłuszcz spłynie pod płytę, a na płycie nie pozostanie nawet kropla tłuszczu, który powinien zostać w pojemniku na tłuszcz."
          ],
          [
           "Negative",
           "Negative",
           "Niestety w moich testach wypadł strasznie marnie. Prędkość zapisu dużego pojedynczego pliku na USB 2. 0 to 5MB / s i nie chce być szybciej. Obojętne czy NTFS czy FAT32. Kupił em 2 egzemplarze i na każdym taka żenada. Wstyd dla Patriota. Dane podane przez producenta są wyssane z palca."
          ],
          [
           "Positive",
           "Negative",
           "Obiektyw ten przeznaczony jest dla osób które dopiero zaczynają fotografowanie lustrzankami cyfrowymi marki Canon. Jest to obiektyw bez stabilizacji obrazu ( jest ona w nowszym modelu Mark III ). Cena tego obiektywu nie jest wygórowana. Można go już kupić w bardzo dobrym stanie za około 160 - 190 zł, czyli jak na obiektyw śmieszne pieniądze. Dla początkującego fotografa będzie to okazja do nauczenia się jak robić zdjęcia oraz zapoznania się z technologią optyczną. Zdjęcia będą bardzo realistyczne a film, w jakości Full HD, nie będzie przeszkadzał."
          ],
          [
           "Positive",
           "Negative",
           "Fizyka laborki POLECAM ! ! ! !"
          ],
          [
           "Negative",
           "Negative",
           "Za ta cenę spodziewał em się bardziej dopracowanego sprzętu. Miska mocowana w robocie jest w przeciwnym kierunku niż kręci się rózga tak więc przy cięższych ciastach lubi się wypiąć podczas pracy. Niedopracowane same rózgi do misy ( chociaż wyglądają bardzo profesjonalnie ) pozostawiają na dnie nierozmieszane ciasto lub krem ( zaznaczę ze posiadam inne miksery roboty które wypadają o niebo lepiej ) Najbardziej irytujące są jednak mieszadła silikonowe które powinny zbierać wszystko ze ścianek oraz spodu misy co bardzo przeszkadza a właściwie uniemożliwia podbijanie mas na * * * * * z jednoczesnym podgrzewaniem ( w tym celu to zakupił em ) chyba że chcemy jajecznicę to wtedy są wręcz idealne. Co do trwałości robota nie mogę nic powiedzieć za krótko go posiadam. Reasumując osobiście nie kupił by m ponownie robota za taką cenę wiedząc o jego wadach. Do napisania opini skłoniło mnie rozczarowanie : ( : ( : ( i jestem delikatnie wciekły nie wspomnę że lżejszy o 3800. Zawsze jest nadzieja ze ktoś z firmy Kenwood przeczyta moje wypociny i w przyszłych modelach poprawią niedoróbki. Tak tak wiem ze nadzieja jest matką....."
          ],
          [
           "Negative",
           "Negative",
           "hhmm, no to jazda z tym Wygląd i to tylko ta zaleta. Jeśli chodzi o resztę to ; brak osiowości ławki, brak stabilności ( ćwicząc na ławce skos ujemny radzę zakładać pampersa ). Teraz widze że sprzęt jest robiony masowo przez zwykłego Kowalskiego ( na Chiński to będzie Jung Pęk Spaw ). Urządzenie do ćwiczeń na nogi ucieka kilka stopni w jedną stronę, modlitewnik tragedia, oparcie do ćwiczenia rozpiętek na siedząco jest krzywo osadzone, i nawet przy prawidłowym wyproście siedzi się trochę za głęboko i plecy bolą. Za bardzo odstaje od reszty. Wybieram się w tym roku na siłkę, ale chyba nie pójdę bo jestem za biedny, żeby mieć sprzęt do ćwiczeń na nogi za 300-500 zł."
          ],
          [
           "Neutral",
           "Negative",
           "To był pierwszy krem do twarzy, którego używała m. Jest tani, wydajny i dobrze natłuszcza skórę, co jest ogromną zaletą szczególnie zimą. Poza tym, krem jest nijaki. Nie polecam używania go latem i w ciepłe dni. Skóra po nim bardzo się świeci i jest bardzo tłusta. Krem ma swój zapach, za każdym razem kiedy go używam czuję ten sam słodki zapach. Polecam go jednak do stosowania w okresie zimowym, ponieważ po nim skóra jest bardzo przesuszona i sucha."
          ],
          [
           "Negative",
           "Negative",
           "Grill ma wadę, dużą, z którą niestety żył em 3 lata. Tłuszcz zamiast skapywać w całości do dołączonej miseczki, spływał pod płytę grzewczą, zawsze po grillowaniu, musiałem go postawić w pionie i patrzeć jak wylewa się to na blat. Nie wiem czy Philips tego nie przemyślał, nie sprawdził, ale jest to tragiczne niedopatrzenie. Kilka dni temu grill odmówił posłuszeństwa. Nie grzeje. Pokrętło do do ustawiania temperatury odmówiło z rok temu, przestało mieć grzechotkę, ale nie przeszkadzało to w użytkowaniu. Za minus uważam też brak możliwości dokupienia samych płyt teflonowych, choćby w cenie połowy grilla. Zdecydowanie nie polecam i nie kupię grilla Philipsa, a w przypadku awarii, muszę kupić nowego."
          ],
          [
           "Positive",
           "Negative",
           "Pani Małgorzata chętna jest do pomocy z trudniejszymi zadaniami."
          ],
          [
           "Neutral",
           "Negative",
           "Pani Profesor jest bardzo miłą osobą jako człwiek, na wykładzie z chemii analitycznej I rzeczywiście delikatnie rzecz ujmując podpowiadała , co się dzieje z pierwiastkami w naszych organizmach, a więc z cząsteczkami, które się ze sobą łączą."
          ],
          [
           "Positive",
           "Negative",
           "Nie ma kartkówek , ale z tego co wiem to w gimnazjum się to już nie zdarza."
          ],
          [
           "Negative",
           "Negative",
           "Najpierw + dostajemy produkt z najwyższej półki, pięknie zapakowany. Mysz jest wygodna, działa ( jak już działa ) precyzyjnie. To tyle z +... teraz - nigdy więcej sprzętu dla graczy RAZERA. Przereklamowane - to pierwsze to narzuca mi się na myśl. Absurdalna cena jak za taki sprzęt. Gumki pod kciukiem odpadły po trzech miesiącach. Scroll miał problem z działaniem już po miesiącu, sensor również choć korzystam z aluminiowej podkładki. Obydwie części musiałem czyścić. Najgorsze jednak jest oprogramowanie Razer Synapse, które zawiesza się za każdym razem kiedy je podłączę do PC. Nie mogę nawet sprawdzić czy klawiatura się kręci, czy na ekranie coś jest. A nawet jak jestem podłączony do PC, to nie działa, nie mam jak sprawdzić czy klawiatura się kręci."
          ],
          [
           "Negative",
           "Negative",
           "hhmm, no to jazda z tym Wygląd i to tylko ta zaleta. Jeśli chodzi o resztę to ; brak osiowości ławki, brak stabilności ( ćwicząc na ławce skos ujemny radzę zakładać pampersa ). Teraz widze że sprzęt jest robiony masowo przez zwykłego Kowalskiego ( na Chiński to będzie Jung Pęk Spaw ). Urządzenie do ćwiczeń na nogi ucieka kilka stopni w jedną stronę, modlitewnik tragedia, oparcie do ćwiczenia rozpiętek na siedząco jest krzywo osadzone, sztanga do wyciskania na ławce jest za ciężka i źle leży na nodze ( to moje subiektywne odczucie) a do tego dochodzi wadliwy system chłodzenia i nie mogę na nim ćwiczyć. Na razie to tylko moje spostrzeżenia, ale to jeszcze nie koniec. Jeśli coś nie jest złe to z pewnością nie można tego nazwać wadliwym sprzętem."
          ],
          [
           "Negative",
           "Negative",
           "Ten router to porażka, gdyż nie jest w stanie poprawnie współpracować z modemem Huawei E180 pomimo tego ze w specyfikacji umieszczonej na opakowaniu producent zapewnia, że biedzie współpracować co okazało się nieprawdą. Router po chwili od włączenia rozłącza internet także nie da się z niego w ogóle korzystać i nie pomagają aktualizacje firmware. Być może z innym modem ten router by zadziałał ale ten który mam z racji tego że go posiadam nie posiada tego złącza co powinien. Zasadniczo na początku działania nie było problemu gdyż działało, natomiast gdy zacząłem korzystać z routera to z niego nie dało się korzystać. Odłączenie od internetu i restarty nie pomogły. Aktualizacja firmware nie pomogła. Przetestowałem go z poziomu routera, w domu mam 2 urządzenia sieciowe i każdy działa tak samo."
          ],
          [
           "Neutral",
           "Negative",
           "Zaliczyli wszyscy ( można było oddać wypracowanie - wtedy się nie płaci ). Poszedłem ze znajomymi, każdy oddawał."
          ],
          [
           "Neutral",
           "Negative",
           "Reszta zadań : – Połączenie z Internetem (mobilna, bezprzewodowa)"
          ],
          [
           "Neutral",
           "Negative",
           "To co mówi pan profesor może i jesst ciekawe i nieraz na wykopie czytałem."
          ],
          [
           "Neutral",
           "Negative",
           "Zadania zlecone gminie w ramach części oświatowej subwencji ogólnej są zadaniem zleconym"
          ],
          [
           "Negative",
           "Negative",
           "Fizyka 2 [ / b ] Zdac egzamin jest dosyc trudno tak bylo w moim przypadku zdalo bardzo mało osub."
          ],
          [
           "Negative",
           "Negative",
           "* * * * * jakich mało za tę cenę to jakieś ewidentne żarty. Oddał em jedną kamerę na gwarancji bo nie nagrywała filmów akurat tych co mi byly potrzebne. 1 wyskoczyła mi sarna nie ma filmu, 2. wyskoczył mi lis nie ma filmu Wszystkie sytuacje obeszły się szczęśliwie ale gdyby coś poszło nie tak potrzebował by m filmu żeby chociaż udowodnić moją racje ubezpieczycielowi. Oddał em kamerę i ona zaginęła . W międzyczasie znalazłem inną kamerke i tam tez nie było problemu. Oddał em drugą kamerę ale tam tez nie było problemów."
          ],
          [
           "Neutral",
           "Negative",
           "krzesełko o ładnej kolorystyce, bardzo przydatna regulacja siedziska i oparcia, można je szybko wyczyścić bo jest pokryte specjalnym materiałem w który nie wnika woda ale oprócz tego same minusy, moje dziecko poci się w tym krzesełku straszliwie - właśnie ze względu na to, że siedzisko jest mokre, nawet do około 1/3 wysokości, to dziecko nie potrafi sie wyprostować i nie potrafi się wyprostować do pozycji leżącej. Niestety po paru miesiącach użytkowania krzesełko przestało sie ruszać."
          ],
          [
           "Negative",
           "Negative",
           "Na każdej laborce kartkówka, teraz moge stwierdzić że może nie były aż takie trudne, ale zaliczył em jedną na 5 czy 6... po prostu jeżeli nigdy przedtem nie miał eś do czynienia z językiem C to naprawde jest trudno."
          ],
          [
           "Neutral",
           "Negative",
           "Co innego po angielsku. Z tym że to już nie jest ta sama jakość."
          ],
          [
           "Negative",
           "Negative",
           "Graficzny zapis konstrukcji (FILM): - Wyświetlacz: LED - Format obrazu: 16:9"
          ],
          [
           "Neutral",
           "Negative",
           "Przyłapanie na ściąganiu to 2.0 z danej pracy."
          ],
          [
           "Positive",
           "Negative",
           "Choć gra ma już swoje lata ciągle robi wrażenie i choć widać że jest to 1 odsłona lego Batmana na pierwszy rzut oka, trudno też nie zauważyć zalet jakie ta gra ma. Chociażby bardzo ładna i klimatyczna grafika czy według mnie jedna z największych zalet tej gry czyli ROBIENIE WŁASNYCH POSTACI, którymi można grać. Niby nic takiego ale jednak sam fakt że coś takiego jest cieszy. Gra poziom trudności zmienia z poziomu na poziom, jeden etap jest łatwy inny trudny. Fabuła jest dość ciekawa i nawet jak się z nią nie zgadzamy to musimy ją jakoś opowiedzieć. A jak nie mamy pomysłu to możemy sobie zrobić z niej jakąś historię albo jakiś filmik, który będzie można obejrzeć z różnych perspektyw. Gra ma też swoje słabe momenty. Nie można powiedzieć że jest to gra dla każdego, ale z całą pewnością są to jej plusy i minusy. Za to minusów w sumie nie ma. Nie podoba mi się jedna rzecz - nie można po prostu wyłączyć gry, wyłączyć się i nie grać."
          ],
          [
           "Negative",
           "Negative",
           "Dla mnie żadna rewelacja, ale może mam jakiś wybrakowany produkt... Urządzenie mam od grudnia i użyła m go może z 5 razy. Za każdym razem mieszkanie zadymione i strasznie śmierdziało ( jakby palonym kablem czy coś ). Jedzenia nie można w sumie ani na chwilkę spuścić z oka, bo zaraz się to zacznie. Nie ma opcji, że ktoś do mnie przyjdzie czy przyjdzie, bo coś jest nie tak. Jeśli już, to to jest raczej kwestia kilku dni lub miesięcy. W nocy jest też tak, że włącza się światło, a za chwilę znowu znika i znowu nie włącza się. Czasem nawet nie ma w ogóle prądu."
          ],
          [
           "Negative",
           "Negative",
           "Mylący tytuł który sugeruje że mamy do czynienia z dziełem Smitha, w rzeczywistości w książce zawarte są tylko fragmenty Bogactwa Narodów oraz Teorii Uczuć Moralnych, które okraszone są niestety bardzo kiepskim komentarzem jak się okazuje AUTORA KSIĄŻKI którym NIE JEST ADAM SMITH ! (a przynajmniej nie był zanim został opisany w książce)."
          ]
         ],
         "hovertemplate": "Predicted Label=%{customdata[1]}<br>TSNE-1=%{x}<br>TSNE-2=%{y}<br>True Label=%{customdata[0]}<br>Text=%{customdata[2]}<extra></extra>",
         "legendgroup": "Negative",
         "marker": {
          "color": "red",
          "symbol": "circle"
         },
         "mode": "markers",
         "name": "Negative",
         "orientation": "v",
         "showlegend": true,
         "type": "scatter",
         "x": [
          -3.7441258,
          -6.621524,
          6.0579853,
          -4.699565,
          7.410631,
          -3.6588326,
          2.848,
          -2.2301962,
          -4.8166513,
          -1.1292069,
          -3.754804,
          -6.3561807,
          -5.388692,
          0.55703235,
          -1.1394123,
          0.20477274,
          4.0288587,
          -3.7158132,
          5.624836,
          1.2777803,
          -6.74836,
          5.9340982,
          -7.702805,
          -0.44181514,
          -6.3636246,
          -5.232725,
          7.202339,
          -3.8929203,
          2.019078,
          9.027487,
          -5.4941645,
          -3.8856597,
          -6.3092012,
          5.5897584,
          -1.8542064,
          1.5754321,
          -6.0042796,
          -5.8870416,
          -5.3479424,
          1.5847495,
          3.3482556,
          3.0354207,
          -0.17344062,
          2.8680258,
          -5.4089026,
          -5.6236773,
          -1.2886211,
          4.444455,
          2.4455006,
          6.929181,
          -6.072554,
          -4.83242,
          -2.6141307
         ],
         "xaxis": "x",
         "y": [
          9.995363,
          6.229853,
          -5.29755,
          7.117062,
          -5.2951775,
          1.0206184,
          4.428552,
          2.7074819,
          6.395106,
          1.8088847,
          0.16942418,
          8.470549,
          7.867398,
          6.3920126,
          0.58821714,
          2.6137383,
          0.46709445,
          5.3045726,
          -2.4304779,
          0.5220635,
          7.505844,
          -6.6273756,
          7.209076,
          4.157432,
          5.5607457,
          6.4912605,
          -4.686772,
          7.758099,
          -7.6549234,
          -5.0857015,
          7.2463346,
          7.0609145,
          6.9272814,
          -7.4002213,
          4.580997,
          -0.7853172,
          7.1774025,
          7.666123,
          8.479619,
          0.81528604,
          0.77227485,
          -7.348999,
          -8.066307,
          -6.3809276,
          5.267227,
          6.2123246,
          2.5510798,
          -6.5159345,
          -5.515593,
          -6.2783027,
          8.55449,
          7.887475,
          4.7290006
         ],
         "yaxis": "y"
        }
       ],
       "layout": {
        "height": 600,
        "legend": {
         "title": {
          "text": "Predicted Label"
         },
         "tracegroupgap": 0
        },
        "template": {
         "data": {
          "bar": [
           {
            "error_x": {
             "color": "#2a3f5f"
            },
            "error_y": {
             "color": "#2a3f5f"
            },
            "marker": {
             "line": {
              "color": "#E5ECF6",
              "width": 0.5
             },
             "pattern": {
              "fillmode": "overlay",
              "size": 10,
              "solidity": 0.2
             }
            },
            "type": "bar"
           }
          ],
          "barpolar": [
           {
            "marker": {
             "line": {
              "color": "#E5ECF6",
              "width": 0.5
             },
             "pattern": {
              "fillmode": "overlay",
              "size": 10,
              "solidity": 0.2
             }
            },
            "type": "barpolar"
           }
          ],
          "carpet": [
           {
            "aaxis": {
             "endlinecolor": "#2a3f5f",
             "gridcolor": "white",
             "linecolor": "white",
             "minorgridcolor": "white",
             "startlinecolor": "#2a3f5f"
            },
            "baxis": {
             "endlinecolor": "#2a3f5f",
             "gridcolor": "white",
             "linecolor": "white",
             "minorgridcolor": "white",
             "startlinecolor": "#2a3f5f"
            },
            "type": "carpet"
           }
          ],
          "choropleth": [
           {
            "colorbar": {
             "outlinewidth": 0,
             "ticks": ""
            },
            "type": "choropleth"
           }
          ],
          "contour": [
           {
            "colorbar": {
             "outlinewidth": 0,
             "ticks": ""
            },
            "colorscale": [
             [
              0,
              "#0d0887"
             ],
             [
              0.1111111111111111,
              "#46039f"
             ],
             [
              0.2222222222222222,
              "#7201a8"
             ],
             [
              0.3333333333333333,
              "#9c179e"
             ],
             [
              0.4444444444444444,
              "#bd3786"
             ],
             [
              0.5555555555555556,
              "#d8576b"
             ],
             [
              0.6666666666666666,
              "#ed7953"
             ],
             [
              0.7777777777777778,
              "#fb9f3a"
             ],
             [
              0.8888888888888888,
              "#fdca26"
             ],
             [
              1,
              "#f0f921"
             ]
            ],
            "type": "contour"
           }
          ],
          "contourcarpet": [
           {
            "colorbar": {
             "outlinewidth": 0,
             "ticks": ""
            },
            "type": "contourcarpet"
           }
          ],
          "heatmap": [
           {
            "colorbar": {
             "outlinewidth": 0,
             "ticks": ""
            },
            "colorscale": [
             [
              0,
              "#0d0887"
             ],
             [
              0.1111111111111111,
              "#46039f"
             ],
             [
              0.2222222222222222,
              "#7201a8"
             ],
             [
              0.3333333333333333,
              "#9c179e"
             ],
             [
              0.4444444444444444,
              "#bd3786"
             ],
             [
              0.5555555555555556,
              "#d8576b"
             ],
             [
              0.6666666666666666,
              "#ed7953"
             ],
             [
              0.7777777777777778,
              "#fb9f3a"
             ],
             [
              0.8888888888888888,
              "#fdca26"
             ],
             [
              1,
              "#f0f921"
             ]
            ],
            "type": "heatmap"
           }
          ],
          "heatmapgl": [
           {
            "colorbar": {
             "outlinewidth": 0,
             "ticks": ""
            },
            "colorscale": [
             [
              0,
              "#0d0887"
             ],
             [
              0.1111111111111111,
              "#46039f"
             ],
             [
              0.2222222222222222,
              "#7201a8"
             ],
             [
              0.3333333333333333,
              "#9c179e"
             ],
             [
              0.4444444444444444,
              "#bd3786"
             ],
             [
              0.5555555555555556,
              "#d8576b"
             ],
             [
              0.6666666666666666,
              "#ed7953"
             ],
             [
              0.7777777777777778,
              "#fb9f3a"
             ],
             [
              0.8888888888888888,
              "#fdca26"
             ],
             [
              1,
              "#f0f921"
             ]
            ],
            "type": "heatmapgl"
           }
          ],
          "histogram": [
           {
            "marker": {
             "pattern": {
              "fillmode": "overlay",
              "size": 10,
              "solidity": 0.2
             }
            },
            "type": "histogram"
           }
          ],
          "histogram2d": [
           {
            "colorbar": {
             "outlinewidth": 0,
             "ticks": ""
            },
            "colorscale": [
             [
              0,
              "#0d0887"
             ],
             [
              0.1111111111111111,
              "#46039f"
             ],
             [
              0.2222222222222222,
              "#7201a8"
             ],
             [
              0.3333333333333333,
              "#9c179e"
             ],
             [
              0.4444444444444444,
              "#bd3786"
             ],
             [
              0.5555555555555556,
              "#d8576b"
             ],
             [
              0.6666666666666666,
              "#ed7953"
             ],
             [
              0.7777777777777778,
              "#fb9f3a"
             ],
             [
              0.8888888888888888,
              "#fdca26"
             ],
             [
              1,
              "#f0f921"
             ]
            ],
            "type": "histogram2d"
           }
          ],
          "histogram2dcontour": [
           {
            "colorbar": {
             "outlinewidth": 0,
             "ticks": ""
            },
            "colorscale": [
             [
              0,
              "#0d0887"
             ],
             [
              0.1111111111111111,
              "#46039f"
             ],
             [
              0.2222222222222222,
              "#7201a8"
             ],
             [
              0.3333333333333333,
              "#9c179e"
             ],
             [
              0.4444444444444444,
              "#bd3786"
             ],
             [
              0.5555555555555556,
              "#d8576b"
             ],
             [
              0.6666666666666666,
              "#ed7953"
             ],
             [
              0.7777777777777778,
              "#fb9f3a"
             ],
             [
              0.8888888888888888,
              "#fdca26"
             ],
             [
              1,
              "#f0f921"
             ]
            ],
            "type": "histogram2dcontour"
           }
          ],
          "mesh3d": [
           {
            "colorbar": {
             "outlinewidth": 0,
             "ticks": ""
            },
            "type": "mesh3d"
           }
          ],
          "parcoords": [
           {
            "line": {
             "colorbar": {
              "outlinewidth": 0,
              "ticks": ""
             }
            },
            "type": "parcoords"
           }
          ],
          "pie": [
           {
            "automargin": true,
            "type": "pie"
           }
          ],
          "scatter": [
           {
            "fillpattern": {
             "fillmode": "overlay",
             "size": 10,
             "solidity": 0.2
            },
            "type": "scatter"
           }
          ],
          "scatter3d": [
           {
            "line": {
             "colorbar": {
              "outlinewidth": 0,
              "ticks": ""
             }
            },
            "marker": {
             "colorbar": {
              "outlinewidth": 0,
              "ticks": ""
             }
            },
            "type": "scatter3d"
           }
          ],
          "scattercarpet": [
           {
            "marker": {
             "colorbar": {
              "outlinewidth": 0,
              "ticks": ""
             }
            },
            "type": "scattercarpet"
           }
          ],
          "scattergeo": [
           {
            "marker": {
             "colorbar": {
              "outlinewidth": 0,
              "ticks": ""
             }
            },
            "type": "scattergeo"
           }
          ],
          "scattergl": [
           {
            "marker": {
             "colorbar": {
              "outlinewidth": 0,
              "ticks": ""
             }
            },
            "type": "scattergl"
           }
          ],
          "scattermapbox": [
           {
            "marker": {
             "colorbar": {
              "outlinewidth": 0,
              "ticks": ""
             }
            },
            "type": "scattermapbox"
           }
          ],
          "scatterpolar": [
           {
            "marker": {
             "colorbar": {
              "outlinewidth": 0,
              "ticks": ""
             }
            },
            "type": "scatterpolar"
           }
          ],
          "scatterpolargl": [
           {
            "marker": {
             "colorbar": {
              "outlinewidth": 0,
              "ticks": ""
             }
            },
            "type": "scatterpolargl"
           }
          ],
          "scatterternary": [
           {
            "marker": {
             "colorbar": {
              "outlinewidth": 0,
              "ticks": ""
             }
            },
            "type": "scatterternary"
           }
          ],
          "surface": [
           {
            "colorbar": {
             "outlinewidth": 0,
             "ticks": ""
            },
            "colorscale": [
             [
              0,
              "#0d0887"
             ],
             [
              0.1111111111111111,
              "#46039f"
             ],
             [
              0.2222222222222222,
              "#7201a8"
             ],
             [
              0.3333333333333333,
              "#9c179e"
             ],
             [
              0.4444444444444444,
              "#bd3786"
             ],
             [
              0.5555555555555556,
              "#d8576b"
             ],
             [
              0.6666666666666666,
              "#ed7953"
             ],
             [
              0.7777777777777778,
              "#fb9f3a"
             ],
             [
              0.8888888888888888,
              "#fdca26"
             ],
             [
              1,
              "#f0f921"
             ]
            ],
            "type": "surface"
           }
          ],
          "table": [
           {
            "cells": {
             "fill": {
              "color": "#EBF0F8"
             },
             "line": {
              "color": "white"
             }
            },
            "header": {
             "fill": {
              "color": "#C8D4E3"
             },
             "line": {
              "color": "white"
             }
            },
            "type": "table"
           }
          ]
         },
         "layout": {
          "annotationdefaults": {
           "arrowcolor": "#2a3f5f",
           "arrowhead": 0,
           "arrowwidth": 1
          },
          "autotypenumbers": "strict",
          "coloraxis": {
           "colorbar": {
            "outlinewidth": 0,
            "ticks": ""
           }
          },
          "colorscale": {
           "diverging": [
            [
             0,
             "#8e0152"
            ],
            [
             0.1,
             "#c51b7d"
            ],
            [
             0.2,
             "#de77ae"
            ],
            [
             0.3,
             "#f1b6da"
            ],
            [
             0.4,
             "#fde0ef"
            ],
            [
             0.5,
             "#f7f7f7"
            ],
            [
             0.6,
             "#e6f5d0"
            ],
            [
             0.7,
             "#b8e186"
            ],
            [
             0.8,
             "#7fbc41"
            ],
            [
             0.9,
             "#4d9221"
            ],
            [
             1,
             "#276419"
            ]
           ],
           "sequential": [
            [
             0,
             "#0d0887"
            ],
            [
             0.1111111111111111,
             "#46039f"
            ],
            [
             0.2222222222222222,
             "#7201a8"
            ],
            [
             0.3333333333333333,
             "#9c179e"
            ],
            [
             0.4444444444444444,
             "#bd3786"
            ],
            [
             0.5555555555555556,
             "#d8576b"
            ],
            [
             0.6666666666666666,
             "#ed7953"
            ],
            [
             0.7777777777777778,
             "#fb9f3a"
            ],
            [
             0.8888888888888888,
             "#fdca26"
            ],
            [
             1,
             "#f0f921"
            ]
           ],
           "sequentialminus": [
            [
             0,
             "#0d0887"
            ],
            [
             0.1111111111111111,
             "#46039f"
            ],
            [
             0.2222222222222222,
             "#7201a8"
            ],
            [
             0.3333333333333333,
             "#9c179e"
            ],
            [
             0.4444444444444444,
             "#bd3786"
            ],
            [
             0.5555555555555556,
             "#d8576b"
            ],
            [
             0.6666666666666666,
             "#ed7953"
            ],
            [
             0.7777777777777778,
             "#fb9f3a"
            ],
            [
             0.8888888888888888,
             "#fdca26"
            ],
            [
             1,
             "#f0f921"
            ]
           ]
          },
          "colorway": [
           "#636efa",
           "#EF553B",
           "#00cc96",
           "#ab63fa",
           "#FFA15A",
           "#19d3f3",
           "#FF6692",
           "#B6E880",
           "#FF97FF",
           "#FECB52"
          ],
          "font": {
           "color": "#2a3f5f"
          },
          "geo": {
           "bgcolor": "white",
           "lakecolor": "white",
           "landcolor": "#E5ECF6",
           "showlakes": true,
           "showland": true,
           "subunitcolor": "white"
          },
          "hoverlabel": {
           "align": "left"
          },
          "hovermode": "closest",
          "mapbox": {
           "style": "light"
          },
          "paper_bgcolor": "white",
          "plot_bgcolor": "#E5ECF6",
          "polar": {
           "angularaxis": {
            "gridcolor": "white",
            "linecolor": "white",
            "ticks": ""
           },
           "bgcolor": "#E5ECF6",
           "radialaxis": {
            "gridcolor": "white",
            "linecolor": "white",
            "ticks": ""
           }
          },
          "scene": {
           "xaxis": {
            "backgroundcolor": "#E5ECF6",
            "gridcolor": "white",
            "gridwidth": 2,
            "linecolor": "white",
            "showbackground": true,
            "ticks": "",
            "zerolinecolor": "white"
           },
           "yaxis": {
            "backgroundcolor": "#E5ECF6",
            "gridcolor": "white",
            "gridwidth": 2,
            "linecolor": "white",
            "showbackground": true,
            "ticks": "",
            "zerolinecolor": "white"
           },
           "zaxis": {
            "backgroundcolor": "#E5ECF6",
            "gridcolor": "white",
            "gridwidth": 2,
            "linecolor": "white",
            "showbackground": true,
            "ticks": "",
            "zerolinecolor": "white"
           }
          },
          "shapedefaults": {
           "line": {
            "color": "#2a3f5f"
           }
          },
          "ternary": {
           "aaxis": {
            "gridcolor": "white",
            "linecolor": "white",
            "ticks": ""
           },
           "baxis": {
            "gridcolor": "white",
            "linecolor": "white",
            "ticks": ""
           },
           "bgcolor": "#E5ECF6",
           "caxis": {
            "gridcolor": "white",
            "linecolor": "white",
            "ticks": ""
           }
          },
          "title": {
           "x": 0.05
          },
          "xaxis": {
           "automargin": true,
           "gridcolor": "white",
           "linecolor": "white",
           "ticks": "",
           "title": {
            "standoff": 15
           },
           "zerolinecolor": "white",
           "zerolinewidth": 2
          },
          "yaxis": {
           "automargin": true,
           "gridcolor": "white",
           "linecolor": "white",
           "ticks": "",
           "title": {
            "standoff": 15
           },
           "zerolinecolor": "white",
           "zerolinewidth": 2
          }
         }
        },
        "title": {
         "text": "Przestrzeń Wektorowa Testowych Przypadków (Kolor: Przewidywane Etykiety)"
        },
        "width": 1200,
        "xaxis": {
         "anchor": "y",
         "domain": [
          0,
          1
         ],
         "title": {
          "text": "TSNE-1"
         }
        },
        "yaxis": {
         "anchor": "x",
         "domain": [
          0,
          1
         ],
         "title": {
          "text": "TSNE-2"
         }
        }
       }
      }
     },
     "metadata": {},
     "output_type": "display_data"
    },
    {
     "data": {
      "application/vnd.plotly.v1+json": {
       "config": {
        "plotlyServerURL": "https://plot.ly"
       },
       "data": [
        {
         "customdata": [
          [
           "Negative",
           "Neutral",
           "Zacznijmy od tego, ze na zajecia trzeba sie absolutnie obryc z zadan, bo szanowny doktor nie ma czasu na zajecia."
          ],
          [
           "Positive",
           "Neutral",
           "Znam ją tez z ćwiczeń gdzie ćwiczę bo nie ma innych opcji."
          ],
          [
           "Negative",
           "Neutral",
           "Analiza matematyczna 1 ćwiczenia Ocena : unikać [ / b ] Na pierwszych ćwiczeniach myślał em, że analize zaliczę bez problemów ( jak na swoje lata), ale z czasem zacząłem sobie uświadamiać, że tak nie jest."
          ],
          [
           "Neutral",
           "Positive",
           "Ocena : do przejścia Pan Jerzy to całkiem fajny matematyk, co nie?"
          ],
          [
           "Negative",
           "Positive",
           "UWA ŻAJ NA SIEBIE BO CI ODPISZ"
          ],
          [
           "Negative",
           "Positive",
           "Przereklamowane. ( podobnie jak inne towary ( np. wkrętarka bosch i to z serii dla prof. użytku ! )."
          ],
          [
           "Negative",
           "Neutral",
           "Jeżeli niechcesz się w to bawic to sobie odpusc, bo masz czas albo hajs"
          ],
          [
           "Neutral",
           "Positive",
           "Przez większośc zajęć prowadzący uczą pływać, na sali nie ma nikogo, kto by był w stanie to zrobić w pojedynkę. Po prostu w każdej chwili mogę wskoczyć do wody."
          ],
          [
           "Neutral",
           "Positive",
           "Wykład jak to wykład, ale jak się go słucha, to widać że coś jest na rzeczy, nie tylko w"
          ],
          [
           "Neutral",
           "Positive",
           "Ogólnie dla ambitnych nie warto, a dla tych co chcą przejśc na 3.0 - warto się wstrzymać z decyzją, bo jest szansa, że i w tym roku też się uda i będzie w końcu tak jak z csgo."
          ],
          [
           "Negative",
           "Positive",
           "Potrafi przyczepic sie do wszystkie - osie symetri za grubym olowkiem rysowane, wkrecajac srube w drewniany otwor z gwintem - i tak az do skutku."
          ],
          [
           "Negative",
           "Neutral",
           "Podobnie jak większość zawiodła m się na tej kosiarce. Wydawało się, że firmowa kosiarka będzie służyć dłużej... Od samego początku była bardzo delikatna, dobra tylko do drobnej trawki na idealnie równym terenie. Koszenie na lekkich nierównościach zakończyło się powyginanym nożem. Nóż po roku wymieniony na nowy, bo nie dało się go naostrzyć. Długo jednak nim się nie cieszyła m, silnik zaczął dziwnie pracować... aż w końcu przestał. Powiem szczerze, że dużo lepiej sprawowała się moja pierwsza najtańsza kosiarka no name. Z nożem nic się nie działo na górkach i dołkach, silnik nie do zajeżdżenia. Gdyby nie to, że uszkodziły się kółka, to dalej by pracowała. Zawiodła m się na Gardenie."
          ],
          [
           "Positive",
           "Negative",
           "Analiza matemtyczna 1 ocena : ok [ / b ] miły, zajecia jakos mijają, wiesz za duzo rzeczy do ogarnięcia, i za malo czasu, i za malo czasu, i za malo czasu, za duzo czasu, za malo czasu,"
          ],
          [
           "Positive",
           "Negative",
           "Każda nieobecność to jest ocena w dół na koniec chyba, że odrobisz pracę domową i się postarasz, ale to nie jest tak, że nie mam prawa do zwolnienia, bo na to już nie wystarczy"
          ],
          [
           "Neutral",
           "Negative",
           "Umie wytłumaczyc trudne zadania, chociaz tak naprawde te najtrudniejsze to z miła chęcią omiajał mówiąc po prostu że są one głupie i nie ma sensu ich rozwiązywać. Na koniec zapytał mnie ile czasu mam na wykonanie zadań i powiedział że do 1 roku studiów chce mieć skończone."
          ],
          [
           "Negative",
           "Positive",
           "Jeżeli niechcesz słuchać to nie musisz."
          ],
          [
           "Negative",
           "Neutral",
           "Analiza matematyczna 1 ćwiczenia Ocena : unikać [ / b ] Na pierwszych ćwiczeniach myślał em, że analize zaliczę bez problemów ( pokazywał jak się dodaje ułamki o różnych mianownikach, bawił się swoją ' maszyną liczącą ( kalkulator : wink : lubi sie nim bawić ) )."
          ],
          [
           "Negative",
           "Positive",
           "Fizyka 2 [ / b ] Zdac egzamin jest dosyc trudno . Zalaczam zdjecie z egzaminem."
          ],
          [
           "Neutral",
           "Negative",
           "Koła zwykle do najłatwiejszych nie należą, ale jeśli to nie jest dla Ciebie za trudne to polecam sprawdzić, bo w dzisiejszych czasach są różne typy motocykli."
          ],
          [
           "Positive",
           "Negative",
           "dr Kornel jest wporzadku. wprwawdzie nie potrafi nauczyc algebry ( jak sam przyznaje sam jej juz nie umie : D ), ale jest bardzo przyjaznie nastawiony do studentow. wyklady sa dosc ciekawe, bo pan dr niezbyt czesto porusza problematyke czysto matematyczna, zwykle opowiada co ciekawego dzieje sie na siwecie. kolokwia sa proste pod warunkiem, ze posiedzi sie przy skrypcie ; ) ale nie radze na nich sciagac ( zlaszcza od sasiadow ) bo na samym kole dr Kornel siedzi w kacie i na nikogo nie zwraca uwagi, za to przy sprawdzaniu prac robi wnikliwe.. sledztwo. ogólnie : polecam ! ! !"
          ],
          [
           "Negative",
           "Positive",
           "Ocena ogólna - 0."
          ],
          [
           "Positive",
           "Negative",
           "Uważam, że to najlepszy kitowy obiektyw na rynku. Wykonanie metal i bardzo dobrej jakości tworzywi. Pierścień przysłony chodzi z należytym oporem i skokiem. Wbudowana stabilizacja jest wydajna i naprawdę pomaga w wielu sytuacjach. Obiektyw bardzo ostry już od największego otworu przysłony. Celność bdb. To za co pochwalę go dodatkowo to szybki silnik autofokusa - używał em go na poczatku z dosyć mułowatym X - E1, teraz, kiedy przesiadł em się na X - T1 to mogę tylko chwalić ! ! ! Ostatni plus to bardzo dobrze opracowany system uszczelnień - obiektyw, mimo, iż jest to zoom, w ogóle nie zasysa kurzu do środka ( miałem już wiele zoomów : Nikkory, Sigmy i tam był to problem ). Polecam !"
          ],
          [
           "Positive",
           "Neutral",
           "Duza częśc grupy zaliczyła w kolokwiach."
          ],
          [
           "Neutral",
           "Negative",
           "Niestety z zaliczeniem nie jest łatwo ( kolokwia oceniane w skali 3 - 5,5, kolokwia oceniane w skali 1 - 10, kolokwia oceniane w skali"
          ],
          [
           "Neutral",
           "Negative",
           "W tym roku nawet obnizyl prog zaliczenia z 12 na 10 pkt : shock : Generalnie nie jest zle, pozatym AiR nie ma innego wyboru ; )"
          ],
          [
           "Positive",
           "Negative",
           "Kurs : Fizyka 1 ćw. [ / b ] Miła, miła, miła."
          ],
          [
           "Positive",
           "Neutral",
           "Niesamowite poczucie humoru ciagle sie pojawia w rozmowach, bo to jest bardzo specyficzne poczucie humoru."
          ],
          [
           "Neutral",
           "Negative",
           "Pisemna to test z gramatyki ( uzupełnianka )... obszerny ale do przejścia, jest też poprawka."
          ],
          [
           "Negative",
           "Positive",
           "Na analizie 2 była m raz na jego blogu, gdzie pisał o czymś co nazywa \"wszechstronnym spojrzeniem\", co bardzo spodobało mi się na"
          ],
          [
           "Neutral",
           "Negative",
           "W ktorym mogą pojawić się problemy z dostępnością i poprawnym działaniem."
          ],
          [
           "Positive",
           "Neutral",
           "Mozna sie z tym nie zgodzic, ale takie zycie."
          ],
          [
           "Neutral",
           "Negative",
           "Podobno jeszcze do niedawna był postrachem, głównie za sprawą Fizyki I i II stopnia, ale potem był już nie do zatrzymania. Występował z coraz większym entuzjazmem, stał się niekwestionowanym przywódcą ruchu."
          ],
          [
           "Negative",
           "Neutral",
           "Niestety co do samego prowadzącego mam już obekcje, z punktu wdzienia treningu itd. wszytko było ok ( a czesami nawet bardzo ok - rozgrzewki w formie zabawy ), ale niestety miala miejse u nas na treningu sytulacja ktora bardzo mnie do tego pana zrazila ; podczas pokazywania dźwigni na noge ( stopę ) zignorował zupełnie odklepenie w mate ( czyli powiadomienie o tym, że ma się dość, że boi ) studenta na ktorym pokazywal technike i nie puścił lub chociaż zmniejszył nacisku ( siłę skrętu )."
          ],
          [
           "Negative",
           "Neutral",
           "Ogolnie, to ujdzie, ale jezeli ma sie mozliwosc (a w koncu ktos musi), to warto ja kupic, chocby tylko na te pare dni, zeby sie upewnic"
          ],
          [
           "Positive",
           "Negative",
           "Obiektyw ten przeznaczony jest dla osób które dopiero zaczynają fotografowanie lustrzankami cyfrowymi marki Canon. Jest to obiektyw bez stabilizacji obrazu ( jest ona w nowszym modelu Mark III ). Cena tego obiektywu nie jest wygórowana. Można go już kupić w bardzo dobrym stanie za około 160 - 190 zł, czyli jak na obiektyw śmieszne pieniądze. Dla początkującego fotografa będzie to okazja do nauczenia się jak robić zdjęcia oraz zapoznania się z technologią optyczną. Zdjęcia będą bardzo realistyczne a film, w jakości Full HD, nie będzie przeszkadzał."
          ],
          [
           "Positive",
           "Negative",
           "Fizyka laborki POLECAM ! ! ! !"
          ],
          [
           "Positive",
           "Neutral",
           "Kisielewska M., mgr Pływanie , Łódź 1997. Chmielewski J., Mentor z klasą, Łódź 1997. Chmielewski J., B."
          ],
          [
           "Neutral",
           "Negative",
           "To był pierwszy krem do twarzy, którego używała m. Jest tani, wydajny i dobrze natłuszcza skórę, co jest ogromną zaletą szczególnie zimą. Poza tym, krem jest nijaki. Nie polecam używania go latem i w ciepłe dni. Skóra po nim bardzo się świeci i jest bardzo tłusta. Krem ma swój zapach, za każdym razem kiedy go używam czuję ten sam słodki zapach. Polecam go jednak do stosowania w okresie zimowym, ponieważ po nim skóra jest bardzo przesuszona i sucha."
          ],
          [
           "Neutral",
           "Positive",
           "Wg mnie te 6 ,5k to zdecydowanie przesada. Ja mam to samo."
          ],
          [
           "Positive",
           "Negative",
           "Pani Małgorzata chętna jest do pomocy z trudniejszymi zadaniami."
          ],
          [
           "Neutral",
           "Negative",
           "Pani Profesor jest bardzo miłą osobą jako człwiek, na wykładzie z chemii analitycznej I rzeczywiście delikatnie rzecz ujmując podpowiadała , co się dzieje z pierwiastkami w naszych organizmach, a więc z cząsteczkami, które się ze sobą łączą."
          ],
          [
           "Positive",
           "Neutral",
           "Każda nieobecność to jest ocena w dół na koniec chyba, że odrobisz ten termin. na koniec jest krótki, bezstresowy egzamin ( bez paniki )."
          ],
          [
           "Positive",
           "Negative",
           "Nie ma kartkówek , ale z tego co wiem to w gimnazjum się to już nie zdarza."
          ],
          [
           "Positive",
           "Neutral",
           "Kurs : Fizyka 1 ćw. [ / b ] Miła, sympatyczna, często się śmieje ( czesto ironicznie : P )."
          ],
          [
           "Neutral",
           "Positive",
           "Wymaga absolutnej ciszy, mam słuch i wzrok jak u człowieka - zapewnił ją. - Pomożesz mi się rozebrać?"
          ],
          [
           "Neutral",
           "Positive",
           "Projekt nie musi być specjalnie rozbudowany, ma ładnie wyglądać, mieć elegancką zrobioną dokumentację, i mają się pokazywać ładne wykresy."
          ],
          [
           "Positive",
           "Neutral",
           "Lepiej nie . Wykonał kolejny ruch, jakby chciał ją uderzyć."
          ],
          [
           "Neutral",
           "Positive",
           "Jest piec kartkowek / kurs angielskiego i tyle/."
          ],
          [
           "Neutral",
           "Positive",
           "Pan Górniak jest wymagający ale daje radę, na pewno to nie jest taki trener, który może dać nam tylko jednego"
          ],
          [
           "Neutral",
           "Positive",
           "Wg mnie te 6 minut to troche za mało."
          ],
          [
           "Neutral",
           "Positive",
           "Nie było na sali osoby która potrafiła by nie śmiać mu się prosto w twarz."
          ],
          [
           "Positive",
           "Neutral",
           "Mozna sobie to porownac z ludzmi z Afryki czy Ameryki Srodkowej, ktorzy"
          ],
          [
           "Negative",
           "Positive",
           "Wydaje sie jakby s sam tego chcial - tylko ze to nie bedzie sie dawac zmienic"
          ],
          [
           "Neutral",
           "Negative",
           "Zaliczyli wszyscy ( można było oddać wypracowanie - wtedy się nie płaci ). Poszedłem ze znajomymi, każdy oddawał."
          ],
          [
           "Neutral",
           "Negative",
           "Reszta zadań : – Połączenie z Internetem (mobilna, bezprzewodowa)"
          ],
          [
           "Neutral",
           "Negative",
           "To co mówi pan profesor może i jesst ciekawe i nieraz na wykopie czytałem."
          ],
          [
           "Neutral",
           "Negative",
           "Zadania zlecone gminie w ramach części oświatowej subwencji ogólnej są zadaniem zleconym"
          ],
          [
           "Positive",
           "Neutral",
           "Kisielewska M., mgr Pływanie ."
          ],
          [
           "Negative",
           "Neutral",
           "Ogolnie, to ujdzie, ale jezeli ma sie mozliwosc sprawdzenia jakie leki sa dozwolone, jak sie leczy i jak sie je stosowalo, to wiadomo, ze moze to kosztowac"
          ],
          [
           "Neutral",
           "Negative",
           "krzesełko o ładnej kolorystyce, bardzo przydatna regulacja siedziska i oparcia, można je szybko wyczyścić bo jest pokryte specjalnym materiałem w który nie wnika woda ale oprócz tego same minusy, moje dziecko poci się w tym krzesełku straszliwie - właśnie ze względu na to, że siedzisko jest mokre, nawet do około 1/3 wysokości, to dziecko nie potrafi sie wyprostować i nie potrafi się wyprostować do pozycji leżącej. Niestety po paru miesiącach użytkowania krzesełko przestało sie ruszać."
          ],
          [
           "Negative",
           "Positive",
           "Radze trzymac go tam, gdzie moze sie zgubic."
          ],
          [
           "Neutral",
           "Negative",
           "Co innego po angielsku. Z tym że to już nie jest ta sama jakość."
          ],
          [
           "Neutral",
           "Negative",
           "Przyłapanie na ściąganiu to 2.0 z danej pracy."
          ],
          [
           "Positive",
           "Neutral",
           "Kola nie sa zbyt trudne, wystarczy miec dobra marke. Wrzucic to do sieci i sprzedac."
          ],
          [
           "Positive",
           "Negative",
           "Choć gra ma już swoje lata ciągle robi wrażenie i choć widać że jest to 1 odsłona lego Batmana na pierwszy rzut oka, trudno też nie zauważyć zalet jakie ta gra ma. Chociażby bardzo ładna i klimatyczna grafika czy według mnie jedna z największych zalet tej gry czyli ROBIENIE WŁASNYCH POSTACI, którymi można grać. Niby nic takiego ale jednak sam fakt że coś takiego jest cieszy. Gra poziom trudności zmienia z poziomu na poziom, jeden etap jest łatwy inny trudny. Fabuła jest dość ciekawa i nawet jak się z nią nie zgadzamy to musimy ją jakoś opowiedzieć. A jak nie mamy pomysłu to możemy sobie zrobić z niej jakąś historię albo jakiś filmik, który będzie można obejrzeć z różnych perspektyw. Gra ma też swoje słabe momenty. Nie można powiedzieć że jest to gra dla każdego, ale z całą pewnością są to jej plusy i minusy. Za to minusów w sumie nie ma. Nie podoba mi się jedna rzecz - nie można po prostu wyłączyć gry, wyłączyć się i nie grać."
          ],
          [
           "Neutral",
           "Positive",
           "On jest chyba fanatykiem swoich dziedzin ( a jest tego pewien) a nie potrafi nic w tym kierunku zrobic, tylko sie wypowiada."
          ],
          [
           "Neutral",
           "Positive",
           "Jeśli chodzi o wykład na WEMiF - ie ludzie chyba nie bardzo rozumieją o co chodzi."
          ]
         ],
         "hovertemplate": "Correct=False<br>TSNE-1=%{x}<br>TSNE-2=%{y}<br>True Label=%{customdata[0]}<br>Predicted Label=%{customdata[1]}<br>Text=%{customdata[2]}<extra></extra>",
         "legendgroup": "False",
         "marker": {
          "color": "#ab63fa",
          "symbol": "circle"
         },
         "mode": "markers",
         "name": "False",
         "orientation": "v",
         "showlegend": true,
         "type": "scatter",
         "x": [
          -1.1971267,
          6.227946,
          -2.0221345,
          2.5107434,
          1.6928091,
          5.074019,
          -4.292148,
          -0.70194125,
          -5.212305,
          -0.54833287,
          0.5031039,
          -7.365675,
          -3.6588326,
          2.848,
          -2.2301962,
          4.2420306,
          -2.0897048,
          2.886108,
          -1.1292069,
          -6.3561807,
          -0.037816312,
          -5.388692,
          8.101439,
          0.55703235,
          -1.1394123,
          4.0288587,
          -3.5958655,
          1.2777803,
          -4.4245143,
          5.9340982,
          -3.1643517,
          -0.44181514,
          -4.586269,
          -4.4888654,
          -3.8929203,
          2.019078,
          -0.6807973,
          -3.8856597,
          0.2236444,
          5.5897584,
          -1.8542064,
          0.544401,
          1.5754321,
          3.9901679,
          1.3415964,
          1.4267379,
          0.3799412,
          5.411408,
          3.093513,
          3.4732313,
          7.607587,
          -2.9521337,
          -4.1794,
          1.5847495,
          3.3482556,
          3.0354207,
          -0.17344062,
          0.27034557,
          -4.4224544,
          -5.6236773,
          1.5200546,
          4.444455,
          6.929181,
          -1.0294371,
          -6.072554,
          0.570079,
          2.674873
         ],
         "xaxis": "x",
         "y": [
          3.1456745,
          -5.844741,
          5.779196,
          2.253826,
          -8.770576,
          -2.9861896,
          -0.84132874,
          2.748439,
          -2.014449,
          2.20478,
          0.22641315,
          6.9526362,
          1.0206184,
          4.428552,
          2.7074819,
          -7.420264,
          5.8132105,
          -6.262788,
          1.8088847,
          8.470549,
          -6.3141546,
          7.867398,
          -5.9091334,
          6.3920126,
          0.58821714,
          0.46709445,
          0.066810235,
          0.5220635,
          2.1829007,
          -6.6273756,
          -0.25611758,
          4.157432,
          5.92486,
          -2.140523,
          7.758099,
          -7.6549234,
          -3.0160112,
          7.0609145,
          -4.733386,
          -7.4002213,
          4.580997,
          1.8393472,
          -0.7853172,
          0.4814676,
          3.3676362,
          2.5644083,
          5.0648136,
          -5.3734765,
          4.0242243,
          -7.365179,
          -6.0486474,
          -1.1089644,
          -3.149556,
          0.81528604,
          0.77227485,
          -7.348999,
          -8.066307,
          -7.3382354,
          -1.9710178,
          6.2123246,
          4.1444345,
          -6.5159345,
          -6.2783027,
          0.7456454,
          8.55449,
          0.9582658,
          -0.8732764
         ],
         "yaxis": "y"
        },
        {
         "customdata": [
          [
           "Positive",
           "Positive",
           "Ogolna ocena , jakosc i poczucie estetyki."
          ],
          [
           "Negative",
           "Negative",
           "Lakier roweru bardzo kiepskiej jakości, robią się odpryski nie wiadomo od czego rower ładny wygodny ale po 3 miesiącach użytkowania widoczne odpryski lakieru czego za taką cenę nie powinno być ! ! ! ! ! ! ! ! ! ! ! ! ! ! ! ! ! ! ! ! ! ! ! ! ! ! ! ! ! ! ! ! ! ! ! ! ! ! ! ! ! ! ! ! ! ! ! ! ! ! ! ! ! ! ! ! ! ! ! ! ! ! ! ! ! ! ! ! ! ! ! ! ! ! ! ! ! ! ! ! ! ! ! ! ! ! ! ! ! ! ! ! ! ! ! ! ! ! ! ! ! ! ! ! ! ! ! ! ! ! ! ! ! ! ! ! ! ! ! ! ! ! ! ! ! ! ! ! !"
          ],
          [
           "Negative",
           "Negative",
           "Budzik zdecydowanie nie jest warty ceny 75 zł. Zalety : ładny wygląd, dobre spasowanie materiału, duże czytelne cyfry, głośny alarm. Wady : wykonany z kiepskiej jakości, taniego plastiku, przyciski ( w tym alarmu i drzemki ) umieszczone z tyłu, co jest bardzo niepraktyczne w nocy, przyciski też tandetne ( głośne i twarde ). Może przeszkadzać : brak regulacji podświetlenia, bateria podtrzymująca pamięć w coraz rzadziej spotykanej postaci 9V ( nie mogły być paluszki ? ). Przydatna była by również opcja regulacji alarmu ( np. od delikatnego do mocnego )."
          ],
          [
           "Positive",
           "Positive",
           "Miał em przyjemność pracować z nim przy wielu projektach. To prawdziwy profesjonalista."
          ],
          [
           "Neutral",
           "Neutral",
           "Cóż...."
          ],
          [
           "Negative",
           "Negative",
           "Ja idąc na informatyke 3 nie znałęm prawie w ogóle jezyka C no i to nie jest kurs dla takich osób jak ja tylko dla początkujących."
          ],
          [
           "Positive",
           "Positive",
           "Polecam ten artykuł. Może coś się zmieni w tej materii."
          ],
          [
           "Negative",
           "Negative",
           "jestem pilarzem od parunastu lat, skusił em się na tego partnera w listopadzie 2016r. Łatwo się uruchamia i dobrze pracuje, lekka, poręczna, wygodna ale za mały otwór wlewu oleju i za małe objętości zbiornika paliwa i oleju - trzeba często uzupełniać je, filtr powietrza w zasadzie jednorazowy zapycha się po około tygodniu pracy ( około 3h dziennej pracy piły ) - koszt nowego 10zł, zaś po 3 miesiącach pękła linka gazu ( każde naciśnięcie manetki gazu łamie linkę - takie dziwne rozwiązanie konstrukcyjne ) - koszt nowej 40zł, jak dla mnie trochę za wysokie koszty utrzymania tej piły - jestem zawiedziony tym modelem partnera."
          ],
          [
           "Negative",
           "Negative",
           "NIE OLEWAJ GORNIAKA i nie podpadaj pod żadne paragrafy. Ja zawsze staram się tak jak mówisz nie podpaść."
          ],
          [
           "Positive",
           "Positive",
           "Niesamowite poczucie humoru ciagle mnie zadziwia."
          ],
          [
           "Positive",
           "Positive",
           "Ogólnie się z tobą zgadzam, ale nie można się poddawać."
          ],
          [
           "Positive",
           "Positive",
           "Tak Podstawa oceny w indeksie : egzamin Niespodziewajki : brak ( zadania powtarzają się co roku ) Poczucie humorupane pokłady Ogólne podejście do studenta : pozytywne Zerowy termin jest najprostszy ( 3 zadania ) - warunkiem przystąpienia jest jednak zaliczenie projektu u dr."
          ],
          [
           "Positive",
           "Positive",
           "Dobry wykładowca."
          ],
          [
           "Positive",
           "Positive",
           "Scharoch wypada naprawde swietnie."
          ],
          [
           "Negative",
           "Negative",
           "Witam Długo się namyślał em przed zakupem przyzwoitego pistoletu i zdecydował em się na STEINELA 3002. Porażka na całej lini pierwsza próba pracy zagrzewa, podał klej i przestał działać. Wysyłka na serwis. Po wymianie systemu grzejnego pistolet puszczał klej bokami, kapał z podajnika i po pięciu minutach ponownie przestał działać. Wysyłka na serwis. Jak do tej pory mam go od dwóch miesięcy a popracował 5 dni. Nie jest zły ale nie jest też wart swojej ceny."
          ],
          [
           "Negative",
           "Negative",
           "Po prostu trzeba dużo się uczyć i rozumieć, że z każdego zdania można coś wynieść."
          ],
          [
           "Negative",
           "Negative",
           "Jest po prostu na tych wykładach nudno i niczego się człowiek nie dowie pożytecznego, bo na ćwiczeniach materiał idzie zdecydowanie szybciej ( wszystko za sprawą wszelkich dygresji Pana doktora podczas wykładu )."
          ],
          [
           "Negative",
           "Negative",
           "Grzejniki ładne ale mają beznadziejne termostaty bez pamięci nastaw i możliwości programowania. Można jedynie skorygować nastawy fabryczne ale do czasu pierwszego zaniku napięcia, potem i tak wszystko powróci do nastaw fabrycznych. Poza tym termostaty bardzo łatwo się przegrzewają i przy bardzo niskich temperaturach przy bardzo wysokich temp. nie są wcale stabilne."
          ],
          [
           "Negative",
           "Negative",
           "Za ta cenę spodziewał em się bardziej dopracowanego sprzętu. Miska mocowana w robocie jest w przeciwnym kierunku niż kręci się rózga tak więc przy cięższych ciastach lubi się wypiąć podczas pracy. Niedopracowane same rózgi do misy ( chociaż wyglądają bardzo profesjonalnie ) pozostawiają na dnie nierozmieszane ciasto lub krem ( zaznaczę ze posiadam inne miksery roboty które wypadają o niebo lepiej ) Najbardziej irytujące są jednak mieszadła silikonowe które powinny zbierać wszystko ze ścianek oraz spodu misy co bardzo przeszkadza a właściwie uniemożliwia korzystanie z miski."
          ],
          [
           "Negative",
           "Negative",
           "Kiedy na początku zobaczył em słuchawki zachwycał em się nimi. Dobry mikrofon, ładne opakowanie, przyjemny wygląd słuchawek. Ogólnie mówiąc NAJPIERW był em bardzo zadowolony. Gdzieś po 3 miesiącach problemy z mikrofonem się zaczęły raz działał raz nie, po 6 nie odpinał em go ponieważ wtedy już nie działał na długo i nie chciał em kusić losu licząc na kolejny cud, że jak podłącze to znowu zadziała. Po 3 / 4 roku siadła jedna strona zupełnie.... To już mnie kompletnie dobiło i zmienił em na akg 514 i co... ? Ogromna różnica w jakości a należało trochę dopłacić. I na nowych słuchawkach słychać znacznie lepiej w fps na jakim przeciwnik jest poziomie jak jest z tyłu na fatality nie mogł em rozróżnić. Dopóki się odwrócił em i sprawdził em zazwyczaj dead. Nie polecam na dłuższą metę na 3 miesiące mogą być w porządku ale na to zakup na krótko. Beznadziejne wykonanie, kabla mikrofona i ogólnie całych słuchawek."
          ],
          [
           "Neutral",
           "Neutral",
           "Zaliczenie : : Strona internetowa wymyślonej firmy lub biznes plan."
          ],
          [
           "Neutral",
           "Neutral",
           "Oczywiscie odda j prawo jazdy."
          ],
          [
           "Negative",
           "Negative",
           "Podobnie jak większość zawiodła m się na tej kosiarce. Wydawało się, że firmowa kosiarka będzie służyć dłużej... Od samego początku była bardzo delikatna, dobra tylko do drobnej trawki na idealnie równym terenie. Koszenie na lekkich nierównościach zakończyło się powyginanym nożem. Nóż po roku wymieniony na nowy, bo nie dało się go naostrzyć. Kosiarka była dobra tylko do koszenia trawy. Wózek, który na nim jest teraz, jest bardzo wąski, a kosiarka jest naprawdę lekka. Kosiarka była tania, ale kosiarka była bardzo dobra. Nie było w niej nic nadzwyczajnego. Wózek, który teraz posiadam, jest bardzo stabilny i stabilny. Jest cichy, ale jeździ się nim cicho. Kosz na trawę jest mniejszy i mniej poręczny."
          ],
          [
           "Positive",
           "Positive",
           "Gosc jest do rany przyłóż."
          ],
          [
           "Neutral",
           "Neutral",
           "W sumie bezstresowe wychowanie, szkoła, praca... Ja to bym się wstydził być rodzicem."
          ],
          [
           "Negative",
           "Negative",
           "Jestem świeżo po zakupie Marantza 611. Urządzenie bardzo dobrze odtwarza płyty CD. Gorzej jest z nośnikami USB. Nośniki czytane są długo i dźwięk jest słyszalnie uboższy pomimo odtwarzania plików FLAC. Jednak kompletna porażka to wieszanie się urządzenia jeśli zaczynamy słuchać stacji z radia cyfrowego DAB +. Sytuacja jest powtarzalna po dodaniu stacji dwóch DAB + do ulubionych i próbie przełączania się między nimi następuje zawieszenie urządzenia, dokładniej odtwarzania dźwięku. Przywrócenie odtwarzania dziwięku jest możliwe po wybraniu stacji FM do odtwarzania. Drugą kwestią jest włączanie się samo z siebie urządzenia. Czyli śpisz sobie a ono się włącza. Wyłączasz. Za 2h jest to samo. Jeśli do tego dodamy głęboko rozczarowującą scenę dżwiękową dla nośników USB lepiej kupić coś tańszego nawet jeśli będzie miało te same wady."
          ],
          [
           "Negative",
           "Negative",
           "Grill ma wadę, dużą, z którą niestety żył em 3 lata. Tłuszcz zamiast skapywać w całości do dołączonej miseczki, spływał pod płytę grzewczą, zawsze po grillowaniu, musiałem go postawić w pionie i patrzeć jak wylewa się to na blat. Nie wiem czy Philips tego nie przemyślał, nie sprawdził, ale jest to tragiczne niedopatrzenie. Kilka dni temu grill owałem grillowane warzywa i już widzę jak tłuszcz spłynie pod płytę, a na płycie nie pozostanie nawet kropla tłuszczu, który powinien zostać w pojemniku na tłuszcz."
          ],
          [
           "Negative",
           "Negative",
           "Niestety w moich testach wypadł strasznie marnie. Prędkość zapisu dużego pojedynczego pliku na USB 2. 0 to 5MB / s i nie chce być szybciej. Obojętne czy NTFS czy FAT32. Kupił em 2 egzemplarze i na każdym taka żenada. Wstyd dla Patriota. Dane podane przez producenta są wyssane z palca."
          ],
          [
           "Neutral",
           "Neutral",
           "Na zajeciach nalezy byc cicho, osoby siedzace w kucki i zachowujace sie cicho moga byc zauwazane."
          ],
          [
           "Negative",
           "Negative",
           "Za ta cenę spodziewał em się bardziej dopracowanego sprzętu. Miska mocowana w robocie jest w przeciwnym kierunku niż kręci się rózga tak więc przy cięższych ciastach lubi się wypiąć podczas pracy. Niedopracowane same rózgi do misy ( chociaż wyglądają bardzo profesjonalnie ) pozostawiają na dnie nierozmieszane ciasto lub krem ( zaznaczę ze posiadam inne miksery roboty które wypadają o niebo lepiej ) Najbardziej irytujące są jednak mieszadła silikonowe które powinny zbierać wszystko ze ścianek oraz spodu misy co bardzo przeszkadza a właściwie uniemożliwia podbijanie mas na * * * * * z jednoczesnym podgrzewaniem ( w tym celu to zakupił em ) chyba że chcemy jajecznicę to wtedy są wręcz idealne. Co do trwałości robota nie mogę nic powiedzieć za krótko go posiadam. Reasumując osobiście nie kupił by m ponownie robota za taką cenę wiedząc o jego wadach. Do napisania opini skłoniło mnie rozczarowanie : ( : ( : ( i jestem delikatnie wciekły nie wspomnę że lżejszy o 3800. Zawsze jest nadzieja ze ktoś z firmy Kenwood przeczyta moje wypociny i w przyszłych modelach poprawią niedoróbki. Tak tak wiem ze nadzieja jest matką....."
          ],
          [
           "Positive",
           "Positive",
           "Pan Gańcza jest osobą bardzo dobrą jako nauczyciel dla moich uczniów."
          ],
          [
           "Negative",
           "Negative",
           "hhmm, no to jazda z tym Wygląd i to tylko ta zaleta. Jeśli chodzi o resztę to ; brak osiowości ławki, brak stabilności ( ćwicząc na ławce skos ujemny radzę zakładać pampersa ). Teraz widze że sprzęt jest robiony masowo przez zwykłego Kowalskiego ( na Chiński to będzie Jung Pęk Spaw ). Urządzenie do ćwiczeń na nogi ucieka kilka stopni w jedną stronę, modlitewnik tragedia, oparcie do ćwiczenia rozpiętek na siedząco jest krzywo osadzone, i nawet przy prawidłowym wyproście siedzi się trochę za głęboko i plecy bolą. Za bardzo odstaje od reszty. Wybieram się w tym roku na siłkę, ale chyba nie pójdę bo jestem za biedny, żeby mieć sprzęt do ćwiczeń na nogi za 300-500 zł."
          ],
          [
           "Negative",
           "Negative",
           "Grill ma wadę, dużą, z którą niestety żył em 3 lata. Tłuszcz zamiast skapywać w całości do dołączonej miseczki, spływał pod płytę grzewczą, zawsze po grillowaniu, musiałem go postawić w pionie i patrzeć jak wylewa się to na blat. Nie wiem czy Philips tego nie przemyślał, nie sprawdził, ale jest to tragiczne niedopatrzenie. Kilka dni temu grill odmówił posłuszeństwa. Nie grzeje. Pokrętło do do ustawiania temperatury odmówiło z rok temu, przestało mieć grzechotkę, ale nie przeszkadzało to w użytkowaniu. Za minus uważam też brak możliwości dokupienia samych płyt teflonowych, choćby w cenie połowy grilla. Zdecydowanie nie polecam i nie kupię grilla Philipsa, a w przypadku awarii, muszę kupić nowego."
          ],
          [
           "Neutral",
           "Neutral",
           "Zajmuje to góra dwa dni, zwłaszcza ze odpowiedzi sa wspólnie opracowywane przez studentów."
          ],
          [
           "Neutral",
           "Neutral",
           "Tak czy inaczej, jeśli wahasz się między Panem Bogiem a Tobą i chcesz się upewnić co do prawdziwości tego, co On mówi, proszę, powiedz mi, czy rzeczywiście nie masz"
          ],
          [
           "Positive",
           "Positive",
           "Kolokwia nie sa trudne - taki standart ogolnouczelniany."
          ],
          [
           "Neutral",
           "Neutral",
           "Ocena jest za obecność, ale trzeba uważać : bardzo nie lubi ludzi, którzy mają coś do ukrycia."
          ],
          [
           "Negative",
           "Negative",
           "Najpierw + dostajemy produkt z najwyższej półki, pięknie zapakowany. Mysz jest wygodna, działa ( jak już działa ) precyzyjnie. To tyle z +... teraz - nigdy więcej sprzętu dla graczy RAZERA. Przereklamowane - to pierwsze to narzuca mi się na myśl. Absurdalna cena jak za taki sprzęt. Gumki pod kciukiem odpadły po trzech miesiącach. Scroll miał problem z działaniem już po miesiącu, sensor również choć korzystam z aluminiowej podkładki. Obydwie części musiałem czyścić. Najgorsze jednak jest oprogramowanie Razer Synapse, które zawiesza się za każdym razem kiedy je podłączę do PC. Nie mogę nawet sprawdzić czy klawiatura się kręci, czy na ekranie coś jest. A nawet jak jestem podłączony do PC, to nie działa, nie mam jak sprawdzić czy klawiatura się kręci."
          ],
          [
           "Negative",
           "Negative",
           "hhmm, no to jazda z tym Wygląd i to tylko ta zaleta. Jeśli chodzi o resztę to ; brak osiowości ławki, brak stabilności ( ćwicząc na ławce skos ujemny radzę zakładać pampersa ). Teraz widze że sprzęt jest robiony masowo przez zwykłego Kowalskiego ( na Chiński to będzie Jung Pęk Spaw ). Urządzenie do ćwiczeń na nogi ucieka kilka stopni w jedną stronę, modlitewnik tragedia, oparcie do ćwiczenia rozpiętek na siedząco jest krzywo osadzone, sztanga do wyciskania na ławce jest za ciężka i źle leży na nodze ( to moje subiektywne odczucie) a do tego dochodzi wadliwy system chłodzenia i nie mogę na nim ćwiczyć. Na razie to tylko moje spostrzeżenia, ale to jeszcze nie koniec. Jeśli coś nie jest złe to z pewnością nie można tego nazwać wadliwym sprzętem."
          ],
          [
           "Negative",
           "Negative",
           "Ten router to porażka, gdyż nie jest w stanie poprawnie współpracować z modemem Huawei E180 pomimo tego ze w specyfikacji umieszczonej na opakowaniu producent zapewnia, że biedzie współpracować co okazało się nieprawdą. Router po chwili od włączenia rozłącza internet także nie da się z niego w ogóle korzystać i nie pomagają aktualizacje firmware. Być może z innym modem ten router by zadziałał ale ten który mam z racji tego że go posiadam nie posiada tego złącza co powinien. Zasadniczo na początku działania nie było problemu gdyż działało, natomiast gdy zacząłem korzystać z routera to z niego nie dało się korzystać. Odłączenie od internetu i restarty nie pomogły. Aktualizacja firmware nie pomogła. Przetestowałem go z poziomu routera, w domu mam 2 urządzenia sieciowe i każdy działa tak samo."
          ],
          [
           "Negative",
           "Negative",
           "Fizyka 2 [ / b ] Zdac egzamin jest dosyc trudno tak bylo w moim przypadku zdalo bardzo mało osub."
          ],
          [
           "Negative",
           "Negative",
           "* * * * * jakich mało za tę cenę to jakieś ewidentne żarty. Oddał em jedną kamerę na gwarancji bo nie nagrywała filmów akurat tych co mi byly potrzebne. 1 wyskoczyła mi sarna nie ma filmu, 2. wyskoczył mi lis nie ma filmu Wszystkie sytuacje obeszły się szczęśliwie ale gdyby coś poszło nie tak potrzebował by m filmu żeby chociaż udowodnić moją racje ubezpieczycielowi. Oddał em kamerę i ona zaginęła . W międzyczasie znalazłem inną kamerke i tam tez nie było problemu. Oddał em drugą kamerę ale tam tez nie było problemów."
          ],
          [
           "Neutral",
           "Neutral",
           "Jeśli wyczyta nieobecnego, to ta osoba na 100 % będzie czytana na kolejnych zajęciach."
          ],
          [
           "Positive",
           "Positive",
           "Ludzie... takiego lajtu jak zyje to nie widzialem... : ) Postanowilem zrobic sobie z tego tytulu mala przyjemnosc. Zaczalem ogladac ten film z czystej ciekawosci."
          ],
          [
           "Negative",
           "Negative",
           "Na każdej laborce kartkówka, teraz moge stwierdzić że może nie były aż takie trudne, ale zaliczył em jedną na 5 czy 6... po prostu jeżeli nigdy przedtem nie miał eś do czynienia z językiem C to naprawde jest trudno."
          ],
          [
           "Positive",
           "Positive",
           "ANALIZA MATEMATYCZNA 1 ( WYKŁAD + ĆW ) Pani wydaje byc sie bardzo dobra w tych swoich rachunkach. To znaczy, ze nie ma w nich zadnych bledow."
          ],
          [
           "Neutral",
           "Neutral",
           "Był em na jej zajęciach w 100 %, starał em się jak mogł em by nadgonić grupę gdyż nie zdawał em matury z anglika a znalazł em się na B 1."
          ],
          [
           "Positive",
           "Positive",
           "Na koniec jest to, że \"konkurencja\" w tym przypadku była \"na rękę"
          ],
          [
           "Negative",
           "Negative",
           "Graficzny zapis konstrukcji (FILM): - Wyświetlacz: LED - Format obrazu: 16:9"
          ],
          [
           "Positive",
           "Positive",
           "Szermierka to bardzo ciekawy sport, a Pan Gańcza potrafi go nauczyc."
          ],
          [
           "Negative",
           "Negative",
           "Dla mnie żadna rewelacja, ale może mam jakiś wybrakowany produkt... Urządzenie mam od grudnia i użyła m go może z 5 razy. Za każdym razem mieszkanie zadymione i strasznie śmierdziało ( jakby palonym kablem czy coś ). Jedzenia nie można w sumie ani na chwilkę spuścić z oka, bo zaraz się to zacznie. Nie ma opcji, że ktoś do mnie przyjdzie czy przyjdzie, bo coś jest nie tak. Jeśli już, to to jest raczej kwestia kilku dni lub miesięcy. W nocy jest też tak, że włącza się światło, a za chwilę znowu znika i znowu nie włącza się. Czasem nawet nie ma w ogóle prądu."
          ],
          [
           "Positive",
           "Positive",
           "Znam ją tez z ćwiczeń gdzie dobrze i przystepnie tłumaczy."
          ],
          [
           "Positive",
           "Positive",
           "Ogólnie bardzo polecam, Krzysztof Bogdan ze swoim plecakiem i poczuciem humoru ( ' a ) bardzo fajne są te filmy, bo to są takie komedie o życiu ( 'a) - fajne są też te wszystkie wywiady z psychologami"
          ],
          [
           "Negative",
           "Negative",
           "Mylący tytuł który sugeruje że mamy do czynienia z dziełem Smitha, w rzeczywistości w książce zawarte są tylko fragmenty Bogactwa Narodów oraz Teorii Uczuć Moralnych, które okraszone są niestety bardzo kiepskim komentarzem jak się okazuje AUTORA KSIĄŻKI którym NIE JEST ADAM SMITH ! (a przynajmniej nie był zanim został opisany w książce)."
          ]
         ],
         "hovertemplate": "Correct=True<br>TSNE-1=%{x}<br>TSNE-2=%{y}<br>True Label=%{customdata[0]}<br>Predicted Label=%{customdata[1]}<br>Text=%{customdata[2]}<extra></extra>",
         "legendgroup": "True",
         "marker": {
          "color": "#FFA15A",
          "symbol": "diamond"
         },
         "mode": "markers",
         "name": "True",
         "orientation": "v",
         "showlegend": true,
         "type": "scatter",
         "x": [
          0.51170886,
          -3.7441258,
          -6.621524,
          7.552584,
          -2.638941,
          6.0579853,
          5.2792325,
          -4.699565,
          7.410631,
          1.0317616,
          -3.928296,
          2.2152627,
          -1.2861308,
          4.415779,
          -4.8166513,
          -3.754804,
          0.20477274,
          -3.7158132,
          5.624836,
          -6.74836,
          1.0015692,
          3.6854775,
          -7.702805,
          8.229519,
          -2.6157217,
          -6.3636246,
          -5.232725,
          7.202339,
          -3.680755,
          9.027487,
          7.207337,
          -5.4941645,
          -6.3092012,
          0.5268989,
          3.2073803,
          3.356329,
          0.9407974,
          -6.0042796,
          -5.8870416,
          -5.3479424,
          2.8680258,
          -5.4089026,
          1.5046372,
          1.8675283,
          -1.2886211,
          2.8801258,
          1.6602612,
          -6.354857,
          2.4455006,
          -0.4579829,
          -4.83242,
          6.173527,
          -2.216516,
          -2.6141307
         ],
         "xaxis": "x",
         "y": [
          -5.67392,
          9.995363,
          6.229853,
          -6.716221,
          -5.8290358,
          -5.29755,
          -6.395121,
          7.117062,
          -5.2951775,
          -7.5230336,
          -0.96748793,
          -2.1185598,
          -6.7856975,
          -7.230442,
          6.395106,
          0.16942418,
          2.6137383,
          5.3045726,
          -2.4304779,
          7.505844,
          -7.0557528,
          -8.146912,
          7.209076,
          -6.3215866,
          1.9514661,
          5.5607457,
          6.4912605,
          -4.686772,
          2.1843941,
          -5.0857015,
          -6.877384,
          7.2463346,
          6.9272814,
          3.4876137,
          5.043602,
          -1.5114363,
          2.8051627,
          7.1774025,
          7.666123,
          8.479619,
          -6.3809276,
          5.267227,
          2.0280654,
          -2.806859,
          2.5510798,
          -2.2201548,
          1.6195947,
          0.7609572,
          -5.515593,
          2.9217682,
          7.887475,
          -6.041665,
          0.19821244,
          4.7290006
         ],
         "yaxis": "y"
        }
       ],
       "layout": {
        "height": 600,
        "legend": {
         "title": {
          "text": "Correct"
         },
         "tracegroupgap": 0
        },
        "template": {
         "data": {
          "bar": [
           {
            "error_x": {
             "color": "#2a3f5f"
            },
            "error_y": {
             "color": "#2a3f5f"
            },
            "marker": {
             "line": {
              "color": "#E5ECF6",
              "width": 0.5
             },
             "pattern": {
              "fillmode": "overlay",
              "size": 10,
              "solidity": 0.2
             }
            },
            "type": "bar"
           }
          ],
          "barpolar": [
           {
            "marker": {
             "line": {
              "color": "#E5ECF6",
              "width": 0.5
             },
             "pattern": {
              "fillmode": "overlay",
              "size": 10,
              "solidity": 0.2
             }
            },
            "type": "barpolar"
           }
          ],
          "carpet": [
           {
            "aaxis": {
             "endlinecolor": "#2a3f5f",
             "gridcolor": "white",
             "linecolor": "white",
             "minorgridcolor": "white",
             "startlinecolor": "#2a3f5f"
            },
            "baxis": {
             "endlinecolor": "#2a3f5f",
             "gridcolor": "white",
             "linecolor": "white",
             "minorgridcolor": "white",
             "startlinecolor": "#2a3f5f"
            },
            "type": "carpet"
           }
          ],
          "choropleth": [
           {
            "colorbar": {
             "outlinewidth": 0,
             "ticks": ""
            },
            "type": "choropleth"
           }
          ],
          "contour": [
           {
            "colorbar": {
             "outlinewidth": 0,
             "ticks": ""
            },
            "colorscale": [
             [
              0,
              "#0d0887"
             ],
             [
              0.1111111111111111,
              "#46039f"
             ],
             [
              0.2222222222222222,
              "#7201a8"
             ],
             [
              0.3333333333333333,
              "#9c179e"
             ],
             [
              0.4444444444444444,
              "#bd3786"
             ],
             [
              0.5555555555555556,
              "#d8576b"
             ],
             [
              0.6666666666666666,
              "#ed7953"
             ],
             [
              0.7777777777777778,
              "#fb9f3a"
             ],
             [
              0.8888888888888888,
              "#fdca26"
             ],
             [
              1,
              "#f0f921"
             ]
            ],
            "type": "contour"
           }
          ],
          "contourcarpet": [
           {
            "colorbar": {
             "outlinewidth": 0,
             "ticks": ""
            },
            "type": "contourcarpet"
           }
          ],
          "heatmap": [
           {
            "colorbar": {
             "outlinewidth": 0,
             "ticks": ""
            },
            "colorscale": [
             [
              0,
              "#0d0887"
             ],
             [
              0.1111111111111111,
              "#46039f"
             ],
             [
              0.2222222222222222,
              "#7201a8"
             ],
             [
              0.3333333333333333,
              "#9c179e"
             ],
             [
              0.4444444444444444,
              "#bd3786"
             ],
             [
              0.5555555555555556,
              "#d8576b"
             ],
             [
              0.6666666666666666,
              "#ed7953"
             ],
             [
              0.7777777777777778,
              "#fb9f3a"
             ],
             [
              0.8888888888888888,
              "#fdca26"
             ],
             [
              1,
              "#f0f921"
             ]
            ],
            "type": "heatmap"
           }
          ],
          "heatmapgl": [
           {
            "colorbar": {
             "outlinewidth": 0,
             "ticks": ""
            },
            "colorscale": [
             [
              0,
              "#0d0887"
             ],
             [
              0.1111111111111111,
              "#46039f"
             ],
             [
              0.2222222222222222,
              "#7201a8"
             ],
             [
              0.3333333333333333,
              "#9c179e"
             ],
             [
              0.4444444444444444,
              "#bd3786"
             ],
             [
              0.5555555555555556,
              "#d8576b"
             ],
             [
              0.6666666666666666,
              "#ed7953"
             ],
             [
              0.7777777777777778,
              "#fb9f3a"
             ],
             [
              0.8888888888888888,
              "#fdca26"
             ],
             [
              1,
              "#f0f921"
             ]
            ],
            "type": "heatmapgl"
           }
          ],
          "histogram": [
           {
            "marker": {
             "pattern": {
              "fillmode": "overlay",
              "size": 10,
              "solidity": 0.2
             }
            },
            "type": "histogram"
           }
          ],
          "histogram2d": [
           {
            "colorbar": {
             "outlinewidth": 0,
             "ticks": ""
            },
            "colorscale": [
             [
              0,
              "#0d0887"
             ],
             [
              0.1111111111111111,
              "#46039f"
             ],
             [
              0.2222222222222222,
              "#7201a8"
             ],
             [
              0.3333333333333333,
              "#9c179e"
             ],
             [
              0.4444444444444444,
              "#bd3786"
             ],
             [
              0.5555555555555556,
              "#d8576b"
             ],
             [
              0.6666666666666666,
              "#ed7953"
             ],
             [
              0.7777777777777778,
              "#fb9f3a"
             ],
             [
              0.8888888888888888,
              "#fdca26"
             ],
             [
              1,
              "#f0f921"
             ]
            ],
            "type": "histogram2d"
           }
          ],
          "histogram2dcontour": [
           {
            "colorbar": {
             "outlinewidth": 0,
             "ticks": ""
            },
            "colorscale": [
             [
              0,
              "#0d0887"
             ],
             [
              0.1111111111111111,
              "#46039f"
             ],
             [
              0.2222222222222222,
              "#7201a8"
             ],
             [
              0.3333333333333333,
              "#9c179e"
             ],
             [
              0.4444444444444444,
              "#bd3786"
             ],
             [
              0.5555555555555556,
              "#d8576b"
             ],
             [
              0.6666666666666666,
              "#ed7953"
             ],
             [
              0.7777777777777778,
              "#fb9f3a"
             ],
             [
              0.8888888888888888,
              "#fdca26"
             ],
             [
              1,
              "#f0f921"
             ]
            ],
            "type": "histogram2dcontour"
           }
          ],
          "mesh3d": [
           {
            "colorbar": {
             "outlinewidth": 0,
             "ticks": ""
            },
            "type": "mesh3d"
           }
          ],
          "parcoords": [
           {
            "line": {
             "colorbar": {
              "outlinewidth": 0,
              "ticks": ""
             }
            },
            "type": "parcoords"
           }
          ],
          "pie": [
           {
            "automargin": true,
            "type": "pie"
           }
          ],
          "scatter": [
           {
            "fillpattern": {
             "fillmode": "overlay",
             "size": 10,
             "solidity": 0.2
            },
            "type": "scatter"
           }
          ],
          "scatter3d": [
           {
            "line": {
             "colorbar": {
              "outlinewidth": 0,
              "ticks": ""
             }
            },
            "marker": {
             "colorbar": {
              "outlinewidth": 0,
              "ticks": ""
             }
            },
            "type": "scatter3d"
           }
          ],
          "scattercarpet": [
           {
            "marker": {
             "colorbar": {
              "outlinewidth": 0,
              "ticks": ""
             }
            },
            "type": "scattercarpet"
           }
          ],
          "scattergeo": [
           {
            "marker": {
             "colorbar": {
              "outlinewidth": 0,
              "ticks": ""
             }
            },
            "type": "scattergeo"
           }
          ],
          "scattergl": [
           {
            "marker": {
             "colorbar": {
              "outlinewidth": 0,
              "ticks": ""
             }
            },
            "type": "scattergl"
           }
          ],
          "scattermapbox": [
           {
            "marker": {
             "colorbar": {
              "outlinewidth": 0,
              "ticks": ""
             }
            },
            "type": "scattermapbox"
           }
          ],
          "scatterpolar": [
           {
            "marker": {
             "colorbar": {
              "outlinewidth": 0,
              "ticks": ""
             }
            },
            "type": "scatterpolar"
           }
          ],
          "scatterpolargl": [
           {
            "marker": {
             "colorbar": {
              "outlinewidth": 0,
              "ticks": ""
             }
            },
            "type": "scatterpolargl"
           }
          ],
          "scatterternary": [
           {
            "marker": {
             "colorbar": {
              "outlinewidth": 0,
              "ticks": ""
             }
            },
            "type": "scatterternary"
           }
          ],
          "surface": [
           {
            "colorbar": {
             "outlinewidth": 0,
             "ticks": ""
            },
            "colorscale": [
             [
              0,
              "#0d0887"
             ],
             [
              0.1111111111111111,
              "#46039f"
             ],
             [
              0.2222222222222222,
              "#7201a8"
             ],
             [
              0.3333333333333333,
              "#9c179e"
             ],
             [
              0.4444444444444444,
              "#bd3786"
             ],
             [
              0.5555555555555556,
              "#d8576b"
             ],
             [
              0.6666666666666666,
              "#ed7953"
             ],
             [
              0.7777777777777778,
              "#fb9f3a"
             ],
             [
              0.8888888888888888,
              "#fdca26"
             ],
             [
              1,
              "#f0f921"
             ]
            ],
            "type": "surface"
           }
          ],
          "table": [
           {
            "cells": {
             "fill": {
              "color": "#EBF0F8"
             },
             "line": {
              "color": "white"
             }
            },
            "header": {
             "fill": {
              "color": "#C8D4E3"
             },
             "line": {
              "color": "white"
             }
            },
            "type": "table"
           }
          ]
         },
         "layout": {
          "annotationdefaults": {
           "arrowcolor": "#2a3f5f",
           "arrowhead": 0,
           "arrowwidth": 1
          },
          "autotypenumbers": "strict",
          "coloraxis": {
           "colorbar": {
            "outlinewidth": 0,
            "ticks": ""
           }
          },
          "colorscale": {
           "diverging": [
            [
             0,
             "#8e0152"
            ],
            [
             0.1,
             "#c51b7d"
            ],
            [
             0.2,
             "#de77ae"
            ],
            [
             0.3,
             "#f1b6da"
            ],
            [
             0.4,
             "#fde0ef"
            ],
            [
             0.5,
             "#f7f7f7"
            ],
            [
             0.6,
             "#e6f5d0"
            ],
            [
             0.7,
             "#b8e186"
            ],
            [
             0.8,
             "#7fbc41"
            ],
            [
             0.9,
             "#4d9221"
            ],
            [
             1,
             "#276419"
            ]
           ],
           "sequential": [
            [
             0,
             "#0d0887"
            ],
            [
             0.1111111111111111,
             "#46039f"
            ],
            [
             0.2222222222222222,
             "#7201a8"
            ],
            [
             0.3333333333333333,
             "#9c179e"
            ],
            [
             0.4444444444444444,
             "#bd3786"
            ],
            [
             0.5555555555555556,
             "#d8576b"
            ],
            [
             0.6666666666666666,
             "#ed7953"
            ],
            [
             0.7777777777777778,
             "#fb9f3a"
            ],
            [
             0.8888888888888888,
             "#fdca26"
            ],
            [
             1,
             "#f0f921"
            ]
           ],
           "sequentialminus": [
            [
             0,
             "#0d0887"
            ],
            [
             0.1111111111111111,
             "#46039f"
            ],
            [
             0.2222222222222222,
             "#7201a8"
            ],
            [
             0.3333333333333333,
             "#9c179e"
            ],
            [
             0.4444444444444444,
             "#bd3786"
            ],
            [
             0.5555555555555556,
             "#d8576b"
            ],
            [
             0.6666666666666666,
             "#ed7953"
            ],
            [
             0.7777777777777778,
             "#fb9f3a"
            ],
            [
             0.8888888888888888,
             "#fdca26"
            ],
            [
             1,
             "#f0f921"
            ]
           ]
          },
          "colorway": [
           "#636efa",
           "#EF553B",
           "#00cc96",
           "#ab63fa",
           "#FFA15A",
           "#19d3f3",
           "#FF6692",
           "#B6E880",
           "#FF97FF",
           "#FECB52"
          ],
          "font": {
           "color": "#2a3f5f"
          },
          "geo": {
           "bgcolor": "white",
           "lakecolor": "white",
           "landcolor": "#E5ECF6",
           "showlakes": true,
           "showland": true,
           "subunitcolor": "white"
          },
          "hoverlabel": {
           "align": "left"
          },
          "hovermode": "closest",
          "mapbox": {
           "style": "light"
          },
          "paper_bgcolor": "white",
          "plot_bgcolor": "#E5ECF6",
          "polar": {
           "angularaxis": {
            "gridcolor": "white",
            "linecolor": "white",
            "ticks": ""
           },
           "bgcolor": "#E5ECF6",
           "radialaxis": {
            "gridcolor": "white",
            "linecolor": "white",
            "ticks": ""
           }
          },
          "scene": {
           "xaxis": {
            "backgroundcolor": "#E5ECF6",
            "gridcolor": "white",
            "gridwidth": 2,
            "linecolor": "white",
            "showbackground": true,
            "ticks": "",
            "zerolinecolor": "white"
           },
           "yaxis": {
            "backgroundcolor": "#E5ECF6",
            "gridcolor": "white",
            "gridwidth": 2,
            "linecolor": "white",
            "showbackground": true,
            "ticks": "",
            "zerolinecolor": "white"
           },
           "zaxis": {
            "backgroundcolor": "#E5ECF6",
            "gridcolor": "white",
            "gridwidth": 2,
            "linecolor": "white",
            "showbackground": true,
            "ticks": "",
            "zerolinecolor": "white"
           }
          },
          "shapedefaults": {
           "line": {
            "color": "#2a3f5f"
           }
          },
          "ternary": {
           "aaxis": {
            "gridcolor": "white",
            "linecolor": "white",
            "ticks": ""
           },
           "baxis": {
            "gridcolor": "white",
            "linecolor": "white",
            "ticks": ""
           },
           "bgcolor": "#E5ECF6",
           "caxis": {
            "gridcolor": "white",
            "linecolor": "white",
            "ticks": ""
           }
          },
          "title": {
           "x": 0.05
          },
          "xaxis": {
           "automargin": true,
           "gridcolor": "white",
           "linecolor": "white",
           "ticks": "",
           "title": {
            "standoff": 15
           },
           "zerolinecolor": "white",
           "zerolinewidth": 2
          },
          "yaxis": {
           "automargin": true,
           "gridcolor": "white",
           "linecolor": "white",
           "ticks": "",
           "title": {
            "standoff": 15
           },
           "zerolinecolor": "white",
           "zerolinewidth": 2
          }
         }
        },
        "title": {
         "text": "Przestrzeń Wektorowa Testowych Przypadków (Zaznaczenie Poprawnych/Niepoprawnych)"
        },
        "width": 1200,
        "xaxis": {
         "anchor": "y",
         "domain": [
          0,
          1
         ],
         "title": {
          "text": "TSNE-1"
         }
        },
        "yaxis": {
         "anchor": "x",
         "domain": [
          0,
          1
         ],
         "title": {
          "text": "TSNE-2"
         }
        }
       }
      }
     },
     "metadata": {},
     "output_type": "display_data"
    }
   ],
   "source": [
    "\n",
    "pca = PCA(n_components=40, random_state=42)\n",
    "embeddings_pca = pca.fit_transform(test_embeddings)\n",
    "\n",
    "tsne = TSNE(n_components=2, perplexity=30, n_iter=300, random_state=42)\n",
    "embeddings_tsne = tsne.fit_transform(embeddings_pca)\n",
    "\n",
    "sentiment_colors = {'Negative': 'red', 'Positive': 'green', 'Neutral': 'blue'}\n",
    "\n",
    "df_visualization = pd.DataFrame({\n",
    "    'TSNE-1': embeddings_tsne[:,0],\n",
    "    'TSNE-2': embeddings_tsne[:,1],\n",
    "    'True Label': test_labels,\n",
    "    'Predicted Label': test_predicted_labels,\n",
    "    'Text': test_df['text']\n",
    "})\n",
    "\n",
    "fig_true = px.scatter(\n",
    "    df_visualization,\n",
    "    x='TSNE-1',\n",
    "    y='TSNE-2',\n",
    "    color='True Label',\n",
    "    hover_data=['True Label', 'Predicted Label', 'Text'],\n",
    "    title='Przestrzeń Wektorowa Testowych Przypadków (Kolor: Prawdziwe Etykiety)',\n",
    "    width=1200,\n",
    "    height=600,\n",
    "    color_discrete_map=sentiment_colors\n",
    ")\n",
    "\n",
    "fig_true.show()\n",
    "\n",
    "fig_pred = px.scatter(\n",
    "    df_visualization,\n",
    "    x='TSNE-1',\n",
    "    y='TSNE-2',\n",
    "    color='Predicted Label',\n",
    "    hover_data=['True Label', 'Predicted Label', 'Text'],\n",
    "    title='Przestrzeń Wektorowa Testowych Przypadków (Kolor: Przewidywane Etykiety)',\n",
    "    width=1200,\n",
    "    height=600,\n",
    "    color_discrete_map=sentiment_colors\n",
    ")\n",
    "\n",
    "fig_pred.show()\n",
    "\n",
    "df_visualization['Correct'] = df_visualization['True Label'] == df_visualization['Predicted Label']\n",
    "\n",
    "fig_correct = px.scatter(\n",
    "    df_visualization,\n",
    "    x='TSNE-1',\n",
    "    y='TSNE-2',\n",
    "    color='Correct',\n",
    "    symbol='Correct',\n",
    "    hover_data=['True Label', 'Predicted Label', 'Text'],\n",
    "    title='Przestrzeń Wektorowa Testowych Przypadków (Zaznaczenie Poprawnych/Niepoprawnych)',\n",
    "    width=1200,\n",
    "    height=600,\n",
    "    color_discrete_map=sentiment_colors\n",
    ")\n",
    "\n",
    "fig_correct.show()"
   ]
  }
 ],
 "metadata": {
  "kernelspec": {
   "display_name": "py310",
   "language": "python",
   "name": "python3"
  },
  "language_info": {
   "codemirror_mode": {
    "name": "ipython",
    "version": 3
   },
   "file_extension": ".py",
   "mimetype": "text/x-python",
   "name": "python",
   "nbconvert_exporter": "python",
   "pygments_lexer": "ipython3",
   "version": "3.10.13"
  }
 },
 "nbformat": 4,
 "nbformat_minor": 2
}
