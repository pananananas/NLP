{
 "cells": [
  {
   "cell_type": "markdown",
   "metadata": {},
   "source": [
    "[Implementation from this tutorial](https://medium.com/@nubyra/parameter-efficient-fine-tuning-peft-of-bert-base-model-to-predict-medical-diagnosis-5086a1828f4b)"
   ]
  },
  {
   "cell_type": "code",
   "execution_count": 1,
   "metadata": {},
   "outputs": [],
   "source": [
    "from transformers import AutoTokenizer, AutoModelForSequenceClassification, DataCollatorWithPadding, Trainer, TrainingArguments, pipeline\n",
    "from peft import PeftModel, PeftConfig, LoraConfig, TaskType, get_peft_model\n",
    "from sklearn.metrics import confusion_matrix, classification_report\n",
    "from sklearn.model_selection import train_test_split\n",
    "from datasets import Dataset, DatasetDict\n",
    "from torch.utils.data import DataLoader\n",
    "from sklearn.decomposition import PCA\n",
    "from sklearn.manifold import TSNE\n",
    "from tqdm import tqdm\n",
    "import torch.nn.functional as F\n",
    "import matplotlib.pyplot as plt\n",
    "import plotly.express as px\n",
    "import seaborn as sns\n",
    "import pandas as pd\n",
    "import numpy as np\n",
    "import torch\n",
    "import os"
   ]
  },
  {
   "cell_type": "code",
   "execution_count": 2,
   "metadata": {},
   "outputs": [],
   "source": [
    "model_name = \"allegro/herbert-base-cased\"\n",
    "device = \"mps\""
   ]
  },
  {
   "cell_type": "code",
   "execution_count": 3,
   "metadata": {},
   "outputs": [
    {
     "name": "stdout",
     "output_type": "stream",
     "text": [
      "First few entries:\n"
     ]
    },
    {
     "data": {
      "text/html": [
       "<div>\n",
       "<style scoped>\n",
       "    .dataframe tbody tr th:only-of-type {\n",
       "        vertical-align: middle;\n",
       "    }\n",
       "\n",
       "    .dataframe tbody tr th {\n",
       "        vertical-align: top;\n",
       "    }\n",
       "\n",
       "    .dataframe thead th {\n",
       "        text-align: right;\n",
       "    }\n",
       "</style>\n",
       "<table border=\"1\" class=\"dataframe\">\n",
       "  <thead>\n",
       "    <tr style=\"text-align: right;\">\n",
       "      <th></th>\n",
       "      <th>text</th>\n",
       "      <th>label</th>\n",
       "    </tr>\n",
       "  </thead>\n",
       "  <tbody>\n",
       "    <tr>\n",
       "      <th>0</th>\n",
       "      <td>Lakier roweru bardzo kiepskiej jakości , robią...</td>\n",
       "      <td>Negative</td>\n",
       "    </tr>\n",
       "    <tr>\n",
       "      <th>1</th>\n",
       "      <td>Nie jestem zadowolony z zakupu . Przede wszyst...</td>\n",
       "      <td>Negative</td>\n",
       "    </tr>\n",
       "    <tr>\n",
       "      <th>2</th>\n",
       "      <td>Szukając klucze tej wielkości brał em dwa pod ...</td>\n",
       "      <td>Neutral</td>\n",
       "    </tr>\n",
       "    <tr>\n",
       "      <th>3</th>\n",
       "      <td>Długo szukała m odpowiedniego fotelika dla bar...</td>\n",
       "      <td>Neutral</td>\n",
       "    </tr>\n",
       "    <tr>\n",
       "      <th>4</th>\n",
       "      <td>Kupił em pociąg ( w zestawie kilka torów prost...</td>\n",
       "      <td>Negative</td>\n",
       "    </tr>\n",
       "  </tbody>\n",
       "</table>\n",
       "</div>"
      ],
      "text/plain": [
       "                                                text     label\n",
       "0  Lakier roweru bardzo kiepskiej jakości , robią...  Negative\n",
       "1  Nie jestem zadowolony z zakupu . Przede wszyst...  Negative\n",
       "2  Szukając klucze tej wielkości brał em dwa pod ...   Neutral\n",
       "3  Długo szukała m odpowiedniego fotelika dla bar...   Neutral\n",
       "4  Kupił em pociąg ( w zestawie kilka torów prost...  Negative"
      ]
     },
     "execution_count": 3,
     "metadata": {},
     "output_type": "execute_result"
    }
   ],
   "source": [
    "data_path = \"all_texts.csv\"\n",
    "df = pd.read_csv(data_path)\n",
    "\n",
    "print(\"First few entries:\")\n",
    "df.head()"
   ]
  },
  {
   "cell_type": "code",
   "execution_count": 4,
   "metadata": {},
   "outputs": [
    {
     "name": "stdout",
     "output_type": "stream",
     "text": [
      "\n",
      "Class Counts:\n",
      "label\n",
      "Neutral     150\n",
      "Positive     83\n",
      "Negative     67\n",
      "Name: count, dtype: int64\n",
      "\n",
      "Minimum class count: 67\n"
     ]
    }
   ],
   "source": [
    "class_counts = df['label'].value_counts()\n",
    "print(\"\\nClass Counts:\")\n",
    "print(class_counts)\n",
    "\n",
    "min_count = class_counts.min()\n",
    "print(f\"\\nMinimum class count: {min_count}\")"
   ]
  },
  {
   "cell_type": "code",
   "execution_count": 5,
   "metadata": {},
   "outputs": [
    {
     "name": "stdout",
     "output_type": "stream",
     "text": [
      "\n",
      "Balanced Label Distribution:\n",
      "label\n",
      "Negative    33.333333\n",
      "Neutral     33.333333\n",
      "Positive    33.333333\n",
      "Name: proportion, dtype: float64\n"
     ]
    },
    {
     "name": "stderr",
     "output_type": "stream",
     "text": [
      "/var/folders/ld/46j6jly10md36dbxgn_h72br0000gn/T/ipykernel_3853/1788761823.py:3: DeprecationWarning: DataFrameGroupBy.apply operated on the grouping columns. This behavior is deprecated, and in a future version of pandas the grouping columns will be excluded from the operation. Either pass `include_groups=False` to exclude the groupings or explicitly select the grouping columns after groupby to silence this warning.\n",
      "  df_balanced = df.groupby('label').apply(lambda x: x.sample(n=min_count, random_state=random_seed)).reset_index(drop=True)\n"
     ]
    }
   ],
   "source": [
    "random_seed = 42\n",
    "\n",
    "df_balanced = df.groupby('label').apply(lambda x: x.sample(n=min_count, random_state=random_seed)).reset_index(drop=True)\n",
    "\n",
    "print(\"\\nBalanced Label Distribution:\")\n",
    "print(df_balanced['label'].value_counts(normalize=True) * 100)"
   ]
  },
  {
   "cell_type": "code",
   "execution_count": 6,
   "metadata": {},
   "outputs": [
    {
     "data": {
      "text/plain": [
       "DatasetDict({\n",
       "    train: Dataset({\n",
       "        features: ['text', 'label', '__index_level_0__'],\n",
       "        num_rows: 160\n",
       "    })\n",
       "    test: Dataset({\n",
       "        features: ['text', 'label', '__index_level_0__'],\n",
       "        num_rows: 41\n",
       "    })\n",
       "})"
      ]
     },
     "execution_count": 6,
     "metadata": {},
     "output_type": "execute_result"
    }
   ],
   "source": [
    "train_df, test_df = train_test_split(\n",
    "    df_balanced, \n",
    "    test_size=0.2, \n",
    "    random_state=42, \n",
    "    # stratify=df['label']\n",
    ")\n",
    "\n",
    "train_dataset = Dataset.from_pandas(train_df)\n",
    "test_dataset = Dataset.from_pandas(test_df)\n",
    "\n",
    "dataset = DatasetDict({\n",
    "    \"train\": train_dataset,\n",
    "    \"test\": test_dataset\n",
    "})\n",
    "dataset"
   ]
  },
  {
   "cell_type": "code",
   "execution_count": 7,
   "metadata": {},
   "outputs": [
    {
     "name": "stdout",
     "output_type": "stream",
     "text": [
      "Unique Labels: ['Negative', 'Neutral', 'Positive']\n",
      "Number of Labels: 3\n",
      "Training Set Label Distribution:\n",
      "label\n",
      "Negative    35.00\n",
      "Positive    33.75\n",
      "Neutral     31.25\n",
      "Name: proportion, dtype: float64\n",
      "\n",
      "Test Set Label Distribution:\n",
      "label\n",
      "Neutral     41.463415\n",
      "Positive    31.707317\n",
      "Negative    26.829268\n",
      "Name: proportion, dtype: float64\n"
     ]
    }
   ],
   "source": [
    "print(\"Unique Labels:\", sorted(df['label'].unique()))\n",
    "print(\"Number of Labels:\", len(sorted(df['label'].unique())))\n",
    "\n",
    "print(\"Training Set Label Distribution:\")\n",
    "print(train_df['label'].value_counts(normalize=True) * 100)\n",
    "\n",
    "print(\"\\nTest Set Label Distribution:\")\n",
    "print(test_df['label'].value_counts(normalize=True) * 100)      # 41.46341463414634"
   ]
  },
  {
   "cell_type": "code",
   "execution_count": 8,
   "metadata": {},
   "outputs": [
    {
     "name": "stdout",
     "output_type": "stream",
     "text": [
      "INPUT: Duza częśc grupy zaliczyła w kolokwiach . \n",
      "OUTPUT: Positive\n",
      "\n",
      "INPUT: Klawiaturę otrzymał em , rozpakował em , podłączył em , zainstalował em soft pobrany ze strony Razer . Windows 7 widzi klawiaturę poprawnie i instaluje ją gładko . Niestety oprogramowanie Razer nie rozpoznaje własnej klawiatury . Nie pomaga przepinanie do innych portów USB , wielokrotny restart , ani odpięcie innych urządzeń USB od komputera . W dodatku soft jest zaprojektowany tak bezmyślnie , że dopóki nie wykryje klawiatury , nie można nawet kliknąć ikony pomocy , przeczytać dokumentacji ani zrobić nic innego . Bez tego oprogramowania nie można skonfigurować dodatkowych klawiszy ani korzystać z żadnych innych funkcji klawiatury . Gdyby m mógł tej klawiatury używać , narzekał by m na zbyt twarde klawisze i na to , że między obudową a dolnymi klawiszami mini - padu ( który sam w sobie jest genialnym pomysłem , nie tylko do gier ! ) zieje szeroka szczelina , przez którą widać płytkę drukowaną pod spodem . Takie rozwiązanie nie wróży długiej trwałości sprzętu - wystarczy kropla wody , nie mówiąc o kurzu . To moje drugie bardzo poważne rozczarowanie produktami tej firmy ( a myślał em , że kupuję jeden z najlepszych sprzętów ) . Klawiatura do zwrotu , dla mnie nauczka na przyszłość . \n",
      "OUTPUT: Negative\n",
      "\n",
      "INPUT: Ocena ogólna : UNIKAC : x : x \n",
      "OUTPUT: Negative\n",
      "\n"
     ]
    }
   ],
   "source": [
    "for entry in dataset['train'].select(range(3)):\n",
    "    print('INPUT: {} \\nOUTPUT: {}\\n'.format(entry['text'], entry['label']))"
   ]
  },
  {
   "cell_type": "code",
   "execution_count": 9,
   "metadata": {},
   "outputs": [
    {
     "data": {
      "text/html": [
       "<div>\n",
       "<style scoped>\n",
       "    .dataframe tbody tr th:only-of-type {\n",
       "        vertical-align: middle;\n",
       "    }\n",
       "\n",
       "    .dataframe tbody tr th {\n",
       "        vertical-align: top;\n",
       "    }\n",
       "\n",
       "    .dataframe thead th {\n",
       "        text-align: right;\n",
       "    }\n",
       "</style>\n",
       "<table border=\"1\" class=\"dataframe\">\n",
       "  <thead>\n",
       "    <tr style=\"text-align: right;\">\n",
       "      <th></th>\n",
       "      <th>Diagnosis</th>\n",
       "      <th>train_set</th>\n",
       "      <th>test_set</th>\n",
       "    </tr>\n",
       "  </thead>\n",
       "  <tbody>\n",
       "    <tr>\n",
       "      <th>0</th>\n",
       "      <td>Negative</td>\n",
       "      <td>56</td>\n",
       "      <td>11</td>\n",
       "    </tr>\n",
       "    <tr>\n",
       "      <th>1</th>\n",
       "      <td>Neutral</td>\n",
       "      <td>50</td>\n",
       "      <td>17</td>\n",
       "    </tr>\n",
       "    <tr>\n",
       "      <th>2</th>\n",
       "      <td>Positive</td>\n",
       "      <td>54</td>\n",
       "      <td>13</td>\n",
       "    </tr>\n",
       "  </tbody>\n",
       "</table>\n",
       "</div>"
      ],
      "text/plain": [
       "  Diagnosis  train_set  test_set\n",
       "0  Negative         56        11\n",
       "1   Neutral         50        17\n",
       "2  Positive         54        13"
      ]
     },
     "metadata": {},
     "output_type": "display_data"
    }
   ],
   "source": [
    "train_counts = pd.DataFrame({'Diagnosis': train_df['label']})\n",
    "train_counts = train_counts.groupby('Diagnosis').size().reset_index(name='train_set')\n",
    "\n",
    "test_counts = pd.DataFrame({'Diagnosis': test_df['label']})\n",
    "test_counts = test_counts.groupby('Diagnosis').size().reset_index(name='test_set')\n",
    "\n",
    "display(train_counts.merge(test_counts, on='Diagnosis'))"
   ]
  },
  {
   "cell_type": "code",
   "execution_count": 10,
   "metadata": {},
   "outputs": [
    {
     "name": "stdout",
     "output_type": "stream",
     "text": [
      "Label to ID mapping: {'Negative': 0, 'Neutral': 1, 'Positive': 2}\n",
      "ID to Label mapping: {0: 'Negative', 1: 'Neutral', 2: 'Positive'}\n"
     ]
    }
   ],
   "source": [
    "sorted_labels = sorted(set(df['label']))\n",
    "label2id = {label: idx for idx, label in enumerate(sorted_labels)}\n",
    "id2label = {idx: label for label, idx in label2id.items()}\n",
    "\n",
    "print(\"Label to ID mapping:\", label2id)\n",
    "print(\"ID to Label mapping:\", id2label)"
   ]
  },
  {
   "cell_type": "code",
   "execution_count": 11,
   "metadata": {},
   "outputs": [
    {
     "name": "stderr",
     "output_type": "stream",
     "text": [
      "Some weights of BertForSequenceClassification were not initialized from the model checkpoint at allegro/herbert-base-cased and are newly initialized: ['classifier.bias', 'classifier.weight']\n",
      "You should probably TRAIN this model on a down-stream task to be able to use it for predictions and inference.\n"
     ]
    }
   ],
   "source": [
    "\n",
    "tokenizer = AutoTokenizer.from_pretrained(model_name)\n",
    "\n",
    "foundation_model = AutoModelForSequenceClassification.from_pretrained(\n",
    "    model_name,\n",
    "    num_labels=len(label2id),\n",
    "    label2id=label2id,\n",
    "    id2label=id2label\n",
    ")\n",
    "\n",
    "classifier = pipeline(\"text-classification\", model=foundation_model, tokenizer=tokenizer, device=device)"
   ]
  },
  {
   "cell_type": "code",
   "execution_count": 12,
   "metadata": {},
   "outputs": [
    {
     "name": "stdout",
     "output_type": "stream",
     "text": [
      "Evaluating foundation model before fine-tuning...\n",
      "Foundation Model Accuracy: 39.02%\n"
     ]
    }
   ],
   "source": [
    "print(\"Evaluating foundation model before fine-tuning...\")\n",
    "\n",
    "test_encodings = tokenizer(test_df['text'].tolist(), padding=True, truncation=True, return_tensors=\"pt\")\n",
    "\n",
    "foundation_model.to(device)\n",
    "test_encodings = {k: v.to(device) for k, v in test_encodings.items()}\n",
    "\n",
    "with torch.no_grad():\n",
    "    outputs = foundation_model(**test_encodings)\n",
    "    logits = outputs.logits\n",
    "    predictions = torch.argmax(logits, dim=-1).cpu().numpy()\n",
    "\n",
    "# Calculate accuracy\n",
    "test_labels = test_df['label'].map(label2id).values\n",
    "foundation_accuracy = round(np.mean(predictions == test_labels) * 100, 2)\n",
    "print(f\"Foundation Model Accuracy: {foundation_accuracy}%\")"
   ]
  },
  {
   "cell_type": "code",
   "execution_count": 13,
   "metadata": {},
   "outputs": [
    {
     "name": "stdout",
     "output_type": "stream",
     "text": [
      "Number of Labels in Model: 3\n"
     ]
    }
   ],
   "source": [
    "print(\"Number of Labels in Model:\", foundation_model.config.num_labels)"
   ]
  },
  {
   "cell_type": "code",
   "execution_count": 14,
   "metadata": {},
   "outputs": [
    {
     "data": {
      "text/plain": [
       "PeftModelForSequenceClassification(\n",
       "  (base_model): LoraModel(\n",
       "    (model): BertForSequenceClassification(\n",
       "      (bert): BertModel(\n",
       "        (embeddings): BertEmbeddings(\n",
       "          (word_embeddings): Embedding(50000, 768, padding_idx=1)\n",
       "          (position_embeddings): Embedding(514, 768)\n",
       "          (token_type_embeddings): Embedding(2, 768)\n",
       "          (LayerNorm): LayerNorm((768,), eps=1e-12, elementwise_affine=True)\n",
       "          (dropout): Dropout(p=0.1, inplace=False)\n",
       "        )\n",
       "        (encoder): BertEncoder(\n",
       "          (layer): ModuleList(\n",
       "            (0-11): 12 x BertLayer(\n",
       "              (attention): BertAttention(\n",
       "                (self): BertSdpaSelfAttention(\n",
       "                  (query): lora.Linear(\n",
       "                    (base_layer): Linear(in_features=768, out_features=768, bias=True)\n",
       "                    (lora_dropout): ModuleDict(\n",
       "                      (default): Dropout(p=0.1, inplace=False)\n",
       "                    )\n",
       "                    (lora_A): ModuleDict(\n",
       "                      (default): Linear(in_features=768, out_features=64, bias=False)\n",
       "                    )\n",
       "                    (lora_B): ModuleDict(\n",
       "                      (default): Linear(in_features=64, out_features=768, bias=False)\n",
       "                    )\n",
       "                    (lora_embedding_A): ParameterDict()\n",
       "                    (lora_embedding_B): ParameterDict()\n",
       "                    (lora_magnitude_vector): ModuleDict()\n",
       "                  )\n",
       "                  (key): Linear(in_features=768, out_features=768, bias=True)\n",
       "                  (value): lora.Linear(\n",
       "                    (base_layer): Linear(in_features=768, out_features=768, bias=True)\n",
       "                    (lora_dropout): ModuleDict(\n",
       "                      (default): Dropout(p=0.1, inplace=False)\n",
       "                    )\n",
       "                    (lora_A): ModuleDict(\n",
       "                      (default): Linear(in_features=768, out_features=64, bias=False)\n",
       "                    )\n",
       "                    (lora_B): ModuleDict(\n",
       "                      (default): Linear(in_features=64, out_features=768, bias=False)\n",
       "                    )\n",
       "                    (lora_embedding_A): ParameterDict()\n",
       "                    (lora_embedding_B): ParameterDict()\n",
       "                    (lora_magnitude_vector): ModuleDict()\n",
       "                  )\n",
       "                  (dropout): Dropout(p=0.1, inplace=False)\n",
       "                )\n",
       "                (output): BertSelfOutput(\n",
       "                  (dense): Linear(in_features=768, out_features=768, bias=True)\n",
       "                  (LayerNorm): LayerNorm((768,), eps=1e-12, elementwise_affine=True)\n",
       "                  (dropout): Dropout(p=0.1, inplace=False)\n",
       "                )\n",
       "              )\n",
       "              (intermediate): BertIntermediate(\n",
       "                (dense): Linear(in_features=768, out_features=3072, bias=True)\n",
       "                (intermediate_act_fn): GELUActivation()\n",
       "              )\n",
       "              (output): BertOutput(\n",
       "                (dense): Linear(in_features=3072, out_features=768, bias=True)\n",
       "                (LayerNorm): LayerNorm((768,), eps=1e-12, elementwise_affine=True)\n",
       "                (dropout): Dropout(p=0.1, inplace=False)\n",
       "              )\n",
       "            )\n",
       "          )\n",
       "        )\n",
       "        (pooler): BertPooler(\n",
       "          (dense): Linear(in_features=768, out_features=768, bias=True)\n",
       "          (activation): Tanh()\n",
       "        )\n",
       "      )\n",
       "      (dropout): Dropout(p=0.1, inplace=False)\n",
       "      (classifier): ModulesToSaveWrapper(\n",
       "        (original_module): Linear(in_features=768, out_features=3, bias=True)\n",
       "        (modules_to_save): ModuleDict(\n",
       "          (default): Linear(in_features=768, out_features=3, bias=True)\n",
       "        )\n",
       "      )\n",
       "    )\n",
       "  )\n",
       ")"
      ]
     },
     "execution_count": 14,
     "metadata": {},
     "output_type": "execute_result"
    }
   ],
   "source": [
    "lora_config = LoraConfig(\n",
    "    task_type=TaskType.SEQ_CLS, \n",
    "    r=64, \n",
    "    lora_alpha=1, \n",
    "    lora_dropout=0.1\n",
    ")\n",
    "\n",
    "peft_model = get_peft_model(foundation_model, lora_config)\n",
    "peft_model"
   ]
  },
  {
   "cell_type": "code",
   "execution_count": 15,
   "metadata": {},
   "outputs": [
    {
     "name": "stdout",
     "output_type": "stream",
     "text": [
      "trainable params: 2,361,603 || all params: 126,806,790 || trainable%: 1.8624\n"
     ]
    }
   ],
   "source": [
    "peft_model.print_trainable_parameters()"
   ]
  },
  {
   "cell_type": "code",
   "execution_count": 16,
   "metadata": {},
   "outputs": [
    {
     "name": "stderr",
     "output_type": "stream",
     "text": [
      "huggingface/tokenizers: The current process just got forked, after parallelism has already been used. Disabling parallelism to avoid deadlocks...\n",
      "To disable this warning, you can either:\n",
      "\t- Avoid using `tokenizers` before the fork if possible\n",
      "\t- Explicitly set the environment variable TOKENIZERS_PARALLELISM=(true | false)\n"
     ]
    },
    {
     "data": {
      "application/vnd.jupyter.widget-view+json": {
       "model_id": "0a0995b89d8b422fa97fd6135cf5cb8e",
       "version_major": 2,
       "version_minor": 0
      },
      "text/plain": [
       "Map:   0%|          | 0/160 [00:00<?, ? examples/s]"
      ]
     },
     "metadata": {},
     "output_type": "display_data"
    },
    {
     "data": {
      "application/vnd.jupyter.widget-view+json": {
       "model_id": "ee6cdd65755a4726b65b87be65f6b618",
       "version_major": 2,
       "version_minor": 0
      },
      "text/plain": [
       "Map:   0%|          | 0/41 [00:00<?, ? examples/s]"
      ]
     },
     "metadata": {},
     "output_type": "display_data"
    },
    {
     "name": "stdout",
     "output_type": "stream",
     "text": [
      "DatasetDict({\n",
      "    train: Dataset({\n",
      "        features: ['text', '__index_level_0__', 'input_ids', 'token_type_ids', 'attention_mask', 'labels'],\n",
      "        num_rows: 160\n",
      "    })\n",
      "    test: Dataset({\n",
      "        features: ['text', '__index_level_0__', 'input_ids', 'token_type_ids', 'attention_mask', 'labels'],\n",
      "        num_rows: 41\n",
      "    })\n",
      "})\n"
     ]
    }
   ],
   "source": [
    "def preprocess_function(examples):\n",
    "    \"\"\"Preprocess the dataset by returning tokenized examples.\"\"\"\n",
    "    tokens = tokenizer(examples[\"text\"], padding=\"max_length\", truncation=True)\n",
    "    tokens['labels'] = [label2id[l] for l in examples[\"label\"]]\n",
    "    return tokens\n",
    "\n",
    "tokenized_ds = dataset.map(preprocess_function, batched=True, remove_columns=[\"label\"])\n",
    "\n",
    "print(tokenized_ds)"
   ]
  },
  {
   "cell_type": "code",
   "execution_count": 17,
   "metadata": {},
   "outputs": [
    {
     "name": "stdout",
     "output_type": "stream",
     "text": [
      "A tokenized training input example:\n",
      "Duza częśc grupy zaliczyła w kolokwiach .\n",
      "[0, 3491, 2163, 2300, 49518, 4106, 11295, 4061, 1019, 6167, 3680, 2207, 1899, 2, 1, 1, 1, 1, 1, 1, 1, 1, 1, 1, 1, 1, 1, 1, 1, 1, 1, 1, 1, 1, 1, 1, 1, 1, 1, 1, 1, 1, 1, 1, 1, 1, 1, 1, 1, 1, 1, 1, 1, 1, 1, 1, 1, 1, 1, 1, 1, 1, 1, 1, 1, 1, 1, 1, 1, 1, 1, 1, 1, 1, 1, 1, 1, 1, 1, 1, 1, 1, 1, 1, 1, 1, 1, 1, 1, 1, 1, 1, 1, 1, 1, 1, 1, 1, 1, 1, 1, 1, 1, 1, 1, 1, 1, 1, 1, 1, 1, 1, 1, 1, 1, 1, 1, 1, 1, 1, 1, 1, 1, 1, 1, 1, 1, 1, 1, 1, 1, 1, 1, 1, 1, 1, 1, 1, 1, 1, 1, 1, 1, 1, 1, 1, 1, 1, 1, 1, 1, 1, 1, 1, 1, 1, 1, 1, 1, 1, 1, 1, 1, 1, 1, 1, 1, 1, 1, 1, 1, 1, 1, 1, 1, 1, 1, 1, 1, 1, 1, 1, 1, 1, 1, 1, 1, 1, 1, 1, 1, 1, 1, 1, 1, 1, 1, 1, 1, 1, 1, 1, 1, 1, 1, 1, 1, 1, 1, 1, 1, 1, 1, 1, 1, 1, 1, 1, 1, 1, 1, 1, 1, 1, 1, 1, 1, 1, 1, 1, 1, 1, 1, 1, 1, 1, 1, 1, 1, 1, 1, 1, 1, 1, 1, 1, 1, 1, 1, 1, 1, 1, 1, 1, 1, 1, 1, 1, 1, 1, 1, 1, 1, 1, 1, 1, 1, 1, 1, 1, 1, 1, 1, 1, 1, 1, 1, 1, 1, 1, 1, 1, 1, 1, 1, 1, 1, 1, 1, 1, 1, 1, 1, 1, 1, 1, 1, 1, 1, 1, 1, 1, 1, 1, 1, 1, 1, 1, 1, 1, 1, 1, 1, 1, 1, 1, 1, 1, 1, 1, 1, 1, 1, 1, 1, 1, 1, 1, 1, 1, 1, 1, 1, 1, 1, 1, 1, 1, 1, 1, 1, 1, 1, 1, 1, 1, 1, 1, 1, 1, 1, 1, 1, 1, 1, 1, 1, 1, 1, 1, 1, 1, 1, 1, 1, 1, 1, 1, 1, 1, 1, 1, 1, 1, 1, 1, 1, 1, 1, 1, 1, 1, 1, 1, 1, 1, 1, 1, 1, 1, 1, 1, 1, 1, 1, 1, 1, 1, 1, 1, 1, 1, 1, 1, 1, 1, 1, 1, 1, 1, 1, 1, 1, 1, 1, 1, 1, 1, 1, 1, 1, 1, 1, 1, 1, 1, 1, 1, 1, 1, 1, 1, 1, 1, 1, 1, 1, 1, 1, 1, 1, 1, 1, 1, 1, 1, 1, 1, 1, 1, 1, 1, 1, 1, 1, 1, 1, 1, 1, 1, 1, 1, 1, 1, 1, 1, 1, 1, 1, 1, 1, 1, 1, 1, 1, 1, 1, 1, 1, 1, 1, 1, 1, 1, 1, 1, 1, 1, 1, 1, 1, 1, 1, 1, 1, 1, 1, 1, 1, 1, 1, 1, 1, 1, 1, 1, 1, 1, 1, 1, 1, 1]\n",
      "\n",
      "\n",
      "A tokenized training label example:\n",
      "2\n"
     ]
    }
   ],
   "source": [
    "print(\"A tokenized training input example:\")\n",
    "# text\n",
    "print(tokenized_ds[\"train\"][0][\"text\"])\n",
    "# tokens\n",
    "print(tokenized_ds[\"train\"][0][\"input_ids\"])\n",
    "print(\"\\n\")\n",
    "print(\"A tokenized training label example:\")\n",
    "print(tokenized_ds[\"train\"][0][\"labels\"])"
   ]
  },
  {
   "cell_type": "code",
   "execution_count": 18,
   "metadata": {},
   "outputs": [
    {
     "name": "stderr",
     "output_type": "stream",
     "text": [
      "/opt/miniconda3/envs/py310/lib/python3.10/site-packages/transformers/training_args.py:1545: FutureWarning: `evaluation_strategy` is deprecated and will be removed in version 4.46 of 🤗 Transformers. Use `eval_strategy` instead\n",
      "  warnings.warn(\n"
     ]
    }
   ],
   "source": [
    "def compute_metrics(eval_pred):\n",
    "    predictions, labels = eval_pred\n",
    "    predictions = np.argmax(predictions, axis=1)\n",
    "    accuracy = (predictions == labels).mean() * 100\n",
    "    return {\"accuracy\": accuracy}\n",
    "\n",
    "trainer = Trainer(\n",
    "    model=peft_model,\n",
    "    args=TrainingArguments(\n",
    "        output_dir=\"herbert-lora\",\n",
    "        learning_rate=2e-5,\n",
    "        per_device_train_batch_size=8,\n",
    "        per_device_eval_batch_size=8,\n",
    "        num_train_epochs=10,\n",
    "        weight_decay=0.01,\n",
    "        evaluation_strategy=\"epoch\",\n",
    "        save_strategy=\"epoch\",\n",
    "        load_best_model_at_end=True,\n",
    "        metric_for_best_model=\"accuracy\",\n",
    "    ),\n",
    "    train_dataset=tokenized_ds[\"train\"],\n",
    "    eval_dataset=tokenized_ds[\"test\"],\n",
    "    tokenizer=tokenizer,\n",
    "    data_collator=DataCollatorWithPadding(tokenizer=tokenizer),\n",
    "    compute_metrics=compute_metrics,\n",
    ")"
   ]
  },
  {
   "cell_type": "code",
   "execution_count": 19,
   "metadata": {},
   "outputs": [
    {
     "name": "stderr",
     "output_type": "stream",
     "text": [
      "huggingface/tokenizers: The current process just got forked, after parallelism has already been used. Disabling parallelism to avoid deadlocks...\n",
      "To disable this warning, you can either:\n",
      "\t- Avoid using `tokenizers` before the fork if possible\n",
      "\t- Explicitly set the environment variable TOKENIZERS_PARALLELISM=(true | false)\n",
      "huggingface/tokenizers: The current process just got forked, after parallelism has already been used. Disabling parallelism to avoid deadlocks...\n",
      "To disable this warning, you can either:\n",
      "\t- Avoid using `tokenizers` before the fork if possible\n",
      "\t- Explicitly set the environment variable TOKENIZERS_PARALLELISM=(true | false)\n",
      "huggingface/tokenizers: The current process just got forked, after parallelism has already been used. Disabling parallelism to avoid deadlocks...\n",
      "To disable this warning, you can either:\n",
      "\t- Avoid using `tokenizers` before the fork if possible\n",
      "\t- Explicitly set the environment variable TOKENIZERS_PARALLELISM=(true | false)\n"
     ]
    },
    {
     "data": {
      "application/vnd.jupyter.widget-view+json": {
       "model_id": "8d8ea1bf9fd34e66af4fd10d59050fb8",
       "version_major": 2,
       "version_minor": 0
      },
      "text/plain": [
       "  0%|          | 0/200 [00:00<?, ?it/s]"
      ]
     },
     "metadata": {},
     "output_type": "display_data"
    },
    {
     "data": {
      "application/vnd.jupyter.widget-view+json": {
       "model_id": "406528eab1e44125848173ca1f061538",
       "version_major": 2,
       "version_minor": 0
      },
      "text/plain": [
       "  0%|          | 0/6 [00:00<?, ?it/s]"
      ]
     },
     "metadata": {},
     "output_type": "display_data"
    },
    {
     "name": "stdout",
     "output_type": "stream",
     "text": [
      "{'eval_loss': 1.107330322265625, 'eval_accuracy': 39.02439024390244, 'eval_runtime': 1.987, 'eval_samples_per_second': 20.634, 'eval_steps_per_second': 3.02, 'epoch': 1.0}\n"
     ]
    },
    {
     "data": {
      "application/vnd.jupyter.widget-view+json": {
       "model_id": "eba12e2928c848f0a5f1e59b633249c2",
       "version_major": 2,
       "version_minor": 0
      },
      "text/plain": [
       "  0%|          | 0/6 [00:00<?, ?it/s]"
      ]
     },
     "metadata": {},
     "output_type": "display_data"
    },
    {
     "name": "stdout",
     "output_type": "stream",
     "text": [
      "{'eval_loss': 1.1037129163742065, 'eval_accuracy': 39.02439024390244, 'eval_runtime': 1.9058, 'eval_samples_per_second': 21.513, 'eval_steps_per_second': 3.148, 'epoch': 2.0}\n"
     ]
    },
    {
     "data": {
      "application/vnd.jupyter.widget-view+json": {
       "model_id": "beaf03df89c4491ab9bc39b226dfae63",
       "version_major": 2,
       "version_minor": 0
      },
      "text/plain": [
       "  0%|          | 0/6 [00:00<?, ?it/s]"
      ]
     },
     "metadata": {},
     "output_type": "display_data"
    },
    {
     "name": "stdout",
     "output_type": "stream",
     "text": [
      "{'eval_loss': 1.1022307872772217, 'eval_accuracy': 39.02439024390244, 'eval_runtime': 1.9002, 'eval_samples_per_second': 21.577, 'eval_steps_per_second': 3.158, 'epoch': 3.0}\n"
     ]
    },
    {
     "data": {
      "application/vnd.jupyter.widget-view+json": {
       "model_id": "060391ee28ac4ede834b5901cad6b36f",
       "version_major": 2,
       "version_minor": 0
      },
      "text/plain": [
       "  0%|          | 0/6 [00:00<?, ?it/s]"
      ]
     },
     "metadata": {},
     "output_type": "display_data"
    },
    {
     "name": "stdout",
     "output_type": "stream",
     "text": [
      "{'eval_loss': 1.10081946849823, 'eval_accuracy': 39.02439024390244, 'eval_runtime': 1.9078, 'eval_samples_per_second': 21.49, 'eval_steps_per_second': 3.145, 'epoch': 4.0}\n"
     ]
    },
    {
     "data": {
      "application/vnd.jupyter.widget-view+json": {
       "model_id": "a0213a7fad914321b8383dad7d2d1f42",
       "version_major": 2,
       "version_minor": 0
      },
      "text/plain": [
       "  0%|          | 0/6 [00:00<?, ?it/s]"
      ]
     },
     "metadata": {},
     "output_type": "display_data"
    },
    {
     "name": "stdout",
     "output_type": "stream",
     "text": [
      "{'eval_loss': 1.1003776788711548, 'eval_accuracy': 39.02439024390244, 'eval_runtime': 1.9339, 'eval_samples_per_second': 21.2, 'eval_steps_per_second': 3.102, 'epoch': 5.0}\n"
     ]
    },
    {
     "data": {
      "application/vnd.jupyter.widget-view+json": {
       "model_id": "fa646185795242dd969e9bb5aee15810",
       "version_major": 2,
       "version_minor": 0
      },
      "text/plain": [
       "  0%|          | 0/6 [00:00<?, ?it/s]"
      ]
     },
     "metadata": {},
     "output_type": "display_data"
    },
    {
     "name": "stdout",
     "output_type": "stream",
     "text": [
      "{'eval_loss': 1.1005929708480835, 'eval_accuracy': 39.02439024390244, 'eval_runtime': 1.9045, 'eval_samples_per_second': 21.528, 'eval_steps_per_second': 3.15, 'epoch': 6.0}\n"
     ]
    },
    {
     "data": {
      "application/vnd.jupyter.widget-view+json": {
       "model_id": "de3da6286efe488c89346313f55b5c17",
       "version_major": 2,
       "version_minor": 0
      },
      "text/plain": [
       "  0%|          | 0/6 [00:00<?, ?it/s]"
      ]
     },
     "metadata": {},
     "output_type": "display_data"
    },
    {
     "name": "stdout",
     "output_type": "stream",
     "text": [
      "{'eval_loss': 1.1003422737121582, 'eval_accuracy': 39.02439024390244, 'eval_runtime': 1.9168, 'eval_samples_per_second': 21.39, 'eval_steps_per_second': 3.13, 'epoch': 7.0}\n"
     ]
    },
    {
     "data": {
      "application/vnd.jupyter.widget-view+json": {
       "model_id": "87cf298a2ec74b28baed54bfe9cb48e5",
       "version_major": 2,
       "version_minor": 0
      },
      "text/plain": [
       "  0%|          | 0/6 [00:00<?, ?it/s]"
      ]
     },
     "metadata": {},
     "output_type": "display_data"
    },
    {
     "name": "stdout",
     "output_type": "stream",
     "text": [
      "{'eval_loss': 1.1004751920700073, 'eval_accuracy': 39.02439024390244, 'eval_runtime': 1.9248, 'eval_samples_per_second': 21.301, 'eval_steps_per_second': 3.117, 'epoch': 8.0}\n"
     ]
    },
    {
     "data": {
      "application/vnd.jupyter.widget-view+json": {
       "model_id": "ba858584475f4763ae739ce1fe28dc99",
       "version_major": 2,
       "version_minor": 0
      },
      "text/plain": [
       "  0%|          | 0/6 [00:00<?, ?it/s]"
      ]
     },
     "metadata": {},
     "output_type": "display_data"
    },
    {
     "name": "stdout",
     "output_type": "stream",
     "text": [
      "{'eval_loss': 1.1006041765213013, 'eval_accuracy': 39.02439024390244, 'eval_runtime': 1.9287, 'eval_samples_per_second': 21.258, 'eval_steps_per_second': 3.111, 'epoch': 9.0}\n"
     ]
    },
    {
     "data": {
      "application/vnd.jupyter.widget-view+json": {
       "model_id": "a60bbd4a8a0a49a399b37861c4846bff",
       "version_major": 2,
       "version_minor": 0
      },
      "text/plain": [
       "  0%|          | 0/6 [00:00<?, ?it/s]"
      ]
     },
     "metadata": {},
     "output_type": "display_data"
    },
    {
     "name": "stdout",
     "output_type": "stream",
     "text": [
      "{'eval_loss': 1.1006722450256348, 'eval_accuracy': 39.02439024390244, 'eval_runtime': 1.9211, 'eval_samples_per_second': 21.342, 'eval_steps_per_second': 3.123, 'epoch': 10.0}\n",
      "{'train_runtime': 201.7322, 'train_samples_per_second': 7.931, 'train_steps_per_second': 0.991, 'train_loss': 1.1269966888427734, 'epoch': 10.0}\n"
     ]
    },
    {
     "data": {
      "text/plain": [
       "TrainOutput(global_step=200, training_loss=1.1269966888427734, metrics={'train_runtime': 201.7322, 'train_samples_per_second': 7.931, 'train_steps_per_second': 0.991, 'total_flos': 432589219430400.0, 'train_loss': 1.1269966888427734, 'epoch': 10.0})"
      ]
     },
     "execution_count": 19,
     "metadata": {},
     "output_type": "execute_result"
    }
   ],
   "source": [
    "trainer.train()"
   ]
  },
  {
   "cell_type": "code",
   "execution_count": 20,
   "metadata": {},
   "outputs": [
    {
     "name": "stdout",
     "output_type": "stream",
     "text": [
      "File Name: adapter_model.safetensors; File Size: 9231.85KB\n",
      "File Name: README.md; File Size: 4.98KB\n",
      "File Name: adapter_config.json; File Size: 0.66KB\n"
     ]
    }
   ],
   "source": [
    "peft_herbert_model_path = \"fine-tuned-peft-herbert-model-weights/\"\n",
    "peft_model.save_pretrained(peft_herbert_model_path)\n",
    "\n",
    "for file_name in os.listdir(peft_herbert_model_path):\n",
    "    file_size = os.path.getsize(os.path.join(peft_herbert_model_path, file_name))\n",
    "    print(f\"File Name: {file_name}; File Size: {file_size / 1024:.2f}KB\")"
   ]
  },
  {
   "cell_type": "code",
   "execution_count": 21,
   "metadata": {},
   "outputs": [
    {
     "name": "stdout",
     "output_type": "stream",
     "text": [
      "Evaluating fine-tuned model...\n"
     ]
    },
    {
     "name": "stderr",
     "output_type": "stream",
     "text": [
      "Some weights of BertForSequenceClassification were not initialized from the model checkpoint at allegro/herbert-base-cased and are newly initialized: ['classifier.bias', 'classifier.weight']\n",
      "You should probably TRAIN this model on a down-stream task to be able to use it for predictions and inference.\n",
      "/opt/miniconda3/envs/py310/lib/python3.10/site-packages/transformers/training_args.py:1545: FutureWarning: `evaluation_strategy` is deprecated and will be removed in version 4.46 of 🤗 Transformers. Use `eval_strategy` instead\n",
      "  warnings.warn(\n"
     ]
    },
    {
     "data": {
      "application/vnd.jupyter.widget-view+json": {
       "model_id": "f52da2c68e6245a494bd90cb780edbb6",
       "version_major": 2,
       "version_minor": 0
      },
      "text/plain": [
       "  0%|          | 0/6 [00:00<?, ?it/s]"
      ]
     },
     "metadata": {},
     "output_type": "display_data"
    },
    {
     "name": "stdout",
     "output_type": "stream",
     "text": [
      "{'eval_loss': 1.107330322265625, 'eval_model_preparation_time': 0.0021, 'eval_accuracy': 39.02439024390244, 'eval_runtime': 1.9147, 'eval_samples_per_second': 21.413, 'eval_steps_per_second': 3.134}\n"
     ]
    },
    {
     "data": {
      "text/plain": [
       "('final-fine-tuned-peft-herbert-model/tokenizer_config.json',\n",
       " 'final-fine-tuned-peft-herbert-model/special_tokens_map.json',\n",
       " 'final-fine-tuned-peft-herbert-model/vocab.json',\n",
       " 'final-fine-tuned-peft-herbert-model/merges.txt',\n",
       " 'final-fine-tuned-peft-herbert-model/added_tokens.json',\n",
       " 'final-fine-tuned-peft-herbert-model/tokenizer.json')"
      ]
     },
     "execution_count": 21,
     "metadata": {},
     "output_type": "execute_result"
    }
   ],
   "source": [
    "print(\"Evaluating fine-tuned model...\")\n",
    "\n",
    "config = PeftConfig.from_pretrained(peft_herbert_model_path)\n",
    "model = AutoModelForSequenceClassification.from_pretrained(\n",
    "    model_name, \n",
    "    num_labels=len(label2id),\n",
    "    label2id=label2id,\n",
    "    id2label=id2label\n",
    ")\n",
    "model = PeftModel.from_pretrained(model, peft_herbert_model_path)\n",
    "\n",
    "model.to(device)\n",
    "\n",
    "eval_trainer = Trainer(\n",
    "    model=model,\n",
    "    args=TrainingArguments(\n",
    "        output_dir=\"allegro-bert-lora\",\n",
    "        learning_rate=2e-5,\n",
    "        per_device_train_batch_size=8,\n",
    "        per_device_eval_batch_size=8,\n",
    "        num_train_epochs=3,\n",
    "        weight_decay=0.01,\n",
    "        evaluation_strategy=\"epoch\",\n",
    "        save_strategy=\"epoch\",\n",
    "        load_best_model_at_end=True,\n",
    "        metric_for_best_model=\"accuracy\",\n",
    "        logging_dir='logs',\n",
    "        logging_steps=10,\n",
    "        \n",
    "    ),\n",
    "    eval_dataset=tokenized_ds['test'],\n",
    "    tokenizer=tokenizer,\n",
    "    data_collator=DataCollatorWithPadding(tokenizer=tokenizer),\n",
    "    compute_metrics=compute_metrics,\n",
    ")\n",
    "\n",
    "test_results = eval_trainer.evaluate()\n",
    "print(test_results)\n",
    "\n",
    "model_save_path = \"final-fine-tuned-peft-herbert-model/\"\n",
    "model.save_pretrained(model_save_path)\n",
    "tokenizer.save_pretrained(model_save_path)"
   ]
  },
  {
   "cell_type": "code",
   "execution_count": 22,
   "metadata": {},
   "outputs": [
    {
     "data": {
      "application/vnd.jupyter.widget-view+json": {
       "model_id": "2047c866ed4249eb85044a9159482fe8",
       "version_major": 2,
       "version_minor": 0
      },
      "text/plain": [
       "  0%|          | 0/6 [00:00<?, ?it/s]"
      ]
     },
     "metadata": {},
     "output_type": "display_data"
    }
   ],
   "source": [
    "predictions_output = trainer.predict(tokenized_ds[\"test\"])\n",
    "\n",
    "preds = np.argmax(predictions_output.predictions, axis=1)\n",
    "labels = predictions_output.label_ids\n",
    "\n",
    "predicted_labels = [id2label[pred] for pred in preds]\n",
    "true_labels = [id2label[label] for label in labels]"
   ]
  },
  {
   "cell_type": "code",
   "execution_count": 23,
   "metadata": {},
   "outputs": [],
   "source": [
    "data_collator = DataCollatorWithPadding(tokenizer=tokenizer)\n",
    "\n",
    "test_loader = DataLoader(\n",
    "    tokenized_ds[\"test\"],\n",
    "    batch_size=16,\n",
    "    shuffle=False,\n",
    "    collate_fn=data_collator\n",
    ")"
   ]
  },
  {
   "cell_type": "code",
   "execution_count": 24,
   "metadata": {},
   "outputs": [
    {
     "data": {
      "application/vnd.jupyter.widget-view+json": {
       "model_id": "87c3a03cebe64d81b6b3339021ebd69b",
       "version_major": 2,
       "version_minor": 0
      },
      "text/plain": [
       "  0%|          | 0/6 [00:00<?, ?it/s]"
      ]
     },
     "metadata": {},
     "output_type": "display_data"
    }
   ],
   "source": [
    "predictions_output = eval_trainer.predict(tokenized_ds[\"test\"])\n",
    "\n",
    "preds = np.argmax(predictions_output.predictions, axis=1)\n",
    "labels = predictions_output.label_ids\n",
    "\n",
    "predicted_labels = [id2label[pred] for pred in preds]\n",
    "true_labels = [id2label[label] for label in labels]"
   ]
  },
  {
   "cell_type": "code",
   "execution_count": 25,
   "metadata": {},
   "outputs": [
    {
     "name": "stderr",
     "output_type": "stream",
     "text": [
      "/var/folders/ld/46j6jly10md36dbxgn_h72br0000gn/T/ipykernel_3853/2686228197.py:4: FutureWarning: \n",
      "\n",
      "Passing `palette` without assigning `hue` is deprecated and will be removed in v0.14.0. Assign the `x` variable to `hue` and set `legend=False` for the same effect.\n",
      "\n",
      "  sns.barplot(x=pred_label_counts.index, y=pred_label_counts.values, palette='viridis')\n"
     ]
    },
    {
     "data": {
      "image/png": "[encoded data removed]",
      "text/plain": [
       "<Figure size 600x400 with 1 Axes>"
      ]
     },
     "metadata": {},
     "output_type": "display_data"
    }
   ],
   "source": [
    "pred_label_counts = pd.Series(predicted_labels).value_counts()\n",
    "\n",
    "plt.figure(figsize=(6,4))\n",
    "sns.barplot(x=pred_label_counts.index, y=pred_label_counts.values, palette='viridis')\n",
    "plt.xlabel('Predicted Labels')\n",
    "plt.ylabel('Count')\n",
    "plt.title('Distribution of Predicted Labels')\n",
    "plt.show()"
   ]
  },
  {
   "cell_type": "code",
   "execution_count": 26,
   "metadata": {},
   "outputs": [
    {
     "data": {
      "image/png": "[encoded data removed]",
      "text/plain": [
       "<Figure size 800x600 with 2 Axes>"
      ]
     },
     "metadata": {},
     "output_type": "display_data"
    }
   ],
   "source": [
    "\n",
    "cm = confusion_matrix(true_labels, predicted_labels, labels=sorted_labels)\n",
    "\n",
    "plt.figure(figsize=(8,6))\n",
    "sns.heatmap(cm, annot=True, fmt='d', xticklabels=sorted_labels, yticklabels=sorted_labels, cmap='Blues')\n",
    "plt.xlabel('Predicted Labels')\n",
    "plt.ylabel('True Labels')\n",
    "plt.title('Confusion Matrix')\n",
    "plt.show()"
   ]
  },
  {
   "cell_type": "code",
   "execution_count": 27,
   "metadata": {},
   "outputs": [
    {
     "data": {
      "image/png": "[encoded data removed]",
      "text/plain": [
       "<Figure size 800x600 with 2 Axes>"
      ]
     },
     "metadata": {},
     "output_type": "display_data"
    }
   ],
   "source": [
    "cm_normalized = confusion_matrix(true_labels, predicted_labels, labels=sorted_labels, normalize='true')\n",
    "\n",
    "plt.figure(figsize=(8,6))\n",
    "sns.heatmap(cm_normalized, annot=True, fmt='.2f', xticklabels=sorted_labels, yticklabels=sorted_labels, cmap='Blues')\n",
    "plt.xlabel('Predicted Labels')\n",
    "plt.ylabel('True Labels')\n",
    "plt.title('Normalized Confusion Matrix')\n",
    "plt.show()"
   ]
  },
  {
   "cell_type": "code",
   "execution_count": 28,
   "metadata": {},
   "outputs": [
    {
     "name": "stdout",
     "output_type": "stream",
     "text": [
      "              precision    recall  f1-score   support\n",
      "\n",
      "    Negative       0.00      0.00      0.00        11\n",
      "     Neutral       0.56      0.29      0.38        17\n",
      "    Positive       0.34      0.85      0.49        13\n",
      "\n",
      "    accuracy                           0.39        41\n",
      "   macro avg       0.30      0.38      0.29        41\n",
      "weighted avg       0.34      0.39      0.31        41\n",
      "\n"
     ]
    },
    {
     "name": "stderr",
     "output_type": "stream",
     "text": [
      "/opt/miniconda3/envs/py310/lib/python3.10/site-packages/sklearn/metrics/_classification.py:1531: UndefinedMetricWarning: Precision is ill-defined and being set to 0.0 in labels with no predicted samples. Use `zero_division` parameter to control this behavior.\n",
      "  _warn_prf(average, modifier, f\"{metric.capitalize()} is\", len(result))\n",
      "/opt/miniconda3/envs/py310/lib/python3.10/site-packages/sklearn/metrics/_classification.py:1531: UndefinedMetricWarning: Precision is ill-defined and being set to 0.0 in labels with no predicted samples. Use `zero_division` parameter to control this behavior.\n",
      "  _warn_prf(average, modifier, f\"{metric.capitalize()} is\", len(result))\n",
      "/opt/miniconda3/envs/py310/lib/python3.10/site-packages/sklearn/metrics/_classification.py:1531: UndefinedMetricWarning: Precision is ill-defined and being set to 0.0 in labels with no predicted samples. Use `zero_division` parameter to control this behavior.\n",
      "  _warn_prf(average, modifier, f\"{metric.capitalize()} is\", len(result))\n"
     ]
    }
   ],
   "source": [
    "report = classification_report(true_labels, predicted_labels, target_names=sorted_labels)\n",
    "print(report)"
   ]
  },
  {
   "cell_type": "code",
   "execution_count": 29,
   "metadata": {},
   "outputs": [
    {
     "name": "stdout",
     "output_type": "stream",
     "text": [
      "Example 1:\n",
      "Text: Jesli sluchasz go na zajeciach i zrobisz w domu ze 2 zadanka , to powinienes bez problemow zaliczyc .\n",
      "True Label: Neutral\n",
      "Predicted Label: Neutral\n",
      "Probabilities: [0.23931903 0.388513   0.37216797]\n",
      "--------------------------------------------------\n",
      "Example 2:\n",
      "Text: Gdy je poprawiasz i przynosisz następnym razem , wyszukuje Ci kolejne błedy , a to co poprawił eś na dobrze , jest źle i miało być tak jak na poczatku .\n",
      "True Label: Negative\n",
      "Predicted Label: Positive\n",
      "Probabilities: [0.25419647 0.36588013 0.3799234 ]\n",
      "--------------------------------------------------\n",
      "Example 3:\n",
      "Text: UWAGA !\n",
      "True Label: Negative\n",
      "Predicted Label: Positive\n",
      "Probabilities: [0.21565075 0.3252802  0.45906904]\n",
      "--------------------------------------------------\n",
      "Example 4:\n",
      "Text: Z zaliczeniem nie ma raczej problemu .\n",
      "True Label: Positive\n",
      "Predicted Label: Positive\n",
      "Probabilities: [0.21171416 0.3809029  0.40738294]\n",
      "--------------------------------------------------\n",
      "Example 5:\n",
      "Text: Mało wytłumaczy , ale cały czas pyta czy wszyscy rozumieją , jeżeli on też rozumie dany dział to bedzie tłumaczył aż wszyscy nie potwierdza że zrozumilei : ) Koła raczej trudniejsze , ale można zawsze liczyć na dopytke na koniec ( a to mało kto niezdaje ) Mimo swoich wad jest ciekawą postacia , i czesto sie zagłebia na wykładzie w tematy \"\n",
      "True Label: Neutral\n",
      "Predicted Label: Positive\n",
      "Probabilities: [0.22186905 0.37768418 0.40044677]\n",
      "--------------------------------------------------\n"
     ]
    }
   ],
   "source": [
    "\n",
    "def get_probabilities(logits):\n",
    "    return F.softmax(torch.tensor(logits), dim=-1).numpy()\n",
    "\n",
    "probabilities = get_probabilities(predictions_output.predictions)\n",
    "\n",
    "for i in range(5):\n",
    "    print(f\"Example {i+1}:\")\n",
    "    print(f\"Text: {test_df['text'].iloc[i]}\")\n",
    "    print(f\"True Label: {true_labels[i]}\")\n",
    "    print(f\"Predicted Label: {predicted_labels[i]}\")\n",
    "    print(f\"Probabilities: {probabilities[i]}\")\n",
    "    print(\"-\" * 50)"
   ]
  },
  {
   "cell_type": "code",
   "execution_count": 30,
   "metadata": {},
   "outputs": [
    {
     "data": {
      "application/vnd.jupyter.widget-view+json": {
       "model_id": "76e07fe961ee4da0b66a7b89731e89d3",
       "version_major": 2,
       "version_minor": 0
      },
      "text/plain": [
       "Map:   0%|          | 0/160 [00:00<?, ? examples/s]"
      ]
     },
     "metadata": {},
     "output_type": "display_data"
    },
    {
     "data": {
      "application/vnd.jupyter.widget-view+json": {
       "model_id": "f2b2a0c8764e45ec9106e343a9c769ef",
       "version_major": 2,
       "version_minor": 0
      },
      "text/plain": [
       "Map:   0%|          | 0/41 [00:00<?, ? examples/s]"
      ]
     },
     "metadata": {},
     "output_type": "display_data"
    },
    {
     "name": "stdout",
     "output_type": "stream",
     "text": [
      "DatasetDict({\n",
      "    train: Dataset({\n",
      "        features: ['input_ids', 'token_type_ids', 'attention_mask', 'labels'],\n",
      "        num_rows: 160\n",
      "    })\n",
      "    test: Dataset({\n",
      "        features: ['input_ids', 'token_type_ids', 'attention_mask', 'labels'],\n",
      "        num_rows: 41\n",
      "    })\n",
      "})\n"
     ]
    }
   ],
   "source": [
    "def preprocess_function(examples):\n",
    "    tokens = tokenizer(\n",
    "        examples[\"text\"], \n",
    "        padding=\"max_length\", \n",
    "        truncation=True, \n",
    "        max_length=512\n",
    "    )\n",
    "    tokens['labels'] = [label2id[l] for l in examples[\"label\"]]\n",
    "    return tokens\n",
    "\n",
    "tokenized_ds = dataset.map(\n",
    "    preprocess_function, \n",
    "    batched=True, \n",
    "    remove_columns=dataset[\"train\"].column_names\n",
    ")\n",
    "\n",
    "print(tokenized_ds)\n",
    "\n"
   ]
  },
  {
   "cell_type": "code",
   "execution_count": 31,
   "metadata": {},
   "outputs": [
    {
     "name": "stderr",
     "output_type": "stream",
     "text": [
      "Extracting embeddings: 100%|██████████| 3/3 [00:02<00:00,  1.49it/s]\n"
     ]
    }
   ],
   "source": [
    "def extract_embeddings(model, tokenizer, dataset, device, batch_size=16):\n",
    "    model.eval()\n",
    "    loader = DataLoader(\n",
    "        dataset, \n",
    "        batch_size=batch_size, \n",
    "        shuffle=False, \n",
    "        collate_fn=DataCollatorWithPadding(tokenizer=tokenizer)\n",
    "    )\n",
    "    embeddings = []\n",
    "    labels = []\n",
    "    \n",
    "    model_input_keys = tokenizer.model_input_names\n",
    "\n",
    "    with torch.no_grad():\n",
    "        for batch in tqdm(loader, desc=\"Extracting embeddings\"):\n",
    "            # Przygotowanie wejść\n",
    "            inputs = {k: v.to(device) for k, v in batch.items() if k in model_input_keys}\n",
    "            # Wywołanie modelu z output_hidden_states=True\n",
    "            outputs = model(**inputs, output_hidden_states=True, return_dict=True)\n",
    "            # Ukryte stany to krotka wszystkich warstw\n",
    "            hidden_states = outputs.hidden_states\n",
    "            # Pobranie ostatniego ukrytego stanu\n",
    "            last_hidden_state = hidden_states[-1]  # Kształt: [batch_size, seq_length, hidden_size]\n",
    "            # Wyodrębnienie reprezentacji [CLS]\n",
    "            cls_embeddings = last_hidden_state[:, 0, :].cpu().numpy()\n",
    "            embeddings.append(cls_embeddings)\n",
    "            labels.extend(batch['labels'].cpu().numpy())\n",
    "    \n",
    "    embeddings = np.vstack(embeddings)\n",
    "    return embeddings, labels\n",
    "\n",
    "test_embeddings, test_labels_ids = extract_embeddings(\n",
    "    model, \n",
    "    tokenizer, \n",
    "    tokenized_ds[\"test\"], \n",
    "    device=device, \n",
    "    batch_size=16\n",
    ")\n",
    "\n",
    "test_labels = [id2label[label_id] for label_id in test_labels_ids]\n",
    "\n",
    "test_predicted_labels = [id2label[pred] for pred in preds]"
   ]
  },
  {
   "cell_type": "code",
   "execution_count": 32,
   "metadata": {},
   "outputs": [
    {
     "name": "stderr",
     "output_type": "stream",
     "text": [
      "/opt/miniconda3/envs/py310/lib/python3.10/site-packages/sklearn/manifold/_t_sne.py:1162: FutureWarning: 'n_iter' was renamed to 'max_iter' in version 1.5 and will be removed in 1.7.\n",
      "  warnings.warn(\n",
      "huggingface/tokenizers: The current process just got forked, after parallelism has already been used. Disabling parallelism to avoid deadlocks...\n",
      "To disable this warning, you can either:\n",
      "\t- Avoid using `tokenizers` before the fork if possible\n",
      "\t- Explicitly set the environment variable TOKENIZERS_PARALLELISM=(true | false)\n"
     ]
    },
    {
     "data": {
      "application/vnd.plotly.v1+json": {
       "config": {
        "plotlyServerURL": "https://plot.ly"
       },
       "data": [
        {
         "customdata": [
          [
           "Neutral",
           "Neutral",
           "Jesli sluchasz go na zajeciach i zrobisz w domu ze 2 zadanka , to powinienes bez problemow zaliczyc ."
          ],
          [
           "Neutral",
           "Positive",
           "Mało wytłumaczy , ale cały czas pyta czy wszyscy rozumieją , jeżeli on też rozumie dany dział to bedzie tłumaczył aż wszyscy nie potwierdza że zrozumilei : ) Koła raczej trudniejsze , ale można zawsze liczyć na dopytke na koniec ( a to mało kto niezdaje ) Mimo swoich wad jest ciekawą postacia , i czesto sie zagłebia na wykładzie w tematy \""
          ],
          [
           "Neutral",
           "Neutral",
           "Zadania na egzaminie do latwych nie naleza , ale ukladaja je pracownicy IM , wiec czego mozna sie spodziewac : ) OCENA OGÓLNA : ŚREDNIO NA JEŻA"
          ],
          [
           "Neutral",
           "Positive",
           "Pytania podczas laborki potrafią byc ciężkie , można wylecieć na sam koniec laboratorium , ale z reguły 3 , może 4 grupy bedą zapytane podczas całych zajęć ."
          ],
          [
           "Neutral",
           "Positive",
           "Pilot funkcjonalnie pierwsza klasa , można dosłownie wszystkim sterować , ogromna baza sprzętu , możliwość dowolnego konfigurowania , super wygląd , podświetlenie klawiszy , auto - wyłączanie ekranu . Niestety sama jakość wykonania pozostawia wiele do życzenia . Konkretnie klawisze które po roku użytkowania zacinają się . Pierwszy egzemplarz po roku został wymieniony na nowy , drugi właśnie tez ma identyczny problem z klawiszami . Niestety rozebrać go nie idzie bo próbował em na starym , a wystarczyło by wyczyścić gumki lub wymienić styki węglowe . Mam w domu piloty od sprzętu audio które mają po kilkanaście lat i działają bez zarzutu do dzisiaj ."
          ],
          [
           "Neutral",
           "Positive",
           "Przyłapanie na ściąganiu to 2.0 z danej pracy ."
          ],
          [
           "Neutral",
           "Positive",
           "Jest piec kartkowek / wejsciowek , ktore sa podstawa zaliczenia ."
          ],
          [
           "Neutral",
           "Neutral",
           "Ćwiczenia . . . tutaj warto być przygotowanym i błyskać na każdych zajęciach tak żeby Cię zapamiętał ."
          ],
          [
           "Neutral",
           "Positive",
           "Ogólnie BwE to pikuś 8 )"
          ],
          [
           "Neutral",
           "Positive",
           "Trzeba napisac 2 kolokwia , zdazaja sie rzadko kartkowki ."
          ],
          [
           "Neutral",
           "Positive",
           "Koła do zdania , choć łatwe nie są ."
          ],
          [
           "Neutral",
           "Neutral",
           "Był em na jej zajęciach w 100 % , starał em się jak mogł em by nadgonić grupę gdyż nie zdawał em matury z anglika a znalazł em się na B 1 ."
          ],
          [
           "Neutral",
           "Positive",
           "Jeśli chodzi o wykład na WEMiF - ie ludzie chyba nie mają wyboru - chyba tylko dr Juszkiewicz wykłada ."
          ],
          [
           "Neutral",
           "Positive",
           "Nie wiem czy mozna z nich sie czegos nauczyc , nie majac wczesniej styku z pp , ale mi troche rzeczy w glowie sie rozjasnilo ; ) Tylko to mazanie po foliach . . . : ?"
          ],
          [
           "Neutral",
           "Positive",
           "Projekt nie musi być specjalnie rozbudowany , ma ładnie wyglądać , mieć elegancką zrobioną dokumentację , i mają się pokazywać ładne wykresy ."
          ],
          [
           "Neutral",
           "Neutral",
           "Dr A . T . KOWAL Chemia nieorganiczna II - ćwiczenia Ocena : pozytywna [ / b ] Specyficzny sposób prowadzenia zajęć . . . ."
          ],
          [
           "Neutral",
           "Positive",
           "Raczej nie ma na co narzekać , choć i bez rewelacji"
          ]
         ],
         "hovertemplate": "True Label=%{customdata[0]}<br>TSNE-1=%{x}<br>TSNE-2=%{y}<br>Predicted Label=%{customdata[1]}<br>Text=%{customdata[2]}<extra></extra>",
         "legendgroup": "Neutral",
         "marker": {
          "color": "blue",
          "symbol": "circle"
         },
         "mode": "markers",
         "name": "Neutral",
         "orientation": "v",
         "showlegend": true,
         "type": "scatter",
         "x": [
          0.2933715,
          -1.2250266,
          -1.398847,
          0.747903,
          0.96063113,
          -0.52377903,
          0.89322025,
          0.06091699,
          -0.4672556,
          -0.694522,
          -1.523237,
          -1.3188678,
          -0.17142929,
          0.13349172,
          -0.4209013,
          -0.35159698,
          -0.42802298
         ],
         "xaxis": "x",
         "y": [
          -2.089771,
          -0.26923865,
          0.4661829,
          -0.4760984,
          -0.2048935,
          -0.7293352,
          -1.9563236,
          0.88063616,
          -0.6936035,
          -1.713736,
          -0.568647,
          0.37745106,
          -0.41803542,
          -1.9808265,
          -0.016402483,
          1.353832,
          0.006184101
         ],
         "yaxis": "y"
        },
        {
         "customdata": [
          [
           "Negative",
           "Positive",
           "Gdy je poprawiasz i przynosisz następnym razem , wyszukuje Ci kolejne błedy , a to co poprawił eś na dobrze , jest źle i miało być tak jak na poczatku ."
          ],
          [
           "Negative",
           "Positive",
           "UWAGA !"
          ],
          [
           "Negative",
           "Positive",
           "Na każdej laborce kartkówka , teraz moge stwierdzić że może nie były aż takie trudne , ale zaliczył em jedną na 5 czy 6 . . . po prostu jeżeli nigdy przedtem nie miał eś do czynienia z językiem C to naprawde jest trudno ."
          ],
          [
           "Negative",
           "Positive",
           "Pan Biernacki prowadzi laborki naprawde dziwnie , po łebkach , bez zaangażowania , i co najważniejsze - niezrozumiale . . . powtórze jeszcze raz : niezrozumiale !"
          ],
          [
           "Negative",
           "Neutral",
           "Grill ma wadę , dużą , z którą niestety żył em 3 lata . Tłuszcz zamiast skapywać w całości do dołączonej miseczki , spływał pod płytę grzewczą , zawsze po grillowaniu , musiałem go postawić w pionie i patrzeć jak wylewa się to na blat . Nie wiem czy Philips tego nie przemyślał , nie sprawdził , ale jest to tragiczne niedopatrzenie . Kilka dni temu grill odmówił posłuszeństwa . Nie grzeje . Pokrętło do do ustawiania temperatury odmówiło z rok temu , przestało mieć grzechotkę , ale nie przeszkadzało to w użytkowaniu . Za minus uważam też brak możliwości dokupienia samych płyt teflonowych , choćby w cenie połowy grilla . Zdecydowanie nie polecam i nie kupię grilla Philipsa , a w przypadku awarii , muszę kupić nowego ."
          ],
          [
           "Negative",
           "Positive",
           "Ja idąc na informatyke 3 nie znałęm prawie w ogóle jezyka C no i to nie jest kurs dla takich ludzi - doktor zakłada że wszyscy wiedza co to jest i że rozumieja każde jego skomplikowane słowo ! ! !"
          ],
          [
           "Negative",
           "Positive",
           "Bateria posiada jedynie ładny design . Wysokość baterii to ok 30 cm . , przeciętna głębokość zlewozmywaka to ok 20cm . Woda wypływając z baterii i spadając z wysokości 1 / 2 metra powoduje , iż chcąc opłukać talerz lub umyć ręce bierzemy również prysznic ! Zachlapane są szafki i wszystko w około . Zadzwoniła m do handlowca firmy Blanco i poprosiła m o radę , ale podał jedynie telefon do serwisanta , który kazał przykręcić ciśnienie wody . Poza tym próbował tłumaczyć iż baterie są przystosowane do zlewozmywaków BLANCO i gdyby m kupiła zlew Blanco nie było by problemu . Sitko w zlewie Blanco jest tak ustawione , iż jak nakierujemy na nie wylewkę baterii to woda się nie rozchlapuje . Ale kto używając zlewozmywaka myśli o tym aby skierować wylewkę zawsze w stronę sitka ? ? ? ? ? Chyba ten kto nic w kuchni nie robi ! ! Tak więc przestrzegam przed wszystkimi bateriami tego typu firmy Blanco i nie tylko . Porażka i totalny niewypał !"
          ],
          [
           "Negative",
           "Neutral",
           "Jestem świeżo po zakupie Marantza 611 . Urządzenie bardzo dobrze odtwarza płyty CD . Gorzej jest z nośnikami USB . Nośniki czytane są długo i dźwięk jest słyszalnie uboższy pomimo odtwarzania plików FLAC . Jednak kompletna porażka to wieszanie się urządzenia jeśli zaczynamy słuchać stacji z radia cyfrowego DAB + . Sytuacja jest powtarzalna po dodaniu stacji dwóch DAB + do ulubionych i próbie przełączania się między nimi następuje zawieszenie urządzenia , dokładniej odtwarzania dźwięku . Przywrócenie odtwarzania dziwięku jest możliwe po wybraniu stacji FM do odtwarzania . Drugą kwestią jest włączanie się samo z siebie urządzenia . Czyli śpisz sobie a ono się włącza . Wyłączasz . Za 2h jest to samo . Jeśli do tego dodamy głęboko rozczarowującą scenę dżwiękową dla nośników USB lepiej kupić coś tańszego nawet jeśli będzie miało te same wady ."
          ],
          [
           "Negative",
           "Positive",
           "uważam że pisanie opinii o czymś co jest rewelacyjne nie do końca ma sens , więc chciała by m napisać o wadzie tej zmywarki . Mam BOSCHA po raz pierwszy i przyznam że daleko mu do Whirpoola którego mialam wczesniej . Przede wszystkim brakuje kontrolki że zakończyło się mycie . Jeżeli jestem poza domem i nie usłyszała m końcowego sygnału to nie wiadomo że mycie jest już skończone . Tak samo nie wiadomo jaki jest etap . Czasem zdarza jej się nie wypluć tabletki i garniki są brudne . no i niestety w porównaniu z Whirpoolem przegrywa w kategorii ciasno ułożone garnki whirpool radził sobie świetnie , najwyraźniej miał lepsze ciśnienie wody . U Boscha to mocno kuleje . Chcąc upchać na maxa - muszę domywać ręcznie . Prowadnice na dole nie są precyzyjne wykonane i kosz dolny po całkowitym wysunieciu zawsze spada . To w Whirpoolu nie miało miejsca bo prowadnice miały kontuynuacje na drzwiczkach ."
          ],
          [
           "Negative",
           "Positive",
           "Muszę się przyznać , że bardzo nudził em się na wykładzie u Pana Michała . . . dlatego na przerwie wybył em i więcej się tam nie pojawił em ."
          ],
          [
           "Negative",
           "Positive",
           "O zgrozo ."
          ]
         ],
         "hovertemplate": "True Label=%{customdata[0]}<br>TSNE-1=%{x}<br>TSNE-2=%{y}<br>Predicted Label=%{customdata[1]}<br>Text=%{customdata[2]}<extra></extra>",
         "legendgroup": "Negative",
         "marker": {
          "color": "red",
          "symbol": "circle"
         },
         "mode": "markers",
         "name": "Negative",
         "orientation": "v",
         "showlegend": true,
         "type": "scatter",
         "x": [
          -0.05011922,
          1.2070897,
          -0.32117724,
          0.28755727,
          0.5571064,
          0.09704691,
          0.41519898,
          -2.1196363,
          -0.09117559,
          -0.5221638,
          -1.0078847
         ],
         "xaxis": "x",
         "y": [
          0.39971536,
          -0.12153226,
          -1.0039064,
          -1.0724479,
          -0.045050934,
          -1.0069427,
          0.0048209727,
          -0.45580882,
          0.21209246,
          -0.19963515,
          -2.1561224
         ],
         "yaxis": "y"
        },
        {
         "customdata": [
          [
           "Positive",
           "Positive",
           "Z zaliczeniem nie ma raczej problemu ."
          ],
          [
           "Positive",
           "Neutral",
           "Miał em przyjemność mieć z tą panią wykład !"
          ],
          [
           "Positive",
           "Positive",
           "Dba o to by każdy się na zajęciach odezwał , ale jeśli ktoś czegoś nie potrafi - nie gnębi , pomaga ."
          ],
          [
           "Positive",
           "Positive",
           "Wprost chciało się do niego przychodzić ."
          ],
          [
           "Positive",
           "Positive",
           "Ale na egzaminie natomiast jest łatwiej ."
          ],
          [
           "Positive",
           "Positive",
           "Pan Gańcza jest osobą bardzo dobrą jako nauczyciel dla początkujących . . . nie rozumiem wogóle powyższych komentarzy jeśli chodzi o \" wiel k"
          ],
          [
           "Positive",
           "Positive",
           "Lepiej nie mogł eś trafić ."
          ],
          [
           "Positive",
           "Positive",
           "Jeśli masz więcej odróbek ( a jest jakiś ważny powód ) można się było z prowadzącą zajęcia dogadać ."
          ],
          [
           "Positive",
           "Positive",
           "Wyjątkowo miły człowiek , nieco zestresowany obecnością świata i ludzi , ale jakoś sobie radzi - patrzenie w podłogę podobno pomaga ."
          ],
          [
           "Positive",
           "Positive",
           "Pytania raczej proste , nie bylo az tak trudno zaliczyc ."
          ],
          [
           "Positive",
           "Neutral",
           "Uważam , że to najlepszy kitowy obiektyw na rynku . Wykonanie metal i bardzo dobrej jakości tworzywi . Pierścień przysłony chodzi z należytym oporem i skokiem . Wbudowana stabilizacja jest wydajna i naprawdę pomaga w wielu sytuacjach . Obiektyw bardzo ostry już od największego otworu przysłony . Celność bdb . To za co pochwalę go dodatkowo to szybki silnik autofokusa - używał em go na poczatku z dosyć mułowatym X - E1 , teraz , kiedy przesiadł em się na X - T1 to mogę tylko chwalić ! ! ! Ostatni plus to bardzo dobrze opracowany system uszczelnień - obiektyw , mimo , iż jest to zoom , w ogóle nie zasysa kurzu do środka ( miałem już wiele zoomów : Nikkory , Sigmy i tam był to problem ) . Polecam !"
          ],
          [
           "Positive",
           "Positive",
           "algebra z geom . analityczna 1 polecam miał em z nim wykłady , bardzo fajny z podejsciem student tez czlowiek , czasami sie myli ale przyznale sie do bledow ."
          ],
          [
           "Positive",
           "Positive",
           "Tak Podstawa oceny w indeksie : egzamin Niespodziewajki : brak ( zadania powtarzają się co roku ) Poczucie humorupane pokłady Ogólne podejście do studenta : pozytywne Zerowy termin jest najprostszy ( 3 zadania ) - warunkiem przystąpienia jest jednak zaliczenie projektu u dr ."
          ]
         ],
         "hovertemplate": "True Label=%{customdata[0]}<br>TSNE-1=%{x}<br>TSNE-2=%{y}<br>Predicted Label=%{customdata[1]}<br>Text=%{customdata[2]}<extra></extra>",
         "legendgroup": "Positive",
         "marker": {
          "color": "green",
          "symbol": "circle"
         },
         "mode": "markers",
         "name": "Positive",
         "orientation": "v",
         "showlegend": true,
         "type": "scatter",
         "x": [
          -0.8293973,
          -1.7429105,
          0.12612253,
          0.0060472563,
          -1.1257211,
          -1.0361853,
          -0.89807963,
          -0.42761305,
          0.13720852,
          -0.0029632747,
          0.22084056,
          -1.2319715,
          -1.023013
         ],
         "xaxis": "x",
         "y": [
          -0.9194777,
          -2.0459738,
          -0.49552104,
          -0.613895,
          0.5589551,
          -0.9154815,
          -0.16828737,
          -0.38817164,
          0.08369346,
          -1.9822025,
          0.96300954,
          -0.8580106,
          -0.03098198
         ],
         "yaxis": "y"
        }
       ],
       "layout": {
        "height": 600,
        "legend": {
         "title": {
          "text": "True Label"
         },
         "tracegroupgap": 0
        },
        "template": {
         "data": {
          "bar": [
           {
            "error_x": {
             "color": "#2a3f5f"
            },
            "error_y": {
             "color": "#2a3f5f"
            },
            "marker": {
             "line": {
              "color": "#E5ECF6",
              "width": 0.5
             },
             "pattern": {
              "fillmode": "overlay",
              "size": 10,
              "solidity": 0.2
             }
            },
            "type": "bar"
           }
          ],
          "barpolar": [
           {
            "marker": {
             "line": {
              "color": "#E5ECF6",
              "width": 0.5
             },
             "pattern": {
              "fillmode": "overlay",
              "size": 10,
              "solidity": 0.2
             }
            },
            "type": "barpolar"
           }
          ],
          "carpet": [
           {
            "aaxis": {
             "endlinecolor": "#2a3f5f",
             "gridcolor": "white",
             "linecolor": "white",
             "minorgridcolor": "white",
             "startlinecolor": "#2a3f5f"
            },
            "baxis": {
             "endlinecolor": "#2a3f5f",
             "gridcolor": "white",
             "linecolor": "white",
             "minorgridcolor": "white",
             "startlinecolor": "#2a3f5f"
            },
            "type": "carpet"
           }
          ],
          "choropleth": [
           {
            "colorbar": {
             "outlinewidth": 0,
             "ticks": ""
            },
            "type": "choropleth"
           }
          ],
          "contour": [
           {
            "colorbar": {
             "outlinewidth": 0,
             "ticks": ""
            },
            "colorscale": [
             [
              0,
              "#0d0887"
             ],
             [
              0.1111111111111111,
              "#46039f"
             ],
             [
              0.2222222222222222,
              "#7201a8"
             ],
             [
              0.3333333333333333,
              "#9c179e"
             ],
             [
              0.4444444444444444,
              "#bd3786"
             ],
             [
              0.5555555555555556,
              "#d8576b"
             ],
             [
              0.6666666666666666,
              "#ed7953"
             ],
             [
              0.7777777777777778,
              "#fb9f3a"
             ],
             [
              0.8888888888888888,
              "#fdca26"
             ],
             [
              1,
              "#f0f921"
             ]
            ],
            "type": "contour"
           }
          ],
          "contourcarpet": [
           {
            "colorbar": {
             "outlinewidth": 0,
             "ticks": ""
            },
            "type": "contourcarpet"
           }
          ],
          "heatmap": [
           {
            "colorbar": {
             "outlinewidth": 0,
             "ticks": ""
            },
            "colorscale": [
             [
              0,
              "#0d0887"
             ],
             [
              0.1111111111111111,
              "#46039f"
             ],
             [
              0.2222222222222222,
              "#7201a8"
             ],
             [
              0.3333333333333333,
              "#9c179e"
             ],
             [
              0.4444444444444444,
              "#bd3786"
             ],
             [
              0.5555555555555556,
              "#d8576b"
             ],
             [
              0.6666666666666666,
              "#ed7953"
             ],
             [
              0.7777777777777778,
              "#fb9f3a"
             ],
             [
              0.8888888888888888,
              "#fdca26"
             ],
             [
              1,
              "#f0f921"
             ]
            ],
            "type": "heatmap"
           }
          ],
          "heatmapgl": [
           {
            "colorbar": {
             "outlinewidth": 0,
             "ticks": ""
            },
            "colorscale": [
             [
              0,
              "#0d0887"
             ],
             [
              0.1111111111111111,
              "#46039f"
             ],
             [
              0.2222222222222222,
              "#7201a8"
             ],
             [
              0.3333333333333333,
              "#9c179e"
             ],
             [
              0.4444444444444444,
              "#bd3786"
             ],
             [
              0.5555555555555556,
              "#d8576b"
             ],
             [
              0.6666666666666666,
              "#ed7953"
             ],
             [
              0.7777777777777778,
              "#fb9f3a"
             ],
             [
              0.8888888888888888,
              "#fdca26"
             ],
             [
              1,
              "#f0f921"
             ]
            ],
            "type": "heatmapgl"
           }
          ],
          "histogram": [
           {
            "marker": {
             "pattern": {
              "fillmode": "overlay",
              "size": 10,
              "solidity": 0.2
             }
            },
            "type": "histogram"
           }
          ],
          "histogram2d": [
           {
            "colorbar": {
             "outlinewidth": 0,
             "ticks": ""
            },
            "colorscale": [
             [
              0,
              "#0d0887"
             ],
             [
              0.1111111111111111,
              "#46039f"
             ],
             [
              0.2222222222222222,
              "#7201a8"
             ],
             [
              0.3333333333333333,
              "#9c179e"
             ],
             [
              0.4444444444444444,
              "#bd3786"
             ],
             [
              0.5555555555555556,
              "#d8576b"
             ],
             [
              0.6666666666666666,
              "#ed7953"
             ],
             [
              0.7777777777777778,
              "#fb9f3a"
             ],
             [
              0.8888888888888888,
              "#fdca26"
             ],
             [
              1,
              "#f0f921"
             ]
            ],
            "type": "histogram2d"
           }
          ],
          "histogram2dcontour": [
           {
            "colorbar": {
             "outlinewidth": 0,
             "ticks": ""
            },
            "colorscale": [
             [
              0,
              "#0d0887"
             ],
             [
              0.1111111111111111,
              "#46039f"
             ],
             [
              0.2222222222222222,
              "#7201a8"
             ],
             [
              0.3333333333333333,
              "#9c179e"
             ],
             [
              0.4444444444444444,
              "#bd3786"
             ],
             [
              0.5555555555555556,
              "#d8576b"
             ],
             [
              0.6666666666666666,
              "#ed7953"
             ],
             [
              0.7777777777777778,
              "#fb9f3a"
             ],
             [
              0.8888888888888888,
              "#fdca26"
             ],
             [
              1,
              "#f0f921"
             ]
            ],
            "type": "histogram2dcontour"
           }
          ],
          "mesh3d": [
           {
            "colorbar": {
             "outlinewidth": 0,
             "ticks": ""
            },
            "type": "mesh3d"
           }
          ],
          "parcoords": [
           {
            "line": {
             "colorbar": {
              "outlinewidth": 0,
              "ticks": ""
             }
            },
            "type": "parcoords"
           }
          ],
          "pie": [
           {
            "automargin": true,
            "type": "pie"
           }
          ],
          "scatter": [
           {
            "fillpattern": {
             "fillmode": "overlay",
             "size": 10,
             "solidity": 0.2
            },
            "type": "scatter"
           }
          ],
          "scatter3d": [
           {
            "line": {
             "colorbar": {
              "outlinewidth": 0,
              "ticks": ""
             }
            },
            "marker": {
             "colorbar": {
              "outlinewidth": 0,
              "ticks": ""
             }
            },
            "type": "scatter3d"
           }
          ],
          "scattercarpet": [
           {
            "marker": {
             "colorbar": {
              "outlinewidth": 0,
              "ticks": ""
             }
            },
            "type": "scattercarpet"
           }
          ],
          "scattergeo": [
           {
            "marker": {
             "colorbar": {
              "outlinewidth": 0,
              "ticks": ""
             }
            },
            "type": "scattergeo"
           }
          ],
          "scattergl": [
           {
            "marker": {
             "colorbar": {
              "outlinewidth": 0,
              "ticks": ""
             }
            },
            "type": "scattergl"
           }
          ],
          "scattermapbox": [
           {
            "marker": {
             "colorbar": {
              "outlinewidth": 0,
              "ticks": ""
             }
            },
            "type": "scattermapbox"
           }
          ],
          "scatterpolar": [
           {
            "marker": {
             "colorbar": {
              "outlinewidth": 0,
              "ticks": ""
             }
            },
            "type": "scatterpolar"
           }
          ],
          "scatterpolargl": [
           {
            "marker": {
             "colorbar": {
              "outlinewidth": 0,
              "ticks": ""
             }
            },
            "type": "scatterpolargl"
           }
          ],
          "scatterternary": [
           {
            "marker": {
             "colorbar": {
              "outlinewidth": 0,
              "ticks": ""
             }
            },
            "type": "scatterternary"
           }
          ],
          "surface": [
           {
            "colorbar": {
             "outlinewidth": 0,
             "ticks": ""
            },
            "colorscale": [
             [
              0,
              "#0d0887"
             ],
             [
              0.1111111111111111,
              "#46039f"
             ],
             [
              0.2222222222222222,
              "#7201a8"
             ],
             [
              0.3333333333333333,
              "#9c179e"
             ],
             [
              0.4444444444444444,
              "#bd3786"
             ],
             [
              0.5555555555555556,
              "#d8576b"
             ],
             [
              0.6666666666666666,
              "#ed7953"
             ],
             [
              0.7777777777777778,
              "#fb9f3a"
             ],
             [
              0.8888888888888888,
              "#fdca26"
             ],
             [
              1,
              "#f0f921"
             ]
            ],
            "type": "surface"
           }
          ],
          "table": [
           {
            "cells": {
             "fill": {
              "color": "#EBF0F8"
             },
             "line": {
              "color": "white"
             }
            },
            "header": {
             "fill": {
              "color": "#C8D4E3"
             },
             "line": {
              "color": "white"
             }
            },
            "type": "table"
           }
          ]
         },
         "layout": {
          "annotationdefaults": {
           "arrowcolor": "#2a3f5f",
           "arrowhead": 0,
           "arrowwidth": 1
          },
          "autotypenumbers": "strict",
          "coloraxis": {
           "colorbar": {
            "outlinewidth": 0,
            "ticks": ""
           }
          },
          "colorscale": {
           "diverging": [
            [
             0,
             "#8e0152"
            ],
            [
             0.1,
             "#c51b7d"
            ],
            [
             0.2,
             "#de77ae"
            ],
            [
             0.3,
             "#f1b6da"
            ],
            [
             0.4,
             "#fde0ef"
            ],
            [
             0.5,
             "#f7f7f7"
            ],
            [
             0.6,
             "#e6f5d0"
            ],
            [
             0.7,
             "#b8e186"
            ],
            [
             0.8,
             "#7fbc41"
            ],
            [
             0.9,
             "#4d9221"
            ],
            [
             1,
             "#276419"
            ]
           ],
           "sequential": [
            [
             0,
             "#0d0887"
            ],
            [
             0.1111111111111111,
             "#46039f"
            ],
            [
             0.2222222222222222,
             "#7201a8"
            ],
            [
             0.3333333333333333,
             "#9c179e"
            ],
            [
             0.4444444444444444,
             "#bd3786"
            ],
            [
             0.5555555555555556,
             "#d8576b"
            ],
            [
             0.6666666666666666,
             "#ed7953"
            ],
            [
             0.7777777777777778,
             "#fb9f3a"
            ],
            [
             0.8888888888888888,
             "#fdca26"
            ],
            [
             1,
             "#f0f921"
            ]
           ],
           "sequentialminus": [
            [
             0,
             "#0d0887"
            ],
            [
             0.1111111111111111,
             "#46039f"
            ],
            [
             0.2222222222222222,
             "#7201a8"
            ],
            [
             0.3333333333333333,
             "#9c179e"
            ],
            [
             0.4444444444444444,
             "#bd3786"
            ],
            [
             0.5555555555555556,
             "#d8576b"
            ],
            [
             0.6666666666666666,
             "#ed7953"
            ],
            [
             0.7777777777777778,
             "#fb9f3a"
            ],
            [
             0.8888888888888888,
             "#fdca26"
            ],
            [
             1,
             "#f0f921"
            ]
           ]
          },
          "colorway": [
           "#636efa",
           "#EF553B",
           "#00cc96",
           "#ab63fa",
           "#FFA15A",
           "#19d3f3",
           "#FF6692",
           "#B6E880",
           "#FF97FF",
           "#FECB52"
          ],
          "font": {
           "color": "#2a3f5f"
          },
          "geo": {
           "bgcolor": "white",
           "lakecolor": "white",
           "landcolor": "#E5ECF6",
           "showlakes": true,
           "showland": true,
           "subunitcolor": "white"
          },
          "hoverlabel": {
           "align": "left"
          },
          "hovermode": "closest",
          "mapbox": {
           "style": "light"
          },
          "paper_bgcolor": "white",
          "plot_bgcolor": "#E5ECF6",
          "polar": {
           "angularaxis": {
            "gridcolor": "white",
            "linecolor": "white",
            "ticks": ""
           },
           "bgcolor": "#E5ECF6",
           "radialaxis": {
            "gridcolor": "white",
            "linecolor": "white",
            "ticks": ""
           }
          },
          "scene": {
           "xaxis": {
            "backgroundcolor": "#E5ECF6",
            "gridcolor": "white",
            "gridwidth": 2,
            "linecolor": "white",
            "showbackground": true,
            "ticks": "",
            "zerolinecolor": "white"
           },
           "yaxis": {
            "backgroundcolor": "#E5ECF6",
            "gridcolor": "white",
            "gridwidth": 2,
            "linecolor": "white",
            "showbackground": true,
            "ticks": "",
            "zerolinecolor": "white"
           },
           "zaxis": {
            "backgroundcolor": "#E5ECF6",
            "gridcolor": "white",
            "gridwidth": 2,
            "linecolor": "white",
            "showbackground": true,
            "ticks": "",
            "zerolinecolor": "white"
           }
          },
          "shapedefaults": {
           "line": {
            "color": "#2a3f5f"
           }
          },
          "ternary": {
           "aaxis": {
            "gridcolor": "white",
            "linecolor": "white",
            "ticks": ""
           },
           "baxis": {
            "gridcolor": "white",
            "linecolor": "white",
            "ticks": ""
           },
           "bgcolor": "#E5ECF6",
           "caxis": {
            "gridcolor": "white",
            "linecolor": "white",
            "ticks": ""
           }
          },
          "title": {
           "x": 0.05
          },
          "xaxis": {
           "automargin": true,
           "gridcolor": "white",
           "linecolor": "white",
           "ticks": "",
           "title": {
            "standoff": 15
           },
           "zerolinecolor": "white",
           "zerolinewidth": 2
          },
          "yaxis": {
           "automargin": true,
           "gridcolor": "white",
           "linecolor": "white",
           "ticks": "",
           "title": {
            "standoff": 15
           },
           "zerolinecolor": "white",
           "zerolinewidth": 2
          }
         }
        },
        "title": {
         "text": "Przestrzeń Wektorowa Testowych Przypadków (Kolor: Prawdziwe Etykiety)"
        },
        "width": 1200,
        "xaxis": {
         "anchor": "y",
         "domain": [
          0,
          1
         ],
         "title": {
          "text": "TSNE-1"
         }
        },
        "yaxis": {
         "anchor": "x",
         "domain": [
          0,
          1
         ],
         "title": {
          "text": "TSNE-2"
         }
        }
       }
      }
     },
     "metadata": {},
     "output_type": "display_data"
    },
    {
     "data": {
      "application/vnd.plotly.v1+json": {
       "config": {
        "plotlyServerURL": "https://plot.ly"
       },
       "data": [
        {
         "customdata": [
          [
           "Neutral",
           "Neutral",
           "Jesli sluchasz go na zajeciach i zrobisz w domu ze 2 zadanka , to powinienes bez problemow zaliczyc ."
          ],
          [
           "Neutral",
           "Neutral",
           "Zadania na egzaminie do latwych nie naleza , ale ukladaja je pracownicy IM , wiec czego mozna sie spodziewac : ) OCENA OGÓLNA : ŚREDNIO NA JEŻA"
          ],
          [
           "Positive",
           "Neutral",
           "Miał em przyjemność mieć z tą panią wykład !"
          ],
          [
           "Negative",
           "Neutral",
           "Grill ma wadę , dużą , z którą niestety żył em 3 lata . Tłuszcz zamiast skapywać w całości do dołączonej miseczki , spływał pod płytę grzewczą , zawsze po grillowaniu , musiałem go postawić w pionie i patrzeć jak wylewa się to na blat . Nie wiem czy Philips tego nie przemyślał , nie sprawdził , ale jest to tragiczne niedopatrzenie . Kilka dni temu grill odmówił posłuszeństwa . Nie grzeje . Pokrętło do do ustawiania temperatury odmówiło z rok temu , przestało mieć grzechotkę , ale nie przeszkadzało to w użytkowaniu . Za minus uważam też brak możliwości dokupienia samych płyt teflonowych , choćby w cenie połowy grilla . Zdecydowanie nie polecam i nie kupię grilla Philipsa , a w przypadku awarii , muszę kupić nowego ."
          ],
          [
           "Neutral",
           "Neutral",
           "Ćwiczenia . . . tutaj warto być przygotowanym i błyskać na każdych zajęciach tak żeby Cię zapamiętał ."
          ],
          [
           "Negative",
           "Neutral",
           "Jestem świeżo po zakupie Marantza 611 . Urządzenie bardzo dobrze odtwarza płyty CD . Gorzej jest z nośnikami USB . Nośniki czytane są długo i dźwięk jest słyszalnie uboższy pomimo odtwarzania plików FLAC . Jednak kompletna porażka to wieszanie się urządzenia jeśli zaczynamy słuchać stacji z radia cyfrowego DAB + . Sytuacja jest powtarzalna po dodaniu stacji dwóch DAB + do ulubionych i próbie przełączania się między nimi następuje zawieszenie urządzenia , dokładniej odtwarzania dźwięku . Przywrócenie odtwarzania dziwięku jest możliwe po wybraniu stacji FM do odtwarzania . Drugą kwestią jest włączanie się samo z siebie urządzenia . Czyli śpisz sobie a ono się włącza . Wyłączasz . Za 2h jest to samo . Jeśli do tego dodamy głęboko rozczarowującą scenę dżwiękową dla nośników USB lepiej kupić coś tańszego nawet jeśli będzie miało te same wady ."
          ],
          [
           "Neutral",
           "Neutral",
           "Był em na jej zajęciach w 100 % , starał em się jak mogł em by nadgonić grupę gdyż nie zdawał em matury z anglika a znalazł em się na B 1 ."
          ],
          [
           "Positive",
           "Neutral",
           "Uważam , że to najlepszy kitowy obiektyw na rynku . Wykonanie metal i bardzo dobrej jakości tworzywi . Pierścień przysłony chodzi z należytym oporem i skokiem . Wbudowana stabilizacja jest wydajna i naprawdę pomaga w wielu sytuacjach . Obiektyw bardzo ostry już od największego otworu przysłony . Celność bdb . To za co pochwalę go dodatkowo to szybki silnik autofokusa - używał em go na poczatku z dosyć mułowatym X - E1 , teraz , kiedy przesiadł em się na X - T1 to mogę tylko chwalić ! ! ! Ostatni plus to bardzo dobrze opracowany system uszczelnień - obiektyw , mimo , iż jest to zoom , w ogóle nie zasysa kurzu do środka ( miałem już wiele zoomów : Nikkory , Sigmy i tam był to problem ) . Polecam !"
          ],
          [
           "Neutral",
           "Neutral",
           "Dr A . T . KOWAL Chemia nieorganiczna II - ćwiczenia Ocena : pozytywna [ / b ] Specyficzny sposób prowadzenia zajęć . . . ."
          ]
         ],
         "hovertemplate": "Predicted Label=%{customdata[1]}<br>TSNE-1=%{x}<br>TSNE-2=%{y}<br>True Label=%{customdata[0]}<br>Text=%{customdata[2]}<extra></extra>",
         "legendgroup": "Neutral",
         "marker": {
          "color": "blue",
          "symbol": "circle"
         },
         "mode": "markers",
         "name": "Neutral",
         "orientation": "v",
         "showlegend": true,
         "type": "scatter",
         "x": [
          0.2933715,
          -1.398847,
          -1.7429105,
          0.5571064,
          0.06091699,
          -2.1196363,
          -1.3188678,
          0.22084056,
          -0.35159698
         ],
         "xaxis": "x",
         "y": [
          -2.089771,
          0.4661829,
          -2.0459738,
          -0.045050934,
          0.88063616,
          -0.45580882,
          0.37745106,
          0.96300954,
          1.353832
         ],
         "yaxis": "y"
        },
        {
         "customdata": [
          [
           "Negative",
           "Positive",
           "Gdy je poprawiasz i przynosisz następnym razem , wyszukuje Ci kolejne błedy , a to co poprawił eś na dobrze , jest źle i miało być tak jak na poczatku ."
          ],
          [
           "Negative",
           "Positive",
           "UWAGA !"
          ],
          [
           "Positive",
           "Positive",
           "Z zaliczeniem nie ma raczej problemu ."
          ],
          [
           "Neutral",
           "Positive",
           "Mało wytłumaczy , ale cały czas pyta czy wszyscy rozumieją , jeżeli on też rozumie dany dział to bedzie tłumaczył aż wszyscy nie potwierdza że zrozumilei : ) Koła raczej trudniejsze , ale można zawsze liczyć na dopytke na koniec ( a to mało kto niezdaje ) Mimo swoich wad jest ciekawą postacia , i czesto sie zagłebia na wykładzie w tematy \""
          ],
          [
           "Neutral",
           "Positive",
           "Pytania podczas laborki potrafią byc ciężkie , można wylecieć na sam koniec laboratorium , ale z reguły 3 , może 4 grupy bedą zapytane podczas całych zajęć ."
          ],
          [
           "Positive",
           "Positive",
           "Dba o to by każdy się na zajęciach odezwał , ale jeśli ktoś czegoś nie potrafi - nie gnębi , pomaga ."
          ],
          [
           "Negative",
           "Positive",
           "Na każdej laborce kartkówka , teraz moge stwierdzić że może nie były aż takie trudne , ale zaliczył em jedną na 5 czy 6 . . . po prostu jeżeli nigdy przedtem nie miał eś do czynienia z językiem C to naprawde jest trudno ."
          ],
          [
           "Negative",
           "Positive",
           "Pan Biernacki prowadzi laborki naprawde dziwnie , po łebkach , bez zaangażowania , i co najważniejsze - niezrozumiale . . . powtórze jeszcze raz : niezrozumiale !"
          ],
          [
           "Positive",
           "Positive",
           "Wprost chciało się do niego przychodzić ."
          ],
          [
           "Positive",
           "Positive",
           "Ale na egzaminie natomiast jest łatwiej ."
          ],
          [
           "Neutral",
           "Positive",
           "Pilot funkcjonalnie pierwsza klasa , można dosłownie wszystkim sterować , ogromna baza sprzętu , możliwość dowolnego konfigurowania , super wygląd , podświetlenie klawiszy , auto - wyłączanie ekranu . Niestety sama jakość wykonania pozostawia wiele do życzenia . Konkretnie klawisze które po roku użytkowania zacinają się . Pierwszy egzemplarz po roku został wymieniony na nowy , drugi właśnie tez ma identyczny problem z klawiszami . Niestety rozebrać go nie idzie bo próbował em na starym , a wystarczyło by wyczyścić gumki lub wymienić styki węglowe . Mam w domu piloty od sprzętu audio które mają po kilkanaście lat i działają bez zarzutu do dzisiaj ."
          ],
          [
           "Positive",
           "Positive",
           "Pan Gańcza jest osobą bardzo dobrą jako nauczyciel dla początkujących . . . nie rozumiem wogóle powyższych komentarzy jeśli chodzi o \" wiel k"
          ],
          [
           "Positive",
           "Positive",
           "Lepiej nie mogł eś trafić ."
          ],
          [
           "Positive",
           "Positive",
           "Jeśli masz więcej odróbek ( a jest jakiś ważny powód ) można się było z prowadzącą zajęcia dogadać ."
          ],
          [
           "Neutral",
           "Positive",
           "Przyłapanie na ściąganiu to 2.0 z danej pracy ."
          ],
          [
           "Neutral",
           "Positive",
           "Jest piec kartkowek / wejsciowek , ktore sa podstawa zaliczenia ."
          ],
          [
           "Negative",
           "Positive",
           "Ja idąc na informatyke 3 nie znałęm prawie w ogóle jezyka C no i to nie jest kurs dla takich ludzi - doktor zakłada że wszyscy wiedza co to jest i że rozumieja każde jego skomplikowane słowo ! ! !"
          ],
          [
           "Positive",
           "Positive",
           "Wyjątkowo miły człowiek , nieco zestresowany obecnością świata i ludzi , ale jakoś sobie radzi - patrzenie w podłogę podobno pomaga ."
          ],
          [
           "Neutral",
           "Positive",
           "Ogólnie BwE to pikuś 8 )"
          ],
          [
           "Negative",
           "Positive",
           "Bateria posiada jedynie ładny design . Wysokość baterii to ok 30 cm . , przeciętna głębokość zlewozmywaka to ok 20cm . Woda wypływając z baterii i spadając z wysokości 1 / 2 metra powoduje , iż chcąc opłukać talerz lub umyć ręce bierzemy również prysznic ! Zachlapane są szafki i wszystko w około . Zadzwoniła m do handlowca firmy Blanco i poprosiła m o radę , ale podał jedynie telefon do serwisanta , który kazał przykręcić ciśnienie wody . Poza tym próbował tłumaczyć iż baterie są przystosowane do zlewozmywaków BLANCO i gdyby m kupiła zlew Blanco nie było by problemu . Sitko w zlewie Blanco jest tak ustawione , iż jak nakierujemy na nie wylewkę baterii to woda się nie rozchlapuje . Ale kto używając zlewozmywaka myśli o tym aby skierować wylewkę zawsze w stronę sitka ? ? ? ? ? Chyba ten kto nic w kuchni nie robi ! ! Tak więc przestrzegam przed wszystkimi bateriami tego typu firmy Blanco i nie tylko . Porażka i totalny niewypał !"
          ],
          [
           "Neutral",
           "Positive",
           "Trzeba napisac 2 kolokwia , zdazaja sie rzadko kartkowki ."
          ],
          [
           "Neutral",
           "Positive",
           "Koła do zdania , choć łatwe nie są ."
          ],
          [
           "Neutral",
           "Positive",
           "Jeśli chodzi o wykład na WEMiF - ie ludzie chyba nie mają wyboru - chyba tylko dr Juszkiewicz wykłada ."
          ],
          [
           "Negative",
           "Positive",
           "uważam że pisanie opinii o czymś co jest rewelacyjne nie do końca ma sens , więc chciała by m napisać o wadzie tej zmywarki . Mam BOSCHA po raz pierwszy i przyznam że daleko mu do Whirpoola którego mialam wczesniej . Przede wszystkim brakuje kontrolki że zakończyło się mycie . Jeżeli jestem poza domem i nie usłyszała m końcowego sygnału to nie wiadomo że mycie jest już skończone . Tak samo nie wiadomo jaki jest etap . Czasem zdarza jej się nie wypluć tabletki i garniki są brudne . no i niestety w porównaniu z Whirpoolem przegrywa w kategorii ciasno ułożone garnki whirpool radził sobie świetnie , najwyraźniej miał lepsze ciśnienie wody . U Boscha to mocno kuleje . Chcąc upchać na maxa - muszę domywać ręcznie . Prowadnice na dole nie są precyzyjne wykonane i kosz dolny po całkowitym wysunieciu zawsze spada . To w Whirpoolu nie miało miejsca bo prowadnice miały kontuynuacje na drzwiczkach ."
          ],
          [
           "Negative",
           "Positive",
           "Muszę się przyznać , że bardzo nudził em się na wykładzie u Pana Michała . . . dlatego na przerwie wybył em i więcej się tam nie pojawił em ."
          ],
          [
           "Negative",
           "Positive",
           "O zgrozo ."
          ],
          [
           "Neutral",
           "Positive",
           "Nie wiem czy mozna z nich sie czegos nauczyc , nie majac wczesniej styku z pp , ale mi troche rzeczy w glowie sie rozjasnilo ; ) Tylko to mazanie po foliach . . . : ?"
          ],
          [
           "Positive",
           "Positive",
           "Pytania raczej proste , nie bylo az tak trudno zaliczyc ."
          ],
          [
           "Neutral",
           "Positive",
           "Projekt nie musi być specjalnie rozbudowany , ma ładnie wyglądać , mieć elegancką zrobioną dokumentację , i mają się pokazywać ładne wykresy ."
          ],
          [
           "Positive",
           "Positive",
           "algebra z geom . analityczna 1 polecam miał em z nim wykłady , bardzo fajny z podejsciem student tez czlowiek , czasami sie myli ale przyznale sie do bledow ."
          ],
          [
           "Positive",
           "Positive",
           "Tak Podstawa oceny w indeksie : egzamin Niespodziewajki : brak ( zadania powtarzają się co roku ) Poczucie humorupane pokłady Ogólne podejście do studenta : pozytywne Zerowy termin jest najprostszy ( 3 zadania ) - warunkiem przystąpienia jest jednak zaliczenie projektu u dr ."
          ],
          [
           "Neutral",
           "Positive",
           "Raczej nie ma na co narzekać , choć i bez rewelacji"
          ]
         ],
         "hovertemplate": "Predicted Label=%{customdata[1]}<br>TSNE-1=%{x}<br>TSNE-2=%{y}<br>True Label=%{customdata[0]}<br>Text=%{customdata[2]}<extra></extra>",
         "legendgroup": "Positive",
         "marker": {
          "color": "green",
          "symbol": "circle"
         },
         "mode": "markers",
         "name": "Positive",
         "orientation": "v",
         "showlegend": true,
         "type": "scatter",
         "x": [
          -0.05011922,
          1.2070897,
          -0.8293973,
          -1.2250266,
          0.747903,
          0.12612253,
          -0.32117724,
          0.28755727,
          0.0060472563,
          -1.1257211,
          0.96063113,
          -1.0361853,
          -0.89807963,
          -0.42761305,
          -0.52377903,
          0.89322025,
          0.09704691,
          0.13720852,
          -0.4672556,
          0.41519898,
          -0.694522,
          -1.523237,
          -0.17142929,
          -0.09117559,
          -0.5221638,
          -1.0078847,
          0.13349172,
          -0.0029632747,
          -0.4209013,
          -1.2319715,
          -1.023013,
          -0.42802298
         ],
         "xaxis": "x",
         "y": [
          0.39971536,
          -0.12153226,
          -0.9194777,
          -0.26923865,
          -0.4760984,
          -0.49552104,
          -1.0039064,
          -1.0724479,
          -0.613895,
          0.5589551,
          -0.2048935,
          -0.9154815,
          -0.16828737,
          -0.38817164,
          -0.7293352,
          -1.9563236,
          -1.0069427,
          0.08369346,
          -0.6936035,
          0.0048209727,
          -1.713736,
          -0.568647,
          -0.41803542,
          0.21209246,
          -0.19963515,
          -2.1561224,
          -1.9808265,
          -1.9822025,
          -0.016402483,
          -0.8580106,
          -0.03098198,
          0.006184101
         ],
         "yaxis": "y"
        }
       ],
       "layout": {
        "height": 600,
        "legend": {
         "title": {
          "text": "Predicted Label"
         },
         "tracegroupgap": 0
        },
        "template": {
         "data": {
          "bar": [
           {
            "error_x": {
             "color": "#2a3f5f"
            },
            "error_y": {
             "color": "#2a3f5f"
            },
            "marker": {
             "line": {
              "color": "#E5ECF6",
              "width": 0.5
             },
             "pattern": {
              "fillmode": "overlay",
              "size": 10,
              "solidity": 0.2
             }
            },
            "type": "bar"
           }
          ],
          "barpolar": [
           {
            "marker": {
             "line": {
              "color": "#E5ECF6",
              "width": 0.5
             },
             "pattern": {
              "fillmode": "overlay",
              "size": 10,
              "solidity": 0.2
             }
            },
            "type": "barpolar"
           }
          ],
          "carpet": [
           {
            "aaxis": {
             "endlinecolor": "#2a3f5f",
             "gridcolor": "white",
             "linecolor": "white",
             "minorgridcolor": "white",
             "startlinecolor": "#2a3f5f"
            },
            "baxis": {
             "endlinecolor": "#2a3f5f",
             "gridcolor": "white",
             "linecolor": "white",
             "minorgridcolor": "white",
             "startlinecolor": "#2a3f5f"
            },
            "type": "carpet"
           }
          ],
          "choropleth": [
           {
            "colorbar": {
             "outlinewidth": 0,
             "ticks": ""
            },
            "type": "choropleth"
           }
          ],
          "contour": [
           {
            "colorbar": {
             "outlinewidth": 0,
             "ticks": ""
            },
            "colorscale": [
             [
              0,
              "#0d0887"
             ],
             [
              0.1111111111111111,
              "#46039f"
             ],
             [
              0.2222222222222222,
              "#7201a8"
             ],
             [
              0.3333333333333333,
              "#9c179e"
             ],
             [
              0.4444444444444444,
              "#bd3786"
             ],
             [
              0.5555555555555556,
              "#d8576b"
             ],
             [
              0.6666666666666666,
              "#ed7953"
             ],
             [
              0.7777777777777778,
              "#fb9f3a"
             ],
             [
              0.8888888888888888,
              "#fdca26"
             ],
             [
              1,
              "#f0f921"
             ]
            ],
            "type": "contour"
           }
          ],
          "contourcarpet": [
           {
            "colorbar": {
             "outlinewidth": 0,
             "ticks": ""
            },
            "type": "contourcarpet"
           }
          ],
          "heatmap": [
           {
            "colorbar": {
             "outlinewidth": 0,
             "ticks": ""
            },
            "colorscale": [
             [
              0,
              "#0d0887"
             ],
             [
              0.1111111111111111,
              "#46039f"
             ],
             [
              0.2222222222222222,
              "#7201a8"
             ],
             [
              0.3333333333333333,
              "#9c179e"
             ],
             [
              0.4444444444444444,
              "#bd3786"
             ],
             [
              0.5555555555555556,
              "#d8576b"
             ],
             [
              0.6666666666666666,
              "#ed7953"
             ],
             [
              0.7777777777777778,
              "#fb9f3a"
             ],
             [
              0.8888888888888888,
              "#fdca26"
             ],
             [
              1,
              "#f0f921"
             ]
            ],
            "type": "heatmap"
           }
          ],
          "heatmapgl": [
           {
            "colorbar": {
             "outlinewidth": 0,
             "ticks": ""
            },
            "colorscale": [
             [
              0,
              "#0d0887"
             ],
             [
              0.1111111111111111,
              "#46039f"
             ],
             [
              0.2222222222222222,
              "#7201a8"
             ],
             [
              0.3333333333333333,
              "#9c179e"
             ],
             [
              0.4444444444444444,
              "#bd3786"
             ],
             [
              0.5555555555555556,
              "#d8576b"
             ],
             [
              0.6666666666666666,
              "#ed7953"
             ],
             [
              0.7777777777777778,
              "#fb9f3a"
             ],
             [
              0.8888888888888888,
              "#fdca26"
             ],
             [
              1,
              "#f0f921"
             ]
            ],
            "type": "heatmapgl"
           }
          ],
          "histogram": [
           {
            "marker": {
             "pattern": {
              "fillmode": "overlay",
              "size": 10,
              "solidity": 0.2
             }
            },
            "type": "histogram"
           }
          ],
          "histogram2d": [
           {
            "colorbar": {
             "outlinewidth": 0,
             "ticks": ""
            },
            "colorscale": [
             [
              0,
              "#0d0887"
             ],
             [
              0.1111111111111111,
              "#46039f"
             ],
             [
              0.2222222222222222,
              "#7201a8"
             ],
             [
              0.3333333333333333,
              "#9c179e"
             ],
             [
              0.4444444444444444,
              "#bd3786"
             ],
             [
              0.5555555555555556,
              "#d8576b"
             ],
             [
              0.6666666666666666,
              "#ed7953"
             ],
             [
              0.7777777777777778,
              "#fb9f3a"
             ],
             [
              0.8888888888888888,
              "#fdca26"
             ],
             [
              1,
              "#f0f921"
             ]
            ],
            "type": "histogram2d"
           }
          ],
          "histogram2dcontour": [
           {
            "colorbar": {
             "outlinewidth": 0,
             "ticks": ""
            },
            "colorscale": [
             [
              0,
              "#0d0887"
             ],
             [
              0.1111111111111111,
              "#46039f"
             ],
             [
              0.2222222222222222,
              "#7201a8"
             ],
             [
              0.3333333333333333,
              "#9c179e"
             ],
             [
              0.4444444444444444,
              "#bd3786"
             ],
             [
              0.5555555555555556,
              "#d8576b"
             ],
             [
              0.6666666666666666,
              "#ed7953"
             ],
             [
              0.7777777777777778,
              "#fb9f3a"
             ],
             [
              0.8888888888888888,
              "#fdca26"
             ],
             [
              1,
              "#f0f921"
             ]
            ],
            "type": "histogram2dcontour"
           }
          ],
          "mesh3d": [
           {
            "colorbar": {
             "outlinewidth": 0,
             "ticks": ""
            },
            "type": "mesh3d"
           }
          ],
          "parcoords": [
           {
            "line": {
             "colorbar": {
              "outlinewidth": 0,
              "ticks": ""
             }
            },
            "type": "parcoords"
           }
          ],
          "pie": [
           {
            "automargin": true,
            "type": "pie"
           }
          ],
          "scatter": [
           {
            "fillpattern": {
             "fillmode": "overlay",
             "size": 10,
             "solidity": 0.2
            },
            "type": "scatter"
           }
          ],
          "scatter3d": [
           {
            "line": {
             "colorbar": {
              "outlinewidth": 0,
              "ticks": ""
             }
            },
            "marker": {
             "colorbar": {
              "outlinewidth": 0,
              "ticks": ""
             }
            },
            "type": "scatter3d"
           }
          ],
          "scattercarpet": [
           {
            "marker": {
             "colorbar": {
              "outlinewidth": 0,
              "ticks": ""
             }
            },
            "type": "scattercarpet"
           }
          ],
          "scattergeo": [
           {
            "marker": {
             "colorbar": {
              "outlinewidth": 0,
              "ticks": ""
             }
            },
            "type": "scattergeo"
           }
          ],
          "scattergl": [
           {
            "marker": {
             "colorbar": {
              "outlinewidth": 0,
              "ticks": ""
             }
            },
            "type": "scattergl"
           }
          ],
          "scattermapbox": [
           {
            "marker": {
             "colorbar": {
              "outlinewidth": 0,
              "ticks": ""
             }
            },
            "type": "scattermapbox"
           }
          ],
          "scatterpolar": [
           {
            "marker": {
             "colorbar": {
              "outlinewidth": 0,
              "ticks": ""
             }
            },
            "type": "scatterpolar"
           }
          ],
          "scatterpolargl": [
           {
            "marker": {
             "colorbar": {
              "outlinewidth": 0,
              "ticks": ""
             }
            },
            "type": "scatterpolargl"
           }
          ],
          "scatterternary": [
           {
            "marker": {
             "colorbar": {
              "outlinewidth": 0,
              "ticks": ""
             }
            },
            "type": "scatterternary"
           }
          ],
          "surface": [
           {
            "colorbar": {
             "outlinewidth": 0,
             "ticks": ""
            },
            "colorscale": [
             [
              0,
              "#0d0887"
             ],
             [
              0.1111111111111111,
              "#46039f"
             ],
             [
              0.2222222222222222,
              "#7201a8"
             ],
             [
              0.3333333333333333,
              "#9c179e"
             ],
             [
              0.4444444444444444,
              "#bd3786"
             ],
             [
              0.5555555555555556,
              "#d8576b"
             ],
             [
              0.6666666666666666,
              "#ed7953"
             ],
             [
              0.7777777777777778,
              "#fb9f3a"
             ],
             [
              0.8888888888888888,
              "#fdca26"
             ],
             [
              1,
              "#f0f921"
             ]
            ],
            "type": "surface"
           }
          ],
          "table": [
           {
            "cells": {
             "fill": {
              "color": "#EBF0F8"
             },
             "line": {
              "color": "white"
             }
            },
            "header": {
             "fill": {
              "color": "#C8D4E3"
             },
             "line": {
              "color": "white"
             }
            },
            "type": "table"
           }
          ]
         },
         "layout": {
          "annotationdefaults": {
           "arrowcolor": "#2a3f5f",
           "arrowhead": 0,
           "arrowwidth": 1
          },
          "autotypenumbers": "strict",
          "coloraxis": {
           "colorbar": {
            "outlinewidth": 0,
            "ticks": ""
           }
          },
          "colorscale": {
           "diverging": [
            [
             0,
             "#8e0152"
            ],
            [
             0.1,
             "#c51b7d"
            ],
            [
             0.2,
             "#de77ae"
            ],
            [
             0.3,
             "#f1b6da"
            ],
            [
             0.4,
             "#fde0ef"
            ],
            [
             0.5,
             "#f7f7f7"
            ],
            [
             0.6,
             "#e6f5d0"
            ],
            [
             0.7,
             "#b8e186"
            ],
            [
             0.8,
             "#7fbc41"
            ],
            [
             0.9,
             "#4d9221"
            ],
            [
             1,
             "#276419"
            ]
           ],
           "sequential": [
            [
             0,
             "#0d0887"
            ],
            [
             0.1111111111111111,
             "#46039f"
            ],
            [
             0.2222222222222222,
             "#7201a8"
            ],
            [
             0.3333333333333333,
             "#9c179e"
            ],
            [
             0.4444444444444444,
             "#bd3786"
            ],
            [
             0.5555555555555556,
             "#d8576b"
            ],
            [
             0.6666666666666666,
             "#ed7953"
            ],
            [
             0.7777777777777778,
             "#fb9f3a"
            ],
            [
             0.8888888888888888,
             "#fdca26"
            ],
            [
             1,
             "#f0f921"
            ]
           ],
           "sequentialminus": [
            [
             0,
             "#0d0887"
            ],
            [
             0.1111111111111111,
             "#46039f"
            ],
            [
             0.2222222222222222,
             "#7201a8"
            ],
            [
             0.3333333333333333,
             "#9c179e"
            ],
            [
             0.4444444444444444,
             "#bd3786"
            ],
            [
             0.5555555555555556,
             "#d8576b"
            ],
            [
             0.6666666666666666,
             "#ed7953"
            ],
            [
             0.7777777777777778,
             "#fb9f3a"
            ],
            [
             0.8888888888888888,
             "#fdca26"
            ],
            [
             1,
             "#f0f921"
            ]
           ]
          },
          "colorway": [
           "#636efa",
           "#EF553B",
           "#00cc96",
           "#ab63fa",
           "#FFA15A",
           "#19d3f3",
           "#FF6692",
           "#B6E880",
           "#FF97FF",
           "#FECB52"
          ],
          "font": {
           "color": "#2a3f5f"
          },
          "geo": {
           "bgcolor": "white",
           "lakecolor": "white",
           "landcolor": "#E5ECF6",
           "showlakes": true,
           "showland": true,
           "subunitcolor": "white"
          },
          "hoverlabel": {
           "align": "left"
          },
          "hovermode": "closest",
          "mapbox": {
           "style": "light"
          },
          "paper_bgcolor": "white",
          "plot_bgcolor": "#E5ECF6",
          "polar": {
           "angularaxis": {
            "gridcolor": "white",
            "linecolor": "white",
            "ticks": ""
           },
           "bgcolor": "#E5ECF6",
           "radialaxis": {
            "gridcolor": "white",
            "linecolor": "white",
            "ticks": ""
           }
          },
          "scene": {
           "xaxis": {
            "backgroundcolor": "#E5ECF6",
            "gridcolor": "white",
            "gridwidth": 2,
            "linecolor": "white",
            "showbackground": true,
            "ticks": "",
            "zerolinecolor": "white"
           },
           "yaxis": {
            "backgroundcolor": "#E5ECF6",
            "gridcolor": "white",
            "gridwidth": 2,
            "linecolor": "white",
            "showbackground": true,
            "ticks": "",
            "zerolinecolor": "white"
           },
           "zaxis": {
            "backgroundcolor": "#E5ECF6",
            "gridcolor": "white",
            "gridwidth": 2,
            "linecolor": "white",
            "showbackground": true,
            "ticks": "",
            "zerolinecolor": "white"
           }
          },
          "shapedefaults": {
           "line": {
            "color": "#2a3f5f"
           }
          },
          "ternary": {
           "aaxis": {
            "gridcolor": "white",
            "linecolor": "white",
            "ticks": ""
           },
           "baxis": {
            "gridcolor": "white",
            "linecolor": "white",
            "ticks": ""
           },
           "bgcolor": "#E5ECF6",
           "caxis": {
            "gridcolor": "white",
            "linecolor": "white",
            "ticks": ""
           }
          },
          "title": {
           "x": 0.05
          },
          "xaxis": {
           "automargin": true,
           "gridcolor": "white",
           "linecolor": "white",
           "ticks": "",
           "title": {
            "standoff": 15
           },
           "zerolinecolor": "white",
           "zerolinewidth": 2
          },
          "yaxis": {
           "automargin": true,
           "gridcolor": "white",
           "linecolor": "white",
           "ticks": "",
           "title": {
            "standoff": 15
           },
           "zerolinecolor": "white",
           "zerolinewidth": 2
          }
         }
        },
        "title": {
         "text": "Przestrzeń Wektorowa Testowych Przypadków (Kolor: Przewidywane Etykiety)"
        },
        "width": 1200,
        "xaxis": {
         "anchor": "y",
         "domain": [
          0,
          1
         ],
         "title": {
          "text": "TSNE-1"
         }
        },
        "yaxis": {
         "anchor": "x",
         "domain": [
          0,
          1
         ],
         "title": {
          "text": "TSNE-2"
         }
        }
       }
      }
     },
     "metadata": {},
     "output_type": "display_data"
    },
    {
     "data": {
      "application/vnd.plotly.v1+json": {
       "config": {
        "plotlyServerURL": "https://plot.ly"
       },
       "data": [
        {
         "customdata": [
          [
           "Neutral",
           "Neutral",
           "Jesli sluchasz go na zajeciach i zrobisz w domu ze 2 zadanka , to powinienes bez problemow zaliczyc ."
          ],
          [
           "Positive",
           "Positive",
           "Z zaliczeniem nie ma raczej problemu ."
          ],
          [
           "Neutral",
           "Neutral",
           "Zadania na egzaminie do latwych nie naleza , ale ukladaja je pracownicy IM , wiec czego mozna sie spodziewac : ) OCENA OGÓLNA : ŚREDNIO NA JEŻA"
          ],
          [
           "Positive",
           "Positive",
           "Dba o to by każdy się na zajęciach odezwał , ale jeśli ktoś czegoś nie potrafi - nie gnębi , pomaga ."
          ],
          [
           "Positive",
           "Positive",
           "Wprost chciało się do niego przychodzić ."
          ],
          [
           "Positive",
           "Positive",
           "Ale na egzaminie natomiast jest łatwiej ."
          ],
          [
           "Positive",
           "Positive",
           "Pan Gańcza jest osobą bardzo dobrą jako nauczyciel dla początkujących . . . nie rozumiem wogóle powyższych komentarzy jeśli chodzi o \" wiel k"
          ],
          [
           "Positive",
           "Positive",
           "Lepiej nie mogł eś trafić ."
          ],
          [
           "Positive",
           "Positive",
           "Jeśli masz więcej odróbek ( a jest jakiś ważny powód ) można się było z prowadzącą zajęcia dogadać ."
          ],
          [
           "Neutral",
           "Neutral",
           "Ćwiczenia . . . tutaj warto być przygotowanym i błyskać na każdych zajęciach tak żeby Cię zapamiętał ."
          ],
          [
           "Positive",
           "Positive",
           "Wyjątkowo miły człowiek , nieco zestresowany obecnością świata i ludzi , ale jakoś sobie radzi - patrzenie w podłogę podobno pomaga ."
          ],
          [
           "Neutral",
           "Neutral",
           "Był em na jej zajęciach w 100 % , starał em się jak mogł em by nadgonić grupę gdyż nie zdawał em matury z anglika a znalazł em się na B 1 ."
          ],
          [
           "Positive",
           "Positive",
           "Pytania raczej proste , nie bylo az tak trudno zaliczyc ."
          ],
          [
           "Positive",
           "Positive",
           "algebra z geom . analityczna 1 polecam miał em z nim wykłady , bardzo fajny z podejsciem student tez czlowiek , czasami sie myli ale przyznale sie do bledow ."
          ],
          [
           "Positive",
           "Positive",
           "Tak Podstawa oceny w indeksie : egzamin Niespodziewajki : brak ( zadania powtarzają się co roku ) Poczucie humorupane pokłady Ogólne podejście do studenta : pozytywne Zerowy termin jest najprostszy ( 3 zadania ) - warunkiem przystąpienia jest jednak zaliczenie projektu u dr ."
          ],
          [
           "Neutral",
           "Neutral",
           "Dr A . T . KOWAL Chemia nieorganiczna II - ćwiczenia Ocena : pozytywna [ / b ] Specyficzny sposób prowadzenia zajęć . . . ."
          ]
         ],
         "hovertemplate": "Correct=True<br>TSNE-1=%{x}<br>TSNE-2=%{y}<br>True Label=%{customdata[0]}<br>Predicted Label=%{customdata[1]}<br>Text=%{customdata[2]}<extra></extra>",
         "legendgroup": "True",
         "marker": {
          "color": "#ab63fa",
          "symbol": "circle"
         },
         "mode": "markers",
         "name": "True",
         "orientation": "v",
         "showlegend": true,
         "type": "scatter",
         "x": [
          0.2933715,
          -0.8293973,
          -1.398847,
          0.12612253,
          0.0060472563,
          -1.1257211,
          -1.0361853,
          -0.89807963,
          -0.42761305,
          0.06091699,
          0.13720852,
          -1.3188678,
          -0.0029632747,
          -1.2319715,
          -1.023013,
          -0.35159698
         ],
         "xaxis": "x",
         "y": [
          -2.089771,
          -0.9194777,
          0.4661829,
          -0.49552104,
          -0.613895,
          0.5589551,
          -0.9154815,
          -0.16828737,
          -0.38817164,
          0.88063616,
          0.08369346,
          0.37745106,
          -1.9822025,
          -0.8580106,
          -0.03098198,
          1.353832
         ],
         "yaxis": "y"
        },
        {
         "customdata": [
          [
           "Negative",
           "Positive",
           "Gdy je poprawiasz i przynosisz następnym razem , wyszukuje Ci kolejne błedy , a to co poprawił eś na dobrze , jest źle i miało być tak jak na poczatku ."
          ],
          [
           "Negative",
           "Positive",
           "UWAGA !"
          ],
          [
           "Neutral",
           "Positive",
           "Mało wytłumaczy , ale cały czas pyta czy wszyscy rozumieją , jeżeli on też rozumie dany dział to bedzie tłumaczył aż wszyscy nie potwierdza że zrozumilei : ) Koła raczej trudniejsze , ale można zawsze liczyć na dopytke na koniec ( a to mało kto niezdaje ) Mimo swoich wad jest ciekawą postacia , i czesto sie zagłebia na wykładzie w tematy \""
          ],
          [
           "Neutral",
           "Positive",
           "Pytania podczas laborki potrafią byc ciężkie , można wylecieć na sam koniec laboratorium , ale z reguły 3 , może 4 grupy bedą zapytane podczas całych zajęć ."
          ],
          [
           "Positive",
           "Neutral",
           "Miał em przyjemność mieć z tą panią wykład !"
          ],
          [
           "Negative",
           "Positive",
           "Na każdej laborce kartkówka , teraz moge stwierdzić że może nie były aż takie trudne , ale zaliczył em jedną na 5 czy 6 . . . po prostu jeżeli nigdy przedtem nie miał eś do czynienia z językiem C to naprawde jest trudno ."
          ],
          [
           "Negative",
           "Positive",
           "Pan Biernacki prowadzi laborki naprawde dziwnie , po łebkach , bez zaangażowania , i co najważniejsze - niezrozumiale . . . powtórze jeszcze raz : niezrozumiale !"
          ],
          [
           "Neutral",
           "Positive",
           "Pilot funkcjonalnie pierwsza klasa , można dosłownie wszystkim sterować , ogromna baza sprzętu , możliwość dowolnego konfigurowania , super wygląd , podświetlenie klawiszy , auto - wyłączanie ekranu . Niestety sama jakość wykonania pozostawia wiele do życzenia . Konkretnie klawisze które po roku użytkowania zacinają się . Pierwszy egzemplarz po roku został wymieniony na nowy , drugi właśnie tez ma identyczny problem z klawiszami . Niestety rozebrać go nie idzie bo próbował em na starym , a wystarczyło by wyczyścić gumki lub wymienić styki węglowe . Mam w domu piloty od sprzętu audio które mają po kilkanaście lat i działają bez zarzutu do dzisiaj ."
          ],
          [
           "Negative",
           "Neutral",
           "Grill ma wadę , dużą , z którą niestety żył em 3 lata . Tłuszcz zamiast skapywać w całości do dołączonej miseczki , spływał pod płytę grzewczą , zawsze po grillowaniu , musiałem go postawić w pionie i patrzeć jak wylewa się to na blat . Nie wiem czy Philips tego nie przemyślał , nie sprawdził , ale jest to tragiczne niedopatrzenie . Kilka dni temu grill odmówił posłuszeństwa . Nie grzeje . Pokrętło do do ustawiania temperatury odmówiło z rok temu , przestało mieć grzechotkę , ale nie przeszkadzało to w użytkowaniu . Za minus uważam też brak możliwości dokupienia samych płyt teflonowych , choćby w cenie połowy grilla . Zdecydowanie nie polecam i nie kupię grilla Philipsa , a w przypadku awarii , muszę kupić nowego ."
          ],
          [
           "Neutral",
           "Positive",
           "Przyłapanie na ściąganiu to 2.0 z danej pracy ."
          ],
          [
           "Neutral",
           "Positive",
           "Jest piec kartkowek / wejsciowek , ktore sa podstawa zaliczenia ."
          ],
          [
           "Negative",
           "Positive",
           "Ja idąc na informatyke 3 nie znałęm prawie w ogóle jezyka C no i to nie jest kurs dla takich ludzi - doktor zakłada że wszyscy wiedza co to jest i że rozumieja każde jego skomplikowane słowo ! ! !"
          ],
          [
           "Neutral",
           "Positive",
           "Ogólnie BwE to pikuś 8 )"
          ],
          [
           "Negative",
           "Positive",
           "Bateria posiada jedynie ładny design . Wysokość baterii to ok 30 cm . , przeciętna głębokość zlewozmywaka to ok 20cm . Woda wypływając z baterii i spadając z wysokości 1 / 2 metra powoduje , iż chcąc opłukać talerz lub umyć ręce bierzemy również prysznic ! Zachlapane są szafki i wszystko w około . Zadzwoniła m do handlowca firmy Blanco i poprosiła m o radę , ale podał jedynie telefon do serwisanta , który kazał przykręcić ciśnienie wody . Poza tym próbował tłumaczyć iż baterie są przystosowane do zlewozmywaków BLANCO i gdyby m kupiła zlew Blanco nie było by problemu . Sitko w zlewie Blanco jest tak ustawione , iż jak nakierujemy na nie wylewkę baterii to woda się nie rozchlapuje . Ale kto używając zlewozmywaka myśli o tym aby skierować wylewkę zawsze w stronę sitka ? ? ? ? ? Chyba ten kto nic w kuchni nie robi ! ! Tak więc przestrzegam przed wszystkimi bateriami tego typu firmy Blanco i nie tylko . Porażka i totalny niewypał !"
          ],
          [
           "Negative",
           "Neutral",
           "Jestem świeżo po zakupie Marantza 611 . Urządzenie bardzo dobrze odtwarza płyty CD . Gorzej jest z nośnikami USB . Nośniki czytane są długo i dźwięk jest słyszalnie uboższy pomimo odtwarzania plików FLAC . Jednak kompletna porażka to wieszanie się urządzenia jeśli zaczynamy słuchać stacji z radia cyfrowego DAB + . Sytuacja jest powtarzalna po dodaniu stacji dwóch DAB + do ulubionych i próbie przełączania się między nimi następuje zawieszenie urządzenia , dokładniej odtwarzania dźwięku . Przywrócenie odtwarzania dziwięku jest możliwe po wybraniu stacji FM do odtwarzania . Drugą kwestią jest włączanie się samo z siebie urządzenia . Czyli śpisz sobie a ono się włącza . Wyłączasz . Za 2h jest to samo . Jeśli do tego dodamy głęboko rozczarowującą scenę dżwiękową dla nośników USB lepiej kupić coś tańszego nawet jeśli będzie miało te same wady ."
          ],
          [
           "Neutral",
           "Positive",
           "Trzeba napisac 2 kolokwia , zdazaja sie rzadko kartkowki ."
          ],
          [
           "Neutral",
           "Positive",
           "Koła do zdania , choć łatwe nie są ."
          ],
          [
           "Neutral",
           "Positive",
           "Jeśli chodzi o wykład na WEMiF - ie ludzie chyba nie mają wyboru - chyba tylko dr Juszkiewicz wykłada ."
          ],
          [
           "Negative",
           "Positive",
           "uważam że pisanie opinii o czymś co jest rewelacyjne nie do końca ma sens , więc chciała by m napisać o wadzie tej zmywarki . Mam BOSCHA po raz pierwszy i przyznam że daleko mu do Whirpoola którego mialam wczesniej . Przede wszystkim brakuje kontrolki że zakończyło się mycie . Jeżeli jestem poza domem i nie usłyszała m końcowego sygnału to nie wiadomo że mycie jest już skończone . Tak samo nie wiadomo jaki jest etap . Czasem zdarza jej się nie wypluć tabletki i garniki są brudne . no i niestety w porównaniu z Whirpoolem przegrywa w kategorii ciasno ułożone garnki whirpool radził sobie świetnie , najwyraźniej miał lepsze ciśnienie wody . U Boscha to mocno kuleje . Chcąc upchać na maxa - muszę domywać ręcznie . Prowadnice na dole nie są precyzyjne wykonane i kosz dolny po całkowitym wysunieciu zawsze spada . To w Whirpoolu nie miało miejsca bo prowadnice miały kontuynuacje na drzwiczkach ."
          ],
          [
           "Negative",
           "Positive",
           "Muszę się przyznać , że bardzo nudził em się na wykładzie u Pana Michała . . . dlatego na przerwie wybył em i więcej się tam nie pojawił em ."
          ],
          [
           "Negative",
           "Positive",
           "O zgrozo ."
          ],
          [
           "Neutral",
           "Positive",
           "Nie wiem czy mozna z nich sie czegos nauczyc , nie majac wczesniej styku z pp , ale mi troche rzeczy w glowie sie rozjasnilo ; ) Tylko to mazanie po foliach . . . : ?"
          ],
          [
           "Neutral",
           "Positive",
           "Projekt nie musi być specjalnie rozbudowany , ma ładnie wyglądać , mieć elegancką zrobioną dokumentację , i mają się pokazywać ładne wykresy ."
          ],
          [
           "Positive",
           "Neutral",
           "Uważam , że to najlepszy kitowy obiektyw na rynku . Wykonanie metal i bardzo dobrej jakości tworzywi . Pierścień przysłony chodzi z należytym oporem i skokiem . Wbudowana stabilizacja jest wydajna i naprawdę pomaga w wielu sytuacjach . Obiektyw bardzo ostry już od największego otworu przysłony . Celność bdb . To za co pochwalę go dodatkowo to szybki silnik autofokusa - używał em go na poczatku z dosyć mułowatym X - E1 , teraz , kiedy przesiadł em się na X - T1 to mogę tylko chwalić ! ! ! Ostatni plus to bardzo dobrze opracowany system uszczelnień - obiektyw , mimo , iż jest to zoom , w ogóle nie zasysa kurzu do środka ( miałem już wiele zoomów : Nikkory , Sigmy i tam był to problem ) . Polecam !"
          ],
          [
           "Neutral",
           "Positive",
           "Raczej nie ma na co narzekać , choć i bez rewelacji"
          ]
         ],
         "hovertemplate": "Correct=False<br>TSNE-1=%{x}<br>TSNE-2=%{y}<br>True Label=%{customdata[0]}<br>Predicted Label=%{customdata[1]}<br>Text=%{customdata[2]}<extra></extra>",
         "legendgroup": "False",
         "marker": {
          "color": "#FFA15A",
          "symbol": "diamond"
         },
         "mode": "markers",
         "name": "False",
         "orientation": "v",
         "showlegend": true,
         "type": "scatter",
         "x": [
          -0.05011922,
          1.2070897,
          -1.2250266,
          0.747903,
          -1.7429105,
          -0.32117724,
          0.28755727,
          0.96063113,
          0.5571064,
          -0.52377903,
          0.89322025,
          0.09704691,
          -0.4672556,
          0.41519898,
          -2.1196363,
          -0.694522,
          -1.523237,
          -0.17142929,
          -0.09117559,
          -0.5221638,
          -1.0078847,
          0.13349172,
          -0.4209013,
          0.22084056,
          -0.42802298
         ],
         "xaxis": "x",
         "y": [
          0.39971536,
          -0.12153226,
          -0.26923865,
          -0.4760984,
          -2.0459738,
          -1.0039064,
          -1.0724479,
          -0.2048935,
          -0.045050934,
          -0.7293352,
          -1.9563236,
          -1.0069427,
          -0.6936035,
          0.0048209727,
          -0.45580882,
          -1.713736,
          -0.568647,
          -0.41803542,
          0.21209246,
          -0.19963515,
          -2.1561224,
          -1.9808265,
          -0.016402483,
          0.96300954,
          0.006184101
         ],
         "yaxis": "y"
        }
       ],
       "layout": {
        "height": 600,
        "legend": {
         "title": {
          "text": "Correct"
         },
         "tracegroupgap": 0
        },
        "template": {
         "data": {
          "bar": [
           {
            "error_x": {
             "color": "#2a3f5f"
            },
            "error_y": {
             "color": "#2a3f5f"
            },
            "marker": {
             "line": {
              "color": "#E5ECF6",
              "width": 0.5
             },
             "pattern": {
              "fillmode": "overlay",
              "size": 10,
              "solidity": 0.2
             }
            },
            "type": "bar"
           }
          ],
          "barpolar": [
           {
            "marker": {
             "line": {
              "color": "#E5ECF6",
              "width": 0.5
             },
             "pattern": {
              "fillmode": "overlay",
              "size": 10,
              "solidity": 0.2
             }
            },
            "type": "barpolar"
           }
          ],
          "carpet": [
           {
            "aaxis": {
             "endlinecolor": "#2a3f5f",
             "gridcolor": "white",
             "linecolor": "white",
             "minorgridcolor": "white",
             "startlinecolor": "#2a3f5f"
            },
            "baxis": {
             "endlinecolor": "#2a3f5f",
             "gridcolor": "white",
             "linecolor": "white",
             "minorgridcolor": "white",
             "startlinecolor": "#2a3f5f"
            },
            "type": "carpet"
           }
          ],
          "choropleth": [
           {
            "colorbar": {
             "outlinewidth": 0,
             "ticks": ""
            },
            "type": "choropleth"
           }
          ],
          "contour": [
           {
            "colorbar": {
             "outlinewidth": 0,
             "ticks": ""
            },
            "colorscale": [
             [
              0,
              "#0d0887"
             ],
             [
              0.1111111111111111,
              "#46039f"
             ],
             [
              0.2222222222222222,
              "#7201a8"
             ],
             [
              0.3333333333333333,
              "#9c179e"
             ],
             [
              0.4444444444444444,
              "#bd3786"
             ],
             [
              0.5555555555555556,
              "#d8576b"
             ],
             [
              0.6666666666666666,
              "#ed7953"
             ],
             [
              0.7777777777777778,
              "#fb9f3a"
             ],
             [
              0.8888888888888888,
              "#fdca26"
             ],
             [
              1,
              "#f0f921"
             ]
            ],
            "type": "contour"
           }
          ],
          "contourcarpet": [
           {
            "colorbar": {
             "outlinewidth": 0,
             "ticks": ""
            },
            "type": "contourcarpet"
           }
          ],
          "heatmap": [
           {
            "colorbar": {
             "outlinewidth": 0,
             "ticks": ""
            },
            "colorscale": [
             [
              0,
              "#0d0887"
             ],
             [
              0.1111111111111111,
              "#46039f"
             ],
             [
              0.2222222222222222,
              "#7201a8"
             ],
             [
              0.3333333333333333,
              "#9c179e"
             ],
             [
              0.4444444444444444,
              "#bd3786"
             ],
             [
              0.5555555555555556,
              "#d8576b"
             ],
             [
              0.6666666666666666,
              "#ed7953"
             ],
             [
              0.7777777777777778,
              "#fb9f3a"
             ],
             [
              0.8888888888888888,
              "#fdca26"
             ],
             [
              1,
              "#f0f921"
             ]
            ],
            "type": "heatmap"
           }
          ],
          "heatmapgl": [
           {
            "colorbar": {
             "outlinewidth": 0,
             "ticks": ""
            },
            "colorscale": [
             [
              0,
              "#0d0887"
             ],
             [
              0.1111111111111111,
              "#46039f"
             ],
             [
              0.2222222222222222,
              "#7201a8"
             ],
             [
              0.3333333333333333,
              "#9c179e"
             ],
             [
              0.4444444444444444,
              "#bd3786"
             ],
             [
              0.5555555555555556,
              "#d8576b"
             ],
             [
              0.6666666666666666,
              "#ed7953"
             ],
             [
              0.7777777777777778,
              "#fb9f3a"
             ],
             [
              0.8888888888888888,
              "#fdca26"
             ],
             [
              1,
              "#f0f921"
             ]
            ],
            "type": "heatmapgl"
           }
          ],
          "histogram": [
           {
            "marker": {
             "pattern": {
              "fillmode": "overlay",
              "size": 10,
              "solidity": 0.2
             }
            },
            "type": "histogram"
           }
          ],
          "histogram2d": [
           {
            "colorbar": {
             "outlinewidth": 0,
             "ticks": ""
            },
            "colorscale": [
             [
              0,
              "#0d0887"
             ],
             [
              0.1111111111111111,
              "#46039f"
             ],
             [
              0.2222222222222222,
              "#7201a8"
             ],
             [
              0.3333333333333333,
              "#9c179e"
             ],
             [
              0.4444444444444444,
              "#bd3786"
             ],
             [
              0.5555555555555556,
              "#d8576b"
             ],
             [
              0.6666666666666666,
              "#ed7953"
             ],
             [
              0.7777777777777778,
              "#fb9f3a"
             ],
             [
              0.8888888888888888,
              "#fdca26"
             ],
             [
              1,
              "#f0f921"
             ]
            ],
            "type": "histogram2d"
           }
          ],
          "histogram2dcontour": [
           {
            "colorbar": {
             "outlinewidth": 0,
             "ticks": ""
            },
            "colorscale": [
             [
              0,
              "#0d0887"
             ],
             [
              0.1111111111111111,
              "#46039f"
             ],
             [
              0.2222222222222222,
              "#7201a8"
             ],
             [
              0.3333333333333333,
              "#9c179e"
             ],
             [
              0.4444444444444444,
              "#bd3786"
             ],
             [
              0.5555555555555556,
              "#d8576b"
             ],
             [
              0.6666666666666666,
              "#ed7953"
             ],
             [
              0.7777777777777778,
              "#fb9f3a"
             ],
             [
              0.8888888888888888,
              "#fdca26"
             ],
             [
              1,
              "#f0f921"
             ]
            ],
            "type": "histogram2dcontour"
           }
          ],
          "mesh3d": [
           {
            "colorbar": {
             "outlinewidth": 0,
             "ticks": ""
            },
            "type": "mesh3d"
           }
          ],
          "parcoords": [
           {
            "line": {
             "colorbar": {
              "outlinewidth": 0,
              "ticks": ""
             }
            },
            "type": "parcoords"
           }
          ],
          "pie": [
           {
            "automargin": true,
            "type": "pie"
           }
          ],
          "scatter": [
           {
            "fillpattern": {
             "fillmode": "overlay",
             "size": 10,
             "solidity": 0.2
            },
            "type": "scatter"
           }
          ],
          "scatter3d": [
           {
            "line": {
             "colorbar": {
              "outlinewidth": 0,
              "ticks": ""
             }
            },
            "marker": {
             "colorbar": {
              "outlinewidth": 0,
              "ticks": ""
             }
            },
            "type": "scatter3d"
           }
          ],
          "scattercarpet": [
           {
            "marker": {
             "colorbar": {
              "outlinewidth": 0,
              "ticks": ""
             }
            },
            "type": "scattercarpet"
           }
          ],
          "scattergeo": [
           {
            "marker": {
             "colorbar": {
              "outlinewidth": 0,
              "ticks": ""
             }
            },
            "type": "scattergeo"
           }
          ],
          "scattergl": [
           {
            "marker": {
             "colorbar": {
              "outlinewidth": 0,
              "ticks": ""
             }
            },
            "type": "scattergl"
           }
          ],
          "scattermapbox": [
           {
            "marker": {
             "colorbar": {
              "outlinewidth": 0,
              "ticks": ""
             }
            },
            "type": "scattermapbox"
           }
          ],
          "scatterpolar": [
           {
            "marker": {
             "colorbar": {
              "outlinewidth": 0,
              "ticks": ""
             }
            },
            "type": "scatterpolar"
           }
          ],
          "scatterpolargl": [
           {
            "marker": {
             "colorbar": {
              "outlinewidth": 0,
              "ticks": ""
             }
            },
            "type": "scatterpolargl"
           }
          ],
          "scatterternary": [
           {
            "marker": {
             "colorbar": {
              "outlinewidth": 0,
              "ticks": ""
             }
            },
            "type": "scatterternary"
           }
          ],
          "surface": [
           {
            "colorbar": {
             "outlinewidth": 0,
             "ticks": ""
            },
            "colorscale": [
             [
              0,
              "#0d0887"
             ],
             [
              0.1111111111111111,
              "#46039f"
             ],
             [
              0.2222222222222222,
              "#7201a8"
             ],
             [
              0.3333333333333333,
              "#9c179e"
             ],
             [
              0.4444444444444444,
              "#bd3786"
             ],
             [
              0.5555555555555556,
              "#d8576b"
             ],
             [
              0.6666666666666666,
              "#ed7953"
             ],
             [
              0.7777777777777778,
              "#fb9f3a"
             ],
             [
              0.8888888888888888,
              "#fdca26"
             ],
             [
              1,
              "#f0f921"
             ]
            ],
            "type": "surface"
           }
          ],
          "table": [
           {
            "cells": {
             "fill": {
              "color": "#EBF0F8"
             },
             "line": {
              "color": "white"
             }
            },
            "header": {
             "fill": {
              "color": "#C8D4E3"
             },
             "line": {
              "color": "white"
             }
            },
            "type": "table"
           }
          ]
         },
         "layout": {
          "annotationdefaults": {
           "arrowcolor": "#2a3f5f",
           "arrowhead": 0,
           "arrowwidth": 1
          },
          "autotypenumbers": "strict",
          "coloraxis": {
           "colorbar": {
            "outlinewidth": 0,
            "ticks": ""
           }
          },
          "colorscale": {
           "diverging": [
            [
             0,
             "#8e0152"
            ],
            [
             0.1,
             "#c51b7d"
            ],
            [
             0.2,
             "#de77ae"
            ],
            [
             0.3,
             "#f1b6da"
            ],
            [
             0.4,
             "#fde0ef"
            ],
            [
             0.5,
             "#f7f7f7"
            ],
            [
             0.6,
             "#e6f5d0"
            ],
            [
             0.7,
             "#b8e186"
            ],
            [
             0.8,
             "#7fbc41"
            ],
            [
             0.9,
             "#4d9221"
            ],
            [
             1,
             "#276419"
            ]
           ],
           "sequential": [
            [
             0,
             "#0d0887"
            ],
            [
             0.1111111111111111,
             "#46039f"
            ],
            [
             0.2222222222222222,
             "#7201a8"
            ],
            [
             0.3333333333333333,
             "#9c179e"
            ],
            [
             0.4444444444444444,
             "#bd3786"
            ],
            [
             0.5555555555555556,
             "#d8576b"
            ],
            [
             0.6666666666666666,
             "#ed7953"
            ],
            [
             0.7777777777777778,
             "#fb9f3a"
            ],
            [
             0.8888888888888888,
             "#fdca26"
            ],
            [
             1,
             "#f0f921"
            ]
           ],
           "sequentialminus": [
            [
             0,
             "#0d0887"
            ],
            [
             0.1111111111111111,
             "#46039f"
            ],
            [
             0.2222222222222222,
             "#7201a8"
            ],
            [
             0.3333333333333333,
             "#9c179e"
            ],
            [
             0.4444444444444444,
             "#bd3786"
            ],
            [
             0.5555555555555556,
             "#d8576b"
            ],
            [
             0.6666666666666666,
             "#ed7953"
            ],
            [
             0.7777777777777778,
             "#fb9f3a"
            ],
            [
             0.8888888888888888,
             "#fdca26"
            ],
            [
             1,
             "#f0f921"
            ]
           ]
          },
          "colorway": [
           "#636efa",
           "#EF553B",
           "#00cc96",
           "#ab63fa",
           "#FFA15A",
           "#19d3f3",
           "#FF6692",
           "#B6E880",
           "#FF97FF",
           "#FECB52"
          ],
          "font": {
           "color": "#2a3f5f"
          },
          "geo": {
           "bgcolor": "white",
           "lakecolor": "white",
           "landcolor": "#E5ECF6",
           "showlakes": true,
           "showland": true,
           "subunitcolor": "white"
          },
          "hoverlabel": {
           "align": "left"
          },
          "hovermode": "closest",
          "mapbox": {
           "style": "light"
          },
          "paper_bgcolor": "white",
          "plot_bgcolor": "#E5ECF6",
          "polar": {
           "angularaxis": {
            "gridcolor": "white",
            "linecolor": "white",
            "ticks": ""
           },
           "bgcolor": "#E5ECF6",
           "radialaxis": {
            "gridcolor": "white",
            "linecolor": "white",
            "ticks": ""
           }
          },
          "scene": {
           "xaxis": {
            "backgroundcolor": "#E5ECF6",
            "gridcolor": "white",
            "gridwidth": 2,
            "linecolor": "white",
            "showbackground": true,
            "ticks": "",
            "zerolinecolor": "white"
           },
           "yaxis": {
            "backgroundcolor": "#E5ECF6",
            "gridcolor": "white",
            "gridwidth": 2,
            "linecolor": "white",
            "showbackground": true,
            "ticks": "",
            "zerolinecolor": "white"
           },
           "zaxis": {
            "backgroundcolor": "#E5ECF6",
            "gridcolor": "white",
            "gridwidth": 2,
            "linecolor": "white",
            "showbackground": true,
            "ticks": "",
            "zerolinecolor": "white"
           }
          },
          "shapedefaults": {
           "line": {
            "color": "#2a3f5f"
           }
          },
          "ternary": {
           "aaxis": {
            "gridcolor": "white",
            "linecolor": "white",
            "ticks": ""
           },
           "baxis": {
            "gridcolor": "white",
            "linecolor": "white",
            "ticks": ""
           },
           "bgcolor": "#E5ECF6",
           "caxis": {
            "gridcolor": "white",
            "linecolor": "white",
            "ticks": ""
           }
          },
          "title": {
           "x": 0.05
          },
          "xaxis": {
           "automargin": true,
           "gridcolor": "white",
           "linecolor": "white",
           "ticks": "",
           "title": {
            "standoff": 15
           },
           "zerolinecolor": "white",
           "zerolinewidth": 2
          },
          "yaxis": {
           "automargin": true,
           "gridcolor": "white",
           "linecolor": "white",
           "ticks": "",
           "title": {
            "standoff": 15
           },
           "zerolinecolor": "white",
           "zerolinewidth": 2
          }
         }
        },
        "title": {
         "text": "Przestrzeń Wektorowa Testowych Przypadków (Zaznaczenie Poprawnych/Niepoprawnych)"
        },
        "width": 1200,
        "xaxis": {
         "anchor": "y",
         "domain": [
          0,
          1
         ],
         "title": {
          "text": "TSNE-1"
         }
        },
        "yaxis": {
         "anchor": "x",
         "domain": [
          0,
          1
         ],
         "title": {
          "text": "TSNE-2"
         }
        }
       }
      }
     },
     "metadata": {},
     "output_type": "display_data"
    }
   ],
   "source": [
    "\n",
    "pca = PCA(n_components=40, random_state=42)\n",
    "embeddings_pca = pca.fit_transform(test_embeddings)\n",
    "\n",
    "tsne = TSNE(n_components=2, perplexity=30, n_iter=300, random_state=42)\n",
    "embeddings_tsne = tsne.fit_transform(embeddings_pca)\n",
    "\n",
    "sentiment_colors = {'Negative': 'red', 'Positive': 'green', 'Neutral': 'blue'}\n",
    "\n",
    "df_visualization = pd.DataFrame({\n",
    "    'TSNE-1': embeddings_tsne[:,0],\n",
    "    'TSNE-2': embeddings_tsne[:,1],\n",
    "    'True Label': test_labels,\n",
    "    'Predicted Label': test_predicted_labels,\n",
    "    'Text': test_df['text']\n",
    "})\n",
    "\n",
    "fig_true = px.scatter(\n",
    "    df_visualization,\n",
    "    x='TSNE-1',\n",
    "    y='TSNE-2',\n",
    "    color='True Label',\n",
    "    hover_data=['True Label', 'Predicted Label', 'Text'],\n",
    "    title='Przestrzeń Wektorowa Testowych Przypadków (Kolor: Prawdziwe Etykiety)',\n",
    "    width=1200,\n",
    "    height=600,\n",
    "    color_discrete_map=sentiment_colors\n",
    ")\n",
    "\n",
    "fig_true.show()\n",
    "\n",
    "fig_pred = px.scatter(\n",
    "    df_visualization,\n",
    "    x='TSNE-1',\n",
    "    y='TSNE-2',\n",
    "    color='Predicted Label',\n",
    "    hover_data=['True Label', 'Predicted Label', 'Text'],\n",
    "    title='Przestrzeń Wektorowa Testowych Przypadków (Kolor: Przewidywane Etykiety)',\n",
    "    width=1200,\n",
    "    height=600,\n",
    "    color_discrete_map=sentiment_colors\n",
    ")\n",
    "\n",
    "fig_pred.show()\n",
    "\n",
    "df_visualization['Correct'] = df_visualization['True Label'] == df_visualization['Predicted Label']\n",
    "\n",
    "fig_correct = px.scatter(\n",
    "    df_visualization,\n",
    "    x='TSNE-1',\n",
    "    y='TSNE-2',\n",
    "    color='Correct',\n",
    "    symbol='Correct',\n",
    "    hover_data=['True Label', 'Predicted Label', 'Text'],\n",
    "    title='Przestrzeń Wektorowa Testowych Przypadków (Zaznaczenie Poprawnych/Niepoprawnych)',\n",
    "    width=1200,\n",
    "    height=600,\n",
    "    color_discrete_map=sentiment_colors\n",
    ")\n",
    "\n",
    "fig_correct.show()"
   ]
  },
  {
   "cell_type": "code",
   "execution_count": null,
   "metadata": {},
   "outputs": [],
   "source": []
  }
 ],
 "metadata": {
  "kernelspec": {
   "display_name": "py310",
   "language": "python",
   "name": "python3"
  },
  "language_info": {
   "codemirror_mode": {
    "name": "ipython",
    "version": 3
   },
   "file_extension": ".py",
   "mimetype": "text/x-python",
   "name": "python",
   "nbconvert_exporter": "python",
   "pygments_lexer": "ipython3",
   "version": "3.10.13"
  }
 },
 "nbformat": 4,
 "nbformat_minor": 2
}
