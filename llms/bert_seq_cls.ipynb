{
 "cells": [
  {
   "cell_type": "markdown",
   "metadata": {},
   "source": [
    "[Implementation from this tutorial](https://medium.com/@nubyra/parameter-efficient-fine-tuning-peft-of-bert-base-model-to-predict-medical-diagnosis-5086a1828f4b)"
   ]
  },
  {
   "cell_type": "code",
   "execution_count": null,
   "metadata": {},
   "outputs": [],
   "source": [
    "from transformers import AutoTokenizer, AutoModelForSequenceClassification, DataCollatorWithPadding, Trainer, TrainingArguments, pipeline\n",
    "from peft import PeftModel, PeftConfig, LoraConfig, TaskType, get_peft_model\n",
    "from sklearn.metrics import confusion_matrix, classification_report\n",
    "from sklearn.model_selection import train_test_split\n",
    "from datasets import Dataset, DatasetDict\n",
    "from torch.utils.data import DataLoader\n",
    "from sklearn.decomposition import PCA\n",
    "from sklearn.manifold import TSNE\n",
    "from tqdm import tqdm\n",
    "import torch.nn.functional as F\n",
    "import matplotlib.pyplot as plt\n",
    "import plotly.express as px\n",
    "import seaborn as sns\n",
    "import pandas as pd\n",
    "import numpy as np\n",
    "import torch\n",
    "import os"
   ]
  },
  {
   "cell_type": "code",
   "execution_count": 2,
   "metadata": {},
   "outputs": [],
   "source": [
    "model_name = \"allegro/herbert-base-cased\"\n",
    "device = \"mps\""
   ]
  },
  {
   "cell_type": "code",
   "execution_count": null,
   "metadata": {},
   "outputs": [
    {
     "name": "stdout",
     "output_type": "stream",
     "text": [
      "First few entries:\n"
     ]
    },
    {
     "data": {
      "text/html": [
       "<div>\n",
       "<style scoped>\n",
       "    .dataframe tbody tr th:only-of-type {\n",
       "        vertical-align: middle;\n",
       "    }\n",
       "\n",
       "    .dataframe tbody tr th {\n",
       "        vertical-align: top;\n",
       "    }\n",
       "\n",
       "    .dataframe thead th {\n",
       "        text-align: right;\n",
       "    }\n",
       "</style>\n",
       "<table border=\"1\" class=\"dataframe\">\n",
       "  <thead>\n",
       "    <tr style=\"text-align: right;\">\n",
       "      <th></th>\n",
       "      <th>text</th>\n",
       "      <th>label</th>\n",
       "    </tr>\n",
       "  </thead>\n",
       "  <tbody>\n",
       "    <tr>\n",
       "      <th>0</th>\n",
       "      <td>Lakier roweru bardzo kiepskiej jakości , robią...</td>\n",
       "      <td>Negative</td>\n",
       "    </tr>\n",
       "    <tr>\n",
       "      <th>1</th>\n",
       "      <td>Nie jestem zadowolony z zakupu . Przede wszyst...</td>\n",
       "      <td>Negative</td>\n",
       "    </tr>\n",
       "    <tr>\n",
       "      <th>2</th>\n",
       "      <td>Szukając klucze tej wielkości brał em dwa pod ...</td>\n",
       "      <td>Neutral</td>\n",
       "    </tr>\n",
       "    <tr>\n",
       "      <th>3</th>\n",
       "      <td>Długo szukała m odpowiedniego fotelika dla bar...</td>\n",
       "      <td>Neutral</td>\n",
       "    </tr>\n",
       "    <tr>\n",
       "      <th>4</th>\n",
       "      <td>Kupił em pociąg ( w zestawie kilka torów prost...</td>\n",
       "      <td>Negative</td>\n",
       "    </tr>\n",
       "  </tbody>\n",
       "</table>\n",
       "</div>"
      ],
      "text/plain": [
       "                                                text     label\n",
       "0  Lakier roweru bardzo kiepskiej jakości , robią...  Negative\n",
       "1  Nie jestem zadowolony z zakupu . Przede wszyst...  Negative\n",
       "2  Szukając klucze tej wielkości brał em dwa pod ...   Neutral\n",
       "3  Długo szukała m odpowiedniego fotelika dla bar...   Neutral\n",
       "4  Kupił em pociąg ( w zestawie kilka torów prost...  Negative"
      ]
     },
     "execution_count": 3,
     "metadata": {},
     "output_type": "execute_result"
    }
   ],
   "source": [
    "data_path = \"all_texts.csv\"\n",
    "df = pd.read_csv(data_path)\n",
    "\n",
    "print(\"First few entries:\")\n",
    "df.head()"
   ]
  },
  {
   "cell_type": "code",
   "execution_count": null,
   "metadata": {},
   "outputs": [
    {
     "name": "stdout",
     "output_type": "stream",
     "text": [
      "\n",
      "Class Counts:\n",
      "label\n",
      "Neutral     150\n",
      "Positive     83\n",
      "Negative     67\n",
      "Name: count, dtype: int64\n",
      "\n",
      "Minimum class count: 67\n"
     ]
    }
   ],
   "source": [
    "class_counts = df['label'].value_counts()\n",
    "print(\"\\nClass Counts:\")\n",
    "print(class_counts)\n",
    "\n",
    "min_count = class_counts.min()\n",
    "print(f\"\\nMinimum class count: {min_count}\")"
   ]
  },
  {
   "cell_type": "code",
   "execution_count": null,
   "metadata": {},
   "outputs": [
    {
     "name": "stdout",
     "output_type": "stream",
     "text": [
      "\n",
      "Balanced Label Distribution:\n",
      "label\n",
      "Negative    33.333333\n",
      "Neutral     33.333333\n",
      "Positive    33.333333\n",
      "Name: proportion, dtype: float64\n"
     ]
    },
    {
     "name": "stderr",
     "output_type": "stream",
     "text": [
      "/var/folders/ld/46j6jly10md36dbxgn_h72br0000gn/T/ipykernel_70250/3664909914.py:5: DeprecationWarning: DataFrameGroupBy.apply operated on the grouping columns. This behavior is deprecated, and in a future version of pandas the grouping columns will be excluded from the operation. Either pass `include_groups=False` to exclude the groupings or explicitly select the grouping columns after groupby to silence this warning.\n",
      "  df_balanced = df.groupby('label').apply(lambda x: x.sample(n=min_count, random_state=random_seed)).reset_index(drop=True)\n"
     ]
    }
   ],
   "source": [
    "random_seed = 42\n",
    "\n",
    "df_balanced = df.groupby('label').apply(lambda x: x.sample(n=min_count, random_state=random_seed)).reset_index(drop=True)\n",
    "\n",
    "print(\"\\nBalanced Label Distribution:\")\n",
    "print(df_balanced['label'].value_counts(normalize=True) * 100)"
   ]
  },
  {
   "cell_type": "code",
   "execution_count": null,
   "metadata": {},
   "outputs": [
    {
     "data": {
      "text/plain": [
       "DatasetDict({\n",
       "    train: Dataset({\n",
       "        features: ['text', 'label', '__index_level_0__'],\n",
       "        num_rows: 160\n",
       "    })\n",
       "    test: Dataset({\n",
       "        features: ['text', 'label', '__index_level_0__'],\n",
       "        num_rows: 41\n",
       "    })\n",
       "})"
      ]
     },
     "execution_count": 6,
     "metadata": {},
     "output_type": "execute_result"
    }
   ],
   "source": [
    "train_df, test_df = train_test_split(\n",
    "    df_balanced, \n",
    "    test_size=0.2, \n",
    "    random_state=42, \n",
    "    # stratify=df['label']\n",
    ")\n",
    "\n",
    "train_dataset = Dataset.from_pandas(train_df)\n",
    "test_dataset = Dataset.from_pandas(test_df)\n",
    "\n",
    "dataset = DatasetDict({\n",
    "    \"train\": train_dataset,\n",
    "    \"test\": test_dataset\n",
    "})\n",
    "dataset"
   ]
  },
  {
   "cell_type": "code",
   "execution_count": null,
   "metadata": {},
   "outputs": [
    {
     "name": "stdout",
     "output_type": "stream",
     "text": [
      "Unique Labels: ['Negative', 'Neutral', 'Positive']\n",
      "Number of Labels: 3\n",
      "Training Set Label Distribution:\n",
      "label\n",
      "Negative    35.00\n",
      "Positive    33.75\n",
      "Neutral     31.25\n",
      "Name: proportion, dtype: float64\n",
      "\n",
      "Test Set Label Distribution:\n",
      "label\n",
      "Neutral     41.463415\n",
      "Positive    31.707317\n",
      "Negative    26.829268\n",
      "Name: proportion, dtype: float64\n"
     ]
    }
   ],
   "source": [
    "print(\"Unique Labels:\", sorted(df['label'].unique()))\n",
    "print(\"Number of Labels:\", len(sorted(df['label'].unique())))\n",
    "\n",
    "print(\"Training Set Label Distribution:\")\n",
    "print(train_df['label'].value_counts(normalize=True) * 100)\n",
    "\n",
    "print(\"\\nTest Set Label Distribution:\")\n",
    "print(test_df['label'].value_counts(normalize=True) * 100)      # 41.46341463414634"
   ]
  },
  {
   "cell_type": "code",
   "execution_count": 8,
   "metadata": {},
   "outputs": [
    {
     "name": "stdout",
     "output_type": "stream",
     "text": [
      "INPUT: Duza częśc grupy zaliczyła w kolokwiach . \n",
      "OUTPUT: Positive\n",
      "\n",
      "INPUT: Klawiaturę otrzymał em , rozpakował em , podłączył em , zainstalował em soft pobrany ze strony Razer . Windows 7 widzi klawiaturę poprawnie i instaluje ją gładko . Niestety oprogramowanie Razer nie rozpoznaje własnej klawiatury . Nie pomaga przepinanie do innych portów USB , wielokrotny restart , ani odpięcie innych urządzeń USB od komputera . W dodatku soft jest zaprojektowany tak bezmyślnie , że dopóki nie wykryje klawiatury , nie można nawet kliknąć ikony pomocy , przeczytać dokumentacji ani zrobić nic innego . Bez tego oprogramowania nie można skonfigurować dodatkowych klawiszy ani korzystać z żadnych innych funkcji klawiatury . Gdyby m mógł tej klawiatury używać , narzekał by m na zbyt twarde klawisze i na to , że między obudową a dolnymi klawiszami mini - padu ( który sam w sobie jest genialnym pomysłem , nie tylko do gier ! ) zieje szeroka szczelina , przez którą widać płytkę drukowaną pod spodem . Takie rozwiązanie nie wróży długiej trwałości sprzętu - wystarczy kropla wody , nie mówiąc o kurzu . To moje drugie bardzo poważne rozczarowanie produktami tej firmy ( a myślał em , że kupuję jeden z najlepszych sprzętów ) . Klawiatura do zwrotu , dla mnie nauczka na przyszłość . \n",
      "OUTPUT: Negative\n",
      "\n",
      "INPUT: Ocena ogólna : UNIKAC : x : x \n",
      "OUTPUT: Negative\n",
      "\n"
     ]
    }
   ],
   "source": [
    "for entry in dataset['train'].select(range(3)):\n",
    "    print('INPUT: {} \\nOUTPUT: {}\\n'.format(entry['text'], entry['label']))"
   ]
  },
  {
   "cell_type": "code",
   "execution_count": null,
   "metadata": {},
   "outputs": [
    {
     "data": {
      "text/html": [
       "<div>\n",
       "<style scoped>\n",
       "    .dataframe tbody tr th:only-of-type {\n",
       "        vertical-align: middle;\n",
       "    }\n",
       "\n",
       "    .dataframe tbody tr th {\n",
       "        vertical-align: top;\n",
       "    }\n",
       "\n",
       "    .dataframe thead th {\n",
       "        text-align: right;\n",
       "    }\n",
       "</style>\n",
       "<table border=\"1\" class=\"dataframe\">\n",
       "  <thead>\n",
       "    <tr style=\"text-align: right;\">\n",
       "      <th></th>\n",
       "      <th>Diagnosis</th>\n",
       "      <th>train_set</th>\n",
       "      <th>test_set</th>\n",
       "    </tr>\n",
       "  </thead>\n",
       "  <tbody>\n",
       "    <tr>\n",
       "      <th>0</th>\n",
       "      <td>Negative</td>\n",
       "      <td>56</td>\n",
       "      <td>11</td>\n",
       "    </tr>\n",
       "    <tr>\n",
       "      <th>1</th>\n",
       "      <td>Neutral</td>\n",
       "      <td>50</td>\n",
       "      <td>17</td>\n",
       "    </tr>\n",
       "    <tr>\n",
       "      <th>2</th>\n",
       "      <td>Positive</td>\n",
       "      <td>54</td>\n",
       "      <td>13</td>\n",
       "    </tr>\n",
       "  </tbody>\n",
       "</table>\n",
       "</div>"
      ],
      "text/plain": [
       "  Diagnosis  train_set  test_set\n",
       "0  Negative         56        11\n",
       "1   Neutral         50        17\n",
       "2  Positive         54        13"
      ]
     },
     "metadata": {},
     "output_type": "display_data"
    }
   ],
   "source": [
    "train_counts = pd.DataFrame({'Diagnosis': train_df['label']})\n",
    "train_counts = train_counts.groupby('Diagnosis').size().reset_index(name='train_set')\n",
    "\n",
    "test_counts = pd.DataFrame({'Diagnosis': test_df['label']})\n",
    "test_counts = test_counts.groupby('Diagnosis').size().reset_index(name='test_set')\n",
    "\n",
    "display(train_counts.merge(test_counts, on='Diagnosis'))"
   ]
  },
  {
   "cell_type": "code",
   "execution_count": 10,
   "metadata": {},
   "outputs": [
    {
     "name": "stdout",
     "output_type": "stream",
     "text": [
      "Label to ID mapping: {'Negative': 0, 'Neutral': 1, 'Positive': 2}\n",
      "ID to Label mapping: {0: 'Negative', 1: 'Neutral', 2: 'Positive'}\n"
     ]
    }
   ],
   "source": [
    "sorted_labels = sorted(set(df['label']))\n",
    "label2id = {label: idx for idx, label in enumerate(sorted_labels)}\n",
    "id2label = {idx: label for label, idx in label2id.items()}\n",
    "\n",
    "print(\"Label to ID mapping:\", label2id)\n",
    "print(\"ID to Label mapping:\", id2label)"
   ]
  },
  {
   "cell_type": "code",
   "execution_count": null,
   "metadata": {},
   "outputs": [
    {
     "name": "stderr",
     "output_type": "stream",
     "text": [
      "Some weights of BertForSequenceClassification were not initialized from the model checkpoint at allegro/herbert-base-cased and are newly initialized: ['classifier.bias', 'classifier.weight']\n",
      "You should probably TRAIN this model on a down-stream task to be able to use it for predictions and inference.\n"
     ]
    }
   ],
   "source": [
    "\n",
    "tokenizer = AutoTokenizer.from_pretrained(model_name)\n",
    "\n",
    "foundation_model = AutoModelForSequenceClassification.from_pretrained(\n",
    "    model_name,\n",
    "    num_labels=len(label2id),\n",
    "    label2id=label2id,\n",
    "    id2label=id2label\n",
    ")\n",
    "\n",
    "classifier = pipeline(\"text-classification\", model=foundation_model, tokenizer=tokenizer, device=device)"
   ]
  },
  {
   "cell_type": "code",
   "execution_count": null,
   "metadata": {},
   "outputs": [
    {
     "name": "stdout",
     "output_type": "stream",
     "text": [
      "Evaluating foundation model before fine-tuning...\n",
      "Foundation Model Accuracy: 29.27%\n"
     ]
    }
   ],
   "source": [
    "print(\"Evaluating foundation model before fine-tuning...\")\n",
    "\n",
    "test_encodings = tokenizer(test_df['text'].tolist(), padding=True, truncation=True, return_tensors=\"pt\")\n",
    "\n",
    "foundation_model.to(device)\n",
    "test_encodings = {k: v.to(device) for k, v in test_encodings.items()}\n",
    "\n",
    "with torch.no_grad():\n",
    "    outputs = foundation_model(**test_encodings)\n",
    "    logits = outputs.logits\n",
    "    predictions = torch.argmax(logits, dim=-1).cpu().numpy()\n",
    "\n",
    "# Calculate accuracy\n",
    "test_labels = test_df['label'].map(label2id).values\n",
    "foundation_accuracy = round(np.mean(predictions == test_labels) * 100, 2)\n",
    "print(f\"Foundation Model Accuracy: {foundation_accuracy}%\")"
   ]
  },
  {
   "cell_type": "code",
   "execution_count": 13,
   "metadata": {},
   "outputs": [
    {
     "name": "stdout",
     "output_type": "stream",
     "text": [
      "Number of Labels in Model: 3\n"
     ]
    }
   ],
   "source": [
    "print(\"Number of Labels in Model:\", foundation_model.config.num_labels)"
   ]
  },
  {
   "cell_type": "code",
   "execution_count": null,
   "metadata": {},
   "outputs": [
    {
     "data": {
      "text/plain": [
       "PeftModelForSequenceClassification(\n",
       "  (base_model): LoraModel(\n",
       "    (model): BertForSequenceClassification(\n",
       "      (bert): BertModel(\n",
       "        (embeddings): BertEmbeddings(\n",
       "          (word_embeddings): Embedding(50000, 768, padding_idx=1)\n",
       "          (position_embeddings): Embedding(514, 768)\n",
       "          (token_type_embeddings): Embedding(2, 768)\n",
       "          (LayerNorm): LayerNorm((768,), eps=1e-12, elementwise_affine=True)\n",
       "          (dropout): Dropout(p=0.1, inplace=False)\n",
       "        )\n",
       "        (encoder): BertEncoder(\n",
       "          (layer): ModuleList(\n",
       "            (0-11): 12 x BertLayer(\n",
       "              (attention): BertAttention(\n",
       "                (self): BertSdpaSelfAttention(\n",
       "                  (query): lora.Linear(\n",
       "                    (base_layer): Linear(in_features=768, out_features=768, bias=True)\n",
       "                    (lora_dropout): ModuleDict(\n",
       "                      (default): Dropout(p=0.1, inplace=False)\n",
       "                    )\n",
       "                    (lora_A): ModuleDict(\n",
       "                      (default): Linear(in_features=768, out_features=64, bias=False)\n",
       "                    )\n",
       "                    (lora_B): ModuleDict(\n",
       "                      (default): Linear(in_features=64, out_features=768, bias=False)\n",
       "                    )\n",
       "                    (lora_embedding_A): ParameterDict()\n",
       "                    (lora_embedding_B): ParameterDict()\n",
       "                    (lora_magnitude_vector): ModuleDict()\n",
       "                  )\n",
       "                  (key): Linear(in_features=768, out_features=768, bias=True)\n",
       "                  (value): lora.Linear(\n",
       "                    (base_layer): Linear(in_features=768, out_features=768, bias=True)\n",
       "                    (lora_dropout): ModuleDict(\n",
       "                      (default): Dropout(p=0.1, inplace=False)\n",
       "                    )\n",
       "                    (lora_A): ModuleDict(\n",
       "                      (default): Linear(in_features=768, out_features=64, bias=False)\n",
       "                    )\n",
       "                    (lora_B): ModuleDict(\n",
       "                      (default): Linear(in_features=64, out_features=768, bias=False)\n",
       "                    )\n",
       "                    (lora_embedding_A): ParameterDict()\n",
       "                    (lora_embedding_B): ParameterDict()\n",
       "                    (lora_magnitude_vector): ModuleDict()\n",
       "                  )\n",
       "                  (dropout): Dropout(p=0.1, inplace=False)\n",
       "                )\n",
       "                (output): BertSelfOutput(\n",
       "                  (dense): Linear(in_features=768, out_features=768, bias=True)\n",
       "                  (LayerNorm): LayerNorm((768,), eps=1e-12, elementwise_affine=True)\n",
       "                  (dropout): Dropout(p=0.1, inplace=False)\n",
       "                )\n",
       "              )\n",
       "              (intermediate): BertIntermediate(\n",
       "                (dense): Linear(in_features=768, out_features=3072, bias=True)\n",
       "                (intermediate_act_fn): GELUActivation()\n",
       "              )\n",
       "              (output): BertOutput(\n",
       "                (dense): Linear(in_features=3072, out_features=768, bias=True)\n",
       "                (LayerNorm): LayerNorm((768,), eps=1e-12, elementwise_affine=True)\n",
       "                (dropout): Dropout(p=0.1, inplace=False)\n",
       "              )\n",
       "            )\n",
       "          )\n",
       "        )\n",
       "        (pooler): BertPooler(\n",
       "          (dense): Linear(in_features=768, out_features=768, bias=True)\n",
       "          (activation): Tanh()\n",
       "        )\n",
       "      )\n",
       "      (dropout): Dropout(p=0.1, inplace=False)\n",
       "      (classifier): ModulesToSaveWrapper(\n",
       "        (original_module): Linear(in_features=768, out_features=3, bias=True)\n",
       "        (modules_to_save): ModuleDict(\n",
       "          (default): Linear(in_features=768, out_features=3, bias=True)\n",
       "        )\n",
       "      )\n",
       "    )\n",
       "  )\n",
       ")"
      ]
     },
     "execution_count": 14,
     "metadata": {},
     "output_type": "execute_result"
    }
   ],
   "source": [
    "lora_config = LoraConfig(\n",
    "    task_type=TaskType.SEQ_CLS, \n",
    "    r=64, \n",
    "    lora_alpha=1, \n",
    "    lora_dropout=0.1\n",
    ")\n",
    "\n",
    "peft_model = get_peft_model(foundation_model, lora_config)\n",
    "peft_model"
   ]
  },
  {
   "cell_type": "code",
   "execution_count": 15,
   "metadata": {},
   "outputs": [
    {
     "name": "stdout",
     "output_type": "stream",
     "text": [
      "trainable params: 2,361,603 || all params: 126,806,790 || trainable%: 1.8624\n"
     ]
    }
   ],
   "source": [
    "peft_model.print_trainable_parameters()"
   ]
  },
  {
   "cell_type": "code",
   "execution_count": null,
   "metadata": {},
   "outputs": [
    {
     "name": "stderr",
     "output_type": "stream",
     "text": [
      "huggingface/tokenizers: The current process just got forked, after parallelism has already been used. Disabling parallelism to avoid deadlocks...\n",
      "To disable this warning, you can either:\n",
      "\t- Avoid using `tokenizers` before the fork if possible\n",
      "\t- Explicitly set the environment variable TOKENIZERS_PARALLELISM=(true | false)\n"
     ]
    },
    {
     "data": {
      "application/vnd.jupyter.widget-view+json": {
       "model_id": "1d5cc3a145974bb79cbab708bc188cd6",
       "version_major": 2,
       "version_minor": 0
      },
      "text/plain": [
       "Map:   0%|          | 0/160 [00:00<?, ? examples/s]"
      ]
     },
     "metadata": {},
     "output_type": "display_data"
    },
    {
     "data": {
      "application/vnd.jupyter.widget-view+json": {
       "model_id": "967ef8972dfe436186c394fb3fb9c7d5",
       "version_major": 2,
       "version_minor": 0
      },
      "text/plain": [
       "Map:   0%|          | 0/41 [00:00<?, ? examples/s]"
      ]
     },
     "metadata": {},
     "output_type": "display_data"
    },
    {
     "name": "stdout",
     "output_type": "stream",
     "text": [
      "DatasetDict({\n",
      "    train: Dataset({\n",
      "        features: ['text', '__index_level_0__', 'input_ids', 'token_type_ids', 'attention_mask', 'labels'],\n",
      "        num_rows: 160\n",
      "    })\n",
      "    test: Dataset({\n",
      "        features: ['text', '__index_level_0__', 'input_ids', 'token_type_ids', 'attention_mask', 'labels'],\n",
      "        num_rows: 41\n",
      "    })\n",
      "})\n"
     ]
    }
   ],
   "source": [
    "def preprocess_function(examples):\n",
    "    \"\"\"Preprocess the dataset by returning tokenized examples.\"\"\"\n",
    "    tokens = tokenizer(examples[\"text\"], padding=\"max_length\", truncation=True)\n",
    "    tokens['labels'] = [label2id[l] for l in examples[\"label\"]]\n",
    "    return tokens\n",
    "\n",
    "tokenized_ds = dataset.map(preprocess_function, batched=True, remove_columns=[\"label\"])\n",
    "\n",
    "print(tokenized_ds)"
   ]
  },
  {
   "cell_type": "code",
   "execution_count": 17,
   "metadata": {},
   "outputs": [
    {
     "name": "stdout",
     "output_type": "stream",
     "text": [
      "A tokenized training input example:\n",
      "Duza częśc grupy zaliczyła w kolokwiach .\n",
      "[0, 3491, 2163, 2300, 49518, 4106, 11295, 4061, 1019, 6167, 3680, 2207, 1899, 2, 1, 1, 1, 1, 1, 1, 1, 1, 1, 1, 1, 1, 1, 1, 1, 1, 1, 1, 1, 1, 1, 1, 1, 1, 1, 1, 1, 1, 1, 1, 1, 1, 1, 1, 1, 1, 1, 1, 1, 1, 1, 1, 1, 1, 1, 1, 1, 1, 1, 1, 1, 1, 1, 1, 1, 1, 1, 1, 1, 1, 1, 1, 1, 1, 1, 1, 1, 1, 1, 1, 1, 1, 1, 1, 1, 1, 1, 1, 1, 1, 1, 1, 1, 1, 1, 1, 1, 1, 1, 1, 1, 1, 1, 1, 1, 1, 1, 1, 1, 1, 1, 1, 1, 1, 1, 1, 1, 1, 1, 1, 1, 1, 1, 1, 1, 1, 1, 1, 1, 1, 1, 1, 1, 1, 1, 1, 1, 1, 1, 1, 1, 1, 1, 1, 1, 1, 1, 1, 1, 1, 1, 1, 1, 1, 1, 1, 1, 1, 1, 1, 1, 1, 1, 1, 1, 1, 1, 1, 1, 1, 1, 1, 1, 1, 1, 1, 1, 1, 1, 1, 1, 1, 1, 1, 1, 1, 1, 1, 1, 1, 1, 1, 1, 1, 1, 1, 1, 1, 1, 1, 1, 1, 1, 1, 1, 1, 1, 1, 1, 1, 1, 1, 1, 1, 1, 1, 1, 1, 1, 1, 1, 1, 1, 1, 1, 1, 1, 1, 1, 1, 1, 1, 1, 1, 1, 1, 1, 1, 1, 1, 1, 1, 1, 1, 1, 1, 1, 1, 1, 1, 1, 1, 1, 1, 1, 1, 1, 1, 1, 1, 1, 1, 1, 1, 1, 1, 1, 1, 1, 1, 1, 1, 1, 1, 1, 1, 1, 1, 1, 1, 1, 1, 1, 1, 1, 1, 1, 1, 1, 1, 1, 1, 1, 1, 1, 1, 1, 1, 1, 1, 1, 1, 1, 1, 1, 1, 1, 1, 1, 1, 1, 1, 1, 1, 1, 1, 1, 1, 1, 1, 1, 1, 1, 1, 1, 1, 1, 1, 1, 1, 1, 1, 1, 1, 1, 1, 1, 1, 1, 1, 1, 1, 1, 1, 1, 1, 1, 1, 1, 1, 1, 1, 1, 1, 1, 1, 1, 1, 1, 1, 1, 1, 1, 1, 1, 1, 1, 1, 1, 1, 1, 1, 1, 1, 1, 1, 1, 1, 1, 1, 1, 1, 1, 1, 1, 1, 1, 1, 1, 1, 1, 1, 1, 1, 1, 1, 1, 1, 1, 1, 1, 1, 1, 1, 1, 1, 1, 1, 1, 1, 1, 1, 1, 1, 1, 1, 1, 1, 1, 1, 1, 1, 1, 1, 1, 1, 1, 1, 1, 1, 1, 1, 1, 1, 1, 1, 1, 1, 1, 1, 1, 1, 1, 1, 1, 1, 1, 1, 1, 1, 1, 1, 1, 1, 1, 1, 1, 1, 1, 1, 1, 1, 1, 1, 1, 1, 1, 1, 1, 1, 1, 1, 1, 1, 1, 1, 1, 1, 1, 1, 1, 1, 1, 1, 1, 1, 1, 1, 1, 1, 1, 1, 1, 1, 1, 1, 1, 1, 1, 1, 1, 1, 1, 1, 1, 1, 1, 1]\n",
      "\n",
      "\n",
      "A tokenized training label example:\n",
      "2\n"
     ]
    }
   ],
   "source": [
    "print(\"A tokenized training input example:\")\n",
    "# text\n",
    "print(tokenized_ds[\"train\"][0][\"text\"])\n",
    "# tokens\n",
    "print(tokenized_ds[\"train\"][0][\"input_ids\"])\n",
    "print(\"\\n\")\n",
    "print(\"A tokenized training label example:\")\n",
    "print(tokenized_ds[\"train\"][0][\"labels\"])"
   ]
  },
  {
   "cell_type": "code",
   "execution_count": null,
   "metadata": {},
   "outputs": [
    {
     "name": "stderr",
     "output_type": "stream",
     "text": [
      "/opt/miniconda3/envs/py310/lib/python3.10/site-packages/transformers/training_args.py:1545: FutureWarning: `evaluation_strategy` is deprecated and will be removed in version 4.46 of 🤗 Transformers. Use `eval_strategy` instead\n",
      "  warnings.warn(\n"
     ]
    }
   ],
   "source": [
    "def compute_metrics(eval_pred):\n",
    "    predictions, labels = eval_pred\n",
    "    predictions = np.argmax(predictions, axis=1)\n",
    "    accuracy = (predictions == labels).mean() * 100\n",
    "    return {\"accuracy\": accuracy}\n",
    "\n",
    "trainer = Trainer(\n",
    "    model=peft_model,\n",
    "    args=TrainingArguments(\n",
    "        output_dir=\"herbert-lora\",\n",
    "        learning_rate=2e-5,\n",
    "        per_device_train_batch_size=8,\n",
    "        per_device_eval_batch_size=8,\n",
    "        num_train_epochs=15,\n",
    "        weight_decay=0.01,\n",
    "        evaluation_strategy=\"epoch\",\n",
    "        save_strategy=\"epoch\",\n",
    "        load_best_model_at_end=True,\n",
    "        metric_for_best_model=\"accuracy\",\n",
    "        logging_dir='logs',\n",
    "        logging_steps=10,\n",
    "    ),\n",
    "    train_dataset=tokenized_ds[\"train\"],\n",
    "    eval_dataset=tokenized_ds[\"test\"],\n",
    "    tokenizer=tokenizer,\n",
    "    data_collator=DataCollatorWithPadding(tokenizer=tokenizer),\n",
    "    compute_metrics=compute_metrics,\n",
    ")"
   ]
  },
  {
   "cell_type": "code",
   "execution_count": 19,
   "metadata": {},
   "outputs": [
    {
     "name": "stderr",
     "output_type": "stream",
     "text": [
      "huggingface/tokenizers: The current process just got forked, after parallelism has already been used. Disabling parallelism to avoid deadlocks...\n",
      "To disable this warning, you can either:\n",
      "\t- Avoid using `tokenizers` before the fork if possible\n",
      "\t- Explicitly set the environment variable TOKENIZERS_PARALLELISM=(true | false)\n",
      "huggingface/tokenizers: The current process just got forked, after parallelism has already been used. Disabling parallelism to avoid deadlocks...\n",
      "To disable this warning, you can either:\n",
      "\t- Avoid using `tokenizers` before the fork if possible\n",
      "\t- Explicitly set the environment variable TOKENIZERS_PARALLELISM=(true | false)\n",
      "huggingface/tokenizers: The current process just got forked, after parallelism has already been used. Disabling parallelism to avoid deadlocks...\n",
      "To disable this warning, you can either:\n",
      "\t- Avoid using `tokenizers` before the fork if possible\n",
      "\t- Explicitly set the environment variable TOKENIZERS_PARALLELISM=(true | false)\n"
     ]
    },
    {
     "data": {
      "application/vnd.jupyter.widget-view+json": {
       "model_id": "855bdcfd2f1b407eacc60b233940feca",
       "version_major": 2,
       "version_minor": 0
      },
      "text/plain": [
       "  0%|          | 0/300 [00:00<?, ?it/s]"
      ]
     },
     "metadata": {},
     "output_type": "display_data"
    },
    {
     "name": "stdout",
     "output_type": "stream",
     "text": [
      "{'loss': 1.0977, 'grad_norm': 8.038151741027832, 'learning_rate': 1.9333333333333333e-05, 'epoch': 0.5}\n",
      "{'loss': 1.1097, 'grad_norm': 7.334142684936523, 'learning_rate': 1.866666666666667e-05, 'epoch': 1.0}\n"
     ]
    },
    {
     "data": {
      "application/vnd.jupyter.widget-view+json": {
       "model_id": "66df6ede5fbb4d279eadee4deaaefa6b",
       "version_major": 2,
       "version_minor": 0
      },
      "text/plain": [
       "  0%|          | 0/6 [00:00<?, ?it/s]"
      ]
     },
     "metadata": {},
     "output_type": "display_data"
    },
    {
     "name": "stdout",
     "output_type": "stream",
     "text": [
      "{'eval_loss': 1.1145750284194946, 'eval_accuracy': 31.70731707317073, 'eval_runtime': 3.0808, 'eval_samples_per_second': 13.308, 'eval_steps_per_second': 1.948, 'epoch': 1.0}\n",
      "{'loss': 1.0931, 'grad_norm': 4.726180076599121, 'learning_rate': 1.8e-05, 'epoch': 1.5}\n",
      "{'loss': 1.1174, 'grad_norm': 6.743591785430908, 'learning_rate': 1.7333333333333336e-05, 'epoch': 2.0}\n"
     ]
    },
    {
     "data": {
      "application/vnd.jupyter.widget-view+json": {
       "model_id": "45644fd4781d45dbba5c74b3e6dbf148",
       "version_major": 2,
       "version_minor": 0
      },
      "text/plain": [
       "  0%|          | 0/6 [00:00<?, ?it/s]"
      ]
     },
     "metadata": {},
     "output_type": "display_data"
    },
    {
     "name": "stdout",
     "output_type": "stream",
     "text": [
      "{'eval_loss': 1.1145315170288086, 'eval_accuracy': 31.70731707317073, 'eval_runtime': 2.06, 'eval_samples_per_second': 19.903, 'eval_steps_per_second': 2.913, 'epoch': 2.0}\n",
      "{'loss': 1.1235, 'grad_norm': 5.9114484786987305, 'learning_rate': 1.6666666666666667e-05, 'epoch': 2.5}\n",
      "{'loss': 1.1021, 'grad_norm': 2.1796929836273193, 'learning_rate': 1.6000000000000003e-05, 'epoch': 3.0}\n"
     ]
    },
    {
     "data": {
      "application/vnd.jupyter.widget-view+json": {
       "model_id": "5beb3e39908c4f95909336357f214d81",
       "version_major": 2,
       "version_minor": 0
      },
      "text/plain": [
       "  0%|          | 0/6 [00:00<?, ?it/s]"
      ]
     },
     "metadata": {},
     "output_type": "display_data"
    },
    {
     "name": "stdout",
     "output_type": "stream",
     "text": [
      "{'eval_loss': 1.1114311218261719, 'eval_accuracy': 31.70731707317073, 'eval_runtime': 2.0869, 'eval_samples_per_second': 19.646, 'eval_steps_per_second': 2.875, 'epoch': 3.0}\n",
      "{'loss': 1.1024, 'grad_norm': 3.3069138526916504, 'learning_rate': 1.5333333333333334e-05, 'epoch': 3.5}\n",
      "{'loss': 1.1071, 'grad_norm': 9.022171020507812, 'learning_rate': 1.4666666666666666e-05, 'epoch': 4.0}\n"
     ]
    },
    {
     "data": {
      "application/vnd.jupyter.widget-view+json": {
       "model_id": "0abaf8c9341347d4a2e17866233d52a3",
       "version_major": 2,
       "version_minor": 0
      },
      "text/plain": [
       "  0%|          | 0/6 [00:00<?, ?it/s]"
      ]
     },
     "metadata": {},
     "output_type": "display_data"
    },
    {
     "name": "stdout",
     "output_type": "stream",
     "text": [
      "{'eval_loss': 1.1092479228973389, 'eval_accuracy': 31.70731707317073, 'eval_runtime': 2.0967, 'eval_samples_per_second': 19.554, 'eval_steps_per_second': 2.862, 'epoch': 4.0}\n",
      "{'loss': 1.1072, 'grad_norm': 4.479854106903076, 'learning_rate': 1.4e-05, 'epoch': 4.5}\n",
      "{'loss': 1.1134, 'grad_norm': 9.349715232849121, 'learning_rate': 1.3333333333333333e-05, 'epoch': 5.0}\n"
     ]
    },
    {
     "data": {
      "application/vnd.jupyter.widget-view+json": {
       "model_id": "8205d09b06d2499c9b7568464e9d6d1b",
       "version_major": 2,
       "version_minor": 0
      },
      "text/plain": [
       "  0%|          | 0/6 [00:00<?, ?it/s]"
      ]
     },
     "metadata": {},
     "output_type": "display_data"
    },
    {
     "name": "stdout",
     "output_type": "stream",
     "text": [
      "{'eval_loss': 1.108566403388977, 'eval_accuracy': 34.146341463414636, 'eval_runtime': 2.3015, 'eval_samples_per_second': 17.814, 'eval_steps_per_second': 2.607, 'epoch': 5.0}\n",
      "{'loss': 1.108, 'grad_norm': 3.1446948051452637, 'learning_rate': 1.2666666666666667e-05, 'epoch': 5.5}\n",
      "{'loss': 1.1059, 'grad_norm': 6.404232025146484, 'learning_rate': 1.2e-05, 'epoch': 6.0}\n"
     ]
    },
    {
     "data": {
      "application/vnd.jupyter.widget-view+json": {
       "model_id": "87f235299e124899aa74d110fe7ddb8b",
       "version_major": 2,
       "version_minor": 0
      },
      "text/plain": [
       "  0%|          | 0/6 [00:00<?, ?it/s]"
      ]
     },
     "metadata": {},
     "output_type": "display_data"
    },
    {
     "name": "stdout",
     "output_type": "stream",
     "text": [
      "{'eval_loss': 1.107526421546936, 'eval_accuracy': 31.70731707317073, 'eval_runtime': 2.2814, 'eval_samples_per_second': 17.972, 'eval_steps_per_second': 2.63, 'epoch': 6.0}\n",
      "{'loss': 1.0878, 'grad_norm': 3.2521848678588867, 'learning_rate': 1.1333333333333334e-05, 'epoch': 6.5}\n",
      "{'loss': 1.0878, 'grad_norm': 4.290170192718506, 'learning_rate': 1.0666666666666667e-05, 'epoch': 7.0}\n"
     ]
    },
    {
     "data": {
      "application/vnd.jupyter.widget-view+json": {
       "model_id": "3a23d9eadf7e4b0486d9485226d55e1f",
       "version_major": 2,
       "version_minor": 0
      },
      "text/plain": [
       "  0%|          | 0/6 [00:00<?, ?it/s]"
      ]
     },
     "metadata": {},
     "output_type": "display_data"
    },
    {
     "name": "stdout",
     "output_type": "stream",
     "text": [
      "{'eval_loss': 1.107470154762268, 'eval_accuracy': 31.70731707317073, 'eval_runtime': 2.1493, 'eval_samples_per_second': 19.076, 'eval_steps_per_second': 2.792, 'epoch': 7.0}\n",
      "{'loss': 1.0969, 'grad_norm': 4.0294060707092285, 'learning_rate': 1e-05, 'epoch': 7.5}\n",
      "{'loss': 1.0746, 'grad_norm': 6.737278461456299, 'learning_rate': 9.333333333333334e-06, 'epoch': 8.0}\n"
     ]
    },
    {
     "data": {
      "application/vnd.jupyter.widget-view+json": {
       "model_id": "a2d1fc0984914ba49511f7579b884c03",
       "version_major": 2,
       "version_minor": 0
      },
      "text/plain": [
       "  0%|          | 0/6 [00:00<?, ?it/s]"
      ]
     },
     "metadata": {},
     "output_type": "display_data"
    },
    {
     "name": "stdout",
     "output_type": "stream",
     "text": [
      "{'eval_loss': 1.1066749095916748, 'eval_accuracy': 31.70731707317073, 'eval_runtime': 2.0354, 'eval_samples_per_second': 20.143, 'eval_steps_per_second': 2.948, 'epoch': 8.0}\n",
      "{'loss': 1.0812, 'grad_norm': 4.5443315505981445, 'learning_rate': 8.666666666666668e-06, 'epoch': 8.5}\n",
      "{'loss': 1.1059, 'grad_norm': 6.583975791931152, 'learning_rate': 8.000000000000001e-06, 'epoch': 9.0}\n"
     ]
    },
    {
     "data": {
      "application/vnd.jupyter.widget-view+json": {
       "model_id": "0be51aec32e14828bc267283cbb62df4",
       "version_major": 2,
       "version_minor": 0
      },
      "text/plain": [
       "  0%|          | 0/6 [00:00<?, ?it/s]"
      ]
     },
     "metadata": {},
     "output_type": "display_data"
    },
    {
     "name": "stdout",
     "output_type": "stream",
     "text": [
      "{'eval_loss': 1.106225848197937, 'eval_accuracy': 34.146341463414636, 'eval_runtime': 2.2882, 'eval_samples_per_second': 17.918, 'eval_steps_per_second': 2.622, 'epoch': 9.0}\n",
      "{'loss': 1.1022, 'grad_norm': 2.8471648693084717, 'learning_rate': 7.333333333333333e-06, 'epoch': 9.5}\n",
      "{'loss': 1.0954, 'grad_norm': 7.145320415496826, 'learning_rate': 6.666666666666667e-06, 'epoch': 10.0}\n"
     ]
    },
    {
     "data": {
      "application/vnd.jupyter.widget-view+json": {
       "model_id": "d3bf0a5722064273b1af5bd384fba784",
       "version_major": 2,
       "version_minor": 0
      },
      "text/plain": [
       "  0%|          | 0/6 [00:00<?, ?it/s]"
      ]
     },
     "metadata": {},
     "output_type": "display_data"
    },
    {
     "name": "stdout",
     "output_type": "stream",
     "text": [
      "{'eval_loss': 1.106073260307312, 'eval_accuracy': 29.268292682926827, 'eval_runtime': 2.0384, 'eval_samples_per_second': 20.114, 'eval_steps_per_second': 2.943, 'epoch': 10.0}\n",
      "{'loss': 1.088, 'grad_norm': 2.246035575866699, 'learning_rate': 6e-06, 'epoch': 10.5}\n",
      "{'loss': 1.1016, 'grad_norm': 5.084918022155762, 'learning_rate': 5.333333333333334e-06, 'epoch': 11.0}\n"
     ]
    },
    {
     "data": {
      "application/vnd.jupyter.widget-view+json": {
       "model_id": "6ceee26d686846009b7672c4c6615e48",
       "version_major": 2,
       "version_minor": 0
      },
      "text/plain": [
       "  0%|          | 0/6 [00:00<?, ?it/s]"
      ]
     },
     "metadata": {},
     "output_type": "display_data"
    },
    {
     "name": "stdout",
     "output_type": "stream",
     "text": [
      "{'eval_loss': 1.1062721014022827, 'eval_accuracy': 34.146341463414636, 'eval_runtime': 2.0376, 'eval_samples_per_second': 20.122, 'eval_steps_per_second': 2.945, 'epoch': 11.0}\n",
      "{'loss': 1.1058, 'grad_norm': 3.4651355743408203, 'learning_rate': 4.666666666666667e-06, 'epoch': 11.5}\n",
      "{'loss': 1.0866, 'grad_norm': 6.269768238067627, 'learning_rate': 4.000000000000001e-06, 'epoch': 12.0}\n"
     ]
    },
    {
     "data": {
      "application/vnd.jupyter.widget-view+json": {
       "model_id": "805ede5bd7d9436188676fc873c43a00",
       "version_major": 2,
       "version_minor": 0
      },
      "text/plain": [
       "  0%|          | 0/6 [00:00<?, ?it/s]"
      ]
     },
     "metadata": {},
     "output_type": "display_data"
    },
    {
     "name": "stdout",
     "output_type": "stream",
     "text": [
      "{'eval_loss': 1.1063709259033203, 'eval_accuracy': 34.146341463414636, 'eval_runtime': 2.0522, 'eval_samples_per_second': 19.979, 'eval_steps_per_second': 2.924, 'epoch': 12.0}\n",
      "{'loss': 1.1104, 'grad_norm': 4.502198696136475, 'learning_rate': 3.3333333333333333e-06, 'epoch': 12.5}\n",
      "{'loss': 1.101, 'grad_norm': 6.497560977935791, 'learning_rate': 2.666666666666667e-06, 'epoch': 13.0}\n"
     ]
    },
    {
     "data": {
      "application/vnd.jupyter.widget-view+json": {
       "model_id": "15bf1b1dbc8747cf84f8bec0e681bb31",
       "version_major": 2,
       "version_minor": 0
      },
      "text/plain": [
       "  0%|          | 0/6 [00:00<?, ?it/s]"
      ]
     },
     "metadata": {},
     "output_type": "display_data"
    },
    {
     "name": "stdout",
     "output_type": "stream",
     "text": [
      "{'eval_loss': 1.106364130973816, 'eval_accuracy': 34.146341463414636, 'eval_runtime': 1.9694, 'eval_samples_per_second': 20.819, 'eval_steps_per_second': 3.047, 'epoch': 13.0}\n",
      "{'loss': 1.1066, 'grad_norm': 4.627597808837891, 'learning_rate': 2.0000000000000003e-06, 'epoch': 13.5}\n",
      "{'loss': 1.0916, 'grad_norm': 4.474952697753906, 'learning_rate': 1.3333333333333334e-06, 'epoch': 14.0}\n"
     ]
    },
    {
     "data": {
      "application/vnd.jupyter.widget-view+json": {
       "model_id": "71e326d208994c0bbcb86e5ddc8b5b5b",
       "version_major": 2,
       "version_minor": 0
      },
      "text/plain": [
       "  0%|          | 0/6 [00:00<?, ?it/s]"
      ]
     },
     "metadata": {},
     "output_type": "display_data"
    },
    {
     "name": "stdout",
     "output_type": "stream",
     "text": [
      "{'eval_loss': 1.1062251329421997, 'eval_accuracy': 29.268292682926827, 'eval_runtime': 2.0952, 'eval_samples_per_second': 19.569, 'eval_steps_per_second': 2.864, 'epoch': 14.0}\n",
      "{'loss': 1.1, 'grad_norm': 5.813303470611572, 'learning_rate': 6.666666666666667e-07, 'epoch': 14.5}\n",
      "{'loss': 1.0889, 'grad_norm': 4.3653411865234375, 'learning_rate': 0.0, 'epoch': 15.0}\n"
     ]
    },
    {
     "data": {
      "application/vnd.jupyter.widget-view+json": {
       "model_id": "3c12ef5d5a6342df8b353962e5d91c7d",
       "version_major": 2,
       "version_minor": 0
      },
      "text/plain": [
       "  0%|          | 0/6 [00:00<?, ?it/s]"
      ]
     },
     "metadata": {},
     "output_type": "display_data"
    },
    {
     "name": "stdout",
     "output_type": "stream",
     "text": [
      "{'eval_loss': 1.1062008142471313, 'eval_accuracy': 31.70731707317073, 'eval_runtime': 2.0518, 'eval_samples_per_second': 19.982, 'eval_steps_per_second': 2.924, 'epoch': 15.0}\n",
      "{'train_runtime': 333.3763, 'train_samples_per_second': 7.199, 'train_steps_per_second': 0.9, 'train_loss': 1.0999935658772786, 'epoch': 15.0}\n"
     ]
    },
    {
     "data": {
      "text/plain": [
       "TrainOutput(global_step=300, training_loss=1.0999935658772786, metrics={'train_runtime': 333.3763, 'train_samples_per_second': 7.199, 'train_steps_per_second': 0.9, 'total_flos': 648883829145600.0, 'train_loss': 1.0999935658772786, 'epoch': 15.0})"
      ]
     },
     "execution_count": 19,
     "metadata": {},
     "output_type": "execute_result"
    }
   ],
   "source": [
    "trainer.train()"
   ]
  },
  {
   "cell_type": "code",
   "execution_count": null,
   "metadata": {},
   "outputs": [
    {
     "name": "stdout",
     "output_type": "stream",
     "text": [
      "File Name: adapter_model.safetensors; File Size: 9231.85KB\n",
      "File Name: README.md; File Size: 4.98KB\n",
      "File Name: adapter_config.json; File Size: 0.66KB\n"
     ]
    }
   ],
   "source": [
    "peft_herbert_model_path = \"fine-tuned-peft-herbert-model-weights/\"\n",
    "peft_model.save_pretrained(peft_herbert_model_path)\n",
    "\n",
    "for file_name in os.listdir(peft_herbert_model_path):\n",
    "    file_size = os.path.getsize(os.path.join(peft_herbert_model_path, file_name))\n",
    "    print(f\"File Name: {file_name}; File Size: {file_size / 1024:.2f}KB\")"
   ]
  },
  {
   "cell_type": "code",
   "execution_count": null,
   "metadata": {},
   "outputs": [
    {
     "name": "stdout",
     "output_type": "stream",
     "text": [
      "Evaluating fine-tuned model...\n"
     ]
    },
    {
     "name": "stderr",
     "output_type": "stream",
     "text": [
      "Some weights of BertForSequenceClassification were not initialized from the model checkpoint at allegro/herbert-base-cased and are newly initialized: ['classifier.bias', 'classifier.weight']\n",
      "You should probably TRAIN this model on a down-stream task to be able to use it for predictions and inference.\n",
      "/opt/miniconda3/envs/py310/lib/python3.10/site-packages/transformers/training_args.py:1545: FutureWarning: `evaluation_strategy` is deprecated and will be removed in version 4.46 of 🤗 Transformers. Use `eval_strategy` instead\n",
      "  warnings.warn(\n"
     ]
    },
    {
     "data": {
      "application/vnd.jupyter.widget-view+json": {
       "model_id": "0eca480eaf924914ba66368dbffc10ca",
       "version_major": 2,
       "version_minor": 0
      },
      "text/plain": [
       "  0%|          | 0/6 [00:00<?, ?it/s]"
      ]
     },
     "metadata": {},
     "output_type": "display_data"
    },
    {
     "name": "stdout",
     "output_type": "stream",
     "text": [
      "{'eval_loss': 1.108566403388977, 'eval_model_preparation_time': 0.004, 'eval_accuracy': 34.146341463414636, 'eval_runtime': 2.0684, 'eval_samples_per_second': 19.822, 'eval_steps_per_second': 2.901}\n"
     ]
    },
    {
     "data": {
      "text/plain": [
       "('final-fine-tuned-peft-herbert-model/tokenizer_config.json',\n",
       " 'final-fine-tuned-peft-herbert-model/special_tokens_map.json',\n",
       " 'final-fine-tuned-peft-herbert-model/vocab.json',\n",
       " 'final-fine-tuned-peft-herbert-model/merges.txt',\n",
       " 'final-fine-tuned-peft-herbert-model/added_tokens.json',\n",
       " 'final-fine-tuned-peft-herbert-model/tokenizer.json')"
      ]
     },
     "execution_count": 21,
     "metadata": {},
     "output_type": "execute_result"
    }
   ],
   "source": [
    "print(\"Evaluating fine-tuned model...\")\n",
    "\n",
    "config = PeftConfig.from_pretrained(peft_herbert_model_path)\n",
    "model = AutoModelForSequenceClassification.from_pretrained(\n",
    "    model_name, \n",
    "    num_labels=len(label2id),\n",
    "    label2id=label2id,\n",
    "    id2label=id2label\n",
    ")\n",
    "model = PeftModel.from_pretrained(model, peft_herbert_model_path)\n",
    "\n",
    "model.to(device)\n",
    "\n",
    "eval_trainer = Trainer(\n",
    "    model=model,\n",
    "    args=TrainingArguments(\n",
    "        output_dir=\"allegro-bert-lora\",\n",
    "        learning_rate=2e-5,\n",
    "        per_device_train_batch_size=8,\n",
    "        per_device_eval_batch_size=8,\n",
    "        num_train_epochs=3,\n",
    "        weight_decay=0.01,\n",
    "        evaluation_strategy=\"epoch\",\n",
    "        save_strategy=\"epoch\",\n",
    "        load_best_model_at_end=True,\n",
    "        metric_for_best_model=\"accuracy\",\n",
    "        logging_dir='logs',\n",
    "        logging_steps=10,\n",
    "        \n",
    "    ),\n",
    "    eval_dataset=tokenized_ds['test'],\n",
    "    tokenizer=tokenizer,\n",
    "    data_collator=DataCollatorWithPadding(tokenizer=tokenizer),\n",
    "    compute_metrics=compute_metrics,\n",
    ")\n",
    "\n",
    "test_results = eval_trainer.evaluate()\n",
    "print(test_results)\n",
    "\n",
    "model_save_path = \"final-fine-tuned-peft-herbert-model/\"\n",
    "model.save_pretrained(model_save_path)\n",
    "tokenizer.save_pretrained(model_save_path)"
   ]
  },
  {
   "cell_type": "code",
   "execution_count": null,
   "metadata": {},
   "outputs": [
    {
     "data": {
      "application/vnd.jupyter.widget-view+json": {
       "model_id": "d1633e9a66274440ad8a451613385f0a",
       "version_major": 2,
       "version_minor": 0
      },
      "text/plain": [
       "  0%|          | 0/6 [00:00<?, ?it/s]"
      ]
     },
     "metadata": {},
     "output_type": "display_data"
    }
   ],
   "source": [
    "predictions_output = trainer.predict(tokenized_ds[\"test\"])\n",
    "\n",
    "preds = np.argmax(predictions_output.predictions, axis=1)\n",
    "labels = predictions_output.label_ids\n",
    "\n",
    "predicted_labels = [id2label[pred] for pred in preds]\n",
    "true_labels = [id2label[label] for label in labels]"
   ]
  },
  {
   "cell_type": "code",
   "execution_count": null,
   "metadata": {},
   "outputs": [],
   "source": [
    "data_collator = DataCollatorWithPadding(tokenizer=tokenizer)\n",
    "\n",
    "test_loader = DataLoader(\n",
    "    tokenized_ds[\"test\"],\n",
    "    batch_size=16,\n",
    "    shuffle=False,\n",
    "    collate_fn=data_collator\n",
    ")"
   ]
  },
  {
   "cell_type": "code",
   "execution_count": null,
   "metadata": {},
   "outputs": [
    {
     "data": {
      "application/vnd.jupyter.widget-view+json": {
       "model_id": "699ff77a558e449dbe39542e265c636b",
       "version_major": 2,
       "version_minor": 0
      },
      "text/plain": [
       "  0%|          | 0/6 [00:00<?, ?it/s]"
      ]
     },
     "metadata": {},
     "output_type": "display_data"
    }
   ],
   "source": [
    "predictions_output = eval_trainer.predict(tokenized_ds[\"test\"])\n",
    "\n",
    "preds = np.argmax(predictions_output.predictions, axis=1)\n",
    "labels = predictions_output.label_ids\n",
    "\n",
    "predicted_labels = [id2label[pred] for pred in preds]\n",
    "true_labels = [id2label[label] for label in labels]"
   ]
  },
  {
   "cell_type": "code",
   "execution_count": null,
   "metadata": {},
   "outputs": [
    {
     "name": "stderr",
     "output_type": "stream",
     "text": [
      "/var/folders/ld/46j6jly10md36dbxgn_h72br0000gn/T/ipykernel_70250/3423536581.py:9: FutureWarning: \n",
      "\n",
      "Passing `palette` without assigning `hue` is deprecated and will be removed in v0.14.0. Assign the `x` variable to `hue` and set `legend=False` for the same effect.\n",
      "\n",
      "  sns.barplot(x=pred_label_counts.index, y=pred_label_counts.values, palette='viridis')\n"
     ]
    },
    {
     "data": {
      "image/png": "[encoded data removed]",
      "text/plain": [
       "<Figure size 600x400 with 1 Axes>"
      ]
     },
     "metadata": {},
     "output_type": "display_data"
    }
   ],
   "source": [
    "pred_label_counts = pd.Series(predicted_labels).value_counts()\n",
    "\n",
    "plt.figure(figsize=(6,4))\n",
    "sns.barplot(x=pred_label_counts.index, y=pred_label_counts.values, palette='viridis')\n",
    "plt.xlabel('Predicted Labels')\n",
    "plt.ylabel('Count')\n",
    "plt.title('Distribution of Predicted Labels')\n",
    "plt.show()"
   ]
  },
  {
   "cell_type": "code",
   "execution_count": null,
   "metadata": {},
   "outputs": [
    {
     "data": {
      "image/png": "[encoded data removed]",
      "text/plain": [
       "<Figure size 800x600 with 2 Axes>"
      ]
     },
     "metadata": {},
     "output_type": "display_data"
    }
   ],
   "source": [
    "\n",
    "cm = confusion_matrix(true_labels, predicted_labels, labels=sorted_labels)\n",
    "\n",
    "plt.figure(figsize=(8,6))\n",
    "sns.heatmap(cm, annot=True, fmt='d', xticklabels=sorted_labels, yticklabels=sorted_labels, cmap='Blues')\n",
    "plt.xlabel('Predicted Labels')\n",
    "plt.ylabel('True Labels')\n",
    "plt.title('Confusion Matrix')\n",
    "plt.show()"
   ]
  },
  {
   "cell_type": "code",
   "execution_count": null,
   "metadata": {},
   "outputs": [
    {
     "data": {
      "image/png": "[encoded data removed]",
      "text/plain": [
       "<Figure size 800x600 with 2 Axes>"
      ]
     },
     "metadata": {},
     "output_type": "display_data"
    }
   ],
   "source": [
    "cm_normalized = confusion_matrix(true_labels, predicted_labels, labels=sorted_labels, normalize='true')\n",
    "\n",
    "plt.figure(figsize=(8,6))\n",
    "sns.heatmap(cm_normalized, annot=True, fmt='.2f', xticklabels=sorted_labels, yticklabels=sorted_labels, cmap='Blues')\n",
    "plt.xlabel('Predicted Labels')\n",
    "plt.ylabel('True Labels')\n",
    "plt.title('Normalized Confusion Matrix')\n",
    "plt.show()"
   ]
  },
  {
   "cell_type": "code",
   "execution_count": null,
   "metadata": {},
   "outputs": [
    {
     "name": "stdout",
     "output_type": "stream",
     "text": [
      "              precision    recall  f1-score   support\n",
      "\n",
      "    Negative       0.30      0.91      0.45        11\n",
      "     Neutral       0.57      0.24      0.33        17\n",
      "    Positive       0.00      0.00      0.00        13\n",
      "\n",
      "    accuracy                           0.34        41\n",
      "   macro avg       0.29      0.38      0.26        41\n",
      "weighted avg       0.32      0.34      0.26        41\n",
      "\n"
     ]
    }
   ],
   "source": [
    "report = classification_report(true_labels, predicted_labels, target_names=sorted_labels)\n",
    "print(report)"
   ]
  },
  {
   "cell_type": "code",
   "execution_count": null,
   "metadata": {},
   "outputs": [
    {
     "name": "stdout",
     "output_type": "stream",
     "text": [
      "Example 1:\n",
      "Text: Jesli sluchasz go na zajeciach i zrobisz w domu ze 2 zadanka , to powinienes bez problemow zaliczyc .\n",
      "True Label: Neutral\n",
      "Predicted Label: Neutral\n",
      "Probabilities: [0.34296697 0.343393   0.31364006]\n",
      "--------------------------------------------------\n",
      "Example 2:\n",
      "Text: Gdy je poprawiasz i przynosisz następnym razem , wyszukuje Ci kolejne błedy , a to co poprawił eś na dobrze , jest źle i miało być tak jak na poczatku .\n",
      "True Label: Negative\n",
      "Predicted Label: Negative\n",
      "Probabilities: [0.3758983  0.28154638 0.34255534]\n",
      "--------------------------------------------------\n",
      "Example 3:\n",
      "Text: UWAGA !\n",
      "True Label: Negative\n",
      "Predicted Label: Negative\n",
      "Probabilities: [0.4006483  0.2778274  0.32152432]\n",
      "--------------------------------------------------\n",
      "Example 4:\n",
      "Text: Z zaliczeniem nie ma raczej problemu .\n",
      "True Label: Positive\n",
      "Predicted Label: Negative\n",
      "Probabilities: [0.39736384 0.30106956 0.30156654]\n",
      "--------------------------------------------------\n",
      "Example 5:\n",
      "Text: Mało wytłumaczy , ale cały czas pyta czy wszyscy rozumieją , jeżeli on też rozumie dany dział to bedzie tłumaczył aż wszyscy nie potwierdza że zrozumilei : ) Koła raczej trudniejsze , ale można zawsze liczyć na dopytke na koniec ( a to mało kto niezdaje ) Mimo swoich wad jest ciekawą postacia , i czesto sie zagłebia na wykładzie w tematy \"\n",
      "True Label: Neutral\n",
      "Predicted Label: Negative\n",
      "Probabilities: [0.36433843 0.31579232 0.31986925]\n",
      "--------------------------------------------------\n"
     ]
    }
   ],
   "source": [
    "\n",
    "def get_probabilities(logits):\n",
    "    return F.softmax(torch.tensor(logits), dim=-1).numpy()\n",
    "\n",
    "probabilities = get_probabilities(predictions_output.predictions)\n",
    "\n",
    "for i in range(5):\n",
    "    print(f\"Example {i+1}:\")\n",
    "    print(f\"Text: {test_df['text'].iloc[i]}\")\n",
    "    print(f\"True Label: {true_labels[i]}\")\n",
    "    print(f\"Predicted Label: {predicted_labels[i]}\")\n",
    "    print(f\"Probabilities: {probabilities[i]}\")\n",
    "    print(\"-\" * 50)"
   ]
  },
  {
   "cell_type": "code",
   "execution_count": null,
   "metadata": {},
   "outputs": [
    {
     "data": {
      "application/vnd.jupyter.widget-view+json": {
       "model_id": "5caf5e2201444c4097589d74ad075463",
       "version_major": 2,
       "version_minor": 0
      },
      "text/plain": [
       "Map:   0%|          | 0/160 [00:00<?, ? examples/s]"
      ]
     },
     "metadata": {},
     "output_type": "display_data"
    },
    {
     "data": {
      "application/vnd.jupyter.widget-view+json": {
       "model_id": "f2fa9c09544440eeb566dfc75a3ee8ef",
       "version_major": 2,
       "version_minor": 0
      },
      "text/plain": [
       "Map:   0%|          | 0/41 [00:00<?, ? examples/s]"
      ]
     },
     "metadata": {},
     "output_type": "display_data"
    },
    {
     "name": "stdout",
     "output_type": "stream",
     "text": [
      "DatasetDict({\n",
      "    train: Dataset({\n",
      "        features: ['input_ids', 'token_type_ids', 'attention_mask', 'labels'],\n",
      "        num_rows: 160\n",
      "    })\n",
      "    test: Dataset({\n",
      "        features: ['input_ids', 'token_type_ids', 'attention_mask', 'labels'],\n",
      "        num_rows: 41\n",
      "    })\n",
      "})\n"
     ]
    },
    {
     "name": "stderr",
     "output_type": "stream",
     "text": [
      "Extracting embeddings: 100%|██████████| 3/3 [00:02<00:00,  1.37it/s]\n"
     ]
    }
   ],
   "source": [
    "def preprocess_function(examples):\n",
    "    tokens = tokenizer(\n",
    "        examples[\"text\"], \n",
    "        padding=\"max_length\", \n",
    "        truncation=True, \n",
    "        max_length=512\n",
    "    )\n",
    "    tokens['labels'] = [label2id[l] for l in examples[\"label\"]]\n",
    "    return tokens\n",
    "\n",
    "tokenized_ds = dataset.map(\n",
    "    preprocess_function, \n",
    "    batched=True, \n",
    "    remove_columns=dataset[\"train\"].column_names\n",
    ")\n",
    "\n",
    "print(tokenized_ds)\n",
    "\n"
   ]
  },
  {
   "cell_type": "code",
   "execution_count": null,
   "metadata": {},
   "outputs": [],
   "source": [
    "def extract_embeddings(model, tokenizer, dataset, device, batch_size=16):\n",
    "    model.eval()\n",
    "    loader = DataLoader(\n",
    "        dataset, \n",
    "        batch_size=batch_size, \n",
    "        shuffle=False, \n",
    "        collate_fn=DataCollatorWithPadding(tokenizer=tokenizer)\n",
    "    )\n",
    "    embeddings = []\n",
    "    labels = []\n",
    "    \n",
    "    model_input_keys = tokenizer.model_input_names\n",
    "\n",
    "    with torch.no_grad():\n",
    "        for batch in tqdm(loader, desc=\"Extracting embeddings\"):\n",
    "            # Przygotowanie wejść\n",
    "            inputs = {k: v.to(device) for k, v in batch.items() if k in model_input_keys}\n",
    "            # Wywołanie modelu z output_hidden_states=True\n",
    "            outputs = model(**inputs, output_hidden_states=True, return_dict=True)\n",
    "            # Ukryte stany to krotka wszystkich warstw\n",
    "            hidden_states = outputs.hidden_states\n",
    "            # Pobranie ostatniego ukrytego stanu\n",
    "            last_hidden_state = hidden_states[-1]  # Kształt: [batch_size, seq_length, hidden_size]\n",
    "            # Wyodrębnienie reprezentacji [CLS]\n",
    "            cls_embeddings = last_hidden_state[:, 0, :].cpu().numpy()\n",
    "            embeddings.append(cls_embeddings)\n",
    "            labels.extend(batch['labels'].cpu().numpy())\n",
    "    \n",
    "    embeddings = np.vstack(embeddings)\n",
    "    return embeddings, labels\n",
    "\n",
    "test_embeddings, test_labels_ids = extract_embeddings(\n",
    "    model, \n",
    "    tokenizer, \n",
    "    tokenized_ds[\"test\"], \n",
    "    device=device, \n",
    "    batch_size=16\n",
    ")\n",
    "\n",
    "test_labels = [id2label[label_id] for label_id in test_labels_ids]\n",
    "\n",
    "test_predicted_labels = [id2label[pred] for pred in preds]"
   ]
  },
  {
   "cell_type": "code",
   "execution_count": 36,
   "metadata": {},
   "outputs": [
    {
     "name": "stderr",
     "output_type": "stream",
     "text": [
      "/opt/miniconda3/envs/py310/lib/python3.10/site-packages/sklearn/manifold/_t_sne.py:1162: FutureWarning:\n",
      "\n",
      "'n_iter' was renamed to 'max_iter' in version 1.5 and will be removed in 1.7.\n",
      "\n"
     ]
    },
    {
     "data": {
      "application/vnd.plotly.v1+json": {
       "config": {
        "plotlyServerURL": "https://plot.ly"
       },
       "data": [
        {
         "customdata": [
          [
           "Neutral",
           "Neutral",
           "Jesli sluchasz go na zajeciach i zrobisz w domu ze 2 zadanka , to powinienes bez problemow zaliczyc ."
          ],
          [
           "Neutral",
           "Negative",
           "Mało wytłumaczy , ale cały czas pyta czy wszyscy rozumieją , jeżeli on też rozumie dany dział to bedzie tłumaczył aż wszyscy nie potwierdza że zrozumilei : ) Koła raczej trudniejsze , ale można zawsze liczyć na dopytke na koniec ( a to mało kto niezdaje ) Mimo swoich wad jest ciekawą postacia , i czesto sie zagłebia na wykładzie w tematy \""
          ],
          [
           "Neutral",
           "Neutral",
           "Zadania na egzaminie do latwych nie naleza , ale ukladaja je pracownicy IM , wiec czego mozna sie spodziewac : ) OCENA OGÓLNA : ŚREDNIO NA JEŻA"
          ],
          [
           "Neutral",
           "Negative",
           "Pytania podczas laborki potrafią byc ciężkie , można wylecieć na sam koniec laboratorium , ale z reguły 3 , może 4 grupy bedą zapytane podczas całych zajęć ."
          ],
          [
           "Neutral",
           "Negative",
           "Pilot funkcjonalnie pierwsza klasa , można dosłownie wszystkim sterować , ogromna baza sprzętu , możliwość dowolnego konfigurowania , super wygląd , podświetlenie klawiszy , auto - wyłączanie ekranu . Niestety sama jakość wykonania pozostawia wiele do życzenia . Konkretnie klawisze które po roku użytkowania zacinają się . Pierwszy egzemplarz po roku został wymieniony na nowy , drugi właśnie tez ma identyczny problem z klawiszami . Niestety rozebrać go nie idzie bo próbował em na starym , a wystarczyło by wyczyścić gumki lub wymienić styki węglowe . Mam w domu piloty od sprzętu audio które mają po kilkanaście lat i działają bez zarzutu do dzisiaj ."
          ],
          [
           "Neutral",
           "Negative",
           "Przyłapanie na ściąganiu to 2.0 z danej pracy ."
          ],
          [
           "Neutral",
           "Neutral",
           "Jest piec kartkowek / wejsciowek , ktore sa podstawa zaliczenia ."
          ],
          [
           "Neutral",
           "Negative",
           "Ćwiczenia . . . tutaj warto być przygotowanym i błyskać na każdych zajęciach tak żeby Cię zapamiętał ."
          ],
          [
           "Neutral",
           "Negative",
           "Ogólnie BwE to pikuś 8 )"
          ],
          [
           "Neutral",
           "Negative",
           "Trzeba napisac 2 kolokwia , zdazaja sie rzadko kartkowki ."
          ],
          [
           "Neutral",
           "Negative",
           "Koła do zdania , choć łatwe nie są ."
          ],
          [
           "Neutral",
           "Positive",
           "Był em na jej zajęciach w 100 % , starał em się jak mogł em by nadgonić grupę gdyż nie zdawał em matury z anglika a znalazł em się na B 1 ."
          ],
          [
           "Neutral",
           "Negative",
           "Jeśli chodzi o wykład na WEMiF - ie ludzie chyba nie mają wyboru - chyba tylko dr Juszkiewicz wykłada ."
          ],
          [
           "Neutral",
           "Negative",
           "Nie wiem czy mozna z nich sie czegos nauczyc , nie majac wczesniej styku z pp , ale mi troche rzeczy w glowie sie rozjasnilo ; ) Tylko to mazanie po foliach . . . : ?"
          ],
          [
           "Neutral",
           "Negative",
           "Projekt nie musi być specjalnie rozbudowany , ma ładnie wyglądać , mieć elegancką zrobioną dokumentację , i mają się pokazywać ładne wykresy ."
          ],
          [
           "Neutral",
           "Neutral",
           "Dr A . T . KOWAL Chemia nieorganiczna II - ćwiczenia Ocena : pozytywna [ / b ] Specyficzny sposób prowadzenia zajęć . . . ."
          ],
          [
           "Neutral",
           "Negative",
           "Raczej nie ma na co narzekać , choć i bez rewelacji"
          ]
         ],
         "hovertemplate": "True Label=%{customdata[0]}<br>TSNE-1=%{x}<br>TSNE-2=%{y}<br>Predicted Label=%{customdata[1]}<br>Text=%{customdata[2]}<extra></extra>",
         "legendgroup": "Neutral",
         "marker": {
          "color": "#636efa",
          "symbol": "circle"
         },
         "mode": "markers",
         "name": "Neutral",
         "orientation": "v",
         "showlegend": true,
         "type": "scatter",
         "x": [
          -2.072395,
          -1.2560855,
          -2.5860708,
          -0.82416797,
          5.7057066,
          0.38784423,
          0.8153841,
          1.6582688,
          -1.1667478,
          0.6681254,
          -1.3062305,
          3.939087,
          1.7215793,
          -1.2284906,
          0.2928555,
          3.9870005,
          0.5224132
         ],
         "xaxis": "x",
         "y": [
          4.444064,
          -2.430487,
          1.7430475,
          1.7160848,
          1.0523872,
          -4.3324957,
          6.4392576,
          -0.28204435,
          -1.1091183,
          4.616389,
          -6.147617,
          -3.8507547,
          -3.31683,
          3.675455,
          -0.94137406,
          -6.1113563,
          -1.9685838
         ],
         "yaxis": "y"
        },
        {
         "customdata": [
          [
           "Negative",
           "Negative",
           "Gdy je poprawiasz i przynosisz następnym razem , wyszukuje Ci kolejne błedy , a to co poprawił eś na dobrze , jest źle i miało być tak jak na poczatku ."
          ],
          [
           "Negative",
           "Negative",
           "UWAGA !"
          ],
          [
           "Negative",
           "Negative",
           "Na każdej laborce kartkówka , teraz moge stwierdzić że może nie były aż takie trudne , ale zaliczył em jedną na 5 czy 6 . . . po prostu jeżeli nigdy przedtem nie miał eś do czynienia z językiem C to naprawde jest trudno ."
          ],
          [
           "Negative",
           "Negative",
           "Pan Biernacki prowadzi laborki naprawde dziwnie , po łebkach , bez zaangażowania , i co najważniejsze - niezrozumiale . . . powtórze jeszcze raz : niezrozumiale !"
          ],
          [
           "Negative",
           "Neutral",
           "Grill ma wadę , dużą , z którą niestety żył em 3 lata . Tłuszcz zamiast skapywać w całości do dołączonej miseczki , spływał pod płytę grzewczą , zawsze po grillowaniu , musiałem go postawić w pionie i patrzeć jak wylewa się to na blat . Nie wiem czy Philips tego nie przemyślał , nie sprawdził , ale jest to tragiczne niedopatrzenie . Kilka dni temu grill odmówił posłuszeństwa . Nie grzeje . Pokrętło do do ustawiania temperatury odmówiło z rok temu , przestało mieć grzechotkę , ale nie przeszkadzało to w użytkowaniu . Za minus uważam też brak możliwości dokupienia samych płyt teflonowych , choćby w cenie połowy grilla . Zdecydowanie nie polecam i nie kupię grilla Philipsa , a w przypadku awarii , muszę kupić nowego ."
          ],
          [
           "Negative",
           "Negative",
           "Ja idąc na informatyke 3 nie znałęm prawie w ogóle jezyka C no i to nie jest kurs dla takich ludzi - doktor zakłada że wszyscy wiedza co to jest i że rozumieja każde jego skomplikowane słowo ! ! !"
          ],
          [
           "Negative",
           "Negative",
           "Bateria posiada jedynie ładny design . Wysokość baterii to ok 30 cm . , przeciętna głębokość zlewozmywaka to ok 20cm . Woda wypływając z baterii i spadając z wysokości 1 / 2 metra powoduje , iż chcąc opłukać talerz lub umyć ręce bierzemy również prysznic ! Zachlapane są szafki i wszystko w około . Zadzwoniła m do handlowca firmy Blanco i poprosiła m o radę , ale podał jedynie telefon do serwisanta , który kazał przykręcić ciśnienie wody . Poza tym próbował tłumaczyć iż baterie są przystosowane do zlewozmywaków BLANCO i gdyby m kupiła zlew Blanco nie było by problemu . Sitko w zlewie Blanco jest tak ustawione , iż jak nakierujemy na nie wylewkę baterii to woda się nie rozchlapuje . Ale kto używając zlewozmywaka myśli o tym aby skierować wylewkę zawsze w stronę sitka ? ? ? ? ? Chyba ten kto nic w kuchni nie robi ! ! Tak więc przestrzegam przed wszystkimi bateriami tego typu firmy Blanco i nie tylko . Porażka i totalny niewypał !"
          ],
          [
           "Negative",
           "Negative",
           "Jestem świeżo po zakupie Marantza 611 . Urządzenie bardzo dobrze odtwarza płyty CD . Gorzej jest z nośnikami USB . Nośniki czytane są długo i dźwięk jest słyszalnie uboższy pomimo odtwarzania plików FLAC . Jednak kompletna porażka to wieszanie się urządzenia jeśli zaczynamy słuchać stacji z radia cyfrowego DAB + . Sytuacja jest powtarzalna po dodaniu stacji dwóch DAB + do ulubionych i próbie przełączania się między nimi następuje zawieszenie urządzenia , dokładniej odtwarzania dźwięku . Przywrócenie odtwarzania dziwięku jest możliwe po wybraniu stacji FM do odtwarzania . Drugą kwestią jest włączanie się samo z siebie urządzenia . Czyli śpisz sobie a ono się włącza . Wyłączasz . Za 2h jest to samo . Jeśli do tego dodamy głęboko rozczarowującą scenę dżwiękową dla nośników USB lepiej kupić coś tańszego nawet jeśli będzie miało te same wady ."
          ],
          [
           "Negative",
           "Negative",
           "uważam że pisanie opinii o czymś co jest rewelacyjne nie do końca ma sens , więc chciała by m napisać o wadzie tej zmywarki . Mam BOSCHA po raz pierwszy i przyznam że daleko mu do Whirpoola którego mialam wczesniej . Przede wszystkim brakuje kontrolki że zakończyło się mycie . Jeżeli jestem poza domem i nie usłyszała m końcowego sygnału to nie wiadomo że mycie jest już skończone . Tak samo nie wiadomo jaki jest etap . Czasem zdarza jej się nie wypluć tabletki i garniki są brudne . no i niestety w porównaniu z Whirpoolem przegrywa w kategorii ciasno ułożone garnki whirpool radził sobie świetnie , najwyraźniej miał lepsze ciśnienie wody . U Boscha to mocno kuleje . Chcąc upchać na maxa - muszę domywać ręcznie . Prowadnice na dole nie są precyzyjne wykonane i kosz dolny po całkowitym wysunieciu zawsze spada . To w Whirpoolu nie miało miejsca bo prowadnice miały kontuynuacje na drzwiczkach ."
          ],
          [
           "Negative",
           "Negative",
           "Muszę się przyznać , że bardzo nudził em się na wykładzie u Pana Michała . . . dlatego na przerwie wybył em i więcej się tam nie pojawił em ."
          ],
          [
           "Negative",
           "Negative",
           "O zgrozo ."
          ]
         ],
         "hovertemplate": "True Label=%{customdata[0]}<br>TSNE-1=%{x}<br>TSNE-2=%{y}<br>Predicted Label=%{customdata[1]}<br>Text=%{customdata[2]}<extra></extra>",
         "legendgroup": "Negative",
         "marker": {
          "color": "#EF553B",
          "symbol": "circle"
         },
         "mode": "markers",
         "name": "Negative",
         "orientation": "v",
         "showlegend": true,
         "type": "scatter",
         "x": [
          2.47156,
          -3.8728607,
          1.2966603,
          0.23273815,
          4.1788406,
          -3.99611,
          4.541575,
          -6.057357,
          2.4743314,
          2.8186555,
          -3.6681037
         ],
         "xaxis": "x",
         "y": [
          2.5139658,
          6.460038,
          1.3874807,
          1.159309,
          1.3560917,
          0.54361045,
          -0.20283125,
          -1.2128073,
          -1.2780447,
          -2.9711425,
          -3.9449303
         ],
         "yaxis": "y"
        },
        {
         "customdata": [
          [
           "Positive",
           "Negative",
           "Z zaliczeniem nie ma raczej problemu ."
          ],
          [
           "Positive",
           "Negative",
           "Miał em przyjemność mieć z tą panią wykład !"
          ],
          [
           "Positive",
           "Negative",
           "Dba o to by każdy się na zajęciach odezwał , ale jeśli ktoś czegoś nie potrafi - nie gnębi , pomaga ."
          ],
          [
           "Positive",
           "Negative",
           "Wprost chciało się do niego przychodzić ."
          ],
          [
           "Positive",
           "Negative",
           "Ale na egzaminie natomiast jest łatwiej ."
          ],
          [
           "Positive",
           "Negative",
           "Pan Gańcza jest osobą bardzo dobrą jako nauczyciel dla początkujących . . . nie rozumiem wogóle powyższych komentarzy jeśli chodzi o \" wiel k"
          ],
          [
           "Positive",
           "Negative",
           "Lepiej nie mogł eś trafić ."
          ],
          [
           "Positive",
           "Negative",
           "Jeśli masz więcej odróbek ( a jest jakiś ważny powód ) można się było z prowadzącą zajęcia dogadać ."
          ],
          [
           "Positive",
           "Negative",
           "Wyjątkowo miły człowiek , nieco zestresowany obecnością świata i ludzi , ale jakoś sobie radzi - patrzenie w podłogę podobno pomaga ."
          ],
          [
           "Positive",
           "Negative",
           "Pytania raczej proste , nie bylo az tak trudno zaliczyc ."
          ],
          [
           "Positive",
           "Neutral",
           "Uważam , że to najlepszy kitowy obiektyw na rynku . Wykonanie metal i bardzo dobrej jakości tworzywi . Pierścień przysłony chodzi z należytym oporem i skokiem . Wbudowana stabilizacja jest wydajna i naprawdę pomaga w wielu sytuacjach . Obiektyw bardzo ostry już od największego otworu przysłony . Celność bdb . To za co pochwalę go dodatkowo to szybki silnik autofokusa - używał em go na poczatku z dosyć mułowatym X - E1 , teraz , kiedy przesiadł em się na X - T1 to mogę tylko chwalić ! ! ! Ostatni plus to bardzo dobrze opracowany system uszczelnień - obiektyw , mimo , iż jest to zoom , w ogóle nie zasysa kurzu do środka ( miałem już wiele zoomów : Nikkory , Sigmy i tam był to problem ) . Polecam !"
          ],
          [
           "Positive",
           "Negative",
           "algebra z geom . analityczna 1 polecam miał em z nim wykłady , bardzo fajny z podejsciem student tez czlowiek , czasami sie myli ale przyznale sie do bledow ."
          ],
          [
           "Positive",
           "Neutral",
           "Tak Podstawa oceny w indeksie : egzamin Niespodziewajki : brak ( zadania powtarzają się co roku ) Poczucie humorupane pokłady Ogólne podejście do studenta : pozytywne Zerowy termin jest najprostszy ( 3 zadania ) - warunkiem przystąpienia jest jednak zaliczenie projektu u dr ."
          ]
         ],
         "hovertemplate": "True Label=%{customdata[0]}<br>TSNE-1=%{x}<br>TSNE-2=%{y}<br>Predicted Label=%{customdata[1]}<br>Text=%{customdata[2]}<extra></extra>",
         "legendgroup": "Positive",
         "marker": {
          "color": "#00cc96",
          "symbol": "circle"
         },
         "mode": "markers",
         "name": "Positive",
         "orientation": "v",
         "showlegend": true,
         "type": "scatter",
         "x": [
          3.6622066,
          5.963192,
          3.7254193,
          1.3080926,
          -1.7647256,
          -1.1233537,
          -0.14030924,
          1.5558382,
          3.0604992,
          -0.74313235,
          5.895321,
          -2.4542942,
          -2.4646683
         ],
         "xaxis": "x",
         "y": [
          4.748581,
          -4.237284,
          -1.7349435,
          -6.2704954,
          -4.3724914,
          0.09163057,
          -3.0452006,
          -2.0530918,
          0.14115573,
          5.5030694,
          -1.7529572,
          -0.47105592,
          -2.1986983
         ],
         "yaxis": "y"
        }
       ],
       "layout": {
        "height": 600,
        "legend": {
         "title": {
          "text": "True Label"
         },
         "tracegroupgap": 0
        },
        "template": {
         "data": {
          "bar": [
           {
            "error_x": {
             "color": "#2a3f5f"
            },
            "error_y": {
             "color": "#2a3f5f"
            },
            "marker": {
             "line": {
              "color": "#E5ECF6",
              "width": 0.5
             },
             "pattern": {
              "fillmode": "overlay",
              "size": 10,
              "solidity": 0.2
             }
            },
            "type": "bar"
           }
          ],
          "barpolar": [
           {
            "marker": {
             "line": {
              "color": "#E5ECF6",
              "width": 0.5
             },
             "pattern": {
              "fillmode": "overlay",
              "size": 10,
              "solidity": 0.2
             }
            },
            "type": "barpolar"
           }
          ],
          "carpet": [
           {
            "aaxis": {
             "endlinecolor": "#2a3f5f",
             "gridcolor": "white",
             "linecolor": "white",
             "minorgridcolor": "white",
             "startlinecolor": "#2a3f5f"
            },
            "baxis": {
             "endlinecolor": "#2a3f5f",
             "gridcolor": "white",
             "linecolor": "white",
             "minorgridcolor": "white",
             "startlinecolor": "#2a3f5f"
            },
            "type": "carpet"
           }
          ],
          "choropleth": [
           {
            "colorbar": {
             "outlinewidth": 0,
             "ticks": ""
            },
            "type": "choropleth"
           }
          ],
          "contour": [
           {
            "colorbar": {
             "outlinewidth": 0,
             "ticks": ""
            },
            "colorscale": [
             [
              0,
              "#0d0887"
             ],
             [
              0.1111111111111111,
              "#46039f"
             ],
             [
              0.2222222222222222,
              "#7201a8"
             ],
             [
              0.3333333333333333,
              "#9c179e"
             ],
             [
              0.4444444444444444,
              "#bd3786"
             ],
             [
              0.5555555555555556,
              "#d8576b"
             ],
             [
              0.6666666666666666,
              "#ed7953"
             ],
             [
              0.7777777777777778,
              "#fb9f3a"
             ],
             [
              0.8888888888888888,
              "#fdca26"
             ],
             [
              1,
              "#f0f921"
             ]
            ],
            "type": "contour"
           }
          ],
          "contourcarpet": [
           {
            "colorbar": {
             "outlinewidth": 0,
             "ticks": ""
            },
            "type": "contourcarpet"
           }
          ],
          "heatmap": [
           {
            "colorbar": {
             "outlinewidth": 0,
             "ticks": ""
            },
            "colorscale": [
             [
              0,
              "#0d0887"
             ],
             [
              0.1111111111111111,
              "#46039f"
             ],
             [
              0.2222222222222222,
              "#7201a8"
             ],
             [
              0.3333333333333333,
              "#9c179e"
             ],
             [
              0.4444444444444444,
              "#bd3786"
             ],
             [
              0.5555555555555556,
              "#d8576b"
             ],
             [
              0.6666666666666666,
              "#ed7953"
             ],
             [
              0.7777777777777778,
              "#fb9f3a"
             ],
             [
              0.8888888888888888,
              "#fdca26"
             ],
             [
              1,
              "#f0f921"
             ]
            ],
            "type": "heatmap"
           }
          ],
          "heatmapgl": [
           {
            "colorbar": {
             "outlinewidth": 0,
             "ticks": ""
            },
            "colorscale": [
             [
              0,
              "#0d0887"
             ],
             [
              0.1111111111111111,
              "#46039f"
             ],
             [
              0.2222222222222222,
              "#7201a8"
             ],
             [
              0.3333333333333333,
              "#9c179e"
             ],
             [
              0.4444444444444444,
              "#bd3786"
             ],
             [
              0.5555555555555556,
              "#d8576b"
             ],
             [
              0.6666666666666666,
              "#ed7953"
             ],
             [
              0.7777777777777778,
              "#fb9f3a"
             ],
             [
              0.8888888888888888,
              "#fdca26"
             ],
             [
              1,
              "#f0f921"
             ]
            ],
            "type": "heatmapgl"
           }
          ],
          "histogram": [
           {
            "marker": {
             "pattern": {
              "fillmode": "overlay",
              "size": 10,
              "solidity": 0.2
             }
            },
            "type": "histogram"
           }
          ],
          "histogram2d": [
           {
            "colorbar": {
             "outlinewidth": 0,
             "ticks": ""
            },
            "colorscale": [
             [
              0,
              "#0d0887"
             ],
             [
              0.1111111111111111,
              "#46039f"
             ],
             [
              0.2222222222222222,
              "#7201a8"
             ],
             [
              0.3333333333333333,
              "#9c179e"
             ],
             [
              0.4444444444444444,
              "#bd3786"
             ],
             [
              0.5555555555555556,
              "#d8576b"
             ],
             [
              0.6666666666666666,
              "#ed7953"
             ],
             [
              0.7777777777777778,
              "#fb9f3a"
             ],
             [
              0.8888888888888888,
              "#fdca26"
             ],
             [
              1,
              "#f0f921"
             ]
            ],
            "type": "histogram2d"
           }
          ],
          "histogram2dcontour": [
           {
            "colorbar": {
             "outlinewidth": 0,
             "ticks": ""
            },
            "colorscale": [
             [
              0,
              "#0d0887"
             ],
             [
              0.1111111111111111,
              "#46039f"
             ],
             [
              0.2222222222222222,
              "#7201a8"
             ],
             [
              0.3333333333333333,
              "#9c179e"
             ],
             [
              0.4444444444444444,
              "#bd3786"
             ],
             [
              0.5555555555555556,
              "#d8576b"
             ],
             [
              0.6666666666666666,
              "#ed7953"
             ],
             [
              0.7777777777777778,
              "#fb9f3a"
             ],
             [
              0.8888888888888888,
              "#fdca26"
             ],
             [
              1,
              "#f0f921"
             ]
            ],
            "type": "histogram2dcontour"
           }
          ],
          "mesh3d": [
           {
            "colorbar": {
             "outlinewidth": 0,
             "ticks": ""
            },
            "type": "mesh3d"
           }
          ],
          "parcoords": [
           {
            "line": {
             "colorbar": {
              "outlinewidth": 0,
              "ticks": ""
             }
            },
            "type": "parcoords"
           }
          ],
          "pie": [
           {
            "automargin": true,
            "type": "pie"
           }
          ],
          "scatter": [
           {
            "fillpattern": {
             "fillmode": "overlay",
             "size": 10,
             "solidity": 0.2
            },
            "type": "scatter"
           }
          ],
          "scatter3d": [
           {
            "line": {
             "colorbar": {
              "outlinewidth": 0,
              "ticks": ""
             }
            },
            "marker": {
             "colorbar": {
              "outlinewidth": 0,
              "ticks": ""
             }
            },
            "type": "scatter3d"
           }
          ],
          "scattercarpet": [
           {
            "marker": {
             "colorbar": {
              "outlinewidth": 0,
              "ticks": ""
             }
            },
            "type": "scattercarpet"
           }
          ],
          "scattergeo": [
           {
            "marker": {
             "colorbar": {
              "outlinewidth": 0,
              "ticks": ""
             }
            },
            "type": "scattergeo"
           }
          ],
          "scattergl": [
           {
            "marker": {
             "colorbar": {
              "outlinewidth": 0,
              "ticks": ""
             }
            },
            "type": "scattergl"
           }
          ],
          "scattermapbox": [
           {
            "marker": {
             "colorbar": {
              "outlinewidth": 0,
              "ticks": ""
             }
            },
            "type": "scattermapbox"
           }
          ],
          "scatterpolar": [
           {
            "marker": {
             "colorbar": {
              "outlinewidth": 0,
              "ticks": ""
             }
            },
            "type": "scatterpolar"
           }
          ],
          "scatterpolargl": [
           {
            "marker": {
             "colorbar": {
              "outlinewidth": 0,
              "ticks": ""
             }
            },
            "type": "scatterpolargl"
           }
          ],
          "scatterternary": [
           {
            "marker": {
             "colorbar": {
              "outlinewidth": 0,
              "ticks": ""
             }
            },
            "type": "scatterternary"
           }
          ],
          "surface": [
           {
            "colorbar": {
             "outlinewidth": 0,
             "ticks": ""
            },
            "colorscale": [
             [
              0,
              "#0d0887"
             ],
             [
              0.1111111111111111,
              "#46039f"
             ],
             [
              0.2222222222222222,
              "#7201a8"
             ],
             [
              0.3333333333333333,
              "#9c179e"
             ],
             [
              0.4444444444444444,
              "#bd3786"
             ],
             [
              0.5555555555555556,
              "#d8576b"
             ],
             [
              0.6666666666666666,
              "#ed7953"
             ],
             [
              0.7777777777777778,
              "#fb9f3a"
             ],
             [
              0.8888888888888888,
              "#fdca26"
             ],
             [
              1,
              "#f0f921"
             ]
            ],
            "type": "surface"
           }
          ],
          "table": [
           {
            "cells": {
             "fill": {
              "color": "#EBF0F8"
             },
             "line": {
              "color": "white"
             }
            },
            "header": {
             "fill": {
              "color": "#C8D4E3"
             },
             "line": {
              "color": "white"
             }
            },
            "type": "table"
           }
          ]
         },
         "layout": {
          "annotationdefaults": {
           "arrowcolor": "#2a3f5f",
           "arrowhead": 0,
           "arrowwidth": 1
          },
          "autotypenumbers": "strict",
          "coloraxis": {
           "colorbar": {
            "outlinewidth": 0,
            "ticks": ""
           }
          },
          "colorscale": {
           "diverging": [
            [
             0,
             "#8e0152"
            ],
            [
             0.1,
             "#c51b7d"
            ],
            [
             0.2,
             "#de77ae"
            ],
            [
             0.3,
             "#f1b6da"
            ],
            [
             0.4,
             "#fde0ef"
            ],
            [
             0.5,
             "#f7f7f7"
            ],
            [
             0.6,
             "#e6f5d0"
            ],
            [
             0.7,
             "#b8e186"
            ],
            [
             0.8,
             "#7fbc41"
            ],
            [
             0.9,
             "#4d9221"
            ],
            [
             1,
             "#276419"
            ]
           ],
           "sequential": [
            [
             0,
             "#0d0887"
            ],
            [
             0.1111111111111111,
             "#46039f"
            ],
            [
             0.2222222222222222,
             "#7201a8"
            ],
            [
             0.3333333333333333,
             "#9c179e"
            ],
            [
             0.4444444444444444,
             "#bd3786"
            ],
            [
             0.5555555555555556,
             "#d8576b"
            ],
            [
             0.6666666666666666,
             "#ed7953"
            ],
            [
             0.7777777777777778,
             "#fb9f3a"
            ],
            [
             0.8888888888888888,
             "#fdca26"
            ],
            [
             1,
             "#f0f921"
            ]
           ],
           "sequentialminus": [
            [
             0,
             "#0d0887"
            ],
            [
             0.1111111111111111,
             "#46039f"
            ],
            [
             0.2222222222222222,
             "#7201a8"
            ],
            [
             0.3333333333333333,
             "#9c179e"
            ],
            [
             0.4444444444444444,
             "#bd3786"
            ],
            [
             0.5555555555555556,
             "#d8576b"
            ],
            [
             0.6666666666666666,
             "#ed7953"
            ],
            [
             0.7777777777777778,
             "#fb9f3a"
            ],
            [
             0.8888888888888888,
             "#fdca26"
            ],
            [
             1,
             "#f0f921"
            ]
           ]
          },
          "colorway": [
           "#636efa",
           "#EF553B",
           "#00cc96",
           "#ab63fa",
           "#FFA15A",
           "#19d3f3",
           "#FF6692",
           "#B6E880",
           "#FF97FF",
           "#FECB52"
          ],
          "font": {
           "color": "#2a3f5f"
          },
          "geo": {
           "bgcolor": "white",
           "lakecolor": "white",
           "landcolor": "#E5ECF6",
           "showlakes": true,
           "showland": true,
           "subunitcolor": "white"
          },
          "hoverlabel": {
           "align": "left"
          },
          "hovermode": "closest",
          "mapbox": {
           "style": "light"
          },
          "paper_bgcolor": "white",
          "plot_bgcolor": "#E5ECF6",
          "polar": {
           "angularaxis": {
            "gridcolor": "white",
            "linecolor": "white",
            "ticks": ""
           },
           "bgcolor": "#E5ECF6",
           "radialaxis": {
            "gridcolor": "white",
            "linecolor": "white",
            "ticks": ""
           }
          },
          "scene": {
           "xaxis": {
            "backgroundcolor": "#E5ECF6",
            "gridcolor": "white",
            "gridwidth": 2,
            "linecolor": "white",
            "showbackground": true,
            "ticks": "",
            "zerolinecolor": "white"
           },
           "yaxis": {
            "backgroundcolor": "#E5ECF6",
            "gridcolor": "white",
            "gridwidth": 2,
            "linecolor": "white",
            "showbackground": true,
            "ticks": "",
            "zerolinecolor": "white"
           },
           "zaxis": {
            "backgroundcolor": "#E5ECF6",
            "gridcolor": "white",
            "gridwidth": 2,
            "linecolor": "white",
            "showbackground": true,
            "ticks": "",
            "zerolinecolor": "white"
           }
          },
          "shapedefaults": {
           "line": {
            "color": "#2a3f5f"
           }
          },
          "ternary": {
           "aaxis": {
            "gridcolor": "white",
            "linecolor": "white",
            "ticks": ""
           },
           "baxis": {
            "gridcolor": "white",
            "linecolor": "white",
            "ticks": ""
           },
           "bgcolor": "#E5ECF6",
           "caxis": {
            "gridcolor": "white",
            "linecolor": "white",
            "ticks": ""
           }
          },
          "title": {
           "x": 0.05
          },
          "xaxis": {
           "automargin": true,
           "gridcolor": "white",
           "linecolor": "white",
           "ticks": "",
           "title": {
            "standoff": 15
           },
           "zerolinecolor": "white",
           "zerolinewidth": 2
          },
          "yaxis": {
           "automargin": true,
           "gridcolor": "white",
           "linecolor": "white",
           "ticks": "",
           "title": {
            "standoff": 15
           },
           "zerolinecolor": "white",
           "zerolinewidth": 2
          }
         }
        },
        "title": {
         "text": "Przestrzeń Wektorowa Testowych Przypadków (Kolor: Prawdziwe Etykiety)"
        },
        "width": 1200,
        "xaxis": {
         "anchor": "y",
         "domain": [
          0,
          1
         ],
         "title": {
          "text": "TSNE-1"
         }
        },
        "yaxis": {
         "anchor": "x",
         "domain": [
          0,
          1
         ],
         "title": {
          "text": "TSNE-2"
         }
        }
       }
      }
     },
     "metadata": {},
     "output_type": "display_data"
    },
    {
     "data": {
      "application/vnd.plotly.v1+json": {
       "config": {
        "plotlyServerURL": "https://plot.ly"
       },
       "data": [
        {
         "customdata": [
          [
           "Neutral",
           "Neutral",
           "Jesli sluchasz go na zajeciach i zrobisz w domu ze 2 zadanka , to powinienes bez problemow zaliczyc ."
          ],
          [
           "Neutral",
           "Neutral",
           "Zadania na egzaminie do latwych nie naleza , ale ukladaja je pracownicy IM , wiec czego mozna sie spodziewac : ) OCENA OGÓLNA : ŚREDNIO NA JEŻA"
          ],
          [
           "Negative",
           "Neutral",
           "Grill ma wadę , dużą , z którą niestety żył em 3 lata . Tłuszcz zamiast skapywać w całości do dołączonej miseczki , spływał pod płytę grzewczą , zawsze po grillowaniu , musiałem go postawić w pionie i patrzeć jak wylewa się to na blat . Nie wiem czy Philips tego nie przemyślał , nie sprawdził , ale jest to tragiczne niedopatrzenie . Kilka dni temu grill odmówił posłuszeństwa . Nie grzeje . Pokrętło do do ustawiania temperatury odmówiło z rok temu , przestało mieć grzechotkę , ale nie przeszkadzało to w użytkowaniu . Za minus uważam też brak możliwości dokupienia samych płyt teflonowych , choćby w cenie połowy grilla . Zdecydowanie nie polecam i nie kupię grilla Philipsa , a w przypadku awarii , muszę kupić nowego ."
          ],
          [
           "Neutral",
           "Neutral",
           "Jest piec kartkowek / wejsciowek , ktore sa podstawa zaliczenia ."
          ],
          [
           "Positive",
           "Neutral",
           "Uważam , że to najlepszy kitowy obiektyw na rynku . Wykonanie metal i bardzo dobrej jakości tworzywi . Pierścień przysłony chodzi z należytym oporem i skokiem . Wbudowana stabilizacja jest wydajna i naprawdę pomaga w wielu sytuacjach . Obiektyw bardzo ostry już od największego otworu przysłony . Celność bdb . To za co pochwalę go dodatkowo to szybki silnik autofokusa - używał em go na poczatku z dosyć mułowatym X - E1 , teraz , kiedy przesiadł em się na X - T1 to mogę tylko chwalić ! ! ! Ostatni plus to bardzo dobrze opracowany system uszczelnień - obiektyw , mimo , iż jest to zoom , w ogóle nie zasysa kurzu do środka ( miałem już wiele zoomów : Nikkory , Sigmy i tam był to problem ) . Polecam !"
          ],
          [
           "Positive",
           "Neutral",
           "Tak Podstawa oceny w indeksie : egzamin Niespodziewajki : brak ( zadania powtarzają się co roku ) Poczucie humorupane pokłady Ogólne podejście do studenta : pozytywne Zerowy termin jest najprostszy ( 3 zadania ) - warunkiem przystąpienia jest jednak zaliczenie projektu u dr ."
          ],
          [
           "Neutral",
           "Neutral",
           "Dr A . T . KOWAL Chemia nieorganiczna II - ćwiczenia Ocena : pozytywna [ / b ] Specyficzny sposób prowadzenia zajęć . . . ."
          ]
         ],
         "hovertemplate": "Predicted Label=%{customdata[1]}<br>TSNE-1=%{x}<br>TSNE-2=%{y}<br>True Label=%{customdata[0]}<br>Text=%{customdata[2]}<extra></extra>",
         "legendgroup": "Neutral",
         "marker": {
          "color": "#636efa",
          "symbol": "circle"
         },
         "mode": "markers",
         "name": "Neutral",
         "orientation": "v",
         "showlegend": true,
         "type": "scatter",
         "x": [
          -2.072395,
          -2.5860708,
          4.1788406,
          0.8153841,
          5.895321,
          -2.4646683,
          3.9870005
         ],
         "xaxis": "x",
         "y": [
          4.444064,
          1.7430475,
          1.3560917,
          6.4392576,
          -1.7529572,
          -2.1986983,
          -6.1113563
         ],
         "yaxis": "y"
        },
        {
         "customdata": [
          [
           "Negative",
           "Negative",
           "Gdy je poprawiasz i przynosisz następnym razem , wyszukuje Ci kolejne błedy , a to co poprawił eś na dobrze , jest źle i miało być tak jak na poczatku ."
          ],
          [
           "Negative",
           "Negative",
           "UWAGA !"
          ],
          [
           "Positive",
           "Negative",
           "Z zaliczeniem nie ma raczej problemu ."
          ],
          [
           "Neutral",
           "Negative",
           "Mało wytłumaczy , ale cały czas pyta czy wszyscy rozumieją , jeżeli on też rozumie dany dział to bedzie tłumaczył aż wszyscy nie potwierdza że zrozumilei : ) Koła raczej trudniejsze , ale można zawsze liczyć na dopytke na koniec ( a to mało kto niezdaje ) Mimo swoich wad jest ciekawą postacia , i czesto sie zagłebia na wykładzie w tematy \""
          ],
          [
           "Neutral",
           "Negative",
           "Pytania podczas laborki potrafią byc ciężkie , można wylecieć na sam koniec laboratorium , ale z reguły 3 , może 4 grupy bedą zapytane podczas całych zajęć ."
          ],
          [
           "Positive",
           "Negative",
           "Miał em przyjemność mieć z tą panią wykład !"
          ],
          [
           "Positive",
           "Negative",
           "Dba o to by każdy się na zajęciach odezwał , ale jeśli ktoś czegoś nie potrafi - nie gnębi , pomaga ."
          ],
          [
           "Negative",
           "Negative",
           "Na każdej laborce kartkówka , teraz moge stwierdzić że może nie były aż takie trudne , ale zaliczył em jedną na 5 czy 6 . . . po prostu jeżeli nigdy przedtem nie miał eś do czynienia z językiem C to naprawde jest trudno ."
          ],
          [
           "Negative",
           "Negative",
           "Pan Biernacki prowadzi laborki naprawde dziwnie , po łebkach , bez zaangażowania , i co najważniejsze - niezrozumiale . . . powtórze jeszcze raz : niezrozumiale !"
          ],
          [
           "Positive",
           "Negative",
           "Wprost chciało się do niego przychodzić ."
          ],
          [
           "Positive",
           "Negative",
           "Ale na egzaminie natomiast jest łatwiej ."
          ],
          [
           "Neutral",
           "Negative",
           "Pilot funkcjonalnie pierwsza klasa , można dosłownie wszystkim sterować , ogromna baza sprzętu , możliwość dowolnego konfigurowania , super wygląd , podświetlenie klawiszy , auto - wyłączanie ekranu . Niestety sama jakość wykonania pozostawia wiele do życzenia . Konkretnie klawisze które po roku użytkowania zacinają się . Pierwszy egzemplarz po roku został wymieniony na nowy , drugi właśnie tez ma identyczny problem z klawiszami . Niestety rozebrać go nie idzie bo próbował em na starym , a wystarczyło by wyczyścić gumki lub wymienić styki węglowe . Mam w domu piloty od sprzętu audio które mają po kilkanaście lat i działają bez zarzutu do dzisiaj ."
          ],
          [
           "Positive",
           "Negative",
           "Pan Gańcza jest osobą bardzo dobrą jako nauczyciel dla początkujących . . . nie rozumiem wogóle powyższych komentarzy jeśli chodzi o \" wiel k"
          ],
          [
           "Positive",
           "Negative",
           "Lepiej nie mogł eś trafić ."
          ],
          [
           "Positive",
           "Negative",
           "Jeśli masz więcej odróbek ( a jest jakiś ważny powód ) można się było z prowadzącą zajęcia dogadać ."
          ],
          [
           "Neutral",
           "Negative",
           "Przyłapanie na ściąganiu to 2.0 z danej pracy ."
          ],
          [
           "Neutral",
           "Negative",
           "Ćwiczenia . . . tutaj warto być przygotowanym i błyskać na każdych zajęciach tak żeby Cię zapamiętał ."
          ],
          [
           "Negative",
           "Negative",
           "Ja idąc na informatyke 3 nie znałęm prawie w ogóle jezyka C no i to nie jest kurs dla takich ludzi - doktor zakłada że wszyscy wiedza co to jest i że rozumieja każde jego skomplikowane słowo ! ! !"
          ],
          [
           "Positive",
           "Negative",
           "Wyjątkowo miły człowiek , nieco zestresowany obecnością świata i ludzi , ale jakoś sobie radzi - patrzenie w podłogę podobno pomaga ."
          ],
          [
           "Neutral",
           "Negative",
           "Ogólnie BwE to pikuś 8 )"
          ],
          [
           "Negative",
           "Negative",
           "Bateria posiada jedynie ładny design . Wysokość baterii to ok 30 cm . , przeciętna głębokość zlewozmywaka to ok 20cm . Woda wypływając z baterii i spadając z wysokości 1 / 2 metra powoduje , iż chcąc opłukać talerz lub umyć ręce bierzemy również prysznic ! Zachlapane są szafki i wszystko w około . Zadzwoniła m do handlowca firmy Blanco i poprosiła m o radę , ale podał jedynie telefon do serwisanta , który kazał przykręcić ciśnienie wody . Poza tym próbował tłumaczyć iż baterie są przystosowane do zlewozmywaków BLANCO i gdyby m kupiła zlew Blanco nie było by problemu . Sitko w zlewie Blanco jest tak ustawione , iż jak nakierujemy na nie wylewkę baterii to woda się nie rozchlapuje . Ale kto używając zlewozmywaka myśli o tym aby skierować wylewkę zawsze w stronę sitka ? ? ? ? ? Chyba ten kto nic w kuchni nie robi ! ! Tak więc przestrzegam przed wszystkimi bateriami tego typu firmy Blanco i nie tylko . Porażka i totalny niewypał !"
          ],
          [
           "Negative",
           "Negative",
           "Jestem świeżo po zakupie Marantza 611 . Urządzenie bardzo dobrze odtwarza płyty CD . Gorzej jest z nośnikami USB . Nośniki czytane są długo i dźwięk jest słyszalnie uboższy pomimo odtwarzania plików FLAC . Jednak kompletna porażka to wieszanie się urządzenia jeśli zaczynamy słuchać stacji z radia cyfrowego DAB + . Sytuacja jest powtarzalna po dodaniu stacji dwóch DAB + do ulubionych i próbie przełączania się między nimi następuje zawieszenie urządzenia , dokładniej odtwarzania dźwięku . Przywrócenie odtwarzania dziwięku jest możliwe po wybraniu stacji FM do odtwarzania . Drugą kwestią jest włączanie się samo z siebie urządzenia . Czyli śpisz sobie a ono się włącza . Wyłączasz . Za 2h jest to samo . Jeśli do tego dodamy głęboko rozczarowującą scenę dżwiękową dla nośników USB lepiej kupić coś tańszego nawet jeśli będzie miało te same wady ."
          ],
          [
           "Neutral",
           "Negative",
           "Trzeba napisac 2 kolokwia , zdazaja sie rzadko kartkowki ."
          ],
          [
           "Neutral",
           "Negative",
           "Koła do zdania , choć łatwe nie są ."
          ],
          [
           "Neutral",
           "Negative",
           "Jeśli chodzi o wykład na WEMiF - ie ludzie chyba nie mają wyboru - chyba tylko dr Juszkiewicz wykłada ."
          ],
          [
           "Negative",
           "Negative",
           "uważam że pisanie opinii o czymś co jest rewelacyjne nie do końca ma sens , więc chciała by m napisać o wadzie tej zmywarki . Mam BOSCHA po raz pierwszy i przyznam że daleko mu do Whirpoola którego mialam wczesniej . Przede wszystkim brakuje kontrolki że zakończyło się mycie . Jeżeli jestem poza domem i nie usłyszała m końcowego sygnału to nie wiadomo że mycie jest już skończone . Tak samo nie wiadomo jaki jest etap . Czasem zdarza jej się nie wypluć tabletki i garniki są brudne . no i niestety w porównaniu z Whirpoolem przegrywa w kategorii ciasno ułożone garnki whirpool radził sobie świetnie , najwyraźniej miał lepsze ciśnienie wody . U Boscha to mocno kuleje . Chcąc upchać na maxa - muszę domywać ręcznie . Prowadnice na dole nie są precyzyjne wykonane i kosz dolny po całkowitym wysunieciu zawsze spada . To w Whirpoolu nie miało miejsca bo prowadnice miały kontuynuacje na drzwiczkach ."
          ],
          [
           "Negative",
           "Negative",
           "Muszę się przyznać , że bardzo nudził em się na wykładzie u Pana Michała . . . dlatego na przerwie wybył em i więcej się tam nie pojawił em ."
          ],
          [
           "Negative",
           "Negative",
           "O zgrozo ."
          ],
          [
           "Neutral",
           "Negative",
           "Nie wiem czy mozna z nich sie czegos nauczyc , nie majac wczesniej styku z pp , ale mi troche rzeczy w glowie sie rozjasnilo ; ) Tylko to mazanie po foliach . . . : ?"
          ],
          [
           "Positive",
           "Negative",
           "Pytania raczej proste , nie bylo az tak trudno zaliczyc ."
          ],
          [
           "Neutral",
           "Negative",
           "Projekt nie musi być specjalnie rozbudowany , ma ładnie wyglądać , mieć elegancką zrobioną dokumentację , i mają się pokazywać ładne wykresy ."
          ],
          [
           "Positive",
           "Negative",
           "algebra z geom . analityczna 1 polecam miał em z nim wykłady , bardzo fajny z podejsciem student tez czlowiek , czasami sie myli ale przyznale sie do bledow ."
          ],
          [
           "Neutral",
           "Negative",
           "Raczej nie ma na co narzekać , choć i bez rewelacji"
          ]
         ],
         "hovertemplate": "Predicted Label=%{customdata[1]}<br>TSNE-1=%{x}<br>TSNE-2=%{y}<br>True Label=%{customdata[0]}<br>Text=%{customdata[2]}<extra></extra>",
         "legendgroup": "Negative",
         "marker": {
          "color": "#EF553B",
          "symbol": "circle"
         },
         "mode": "markers",
         "name": "Negative",
         "orientation": "v",
         "showlegend": true,
         "type": "scatter",
         "x": [
          2.47156,
          -3.8728607,
          3.6622066,
          -1.2560855,
          -0.82416797,
          5.963192,
          3.7254193,
          1.2966603,
          0.23273815,
          1.3080926,
          -1.7647256,
          5.7057066,
          -1.1233537,
          -0.14030924,
          1.5558382,
          0.38784423,
          1.6582688,
          -3.99611,
          3.0604992,
          -1.1667478,
          4.541575,
          -6.057357,
          0.6681254,
          -1.3062305,
          1.7215793,
          2.4743314,
          2.8186555,
          -3.6681037,
          -1.2284906,
          -0.74313235,
          0.2928555,
          -2.4542942,
          0.5224132
         ],
         "xaxis": "x",
         "y": [
          2.5139658,
          6.460038,
          4.748581,
          -2.430487,
          1.7160848,
          -4.237284,
          -1.7349435,
          1.3874807,
          1.159309,
          -6.2704954,
          -4.3724914,
          1.0523872,
          0.09163057,
          -3.0452006,
          -2.0530918,
          -4.3324957,
          -0.28204435,
          0.54361045,
          0.14115573,
          -1.1091183,
          -0.20283125,
          -1.2128073,
          4.616389,
          -6.147617,
          -3.31683,
          -1.2780447,
          -2.9711425,
          -3.9449303,
          3.675455,
          5.5030694,
          -0.94137406,
          -0.47105592,
          -1.9685838
         ],
         "yaxis": "y"
        },
        {
         "customdata": [
          [
           "Neutral",
           "Positive",
           "Był em na jej zajęciach w 100 % , starał em się jak mogł em by nadgonić grupę gdyż nie zdawał em matury z anglika a znalazł em się na B 1 ."
          ]
         ],
         "hovertemplate": "Predicted Label=%{customdata[1]}<br>TSNE-1=%{x}<br>TSNE-2=%{y}<br>True Label=%{customdata[0]}<br>Text=%{customdata[2]}<extra></extra>",
         "legendgroup": "Positive",
         "marker": {
          "color": "#00cc96",
          "symbol": "circle"
         },
         "mode": "markers",
         "name": "Positive",
         "orientation": "v",
         "showlegend": true,
         "type": "scatter",
         "x": [
          3.939087
         ],
         "xaxis": "x",
         "y": [
          -3.8507547
         ],
         "yaxis": "y"
        }
       ],
       "layout": {
        "height": 600,
        "legend": {
         "title": {
          "text": "Predicted Label"
         },
         "tracegroupgap": 0
        },
        "template": {
         "data": {
          "bar": [
           {
            "error_x": {
             "color": "#2a3f5f"
            },
            "error_y": {
             "color": "#2a3f5f"
            },
            "marker": {
             "line": {
              "color": "#E5ECF6",
              "width": 0.5
             },
             "pattern": {
              "fillmode": "overlay",
              "size": 10,
              "solidity": 0.2
             }
            },
            "type": "bar"
           }
          ],
          "barpolar": [
           {
            "marker": {
             "line": {
              "color": "#E5ECF6",
              "width": 0.5
             },
             "pattern": {
              "fillmode": "overlay",
              "size": 10,
              "solidity": 0.2
             }
            },
            "type": "barpolar"
           }
          ],
          "carpet": [
           {
            "aaxis": {
             "endlinecolor": "#2a3f5f",
             "gridcolor": "white",
             "linecolor": "white",
             "minorgridcolor": "white",
             "startlinecolor": "#2a3f5f"
            },
            "baxis": {
             "endlinecolor": "#2a3f5f",
             "gridcolor": "white",
             "linecolor": "white",
             "minorgridcolor": "white",
             "startlinecolor": "#2a3f5f"
            },
            "type": "carpet"
           }
          ],
          "choropleth": [
           {
            "colorbar": {
             "outlinewidth": 0,
             "ticks": ""
            },
            "type": "choropleth"
           }
          ],
          "contour": [
           {
            "colorbar": {
             "outlinewidth": 0,
             "ticks": ""
            },
            "colorscale": [
             [
              0,
              "#0d0887"
             ],
             [
              0.1111111111111111,
              "#46039f"
             ],
             [
              0.2222222222222222,
              "#7201a8"
             ],
             [
              0.3333333333333333,
              "#9c179e"
             ],
             [
              0.4444444444444444,
              "#bd3786"
             ],
             [
              0.5555555555555556,
              "#d8576b"
             ],
             [
              0.6666666666666666,
              "#ed7953"
             ],
             [
              0.7777777777777778,
              "#fb9f3a"
             ],
             [
              0.8888888888888888,
              "#fdca26"
             ],
             [
              1,
              "#f0f921"
             ]
            ],
            "type": "contour"
           }
          ],
          "contourcarpet": [
           {
            "colorbar": {
             "outlinewidth": 0,
             "ticks": ""
            },
            "type": "contourcarpet"
           }
          ],
          "heatmap": [
           {
            "colorbar": {
             "outlinewidth": 0,
             "ticks": ""
            },
            "colorscale": [
             [
              0,
              "#0d0887"
             ],
             [
              0.1111111111111111,
              "#46039f"
             ],
             [
              0.2222222222222222,
              "#7201a8"
             ],
             [
              0.3333333333333333,
              "#9c179e"
             ],
             [
              0.4444444444444444,
              "#bd3786"
             ],
             [
              0.5555555555555556,
              "#d8576b"
             ],
             [
              0.6666666666666666,
              "#ed7953"
             ],
             [
              0.7777777777777778,
              "#fb9f3a"
             ],
             [
              0.8888888888888888,
              "#fdca26"
             ],
             [
              1,
              "#f0f921"
             ]
            ],
            "type": "heatmap"
           }
          ],
          "heatmapgl": [
           {
            "colorbar": {
             "outlinewidth": 0,
             "ticks": ""
            },
            "colorscale": [
             [
              0,
              "#0d0887"
             ],
             [
              0.1111111111111111,
              "#46039f"
             ],
             [
              0.2222222222222222,
              "#7201a8"
             ],
             [
              0.3333333333333333,
              "#9c179e"
             ],
             [
              0.4444444444444444,
              "#bd3786"
             ],
             [
              0.5555555555555556,
              "#d8576b"
             ],
             [
              0.6666666666666666,
              "#ed7953"
             ],
             [
              0.7777777777777778,
              "#fb9f3a"
             ],
             [
              0.8888888888888888,
              "#fdca26"
             ],
             [
              1,
              "#f0f921"
             ]
            ],
            "type": "heatmapgl"
           }
          ],
          "histogram": [
           {
            "marker": {
             "pattern": {
              "fillmode": "overlay",
              "size": 10,
              "solidity": 0.2
             }
            },
            "type": "histogram"
           }
          ],
          "histogram2d": [
           {
            "colorbar": {
             "outlinewidth": 0,
             "ticks": ""
            },
            "colorscale": [
             [
              0,
              "#0d0887"
             ],
             [
              0.1111111111111111,
              "#46039f"
             ],
             [
              0.2222222222222222,
              "#7201a8"
             ],
             [
              0.3333333333333333,
              "#9c179e"
             ],
             [
              0.4444444444444444,
              "#bd3786"
             ],
             [
              0.5555555555555556,
              "#d8576b"
             ],
             [
              0.6666666666666666,
              "#ed7953"
             ],
             [
              0.7777777777777778,
              "#fb9f3a"
             ],
             [
              0.8888888888888888,
              "#fdca26"
             ],
             [
              1,
              "#f0f921"
             ]
            ],
            "type": "histogram2d"
           }
          ],
          "histogram2dcontour": [
           {
            "colorbar": {
             "outlinewidth": 0,
             "ticks": ""
            },
            "colorscale": [
             [
              0,
              "#0d0887"
             ],
             [
              0.1111111111111111,
              "#46039f"
             ],
             [
              0.2222222222222222,
              "#7201a8"
             ],
             [
              0.3333333333333333,
              "#9c179e"
             ],
             [
              0.4444444444444444,
              "#bd3786"
             ],
             [
              0.5555555555555556,
              "#d8576b"
             ],
             [
              0.6666666666666666,
              "#ed7953"
             ],
             [
              0.7777777777777778,
              "#fb9f3a"
             ],
             [
              0.8888888888888888,
              "#fdca26"
             ],
             [
              1,
              "#f0f921"
             ]
            ],
            "type": "histogram2dcontour"
           }
          ],
          "mesh3d": [
           {
            "colorbar": {
             "outlinewidth": 0,
             "ticks": ""
            },
            "type": "mesh3d"
           }
          ],
          "parcoords": [
           {
            "line": {
             "colorbar": {
              "outlinewidth": 0,
              "ticks": ""
             }
            },
            "type": "parcoords"
           }
          ],
          "pie": [
           {
            "automargin": true,
            "type": "pie"
           }
          ],
          "scatter": [
           {
            "fillpattern": {
             "fillmode": "overlay",
             "size": 10,
             "solidity": 0.2
            },
            "type": "scatter"
           }
          ],
          "scatter3d": [
           {
            "line": {
             "colorbar": {
              "outlinewidth": 0,
              "ticks": ""
             }
            },
            "marker": {
             "colorbar": {
              "outlinewidth": 0,
              "ticks": ""
             }
            },
            "type": "scatter3d"
           }
          ],
          "scattercarpet": [
           {
            "marker": {
             "colorbar": {
              "outlinewidth": 0,
              "ticks": ""
             }
            },
            "type": "scattercarpet"
           }
          ],
          "scattergeo": [
           {
            "marker": {
             "colorbar": {
              "outlinewidth": 0,
              "ticks": ""
             }
            },
            "type": "scattergeo"
           }
          ],
          "scattergl": [
           {
            "marker": {
             "colorbar": {
              "outlinewidth": 0,
              "ticks": ""
             }
            },
            "type": "scattergl"
           }
          ],
          "scattermapbox": [
           {
            "marker": {
             "colorbar": {
              "outlinewidth": 0,
              "ticks": ""
             }
            },
            "type": "scattermapbox"
           }
          ],
          "scatterpolar": [
           {
            "marker": {
             "colorbar": {
              "outlinewidth": 0,
              "ticks": ""
             }
            },
            "type": "scatterpolar"
           }
          ],
          "scatterpolargl": [
           {
            "marker": {
             "colorbar": {
              "outlinewidth": 0,
              "ticks": ""
             }
            },
            "type": "scatterpolargl"
           }
          ],
          "scatterternary": [
           {
            "marker": {
             "colorbar": {
              "outlinewidth": 0,
              "ticks": ""
             }
            },
            "type": "scatterternary"
           }
          ],
          "surface": [
           {
            "colorbar": {
             "outlinewidth": 0,
             "ticks": ""
            },
            "colorscale": [
             [
              0,
              "#0d0887"
             ],
             [
              0.1111111111111111,
              "#46039f"
             ],
             [
              0.2222222222222222,
              "#7201a8"
             ],
             [
              0.3333333333333333,
              "#9c179e"
             ],
             [
              0.4444444444444444,
              "#bd3786"
             ],
             [
              0.5555555555555556,
              "#d8576b"
             ],
             [
              0.6666666666666666,
              "#ed7953"
             ],
             [
              0.7777777777777778,
              "#fb9f3a"
             ],
             [
              0.8888888888888888,
              "#fdca26"
             ],
             [
              1,
              "#f0f921"
             ]
            ],
            "type": "surface"
           }
          ],
          "table": [
           {
            "cells": {
             "fill": {
              "color": "#EBF0F8"
             },
             "line": {
              "color": "white"
             }
            },
            "header": {
             "fill": {
              "color": "#C8D4E3"
             },
             "line": {
              "color": "white"
             }
            },
            "type": "table"
           }
          ]
         },
         "layout": {
          "annotationdefaults": {
           "arrowcolor": "#2a3f5f",
           "arrowhead": 0,
           "arrowwidth": 1
          },
          "autotypenumbers": "strict",
          "coloraxis": {
           "colorbar": {
            "outlinewidth": 0,
            "ticks": ""
           }
          },
          "colorscale": {
           "diverging": [
            [
             0,
             "#8e0152"
            ],
            [
             0.1,
             "#c51b7d"
            ],
            [
             0.2,
             "#de77ae"
            ],
            [
             0.3,
             "#f1b6da"
            ],
            [
             0.4,
             "#fde0ef"
            ],
            [
             0.5,
             "#f7f7f7"
            ],
            [
             0.6,
             "#e6f5d0"
            ],
            [
             0.7,
             "#b8e186"
            ],
            [
             0.8,
             "#7fbc41"
            ],
            [
             0.9,
             "#4d9221"
            ],
            [
             1,
             "#276419"
            ]
           ],
           "sequential": [
            [
             0,
             "#0d0887"
            ],
            [
             0.1111111111111111,
             "#46039f"
            ],
            [
             0.2222222222222222,
             "#7201a8"
            ],
            [
             0.3333333333333333,
             "#9c179e"
            ],
            [
             0.4444444444444444,
             "#bd3786"
            ],
            [
             0.5555555555555556,
             "#d8576b"
            ],
            [
             0.6666666666666666,
             "#ed7953"
            ],
            [
             0.7777777777777778,
             "#fb9f3a"
            ],
            [
             0.8888888888888888,
             "#fdca26"
            ],
            [
             1,
             "#f0f921"
            ]
           ],
           "sequentialminus": [
            [
             0,
             "#0d0887"
            ],
            [
             0.1111111111111111,
             "#46039f"
            ],
            [
             0.2222222222222222,
             "#7201a8"
            ],
            [
             0.3333333333333333,
             "#9c179e"
            ],
            [
             0.4444444444444444,
             "#bd3786"
            ],
            [
             0.5555555555555556,
             "#d8576b"
            ],
            [
             0.6666666666666666,
             "#ed7953"
            ],
            [
             0.7777777777777778,
             "#fb9f3a"
            ],
            [
             0.8888888888888888,
             "#fdca26"
            ],
            [
             1,
             "#f0f921"
            ]
           ]
          },
          "colorway": [
           "#636efa",
           "#EF553B",
           "#00cc96",
           "#ab63fa",
           "#FFA15A",
           "#19d3f3",
           "#FF6692",
           "#B6E880",
           "#FF97FF",
           "#FECB52"
          ],
          "font": {
           "color": "#2a3f5f"
          },
          "geo": {
           "bgcolor": "white",
           "lakecolor": "white",
           "landcolor": "#E5ECF6",
           "showlakes": true,
           "showland": true,
           "subunitcolor": "white"
          },
          "hoverlabel": {
           "align": "left"
          },
          "hovermode": "closest",
          "mapbox": {
           "style": "light"
          },
          "paper_bgcolor": "white",
          "plot_bgcolor": "#E5ECF6",
          "polar": {
           "angularaxis": {
            "gridcolor": "white",
            "linecolor": "white",
            "ticks": ""
           },
           "bgcolor": "#E5ECF6",
           "radialaxis": {
            "gridcolor": "white",
            "linecolor": "white",
            "ticks": ""
           }
          },
          "scene": {
           "xaxis": {
            "backgroundcolor": "#E5ECF6",
            "gridcolor": "white",
            "gridwidth": 2,
            "linecolor": "white",
            "showbackground": true,
            "ticks": "",
            "zerolinecolor": "white"
           },
           "yaxis": {
            "backgroundcolor": "#E5ECF6",
            "gridcolor": "white",
            "gridwidth": 2,
            "linecolor": "white",
            "showbackground": true,
            "ticks": "",
            "zerolinecolor": "white"
           },
           "zaxis": {
            "backgroundcolor": "#E5ECF6",
            "gridcolor": "white",
            "gridwidth": 2,
            "linecolor": "white",
            "showbackground": true,
            "ticks": "",
            "zerolinecolor": "white"
           }
          },
          "shapedefaults": {
           "line": {
            "color": "#2a3f5f"
           }
          },
          "ternary": {
           "aaxis": {
            "gridcolor": "white",
            "linecolor": "white",
            "ticks": ""
           },
           "baxis": {
            "gridcolor": "white",
            "linecolor": "white",
            "ticks": ""
           },
           "bgcolor": "#E5ECF6",
           "caxis": {
            "gridcolor": "white",
            "linecolor": "white",
            "ticks": ""
           }
          },
          "title": {
           "x": 0.05
          },
          "xaxis": {
           "automargin": true,
           "gridcolor": "white",
           "linecolor": "white",
           "ticks": "",
           "title": {
            "standoff": 15
           },
           "zerolinecolor": "white",
           "zerolinewidth": 2
          },
          "yaxis": {
           "automargin": true,
           "gridcolor": "white",
           "linecolor": "white",
           "ticks": "",
           "title": {
            "standoff": 15
           },
           "zerolinecolor": "white",
           "zerolinewidth": 2
          }
         }
        },
        "title": {
         "text": "Przestrzeń Wektorowa Testowych Przypadków (Kolor: Przewidywane Etykiety)"
        },
        "width": 1200,
        "xaxis": {
         "anchor": "y",
         "domain": [
          0,
          1
         ],
         "title": {
          "text": "TSNE-1"
         }
        },
        "yaxis": {
         "anchor": "x",
         "domain": [
          0,
          1
         ],
         "title": {
          "text": "TSNE-2"
         }
        }
       }
      }
     },
     "metadata": {},
     "output_type": "display_data"
    },
    {
     "data": {
      "application/vnd.plotly.v1+json": {
       "config": {
        "plotlyServerURL": "https://plot.ly"
       },
       "data": [
        {
         "customdata": [
          [
           "Neutral",
           "Neutral",
           "Jesli sluchasz go na zajeciach i zrobisz w domu ze 2 zadanka , to powinienes bez problemow zaliczyc ."
          ],
          [
           "Negative",
           "Negative",
           "Gdy je poprawiasz i przynosisz następnym razem , wyszukuje Ci kolejne błedy , a to co poprawił eś na dobrze , jest źle i miało być tak jak na poczatku ."
          ],
          [
           "Negative",
           "Negative",
           "UWAGA !"
          ],
          [
           "Neutral",
           "Neutral",
           "Zadania na egzaminie do latwych nie naleza , ale ukladaja je pracownicy IM , wiec czego mozna sie spodziewac : ) OCENA OGÓLNA : ŚREDNIO NA JEŻA"
          ],
          [
           "Negative",
           "Negative",
           "Na każdej laborce kartkówka , teraz moge stwierdzić że może nie były aż takie trudne , ale zaliczył em jedną na 5 czy 6 . . . po prostu jeżeli nigdy przedtem nie miał eś do czynienia z językiem C to naprawde jest trudno ."
          ],
          [
           "Negative",
           "Negative",
           "Pan Biernacki prowadzi laborki naprawde dziwnie , po łebkach , bez zaangażowania , i co najważniejsze - niezrozumiale . . . powtórze jeszcze raz : niezrozumiale !"
          ],
          [
           "Neutral",
           "Neutral",
           "Jest piec kartkowek / wejsciowek , ktore sa podstawa zaliczenia ."
          ],
          [
           "Negative",
           "Negative",
           "Ja idąc na informatyke 3 nie znałęm prawie w ogóle jezyka C no i to nie jest kurs dla takich ludzi - doktor zakłada że wszyscy wiedza co to jest i że rozumieja każde jego skomplikowane słowo ! ! !"
          ],
          [
           "Negative",
           "Negative",
           "Bateria posiada jedynie ładny design . Wysokość baterii to ok 30 cm . , przeciętna głębokość zlewozmywaka to ok 20cm . Woda wypływając z baterii i spadając z wysokości 1 / 2 metra powoduje , iż chcąc opłukać talerz lub umyć ręce bierzemy również prysznic ! Zachlapane są szafki i wszystko w około . Zadzwoniła m do handlowca firmy Blanco i poprosiła m o radę , ale podał jedynie telefon do serwisanta , który kazał przykręcić ciśnienie wody . Poza tym próbował tłumaczyć iż baterie są przystosowane do zlewozmywaków BLANCO i gdyby m kupiła zlew Blanco nie było by problemu . Sitko w zlewie Blanco jest tak ustawione , iż jak nakierujemy na nie wylewkę baterii to woda się nie rozchlapuje . Ale kto używając zlewozmywaka myśli o tym aby skierować wylewkę zawsze w stronę sitka ? ? ? ? ? Chyba ten kto nic w kuchni nie robi ! ! Tak więc przestrzegam przed wszystkimi bateriami tego typu firmy Blanco i nie tylko . Porażka i totalny niewypał !"
          ],
          [
           "Negative",
           "Negative",
           "Jestem świeżo po zakupie Marantza 611 . Urządzenie bardzo dobrze odtwarza płyty CD . Gorzej jest z nośnikami USB . Nośniki czytane są długo i dźwięk jest słyszalnie uboższy pomimo odtwarzania plików FLAC . Jednak kompletna porażka to wieszanie się urządzenia jeśli zaczynamy słuchać stacji z radia cyfrowego DAB + . Sytuacja jest powtarzalna po dodaniu stacji dwóch DAB + do ulubionych i próbie przełączania się między nimi następuje zawieszenie urządzenia , dokładniej odtwarzania dźwięku . Przywrócenie odtwarzania dziwięku jest możliwe po wybraniu stacji FM do odtwarzania . Drugą kwestią jest włączanie się samo z siebie urządzenia . Czyli śpisz sobie a ono się włącza . Wyłączasz . Za 2h jest to samo . Jeśli do tego dodamy głęboko rozczarowującą scenę dżwiękową dla nośników USB lepiej kupić coś tańszego nawet jeśli będzie miało te same wady ."
          ],
          [
           "Negative",
           "Negative",
           "uważam że pisanie opinii o czymś co jest rewelacyjne nie do końca ma sens , więc chciała by m napisać o wadzie tej zmywarki . Mam BOSCHA po raz pierwszy i przyznam że daleko mu do Whirpoola którego mialam wczesniej . Przede wszystkim brakuje kontrolki że zakończyło się mycie . Jeżeli jestem poza domem i nie usłyszała m końcowego sygnału to nie wiadomo że mycie jest już skończone . Tak samo nie wiadomo jaki jest etap . Czasem zdarza jej się nie wypluć tabletki i garniki są brudne . no i niestety w porównaniu z Whirpoolem przegrywa w kategorii ciasno ułożone garnki whirpool radził sobie świetnie , najwyraźniej miał lepsze ciśnienie wody . U Boscha to mocno kuleje . Chcąc upchać na maxa - muszę domywać ręcznie . Prowadnice na dole nie są precyzyjne wykonane i kosz dolny po całkowitym wysunieciu zawsze spada . To w Whirpoolu nie miało miejsca bo prowadnice miały kontuynuacje na drzwiczkach ."
          ],
          [
           "Negative",
           "Negative",
           "Muszę się przyznać , że bardzo nudził em się na wykładzie u Pana Michała . . . dlatego na przerwie wybył em i więcej się tam nie pojawił em ."
          ],
          [
           "Negative",
           "Negative",
           "O zgrozo ."
          ],
          [
           "Neutral",
           "Neutral",
           "Dr A . T . KOWAL Chemia nieorganiczna II - ćwiczenia Ocena : pozytywna [ / b ] Specyficzny sposób prowadzenia zajęć . . . ."
          ]
         ],
         "hovertemplate": "Correct=True<br>TSNE-1=%{x}<br>TSNE-2=%{y}<br>True Label=%{customdata[0]}<br>Predicted Label=%{customdata[1]}<br>Text=%{customdata[2]}<extra></extra>",
         "legendgroup": "True",
         "marker": {
          "color": "#636efa",
          "symbol": "circle"
         },
         "mode": "markers",
         "name": "True",
         "orientation": "v",
         "showlegend": true,
         "type": "scatter",
         "x": [
          -2.072395,
          2.47156,
          -3.8728607,
          -2.5860708,
          1.2966603,
          0.23273815,
          0.8153841,
          -3.99611,
          4.541575,
          -6.057357,
          2.4743314,
          2.8186555,
          -3.6681037,
          3.9870005
         ],
         "xaxis": "x",
         "y": [
          4.444064,
          2.5139658,
          6.460038,
          1.7430475,
          1.3874807,
          1.159309,
          6.4392576,
          0.54361045,
          -0.20283125,
          -1.2128073,
          -1.2780447,
          -2.9711425,
          -3.9449303,
          -6.1113563
         ],
         "yaxis": "y"
        },
        {
         "customdata": [
          [
           "Positive",
           "Negative",
           "Z zaliczeniem nie ma raczej problemu ."
          ],
          [
           "Neutral",
           "Negative",
           "Mało wytłumaczy , ale cały czas pyta czy wszyscy rozumieją , jeżeli on też rozumie dany dział to bedzie tłumaczył aż wszyscy nie potwierdza że zrozumilei : ) Koła raczej trudniejsze , ale można zawsze liczyć na dopytke na koniec ( a to mało kto niezdaje ) Mimo swoich wad jest ciekawą postacia , i czesto sie zagłebia na wykładzie w tematy \""
          ],
          [
           "Neutral",
           "Negative",
           "Pytania podczas laborki potrafią byc ciężkie , można wylecieć na sam koniec laboratorium , ale z reguły 3 , może 4 grupy bedą zapytane podczas całych zajęć ."
          ],
          [
           "Positive",
           "Negative",
           "Miał em przyjemność mieć z tą panią wykład !"
          ],
          [
           "Positive",
           "Negative",
           "Dba o to by każdy się na zajęciach odezwał , ale jeśli ktoś czegoś nie potrafi - nie gnębi , pomaga ."
          ],
          [
           "Positive",
           "Negative",
           "Wprost chciało się do niego przychodzić ."
          ],
          [
           "Positive",
           "Negative",
           "Ale na egzaminie natomiast jest łatwiej ."
          ],
          [
           "Neutral",
           "Negative",
           "Pilot funkcjonalnie pierwsza klasa , można dosłownie wszystkim sterować , ogromna baza sprzętu , możliwość dowolnego konfigurowania , super wygląd , podświetlenie klawiszy , auto - wyłączanie ekranu . Niestety sama jakość wykonania pozostawia wiele do życzenia . Konkretnie klawisze które po roku użytkowania zacinają się . Pierwszy egzemplarz po roku został wymieniony na nowy , drugi właśnie tez ma identyczny problem z klawiszami . Niestety rozebrać go nie idzie bo próbował em na starym , a wystarczyło by wyczyścić gumki lub wymienić styki węglowe . Mam w domu piloty od sprzętu audio które mają po kilkanaście lat i działają bez zarzutu do dzisiaj ."
          ],
          [
           "Positive",
           "Negative",
           "Pan Gańcza jest osobą bardzo dobrą jako nauczyciel dla początkujących . . . nie rozumiem wogóle powyższych komentarzy jeśli chodzi o \" wiel k"
          ],
          [
           "Positive",
           "Negative",
           "Lepiej nie mogł eś trafić ."
          ],
          [
           "Negative",
           "Neutral",
           "Grill ma wadę , dużą , z którą niestety żył em 3 lata . Tłuszcz zamiast skapywać w całości do dołączonej miseczki , spływał pod płytę grzewczą , zawsze po grillowaniu , musiałem go postawić w pionie i patrzeć jak wylewa się to na blat . Nie wiem czy Philips tego nie przemyślał , nie sprawdził , ale jest to tragiczne niedopatrzenie . Kilka dni temu grill odmówił posłuszeństwa . Nie grzeje . Pokrętło do do ustawiania temperatury odmówiło z rok temu , przestało mieć grzechotkę , ale nie przeszkadzało to w użytkowaniu . Za minus uważam też brak możliwości dokupienia samych płyt teflonowych , choćby w cenie połowy grilla . Zdecydowanie nie polecam i nie kupię grilla Philipsa , a w przypadku awarii , muszę kupić nowego ."
          ],
          [
           "Positive",
           "Negative",
           "Jeśli masz więcej odróbek ( a jest jakiś ważny powód ) można się było z prowadzącą zajęcia dogadać ."
          ],
          [
           "Neutral",
           "Negative",
           "Przyłapanie na ściąganiu to 2.0 z danej pracy ."
          ],
          [
           "Neutral",
           "Negative",
           "Ćwiczenia . . . tutaj warto być przygotowanym i błyskać na każdych zajęciach tak żeby Cię zapamiętał ."
          ],
          [
           "Positive",
           "Negative",
           "Wyjątkowo miły człowiek , nieco zestresowany obecnością świata i ludzi , ale jakoś sobie radzi - patrzenie w podłogę podobno pomaga ."
          ],
          [
           "Neutral",
           "Negative",
           "Ogólnie BwE to pikuś 8 )"
          ],
          [
           "Neutral",
           "Negative",
           "Trzeba napisac 2 kolokwia , zdazaja sie rzadko kartkowki ."
          ],
          [
           "Neutral",
           "Negative",
           "Koła do zdania , choć łatwe nie są ."
          ],
          [
           "Neutral",
           "Positive",
           "Był em na jej zajęciach w 100 % , starał em się jak mogł em by nadgonić grupę gdyż nie zdawał em matury z anglika a znalazł em się na B 1 ."
          ],
          [
           "Neutral",
           "Negative",
           "Jeśli chodzi o wykład na WEMiF - ie ludzie chyba nie mają wyboru - chyba tylko dr Juszkiewicz wykłada ."
          ],
          [
           "Neutral",
           "Negative",
           "Nie wiem czy mozna z nich sie czegos nauczyc , nie majac wczesniej styku z pp , ale mi troche rzeczy w glowie sie rozjasnilo ; ) Tylko to mazanie po foliach . . . : ?"
          ],
          [
           "Positive",
           "Negative",
           "Pytania raczej proste , nie bylo az tak trudno zaliczyc ."
          ],
          [
           "Neutral",
           "Negative",
           "Projekt nie musi być specjalnie rozbudowany , ma ładnie wyglądać , mieć elegancką zrobioną dokumentację , i mają się pokazywać ładne wykresy ."
          ],
          [
           "Positive",
           "Neutral",
           "Uważam , że to najlepszy kitowy obiektyw na rynku . Wykonanie metal i bardzo dobrej jakości tworzywi . Pierścień przysłony chodzi z należytym oporem i skokiem . Wbudowana stabilizacja jest wydajna i naprawdę pomaga w wielu sytuacjach . Obiektyw bardzo ostry już od największego otworu przysłony . Celność bdb . To za co pochwalę go dodatkowo to szybki silnik autofokusa - używał em go na poczatku z dosyć mułowatym X - E1 , teraz , kiedy przesiadł em się na X - T1 to mogę tylko chwalić ! ! ! Ostatni plus to bardzo dobrze opracowany system uszczelnień - obiektyw , mimo , iż jest to zoom , w ogóle nie zasysa kurzu do środka ( miałem już wiele zoomów : Nikkory , Sigmy i tam był to problem ) . Polecam !"
          ],
          [
           "Positive",
           "Negative",
           "algebra z geom . analityczna 1 polecam miał em z nim wykłady , bardzo fajny z podejsciem student tez czlowiek , czasami sie myli ale przyznale sie do bledow ."
          ],
          [
           "Positive",
           "Neutral",
           "Tak Podstawa oceny w indeksie : egzamin Niespodziewajki : brak ( zadania powtarzają się co roku ) Poczucie humorupane pokłady Ogólne podejście do studenta : pozytywne Zerowy termin jest najprostszy ( 3 zadania ) - warunkiem przystąpienia jest jednak zaliczenie projektu u dr ."
          ],
          [
           "Neutral",
           "Negative",
           "Raczej nie ma na co narzekać , choć i bez rewelacji"
          ]
         ],
         "hovertemplate": "Correct=False<br>TSNE-1=%{x}<br>TSNE-2=%{y}<br>True Label=%{customdata[0]}<br>Predicted Label=%{customdata[1]}<br>Text=%{customdata[2]}<extra></extra>",
         "legendgroup": "False",
         "marker": {
          "color": "#EF553B",
          "symbol": "diamond"
         },
         "mode": "markers",
         "name": "False",
         "orientation": "v",
         "showlegend": true,
         "type": "scatter",
         "x": [
          3.6622066,
          -1.2560855,
          -0.82416797,
          5.963192,
          3.7254193,
          1.3080926,
          -1.7647256,
          5.7057066,
          -1.1233537,
          -0.14030924,
          4.1788406,
          1.5558382,
          0.38784423,
          1.6582688,
          3.0604992,
          -1.1667478,
          0.6681254,
          -1.3062305,
          3.939087,
          1.7215793,
          -1.2284906,
          -0.74313235,
          0.2928555,
          5.895321,
          -2.4542942,
          -2.4646683,
          0.5224132
         ],
         "xaxis": "x",
         "y": [
          4.748581,
          -2.430487,
          1.7160848,
          -4.237284,
          -1.7349435,
          -6.2704954,
          -4.3724914,
          1.0523872,
          0.09163057,
          -3.0452006,
          1.3560917,
          -2.0530918,
          -4.3324957,
          -0.28204435,
          0.14115573,
          -1.1091183,
          4.616389,
          -6.147617,
          -3.8507547,
          -3.31683,
          3.675455,
          5.5030694,
          -0.94137406,
          -1.7529572,
          -0.47105592,
          -2.1986983,
          -1.9685838
         ],
         "yaxis": "y"
        }
       ],
       "layout": {
        "height": 600,
        "legend": {
         "title": {
          "text": "Correct"
         },
         "tracegroupgap": 0
        },
        "template": {
         "data": {
          "bar": [
           {
            "error_x": {
             "color": "#2a3f5f"
            },
            "error_y": {
             "color": "#2a3f5f"
            },
            "marker": {
             "line": {
              "color": "#E5ECF6",
              "width": 0.5
             },
             "pattern": {
              "fillmode": "overlay",
              "size": 10,
              "solidity": 0.2
             }
            },
            "type": "bar"
           }
          ],
          "barpolar": [
           {
            "marker": {
             "line": {
              "color": "#E5ECF6",
              "width": 0.5
             },
             "pattern": {
              "fillmode": "overlay",
              "size": 10,
              "solidity": 0.2
             }
            },
            "type": "barpolar"
           }
          ],
          "carpet": [
           {
            "aaxis": {
             "endlinecolor": "#2a3f5f",
             "gridcolor": "white",
             "linecolor": "white",
             "minorgridcolor": "white",
             "startlinecolor": "#2a3f5f"
            },
            "baxis": {
             "endlinecolor": "#2a3f5f",
             "gridcolor": "white",
             "linecolor": "white",
             "minorgridcolor": "white",
             "startlinecolor": "#2a3f5f"
            },
            "type": "carpet"
           }
          ],
          "choropleth": [
           {
            "colorbar": {
             "outlinewidth": 0,
             "ticks": ""
            },
            "type": "choropleth"
           }
          ],
          "contour": [
           {
            "colorbar": {
             "outlinewidth": 0,
             "ticks": ""
            },
            "colorscale": [
             [
              0,
              "#0d0887"
             ],
             [
              0.1111111111111111,
              "#46039f"
             ],
             [
              0.2222222222222222,
              "#7201a8"
             ],
             [
              0.3333333333333333,
              "#9c179e"
             ],
             [
              0.4444444444444444,
              "#bd3786"
             ],
             [
              0.5555555555555556,
              "#d8576b"
             ],
             [
              0.6666666666666666,
              "#ed7953"
             ],
             [
              0.7777777777777778,
              "#fb9f3a"
             ],
             [
              0.8888888888888888,
              "#fdca26"
             ],
             [
              1,
              "#f0f921"
             ]
            ],
            "type": "contour"
           }
          ],
          "contourcarpet": [
           {
            "colorbar": {
             "outlinewidth": 0,
             "ticks": ""
            },
            "type": "contourcarpet"
           }
          ],
          "heatmap": [
           {
            "colorbar": {
             "outlinewidth": 0,
             "ticks": ""
            },
            "colorscale": [
             [
              0,
              "#0d0887"
             ],
             [
              0.1111111111111111,
              "#46039f"
             ],
             [
              0.2222222222222222,
              "#7201a8"
             ],
             [
              0.3333333333333333,
              "#9c179e"
             ],
             [
              0.4444444444444444,
              "#bd3786"
             ],
             [
              0.5555555555555556,
              "#d8576b"
             ],
             [
              0.6666666666666666,
              "#ed7953"
             ],
             [
              0.7777777777777778,
              "#fb9f3a"
             ],
             [
              0.8888888888888888,
              "#fdca26"
             ],
             [
              1,
              "#f0f921"
             ]
            ],
            "type": "heatmap"
           }
          ],
          "heatmapgl": [
           {
            "colorbar": {
             "outlinewidth": 0,
             "ticks": ""
            },
            "colorscale": [
             [
              0,
              "#0d0887"
             ],
             [
              0.1111111111111111,
              "#46039f"
             ],
             [
              0.2222222222222222,
              "#7201a8"
             ],
             [
              0.3333333333333333,
              "#9c179e"
             ],
             [
              0.4444444444444444,
              "#bd3786"
             ],
             [
              0.5555555555555556,
              "#d8576b"
             ],
             [
              0.6666666666666666,
              "#ed7953"
             ],
             [
              0.7777777777777778,
              "#fb9f3a"
             ],
             [
              0.8888888888888888,
              "#fdca26"
             ],
             [
              1,
              "#f0f921"
             ]
            ],
            "type": "heatmapgl"
           }
          ],
          "histogram": [
           {
            "marker": {
             "pattern": {
              "fillmode": "overlay",
              "size": 10,
              "solidity": 0.2
             }
            },
            "type": "histogram"
           }
          ],
          "histogram2d": [
           {
            "colorbar": {
             "outlinewidth": 0,
             "ticks": ""
            },
            "colorscale": [
             [
              0,
              "#0d0887"
             ],
             [
              0.1111111111111111,
              "#46039f"
             ],
             [
              0.2222222222222222,
              "#7201a8"
             ],
             [
              0.3333333333333333,
              "#9c179e"
             ],
             [
              0.4444444444444444,
              "#bd3786"
             ],
             [
              0.5555555555555556,
              "#d8576b"
             ],
             [
              0.6666666666666666,
              "#ed7953"
             ],
             [
              0.7777777777777778,
              "#fb9f3a"
             ],
             [
              0.8888888888888888,
              "#fdca26"
             ],
             [
              1,
              "#f0f921"
             ]
            ],
            "type": "histogram2d"
           }
          ],
          "histogram2dcontour": [
           {
            "colorbar": {
             "outlinewidth": 0,
             "ticks": ""
            },
            "colorscale": [
             [
              0,
              "#0d0887"
             ],
             [
              0.1111111111111111,
              "#46039f"
             ],
             [
              0.2222222222222222,
              "#7201a8"
             ],
             [
              0.3333333333333333,
              "#9c179e"
             ],
             [
              0.4444444444444444,
              "#bd3786"
             ],
             [
              0.5555555555555556,
              "#d8576b"
             ],
             [
              0.6666666666666666,
              "#ed7953"
             ],
             [
              0.7777777777777778,
              "#fb9f3a"
             ],
             [
              0.8888888888888888,
              "#fdca26"
             ],
             [
              1,
              "#f0f921"
             ]
            ],
            "type": "histogram2dcontour"
           }
          ],
          "mesh3d": [
           {
            "colorbar": {
             "outlinewidth": 0,
             "ticks": ""
            },
            "type": "mesh3d"
           }
          ],
          "parcoords": [
           {
            "line": {
             "colorbar": {
              "outlinewidth": 0,
              "ticks": ""
             }
            },
            "type": "parcoords"
           }
          ],
          "pie": [
           {
            "automargin": true,
            "type": "pie"
           }
          ],
          "scatter": [
           {
            "fillpattern": {
             "fillmode": "overlay",
             "size": 10,
             "solidity": 0.2
            },
            "type": "scatter"
           }
          ],
          "scatter3d": [
           {
            "line": {
             "colorbar": {
              "outlinewidth": 0,
              "ticks": ""
             }
            },
            "marker": {
             "colorbar": {
              "outlinewidth": 0,
              "ticks": ""
             }
            },
            "type": "scatter3d"
           }
          ],
          "scattercarpet": [
           {
            "marker": {
             "colorbar": {
              "outlinewidth": 0,
              "ticks": ""
             }
            },
            "type": "scattercarpet"
           }
          ],
          "scattergeo": [
           {
            "marker": {
             "colorbar": {
              "outlinewidth": 0,
              "ticks": ""
             }
            },
            "type": "scattergeo"
           }
          ],
          "scattergl": [
           {
            "marker": {
             "colorbar": {
              "outlinewidth": 0,
              "ticks": ""
             }
            },
            "type": "scattergl"
           }
          ],
          "scattermapbox": [
           {
            "marker": {
             "colorbar": {
              "outlinewidth": 0,
              "ticks": ""
             }
            },
            "type": "scattermapbox"
           }
          ],
          "scatterpolar": [
           {
            "marker": {
             "colorbar": {
              "outlinewidth": 0,
              "ticks": ""
             }
            },
            "type": "scatterpolar"
           }
          ],
          "scatterpolargl": [
           {
            "marker": {
             "colorbar": {
              "outlinewidth": 0,
              "ticks": ""
             }
            },
            "type": "scatterpolargl"
           }
          ],
          "scatterternary": [
           {
            "marker": {
             "colorbar": {
              "outlinewidth": 0,
              "ticks": ""
             }
            },
            "type": "scatterternary"
           }
          ],
          "surface": [
           {
            "colorbar": {
             "outlinewidth": 0,
             "ticks": ""
            },
            "colorscale": [
             [
              0,
              "#0d0887"
             ],
             [
              0.1111111111111111,
              "#46039f"
             ],
             [
              0.2222222222222222,
              "#7201a8"
             ],
             [
              0.3333333333333333,
              "#9c179e"
             ],
             [
              0.4444444444444444,
              "#bd3786"
             ],
             [
              0.5555555555555556,
              "#d8576b"
             ],
             [
              0.6666666666666666,
              "#ed7953"
             ],
             [
              0.7777777777777778,
              "#fb9f3a"
             ],
             [
              0.8888888888888888,
              "#fdca26"
             ],
             [
              1,
              "#f0f921"
             ]
            ],
            "type": "surface"
           }
          ],
          "table": [
           {
            "cells": {
             "fill": {
              "color": "#EBF0F8"
             },
             "line": {
              "color": "white"
             }
            },
            "header": {
             "fill": {
              "color": "#C8D4E3"
             },
             "line": {
              "color": "white"
             }
            },
            "type": "table"
           }
          ]
         },
         "layout": {
          "annotationdefaults": {
           "arrowcolor": "#2a3f5f",
           "arrowhead": 0,
           "arrowwidth": 1
          },
          "autotypenumbers": "strict",
          "coloraxis": {
           "colorbar": {
            "outlinewidth": 0,
            "ticks": ""
           }
          },
          "colorscale": {
           "diverging": [
            [
             0,
             "#8e0152"
            ],
            [
             0.1,
             "#c51b7d"
            ],
            [
             0.2,
             "#de77ae"
            ],
            [
             0.3,
             "#f1b6da"
            ],
            [
             0.4,
             "#fde0ef"
            ],
            [
             0.5,
             "#f7f7f7"
            ],
            [
             0.6,
             "#e6f5d0"
            ],
            [
             0.7,
             "#b8e186"
            ],
            [
             0.8,
             "#7fbc41"
            ],
            [
             0.9,
             "#4d9221"
            ],
            [
             1,
             "#276419"
            ]
           ],
           "sequential": [
            [
             0,
             "#0d0887"
            ],
            [
             0.1111111111111111,
             "#46039f"
            ],
            [
             0.2222222222222222,
             "#7201a8"
            ],
            [
             0.3333333333333333,
             "#9c179e"
            ],
            [
             0.4444444444444444,
             "#bd3786"
            ],
            [
             0.5555555555555556,
             "#d8576b"
            ],
            [
             0.6666666666666666,
             "#ed7953"
            ],
            [
             0.7777777777777778,
             "#fb9f3a"
            ],
            [
             0.8888888888888888,
             "#fdca26"
            ],
            [
             1,
             "#f0f921"
            ]
           ],
           "sequentialminus": [
            [
             0,
             "#0d0887"
            ],
            [
             0.1111111111111111,
             "#46039f"
            ],
            [
             0.2222222222222222,
             "#7201a8"
            ],
            [
             0.3333333333333333,
             "#9c179e"
            ],
            [
             0.4444444444444444,
             "#bd3786"
            ],
            [
             0.5555555555555556,
             "#d8576b"
            ],
            [
             0.6666666666666666,
             "#ed7953"
            ],
            [
             0.7777777777777778,
             "#fb9f3a"
            ],
            [
             0.8888888888888888,
             "#fdca26"
            ],
            [
             1,
             "#f0f921"
            ]
           ]
          },
          "colorway": [
           "#636efa",
           "#EF553B",
           "#00cc96",
           "#ab63fa",
           "#FFA15A",
           "#19d3f3",
           "#FF6692",
           "#B6E880",
           "#FF97FF",
           "#FECB52"
          ],
          "font": {
           "color": "#2a3f5f"
          },
          "geo": {
           "bgcolor": "white",
           "lakecolor": "white",
           "landcolor": "#E5ECF6",
           "showlakes": true,
           "showland": true,
           "subunitcolor": "white"
          },
          "hoverlabel": {
           "align": "left"
          },
          "hovermode": "closest",
          "mapbox": {
           "style": "light"
          },
          "paper_bgcolor": "white",
          "plot_bgcolor": "#E5ECF6",
          "polar": {
           "angularaxis": {
            "gridcolor": "white",
            "linecolor": "white",
            "ticks": ""
           },
           "bgcolor": "#E5ECF6",
           "radialaxis": {
            "gridcolor": "white",
            "linecolor": "white",
            "ticks": ""
           }
          },
          "scene": {
           "xaxis": {
            "backgroundcolor": "#E5ECF6",
            "gridcolor": "white",
            "gridwidth": 2,
            "linecolor": "white",
            "showbackground": true,
            "ticks": "",
            "zerolinecolor": "white"
           },
           "yaxis": {
            "backgroundcolor": "#E5ECF6",
            "gridcolor": "white",
            "gridwidth": 2,
            "linecolor": "white",
            "showbackground": true,
            "ticks": "",
            "zerolinecolor": "white"
           },
           "zaxis": {
            "backgroundcolor": "#E5ECF6",
            "gridcolor": "white",
            "gridwidth": 2,
            "linecolor": "white",
            "showbackground": true,
            "ticks": "",
            "zerolinecolor": "white"
           }
          },
          "shapedefaults": {
           "line": {
            "color": "#2a3f5f"
           }
          },
          "ternary": {
           "aaxis": {
            "gridcolor": "white",
            "linecolor": "white",
            "ticks": ""
           },
           "baxis": {
            "gridcolor": "white",
            "linecolor": "white",
            "ticks": ""
           },
           "bgcolor": "#E5ECF6",
           "caxis": {
            "gridcolor": "white",
            "linecolor": "white",
            "ticks": ""
           }
          },
          "title": {
           "x": 0.05
          },
          "xaxis": {
           "automargin": true,
           "gridcolor": "white",
           "linecolor": "white",
           "ticks": "",
           "title": {
            "standoff": 15
           },
           "zerolinecolor": "white",
           "zerolinewidth": 2
          },
          "yaxis": {
           "automargin": true,
           "gridcolor": "white",
           "linecolor": "white",
           "ticks": "",
           "title": {
            "standoff": 15
           },
           "zerolinecolor": "white",
           "zerolinewidth": 2
          }
         }
        },
        "title": {
         "text": "Przestrzeń Wektorowa Testowych Przypadków (Zaznaczenie Poprawnych/Niepoprawnych)"
        },
        "width": 1200,
        "xaxis": {
         "anchor": "y",
         "domain": [
          0,
          1
         ],
         "title": {
          "text": "TSNE-1"
         }
        },
        "yaxis": {
         "anchor": "x",
         "domain": [
          0,
          1
         ],
         "title": {
          "text": "TSNE-2"
         }
        }
       }
      }
     },
     "metadata": {},
     "output_type": "display_data"
    }
   ],
   "source": [
    "\n",
    "pca = PCA(n_components=40, random_state=42)\n",
    "embeddings_pca = pca.fit_transform(test_embeddings)\n",
    "\n",
    "tsne = TSNE(n_components=2, perplexity=30, n_iter=300, random_state=42)\n",
    "embeddings_tsne = tsne.fit_transform(embeddings_pca)\n",
    "\n",
    "df_visualization = pd.DataFrame({\n",
    "    'TSNE-1': embeddings_tsne[:,0],\n",
    "    'TSNE-2': embeddings_tsne[:,1],\n",
    "    'True Label': test_labels,\n",
    "    'Predicted Label': test_predicted_labels,\n",
    "    'Text': test_df['text']\n",
    "})\n",
    "\n",
    "fig_true = px.scatter(\n",
    "    df_visualization,\n",
    "    x='TSNE-1',\n",
    "    y='TSNE-2',\n",
    "    color='True Label',\n",
    "    hover_data=['True Label', 'Predicted Label', 'Text'],\n",
    "    title='Przestrzeń Wektorowa Testowych Przypadków (Kolor: Prawdziwe Etykiety)',\n",
    "    width=1200,\n",
    "    height=600\n",
    ")\n",
    "\n",
    "fig_true.show()\n",
    "\n",
    "fig_pred = px.scatter(\n",
    "    df_visualization,\n",
    "    x='TSNE-1',\n",
    "    y='TSNE-2',\n",
    "    color='Predicted Label',\n",
    "    hover_data=['True Label', 'Predicted Label', 'Text'],\n",
    "    title='Przestrzeń Wektorowa Testowych Przypadków (Kolor: Przewidywane Etykiety)',\n",
    "    width=1200,\n",
    "    height=600\n",
    ")\n",
    "\n",
    "fig_pred.show()\n",
    "\n",
    "df_visualization['Correct'] = df_visualization['True Label'] == df_visualization['Predicted Label']\n",
    "\n",
    "fig_correct = px.scatter(\n",
    "    df_visualization,\n",
    "    x='TSNE-1',\n",
    "    y='TSNE-2',\n",
    "    color='Correct',\n",
    "    symbol='Correct',\n",
    "    hover_data=['True Label', 'Predicted Label', 'Text'],\n",
    "    title='Przestrzeń Wektorowa Testowych Przypadków (Zaznaczenie Poprawnych/Niepoprawnych)',\n",
    "    width=1200,\n",
    "    height=600\n",
    ")\n",
    "\n",
    "fig_correct.show()"
   ]
  },
  {
   "cell_type": "code",
   "execution_count": null,
   "metadata": {},
   "outputs": [],
   "source": []
  }
 ],
 "metadata": {
  "kernelspec": {
   "display_name": "py310",
   "language": "python",
   "name": "python3"
  },
  "language_info": {
   "codemirror_mode": {
    "name": "ipython",
    "version": 3
   },
   "file_extension": ".py",
   "mimetype": "text/x-python",
   "name": "python",
   "nbconvert_exporter": "python",
   "pygments_lexer": "ipython3",
   "version": "3.10.13"
  }
 },
 "nbformat": 4,
 "nbformat_minor": 2
}
