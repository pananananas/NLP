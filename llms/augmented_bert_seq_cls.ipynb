{
 "cells": [
  {
   "cell_type": "code",
   "execution_count": 1,
   "metadata": {},
   "outputs": [],
   "source": [
    "from transformers import AutoTokenizer, AutoModelForSequenceClassification, DataCollatorWithPadding, Trainer, TrainingArguments, pipeline\n",
    "from peft import PeftModel, PeftConfig, LoraConfig, TaskType, get_peft_model\n",
    "from sklearn.metrics import confusion_matrix, classification_report\n",
    "from sklearn.model_selection import train_test_split\n",
    "from datasets import Dataset, DatasetDict\n",
    "from torch.utils.data import DataLoader\n",
    "from sklearn.decomposition import PCA\n",
    "from sklearn.manifold import TSNE\n",
    "from tqdm import tqdm\n",
    "import torch.nn.functional as F\n",
    "import matplotlib.pyplot as plt\n",
    "import plotly.express as px\n",
    "import seaborn as sns\n",
    "import pandas as pd\n",
    "import numpy as np\n",
    "import torch\n",
    "import os"
   ]
  },
  {
   "cell_type": "code",
   "execution_count": 2,
   "metadata": {},
   "outputs": [],
   "source": [
    "model_name = \"allegro/herbert-base-cased\"\n",
    "device = \"mps\""
   ]
  },
  {
   "cell_type": "code",
   "execution_count": 3,
   "metadata": {},
   "outputs": [
    {
     "name": "stdout",
     "output_type": "stream",
     "text": [
      "First few entries:\n"
     ]
    },
    {
     "data": {
      "text/html": [
       "<div>\n",
       "<style scoped>\n",
       "    .dataframe tbody tr th:only-of-type {\n",
       "        vertical-align: middle;\n",
       "    }\n",
       "\n",
       "    .dataframe tbody tr th {\n",
       "        vertical-align: top;\n",
       "    }\n",
       "\n",
       "    .dataframe thead th {\n",
       "        text-align: right;\n",
       "    }\n",
       "</style>\n",
       "<table border=\"1\" class=\"dataframe\">\n",
       "  <thead>\n",
       "    <tr style=\"text-align: right;\">\n",
       "      <th></th>\n",
       "      <th>text</th>\n",
       "      <th>label</th>\n",
       "    </tr>\n",
       "  </thead>\n",
       "  <tbody>\n",
       "    <tr>\n",
       "      <th>0</th>\n",
       "      <td>Lakier roweru bardzo kiepskiej jakości , robią...</td>\n",
       "      <td>Negative</td>\n",
       "    </tr>\n",
       "    <tr>\n",
       "      <th>1</th>\n",
       "      <td>Nie jestem zadowolony z zakupu . Przede wszyst...</td>\n",
       "      <td>Negative</td>\n",
       "    </tr>\n",
       "    <tr>\n",
       "      <th>2</th>\n",
       "      <td>Szukając klucze tej wielkości brał em dwa pod ...</td>\n",
       "      <td>Neutral</td>\n",
       "    </tr>\n",
       "    <tr>\n",
       "      <th>3</th>\n",
       "      <td>Długo szukała m odpowiedniego fotelika dla bar...</td>\n",
       "      <td>Neutral</td>\n",
       "    </tr>\n",
       "    <tr>\n",
       "      <th>4</th>\n",
       "      <td>Kupił em pociąg ( w zestawie kilka torów prost...</td>\n",
       "      <td>Negative</td>\n",
       "    </tr>\n",
       "  </tbody>\n",
       "</table>\n",
       "</div>"
      ],
      "text/plain": [
       "                                                text     label\n",
       "0  Lakier roweru bardzo kiepskiej jakości , robią...  Negative\n",
       "1  Nie jestem zadowolony z zakupu . Przede wszyst...  Negative\n",
       "2  Szukając klucze tej wielkości brał em dwa pod ...   Neutral\n",
       "3  Długo szukała m odpowiedniego fotelika dla bar...   Neutral\n",
       "4  Kupił em pociąg ( w zestawie kilka torów prost...  Negative"
      ]
     },
     "execution_count": 3,
     "metadata": {},
     "output_type": "execute_result"
    }
   ],
   "source": [
    "data_path = \"augmented_texts_bert.csv\"\n",
    "df = pd.read_csv(data_path)\n",
    "\n",
    "print(\"First few entries:\")\n",
    "df.head()"
   ]
  },
  {
   "cell_type": "code",
   "execution_count": 4,
   "metadata": {},
   "outputs": [
    {
     "name": "stdout",
     "output_type": "stream",
     "text": [
      "\n",
      "Class Counts:\n",
      "label\n",
      "Neutral     750\n",
      "Positive    415\n",
      "Negative    335\n",
      "Name: count, dtype: int64\n",
      "\n",
      "Minimum class count: 335\n"
     ]
    }
   ],
   "source": [
    "class_counts = df['label'].value_counts()\n",
    "print(\"\\nClass Counts:\")\n",
    "print(class_counts)\n",
    "\n",
    "min_count = class_counts.min()\n",
    "print(f\"\\nMinimum class count: {min_count}\")"
   ]
  },
  {
   "cell_type": "code",
   "execution_count": 5,
   "metadata": {},
   "outputs": [
    {
     "name": "stdout",
     "output_type": "stream",
     "text": [
      "\n",
      "Balanced Label Distribution:\n",
      "label\n",
      "Negative    33.333333\n",
      "Neutral     33.333333\n",
      "Positive    33.333333\n",
      "Name: proportion, dtype: float64\n"
     ]
    },
    {
     "name": "stderr",
     "output_type": "stream",
     "text": [
      "/var/folders/ld/46j6jly10md36dbxgn_h72br0000gn/T/ipykernel_13457/1788761823.py:3: DeprecationWarning: DataFrameGroupBy.apply operated on the grouping columns. This behavior is deprecated, and in a future version of pandas the grouping columns will be excluded from the operation. Either pass `include_groups=False` to exclude the groupings or explicitly select the grouping columns after groupby to silence this warning.\n",
      "  df_balanced = df.groupby('label').apply(lambda x: x.sample(n=min_count, random_state=random_seed)).reset_index(drop=True)\n"
     ]
    }
   ],
   "source": [
    "random_seed = 42\n",
    "\n",
    "df_balanced = df.groupby('label').apply(lambda x: x.sample(n=min_count, random_state=random_seed)).reset_index(drop=True)\n",
    "\n",
    "print(\"\\nBalanced Label Distribution:\")\n",
    "print(df_balanced['label'].value_counts(normalize=True) * 100)"
   ]
  },
  {
   "cell_type": "code",
   "execution_count": 6,
   "metadata": {},
   "outputs": [
    {
     "data": {
      "text/plain": [
       "DatasetDict({\n",
       "    train: Dataset({\n",
       "        features: ['text', 'label', '__index_level_0__'],\n",
       "        num_rows: 804\n",
       "    })\n",
       "    test: Dataset({\n",
       "        features: ['text', 'label', '__index_level_0__'],\n",
       "        num_rows: 201\n",
       "    })\n",
       "})"
      ]
     },
     "execution_count": 6,
     "metadata": {},
     "output_type": "execute_result"
    }
   ],
   "source": [
    "train_df, test_df = train_test_split(\n",
    "    df_balanced, \n",
    "    test_size=0.2, \n",
    "    random_state=42, \n",
    "    # stratify=df['label']\n",
    ")\n",
    "\n",
    "train_dataset = Dataset.from_pandas(train_df)\n",
    "test_dataset = Dataset.from_pandas(test_df)\n",
    "\n",
    "dataset = DatasetDict({\n",
    "    \"train\": train_dataset,\n",
    "    \"test\": test_dataset\n",
    "})\n",
    "dataset"
   ]
  },
  {
   "cell_type": "code",
   "execution_count": 7,
   "metadata": {},
   "outputs": [
    {
     "name": "stdout",
     "output_type": "stream",
     "text": [
      "Unique Labels: ['Negative', 'Neutral', 'Positive']\n",
      "Number of Labels: 3\n",
      "Training Set Label Distribution:\n",
      "label\n",
      "Positive    33.830846\n",
      "Negative    33.084577\n",
      "Neutral     33.084577\n",
      "Name: proportion, dtype: float64\n",
      "\n",
      "Test Set Label Distribution:\n",
      "label\n",
      "Neutral     34.328358\n",
      "Negative    34.328358\n",
      "Positive    31.343284\n",
      "Name: proportion, dtype: float64\n"
     ]
    }
   ],
   "source": [
    "print(\"Unique Labels:\", sorted(df['label'].unique()))\n",
    "print(\"Number of Labels:\", len(sorted(df['label'].unique())))\n",
    "\n",
    "print(\"Training Set Label Distribution:\")\n",
    "print(train_df['label'].value_counts(normalize=True) * 100)\n",
    "\n",
    "print(\"\\nTest Set Label Distribution:\")\n",
    "print(test_df['label'].value_counts(normalize=True) * 100)      # 41.46341463414634"
   ]
  },
  {
   "cell_type": "code",
   "execution_count": 8,
   "metadata": {},
   "outputs": [
    {
     "name": "stdout",
     "output_type": "stream",
     "text": [
      "INPUT: Mylący tytuł który sugeruje że mamy opisy czynienia z dziełem Smitha , w Autor w książce zawarte są tylko zamyka Bogactwa Narodów oraz Teorii Uczuć Moralnych , i że są niestety bardzo kiepskim komentarzem jak się cyta AUTORA KSIĄŻKI na NIE JEST ADAM SMITH ! TO sprawia wrażenie jakby ktoś kazał mu napisać tą do , momentami odczuwa się wręcz jego , do Smitha niechęć dezaprobatę względem jego dzieła . Ogólnie to streszczenie książkę recenzję - ry nazwanie tego książką było by sporą przesadą samo ciężko się czyta . Jedyne co sprawia rzeczywistości ocena wynosi ponad 1 to że pojawiają się dokładne cytaty . \n",
      "OUTPUT: Negative\n",
      "\n",
      "INPUT: Niestety w ać testach wypadł strasznie marnie . Prędkość zapisu dużego pojedynczego pliku ane USB 2 . 0 to 5MB / s i nie chce , szybciej . Obojętne czy że czy na . Kupił em 2 a nie na każdym taka żenada . Wstyd n Patriota . z i przez producenta są wyssane z palca ( rozumiem być to dane Zale USB 3 . 0 , ale na USB 2 . 0 powinno być duuuużo lepiej ) . Plus taki , że jak wieczorem pójdę do koleżanki moich do filmy w FullHD , muszę u niej zostać na śniadanie , żeby doczekać się końca kopiowania . Powinien duży za się od producenta zwrotu pieniędzy . \n",
      "OUTPUT: Negative\n",
      "\n",
      "INPUT: szybko mnie o rewelacja , ale może . jakiś wybrakowany produkt to . . Urządzenie mam od grudnia i użyła m go Dla z 5 lat . Za t chyba mieszkanie zadymione i strasznie śmierdziało ( jakby palonym kablem czy coś ) do Jedzenia nie można w sumie ani na chwilkę spuścić z oczu ponieważ , z powodu braku regulacji temperatury , to się przypala . Co . powłoki nieprzywierającej , to w moim Panini chyba z razy 5 - za każdym razem coś się przyklei , a wyczyszczenie płytek to jakiś koszmar . Jedyne co mogę pochwalić to wygląd ; - ) \n",
      "OUTPUT: Negative\n",
      "\n"
     ]
    }
   ],
   "source": [
    "for entry in dataset['train'].select(range(3)):\n",
    "    print('INPUT: {} \\nOUTPUT: {}\\n'.format(entry['text'], entry['label']))"
   ]
  },
  {
   "cell_type": "code",
   "execution_count": 9,
   "metadata": {},
   "outputs": [
    {
     "data": {
      "text/html": [
       "<div>\n",
       "<style scoped>\n",
       "    .dataframe tbody tr th:only-of-type {\n",
       "        vertical-align: middle;\n",
       "    }\n",
       "\n",
       "    .dataframe tbody tr th {\n",
       "        vertical-align: top;\n",
       "    }\n",
       "\n",
       "    .dataframe thead th {\n",
       "        text-align: right;\n",
       "    }\n",
       "</style>\n",
       "<table border=\"1\" class=\"dataframe\">\n",
       "  <thead>\n",
       "    <tr style=\"text-align: right;\">\n",
       "      <th></th>\n",
       "      <th>Diagnosis</th>\n",
       "      <th>train_set</th>\n",
       "      <th>test_set</th>\n",
       "    </tr>\n",
       "  </thead>\n",
       "  <tbody>\n",
       "    <tr>\n",
       "      <th>0</th>\n",
       "      <td>Negative</td>\n",
       "      <td>266</td>\n",
       "      <td>69</td>\n",
       "    </tr>\n",
       "    <tr>\n",
       "      <th>1</th>\n",
       "      <td>Neutral</td>\n",
       "      <td>266</td>\n",
       "      <td>69</td>\n",
       "    </tr>\n",
       "    <tr>\n",
       "      <th>2</th>\n",
       "      <td>Positive</td>\n",
       "      <td>272</td>\n",
       "      <td>63</td>\n",
       "    </tr>\n",
       "  </tbody>\n",
       "</table>\n",
       "</div>"
      ],
      "text/plain": [
       "  Diagnosis  train_set  test_set\n",
       "0  Negative        266        69\n",
       "1   Neutral        266        69\n",
       "2  Positive        272        63"
      ]
     },
     "metadata": {},
     "output_type": "display_data"
    }
   ],
   "source": [
    "train_counts = pd.DataFrame({'Diagnosis': train_df['label']})\n",
    "train_counts = train_counts.groupby('Diagnosis').size().reset_index(name='train_set')\n",
    "\n",
    "test_counts = pd.DataFrame({'Diagnosis': test_df['label']})\n",
    "test_counts = test_counts.groupby('Diagnosis').size().reset_index(name='test_set')\n",
    "\n",
    "display(train_counts.merge(test_counts, on='Diagnosis'))"
   ]
  },
  {
   "cell_type": "code",
   "execution_count": 10,
   "metadata": {},
   "outputs": [
    {
     "name": "stdout",
     "output_type": "stream",
     "text": [
      "Label to ID mapping: {'Negative': 0, 'Neutral': 1, 'Positive': 2}\n",
      "ID to Label mapping: {0: 'Negative', 1: 'Neutral', 2: 'Positive'}\n"
     ]
    }
   ],
   "source": [
    "sorted_labels = sorted(set(df['label']))\n",
    "label2id = {label: idx for idx, label in enumerate(sorted_labels)}\n",
    "id2label = {idx: label for label, idx in label2id.items()}\n",
    "\n",
    "print(\"Label to ID mapping:\", label2id)\n",
    "print(\"ID to Label mapping:\", id2label)"
   ]
  },
  {
   "cell_type": "code",
   "execution_count": 11,
   "metadata": {},
   "outputs": [
    {
     "name": "stderr",
     "output_type": "stream",
     "text": [
      "Some weights of BertForSequenceClassification were not initialized from the model checkpoint at allegro/herbert-base-cased and are newly initialized: ['classifier.bias', 'classifier.weight']\n",
      "You should probably TRAIN this model on a down-stream task to be able to use it for predictions and inference.\n"
     ]
    }
   ],
   "source": [
    "\n",
    "tokenizer = AutoTokenizer.from_pretrained(model_name)\n",
    "\n",
    "foundation_model = AutoModelForSequenceClassification.from_pretrained(\n",
    "    model_name,\n",
    "    num_labels=len(label2id),\n",
    "    label2id=label2id,\n",
    "    id2label=id2label\n",
    ")\n",
    "\n",
    "classifier = pipeline(\"text-classification\", model=foundation_model, tokenizer=tokenizer, device=device)"
   ]
  },
  {
   "cell_type": "code",
   "execution_count": 12,
   "metadata": {},
   "outputs": [
    {
     "name": "stdout",
     "output_type": "stream",
     "text": [
      "Evaluating foundation model before fine-tuning...\n",
      "Foundation Model Accuracy: 34.33%\n"
     ]
    }
   ],
   "source": [
    "print(\"Evaluating foundation model before fine-tuning...\")\n",
    "\n",
    "test_encodings = tokenizer(test_df['text'].tolist(), padding=True, truncation=True, return_tensors=\"pt\")\n",
    "\n",
    "foundation_model.to(device)\n",
    "test_encodings = {k: v.to(device) for k, v in test_encodings.items()}\n",
    "\n",
    "with torch.no_grad():\n",
    "    outputs = foundation_model(**test_encodings)\n",
    "    logits = outputs.logits\n",
    "    predictions = torch.argmax(logits, dim=-1).cpu().numpy()\n",
    "\n",
    "# Calculate accuracy\n",
    "test_labels = test_df['label'].map(label2id).values\n",
    "foundation_accuracy = round(np.mean(predictions == test_labels) * 100, 2)\n",
    "print(f\"Foundation Model Accuracy: {foundation_accuracy}%\")"
   ]
  },
  {
   "cell_type": "code",
   "execution_count": 13,
   "metadata": {},
   "outputs": [
    {
     "name": "stdout",
     "output_type": "stream",
     "text": [
      "Number of Labels in Model: 3\n"
     ]
    }
   ],
   "source": [
    "print(\"Number of Labels in Model:\", foundation_model.config.num_labels)"
   ]
  },
  {
   "cell_type": "code",
   "execution_count": 14,
   "metadata": {},
   "outputs": [
    {
     "data": {
      "text/plain": [
       "PeftModelForSequenceClassification(\n",
       "  (base_model): LoraModel(\n",
       "    (model): BertForSequenceClassification(\n",
       "      (bert): BertModel(\n",
       "        (embeddings): BertEmbeddings(\n",
       "          (word_embeddings): Embedding(50000, 768, padding_idx=1)\n",
       "          (position_embeddings): Embedding(514, 768)\n",
       "          (token_type_embeddings): Embedding(2, 768)\n",
       "          (LayerNorm): LayerNorm((768,), eps=1e-12, elementwise_affine=True)\n",
       "          (dropout): Dropout(p=0.1, inplace=False)\n",
       "        )\n",
       "        (encoder): BertEncoder(\n",
       "          (layer): ModuleList(\n",
       "            (0-11): 12 x BertLayer(\n",
       "              (attention): BertAttention(\n",
       "                (self): BertSdpaSelfAttention(\n",
       "                  (query): lora.Linear(\n",
       "                    (base_layer): Linear(in_features=768, out_features=768, bias=True)\n",
       "                    (lora_dropout): ModuleDict(\n",
       "                      (default): Dropout(p=0.1, inplace=False)\n",
       "                    )\n",
       "                    (lora_A): ModuleDict(\n",
       "                      (default): Linear(in_features=768, out_features=64, bias=False)\n",
       "                    )\n",
       "                    (lora_B): ModuleDict(\n",
       "                      (default): Linear(in_features=64, out_features=768, bias=False)\n",
       "                    )\n",
       "                    (lora_embedding_A): ParameterDict()\n",
       "                    (lora_embedding_B): ParameterDict()\n",
       "                    (lora_magnitude_vector): ModuleDict()\n",
       "                  )\n",
       "                  (key): Linear(in_features=768, out_features=768, bias=True)\n",
       "                  (value): lora.Linear(\n",
       "                    (base_layer): Linear(in_features=768, out_features=768, bias=True)\n",
       "                    (lora_dropout): ModuleDict(\n",
       "                      (default): Dropout(p=0.1, inplace=False)\n",
       "                    )\n",
       "                    (lora_A): ModuleDict(\n",
       "                      (default): Linear(in_features=768, out_features=64, bias=False)\n",
       "                    )\n",
       "                    (lora_B): ModuleDict(\n",
       "                      (default): Linear(in_features=64, out_features=768, bias=False)\n",
       "                    )\n",
       "                    (lora_embedding_A): ParameterDict()\n",
       "                    (lora_embedding_B): ParameterDict()\n",
       "                    (lora_magnitude_vector): ModuleDict()\n",
       "                  )\n",
       "                  (dropout): Dropout(p=0.1, inplace=False)\n",
       "                )\n",
       "                (output): BertSelfOutput(\n",
       "                  (dense): Linear(in_features=768, out_features=768, bias=True)\n",
       "                  (LayerNorm): LayerNorm((768,), eps=1e-12, elementwise_affine=True)\n",
       "                  (dropout): Dropout(p=0.1, inplace=False)\n",
       "                )\n",
       "              )\n",
       "              (intermediate): BertIntermediate(\n",
       "                (dense): Linear(in_features=768, out_features=3072, bias=True)\n",
       "                (intermediate_act_fn): GELUActivation()\n",
       "              )\n",
       "              (output): BertOutput(\n",
       "                (dense): Linear(in_features=3072, out_features=768, bias=True)\n",
       "                (LayerNorm): LayerNorm((768,), eps=1e-12, elementwise_affine=True)\n",
       "                (dropout): Dropout(p=0.1, inplace=False)\n",
       "              )\n",
       "            )\n",
       "          )\n",
       "        )\n",
       "        (pooler): BertPooler(\n",
       "          (dense): Linear(in_features=768, out_features=768, bias=True)\n",
       "          (activation): Tanh()\n",
       "        )\n",
       "      )\n",
       "      (dropout): Dropout(p=0.1, inplace=False)\n",
       "      (classifier): ModulesToSaveWrapper(\n",
       "        (original_module): Linear(in_features=768, out_features=3, bias=True)\n",
       "        (modules_to_save): ModuleDict(\n",
       "          (default): Linear(in_features=768, out_features=3, bias=True)\n",
       "        )\n",
       "      )\n",
       "    )\n",
       "  )\n",
       ")"
      ]
     },
     "execution_count": 14,
     "metadata": {},
     "output_type": "execute_result"
    }
   ],
   "source": [
    "lora_config = LoraConfig(\n",
    "    task_type=TaskType.SEQ_CLS, \n",
    "    r=64, \n",
    "    lora_alpha=1, \n",
    "    lora_dropout=0.1\n",
    ")\n",
    "\n",
    "peft_model = get_peft_model(foundation_model, lora_config)\n",
    "peft_model"
   ]
  },
  {
   "cell_type": "code",
   "execution_count": 15,
   "metadata": {},
   "outputs": [
    {
     "name": "stdout",
     "output_type": "stream",
     "text": [
      "trainable params: 2,361,603 || all params: 126,806,790 || trainable%: 1.8624\n"
     ]
    }
   ],
   "source": [
    "peft_model.print_trainable_parameters()"
   ]
  },
  {
   "cell_type": "code",
   "execution_count": 16,
   "metadata": {},
   "outputs": [
    {
     "name": "stderr",
     "output_type": "stream",
     "text": [
      "huggingface/tokenizers: The current process just got forked, after parallelism has already been used. Disabling parallelism to avoid deadlocks...\n",
      "To disable this warning, you can either:\n",
      "\t- Avoid using `tokenizers` before the fork if possible\n",
      "\t- Explicitly set the environment variable TOKENIZERS_PARALLELISM=(true | false)\n"
     ]
    },
    {
     "data": {
      "application/vnd.jupyter.widget-view+json": {
       "model_id": "95a7d8b030c54541b2b893c623531aa7",
       "version_major": 2,
       "version_minor": 0
      },
      "text/plain": [
       "Map:   0%|          | 0/804 [00:00<?, ? examples/s]"
      ]
     },
     "metadata": {},
     "output_type": "display_data"
    },
    {
     "data": {
      "application/vnd.jupyter.widget-view+json": {
       "model_id": "24f3252b54564590b7beead0521257c6",
       "version_major": 2,
       "version_minor": 0
      },
      "text/plain": [
       "Map:   0%|          | 0/201 [00:00<?, ? examples/s]"
      ]
     },
     "metadata": {},
     "output_type": "display_data"
    },
    {
     "name": "stdout",
     "output_type": "stream",
     "text": [
      "DatasetDict({\n",
      "    train: Dataset({\n",
      "        features: ['text', '__index_level_0__', 'input_ids', 'token_type_ids', 'attention_mask', 'labels'],\n",
      "        num_rows: 804\n",
      "    })\n",
      "    test: Dataset({\n",
      "        features: ['text', '__index_level_0__', 'input_ids', 'token_type_ids', 'attention_mask', 'labels'],\n",
      "        num_rows: 201\n",
      "    })\n",
      "})\n"
     ]
    }
   ],
   "source": [
    "def preprocess_function(examples):\n",
    "    \"\"\"Preprocess the dataset by returning tokenized examples.\"\"\"\n",
    "    tokens = tokenizer(examples[\"text\"], padding=\"max_length\", truncation=True)\n",
    "    tokens['labels'] = [label2id[l] for l in examples[\"label\"]]\n",
    "    return tokens\n",
    "\n",
    "tokenized_ds = dataset.map(preprocess_function, batched=True, remove_columns=[\"label\"])\n",
    "\n",
    "print(tokenized_ds)"
   ]
  },
  {
   "cell_type": "code",
   "execution_count": 17,
   "metadata": {},
   "outputs": [
    {
     "name": "stdout",
     "output_type": "stream",
     "text": [
      "A tokenized training input example:\n",
      "Mylący tytuł który sugeruje że mamy opisy czynienia z dziełem Smitha , w Autor w książce zawarte są tylko zamyka Bogactwa Narodów oraz Teorii Uczuć Moralnych , i że są niestety bardzo kiepskim komentarzem jak się cyta AUTORA KSIĄŻKI na NIE JEST ADAM SMITH ! TO sprawia wrażenie jakby ktoś kazał mu napisać tą do , momentami odczuwa się wręcz jego , do Smitha niechęć dezaprobatę względem jego dzieła . Ogólnie to streszczenie książkę recenzję - ry nazwanie tego książką było by sporą przesadą samo ciężko się czyta . Jedyne co sprawia rzeczywistości ocena wynosi ponad 1 to że pojawiają się dokładne cytaty .\n",
      "[0, 3838, 80, 2469, 6484, 2377, 24704, 2040, 3552, 36433, 9778, 1046, 21610, 18717, 22498, 1947, 1019, 14970, 1019, 14169, 11750, 2264, 2308, 24500, 25729, 6953, 23733, 2248, 2516, 2034, 2526, 57, 15009, 2569, 13701, 1947, 1009, 2040, 2264, 6573, 2450, 17696, 2502, 12797, 5021, 2217, 2022, 2141, 2148, 13551, 11196, 29895, 190, 273, 5529, 1998, 5985, 47875, 37, 14375, 55, 5518, 56, 1037, 1725, 8663, 12185, 7580, 5596, 4072, 9032, 2182, 14459, 2862, 2041, 1947, 36464, 34579, 2022, 7298, 2376, 1947, 2041, 18717, 22498, 27160, 2101, 5080, 5297, 1028, 5200, 2376, 10021, 1899, 38126, 2063, 5159, 8840, 12874, 18185, 11003, 1750, 2236, 2751, 3411, 2210, 33989, 2404, 2133, 21063, 33920, 1014, 5143, 10110, 2022, 19557, 1899, 31926, 2249, 12185, 8528, 17531, 5979, 3149, 1029, 2063, 2040, 11763, 2022, 24512, 13706, 2162, 1899, 2, 1, 1, 1, 1, 1, 1, 1, 1, 1, 1, 1, 1, 1, 1, 1, 1, 1, 1, 1, 1, 1, 1, 1, 1, 1, 1, 1, 1, 1, 1, 1, 1, 1, 1, 1, 1, 1, 1, 1, 1, 1, 1, 1, 1, 1, 1, 1, 1, 1, 1, 1, 1, 1, 1, 1, 1, 1, 1, 1, 1, 1, 1, 1, 1, 1, 1, 1, 1, 1, 1, 1, 1, 1, 1, 1, 1, 1, 1, 1, 1, 1, 1, 1, 1, 1, 1, 1, 1, 1, 1, 1, 1, 1, 1, 1, 1, 1, 1, 1, 1, 1, 1, 1, 1, 1, 1, 1, 1, 1, 1, 1, 1, 1, 1, 1, 1, 1, 1, 1, 1, 1, 1, 1, 1, 1, 1, 1, 1, 1, 1, 1, 1, 1, 1, 1, 1, 1, 1, 1, 1, 1, 1, 1, 1, 1, 1, 1, 1, 1, 1, 1, 1, 1, 1, 1, 1, 1, 1, 1, 1, 1, 1, 1, 1, 1, 1, 1, 1, 1, 1, 1, 1, 1, 1, 1, 1, 1, 1, 1, 1, 1, 1, 1, 1, 1, 1, 1, 1, 1, 1, 1, 1, 1, 1, 1, 1, 1, 1, 1, 1, 1, 1, 1, 1, 1, 1, 1, 1, 1, 1, 1, 1, 1, 1, 1, 1, 1, 1, 1, 1, 1, 1, 1, 1, 1, 1, 1, 1, 1, 1, 1, 1, 1, 1, 1, 1, 1, 1, 1, 1, 1, 1, 1, 1, 1, 1, 1, 1, 1, 1, 1, 1, 1, 1, 1, 1, 1, 1, 1, 1, 1, 1, 1, 1, 1, 1, 1, 1, 1, 1, 1, 1, 1, 1, 1, 1, 1, 1, 1, 1, 1, 1, 1, 1, 1, 1, 1, 1, 1, 1, 1, 1, 1, 1, 1, 1, 1, 1, 1, 1, 1, 1, 1, 1, 1, 1, 1, 1, 1, 1, 1, 1, 1, 1, 1, 1, 1, 1, 1, 1, 1, 1, 1, 1, 1, 1, 1, 1, 1, 1, 1, 1, 1, 1, 1, 1, 1, 1, 1, 1, 1, 1, 1, 1, 1, 1, 1, 1, 1, 1, 1, 1, 1, 1, 1, 1, 1, 1, 1, 1, 1, 1, 1, 1, 1, 1, 1, 1, 1, 1, 1, 1, 1, 1, 1, 1, 1, 1]\n",
      "\n",
      "\n",
      "A tokenized training label example:\n",
      "0\n"
     ]
    }
   ],
   "source": [
    "print(\"A tokenized training input example:\")\n",
    "# text\n",
    "print(tokenized_ds[\"train\"][0][\"text\"])\n",
    "# tokens\n",
    "print(tokenized_ds[\"train\"][0][\"input_ids\"])\n",
    "print(\"\\n\")\n",
    "print(\"A tokenized training label example:\")\n",
    "print(tokenized_ds[\"train\"][0][\"labels\"])"
   ]
  },
  {
   "cell_type": "code",
   "execution_count": 18,
   "metadata": {},
   "outputs": [
    {
     "name": "stderr",
     "output_type": "stream",
     "text": [
      "/opt/miniconda3/envs/py310/lib/python3.10/site-packages/transformers/training_args.py:1545: FutureWarning: `evaluation_strategy` is deprecated and will be removed in version 4.46 of 🤗 Transformers. Use `eval_strategy` instead\n",
      "  warnings.warn(\n"
     ]
    }
   ],
   "source": [
    "def compute_metrics(eval_pred):\n",
    "    predictions, labels = eval_pred\n",
    "    predictions = np.argmax(predictions, axis=1)\n",
    "    accuracy = (predictions == labels).mean() * 100\n",
    "    return {\"accuracy\": accuracy}\n",
    "\n",
    "trainer = Trainer(\n",
    "    model=peft_model,\n",
    "    args=TrainingArguments(\n",
    "        output_dir=\"herbert-lora\",\n",
    "        learning_rate=2e-5,\n",
    "        per_device_train_batch_size=8,\n",
    "        per_device_eval_batch_size=8,\n",
    "        num_train_epochs=15,\n",
    "        weight_decay=0.01,\n",
    "        evaluation_strategy=\"epoch\",\n",
    "        save_strategy=\"epoch\",\n",
    "        load_best_model_at_end=True,\n",
    "        metric_for_best_model=\"accuracy\",\n",
    "        logging_dir='logs',\n",
    "        logging_steps=10,\n",
    "    ),\n",
    "    train_dataset=tokenized_ds[\"train\"],\n",
    "    eval_dataset=tokenized_ds[\"test\"],\n",
    "    tokenizer=tokenizer,\n",
    "    data_collator=DataCollatorWithPadding(tokenizer=tokenizer),\n",
    "    compute_metrics=compute_metrics,\n",
    ")"
   ]
  },
  {
   "cell_type": "code",
   "execution_count": 19,
   "metadata": {},
   "outputs": [
    {
     "name": "stderr",
     "output_type": "stream",
     "text": [
      "huggingface/tokenizers: The current process just got forked, after parallelism has already been used. Disabling parallelism to avoid deadlocks...\n",
      "To disable this warning, you can either:\n",
      "\t- Avoid using `tokenizers` before the fork if possible\n",
      "\t- Explicitly set the environment variable TOKENIZERS_PARALLELISM=(true | false)\n",
      "huggingface/tokenizers: The current process just got forked, after parallelism has already been used. Disabling parallelism to avoid deadlocks...\n",
      "To disable this warning, you can either:\n",
      "\t- Avoid using `tokenizers` before the fork if possible\n",
      "\t- Explicitly set the environment variable TOKENIZERS_PARALLELISM=(true | false)\n",
      "huggingface/tokenizers: The current process just got forked, after parallelism has already been used. Disabling parallelism to avoid deadlocks...\n",
      "To disable this warning, you can either:\n",
      "\t- Avoid using `tokenizers` before the fork if possible\n",
      "\t- Explicitly set the environment variable TOKENIZERS_PARALLELISM=(true | false)\n"
     ]
    },
    {
     "data": {
      "application/vnd.jupyter.widget-view+json": {
       "model_id": "6657a50e5f74444f9ee8c1456cba10ba",
       "version_major": 2,
       "version_minor": 0
      },
      "text/plain": [
       "  0%|          | 0/1515 [00:00<?, ?it/s]"
      ]
     },
     "metadata": {},
     "output_type": "display_data"
    },
    {
     "name": "stdout",
     "output_type": "stream",
     "text": [
      "{'loss': 1.1004, 'grad_norm': 7.498218536376953, 'learning_rate': 1.986798679867987e-05, 'epoch': 0.1}\n",
      "{'loss': 1.1099, 'grad_norm': 4.744424819946289, 'learning_rate': 1.9735973597359735e-05, 'epoch': 0.2}\n",
      "{'loss': 1.0862, 'grad_norm': 2.0803000926971436, 'learning_rate': 1.9603960396039604e-05, 'epoch': 0.3}\n",
      "{'loss': 1.1109, 'grad_norm': 2.539564371109009, 'learning_rate': 1.9471947194719475e-05, 'epoch': 0.4}\n",
      "{'loss': 1.1053, 'grad_norm': 7.016798496246338, 'learning_rate': 1.9339933993399344e-05, 'epoch': 0.5}\n",
      "{'loss': 1.1265, 'grad_norm': 7.110602855682373, 'learning_rate': 1.920792079207921e-05, 'epoch': 0.59}\n",
      "{'loss': 1.0998, 'grad_norm': 3.8362019062042236, 'learning_rate': 1.9075907590759077e-05, 'epoch': 0.69}\n",
      "{'loss': 1.0826, 'grad_norm': 2.5029361248016357, 'learning_rate': 1.8943894389438946e-05, 'epoch': 0.79}\n",
      "{'loss': 1.1388, 'grad_norm': 3.0307815074920654, 'learning_rate': 1.881188118811881e-05, 'epoch': 0.89}\n",
      "{'loss': 1.0908, 'grad_norm': 3.979762554168701, 'learning_rate': 1.867986798679868e-05, 'epoch': 0.99}\n"
     ]
    },
    {
     "data": {
      "application/vnd.jupyter.widget-view+json": {
       "model_id": "79f32296f84d43378aa62d74479cf7fd",
       "version_major": 2,
       "version_minor": 0
      },
      "text/plain": [
       "  0%|          | 0/26 [00:00<?, ?it/s]"
      ]
     },
     "metadata": {},
     "output_type": "display_data"
    },
    {
     "name": "stdout",
     "output_type": "stream",
     "text": [
      "{'eval_loss': 1.0941499471664429, 'eval_accuracy': 33.33333333333333, 'eval_runtime': 10.3621, 'eval_samples_per_second': 19.398, 'eval_steps_per_second': 2.509, 'epoch': 1.0}\n",
      "{'loss': 1.1189, 'grad_norm': 2.8685848712921143, 'learning_rate': 1.8547854785478548e-05, 'epoch': 1.09}\n",
      "{'loss': 1.0835, 'grad_norm': 4.66773796081543, 'learning_rate': 1.841584158415842e-05, 'epoch': 1.19}\n",
      "{'loss': 1.1004, 'grad_norm': 4.6671142578125, 'learning_rate': 1.8283828382838285e-05, 'epoch': 1.29}\n",
      "{'loss': 1.1022, 'grad_norm': 6.648125648498535, 'learning_rate': 1.8151815181518153e-05, 'epoch': 1.39}\n",
      "{'loss': 1.0933, 'grad_norm': 4.380995273590088, 'learning_rate': 1.8019801980198022e-05, 'epoch': 1.49}\n",
      "{'loss': 1.1027, 'grad_norm': 6.217434406280518, 'learning_rate': 1.788778877887789e-05, 'epoch': 1.58}\n",
      "{'loss': 1.0867, 'grad_norm': 7.330850601196289, 'learning_rate': 1.7755775577557755e-05, 'epoch': 1.68}\n",
      "{'loss': 1.109, 'grad_norm': 5.189874172210693, 'learning_rate': 1.7623762376237624e-05, 'epoch': 1.78}\n",
      "{'loss': 1.0961, 'grad_norm': 7.886505603790283, 'learning_rate': 1.7491749174917496e-05, 'epoch': 1.88}\n",
      "{'loss': 1.1067, 'grad_norm': 3.3617310523986816, 'learning_rate': 1.735973597359736e-05, 'epoch': 1.98}\n"
     ]
    },
    {
     "data": {
      "application/vnd.jupyter.widget-view+json": {
       "model_id": "8f5dfd1d2f0a441198745059e1799697",
       "version_major": 2,
       "version_minor": 0
      },
      "text/plain": [
       "  0%|          | 0/26 [00:00<?, ?it/s]"
      ]
     },
     "metadata": {},
     "output_type": "display_data"
    },
    {
     "name": "stdout",
     "output_type": "stream",
     "text": [
      "{'eval_loss': 1.0906410217285156, 'eval_accuracy': 34.32835820895522, 'eval_runtime': 10.067, 'eval_samples_per_second': 19.966, 'eval_steps_per_second': 2.583, 'epoch': 2.0}\n",
      "{'loss': 1.0683, 'grad_norm': 2.923365831375122, 'learning_rate': 1.722772277227723e-05, 'epoch': 2.08}\n",
      "{'loss': 1.0912, 'grad_norm': 3.989041566848755, 'learning_rate': 1.7095709570957098e-05, 'epoch': 2.18}\n",
      "{'loss': 1.1001, 'grad_norm': 5.70626974105835, 'learning_rate': 1.6963696369636966e-05, 'epoch': 2.28}\n",
      "{'loss': 1.0878, 'grad_norm': 2.5894131660461426, 'learning_rate': 1.683168316831683e-05, 'epoch': 2.38}\n",
      "{'loss': 1.0708, 'grad_norm': 2.5993032455444336, 'learning_rate': 1.66996699669967e-05, 'epoch': 2.48}\n",
      "{'loss': 1.0927, 'grad_norm': 9.186674118041992, 'learning_rate': 1.656765676567657e-05, 'epoch': 2.57}\n",
      "{'loss': 1.0962, 'grad_norm': 2.285195827484131, 'learning_rate': 1.6435643564356436e-05, 'epoch': 2.67}\n",
      "{'loss': 1.0984, 'grad_norm': 4.860506057739258, 'learning_rate': 1.6303630363036305e-05, 'epoch': 2.77}\n",
      "{'loss': 1.0994, 'grad_norm': 3.912815809249878, 'learning_rate': 1.6171617161716173e-05, 'epoch': 2.87}\n",
      "{'loss': 1.0994, 'grad_norm': 6.2886481285095215, 'learning_rate': 1.6039603960396042e-05, 'epoch': 2.97}\n"
     ]
    },
    {
     "data": {
      "application/vnd.jupyter.widget-view+json": {
       "model_id": "5b9375d6d306486a9763a62235501295",
       "version_major": 2,
       "version_minor": 0
      },
      "text/plain": [
       "  0%|          | 0/26 [00:00<?, ?it/s]"
      ]
     },
     "metadata": {},
     "output_type": "display_data"
    },
    {
     "name": "stdout",
     "output_type": "stream",
     "text": [
      "{'eval_loss': 1.0887565612792969, 'eval_accuracy': 36.81592039800995, 'eval_runtime': 10.1949, 'eval_samples_per_second': 19.716, 'eval_steps_per_second': 2.55, 'epoch': 3.0}\n",
      "{'loss': 1.0796, 'grad_norm': 3.488325357437134, 'learning_rate': 1.5907590759075907e-05, 'epoch': 3.07}\n",
      "{'loss': 1.0971, 'grad_norm': 4.165440082550049, 'learning_rate': 1.5775577557755775e-05, 'epoch': 3.17}\n",
      "{'loss': 1.0897, 'grad_norm': 2.2079100608825684, 'learning_rate': 1.5643564356435644e-05, 'epoch': 3.27}\n",
      "{'loss': 1.0989, 'grad_norm': 7.262924671173096, 'learning_rate': 1.5511551155115512e-05, 'epoch': 3.37}\n",
      "{'loss': 1.0708, 'grad_norm': 5.127209663391113, 'learning_rate': 1.537953795379538e-05, 'epoch': 3.47}\n",
      "{'loss': 1.0809, 'grad_norm': 8.65412712097168, 'learning_rate': 1.5247524752475249e-05, 'epoch': 3.56}\n",
      "{'loss': 1.1022, 'grad_norm': 3.971869707107544, 'learning_rate': 1.5115511551155118e-05, 'epoch': 3.66}\n",
      "{'loss': 1.0854, 'grad_norm': 3.712622880935669, 'learning_rate': 1.4983498349834984e-05, 'epoch': 3.76}\n",
      "{'loss': 1.1022, 'grad_norm': 2.730870246887207, 'learning_rate': 1.4851485148514853e-05, 'epoch': 3.86}\n",
      "{'loss': 1.0828, 'grad_norm': 7.254846096038818, 'learning_rate': 1.4719471947194721e-05, 'epoch': 3.96}\n"
     ]
    },
    {
     "data": {
      "application/vnd.jupyter.widget-view+json": {
       "model_id": "076fdd0a98c24a52a5f61aed7cdc2542",
       "version_major": 2,
       "version_minor": 0
      },
      "text/plain": [
       "  0%|          | 0/26 [00:00<?, ?it/s]"
      ]
     },
     "metadata": {},
     "output_type": "display_data"
    },
    {
     "name": "stdout",
     "output_type": "stream",
     "text": [
      "{'eval_loss': 1.0868178606033325, 'eval_accuracy': 36.81592039800995, 'eval_runtime': 9.6223, 'eval_samples_per_second': 20.889, 'eval_steps_per_second': 2.702, 'epoch': 4.0}\n",
      "{'loss': 1.0976, 'grad_norm': 2.8748927116394043, 'learning_rate': 1.4587458745874588e-05, 'epoch': 4.06}\n",
      "{'loss': 1.0903, 'grad_norm': 3.7005231380462646, 'learning_rate': 1.4455445544554456e-05, 'epoch': 4.16}\n",
      "{'loss': 1.094, 'grad_norm': 2.7712621688842773, 'learning_rate': 1.4323432343234325e-05, 'epoch': 4.26}\n",
      "{'loss': 1.084, 'grad_norm': 4.698450088500977, 'learning_rate': 1.4191419141914193e-05, 'epoch': 4.36}\n",
      "{'loss': 1.1044, 'grad_norm': 3.0735666751861572, 'learning_rate': 1.405940594059406e-05, 'epoch': 4.46}\n",
      "{'loss': 1.1149, 'grad_norm': 6.546907901763916, 'learning_rate': 1.3927392739273929e-05, 'epoch': 4.55}\n",
      "{'loss': 1.0752, 'grad_norm': 2.46818208694458, 'learning_rate': 1.3795379537953797e-05, 'epoch': 4.65}\n",
      "{'loss': 1.089, 'grad_norm': 4.649681091308594, 'learning_rate': 1.3663366336633666e-05, 'epoch': 4.75}\n",
      "{'loss': 1.0906, 'grad_norm': 3.9596920013427734, 'learning_rate': 1.3531353135313532e-05, 'epoch': 4.85}\n",
      "{'loss': 1.0957, 'grad_norm': 2.6160714626312256, 'learning_rate': 1.33993399339934e-05, 'epoch': 4.95}\n"
     ]
    },
    {
     "data": {
      "application/vnd.jupyter.widget-view+json": {
       "model_id": "d0c0edfd004f4eb896c07f93b869a749",
       "version_major": 2,
       "version_minor": 0
      },
      "text/plain": [
       "  0%|          | 0/26 [00:00<?, ?it/s]"
      ]
     },
     "metadata": {},
     "output_type": "display_data"
    },
    {
     "name": "stdout",
     "output_type": "stream",
     "text": [
      "{'eval_loss': 1.0857892036437988, 'eval_accuracy': 37.81094527363184, 'eval_runtime': 9.9079, 'eval_samples_per_second': 20.287, 'eval_steps_per_second': 2.624, 'epoch': 5.0}\n",
      "{'loss': 1.0992, 'grad_norm': 2.559757709503174, 'learning_rate': 1.326732673267327e-05, 'epoch': 5.05}\n",
      "{'loss': 1.1004, 'grad_norm': 8.51381778717041, 'learning_rate': 1.3135313531353136e-05, 'epoch': 5.15}\n",
      "{'loss': 1.1003, 'grad_norm': 4.6381306648254395, 'learning_rate': 1.3003300330033004e-05, 'epoch': 5.25}\n",
      "{'loss': 1.0886, 'grad_norm': 5.615410327911377, 'learning_rate': 1.2871287128712873e-05, 'epoch': 5.35}\n",
      "{'loss': 1.0585, 'grad_norm': 3.6866633892059326, 'learning_rate': 1.2739273927392741e-05, 'epoch': 5.45}\n",
      "{'loss': 1.1062, 'grad_norm': 5.724693298339844, 'learning_rate': 1.2607260726072608e-05, 'epoch': 5.54}\n",
      "{'loss': 1.0512, 'grad_norm': 4.854454040527344, 'learning_rate': 1.2475247524752477e-05, 'epoch': 5.64}\n",
      "{'loss': 1.1084, 'grad_norm': 8.668760299682617, 'learning_rate': 1.2343234323432345e-05, 'epoch': 5.74}\n",
      "{'loss': 1.0892, 'grad_norm': 5.916726112365723, 'learning_rate': 1.2211221122112212e-05, 'epoch': 5.84}\n",
      "{'loss': 1.0973, 'grad_norm': 3.624337911605835, 'learning_rate': 1.207920792079208e-05, 'epoch': 5.94}\n"
     ]
    },
    {
     "data": {
      "application/vnd.jupyter.widget-view+json": {
       "model_id": "3f4faed7d9894994b09f7b5f531da0c3",
       "version_major": 2,
       "version_minor": 0
      },
      "text/plain": [
       "  0%|          | 0/26 [00:00<?, ?it/s]"
      ]
     },
     "metadata": {},
     "output_type": "display_data"
    },
    {
     "name": "stdout",
     "output_type": "stream",
     "text": [
      "{'eval_loss': 1.083838939666748, 'eval_accuracy': 46.766169154228855, 'eval_runtime': 10.0835, 'eval_samples_per_second': 19.934, 'eval_steps_per_second': 2.578, 'epoch': 6.0}\n",
      "{'loss': 1.0973, 'grad_norm': 3.8512303829193115, 'learning_rate': 1.1947194719471949e-05, 'epoch': 6.04}\n",
      "{'loss': 1.0888, 'grad_norm': 6.3290863037109375, 'learning_rate': 1.1815181518151817e-05, 'epoch': 6.14}\n",
      "{'loss': 1.0891, 'grad_norm': 2.7163729667663574, 'learning_rate': 1.1683168316831684e-05, 'epoch': 6.24}\n",
      "{'loss': 1.0544, 'grad_norm': 6.199639320373535, 'learning_rate': 1.1551155115511552e-05, 'epoch': 6.34}\n",
      "{'loss': 1.0869, 'grad_norm': 3.371776819229126, 'learning_rate': 1.141914191419142e-05, 'epoch': 6.44}\n",
      "{'loss': 1.0797, 'grad_norm': 6.431469440460205, 'learning_rate': 1.1287128712871288e-05, 'epoch': 6.53}\n",
      "{'loss': 1.0929, 'grad_norm': 4.022508144378662, 'learning_rate': 1.1155115511551156e-05, 'epoch': 6.63}\n",
      "{'loss': 1.0978, 'grad_norm': 3.90221905708313, 'learning_rate': 1.1023102310231025e-05, 'epoch': 6.73}\n",
      "{'loss': 1.0716, 'grad_norm': 3.6262640953063965, 'learning_rate': 1.0891089108910893e-05, 'epoch': 6.83}\n",
      "{'loss': 1.1074, 'grad_norm': 7.605269432067871, 'learning_rate': 1.075907590759076e-05, 'epoch': 6.93}\n"
     ]
    },
    {
     "data": {
      "application/vnd.jupyter.widget-view+json": {
       "model_id": "e2867df0243d4f5092167635b0aa3df1",
       "version_major": 2,
       "version_minor": 0
      },
      "text/plain": [
       "  0%|          | 0/26 [00:00<?, ?it/s]"
      ]
     },
     "metadata": {},
     "output_type": "display_data"
    },
    {
     "name": "stdout",
     "output_type": "stream",
     "text": [
      "{'eval_loss': 1.0826672315597534, 'eval_accuracy': 45.27363184079602, 'eval_runtime': 9.8856, 'eval_samples_per_second': 20.333, 'eval_steps_per_second': 2.63, 'epoch': 7.0}\n",
      "{'loss': 1.0946, 'grad_norm': 3.0416975021362305, 'learning_rate': 1.0627062706270628e-05, 'epoch': 7.03}\n",
      "{'loss': 1.0857, 'grad_norm': 3.795430898666382, 'learning_rate': 1.0495049504950497e-05, 'epoch': 7.13}\n",
      "{'loss': 1.0818, 'grad_norm': 3.6003940105438232, 'learning_rate': 1.0363036303630365e-05, 'epoch': 7.23}\n",
      "{'loss': 1.069, 'grad_norm': 4.789469242095947, 'learning_rate': 1.0231023102310232e-05, 'epoch': 7.33}\n",
      "{'loss': 1.0635, 'grad_norm': 3.829190254211426, 'learning_rate': 1.00990099009901e-05, 'epoch': 7.43}\n",
      "{'loss': 1.0867, 'grad_norm': 8.452964782714844, 'learning_rate': 9.966996699669967e-06, 'epoch': 7.52}\n",
      "{'loss': 1.0828, 'grad_norm': 7.33643913269043, 'learning_rate': 9.834983498349836e-06, 'epoch': 7.62}\n",
      "{'loss': 1.0891, 'grad_norm': 2.449252128601074, 'learning_rate': 9.702970297029704e-06, 'epoch': 7.72}\n",
      "{'loss': 1.0843, 'grad_norm': 4.432931900024414, 'learning_rate': 9.570957095709572e-06, 'epoch': 7.82}\n",
      "{'loss': 1.0411, 'grad_norm': 4.9701995849609375, 'learning_rate': 9.43894389438944e-06, 'epoch': 7.92}\n"
     ]
    },
    {
     "data": {
      "application/vnd.jupyter.widget-view+json": {
       "model_id": "425abf0ccd5a4cb5b43c09f74fbb8b15",
       "version_major": 2,
       "version_minor": 0
      },
      "text/plain": [
       "  0%|          | 0/26 [00:00<?, ?it/s]"
      ]
     },
     "metadata": {},
     "output_type": "display_data"
    },
    {
     "name": "stdout",
     "output_type": "stream",
     "text": [
      "{'eval_loss': 1.081944227218628, 'eval_accuracy': 42.78606965174129, 'eval_runtime': 9.8111, 'eval_samples_per_second': 20.487, 'eval_steps_per_second': 2.65, 'epoch': 8.0}\n",
      "{'loss': 1.1081, 'grad_norm': 5.092405319213867, 'learning_rate': 9.306930693069308e-06, 'epoch': 8.02}\n",
      "{'loss': 1.0672, 'grad_norm': 3.7476091384887695, 'learning_rate': 9.174917491749176e-06, 'epoch': 8.12}\n",
      "{'loss': 1.108, 'grad_norm': 4.073160171508789, 'learning_rate': 9.042904290429043e-06, 'epoch': 8.22}\n",
      "{'loss': 1.0822, 'grad_norm': 4.32134485244751, 'learning_rate': 8.910891089108911e-06, 'epoch': 8.32}\n",
      "{'loss': 1.0888, 'grad_norm': 6.823364734649658, 'learning_rate': 8.77887788778878e-06, 'epoch': 8.42}\n",
      "{'loss': 1.0624, 'grad_norm': 2.725438356399536, 'learning_rate': 8.646864686468648e-06, 'epoch': 8.51}\n",
      "{'loss': 1.0782, 'grad_norm': 2.0287132263183594, 'learning_rate': 8.514851485148515e-06, 'epoch': 8.61}\n",
      "{'loss': 1.0992, 'grad_norm': 7.542514801025391, 'learning_rate': 8.382838283828383e-06, 'epoch': 8.71}\n",
      "{'loss': 1.0769, 'grad_norm': 2.4432830810546875, 'learning_rate': 8.250825082508252e-06, 'epoch': 8.81}\n",
      "{'loss': 1.0826, 'grad_norm': 4.271703720092773, 'learning_rate': 8.11881188118812e-06, 'epoch': 8.91}\n"
     ]
    },
    {
     "data": {
      "application/vnd.jupyter.widget-view+json": {
       "model_id": "51eb4a4247cc44aaab07ae67c3424310",
       "version_major": 2,
       "version_minor": 0
      },
      "text/plain": [
       "  0%|          | 0/26 [00:00<?, ?it/s]"
      ]
     },
     "metadata": {},
     "output_type": "display_data"
    },
    {
     "name": "stdout",
     "output_type": "stream",
     "text": [
      "{'eval_loss': 1.080437183380127, 'eval_accuracy': 44.776119402985074, 'eval_runtime': 10.5454, 'eval_samples_per_second': 19.06, 'eval_steps_per_second': 2.466, 'epoch': 9.0}\n",
      "{'loss': 1.0804, 'grad_norm': 2.8575539588928223, 'learning_rate': 7.986798679867987e-06, 'epoch': 9.01}\n",
      "{'loss': 1.085, 'grad_norm': 2.5389842987060547, 'learning_rate': 7.854785478547856e-06, 'epoch': 9.11}\n",
      "{'loss': 1.0748, 'grad_norm': 4.009055137634277, 'learning_rate': 7.722772277227724e-06, 'epoch': 9.21}\n",
      "{'loss': 1.1021, 'grad_norm': 2.4401838779449463, 'learning_rate': 7.590759075907591e-06, 'epoch': 9.31}\n",
      "{'loss': 1.075, 'grad_norm': 4.7964582443237305, 'learning_rate': 7.458745874587459e-06, 'epoch': 9.41}\n",
      "{'loss': 1.0976, 'grad_norm': 4.590692043304443, 'learning_rate': 7.326732673267327e-06, 'epoch': 9.5}\n",
      "{'loss': 1.0848, 'grad_norm': 4.458006858825684, 'learning_rate': 7.194719471947195e-06, 'epoch': 9.6}\n",
      "{'loss': 1.0779, 'grad_norm': 5.035087585449219, 'learning_rate': 7.062706270627063e-06, 'epoch': 9.7}\n",
      "{'loss': 1.0981, 'grad_norm': 4.865872383117676, 'learning_rate': 6.930693069306931e-06, 'epoch': 9.8}\n",
      "{'loss': 1.0754, 'grad_norm': 4.254591941833496, 'learning_rate': 6.798679867986799e-06, 'epoch': 9.9}\n",
      "{'loss': 1.0886, 'grad_norm': 6.738325595855713, 'learning_rate': 6.666666666666667e-06, 'epoch': 10.0}\n"
     ]
    },
    {
     "data": {
      "application/vnd.jupyter.widget-view+json": {
       "model_id": "f9f2bc3185e94e9abe5e9d1874588298",
       "version_major": 2,
       "version_minor": 0
      },
      "text/plain": [
       "  0%|          | 0/26 [00:00<?, ?it/s]"
      ]
     },
     "metadata": {},
     "output_type": "display_data"
    },
    {
     "name": "stdout",
     "output_type": "stream",
     "text": [
      "{'eval_loss': 1.0794776678085327, 'eval_accuracy': 45.27363184079602, 'eval_runtime': 9.9395, 'eval_samples_per_second': 20.222, 'eval_steps_per_second': 2.616, 'epoch': 10.0}\n",
      "{'loss': 1.0757, 'grad_norm': 4.539963722229004, 'learning_rate': 6.534653465346535e-06, 'epoch': 10.1}\n",
      "{'loss': 1.0814, 'grad_norm': 2.454706907272339, 'learning_rate': 6.402640264026403e-06, 'epoch': 10.2}\n",
      "{'loss': 1.0802, 'grad_norm': 2.433948278427124, 'learning_rate': 6.270627062706271e-06, 'epoch': 10.3}\n",
      "{'loss': 1.0824, 'grad_norm': 3.83038067817688, 'learning_rate': 6.138613861386139e-06, 'epoch': 10.4}\n",
      "{'loss': 1.09, 'grad_norm': 4.308525085449219, 'learning_rate': 6.006600660066007e-06, 'epoch': 10.5}\n",
      "{'loss': 1.0863, 'grad_norm': 3.7788403034210205, 'learning_rate': 5.874587458745875e-06, 'epoch': 10.59}\n",
      "{'loss': 1.0846, 'grad_norm': 4.755915641784668, 'learning_rate': 5.7425742574257425e-06, 'epoch': 10.69}\n",
      "{'loss': 1.0846, 'grad_norm': 8.862371444702148, 'learning_rate': 5.610561056105611e-06, 'epoch': 10.79}\n",
      "{'loss': 1.1052, 'grad_norm': 6.223124980926514, 'learning_rate': 5.4785478547854785e-06, 'epoch': 10.89}\n",
      "{'loss': 1.0835, 'grad_norm': 6.067533493041992, 'learning_rate': 5.346534653465347e-06, 'epoch': 10.99}\n"
     ]
    },
    {
     "data": {
      "application/vnd.jupyter.widget-view+json": {
       "model_id": "b99ae44c41b945aa841e43715b509254",
       "version_major": 2,
       "version_minor": 0
      },
      "text/plain": [
       "  0%|          | 0/26 [00:00<?, ?it/s]"
      ]
     },
     "metadata": {},
     "output_type": "display_data"
    },
    {
     "name": "stdout",
     "output_type": "stream",
     "text": [
      "{'eval_loss': 1.0783185958862305, 'eval_accuracy': 46.766169154228855, 'eval_runtime': 9.9977, 'eval_samples_per_second': 20.105, 'eval_steps_per_second': 2.601, 'epoch': 11.0}\n",
      "{'loss': 1.067, 'grad_norm': 5.029348373413086, 'learning_rate': 5.214521452145215e-06, 'epoch': 11.09}\n",
      "{'loss': 1.0929, 'grad_norm': 5.893038749694824, 'learning_rate': 5.082508250825083e-06, 'epoch': 11.19}\n",
      "{'loss': 1.0727, 'grad_norm': 4.802130699157715, 'learning_rate': 4.950495049504951e-06, 'epoch': 11.29}\n",
      "{'loss': 1.1053, 'grad_norm': 3.540891408920288, 'learning_rate': 4.818481848184819e-06, 'epoch': 11.39}\n",
      "{'loss': 1.0877, 'grad_norm': 2.4055609703063965, 'learning_rate': 4.686468646864687e-06, 'epoch': 11.49}\n",
      "{'loss': 1.0886, 'grad_norm': 2.5478591918945312, 'learning_rate': 4.554455445544555e-06, 'epoch': 11.58}\n",
      "{'loss': 1.0755, 'grad_norm': 2.399416208267212, 'learning_rate': 4.422442244224423e-06, 'epoch': 11.68}\n",
      "{'loss': 1.08, 'grad_norm': 4.376189708709717, 'learning_rate': 4.29042904290429e-06, 'epoch': 11.78}\n",
      "{'loss': 1.0997, 'grad_norm': 2.8560004234313965, 'learning_rate': 4.158415841584159e-06, 'epoch': 11.88}\n",
      "{'loss': 1.0885, 'grad_norm': 3.737027883529663, 'learning_rate': 4.0264026402640265e-06, 'epoch': 11.98}\n"
     ]
    },
    {
     "data": {
      "application/vnd.jupyter.widget-view+json": {
       "model_id": "92de3ed1e9e9400bb622f70b4fa7a5e4",
       "version_major": 2,
       "version_minor": 0
      },
      "text/plain": [
       "  0%|          | 0/26 [00:00<?, ?it/s]"
      ]
     },
     "metadata": {},
     "output_type": "display_data"
    },
    {
     "name": "stdout",
     "output_type": "stream",
     "text": [
      "{'eval_loss': 1.077906847000122, 'eval_accuracy': 46.766169154228855, 'eval_runtime': 10.2266, 'eval_samples_per_second': 19.655, 'eval_steps_per_second': 2.542, 'epoch': 12.0}\n",
      "{'loss': 1.0844, 'grad_norm': 6.281549453735352, 'learning_rate': 3.894389438943895e-06, 'epoch': 12.08}\n",
      "{'loss': 1.0759, 'grad_norm': 2.508657455444336, 'learning_rate': 3.7623762376237625e-06, 'epoch': 12.18}\n",
      "{'loss': 1.0646, 'grad_norm': 3.6317508220672607, 'learning_rate': 3.6303630363036306e-06, 'epoch': 12.28}\n",
      "{'loss': 1.0931, 'grad_norm': 7.036262035369873, 'learning_rate': 3.4983498349834986e-06, 'epoch': 12.38}\n",
      "{'loss': 1.0788, 'grad_norm': 3.65647029876709, 'learning_rate': 3.3663366336633666e-06, 'epoch': 12.48}\n",
      "{'loss': 1.0674, 'grad_norm': 4.703145503997803, 'learning_rate': 3.2343234323432342e-06, 'epoch': 12.57}\n",
      "{'loss': 1.0771, 'grad_norm': 3.351454496383667, 'learning_rate': 3.1023102310231023e-06, 'epoch': 12.67}\n",
      "{'loss': 1.076, 'grad_norm': 3.2028415203094482, 'learning_rate': 2.9702970297029703e-06, 'epoch': 12.77}\n",
      "{'loss': 1.0799, 'grad_norm': 4.61994743347168, 'learning_rate': 2.8382838283828383e-06, 'epoch': 12.87}\n",
      "{'loss': 1.0618, 'grad_norm': 2.6086366176605225, 'learning_rate': 2.7062706270627064e-06, 'epoch': 12.97}\n"
     ]
    },
    {
     "data": {
      "application/vnd.jupyter.widget-view+json": {
       "model_id": "32497e9ec7444e4e95687ae4fc387081",
       "version_major": 2,
       "version_minor": 0
      },
      "text/plain": [
       "  0%|          | 0/26 [00:00<?, ?it/s]"
      ]
     },
     "metadata": {},
     "output_type": "display_data"
    },
    {
     "name": "stdout",
     "output_type": "stream",
     "text": [
      "{'eval_loss': 1.0774812698364258, 'eval_accuracy': 48.756218905472636, 'eval_runtime': 10.0341, 'eval_samples_per_second': 20.032, 'eval_steps_per_second': 2.591, 'epoch': 13.0}\n",
      "{'loss': 1.0954, 'grad_norm': 6.799241065979004, 'learning_rate': 2.5742574257425744e-06, 'epoch': 13.07}\n",
      "{'loss': 1.0572, 'grad_norm': 3.408090114593506, 'learning_rate': 2.4422442244224424e-06, 'epoch': 13.17}\n",
      "{'loss': 1.0859, 'grad_norm': 2.5363011360168457, 'learning_rate': 2.3102310231023105e-06, 'epoch': 13.27}\n",
      "{'loss': 1.0705, 'grad_norm': 10.934489250183105, 'learning_rate': 2.1782178217821785e-06, 'epoch': 13.37}\n",
      "{'loss': 1.106, 'grad_norm': 6.150768756866455, 'learning_rate': 2.0462046204620465e-06, 'epoch': 13.47}\n",
      "{'loss': 1.1023, 'grad_norm': 4.826947212219238, 'learning_rate': 1.9141914191419146e-06, 'epoch': 13.56}\n",
      "{'loss': 1.0761, 'grad_norm': 4.70648717880249, 'learning_rate': 1.7821782178217822e-06, 'epoch': 13.66}\n",
      "{'loss': 1.1022, 'grad_norm': 4.297869682312012, 'learning_rate': 1.6501650165016502e-06, 'epoch': 13.76}\n",
      "{'loss': 1.0819, 'grad_norm': 2.359062433242798, 'learning_rate': 1.5181518151815183e-06, 'epoch': 13.86}\n",
      "{'loss': 1.0897, 'grad_norm': 3.8652219772338867, 'learning_rate': 1.3861386138613863e-06, 'epoch': 13.96}\n"
     ]
    },
    {
     "data": {
      "application/vnd.jupyter.widget-view+json": {
       "model_id": "ef18fd9487d74050b239dd4ce10a2ae3",
       "version_major": 2,
       "version_minor": 0
      },
      "text/plain": [
       "  0%|          | 0/26 [00:00<?, ?it/s]"
      ]
     },
     "metadata": {},
     "output_type": "display_data"
    },
    {
     "name": "stdout",
     "output_type": "stream",
     "text": [
      "{'eval_loss': 1.0772762298583984, 'eval_accuracy': 48.258706467661696, 'eval_runtime': 10.6222, 'eval_samples_per_second': 18.923, 'eval_steps_per_second': 2.448, 'epoch': 14.0}\n",
      "{'loss': 1.087, 'grad_norm': 2.7163844108581543, 'learning_rate': 1.2541254125412541e-06, 'epoch': 14.06}\n",
      "{'loss': 1.0775, 'grad_norm': 2.4029128551483154, 'learning_rate': 1.1221122112211221e-06, 'epoch': 14.16}\n",
      "{'loss': 1.0712, 'grad_norm': 2.7473971843719482, 'learning_rate': 9.900990099009902e-07, 'epoch': 14.26}\n",
      "{'loss': 1.0945, 'grad_norm': 5.8727827072143555, 'learning_rate': 8.580858085808581e-07, 'epoch': 14.36}\n",
      "{'loss': 1.1001, 'grad_norm': 6.962258815765381, 'learning_rate': 7.260726072607261e-07, 'epoch': 14.46}\n",
      "{'loss': 1.0821, 'grad_norm': 3.8220231533050537, 'learning_rate': 5.940594059405941e-07, 'epoch': 14.55}\n",
      "{'loss': 1.0797, 'grad_norm': 6.168735027313232, 'learning_rate': 4.6204620462046204e-07, 'epoch': 14.65}\n",
      "{'loss': 1.0779, 'grad_norm': 3.494595527648926, 'learning_rate': 3.3003300330033e-07, 'epoch': 14.75}\n",
      "{'loss': 1.0786, 'grad_norm': 8.64877700805664, 'learning_rate': 1.9801980198019803e-07, 'epoch': 14.85}\n",
      "{'loss': 1.0764, 'grad_norm': 2.382046937942505, 'learning_rate': 6.600660066006601e-08, 'epoch': 14.95}\n"
     ]
    },
    {
     "data": {
      "application/vnd.jupyter.widget-view+json": {
       "model_id": "c2ab0be910554cc7ac1ed044f375a171",
       "version_major": 2,
       "version_minor": 0
      },
      "text/plain": [
       "  0%|          | 0/26 [00:00<?, ?it/s]"
      ]
     },
     "metadata": {},
     "output_type": "display_data"
    },
    {
     "name": "stdout",
     "output_type": "stream",
     "text": [
      "{'eval_loss': 1.0771512985229492, 'eval_accuracy': 48.756218905472636, 'eval_runtime': 9.9613, 'eval_samples_per_second': 20.178, 'eval_steps_per_second': 2.61, 'epoch': 15.0}\n",
      "{'train_runtime': 1605.4141, 'train_samples_per_second': 7.512, 'train_steps_per_second': 0.944, 'train_loss': 1.0879791832599703, 'epoch': 15.0}\n"
     ]
    },
    {
     "data": {
      "text/plain": [
       "TrainOutput(global_step=1515, training_loss=1.0879791832599703, metrics={'train_runtime': 1605.4141, 'train_samples_per_second': 7.512, 'train_steps_per_second': 0.944, 'total_flos': 3260641241456640.0, 'train_loss': 1.0879791832599703, 'epoch': 15.0})"
      ]
     },
     "execution_count": 19,
     "metadata": {},
     "output_type": "execute_result"
    }
   ],
   "source": [
    "trainer.train()"
   ]
  },
  {
   "cell_type": "code",
   "execution_count": 20,
   "metadata": {},
   "outputs": [
    {
     "name": "stdout",
     "output_type": "stream",
     "text": [
      "File Name: adapter_model.safetensors; File Size: 9231.85KB\n",
      "File Name: README.md; File Size: 4.98KB\n",
      "File Name: adapter_config.json; File Size: 0.66KB\n"
     ]
    }
   ],
   "source": [
    "peft_herbert_model_path = \"fine-tuned-peft-herbert-model-weights/\"\n",
    "peft_model.save_pretrained(peft_herbert_model_path)\n",
    "\n",
    "for file_name in os.listdir(peft_herbert_model_path):\n",
    "    file_size = os.path.getsize(os.path.join(peft_herbert_model_path, file_name))\n",
    "    print(f\"File Name: {file_name}; File Size: {file_size / 1024:.2f}KB\")"
   ]
  },
  {
   "cell_type": "code",
   "execution_count": 21,
   "metadata": {},
   "outputs": [
    {
     "name": "stdout",
     "output_type": "stream",
     "text": [
      "Evaluating fine-tuned model...\n"
     ]
    },
    {
     "name": "stderr",
     "output_type": "stream",
     "text": [
      "Some weights of BertForSequenceClassification were not initialized from the model checkpoint at allegro/herbert-base-cased and are newly initialized: ['classifier.bias', 'classifier.weight']\n",
      "You should probably TRAIN this model on a down-stream task to be able to use it for predictions and inference.\n",
      "/opt/miniconda3/envs/py310/lib/python3.10/site-packages/transformers/training_args.py:1545: FutureWarning: `evaluation_strategy` is deprecated and will be removed in version 4.46 of 🤗 Transformers. Use `eval_strategy` instead\n",
      "  warnings.warn(\n"
     ]
    },
    {
     "data": {
      "application/vnd.jupyter.widget-view+json": {
       "model_id": "0ed92cf6c51e46ad86c3d88a07d2a787",
       "version_major": 2,
       "version_minor": 0
      },
      "text/plain": [
       "  0%|          | 0/26 [00:00<?, ?it/s]"
      ]
     },
     "metadata": {},
     "output_type": "display_data"
    },
    {
     "name": "stdout",
     "output_type": "stream",
     "text": [
      "{'eval_loss': 1.0774812698364258, 'eval_model_preparation_time': 0.0021, 'eval_accuracy': 48.756218905472636, 'eval_runtime': 9.8572, 'eval_samples_per_second': 20.391, 'eval_steps_per_second': 2.638}\n"
     ]
    },
    {
     "data": {
      "text/plain": [
       "('final-fine-tuned-peft-herbert-model/tokenizer_config.json',\n",
       " 'final-fine-tuned-peft-herbert-model/special_tokens_map.json',\n",
       " 'final-fine-tuned-peft-herbert-model/vocab.json',\n",
       " 'final-fine-tuned-peft-herbert-model/merges.txt',\n",
       " 'final-fine-tuned-peft-herbert-model/added_tokens.json',\n",
       " 'final-fine-tuned-peft-herbert-model/tokenizer.json')"
      ]
     },
     "execution_count": 21,
     "metadata": {},
     "output_type": "execute_result"
    }
   ],
   "source": [
    "print(\"Evaluating fine-tuned model...\")\n",
    "\n",
    "config = PeftConfig.from_pretrained(peft_herbert_model_path)\n",
    "model = AutoModelForSequenceClassification.from_pretrained(\n",
    "    model_name, \n",
    "    num_labels=len(label2id),\n",
    "    label2id=label2id,\n",
    "    id2label=id2label\n",
    ")\n",
    "model = PeftModel.from_pretrained(model, peft_herbert_model_path)\n",
    "\n",
    "model.to(device)\n",
    "\n",
    "eval_trainer = Trainer(\n",
    "    model=model,\n",
    "    args=TrainingArguments(\n",
    "        output_dir=\"allegro-bert-lora\",\n",
    "        learning_rate=2e-5,\n",
    "        per_device_train_batch_size=8,\n",
    "        per_device_eval_batch_size=8,\n",
    "        num_train_epochs=3,\n",
    "        weight_decay=0.01,\n",
    "        evaluation_strategy=\"epoch\",\n",
    "        save_strategy=\"epoch\",\n",
    "        load_best_model_at_end=True,\n",
    "        metric_for_best_model=\"accuracy\",\n",
    "        logging_dir='logs',\n",
    "        logging_steps=10,\n",
    "        \n",
    "    ),\n",
    "    eval_dataset=tokenized_ds['test'],\n",
    "    tokenizer=tokenizer,\n",
    "    data_collator=DataCollatorWithPadding(tokenizer=tokenizer),\n",
    "    compute_metrics=compute_metrics,\n",
    ")\n",
    "\n",
    "test_results = eval_trainer.evaluate()\n",
    "print(test_results)\n",
    "\n",
    "model_save_path = \"final-fine-tuned-peft-herbert-model/\"\n",
    "model.save_pretrained(model_save_path)\n",
    "tokenizer.save_pretrained(model_save_path)"
   ]
  },
  {
   "cell_type": "code",
   "execution_count": 22,
   "metadata": {},
   "outputs": [
    {
     "data": {
      "application/vnd.jupyter.widget-view+json": {
       "model_id": "9f036717ddd5459c8383d6d27a15b2d5",
       "version_major": 2,
       "version_minor": 0
      },
      "text/plain": [
       "  0%|          | 0/26 [00:00<?, ?it/s]"
      ]
     },
     "metadata": {},
     "output_type": "display_data"
    }
   ],
   "source": [
    "predictions_output = trainer.predict(tokenized_ds[\"test\"])\n",
    "\n",
    "preds = np.argmax(predictions_output.predictions, axis=1)\n",
    "labels = predictions_output.label_ids\n",
    "\n",
    "predicted_labels = [id2label[pred] for pred in preds]\n",
    "true_labels = [id2label[label] for label in labels]"
   ]
  },
  {
   "cell_type": "code",
   "execution_count": 23,
   "metadata": {},
   "outputs": [],
   "source": [
    "data_collator = DataCollatorWithPadding(tokenizer=tokenizer)\n",
    "\n",
    "test_loader = DataLoader(\n",
    "    tokenized_ds[\"test\"],\n",
    "    batch_size=16,\n",
    "    shuffle=False,\n",
    "    collate_fn=data_collator\n",
    ")"
   ]
  },
  {
   "cell_type": "code",
   "execution_count": 24,
   "metadata": {},
   "outputs": [
    {
     "data": {
      "application/vnd.jupyter.widget-view+json": {
       "model_id": "9c06cd7b16334ecc8da612f7fae75062",
       "version_major": 2,
       "version_minor": 0
      },
      "text/plain": [
       "  0%|          | 0/26 [00:00<?, ?it/s]"
      ]
     },
     "metadata": {},
     "output_type": "display_data"
    }
   ],
   "source": [
    "predictions_output = eval_trainer.predict(tokenized_ds[\"test\"])\n",
    "\n",
    "preds = np.argmax(predictions_output.predictions, axis=1)\n",
    "labels = predictions_output.label_ids\n",
    "\n",
    "predicted_labels = [id2label[pred] for pred in preds]\n",
    "true_labels = [id2label[label] for label in labels]"
   ]
  },
  {
   "cell_type": "code",
   "execution_count": 25,
   "metadata": {},
   "outputs": [
    {
     "name": "stderr",
     "output_type": "stream",
     "text": [
      "/var/folders/ld/46j6jly10md36dbxgn_h72br0000gn/T/ipykernel_13457/2686228197.py:4: FutureWarning: \n",
      "\n",
      "Passing `palette` without assigning `hue` is deprecated and will be removed in v0.14.0. Assign the `x` variable to `hue` and set `legend=False` for the same effect.\n",
      "\n",
      "  sns.barplot(x=pred_label_counts.index, y=pred_label_counts.values, palette='viridis')\n"
     ]
    },
    {
     "data": {
      "image/png": "[encoded data removed]",
      "text/plain": [
       "<Figure size 600x400 with 1 Axes>"
      ]
     },
     "metadata": {},
     "output_type": "display_data"
    }
   ],
   "source": [
    "pred_label_counts = pd.Series(predicted_labels).value_counts()\n",
    "\n",
    "plt.figure(figsize=(6,4))\n",
    "sns.barplot(x=pred_label_counts.index, y=pred_label_counts.values, palette='viridis')\n",
    "plt.xlabel('Predicted Labels')\n",
    "plt.ylabel('Count')\n",
    "plt.title('Distribution of Predicted Labels')\n",
    "plt.show()"
   ]
  },
  {
   "cell_type": "code",
   "execution_count": 26,
   "metadata": {},
   "outputs": [
    {
     "data": {
      "image/png": "[encoded data removed]",
      "text/plain": [
       "<Figure size 800x600 with 2 Axes>"
      ]
     },
     "metadata": {},
     "output_type": "display_data"
    }
   ],
   "source": [
    "\n",
    "cm = confusion_matrix(true_labels, predicted_labels, labels=sorted_labels)\n",
    "\n",
    "plt.figure(figsize=(8,6))\n",
    "sns.heatmap(cm, annot=True, fmt='d', xticklabels=sorted_labels, yticklabels=sorted_labels, cmap='Blues')\n",
    "plt.xlabel('Predicted Labels')\n",
    "plt.ylabel('True Labels')\n",
    "plt.title('Confusion Matrix')\n",
    "plt.show()"
   ]
  },
  {
   "cell_type": "code",
   "execution_count": 27,
   "metadata": {},
   "outputs": [
    {
     "data": {
      "image/png": "[encoded data removed]",
      "text/plain": [
       "<Figure size 800x600 with 2 Axes>"
      ]
     },
     "metadata": {},
     "output_type": "display_data"
    }
   ],
   "source": [
    "cm_normalized = confusion_matrix(true_labels, predicted_labels, labels=sorted_labels, normalize='true')\n",
    "\n",
    "plt.figure(figsize=(8,6))\n",
    "sns.heatmap(cm_normalized, annot=True, fmt='.2f', xticklabels=sorted_labels, yticklabels=sorted_labels, cmap='Blues')\n",
    "plt.xlabel('Predicted Labels')\n",
    "plt.ylabel('True Labels')\n",
    "plt.title('Normalized Confusion Matrix')\n",
    "plt.show()"
   ]
  },
  {
   "cell_type": "code",
   "execution_count": 28,
   "metadata": {},
   "outputs": [
    {
     "name": "stdout",
     "output_type": "stream",
     "text": [
      "              precision    recall  f1-score   support\n",
      "\n",
      "    Negative       0.74      0.51      0.60        69\n",
      "     Neutral       0.43      0.58      0.50        69\n",
      "    Positive       0.37      0.37      0.37        63\n",
      "\n",
      "    accuracy                           0.49       201\n",
      "   macro avg       0.52      0.48      0.49       201\n",
      "weighted avg       0.52      0.49      0.49       201\n",
      "\n"
     ]
    }
   ],
   "source": [
    "report = classification_report(true_labels, predicted_labels, target_names=sorted_labels)\n",
    "print(report)"
   ]
  },
  {
   "cell_type": "code",
   "execution_count": 29,
   "metadata": {},
   "outputs": [
    {
     "name": "stdout",
     "output_type": "stream",
     "text": [
      "Example 1:\n",
      "Text: Dr bardzo czylelnie sie jasno prowadzi wykład jak chodzisz w sumie nie wiele musisz i uczyc .\n",
      "True Label: Positive\n",
      "Predicted Label: Positive\n",
      "Probabilities: [0.27461106 0.33056337 0.39482567]\n",
      "--------------------------------------------------\n",
      "Example 2:\n",
      "Text: Informacja na podstawie obecności .\n",
      "True Label: Neutral\n",
      "Predicted Label: Neutral\n",
      "Probabilities: [0.32561406 0.34980583 0.32458013]\n",
      "--------------------------------------------------\n",
      "Example 3:\n",
      "Text: Jeśli masz więcej odróbek ( lub jest jakiś ważny powód ) można się było z prowadzącą zajęcia dogadać .\n",
      "True Label: Positive\n",
      "Predicted Label: Positive\n",
      "Probabilities: [0.32641873 0.33551767 0.3380636 ]\n",
      "--------------------------------------------------\n",
      "Example 4:\n",
      "Text: Ogólnie BwE to pikuś 8 )\n",
      "True Label: Neutral\n",
      "Predicted Label: Neutral\n",
      "Probabilities: [0.32948947 0.33815876 0.33235177]\n",
      "--------------------------------------------------\n",
      "Example 5:\n",
      "Text: Jest to human , jego do trzeba się odzywać i trzeba coś robić , więc nie polcam jeśli ktoś nastawia się , że którym obecności będzie jego ocena .\n",
      "True Label: Neutral\n",
      "Predicted Label: Neutral\n",
      "Probabilities: [0.30022758 0.3571608  0.34261158]\n",
      "--------------------------------------------------\n"
     ]
    }
   ],
   "source": [
    "\n",
    "def get_probabilities(logits):\n",
    "    return F.softmax(torch.tensor(logits), dim=-1).numpy()\n",
    "\n",
    "probabilities = get_probabilities(predictions_output.predictions)\n",
    "\n",
    "for i in range(5):\n",
    "    print(f\"Example {i+1}:\")\n",
    "    print(f\"Text: {test_df['text'].iloc[i]}\")\n",
    "    print(f\"True Label: {true_labels[i]}\")\n",
    "    print(f\"Predicted Label: {predicted_labels[i]}\")\n",
    "    print(f\"Probabilities: {probabilities[i]}\")\n",
    "    print(\"-\" * 50)"
   ]
  },
  {
   "cell_type": "code",
   "execution_count": 30,
   "metadata": {},
   "outputs": [
    {
     "data": {
      "application/vnd.jupyter.widget-view+json": {
       "model_id": "64241914cf234e41b6c0090376ccd525",
       "version_major": 2,
       "version_minor": 0
      },
      "text/plain": [
       "Map:   0%|          | 0/804 [00:00<?, ? examples/s]"
      ]
     },
     "metadata": {},
     "output_type": "display_data"
    },
    {
     "data": {
      "application/vnd.jupyter.widget-view+json": {
       "model_id": "4bb47a028914469cbdae7b6e3893f03b",
       "version_major": 2,
       "version_minor": 0
      },
      "text/plain": [
       "Map:   0%|          | 0/201 [00:00<?, ? examples/s]"
      ]
     },
     "metadata": {},
     "output_type": "display_data"
    },
    {
     "name": "stdout",
     "output_type": "stream",
     "text": [
      "DatasetDict({\n",
      "    train: Dataset({\n",
      "        features: ['input_ids', 'token_type_ids', 'attention_mask', 'labels'],\n",
      "        num_rows: 804\n",
      "    })\n",
      "    test: Dataset({\n",
      "        features: ['input_ids', 'token_type_ids', 'attention_mask', 'labels'],\n",
      "        num_rows: 201\n",
      "    })\n",
      "})\n"
     ]
    }
   ],
   "source": [
    "def preprocess_function(examples):\n",
    "    tokens = tokenizer(\n",
    "        examples[\"text\"], \n",
    "        padding=\"max_length\", \n",
    "        truncation=True, \n",
    "        max_length=512\n",
    "    )\n",
    "    tokens['labels'] = [label2id[l] for l in examples[\"label\"]]\n",
    "    return tokens\n",
    "\n",
    "tokenized_ds = dataset.map(\n",
    "    preprocess_function, \n",
    "    batched=True, \n",
    "    remove_columns=dataset[\"train\"].column_names\n",
    ")\n",
    "\n",
    "print(tokenized_ds)\n",
    "\n"
   ]
  },
  {
   "cell_type": "code",
   "execution_count": 31,
   "metadata": {},
   "outputs": [
    {
     "name": "stderr",
     "output_type": "stream",
     "text": [
      "Extracting embeddings: 100%|██████████| 13/13 [00:10<00:00,  1.29it/s]\n"
     ]
    }
   ],
   "source": [
    "def extract_embeddings(model, tokenizer, dataset, device, batch_size=16):\n",
    "    model.eval()\n",
    "    loader = DataLoader(\n",
    "        dataset, \n",
    "        batch_size=batch_size, \n",
    "        shuffle=False, \n",
    "        collate_fn=DataCollatorWithPadding(tokenizer=tokenizer)\n",
    "    )\n",
    "    embeddings = []\n",
    "    labels = []\n",
    "    \n",
    "    model_input_keys = tokenizer.model_input_names\n",
    "\n",
    "    with torch.no_grad():\n",
    "        for batch in tqdm(loader, desc=\"Extracting embeddings\"):\n",
    "            # Przygotowanie wejść\n",
    "            inputs = {k: v.to(device) for k, v in batch.items() if k in model_input_keys}\n",
    "            # Wywołanie modelu z output_hidden_states=True\n",
    "            outputs = model(**inputs, output_hidden_states=True, return_dict=True)\n",
    "            # Ukryte stany to krotka wszystkich warstw\n",
    "            hidden_states = outputs.hidden_states\n",
    "            # Pobranie ostatniego ukrytego stanu\n",
    "            last_hidden_state = hidden_states[-1]  # Kształt: [batch_size, seq_length, hidden_size]\n",
    "            # Wyodrębnienie reprezentacji [CLS]\n",
    "            cls_embeddings = last_hidden_state[:, 0, :].cpu().numpy()\n",
    "            embeddings.append(cls_embeddings)\n",
    "            labels.extend(batch['labels'].cpu().numpy())\n",
    "    \n",
    "    embeddings = np.vstack(embeddings)\n",
    "    return embeddings, labels\n",
    "\n",
    "test_embeddings, test_labels_ids = extract_embeddings(\n",
    "    model, \n",
    "    tokenizer, \n",
    "    tokenized_ds[\"test\"], \n",
    "    device=device, \n",
    "    batch_size=16\n",
    ")\n",
    "\n",
    "test_labels = [id2label[label_id] for label_id in test_labels_ids]\n",
    "\n",
    "test_predicted_labels = [id2label[pred] for pred in preds]"
   ]
  },
  {
   "cell_type": "code",
   "execution_count": 32,
   "metadata": {},
   "outputs": [
    {
     "name": "stderr",
     "output_type": "stream",
     "text": [
      "/opt/miniconda3/envs/py310/lib/python3.10/site-packages/sklearn/manifold/_t_sne.py:1162: FutureWarning: 'n_iter' was renamed to 'max_iter' in version 1.5 and will be removed in 1.7.\n",
      "  warnings.warn(\n",
      "huggingface/tokenizers: The current process just got forked, after parallelism has already been used. Disabling parallelism to avoid deadlocks...\n",
      "To disable this warning, you can either:\n",
      "\t- Avoid using `tokenizers` before the fork if possible\n",
      "\t- Explicitly set the environment variable TOKENIZERS_PARALLELISM=(true | false)\n"
     ]
    },
    {
     "data": {
      "application/vnd.plotly.v1+json": {
       "config": {
        "plotlyServerURL": "https://plot.ly"
       },
       "data": [
        {
         "customdata": [
          [
           "Positive",
           "Positive",
           "Dr bardzo czylelnie sie jasno prowadzi wykład jak chodzisz w sumie nie wiele musisz i uczyc ."
          ],
          [
           "Positive",
           "Positive",
           "Jeśli masz więcej odróbek ( lub jest jakiś ważny powód ) można się było z prowadzącą zajęcia dogadać ."
          ],
          [
           "Positive",
           "Neutral",
           "Ogólnie bardzo polecam , Krzysztof Bogdan ze swoim plecakiem i poczuciem humoru ( ' A teraz na koniec roku podajcie sobie ręce ' wymieńcie znak pokoju i : ) spodoba się każdemu ."
          ],
          [
           "Positive",
           "Neutral",
           "Tlumaczyl wmiare jasno zawsze byl jakis problem teoretyczny ."
          ],
          [
           "Positive",
           "Positive",
           "Ogólnie - polecam"
          ],
          [
           "Positive",
           "Positive",
           "Ogólnie bardzo normalny jak na informatyka , polecam brać w ciemno ."
          ],
          [
           "Positive",
           "Neutral",
           "Jest bardzo przejrzyście ."
          ],
          [
           "Positive",
           "Neutral",
           "Ogólnie bardzo polecam , Krzysztof Bogdan ze swoim plecakiem i poczuciem humoru ( ' a zdjęcia na koniec roku podajcie sobie ) i wymieńcie znak pokoju ' : ) Polecam może każdemu ."
          ],
          [
           "Positive",
           "Positive",
           "Ludzie . . nie takiego lajtu jak zyje to nego widzialem . . . : ) Postanowilem przytoczyc kilka zdan z pierwszego wykladu ( . 20 ) : \" wykl a"
          ],
          [
           "Positive",
           "Neutral",
           "Poczucie humoru , student - tez czlowiek , poprostu super ."
          ],
          [
           "Positive",
           "Neutral",
           "Kurs : Analiza mat . 1 - wykł i ćw Ocena : bardziej pozytwyna niż negatywna Wykład = przepisywanie skryptu , Dr Wilhelm jest człowiekiem do bólu skrupulatnym i punktualnym ( choć troche anemicznym ; ) ) ."
          ],
          [
           "Positive",
           "Neutral",
           "Poczucie humoru , humor - tez czlowiek , poprostu super ."
          ],
          [
           "Positive",
           "Neutral",
           "tylko z nim mozna pogadać zagadać spytac ! ! !"
          ],
          [
           "Positive",
           "Neutral",
           "Nigdzie nie mogł eś trafić ."
          ],
          [
           "Positive",
           "Positive",
           "Wstęp do programowania kurs laborki i wykłady Kurs jest z dosta środowiska Turbo - , polecam wykorzystaniem Tyca wszystkim tym którzy mieli co Linux do czynienia z Pascalem , to na zaliczenie dla samouków test na pierwszych zajęciach podejść do prowadzącego i zapytać się jak problemów uzyskać zaliczenie bez chodzenia na laborki on karze Ci napisać jakiś program oparty na bazach danych , piszesz program oddajesz i jeśli się do niego przyłożył można dostajesz 5 lub 6 możesz najmniej z przepisaniem tej oceny na wykład , nie % sz testu na zaliczenie wykładów ."
          ],
          [
           "Positive",
           "Negative",
           "Human do odbębnienia , na zajęciach można było grać w karty , wormsy , a może i nawet bierki ; zajęciach Na ) na 150 osób praktycznie nigdy nie cej było niż 10 studentow ; )"
          ],
          [
           "Positive",
           "Neutral",
           "To wspaniała prowadząca wykład . . . . : )"
          ],
          [
           "Positive",
           "Neutral",
           "Polecam ten kurs i prowadzącego ."
          ],
          [
           "Positive",
           "Positive",
           "Ludzie . . kilka takiego lajtu jak zyje to nie widzialem . . . : ) Postanowilem przytoczyc \" zdan z pierwszego wykladu ( mniej wiecej ) : \" : ."
          ],
          [
           "Positive",
           "Neutral",
           ", z geom . Kolega 1 polecam miał em z nim wykłady , bardzo fajny pl , student tez czlowiek , czasami sie myli ale przyznale sie do bledow ."
          ],
          [
           "Positive",
           "Positive",
           "Jeśli masz więcej odróbek ( a jest jakiś inny powód ) można się było z prowadzącą zajęcia dogadać ."
          ],
          [
           "Positive",
           "Positive",
           "Jeśli chcesz się nauczyć to jest to dobry wybór , \" prze ."
          ],
          [
           "Positive",
           "Neutral",
           "ANALIZA MATEMATYCZNA 1 ( WYKŁAD + ĆW ) Pani wydaje byc sie mila osobka , tłumaczy wszytko dokladnie bez zadnego pospiechu ."
          ],
          [
           "Positive",
           "Positive",
           "Kolokwia nie sa trudne , taki standart ogolnouczelniany ."
          ],
          [
           "Positive",
           "Negative",
           "Każda nieobecność to jest ocena w dół na koniec wystarczy , że odrobisz ten termin . na . jest krótki , bezstresowy egzamin koniec bez paniki , ."
          ],
          [
           "Positive",
           "Neutral",
           "Kola nie sa zbyt trudne , wystarczy miec . notatki z cwiczen i przeczytac cos z ksiazki tylko"
          ],
          [
           "Positive",
           "Neutral",
           "- luzacki prowadzący ."
          ],
          [
           "Positive",
           "Neutral",
           "Tlumaczyl wmiare jasno zawsze byl jakis wstep teoretyczny ."
          ],
          [
           "Positive",
           "Neutral",
           "ANALIZA MATEMATYCZNA 1 ( WYKŁAD + ĆW ) Pani wydaje mi sie mila osobka , rozumie wszytko dokladnie bez zadnego pospiechu ."
          ],
          [
           "Positive",
           "Neutral",
           "Kurs : Analiza mat . 1 - wykł i ćw Ocena : bardziej pozytwyna niż negatywna Wykład do przepisywanie skryptu , Dr Wilhelm jest dokładnym obejmuje bólu skrupulatnym i profesorem ( choć troche anemicznym ; ) ) ."
          ],
          [
           "Positive",
           "Neutral",
           "Jeżeli macie możliwość zapisania sie na zajęcia z Pania Dr to polecam serdecznie"
          ],
          [
           "Positive",
           "Neutral",
           "Marek M . , mgr Pływanie / [ . b ] Ocena za obecnosc ( 5 , 0 ) ."
          ],
          [
           "Positive",
           "Negative",
           "ANALIZA MATEMATYCZNA 1 ( WYKŁAD + ĆW normalna Pani wydaje byc sie ) osobka , tłumaczy wszystko dokladnie bez zadnego pospiechu ."
          ],
          [
           "Positive",
           "Neutral",
           "Z tym nie ma raczej problemu ."
          ],
          [
           "Positive",
           "Negative",
           "Ale na egzaminie natomiast jest inaczej ."
          ],
          [
           "Positive",
           "Neutral",
           "Poczucie humoru , student - tez czlowiek , poprostu super ."
          ],
          [
           "Positive",
           "Neutral",
           "Lepiej nie mogł eś . ."
          ],
          [
           "Positive",
           "Neutral",
           "Kolejny plus to dodatkowe punkty za aktywność ."
          ],
          [
           "Positive",
           "Positive",
           "Scharoch wypada naprawde swietnie ."
          ],
          [
           "Positive",
           "Neutral",
           "Lepiej nie mogł eś trafić ."
          ],
          [
           "Positive",
           "Negative",
           "Ogolna ocena : polecam ! ! !"
          ],
          [
           "Positive",
           "Neutral",
           "Naprawde warto go kupić : )"
          ],
          [
           "Positive",
           "Positive",
           "Zawsze z kim mozna pogadać zagadać spytac ! ! !"
          ],
          [
           "Positive",
           "Positive",
           "Ogólnie OK gdyż dobrym fizykiem nie był em zwrot tylko jeden i ocena 4 więc nie jest strsznie ! !"
          ],
          [
           "Positive",
           "Negative",
           "U nas raz puścił liste ale potem stwierdził ze dalej będzie czytał bo tak szybciej ( niedziwie sie ludzie sobie wpisywali obecności wcześniej a nawet na zapas : D hehe ) Miał em 3 nieobecności na 10 chyba i dał mi 4.5 Można sie z nim dogadać lu zwolnienie mu przynieść : D UZNAJE : D"
          ],
          [
           "Positive",
           "Neutral",
           "Dopiero na końcu był w miarę luz i wtedy zdało najwięcej osób ."
          ],
          [
           "Positive",
           "Positive",
           "Ogólnie oceniam jako humana za 3 pkt ."
          ],
          [
           "Positive",
           "Neutral",
           "Kurs : Fizyka 1 ćw . [ / b płacze Miła , sympatyczna , często się śmieje ( czesto ] : P ) ."
          ],
          [
           "Positive",
           "Positive",
           "Kurs : Analiza mat . tekstu - był i ćw Ocena gdyż bardziej pozytwyna niż negatywna Wykład = przepisywanie skryptu , jest Wilhelm wykład człowiekiem do bólu skrupulatnym i punktualnym ( choć troche anemicznym ; ) ) ."
          ],
          [
           "Positive",
           "Positive",
           "i wykładowca ."
          ],
          [
           "Positive",
           "Neutral",
           "Górniak te ćwiczenia wogóle nie trzebaby chodzić ."
          ],
          [
           "Positive",
           "Neutral",
           "Mozna też pospać na zajęciach ."
          ],
          [
           "Positive",
           "Positive",
           "ALGEBRA Z GEOMETRIA ( 1 OCENA : SPOKO 8 ) [ / b ] Dr Rałowski jest baaardzo dobrym człowiekiem . . . ."
          ],
          [
           "Positive",
           "Neutral",
           "ALGEBRA Z jest ANALITYCZNĄ 1 OCENA : SPOKO 8 ) [ / b ] Dr Rałowski POMOC baaardzo zakręconym człowiekiem . . . ."
          ],
          [
           "Positive",
           "Neutral",
           "Zawsze z nim mozna pogadać i spytac ! ! !"
          ],
          [
           "Positive",
           "Positive",
           "Szermierka to bardzo ciekawy sport , a Pan Gańcza potrafi wiele nauczyc ."
          ],
          [
           "Positive",
           "Positive",
           "Znam ją tez z ćwiczeń gdzie dobrze i przystepnie tłumaczy ."
          ],
          [
           "Positive",
           "Positive",
           "Pani Małgorzata chętna jest do pomocy z trudniejszymi zadaniami ."
          ],
          [
           "Positive",
           "Positive",
           "Niesamowite poczucie humoru ciagle wstawki dla rozsmieszenia , itd . ."
          ],
          [
           "Positive",
           "Positive",
           "Górniak na ćwiczenia wogóle nie trzebaby chodzić ."
          ],
          [
           "Positive",
           "Neutral",
           ") I i , II - wyklady IZ Bardzo ciekawy ) nie ma zadnych bardzo dowcipny człowiek , sporo kawalow , anegdot super : . Zajecia są prowadzone w bardzo przyjazny dla studenta sposób ( wyłączjąc ofiarę , którą prof na sobie upatrzy Klasa poczatku klasa - ta ma \" ciek a"
          ],
          [
           "Positive",
           "Neutral",
           "Dopiero na 3 był w miarę luz i wtedy zdało najwięcej osób ."
          ],
          [
           "Positive",
           "Positive",
           "Prowadzone bardzo sprawnie ."
          ]
         ],
         "hovertemplate": "True Label=%{customdata[0]}<br>TSNE-1=%{x}<br>TSNE-2=%{y}<br>Predicted Label=%{customdata[1]}<br>Text=%{customdata[2]}<extra></extra>",
         "legendgroup": "Positive",
         "marker": {
          "color": "#636efa",
          "symbol": "circle"
         },
         "mode": "markers",
         "name": "Positive",
         "orientation": "v",
         "showlegend": true,
         "type": "scatter",
         "x": [
          -3.7672355,
          3.0075424,
          -2.8185127,
          -0.28638786,
          -1.4227057,
          -2.3330874,
          -2.9419458,
          -2.9063258,
          -11.337142,
          -5.587447,
          -7.405053,
          -5.611598,
          -7.88974,
          -10.5931425,
          -3.5203116,
          0.27038127,
          5.210336,
          0.60782266,
          -11.321475,
          -7.3450484,
          2.9876294,
          3.6537285,
          13.200768,
          -2.0490358,
          5.62043,
          -2.5603309,
          3.3269928,
          -0.27647063,
          13.202569,
          -7.993694,
          2.9571688,
          7.7966375,
          13.210394,
          -0.018985994,
          -0.72244793,
          -5.586976,
          -10.67886,
          -0.9067193,
          -2.7629042,
          -10.628945,
          -3.0021448,
          -1.8924918,
          -7.8589787,
          7.239937,
          1.4684924,
          -0.65685797,
          3.5058882,
          -8.331362,
          -8.318645,
          3.6559026,
          -0.03419141,
          -1.1595984,
          -7.483413,
          -7.454527,
          -7.7798004,
          -0.8554877,
          11.276815,
          4.248698,
          -1.4624728,
          -0.14068203,
          6.854761,
          -0.8643032,
          -2.9866526
         ],
         "xaxis": "x",
         "y": [
          -2.5508368,
          -1.4089324,
          -2.7106168,
          11.213827,
          -2.9655359,
          -3.12453,
          -3.4821675,
          -2.657323,
          -1.6124978,
          1.7854698,
          -11.51026,
          1.7815379,
          4.7727203,
          2.2929468,
          -5.9427643,
          4.848498,
          0.47687313,
          -2.787904,
          -1.6159317,
          4.40619,
          -1.3855934,
          -1.4066322,
          -7.36242,
          9.007285,
          -4.9212546,
          12.331669,
          3.7401807,
          11.209468,
          -7.363201,
          -10.9597225,
          -1.8198973,
          -9.426423,
          -7.351102,
          -1.0327518,
          -9.112249,
          1.7840003,
          2.3211977,
          -0.35402972,
          9.296419,
          2.2875094,
          7.512357,
          6.23759,
          4.7521873,
          -0.7553987,
          2.342379,
          -9.211667,
          0.3677542,
          -10.845175,
          -11.468119,
          -10.189914,
          -6.212418,
          0.97824264,
          9.935814,
          9.966033,
          4.860582,
          7.157711,
          2.104214,
          -8.816967,
          10.31604,
          -8.623487,
          -8.614471,
          -8.988566,
          -3.7272253
         ],
         "yaxis": "y"
        },
        {
         "customdata": [
          [
           "Neutral",
           "Neutral",
           "Informacja na podstawie obecności ."
          ],
          [
           "Neutral",
           "Neutral",
           "Ogólnie BwE to pikuś 8 )"
          ],
          [
           "Neutral",
           "Neutral",
           "Jest to human , jego do trzeba się odzywać i trzeba coś robić , więc nie polcam jeśli ktoś nastawia się , że którym obecności będzie jego ocena ."
          ],
          [
           "Neutral",
           "Neutral",
           "Zajmuje to góra dwa dni , zwłaszcza ze odpowiedzi sa wspólnie opracowywane przez studentów ."
          ],
          [
           "Neutral",
           "Positive",
           "Wymaga absolutnej ciszy , mam słuch i wzrok absolutny , usłyszy i wypatrzy wszystko ."
          ],
          [
           "Neutral",
           "Neutral",
           "Dr A . T . KOWAL Chemia nieorganiczna II - ćwiczenia Ocena : pozytywna [ / b ] Specyficzny sposób prowadzenia zajęć . . . ."
          ],
          [
           "Neutral",
           "Positive",
           "Ocena : do przejścia Pan Jerzy to całkiem fajny matematyk , co prawda dosyć ekscentryczny ale nie straszny taki się jak by aż mogło wydawać ."
          ],
          [
           "Neutral",
           "Positive",
           "Jeśli jednak zdecydujesz się chodzic na wykład to pamiętaj , że na zajęciach trzeba byc punktualnie , bo koleś zamyka drzwi ; ) Koła w kilku salach , na każdej sali pilnuje kilka osób , ale ściagac da rade ."
          ],
          [
           "Neutral",
           "Neutral",
           "On jest chyba fanatykiem swoich dziedzin ( a jest tego z ) . ale sporo tego co pamietam wiekszosć w końcu zdała egzamin"
          ],
          [
           "Neutral",
           "Neutral",
           "Chodzi o każde zjawisko , które ma cokolowiek wspólnego z danym ćwiczeniem ."
          ],
          [
           "Neutral",
           "Neutral",
           "W sumie bezstresowe zajęcia , dopóki nie bedzie kolokwium ."
          ],
          [
           "Neutral",
           "Positive",
           "Reszta zadań standard z \" magi c"
          ],
          [
           "Neutral",
           "Neutral",
           "Polecam wziąć sobie do serca wszystkie rady , przy j"
          ],
          [
           "Neutral",
           "Positive",
           "Ja bylem na absolutnie _ wszystkich _ cwiczenach i - mimo dopytki - dostalem 3.5 , wiec nie jest znowu tak lagodny dla chodzacych . ."
          ],
          [
           "Neutral",
           "Neutral",
           "Jesli sluchasz go na zajeciach i zrobisz w domu ze 2 zadanka , to powinienes bez problemow zaliczyc ."
          ],
          [
           "Neutral",
           "Positive",
           "Zazwyczaj kierowca uprzedza co bedzie na kołach ."
          ],
          [
           "Neutral",
           "Neutral",
           "Pierwszy termin u mnie na szybko zaliczylo ok 5 osób na 200 . to . . w drugim bylo np lepiej . . . tak maturze jak tylko mozesz zalicz przedmioty u innego wykladowcy . juz zeby przepisac ocene na wyklady i masz spokoj : ) ja tak zrobilem i zero stresu ."
          ],
          [
           "Neutral",
           "Negative",
           "Spośród szlifierek METABO WQ1400W , Hitachi 1500W G13VA , SKILL 1200W to Dewalt okazal się być najlepszy . Choć mi pracuje się lepiej z METABO bo jest poręczniejsza , to pracownik woli DEWALTA , bo sie nie przegrzewa i jest zwyczajnie mocniejszy ( a to też 1400W ) Mam ją może z rok i już 3 raz wysyłam na serwis ( nadzwyczaj sprawnie i szybko działa ) Zaznaczyć trzeba żę pracuje duuużo i ciężko . Najczęściej z przystawką do satynowania a to są duże obciążenia . Polecam , jednak DEWALT i tak lekko przed . Hitachi nie dość , że zdecydowanie droższy to system regulacji obrotów przy obciążeniu świruje ."
          ],
          [
           "Neutral",
           "Neutral",
           "Jeśli wyczyta nieobecnego , to w osoba ta 100 % będzie czytana na kolejnych zajęciach ."
          ],
          [
           "Neutral",
           "Neutral",
           "Z założenia na zaliczenie 15 , 5 pkt - w praktyce ok 10 . ."
          ],
          [
           "Neutral",
           "Positive",
           "Podczas prowadzenia wykładu zawsze patrzy w podłogę jakby się bał studentów . . . : ? : : D Co do zaliczenia to w sem . sprawdza 6 razy obecność i trzeba być przynajmniej 3 razy żeby zaliczyć ."
          ],
          [
           "Neutral",
           "Neutral",
           "To co mówi pan profesor może i jesst ciekawe i nieraz potrafi zainteresować , ale minusem jest to w jaki sposob on to mówi ."
          ],
          [
           "Neutral",
           "Neutral",
           "Jak . przyłożysz to się dużo nauczysz ! : się Aha i jeszcze jedno . . ) lubi się spóźniać ; )"
          ],
          [
           "Neutral",
           "Neutral",
           "Kurs : Angielski B 1 B E Może / / Średnio na jeża a / b / Kurs jest bardzo bezstresowy , nie ma niezapowiedzianych kartkówek , zapowiedzianych zresztą też ."
          ],
          [
           "Neutral",
           "Neutral",
           "Zajęcia prowadzi na luzie , ale wymaga też …"
          ],
          [
           "Neutral",
           "Positive",
           "Zajęcia prowadzi na luzie , ale prywatnie też ."
          ],
          [
           "Neutral",
           "Negative",
           "Zaliczenie strony : Strona internetowa wymyślonej firmy lub biznes plan ."
          ],
          [
           "Neutral",
           "Positive",
           "Najlepiej pytac ustnie ."
          ],
          [
           "Neutral",
           "Neutral",
           "Jeśli chodzi o wykład na WEMiF - ie ludzie chyba nie mają wyboru - chyba tylko dr Juszkiewicz wykłada ."
          ],
          [
           "Neutral",
           "Neutral",
           "Zadania robi . \""
          ],
          [
           "Neutral",
           "Neutral",
           "Można jednak lab przejść o ile się za nim pobiega , pochodzi na e ( on chyba czuje radość w ż , studia pracy dużo studentów do niego przychodzi ) ."
          ],
          [
           "Neutral",
           "Positive",
           "Zaliczyli - ( można było oddać wypracowanie własne wtedy było 3 ; lub napisać się - niewielu się na to zdecydowało ) ."
          ],
          [
           "Neutral",
           "Positive",
           "Jeśli chodzi o zajęcia to wiadomo że do póki nie przyjdzie prowadzący to każdy sie rozgrzewa , potem ( jak u każdego ) co jakiś mecze robi małą rozgrzewke i konkursy się wyścigi rzędów , konkursy zucania z dwutaktu lewą ręką ) , a potam gra , 3 lub 4 / , system wybierają studenci ale najcześciej jest tak że gra czas się 10 mecz i rewanż gra każdy gra te ( mecze i czasami jest streetball i potem same , całe boisko ."
          ],
          [
           "Neutral",
           "Positive",
           "Forma dowolna - referat , rozprawka , opowiadanie , [ , nawet wiersz opowiadanie ] Objętość około strony , maksymalnie dwóch ."
          ],
          [
           "Neutral",
           "Positive",
           "Koła do nauki , choć łatwe nie są ."
          ],
          [
           "Neutral",
           "Negative",
           "Przyłapanie na ściąganiu to 2.0 z danej pracy ."
          ],
          [
           "Neutral",
           "Neutral",
           "To co mówi pan profesor może i jesst ciekawe i nieraz potrafi zainteresować , ale minusem jest to w jaki osób sposób to mówi ."
          ],
          [
           "Neutral",
           "Neutral",
           "w nie byly jednak porywajace ani zbytnio interesujace wiec Zdjęcia pelni tej pani nie polecam ."
          ],
          [
           "Neutral",
           "Positive",
           "Koła zwykle do najłatwiejszych nie należą , ale jeśli człowiek się troszkę postara to zaliczy bez problemu ."
          ],
          [
           "Neutral",
           "Negative",
           "Lodowka fajnie się trafi , pojemna , półki praktycznie rozplanowane , nieco za głośna ale , sie ta i wydaje troche inne prezentuje od tradyzyjnej . ale . dźwięki . na własnie popsuła sie po 2 . 5 roku , więc jeśli ktoś nie chce wymieniać dobrze bardzo lata sprzetu to nie polecam , nie wiem może nam sie i jakiś feralny model 2 w sprawuje agd potwierdzili że firma , się rozreklamowała sklepie wraz ze wzrotem zainteresowania straciła na jakości . Lepiej wydać pare zł więcej i mieć spokój na parę lat ."
          ],
          [
           "Neutral",
           "Neutral",
           "Kurs : Algebra z nie analityczną - wykład Jak dla mnie ten gosć metodą swój świat ale to nic zawsze wygnieciony ma i wyspany tak jak by balował całe dnie i noce ."
          ],
          [
           "Neutral",
           "Neutral",
           "TYM razem udało mi sie zaliczyć w ostatniej poprawce ale jeśli ktoś nie zaliczył to przepisał zadania z list ( Przepisz wszytkie lub większość tzn . jak masz na liście 10 a zrobisz 8 to przejdzie ."
          ],
          [
           "Neutral",
           "Neutral",
           "Dzielil sale na 6 grup i zazwyczaj tak bylo , ze pierwsza grupa miala zadanie najlatwiejsze , ale nie tak zle ."
          ],
          [
           "Neutral",
           "Neutral",
           "Jak widzi ze uwaga sluchaczy zaczyna gdzies uciekac , opowie kawal , anegdotę albo inna historyjkę ; ) Tylko pora wykladow masakryczna ( przynajmniej jak dla mnie ; ) )"
          ],
          [
           "Neutral",
           "Neutral",
           "Chyba , że na algebrze jest inaczej . . ."
          ],
          [
           "Neutral",
           "Neutral",
           "Fot ."
          ],
          [
           "Neutral",
           "Neutral",
           "Cóż . . . ."
          ],
          [
           "Neutral",
           "Neutral",
           "Tak czy inaczej , jeśli : się między Panem Apostolukiem , a Panią Kołodziej - to wiesz już kogo wybrać znajdziesz )"
          ],
          [
           "Neutral",
           "Neutral",
           "Chyba spodziewała m się czegoś więcej , po kosmetyku o którym słyszała m tyle słów zachwytu . Jak dla mnie kosmetyk jest w zbyt ciepłej tonacji , trzeba z nim bardzo uważać by nie zrobić sobie plam na twarzy ( nie wykluczam , że jest to spowodowane moim brakiem umiejętności makijażowych ) . Plusy to fajne matowe wykończenie , brak świecących drobinek , piękne i wytrzymałe opakowanie , co dla mnie jest ważne bo często podróżuję i zdarza się , że kosmetyki niszczą mi się przy transporcie . Puder zaliczył lot ze stolika i lądowanie na podłodze i jest cały - test odporności zdał celująco . Co nie zmienia faktu , że racze nie kupię kolejny raz tego kosmetyku : ("
          ],
          [
           "Neutral",
           "Positive",
           "Co innego po ćwiczeniach . . . : )"
          ],
          [
           "Neutral",
           "Positive",
           "Pod koniec wykladu daje pytania ktore sa wybierane na egzamin i tego i tak jest trudno zaliczyc ."
          ],
          [
           "Neutral",
           "Positive",
           "Podpisuje się pod opinią poprzednika i klawiszami klawiatury ."
          ],
          [
           "Neutral",
           "Positive",
           "Kolokwium zaliczniowe z ćwiczen wyglada nastepująco ."
          ],
          [
           "Neutral",
           "Neutral",
           "Chodzi po sali i hmmmm . . . ."
          ],
          [
           "Neutral",
           "Neutral",
           "W tym roku nawet obnizyl prog zaliczenia z 12 na 10 pkt : shock : Generalnie nie jest zle , pozatym AiR nie ma innego wyboru ; )"
          ],
          [
           "Neutral",
           "Neutral",
           "Zajęcia są nudne , nie wymagają obecnosci ."
          ],
          [
           "Neutral",
           "Neutral",
           "Zadania nauczyciele egzaminie do latwych nie naleza ale na ukladaja je , IM , wiec czego mozna sie spodziewac : ) OCENA OGÓLNA : ŚREDNIO NA JEŻA"
          ],
          [
           "Neutral",
           "Neutral",
           "W sumie bezstresowe zajęcia , dopóki nie bedzie deszczu ."
          ],
          [
           "Neutral",
           "Positive",
           "Trzeba napisac 2 kolokwia , zdazaja sie rzadko kartkowki ."
          ],
          [
           "Neutral",
           "Neutral",
           "Kurs : nie z geometrą analityczną - wykład Jak dla mnie ten gosć ma swój świat ale zmęczony nic Praca jest i nie wyspany tak jak by balował całe dnie i noce ."
          ],
          [
           "Neutral",
           "Positive",
           "Da się ściągać nie współpracować , ale czasami zdarza się sytuacja , że zaliczy osoba kogo ściągała a która od i ten ktoś ściągał niestety nie ."
          ],
          [
           "Neutral",
           "Neutral",
           "Szczerze to nie wiem , czemu aż tak bardzo polecany jest w drogeriach , przecież to żadne wow , miała m rozstępy takie w początkowej fazie , a używając tego olejku widzę jeszcze więcej rozstępów , które są głębsze i brzydsze , czyli nie wyglądają przyzwoicie . Poszła m do dermatologa i przepisała mi maść , która pomału naprawia błędy oleju . Moim zdaniem straciła m tylko pieniądze . Jedyne co jest plusem to to , że olejek bardzo nawilża skórę więc osoba , która ma skórę suchą zdecydowanie z niego powinna być zadowolona ."
          ],
          [
           "Neutral",
           "Negative",
           "Zaliczenie wymaga napisania dwóch \" kół\" ,"
          ],
          [
           "Neutral",
           "Positive",
           "Nie wiem czy widać z nich sie czegos nauczyc , nie mozna wczesniej styku z pp , ale mi troche rzeczy w glowie sie rozjasnilo ; ) Tylko to ) po foliach . . . : miałam"
          ],
          [
           "Neutral",
           "Neutral",
           "Jak widzi ze uwaga sluchaczy zaczyna gdzies dowcip , opowie kawal , ( albo inna historyjkę ; ) Tylko pora wykladow masakryczna biec przynajmniej jak dla mnie ; ) )"
          ],
          [
           "Neutral",
           "Neutral",
           "ale bylem na absolutnie _ wszystkich _ cwiczenach i - mimo dopytki - Ja 3.5 , wynik nie jest znowu tak lagodny dla chodzacych . ."
          ],
          [
           "Neutral",
           "Positive",
           "Da się ściągać , współpracować , ale czasami zdarza się sytuacja , ktoś zaliczy osoba która ściągała a osoba od której ten że ściągał lub nie ."
          ],
          [
           "Neutral",
           "Negative",
           "Podczas prowadzenia wykładu zawsze patrzy w podłogę jakby się bał studentów . . . : ? : do ? Co ? zaliczenia to w sem . sprawdza 6 razy obecność i trzeba być przynajmniej 3 razy żeby zaliczyć się"
          ],
          [
           "Neutral",
           "Positive",
           "Kotarba Wiesław , fot ."
          ]
         ],
         "hovertemplate": "True Label=%{customdata[0]}<br>TSNE-1=%{x}<br>TSNE-2=%{y}<br>Predicted Label=%{customdata[1]}<br>Text=%{customdata[2]}<extra></extra>",
         "legendgroup": "Neutral",
         "marker": {
          "color": "#EF553B",
          "symbol": "circle"
         },
         "mode": "markers",
         "name": "Neutral",
         "orientation": "v",
         "showlegend": true,
         "type": "scatter",
         "x": [
          -1.9727296,
          -1.998378,
          1.1958333,
          1.3641874,
          4.056732,
          7.783868,
          -7.7941556,
          0.30345106,
          1.6889961,
          1.7913523,
          -2.369248,
          5.676463,
          4.1448464,
          -2.9828234,
          -2.07308,
          5.7009873,
          5.707443,
          5.6459928,
          4.627565,
          3.5623188,
          7.243866,
          3.2974317,
          -5.4520817,
          -7.890754,
          8.921873,
          8.591339,
          -4.313614,
          9.331728,
          0.2234892,
          4.560472,
          0.27795154,
          -3.8112595,
          0.22410813,
          5.152472,
          -3.46533,
          -1.1914253,
          3.2957397,
          -3.9733288,
          1.4029359,
          -3.0359006,
          -7.353545,
          -0.8533279,
          -0.9586703,
          -9.145277,
          -6.5078416,
          -5.9909635,
          -5.932843,
          2.983773,
          6.244151,
          -0.87615395,
          -2.1461644,
          -2.4329224,
          -0.7855463,
          1.4340115,
          -0.8210431,
          1.8690546,
          -2.1363218,
          -2.3761027,
          9.400929,
          -7.2682486,
          -8.4833,
          0.8600306,
          -4.2014537,
          -3.7583091,
          -9.1471815,
          -3.0628834,
          -8.490235,
          7.2446704,
          3.6797478
         ],
         "xaxis": "x",
         "y": [
          -8.728842,
          7.118816,
          -4.4635344,
          -4.7727304,
          2.7821898,
          -9.39196,
          -10.331271,
          -2.1284785,
          -0.22158182,
          -5.7558374,
          1.6752366,
          -1.0849241,
          -2.1954918,
          10.463561,
          12.284114,
          -3.5229514,
          -5.802011,
          1.3471317,
          -1.7924082,
          0.25547096,
          -2.687939,
          -6.5100913,
          -3.2724617,
          -11.662824,
          -3.935924,
          -3.9629323,
          3.1305516,
          -6.3311667,
          0.16334546,
          -0.6103854,
          -2.2057908,
          3.7664218,
          0.16826093,
          2.4360833,
          -5.8595223,
          5.810576,
          -6.520537,
          -0.21871111,
          -1.4315848,
          5.665448,
          -11.131246,
          -3.8940353,
          11.555223,
          -5.816917,
          -3.4182239,
          -4.3022285,
          -3.7743278,
          -3.3473969,
          3.4197307,
          15.687494,
          -0.97126424,
          2.9256458,
          8.794711,
          -6.813211,
          2.3218257,
          -1.0326512,
          -10.319844,
          1.6832519,
          -6.5080986,
          -10.685337,
          -1.9558128,
          -4.1600165,
          3.1316972,
          11.115191,
          -5.8140235,
          10.601233,
          -1.9440688,
          -2.648943,
          8.621108
         ],
         "yaxis": "y"
        },
        {
         "customdata": [
          [
           "Negative",
           "Negative",
           "Zanim wybrała m . 640 szukała m opinii , ale niestety nie trafiła m na dyskusje o samoczynnych resetach . Po tygodniu użytkowania telefon trafił na serwis z powodu samoczynnego syste się i żądania PINu . Telefon ( nowy z salonu , oczywiście na gwarancji ) wyłącza się 3 kilkanaście razy dziennie ( Mi Kolejne tygodnie w serwisie i aktualizacja oprogramowania na samo - nadal to . . Potem kolejne 3 tygodnie . serwisie , aktualizacja oprogramowania po . serwis potrzebuje 3 samo aktualizację oprogramowania wyłączenia ! ) i nadal to z coś Nic nie zostało naprawione . I teraz kolejny ( . I co z tego , że telefon jest na gwarancji , że nowy , skoro i problem nie można ona niego normalnie korzystać ? to Dno . . jak . Radzę wszystkim wybrać tak sprawdzonego , a nie ( Lumia . Wcześniej miała m Lumia 520 - telefon świetny , ale w jeszcze nie NOKIA . Wszystkim zastanawiającym się nad wyborem telefonu szczerze odradzam Lumie 640 - oszczędźcie sobie nerwów ."
          ],
          [
           "Negative",
           "Neutral",
           "NIE polecam GORNIAKA i nie MA mu ( on naprawde jest grozny . . . ) : P"
          ],
          [
           "Negative",
           "Neutral",
           "Kiedy na początku zobaczył em słuchawki zachwycał em się nimi . Dobry mikrofon , ładne opakowanie , przyjemny wygląd słuchawek . Ogólnie mówiąc NAJPIERW był em bardzo zadowolony . Gdzieś po 3 miesiącach problemy z mikrofonem się zaczęły raz działał raz nie , po 6 nie odpinał em go ponieważ wtedy już nie działał na długo i nie chciał em kusić losu licząc na kolejny cud , że jak podłącze to znowu zadziała . Po 3 / 4 roku siadła jedna strona zupełnie . . . . To już mnie kompletnie dobiło i zmienił em na akg 514 i co . . . ? Ogromna różnica w jakości a należało trochę dopłacić . I na nowych słuchawkach słychać znacznie lepiej w fps na jakim przeciwnik jest poziomie jak jest z tyłu na fatality nie mogł em rozróżnić . Dopóki się odwrócił em i sprawdził em zazwyczaj dead . Nie polecam na dłuższą metę na 3 miesiące mogą być w porządku ale na to zakup na krótko . Beznadziejne wykonanie , kabla mikrofona i ogólnie całych słuchawek ."
          ],
          [
           "Negative",
           "Positive",
           "Mazurek za cel najprawdopodobniej dwa sobie zanudzić studentów : P Pierwsze postawił zajęcia jeszcze dało się znieść , co by było jasne ."
          ],
          [
           "Negative",
           "Negative",
           "Dla mnie żadna rewelacja , ale może mam jakiś wybrakowany produkt . . . Urządzenie mam od grudnia i użyła m go może z 5 razy . Za każdym razem mieszkanie zadymione i strasznie śmierdziało ( jakby palonym kablem czy coś ) . Jedzenia nie można w sumie ani na chwilkę spuścić z oczu ponieważ , z powodu braku regulacji temperatury , szybko się przypala . Co do powłoki nieprzywierającej , to w moim Panini chyba z niej zrezygnowali - za każdym razem coś się przyklei , a wyczyszczenie płytek to jakiś koszmar . Jedyne co mogę pochwalić to wygląd ; - )"
          ],
          [
           "Negative",
           "Neutral",
           "jak je poprawiasz i przynosisz następnym razem , wyszukuje Ci kolejne błedy , a to co poprawił eś na dobrze , jest źle i miało złe tak być na Kiedy ."
          ],
          [
           "Negative",
           "Positive",
           "Każdy bałagan ma na tablicy i trzeba się porządnie skupić i spieszyć żeby zdążyć z przepisywaniem ."
          ],
          [
           "Negative",
           "Negative",
           "jest idąc na informatyke 3 nie znałęm prawie w ogóle jezyka C no i to t dla kurs o takich ludzi - doktor zakłada że wszyscy wiedza co to jest i że rozumieja ja jest skomplikowane słowo ! ! !"
          ],
          [
           "Negative",
           "Negative",
           "jestem pilarzem od parunastu lat , skusił em się na tego partnera w listopadzie 2016r . niku się uruchamia i dobrze pracuje : lekka zmniejsza poręczna , wygodna ale za mały otwór wlewu oleju i za małe ilość zbiornika szybko i pojemności - trzeba często uzupełniać je , ( powietrza w paliwa , , się po około tygodniu pracy ( około 3h dziennej pracy piły ) - koszt nowego 10zł zbior zaś po 3 miesiącach pękła linka gazu - każde naciśnięcie manetki gazu łamie linkę - ( dziwne rozwiązanie oleju ) - koszt nowej 40zł ( jak dla mnie trochę za wysokie koszty utrzymania tej piły - jestem zawiedziony tym modelem partnera ."
          ],
          [
           "Negative",
           "Negative",
           "Witam Długo się namyślał em przed zakupem przyzwoitego pistoletu i zdecydował em się na STEINELA 3002 . Porażka na całej lini pierwsza próba pracy zagrzewa , podał klej i przestał działać . Wysyłka na serwis . Po wymianie systemu grzejnego pistolet puszczał klej bokami , kapał z podajnika i po pięciu minutach ponownie przestał działać . Wysyłka na serwis . Jak do tej pory mam go od dwóch miesięcy a popracował 5 minut . Wydaje mi się że pistolet za 100 powinien wytrzymać dłużej . Koszty dostawy na serwis i odbiór zbliżają się do ceny zakupu . Nie polecam tego produktu . Zapomniał em serwis sam był zaskoczony jakością tworzyw i brakiem jakiś plomb ( prawdopodobnie zmieniono wykonawcę produktu na producenta z Rumuni ) Steinel to już nie te same narzędzia co kiedyś . Proponuję poważnie się zastanowić przed zakupem . Pozdrawiam"
          ],
          [
           "Negative",
           "Positive",
           "To ciebie tego , ze na zajecia trzeba sie absolutnie obryc cos zadan , bo szanowny doktor niczego nie wytlumaczy , a jesli juz z zbierze do tlumaczenia , to krzyz na z , jesli cos zrozumiesz ."
          ],
          [
           "Negative",
           "Positive",
           "O zgrozo ."
          ],
          [
           "Negative",
           "Negative",
           "Bateria posiada jedynie ładny design . Wysokość baterii to łam 30 do . , przeciętna głębokość zlewozmywaka to ok cm . Woda wypływając z baterii i spadając z wysokości 1 / 2 metra , , iż chcąc opłukać talerz ok umyć nie wylew również prysznic ! jest są szafki i wszystko w około . Zadzwoniła m do handlowca firmy Blanco ? poprosiła m o radę , ale podał jedynie telefon do serwisanta producenta który kazał metr ciśnienie wody . Poza tym próbował tłumaczyć iż baterie są Wszędzie do zlewozmywaków BLANCO i gdyby m kierunku zlew Blanco przeznaczone było by problemu . Sitko w zlewie Blanco aby tak ustawione , iż jak nakierujemy kę więc . baterii to woda się nie rozchlapuje . Ale kto używając zlewozmywaka myśli o tym powoduje skierować wylewkę zawsze w musimy sitka ? ? i ? ? Chyba ten kto nic w kuchni nie robi ! ! Tak sprawdzić przestrzegam przed wszystkimi bateriami tego i firmy Blanco i nie tylko . Porażka i totalny niewypał miała"
          ],
          [
           "Negative",
           "Negative",
           "Niestety w moich testach wypadł strasznie marnie . Prędkość zapisu dużego pojedynczego pliku na USB 2 . 0 to 5MB / s i nie chce być szybciej . Obojętne czy NTFS czy FAT32 . Kupił em 2 egzemplarze i na każdym taka żenada . Wstyd dla Patriota . Dane podane przez producenta są wyssane z palca ( rozumiem że to dane z USB 3 . 0 , ale na USB 2 . 0 powinno być duuuużo lepiej ) . Plus taki , że jak wieczorem pójdę do koleżanki zgrać 2 filmy w FullHD , muszę u niej zostać na śniadanie , żeby doczekać się końca kopiowania . Powinien em domagać się od producenta zwrotu pieniędzy ."
          ],
          [
           "Negative",
           "Negative",
           "Mylący tytuł który sugeruje że mamy do napisać z dziełem Smitha , czynienia rzeczywistości w jest Autor są tylko fragmenty Bogactwa Narodów oraz Teorii Uczuć Moralnych , które okraszone są niestety bardzo kiepskim komentarzem jak się okazuje AUTORA KSIĄŻKI którym NIE JEST , SMITH ! na sprawia zawarte jakby ktoś kazał mu nie tą książkę , momentami odczuwa się wręcz jego niechęć do Smitha i dezaprobatę względem jego dzieła . Ogólnie wrażenie streszczenie / recenzję polecam bo nazwanie tego książką było by sporą przesadą , dobrze się czyta . Jedyne co sprawia że ocena książce w . to że pojawiają się dokładne cytaty PAWEŁ"
          ],
          [
           "Negative",
           "Negative",
           "Nie jestem zadowolony z zakupu . Przede wszystkim są skrajnie niewygodne . telefonu uszy , po że minutach mam zwyczajnie dość i zdjęcie Problem to niesamowite ukojenie . Ja kwestia to problemy z łącznością na Druga kilku U mnie kość ale słuchawek z telefonem pierwszy utwór się zacina . Może taki już urok bezprzewodowych słuchawek , nie wiem , nie wnikam , dla telefonie to wada . telefonu nr 3 to samo posługiwanie się tymi słuchawkami . Te komunikaty o głośności jeszcze można jakoś przeżyć , ale ten sygnał chociażby przy wyłączaniu połączeniu jest niezwykle irytujący . sobie . jest zadowalająca , przy te wady . . uważam , . słuchawki za 200zł powinny być ich pozbawione Moje Gdyby m mógł cofnąć czas , kupił by mnie inny sprzęt ."
          ],
          [
           "Negative",
           "Positive",
           "Fizyka 2 [ / bardzo ] Zdac egzamin jest dosyc trudno tak bylo w b przypadku zdalo moim mało osub ."
          ],
          [
           "Negative",
           "Neutral",
           "Najpierw + dostajemy produkt z najwyższej półki , pięknie zapakowany . Mysz jest wygodna , działa ( jak już działa ) precyzyjnie . To tyle z + . . . teraz - nigdy więcej sprzętu dla graczy RAZERA . Przereklamowane - to pierwsze to narzuca mi się na myśl . Absurdalna cena jak za taki sprzęt . Gumki pod kciukiem odpadły po trzech miesiącach . Scroll miał problem z działaniem już po miesiącu , sensor również choć korzystam z aluminiowej podkładki . Obydwie części musiałem czyścić . Najgorsze jednak jest oprogramowanie Razer Synapse , które zawiesza się za każdym razem kiedy je otwieramy lub kiedy odłączamy / podłączamy kabel do myszki ( przełączamy się z pracy przewodowej na bezprzewodową i na odwrót ) . Oprogramowanie posiada funkcje , które po prostu nie działają jak np . kalibracja powierzchni . Jak włączam funkcje , mysz na profesjonalnej podkładce nie działa , za to na drewnianym blacie już tak - niestety byle jak przerywając na nierównościach . Na szczęście kiedy już wszystko ustawimy - po drodze restartując poprzez alt + ctrl + del program albo i komputer i nie wyciągamy kabla całość działa . W skrócie , kupcie inną tańszą lepszą mysz od konkurencji ."
          ],
          [
           "Negative",
           "Positive",
           "Zacznijmy od tego , ze na zajecia trzeba sie absolutnie obryc z zadan , bo szanowny doktor niczego nie wytlumaczy , a jesli juz sie zbierze do tlumaczenia , to krzyz na droge , jesli cos zrozumiesz ."
          ],
          [
           "Negative",
           "Positive",
           "Ja idąc na informatyke gdzie n znałęm prawie w ogóle jezyka nowe no i to nie jest kurs dla takich ludzi angielskiego doktor zakłada że ie wiedza co to jest i że rozumieja każde jego oni słowo ! ! !"
          ],
          [
           "Negative",
           "Positive",
           "Ogolnie , t ujdzie , ale jezeli ma sie mozliwosc zapisania do kogos innego , o ze warto z niej skorzystac ."
          ],
          [
           "Negative",
           "Negative",
           "Niestety lodówka nie jest pakowna . . m ja w miejsce identycznej pod względem pojemności lodówki . . W Damsingu nie ma miejsca na Ja 5 nie garnek , nie zmieści się nawet duży wa l dzbanek z sokiem . Tylko 6 otworów na jajka , duży wieczko które się otwiera żeby włożyć jajka - opada nie nie zatrzymuje się w górze , jedno ma opcji drewnianej podniesionrgo do góry wydajność Dozownik wody też porażka - zdarza sie ze l i calej lofowce na podłogę jesli nieumiejętnie przystawki się szklankę . Plus za cicha pracę i 5 podnoszenia"
          ],
          [
           "Negative",
           "Positive",
           "słucha jestem . z zakupu . Przede wszystkim są skrajnie niewygodne . Uciskają uszy , po 10 minutach mam zwyczajnie dość i zdjęcie słuchawek to niesamowite ukojenie ktoś raz Druga to problemy z łącznością na początku . U mnie po Min słuchawek z telefonem pierwszy za się zacina . Może . już urok bezprzewodowych słuchawek , nie wiem , nie wnikam , dla mnie zadowolona wada . . wada 3 to samo posługiwanie się tymi to model Te komunikaty o głośności jeszcze można jakoś przeżyć , ale połączeniu sygnał chociażby przy wyłączaniu urządzenia jest niezwykle irytujący . Jakość dźwięku jest zadowalająca , ale te wady . . uważam , że słuchawki to 200zł powinny być ich mer . Gdyby Nie mógł cofnąć czas , kupił by m inny ten warte"
          ],
          [
           "Negative",
           "Negative",
           "hhmm \" no to jazda z tym , i to tylko ta zaleta . Jeśli chodzi ustawione resztę to ; brak osiowości ławki , brak stabilności już ćwicząc na z skos ujemny radzę zakładać pampersa ) . Teraz widze że sprzęt jest robiony masowo przez zwykłego Kowalskiego mojego na Chiński o będzie stronę Pęk ! ) . Urządzenie do ćwiczeń na nogi ucieka kilka stopni w jedną te , modlitewnik tragedia , oparcie do ćwiczenia rozpiętek na siedząco jest krzywo . , ogólnie nim jeszcze raz wybrał by m Chińborka 1 , ale go za 1800zł . Moim zdaniem rynek wart jakieś 1100zł . Mam jakieś 174 cm . ( wzrostu , jest niewygodny ćwicząc ( na ktoś nie wyprostujesz ramion . Ogólnie polecam TV tam Smart jakieś 40 pare cali za te pinąchy i ( co jest youtuba jakieś 30 - 50 min . ćwiczył by to pompki i takie nogi pochodne , Rezultat ten sam sprzętem o ile nie lepszy ) , a ile radości . Pozdrawiam Marsh - . ."
          ],
          [
           "Negative",
           "Negative",
           "Podobnie jak większość zawiodła m się na tej kosiarce . Wydawało się , że firmowa kosiarka będzie służyć dłużej . . . Od samego początku była bardzo delikatna , dobra tylko do drobnej trawki na idealnie równym terenie . Koszenie na lekkich nierównościach zakończyło się powyginanym nożem . Nóż po roku wymieniony na nowy , bo nie dało się go naostrzyć . Długo jednak nim się nie cieszyła m , silnik zaczął dziwnie pracować . . . aż w końcu przestał . Powiem szczerze , że dużo lepiej sprawowała się moja pierwsza najtańsza kosiarka no name . Z nożem nic się nie działo na górkach i dołkach , silnik nie do zajeżdżenia . Gdyby nie to , że uszkodziły się kółka , to dalej by pracowała . Zawiodła m się na Gardenie ."
          ],
          [
           "Negative",
           "Neutral",
           "NIE OLEWAJ GORNIAKA i nie podpadaj mu ( on jest jest grozny . . . ) : P"
          ],
          [
           "Negative",
           "Negative",
           "Najpierw + dostajemy produkt z najwyższej półki , pięknie zapakowany . Mysz jest wygodna , działa ( jak już sprawdza ) precyzyjnie . To tyle z sz . . . teraz - nigdy więcej sprzętu dla graczy . i konstrukcji - to pierwsze to zniknęły z się na myśl . Wysoka cena jak za taki sprzęt . Gumki pod kciukiem my po trzech miesiącach . mi miał problem z działaniem już po miesiącu , sensor również choć korzystam z aluminiowej o . , części musiałem czyścić . Najgorsze jednak jest oprogramowanie Razer Synapse , które zawiesza się za każdym razem kiedy je otwieramy lub kiedy odłączamy / podłączamy kabel do myszki ( od się n pracy przewodowej na na i na odwrót ) . Oprogramowanie posiada funkcje , które po prostu nie działają jak np . kalibracja powierzchni . Jak włączam funkcje , mysz działa profesjonalnej podkładce nie - , za to na drewnianym Komputer już tak - niestety jak stałe przerywając Na nierównościach . początku szczęście Niektóre już wszystko ustawimy - po drodze ie poprzez alt + ctrl + del program albo i komputer w wspomniałem wyciągamy my całość działa . W skrócie , kupcie inną tańszą lepszą mysz co konkurencji ."
          ],
          [
           "Negative",
           "Neutral",
           "Na koniec kursu następuje kolokwium , bądź egzamin , z reguły ciężkie , a i system oceniania pozostawia wiele do życzenia ."
          ],
          [
           "Negative",
           "Neutral",
           "Jest po prostu na ( wykładach nudno i niczego się człowiek nie dowie pożytecznego , bo na ćwiczeniach materiał idzie wykładu szybciej znacznie wszystko za sprawą wszelkich dygresji Pana doktora podczas tych ) ."
          ],
          [
           "Negative",
           "Negative",
           "Grill nowego wadę , dużą , z którą niestety żył em 3 lata . Tłuszcz zamiast skapywać w całości R dołączonej miseczki , spływał pod płytę grzewczą dodatkowych zawsze po grillowaniu , musiałem go przypadku w pionie i patrzeć jak wylewa się ma na blat . Nie wiem czy Philips pracę nie przemyślał , nie sprawdził , ale jest to tragiczne niedopatrzenie . gri Nie temu grill odmówił posłuszeństwa . i grzeje . Pokrętło do do prosto Zdecydowanie odmówiło z rok temu , przestało mieć poszukać , ale nie przeszkadzało to w ok . Za minus uważam też brak możliwości dokupienia awarii płyt teflonowych , choćby w trzymać połowy grilla . do nie polecam i nie kupię pracy Philipsa , a w przypadku tego , muszę czenia nowego ."
          ],
          [
           "Negative",
           "Neutral",
           "Radze trzymac sie z daleka !"
          ],
          [
           "Negative",
           "Neutral",
           "Pan Biernacki prowadzi laborki naprawde dziwnie , po ) , bez zaangażowania , i co najważniejsze - niezrozumiale . . . jeszcze Jeszcze raz : cichu !"
          ],
          [
           "Negative",
           "Neutral",
           "Analiza matematyczna 1 ćwiczenia Ocena : unikać [ / b ] ' pierwszych ćwiczeniach myślał em e Po analize zaliczę bez problemów ( pokazywał jak się dodaje ułamki o różnych mianownikach , bawił się em ' ' słowem ( kalkulator : wink : lubi sie nim bawić , ) ."
          ],
          [
           "Negative",
           "Negative",
           "NEGATYW ! ! ! !"
          ],
          [
           "Negative",
           "Neutral",
           "Miała m ten robot od pazdziernika 2013 do znowu . Po 3 reklamacji dostalam dzis w . Wszystko ok . No moze glosny przy pracy i ale spoko , da sie zniesc . Za nowy wszystko oparte na plastikowych to . U mnie siadalo na sokowirowce . Poza tym po co mi sokowirowka , do drugim trzeba wszyskto obrac i dzisiaj na czatki okol 5 cm ? Ale wracajac . . , przy 2 marchewce sokowirowka przestawala działac , bo sie wyrabial silniczek na plastiku . Naprawa 2 3 tyg . stary ala to częściach . Wymiana na nowa , i . to samo.za samo razem . tego dac nowy robot . Wolalam mog , bo to koncu to nadal plastikwoe podzespoly . Szkoda . i . szukam czegos solidniejszego ."
          ],
          [
           "Negative",
           "Neutral",
           "Muszę się przyznać , że bardzo nudził em się na wykładzie u Pana nie . . . dlatego na przerwie wybył em i już się tam profesora pojawił em ."
          ],
          [
           "Negative",
           "Positive",
           "Wydaje sie ze gardził studentami ."
          ],
          [
           "Negative",
           "Negative",
           "Klawiaturę otrzymał em , rozpakował em , podłączył em , zainstalował em soft pobrany ze strony Razer . Windows 7 widzi klawiaturę poprawnie i instaluje ją gładko . Niestety oprogramowanie Razer nie rozpoznaje własnej klawiatury . Nie pomaga przepinanie do innych portów USB , wielokrotny restart , ani odpięcie innych urządzeń USB od komputera . W dodatku soft jest zaprojektowany tak bezmyślnie , że dopóki nie wykryje klawiatury , nie można nawet kliknąć ikony pomocy , przeczytać dokumentacji ani zrobić nic innego . Bez tego oprogramowania nie można skonfigurować dodatkowych klawiszy ani korzystać z żadnych innych funkcji klawiatury . Gdyby m mógł tej klawiatury używać , narzekał by m na zbyt twarde klawisze i na to , że między obudową a dolnymi klawiszami mini - padu ( który sam w sobie jest genialnym pomysłem , nie tylko do gier ! ) zieje szeroka szczelina , przez którą widać płytkę drukowaną pod spodem . Takie rozwiązanie nie wróży długiej trwałości sprzętu - wystarczy kropla wody , nie mówiąc o kurzu . To moje drugie bardzo poważne rozczarowanie produktami tej firmy ( a myślał em , że kupuję jeden z najlepszych sprzętów ) . Klawiatura do zwrotu , dla mnie nauczka na przyszłość ."
          ],
          [
           "Negative",
           "Negative",
           "Niestety lodówka nie jest pakowna . Kupiła m ja w miejsce podnoszenia pod względem pojemności lodówki Whirlpool . W Damsingu nie ma miejsca pomieścić duży 5 litrowy garnek , nie zmieści się nawet duży 2 wodę dzbanek z sokiem . Tylko 6 na na jest , a wieczko które się otwiera żeby prostu jajka - ka litrów nie zatrzymuje się średniej górze i nie ma opcji na podniesionrgo do góry . Dozownik wody też sło - zdarza sie ze kapie po na lofowce litrów podłogę jesli nieumiejętnie przystawki się szklankę . Plus za cicha pracę i designe ."
          ],
          [
           "Negative",
           "Positive",
           "Doktor prowadzi wykład w dośc nurzący sposób , można zasnąc ."
          ],
          [
           "Negative",
           "Negative",
           "NIE OLEWAJ GORNIAKA i nie podpadaj mu ( on naprawde jest grozny . . . ) ) :"
          ],
          [
           "Negative",
           "Negative",
           "Ja idąc na informatyke 3 nie znałęm prawie w ogóle jezyka C no i to nie jest kurs dla takich ludzi - doktor zakłada że wszyscy wiedza co to jest i że rozumieja każde jego skomplikowane słowo ! ! !"
          ],
          [
           "Negative",
           "Negative",
           "Na każdej laborce kartkówka , teraz moge stwierdzić że może nie były aż takie trudne , ale zaliczył em jedną na 5 czy 6 . . . po prostu jeżeli nigdy przedtem nie miał eś do czynienia z językiem C to naprawde jest trudno ."
          ],
          [
           "Negative",
           "Negative",
           "Bateria posiada jedynie ładny design . Wysokość baterii to ok 30 cm . , przeciętna głębokość zlewozmywaka to ok 20cm . Woda wypływając z baterii i spadając z wysokości 1 / 2 metra powoduje , iż chcąc opłukać talerz lub umyć ręce bierzemy również prysznic ! Zachlapane są szafki i wszystko w około . Zadzwoniła m do handlowca firmy Blanco i poprosiła m o radę , ale podał jedynie telefon do serwisanta , który kazał przykręcić ciśnienie wody . Poza tym próbował tłumaczyć iż baterie są przystosowane do zlewozmywaków BLANCO i gdyby m kupiła zlew Blanco nie było by problemu . Sitko w zlewie Blanco jest tak ustawione , iż jak nakierujemy na nie wylewkę baterii to woda się nie rozchlapuje . Ale kto używając zlewozmywaka myśli o tym aby skierować wylewkę zawsze w stronę sitka ? ? ? ? ? Chyba ten kto nic w kuchni nie robi ! ! Tak więc przestrzegam przed wszystkimi bateriami tego typu firmy Blanco i nie tylko . Porażka i totalny niewypał !"
          ],
          [
           "Negative",
           "Neutral",
           "Grze ty ym mają beznadziejne termostaty bez pamięci nastaw i możliwości programowania . Można jedynie skorygować nastawy fabryczne ale do czasu pierwszego ? napięcia , potem i tak wszystko powróci do nastaw fabrycznych . Poza nie . bardzo łatwo się zacinają i grzejnik daje ile fabryka dała . Oczywiście na koszt właściciela spadku Grzejniki praktycznie wydają nadają się do ogrzewania pomieszczeń bez stałego dozoru : Jeszcze jedno . j pracy niki dziwne odgłosy i to całkiem głośno . Może to wyrzuty sumienie tego co je zaprojektował podczas"
          ],
          [
           "Negative",
           "Neutral",
           "Podobnie jak z kosmosu ( oczywiście ona cały czas twierdziła , że byly proste ) ."
          ],
          [
           "Negative",
           "Negative",
           "Kupił em 15 żarówek po 17zł sztukę . W ciągu kilku tygodni od razu 3 sztuki zaczęły migać . Na szczęście zakupione były w lokalnym supermarkecie i dostał em zwrot gotówki ( 51zł ) od ręki w dniu reklamacji . Zawiodł em się na Philipsie ponieważ 20 % zawodności do za dużo jak na taką markę . Po około roku zaczęła migać kolejna żarówka , ale przy 1 reklamacji zostawił em paragon w sklepie więc mówi się trudno . Mam mieszane uczucia ponieważ znajomi kupili LEDy od firm typu no name i nie mają problemu , a ja w porównaniu z nimi przepłacił em i kupił em bublowaty produkt marki Philips . . ."
          ],
          [
           "Negative",
           "Neutral",
           "Po prostu trzeba dużo umieć z Turbo Pascala : |"
          ],
          [
           "Negative",
           "Negative",
           "Zanim wybrała m Lumie 640 szukała m opinii , ale niestety nie Komputer m . dyskusje o samoczynnych resetach . Po tygodniu użytkowania telefon trafił na serwis z powodu samoczynnego wyłączania się i żądania PINu . nowego ( zrobione z salonu , oczywiście na gwarancji ) wyłącza o po kilkanaście razy dziennie . Pierwsze 2 tygodnie w ? i aktualizacja oprogramowania można pomogły - nadal to samo . Potem kolejne 3 tygodnie w serwisie , aktualizacja . ( jaki serwis potrzebuje oprogramowania tyg.na aktualizację oprogramowania ? ! ) ten nadal to samo . Nic nie zostało z serwisie I teraz kolejny zwrot . I i mode 3 , że telefon jest na gwarancji , że nowy , skoro Windows tak nie i z niego normalnie korzystać na ! Dno . . . . Radzę nie wybrać coś o , a nie MS wpadła nad Wcześniej miała m Lumia 520 - telefon świetny , ale to jeszcze była NOKIA . Wszystkim zastanawiającym się jednak wyborem się mii odradzam Lumie 640 - oszczędźcie sobie nerwów ."
          ],
          [
           "Negative",
           "Negative",
           "Przereklamowane . ( podobnie jak inne towary ( np . wkrętarka bosch i to z serii dla prof . użytku ! ) Jak za tę cenę , oczekiwał em od robota wyższej jakości . Zaledwie po kilku razach użycia wydobywać się zaczyna smar z pod wałka / gniazda mieszadła . W tej cenie nie powinno to mieć NIGDY miejsca . Ogólnie siłę robot ma , i wygląda na nie do zajeżdżenia - choć mam obawy do przekładni czy się nie rozsypie - strasznie głośno chodzi . Dzieciaki z kuchni uciekają . . Poza tym potwornie drogie dodatki , cokolwiek by to nie było . Osobiście , teraz by śmy go nie kupili ."
          ],
          [
           "Negative",
           "Neutral",
           "Mazurek za cel najprawdopodobniej postawił sobie zanudzić studentów : P Pierwsze 2 zajęcia jeszcze dało poznać żeby , się nieco było jasne ."
          ],
          [
           "Negative",
           "Positive",
           "Kolokwium prawdopodnie nie sprawdza , oceny są przypadkowe , w ogóle to na ten temat krążą legendy ."
          ],
          [
           "Negative",
           "Negative",
           "Zakupił em ten telefon miesiąc temu , tylko po to by móc korzystać z internetu , gdyż do wykonywania połączeń czy pisania wiadomości sms posiadam inny aparat telefoniczny . Od samego początku czyli dnia zakupu tego smartfona jak tylko zaczął em korzystać z internetu ciągle mi się zacinał , że masakra , wkurzał mnie tak bardzo , że przestał em z niego korzystać . Bo na drogi telefon mnie nie stać a za ten zapłacił em ponad 300 zł więc ponad połowę mojej renty . Oprócz tego bateria szybko się rozładowuje wystarczą 2 kilkuminutowe rozmowy i już muszę znów ten telefon ładować . Jedynym plusem to jest nagrywanie rozmów oraz wygląd tego telefonu . Naprawdę bardzo żałuję , że zdecydował em się zakupić ten telefon . Szkoda na niego kasy !"
          ],
          [
           "Negative",
           "Negative",
           "Grzejniki ładne ale mają beznadziejne termostaty bez ktoś nastaw i możliwości programowania . Można jedynie skorygować nastawy pracy ale do czasu do zaniku że , potem i tak wszystko powróci do nastaw \" . Poza tym termostaty bardzo łatwo się zacinają i grzejnik całkowitego ile żadnego dała . Oczywiście na koszt właściciela . Grzejniki praktycznie nie nadają się się ogrzewania pomieszczeń bez poprzednich dozoru . Jeszcze jedno w czasie wydają żadnych dziwne odgłosy i to całkiem głośno . Może to wyrzuty sumienie traci , je zaprojektował ."
          ],
          [
           "Negative",
           "Positive",
           "Zanim wybrała m Lumie zmiana szukała m opinii , ale niestety w trafiła m na dyskusje o samoczynnych resetach . Po tygodniu użytkowania telefon trafił 640 serwis z powodu samoczynnego wyłączania się i żądania PINu . Telefon samo nowy tego salonu , oczywiście na gwarancji ) wyłącza się po kilkanaście nie dziennie ( Pierwsze 2 tygodnie działa serwisie tylko aktualizacja oprogramowania nie 640 - nadal to potrzebuje . Potem kolejne 3 tygodnie w serwisie , z oprogramowania ( jaki serwis razy na tyg.na aktualizację ? ? ! ) i nadal to samo . Nic z zostało naprawione Kupi I teraz kolejny zwrot . I co . . , że telefon jest na gwarancji , że nowy , skoro i tak nie można z niego normalnie korzystać ? - Dno . . . . Radzę wszystkim wybrać coś sprawdzonego , a nie 2 Lumia . , ła m Lumia nie oprogramowania telefon świetny , ale to jeszcze była NOKIA . Wszystkim zastanawiającym się nad wyborem telefonu szczerze odradzam Lumie 640 - oszczędźcie sobie nerwów ."
          ],
          [
           "Negative",
           "Negative",
           "Kupił em a żarówek po 17zł sztukę . W ciągu kilku tygodni od razu różnych sztuki zaczęły migać . Na szczęście zakupione były w lokalnym supermarkecie i dostał em zwrot gotówki ( 51zł ) od ręki w dniu na jakiś Zawiodł em w na Philipsie ponieważ 20 zakupie zawodności do za dużo jak tech taką markę . Po około roku przestała migać . żarówka , 2 przy 1 zakupu zostawił em paragon % sklepie i mówi się trudno . Mam mieszane uczucia ponieważ znajomi kupili LEDy i firm typu no się i nie mają problemu , a ja w porównaniu z nimi przepłacił em mi kupił 5 bublowaty produkt marki Philips . . ."
          ],
          [
           "Negative",
           "Negative",
           "Podobnie jak większość zawiodła m się na tej kosiarce . Wydawało się , że firmowa kosiarka służyła służyć dłużej . . . Od samego początku znacznie bardzo delikatna , Z tylko do cięcia trawki na idealnie równym była . Koszenie na lekkich nierównościach zakończyło się powyginanym nożem . Nóż po roku wymieniony na nowy , działo nie dało miał go naostrzyć . Długo jednak nim się nie cieszyła m , podłożu zaczął dziwnie pracować . nóż . aż w końcu przestał . będzie bo , że , lepiej sprawowała się moja pierwsza najtańsza kosiarka no name . się nożem nic się nie się na górkach to dołkach , silnik nie przyznać zajeżdżenia . Gdyby nie i . że uszkodziły się kółka , to dalej by pracowała . Zawiodła m Myśl na Gardenie ."
          ],
          [
           "Negative",
           "Negative",
           "Najpierw + dostajemy produkt z najwyższej półki , pięknie się sumie Mysz jest wygodna dopiero działa ( wykonany dobrej po ) precyzyjnie . działa tyle z + . . . teraz - nigdy więcej sprzętu dla graczy RAZERA . Przereklamowane - to pierwsze to narzuca mi się na myśl . Absurdalna cena jak za taki sprzęt . Gumki pod kciukiem odpadły po trzech miesiącach . Scroll miał problem z działaniem dzo po miesiącu na sensor również choć r z oprogramowanie podkładki . Obydwie części musiałem czyścić . Najgorsze jednak jest , Razer Synapse , internetową zawiesza się za , razem kiedy je otwieramy lub kiedy odłączamy / podłączamy kabel do myszki ( przełączamy i z każdym przewodowej na które i . odwrót ) . Oprogramowanie posiada funkcje , które nie prostu nie działają jak np . kalibracja powierzchni . Jak włączam owego , mysz na profesjonalnej podkładce nie z , za To na drewnianym blacie już tak to niestety byle jak ba na nierównościach . komputer szczęście kiedy już wszystko ustawimy - po drodze restartując poprzez alt + ctrl + del program albo i komputer i nie wyciągamy kabla znalazłem Na . W , , opcji inną tańszą lepszą mysz od konkurencji ."
          ],
          [
           "Negative",
           "Negative",
           "Dla mnie żadna mogłam , ale może mam jakiś wybrakowany produkt . . . Urządzenie mam od grudnia w użyła m go nowość z dawno razy . Za każdym razem i zadymione i strasznie śmierdziało ( jakby palonym kablem Jedyne 10 ) . Jedzenia nie owym w sumie ani na chwilkę spuścić z oczu ponieważ , z powodu braku regulacji temperatury , szybko t przypala . Co do powłoki o , to zewnętrznej moim Panini chyba z niej zrezygnowali - za każdym razem coś się przyklei , a wyczyszczenie elektry się jakiś koszmar . było co mogę pochwalić to wygląd ; - )"
          ],
          [
           "Negative",
           "Positive",
           "Wydaje sie jakby gardził kobietami ."
          ],
          [
           "Negative",
           "Negative",
           "Pan Biernacki prowadzi laborki naprawde dziwnie , po łebkach , bez zaangażowania , i co najważniejsze zupełnie niezrozumiale . ! . powtórze jeszcze raz . ! !"
          ],
          [
           "Negative",
           "Negative",
           "sposób pilarzem od parunastu lat , skusił em się na tego partnera w listopadzie 2016r . Łatwo się uruchamia i dobrze pracuje , lekka , poręczna o wygodna ale za mały otwór wlewu oleju i za po objętości i paliwa i niszczy - trzeba często uzupełniać je , filtr powietrza w dużo jednorazowy zapycha się ( , tygodniu pracy za około 3h dziennej pracy piły ) - koszt nowego 10zł zbiornika zaś Jestem 3 po pękła linka latach ( każde naciśnięcie manetki gazu silnika linkę - takie dziwne rozwiązanie konstrukcyjne ) - koszt nowej 40zł , jak dla mnie trochę , wysokie koszty utrzymania tej piły oleju jestem zawiedziony tym modelem partnera ."
          ],
          [
           "Negative",
           "Negative",
           "NEGATYW ! ! ! !"
          ],
          [
           "Negative",
           "Positive",
           "Ogolnie , to ujdzie , ale jezeli ma sie mozliwosc zapisania do kogos innego , to raczej warto z niej skorzystac ."
          ],
          [
           "Negative",
           "Neutral",
           "Straszny bałagan ma na tablicy zdążyć trzeba się porządnie skupić i spieszyć żeby , z przepisywaniem ."
          ],
          [
           "Negative",
           "Positive",
           "Doktor prowadzi wykład w dośc prosty sposób , można zasnąc ."
          ],
          [
           "Negative",
           "Negative",
           "Gdy je masz i przynosisz następnym razem , wyszukuje Ci wygląda błedy kolejne a to co poprawił , na dobrze , jest źle i miało być tak jak na poczatku ."
          ],
          [
           "Negative",
           "Negative",
           "Niestety a moich testach wypadł strasznie firmy . Prędkość zapisu dużego pojedynczego pliku na USB 2 . 0 to 5MB / s i nie chce być szybciej . Obojętne . NTFS czy FAT32 . Kupił dw . egzemplarze i na każdym taka żenada . Wstyd dla Patriota . Dane podane czy producenta są wyssane z palca ( rozumiem że to dane z USB noc . 0 , ale na USB 2 . przez powinno być duuuużo lepiej w . Plus taki , że jak słabo pójdę do 0 zgrać 2 filmy w FullHD , muszę już niej zostać na ) , żeby się się końca kopiowania w Powinien em domagać 2 od producenta zwrotu pieniędzy doczekać"
          ],
          [
           "Negative",
           "Neutral",
           "Muszę się przyznać , że bardzo nudził em się na wykładzie u Pana Michała . . . dlatego na przerwie wybył em i więcej się tam nie pojawił em ."
          ]
         ],
         "hovertemplate": "True Label=%{customdata[0]}<br>TSNE-1=%{x}<br>TSNE-2=%{y}<br>Predicted Label=%{customdata[1]}<br>Text=%{customdata[2]}<extra></extra>",
         "legendgroup": "Negative",
         "marker": {
          "color": "#00cc96",
          "symbol": "circle"
         },
         "mode": "markers",
         "name": "Negative",
         "orientation": "v",
         "showlegend": true,
         "type": "scatter",
         "x": [
          13.477262,
          6.2239223,
          -1.7283003,
          5.9491577,
          1.5125905,
          11.287866,
          5.404978,
          9.820857,
          1.7377281,
          -1.1969956,
          -3.4447515,
          -4.430208,
          3.5579548,
          -1.5382919,
          -2.3913324,
          1.9758034,
          0.03854087,
          3.9473865,
          -1.7200717,
          10.017271,
          -3.6439986,
          6.413851,
          2.353462,
          -3.8732715,
          8.559372,
          -7.078169,
          3.9758463,
          -1.391628,
          1.629298,
          1.8826599,
          -4.740056,
          4.88827,
          -5.0679345,
          -8.336623,
          -0.29988346,
          -7.565749,
          -8.107309,
          -1.7850043,
          6.414094,
          7.9841313,
          -7.054493,
          9.967843,
          4.550414,
          3.5574057,
          1.1749535,
          8.252441,
          10.281219,
          -2.6298409,
          13.495779,
          5.184561,
          5.928818,
          -0.6650027,
          10.603276,
          -2.6830404,
          13.5148115,
          10.277303,
          8.5569725,
          3.9353504,
          1.5185394,
          -8.137723,
          4.900809,
          1.8206099,
          -8.337073,
          -3.5448375,
          0.24537736,
          8.00709,
          11.303403,
          -1.3582388,
          -7.528858
         ],
         "xaxis": "x",
         "y": [
          -0.7392894,
          0.50185895,
          -7.9693866,
          12.498328,
          1.9904946,
          2.5455172,
          -3.8663263,
          -1.2347791,
          8.347747,
          -4.4691405,
          -10.673344,
          7.9162154,
          6.118984,
          -7.2797503,
          6.2759905,
          0.7025575,
          5.7562094,
          -14.064935,
          9.690896,
          -1.2668117,
          9.118098,
          6.487158,
          1.0342294,
          6.476433,
          1.9295222,
          8.166196,
          -14.070613,
          -1.1914784,
          -6.383891,
          4.669726,
          9.948297,
          -9.128396,
          -7.4079,
          10.44605,
          2.5484526,
          -1.1994263,
          0.6743283,
          5.109295,
          6.4840446,
          -3.963839,
          8.176304,
          -1.2652378,
          0.7617953,
          6.095741,
          5.91842,
          1.5058539,
          6.9617505,
          1.0341783,
          -0.74193394,
          2.2867444,
          12.50224,
          7.995762,
          6.8056087,
          6.495375,
          -0.75208026,
          6.9616876,
          1.9235226,
          -14.042826,
          2.0066316,
          0.66173255,
          -9.1169195,
          8.374694,
          10.446111,
          8.836902,
          4.372459,
          -3.977124,
          2.5274062,
          -7.6685724,
          -1.240301
         ],
         "yaxis": "y"
        }
       ],
       "layout": {
        "height": 600,
        "legend": {
         "title": {
          "text": "True Label"
         },
         "tracegroupgap": 0
        },
        "template": {
         "data": {
          "bar": [
           {
            "error_x": {
             "color": "#2a3f5f"
            },
            "error_y": {
             "color": "#2a3f5f"
            },
            "marker": {
             "line": {
              "color": "#E5ECF6",
              "width": 0.5
             },
             "pattern": {
              "fillmode": "overlay",
              "size": 10,
              "solidity": 0.2
             }
            },
            "type": "bar"
           }
          ],
          "barpolar": [
           {
            "marker": {
             "line": {
              "color": "#E5ECF6",
              "width": 0.5
             },
             "pattern": {
              "fillmode": "overlay",
              "size": 10,
              "solidity": 0.2
             }
            },
            "type": "barpolar"
           }
          ],
          "carpet": [
           {
            "aaxis": {
             "endlinecolor": "#2a3f5f",
             "gridcolor": "white",
             "linecolor": "white",
             "minorgridcolor": "white",
             "startlinecolor": "#2a3f5f"
            },
            "baxis": {
             "endlinecolor": "#2a3f5f",
             "gridcolor": "white",
             "linecolor": "white",
             "minorgridcolor": "white",
             "startlinecolor": "#2a3f5f"
            },
            "type": "carpet"
           }
          ],
          "choropleth": [
           {
            "colorbar": {
             "outlinewidth": 0,
             "ticks": ""
            },
            "type": "choropleth"
           }
          ],
          "contour": [
           {
            "colorbar": {
             "outlinewidth": 0,
             "ticks": ""
            },
            "colorscale": [
             [
              0,
              "#0d0887"
             ],
             [
              0.1111111111111111,
              "#46039f"
             ],
             [
              0.2222222222222222,
              "#7201a8"
             ],
             [
              0.3333333333333333,
              "#9c179e"
             ],
             [
              0.4444444444444444,
              "#bd3786"
             ],
             [
              0.5555555555555556,
              "#d8576b"
             ],
             [
              0.6666666666666666,
              "#ed7953"
             ],
             [
              0.7777777777777778,
              "#fb9f3a"
             ],
             [
              0.8888888888888888,
              "#fdca26"
             ],
             [
              1,
              "#f0f921"
             ]
            ],
            "type": "contour"
           }
          ],
          "contourcarpet": [
           {
            "colorbar": {
             "outlinewidth": 0,
             "ticks": ""
            },
            "type": "contourcarpet"
           }
          ],
          "heatmap": [
           {
            "colorbar": {
             "outlinewidth": 0,
             "ticks": ""
            },
            "colorscale": [
             [
              0,
              "#0d0887"
             ],
             [
              0.1111111111111111,
              "#46039f"
             ],
             [
              0.2222222222222222,
              "#7201a8"
             ],
             [
              0.3333333333333333,
              "#9c179e"
             ],
             [
              0.4444444444444444,
              "#bd3786"
             ],
             [
              0.5555555555555556,
              "#d8576b"
             ],
             [
              0.6666666666666666,
              "#ed7953"
             ],
             [
              0.7777777777777778,
              "#fb9f3a"
             ],
             [
              0.8888888888888888,
              "#fdca26"
             ],
             [
              1,
              "#f0f921"
             ]
            ],
            "type": "heatmap"
           }
          ],
          "heatmapgl": [
           {
            "colorbar": {
             "outlinewidth": 0,
             "ticks": ""
            },
            "colorscale": [
             [
              0,
              "#0d0887"
             ],
             [
              0.1111111111111111,
              "#46039f"
             ],
             [
              0.2222222222222222,
              "#7201a8"
             ],
             [
              0.3333333333333333,
              "#9c179e"
             ],
             [
              0.4444444444444444,
              "#bd3786"
             ],
             [
              0.5555555555555556,
              "#d8576b"
             ],
             [
              0.6666666666666666,
              "#ed7953"
             ],
             [
              0.7777777777777778,
              "#fb9f3a"
             ],
             [
              0.8888888888888888,
              "#fdca26"
             ],
             [
              1,
              "#f0f921"
             ]
            ],
            "type": "heatmapgl"
           }
          ],
          "histogram": [
           {
            "marker": {
             "pattern": {
              "fillmode": "overlay",
              "size": 10,
              "solidity": 0.2
             }
            },
            "type": "histogram"
           }
          ],
          "histogram2d": [
           {
            "colorbar": {
             "outlinewidth": 0,
             "ticks": ""
            },
            "colorscale": [
             [
              0,
              "#0d0887"
             ],
             [
              0.1111111111111111,
              "#46039f"
             ],
             [
              0.2222222222222222,
              "#7201a8"
             ],
             [
              0.3333333333333333,
              "#9c179e"
             ],
             [
              0.4444444444444444,
              "#bd3786"
             ],
             [
              0.5555555555555556,
              "#d8576b"
             ],
             [
              0.6666666666666666,
              "#ed7953"
             ],
             [
              0.7777777777777778,
              "#fb9f3a"
             ],
             [
              0.8888888888888888,
              "#fdca26"
             ],
             [
              1,
              "#f0f921"
             ]
            ],
            "type": "histogram2d"
           }
          ],
          "histogram2dcontour": [
           {
            "colorbar": {
             "outlinewidth": 0,
             "ticks": ""
            },
            "colorscale": [
             [
              0,
              "#0d0887"
             ],
             [
              0.1111111111111111,
              "#46039f"
             ],
             [
              0.2222222222222222,
              "#7201a8"
             ],
             [
              0.3333333333333333,
              "#9c179e"
             ],
             [
              0.4444444444444444,
              "#bd3786"
             ],
             [
              0.5555555555555556,
              "#d8576b"
             ],
             [
              0.6666666666666666,
              "#ed7953"
             ],
             [
              0.7777777777777778,
              "#fb9f3a"
             ],
             [
              0.8888888888888888,
              "#fdca26"
             ],
             [
              1,
              "#f0f921"
             ]
            ],
            "type": "histogram2dcontour"
           }
          ],
          "mesh3d": [
           {
            "colorbar": {
             "outlinewidth": 0,
             "ticks": ""
            },
            "type": "mesh3d"
           }
          ],
          "parcoords": [
           {
            "line": {
             "colorbar": {
              "outlinewidth": 0,
              "ticks": ""
             }
            },
            "type": "parcoords"
           }
          ],
          "pie": [
           {
            "automargin": true,
            "type": "pie"
           }
          ],
          "scatter": [
           {
            "fillpattern": {
             "fillmode": "overlay",
             "size": 10,
             "solidity": 0.2
            },
            "type": "scatter"
           }
          ],
          "scatter3d": [
           {
            "line": {
             "colorbar": {
              "outlinewidth": 0,
              "ticks": ""
             }
            },
            "marker": {
             "colorbar": {
              "outlinewidth": 0,
              "ticks": ""
             }
            },
            "type": "scatter3d"
           }
          ],
          "scattercarpet": [
           {
            "marker": {
             "colorbar": {
              "outlinewidth": 0,
              "ticks": ""
             }
            },
            "type": "scattercarpet"
           }
          ],
          "scattergeo": [
           {
            "marker": {
             "colorbar": {
              "outlinewidth": 0,
              "ticks": ""
             }
            },
            "type": "scattergeo"
           }
          ],
          "scattergl": [
           {
            "marker": {
             "colorbar": {
              "outlinewidth": 0,
              "ticks": ""
             }
            },
            "type": "scattergl"
           }
          ],
          "scattermapbox": [
           {
            "marker": {
             "colorbar": {
              "outlinewidth": 0,
              "ticks": ""
             }
            },
            "type": "scattermapbox"
           }
          ],
          "scatterpolar": [
           {
            "marker": {
             "colorbar": {
              "outlinewidth": 0,
              "ticks": ""
             }
            },
            "type": "scatterpolar"
           }
          ],
          "scatterpolargl": [
           {
            "marker": {
             "colorbar": {
              "outlinewidth": 0,
              "ticks": ""
             }
            },
            "type": "scatterpolargl"
           }
          ],
          "scatterternary": [
           {
            "marker": {
             "colorbar": {
              "outlinewidth": 0,
              "ticks": ""
             }
            },
            "type": "scatterternary"
           }
          ],
          "surface": [
           {
            "colorbar": {
             "outlinewidth": 0,
             "ticks": ""
            },
            "colorscale": [
             [
              0,
              "#0d0887"
             ],
             [
              0.1111111111111111,
              "#46039f"
             ],
             [
              0.2222222222222222,
              "#7201a8"
             ],
             [
              0.3333333333333333,
              "#9c179e"
             ],
             [
              0.4444444444444444,
              "#bd3786"
             ],
             [
              0.5555555555555556,
              "#d8576b"
             ],
             [
              0.6666666666666666,
              "#ed7953"
             ],
             [
              0.7777777777777778,
              "#fb9f3a"
             ],
             [
              0.8888888888888888,
              "#fdca26"
             ],
             [
              1,
              "#f0f921"
             ]
            ],
            "type": "surface"
           }
          ],
          "table": [
           {
            "cells": {
             "fill": {
              "color": "#EBF0F8"
             },
             "line": {
              "color": "white"
             }
            },
            "header": {
             "fill": {
              "color": "#C8D4E3"
             },
             "line": {
              "color": "white"
             }
            },
            "type": "table"
           }
          ]
         },
         "layout": {
          "annotationdefaults": {
           "arrowcolor": "#2a3f5f",
           "arrowhead": 0,
           "arrowwidth": 1
          },
          "autotypenumbers": "strict",
          "coloraxis": {
           "colorbar": {
            "outlinewidth": 0,
            "ticks": ""
           }
          },
          "colorscale": {
           "diverging": [
            [
             0,
             "#8e0152"
            ],
            [
             0.1,
             "#c51b7d"
            ],
            [
             0.2,
             "#de77ae"
            ],
            [
             0.3,
             "#f1b6da"
            ],
            [
             0.4,
             "#fde0ef"
            ],
            [
             0.5,
             "#f7f7f7"
            ],
            [
             0.6,
             "#e6f5d0"
            ],
            [
             0.7,
             "#b8e186"
            ],
            [
             0.8,
             "#7fbc41"
            ],
            [
             0.9,
             "#4d9221"
            ],
            [
             1,
             "#276419"
            ]
           ],
           "sequential": [
            [
             0,
             "#0d0887"
            ],
            [
             0.1111111111111111,
             "#46039f"
            ],
            [
             0.2222222222222222,
             "#7201a8"
            ],
            [
             0.3333333333333333,
             "#9c179e"
            ],
            [
             0.4444444444444444,
             "#bd3786"
            ],
            [
             0.5555555555555556,
             "#d8576b"
            ],
            [
             0.6666666666666666,
             "#ed7953"
            ],
            [
             0.7777777777777778,
             "#fb9f3a"
            ],
            [
             0.8888888888888888,
             "#fdca26"
            ],
            [
             1,
             "#f0f921"
            ]
           ],
           "sequentialminus": [
            [
             0,
             "#0d0887"
            ],
            [
             0.1111111111111111,
             "#46039f"
            ],
            [
             0.2222222222222222,
             "#7201a8"
            ],
            [
             0.3333333333333333,
             "#9c179e"
            ],
            [
             0.4444444444444444,
             "#bd3786"
            ],
            [
             0.5555555555555556,
             "#d8576b"
            ],
            [
             0.6666666666666666,
             "#ed7953"
            ],
            [
             0.7777777777777778,
             "#fb9f3a"
            ],
            [
             0.8888888888888888,
             "#fdca26"
            ],
            [
             1,
             "#f0f921"
            ]
           ]
          },
          "colorway": [
           "#636efa",
           "#EF553B",
           "#00cc96",
           "#ab63fa",
           "#FFA15A",
           "#19d3f3",
           "#FF6692",
           "#B6E880",
           "#FF97FF",
           "#FECB52"
          ],
          "font": {
           "color": "#2a3f5f"
          },
          "geo": {
           "bgcolor": "white",
           "lakecolor": "white",
           "landcolor": "#E5ECF6",
           "showlakes": true,
           "showland": true,
           "subunitcolor": "white"
          },
          "hoverlabel": {
           "align": "left"
          },
          "hovermode": "closest",
          "mapbox": {
           "style": "light"
          },
          "paper_bgcolor": "white",
          "plot_bgcolor": "#E5ECF6",
          "polar": {
           "angularaxis": {
            "gridcolor": "white",
            "linecolor": "white",
            "ticks": ""
           },
           "bgcolor": "#E5ECF6",
           "radialaxis": {
            "gridcolor": "white",
            "linecolor": "white",
            "ticks": ""
           }
          },
          "scene": {
           "xaxis": {
            "backgroundcolor": "#E5ECF6",
            "gridcolor": "white",
            "gridwidth": 2,
            "linecolor": "white",
            "showbackground": true,
            "ticks": "",
            "zerolinecolor": "white"
           },
           "yaxis": {
            "backgroundcolor": "#E5ECF6",
            "gridcolor": "white",
            "gridwidth": 2,
            "linecolor": "white",
            "showbackground": true,
            "ticks": "",
            "zerolinecolor": "white"
           },
           "zaxis": {
            "backgroundcolor": "#E5ECF6",
            "gridcolor": "white",
            "gridwidth": 2,
            "linecolor": "white",
            "showbackground": true,
            "ticks": "",
            "zerolinecolor": "white"
           }
          },
          "shapedefaults": {
           "line": {
            "color": "#2a3f5f"
           }
          },
          "ternary": {
           "aaxis": {
            "gridcolor": "white",
            "linecolor": "white",
            "ticks": ""
           },
           "baxis": {
            "gridcolor": "white",
            "linecolor": "white",
            "ticks": ""
           },
           "bgcolor": "#E5ECF6",
           "caxis": {
            "gridcolor": "white",
            "linecolor": "white",
            "ticks": ""
           }
          },
          "title": {
           "x": 0.05
          },
          "xaxis": {
           "automargin": true,
           "gridcolor": "white",
           "linecolor": "white",
           "ticks": "",
           "title": {
            "standoff": 15
           },
           "zerolinecolor": "white",
           "zerolinewidth": 2
          },
          "yaxis": {
           "automargin": true,
           "gridcolor": "white",
           "linecolor": "white",
           "ticks": "",
           "title": {
            "standoff": 15
           },
           "zerolinecolor": "white",
           "zerolinewidth": 2
          }
         }
        },
        "title": {
         "text": "Przestrzeń Wektorowa Testowych Przypadków (Kolor: Prawdziwe Etykiety)"
        },
        "width": 1200,
        "xaxis": {
         "anchor": "y",
         "domain": [
          0,
          1
         ],
         "title": {
          "text": "TSNE-1"
         }
        },
        "yaxis": {
         "anchor": "x",
         "domain": [
          0,
          1
         ],
         "title": {
          "text": "TSNE-2"
         }
        }
       }
      }
     },
     "metadata": {},
     "output_type": "display_data"
    },
    {
     "data": {
      "application/vnd.plotly.v1+json": {
       "config": {
        "plotlyServerURL": "https://plot.ly"
       },
       "data": [
        {
         "customdata": [
          [
           "Positive",
           "Positive",
           "Dr bardzo czylelnie sie jasno prowadzi wykład jak chodzisz w sumie nie wiele musisz i uczyc ."
          ],
          [
           "Positive",
           "Positive",
           "Jeśli masz więcej odróbek ( lub jest jakiś ważny powód ) można się było z prowadzącą zajęcia dogadać ."
          ],
          [
           "Neutral",
           "Positive",
           "Wymaga absolutnej ciszy , mam słuch i wzrok absolutny , usłyszy i wypatrzy wszystko ."
          ],
          [
           "Neutral",
           "Positive",
           "Ocena : do przejścia Pan Jerzy to całkiem fajny matematyk , co prawda dosyć ekscentryczny ale nie straszny taki się jak by aż mogło wydawać ."
          ],
          [
           "Neutral",
           "Positive",
           "Jeśli jednak zdecydujesz się chodzic na wykład to pamiętaj , że na zajęciach trzeba byc punktualnie , bo koleś zamyka drzwi ; ) Koła w kilku salach , na każdej sali pilnuje kilka osób , ale ściagac da rade ."
          ],
          [
           "Positive",
           "Positive",
           "Ogólnie - polecam"
          ],
          [
           "Positive",
           "Positive",
           "Ogólnie bardzo normalny jak na informatyka , polecam brać w ciemno ."
          ],
          [
           "Negative",
           "Positive",
           "Mazurek za cel najprawdopodobniej dwa sobie zanudzić studentów : P Pierwsze postawił zajęcia jeszcze dało się znieść , co by było jasne ."
          ],
          [
           "Negative",
           "Positive",
           "Każdy bałagan ma na tablicy i trzeba się porządnie skupić i spieszyć żeby zdążyć z przepisywaniem ."
          ],
          [
           "Neutral",
           "Positive",
           "Reszta zadań standard z \" magi c"
          ],
          [
           "Positive",
           "Positive",
           "Ludzie . . nie takiego lajtu jak zyje to nego widzialem . . . : ) Postanowilem przytoczyc kilka zdan z pierwszego wykladu ( . 20 ) : \" wykl a"
          ],
          [
           "Negative",
           "Positive",
           "To ciebie tego , ze na zajecia trzeba sie absolutnie obryc cos zadan , bo szanowny doktor niczego nie wytlumaczy , a jesli juz z zbierze do tlumaczenia , to krzyz na z , jesli cos zrozumiesz ."
          ],
          [
           "Negative",
           "Positive",
           "O zgrozo ."
          ],
          [
           "Neutral",
           "Positive",
           "Ja bylem na absolutnie _ wszystkich _ cwiczenach i - mimo dopytki - dostalem 3.5 , wiec nie jest znowu tak lagodny dla chodzacych . ."
          ],
          [
           "Negative",
           "Positive",
           "Fizyka 2 [ / bardzo ] Zdac egzamin jest dosyc trudno tak bylo w b przypadku zdalo moim mało osub ."
          ],
          [
           "Neutral",
           "Positive",
           "Zazwyczaj kierowca uprzedza co bedzie na kołach ."
          ],
          [
           "Positive",
           "Positive",
           "Wstęp do programowania kurs laborki i wykłady Kurs jest z dosta środowiska Turbo - , polecam wykorzystaniem Tyca wszystkim tym którzy mieli co Linux do czynienia z Pascalem , to na zaliczenie dla samouków test na pierwszych zajęciach podejść do prowadzącego i zapytać się jak problemów uzyskać zaliczenie bez chodzenia na laborki on karze Ci napisać jakiś program oparty na bazach danych , piszesz program oddajesz i jeśli się do niego przyłożył można dostajesz 5 lub 6 możesz najmniej z przepisaniem tej oceny na wykład , nie % sz testu na zaliczenie wykładów ."
          ],
          [
           "Negative",
           "Positive",
           "Zacznijmy od tego , ze na zajecia trzeba sie absolutnie obryc z zadan , bo szanowny doktor niczego nie wytlumaczy , a jesli juz sie zbierze do tlumaczenia , to krzyz na droge , jesli cos zrozumiesz ."
          ],
          [
           "Negative",
           "Positive",
           "Ja idąc na informatyke gdzie n znałęm prawie w ogóle jezyka nowe no i to nie jest kurs dla takich ludzi angielskiego doktor zakłada że ie wiedza co to jest i że rozumieja każde jego oni słowo ! ! !"
          ],
          [
           "Negative",
           "Positive",
           "Ogolnie , t ujdzie , ale jezeli ma sie mozliwosc zapisania do kogos innego , o ze warto z niej skorzystac ."
          ],
          [
           "Positive",
           "Positive",
           "Ludzie . . kilka takiego lajtu jak zyje to nie widzialem . . . : ) Postanowilem przytoczyc \" zdan z pierwszego wykladu ( mniej wiecej ) : \" : ."
          ],
          [
           "Neutral",
           "Positive",
           "Podczas prowadzenia wykładu zawsze patrzy w podłogę jakby się bał studentów . . . : ? : : D Co do zaliczenia to w sem . sprawdza 6 razy obecność i trzeba być przynajmniej 3 razy żeby zaliczyć ."
          ],
          [
           "Negative",
           "Positive",
           "słucha jestem . z zakupu . Przede wszystkim są skrajnie niewygodne . Uciskają uszy , po 10 minutach mam zwyczajnie dość i zdjęcie słuchawek to niesamowite ukojenie ktoś raz Druga to problemy z łącznością na początku . U mnie po Min słuchawek z telefonem pierwszy za się zacina . Może . już urok bezprzewodowych słuchawek , nie wiem , nie wnikam , dla mnie zadowolona wada . . wada 3 to samo posługiwanie się tymi to model Te komunikaty o głośności jeszcze można jakoś przeżyć , ale połączeniu sygnał chociażby przy wyłączaniu urządzenia jest niezwykle irytujący . Jakość dźwięku jest zadowalająca , ale te wady . . uważam , że słuchawki to 200zł powinny być ich mer . Gdyby Nie mógł cofnąć czas , kupił by m inny ten warte"
          ],
          [
           "Positive",
           "Positive",
           "Jeśli masz więcej odróbek ( a jest jakiś inny powód ) można się było z prowadzącą zajęcia dogadać ."
          ],
          [
           "Positive",
           "Positive",
           "Jeśli chcesz się nauczyć to jest to dobry wybór , \" prze ."
          ],
          [
           "Neutral",
           "Positive",
           "Zajęcia prowadzi na luzie , ale prywatnie też ."
          ],
          [
           "Positive",
           "Positive",
           "Kolokwia nie sa trudne , taki standart ogolnouczelniany ."
          ],
          [
           "Neutral",
           "Positive",
           "Najlepiej pytac ustnie ."
          ],
          [
           "Neutral",
           "Positive",
           "Zaliczyli - ( można było oddać wypracowanie własne wtedy było 3 ; lub napisać się - niewielu się na to zdecydowało ) ."
          ],
          [
           "Negative",
           "Positive",
           "Wydaje sie ze gardził studentami ."
          ],
          [
           "Neutral",
           "Positive",
           "Jeśli chodzi o zajęcia to wiadomo że do póki nie przyjdzie prowadzący to każdy sie rozgrzewa , potem ( jak u każdego ) co jakiś mecze robi małą rozgrzewke i konkursy się wyścigi rzędów , konkursy zucania z dwutaktu lewą ręką ) , a potam gra , 3 lub 4 / , system wybierają studenci ale najcześciej jest tak że gra czas się 10 mecz i rewanż gra każdy gra te ( mecze i czasami jest streetball i potem same , całe boisko ."
          ],
          [
           "Neutral",
           "Positive",
           "Forma dowolna - referat , rozprawka , opowiadanie , [ , nawet wiersz opowiadanie ] Objętość około strony , maksymalnie dwóch ."
          ],
          [
           "Neutral",
           "Positive",
           "Koła do nauki , choć łatwe nie są ."
          ],
          [
           "Positive",
           "Positive",
           "Scharoch wypada naprawde swietnie ."
          ],
          [
           "Negative",
           "Positive",
           "Doktor prowadzi wykład w dośc nurzący sposób , można zasnąc ."
          ],
          [
           "Positive",
           "Positive",
           "Zawsze z kim mozna pogadać zagadać spytac ! ! !"
          ],
          [
           "Neutral",
           "Positive",
           "Koła zwykle do najłatwiejszych nie należą , ale jeśli człowiek się troszkę postara to zaliczy bez problemu ."
          ],
          [
           "Positive",
           "Positive",
           "Ogólnie OK gdyż dobrym fizykiem nie był em zwrot tylko jeden i ocena 4 więc nie jest strsznie ! !"
          ],
          [
           "Positive",
           "Positive",
           "Ogólnie oceniam jako humana za 3 pkt ."
          ],
          [
           "Negative",
           "Positive",
           "Kolokwium prawdopodnie nie sprawdza , oceny są przypadkowe , w ogóle to na ten temat krążą legendy ."
          ],
          [
           "Positive",
           "Positive",
           "Kurs : Analiza mat . tekstu - był i ćw Ocena gdyż bardziej pozytwyna niż negatywna Wykład = przepisywanie skryptu , jest Wilhelm wykład człowiekiem do bólu skrupulatnym i punktualnym ( choć troche anemicznym ; ) ) ."
          ],
          [
           "Positive",
           "Positive",
           "i wykładowca ."
          ],
          [
           "Positive",
           "Positive",
           "ALGEBRA Z GEOMETRIA ( 1 OCENA : SPOKO 8 ) [ / b ] Dr Rałowski jest baaardzo dobrym człowiekiem . . . ."
          ],
          [
           "Negative",
           "Positive",
           "Zanim wybrała m Lumie zmiana szukała m opinii , ale niestety w trafiła m na dyskusje o samoczynnych resetach . Po tygodniu użytkowania telefon trafił 640 serwis z powodu samoczynnego wyłączania się i żądania PINu . Telefon samo nowy tego salonu , oczywiście na gwarancji ) wyłącza się po kilkanaście nie dziennie ( Pierwsze 2 tygodnie działa serwisie tylko aktualizacja oprogramowania nie 640 - nadal to potrzebuje . Potem kolejne 3 tygodnie w serwisie , z oprogramowania ( jaki serwis razy na tyg.na aktualizację ? ? ! ) i nadal to samo . Nic z zostało naprawione Kupi I teraz kolejny zwrot . I co . . , że telefon jest na gwarancji , że nowy , skoro i tak nie można z niego normalnie korzystać ? - Dno . . . . Radzę wszystkim wybrać coś sprawdzonego , a nie 2 Lumia . , ła m Lumia nie oprogramowania telefon świetny , ale to jeszcze była NOKIA . Wszystkim zastanawiającym się nad wyborem telefonu szczerze odradzam Lumie 640 - oszczędźcie sobie nerwów ."
          ],
          [
           "Positive",
           "Positive",
           "Szermierka to bardzo ciekawy sport , a Pan Gańcza potrafi wiele nauczyc ."
          ],
          [
           "Neutral",
           "Positive",
           "Co innego po ćwiczeniach . . . : )"
          ],
          [
           "Neutral",
           "Positive",
           "Pod koniec wykladu daje pytania ktore sa wybierane na egzamin i tego i tak jest trudno zaliczyc ."
          ],
          [
           "Positive",
           "Positive",
           "Znam ją tez z ćwiczeń gdzie dobrze i przystepnie tłumaczy ."
          ],
          [
           "Neutral",
           "Positive",
           "Podpisuje się pod opinią poprzednika i klawiszami klawiatury ."
          ],
          [
           "Neutral",
           "Positive",
           "Kolokwium zaliczniowe z ćwiczen wyglada nastepująco ."
          ],
          [
           "Positive",
           "Positive",
           "Pani Małgorzata chętna jest do pomocy z trudniejszymi zadaniami ."
          ],
          [
           "Negative",
           "Positive",
           "Wydaje sie jakby gardził kobietami ."
          ],
          [
           "Positive",
           "Positive",
           "Niesamowite poczucie humoru ciagle wstawki dla rozsmieszenia , itd . ."
          ],
          [
           "Negative",
           "Positive",
           "Ogolnie , to ujdzie , ale jezeli ma sie mozliwosc zapisania do kogos innego , to raczej warto z niej skorzystac ."
          ],
          [
           "Neutral",
           "Positive",
           "Trzeba napisac 2 kolokwia , zdazaja sie rzadko kartkowki ."
          ],
          [
           "Neutral",
           "Positive",
           "Da się ściągać nie współpracować , ale czasami zdarza się sytuacja , że zaliczy osoba kogo ściągała a która od i ten ktoś ściągał niestety nie ."
          ],
          [
           "Positive",
           "Positive",
           "Górniak na ćwiczenia wogóle nie trzebaby chodzić ."
          ],
          [
           "Neutral",
           "Positive",
           "Nie wiem czy widać z nich sie czegos nauczyc , nie mozna wczesniej styku z pp , ale mi troche rzeczy w glowie sie rozjasnilo ; ) Tylko to ) po foliach . . . : miałam"
          ],
          [
           "Negative",
           "Positive",
           "Doktor prowadzi wykład w dośc prosty sposób , można zasnąc ."
          ],
          [
           "Neutral",
           "Positive",
           "Da się ściągać , współpracować , ale czasami zdarza się sytuacja , ktoś zaliczy osoba która ściągała a osoba od której ten że ściągał lub nie ."
          ],
          [
           "Positive",
           "Positive",
           "Prowadzone bardzo sprawnie ."
          ],
          [
           "Neutral",
           "Positive",
           "Kotarba Wiesław , fot ."
          ]
         ],
         "hovertemplate": "Predicted Label=%{customdata[1]}<br>TSNE-1=%{x}<br>TSNE-2=%{y}<br>True Label=%{customdata[0]}<br>Text=%{customdata[2]}<extra></extra>",
         "legendgroup": "Positive",
         "marker": {
          "color": "#636efa",
          "symbol": "circle"
         },
         "mode": "markers",
         "name": "Positive",
         "orientation": "v",
         "showlegend": true,
         "type": "scatter",
         "x": [
          -3.7672355,
          3.0075424,
          4.056732,
          -7.7941556,
          0.30345106,
          -1.4227057,
          -2.3330874,
          5.9491577,
          5.404978,
          5.676463,
          -11.337142,
          -3.4447515,
          -4.430208,
          -2.9828234,
          0.03854087,
          5.7009873,
          -3.5203116,
          -1.7200717,
          10.017271,
          -3.6439986,
          -11.321475,
          7.243866,
          2.353462,
          2.9876294,
          3.6537285,
          8.591339,
          -2.0490358,
          9.331728,
          -3.8112595,
          -8.107309,
          0.22410813,
          5.152472,
          -3.46533,
          -2.7629042,
          7.9841313,
          -7.8589787,
          1.4029359,
          7.239937,
          3.5058882,
          -0.6650027,
          -8.318645,
          3.6559026,
          -7.483413,
          13.5148115,
          -0.8554877,
          -0.87615395,
          -2.1461644,
          11.276815,
          -2.4329224,
          -0.7855463,
          4.248698,
          -8.137723,
          -1.4624728,
          -3.5448375,
          9.400929,
          -8.4833,
          -0.14068203,
          -3.7583091,
          8.00709,
          -8.490235,
          -2.9866526,
          3.6797478
         ],
         "xaxis": "x",
         "y": [
          -2.5508368,
          -1.4089324,
          2.7821898,
          -10.331271,
          -2.1284785,
          -2.9655359,
          -3.12453,
          12.498328,
          -3.8663263,
          -1.0849241,
          -1.6124978,
          -10.673344,
          7.9162154,
          10.463561,
          5.7562094,
          -3.5229514,
          -5.9427643,
          9.690896,
          -1.2668117,
          9.118098,
          -1.6159317,
          -2.687939,
          1.0342294,
          -1.3855934,
          -1.4066322,
          -3.9629323,
          9.007285,
          -6.3311667,
          3.7664218,
          0.6743283,
          0.16826093,
          2.4360833,
          -5.8595223,
          9.296419,
          -3.963839,
          4.7521873,
          -1.4315848,
          -0.7553987,
          0.3677542,
          7.995762,
          -11.468119,
          -10.189914,
          9.935814,
          -0.75208026,
          7.157711,
          15.687494,
          -0.97126424,
          2.104214,
          2.9256458,
          8.794711,
          -8.816967,
          0.66173255,
          10.31604,
          8.836902,
          -6.5080986,
          -1.9558128,
          -8.623487,
          11.115191,
          -3.977124,
          -1.9440688,
          -3.7272253,
          8.621108
         ],
         "yaxis": "y"
        },
        {
         "customdata": [
          [
           "Neutral",
           "Neutral",
           "Informacja na podstawie obecności ."
          ],
          [
           "Neutral",
           "Neutral",
           "Ogólnie BwE to pikuś 8 )"
          ],
          [
           "Neutral",
           "Neutral",
           "Jest to human , jego do trzeba się odzywać i trzeba coś robić , więc nie polcam jeśli ktoś nastawia się , że którym obecności będzie jego ocena ."
          ],
          [
           "Neutral",
           "Neutral",
           "Zajmuje to góra dwa dni , zwłaszcza ze odpowiedzi sa wspólnie opracowywane przez studentów ."
          ],
          [
           "Neutral",
           "Neutral",
           "Dr A . T . KOWAL Chemia nieorganiczna II - ćwiczenia Ocena : pozytywna [ / b ] Specyficzny sposób prowadzenia zajęć . . . ."
          ],
          [
           "Negative",
           "Neutral",
           "NIE polecam GORNIAKA i nie MA mu ( on naprawde jest grozny . . . ) : P"
          ],
          [
           "Positive",
           "Neutral",
           "Ogólnie bardzo polecam , Krzysztof Bogdan ze swoim plecakiem i poczuciem humoru ( ' A teraz na koniec roku podajcie sobie ręce ' wymieńcie znak pokoju i : ) spodoba się każdemu ."
          ],
          [
           "Positive",
           "Neutral",
           "Tlumaczyl wmiare jasno zawsze byl jakis problem teoretyczny ."
          ],
          [
           "Negative",
           "Neutral",
           "Kiedy na początku zobaczył em słuchawki zachwycał em się nimi . Dobry mikrofon , ładne opakowanie , przyjemny wygląd słuchawek . Ogólnie mówiąc NAJPIERW był em bardzo zadowolony . Gdzieś po 3 miesiącach problemy z mikrofonem się zaczęły raz działał raz nie , po 6 nie odpinał em go ponieważ wtedy już nie działał na długo i nie chciał em kusić losu licząc na kolejny cud , że jak podłącze to znowu zadziała . Po 3 / 4 roku siadła jedna strona zupełnie . . . . To już mnie kompletnie dobiło i zmienił em na akg 514 i co . . . ? Ogromna różnica w jakości a należało trochę dopłacić . I na nowych słuchawkach słychać znacznie lepiej w fps na jakim przeciwnik jest poziomie jak jest z tyłu na fatality nie mogł em rozróżnić . Dopóki się odwrócił em i sprawdził em zazwyczaj dead . Nie polecam na dłuższą metę na 3 miesiące mogą być w porządku ale na to zakup na krótko . Beznadziejne wykonanie , kabla mikrofona i ogólnie całych słuchawek ."
          ],
          [
           "Neutral",
           "Neutral",
           "On jest chyba fanatykiem swoich dziedzin ( a jest tego z ) . ale sporo tego co pamietam wiekszosć w końcu zdała egzamin"
          ],
          [
           "Positive",
           "Neutral",
           "Jest bardzo przejrzyście ."
          ],
          [
           "Neutral",
           "Neutral",
           "Chodzi o każde zjawisko , które ma cokolowiek wspólnego z danym ćwiczeniem ."
          ],
          [
           "Negative",
           "Neutral",
           "jak je poprawiasz i przynosisz następnym razem , wyszukuje Ci kolejne błedy , a to co poprawił eś na dobrze , jest źle i miało złe tak być na Kiedy ."
          ],
          [
           "Neutral",
           "Neutral",
           "W sumie bezstresowe zajęcia , dopóki nie bedzie kolokwium ."
          ],
          [
           "Neutral",
           "Neutral",
           "Polecam wziąć sobie do serca wszystkie rady , przy j"
          ],
          [
           "Positive",
           "Neutral",
           "Ogólnie bardzo polecam , Krzysztof Bogdan ze swoim plecakiem i poczuciem humoru ( ' a zdjęcia na koniec roku podajcie sobie ) i wymieńcie znak pokoju ' : ) Polecam może każdemu ."
          ],
          [
           "Positive",
           "Neutral",
           "Poczucie humoru , student - tez czlowiek , poprostu super ."
          ],
          [
           "Positive",
           "Neutral",
           "Kurs : Analiza mat . 1 - wykł i ćw Ocena : bardziej pozytwyna niż negatywna Wykład = przepisywanie skryptu , Dr Wilhelm jest człowiekiem do bólu skrupulatnym i punktualnym ( choć troche anemicznym ; ) ) ."
          ],
          [
           "Positive",
           "Neutral",
           "Poczucie humoru , humor - tez czlowiek , poprostu super ."
          ],
          [
           "Neutral",
           "Neutral",
           "Jesli sluchasz go na zajeciach i zrobisz w domu ze 2 zadanka , to powinienes bez problemow zaliczyc ."
          ],
          [
           "Positive",
           "Neutral",
           "tylko z nim mozna pogadać zagadać spytac ! ! !"
          ],
          [
           "Negative",
           "Neutral",
           "Najpierw + dostajemy produkt z najwyższej półki , pięknie zapakowany . Mysz jest wygodna , działa ( jak już działa ) precyzyjnie . To tyle z + . . . teraz - nigdy więcej sprzętu dla graczy RAZERA . Przereklamowane - to pierwsze to narzuca mi się na myśl . Absurdalna cena jak za taki sprzęt . Gumki pod kciukiem odpadły po trzech miesiącach . Scroll miał problem z działaniem już po miesiącu , sensor również choć korzystam z aluminiowej podkładki . Obydwie części musiałem czyścić . Najgorsze jednak jest oprogramowanie Razer Synapse , które zawiesza się za każdym razem kiedy je otwieramy lub kiedy odłączamy / podłączamy kabel do myszki ( przełączamy się z pracy przewodowej na bezprzewodową i na odwrót ) . Oprogramowanie posiada funkcje , które po prostu nie działają jak np . kalibracja powierzchni . Jak włączam funkcje , mysz na profesjonalnej podkładce nie działa , za to na drewnianym blacie już tak - niestety byle jak przerywając na nierównościach . Na szczęście kiedy już wszystko ustawimy - po drodze restartując poprzez alt + ctrl + del program albo i komputer i nie wyciągamy kabla całość działa . W skrócie , kupcie inną tańszą lepszą mysz od konkurencji ."
          ],
          [
           "Positive",
           "Neutral",
           "Nigdzie nie mogł eś trafić ."
          ],
          [
           "Neutral",
           "Neutral",
           "Pierwszy termin u mnie na szybko zaliczylo ok 5 osób na 200 . to . . w drugim bylo np lepiej . . . tak maturze jak tylko mozesz zalicz przedmioty u innego wykladowcy . juz zeby przepisac ocene na wyklady i masz spokoj : ) ja tak zrobilem i zero stresu ."
          ],
          [
           "Positive",
           "Neutral",
           "To wspaniała prowadząca wykład . . . . : )"
          ],
          [
           "Neutral",
           "Neutral",
           "Jeśli wyczyta nieobecnego , to w osoba ta 100 % będzie czytana na kolejnych zajęciach ."
          ],
          [
           "Positive",
           "Neutral",
           "Polecam ten kurs i prowadzącego ."
          ],
          [
           "Neutral",
           "Neutral",
           "Z założenia na zaliczenie 15 , 5 pkt - w praktyce ok 10 . ."
          ],
          [
           "Positive",
           "Neutral",
           ", z geom . Kolega 1 polecam miał em z nim wykłady , bardzo fajny pl , student tez czlowiek , czasami sie myli ale przyznale sie do bledow ."
          ],
          [
           "Neutral",
           "Neutral",
           "To co mówi pan profesor może i jesst ciekawe i nieraz potrafi zainteresować , ale minusem jest to w jaki sposob on to mówi ."
          ],
          [
           "Neutral",
           "Neutral",
           "Jak . przyłożysz to się dużo nauczysz ! : się Aha i jeszcze jedno . . ) lubi się spóźniać ; )"
          ],
          [
           "Neutral",
           "Neutral",
           "Kurs : Angielski B 1 B E Może / / Średnio na jeża a / b / Kurs jest bardzo bezstresowy , nie ma niezapowiedzianych kartkówek , zapowiedzianych zresztą też ."
          ],
          [
           "Negative",
           "Neutral",
           "NIE OLEWAJ GORNIAKA i nie podpadaj mu ( on jest jest grozny . . . ) : P"
          ],
          [
           "Neutral",
           "Neutral",
           "Zajęcia prowadzi na luzie , ale wymaga też …"
          ],
          [
           "Positive",
           "Neutral",
           "ANALIZA MATEMATYCZNA 1 ( WYKŁAD + ĆW ) Pani wydaje byc sie mila osobka , tłumaczy wszytko dokladnie bez zadnego pospiechu ."
          ],
          [
           "Negative",
           "Neutral",
           "Na koniec kursu następuje kolokwium , bądź egzamin , z reguły ciężkie , a i system oceniania pozostawia wiele do życzenia ."
          ],
          [
           "Neutral",
           "Neutral",
           "Jeśli chodzi o wykład na WEMiF - ie ludzie chyba nie mają wyboru - chyba tylko dr Juszkiewicz wykłada ."
          ],
          [
           "Negative",
           "Neutral",
           "Jest po prostu na ( wykładach nudno i niczego się człowiek nie dowie pożytecznego , bo na ćwiczeniach materiał idzie wykładu szybciej znacznie wszystko za sprawą wszelkich dygresji Pana doktora podczas tych ) ."
          ],
          [
           "Negative",
           "Neutral",
           "Radze trzymac sie z daleka !"
          ],
          [
           "Positive",
           "Neutral",
           "Kola nie sa zbyt trudne , wystarczy miec . notatki z cwiczen i przeczytac cos z ksiazki tylko"
          ],
          [
           "Positive",
           "Neutral",
           "- luzacki prowadzący ."
          ],
          [
           "Positive",
           "Neutral",
           "Tlumaczyl wmiare jasno zawsze byl jakis wstep teoretyczny ."
          ],
          [
           "Negative",
           "Neutral",
           "Pan Biernacki prowadzi laborki naprawde dziwnie , po ) , bez zaangażowania , i co najważniejsze - niezrozumiale . . . jeszcze Jeszcze raz : cichu !"
          ],
          [
           "Neutral",
           "Neutral",
           "Zadania robi . \""
          ],
          [
           "Neutral",
           "Neutral",
           "Można jednak lab przejść o ile się za nim pobiega , pochodzi na e ( on chyba czuje radość w ż , studia pracy dużo studentów do niego przychodzi ) ."
          ],
          [
           "Positive",
           "Neutral",
           "ANALIZA MATEMATYCZNA 1 ( WYKŁAD + ĆW ) Pani wydaje mi sie mila osobka , rozumie wszytko dokladnie bez zadnego pospiechu ."
          ],
          [
           "Positive",
           "Neutral",
           "Kurs : Analiza mat . 1 - wykł i ćw Ocena : bardziej pozytwyna niż negatywna Wykład do przepisywanie skryptu , Dr Wilhelm jest dokładnym obejmuje bólu skrupulatnym i profesorem ( choć troche anemicznym ; ) ) ."
          ],
          [
           "Positive",
           "Neutral",
           "Jeżeli macie możliwość zapisania sie na zajęcia z Pania Dr to polecam serdecznie"
          ],
          [
           "Negative",
           "Neutral",
           "Analiza matematyczna 1 ćwiczenia Ocena : unikać [ / b ] ' pierwszych ćwiczeniach myślał em e Po analize zaliczę bez problemów ( pokazywał jak się dodaje ułamki o różnych mianownikach , bawił się em ' ' słowem ( kalkulator : wink : lubi sie nim bawić , ) ."
          ],
          [
           "Negative",
           "Neutral",
           "Miała m ten robot od pazdziernika 2013 do znowu . Po 3 reklamacji dostalam dzis w . Wszystko ok . No moze glosny przy pracy i ale spoko , da sie zniesc . Za nowy wszystko oparte na plastikowych to . U mnie siadalo na sokowirowce . Poza tym po co mi sokowirowka , do drugim trzeba wszyskto obrac i dzisiaj na czatki okol 5 cm ? Ale wracajac . . , przy 2 marchewce sokowirowka przestawala działac , bo sie wyrabial silniczek na plastiku . Naprawa 2 3 tyg . stary ala to częściach . Wymiana na nowa , i . to samo.za samo razem . tego dac nowy robot . Wolalam mog , bo to koncu to nadal plastikwoe podzespoly . Szkoda . i . szukam czegos solidniejszego ."
          ],
          [
           "Negative",
           "Neutral",
           "Muszę się przyznać , że bardzo nudził em się na wykładzie u Pana nie . . . dlatego na przerwie wybył em i już się tam profesora pojawił em ."
          ],
          [
           "Positive",
           "Neutral",
           "Marek M . , mgr Pływanie / [ . b ] Ocena za obecnosc ( 5 , 0 ) ."
          ],
          [
           "Positive",
           "Neutral",
           "Z tym nie ma raczej problemu ."
          ],
          [
           "Positive",
           "Neutral",
           "Poczucie humoru , student - tez czlowiek , poprostu super ."
          ],
          [
           "Positive",
           "Neutral",
           "Lepiej nie mogł eś . ."
          ],
          [
           "Positive",
           "Neutral",
           "Kolejny plus to dodatkowe punkty za aktywność ."
          ],
          [
           "Positive",
           "Neutral",
           "Lepiej nie mogł eś trafić ."
          ],
          [
           "Neutral",
           "Neutral",
           "To co mówi pan profesor może i jesst ciekawe i nieraz potrafi zainteresować , ale minusem jest to w jaki osób sposób to mówi ."
          ],
          [
           "Positive",
           "Neutral",
           "Naprawde warto go kupić : )"
          ],
          [
           "Neutral",
           "Neutral",
           "w nie byly jednak porywajace ani zbytnio interesujace wiec Zdjęcia pelni tej pani nie polecam ."
          ],
          [
           "Negative",
           "Neutral",
           "Grze ty ym mają beznadziejne termostaty bez pamięci nastaw i możliwości programowania . Można jedynie skorygować nastawy fabryczne ale do czasu pierwszego ? napięcia , potem i tak wszystko powróci do nastaw fabrycznych . Poza nie . bardzo łatwo się zacinają i grzejnik daje ile fabryka dała . Oczywiście na koszt właściciela spadku Grzejniki praktycznie wydają nadają się do ogrzewania pomieszczeń bez stałego dozoru : Jeszcze jedno . j pracy niki dziwne odgłosy i to całkiem głośno . Może to wyrzuty sumienie tego co je zaprojektował podczas"
          ],
          [
           "Negative",
           "Neutral",
           "Podobnie jak z kosmosu ( oczywiście ona cały czas twierdziła , że byly proste ) ."
          ],
          [
           "Neutral",
           "Neutral",
           "Kurs : Algebra z nie analityczną - wykład Jak dla mnie ten gosć metodą swój świat ale to nic zawsze wygnieciony ma i wyspany tak jak by balował całe dnie i noce ."
          ],
          [
           "Positive",
           "Neutral",
           "Dopiero na końcu był w miarę luz i wtedy zdało najwięcej osób ."
          ],
          [
           "Neutral",
           "Neutral",
           "TYM razem udało mi sie zaliczyć w ostatniej poprawce ale jeśli ktoś nie zaliczył to przepisał zadania z list ( Przepisz wszytkie lub większość tzn . jak masz na liście 10 a zrobisz 8 to przejdzie ."
          ],
          [
           "Neutral",
           "Neutral",
           "Dzielil sale na 6 grup i zazwyczaj tak bylo , ze pierwsza grupa miala zadanie najlatwiejsze , ale nie tak zle ."
          ],
          [
           "Negative",
           "Neutral",
           "Po prostu trzeba dużo umieć z Turbo Pascala : |"
          ],
          [
           "Neutral",
           "Neutral",
           "Jak widzi ze uwaga sluchaczy zaczyna gdzies uciekac , opowie kawal , anegdotę albo inna historyjkę ; ) Tylko pora wykladow masakryczna ( przynajmniej jak dla mnie ; ) )"
          ],
          [
           "Negative",
           "Neutral",
           "Mazurek za cel najprawdopodobniej postawił sobie zanudzić studentów : P Pierwsze 2 zajęcia jeszcze dało poznać żeby , się nieco było jasne ."
          ],
          [
           "Neutral",
           "Neutral",
           "Chyba , że na algebrze jest inaczej . . ."
          ],
          [
           "Positive",
           "Neutral",
           "Kurs : Fizyka 1 ćw . [ / b płacze Miła , sympatyczna , często się śmieje ( czesto ] : P ) ."
          ],
          [
           "Positive",
           "Neutral",
           "Górniak te ćwiczenia wogóle nie trzebaby chodzić ."
          ],
          [
           "Neutral",
           "Neutral",
           "Fot ."
          ],
          [
           "Positive",
           "Neutral",
           "Mozna też pospać na zajęciach ."
          ],
          [
           "Neutral",
           "Neutral",
           "Cóż . . . ."
          ],
          [
           "Positive",
           "Neutral",
           "ALGEBRA Z jest ANALITYCZNĄ 1 OCENA : SPOKO 8 ) [ / b ] Dr Rałowski POMOC baaardzo zakręconym człowiekiem . . . ."
          ],
          [
           "Positive",
           "Neutral",
           "Zawsze z nim mozna pogadać i spytac ! ! !"
          ],
          [
           "Neutral",
           "Neutral",
           "Tak czy inaczej , jeśli : się między Panem Apostolukiem , a Panią Kołodziej - to wiesz już kogo wybrać znajdziesz )"
          ],
          [
           "Neutral",
           "Neutral",
           "Chyba spodziewała m się czegoś więcej , po kosmetyku o którym słyszała m tyle słów zachwytu . Jak dla mnie kosmetyk jest w zbyt ciepłej tonacji , trzeba z nim bardzo uważać by nie zrobić sobie plam na twarzy ( nie wykluczam , że jest to spowodowane moim brakiem umiejętności makijażowych ) . Plusy to fajne matowe wykończenie , brak świecących drobinek , piękne i wytrzymałe opakowanie , co dla mnie jest ważne bo często podróżuję i zdarza się , że kosmetyki niszczą mi się przy transporcie . Puder zaliczył lot ze stolika i lądowanie na podłodze i jest cały - test odporności zdał celująco . Co nie zmienia faktu , że racze nie kupię kolejny raz tego kosmetyku : ("
          ],
          [
           "Neutral",
           "Neutral",
           "Chodzi po sali i hmmmm . . . ."
          ],
          [
           "Neutral",
           "Neutral",
           "W tym roku nawet obnizyl prog zaliczenia z 12 na 10 pkt : shock : Generalnie nie jest zle , pozatym AiR nie ma innego wyboru ; )"
          ],
          [
           "Neutral",
           "Neutral",
           "Zajęcia są nudne , nie wymagają obecnosci ."
          ],
          [
           "Neutral",
           "Neutral",
           "Zadania nauczyciele egzaminie do latwych nie naleza ale na ukladaja je , IM , wiec czego mozna sie spodziewac : ) OCENA OGÓLNA : ŚREDNIO NA JEŻA"
          ],
          [
           "Neutral",
           "Neutral",
           "W sumie bezstresowe zajęcia , dopóki nie bedzie deszczu ."
          ],
          [
           "Neutral",
           "Neutral",
           "Kurs : nie z geometrą analityczną - wykład Jak dla mnie ten gosć ma swój świat ale zmęczony nic Praca jest i nie wyspany tak jak by balował całe dnie i noce ."
          ],
          [
           "Neutral",
           "Neutral",
           "Szczerze to nie wiem , czemu aż tak bardzo polecany jest w drogeriach , przecież to żadne wow , miała m rozstępy takie w początkowej fazie , a używając tego olejku widzę jeszcze więcej rozstępów , które są głębsze i brzydsze , czyli nie wyglądają przyzwoicie . Poszła m do dermatologa i przepisała mi maść , która pomału naprawia błędy oleju . Moim zdaniem straciła m tylko pieniądze . Jedyne co jest plusem to to , że olejek bardzo nawilża skórę więc osoba , która ma skórę suchą zdecydowanie z niego powinna być zadowolona ."
          ],
          [
           "Negative",
           "Neutral",
           "Straszny bałagan ma na tablicy zdążyć trzeba się porządnie skupić i spieszyć żeby , z przepisywaniem ."
          ],
          [
           "Positive",
           "Neutral",
           ") I i , II - wyklady IZ Bardzo ciekawy ) nie ma zadnych bardzo dowcipny człowiek , sporo kawalow , anegdot super : . Zajecia są prowadzone w bardzo przyjazny dla studenta sposób ( wyłączjąc ofiarę , którą prof na sobie upatrzy Klasa poczatku klasa - ta ma \" ciek a"
          ],
          [
           "Positive",
           "Neutral",
           "Dopiero na 3 był w miarę luz i wtedy zdało najwięcej osób ."
          ],
          [
           "Neutral",
           "Neutral",
           "Jak widzi ze uwaga sluchaczy zaczyna gdzies dowcip , opowie kawal , ( albo inna historyjkę ; ) Tylko pora wykladow masakryczna biec przynajmniej jak dla mnie ; ) )"
          ],
          [
           "Neutral",
           "Neutral",
           "ale bylem na absolutnie _ wszystkich _ cwiczenach i - mimo dopytki - Ja 3.5 , wynik nie jest znowu tak lagodny dla chodzacych . ."
          ],
          [
           "Negative",
           "Neutral",
           "Muszę się przyznać , że bardzo nudził em się na wykładzie u Pana Michała . . . dlatego na przerwie wybył em i więcej się tam nie pojawił em ."
          ]
         ],
         "hovertemplate": "Predicted Label=%{customdata[1]}<br>TSNE-1=%{x}<br>TSNE-2=%{y}<br>True Label=%{customdata[0]}<br>Text=%{customdata[2]}<extra></extra>",
         "legendgroup": "Neutral",
         "marker": {
          "color": "#EF553B",
          "symbol": "circle"
         },
         "mode": "markers",
         "name": "Neutral",
         "orientation": "v",
         "showlegend": true,
         "type": "scatter",
         "x": [
          -1.9727296,
          -1.998378,
          1.1958333,
          1.3641874,
          7.783868,
          6.2239223,
          -2.8185127,
          -0.28638786,
          -1.7283003,
          1.6889961,
          -2.9419458,
          1.7913523,
          11.287866,
          -2.369248,
          4.1448464,
          -2.9063258,
          -5.587447,
          -7.405053,
          -5.611598,
          -2.07308,
          -7.88974,
          3.9473865,
          -10.5931425,
          5.707443,
          5.210336,
          4.627565,
          0.60782266,
          3.5623188,
          -7.3450484,
          3.2974317,
          -5.4520817,
          -7.890754,
          -7.078169,
          8.921873,
          13.200768,
          -1.391628,
          0.2234892,
          1.629298,
          -4.740056,
          -2.5603309,
          3.3269928,
          -0.27647063,
          4.88827,
          4.560472,
          0.27795154,
          13.202569,
          -7.993694,
          2.9571688,
          -5.0679345,
          -0.29988346,
          -7.565749,
          7.7966375,
          -0.018985994,
          -5.586976,
          -10.67886,
          -0.9067193,
          -10.628945,
          3.2957397,
          -1.8924918,
          -3.9733288,
          1.1749535,
          8.252441,
          -7.353545,
          -0.65685797,
          -0.8533279,
          -0.9586703,
          -2.6298409,
          -9.145277,
          5.928818,
          -6.5078416,
          -8.331362,
          -0.03419141,
          -5.9909635,
          -1.1595984,
          -5.932843,
          -7.454527,
          -7.7798004,
          2.983773,
          6.244151,
          1.4340115,
          -0.8210431,
          1.8690546,
          -2.1363218,
          -2.3761027,
          -7.2682486,
          0.8600306,
          0.24537736,
          6.854761,
          -0.8643032,
          -9.1471815,
          -3.0628834,
          -7.528858
         ],
         "xaxis": "x",
         "y": [
          -8.728842,
          7.118816,
          -4.4635344,
          -4.7727304,
          -9.39196,
          0.50185895,
          -2.7106168,
          11.213827,
          -7.9693866,
          -0.22158182,
          -3.4821675,
          -5.7558374,
          2.5455172,
          1.6752366,
          -2.1954918,
          -2.657323,
          1.7854698,
          -11.51026,
          1.7815379,
          12.284114,
          4.7727203,
          -14.064935,
          2.2929468,
          -5.802011,
          0.47687313,
          -1.7924082,
          -2.787904,
          0.25547096,
          4.40619,
          -6.5100913,
          -3.2724617,
          -11.662824,
          8.166196,
          -3.935924,
          -7.36242,
          -1.1914784,
          0.16334546,
          -6.383891,
          9.948297,
          12.331669,
          3.7401807,
          11.209468,
          -9.128396,
          -0.6103854,
          -2.2057908,
          -7.363201,
          -10.9597225,
          -1.8198973,
          -7.4079,
          2.5484526,
          -1.1994263,
          -9.426423,
          -1.0327518,
          1.7840003,
          2.3211977,
          -0.35402972,
          2.2875094,
          -6.520537,
          6.23759,
          -0.21871111,
          5.91842,
          1.5058539,
          -11.131246,
          -9.211667,
          -3.8940353,
          11.555223,
          1.0341783,
          -5.816917,
          12.50224,
          -3.4182239,
          -10.845175,
          -6.212418,
          -4.3022285,
          0.97824264,
          -3.7743278,
          9.966033,
          4.860582,
          -3.3473969,
          3.4197307,
          -6.813211,
          2.3218257,
          -1.0326512,
          -10.319844,
          1.6832519,
          -10.685337,
          -4.1600165,
          4.372459,
          -8.614471,
          -8.988566,
          -5.8140235,
          10.601233,
          -1.240301
         ],
         "yaxis": "y"
        },
        {
         "customdata": [
          [
           "Negative",
           "Negative",
           "Zanim wybrała m . 640 szukała m opinii , ale niestety nie trafiła m na dyskusje o samoczynnych resetach . Po tygodniu użytkowania telefon trafił na serwis z powodu samoczynnego syste się i żądania PINu . Telefon ( nowy z salonu , oczywiście na gwarancji ) wyłącza się 3 kilkanaście razy dziennie ( Mi Kolejne tygodnie w serwisie i aktualizacja oprogramowania na samo - nadal to . . Potem kolejne 3 tygodnie . serwisie , aktualizacja oprogramowania po . serwis potrzebuje 3 samo aktualizację oprogramowania wyłączenia ! ) i nadal to z coś Nic nie zostało naprawione . I teraz kolejny ( . I co z tego , że telefon jest na gwarancji , że nowy , skoro i problem nie można ona niego normalnie korzystać ? to Dno . . jak . Radzę wszystkim wybrać tak sprawdzonego , a nie ( Lumia . Wcześniej miała m Lumia 520 - telefon świetny , ale w jeszcze nie NOKIA . Wszystkim zastanawiającym się nad wyborem telefonu szczerze odradzam Lumie 640 - oszczędźcie sobie nerwów ."
          ],
          [
           "Negative",
           "Negative",
           "Dla mnie żadna rewelacja , ale może mam jakiś wybrakowany produkt . . . Urządzenie mam od grudnia i użyła m go może z 5 razy . Za każdym razem mieszkanie zadymione i strasznie śmierdziało ( jakby palonym kablem czy coś ) . Jedzenia nie można w sumie ani na chwilkę spuścić z oczu ponieważ , z powodu braku regulacji temperatury , szybko się przypala . Co do powłoki nieprzywierającej , to w moim Panini chyba z niej zrezygnowali - za każdym razem coś się przyklei , a wyczyszczenie płytek to jakiś koszmar . Jedyne co mogę pochwalić to wygląd ; - )"
          ],
          [
           "Negative",
           "Negative",
           "jest idąc na informatyke 3 nie znałęm prawie w ogóle jezyka C no i to t dla kurs o takich ludzi - doktor zakłada że wszyscy wiedza co to jest i że rozumieja ja jest skomplikowane słowo ! ! !"
          ],
          [
           "Negative",
           "Negative",
           "jestem pilarzem od parunastu lat , skusił em się na tego partnera w listopadzie 2016r . niku się uruchamia i dobrze pracuje : lekka zmniejsza poręczna , wygodna ale za mały otwór wlewu oleju i za małe ilość zbiornika szybko i pojemności - trzeba często uzupełniać je , ( powietrza w paliwa , , się po około tygodniu pracy ( około 3h dziennej pracy piły ) - koszt nowego 10zł zbior zaś po 3 miesiącach pękła linka gazu - każde naciśnięcie manetki gazu łamie linkę - ( dziwne rozwiązanie oleju ) - koszt nowej 40zł ( jak dla mnie trochę za wysokie koszty utrzymania tej piły - jestem zawiedziony tym modelem partnera ."
          ],
          [
           "Negative",
           "Negative",
           "Witam Długo się namyślał em przed zakupem przyzwoitego pistoletu i zdecydował em się na STEINELA 3002 . Porażka na całej lini pierwsza próba pracy zagrzewa , podał klej i przestał działać . Wysyłka na serwis . Po wymianie systemu grzejnego pistolet puszczał klej bokami , kapał z podajnika i po pięciu minutach ponownie przestał działać . Wysyłka na serwis . Jak do tej pory mam go od dwóch miesięcy a popracował 5 minut . Wydaje mi się że pistolet za 100 powinien wytrzymać dłużej . Koszty dostawy na serwis i odbiór zbliżają się do ceny zakupu . Nie polecam tego produktu . Zapomniał em serwis sam był zaskoczony jakością tworzyw i brakiem jakiś plomb ( prawdopodobnie zmieniono wykonawcę produktu na producenta z Rumuni ) Steinel to już nie te same narzędzia co kiedyś . Proponuję poważnie się zastanowić przed zakupem . Pozdrawiam"
          ],
          [
           "Negative",
           "Negative",
           "Bateria posiada jedynie ładny design . Wysokość baterii to łam 30 do . , przeciętna głębokość zlewozmywaka to ok cm . Woda wypływając z baterii i spadając z wysokości 1 / 2 metra , , iż chcąc opłukać talerz ok umyć nie wylew również prysznic ! jest są szafki i wszystko w około . Zadzwoniła m do handlowca firmy Blanco ? poprosiła m o radę , ale podał jedynie telefon do serwisanta producenta który kazał metr ciśnienie wody . Poza tym próbował tłumaczyć iż baterie są Wszędzie do zlewozmywaków BLANCO i gdyby m kierunku zlew Blanco przeznaczone było by problemu . Sitko w zlewie Blanco aby tak ustawione , iż jak nakierujemy kę więc . baterii to woda się nie rozchlapuje . Ale kto używając zlewozmywaka myśli o tym powoduje skierować wylewkę zawsze w musimy sitka ? ? i ? ? Chyba ten kto nic w kuchni nie robi ! ! Tak sprawdzić przestrzegam przed wszystkimi bateriami tego i firmy Blanco i nie tylko . Porażka i totalny niewypał miała"
          ],
          [
           "Negative",
           "Negative",
           "Niestety w moich testach wypadł strasznie marnie . Prędkość zapisu dużego pojedynczego pliku na USB 2 . 0 to 5MB / s i nie chce być szybciej . Obojętne czy NTFS czy FAT32 . Kupił em 2 egzemplarze i na każdym taka żenada . Wstyd dla Patriota . Dane podane przez producenta są wyssane z palca ( rozumiem że to dane z USB 3 . 0 , ale na USB 2 . 0 powinno być duuuużo lepiej ) . Plus taki , że jak wieczorem pójdę do koleżanki zgrać 2 filmy w FullHD , muszę u niej zostać na śniadanie , żeby doczekać się końca kopiowania . Powinien em domagać się od producenta zwrotu pieniędzy ."
          ],
          [
           "Negative",
           "Negative",
           "Mylący tytuł który sugeruje że mamy do napisać z dziełem Smitha , czynienia rzeczywistości w jest Autor są tylko fragmenty Bogactwa Narodów oraz Teorii Uczuć Moralnych , które okraszone są niestety bardzo kiepskim komentarzem jak się okazuje AUTORA KSIĄŻKI którym NIE JEST , SMITH ! na sprawia zawarte jakby ktoś kazał mu nie tą książkę , momentami odczuwa się wręcz jego niechęć do Smitha i dezaprobatę względem jego dzieła . Ogólnie wrażenie streszczenie / recenzję polecam bo nazwanie tego książką było by sporą przesadą , dobrze się czyta . Jedyne co sprawia że ocena książce w . to że pojawiają się dokładne cytaty PAWEŁ"
          ],
          [
           "Negative",
           "Negative",
           "Nie jestem zadowolony z zakupu . Przede wszystkim są skrajnie niewygodne . telefonu uszy , po że minutach mam zwyczajnie dość i zdjęcie Problem to niesamowite ukojenie . Ja kwestia to problemy z łącznością na Druga kilku U mnie kość ale słuchawek z telefonem pierwszy utwór się zacina . Może taki już urok bezprzewodowych słuchawek , nie wiem , nie wnikam , dla telefonie to wada . telefonu nr 3 to samo posługiwanie się tymi słuchawkami . Te komunikaty o głośności jeszcze można jakoś przeżyć , ale ten sygnał chociażby przy wyłączaniu połączeniu jest niezwykle irytujący . sobie . jest zadowalająca , przy te wady . . uważam , . słuchawki za 200zł powinny być ich pozbawione Moje Gdyby m mógł cofnąć czas , kupił by mnie inny sprzęt ."
          ],
          [
           "Positive",
           "Negative",
           "Human do odbębnienia , na zajęciach można było grać w karty , wormsy , a może i nawet bierki ; zajęciach Na ) na 150 osób praktycznie nigdy nie cej było niż 10 studentow ; )"
          ],
          [
           "Neutral",
           "Negative",
           "Spośród szlifierek METABO WQ1400W , Hitachi 1500W G13VA , SKILL 1200W to Dewalt okazal się być najlepszy . Choć mi pracuje się lepiej z METABO bo jest poręczniejsza , to pracownik woli DEWALTA , bo sie nie przegrzewa i jest zwyczajnie mocniejszy ( a to też 1400W ) Mam ją może z rok i już 3 raz wysyłam na serwis ( nadzwyczaj sprawnie i szybko działa ) Zaznaczyć trzeba żę pracuje duuużo i ciężko . Najczęściej z przystawką do satynowania a to są duże obciążenia . Polecam , jednak DEWALT i tak lekko przed . Hitachi nie dość , że zdecydowanie droższy to system regulacji obrotów przy obciążeniu świruje ."
          ],
          [
           "Negative",
           "Negative",
           "Niestety lodówka nie jest pakowna . . m ja w miejsce identycznej pod względem pojemności lodówki . . W Damsingu nie ma miejsca na Ja 5 nie garnek , nie zmieści się nawet duży wa l dzbanek z sokiem . Tylko 6 otworów na jajka , duży wieczko które się otwiera żeby włożyć jajka - opada nie nie zatrzymuje się w górze , jedno ma opcji drewnianej podniesionrgo do góry wydajność Dozownik wody też porażka - zdarza sie ze l i calej lofowce na podłogę jesli nieumiejętnie przystawki się szklankę . Plus za cicha pracę i 5 podnoszenia"
          ],
          [
           "Negative",
           "Negative",
           "hhmm \" no to jazda z tym , i to tylko ta zaleta . Jeśli chodzi ustawione resztę to ; brak osiowości ławki , brak stabilności już ćwicząc na z skos ujemny radzę zakładać pampersa ) . Teraz widze że sprzęt jest robiony masowo przez zwykłego Kowalskiego mojego na Chiński o będzie stronę Pęk ! ) . Urządzenie do ćwiczeń na nogi ucieka kilka stopni w jedną te , modlitewnik tragedia , oparcie do ćwiczenia rozpiętek na siedząco jest krzywo . , ogólnie nim jeszcze raz wybrał by m Chińborka 1 , ale go za 1800zł . Moim zdaniem rynek wart jakieś 1100zł . Mam jakieś 174 cm . ( wzrostu , jest niewygodny ćwicząc ( na ktoś nie wyprostujesz ramion . Ogólnie polecam TV tam Smart jakieś 40 pare cali za te pinąchy i ( co jest youtuba jakieś 30 - 50 min . ćwiczył by to pompki i takie nogi pochodne , Rezultat ten sam sprzętem o ile nie lepszy ) , a ile radości . Pozdrawiam Marsh - . ."
          ],
          [
           "Negative",
           "Negative",
           "Podobnie jak większość zawiodła m się na tej kosiarce . Wydawało się , że firmowa kosiarka będzie służyć dłużej . . . Od samego początku była bardzo delikatna , dobra tylko do drobnej trawki na idealnie równym terenie . Koszenie na lekkich nierównościach zakończyło się powyginanym nożem . Nóż po roku wymieniony na nowy , bo nie dało się go naostrzyć . Długo jednak nim się nie cieszyła m , silnik zaczął dziwnie pracować . . . aż w końcu przestał . Powiem szczerze , że dużo lepiej sprawowała się moja pierwsza najtańsza kosiarka no name . Z nożem nic się nie działo na górkach i dołkach , silnik nie do zajeżdżenia . Gdyby nie to , że uszkodziły się kółka , to dalej by pracowała . Zawiodła m się na Gardenie ."
          ],
          [
           "Negative",
           "Negative",
           "Najpierw + dostajemy produkt z najwyższej półki , pięknie zapakowany . Mysz jest wygodna , działa ( jak już sprawdza ) precyzyjnie . To tyle z sz . . . teraz - nigdy więcej sprzętu dla graczy . i konstrukcji - to pierwsze to zniknęły z się na myśl . Wysoka cena jak za taki sprzęt . Gumki pod kciukiem my po trzech miesiącach . mi miał problem z działaniem już po miesiącu , sensor również choć korzystam z aluminiowej o . , części musiałem czyścić . Najgorsze jednak jest oprogramowanie Razer Synapse , które zawiesza się za każdym razem kiedy je otwieramy lub kiedy odłączamy / podłączamy kabel do myszki ( od się n pracy przewodowej na na i na odwrót ) . Oprogramowanie posiada funkcje , które po prostu nie działają jak np . kalibracja powierzchni . Jak włączam funkcje , mysz działa profesjonalnej podkładce nie - , za to na drewnianym Komputer już tak - niestety jak stałe przerywając Na nierównościach . początku szczęście Niektóre już wszystko ustawimy - po drodze ie poprzez alt + ctrl + del program albo i komputer w wspomniałem wyciągamy my całość działa . W skrócie , kupcie inną tańszą lepszą mysz co konkurencji ."
          ],
          [
           "Neutral",
           "Negative",
           "Zaliczenie strony : Strona internetowa wymyślonej firmy lub biznes plan ."
          ],
          [
           "Positive",
           "Negative",
           "Każda nieobecność to jest ocena w dół na koniec wystarczy , że odrobisz ten termin . na . jest krótki , bezstresowy egzamin koniec bez paniki , ."
          ],
          [
           "Negative",
           "Negative",
           "Grill nowego wadę , dużą , z którą niestety żył em 3 lata . Tłuszcz zamiast skapywać w całości R dołączonej miseczki , spływał pod płytę grzewczą dodatkowych zawsze po grillowaniu , musiałem go przypadku w pionie i patrzeć jak wylewa się ma na blat . Nie wiem czy Philips pracę nie przemyślał , nie sprawdził , ale jest to tragiczne niedopatrzenie . gri Nie temu grill odmówił posłuszeństwa . i grzeje . Pokrętło do do prosto Zdecydowanie odmówiło z rok temu , przestało mieć poszukać , ale nie przeszkadzało to w ok . Za minus uważam też brak możliwości dokupienia awarii płyt teflonowych , choćby w trzymać połowy grilla . do nie polecam i nie kupię pracy Philipsa , a w przypadku tego , muszę czenia nowego ."
          ],
          [
           "Negative",
           "Negative",
           "NEGATYW ! ! ! !"
          ],
          [
           "Negative",
           "Negative",
           "Klawiaturę otrzymał em , rozpakował em , podłączył em , zainstalował em soft pobrany ze strony Razer . Windows 7 widzi klawiaturę poprawnie i instaluje ją gładko . Niestety oprogramowanie Razer nie rozpoznaje własnej klawiatury . Nie pomaga przepinanie do innych portów USB , wielokrotny restart , ani odpięcie innych urządzeń USB od komputera . W dodatku soft jest zaprojektowany tak bezmyślnie , że dopóki nie wykryje klawiatury , nie można nawet kliknąć ikony pomocy , przeczytać dokumentacji ani zrobić nic innego . Bez tego oprogramowania nie można skonfigurować dodatkowych klawiszy ani korzystać z żadnych innych funkcji klawiatury . Gdyby m mógł tej klawiatury używać , narzekał by m na zbyt twarde klawisze i na to , że między obudową a dolnymi klawiszami mini - padu ( który sam w sobie jest genialnym pomysłem , nie tylko do gier ! ) zieje szeroka szczelina , przez którą widać płytkę drukowaną pod spodem . Takie rozwiązanie nie wróży długiej trwałości sprzętu - wystarczy kropla wody , nie mówiąc o kurzu . To moje drugie bardzo poważne rozczarowanie produktami tej firmy ( a myślał em , że kupuję jeden z najlepszych sprzętów ) . Klawiatura do zwrotu , dla mnie nauczka na przyszłość ."
          ],
          [
           "Negative",
           "Negative",
           "Niestety lodówka nie jest pakowna . Kupiła m ja w miejsce podnoszenia pod względem pojemności lodówki Whirlpool . W Damsingu nie ma miejsca pomieścić duży 5 litrowy garnek , nie zmieści się nawet duży 2 wodę dzbanek z sokiem . Tylko 6 na na jest , a wieczko które się otwiera żeby prostu jajka - ka litrów nie zatrzymuje się średniej górze i nie ma opcji na podniesionrgo do góry . Dozownik wody też sło - zdarza sie ze kapie po na lofowce litrów podłogę jesli nieumiejętnie przystawki się szklankę . Plus za cicha pracę i designe ."
          ],
          [
           "Positive",
           "Negative",
           "ANALIZA MATEMATYCZNA 1 ( WYKŁAD + ĆW normalna Pani wydaje byc sie ) osobka , tłumaczy wszystko dokladnie bez zadnego pospiechu ."
          ],
          [
           "Positive",
           "Negative",
           "Ale na egzaminie natomiast jest inaczej ."
          ],
          [
           "Negative",
           "Negative",
           "NIE OLEWAJ GORNIAKA i nie podpadaj mu ( on naprawde jest grozny . . . ) ) :"
          ],
          [
           "Positive",
           "Negative",
           "Ogolna ocena : polecam ! ! !"
          ],
          [
           "Neutral",
           "Negative",
           "Przyłapanie na ściąganiu to 2.0 z danej pracy ."
          ],
          [
           "Negative",
           "Negative",
           "Ja idąc na informatyke 3 nie znałęm prawie w ogóle jezyka C no i to nie jest kurs dla takich ludzi - doktor zakłada że wszyscy wiedza co to jest i że rozumieja każde jego skomplikowane słowo ! ! !"
          ],
          [
           "Negative",
           "Negative",
           "Na każdej laborce kartkówka , teraz moge stwierdzić że może nie były aż takie trudne , ale zaliczył em jedną na 5 czy 6 . . . po prostu jeżeli nigdy przedtem nie miał eś do czynienia z językiem C to naprawde jest trudno ."
          ],
          [
           "Negative",
           "Negative",
           "Bateria posiada jedynie ładny design . Wysokość baterii to ok 30 cm . , przeciętna głębokość zlewozmywaka to ok 20cm . Woda wypływając z baterii i spadając z wysokości 1 / 2 metra powoduje , iż chcąc opłukać talerz lub umyć ręce bierzemy również prysznic ! Zachlapane są szafki i wszystko w około . Zadzwoniła m do handlowca firmy Blanco i poprosiła m o radę , ale podał jedynie telefon do serwisanta , który kazał przykręcić ciśnienie wody . Poza tym próbował tłumaczyć iż baterie są przystosowane do zlewozmywaków BLANCO i gdyby m kupiła zlew Blanco nie było by problemu . Sitko w zlewie Blanco jest tak ustawione , iż jak nakierujemy na nie wylewkę baterii to woda się nie rozchlapuje . Ale kto używając zlewozmywaka myśli o tym aby skierować wylewkę zawsze w stronę sitka ? ? ? ? ? Chyba ten kto nic w kuchni nie robi ! ! Tak więc przestrzegam przed wszystkimi bateriami tego typu firmy Blanco i nie tylko . Porażka i totalny niewypał !"
          ],
          [
           "Neutral",
           "Negative",
           "Lodowka fajnie się trafi , pojemna , półki praktycznie rozplanowane , nieco za głośna ale , sie ta i wydaje troche inne prezentuje od tradyzyjnej . ale . dźwięki . na własnie popsuła sie po 2 . 5 roku , więc jeśli ktoś nie chce wymieniać dobrze bardzo lata sprzetu to nie polecam , nie wiem może nam sie i jakiś feralny model 2 w sprawuje agd potwierdzili że firma , się rozreklamowała sklepie wraz ze wzrotem zainteresowania straciła na jakości . Lepiej wydać pare zł więcej i mieć spokój na parę lat ."
          ],
          [
           "Positive",
           "Negative",
           "U nas raz puścił liste ale potem stwierdził ze dalej będzie czytał bo tak szybciej ( niedziwie sie ludzie sobie wpisywali obecności wcześniej a nawet na zapas : D hehe ) Miał em 3 nieobecności na 10 chyba i dał mi 4.5 Można sie z nim dogadać lu zwolnienie mu przynieść : D UZNAJE : D"
          ],
          [
           "Negative",
           "Negative",
           "Kupił em 15 żarówek po 17zł sztukę . W ciągu kilku tygodni od razu 3 sztuki zaczęły migać . Na szczęście zakupione były w lokalnym supermarkecie i dostał em zwrot gotówki ( 51zł ) od ręki w dniu reklamacji . Zawiodł em się na Philipsie ponieważ 20 % zawodności do za dużo jak na taką markę . Po około roku zaczęła migać kolejna żarówka , ale przy 1 reklamacji zostawił em paragon w sklepie więc mówi się trudno . Mam mieszane uczucia ponieważ znajomi kupili LEDy od firm typu no name i nie mają problemu , a ja w porównaniu z nimi przepłacił em i kupił em bublowaty produkt marki Philips . . ."
          ],
          [
           "Negative",
           "Negative",
           "Zanim wybrała m Lumie 640 szukała m opinii , ale niestety nie Komputer m . dyskusje o samoczynnych resetach . Po tygodniu użytkowania telefon trafił na serwis z powodu samoczynnego wyłączania się i żądania PINu . nowego ( zrobione z salonu , oczywiście na gwarancji ) wyłącza o po kilkanaście razy dziennie . Pierwsze 2 tygodnie w ? i aktualizacja oprogramowania można pomogły - nadal to samo . Potem kolejne 3 tygodnie w serwisie , aktualizacja . ( jaki serwis potrzebuje oprogramowania tyg.na aktualizację oprogramowania ? ! ) ten nadal to samo . Nic nie zostało z serwisie I teraz kolejny zwrot . I i mode 3 , że telefon jest na gwarancji , że nowy , skoro Windows tak nie i z niego normalnie korzystać na ! Dno . . . . Radzę nie wybrać coś o , a nie MS wpadła nad Wcześniej miała m Lumia 520 - telefon świetny , ale to jeszcze była NOKIA . Wszystkim zastanawiającym się jednak wyborem się mii odradzam Lumie 640 - oszczędźcie sobie nerwów ."
          ],
          [
           "Negative",
           "Negative",
           "Przereklamowane . ( podobnie jak inne towary ( np . wkrętarka bosch i to z serii dla prof . użytku ! ) Jak za tę cenę , oczekiwał em od robota wyższej jakości . Zaledwie po kilku razach użycia wydobywać się zaczyna smar z pod wałka / gniazda mieszadła . W tej cenie nie powinno to mieć NIGDY miejsca . Ogólnie siłę robot ma , i wygląda na nie do zajeżdżenia - choć mam obawy do przekładni czy się nie rozsypie - strasznie głośno chodzi . Dzieciaki z kuchni uciekają . . Poza tym potwornie drogie dodatki , cokolwiek by to nie było . Osobiście , teraz by śmy go nie kupili ."
          ],
          [
           "Negative",
           "Negative",
           "Zakupił em ten telefon miesiąc temu , tylko po to by móc korzystać z internetu , gdyż do wykonywania połączeń czy pisania wiadomości sms posiadam inny aparat telefoniczny . Od samego początku czyli dnia zakupu tego smartfona jak tylko zaczął em korzystać z internetu ciągle mi się zacinał , że masakra , wkurzał mnie tak bardzo , że przestał em z niego korzystać . Bo na drogi telefon mnie nie stać a za ten zapłacił em ponad 300 zł więc ponad połowę mojej renty . Oprócz tego bateria szybko się rozładowuje wystarczą 2 kilkuminutowe rozmowy i już muszę znów ten telefon ładować . Jedynym plusem to jest nagrywanie rozmów oraz wygląd tego telefonu . Naprawdę bardzo żałuję , że zdecydował em się zakupić ten telefon . Szkoda na niego kasy !"
          ],
          [
           "Negative",
           "Negative",
           "Grzejniki ładne ale mają beznadziejne termostaty bez ktoś nastaw i możliwości programowania . Można jedynie skorygować nastawy pracy ale do czasu do zaniku że , potem i tak wszystko powróci do nastaw \" . Poza tym termostaty bardzo łatwo się zacinają i grzejnik całkowitego ile żadnego dała . Oczywiście na koszt właściciela . Grzejniki praktycznie nie nadają się się ogrzewania pomieszczeń bez poprzednich dozoru . Jeszcze jedno w czasie wydają żadnych dziwne odgłosy i to całkiem głośno . Może to wyrzuty sumienie traci , je zaprojektował ."
          ],
          [
           "Negative",
           "Negative",
           "Kupił em a żarówek po 17zł sztukę . W ciągu kilku tygodni od razu różnych sztuki zaczęły migać . Na szczęście zakupione były w lokalnym supermarkecie i dostał em zwrot gotówki ( 51zł ) od ręki w dniu na jakiś Zawiodł em w na Philipsie ponieważ 20 zakupie zawodności do za dużo jak tech taką markę . Po około roku przestała migać . żarówka , 2 przy 1 zakupu zostawił em paragon % sklepie i mówi się trudno . Mam mieszane uczucia ponieważ znajomi kupili LEDy i firm typu no się i nie mają problemu , a ja w porównaniu z nimi przepłacił em mi kupił 5 bublowaty produkt marki Philips . . ."
          ],
          [
           "Negative",
           "Negative",
           "Podobnie jak większość zawiodła m się na tej kosiarce . Wydawało się , że firmowa kosiarka służyła służyć dłużej . . . Od samego początku znacznie bardzo delikatna , Z tylko do cięcia trawki na idealnie równym była . Koszenie na lekkich nierównościach zakończyło się powyginanym nożem . Nóż po roku wymieniony na nowy , działo nie dało miał go naostrzyć . Długo jednak nim się nie cieszyła m , podłożu zaczął dziwnie pracować . nóż . aż w końcu przestał . będzie bo , że , lepiej sprawowała się moja pierwsza najtańsza kosiarka no name . się nożem nic się nie się na górkach to dołkach , silnik nie przyznać zajeżdżenia . Gdyby nie i . że uszkodziły się kółka , to dalej by pracowała . Zawiodła m Myśl na Gardenie ."
          ],
          [
           "Negative",
           "Negative",
           "Najpierw + dostajemy produkt z najwyższej półki , pięknie się sumie Mysz jest wygodna dopiero działa ( wykonany dobrej po ) precyzyjnie . działa tyle z + . . . teraz - nigdy więcej sprzętu dla graczy RAZERA . Przereklamowane - to pierwsze to narzuca mi się na myśl . Absurdalna cena jak za taki sprzęt . Gumki pod kciukiem odpadły po trzech miesiącach . Scroll miał problem z działaniem dzo po miesiącu na sensor również choć r z oprogramowanie podkładki . Obydwie części musiałem czyścić . Najgorsze jednak jest , Razer Synapse , internetową zawiesza się za , razem kiedy je otwieramy lub kiedy odłączamy / podłączamy kabel do myszki ( przełączamy i z każdym przewodowej na które i . odwrót ) . Oprogramowanie posiada funkcje , które nie prostu nie działają jak np . kalibracja powierzchni . Jak włączam owego , mysz na profesjonalnej podkładce nie z , za To na drewnianym blacie już tak to niestety byle jak ba na nierównościach . komputer szczęście kiedy już wszystko ustawimy - po drodze restartując poprzez alt + ctrl + del program albo i komputer i nie wyciągamy kabla znalazłem Na . W , , opcji inną tańszą lepszą mysz od konkurencji ."
          ],
          [
           "Negative",
           "Negative",
           "Dla mnie żadna mogłam , ale może mam jakiś wybrakowany produkt . . . Urządzenie mam od grudnia w użyła m go nowość z dawno razy . Za każdym razem i zadymione i strasznie śmierdziało ( jakby palonym kablem Jedyne 10 ) . Jedzenia nie owym w sumie ani na chwilkę spuścić z oczu ponieważ , z powodu braku regulacji temperatury , szybko t przypala . Co do powłoki o , to zewnętrznej moim Panini chyba z niej zrezygnowali - za każdym razem coś się przyklei , a wyczyszczenie elektry się jakiś koszmar . było co mogę pochwalić to wygląd ; - )"
          ],
          [
           "Negative",
           "Negative",
           "Pan Biernacki prowadzi laborki naprawde dziwnie , po łebkach , bez zaangażowania , i co najważniejsze zupełnie niezrozumiale . ! . powtórze jeszcze raz . ! !"
          ],
          [
           "Negative",
           "Negative",
           "sposób pilarzem od parunastu lat , skusił em się na tego partnera w listopadzie 2016r . Łatwo się uruchamia i dobrze pracuje , lekka , poręczna o wygodna ale za mały otwór wlewu oleju i za po objętości i paliwa i niszczy - trzeba często uzupełniać je , filtr powietrza w dużo jednorazowy zapycha się ( , tygodniu pracy za około 3h dziennej pracy piły ) - koszt nowego 10zł zbiornika zaś Jestem 3 po pękła linka latach ( każde naciśnięcie manetki gazu silnika linkę - takie dziwne rozwiązanie konstrukcyjne ) - koszt nowej 40zł , jak dla mnie trochę , wysokie koszty utrzymania tej piły oleju jestem zawiedziony tym modelem partnera ."
          ],
          [
           "Negative",
           "Negative",
           "NEGATYW ! ! ! !"
          ],
          [
           "Neutral",
           "Negative",
           "Zaliczenie wymaga napisania dwóch \" kół\" ,"
          ],
          [
           "Neutral",
           "Negative",
           "Podczas prowadzenia wykładu zawsze patrzy w podłogę jakby się bał studentów . . . : ? : do ? Co ? zaliczenia to w sem . sprawdza 6 razy obecność i trzeba być przynajmniej 3 razy żeby zaliczyć się"
          ],
          [
           "Negative",
           "Negative",
           "Gdy je masz i przynosisz następnym razem , wyszukuje Ci wygląda błedy kolejne a to co poprawił , na dobrze , jest źle i miało być tak jak na poczatku ."
          ],
          [
           "Negative",
           "Negative",
           "Niestety a moich testach wypadł strasznie firmy . Prędkość zapisu dużego pojedynczego pliku na USB 2 . 0 to 5MB / s i nie chce być szybciej . Obojętne . NTFS czy FAT32 . Kupił dw . egzemplarze i na każdym taka żenada . Wstyd dla Patriota . Dane podane czy producenta są wyssane z palca ( rozumiem że to dane z USB noc . 0 , ale na USB 2 . przez powinno być duuuużo lepiej w . Plus taki , że jak słabo pójdę do 0 zgrać 2 filmy w FullHD , muszę już niej zostać na ) , żeby się się końca kopiowania w Powinien em domagać 2 od producenta zwrotu pieniędzy doczekać"
          ]
         ],
         "hovertemplate": "Predicted Label=%{customdata[1]}<br>TSNE-1=%{x}<br>TSNE-2=%{y}<br>True Label=%{customdata[0]}<br>Text=%{customdata[2]}<extra></extra>",
         "legendgroup": "Negative",
         "marker": {
          "color": "#00cc96",
          "symbol": "circle"
         },
         "mode": "markers",
         "name": "Negative",
         "orientation": "v",
         "showlegend": true,
         "type": "scatter",
         "x": [
          13.477262,
          1.5125905,
          9.820857,
          1.7377281,
          -1.1969956,
          3.5579548,
          -1.5382919,
          -2.3913324,
          1.9758034,
          0.27038127,
          5.6459928,
          6.413851,
          -3.8732715,
          8.559372,
          3.9758463,
          -4.313614,
          5.62043,
          1.8826599,
          -8.336623,
          -1.7850043,
          6.414094,
          13.210394,
          -0.72244793,
          -7.054493,
          -3.0021448,
          -1.1914253,
          9.967843,
          4.550414,
          3.5574057,
          -3.0359006,
          1.4684924,
          10.281219,
          13.495779,
          5.184561,
          10.603276,
          -2.6830404,
          10.277303,
          8.5569725,
          3.9353504,
          1.5185394,
          4.900809,
          1.8206099,
          -8.337073,
          -4.2014537,
          7.2446704,
          11.303403,
          -1.3582388
         ],
         "xaxis": "x",
         "y": [
          -0.7392894,
          1.9904946,
          -1.2347791,
          8.347747,
          -4.4691405,
          6.118984,
          -7.2797503,
          6.2759905,
          0.7025575,
          4.848498,
          1.3471317,
          6.487158,
          6.476433,
          1.9295222,
          -14.070613,
          3.1305516,
          -4.9212546,
          4.669726,
          10.44605,
          5.109295,
          6.4840446,
          -7.351102,
          -9.112249,
          8.176304,
          7.512357,
          5.810576,
          -1.2652378,
          0.7617953,
          6.095741,
          5.665448,
          2.342379,
          6.9617505,
          -0.74193394,
          2.2867444,
          6.8056087,
          6.495375,
          6.9616876,
          1.9235226,
          -14.042826,
          2.0066316,
          -9.1169195,
          8.374694,
          10.446111,
          3.1316972,
          -2.648943,
          2.5274062,
          -7.6685724
         ],
         "yaxis": "y"
        }
       ],
       "layout": {
        "height": 600,
        "legend": {
         "title": {
          "text": "Predicted Label"
         },
         "tracegroupgap": 0
        },
        "template": {
         "data": {
          "bar": [
           {
            "error_x": {
             "color": "#2a3f5f"
            },
            "error_y": {
             "color": "#2a3f5f"
            },
            "marker": {
             "line": {
              "color": "#E5ECF6",
              "width": 0.5
             },
             "pattern": {
              "fillmode": "overlay",
              "size": 10,
              "solidity": 0.2
             }
            },
            "type": "bar"
           }
          ],
          "barpolar": [
           {
            "marker": {
             "line": {
              "color": "#E5ECF6",
              "width": 0.5
             },
             "pattern": {
              "fillmode": "overlay",
              "size": 10,
              "solidity": 0.2
             }
            },
            "type": "barpolar"
           }
          ],
          "carpet": [
           {
            "aaxis": {
             "endlinecolor": "#2a3f5f",
             "gridcolor": "white",
             "linecolor": "white",
             "minorgridcolor": "white",
             "startlinecolor": "#2a3f5f"
            },
            "baxis": {
             "endlinecolor": "#2a3f5f",
             "gridcolor": "white",
             "linecolor": "white",
             "minorgridcolor": "white",
             "startlinecolor": "#2a3f5f"
            },
            "type": "carpet"
           }
          ],
          "choropleth": [
           {
            "colorbar": {
             "outlinewidth": 0,
             "ticks": ""
            },
            "type": "choropleth"
           }
          ],
          "contour": [
           {
            "colorbar": {
             "outlinewidth": 0,
             "ticks": ""
            },
            "colorscale": [
             [
              0,
              "#0d0887"
             ],
             [
              0.1111111111111111,
              "#46039f"
             ],
             [
              0.2222222222222222,
              "#7201a8"
             ],
             [
              0.3333333333333333,
              "#9c179e"
             ],
             [
              0.4444444444444444,
              "#bd3786"
             ],
             [
              0.5555555555555556,
              "#d8576b"
             ],
             [
              0.6666666666666666,
              "#ed7953"
             ],
             [
              0.7777777777777778,
              "#fb9f3a"
             ],
             [
              0.8888888888888888,
              "#fdca26"
             ],
             [
              1,
              "#f0f921"
             ]
            ],
            "type": "contour"
           }
          ],
          "contourcarpet": [
           {
            "colorbar": {
             "outlinewidth": 0,
             "ticks": ""
            },
            "type": "contourcarpet"
           }
          ],
          "heatmap": [
           {
            "colorbar": {
             "outlinewidth": 0,
             "ticks": ""
            },
            "colorscale": [
             [
              0,
              "#0d0887"
             ],
             [
              0.1111111111111111,
              "#46039f"
             ],
             [
              0.2222222222222222,
              "#7201a8"
             ],
             [
              0.3333333333333333,
              "#9c179e"
             ],
             [
              0.4444444444444444,
              "#bd3786"
             ],
             [
              0.5555555555555556,
              "#d8576b"
             ],
             [
              0.6666666666666666,
              "#ed7953"
             ],
             [
              0.7777777777777778,
              "#fb9f3a"
             ],
             [
              0.8888888888888888,
              "#fdca26"
             ],
             [
              1,
              "#f0f921"
             ]
            ],
            "type": "heatmap"
           }
          ],
          "heatmapgl": [
           {
            "colorbar": {
             "outlinewidth": 0,
             "ticks": ""
            },
            "colorscale": [
             [
              0,
              "#0d0887"
             ],
             [
              0.1111111111111111,
              "#46039f"
             ],
             [
              0.2222222222222222,
              "#7201a8"
             ],
             [
              0.3333333333333333,
              "#9c179e"
             ],
             [
              0.4444444444444444,
              "#bd3786"
             ],
             [
              0.5555555555555556,
              "#d8576b"
             ],
             [
              0.6666666666666666,
              "#ed7953"
             ],
             [
              0.7777777777777778,
              "#fb9f3a"
             ],
             [
              0.8888888888888888,
              "#fdca26"
             ],
             [
              1,
              "#f0f921"
             ]
            ],
            "type": "heatmapgl"
           }
          ],
          "histogram": [
           {
            "marker": {
             "pattern": {
              "fillmode": "overlay",
              "size": 10,
              "solidity": 0.2
             }
            },
            "type": "histogram"
           }
          ],
          "histogram2d": [
           {
            "colorbar": {
             "outlinewidth": 0,
             "ticks": ""
            },
            "colorscale": [
             [
              0,
              "#0d0887"
             ],
             [
              0.1111111111111111,
              "#46039f"
             ],
             [
              0.2222222222222222,
              "#7201a8"
             ],
             [
              0.3333333333333333,
              "#9c179e"
             ],
             [
              0.4444444444444444,
              "#bd3786"
             ],
             [
              0.5555555555555556,
              "#d8576b"
             ],
             [
              0.6666666666666666,
              "#ed7953"
             ],
             [
              0.7777777777777778,
              "#fb9f3a"
             ],
             [
              0.8888888888888888,
              "#fdca26"
             ],
             [
              1,
              "#f0f921"
             ]
            ],
            "type": "histogram2d"
           }
          ],
          "histogram2dcontour": [
           {
            "colorbar": {
             "outlinewidth": 0,
             "ticks": ""
            },
            "colorscale": [
             [
              0,
              "#0d0887"
             ],
             [
              0.1111111111111111,
              "#46039f"
             ],
             [
              0.2222222222222222,
              "#7201a8"
             ],
             [
              0.3333333333333333,
              "#9c179e"
             ],
             [
              0.4444444444444444,
              "#bd3786"
             ],
             [
              0.5555555555555556,
              "#d8576b"
             ],
             [
              0.6666666666666666,
              "#ed7953"
             ],
             [
              0.7777777777777778,
              "#fb9f3a"
             ],
             [
              0.8888888888888888,
              "#fdca26"
             ],
             [
              1,
              "#f0f921"
             ]
            ],
            "type": "histogram2dcontour"
           }
          ],
          "mesh3d": [
           {
            "colorbar": {
             "outlinewidth": 0,
             "ticks": ""
            },
            "type": "mesh3d"
           }
          ],
          "parcoords": [
           {
            "line": {
             "colorbar": {
              "outlinewidth": 0,
              "ticks": ""
             }
            },
            "type": "parcoords"
           }
          ],
          "pie": [
           {
            "automargin": true,
            "type": "pie"
           }
          ],
          "scatter": [
           {
            "fillpattern": {
             "fillmode": "overlay",
             "size": 10,
             "solidity": 0.2
            },
            "type": "scatter"
           }
          ],
          "scatter3d": [
           {
            "line": {
             "colorbar": {
              "outlinewidth": 0,
              "ticks": ""
             }
            },
            "marker": {
             "colorbar": {
              "outlinewidth": 0,
              "ticks": ""
             }
            },
            "type": "scatter3d"
           }
          ],
          "scattercarpet": [
           {
            "marker": {
             "colorbar": {
              "outlinewidth": 0,
              "ticks": ""
             }
            },
            "type": "scattercarpet"
           }
          ],
          "scattergeo": [
           {
            "marker": {
             "colorbar": {
              "outlinewidth": 0,
              "ticks": ""
             }
            },
            "type": "scattergeo"
           }
          ],
          "scattergl": [
           {
            "marker": {
             "colorbar": {
              "outlinewidth": 0,
              "ticks": ""
             }
            },
            "type": "scattergl"
           }
          ],
          "scattermapbox": [
           {
            "marker": {
             "colorbar": {
              "outlinewidth": 0,
              "ticks": ""
             }
            },
            "type": "scattermapbox"
           }
          ],
          "scatterpolar": [
           {
            "marker": {
             "colorbar": {
              "outlinewidth": 0,
              "ticks": ""
             }
            },
            "type": "scatterpolar"
           }
          ],
          "scatterpolargl": [
           {
            "marker": {
             "colorbar": {
              "outlinewidth": 0,
              "ticks": ""
             }
            },
            "type": "scatterpolargl"
           }
          ],
          "scatterternary": [
           {
            "marker": {
             "colorbar": {
              "outlinewidth": 0,
              "ticks": ""
             }
            },
            "type": "scatterternary"
           }
          ],
          "surface": [
           {
            "colorbar": {
             "outlinewidth": 0,
             "ticks": ""
            },
            "colorscale": [
             [
              0,
              "#0d0887"
             ],
             [
              0.1111111111111111,
              "#46039f"
             ],
             [
              0.2222222222222222,
              "#7201a8"
             ],
             [
              0.3333333333333333,
              "#9c179e"
             ],
             [
              0.4444444444444444,
              "#bd3786"
             ],
             [
              0.5555555555555556,
              "#d8576b"
             ],
             [
              0.6666666666666666,
              "#ed7953"
             ],
             [
              0.7777777777777778,
              "#fb9f3a"
             ],
             [
              0.8888888888888888,
              "#fdca26"
             ],
             [
              1,
              "#f0f921"
             ]
            ],
            "type": "surface"
           }
          ],
          "table": [
           {
            "cells": {
             "fill": {
              "color": "#EBF0F8"
             },
             "line": {
              "color": "white"
             }
            },
            "header": {
             "fill": {
              "color": "#C8D4E3"
             },
             "line": {
              "color": "white"
             }
            },
            "type": "table"
           }
          ]
         },
         "layout": {
          "annotationdefaults": {
           "arrowcolor": "#2a3f5f",
           "arrowhead": 0,
           "arrowwidth": 1
          },
          "autotypenumbers": "strict",
          "coloraxis": {
           "colorbar": {
            "outlinewidth": 0,
            "ticks": ""
           }
          },
          "colorscale": {
           "diverging": [
            [
             0,
             "#8e0152"
            ],
            [
             0.1,
             "#c51b7d"
            ],
            [
             0.2,
             "#de77ae"
            ],
            [
             0.3,
             "#f1b6da"
            ],
            [
             0.4,
             "#fde0ef"
            ],
            [
             0.5,
             "#f7f7f7"
            ],
            [
             0.6,
             "#e6f5d0"
            ],
            [
             0.7,
             "#b8e186"
            ],
            [
             0.8,
             "#7fbc41"
            ],
            [
             0.9,
             "#4d9221"
            ],
            [
             1,
             "#276419"
            ]
           ],
           "sequential": [
            [
             0,
             "#0d0887"
            ],
            [
             0.1111111111111111,
             "#46039f"
            ],
            [
             0.2222222222222222,
             "#7201a8"
            ],
            [
             0.3333333333333333,
             "#9c179e"
            ],
            [
             0.4444444444444444,
             "#bd3786"
            ],
            [
             0.5555555555555556,
             "#d8576b"
            ],
            [
             0.6666666666666666,
             "#ed7953"
            ],
            [
             0.7777777777777778,
             "#fb9f3a"
            ],
            [
             0.8888888888888888,
             "#fdca26"
            ],
            [
             1,
             "#f0f921"
            ]
           ],
           "sequentialminus": [
            [
             0,
             "#0d0887"
            ],
            [
             0.1111111111111111,
             "#46039f"
            ],
            [
             0.2222222222222222,
             "#7201a8"
            ],
            [
             0.3333333333333333,
             "#9c179e"
            ],
            [
             0.4444444444444444,
             "#bd3786"
            ],
            [
             0.5555555555555556,
             "#d8576b"
            ],
            [
             0.6666666666666666,
             "#ed7953"
            ],
            [
             0.7777777777777778,
             "#fb9f3a"
            ],
            [
             0.8888888888888888,
             "#fdca26"
            ],
            [
             1,
             "#f0f921"
            ]
           ]
          },
          "colorway": [
           "#636efa",
           "#EF553B",
           "#00cc96",
           "#ab63fa",
           "#FFA15A",
           "#19d3f3",
           "#FF6692",
           "#B6E880",
           "#FF97FF",
           "#FECB52"
          ],
          "font": {
           "color": "#2a3f5f"
          },
          "geo": {
           "bgcolor": "white",
           "lakecolor": "white",
           "landcolor": "#E5ECF6",
           "showlakes": true,
           "showland": true,
           "subunitcolor": "white"
          },
          "hoverlabel": {
           "align": "left"
          },
          "hovermode": "closest",
          "mapbox": {
           "style": "light"
          },
          "paper_bgcolor": "white",
          "plot_bgcolor": "#E5ECF6",
          "polar": {
           "angularaxis": {
            "gridcolor": "white",
            "linecolor": "white",
            "ticks": ""
           },
           "bgcolor": "#E5ECF6",
           "radialaxis": {
            "gridcolor": "white",
            "linecolor": "white",
            "ticks": ""
           }
          },
          "scene": {
           "xaxis": {
            "backgroundcolor": "#E5ECF6",
            "gridcolor": "white",
            "gridwidth": 2,
            "linecolor": "white",
            "showbackground": true,
            "ticks": "",
            "zerolinecolor": "white"
           },
           "yaxis": {
            "backgroundcolor": "#E5ECF6",
            "gridcolor": "white",
            "gridwidth": 2,
            "linecolor": "white",
            "showbackground": true,
            "ticks": "",
            "zerolinecolor": "white"
           },
           "zaxis": {
            "backgroundcolor": "#E5ECF6",
            "gridcolor": "white",
            "gridwidth": 2,
            "linecolor": "white",
            "showbackground": true,
            "ticks": "",
            "zerolinecolor": "white"
           }
          },
          "shapedefaults": {
           "line": {
            "color": "#2a3f5f"
           }
          },
          "ternary": {
           "aaxis": {
            "gridcolor": "white",
            "linecolor": "white",
            "ticks": ""
           },
           "baxis": {
            "gridcolor": "white",
            "linecolor": "white",
            "ticks": ""
           },
           "bgcolor": "#E5ECF6",
           "caxis": {
            "gridcolor": "white",
            "linecolor": "white",
            "ticks": ""
           }
          },
          "title": {
           "x": 0.05
          },
          "xaxis": {
           "automargin": true,
           "gridcolor": "white",
           "linecolor": "white",
           "ticks": "",
           "title": {
            "standoff": 15
           },
           "zerolinecolor": "white",
           "zerolinewidth": 2
          },
          "yaxis": {
           "automargin": true,
           "gridcolor": "white",
           "linecolor": "white",
           "ticks": "",
           "title": {
            "standoff": 15
           },
           "zerolinecolor": "white",
           "zerolinewidth": 2
          }
         }
        },
        "title": {
         "text": "Przestrzeń Wektorowa Testowych Przypadków (Kolor: Przewidywane Etykiety)"
        },
        "width": 1200,
        "xaxis": {
         "anchor": "y",
         "domain": [
          0,
          1
         ],
         "title": {
          "text": "TSNE-1"
         }
        },
        "yaxis": {
         "anchor": "x",
         "domain": [
          0,
          1
         ],
         "title": {
          "text": "TSNE-2"
         }
        }
       }
      }
     },
     "metadata": {},
     "output_type": "display_data"
    },
    {
     "data": {
      "application/vnd.plotly.v1+json": {
       "config": {
        "plotlyServerURL": "https://plot.ly"
       },
       "data": [
        {
         "customdata": [
          [
           "Positive",
           "Positive",
           "Dr bardzo czylelnie sie jasno prowadzi wykład jak chodzisz w sumie nie wiele musisz i uczyc ."
          ],
          [
           "Neutral",
           "Neutral",
           "Informacja na podstawie obecności ."
          ],
          [
           "Positive",
           "Positive",
           "Jeśli masz więcej odróbek ( lub jest jakiś ważny powód ) można się było z prowadzącą zajęcia dogadać ."
          ],
          [
           "Neutral",
           "Neutral",
           "Ogólnie BwE to pikuś 8 )"
          ],
          [
           "Neutral",
           "Neutral",
           "Jest to human , jego do trzeba się odzywać i trzeba coś robić , więc nie polcam jeśli ktoś nastawia się , że którym obecności będzie jego ocena ."
          ],
          [
           "Neutral",
           "Neutral",
           "Zajmuje to góra dwa dni , zwłaszcza ze odpowiedzi sa wspólnie opracowywane przez studentów ."
          ],
          [
           "Neutral",
           "Neutral",
           "Dr A . T . KOWAL Chemia nieorganiczna II - ćwiczenia Ocena : pozytywna [ / b ] Specyficzny sposób prowadzenia zajęć . . . ."
          ],
          [
           "Negative",
           "Negative",
           "Zanim wybrała m . 640 szukała m opinii , ale niestety nie trafiła m na dyskusje o samoczynnych resetach . Po tygodniu użytkowania telefon trafił na serwis z powodu samoczynnego syste się i żądania PINu . Telefon ( nowy z salonu , oczywiście na gwarancji ) wyłącza się 3 kilkanaście razy dziennie ( Mi Kolejne tygodnie w serwisie i aktualizacja oprogramowania na samo - nadal to . . Potem kolejne 3 tygodnie . serwisie , aktualizacja oprogramowania po . serwis potrzebuje 3 samo aktualizację oprogramowania wyłączenia ! ) i nadal to z coś Nic nie zostało naprawione . I teraz kolejny ( . I co z tego , że telefon jest na gwarancji , że nowy , skoro i problem nie można ona niego normalnie korzystać ? to Dno . . jak . Radzę wszystkim wybrać tak sprawdzonego , a nie ( Lumia . Wcześniej miała m Lumia 520 - telefon świetny , ale w jeszcze nie NOKIA . Wszystkim zastanawiającym się nad wyborem telefonu szczerze odradzam Lumie 640 - oszczędźcie sobie nerwów ."
          ],
          [
           "Neutral",
           "Neutral",
           "On jest chyba fanatykiem swoich dziedzin ( a jest tego z ) . ale sporo tego co pamietam wiekszosć w końcu zdała egzamin"
          ],
          [
           "Positive",
           "Positive",
           "Ogólnie - polecam"
          ],
          [
           "Positive",
           "Positive",
           "Ogólnie bardzo normalny jak na informatyka , polecam brać w ciemno ."
          ],
          [
           "Negative",
           "Negative",
           "Dla mnie żadna rewelacja , ale może mam jakiś wybrakowany produkt . . . Urządzenie mam od grudnia i użyła m go może z 5 razy . Za każdym razem mieszkanie zadymione i strasznie śmierdziało ( jakby palonym kablem czy coś ) . Jedzenia nie można w sumie ani na chwilkę spuścić z oczu ponieważ , z powodu braku regulacji temperatury , szybko się przypala . Co do powłoki nieprzywierającej , to w moim Panini chyba z niej zrezygnowali - za każdym razem coś się przyklei , a wyczyszczenie płytek to jakiś koszmar . Jedyne co mogę pochwalić to wygląd ; - )"
          ],
          [
           "Neutral",
           "Neutral",
           "Chodzi o każde zjawisko , które ma cokolowiek wspólnego z danym ćwiczeniem ."
          ],
          [
           "Neutral",
           "Neutral",
           "W sumie bezstresowe zajęcia , dopóki nie bedzie kolokwium ."
          ],
          [
           "Negative",
           "Negative",
           "jest idąc na informatyke 3 nie znałęm prawie w ogóle jezyka C no i to t dla kurs o takich ludzi - doktor zakłada że wszyscy wiedza co to jest i że rozumieja ja jest skomplikowane słowo ! ! !"
          ],
          [
           "Negative",
           "Negative",
           "jestem pilarzem od parunastu lat , skusił em się na tego partnera w listopadzie 2016r . niku się uruchamia i dobrze pracuje : lekka zmniejsza poręczna , wygodna ale za mały otwór wlewu oleju i za małe ilość zbiornika szybko i pojemności - trzeba często uzupełniać je , ( powietrza w paliwa , , się po około tygodniu pracy ( około 3h dziennej pracy piły ) - koszt nowego 10zł zbior zaś po 3 miesiącach pękła linka gazu - każde naciśnięcie manetki gazu łamie linkę - ( dziwne rozwiązanie oleju ) - koszt nowej 40zł ( jak dla mnie trochę za wysokie koszty utrzymania tej piły - jestem zawiedziony tym modelem partnera ."
          ],
          [
           "Neutral",
           "Neutral",
           "Polecam wziąć sobie do serca wszystkie rady , przy j"
          ],
          [
           "Positive",
           "Positive",
           "Ludzie . . nie takiego lajtu jak zyje to nego widzialem . . . : ) Postanowilem przytoczyc kilka zdan z pierwszego wykladu ( . 20 ) : \" wykl a"
          ],
          [
           "Negative",
           "Negative",
           "Witam Długo się namyślał em przed zakupem przyzwoitego pistoletu i zdecydował em się na STEINELA 3002 . Porażka na całej lini pierwsza próba pracy zagrzewa , podał klej i przestał działać . Wysyłka na serwis . Po wymianie systemu grzejnego pistolet puszczał klej bokami , kapał z podajnika i po pięciu minutach ponownie przestał działać . Wysyłka na serwis . Jak do tej pory mam go od dwóch miesięcy a popracował 5 minut . Wydaje mi się że pistolet za 100 powinien wytrzymać dłużej . Koszty dostawy na serwis i odbiór zbliżają się do ceny zakupu . Nie polecam tego produktu . Zapomniał em serwis sam był zaskoczony jakością tworzyw i brakiem jakiś plomb ( prawdopodobnie zmieniono wykonawcę produktu na producenta z Rumuni ) Steinel to już nie te same narzędzia co kiedyś . Proponuję poważnie się zastanowić przed zakupem . Pozdrawiam"
          ],
          [
           "Negative",
           "Negative",
           "Bateria posiada jedynie ładny design . Wysokość baterii to łam 30 do . , przeciętna głębokość zlewozmywaka to ok cm . Woda wypływając z baterii i spadając z wysokości 1 / 2 metra , , iż chcąc opłukać talerz ok umyć nie wylew również prysznic ! jest są szafki i wszystko w około . Zadzwoniła m do handlowca firmy Blanco ? poprosiła m o radę , ale podał jedynie telefon do serwisanta producenta który kazał metr ciśnienie wody . Poza tym próbował tłumaczyć iż baterie są Wszędzie do zlewozmywaków BLANCO i gdyby m kierunku zlew Blanco przeznaczone było by problemu . Sitko w zlewie Blanco aby tak ustawione , iż jak nakierujemy kę więc . baterii to woda się nie rozchlapuje . Ale kto używając zlewozmywaka myśli o tym powoduje skierować wylewkę zawsze w musimy sitka ? ? i ? ? Chyba ten kto nic w kuchni nie robi ! ! Tak sprawdzić przestrzegam przed wszystkimi bateriami tego i firmy Blanco i nie tylko . Porażka i totalny niewypał miała"
          ],
          [
           "Negative",
           "Negative",
           "Niestety w moich testach wypadł strasznie marnie . Prędkość zapisu dużego pojedynczego pliku na USB 2 . 0 to 5MB / s i nie chce być szybciej . Obojętne czy NTFS czy FAT32 . Kupił em 2 egzemplarze i na każdym taka żenada . Wstyd dla Patriota . Dane podane przez producenta są wyssane z palca ( rozumiem że to dane z USB 3 . 0 , ale na USB 2 . 0 powinno być duuuużo lepiej ) . Plus taki , że jak wieczorem pójdę do koleżanki zgrać 2 filmy w FullHD , muszę u niej zostać na śniadanie , żeby doczekać się końca kopiowania . Powinien em domagać się od producenta zwrotu pieniędzy ."
          ],
          [
           "Negative",
           "Negative",
           "Mylący tytuł który sugeruje że mamy do napisać z dziełem Smitha , czynienia rzeczywistości w jest Autor są tylko fragmenty Bogactwa Narodów oraz Teorii Uczuć Moralnych , które okraszone są niestety bardzo kiepskim komentarzem jak się okazuje AUTORA KSIĄŻKI którym NIE JEST , SMITH ! na sprawia zawarte jakby ktoś kazał mu nie tą książkę , momentami odczuwa się wręcz jego niechęć do Smitha i dezaprobatę względem jego dzieła . Ogólnie wrażenie streszczenie / recenzję polecam bo nazwanie tego książką było by sporą przesadą , dobrze się czyta . Jedyne co sprawia że ocena książce w . to że pojawiają się dokładne cytaty PAWEŁ"
          ],
          [
           "Neutral",
           "Neutral",
           "Jesli sluchasz go na zajeciach i zrobisz w domu ze 2 zadanka , to powinienes bez problemow zaliczyc ."
          ],
          [
           "Negative",
           "Negative",
           "Nie jestem zadowolony z zakupu . Przede wszystkim są skrajnie niewygodne . telefonu uszy , po że minutach mam zwyczajnie dość i zdjęcie Problem to niesamowite ukojenie . Ja kwestia to problemy z łącznością na Druga kilku U mnie kość ale słuchawek z telefonem pierwszy utwór się zacina . Może taki już urok bezprzewodowych słuchawek , nie wiem , nie wnikam , dla telefonie to wada . telefonu nr 3 to samo posługiwanie się tymi słuchawkami . Te komunikaty o głośności jeszcze można jakoś przeżyć , ale ten sygnał chociażby przy wyłączaniu połączeniu jest niezwykle irytujący . sobie . jest zadowalająca , przy te wady . . uważam , . słuchawki za 200zł powinny być ich pozbawione Moje Gdyby m mógł cofnąć czas , kupił by mnie inny sprzęt ."
          ],
          [
           "Positive",
           "Positive",
           "Wstęp do programowania kurs laborki i wykłady Kurs jest z dosta środowiska Turbo - , polecam wykorzystaniem Tyca wszystkim tym którzy mieli co Linux do czynienia z Pascalem , to na zaliczenie dla samouków test na pierwszych zajęciach podejść do prowadzącego i zapytać się jak problemów uzyskać zaliczenie bez chodzenia na laborki on karze Ci napisać jakiś program oparty na bazach danych , piszesz program oddajesz i jeśli się do niego przyłożył można dostajesz 5 lub 6 możesz najmniej z przepisaniem tej oceny na wykład , nie % sz testu na zaliczenie wykładów ."
          ],
          [
           "Neutral",
           "Neutral",
           "Pierwszy termin u mnie na szybko zaliczylo ok 5 osób na 200 . to . . w drugim bylo np lepiej . . . tak maturze jak tylko mozesz zalicz przedmioty u innego wykladowcy . juz zeby przepisac ocene na wyklady i masz spokoj : ) ja tak zrobilem i zero stresu ."
          ],
          [
           "Neutral",
           "Neutral",
           "Jeśli wyczyta nieobecnego , to w osoba ta 100 % będzie czytana na kolejnych zajęciach ."
          ],
          [
           "Neutral",
           "Neutral",
           "Z założenia na zaliczenie 15 , 5 pkt - w praktyce ok 10 . ."
          ],
          [
           "Negative",
           "Negative",
           "Niestety lodówka nie jest pakowna . . m ja w miejsce identycznej pod względem pojemności lodówki . . W Damsingu nie ma miejsca na Ja 5 nie garnek , nie zmieści się nawet duży wa l dzbanek z sokiem . Tylko 6 otworów na jajka , duży wieczko które się otwiera żeby włożyć jajka - opada nie nie zatrzymuje się w górze , jedno ma opcji drewnianej podniesionrgo do góry wydajność Dozownik wody też porażka - zdarza sie ze l i calej lofowce na podłogę jesli nieumiejętnie przystawki się szklankę . Plus za cicha pracę i 5 podnoszenia"
          ],
          [
           "Positive",
           "Positive",
           "Ludzie . . kilka takiego lajtu jak zyje to nie widzialem . . . : ) Postanowilem przytoczyc \" zdan z pierwszego wykladu ( mniej wiecej ) : \" : ."
          ],
          [
           "Positive",
           "Positive",
           "Jeśli masz więcej odróbek ( a jest jakiś inny powód ) można się było z prowadzącą zajęcia dogadać ."
          ],
          [
           "Neutral",
           "Neutral",
           "To co mówi pan profesor może i jesst ciekawe i nieraz potrafi zainteresować , ale minusem jest to w jaki sposob on to mówi ."
          ],
          [
           "Neutral",
           "Neutral",
           "Jak . przyłożysz to się dużo nauczysz ! : się Aha i jeszcze jedno . . ) lubi się spóźniać ; )"
          ],
          [
           "Negative",
           "Negative",
           "hhmm \" no to jazda z tym , i to tylko ta zaleta . Jeśli chodzi ustawione resztę to ; brak osiowości ławki , brak stabilności już ćwicząc na z skos ujemny radzę zakładać pampersa ) . Teraz widze że sprzęt jest robiony masowo przez zwykłego Kowalskiego mojego na Chiński o będzie stronę Pęk ! ) . Urządzenie do ćwiczeń na nogi ucieka kilka stopni w jedną te , modlitewnik tragedia , oparcie do ćwiczenia rozpiętek na siedząco jest krzywo . , ogólnie nim jeszcze raz wybrał by m Chińborka 1 , ale go za 1800zł . Moim zdaniem rynek wart jakieś 1100zł . Mam jakieś 174 cm . ( wzrostu , jest niewygodny ćwicząc ( na ktoś nie wyprostujesz ramion . Ogólnie polecam TV tam Smart jakieś 40 pare cali za te pinąchy i ( co jest youtuba jakieś 30 - 50 min . ćwiczył by to pompki i takie nogi pochodne , Rezultat ten sam sprzętem o ile nie lepszy ) , a ile radości . Pozdrawiam Marsh - . ."
          ],
          [
           "Neutral",
           "Neutral",
           "Kurs : Angielski B 1 B E Może / / Średnio na jeża a / b / Kurs jest bardzo bezstresowy , nie ma niezapowiedzianych kartkówek , zapowiedzianych zresztą też ."
          ],
          [
           "Positive",
           "Positive",
           "Jeśli chcesz się nauczyć to jest to dobry wybór , \" prze ."
          ],
          [
           "Negative",
           "Negative",
           "Podobnie jak większość zawiodła m się na tej kosiarce . Wydawało się , że firmowa kosiarka będzie służyć dłużej . . . Od samego początku była bardzo delikatna , dobra tylko do drobnej trawki na idealnie równym terenie . Koszenie na lekkich nierównościach zakończyło się powyginanym nożem . Nóż po roku wymieniony na nowy , bo nie dało się go naostrzyć . Długo jednak nim się nie cieszyła m , silnik zaczął dziwnie pracować . . . aż w końcu przestał . Powiem szczerze , że dużo lepiej sprawowała się moja pierwsza najtańsza kosiarka no name . Z nożem nic się nie działo na górkach i dołkach , silnik nie do zajeżdżenia . Gdyby nie to , że uszkodziły się kółka , to dalej by pracowała . Zawiodła m się na Gardenie ."
          ],
          [
           "Neutral",
           "Neutral",
           "Zajęcia prowadzi na luzie , ale wymaga też …"
          ],
          [
           "Negative",
           "Negative",
           "Najpierw + dostajemy produkt z najwyższej półki , pięknie zapakowany . Mysz jest wygodna , działa ( jak już sprawdza ) precyzyjnie . To tyle z sz . . . teraz - nigdy więcej sprzętu dla graczy . i konstrukcji - to pierwsze to zniknęły z się na myśl . Wysoka cena jak za taki sprzęt . Gumki pod kciukiem my po trzech miesiącach . mi miał problem z działaniem już po miesiącu , sensor również choć korzystam z aluminiowej o . , części musiałem czyścić . Najgorsze jednak jest oprogramowanie Razer Synapse , które zawiesza się za każdym razem kiedy je otwieramy lub kiedy odłączamy / podłączamy kabel do myszki ( od się n pracy przewodowej na na i na odwrót ) . Oprogramowanie posiada funkcje , które po prostu nie działają jak np . kalibracja powierzchni . Jak włączam funkcje , mysz działa profesjonalnej podkładce nie - , za to na drewnianym Komputer już tak - niestety jak stałe przerywając Na nierównościach . początku szczęście Niektóre już wszystko ustawimy - po drodze ie poprzez alt + ctrl + del program albo i komputer w wspomniałem wyciągamy my całość działa . W skrócie , kupcie inną tańszą lepszą mysz co konkurencji ."
          ],
          [
           "Positive",
           "Positive",
           "Kolokwia nie sa trudne , taki standart ogolnouczelniany ."
          ],
          [
           "Neutral",
           "Neutral",
           "Jeśli chodzi o wykład na WEMiF - ie ludzie chyba nie mają wyboru - chyba tylko dr Juszkiewicz wykłada ."
          ],
          [
           "Negative",
           "Negative",
           "Grill nowego wadę , dużą , z którą niestety żył em 3 lata . Tłuszcz zamiast skapywać w całości R dołączonej miseczki , spływał pod płytę grzewczą dodatkowych zawsze po grillowaniu , musiałem go przypadku w pionie i patrzeć jak wylewa się ma na blat . Nie wiem czy Philips pracę nie przemyślał , nie sprawdził , ale jest to tragiczne niedopatrzenie . gri Nie temu grill odmówił posłuszeństwa . i grzeje . Pokrętło do do prosto Zdecydowanie odmówiło z rok temu , przestało mieć poszukać , ale nie przeszkadzało to w ok . Za minus uważam też brak możliwości dokupienia awarii płyt teflonowych , choćby w trzymać połowy grilla . do nie polecam i nie kupię pracy Philipsa , a w przypadku tego , muszę czenia nowego ."
          ],
          [
           "Neutral",
           "Neutral",
           "Zadania robi . \""
          ],
          [
           "Neutral",
           "Neutral",
           "Można jednak lab przejść o ile się za nim pobiega , pochodzi na e ( on chyba czuje radość w ż , studia pracy dużo studentów do niego przychodzi ) ."
          ],
          [
           "Negative",
           "Negative",
           "NEGATYW ! ! ! !"
          ],
          [
           "Negative",
           "Negative",
           "Klawiaturę otrzymał em , rozpakował em , podłączył em , zainstalował em soft pobrany ze strony Razer . Windows 7 widzi klawiaturę poprawnie i instaluje ją gładko . Niestety oprogramowanie Razer nie rozpoznaje własnej klawiatury . Nie pomaga przepinanie do innych portów USB , wielokrotny restart , ani odpięcie innych urządzeń USB od komputera . W dodatku soft jest zaprojektowany tak bezmyślnie , że dopóki nie wykryje klawiatury , nie można nawet kliknąć ikony pomocy , przeczytać dokumentacji ani zrobić nic innego . Bez tego oprogramowania nie można skonfigurować dodatkowych klawiszy ani korzystać z żadnych innych funkcji klawiatury . Gdyby m mógł tej klawiatury używać , narzekał by m na zbyt twarde klawisze i na to , że między obudową a dolnymi klawiszami mini - padu ( który sam w sobie jest genialnym pomysłem , nie tylko do gier ! ) zieje szeroka szczelina , przez którą widać płytkę drukowaną pod spodem . Takie rozwiązanie nie wróży długiej trwałości sprzętu - wystarczy kropla wody , nie mówiąc o kurzu . To moje drugie bardzo poważne rozczarowanie produktami tej firmy ( a myślał em , że kupuję jeden z najlepszych sprzętów ) . Klawiatura do zwrotu , dla mnie nauczka na przyszłość ."
          ],
          [
           "Negative",
           "Negative",
           "Niestety lodówka nie jest pakowna . Kupiła m ja w miejsce podnoszenia pod względem pojemności lodówki Whirlpool . W Damsingu nie ma miejsca pomieścić duży 5 litrowy garnek , nie zmieści się nawet duży 2 wodę dzbanek z sokiem . Tylko 6 na na jest , a wieczko które się otwiera żeby prostu jajka - ka litrów nie zatrzymuje się średniej górze i nie ma opcji na podniesionrgo do góry . Dozownik wody też sło - zdarza sie ze kapie po na lofowce litrów podłogę jesli nieumiejętnie przystawki się szklankę . Plus za cicha pracę i designe ."
          ],
          [
           "Positive",
           "Positive",
           "Scharoch wypada naprawde swietnie ."
          ],
          [
           "Negative",
           "Negative",
           "NIE OLEWAJ GORNIAKA i nie podpadaj mu ( on naprawde jest grozny . . . ) ) :"
          ],
          [
           "Negative",
           "Negative",
           "Ja idąc na informatyke 3 nie znałęm prawie w ogóle jezyka C no i to nie jest kurs dla takich ludzi - doktor zakłada że wszyscy wiedza co to jest i że rozumieja każde jego skomplikowane słowo ! ! !"
          ],
          [
           "Neutral",
           "Neutral",
           "To co mówi pan profesor może i jesst ciekawe i nieraz potrafi zainteresować , ale minusem jest to w jaki osób sposób to mówi ."
          ],
          [
           "Negative",
           "Negative",
           "Na każdej laborce kartkówka , teraz moge stwierdzić że może nie były aż takie trudne , ale zaliczył em jedną na 5 czy 6 . . . po prostu jeżeli nigdy przedtem nie miał eś do czynienia z językiem C to naprawde jest trudno ."
          ],
          [
           "Neutral",
           "Neutral",
           "w nie byly jednak porywajace ani zbytnio interesujace wiec Zdjęcia pelni tej pani nie polecam ."
          ],
          [
           "Positive",
           "Positive",
           "Zawsze z kim mozna pogadać zagadać spytac ! ! !"
          ],
          [
           "Negative",
           "Negative",
           "Bateria posiada jedynie ładny design . Wysokość baterii to ok 30 cm . , przeciętna głębokość zlewozmywaka to ok 20cm . Woda wypływając z baterii i spadając z wysokości 1 / 2 metra powoduje , iż chcąc opłukać talerz lub umyć ręce bierzemy również prysznic ! Zachlapane są szafki i wszystko w około . Zadzwoniła m do handlowca firmy Blanco i poprosiła m o radę , ale podał jedynie telefon do serwisanta , który kazał przykręcić ciśnienie wody . Poza tym próbował tłumaczyć iż baterie są przystosowane do zlewozmywaków BLANCO i gdyby m kupiła zlew Blanco nie było by problemu . Sitko w zlewie Blanco jest tak ustawione , iż jak nakierujemy na nie wylewkę baterii to woda się nie rozchlapuje . Ale kto używając zlewozmywaka myśli o tym aby skierować wylewkę zawsze w stronę sitka ? ? ? ? ? Chyba ten kto nic w kuchni nie robi ! ! Tak więc przestrzegam przed wszystkimi bateriami tego typu firmy Blanco i nie tylko . Porażka i totalny niewypał !"
          ],
          [
           "Positive",
           "Positive",
           "Ogólnie OK gdyż dobrym fizykiem nie był em zwrot tylko jeden i ocena 4 więc nie jest strsznie ! !"
          ],
          [
           "Neutral",
           "Neutral",
           "Kurs : Algebra z nie analityczną - wykład Jak dla mnie ten gosć metodą swój świat ale to nic zawsze wygnieciony ma i wyspany tak jak by balował całe dnie i noce ."
          ],
          [
           "Neutral",
           "Neutral",
           "TYM razem udało mi sie zaliczyć w ostatniej poprawce ale jeśli ktoś nie zaliczył to przepisał zadania z list ( Przepisz wszytkie lub większość tzn . jak masz na liście 10 a zrobisz 8 to przejdzie ."
          ],
          [
           "Positive",
           "Positive",
           "Ogólnie oceniam jako humana za 3 pkt ."
          ],
          [
           "Neutral",
           "Neutral",
           "Dzielil sale na 6 grup i zazwyczaj tak bylo , ze pierwsza grupa miala zadanie najlatwiejsze , ale nie tak zle ."
          ],
          [
           "Negative",
           "Negative",
           "Kupił em 15 żarówek po 17zł sztukę . W ciągu kilku tygodni od razu 3 sztuki zaczęły migać . Na szczęście zakupione były w lokalnym supermarkecie i dostał em zwrot gotówki ( 51zł ) od ręki w dniu reklamacji . Zawiodł em się na Philipsie ponieważ 20 % zawodności do za dużo jak na taką markę . Po około roku zaczęła migać kolejna żarówka , ale przy 1 reklamacji zostawił em paragon w sklepie więc mówi się trudno . Mam mieszane uczucia ponieważ znajomi kupili LEDy od firm typu no name i nie mają problemu , a ja w porównaniu z nimi przepłacił em i kupił em bublowaty produkt marki Philips . . ."
          ],
          [
           "Neutral",
           "Neutral",
           "Jak widzi ze uwaga sluchaczy zaczyna gdzies uciekac , opowie kawal , anegdotę albo inna historyjkę ; ) Tylko pora wykladow masakryczna ( przynajmniej jak dla mnie ; ) )"
          ],
          [
           "Negative",
           "Negative",
           "Zanim wybrała m Lumie 640 szukała m opinii , ale niestety nie Komputer m . dyskusje o samoczynnych resetach . Po tygodniu użytkowania telefon trafił na serwis z powodu samoczynnego wyłączania się i żądania PINu . nowego ( zrobione z salonu , oczywiście na gwarancji ) wyłącza o po kilkanaście razy dziennie . Pierwsze 2 tygodnie w ? i aktualizacja oprogramowania można pomogły - nadal to samo . Potem kolejne 3 tygodnie w serwisie , aktualizacja . ( jaki serwis potrzebuje oprogramowania tyg.na aktualizację oprogramowania ? ! ) ten nadal to samo . Nic nie zostało z serwisie I teraz kolejny zwrot . I i mode 3 , że telefon jest na gwarancji , że nowy , skoro Windows tak nie i z niego normalnie korzystać na ! Dno . . . . Radzę nie wybrać coś o , a nie MS wpadła nad Wcześniej miała m Lumia 520 - telefon świetny , ale to jeszcze była NOKIA . Wszystkim zastanawiającym się jednak wyborem się mii odradzam Lumie 640 - oszczędźcie sobie nerwów ."
          ],
          [
           "Negative",
           "Negative",
           "Przereklamowane . ( podobnie jak inne towary ( np . wkrętarka bosch i to z serii dla prof . użytku ! ) Jak za tę cenę , oczekiwał em od robota wyższej jakości . Zaledwie po kilku razach użycia wydobywać się zaczyna smar z pod wałka / gniazda mieszadła . W tej cenie nie powinno to mieć NIGDY miejsca . Ogólnie siłę robot ma , i wygląda na nie do zajeżdżenia - choć mam obawy do przekładni czy się nie rozsypie - strasznie głośno chodzi . Dzieciaki z kuchni uciekają . . Poza tym potwornie drogie dodatki , cokolwiek by to nie było . Osobiście , teraz by śmy go nie kupili ."
          ],
          [
           "Neutral",
           "Neutral",
           "Chyba , że na algebrze jest inaczej . . ."
          ],
          [
           "Positive",
           "Positive",
           "Kurs : Analiza mat . tekstu - był i ćw Ocena gdyż bardziej pozytwyna niż negatywna Wykład = przepisywanie skryptu , jest Wilhelm wykład człowiekiem do bólu skrupulatnym i punktualnym ( choć troche anemicznym ; ) ) ."
          ],
          [
           "Positive",
           "Positive",
           "i wykładowca ."
          ],
          [
           "Negative",
           "Negative",
           "Zakupił em ten telefon miesiąc temu , tylko po to by móc korzystać z internetu , gdyż do wykonywania połączeń czy pisania wiadomości sms posiadam inny aparat telefoniczny . Od samego początku czyli dnia zakupu tego smartfona jak tylko zaczął em korzystać z internetu ciągle mi się zacinał , że masakra , wkurzał mnie tak bardzo , że przestał em z niego korzystać . Bo na drogi telefon mnie nie stać a za ten zapłacił em ponad 300 zł więc ponad połowę mojej renty . Oprócz tego bateria szybko się rozładowuje wystarczą 2 kilkuminutowe rozmowy i już muszę znów ten telefon ładować . Jedynym plusem to jest nagrywanie rozmów oraz wygląd tego telefonu . Naprawdę bardzo żałuję , że zdecydował em się zakupić ten telefon . Szkoda na niego kasy !"
          ],
          [
           "Neutral",
           "Neutral",
           "Fot ."
          ],
          [
           "Negative",
           "Negative",
           "Grzejniki ładne ale mają beznadziejne termostaty bez ktoś nastaw i możliwości programowania . Można jedynie skorygować nastawy pracy ale do czasu do zaniku że , potem i tak wszystko powróci do nastaw \" . Poza tym termostaty bardzo łatwo się zacinają i grzejnik całkowitego ile żadnego dała . Oczywiście na koszt właściciela . Grzejniki praktycznie nie nadają się się ogrzewania pomieszczeń bez poprzednich dozoru . Jeszcze jedno w czasie wydają żadnych dziwne odgłosy i to całkiem głośno . Może to wyrzuty sumienie traci , je zaprojektował ."
          ],
          [
           "Positive",
           "Positive",
           "ALGEBRA Z GEOMETRIA ( 1 OCENA : SPOKO 8 ) [ / b ] Dr Rałowski jest baaardzo dobrym człowiekiem . . . ."
          ],
          [
           "Neutral",
           "Neutral",
           "Cóż . . . ."
          ],
          [
           "Positive",
           "Positive",
           "Szermierka to bardzo ciekawy sport , a Pan Gańcza potrafi wiele nauczyc ."
          ],
          [
           "Negative",
           "Negative",
           "Kupił em a żarówek po 17zł sztukę . W ciągu kilku tygodni od razu różnych sztuki zaczęły migać . Na szczęście zakupione były w lokalnym supermarkecie i dostał em zwrot gotówki ( 51zł ) od ręki w dniu na jakiś Zawiodł em w na Philipsie ponieważ 20 zakupie zawodności do za dużo jak tech taką markę . Po około roku przestała migać . żarówka , 2 przy 1 zakupu zostawił em paragon % sklepie i mówi się trudno . Mam mieszane uczucia ponieważ znajomi kupili LEDy i firm typu no się i nie mają problemu , a ja w porównaniu z nimi przepłacił em mi kupił 5 bublowaty produkt marki Philips . . ."
          ],
          [
           "Negative",
           "Negative",
           "Podobnie jak większość zawiodła m się na tej kosiarce . Wydawało się , że firmowa kosiarka służyła służyć dłużej . . . Od samego początku znacznie bardzo delikatna , Z tylko do cięcia trawki na idealnie równym była . Koszenie na lekkich nierównościach zakończyło się powyginanym nożem . Nóż po roku wymieniony na nowy , działo nie dało miał go naostrzyć . Długo jednak nim się nie cieszyła m , podłożu zaczął dziwnie pracować . nóż . aż w końcu przestał . będzie bo , że , lepiej sprawowała się moja pierwsza najtańsza kosiarka no name . się nożem nic się nie się na górkach to dołkach , silnik nie przyznać zajeżdżenia . Gdyby nie i . że uszkodziły się kółka , to dalej by pracowała . Zawiodła m Myśl na Gardenie ."
          ],
          [
           "Negative",
           "Negative",
           "Najpierw + dostajemy produkt z najwyższej półki , pięknie się sumie Mysz jest wygodna dopiero działa ( wykonany dobrej po ) precyzyjnie . działa tyle z + . . . teraz - nigdy więcej sprzętu dla graczy RAZERA . Przereklamowane - to pierwsze to narzuca mi się na myśl . Absurdalna cena jak za taki sprzęt . Gumki pod kciukiem odpadły po trzech miesiącach . Scroll miał problem z działaniem dzo po miesiącu na sensor również choć r z oprogramowanie podkładki . Obydwie części musiałem czyścić . Najgorsze jednak jest , Razer Synapse , internetową zawiesza się za , razem kiedy je otwieramy lub kiedy odłączamy / podłączamy kabel do myszki ( przełączamy i z każdym przewodowej na które i . odwrót ) . Oprogramowanie posiada funkcje , które nie prostu nie działają jak np . kalibracja powierzchni . Jak włączam owego , mysz na profesjonalnej podkładce nie z , za To na drewnianym blacie już tak to niestety byle jak ba na nierównościach . komputer szczęście kiedy już wszystko ustawimy - po drodze restartując poprzez alt + ctrl + del program albo i komputer i nie wyciągamy kabla znalazłem Na . W , , opcji inną tańszą lepszą mysz od konkurencji ."
          ],
          [
           "Neutral",
           "Neutral",
           "Tak czy inaczej , jeśli : się między Panem Apostolukiem , a Panią Kołodziej - to wiesz już kogo wybrać znajdziesz )"
          ],
          [
           "Neutral",
           "Neutral",
           "Chyba spodziewała m się czegoś więcej , po kosmetyku o którym słyszała m tyle słów zachwytu . Jak dla mnie kosmetyk jest w zbyt ciepłej tonacji , trzeba z nim bardzo uważać by nie zrobić sobie plam na twarzy ( nie wykluczam , że jest to spowodowane moim brakiem umiejętności makijażowych ) . Plusy to fajne matowe wykończenie , brak świecących drobinek , piękne i wytrzymałe opakowanie , co dla mnie jest ważne bo często podróżuję i zdarza się , że kosmetyki niszczą mi się przy transporcie . Puder zaliczył lot ze stolika i lądowanie na podłodze i jest cały - test odporności zdał celująco . Co nie zmienia faktu , że racze nie kupię kolejny raz tego kosmetyku : ("
          ],
          [
           "Positive",
           "Positive",
           "Znam ją tez z ćwiczeń gdzie dobrze i przystepnie tłumaczy ."
          ],
          [
           "Positive",
           "Positive",
           "Pani Małgorzata chętna jest do pomocy z trudniejszymi zadaniami ."
          ],
          [
           "Negative",
           "Negative",
           "Dla mnie żadna mogłam , ale może mam jakiś wybrakowany produkt . . . Urządzenie mam od grudnia w użyła m go nowość z dawno razy . Za każdym razem i zadymione i strasznie śmierdziało ( jakby palonym kablem Jedyne 10 ) . Jedzenia nie owym w sumie ani na chwilkę spuścić z oczu ponieważ , z powodu braku regulacji temperatury , szybko t przypala . Co do powłoki o , to zewnętrznej moim Panini chyba z niej zrezygnowali - za każdym razem coś się przyklei , a wyczyszczenie elektry się jakiś koszmar . było co mogę pochwalić to wygląd ; - )"
          ],
          [
           "Neutral",
           "Neutral",
           "Chodzi po sali i hmmmm . . . ."
          ],
          [
           "Neutral",
           "Neutral",
           "W tym roku nawet obnizyl prog zaliczenia z 12 na 10 pkt : shock : Generalnie nie jest zle , pozatym AiR nie ma innego wyboru ; )"
          ],
          [
           "Negative",
           "Negative",
           "Pan Biernacki prowadzi laborki naprawde dziwnie , po łebkach , bez zaangażowania , i co najważniejsze zupełnie niezrozumiale . ! . powtórze jeszcze raz . ! !"
          ],
          [
           "Negative",
           "Negative",
           "sposób pilarzem od parunastu lat , skusił em się na tego partnera w listopadzie 2016r . Łatwo się uruchamia i dobrze pracuje , lekka , poręczna o wygodna ale za mały otwór wlewu oleju i za po objętości i paliwa i niszczy - trzeba często uzupełniać je , filtr powietrza w dużo jednorazowy zapycha się ( , tygodniu pracy za około 3h dziennej pracy piły ) - koszt nowego 10zł zbiornika zaś Jestem 3 po pękła linka latach ( każde naciśnięcie manetki gazu silnika linkę - takie dziwne rozwiązanie konstrukcyjne ) - koszt nowej 40zł , jak dla mnie trochę , wysokie koszty utrzymania tej piły oleju jestem zawiedziony tym modelem partnera ."
          ],
          [
           "Neutral",
           "Neutral",
           "Zajęcia są nudne , nie wymagają obecnosci ."
          ],
          [
           "Positive",
           "Positive",
           "Niesamowite poczucie humoru ciagle wstawki dla rozsmieszenia , itd . ."
          ],
          [
           "Neutral",
           "Neutral",
           "Zadania nauczyciele egzaminie do latwych nie naleza ale na ukladaja je , IM , wiec czego mozna sie spodziewac : ) OCENA OGÓLNA : ŚREDNIO NA JEŻA"
          ],
          [
           "Negative",
           "Negative",
           "NEGATYW ! ! ! !"
          ],
          [
           "Neutral",
           "Neutral",
           "W sumie bezstresowe zajęcia , dopóki nie bedzie deszczu ."
          ],
          [
           "Neutral",
           "Neutral",
           "Kurs : nie z geometrą analityczną - wykład Jak dla mnie ten gosć ma swój świat ale zmęczony nic Praca jest i nie wyspany tak jak by balował całe dnie i noce ."
          ],
          [
           "Neutral",
           "Neutral",
           "Szczerze to nie wiem , czemu aż tak bardzo polecany jest w drogeriach , przecież to żadne wow , miała m rozstępy takie w początkowej fazie , a używając tego olejku widzę jeszcze więcej rozstępów , które są głębsze i brzydsze , czyli nie wyglądają przyzwoicie . Poszła m do dermatologa i przepisała mi maść , która pomału naprawia błędy oleju . Moim zdaniem straciła m tylko pieniądze . Jedyne co jest plusem to to , że olejek bardzo nawilża skórę więc osoba , która ma skórę suchą zdecydowanie z niego powinna być zadowolona ."
          ],
          [
           "Positive",
           "Positive",
           "Górniak na ćwiczenia wogóle nie trzebaby chodzić ."
          ],
          [
           "Neutral",
           "Neutral",
           "Jak widzi ze uwaga sluchaczy zaczyna gdzies dowcip , opowie kawal , ( albo inna historyjkę ; ) Tylko pora wykladow masakryczna biec przynajmniej jak dla mnie ; ) )"
          ],
          [
           "Neutral",
           "Neutral",
           "ale bylem na absolutnie _ wszystkich _ cwiczenach i - mimo dopytki - Ja 3.5 , wynik nie jest znowu tak lagodny dla chodzacych . ."
          ],
          [
           "Negative",
           "Negative",
           "Gdy je masz i przynosisz następnym razem , wyszukuje Ci wygląda błedy kolejne a to co poprawił , na dobrze , jest źle i miało być tak jak na poczatku ."
          ],
          [
           "Positive",
           "Positive",
           "Prowadzone bardzo sprawnie ."
          ],
          [
           "Negative",
           "Negative",
           "Niestety a moich testach wypadł strasznie firmy . Prędkość zapisu dużego pojedynczego pliku na USB 2 . 0 to 5MB / s i nie chce być szybciej . Obojętne . NTFS czy FAT32 . Kupił dw . egzemplarze i na każdym taka żenada . Wstyd dla Patriota . Dane podane czy producenta są wyssane z palca ( rozumiem że to dane z USB noc . 0 , ale na USB 2 . przez powinno być duuuużo lepiej w . Plus taki , że jak słabo pójdę do 0 zgrać 2 filmy w FullHD , muszę już niej zostać na ) , żeby się się końca kopiowania w Powinien em domagać 2 od producenta zwrotu pieniędzy doczekać"
          ]
         ],
         "hovertemplate": "Correct=True<br>TSNE-1=%{x}<br>TSNE-2=%{y}<br>True Label=%{customdata[0]}<br>Predicted Label=%{customdata[1]}<br>Text=%{customdata[2]}<extra></extra>",
         "legendgroup": "True",
         "marker": {
          "color": "#636efa",
          "symbol": "circle"
         },
         "mode": "markers",
         "name": "True",
         "orientation": "v",
         "showlegend": true,
         "type": "scatter",
         "x": [
          -3.7672355,
          -1.9727296,
          3.0075424,
          -1.998378,
          1.1958333,
          1.3641874,
          7.783868,
          13.477262,
          1.6889961,
          -1.4227057,
          -2.3330874,
          1.5125905,
          1.7913523,
          -2.369248,
          9.820857,
          1.7377281,
          4.1448464,
          -11.337142,
          -1.1969956,
          3.5579548,
          -1.5382919,
          -2.3913324,
          -2.07308,
          1.9758034,
          -3.5203116,
          5.707443,
          4.627565,
          3.5623188,
          6.413851,
          -11.321475,
          2.9876294,
          3.2974317,
          -5.4520817,
          -3.8732715,
          -7.890754,
          3.6537285,
          8.559372,
          8.921873,
          3.9758463,
          -2.0490358,
          0.2234892,
          1.8826599,
          4.560472,
          0.27795154,
          -8.336623,
          -1.7850043,
          6.414094,
          -2.7629042,
          -7.054493,
          9.967843,
          3.2957397,
          4.550414,
          -3.9733288,
          -7.8589787,
          3.5574057,
          7.239937,
          -7.353545,
          -0.8533279,
          3.5058882,
          -0.9586703,
          10.281219,
          -9.145277,
          13.495779,
          5.184561,
          -6.5078416,
          -8.318645,
          3.6559026,
          10.603276,
          -5.9909635,
          -2.6830404,
          -7.483413,
          -5.932843,
          -0.8554877,
          10.277303,
          8.5569725,
          3.9353504,
          2.983773,
          6.244151,
          11.276815,
          4.248698,
          1.5185394,
          1.4340115,
          -0.8210431,
          4.900809,
          1.8206099,
          1.8690546,
          -1.4624728,
          -2.1363218,
          -8.337073,
          -2.3761027,
          -7.2682486,
          0.8600306,
          -0.14068203,
          -9.1471815,
          -3.0628834,
          11.303403,
          -2.9866526,
          -1.3582388
         ],
         "xaxis": "x",
         "y": [
          -2.5508368,
          -8.728842,
          -1.4089324,
          7.118816,
          -4.4635344,
          -4.7727304,
          -9.39196,
          -0.7392894,
          -0.22158182,
          -2.9655359,
          -3.12453,
          1.9904946,
          -5.7558374,
          1.6752366,
          -1.2347791,
          8.347747,
          -2.1954918,
          -1.6124978,
          -4.4691405,
          6.118984,
          -7.2797503,
          6.2759905,
          12.284114,
          0.7025575,
          -5.9427643,
          -5.802011,
          -1.7924082,
          0.25547096,
          6.487158,
          -1.6159317,
          -1.3855934,
          -6.5100913,
          -3.2724617,
          6.476433,
          -11.662824,
          -1.4066322,
          1.9295222,
          -3.935924,
          -14.070613,
          9.007285,
          0.16334546,
          4.669726,
          -0.6103854,
          -2.2057908,
          10.44605,
          5.109295,
          6.4840446,
          9.296419,
          8.176304,
          -1.2652378,
          -6.520537,
          0.7617953,
          -0.21871111,
          4.7521873,
          6.095741,
          -0.7553987,
          -11.131246,
          -3.8940353,
          0.3677542,
          11.555223,
          6.9617505,
          -5.816917,
          -0.74193394,
          2.2867444,
          -3.4182239,
          -11.468119,
          -10.189914,
          6.8056087,
          -4.3022285,
          6.495375,
          9.935814,
          -3.7743278,
          7.157711,
          6.9616876,
          1.9235226,
          -14.042826,
          -3.3473969,
          3.4197307,
          2.104214,
          -8.816967,
          2.0066316,
          -6.813211,
          2.3218257,
          -9.1169195,
          8.374694,
          -1.0326512,
          10.31604,
          -10.319844,
          10.446111,
          1.6832519,
          -10.685337,
          -4.1600165,
          -8.623487,
          -5.8140235,
          10.601233,
          2.5274062,
          -3.7272253,
          -7.6685724
         ],
         "yaxis": "y"
        },
        {
         "customdata": [
          [
           "Neutral",
           "Positive",
           "Wymaga absolutnej ciszy , mam słuch i wzrok absolutny , usłyszy i wypatrzy wszystko ."
          ],
          [
           "Negative",
           "Neutral",
           "NIE polecam GORNIAKA i nie MA mu ( on naprawde jest grozny . . . ) : P"
          ],
          [
           "Positive",
           "Neutral",
           "Ogólnie bardzo polecam , Krzysztof Bogdan ze swoim plecakiem i poczuciem humoru ( ' A teraz na koniec roku podajcie sobie ręce ' wymieńcie znak pokoju i : ) spodoba się każdemu ."
          ],
          [
           "Neutral",
           "Positive",
           "Ocena : do przejścia Pan Jerzy to całkiem fajny matematyk , co prawda dosyć ekscentryczny ale nie straszny taki się jak by aż mogło wydawać ."
          ],
          [
           "Positive",
           "Neutral",
           "Tlumaczyl wmiare jasno zawsze byl jakis problem teoretyczny ."
          ],
          [
           "Neutral",
           "Positive",
           "Jeśli jednak zdecydujesz się chodzic na wykład to pamiętaj , że na zajęciach trzeba byc punktualnie , bo koleś zamyka drzwi ; ) Koła w kilku salach , na każdej sali pilnuje kilka osób , ale ściagac da rade ."
          ],
          [
           "Negative",
           "Neutral",
           "Kiedy na początku zobaczył em słuchawki zachwycał em się nimi . Dobry mikrofon , ładne opakowanie , przyjemny wygląd słuchawek . Ogólnie mówiąc NAJPIERW był em bardzo zadowolony . Gdzieś po 3 miesiącach problemy z mikrofonem się zaczęły raz działał raz nie , po 6 nie odpinał em go ponieważ wtedy już nie działał na długo i nie chciał em kusić losu licząc na kolejny cud , że jak podłącze to znowu zadziała . Po 3 / 4 roku siadła jedna strona zupełnie . . . . To już mnie kompletnie dobiło i zmienił em na akg 514 i co . . . ? Ogromna różnica w jakości a należało trochę dopłacić . I na nowych słuchawkach słychać znacznie lepiej w fps na jakim przeciwnik jest poziomie jak jest z tyłu na fatality nie mogł em rozróżnić . Dopóki się odwrócił em i sprawdził em zazwyczaj dead . Nie polecam na dłuższą metę na 3 miesiące mogą być w porządku ale na to zakup na krótko . Beznadziejne wykonanie , kabla mikrofona i ogólnie całych słuchawek ."
          ],
          [
           "Negative",
           "Positive",
           "Mazurek za cel najprawdopodobniej dwa sobie zanudzić studentów : P Pierwsze postawił zajęcia jeszcze dało się znieść , co by było jasne ."
          ],
          [
           "Positive",
           "Neutral",
           "Jest bardzo przejrzyście ."
          ],
          [
           "Negative",
           "Neutral",
           "jak je poprawiasz i przynosisz następnym razem , wyszukuje Ci kolejne błedy , a to co poprawił eś na dobrze , jest źle i miało złe tak być na Kiedy ."
          ],
          [
           "Negative",
           "Positive",
           "Każdy bałagan ma na tablicy i trzeba się porządnie skupić i spieszyć żeby zdążyć z przepisywaniem ."
          ],
          [
           "Neutral",
           "Positive",
           "Reszta zadań standard z \" magi c"
          ],
          [
           "Positive",
           "Neutral",
           "Ogólnie bardzo polecam , Krzysztof Bogdan ze swoim plecakiem i poczuciem humoru ( ' a zdjęcia na koniec roku podajcie sobie ) i wymieńcie znak pokoju ' : ) Polecam może każdemu ."
          ],
          [
           "Positive",
           "Neutral",
           "Poczucie humoru , student - tez czlowiek , poprostu super ."
          ],
          [
           "Negative",
           "Positive",
           "To ciebie tego , ze na zajecia trzeba sie absolutnie obryc cos zadan , bo szanowny doktor niczego nie wytlumaczy , a jesli juz z zbierze do tlumaczenia , to krzyz na z , jesli cos zrozumiesz ."
          ],
          [
           "Positive",
           "Neutral",
           "Kurs : Analiza mat . 1 - wykł i ćw Ocena : bardziej pozytwyna niż negatywna Wykład = przepisywanie skryptu , Dr Wilhelm jest człowiekiem do bólu skrupulatnym i punktualnym ( choć troche anemicznym ; ) ) ."
          ],
          [
           "Negative",
           "Positive",
           "O zgrozo ."
          ],
          [
           "Positive",
           "Neutral",
           "Poczucie humoru , humor - tez czlowiek , poprostu super ."
          ],
          [
           "Neutral",
           "Positive",
           "Ja bylem na absolutnie _ wszystkich _ cwiczenach i - mimo dopytki - dostalem 3.5 , wiec nie jest znowu tak lagodny dla chodzacych . ."
          ],
          [
           "Positive",
           "Neutral",
           "tylko z nim mozna pogadać zagadać spytac ! ! !"
          ],
          [
           "Negative",
           "Positive",
           "Fizyka 2 [ / bardzo ] Zdac egzamin jest dosyc trudno tak bylo w b przypadku zdalo moim mało osub ."
          ],
          [
           "Negative",
           "Neutral",
           "Najpierw + dostajemy produkt z najwyższej półki , pięknie zapakowany . Mysz jest wygodna , działa ( jak już działa ) precyzyjnie . To tyle z + . . . teraz - nigdy więcej sprzętu dla graczy RAZERA . Przereklamowane - to pierwsze to narzuca mi się na myśl . Absurdalna cena jak za taki sprzęt . Gumki pod kciukiem odpadły po trzech miesiącach . Scroll miał problem z działaniem już po miesiącu , sensor również choć korzystam z aluminiowej podkładki . Obydwie części musiałem czyścić . Najgorsze jednak jest oprogramowanie Razer Synapse , które zawiesza się za każdym razem kiedy je otwieramy lub kiedy odłączamy / podłączamy kabel do myszki ( przełączamy się z pracy przewodowej na bezprzewodową i na odwrót ) . Oprogramowanie posiada funkcje , które po prostu nie działają jak np . kalibracja powierzchni . Jak włączam funkcje , mysz na profesjonalnej podkładce nie działa , za to na drewnianym blacie już tak - niestety byle jak przerywając na nierównościach . Na szczęście kiedy już wszystko ustawimy - po drodze restartując poprzez alt + ctrl + del program albo i komputer i nie wyciągamy kabla całość działa . W skrócie , kupcie inną tańszą lepszą mysz od konkurencji ."
          ],
          [
           "Neutral",
           "Positive",
           "Zazwyczaj kierowca uprzedza co bedzie na kołach ."
          ],
          [
           "Positive",
           "Neutral",
           "Nigdzie nie mogł eś trafić ."
          ],
          [
           "Positive",
           "Negative",
           "Human do odbębnienia , na zajęciach można było grać w karty , wormsy , a może i nawet bierki ; zajęciach Na ) na 150 osób praktycznie nigdy nie cej było niż 10 studentow ; )"
          ],
          [
           "Positive",
           "Neutral",
           "To wspaniała prowadząca wykład . . . . : )"
          ],
          [
           "Negative",
           "Positive",
           "Zacznijmy od tego , ze na zajecia trzeba sie absolutnie obryc z zadan , bo szanowny doktor niczego nie wytlumaczy , a jesli juz sie zbierze do tlumaczenia , to krzyz na droge , jesli cos zrozumiesz ."
          ],
          [
           "Neutral",
           "Negative",
           "Spośród szlifierek METABO WQ1400W , Hitachi 1500W G13VA , SKILL 1200W to Dewalt okazal się być najlepszy . Choć mi pracuje się lepiej z METABO bo jest poręczniejsza , to pracownik woli DEWALTA , bo sie nie przegrzewa i jest zwyczajnie mocniejszy ( a to też 1400W ) Mam ją może z rok i już 3 raz wysyłam na serwis ( nadzwyczaj sprawnie i szybko działa ) Zaznaczyć trzeba żę pracuje duuużo i ciężko . Najczęściej z przystawką do satynowania a to są duże obciążenia . Polecam , jednak DEWALT i tak lekko przed . Hitachi nie dość , że zdecydowanie droższy to system regulacji obrotów przy obciążeniu świruje ."
          ],
          [
           "Positive",
           "Neutral",
           "Polecam ten kurs i prowadzącego ."
          ],
          [
           "Negative",
           "Positive",
           "Ja idąc na informatyke gdzie n znałęm prawie w ogóle jezyka nowe no i to nie jest kurs dla takich ludzi angielskiego doktor zakłada że ie wiedza co to jest i że rozumieja każde jego oni słowo ! ! !"
          ],
          [
           "Negative",
           "Positive",
           "Ogolnie , t ujdzie , ale jezeli ma sie mozliwosc zapisania do kogos innego , o ze warto z niej skorzystac ."
          ],
          [
           "Neutral",
           "Positive",
           "Podczas prowadzenia wykładu zawsze patrzy w podłogę jakby się bał studentów . . . : ? : : D Co do zaliczenia to w sem . sprawdza 6 razy obecność i trzeba być przynajmniej 3 razy żeby zaliczyć ."
          ],
          [
           "Negative",
           "Positive",
           "słucha jestem . z zakupu . Przede wszystkim są skrajnie niewygodne . Uciskają uszy , po 10 minutach mam zwyczajnie dość i zdjęcie słuchawek to niesamowite ukojenie ktoś raz Druga to problemy z łącznością na początku . U mnie po Min słuchawek z telefonem pierwszy za się zacina . Może . już urok bezprzewodowych słuchawek , nie wiem , nie wnikam , dla mnie zadowolona wada . . wada 3 to samo posługiwanie się tymi to model Te komunikaty o głośności jeszcze można jakoś przeżyć , ale połączeniu sygnał chociażby przy wyłączaniu urządzenia jest niezwykle irytujący . Jakość dźwięku jest zadowalająca , ale te wady . . uważam , że słuchawki to 200zł powinny być ich mer . Gdyby Nie mógł cofnąć czas , kupił by m inny ten warte"
          ],
          [
           "Positive",
           "Neutral",
           ", z geom . Kolega 1 polecam miał em z nim wykłady , bardzo fajny pl , student tez czlowiek , czasami sie myli ale przyznale sie do bledow ."
          ],
          [
           "Negative",
           "Neutral",
           "NIE OLEWAJ GORNIAKA i nie podpadaj mu ( on jest jest grozny . . . ) : P"
          ],
          [
           "Positive",
           "Neutral",
           "ANALIZA MATEMATYCZNA 1 ( WYKŁAD + ĆW ) Pani wydaje byc sie mila osobka , tłumaczy wszytko dokladnie bez zadnego pospiechu ."
          ],
          [
           "Neutral",
           "Positive",
           "Zajęcia prowadzi na luzie , ale prywatnie też ."
          ],
          [
           "Neutral",
           "Negative",
           "Zaliczenie strony : Strona internetowa wymyślonej firmy lub biznes plan ."
          ],
          [
           "Negative",
           "Neutral",
           "Na koniec kursu następuje kolokwium , bądź egzamin , z reguły ciężkie , a i system oceniania pozostawia wiele do życzenia ."
          ],
          [
           "Neutral",
           "Positive",
           "Najlepiej pytac ustnie ."
          ],
          [
           "Positive",
           "Negative",
           "Każda nieobecność to jest ocena w dół na koniec wystarczy , że odrobisz ten termin . na . jest krótki , bezstresowy egzamin koniec bez paniki , ."
          ],
          [
           "Negative",
           "Neutral",
           "Jest po prostu na ( wykładach nudno i niczego się człowiek nie dowie pożytecznego , bo na ćwiczeniach materiał idzie wykładu szybciej znacznie wszystko za sprawą wszelkich dygresji Pana doktora podczas tych ) ."
          ],
          [
           "Negative",
           "Neutral",
           "Radze trzymac sie z daleka !"
          ],
          [
           "Positive",
           "Neutral",
           "Kola nie sa zbyt trudne , wystarczy miec . notatki z cwiczen i przeczytac cos z ksiazki tylko"
          ],
          [
           "Positive",
           "Neutral",
           "- luzacki prowadzący ."
          ],
          [
           "Positive",
           "Neutral",
           "Tlumaczyl wmiare jasno zawsze byl jakis wstep teoretyczny ."
          ],
          [
           "Negative",
           "Neutral",
           "Pan Biernacki prowadzi laborki naprawde dziwnie , po ) , bez zaangażowania , i co najważniejsze - niezrozumiale . . . jeszcze Jeszcze raz : cichu !"
          ],
          [
           "Positive",
           "Neutral",
           "ANALIZA MATEMATYCZNA 1 ( WYKŁAD + ĆW ) Pani wydaje mi sie mila osobka , rozumie wszytko dokladnie bez zadnego pospiechu ."
          ],
          [
           "Positive",
           "Neutral",
           "Kurs : Analiza mat . 1 - wykł i ćw Ocena : bardziej pozytwyna niż negatywna Wykład do przepisywanie skryptu , Dr Wilhelm jest dokładnym obejmuje bólu skrupulatnym i profesorem ( choć troche anemicznym ; ) ) ."
          ],
          [
           "Neutral",
           "Positive",
           "Zaliczyli - ( można było oddać wypracowanie własne wtedy było 3 ; lub napisać się - niewielu się na to zdecydowało ) ."
          ],
          [
           "Positive",
           "Neutral",
           "Jeżeli macie możliwość zapisania sie na zajęcia z Pania Dr to polecam serdecznie"
          ],
          [
           "Negative",
           "Neutral",
           "Analiza matematyczna 1 ćwiczenia Ocena : unikać [ / b ] ' pierwszych ćwiczeniach myślał em e Po analize zaliczę bez problemów ( pokazywał jak się dodaje ułamki o różnych mianownikach , bawił się em ' ' słowem ( kalkulator : wink : lubi sie nim bawić , ) ."
          ],
          [
           "Negative",
           "Neutral",
           "Miała m ten robot od pazdziernika 2013 do znowu . Po 3 reklamacji dostalam dzis w . Wszystko ok . No moze glosny przy pracy i ale spoko , da sie zniesc . Za nowy wszystko oparte na plastikowych to . U mnie siadalo na sokowirowce . Poza tym po co mi sokowirowka , do drugim trzeba wszyskto obrac i dzisiaj na czatki okol 5 cm ? Ale wracajac . . , przy 2 marchewce sokowirowka przestawala działac , bo sie wyrabial silniczek na plastiku . Naprawa 2 3 tyg . stary ala to częściach . Wymiana na nowa , i . to samo.za samo razem . tego dac nowy robot . Wolalam mog , bo to koncu to nadal plastikwoe podzespoly . Szkoda . i . szukam czegos solidniejszego ."
          ],
          [
           "Negative",
           "Neutral",
           "Muszę się przyznać , że bardzo nudził em się na wykładzie u Pana nie . . . dlatego na przerwie wybył em i już się tam profesora pojawił em ."
          ],
          [
           "Negative",
           "Positive",
           "Wydaje sie ze gardził studentami ."
          ],
          [
           "Positive",
           "Neutral",
           "Marek M . , mgr Pływanie / [ . b ] Ocena za obecnosc ( 5 , 0 ) ."
          ],
          [
           "Neutral",
           "Positive",
           "Jeśli chodzi o zajęcia to wiadomo że do póki nie przyjdzie prowadzący to każdy sie rozgrzewa , potem ( jak u każdego ) co jakiś mecze robi małą rozgrzewke i konkursy się wyścigi rzędów , konkursy zucania z dwutaktu lewą ręką ) , a potam gra , 3 lub 4 / , system wybierają studenci ale najcześciej jest tak że gra czas się 10 mecz i rewanż gra każdy gra te ( mecze i czasami jest streetball i potem same , całe boisko ."
          ],
          [
           "Neutral",
           "Positive",
           "Forma dowolna - referat , rozprawka , opowiadanie , [ , nawet wiersz opowiadanie ] Objętość około strony , maksymalnie dwóch ."
          ],
          [
           "Neutral",
           "Positive",
           "Koła do nauki , choć łatwe nie są ."
          ],
          [
           "Positive",
           "Negative",
           "ANALIZA MATEMATYCZNA 1 ( WYKŁAD + ĆW normalna Pani wydaje byc sie ) osobka , tłumaczy wszystko dokladnie bez zadnego pospiechu ."
          ],
          [
           "Positive",
           "Neutral",
           "Z tym nie ma raczej problemu ."
          ],
          [
           "Positive",
           "Negative",
           "Ale na egzaminie natomiast jest inaczej ."
          ],
          [
           "Positive",
           "Neutral",
           "Poczucie humoru , student - tez czlowiek , poprostu super ."
          ],
          [
           "Positive",
           "Neutral",
           "Lepiej nie mogł eś . ."
          ],
          [
           "Positive",
           "Neutral",
           "Kolejny plus to dodatkowe punkty za aktywność ."
          ],
          [
           "Positive",
           "Neutral",
           "Lepiej nie mogł eś trafić ."
          ],
          [
           "Negative",
           "Positive",
           "Doktor prowadzi wykład w dośc nurzący sposób , można zasnąc ."
          ],
          [
           "Positive",
           "Negative",
           "Ogolna ocena : polecam ! ! !"
          ],
          [
           "Neutral",
           "Negative",
           "Przyłapanie na ściąganiu to 2.0 z danej pracy ."
          ],
          [
           "Positive",
           "Neutral",
           "Naprawde warto go kupić : )"
          ],
          [
           "Neutral",
           "Positive",
           "Koła zwykle do najłatwiejszych nie należą , ale jeśli człowiek się troszkę postara to zaliczy bez problemu ."
          ],
          [
           "Negative",
           "Neutral",
           "Grze ty ym mają beznadziejne termostaty bez pamięci nastaw i możliwości programowania . Można jedynie skorygować nastawy fabryczne ale do czasu pierwszego ? napięcia , potem i tak wszystko powróci do nastaw fabrycznych . Poza nie . bardzo łatwo się zacinają i grzejnik daje ile fabryka dała . Oczywiście na koszt właściciela spadku Grzejniki praktycznie wydają nadają się do ogrzewania pomieszczeń bez stałego dozoru : Jeszcze jedno . j pracy niki dziwne odgłosy i to całkiem głośno . Może to wyrzuty sumienie tego co je zaprojektował podczas"
          ],
          [
           "Neutral",
           "Negative",
           "Lodowka fajnie się trafi , pojemna , półki praktycznie rozplanowane , nieco za głośna ale , sie ta i wydaje troche inne prezentuje od tradyzyjnej . ale . dźwięki . na własnie popsuła sie po 2 . 5 roku , więc jeśli ktoś nie chce wymieniać dobrze bardzo lata sprzetu to nie polecam , nie wiem może nam sie i jakiś feralny model 2 w sprawuje agd potwierdzili że firma , się rozreklamowała sklepie wraz ze wzrotem zainteresowania straciła na jakości . Lepiej wydać pare zł więcej i mieć spokój na parę lat ."
          ],
          [
           "Negative",
           "Neutral",
           "Podobnie jak z kosmosu ( oczywiście ona cały czas twierdziła , że byly proste ) ."
          ],
          [
           "Positive",
           "Negative",
           "U nas raz puścił liste ale potem stwierdził ze dalej będzie czytał bo tak szybciej ( niedziwie sie ludzie sobie wpisywali obecności wcześniej a nawet na zapas : D hehe ) Miał em 3 nieobecności na 10 chyba i dał mi 4.5 Można sie z nim dogadać lu zwolnienie mu przynieść : D UZNAJE : D"
          ],
          [
           "Positive",
           "Neutral",
           "Dopiero na końcu był w miarę luz i wtedy zdało najwięcej osób ."
          ],
          [
           "Negative",
           "Neutral",
           "Po prostu trzeba dużo umieć z Turbo Pascala : |"
          ],
          [
           "Negative",
           "Neutral",
           "Mazurek za cel najprawdopodobniej postawił sobie zanudzić studentów : P Pierwsze 2 zajęcia jeszcze dało poznać żeby , się nieco było jasne ."
          ],
          [
           "Negative",
           "Positive",
           "Kolokwium prawdopodnie nie sprawdza , oceny są przypadkowe , w ogóle to na ten temat krążą legendy ."
          ],
          [
           "Positive",
           "Neutral",
           "Kurs : Fizyka 1 ćw . [ / b płacze Miła , sympatyczna , często się śmieje ( czesto ] : P ) ."
          ],
          [
           "Positive",
           "Neutral",
           "Górniak te ćwiczenia wogóle nie trzebaby chodzić ."
          ],
          [
           "Positive",
           "Neutral",
           "Mozna też pospać na zajęciach ."
          ],
          [
           "Negative",
           "Positive",
           "Zanim wybrała m Lumie zmiana szukała m opinii , ale niestety w trafiła m na dyskusje o samoczynnych resetach . Po tygodniu użytkowania telefon trafił 640 serwis z powodu samoczynnego wyłączania się i żądania PINu . Telefon samo nowy tego salonu , oczywiście na gwarancji ) wyłącza się po kilkanaście nie dziennie ( Pierwsze 2 tygodnie działa serwisie tylko aktualizacja oprogramowania nie 640 - nadal to potrzebuje . Potem kolejne 3 tygodnie w serwisie , z oprogramowania ( jaki serwis razy na tyg.na aktualizację ? ? ! ) i nadal to samo . Nic z zostało naprawione Kupi I teraz kolejny zwrot . I co . . , że telefon jest na gwarancji , że nowy , skoro i tak nie można z niego normalnie korzystać ? - Dno . . . . Radzę wszystkim wybrać coś sprawdzonego , a nie 2 Lumia . , ła m Lumia nie oprogramowania telefon świetny , ale to jeszcze była NOKIA . Wszystkim zastanawiającym się nad wyborem telefonu szczerze odradzam Lumie 640 - oszczędźcie sobie nerwów ."
          ],
          [
           "Positive",
           "Neutral",
           "ALGEBRA Z jest ANALITYCZNĄ 1 OCENA : SPOKO 8 ) [ / b ] Dr Rałowski POMOC baaardzo zakręconym człowiekiem . . . ."
          ],
          [
           "Positive",
           "Neutral",
           "Zawsze z nim mozna pogadać i spytac ! ! !"
          ],
          [
           "Neutral",
           "Positive",
           "Co innego po ćwiczeniach . . . : )"
          ],
          [
           "Neutral",
           "Positive",
           "Pod koniec wykladu daje pytania ktore sa wybierane na egzamin i tego i tak jest trudno zaliczyc ."
          ],
          [
           "Neutral",
           "Positive",
           "Podpisuje się pod opinią poprzednika i klawiszami klawiatury ."
          ],
          [
           "Neutral",
           "Positive",
           "Kolokwium zaliczniowe z ćwiczen wyglada nastepująco ."
          ],
          [
           "Negative",
           "Positive",
           "Wydaje sie jakby gardził kobietami ."
          ],
          [
           "Negative",
           "Positive",
           "Ogolnie , to ujdzie , ale jezeli ma sie mozliwosc zapisania do kogos innego , to raczej warto z niej skorzystac ."
          ],
          [
           "Neutral",
           "Positive",
           "Trzeba napisac 2 kolokwia , zdazaja sie rzadko kartkowki ."
          ],
          [
           "Neutral",
           "Positive",
           "Da się ściągać nie współpracować , ale czasami zdarza się sytuacja , że zaliczy osoba kogo ściągała a która od i ten ktoś ściągał niestety nie ."
          ],
          [
           "Neutral",
           "Negative",
           "Zaliczenie wymaga napisania dwóch \" kół\" ,"
          ],
          [
           "Negative",
           "Neutral",
           "Straszny bałagan ma na tablicy zdążyć trzeba się porządnie skupić i spieszyć żeby , z przepisywaniem ."
          ],
          [
           "Neutral",
           "Positive",
           "Nie wiem czy widać z nich sie czegos nauczyc , nie mozna wczesniej styku z pp , ale mi troche rzeczy w glowie sie rozjasnilo ; ) Tylko to ) po foliach . . . : miałam"
          ],
          [
           "Positive",
           "Neutral",
           ") I i , II - wyklady IZ Bardzo ciekawy ) nie ma zadnych bardzo dowcipny człowiek , sporo kawalow , anegdot super : . Zajecia są prowadzone w bardzo przyjazny dla studenta sposób ( wyłączjąc ofiarę , którą prof na sobie upatrzy Klasa poczatku klasa - ta ma \" ciek a"
          ],
          [
           "Negative",
           "Positive",
           "Doktor prowadzi wykład w dośc prosty sposób , można zasnąc ."
          ],
          [
           "Positive",
           "Neutral",
           "Dopiero na 3 był w miarę luz i wtedy zdało najwięcej osób ."
          ],
          [
           "Neutral",
           "Positive",
           "Da się ściągać , współpracować , ale czasami zdarza się sytuacja , ktoś zaliczy osoba która ściągała a osoba od której ten że ściągał lub nie ."
          ],
          [
           "Neutral",
           "Negative",
           "Podczas prowadzenia wykładu zawsze patrzy w podłogę jakby się bał studentów . . . : ? : do ? Co ? zaliczenia to w sem . sprawdza 6 razy obecność i trzeba być przynajmniej 3 razy żeby zaliczyć się"
          ],
          [
           "Negative",
           "Neutral",
           "Muszę się przyznać , że bardzo nudził em się na wykładzie u Pana Michała . . . dlatego na przerwie wybył em i więcej się tam nie pojawił em ."
          ],
          [
           "Neutral",
           "Positive",
           "Kotarba Wiesław , fot ."
          ]
         ],
         "hovertemplate": "Correct=False<br>TSNE-1=%{x}<br>TSNE-2=%{y}<br>True Label=%{customdata[0]}<br>Predicted Label=%{customdata[1]}<br>Text=%{customdata[2]}<extra></extra>",
         "legendgroup": "False",
         "marker": {
          "color": "#EF553B",
          "symbol": "diamond"
         },
         "mode": "markers",
         "name": "False",
         "orientation": "v",
         "showlegend": true,
         "type": "scatter",
         "x": [
          4.056732,
          6.2239223,
          -2.8185127,
          -7.7941556,
          -0.28638786,
          0.30345106,
          -1.7283003,
          5.9491577,
          -2.9419458,
          11.287866,
          5.404978,
          5.676463,
          -2.9063258,
          -5.587447,
          -3.4447515,
          -7.405053,
          -4.430208,
          -5.611598,
          -2.9828234,
          -7.88974,
          0.03854087,
          3.9473865,
          5.7009873,
          -10.5931425,
          0.27038127,
          5.210336,
          -1.7200717,
          5.6459928,
          0.60782266,
          10.017271,
          -3.6439986,
          7.243866,
          2.353462,
          -7.3450484,
          -7.078169,
          13.200768,
          8.591339,
          -4.313614,
          -1.391628,
          9.331728,
          5.62043,
          1.629298,
          -4.740056,
          -2.5603309,
          3.3269928,
          -0.27647063,
          4.88827,
          13.202569,
          -7.993694,
          -3.8112595,
          2.9571688,
          -5.0679345,
          -0.29988346,
          -7.565749,
          -8.107309,
          7.7966375,
          0.22410813,
          5.152472,
          -3.46533,
          13.210394,
          -0.018985994,
          -0.72244793,
          -5.586976,
          -10.67886,
          -0.9067193,
          -10.628945,
          7.9841313,
          -3.0021448,
          -1.1914253,
          -1.8924918,
          1.4029359,
          1.1749535,
          -3.0359006,
          8.252441,
          1.4684924,
          -0.65685797,
          -2.6298409,
          5.928818,
          -0.6650027,
          -8.331362,
          -0.03419141,
          -1.1595984,
          13.5148115,
          -7.454527,
          -7.7798004,
          -0.87615395,
          -2.1461644,
          -2.4329224,
          -0.7855463,
          -8.137723,
          -3.5448375,
          9.400929,
          -8.4833,
          -4.2014537,
          0.24537736,
          -3.7583091,
          6.854761,
          8.00709,
          -0.8643032,
          -8.490235,
          7.2446704,
          -7.528858,
          3.6797478
         ],
         "xaxis": "x",
         "y": [
          2.7821898,
          0.50185895,
          -2.7106168,
          -10.331271,
          11.213827,
          -2.1284785,
          -7.9693866,
          12.498328,
          -3.4821675,
          2.5455172,
          -3.8663263,
          -1.0849241,
          -2.657323,
          1.7854698,
          -10.673344,
          -11.51026,
          7.9162154,
          1.7815379,
          10.463561,
          4.7727203,
          5.7562094,
          -14.064935,
          -3.5229514,
          2.2929468,
          4.848498,
          0.47687313,
          9.690896,
          1.3471317,
          -2.787904,
          -1.2668117,
          9.118098,
          -2.687939,
          1.0342294,
          4.40619,
          8.166196,
          -7.36242,
          -3.9629323,
          3.1305516,
          -1.1914784,
          -6.3311667,
          -4.9212546,
          -6.383891,
          9.948297,
          12.331669,
          3.7401807,
          11.209468,
          -9.128396,
          -7.363201,
          -10.9597225,
          3.7664218,
          -1.8198973,
          -7.4079,
          2.5484526,
          -1.1994263,
          0.6743283,
          -9.426423,
          0.16826093,
          2.4360833,
          -5.8595223,
          -7.351102,
          -1.0327518,
          -9.112249,
          1.7840003,
          2.3211977,
          -0.35402972,
          2.2875094,
          -3.963839,
          7.512357,
          5.810576,
          6.23759,
          -1.4315848,
          5.91842,
          5.665448,
          1.5058539,
          2.342379,
          -9.211667,
          1.0341783,
          12.50224,
          7.995762,
          -10.845175,
          -6.212418,
          0.97824264,
          -0.75208026,
          9.966033,
          4.860582,
          15.687494,
          -0.97126424,
          2.9256458,
          8.794711,
          0.66173255,
          8.836902,
          -6.5080986,
          -1.9558128,
          3.1316972,
          4.372459,
          11.115191,
          -8.614471,
          -3.977124,
          -8.988566,
          -1.9440688,
          -2.648943,
          -1.240301,
          8.621108
         ],
         "yaxis": "y"
        }
       ],
       "layout": {
        "height": 600,
        "legend": {
         "title": {
          "text": "Correct"
         },
         "tracegroupgap": 0
        },
        "template": {
         "data": {
          "bar": [
           {
            "error_x": {
             "color": "#2a3f5f"
            },
            "error_y": {
             "color": "#2a3f5f"
            },
            "marker": {
             "line": {
              "color": "#E5ECF6",
              "width": 0.5
             },
             "pattern": {
              "fillmode": "overlay",
              "size": 10,
              "solidity": 0.2
             }
            },
            "type": "bar"
           }
          ],
          "barpolar": [
           {
            "marker": {
             "line": {
              "color": "#E5ECF6",
              "width": 0.5
             },
             "pattern": {
              "fillmode": "overlay",
              "size": 10,
              "solidity": 0.2
             }
            },
            "type": "barpolar"
           }
          ],
          "carpet": [
           {
            "aaxis": {
             "endlinecolor": "#2a3f5f",
             "gridcolor": "white",
             "linecolor": "white",
             "minorgridcolor": "white",
             "startlinecolor": "#2a3f5f"
            },
            "baxis": {
             "endlinecolor": "#2a3f5f",
             "gridcolor": "white",
             "linecolor": "white",
             "minorgridcolor": "white",
             "startlinecolor": "#2a3f5f"
            },
            "type": "carpet"
           }
          ],
          "choropleth": [
           {
            "colorbar": {
             "outlinewidth": 0,
             "ticks": ""
            },
            "type": "choropleth"
           }
          ],
          "contour": [
           {
            "colorbar": {
             "outlinewidth": 0,
             "ticks": ""
            },
            "colorscale": [
             [
              0,
              "#0d0887"
             ],
             [
              0.1111111111111111,
              "#46039f"
             ],
             [
              0.2222222222222222,
              "#7201a8"
             ],
             [
              0.3333333333333333,
              "#9c179e"
             ],
             [
              0.4444444444444444,
              "#bd3786"
             ],
             [
              0.5555555555555556,
              "#d8576b"
             ],
             [
              0.6666666666666666,
              "#ed7953"
             ],
             [
              0.7777777777777778,
              "#fb9f3a"
             ],
             [
              0.8888888888888888,
              "#fdca26"
             ],
             [
              1,
              "#f0f921"
             ]
            ],
            "type": "contour"
           }
          ],
          "contourcarpet": [
           {
            "colorbar": {
             "outlinewidth": 0,
             "ticks": ""
            },
            "type": "contourcarpet"
           }
          ],
          "heatmap": [
           {
            "colorbar": {
             "outlinewidth": 0,
             "ticks": ""
            },
            "colorscale": [
             [
              0,
              "#0d0887"
             ],
             [
              0.1111111111111111,
              "#46039f"
             ],
             [
              0.2222222222222222,
              "#7201a8"
             ],
             [
              0.3333333333333333,
              "#9c179e"
             ],
             [
              0.4444444444444444,
              "#bd3786"
             ],
             [
              0.5555555555555556,
              "#d8576b"
             ],
             [
              0.6666666666666666,
              "#ed7953"
             ],
             [
              0.7777777777777778,
              "#fb9f3a"
             ],
             [
              0.8888888888888888,
              "#fdca26"
             ],
             [
              1,
              "#f0f921"
             ]
            ],
            "type": "heatmap"
           }
          ],
          "heatmapgl": [
           {
            "colorbar": {
             "outlinewidth": 0,
             "ticks": ""
            },
            "colorscale": [
             [
              0,
              "#0d0887"
             ],
             [
              0.1111111111111111,
              "#46039f"
             ],
             [
              0.2222222222222222,
              "#7201a8"
             ],
             [
              0.3333333333333333,
              "#9c179e"
             ],
             [
              0.4444444444444444,
              "#bd3786"
             ],
             [
              0.5555555555555556,
              "#d8576b"
             ],
             [
              0.6666666666666666,
              "#ed7953"
             ],
             [
              0.7777777777777778,
              "#fb9f3a"
             ],
             [
              0.8888888888888888,
              "#fdca26"
             ],
             [
              1,
              "#f0f921"
             ]
            ],
            "type": "heatmapgl"
           }
          ],
          "histogram": [
           {
            "marker": {
             "pattern": {
              "fillmode": "overlay",
              "size": 10,
              "solidity": 0.2
             }
            },
            "type": "histogram"
           }
          ],
          "histogram2d": [
           {
            "colorbar": {
             "outlinewidth": 0,
             "ticks": ""
            },
            "colorscale": [
             [
              0,
              "#0d0887"
             ],
             [
              0.1111111111111111,
              "#46039f"
             ],
             [
              0.2222222222222222,
              "#7201a8"
             ],
             [
              0.3333333333333333,
              "#9c179e"
             ],
             [
              0.4444444444444444,
              "#bd3786"
             ],
             [
              0.5555555555555556,
              "#d8576b"
             ],
             [
              0.6666666666666666,
              "#ed7953"
             ],
             [
              0.7777777777777778,
              "#fb9f3a"
             ],
             [
              0.8888888888888888,
              "#fdca26"
             ],
             [
              1,
              "#f0f921"
             ]
            ],
            "type": "histogram2d"
           }
          ],
          "histogram2dcontour": [
           {
            "colorbar": {
             "outlinewidth": 0,
             "ticks": ""
            },
            "colorscale": [
             [
              0,
              "#0d0887"
             ],
             [
              0.1111111111111111,
              "#46039f"
             ],
             [
              0.2222222222222222,
              "#7201a8"
             ],
             [
              0.3333333333333333,
              "#9c179e"
             ],
             [
              0.4444444444444444,
              "#bd3786"
             ],
             [
              0.5555555555555556,
              "#d8576b"
             ],
             [
              0.6666666666666666,
              "#ed7953"
             ],
             [
              0.7777777777777778,
              "#fb9f3a"
             ],
             [
              0.8888888888888888,
              "#fdca26"
             ],
             [
              1,
              "#f0f921"
             ]
            ],
            "type": "histogram2dcontour"
           }
          ],
          "mesh3d": [
           {
            "colorbar": {
             "outlinewidth": 0,
             "ticks": ""
            },
            "type": "mesh3d"
           }
          ],
          "parcoords": [
           {
            "line": {
             "colorbar": {
              "outlinewidth": 0,
              "ticks": ""
             }
            },
            "type": "parcoords"
           }
          ],
          "pie": [
           {
            "automargin": true,
            "type": "pie"
           }
          ],
          "scatter": [
           {
            "fillpattern": {
             "fillmode": "overlay",
             "size": 10,
             "solidity": 0.2
            },
            "type": "scatter"
           }
          ],
          "scatter3d": [
           {
            "line": {
             "colorbar": {
              "outlinewidth": 0,
              "ticks": ""
             }
            },
            "marker": {
             "colorbar": {
              "outlinewidth": 0,
              "ticks": ""
             }
            },
            "type": "scatter3d"
           }
          ],
          "scattercarpet": [
           {
            "marker": {
             "colorbar": {
              "outlinewidth": 0,
              "ticks": ""
             }
            },
            "type": "scattercarpet"
           }
          ],
          "scattergeo": [
           {
            "marker": {
             "colorbar": {
              "outlinewidth": 0,
              "ticks": ""
             }
            },
            "type": "scattergeo"
           }
          ],
          "scattergl": [
           {
            "marker": {
             "colorbar": {
              "outlinewidth": 0,
              "ticks": ""
             }
            },
            "type": "scattergl"
           }
          ],
          "scattermapbox": [
           {
            "marker": {
             "colorbar": {
              "outlinewidth": 0,
              "ticks": ""
             }
            },
            "type": "scattermapbox"
           }
          ],
          "scatterpolar": [
           {
            "marker": {
             "colorbar": {
              "outlinewidth": 0,
              "ticks": ""
             }
            },
            "type": "scatterpolar"
           }
          ],
          "scatterpolargl": [
           {
            "marker": {
             "colorbar": {
              "outlinewidth": 0,
              "ticks": ""
             }
            },
            "type": "scatterpolargl"
           }
          ],
          "scatterternary": [
           {
            "marker": {
             "colorbar": {
              "outlinewidth": 0,
              "ticks": ""
             }
            },
            "type": "scatterternary"
           }
          ],
          "surface": [
           {
            "colorbar": {
             "outlinewidth": 0,
             "ticks": ""
            },
            "colorscale": [
             [
              0,
              "#0d0887"
             ],
             [
              0.1111111111111111,
              "#46039f"
             ],
             [
              0.2222222222222222,
              "#7201a8"
             ],
             [
              0.3333333333333333,
              "#9c179e"
             ],
             [
              0.4444444444444444,
              "#bd3786"
             ],
             [
              0.5555555555555556,
              "#d8576b"
             ],
             [
              0.6666666666666666,
              "#ed7953"
             ],
             [
              0.7777777777777778,
              "#fb9f3a"
             ],
             [
              0.8888888888888888,
              "#fdca26"
             ],
             [
              1,
              "#f0f921"
             ]
            ],
            "type": "surface"
           }
          ],
          "table": [
           {
            "cells": {
             "fill": {
              "color": "#EBF0F8"
             },
             "line": {
              "color": "white"
             }
            },
            "header": {
             "fill": {
              "color": "#C8D4E3"
             },
             "line": {
              "color": "white"
             }
            },
            "type": "table"
           }
          ]
         },
         "layout": {
          "annotationdefaults": {
           "arrowcolor": "#2a3f5f",
           "arrowhead": 0,
           "arrowwidth": 1
          },
          "autotypenumbers": "strict",
          "coloraxis": {
           "colorbar": {
            "outlinewidth": 0,
            "ticks": ""
           }
          },
          "colorscale": {
           "diverging": [
            [
             0,
             "#8e0152"
            ],
            [
             0.1,
             "#c51b7d"
            ],
            [
             0.2,
             "#de77ae"
            ],
            [
             0.3,
             "#f1b6da"
            ],
            [
             0.4,
             "#fde0ef"
            ],
            [
             0.5,
             "#f7f7f7"
            ],
            [
             0.6,
             "#e6f5d0"
            ],
            [
             0.7,
             "#b8e186"
            ],
            [
             0.8,
             "#7fbc41"
            ],
            [
             0.9,
             "#4d9221"
            ],
            [
             1,
             "#276419"
            ]
           ],
           "sequential": [
            [
             0,
             "#0d0887"
            ],
            [
             0.1111111111111111,
             "#46039f"
            ],
            [
             0.2222222222222222,
             "#7201a8"
            ],
            [
             0.3333333333333333,
             "#9c179e"
            ],
            [
             0.4444444444444444,
             "#bd3786"
            ],
            [
             0.5555555555555556,
             "#d8576b"
            ],
            [
             0.6666666666666666,
             "#ed7953"
            ],
            [
             0.7777777777777778,
             "#fb9f3a"
            ],
            [
             0.8888888888888888,
             "#fdca26"
            ],
            [
             1,
             "#f0f921"
            ]
           ],
           "sequentialminus": [
            [
             0,
             "#0d0887"
            ],
            [
             0.1111111111111111,
             "#46039f"
            ],
            [
             0.2222222222222222,
             "#7201a8"
            ],
            [
             0.3333333333333333,
             "#9c179e"
            ],
            [
             0.4444444444444444,
             "#bd3786"
            ],
            [
             0.5555555555555556,
             "#d8576b"
            ],
            [
             0.6666666666666666,
             "#ed7953"
            ],
            [
             0.7777777777777778,
             "#fb9f3a"
            ],
            [
             0.8888888888888888,
             "#fdca26"
            ],
            [
             1,
             "#f0f921"
            ]
           ]
          },
          "colorway": [
           "#636efa",
           "#EF553B",
           "#00cc96",
           "#ab63fa",
           "#FFA15A",
           "#19d3f3",
           "#FF6692",
           "#B6E880",
           "#FF97FF",
           "#FECB52"
          ],
          "font": {
           "color": "#2a3f5f"
          },
          "geo": {
           "bgcolor": "white",
           "lakecolor": "white",
           "landcolor": "#E5ECF6",
           "showlakes": true,
           "showland": true,
           "subunitcolor": "white"
          },
          "hoverlabel": {
           "align": "left"
          },
          "hovermode": "closest",
          "mapbox": {
           "style": "light"
          },
          "paper_bgcolor": "white",
          "plot_bgcolor": "#E5ECF6",
          "polar": {
           "angularaxis": {
            "gridcolor": "white",
            "linecolor": "white",
            "ticks": ""
           },
           "bgcolor": "#E5ECF6",
           "radialaxis": {
            "gridcolor": "white",
            "linecolor": "white",
            "ticks": ""
           }
          },
          "scene": {
           "xaxis": {
            "backgroundcolor": "#E5ECF6",
            "gridcolor": "white",
            "gridwidth": 2,
            "linecolor": "white",
            "showbackground": true,
            "ticks": "",
            "zerolinecolor": "white"
           },
           "yaxis": {
            "backgroundcolor": "#E5ECF6",
            "gridcolor": "white",
            "gridwidth": 2,
            "linecolor": "white",
            "showbackground": true,
            "ticks": "",
            "zerolinecolor": "white"
           },
           "zaxis": {
            "backgroundcolor": "#E5ECF6",
            "gridcolor": "white",
            "gridwidth": 2,
            "linecolor": "white",
            "showbackground": true,
            "ticks": "",
            "zerolinecolor": "white"
           }
          },
          "shapedefaults": {
           "line": {
            "color": "#2a3f5f"
           }
          },
          "ternary": {
           "aaxis": {
            "gridcolor": "white",
            "linecolor": "white",
            "ticks": ""
           },
           "baxis": {
            "gridcolor": "white",
            "linecolor": "white",
            "ticks": ""
           },
           "bgcolor": "#E5ECF6",
           "caxis": {
            "gridcolor": "white",
            "linecolor": "white",
            "ticks": ""
           }
          },
          "title": {
           "x": 0.05
          },
          "xaxis": {
           "automargin": true,
           "gridcolor": "white",
           "linecolor": "white",
           "ticks": "",
           "title": {
            "standoff": 15
           },
           "zerolinecolor": "white",
           "zerolinewidth": 2
          },
          "yaxis": {
           "automargin": true,
           "gridcolor": "white",
           "linecolor": "white",
           "ticks": "",
           "title": {
            "standoff": 15
           },
           "zerolinecolor": "white",
           "zerolinewidth": 2
          }
         }
        },
        "title": {
         "text": "Przestrzeń Wektorowa Testowych Przypadków (Zaznaczenie Poprawnych/Niepoprawnych)"
        },
        "width": 1200,
        "xaxis": {
         "anchor": "y",
         "domain": [
          0,
          1
         ],
         "title": {
          "text": "TSNE-1"
         }
        },
        "yaxis": {
         "anchor": "x",
         "domain": [
          0,
          1
         ],
         "title": {
          "text": "TSNE-2"
         }
        }
       }
      }
     },
     "metadata": {},
     "output_type": "display_data"
    }
   ],
   "source": [
    "\n",
    "pca = PCA(n_components=40, random_state=42)\n",
    "embeddings_pca = pca.fit_transform(test_embeddings)\n",
    "\n",
    "tsne = TSNE(n_components=2, perplexity=30, n_iter=300, random_state=42)\n",
    "embeddings_tsne = tsne.fit_transform(embeddings_pca)\n",
    "\n",
    "df_visualization = pd.DataFrame({\n",
    "    'TSNE-1': embeddings_tsne[:,0],\n",
    "    'TSNE-2': embeddings_tsne[:,1],\n",
    "    'True Label': test_labels,\n",
    "    'Predicted Label': test_predicted_labels,\n",
    "    'Text': test_df['text']\n",
    "})\n",
    "\n",
    "fig_true = px.scatter(\n",
    "    df_visualization,\n",
    "    x='TSNE-1',\n",
    "    y='TSNE-2',\n",
    "    color='True Label',\n",
    "    hover_data=['True Label', 'Predicted Label', 'Text'],\n",
    "    title='Przestrzeń Wektorowa Testowych Przypadków (Kolor: Prawdziwe Etykiety)',\n",
    "    width=1200,\n",
    "    height=600\n",
    ")\n",
    "\n",
    "fig_true.show()\n",
    "\n",
    "fig_pred = px.scatter(\n",
    "    df_visualization,\n",
    "    x='TSNE-1',\n",
    "    y='TSNE-2',\n",
    "    color='Predicted Label',\n",
    "    hover_data=['True Label', 'Predicted Label', 'Text'],\n",
    "    title='Przestrzeń Wektorowa Testowych Przypadków (Kolor: Przewidywane Etykiety)',\n",
    "    width=1200,\n",
    "    height=600\n",
    ")\n",
    "\n",
    "fig_pred.show()\n",
    "\n",
    "df_visualization['Correct'] = df_visualization['True Label'] == df_visualization['Predicted Label']\n",
    "\n",
    "fig_correct = px.scatter(\n",
    "    df_visualization,\n",
    "    x='TSNE-1',\n",
    "    y='TSNE-2',\n",
    "    color='Correct',\n",
    "    symbol='Correct',\n",
    "    hover_data=['True Label', 'Predicted Label', 'Text'],\n",
    "    title='Przestrzeń Wektorowa Testowych Przypadków (Zaznaczenie Poprawnych/Niepoprawnych)',\n",
    "    width=1200,\n",
    "    height=600\n",
    ")\n",
    "\n",
    "fig_correct.show()"
   ]
  }
 ],
 "metadata": {
  "kernelspec": {
   "display_name": "py310",
   "language": "python",
   "name": "python3"
  },
  "language_info": {
   "codemirror_mode": {
    "name": "ipython",
    "version": 3
   },
   "file_extension": ".py",
   "mimetype": "text/x-python",
   "name": "python",
   "nbconvert_exporter": "python",
   "pygments_lexer": "ipython3",
   "version": "3.10.13"
  }
 },
 "nbformat": 4,
 "nbformat_minor": 2
}
