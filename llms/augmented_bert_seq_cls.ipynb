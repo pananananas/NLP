{
 "cells": [
  {
   "cell_type": "code",
   "execution_count": 1,
   "metadata": {},
   "outputs": [],
   "source": [
    "from transformers import AutoTokenizer, AutoModelForSequenceClassification, DataCollatorWithPadding, Trainer, TrainingArguments, pipeline\n",
    "from peft import PeftModel, PeftConfig, LoraConfig, TaskType, get_peft_model\n",
    "from sklearn.metrics import confusion_matrix, classification_report\n",
    "from sklearn.model_selection import train_test_split\n",
    "from datasets import Dataset, DatasetDict\n",
    "from torch.utils.data import DataLoader\n",
    "from sklearn.decomposition import PCA\n",
    "from sklearn.manifold import TSNE\n",
    "from tqdm import tqdm\n",
    "import torch.nn.functional as F\n",
    "import matplotlib.pyplot as plt\n",
    "import plotly.express as px\n",
    "import seaborn as sns\n",
    "import pandas as pd\n",
    "import numpy as np\n",
    "import torch\n",
    "import os"
   ]
  },
  {
   "cell_type": "code",
   "execution_count": 2,
   "metadata": {},
   "outputs": [],
   "source": [
    "model_name = \"allegro/herbert-base-cased\"\n",
    "device = \"mps\""
   ]
  },
  {
   "cell_type": "code",
   "execution_count": 3,
   "metadata": {},
   "outputs": [
    {
     "name": "stdout",
     "output_type": "stream",
     "text": [
      "First few entries:\n"
     ]
    },
    {
     "data": {
      "text/html": [
       "<div>\n",
       "<style scoped>\n",
       "    .dataframe tbody tr th:only-of-type {\n",
       "        vertical-align: middle;\n",
       "    }\n",
       "\n",
       "    .dataframe tbody tr th {\n",
       "        vertical-align: top;\n",
       "    }\n",
       "\n",
       "    .dataframe thead th {\n",
       "        text-align: right;\n",
       "    }\n",
       "</style>\n",
       "<table border=\"1\" class=\"dataframe\">\n",
       "  <thead>\n",
       "    <tr style=\"text-align: right;\">\n",
       "      <th></th>\n",
       "      <th>text</th>\n",
       "      <th>label</th>\n",
       "    </tr>\n",
       "  </thead>\n",
       "  <tbody>\n",
       "    <tr>\n",
       "      <th>0</th>\n",
       "      <td>Lakier roweru bardzo kiepskiej jakości, robią ...</td>\n",
       "      <td>Negative</td>\n",
       "    </tr>\n",
       "    <tr>\n",
       "      <th>1</th>\n",
       "      <td>Lakier roweru bardzo kiedy ŻE robią się odprys...</td>\n",
       "      <td>Negative</td>\n",
       "    </tr>\n",
       "    <tr>\n",
       "      <th>2</th>\n",
       "      <td>od roweru bardzo kiepskiej jakości, robią się ...</td>\n",
       "      <td>Negative</td>\n",
       "    </tr>\n",
       "    <tr>\n",
       "      <th>3</th>\n",
       "      <td>Nie jestem zadowolony z zakupu. Przede wszystk...</td>\n",
       "      <td>Negative</td>\n",
       "    </tr>\n",
       "    <tr>\n",
       "      <th>4</th>\n",
       "      <td>Nie jestem zadowolony z zakupu. mnie wszystkim...</td>\n",
       "      <td>Negative</td>\n",
       "    </tr>\n",
       "  </tbody>\n",
       "</table>\n",
       "</div>"
      ],
      "text/plain": [
       "                                                text     label\n",
       "0  Lakier roweru bardzo kiepskiej jakości, robią ...  Negative\n",
       "1  Lakier roweru bardzo kiedy ŻE robią się odprys...  Negative\n",
       "2  od roweru bardzo kiepskiej jakości, robią się ...  Negative\n",
       "3  Nie jestem zadowolony z zakupu. Przede wszystk...  Negative\n",
       "4  Nie jestem zadowolony z zakupu. mnie wszystkim...  Negative"
      ]
     },
     "execution_count": 3,
     "metadata": {},
     "output_type": "execute_result"
    }
   ],
   "source": [
    "data_path = \"augmented_texts_bert.csv\"\n",
    "df = pd.read_csv(data_path)\n",
    "\n",
    "print(\"First few entries:\")\n",
    "df.head()"
   ]
  },
  {
   "cell_type": "code",
   "execution_count": 4,
   "metadata": {},
   "outputs": [
    {
     "name": "stdout",
     "output_type": "stream",
     "text": [
      "\n",
      "Class Counts:\n",
      "label\n",
      "Neutral     450\n",
      "Positive    249\n",
      "Negative    201\n",
      "Name: count, dtype: int64\n",
      "\n",
      "Minimum class count: 201\n"
     ]
    }
   ],
   "source": [
    "class_counts = df['label'].value_counts()\n",
    "print(\"\\nClass Counts:\")\n",
    "print(class_counts)\n",
    "\n",
    "min_count = class_counts.min()\n",
    "print(f\"\\nMinimum class count: {min_count}\")"
   ]
  },
  {
   "cell_type": "code",
   "execution_count": 5,
   "metadata": {},
   "outputs": [
    {
     "name": "stdout",
     "output_type": "stream",
     "text": [
      "\n",
      "Balanced Label Distribution:\n",
      "label\n",
      "Negative    33.333333\n",
      "Neutral     33.333333\n",
      "Positive    33.333333\n",
      "Name: proportion, dtype: float64\n"
     ]
    },
    {
     "name": "stderr",
     "output_type": "stream",
     "text": [
      "/var/folders/ld/46j6jly10md36dbxgn_h72br0000gn/T/ipykernel_86339/1788761823.py:3: DeprecationWarning: DataFrameGroupBy.apply operated on the grouping columns. This behavior is deprecated, and in a future version of pandas the grouping columns will be excluded from the operation. Either pass `include_groups=False` to exclude the groupings or explicitly select the grouping columns after groupby to silence this warning.\n",
      "  df_balanced = df.groupby('label').apply(lambda x: x.sample(n=min_count, random_state=random_seed)).reset_index(drop=True)\n"
     ]
    }
   ],
   "source": [
    "random_seed = 42\n",
    "\n",
    "df_balanced = df.groupby('label').apply(lambda x: x.sample(n=min_count, random_state=random_seed)).reset_index(drop=True)\n",
    "\n",
    "print(\"\\nBalanced Label Distribution:\")\n",
    "print(df_balanced['label'].value_counts(normalize=True) * 100)"
   ]
  },
  {
   "cell_type": "code",
   "execution_count": 6,
   "metadata": {},
   "outputs": [
    {
     "data": {
      "text/plain": [
       "DatasetDict({\n",
       "    train: Dataset({\n",
       "        features: ['text', 'label', '__index_level_0__'],\n",
       "        num_rows: 482\n",
       "    })\n",
       "    test: Dataset({\n",
       "        features: ['text', 'label', '__index_level_0__'],\n",
       "        num_rows: 121\n",
       "    })\n",
       "})"
      ]
     },
     "execution_count": 6,
     "metadata": {},
     "output_type": "execute_result"
    }
   ],
   "source": [
    "train_df, test_df = train_test_split(\n",
    "    df_balanced, \n",
    "    test_size=0.2, \n",
    "    random_state=42, \n",
    "    # stratify=df['label']\n",
    ")\n",
    "\n",
    "train_dataset = Dataset.from_pandas(train_df)\n",
    "test_dataset = Dataset.from_pandas(test_df)\n",
    "\n",
    "dataset = DatasetDict({\n",
    "    \"train\": train_dataset,\n",
    "    \"test\": test_dataset\n",
    "})\n",
    "dataset"
   ]
  },
  {
   "cell_type": "code",
   "execution_count": 7,
   "metadata": {},
   "outputs": [
    {
     "name": "stdout",
     "output_type": "stream",
     "text": [
      "Unique Labels: ['Negative', 'Neutral', 'Positive']\n",
      "Number of Labels: 3\n",
      "Training Set Label Distribution:\n",
      "label\n",
      "Positive    33.817427\n",
      "Neutral     33.609959\n",
      "Negative    32.572614\n",
      "Name: proportion, dtype: float64\n",
      "\n",
      "Test Set Label Distribution:\n",
      "label\n",
      "Negative    36.363636\n",
      "Neutral     32.231405\n",
      "Positive    31.404959\n",
      "Name: proportion, dtype: float64\n"
     ]
    }
   ],
   "source": [
    "print(\"Unique Labels:\", sorted(df['label'].unique()))\n",
    "print(\"Number of Labels:\", len(sorted(df['label'].unique())))\n",
    "\n",
    "print(\"Training Set Label Distribution:\")\n",
    "print(train_df['label'].value_counts(normalize=True) * 100)\n",
    "\n",
    "print(\"\\nTest Set Label Distribution:\")\n",
    "print(test_df['label'].value_counts(normalize=True) * 100)      # 41.46341463414634"
   ]
  },
  {
   "cell_type": "code",
   "execution_count": 8,
   "metadata": {},
   "outputs": [
    {
     "name": "stdout",
     "output_type": "stream",
     "text": [
      "INPUT: Witam Długo się namyślał em przed zakupem przyzwoitego pistoletu i zdecydował em się na STEINELA 3002. Porażka na całej lini pierwsza próba pracy zagrzewa, podał klej i przestał działać. Wysyłka na serwis. Po wymianie systemu grzejnego pistolet puszczał klej bokami, kapał z podajnika i po pięciu minutach ponownie przestał działać. Wysyłka na serwis. Jak do tej pory mam go od dwóch miesięcy a popracował 5 minut. Wydaje mi się że pistolet za 100 powinien wytrzymać dłużej. Koszty dostawy na serwis i odbiór zbliżają się do ceny zakupu. Nie polecam tego produktu. Zapomniał em serwis sam był zaskoczony jakością tworzyw i brakiem jakiś plomb ( prawdopodobnie zmieniono wykonawcę produktu na producenta z Rumuni ) Steinel to już nie te same narzędzia co kiedyś. Proponuję poważnie się zastanowić przed zakupem. Pozdrawiam \n",
      "OUTPUT: Negative\n",
      "\n",
      "INPUT: Human do odbębnienia, na W można było grać ; karty, wormsy, a może i nawet bierki ; ) na sali nie 150 osób praktycznie nigdy którym siedziało więcej niż 10 studentow w ) \n",
      "OUTPUT: Positive\n",
      "\n",
      "INPUT: Fizyka laborki POLECAM ! ! ! [ / b ] Tadeusz bardzo wporzadku facet, początkowo wydawał się groźny, zapowiedział na pierwszych zajęciach kartkówke, ale zdołał przestraszyć tylko samego siebie chyba : P Kartkówki sa specyficzne, część grupy je ma, część która bardzo marudzi nie ma. \n",
      "OUTPUT: Positive\n",
      "\n"
     ]
    }
   ],
   "source": [
    "for entry in dataset['train'].select(range(3)):\n",
    "    print('INPUT: {} \\nOUTPUT: {}\\n'.format(entry['text'], entry['label']))"
   ]
  },
  {
   "cell_type": "code",
   "execution_count": 9,
   "metadata": {},
   "outputs": [
    {
     "data": {
      "text/html": [
       "<div>\n",
       "<style scoped>\n",
       "    .dataframe tbody tr th:only-of-type {\n",
       "        vertical-align: middle;\n",
       "    }\n",
       "\n",
       "    .dataframe tbody tr th {\n",
       "        vertical-align: top;\n",
       "    }\n",
       "\n",
       "    .dataframe thead th {\n",
       "        text-align: right;\n",
       "    }\n",
       "</style>\n",
       "<table border=\"1\" class=\"dataframe\">\n",
       "  <thead>\n",
       "    <tr style=\"text-align: right;\">\n",
       "      <th></th>\n",
       "      <th>Diagnosis</th>\n",
       "      <th>train_set</th>\n",
       "      <th>test_set</th>\n",
       "    </tr>\n",
       "  </thead>\n",
       "  <tbody>\n",
       "    <tr>\n",
       "      <th>0</th>\n",
       "      <td>Negative</td>\n",
       "      <td>157</td>\n",
       "      <td>44</td>\n",
       "    </tr>\n",
       "    <tr>\n",
       "      <th>1</th>\n",
       "      <td>Neutral</td>\n",
       "      <td>162</td>\n",
       "      <td>39</td>\n",
       "    </tr>\n",
       "    <tr>\n",
       "      <th>2</th>\n",
       "      <td>Positive</td>\n",
       "      <td>163</td>\n",
       "      <td>38</td>\n",
       "    </tr>\n",
       "  </tbody>\n",
       "</table>\n",
       "</div>"
      ],
      "text/plain": [
       "  Diagnosis  train_set  test_set\n",
       "0  Negative        157        44\n",
       "1   Neutral        162        39\n",
       "2  Positive        163        38"
      ]
     },
     "metadata": {},
     "output_type": "display_data"
    }
   ],
   "source": [
    "train_counts = pd.DataFrame({'Diagnosis': train_df['label']})\n",
    "train_counts = train_counts.groupby('Diagnosis').size().reset_index(name='train_set')\n",
    "\n",
    "test_counts = pd.DataFrame({'Diagnosis': test_df['label']})\n",
    "test_counts = test_counts.groupby('Diagnosis').size().reset_index(name='test_set')\n",
    "\n",
    "display(train_counts.merge(test_counts, on='Diagnosis'))"
   ]
  },
  {
   "cell_type": "code",
   "execution_count": 10,
   "metadata": {},
   "outputs": [
    {
     "name": "stdout",
     "output_type": "stream",
     "text": [
      "Label to ID mapping: {'Negative': 0, 'Neutral': 1, 'Positive': 2}\n",
      "ID to Label mapping: {0: 'Negative', 1: 'Neutral', 2: 'Positive'}\n"
     ]
    }
   ],
   "source": [
    "sorted_labels = sorted(set(df['label']))\n",
    "label2id = {label: idx for idx, label in enumerate(sorted_labels)}\n",
    "id2label = {idx: label for label, idx in label2id.items()}\n",
    "\n",
    "print(\"Label to ID mapping:\", label2id)\n",
    "print(\"ID to Label mapping:\", id2label)"
   ]
  },
  {
   "cell_type": "code",
   "execution_count": 11,
   "metadata": {},
   "outputs": [
    {
     "name": "stderr",
     "output_type": "stream",
     "text": [
      "Some weights of BertForSequenceClassification were not initialized from the model checkpoint at allegro/herbert-base-cased and are newly initialized: ['classifier.bias', 'classifier.weight']\n",
      "You should probably TRAIN this model on a down-stream task to be able to use it for predictions and inference.\n"
     ]
    }
   ],
   "source": [
    "\n",
    "tokenizer = AutoTokenizer.from_pretrained(model_name)\n",
    "\n",
    "foundation_model = AutoModelForSequenceClassification.from_pretrained(\n",
    "    model_name,\n",
    "    num_labels=len(label2id),\n",
    "    label2id=label2id,\n",
    "    id2label=id2label\n",
    ")\n",
    "\n",
    "classifier = pipeline(\"text-classification\", model=foundation_model, tokenizer=tokenizer, device=device)"
   ]
  },
  {
   "cell_type": "code",
   "execution_count": 12,
   "metadata": {},
   "outputs": [
    {
     "name": "stdout",
     "output_type": "stream",
     "text": [
      "Evaluating foundation model before fine-tuning...\n",
      "Foundation Model Accuracy: 36.36%\n"
     ]
    }
   ],
   "source": [
    "print(\"Evaluating foundation model before fine-tuning...\")\n",
    "\n",
    "test_encodings = tokenizer(test_df['text'].tolist(), padding=True, truncation=True, return_tensors=\"pt\")\n",
    "\n",
    "foundation_model.to(device)\n",
    "test_encodings = {k: v.to(device) for k, v in test_encodings.items()}\n",
    "\n",
    "with torch.no_grad():\n",
    "    outputs = foundation_model(**test_encodings)\n",
    "    logits = outputs.logits\n",
    "    predictions = torch.argmax(logits, dim=-1).cpu().numpy()\n",
    "\n",
    "# Calculate accuracy\n",
    "test_labels = test_df['label'].map(label2id).values\n",
    "foundation_accuracy = round(np.mean(predictions == test_labels) * 100, 2)\n",
    "print(f\"Foundation Model Accuracy: {foundation_accuracy}%\")"
   ]
  },
  {
   "cell_type": "code",
   "execution_count": 13,
   "metadata": {},
   "outputs": [
    {
     "name": "stdout",
     "output_type": "stream",
     "text": [
      "Number of Labels in Model: 3\n"
     ]
    }
   ],
   "source": [
    "print(\"Number of Labels in Model:\", foundation_model.config.num_labels)"
   ]
  },
  {
   "cell_type": "code",
   "execution_count": 14,
   "metadata": {},
   "outputs": [
    {
     "data": {
      "text/plain": [
       "PeftModelForSequenceClassification(\n",
       "  (base_model): LoraModel(\n",
       "    (model): BertForSequenceClassification(\n",
       "      (bert): BertModel(\n",
       "        (embeddings): BertEmbeddings(\n",
       "          (word_embeddings): Embedding(50000, 768, padding_idx=1)\n",
       "          (position_embeddings): Embedding(514, 768)\n",
       "          (token_type_embeddings): Embedding(2, 768)\n",
       "          (LayerNorm): LayerNorm((768,), eps=1e-12, elementwise_affine=True)\n",
       "          (dropout): Dropout(p=0.1, inplace=False)\n",
       "        )\n",
       "        (encoder): BertEncoder(\n",
       "          (layer): ModuleList(\n",
       "            (0-11): 12 x BertLayer(\n",
       "              (attention): BertAttention(\n",
       "                (self): BertSdpaSelfAttention(\n",
       "                  (query): lora.Linear(\n",
       "                    (base_layer): Linear(in_features=768, out_features=768, bias=True)\n",
       "                    (lora_dropout): ModuleDict(\n",
       "                      (default): Dropout(p=0.1, inplace=False)\n",
       "                    )\n",
       "                    (lora_A): ModuleDict(\n",
       "                      (default): Linear(in_features=768, out_features=64, bias=False)\n",
       "                    )\n",
       "                    (lora_B): ModuleDict(\n",
       "                      (default): Linear(in_features=64, out_features=768, bias=False)\n",
       "                    )\n",
       "                    (lora_embedding_A): ParameterDict()\n",
       "                    (lora_embedding_B): ParameterDict()\n",
       "                    (lora_magnitude_vector): ModuleDict()\n",
       "                  )\n",
       "                  (key): Linear(in_features=768, out_features=768, bias=True)\n",
       "                  (value): lora.Linear(\n",
       "                    (base_layer): Linear(in_features=768, out_features=768, bias=True)\n",
       "                    (lora_dropout): ModuleDict(\n",
       "                      (default): Dropout(p=0.1, inplace=False)\n",
       "                    )\n",
       "                    (lora_A): ModuleDict(\n",
       "                      (default): Linear(in_features=768, out_features=64, bias=False)\n",
       "                    )\n",
       "                    (lora_B): ModuleDict(\n",
       "                      (default): Linear(in_features=64, out_features=768, bias=False)\n",
       "                    )\n",
       "                    (lora_embedding_A): ParameterDict()\n",
       "                    (lora_embedding_B): ParameterDict()\n",
       "                    (lora_magnitude_vector): ModuleDict()\n",
       "                  )\n",
       "                  (dropout): Dropout(p=0.1, inplace=False)\n",
       "                )\n",
       "                (output): BertSelfOutput(\n",
       "                  (dense): Linear(in_features=768, out_features=768, bias=True)\n",
       "                  (LayerNorm): LayerNorm((768,), eps=1e-12, elementwise_affine=True)\n",
       "                  (dropout): Dropout(p=0.1, inplace=False)\n",
       "                )\n",
       "              )\n",
       "              (intermediate): BertIntermediate(\n",
       "                (dense): Linear(in_features=768, out_features=3072, bias=True)\n",
       "                (intermediate_act_fn): GELUActivation()\n",
       "              )\n",
       "              (output): BertOutput(\n",
       "                (dense): Linear(in_features=3072, out_features=768, bias=True)\n",
       "                (LayerNorm): LayerNorm((768,), eps=1e-12, elementwise_affine=True)\n",
       "                (dropout): Dropout(p=0.1, inplace=False)\n",
       "              )\n",
       "            )\n",
       "          )\n",
       "        )\n",
       "        (pooler): BertPooler(\n",
       "          (dense): Linear(in_features=768, out_features=768, bias=True)\n",
       "          (activation): Tanh()\n",
       "        )\n",
       "      )\n",
       "      (dropout): Dropout(p=0.1, inplace=False)\n",
       "      (classifier): ModulesToSaveWrapper(\n",
       "        (original_module): Linear(in_features=768, out_features=3, bias=True)\n",
       "        (modules_to_save): ModuleDict(\n",
       "          (default): Linear(in_features=768, out_features=3, bias=True)\n",
       "        )\n",
       "      )\n",
       "    )\n",
       "  )\n",
       ")"
      ]
     },
     "execution_count": 14,
     "metadata": {},
     "output_type": "execute_result"
    }
   ],
   "source": [
    "lora_config = LoraConfig(\n",
    "    task_type=TaskType.SEQ_CLS, \n",
    "    r=64, \n",
    "    lora_alpha=1, \n",
    "    lora_dropout=0.1\n",
    ")\n",
    "\n",
    "peft_model = get_peft_model(foundation_model, lora_config)\n",
    "peft_model"
   ]
  },
  {
   "cell_type": "code",
   "execution_count": 15,
   "metadata": {},
   "outputs": [
    {
     "name": "stdout",
     "output_type": "stream",
     "text": [
      "trainable params: 2,361,603 || all params: 126,806,790 || trainable%: 1.8624\n"
     ]
    }
   ],
   "source": [
    "peft_model.print_trainable_parameters()"
   ]
  },
  {
   "cell_type": "code",
   "execution_count": 16,
   "metadata": {},
   "outputs": [
    {
     "name": "stderr",
     "output_type": "stream",
     "text": [
      "huggingface/tokenizers: The current process just got forked, after parallelism has already been used. Disabling parallelism to avoid deadlocks...\n",
      "To disable this warning, you can either:\n",
      "\t- Avoid using `tokenizers` before the fork if possible\n",
      "\t- Explicitly set the environment variable TOKENIZERS_PARALLELISM=(true | false)\n"
     ]
    },
    {
     "data": {
      "application/vnd.jupyter.widget-view+json": {
       "model_id": "d98c2870620c4bbf89511c6bc4101b15",
       "version_major": 2,
       "version_minor": 0
      },
      "text/plain": [
       "Map:   0%|          | 0/482 [00:00<?, ? examples/s]"
      ]
     },
     "metadata": {},
     "output_type": "display_data"
    },
    {
     "data": {
      "application/vnd.jupyter.widget-view+json": {
       "model_id": "7d899e5b5439491b91d0da1950c53d21",
       "version_major": 2,
       "version_minor": 0
      },
      "text/plain": [
       "Map:   0%|          | 0/121 [00:00<?, ? examples/s]"
      ]
     },
     "metadata": {},
     "output_type": "display_data"
    },
    {
     "name": "stdout",
     "output_type": "stream",
     "text": [
      "DatasetDict({\n",
      "    train: Dataset({\n",
      "        features: ['text', '__index_level_0__', 'input_ids', 'token_type_ids', 'attention_mask', 'labels'],\n",
      "        num_rows: 482\n",
      "    })\n",
      "    test: Dataset({\n",
      "        features: ['text', '__index_level_0__', 'input_ids', 'token_type_ids', 'attention_mask', 'labels'],\n",
      "        num_rows: 121\n",
      "    })\n",
      "})\n"
     ]
    }
   ],
   "source": [
    "def preprocess_function(examples):\n",
    "    \"\"\"Preprocess the dataset by returning tokenized examples.\"\"\"\n",
    "    tokens = tokenizer(examples[\"text\"], padding=\"max_length\", truncation=True)\n",
    "    tokens['labels'] = [label2id[l] for l in examples[\"label\"]]\n",
    "    return tokens\n",
    "\n",
    "tokenized_ds = dataset.map(preprocess_function, batched=True, remove_columns=[\"label\"])\n",
    "\n",
    "print(tokenized_ds)"
   ]
  },
  {
   "cell_type": "code",
   "execution_count": 17,
   "metadata": {},
   "outputs": [
    {
     "name": "stdout",
     "output_type": "stream",
     "text": [
      "A tokenized training input example:\n",
      "Witam Długo się namyślał em przed zakupem przyzwoitego pistoletu i zdecydował em się na STEINELA 3002. Porażka na całej lini pierwsza próba pracy zagrzewa, podał klej i przestał działać. Wysyłka na serwis. Po wymianie systemu grzejnego pistolet puszczał klej bokami, kapał z podajnika i po pięciu minutach ponownie przestał działać. Wysyłka na serwis. Jak do tej pory mam go od dwóch miesięcy a popracował 5 minut. Wydaje mi się że pistolet za 100 powinien wytrzymać dłużej. Koszty dostawy na serwis i odbiór zbliżają się do ceny zakupu. Nie polecam tego produktu. Zapomniał em serwis sam był zaskoczony jakością tworzyw i brakiem jakiś plomb ( prawdopodobnie zmieniono wykonawcę produktu na producenta z Rumuni ) Steinel to już nie te same narzędzia co kiedyś. Proponuję poważnie się zastanowić przed zakupem. Pozdrawiam\n",
      "[0, 6962, 25107, 2022, 1996, 18705, 2082, 2534, 41374, 18776, 2210, 43825, 1009, 10463, 2082, 2022, 1998, 25056, 6362, 41, 8698, 48325, 1025, 1899, 37439, 1998, 4849, 48289, 6982, 14200, 2631, 4571, 2002, 2106, 1947, 12802, 6715, 1013, 1009, 19447, 9315, 1899, 2331, 2170, 8374, 1998, 15594, 1899, 2620, 26697, 5454, 4857, 12114, 31409, 25613, 6715, 1013, 2269, 2831, 1947, 2027, 10474, 1046, 2671, 78, 2465, 1009, 2184, 6476, 11922, 6744, 19447, 9315, 1899, 2331, 2170, 8374, 1998, 15594, 1899, 2912, 2041, 2320, 4947, 3818, 2010, 2173, 3159, 4647, 1011, 1991, 7675, 1008, 5174, 1899, 9550, 2069, 2022, 2040, 31409, 2163, 3486, 4640, 33320, 7847, 1899, 21119, 26694, 1998, 15594, 1009, 23413, 8169, 2403, 2022, 2041, 4504, 13181, 1899, 2351, 31364, 2210, 16212, 1899, 38384, 2156, 2082, 15594, 3591, 2430, 22128, 35574, 49935, 1009, 17797, 5560, 5365, 30575, 1341, 6697, 29938, 40371, 16212, 1998, 18445, 1046, 13343, 2145, 1940, 4176, 77, 14340, 2063, 2267, 1997, 2322, 7213, 16836, 2249, 5940, 1899, 25961, 10233, 2022, 15953, 2534, 41374, 1899, 10303, 2, 1, 1, 1, 1, 1, 1, 1, 1, 1, 1, 1, 1, 1, 1, 1, 1, 1, 1, 1, 1, 1, 1, 1, 1, 1, 1, 1, 1, 1, 1, 1, 1, 1, 1, 1, 1, 1, 1, 1, 1, 1, 1, 1, 1, 1, 1, 1, 1, 1, 1, 1, 1, 1, 1, 1, 1, 1, 1, 1, 1, 1, 1, 1, 1, 1, 1, 1, 1, 1, 1, 1, 1, 1, 1, 1, 1, 1, 1, 1, 1, 1, 1, 1, 1, 1, 1, 1, 1, 1, 1, 1, 1, 1, 1, 1, 1, 1, 1, 1, 1, 1, 1, 1, 1, 1, 1, 1, 1, 1, 1, 1, 1, 1, 1, 1, 1, 1, 1, 1, 1, 1, 1, 1, 1, 1, 1, 1, 1, 1, 1, 1, 1, 1, 1, 1, 1, 1, 1, 1, 1, 1, 1, 1, 1, 1, 1, 1, 1, 1, 1, 1, 1, 1, 1, 1, 1, 1, 1, 1, 1, 1, 1, 1, 1, 1, 1, 1, 1, 1, 1, 1, 1, 1, 1, 1, 1, 1, 1, 1, 1, 1, 1, 1, 1, 1, 1, 1, 1, 1, 1, 1, 1, 1, 1, 1, 1, 1, 1, 1, 1, 1, 1, 1, 1, 1, 1, 1, 1, 1, 1, 1, 1, 1, 1, 1, 1, 1, 1, 1, 1, 1, 1, 1, 1, 1, 1, 1, 1, 1, 1, 1, 1, 1, 1, 1, 1, 1, 1, 1, 1, 1, 1, 1, 1, 1, 1, 1, 1, 1, 1, 1, 1, 1, 1, 1, 1, 1, 1, 1, 1, 1, 1, 1, 1, 1, 1, 1, 1, 1, 1, 1, 1, 1, 1, 1, 1, 1, 1, 1, 1, 1, 1, 1, 1, 1, 1, 1, 1, 1, 1, 1, 1, 1, 1, 1, 1, 1, 1, 1, 1, 1, 1, 1, 1, 1, 1, 1, 1, 1, 1, 1, 1, 1, 1, 1, 1, 1, 1, 1, 1, 1, 1, 1, 1, 1, 1, 1, 1, 1, 1, 1, 1, 1, 1, 1, 1, 1, 1, 1, 1, 1, 1]\n",
      "\n",
      "\n",
      "A tokenized training label example:\n",
      "0\n"
     ]
    }
   ],
   "source": [
    "print(\"A tokenized training input example:\")\n",
    "# text\n",
    "print(tokenized_ds[\"train\"][0][\"text\"])\n",
    "# tokens\n",
    "print(tokenized_ds[\"train\"][0][\"input_ids\"])\n",
    "print(\"\\n\")\n",
    "print(\"A tokenized training label example:\")\n",
    "print(tokenized_ds[\"train\"][0][\"labels\"])"
   ]
  },
  {
   "cell_type": "code",
   "execution_count": 18,
   "metadata": {},
   "outputs": [
    {
     "name": "stderr",
     "output_type": "stream",
     "text": [
      "/opt/miniconda3/envs/py310/lib/python3.10/site-packages/transformers/training_args.py:1545: FutureWarning: `evaluation_strategy` is deprecated and will be removed in version 4.46 of 🤗 Transformers. Use `eval_strategy` instead\n",
      "  warnings.warn(\n"
     ]
    }
   ],
   "source": [
    "def compute_metrics(eval_pred):\n",
    "    predictions, labels = eval_pred\n",
    "    predictions = np.argmax(predictions, axis=1)\n",
    "    accuracy = (predictions == labels).mean() * 100\n",
    "    return {\"accuracy\": accuracy}\n",
    "\n",
    "trainer = Trainer(\n",
    "    model=peft_model,\n",
    "    args=TrainingArguments(\n",
    "        output_dir=\"herbert-lora\",\n",
    "        learning_rate=2e-5,\n",
    "        per_device_train_batch_size=8,\n",
    "        per_device_eval_batch_size=8,\n",
    "        num_train_epochs=10,\n",
    "        weight_decay=0.01,\n",
    "        evaluation_strategy=\"epoch\",\n",
    "        save_strategy=\"epoch\",\n",
    "        load_best_model_at_end=True,\n",
    "        metric_for_best_model=\"accuracy\",\n",
    "    ),\n",
    "    train_dataset=tokenized_ds[\"train\"],\n",
    "    eval_dataset=tokenized_ds[\"test\"],\n",
    "    tokenizer=tokenizer,\n",
    "    data_collator=DataCollatorWithPadding(tokenizer=tokenizer),\n",
    "    compute_metrics=compute_metrics,\n",
    ")"
   ]
  },
  {
   "cell_type": "code",
   "execution_count": 19,
   "metadata": {},
   "outputs": [
    {
     "name": "stderr",
     "output_type": "stream",
     "text": [
      "huggingface/tokenizers: The current process just got forked, after parallelism has already been used. Disabling parallelism to avoid deadlocks...\n",
      "To disable this warning, you can either:\n",
      "\t- Avoid using `tokenizers` before the fork if possible\n",
      "\t- Explicitly set the environment variable TOKENIZERS_PARALLELISM=(true | false)\n",
      "huggingface/tokenizers: The current process just got forked, after parallelism has already been used. Disabling parallelism to avoid deadlocks...\n",
      "To disable this warning, you can either:\n",
      "\t- Avoid using `tokenizers` before the fork if possible\n",
      "\t- Explicitly set the environment variable TOKENIZERS_PARALLELISM=(true | false)\n",
      "huggingface/tokenizers: The current process just got forked, after parallelism has already been used. Disabling parallelism to avoid deadlocks...\n",
      "To disable this warning, you can either:\n",
      "\t- Avoid using `tokenizers` before the fork if possible\n",
      "\t- Explicitly set the environment variable TOKENIZERS_PARALLELISM=(true | false)\n"
     ]
    },
    {
     "data": {
      "application/vnd.jupyter.widget-view+json": {
       "model_id": "b939b540d4074e91874b6db83169dbdc",
       "version_major": 2,
       "version_minor": 0
      },
      "text/plain": [
       "  0%|          | 0/610 [00:00<?, ?it/s]"
      ]
     },
     "metadata": {},
     "output_type": "display_data"
    },
    {
     "data": {
      "application/vnd.jupyter.widget-view+json": {
       "model_id": "d7bd399f1c264e448d7807f81ad960a8",
       "version_major": 2,
       "version_minor": 0
      },
      "text/plain": [
       "  0%|          | 0/16 [00:00<?, ?it/s]"
      ]
     },
     "metadata": {},
     "output_type": "display_data"
    },
    {
     "name": "stdout",
     "output_type": "stream",
     "text": [
      "{'eval_loss': 1.114435076713562, 'eval_accuracy': 35.53719008264463, 'eval_runtime': 6.7884, 'eval_samples_per_second': 17.825, 'eval_steps_per_second': 2.357, 'epoch': 1.0}\n"
     ]
    },
    {
     "data": {
      "application/vnd.jupyter.widget-view+json": {
       "model_id": "7ae6b7568ecf4df99698617f91eafe44",
       "version_major": 2,
       "version_minor": 0
      },
      "text/plain": [
       "  0%|          | 0/16 [00:00<?, ?it/s]"
      ]
     },
     "metadata": {},
     "output_type": "display_data"
    },
    {
     "name": "stdout",
     "output_type": "stream",
     "text": [
      "{'eval_loss': 1.0978162288665771, 'eval_accuracy': 35.53719008264463, 'eval_runtime': 6.0228, 'eval_samples_per_second': 20.09, 'eval_steps_per_second': 2.657, 'epoch': 2.0}\n"
     ]
    },
    {
     "data": {
      "application/vnd.jupyter.widget-view+json": {
       "model_id": "87aae8802d7b4b5a9aaf6e1edd75e3a3",
       "version_major": 2,
       "version_minor": 0
      },
      "text/plain": [
       "  0%|          | 0/16 [00:00<?, ?it/s]"
      ]
     },
     "metadata": {},
     "output_type": "display_data"
    },
    {
     "name": "stdout",
     "output_type": "stream",
     "text": [
      "{'eval_loss': 1.0893968343734741, 'eval_accuracy': 34.710743801652896, 'eval_runtime': 6.0464, 'eval_samples_per_second': 20.012, 'eval_steps_per_second': 2.646, 'epoch': 3.0}\n"
     ]
    },
    {
     "data": {
      "application/vnd.jupyter.widget-view+json": {
       "model_id": "0b6d5f031d3549008b0f6a0b134e6e19",
       "version_major": 2,
       "version_minor": 0
      },
      "text/plain": [
       "  0%|          | 0/16 [00:00<?, ?it/s]"
      ]
     },
     "metadata": {},
     "output_type": "display_data"
    },
    {
     "name": "stdout",
     "output_type": "stream",
     "text": [
      "{'eval_loss': 1.0867087841033936, 'eval_accuracy': 38.01652892561984, 'eval_runtime': 5.9296, 'eval_samples_per_second': 20.406, 'eval_steps_per_second': 2.698, 'epoch': 4.0}\n"
     ]
    },
    {
     "data": {
      "application/vnd.jupyter.widget-view+json": {
       "model_id": "f4f000e4fcee411b8f8a0c8cd265aed7",
       "version_major": 2,
       "version_minor": 0
      },
      "text/plain": [
       "  0%|          | 0/16 [00:00<?, ?it/s]"
      ]
     },
     "metadata": {},
     "output_type": "display_data"
    },
    {
     "name": "stdout",
     "output_type": "stream",
     "text": [
      "{'eval_loss': 1.0860055685043335, 'eval_accuracy': 37.1900826446281, 'eval_runtime': 5.9885, 'eval_samples_per_second': 20.205, 'eval_steps_per_second': 2.672, 'epoch': 5.0}\n"
     ]
    },
    {
     "data": {
      "application/vnd.jupyter.widget-view+json": {
       "model_id": "08d547b2455a48dcaaecd4e27cf42bce",
       "version_major": 2,
       "version_minor": 0
      },
      "text/plain": [
       "  0%|          | 0/16 [00:00<?, ?it/s]"
      ]
     },
     "metadata": {},
     "output_type": "display_data"
    },
    {
     "name": "stdout",
     "output_type": "stream",
     "text": [
      "{'eval_loss': 1.0858029127120972, 'eval_accuracy': 39.66942148760331, 'eval_runtime': 5.9517, 'eval_samples_per_second': 20.33, 'eval_steps_per_second': 2.688, 'epoch': 6.0}\n"
     ]
    },
    {
     "data": {
      "application/vnd.jupyter.widget-view+json": {
       "model_id": "1eab0888b4014ced89246945eec6378f",
       "version_major": 2,
       "version_minor": 0
      },
      "text/plain": [
       "  0%|          | 0/16 [00:00<?, ?it/s]"
      ]
     },
     "metadata": {},
     "output_type": "display_data"
    },
    {
     "name": "stdout",
     "output_type": "stream",
     "text": [
      "{'eval_loss': 1.0853440761566162, 'eval_accuracy': 39.66942148760331, 'eval_runtime': 5.9701, 'eval_samples_per_second': 20.268, 'eval_steps_per_second': 2.68, 'epoch': 7.0}\n"
     ]
    },
    {
     "data": {
      "application/vnd.jupyter.widget-view+json": {
       "model_id": "4d0146c868624e7b80db6347267cbebe",
       "version_major": 2,
       "version_minor": 0
      },
      "text/plain": [
       "  0%|          | 0/16 [00:00<?, ?it/s]"
      ]
     },
     "metadata": {},
     "output_type": "display_data"
    },
    {
     "name": "stdout",
     "output_type": "stream",
     "text": [
      "{'eval_loss': 1.085245132446289, 'eval_accuracy': 42.97520661157025, 'eval_runtime': 5.9671, 'eval_samples_per_second': 20.278, 'eval_steps_per_second': 2.681, 'epoch': 8.0}\n",
      "{'loss': 1.1062, 'grad_norm': 3.4923880100250244, 'learning_rate': 3.6065573770491806e-06, 'epoch': 8.2}\n"
     ]
    },
    {
     "data": {
      "application/vnd.jupyter.widget-view+json": {
       "model_id": "60f12dffbe5c410e8678002aca00cb6e",
       "version_major": 2,
       "version_minor": 0
      },
      "text/plain": [
       "  0%|          | 0/16 [00:00<?, ?it/s]"
      ]
     },
     "metadata": {},
     "output_type": "display_data"
    },
    {
     "name": "stdout",
     "output_type": "stream",
     "text": [
      "{'eval_loss': 1.0852463245391846, 'eval_accuracy': 42.14876033057851, 'eval_runtime': 6.2166, 'eval_samples_per_second': 19.464, 'eval_steps_per_second': 2.574, 'epoch': 9.0}\n"
     ]
    },
    {
     "data": {
      "application/vnd.jupyter.widget-view+json": {
       "model_id": "fad229fde99741e3a3cc1f65baf5e893",
       "version_major": 2,
       "version_minor": 0
      },
      "text/plain": [
       "  0%|          | 0/16 [00:00<?, ?it/s]"
      ]
     },
     "metadata": {},
     "output_type": "display_data"
    },
    {
     "name": "stdout",
     "output_type": "stream",
     "text": [
      "{'eval_loss': 1.0852289199829102, 'eval_accuracy': 41.32231404958678, 'eval_runtime': 6.0287, 'eval_samples_per_second': 20.071, 'eval_steps_per_second': 2.654, 'epoch': 10.0}\n",
      "{'train_runtime': 636.46, 'train_samples_per_second': 7.573, 'train_steps_per_second': 0.958, 'train_loss': 1.1033328572257621, 'epoch': 10.0}\n"
     ]
    },
    {
     "data": {
      "text/plain": [
       "TrainOutput(global_step=610, training_loss=1.1033328572257621, metrics={'train_runtime': 636.46, 'train_samples_per_second': 7.573, 'train_steps_per_second': 0.958, 'total_flos': 1303175023534080.0, 'train_loss': 1.1033328572257621, 'epoch': 10.0})"
      ]
     },
     "execution_count": 19,
     "metadata": {},
     "output_type": "execute_result"
    }
   ],
   "source": [
    "trainer.train()"
   ]
  },
  {
   "cell_type": "code",
   "execution_count": 20,
   "metadata": {},
   "outputs": [
    {
     "name": "stdout",
     "output_type": "stream",
     "text": [
      "File Name: adapter_model.safetensors; File Size: 9231.85KB\n",
      "File Name: README.md; File Size: 4.98KB\n",
      "File Name: adapter_config.json; File Size: 0.66KB\n"
     ]
    }
   ],
   "source": [
    "peft_herbert_model_path = \"fine-tuned-peft-herbert-model-weights/\"\n",
    "peft_model.save_pretrained(peft_herbert_model_path)\n",
    "\n",
    "for file_name in os.listdir(peft_herbert_model_path):\n",
    "    file_size = os.path.getsize(os.path.join(peft_herbert_model_path, file_name))\n",
    "    print(f\"File Name: {file_name}; File Size: {file_size / 1024:.2f}KB\")"
   ]
  },
  {
   "cell_type": "code",
   "execution_count": 21,
   "metadata": {},
   "outputs": [
    {
     "name": "stdout",
     "output_type": "stream",
     "text": [
      "Evaluating fine-tuned model...\n"
     ]
    },
    {
     "name": "stderr",
     "output_type": "stream",
     "text": [
      "Some weights of BertForSequenceClassification were not initialized from the model checkpoint at allegro/herbert-base-cased and are newly initialized: ['classifier.bias', 'classifier.weight']\n",
      "You should probably TRAIN this model on a down-stream task to be able to use it for predictions and inference.\n",
      "/opt/miniconda3/envs/py310/lib/python3.10/site-packages/transformers/training_args.py:1545: FutureWarning: `evaluation_strategy` is deprecated and will be removed in version 4.46 of 🤗 Transformers. Use `eval_strategy` instead\n",
      "  warnings.warn(\n"
     ]
    },
    {
     "data": {
      "application/vnd.jupyter.widget-view+json": {
       "model_id": "d2c7d9371ec54e93bfbc6bb4a6e218e2",
       "version_major": 2,
       "version_minor": 0
      },
      "text/plain": [
       "  0%|          | 0/16 [00:00<?, ?it/s]"
      ]
     },
     "metadata": {},
     "output_type": "display_data"
    },
    {
     "name": "stdout",
     "output_type": "stream",
     "text": [
      "{'eval_loss': 1.085245132446289, 'eval_model_preparation_time': 0.0021, 'eval_accuracy': 42.97520661157025, 'eval_runtime': 5.9182, 'eval_samples_per_second': 20.446, 'eval_steps_per_second': 2.704}\n"
     ]
    },
    {
     "data": {
      "text/plain": [
       "('final-fine-tuned-peft-herbert-model/tokenizer_config.json',\n",
       " 'final-fine-tuned-peft-herbert-model/special_tokens_map.json',\n",
       " 'final-fine-tuned-peft-herbert-model/vocab.json',\n",
       " 'final-fine-tuned-peft-herbert-model/merges.txt',\n",
       " 'final-fine-tuned-peft-herbert-model/added_tokens.json',\n",
       " 'final-fine-tuned-peft-herbert-model/tokenizer.json')"
      ]
     },
     "execution_count": 21,
     "metadata": {},
     "output_type": "execute_result"
    }
   ],
   "source": [
    "print(\"Evaluating fine-tuned model...\")\n",
    "\n",
    "config = PeftConfig.from_pretrained(peft_herbert_model_path)\n",
    "model = AutoModelForSequenceClassification.from_pretrained(\n",
    "    model_name, \n",
    "    num_labels=len(label2id),\n",
    "    label2id=label2id,\n",
    "    id2label=id2label\n",
    ")\n",
    "model = PeftModel.from_pretrained(model, peft_herbert_model_path)\n",
    "\n",
    "model.to(device)\n",
    "\n",
    "eval_trainer = Trainer(\n",
    "    model=model,\n",
    "    args=TrainingArguments(\n",
    "        output_dir=\"allegro-bert-lora\",\n",
    "        learning_rate=2e-5,\n",
    "        per_device_train_batch_size=8,\n",
    "        per_device_eval_batch_size=8,\n",
    "        num_train_epochs=3,\n",
    "        weight_decay=0.01,\n",
    "        evaluation_strategy=\"epoch\",\n",
    "        save_strategy=\"epoch\",\n",
    "        load_best_model_at_end=True,\n",
    "        metric_for_best_model=\"accuracy\",\n",
    "        logging_dir='logs',\n",
    "        logging_steps=10,\n",
    "        \n",
    "    ),\n",
    "    eval_dataset=tokenized_ds['test'],\n",
    "    tokenizer=tokenizer,\n",
    "    data_collator=DataCollatorWithPadding(tokenizer=tokenizer),\n",
    "    compute_metrics=compute_metrics,\n",
    ")\n",
    "\n",
    "test_results = eval_trainer.evaluate()\n",
    "print(test_results)\n",
    "\n",
    "model_save_path = \"final-fine-tuned-peft-herbert-model/\"\n",
    "model.save_pretrained(model_save_path)\n",
    "tokenizer.save_pretrained(model_save_path)"
   ]
  },
  {
   "cell_type": "code",
   "execution_count": 22,
   "metadata": {},
   "outputs": [
    {
     "data": {
      "application/vnd.jupyter.widget-view+json": {
       "model_id": "9dc763e4f428429cb127db87c2159bc3",
       "version_major": 2,
       "version_minor": 0
      },
      "text/plain": [
       "  0%|          | 0/16 [00:00<?, ?it/s]"
      ]
     },
     "metadata": {},
     "output_type": "display_data"
    }
   ],
   "source": [
    "predictions_output = trainer.predict(tokenized_ds[\"test\"])\n",
    "\n",
    "preds = np.argmax(predictions_output.predictions, axis=1)\n",
    "labels = predictions_output.label_ids\n",
    "\n",
    "predicted_labels = [id2label[pred] for pred in preds]\n",
    "true_labels = [id2label[label] for label in labels]"
   ]
  },
  {
   "cell_type": "code",
   "execution_count": 23,
   "metadata": {},
   "outputs": [],
   "source": [
    "data_collator = DataCollatorWithPadding(tokenizer=tokenizer)\n",
    "\n",
    "test_loader = DataLoader(\n",
    "    tokenized_ds[\"test\"],\n",
    "    batch_size=16,\n",
    "    shuffle=False,\n",
    "    collate_fn=data_collator\n",
    ")"
   ]
  },
  {
   "cell_type": "code",
   "execution_count": 24,
   "metadata": {},
   "outputs": [
    {
     "data": {
      "application/vnd.jupyter.widget-view+json": {
       "model_id": "65ee2481e1414d57a0ee1d4c549da2c1",
       "version_major": 2,
       "version_minor": 0
      },
      "text/plain": [
       "  0%|          | 0/16 [00:00<?, ?it/s]"
      ]
     },
     "metadata": {},
     "output_type": "display_data"
    }
   ],
   "source": [
    "predictions_output = eval_trainer.predict(tokenized_ds[\"test\"])\n",
    "\n",
    "preds = np.argmax(predictions_output.predictions, axis=1)\n",
    "labels = predictions_output.label_ids\n",
    "\n",
    "predicted_labels = [id2label[pred] for pred in preds]\n",
    "true_labels = [id2label[label] for label in labels]"
   ]
  },
  {
   "cell_type": "code",
   "execution_count": 25,
   "metadata": {},
   "outputs": [
    {
     "name": "stderr",
     "output_type": "stream",
     "text": [
      "/var/folders/ld/46j6jly10md36dbxgn_h72br0000gn/T/ipykernel_86339/2686228197.py:4: FutureWarning: \n",
      "\n",
      "Passing `palette` without assigning `hue` is deprecated and will be removed in v0.14.0. Assign the `x` variable to `hue` and set `legend=False` for the same effect.\n",
      "\n",
      "  sns.barplot(x=pred_label_counts.index, y=pred_label_counts.values, palette='viridis')\n"
     ]
    },
    {
     "data": {
      "image/png": "[encoded data removed]",
      "text/plain": [
       "<Figure size 600x400 with 1 Axes>"
      ]
     },
     "metadata": {},
     "output_type": "display_data"
    }
   ],
   "source": [
    "pred_label_counts = pd.Series(predicted_labels).value_counts()\n",
    "\n",
    "plt.figure(figsize=(6,4))\n",
    "sns.barplot(x=pred_label_counts.index, y=pred_label_counts.values, palette='viridis')\n",
    "plt.xlabel('Predicted Labels')\n",
    "plt.ylabel('Count')\n",
    "plt.title('Distribution of Predicted Labels')\n",
    "plt.show()"
   ]
  },
  {
   "cell_type": "code",
   "execution_count": 26,
   "metadata": {},
   "outputs": [
    {
     "data": {
      "image/png": "[encoded data removed]",
      "text/plain": [
       "<Figure size 800x600 with 2 Axes>"
      ]
     },
     "metadata": {},
     "output_type": "display_data"
    }
   ],
   "source": [
    "\n",
    "cm = confusion_matrix(true_labels, predicted_labels, labels=sorted_labels)\n",
    "\n",
    "plt.figure(figsize=(8,6))\n",
    "sns.heatmap(cm, annot=True, fmt='d', xticklabels=sorted_labels, yticklabels=sorted_labels, cmap='Blues')\n",
    "plt.xlabel('Predicted Labels')\n",
    "plt.ylabel('True Labels')\n",
    "plt.title('Confusion Matrix')\n",
    "plt.show()"
   ]
  },
  {
   "cell_type": "code",
   "execution_count": 27,
   "metadata": {},
   "outputs": [
    {
     "data": {
      "image/png": "[encoded data removed]",
      "text/plain": [
       "<Figure size 800x600 with 2 Axes>"
      ]
     },
     "metadata": {},
     "output_type": "display_data"
    }
   ],
   "source": [
    "cm_normalized = confusion_matrix(true_labels, predicted_labels, labels=sorted_labels, normalize='true')\n",
    "\n",
    "plt.figure(figsize=(8,6))\n",
    "sns.heatmap(cm_normalized, annot=True, fmt='.2f', xticklabels=sorted_labels, yticklabels=sorted_labels, cmap='Blues')\n",
    "plt.xlabel('Predicted Labels')\n",
    "plt.ylabel('True Labels')\n",
    "plt.title('Normalized Confusion Matrix')\n",
    "plt.show()"
   ]
  },
  {
   "cell_type": "code",
   "execution_count": 28,
   "metadata": {},
   "outputs": [
    {
     "name": "stdout",
     "output_type": "stream",
     "text": [
      "              precision    recall  f1-score   support\n",
      "\n",
      "    Negative       0.52      0.59      0.55        44\n",
      "     Neutral       0.38      0.49      0.43        39\n",
      "    Positive       0.33      0.18      0.24        38\n",
      "\n",
      "    accuracy                           0.43       121\n",
      "   macro avg       0.41      0.42      0.41       121\n",
      "weighted avg       0.42      0.43      0.41       121\n",
      "\n"
     ]
    }
   ],
   "source": [
    "report = classification_report(true_labels, predicted_labels, target_names=sorted_labels)\n",
    "print(report)"
   ]
  },
  {
   "cell_type": "code",
   "execution_count": 29,
   "metadata": {},
   "outputs": [
    {
     "name": "stdout",
     "output_type": "stream",
     "text": [
      "Example 1:\n",
      "Text: Zacznijmy … tego, ze na zajecia trzeba sie absolutnie juz z zadan, od szanowny doktor niczego nie wytlumaczy, a jesli do sie zbierze miec tlumaczenia, to krzyz na droge, jesli cos bo\n",
      "True Label: Negative\n",
      "Predicted Label: Neutral\n",
      "Probabilities: [0.31404757 0.34400237 0.34195006]\n",
      "--------------------------------------------------\n",
      "Example 2:\n",
      "Text: Ogolna opinia : polecam ! ! !\n",
      "True Label: Positive\n",
      "Predicted Label: Positive\n",
      "Probabilities: [0.33155435 0.33409604 0.3343496 ]\n",
      "--------------------------------------------------\n",
      "Example 3:\n",
      "Text: Znam ją tylko z ćwiczeń gdzie dobrze i przystepnie tłumaczy.\n",
      "True Label: Positive\n",
      "Predicted Label: Neutral\n",
      "Probabilities: [0.3320299  0.34202293 0.32594717]\n",
      "--------------------------------------------------\n",
      "Example 4:\n",
      "Text: Analiza matematyczna 1 ćwiczenia Ocena : unikać [ / b ] posługując jest ćwiczeniach myślał em, że analize : bez liczy ( pokazywał jak się ' ułamki o różnych mianownikach, sensu się swoją ' maszyną liczącą ( kalkulator P wink : lubi z nim o ) ).\n",
      "True Label: Negative\n",
      "Predicted Label: Positive\n",
      "Probabilities: [0.32631117 0.27443856 0.3992503 ]\n",
      "--------------------------------------------------\n",
      "Example 5:\n",
      "Text: Lakier roweru bardzo kiedy ŻE robią się odpryski nie wiadomo od w rower ! ny ale po ku miesiącach użytkowania widoczne odpryski lakieru czego za taką cenę jak Ż się ! kilku ! ! ! st ! ! ! ! ! ! ! ! ! ! ! ! ! ! ! Oczywiście producent twierdzi TEGO są to wady mechaniczne, dziecko ma w lepszym stanie ! na rowerze ale nie jeździć tej ! ODRADZAM ZAKUP Z ceny POWODU ! TYLE KASY I ła chyba ze rower będzie ! nieużywany za szybą. Na zakończenie powiem tak kupi lakier zwykły do paznokci a hybrydę wiadomo w tańszym zwykłym lakierze robią ! odpryski a lepszym leżał ! ! ! ! że ! ! ! ! am TO ! !\n",
      "True Label: Negative\n",
      "Predicted Label: Negative\n",
      "Probabilities: [0.39788184 0.30845046 0.29366767]\n",
      "--------------------------------------------------\n"
     ]
    }
   ],
   "source": [
    "\n",
    "def get_probabilities(logits):\n",
    "    return F.softmax(torch.tensor(logits), dim=-1).numpy()\n",
    "\n",
    "probabilities = get_probabilities(predictions_output.predictions)\n",
    "\n",
    "for i in range(5):\n",
    "    print(f\"Example {i+1}:\")\n",
    "    print(f\"Text: {test_df['text'].iloc[i]}\")\n",
    "    print(f\"True Label: {true_labels[i]}\")\n",
    "    print(f\"Predicted Label: {predicted_labels[i]}\")\n",
    "    print(f\"Probabilities: {probabilities[i]}\")\n",
    "    print(\"-\" * 50)"
   ]
  },
  {
   "cell_type": "code",
   "execution_count": 30,
   "metadata": {},
   "outputs": [
    {
     "data": {
      "application/vnd.jupyter.widget-view+json": {
       "model_id": "5ed0993fde6545809e644e4ade34b61d",
       "version_major": 2,
       "version_minor": 0
      },
      "text/plain": [
       "Map:   0%|          | 0/482 [00:00<?, ? examples/s]"
      ]
     },
     "metadata": {},
     "output_type": "display_data"
    },
    {
     "data": {
      "application/vnd.jupyter.widget-view+json": {
       "model_id": "2da3c92ee21d4c53b00fba84f035ad7d",
       "version_major": 2,
       "version_minor": 0
      },
      "text/plain": [
       "Map:   0%|          | 0/121 [00:00<?, ? examples/s]"
      ]
     },
     "metadata": {},
     "output_type": "display_data"
    },
    {
     "name": "stdout",
     "output_type": "stream",
     "text": [
      "DatasetDict({\n",
      "    train: Dataset({\n",
      "        features: ['input_ids', 'token_type_ids', 'attention_mask', 'labels'],\n",
      "        num_rows: 482\n",
      "    })\n",
      "    test: Dataset({\n",
      "        features: ['input_ids', 'token_type_ids', 'attention_mask', 'labels'],\n",
      "        num_rows: 121\n",
      "    })\n",
      "})\n"
     ]
    }
   ],
   "source": [
    "def preprocess_function(examples):\n",
    "    tokens = tokenizer(\n",
    "        examples[\"text\"], \n",
    "        padding=\"max_length\", \n",
    "        truncation=True, \n",
    "        max_length=512\n",
    "    )\n",
    "    tokens['labels'] = [label2id[l] for l in examples[\"label\"]]\n",
    "    return tokens\n",
    "\n",
    "tokenized_ds = dataset.map(\n",
    "    preprocess_function, \n",
    "    batched=True, \n",
    "    remove_columns=dataset[\"train\"].column_names\n",
    ")\n",
    "\n",
    "print(tokenized_ds)\n",
    "\n"
   ]
  },
  {
   "cell_type": "code",
   "execution_count": 31,
   "metadata": {},
   "outputs": [
    {
     "name": "stderr",
     "output_type": "stream",
     "text": [
      "Extracting embeddings: 100%|██████████| 8/8 [00:06<00:00,  1.15it/s]\n"
     ]
    }
   ],
   "source": [
    "def extract_embeddings(model, tokenizer, dataset, device, batch_size=16):\n",
    "    model.eval()\n",
    "    loader = DataLoader(\n",
    "        dataset, \n",
    "        batch_size=batch_size, \n",
    "        shuffle=False, \n",
    "        collate_fn=DataCollatorWithPadding(tokenizer=tokenizer)\n",
    "    )\n",
    "    embeddings = []\n",
    "    labels = []\n",
    "    \n",
    "    model_input_keys = tokenizer.model_input_names\n",
    "\n",
    "    with torch.no_grad():\n",
    "        for batch in tqdm(loader, desc=\"Extracting embeddings\"):\n",
    "            # Przygotowanie wejść\n",
    "            inputs = {k: v.to(device) for k, v in batch.items() if k in model_input_keys}\n",
    "            # Wywołanie modelu z output_hidden_states=True\n",
    "            outputs = model(**inputs, output_hidden_states=True, return_dict=True)\n",
    "            # Ukryte stany to krotka wszystkich warstw\n",
    "            hidden_states = outputs.hidden_states\n",
    "            # Pobranie ostatniego ukrytego stanu\n",
    "            last_hidden_state = hidden_states[-1]  # Kształt: [batch_size, seq_length, hidden_size]\n",
    "            # Wyodrębnienie reprezentacji [CLS]\n",
    "            cls_embeddings = last_hidden_state[:, 0, :].cpu().numpy()\n",
    "            embeddings.append(cls_embeddings)\n",
    "            labels.extend(batch['labels'].cpu().numpy())\n",
    "    \n",
    "    embeddings = np.vstack(embeddings)\n",
    "    return embeddings, labels\n",
    "\n",
    "test_embeddings, test_labels_ids = extract_embeddings(\n",
    "    model, \n",
    "    tokenizer, \n",
    "    tokenized_ds[\"test\"], \n",
    "    device=device, \n",
    "    batch_size=16\n",
    ")\n",
    "\n",
    "test_labels = [id2label[label_id] for label_id in test_labels_ids]\n",
    "\n",
    "test_predicted_labels = [id2label[pred] for pred in preds]"
   ]
  },
  {
   "cell_type": "code",
   "execution_count": 33,
   "metadata": {},
   "outputs": [
    {
     "name": "stderr",
     "output_type": "stream",
     "text": [
      "/opt/miniconda3/envs/py310/lib/python3.10/site-packages/sklearn/manifold/_t_sne.py:1162: FutureWarning:\n",
      "\n",
      "'n_iter' was renamed to 'max_iter' in version 1.5 and will be removed in 1.7.\n",
      "\n"
     ]
    },
    {
     "data": {
      "application/vnd.plotly.v1+json": {
       "config": {
        "plotlyServerURL": "https://plot.ly"
       },
       "data": [
        {
         "customdata": [
          [
           "Negative",
           "Neutral",
           "Zacznijmy … tego, ze na zajecia trzeba sie absolutnie juz z zadan, od szanowny doktor niczego nie wytlumaczy, a jesli do sie zbierze miec tlumaczenia, to krzyz na droge, jesli cos bo"
          ],
          [
           "Negative",
           "Positive",
           "Analiza matematyczna 1 ćwiczenia Ocena : unikać [ / b ] posługując jest ćwiczeniach myślał em, że analize : bez liczy ( pokazywał jak się ' ułamki o różnych mianownikach, sensu się swoją ' maszyną liczącą ( kalkulator P wink : lubi z nim o ) )."
          ],
          [
           "Negative",
           "Negative",
           "Lakier roweru bardzo kiedy ŻE robią się odpryski nie wiadomo od w rower ! ny ale po ku miesiącach użytkowania widoczne odpryski lakieru czego za taką cenę jak Ż się ! kilku ! ! ! st ! ! ! ! ! ! ! ! ! ! ! ! ! ! ! Oczywiście producent twierdzi TEGO są to wady mechaniczne, dziecko ma w lepszym stanie ! na rowerze ale nie jeździć tej ! ODRADZAM ZAKUP Z ceny POWODU ! TYLE KASY I ła chyba ze rower będzie ! nieużywany za szybą. Na zakończenie powiem tak kupi lakier zwykły do paznokci a hybrydę wiadomo w tańszym zwykłym lakierze robią ! odpryski a lepszym leżał ! ! ! ! że ! ! ! ! am TO ! !"
          ],
          [
           "Negative",
           "Negative",
           "Budzik zdecydowanie nie jest warty ceny 75 zł. Zalety : ładny wygląd, dobre spasowanie materiału, duże czytelne cyfry, głośny alarm. Wady : wykonany z kiepskiej jakości, taniego plastiku, przyciski ( w tym alarmu i drzemki ) umieszczone z tyłu, co jest bardzo niepraktyczne w nocy, przyciski też tandetne ( głośne i twarde ). Może przeszkadzać : brak regulacji podświetlenia, bateria podtrzymująca pamięć w coraz rzadziej spotykanej postaci 9V ( nie mogły być paluszki ? ). Przydatna była by również opcja regulacji alarmu ( np. od delikatnego do mocnego )."
          ],
          [
           "Negative",
           "Neutral",
           "Zapraszamy !"
          ],
          [
           "Negative",
           "Negative",
           "Przereklamowane. ( podobnie jak inne towary . np. nie bosch i to wy serii dla prof. użytku ! ) nigdy za tę cenę, oczekiwał em od robota wyższej jakości. Zaledwie po kilku . użycia wydobywać się firmy smar z pod wałka / . dniach W tej cenie , powinno w mieć NIGDY Jednak Ogólnie siłę robot ma, i wygląda na nie do zajeżdżenia - choć mam obawy do przekładni czy się wa rozsypie - strasznie głośno wał cokolwiek z kuchni nie Poza się potwornie drogie dodatki, zaczął by to nie było. Osobiście, tym by śmy go nie kupili."
          ],
          [
           "Negative",
           "Neutral",
           "Jeśli niechcesz słuchać to nie musisz."
          ],
          [
           "Negative",
           "Negative",
           "Ja idąc na informatyke 3 nie znałęm te znam , jezyka g no i to nie jest kurs dla takich ludzi - doktor o , wszyscy wiedzą co to jest i że Bana każde jego skomplikowane słowo ! ! !"
          ],
          [
           "Negative",
           "Negative",
           "jestem pilarzem od parunastu lat, skusił em się na tego partnera w listopadzie 2016r. Łatwo się uruchamia i dobrze pracuje, lekka, poręczna, wygodna ale za mały otwór wlewu oleju i za małe objętości zbiornika paliwa i oleju - trzeba często uzupełniać je, filtr powietrza w zasadzie jednorazowy zapycha się po około tygodniu pracy ( około 3h dziennej pracy piły ) - koszt nowego 10zł, zaś po 3 miesiącach pękła linka gazu ( każde naciśnięcie manetki gazu łamie linkę - takie dziwne rozwiązanie konstrukcyjne ) - koszt nowej 40zł, jak dla mnie trochę za wysokie koszty utrzymania tej piły - jestem zawiedziony tym modelem partnera."
          ],
          [
           "Negative",
           "Neutral",
           "Potrafi przyczepic sie do wszystkie - osie symetri za grubym tym rysowane, wkrecajac srube w drewniany element z gwintem nalezy narysowac jest juz po drugiej stronie ( w ksiazce nic o os nie ma ) i podstawie na tej e cie obleje..."
          ],
          [
           "Negative",
           "Neutral",
           "NIE OLEWAJ GORNIAKA i nie podpadaj mu ( on jest st grozny... ) : P"
          ],
          [
           "Negative",
           "Negative",
           "Podobnie jak większość zawiodła m się na tej kosiarce. Wydawało się, że firmowa kosiarka będzie służyć dłużej... Od samego początku była bardzo delikatna, dobra tylko do drobnej trawki na idealnie równym terenie. Koszenie na lekkich nierównościach zakończyło się powyginanym nożem. Nóż po roku wymieniony na nowy, bo nie dało się go naostrzyć. Długo jednak nim się nie cieszyła m, silnik zaczął dziwnie pracować... aż w końcu przestał. Powiem szczerze, że dużo lepiej sprawowała się moja pierwsza najtańsza kosiarka no name. Z nożem nic się nie działo na górkach i dołkach, silnik nie do zajeżdżenia. Gdyby nie to, że uszkodziły się kółka, to dalej by pracowała. Zawiodła m się na Gardenie."
          ],
          [
           "Negative",
           "Neutral",
           "Jeżeli niechcesz słuchać to nie musisz."
          ],
          [
           "Negative",
           "Positive",
           "Analiza matematyczna 1 ćwiczenia Ocena : unikać [ / b ] Na pierwszych ćwiczeniach myślał em, że analize zaliczę bez problemów ( pokazywał jak się dodaje ułamki o różnych mianownikach, bawił się swoją ' maszyną liczącą ( kalkulator : wink : lubi sie nim bawić ) )."
          ],
          [
           "Negative",
           "Negative",
           "Fizyka 2 . . b . Zdac egzamin jest bardzo trudno tak bylo w moim przypadku zdalo bardzo mało osub."
          ],
          [
           "Negative",
           "Negative",
           "Witam Długo się namyślał em przed zakupem przyzwoitego wykonania i zdecydował em się na STEINELA 3002. Porażka Koszty pistolet lini pierwsza próba pracy zagrzewa, nika klej i przestał działać. Wysyłka na i Po wymianie systemu moc pistolet puszczał klej bokami, kapał z podajnika ) po pięciu minutach ponownie przestał Rumu Wysyłka na serwis. a do tej pory mam . od , serwis a popracował 5 ż Wydaje mi się n Jak za 100 powinien pistoletu dłużej. lat dostawy na serwis i odbiór zbliżają się do ceny zakupu. Nie polecam tego produktu. Zapomniał em serwis sam e zaskoczony jakością ością i nad nazwę plomb ( prawdopodobnie zmieniono puścił produktu na producenta byłem Rumuni wytrzymać Steinel to już nie te same narzędzia co kiedyś. Proponuję poważnie się zastanowić ) zakupem. Pozdrawiam"
          ],
          [
           "Negative",
           "Neutral",
           "Po prostu trzeba dużo umieć . Turbo ! : |"
          ],
          [
           "Negative",
           "Negative",
           "Ocena ogólna : UNIKAC : x = x"
          ],
          [
           "Negative",
           "Neutral",
           "Jest po prostu na tych wykładach nudno i niczego się człowiek nie dowie pożytecznego, bo na ćwiczeniach materiał idzie zdecydowanie szybciej ( wszystko za sprawą wszelkich dygresji Pana doktora podczas wykładu )."
          ],
          [
           "Negative",
           "Negative",
           "Grzejniki ładne zmieniać mają beznadziejne działanie bez pamięci nastaw t możliwości programowania. Można jedynie ą nastawy fabryczne ale do czasu pierwszego zaniku napięcia, potem i tak wszystko powróci do nastaw fabrycznych. Poza tym termostaty bardzo łatwo się a i grzejnik m tego fabryka dała. Oczywiście na koszt właściciela. Grzejniki praktycznie ale ają się na ps i bez stałego niszczą Jeszcze jedno w czasie pracy wydają dziwne odgłosy i to całkiem napięcia Może to wyrzuty sumienie . co je zaprojektował."
          ],
          [
           "Negative",
           "Negative",
           "Za ta cenę spodziewał em zbyt bardziej dopracowanego ró Miska mocowana w chodzi jest w na kierunku niż kręci się rózga tak więc mojej cięższych maszyn lubi się wypiąć podczas pracy. mogę w rózgi do misy ( chociaż wyglądają dół profesjonalnie ) pozostawiają na dnie nierozmieszane ciasto lub samego ( zaznaczę ze posiadam inne : lepiej które wypadają o niebo wać ) opinie irytujące są jednak mieszadła silikonowe które powinny sy masę ze ścianek oraz spodu misy co bardzo przeszkadza a właściwie uniemożliwia podbijanie mas Canon * * * * * nie . podgrzewaniem gi w tym celu to zakupił em t chyba że bardzo jajecznicę przeciwnym się są wręcz idealne. Co do Najbardziej robota nie nie nic powiedzieć za krótko go posiadam. Reasumując osobiście Moc kupił by m ponownie robota za taką cenę wiedząc o jego wadach. Do nie opini skłoniło mnie rozczarowanie , ( : ( : ( . jestem Nie wciekły nie wspomnę że łączone o 3800. Zawsze jest nadzieja ze ktoś z firmy przy przeczyta moje wysta i a przyszłych modelach poprawią niedoróbki. Tak poz wiem ze nadzieja jest matką....."
          ],
          [
           "Negative",
           "Positive",
           "Na analizie 2 była że raz pierwszy jego wykładzie i stwierdziła m, na to strata czasu."
          ],
          [
           "Negative",
           "Neutral",
           "Kiedy na początku zobaczył em słuchawki zachwycał em się nimi. Dobry mikrofon, ładne opakowanie, przyjemny wygląd słuchawek. Ogólnie mówiąc NAJPIERW był em bardzo zadowolony. Gdzieś po 3 miesiącach problemy z mikrofonem się zaczęły raz działał raz nie, po 6 nie odpinał em go ponieważ wtedy już nie działał na długo i nie chciał em kusić losu licząc na kolejny cud, że jak podłącze to znowu zadziała. Po 3 / 4 roku siadła jedna strona zupełnie.... To już mnie kompletnie dobiło i zmienił em na akg 514 i co... ? Ogromna różnica w jakości a należało trochę dopłacić. I na nowych słuchawkach słychać znacznie lepiej w fps na jakim przeciwnik jest poziomie jak jest z tyłu na fatality nie mogł em rozróżnić. Dopóki się odwrócił em i sprawdził em zazwyczaj dead. Nie polecam na dłuższą metę na 3 miesiące mogą być w porządku ale na to zakup na krótko. Beznadziejne wykonanie, kabla mikrofona i ogólnie całych słuchawek."
          ],
          [
           "Negative",
           "Negative",
           "Podobnie jak większość zawiodła m się na tej kosiarce. Wydawało się, Skoń firmowa kosiarka będzie służyć dłużej... Od samego . była bardzo kach dobra tylko do drobnej trawki na idealnie równym by Koszenie na óż ła zakończyło się powyginanym nożem. Nóż , roku wymieniony na nowy, bo nie dało się go naostrzyć. Długo jednak nim gór nie cieszyła początku , zaczął , pracować... aż w końcu się Powiem . że dużo lepiej sprawowała się moja ale najtańsza kosiarka źle name. Z nożem nic , nie działo na górkach i dołkach, bardzo nie do po Gdyby nie to, że uszkodziły się końca to dalej się pracowała. no że się na Gardenie."
          ],
          [
           "Negative",
           "Negative",
           "Jestem świeżo po zakupie Marantza 611. Urządzenie bardzo dobrze odtwarza płyty CD. Gorzej jest z nośnikami USB. Nośniki czytane są długo i dźwięk jest słyszalnie uboższy pomimo odtwarzania plików FLAC. Jednak kompletna porażka to wieszanie się urządzenia jeśli zaczynamy słuchać stacji z radia cyfrowego DAB +. Sytuacja jest powtarzalna po dodaniu stacji dwóch DAB + do ulubionych i próbie przełączania się między nimi następuje zawieszenie urządzenia, dokładniej odtwarzania dźwięku. Przywrócenie odtwarzania dziwięku jest możliwe po wybraniu stacji FM do odtwarzania. Drugą kwestią jest włączanie się samo z siebie urządzenia. Czyli śpisz sobie a ono się włącza. Wyłączasz. Za 2h jest to samo. Jeśli do tego dodamy głęboko rozczarowującą scenę dżwiękową dla nośników USB lepiej kupić coś tańszego nawet jeśli będzie miało te same wady."
          ],
          [
           "Negative",
           "Negative",
           "Niestety co do samego prowadzącego mam już obekcje, z punktu wdzienia treningu itd. wszytko było ok ( a czesami nawet bardzo ok - rozgrzewki w formie zabawy ), ale niestety miala miejse u nas na treningu sytulacja ktora bardzo mnie do tego pana zrazila ; podczas pokazywania dźwigni na noge ( stopę ) zignorował zupełnie odklepenie w mate ( czyli powiadomienie o tym, że ma się dość, że boi ) studenta na ktorym pokazywal technike i nie puścił lub chociaż zmniejszył nacisku ( siłę skrętu )."
          ],
          [
           "Negative",
           "Negative",
           "Grill ma wadę, dużą, z regulacji niestety . em 3 nie Tłuszcz zamiast wysy w całości do dołączonej miseczki, - w płytę mówił zawsze po grillowaniu, musiałem go postawić w pionie kupi patrzeć jak wylewa się to na blat. Nie wiem czy Philips i nie przemyślał, poszukać sprawdził, ale jest to tragiczne niedopatrzenie. Kilka dni temu pracy wrzucić posłuszeństwa. Nie grzeje. Pokrętło do do moim temperatury d również rok temu, przestało mieć grzechotkę, ale nie przeszkadzało to w o Za minus uważam od brak możliwości dokupienia samych płyt teflonowych, choćby łem tego połowy grilla. Zdecydowanie nie polecam i nie kupię grilla Philipsa, a wa przypadku awarii, muszę i nowego."
          ],
          [
           "Negative",
           "Negative",
           "Niestety w zapisu filmy wypadł na Ciekawe Prędkość przez dużego słabo pliku na USB 2. 0 to 5MB / trochę i nie chce być szybciej. do czy NTFS dw FAT32. Kupił u rze egzemplarze i na każdym taka żenada. Wstyd dla Patriota. Dane podane czy producenta są wyssane z palca ( rozumiem że recen dane z USB 3. 0, ale . USB 2. 0 powinno być duuuużo lepiej ). s taki, że jak wieczorem pójdę do koleżanki zgrać 2 ć w FullHD, muszę a niej zostać na śniadanie, żeby doczekać się końca kopiowania. Powinien em formatu Problem od producenta to pieniędzy."
          ],
          [
           "Negative",
           "Positive",
           "Ogolnie, , z ale jezeli ma sie mozliwosc zapisania do kogos innego, to raczej warto owszem niej skorzystac."
          ],
          [
           "Negative",
           "Neutral",
           "Za ta cenę spodziewał em się bardziej dopracowanego sprzętu. Miska mocowana w robocie jest w przeciwnym kierunku niż kręci się rózga tak więc przy cięższych ciastach lubi się wypiąć podczas pracy. Niedopracowane same rózgi do misy ( chociaż wyglądają bardzo profesjonalnie ) pozostawiają na dnie nierozmieszane ciasto lub krem ( zaznaczę ze posiadam inne miksery roboty które wypadają o niebo lepiej ) Najbardziej irytujące są jednak mieszadła silikonowe które powinny zbierać wszystko ze ścianek oraz spodu misy co bardzo przeszkadza a właściwie uniemożliwia podbijanie mas na * * * * * z jednoczesnym podgrzewaniem ( w tym celu to zakupił em ) chyba że chcemy jajecznicę to wtedy są wręcz idealne. Co do trwałości robota nie mogę nic powiedzieć za krótko go posiadam. Reasumując osobiście nie kupił by m ponownie robota za taką cenę wiedząc o jego wadach. Do napisania opini skłoniło mnie rozczarowanie : ( : ( : ( i jestem delikatnie wciekły nie wspomnę że lżejszy o 3800. Zawsze jest nadzieja ze ktoś z firmy Kenwood przeczyta moje wypociny i w przyszłych modelach poprawią niedoróbki. Tak tak wiem ze nadzieja jest matką....."
          ],
          [
           "Negative",
           "Negative",
           "hhmm, no to jazda z tym sam i to tylko ta ) Jeśli chodzi o resztę to ; brak osiowości ławki, brak stabilności ( ćwicząc na ławce skos ujemny radzę zakładać pampersa tam Teraz widze , sprzęt jest robiony masowo przez , sprzętem ( na Chiński to będzie Jung M Spaw 2 Urządzenie do ćwiczeń na nogi ucieka kilka w ńczyków nisko stronę, modlitewnik tragedia, oparcie do ćwiczenia rozpiętek na siedząco jest ) osadzone, ogólnie kupując jeszcze raz wybrał bym m Chińborka nie ale nie za 1800zł. Moim zdaniem jest wart jakieś 1100zł. Chi a 174 cm. , wzrostu, jest niewygodny ćwicząc barki na wyciągu że wyprostujesz x Ogólnie polecam TV 40 . - ra pare cali za nie pinąchy , oglądając co dziennie youtuba jakieś 30 - l min. ćwiczył by m pompki i takie w pochodne, Rezultat ten . ( o ile . lepszy ), a ile radości. niskiego Marsh..."
          ],
          [
           "Negative",
           "Negative",
           "Grill ma wadę, dużą, z którą niestety żył em 3 lata. Tłuszcz zamiast skapywać w całości do dołączonej miseczki, spływał pod płytę grzewczą, zawsze po grillowaniu, musiałem go postawić w pionie i patrzeć jak wylewa się to na blat. Nie wiem czy Philips tego nie przemyślał, nie sprawdził, ale jest to tragiczne niedopatrzenie. Kilka dni temu grill odmówił posłuszeństwa. Nie grzeje. Pokrętło do do ustawiania temperatury odmówiło z rok temu, przestało mieć grzechotkę, ale nie przeszkadzało to w użytkowaniu. Za minus uważam też brak możliwości dokupienia samych płyt teflonowych, choćby w cenie połowy grilla. Zdecydowanie nie polecam i nie kupię grilla Philipsa, a w przypadku awarii, muszę kupić nowego."
          ],
          [
           "Negative",
           "Negative",
           ", + dostajemy produkt z najwyższej półki, pięknie sem Mysz jest wygodna, działa ( jak już działa ) Kiedy szach się z +... teraz - wykonany więcej sprzętu dla + RAZERA. Przereklamowane - to pierwsze to narzuca mi łem na . Absurdalna cena jak - taki sprzęt. Gumki pod kciukiem - po trzech Korzy m miał problem kupi działaniem i po na sensor również choć korzystam z potrzebuję + Obydwie części musiałem działa Program psu jest oprogramowanie Razer Synapse, które zawiesza się za każdym razem kiedy je otwieramy lub kiedy odłączamy / podłączamy kabel do myszki ( przełączamy się z pracy przewodowej na bezprzewodową 4 na odwrót ). + posiada funkcje, które po prostu nie klawia działają np. kalibracja powierzchni. Wy włączam funkcje, mysz na profesjonalnej podkładce nie działa, za to na drewnianym blacie już tak - niestety byle W przerywając my nierównościach. Na szczęście kiedy już wszystko ustawimy - po drodze . poprzez alt + Z + del program st i komputer i nie wyciągamy kabla całość działa. użytkowników skrócie, z w tańszą lepszą mysz od nie"
          ],
          [
           "Negative",
           "Negative",
           "hhmm, no to jazda na tym Wygląd i to sprzęt ta zaleta. Jeśli chodzi o resztę to ; brak ż ł brak stabilności jest ćwicząc . ławce skos ujemny radzę zakładać pampersa ). Ja widze by sprzęt jest robiony du przez zwykłego Kowalskiego ( na Chiński tylko będzie Jung , Spaw ). Urządzenie do to na nogi bym kilka stopni w jedną stronę, modlitewnik tragedia, oparcie do ćwiczenia rozpiętek na siedząco jest krzywo osadzone, ogólnie o jeszcze raz wybrał że m Chińborka 1, ale nie za mam - a jest wart jakieś ( Mam jakieś 174 za oczywiście . jest niewygodny ćwicząc barki na wyciągu nie jego ramion. amor polecam TV Samsung Smart jakieś 40 pare cali za te pinąchy i oglądając co dziennie ćwiczeń jakieś 30 - 50 cm tu by m pompki z takie z pochodne, Rezultat ten sam ( o ile nie lepszy ), Jak ile radości. i Marsh..."
          ],
          [
           "Negative",
           "Negative",
           "Ten router to porażka, gdyż nie jest w , poprawnie to nie figu Huawei E180 pomimo a ze w może umieszczonej na opakowaniu producent zapewnia, że biedzie współpracować co okazało się nieprawdą. nie po chwili od włączenia rozłącza internet także ować da się z niego w ogóle korzystać i nie pomagają aktualizacje firmware. Być , 100 innym modem ten router by zadziałał ale producent powinien podać na opakowaniu prawdziwą listę kompatybilnych . która jest dostępna jedynie na jego stronie internetowej jak sie dobrze poszuka.. także Niestety polecam z jeśli nie ma sie modemu obsłu której producent % bedzie do niego pasował, a żeby n było to stanie i model modemu, a także sieć z 10 modem pochodzi musi sie zapoznać dokladnie z lista dostepna informacji tak stronie ,"
          ],
          [
           "Negative",
           "Positive",
           "Wydaje sie ze gardził studentami."
          ],
          [
           "Negative",
           "Negative",
           "Fizyka 2 [ / b ] Zdac egzamin jest dosyc trudno tak bylo w moim przypadku zdalo bardzo mało osub."
          ],
          [
           "Negative",
           "Positive",
           "Ogolnie, ze ujdzie, ale jezeli ma sie możliwość zapisania do kogos innego, to raczej warto z tego skorzystac."
          ],
          [
           "Negative",
           "Negative",
           "* * * * * jakich mało * tę cenę to jakieś ewidentne żarty. Oddał em ku kamerę na które udowod nie nagrywała filmów akurat tych Za mi byly potrzebne. 1 wyskoczyła mi sarna nie łem filmu, 2. wsa 3 lis nie ma filmu Wszystkie sytuacje obeszły się szczęśliwie ale gdyby coś poszło ! pol potrzebował by m filmu łem wy mi moją racje ubezpieczycielowi. Oddał em kamerę i skoczył któ niby gdzies ma producenta i przydzielono mi nową ( po ie miesiącach w wracam ź ) I dziś znów sytuacja wyskakuje mi dzik na trasie przed maske u na śliskim znow wszystko szczęśliwie. I co i do domu wrzucam karte do e i co widze ? widze ze pol dnia moja kamera nie za gdzie cały dzień była to ! ! Jakies ku tam wa zarty ! i tę cenę kieszeni mozna kupic cos 1000 razy lepszego ."
          ],
          [
           "Negative",
           "Negative",
           "Na każdej laborce kartkówka, teraz moge stwierdzić że może nie były aż takie trudne, ale zaliczył em jedną na 5 czy 6... po prostu jeżeli nigdy przedtem nie miał eś do czynienia z językiem C to naprawde jest trudno."
          ],
          [
           "Negative",
           "Neutral",
           "Radze trzymac sie z daleka !"
          ],
          [
           "Negative",
           "Negative",
           "Graficzny zapis konstrukcji ( wykład ) Elektryczny Nudny."
          ],
          [
           "Negative",
           "Negative",
           "Dla mnie żadna rewelacja, ale może części jakiś wybrakowany produkt... Urządzenie mam Co chyba i Urządzenie w go braku z 5 razy. Za każdym razem mieszkanie zadymione i strasznie śmierdziało ( z palonym kablem w coś ). kompletnie nie można ( sumie ani na chwilkę spuścić z czone ponieważ, każdym powodu to regulacji temperatury, szybko się przypala. oka do czy nieprzywierającej, to w moim Panini uży z niej zrezygnowali - za łam razem coś się przyklei, a wyczyszczenie płytek to jakiś koszmar. Jedyne co mogę pochwalić to wygląd ; - )"
          ],
          [
           "Negative",
           "Neutral",
           "Mylący tytuł który kazał że mamy do czynienia z dziełem Smitha, w rzeczywistości w książce zawarte są tylko fragmenty Bogactwa Narodów oraz Teorii d Moralnych, które okraszone choć niestety bardzo kiepskim Praw jak było okazuje sprawia KSIĄŻKI którym NIE JEST ADAM do ! wrażenie sprawia może jakby ktoś ) mu napisać tą książkę, momentami odczuwa się wręcz sugeruje niechęć ( Smitha i o ogromną jego dzieła. Ogólnie to streszczenie / recenzję - się nazwanie tego książką opisy by autorem przesadą, ciężko się czyta. Jedyne co ! że ocena wynosi ponad 1 to że pojawiają się dokładne są"
          ]
         ],
         "hovertemplate": "True Label=%{customdata[0]}<br>TSNE-1=%{x}<br>TSNE-2=%{y}<br>Predicted Label=%{customdata[1]}<br>Text=%{customdata[2]}<extra></extra>",
         "legendgroup": "Negative",
         "marker": {
          "color": "red",
          "symbol": "circle"
         },
         "mode": "markers",
         "name": "Negative",
         "orientation": "v",
         "showlegend": true,
         "type": "scatter",
         "x": [
          -12.050335,
          -12.913944,
          0.30551475,
          1.6523912,
          9.962255,
          6.0986238,
          -3.4941442,
          6.90651,
          -6.3867617,
          -10.510066,
          -9.203868,
          3.8068805,
          -3.0930717,
          -12.820367,
          -1.1208656,
          7.5464616,
          1.2179158,
          -3.0683854,
          0.7406609,
          -5.6354275,
          3.6433961,
          -4.396168,
          1.9767971,
          3.8426523,
          14.882733,
          -14.682062,
          0.66113544,
          1.3903018,
          -8.464505,
          3.7985532,
          5.32507,
          0.8972545,
          11.081881,
          5.2029037,
          -9.104919,
          3.801672,
          -0.5747296,
          -7.8962936,
          9.806534,
          5.3391204,
          -9.087069,
          -0.8125786,
          3.3213787,
          -5.089752
         ],
         "xaxis": "x",
         "y": [
          -5.027265,
          8.260446,
          10.554009,
          8.266008,
          6.776476,
          0.3251041,
          -4.44344,
          -2.4170964,
          0.36618322,
          2.2987523,
          -1.1173564,
          1.7868488,
          -4.2852015,
          8.19162,
          2.6265879,
          -0.78267443,
          0.13955525,
          8.382658,
          -7.1954136,
          -1.9752562,
          -5.349955,
          4.106397,
          -6.280737,
          1.747719,
          -2.1139688,
          -2.8825827,
          6.719665,
          -4.7261496,
          -4.581785,
          -5.2361417,
          9.72439,
          6.898548,
          1.7057662,
          9.783228,
          -2.3551252,
          5.1731005,
          2.4883978,
          -3.7861,
          2.5692384,
          -2.8532252,
          -8.152482,
          10.457626,
          -1.5655453,
          -1.252049
         ],
         "yaxis": "y"
        },
        {
         "customdata": [
          [
           "Positive",
           "Positive",
           "Ogolna opinia : polecam ! ! !"
          ],
          [
           "Positive",
           "Neutral",
           "Znam ją tylko z ćwiczeń gdzie dobrze i przystepnie tłumaczy."
          ],
          [
           "Positive",
           "Negative",
           "Miał em przyjemność mieć z tą panią wykład !"
          ],
          [
           "Positive",
           "Neutral",
           "Polecam ten kurs i polecam !"
          ],
          [
           "Positive",
           "Negative",
           "Analiza matemtyczna 1 ocena : ok czasy / b ] miły, jest jakos mijają, wiesz za co masz ocene. co do trudnosci kolokwiów [ wszystko to kwestia przygotowania , )"
          ],
          [
           "Positive",
           "Negative",
           "Twoja nieobecność to jest ocena w egzaminie na stresu chyba, że odrobisz ten termin. na koniec jest krótki, bezstresowy egzamin ( bez szkole )."
          ],
          [
           "Positive",
           "Neutral",
           "Niesamowite poczucie humoru ciagle wstawki dla rozsmieszenia , itd.."
          ],
          [
           "Positive",
           "Positive",
           "Ogólnie :"
          ],
          [
           "Positive",
           "Neutral",
           "Tak Podstawa oceny w indeksie : egzamin Niespodziewajki : brak ( zadania powtarzają się co roku ) Poczucie humorupane pokłady Ogólne podejście do studenta : pozytywne Zerowy termin jest najprostszy ( 3 zadania ) - warunkiem przystąpienia jest jednak zaliczenie projektu u dr."
          ],
          [
           "Positive",
           "Negative",
           "Dobry wykładowca."
          ],
          [
           "Positive",
           "Neutral",
           "Scharoch wypada naprawde swietnie."
          ],
          [
           "Positive",
           "Neutral",
           "dr Kornel jest wporzadku. wprwawdzie nie potrafi nauczyc algebry ( jak sam przyznaje sam jej juz nie umie : D ), ale jest bardzo przyjaznie nastawiony do studentow. wyklady sa dosc ciekawe, bo pan dr niezbyt czesto porusza problematyke czysto matematyczna, zwykle opowiada co ciekawego dzieje sie na siwecie. kolokwia sa proste pod warunkiem, ze posiedzi sie przy skrypcie ; ) ale nie radze na nich sciagac ( zlaszcza od sasiadow ) bo na samym kole dr Kornel siedzi w kacie i na nikogo nie zwraca uwagi, za to przy sprawdzaniu prac robi wnikliwe.. sledztwo. ogólnie : polecam ! ! !"
          ],
          [
           "Positive",
           "Neutral",
           "Uważam, że to najlepszy kitowy obiektyw na rynku. Wykonanie metal i bardzo dobrej jakości tworzywi. Pierścień przysłony chodzi z należytym oporem i skokiem. Wbudowana stabilizacja jest wydajna i naprawdę pomaga w wielu sytuacjach. Obiektyw bardzo ostry już od największego otworu przysłony. Celność bdb. To za co pochwalę go dodatkowo to szybki silnik autofokusa - używał em go na poczatku z dosyć mułowatym X - E1, teraz, kiedy przesiadł em się na X - T1 to mogę tylko chwalić ! ! ! Ostatni plus to bardzo dobrze opracowany system uszczelnień - obiektyw, mimo, iż jest to zoom, w ogóle nie zasysa kurzu do środka ( miałem już wiele zoomów : Nikkory, Sigmy i tam był to problem ). Polecam !"
          ],
          [
           "Positive",
           "Neutral",
           "Duza częśc grupy zaliczyła w kolokwiach."
          ],
          [
           "Positive",
           "Neutral",
           "Kurs : Fizyka ] ćw. [ / b , Miła, ale często się śmieje ( czesto ironicznie : P )."
          ],
          [
           "Positive",
           "Neutral",
           "Niesamowite poczucie humoru ciagle powraca dla rozsmieszenia towarzystwa itd.."
          ],
          [
           "Positive",
           "Neutral",
           "Gosc jest nieziemski ! ! !"
          ],
          [
           "Positive",
           "Neutral",
           "Warto sie sporo dowiedziec."
          ],
          [
           "Positive",
           "Negative",
           "Obiektyw ten przeznaczony jest dla osób które dopiero zaczynają użytkownika lustrzankami cyfrowymi marki Canon. Jest to obiektyw bez stabilizacji pracę ( jest to w nowszym modelu Mark III ). Cena tego obiektywu nie jest wygórowana. Można go już kupić w bardzo stronę stanie za około 160 - 190 zł, czyli jak na obiektyw śmieszne pieniądze. Dla początkującego wymaga będzie do dobry wybór na na się z możliwościami własnego sprzętu, jeśli nie chce y wykładać i początku wielkich sum na należy się zaawansowanych m dobrym dobre zdjęcia, lecz Pole to trochę wprawy i znajomości aparatu, którego używamy. ie obrazu zapoznanie początkującym użytkownikom. Bardziej innych ca skierować się w y dostępny obiektywów."
          ],
          [
           "Positive",
           "Negative",
           "Fizyka laborki robi ki ującej ! [ / b ] Tadeusz bardzo bor facet, początkowo wydawał się sympatyczny zapowiedział na pierwszych zajęciach kartkówke, ale że przestraszyć tylko samego siebie chyba : P Kartkówki sa po część grupy je chciał i która bardzo marudzi nie ma."
          ],
          [
           "Positive",
           "Negative",
           "Pan Gańcza jest osobą bardzo dobrą jako nauczyciel dla początkujących... nie rozumiem ego Pan komentarzy jeśli chodzi o \" ty k"
          ],
          [
           "Positive",
           "Positive",
           "Piotr M., mgr Pływanie Polecam [ / b ) Ocena za obecnosc ( 5, 0 ]"
          ],
          [
           "Positive",
           "Negative",
           "Pani Małgorzata chętna jest do pomocy z trudniejszymi zadaniami."
          ],
          [
           "Positive",
           "Negative",
           "Każda nieobecność to jest ocena w dół na koniec chyba, że odrobisz ten termin. na koniec jest krótki, bezstresowy egzamin ( bez paniki )."
          ],
          [
           "Positive",
           "Neutral",
           "Nie ma kartkówek i nikt tez nie pyta."
          ],
          [
           "Positive",
           "Negative",
           "Kurs : Fizyka 1 ćw. [ / b ] Miła, sympatyczna, często się śmieje ( czesto ironicznie : P )."
          ],
          [
           "Positive",
           "Positive",
           "Kolokwia nie sa trudne - taki standart ogolnouczelniany."
          ],
          [
           "Positive",
           "Neutral",
           "Lepiej nie mógł eś trafić."
          ],
          [
           "Positive",
           "Positive",
           "Mozna sobie pomóc na zajęciach."
          ],
          [
           "Positive",
           "Positive",
           "2 M., mgr Pływanie Polecam [ / b ] Ocena za obecnosc ( Piotr na )."
          ],
          [
           "Positive",
           "Neutral",
           "Ludzie... takiego lajtu - zyje to nie widzialem... \" ( Postanowilem przytoczyc kilka zdan z pierwszego wykladu jak mniej wiecej ) : \" . a"
          ],
          [
           "Positive",
           "Neutral",
           "ANALIZA MATEMATYCZNA 1 ( ) + ĆW musi Pani i byc sie mila 1 tłumaczy wszytko dokladnie bez zadnego pospiechu."
          ],
          [
           "Positive",
           "Neutral",
           "Na koniec jest koło - bardzo proste."
          ],
          [
           "Positive",
           "Positive",
           "Kola nie sa zbyt trudne, wspomnienia miec dobre wystarczy z cwiczen i przeczytac fragment z ksiazki."
          ],
          [
           "Positive",
           "Neutral",
           "Szermierka to bardzo ciekawy sport, a Pan Gańcza potrafi go nauczyc."
          ],
          [
           "Positive",
           "Negative",
           "Choć gra ma już swoje lata i robi wrażenie i choć widać że jest to 1 razem lego u na pierwszy rzut mnie trudno też nie zauważyć zalet jakie ta gra to wywoł minut ładna po klimatyczna grafika czy według mnie jedna z największych zalet tej gry czyli ROBIENIE WŁASNYCH POSTACI, oka można grać. Niby nic takiego klasa jednak sam wier że coś takiego jest cieszy. Gra poziom trudności zmienia z poziomu na poziom, jeden etap jest łatwy inny Brz Wiele ują i myślenia jednak zagadki są do en w dosłownie 30 którymi dla . napisali na pudełku 7 latków innym ka są proste. zabawne jeszcze jak sik pająka jest według mnie najgorszą rzeczą w początku grze. I do pytań wszystkiego mamy tej częste czasem nie da i bagi które to wielu osób Gra tego : śmiech, złość i nerwice na , u mnie był t fakt problem. rozwiązania lego Batman jest dobrą grą ale nie bez wad."
          ],
          [
           "Positive",
           "Neutral",
           "Znam ją tez z ćwiczeń gdzie dobrze i przystepnie tłumaczy."
          ],
          [
           "Positive",
           "Negative",
           "Ogólnie bardzo polecam, Krzysztof Bogdan ze swoim plecakiem i ' humoru ( ' a teraz na koniec roku podajcie sobie ręce n a znak pokoju ' poczuciem ) spodoba się każdemu."
          ]
         ],
         "hovertemplate": "True Label=%{customdata[0]}<br>TSNE-1=%{x}<br>TSNE-2=%{y}<br>Predicted Label=%{customdata[1]}<br>Text=%{customdata[2]}<extra></extra>",
         "legendgroup": "Positive",
         "marker": {
          "color": "green",
          "symbol": "circle"
         },
         "mode": "markers",
         "name": "Positive",
         "orientation": "v",
         "showlegend": true,
         "type": "scatter",
         "x": [
          -6.7762747,
          10.441473,
          10.273226,
          3.5831766,
          -7.5927777,
          4.331912,
          -13.523263,
          7.807604,
          -2.7776067,
          -3.2058177,
          -8.726995,
          -10.403451,
          11.3712,
          1.8452754,
          7.6827645,
          -13.296438,
          -2.0534344,
          3.888023,
          -0.40281862,
          -1.486368,
          -8.431787,
          10.602345,
          -4.45239,
          6.293168,
          4.2928853,
          6.9096594,
          -7.08598,
          -1.545435,
          -0.66417104,
          10.601873,
          10.811944,
          -6.718527,
          -0.09538236,
          -7.094214,
          -7.042238,
          -3.4652462,
          10.417121,
          2.1849062
         ],
         "xaxis": "x",
         "y": [
          -3.2572696,
          -10.753408,
          -3.5873234,
          -3.7667725,
          0.11376638,
          15.164621,
          1.9904699,
          6.481161,
          -1.321541,
          7.554028,
          -5.5924726,
          -2.4145544,
          7.093655,
          -9.444384,
          5.483198,
          2.2096758,
          0.89087003,
          5.9383245,
          7.705646,
          1.809399,
          0.9028646,
          15.095035,
          9.2409115,
          14.887706,
          -7.539887,
          5.9379444,
          -5.1395516,
          -4.063336,
          -2.222108,
          15.101841,
          4.5732026,
          3.1214528,
          -1.7823372,
          -7.8996797,
          -1.8260517,
          11.338359,
          -10.756711,
          -1.2052835
         ],
         "yaxis": "y"
        },
        {
         "customdata": [
          [
           "Neutral",
           "Negative",
           "Ocena : do przejścia Pan Jerzy to całkiem niezły matematyk, co jest wydawać ekscentryczny ale nie jest taki zły jak by się mogło prawda"
          ],
          [
           "Neutral",
           "Neutral",
           "Cóż...."
          ],
          [
           "Neutral",
           "Neutral",
           "Przez większośc zajęć prowadzący uczą na na kilki grali śmy w piłkę : ) POLECAM jak kurs ( 100 zł )"
          ],
          [
           "Neutral",
           "Negative",
           "Wykład jak to jest to samo co w skrypcie."
          ],
          [
           "Neutral",
           "Neutral",
           "Ogólnie dla ambitnych nie niej a dla tych co chcą przejśc na 3.0 - warto się zapisac, nie marne sensu chodzic na polecam trochę własnej pracy i będzie : faj ma )"
          ],
          [
           "Neutral",
           "Positive",
           "Umie wytłumaczyc trudne zadania, chociaz tak naprawde te najtrudniejsze to i po chęcią omiajał mówiąc by prostu że są one trudne pewno nie będziemy ich liczyc bo ale tak takich nie będzie na z : i Zrobił pare zapowiedzianych kartkówek, ) za 1 pkt."
          ],
          [
           "Neutral",
           "Neutral",
           "będzie zwykle do najłatwiejszych nie należą, ale jak człowiek się troszkę postara to Początki bez problemu."
          ],
          [
           "Neutral",
           "Negative",
           "Niestety z zaliczeniem to jest łatwo ( kolokwia oceniane w systemie 0 - 1 ) ale generalnie jeśli jesteś na bieżąco nie zdasz."
          ],
          [
           "Neutral",
           "Neutral",
           "W tym roku nawet obnizyl prog zaliczenia z 12 na 10 pkt : shock : Generalnie nie jest zle, pozatym AiR nie ma innego wyboru ; )"
          ],
          [
           "Neutral",
           "Positive",
           "Pisemna to test z gramatyki ( uzupełnianka )... obszerny ale do przejścia, jest też poprawka."
          ],
          [
           "Neutral",
           "Neutral",
           "W ktorym mogą zdarzyc sie :"
          ],
          [
           "Neutral",
           "Positive",
           "Zaliczenie : : Strona internetowa wymyślonej firmy lub biznes plan."
          ],
          [
           "Neutral",
           "Positive",
           "Oczywiscie , ale tylko raz : D"
          ],
          [
           "Neutral",
           "Neutral",
           "Podobno jeszcze kadencji niedawna był postrachem, głównie za do Fizyki I i II ale za mojej czasów zmiękł, i jak dla mnie a tak było nadal dość trudno."
          ],
          [
           "Neutral",
           "Positive",
           "W sumie mam zajęcia, dopóki nie bedzie kolokwium."
          ],
          [
           "Neutral",
           "Neutral",
           ", zajeciach nalezy byc Na osoby gadajace i przylapane moge miec obnizona ocene."
          ],
          [
           "Neutral",
           "Negative",
           "To był pierwszy krem do twarzy, którego , m. Jest tani, wydajny i dobrze natłuszcza jest co jest używał zaletą szczególnie jego Poza tym, krem jest nijaki. Nie polecam używania go latem i w zależy dni. dzeniu po a . się świeci i jest bardzo tłusta. Krem ma swój zapach, za dla nie przepadam. Dla mnie którym on zbyt mocny i za mocny strasznie uży krem do twarzy. Moim go jest odpowiedni wysch osób starszych, którym słoneczne na ochronie skóry przed mrozem. Z tego co pamiętam, to nie n zdaniem pod makijaż, ponieważ wyglądało to Woda i nienaturalnie. Polecam na mrozy."
          ],
          [
           "Neutral",
           "Positive",
           "Wg mnie te 6 minut to troche za dużo"
          ],
          [
           "Neutral",
           "Negative",
           "psychologii Profesor jest bardzo miłą osobą jako człwiek, był wykładzie z na analitycznej I rzeczywiście delikatnie rzecz ujmując Pan pytania... niemniej niekiedy wykład prowadzony był z licznymi dygresjami.. co jest miłe... i przyjemnie mija czas ale stawiał zawsze nie z czego się uczyć..."
          ],
          [
           "Neutral",
           "Neutral",
           "Zajmuje to góra dwa dni, zwłaszcza ze odpowiedzi sa wspólnie opracowywane przez studentów."
          ],
          [
           "Neutral",
           "Positive",
           "Tak czy inaczej, : wybie się między Panem Apostolukiem, a Panią Kołodziej - to wiesz już kogo wybrać sz )"
          ],
          [
           "Neutral",
           "Negative",
           "ma absolutnej ciszy, W słuch i wzrok absolutny, usłyszy i wypatrzy wszystko."
          ],
          [
           "Neutral",
           "Neutral",
           "Projekt nie musi być specjalnie rozbudowany, ma ładnie wyglądać, mieć elegancką zrobioną dokumentację, i mają się pokazywać ładne wykresy."
          ],
          [
           "Neutral",
           "Neutral",
           "Ocena stawiać potwierdza obecność, ale trzeba uważać : bardzo nie lubi nazwisk i zdarzało mu sie jego przy nazwisku kropke."
          ],
          [
           "Neutral",
           "Negative",
           "Jest kilka kartkowek / wejsciowek, ktore sa podstawa zaliczenia."
          ],
          [
           "Neutral",
           "Negative",
           "Pan Górniak jest , ale wykonuje raczej standardowe zadania ze skryptu."
          ],
          [
           "Neutral",
           "Positive",
           "Wg mnie te 6 minut to troche za mało."
          ],
          [
           "Neutral",
           "Neutral",
           "Nie było na sali osoby która potrafiła by nie śmiać mu się prosto w twarz."
          ],
          [
           "Neutral",
           "Negative",
           "- wszyscy ( można było oddać wypracowanie jedno wtedy było 3 ; lub Nie koło - niewielu się na to zdecydowało )."
          ],
          [
           "Neutral",
           "Negative",
           "Reszta zadań standard z \" magi \""
          ],
          [
           "Neutral",
           "Neutral",
           "To co mówi pan profesor może i jesst ciekawe i nieraz potrafi zainteresować, jest minusem ale to w jaki sposob on to mówi."
          ],
          [
           "Neutral",
           "Neutral",
           "Zadania robi . \""
          ],
          [
           "Neutral",
           "Neutral",
           "Jeśli wyczyta nieobecnego, to ta osoba na 100 % będzie czytana na kolejnych zajęciach."
          ],
          [
           "Neutral",
           "Negative",
           "krzesełko ale ładnej kolorystyce, bardzo przydatna regulacja siedziska i Jest można je bym wyczyścić bo jest głównie specjalnym materiałem w który nie wnika woda ale oprócz pokryte same minusy, moje ciało poci się łatwo tym krzesełku straszliwie - , ze oczywiście na ten materiał, do tego krzesełko jest bardzo ciężkie przy nie ma kółeczek z przodu co jeszcze bardziej uniemożliwia jego przesuwanie, zajmuje też sporo miejsca. w sporo nie z tego co już na rynku są jeszcze droższe, osobiście jest drugi raz względu m go tego kupiła."
          ],
          [
           "Neutral",
           "Neutral",
           "Był em na jej zajęciach w 100 %, starał em się jak mogł em by nadgonić grupę gdyż nie zdawał em matury z anglika a znalazł em się na B 1."
          ],
          [
           "Neutral",
           "Neutral",
           "Co innego po ćwiczeniach... : )"
          ],
          [
           "Neutral",
           "Negative",
           "Przyłapanie na ściąganiu to 2.0 z danej pracy."
          ],
          [
           "Neutral",
           "Neutral",
           "On jest chyba fanatykiem swoich dziedzin ( a jest tego troche ). ale j . s pamietam wiekszosć w końcu z"
          ],
          [
           "Neutral",
           "Neutral",
           "Jeśli chodzi o wykład na WEMiF - u ludzie , nie mają wyboru raczej chyba tylko dr Juszkiewicz wykłada."
          ]
         ],
         "hovertemplate": "True Label=%{customdata[0]}<br>TSNE-1=%{x}<br>TSNE-2=%{y}<br>Predicted Label=%{customdata[1]}<br>Text=%{customdata[2]}<extra></extra>",
         "legendgroup": "Neutral",
         "marker": {
          "color": "blue",
          "symbol": "circle"
         },
         "mode": "markers",
         "name": "Neutral",
         "orientation": "v",
         "showlegend": true,
         "type": "scatter",
         "x": [
          6.9769626,
          10.655671,
          -5.2210317,
          -0.384982,
          7.989994,
          -9.895294,
          -6.9306707,
          0.2975355,
          2.8222864,
          -5.339841,
          -4.5433693,
          -1.2463697,
          -10.774,
          7.3182673,
          0.040880263,
          -10.643522,
          5.5401406,
          2.3407035,
          9.580858,
          0.13218796,
          4.1126785,
          -3.3981557,
          -1.4348153,
          13.084222,
          6.546383,
          19.396809,
          2.4108427,
          5.704395,
          -4.2729497,
          7.592074,
          0.04430471,
          -3.3306491,
          -3.5562704,
          0.7935002,
          8.928201,
          -2.2909253,
          -4.4001646,
          3.6592603,
          1.4733204
         ],
         "xaxis": "x",
         "y": [
          5.0204124,
          5.39161,
          -0.12679821,
          5.256486,
          -6.8293533,
          2.7545416,
          7.2580614,
          -6.0287533,
          -2.96294,
          -3.4644914,
          1.4458551,
          5.4280677,
          -5.45086,
          -3.7373366,
          -0.1067662,
          5.1706033,
          -3.6827383,
          -12.872601,
          -0.22242911,
          -9.251922,
          -9.813522,
          -8.328146,
          -4.854046,
          -2.7423432,
          -5.3121514,
          -35.950424,
          -12.260486,
          -7.4841986,
          6.752832,
          1.7243109,
          -7.889779,
          5.5938663,
          -5.8369575,
          4.3614793,
          -2.6997755,
          -11.359185,
          -2.5539875,
          -0.20660013,
          -2.3211665
         ],
         "yaxis": "y"
        }
       ],
       "layout": {
        "height": 600,
        "legend": {
         "title": {
          "text": "True Label"
         },
         "tracegroupgap": 0
        },
        "template": {
         "data": {
          "bar": [
           {
            "error_x": {
             "color": "#2a3f5f"
            },
            "error_y": {
             "color": "#2a3f5f"
            },
            "marker": {
             "line": {
              "color": "#E5ECF6",
              "width": 0.5
             },
             "pattern": {
              "fillmode": "overlay",
              "size": 10,
              "solidity": 0.2
             }
            },
            "type": "bar"
           }
          ],
          "barpolar": [
           {
            "marker": {
             "line": {
              "color": "#E5ECF6",
              "width": 0.5
             },
             "pattern": {
              "fillmode": "overlay",
              "size": 10,
              "solidity": 0.2
             }
            },
            "type": "barpolar"
           }
          ],
          "carpet": [
           {
            "aaxis": {
             "endlinecolor": "#2a3f5f",
             "gridcolor": "white",
             "linecolor": "white",
             "minorgridcolor": "white",
             "startlinecolor": "#2a3f5f"
            },
            "baxis": {
             "endlinecolor": "#2a3f5f",
             "gridcolor": "white",
             "linecolor": "white",
             "minorgridcolor": "white",
             "startlinecolor": "#2a3f5f"
            },
            "type": "carpet"
           }
          ],
          "choropleth": [
           {
            "colorbar": {
             "outlinewidth": 0,
             "ticks": ""
            },
            "type": "choropleth"
           }
          ],
          "contour": [
           {
            "colorbar": {
             "outlinewidth": 0,
             "ticks": ""
            },
            "colorscale": [
             [
              0,
              "#0d0887"
             ],
             [
              0.1111111111111111,
              "#46039f"
             ],
             [
              0.2222222222222222,
              "#7201a8"
             ],
             [
              0.3333333333333333,
              "#9c179e"
             ],
             [
              0.4444444444444444,
              "#bd3786"
             ],
             [
              0.5555555555555556,
              "#d8576b"
             ],
             [
              0.6666666666666666,
              "#ed7953"
             ],
             [
              0.7777777777777778,
              "#fb9f3a"
             ],
             [
              0.8888888888888888,
              "#fdca26"
             ],
             [
              1,
              "#f0f921"
             ]
            ],
            "type": "contour"
           }
          ],
          "contourcarpet": [
           {
            "colorbar": {
             "outlinewidth": 0,
             "ticks": ""
            },
            "type": "contourcarpet"
           }
          ],
          "heatmap": [
           {
            "colorbar": {
             "outlinewidth": 0,
             "ticks": ""
            },
            "colorscale": [
             [
              0,
              "#0d0887"
             ],
             [
              0.1111111111111111,
              "#46039f"
             ],
             [
              0.2222222222222222,
              "#7201a8"
             ],
             [
              0.3333333333333333,
              "#9c179e"
             ],
             [
              0.4444444444444444,
              "#bd3786"
             ],
             [
              0.5555555555555556,
              "#d8576b"
             ],
             [
              0.6666666666666666,
              "#ed7953"
             ],
             [
              0.7777777777777778,
              "#fb9f3a"
             ],
             [
              0.8888888888888888,
              "#fdca26"
             ],
             [
              1,
              "#f0f921"
             ]
            ],
            "type": "heatmap"
           }
          ],
          "heatmapgl": [
           {
            "colorbar": {
             "outlinewidth": 0,
             "ticks": ""
            },
            "colorscale": [
             [
              0,
              "#0d0887"
             ],
             [
              0.1111111111111111,
              "#46039f"
             ],
             [
              0.2222222222222222,
              "#7201a8"
             ],
             [
              0.3333333333333333,
              "#9c179e"
             ],
             [
              0.4444444444444444,
              "#bd3786"
             ],
             [
              0.5555555555555556,
              "#d8576b"
             ],
             [
              0.6666666666666666,
              "#ed7953"
             ],
             [
              0.7777777777777778,
              "#fb9f3a"
             ],
             [
              0.8888888888888888,
              "#fdca26"
             ],
             [
              1,
              "#f0f921"
             ]
            ],
            "type": "heatmapgl"
           }
          ],
          "histogram": [
           {
            "marker": {
             "pattern": {
              "fillmode": "overlay",
              "size": 10,
              "solidity": 0.2
             }
            },
            "type": "histogram"
           }
          ],
          "histogram2d": [
           {
            "colorbar": {
             "outlinewidth": 0,
             "ticks": ""
            },
            "colorscale": [
             [
              0,
              "#0d0887"
             ],
             [
              0.1111111111111111,
              "#46039f"
             ],
             [
              0.2222222222222222,
              "#7201a8"
             ],
             [
              0.3333333333333333,
              "#9c179e"
             ],
             [
              0.4444444444444444,
              "#bd3786"
             ],
             [
              0.5555555555555556,
              "#d8576b"
             ],
             [
              0.6666666666666666,
              "#ed7953"
             ],
             [
              0.7777777777777778,
              "#fb9f3a"
             ],
             [
              0.8888888888888888,
              "#fdca26"
             ],
             [
              1,
              "#f0f921"
             ]
            ],
            "type": "histogram2d"
           }
          ],
          "histogram2dcontour": [
           {
            "colorbar": {
             "outlinewidth": 0,
             "ticks": ""
            },
            "colorscale": [
             [
              0,
              "#0d0887"
             ],
             [
              0.1111111111111111,
              "#46039f"
             ],
             [
              0.2222222222222222,
              "#7201a8"
             ],
             [
              0.3333333333333333,
              "#9c179e"
             ],
             [
              0.4444444444444444,
              "#bd3786"
             ],
             [
              0.5555555555555556,
              "#d8576b"
             ],
             [
              0.6666666666666666,
              "#ed7953"
             ],
             [
              0.7777777777777778,
              "#fb9f3a"
             ],
             [
              0.8888888888888888,
              "#fdca26"
             ],
             [
              1,
              "#f0f921"
             ]
            ],
            "type": "histogram2dcontour"
           }
          ],
          "mesh3d": [
           {
            "colorbar": {
             "outlinewidth": 0,
             "ticks": ""
            },
            "type": "mesh3d"
           }
          ],
          "parcoords": [
           {
            "line": {
             "colorbar": {
              "outlinewidth": 0,
              "ticks": ""
             }
            },
            "type": "parcoords"
           }
          ],
          "pie": [
           {
            "automargin": true,
            "type": "pie"
           }
          ],
          "scatter": [
           {
            "fillpattern": {
             "fillmode": "overlay",
             "size": 10,
             "solidity": 0.2
            },
            "type": "scatter"
           }
          ],
          "scatter3d": [
           {
            "line": {
             "colorbar": {
              "outlinewidth": 0,
              "ticks": ""
             }
            },
            "marker": {
             "colorbar": {
              "outlinewidth": 0,
              "ticks": ""
             }
            },
            "type": "scatter3d"
           }
          ],
          "scattercarpet": [
           {
            "marker": {
             "colorbar": {
              "outlinewidth": 0,
              "ticks": ""
             }
            },
            "type": "scattercarpet"
           }
          ],
          "scattergeo": [
           {
            "marker": {
             "colorbar": {
              "outlinewidth": 0,
              "ticks": ""
             }
            },
            "type": "scattergeo"
           }
          ],
          "scattergl": [
           {
            "marker": {
             "colorbar": {
              "outlinewidth": 0,
              "ticks": ""
             }
            },
            "type": "scattergl"
           }
          ],
          "scattermapbox": [
           {
            "marker": {
             "colorbar": {
              "outlinewidth": 0,
              "ticks": ""
             }
            },
            "type": "scattermapbox"
           }
          ],
          "scatterpolar": [
           {
            "marker": {
             "colorbar": {
              "outlinewidth": 0,
              "ticks": ""
             }
            },
            "type": "scatterpolar"
           }
          ],
          "scatterpolargl": [
           {
            "marker": {
             "colorbar": {
              "outlinewidth": 0,
              "ticks": ""
             }
            },
            "type": "scatterpolargl"
           }
          ],
          "scatterternary": [
           {
            "marker": {
             "colorbar": {
              "outlinewidth": 0,
              "ticks": ""
             }
            },
            "type": "scatterternary"
           }
          ],
          "surface": [
           {
            "colorbar": {
             "outlinewidth": 0,
             "ticks": ""
            },
            "colorscale": [
             [
              0,
              "#0d0887"
             ],
             [
              0.1111111111111111,
              "#46039f"
             ],
             [
              0.2222222222222222,
              "#7201a8"
             ],
             [
              0.3333333333333333,
              "#9c179e"
             ],
             [
              0.4444444444444444,
              "#bd3786"
             ],
             [
              0.5555555555555556,
              "#d8576b"
             ],
             [
              0.6666666666666666,
              "#ed7953"
             ],
             [
              0.7777777777777778,
              "#fb9f3a"
             ],
             [
              0.8888888888888888,
              "#fdca26"
             ],
             [
              1,
              "#f0f921"
             ]
            ],
            "type": "surface"
           }
          ],
          "table": [
           {
            "cells": {
             "fill": {
              "color": "#EBF0F8"
             },
             "line": {
              "color": "white"
             }
            },
            "header": {
             "fill": {
              "color": "#C8D4E3"
             },
             "line": {
              "color": "white"
             }
            },
            "type": "table"
           }
          ]
         },
         "layout": {
          "annotationdefaults": {
           "arrowcolor": "#2a3f5f",
           "arrowhead": 0,
           "arrowwidth": 1
          },
          "autotypenumbers": "strict",
          "coloraxis": {
           "colorbar": {
            "outlinewidth": 0,
            "ticks": ""
           }
          },
          "colorscale": {
           "diverging": [
            [
             0,
             "#8e0152"
            ],
            [
             0.1,
             "#c51b7d"
            ],
            [
             0.2,
             "#de77ae"
            ],
            [
             0.3,
             "#f1b6da"
            ],
            [
             0.4,
             "#fde0ef"
            ],
            [
             0.5,
             "#f7f7f7"
            ],
            [
             0.6,
             "#e6f5d0"
            ],
            [
             0.7,
             "#b8e186"
            ],
            [
             0.8,
             "#7fbc41"
            ],
            [
             0.9,
             "#4d9221"
            ],
            [
             1,
             "#276419"
            ]
           ],
           "sequential": [
            [
             0,
             "#0d0887"
            ],
            [
             0.1111111111111111,
             "#46039f"
            ],
            [
             0.2222222222222222,
             "#7201a8"
            ],
            [
             0.3333333333333333,
             "#9c179e"
            ],
            [
             0.4444444444444444,
             "#bd3786"
            ],
            [
             0.5555555555555556,
             "#d8576b"
            ],
            [
             0.6666666666666666,
             "#ed7953"
            ],
            [
             0.7777777777777778,
             "#fb9f3a"
            ],
            [
             0.8888888888888888,
             "#fdca26"
            ],
            [
             1,
             "#f0f921"
            ]
           ],
           "sequentialminus": [
            [
             0,
             "#0d0887"
            ],
            [
             0.1111111111111111,
             "#46039f"
            ],
            [
             0.2222222222222222,
             "#7201a8"
            ],
            [
             0.3333333333333333,
             "#9c179e"
            ],
            [
             0.4444444444444444,
             "#bd3786"
            ],
            [
             0.5555555555555556,
             "#d8576b"
            ],
            [
             0.6666666666666666,
             "#ed7953"
            ],
            [
             0.7777777777777778,
             "#fb9f3a"
            ],
            [
             0.8888888888888888,
             "#fdca26"
            ],
            [
             1,
             "#f0f921"
            ]
           ]
          },
          "colorway": [
           "#636efa",
           "#EF553B",
           "#00cc96",
           "#ab63fa",
           "#FFA15A",
           "#19d3f3",
           "#FF6692",
           "#B6E880",
           "#FF97FF",
           "#FECB52"
          ],
          "font": {
           "color": "#2a3f5f"
          },
          "geo": {
           "bgcolor": "white",
           "lakecolor": "white",
           "landcolor": "#E5ECF6",
           "showlakes": true,
           "showland": true,
           "subunitcolor": "white"
          },
          "hoverlabel": {
           "align": "left"
          },
          "hovermode": "closest",
          "mapbox": {
           "style": "light"
          },
          "paper_bgcolor": "white",
          "plot_bgcolor": "#E5ECF6",
          "polar": {
           "angularaxis": {
            "gridcolor": "white",
            "linecolor": "white",
            "ticks": ""
           },
           "bgcolor": "#E5ECF6",
           "radialaxis": {
            "gridcolor": "white",
            "linecolor": "white",
            "ticks": ""
           }
          },
          "scene": {
           "xaxis": {
            "backgroundcolor": "#E5ECF6",
            "gridcolor": "white",
            "gridwidth": 2,
            "linecolor": "white",
            "showbackground": true,
            "ticks": "",
            "zerolinecolor": "white"
           },
           "yaxis": {
            "backgroundcolor": "#E5ECF6",
            "gridcolor": "white",
            "gridwidth": 2,
            "linecolor": "white",
            "showbackground": true,
            "ticks": "",
            "zerolinecolor": "white"
           },
           "zaxis": {
            "backgroundcolor": "#E5ECF6",
            "gridcolor": "white",
            "gridwidth": 2,
            "linecolor": "white",
            "showbackground": true,
            "ticks": "",
            "zerolinecolor": "white"
           }
          },
          "shapedefaults": {
           "line": {
            "color": "#2a3f5f"
           }
          },
          "ternary": {
           "aaxis": {
            "gridcolor": "white",
            "linecolor": "white",
            "ticks": ""
           },
           "baxis": {
            "gridcolor": "white",
            "linecolor": "white",
            "ticks": ""
           },
           "bgcolor": "#E5ECF6",
           "caxis": {
            "gridcolor": "white",
            "linecolor": "white",
            "ticks": ""
           }
          },
          "title": {
           "x": 0.05
          },
          "xaxis": {
           "automargin": true,
           "gridcolor": "white",
           "linecolor": "white",
           "ticks": "",
           "title": {
            "standoff": 15
           },
           "zerolinecolor": "white",
           "zerolinewidth": 2
          },
          "yaxis": {
           "automargin": true,
           "gridcolor": "white",
           "linecolor": "white",
           "ticks": "",
           "title": {
            "standoff": 15
           },
           "zerolinecolor": "white",
           "zerolinewidth": 2
          }
         }
        },
        "title": {
         "text": "Przestrzeń Wektorowa Testowych Przypadków (Kolor: Prawdziwe Etykiety)"
        },
        "width": 1200,
        "xaxis": {
         "anchor": "y",
         "domain": [
          0,
          1
         ],
         "title": {
          "text": "TSNE-1"
         }
        },
        "yaxis": {
         "anchor": "x",
         "domain": [
          0,
          1
         ],
         "title": {
          "text": "TSNE-2"
         }
        }
       }
      }
     },
     "metadata": {},
     "output_type": "display_data"
    },
    {
     "data": {
      "application/vnd.plotly.v1+json": {
       "config": {
        "plotlyServerURL": "https://plot.ly"
       },
       "data": [
        {
         "customdata": [
          [
           "Negative",
           "Neutral",
           "Zacznijmy … tego, ze na zajecia trzeba sie absolutnie juz z zadan, od szanowny doktor niczego nie wytlumaczy, a jesli do sie zbierze miec tlumaczenia, to krzyz na droge, jesli cos bo"
          ],
          [
           "Positive",
           "Neutral",
           "Znam ją tylko z ćwiczeń gdzie dobrze i przystepnie tłumaczy."
          ],
          [
           "Negative",
           "Neutral",
           "Zapraszamy !"
          ],
          [
           "Neutral",
           "Neutral",
           "Cóż...."
          ],
          [
           "Negative",
           "Neutral",
           "Jeśli niechcesz słuchać to nie musisz."
          ],
          [
           "Positive",
           "Neutral",
           "Polecam ten kurs i polecam !"
          ],
          [
           "Neutral",
           "Neutral",
           "Przez większośc zajęć prowadzący uczą na na kilki grali śmy w piłkę : ) POLECAM jak kurs ( 100 zł )"
          ],
          [
           "Neutral",
           "Neutral",
           "Ogólnie dla ambitnych nie niej a dla tych co chcą przejśc na 3.0 - warto się zapisac, nie marne sensu chodzic na polecam trochę własnej pracy i będzie : faj ma )"
          ],
          [
           "Negative",
           "Neutral",
           "Potrafi przyczepic sie do wszystkie - osie symetri za grubym tym rysowane, wkrecajac srube w drewniany element z gwintem nalezy narysowac jest juz po drugiej stronie ( w ksiazce nic o os nie ma ) i podstawie na tej e cie obleje..."
          ],
          [
           "Negative",
           "Neutral",
           "NIE OLEWAJ GORNIAKA i nie podpadaj mu ( on jest st grozny... ) : P"
          ],
          [
           "Positive",
           "Neutral",
           "Niesamowite poczucie humoru ciagle wstawki dla rozsmieszenia , itd.."
          ],
          [
           "Negative",
           "Neutral",
           "Jeżeli niechcesz słuchać to nie musisz."
          ],
          [
           "Positive",
           "Neutral",
           "Tak Podstawa oceny w indeksie : egzamin Niespodziewajki : brak ( zadania powtarzają się co roku ) Poczucie humorupane pokłady Ogólne podejście do studenta : pozytywne Zerowy termin jest najprostszy ( 3 zadania ) - warunkiem przystąpienia jest jednak zaliczenie projektu u dr."
          ],
          [
           "Positive",
           "Neutral",
           "Scharoch wypada naprawde swietnie."
          ],
          [
           "Neutral",
           "Neutral",
           "będzie zwykle do najłatwiejszych nie należą, ale jak człowiek się troszkę postara to Początki bez problemu."
          ],
          [
           "Negative",
           "Neutral",
           "Po prostu trzeba dużo umieć . Turbo ! : |"
          ],
          [
           "Positive",
           "Neutral",
           "dr Kornel jest wporzadku. wprwawdzie nie potrafi nauczyc algebry ( jak sam przyznaje sam jej juz nie umie : D ), ale jest bardzo przyjaznie nastawiony do studentow. wyklady sa dosc ciekawe, bo pan dr niezbyt czesto porusza problematyke czysto matematyczna, zwykle opowiada co ciekawego dzieje sie na siwecie. kolokwia sa proste pod warunkiem, ze posiedzi sie przy skrypcie ; ) ale nie radze na nich sciagac ( zlaszcza od sasiadow ) bo na samym kole dr Kornel siedzi w kacie i na nikogo nie zwraca uwagi, za to przy sprawdzaniu prac robi wnikliwe.. sledztwo. ogólnie : polecam ! ! !"
          ],
          [
           "Positive",
           "Neutral",
           "Uważam, że to najlepszy kitowy obiektyw na rynku. Wykonanie metal i bardzo dobrej jakości tworzywi. Pierścień przysłony chodzi z należytym oporem i skokiem. Wbudowana stabilizacja jest wydajna i naprawdę pomaga w wielu sytuacjach. Obiektyw bardzo ostry już od największego otworu przysłony. Celność bdb. To za co pochwalę go dodatkowo to szybki silnik autofokusa - używał em go na poczatku z dosyć mułowatym X - E1, teraz, kiedy przesiadł em się na X - T1 to mogę tylko chwalić ! ! ! Ostatni plus to bardzo dobrze opracowany system uszczelnień - obiektyw, mimo, iż jest to zoom, w ogóle nie zasysa kurzu do środka ( miałem już wiele zoomów : Nikkory, Sigmy i tam był to problem ). Polecam !"
          ],
          [
           "Positive",
           "Neutral",
           "Duza częśc grupy zaliczyła w kolokwiach."
          ],
          [
           "Neutral",
           "Neutral",
           "W tym roku nawet obnizyl prog zaliczenia z 12 na 10 pkt : shock : Generalnie nie jest zle, pozatym AiR nie ma innego wyboru ; )"
          ],
          [
           "Negative",
           "Neutral",
           "Jest po prostu na tych wykładach nudno i niczego się człowiek nie dowie pożytecznego, bo na ćwiczeniach materiał idzie zdecydowanie szybciej ( wszystko za sprawą wszelkich dygresji Pana doktora podczas wykładu )."
          ],
          [
           "Positive",
           "Neutral",
           "Kurs : Fizyka ] ćw. [ / b , Miła, ale często się śmieje ( czesto ironicznie : P )."
          ],
          [
           "Positive",
           "Neutral",
           "Niesamowite poczucie humoru ciagle powraca dla rozsmieszenia towarzystwa itd.."
          ],
          [
           "Negative",
           "Neutral",
           "Kiedy na początku zobaczył em słuchawki zachwycał em się nimi. Dobry mikrofon, ładne opakowanie, przyjemny wygląd słuchawek. Ogólnie mówiąc NAJPIERW był em bardzo zadowolony. Gdzieś po 3 miesiącach problemy z mikrofonem się zaczęły raz działał raz nie, po 6 nie odpinał em go ponieważ wtedy już nie działał na długo i nie chciał em kusić losu licząc na kolejny cud, że jak podłącze to znowu zadziała. Po 3 / 4 roku siadła jedna strona zupełnie.... To już mnie kompletnie dobiło i zmienił em na akg 514 i co... ? Ogromna różnica w jakości a należało trochę dopłacić. I na nowych słuchawkach słychać znacznie lepiej w fps na jakim przeciwnik jest poziomie jak jest z tyłu na fatality nie mogł em rozróżnić. Dopóki się odwrócił em i sprawdził em zazwyczaj dead. Nie polecam na dłuższą metę na 3 miesiące mogą być w porządku ale na to zakup na krótko. Beznadziejne wykonanie, kabla mikrofona i ogólnie całych słuchawek."
          ],
          [
           "Neutral",
           "Neutral",
           "W ktorym mogą zdarzyc sie :"
          ],
          [
           "Positive",
           "Neutral",
           "Gosc jest nieziemski ! ! !"
          ],
          [
           "Positive",
           "Neutral",
           "Warto sie sporo dowiedziec."
          ],
          [
           "Neutral",
           "Neutral",
           "Podobno jeszcze kadencji niedawna był postrachem, głównie za do Fizyki I i II ale za mojej czasów zmiękł, i jak dla mnie a tak było nadal dość trudno."
          ],
          [
           "Neutral",
           "Neutral",
           ", zajeciach nalezy byc Na osoby gadajace i przylapane moge miec obnizona ocene."
          ],
          [
           "Negative",
           "Neutral",
           "Za ta cenę spodziewał em się bardziej dopracowanego sprzętu. Miska mocowana w robocie jest w przeciwnym kierunku niż kręci się rózga tak więc przy cięższych ciastach lubi się wypiąć podczas pracy. Niedopracowane same rózgi do misy ( chociaż wyglądają bardzo profesjonalnie ) pozostawiają na dnie nierozmieszane ciasto lub krem ( zaznaczę ze posiadam inne miksery roboty które wypadają o niebo lepiej ) Najbardziej irytujące są jednak mieszadła silikonowe które powinny zbierać wszystko ze ścianek oraz spodu misy co bardzo przeszkadza a właściwie uniemożliwia podbijanie mas na * * * * * z jednoczesnym podgrzewaniem ( w tym celu to zakupił em ) chyba że chcemy jajecznicę to wtedy są wręcz idealne. Co do trwałości robota nie mogę nic powiedzieć za krótko go posiadam. Reasumując osobiście nie kupił by m ponownie robota za taką cenę wiedząc o jego wadach. Do napisania opini skłoniło mnie rozczarowanie : ( : ( : ( i jestem delikatnie wciekły nie wspomnę że lżejszy o 3800. Zawsze jest nadzieja ze ktoś z firmy Kenwood przeczyta moje wypociny i w przyszłych modelach poprawią niedoróbki. Tak tak wiem ze nadzieja jest matką....."
          ],
          [
           "Positive",
           "Neutral",
           "Nie ma kartkówek i nikt tez nie pyta."
          ],
          [
           "Neutral",
           "Neutral",
           "Zajmuje to góra dwa dni, zwłaszcza ze odpowiedzi sa wspólnie opracowywane przez studentów."
          ],
          [
           "Neutral",
           "Neutral",
           "Projekt nie musi być specjalnie rozbudowany, ma ładnie wyglądać, mieć elegancką zrobioną dokumentację, i mają się pokazywać ładne wykresy."
          ],
          [
           "Positive",
           "Neutral",
           "Lepiej nie mógł eś trafić."
          ],
          [
           "Neutral",
           "Neutral",
           "Ocena stawiać potwierdza obecność, ale trzeba uważać : bardzo nie lubi nazwisk i zdarzało mu sie jego przy nazwisku kropke."
          ],
          [
           "Neutral",
           "Neutral",
           "Nie było na sali osoby która potrafiła by nie śmiać mu się prosto w twarz."
          ],
          [
           "Neutral",
           "Neutral",
           "To co mówi pan profesor może i jesst ciekawe i nieraz potrafi zainteresować, jest minusem ale to w jaki sposob on to mówi."
          ],
          [
           "Neutral",
           "Neutral",
           "Zadania robi . \""
          ],
          [
           "Neutral",
           "Neutral",
           "Jeśli wyczyta nieobecnego, to ta osoba na 100 % będzie czytana na kolejnych zajęciach."
          ],
          [
           "Positive",
           "Neutral",
           "Ludzie... takiego lajtu - zyje to nie widzialem... \" ( Postanowilem przytoczyc kilka zdan z pierwszego wykladu jak mniej wiecej ) : \" . a"
          ],
          [
           "Positive",
           "Neutral",
           "ANALIZA MATEMATYCZNA 1 ( ) + ĆW musi Pani i byc sie mila 1 tłumaczy wszytko dokladnie bez zadnego pospiechu."
          ],
          [
           "Negative",
           "Neutral",
           "Radze trzymac sie z daleka !"
          ],
          [
           "Neutral",
           "Neutral",
           "Był em na jej zajęciach w 100 %, starał em się jak mogł em by nadgonić grupę gdyż nie zdawał em matury z anglika a znalazł em się na B 1."
          ],
          [
           "Neutral",
           "Neutral",
           "Co innego po ćwiczeniach... : )"
          ],
          [
           "Positive",
           "Neutral",
           "Na koniec jest koło - bardzo proste."
          ],
          [
           "Positive",
           "Neutral",
           "Szermierka to bardzo ciekawy sport, a Pan Gańcza potrafi go nauczyc."
          ],
          [
           "Neutral",
           "Neutral",
           "On jest chyba fanatykiem swoich dziedzin ( a jest tego troche ). ale j . s pamietam wiekszosć w końcu z"
          ],
          [
           "Neutral",
           "Neutral",
           "Jeśli chodzi o wykład na WEMiF - u ludzie , nie mają wyboru raczej chyba tylko dr Juszkiewicz wykłada."
          ],
          [
           "Positive",
           "Neutral",
           "Znam ją tez z ćwiczeń gdzie dobrze i przystepnie tłumaczy."
          ],
          [
           "Negative",
           "Neutral",
           "Mylący tytuł który kazał że mamy do czynienia z dziełem Smitha, w rzeczywistości w książce zawarte są tylko fragmenty Bogactwa Narodów oraz Teorii d Moralnych, które okraszone choć niestety bardzo kiepskim Praw jak było okazuje sprawia KSIĄŻKI którym NIE JEST ADAM do ! wrażenie sprawia może jakby ktoś ) mu napisać tą książkę, momentami odczuwa się wręcz sugeruje niechęć ( Smitha i o ogromną jego dzieła. Ogólnie to streszczenie / recenzję - się nazwanie tego książką opisy by autorem przesadą, ciężko się czyta. Jedyne co ! że ocena wynosi ponad 1 to że pojawiają się dokładne są"
          ]
         ],
         "hovertemplate": "Predicted Label=%{customdata[1]}<br>TSNE-1=%{x}<br>TSNE-2=%{y}<br>True Label=%{customdata[0]}<br>Text=%{customdata[2]}<extra></extra>",
         "legendgroup": "Neutral",
         "marker": {
          "color": "blue",
          "symbol": "circle"
         },
         "mode": "markers",
         "name": "Neutral",
         "orientation": "v",
         "showlegend": true,
         "type": "scatter",
         "x": [
          -12.050335,
          10.441473,
          9.962255,
          10.655671,
          -3.4941442,
          3.5831766,
          -5.2210317,
          7.989994,
          -10.510066,
          -9.203868,
          -13.523263,
          -3.0930717,
          -2.7776067,
          -8.726995,
          -6.9306707,
          1.2179158,
          -10.403451,
          11.3712,
          1.8452754,
          2.8222864,
          0.7406609,
          7.6827645,
          -13.296438,
          1.9767971,
          -4.5433693,
          -2.0534344,
          3.888023,
          7.3182673,
          -10.643522,
          3.7985532,
          4.2928853,
          0.13218796,
          -1.4348153,
          -1.545435,
          13.084222,
          5.704395,
          0.04430471,
          -3.3306491,
          -3.5562704,
          10.811944,
          -6.718527,
          -9.087069,
          8.928201,
          -2.2909253,
          -0.09538236,
          -7.042238,
          3.6592603,
          1.4733204,
          10.417121,
          -5.089752
         ],
         "xaxis": "x",
         "y": [
          -5.027265,
          -10.753408,
          6.776476,
          5.39161,
          -4.44344,
          -3.7667725,
          -0.12679821,
          -6.8293533,
          2.2987523,
          -1.1173564,
          1.9904699,
          -4.2852015,
          -1.321541,
          -5.5924726,
          7.2580614,
          0.13955525,
          -2.4145544,
          7.093655,
          -9.444384,
          -2.96294,
          -7.1954136,
          5.483198,
          2.2096758,
          -6.280737,
          1.4458551,
          0.89087003,
          5.9383245,
          -3.7373366,
          5.1706033,
          -5.2361417,
          -7.539887,
          -9.251922,
          -4.854046,
          -4.063336,
          -2.7423432,
          -7.4841986,
          -7.889779,
          5.5938663,
          -5.8369575,
          4.5732026,
          3.1214528,
          -8.152482,
          -2.6997755,
          -11.359185,
          -1.7823372,
          -1.8260517,
          -0.20660013,
          -2.3211665,
          -10.756711,
          -1.252049
         ],
         "yaxis": "y"
        },
        {
         "customdata": [
          [
           "Positive",
           "Positive",
           "Ogolna opinia : polecam ! ! !"
          ],
          [
           "Negative",
           "Positive",
           "Analiza matematyczna 1 ćwiczenia Ocena : unikać [ / b ] posługując jest ćwiczeniach myślał em, że analize : bez liczy ( pokazywał jak się ' ułamki o różnych mianownikach, sensu się swoją ' maszyną liczącą ( kalkulator P wink : lubi z nim o ) )."
          ],
          [
           "Neutral",
           "Positive",
           "Umie wytłumaczyc trudne zadania, chociaz tak naprawde te najtrudniejsze to i po chęcią omiajał mówiąc by prostu że są one trudne pewno nie będziemy ich liczyc bo ale tak takich nie będzie na z : i Zrobił pare zapowiedzianych kartkówek, ) za 1 pkt."
          ],
          [
           "Positive",
           "Positive",
           "Ogólnie :"
          ],
          [
           "Negative",
           "Positive",
           "Analiza matematyczna 1 ćwiczenia Ocena : unikać [ / b ] Na pierwszych ćwiczeniach myślał em, że analize zaliczę bez problemów ( pokazywał jak się dodaje ułamki o różnych mianownikach, bawił się swoją ' maszyną liczącą ( kalkulator : wink : lubi sie nim bawić ) )."
          ],
          [
           "Neutral",
           "Positive",
           "Pisemna to test z gramatyki ( uzupełnianka )... obszerny ale do przejścia, jest też poprawka."
          ],
          [
           "Negative",
           "Positive",
           "Na analizie 2 była że raz pierwszy jego wykładzie i stwierdziła m, na to strata czasu."
          ],
          [
           "Neutral",
           "Positive",
           "Zaliczenie : : Strona internetowa wymyślonej firmy lub biznes plan."
          ],
          [
           "Neutral",
           "Positive",
           "Oczywiscie , ale tylko raz : D"
          ],
          [
           "Neutral",
           "Positive",
           "W sumie mam zajęcia, dopóki nie bedzie kolokwium."
          ],
          [
           "Negative",
           "Positive",
           "Ogolnie, , z ale jezeli ma sie mozliwosc zapisania do kogos innego, to raczej warto owszem niej skorzystac."
          ],
          [
           "Positive",
           "Positive",
           "Piotr M., mgr Pływanie Polecam [ / b ) Ocena za obecnosc ( 5, 0 ]"
          ],
          [
           "Neutral",
           "Positive",
           "Wg mnie te 6 minut to troche za dużo"
          ],
          [
           "Neutral",
           "Positive",
           "Tak czy inaczej, : wybie się między Panem Apostolukiem, a Panią Kołodziej - to wiesz już kogo wybrać sz )"
          ],
          [
           "Positive",
           "Positive",
           "Kolokwia nie sa trudne - taki standart ogolnouczelniany."
          ],
          [
           "Neutral",
           "Positive",
           "Wg mnie te 6 minut to troche za mało."
          ],
          [
           "Positive",
           "Positive",
           "Mozna sobie pomóc na zajęciach."
          ],
          [
           "Negative",
           "Positive",
           "Wydaje sie ze gardził studentami."
          ],
          [
           "Positive",
           "Positive",
           "2 M., mgr Pływanie Polecam [ / b ] Ocena za obecnosc ( Piotr na )."
          ],
          [
           "Negative",
           "Positive",
           "Ogolnie, ze ujdzie, ale jezeli ma sie możliwość zapisania do kogos innego, to raczej warto z tego skorzystac."
          ],
          [
           "Positive",
           "Positive",
           "Kola nie sa zbyt trudne, wspomnienia miec dobre wystarczy z cwiczen i przeczytac fragment z ksiazki."
          ]
         ],
         "hovertemplate": "Predicted Label=%{customdata[1]}<br>TSNE-1=%{x}<br>TSNE-2=%{y}<br>True Label=%{customdata[0]}<br>Text=%{customdata[2]}<extra></extra>",
         "legendgroup": "Positive",
         "marker": {
          "color": "green",
          "symbol": "circle"
         },
         "mode": "markers",
         "name": "Positive",
         "orientation": "v",
         "showlegend": true,
         "type": "scatter",
         "x": [
          -6.7762747,
          -12.913944,
          -9.895294,
          7.807604,
          -12.820367,
          -5.339841,
          -4.396168,
          -1.2463697,
          -10.774,
          0.040880263,
          -8.464505,
          10.602345,
          2.3407035,
          4.1126785,
          -7.08598,
          2.4108427,
          -0.66417104,
          3.801672,
          10.601873,
          -7.8962936,
          -7.094214
         ],
         "xaxis": "x",
         "y": [
          -3.2572696,
          8.260446,
          2.7545416,
          6.481161,
          8.19162,
          -3.4644914,
          4.106397,
          5.4280677,
          -5.45086,
          -0.1067662,
          -4.581785,
          15.095035,
          -12.872601,
          -9.813522,
          -5.1395516,
          -12.260486,
          -2.222108,
          5.1731005,
          15.101841,
          -3.7861,
          -7.8996797
         ],
         "yaxis": "y"
        },
        {
         "customdata": [
          [
           "Negative",
           "Negative",
           "Lakier roweru bardzo kiedy ŻE robią się odpryski nie wiadomo od w rower ! ny ale po ku miesiącach użytkowania widoczne odpryski lakieru czego za taką cenę jak Ż się ! kilku ! ! ! st ! ! ! ! ! ! ! ! ! ! ! ! ! ! ! Oczywiście producent twierdzi TEGO są to wady mechaniczne, dziecko ma w lepszym stanie ! na rowerze ale nie jeździć tej ! ODRADZAM ZAKUP Z ceny POWODU ! TYLE KASY I ła chyba ze rower będzie ! nieużywany za szybą. Na zakończenie powiem tak kupi lakier zwykły do paznokci a hybrydę wiadomo w tańszym zwykłym lakierze robią ! odpryski a lepszym leżał ! ! ! ! że ! ! ! ! am TO ! !"
          ],
          [
           "Neutral",
           "Negative",
           "Ocena : do przejścia Pan Jerzy to całkiem niezły matematyk, co jest wydawać ekscentryczny ale nie jest taki zły jak by się mogło prawda"
          ],
          [
           "Negative",
           "Negative",
           "Budzik zdecydowanie nie jest warty ceny 75 zł. Zalety : ładny wygląd, dobre spasowanie materiału, duże czytelne cyfry, głośny alarm. Wady : wykonany z kiepskiej jakości, taniego plastiku, przyciski ( w tym alarmu i drzemki ) umieszczone z tyłu, co jest bardzo niepraktyczne w nocy, przyciski też tandetne ( głośne i twarde ). Może przeszkadzać : brak regulacji podświetlenia, bateria podtrzymująca pamięć w coraz rzadziej spotykanej postaci 9V ( nie mogły być paluszki ? ). Przydatna była by również opcja regulacji alarmu ( np. od delikatnego do mocnego )."
          ],
          [
           "Positive",
           "Negative",
           "Miał em przyjemność mieć z tą panią wykład !"
          ],
          [
           "Negative",
           "Negative",
           "Przereklamowane. ( podobnie jak inne towary . np. nie bosch i to wy serii dla prof. użytku ! ) nigdy za tę cenę, oczekiwał em od robota wyższej jakości. Zaledwie po kilku . użycia wydobywać się firmy smar z pod wałka / . dniach W tej cenie , powinno w mieć NIGDY Jednak Ogólnie siłę robot ma, i wygląda na nie do zajeżdżenia - choć mam obawy do przekładni czy się wa rozsypie - strasznie głośno wał cokolwiek z kuchni nie Poza się potwornie drogie dodatki, zaczął by to nie było. Osobiście, tym by śmy go nie kupili."
          ],
          [
           "Negative",
           "Negative",
           "Ja idąc na informatyke 3 nie znałęm te znam , jezyka g no i to nie jest kurs dla takich ludzi - doktor o , wszyscy wiedzą co to jest i że Bana każde jego skomplikowane słowo ! ! !"
          ],
          [
           "Neutral",
           "Negative",
           "Wykład jak to jest to samo co w skrypcie."
          ],
          [
           "Negative",
           "Negative",
           "jestem pilarzem od parunastu lat, skusił em się na tego partnera w listopadzie 2016r. Łatwo się uruchamia i dobrze pracuje, lekka, poręczna, wygodna ale za mały otwór wlewu oleju i za małe objętości zbiornika paliwa i oleju - trzeba często uzupełniać je, filtr powietrza w zasadzie jednorazowy zapycha się po około tygodniu pracy ( około 3h dziennej pracy piły ) - koszt nowego 10zł, zaś po 3 miesiącach pękła linka gazu ( każde naciśnięcie manetki gazu łamie linkę - takie dziwne rozwiązanie konstrukcyjne ) - koszt nowej 40zł, jak dla mnie trochę za wysokie koszty utrzymania tej piły - jestem zawiedziony tym modelem partnera."
          ],
          [
           "Negative",
           "Negative",
           "Podobnie jak większość zawiodła m się na tej kosiarce. Wydawało się, że firmowa kosiarka będzie służyć dłużej... Od samego początku była bardzo delikatna, dobra tylko do drobnej trawki na idealnie równym terenie. Koszenie na lekkich nierównościach zakończyło się powyginanym nożem. Nóż po roku wymieniony na nowy, bo nie dało się go naostrzyć. Długo jednak nim się nie cieszyła m, silnik zaczął dziwnie pracować... aż w końcu przestał. Powiem szczerze, że dużo lepiej sprawowała się moja pierwsza najtańsza kosiarka no name. Z nożem nic się nie działo na górkach i dołkach, silnik nie do zajeżdżenia. Gdyby nie to, że uszkodziły się kółka, to dalej by pracowała. Zawiodła m się na Gardenie."
          ],
          [
           "Positive",
           "Negative",
           "Analiza matemtyczna 1 ocena : ok czasy / b ] miły, jest jakos mijają, wiesz za co masz ocene. co do trudnosci kolokwiów [ wszystko to kwestia przygotowania , )"
          ],
          [
           "Positive",
           "Negative",
           "Twoja nieobecność to jest ocena w egzaminie na stresu chyba, że odrobisz ten termin. na koniec jest krótki, bezstresowy egzamin ( bez szkole )."
          ],
          [
           "Positive",
           "Negative",
           "Dobry wykładowca."
          ],
          [
           "Negative",
           "Negative",
           "Fizyka 2 . . b . Zdac egzamin jest bardzo trudno tak bylo w moim przypadku zdalo bardzo mało osub."
          ],
          [
           "Negative",
           "Negative",
           "Witam Długo się namyślał em przed zakupem przyzwoitego wykonania i zdecydował em się na STEINELA 3002. Porażka Koszty pistolet lini pierwsza próba pracy zagrzewa, nika klej i przestał działać. Wysyłka na i Po wymianie systemu moc pistolet puszczał klej bokami, kapał z podajnika ) po pięciu minutach ponownie przestał Rumu Wysyłka na serwis. a do tej pory mam . od , serwis a popracował 5 ż Wydaje mi się n Jak za 100 powinien pistoletu dłużej. lat dostawy na serwis i odbiór zbliżają się do ceny zakupu. Nie polecam tego produktu. Zapomniał em serwis sam e zaskoczony jakością ością i nad nazwę plomb ( prawdopodobnie zmieniono puścił produktu na producenta byłem Rumuni wytrzymać Steinel to już nie te same narzędzia co kiedyś. Proponuję poważnie się zastanowić ) zakupem. Pozdrawiam"
          ],
          [
           "Negative",
           "Negative",
           "Ocena ogólna : UNIKAC : x = x"
          ],
          [
           "Neutral",
           "Negative",
           "Niestety z zaliczeniem to jest łatwo ( kolokwia oceniane w systemie 0 - 1 ) ale generalnie jeśli jesteś na bieżąco nie zdasz."
          ],
          [
           "Negative",
           "Negative",
           "Grzejniki ładne zmieniać mają beznadziejne działanie bez pamięci nastaw t możliwości programowania. Można jedynie ą nastawy fabryczne ale do czasu pierwszego zaniku napięcia, potem i tak wszystko powróci do nastaw fabrycznych. Poza tym termostaty bardzo łatwo się a i grzejnik m tego fabryka dała. Oczywiście na koszt właściciela. Grzejniki praktycznie ale ają się na ps i bez stałego niszczą Jeszcze jedno w czasie pracy wydają dziwne odgłosy i to całkiem napięcia Może to wyrzuty sumienie . co je zaprojektował."
          ],
          [
           "Negative",
           "Negative",
           "Za ta cenę spodziewał em zbyt bardziej dopracowanego ró Miska mocowana w chodzi jest w na kierunku niż kręci się rózga tak więc mojej cięższych maszyn lubi się wypiąć podczas pracy. mogę w rózgi do misy ( chociaż wyglądają dół profesjonalnie ) pozostawiają na dnie nierozmieszane ciasto lub samego ( zaznaczę ze posiadam inne : lepiej które wypadają o niebo wać ) opinie irytujące są jednak mieszadła silikonowe które powinny sy masę ze ścianek oraz spodu misy co bardzo przeszkadza a właściwie uniemożliwia podbijanie mas Canon * * * * * nie . podgrzewaniem gi w tym celu to zakupił em t chyba że bardzo jajecznicę przeciwnym się są wręcz idealne. Co do Najbardziej robota nie nie nic powiedzieć za krótko go posiadam. Reasumując osobiście Moc kupił by m ponownie robota za taką cenę wiedząc o jego wadach. Do nie opini skłoniło mnie rozczarowanie , ( : ( : ( . jestem Nie wciekły nie wspomnę że łączone o 3800. Zawsze jest nadzieja ze ktoś z firmy przy przeczyta moje wysta i a przyszłych modelach poprawią niedoróbki. Tak poz wiem ze nadzieja jest matką....."
          ],
          [
           "Negative",
           "Negative",
           "Podobnie jak większość zawiodła m się na tej kosiarce. Wydawało się, Skoń firmowa kosiarka będzie służyć dłużej... Od samego . była bardzo kach dobra tylko do drobnej trawki na idealnie równym by Koszenie na óż ła zakończyło się powyginanym nożem. Nóż , roku wymieniony na nowy, bo nie dało się go naostrzyć. Długo jednak nim gór nie cieszyła początku , zaczął , pracować... aż w końcu się Powiem . że dużo lepiej sprawowała się moja ale najtańsza kosiarka źle name. Z nożem nic , nie działo na górkach i dołkach, bardzo nie do po Gdyby nie to, że uszkodziły się końca to dalej się pracowała. no że się na Gardenie."
          ],
          [
           "Negative",
           "Negative",
           "Jestem świeżo po zakupie Marantza 611. Urządzenie bardzo dobrze odtwarza płyty CD. Gorzej jest z nośnikami USB. Nośniki czytane są długo i dźwięk jest słyszalnie uboższy pomimo odtwarzania plików FLAC. Jednak kompletna porażka to wieszanie się urządzenia jeśli zaczynamy słuchać stacji z radia cyfrowego DAB +. Sytuacja jest powtarzalna po dodaniu stacji dwóch DAB + do ulubionych i próbie przełączania się między nimi następuje zawieszenie urządzenia, dokładniej odtwarzania dźwięku. Przywrócenie odtwarzania dziwięku jest możliwe po wybraniu stacji FM do odtwarzania. Drugą kwestią jest włączanie się samo z siebie urządzenia. Czyli śpisz sobie a ono się włącza. Wyłączasz. Za 2h jest to samo. Jeśli do tego dodamy głęboko rozczarowującą scenę dżwiękową dla nośników USB lepiej kupić coś tańszego nawet jeśli będzie miało te same wady."
          ],
          [
           "Negative",
           "Negative",
           "Niestety co do samego prowadzącego mam już obekcje, z punktu wdzienia treningu itd. wszytko było ok ( a czesami nawet bardzo ok - rozgrzewki w formie zabawy ), ale niestety miala miejse u nas na treningu sytulacja ktora bardzo mnie do tego pana zrazila ; podczas pokazywania dźwigni na noge ( stopę ) zignorował zupełnie odklepenie w mate ( czyli powiadomienie o tym, że ma się dość, że boi ) studenta na ktorym pokazywal technike i nie puścił lub chociaż zmniejszył nacisku ( siłę skrętu )."
          ],
          [
           "Negative",
           "Negative",
           "Grill ma wadę, dużą, z regulacji niestety . em 3 nie Tłuszcz zamiast wysy w całości do dołączonej miseczki, - w płytę mówił zawsze po grillowaniu, musiałem go postawić w pionie kupi patrzeć jak wylewa się to na blat. Nie wiem czy Philips i nie przemyślał, poszukać sprawdził, ale jest to tragiczne niedopatrzenie. Kilka dni temu pracy wrzucić posłuszeństwa. Nie grzeje. Pokrętło do do moim temperatury d również rok temu, przestało mieć grzechotkę, ale nie przeszkadzało to w o Za minus uważam od brak możliwości dokupienia samych płyt teflonowych, choćby łem tego połowy grilla. Zdecydowanie nie polecam i nie kupię grilla Philipsa, a wa przypadku awarii, muszę i nowego."
          ],
          [
           "Negative",
           "Negative",
           "Niestety w zapisu filmy wypadł na Ciekawe Prędkość przez dużego słabo pliku na USB 2. 0 to 5MB / trochę i nie chce być szybciej. do czy NTFS dw FAT32. Kupił u rze egzemplarze i na każdym taka żenada. Wstyd dla Patriota. Dane podane czy producenta są wyssane z palca ( rozumiem że recen dane z USB 3. 0, ale . USB 2. 0 powinno być duuuużo lepiej ). s taki, że jak wieczorem pójdę do koleżanki zgrać 2 ć w FullHD, muszę a niej zostać na śniadanie, żeby doczekać się końca kopiowania. Powinien em formatu Problem od producenta to pieniędzy."
          ],
          [
           "Positive",
           "Negative",
           "Obiektyw ten przeznaczony jest dla osób które dopiero zaczynają użytkownika lustrzankami cyfrowymi marki Canon. Jest to obiektyw bez stabilizacji pracę ( jest to w nowszym modelu Mark III ). Cena tego obiektywu nie jest wygórowana. Można go już kupić w bardzo stronę stanie za około 160 - 190 zł, czyli jak na obiektyw śmieszne pieniądze. Dla początkującego wymaga będzie do dobry wybór na na się z możliwościami własnego sprzętu, jeśli nie chce y wykładać i początku wielkich sum na należy się zaawansowanych m dobrym dobre zdjęcia, lecz Pole to trochę wprawy i znajomości aparatu, którego używamy. ie obrazu zapoznanie początkującym użytkownikom. Bardziej innych ca skierować się w y dostępny obiektywów."
          ],
          [
           "Positive",
           "Negative",
           "Fizyka laborki robi ki ującej ! [ / b ] Tadeusz bardzo bor facet, początkowo wydawał się sympatyczny zapowiedział na pierwszych zajęciach kartkówke, ale że przestraszyć tylko samego siebie chyba : P Kartkówki sa po część grupy je chciał i która bardzo marudzi nie ma."
          ],
          [
           "Positive",
           "Negative",
           "Pan Gańcza jest osobą bardzo dobrą jako nauczyciel dla początkujących... nie rozumiem ego Pan komentarzy jeśli chodzi o \" ty k"
          ],
          [
           "Negative",
           "Negative",
           "hhmm, no to jazda z tym sam i to tylko ta ) Jeśli chodzi o resztę to ; brak osiowości ławki, brak stabilności ( ćwicząc na ławce skos ujemny radzę zakładać pampersa tam Teraz widze , sprzęt jest robiony masowo przez , sprzętem ( na Chiński to będzie Jung M Spaw 2 Urządzenie do ćwiczeń na nogi ucieka kilka w ńczyków nisko stronę, modlitewnik tragedia, oparcie do ćwiczenia rozpiętek na siedząco jest ) osadzone, ogólnie kupując jeszcze raz wybrał bym m Chińborka nie ale nie za 1800zł. Moim zdaniem jest wart jakieś 1100zł. Chi a 174 cm. , wzrostu, jest niewygodny ćwicząc barki na wyciągu że wyprostujesz x Ogólnie polecam TV 40 . - ra pare cali za nie pinąchy , oglądając co dziennie youtuba jakieś 30 - l min. ćwiczył by m pompki i takie w pochodne, Rezultat ten . ( o ile . lepszy ), a ile radości. niskiego Marsh..."
          ],
          [
           "Neutral",
           "Negative",
           "To był pierwszy krem do twarzy, którego , m. Jest tani, wydajny i dobrze natłuszcza jest co jest używał zaletą szczególnie jego Poza tym, krem jest nijaki. Nie polecam używania go latem i w zależy dni. dzeniu po a . się świeci i jest bardzo tłusta. Krem ma swój zapach, za dla nie przepadam. Dla mnie którym on zbyt mocny i za mocny strasznie uży krem do twarzy. Moim go jest odpowiedni wysch osób starszych, którym słoneczne na ochronie skóry przed mrozem. Z tego co pamiętam, to nie n zdaniem pod makijaż, ponieważ wyglądało to Woda i nienaturalnie. Polecam na mrozy."
          ],
          [
           "Negative",
           "Negative",
           "Grill ma wadę, dużą, z którą niestety żył em 3 lata. Tłuszcz zamiast skapywać w całości do dołączonej miseczki, spływał pod płytę grzewczą, zawsze po grillowaniu, musiałem go postawić w pionie i patrzeć jak wylewa się to na blat. Nie wiem czy Philips tego nie przemyślał, nie sprawdził, ale jest to tragiczne niedopatrzenie. Kilka dni temu grill odmówił posłuszeństwa. Nie grzeje. Pokrętło do do ustawiania temperatury odmówiło z rok temu, przestało mieć grzechotkę, ale nie przeszkadzało to w użytkowaniu. Za minus uważam też brak możliwości dokupienia samych płyt teflonowych, choćby w cenie połowy grilla. Zdecydowanie nie polecam i nie kupię grilla Philipsa, a w przypadku awarii, muszę kupić nowego."
          ],
          [
           "Positive",
           "Negative",
           "Pani Małgorzata chętna jest do pomocy z trudniejszymi zadaniami."
          ],
          [
           "Neutral",
           "Negative",
           "psychologii Profesor jest bardzo miłą osobą jako człwiek, był wykładzie z na analitycznej I rzeczywiście delikatnie rzecz ujmując Pan pytania... niemniej niekiedy wykład prowadzony był z licznymi dygresjami.. co jest miłe... i przyjemnie mija czas ale stawiał zawsze nie z czego się uczyć..."
          ],
          [
           "Positive",
           "Negative",
           "Każda nieobecność to jest ocena w dół na koniec chyba, że odrobisz ten termin. na koniec jest krótki, bezstresowy egzamin ( bez paniki )."
          ],
          [
           "Positive",
           "Negative",
           "Kurs : Fizyka 1 ćw. [ / b ] Miła, sympatyczna, często się śmieje ( czesto ironicznie : P )."
          ],
          [
           "Neutral",
           "Negative",
           "ma absolutnej ciszy, W słuch i wzrok absolutny, usłyszy i wypatrzy wszystko."
          ],
          [
           "Negative",
           "Negative",
           ", + dostajemy produkt z najwyższej półki, pięknie sem Mysz jest wygodna, działa ( jak już działa ) Kiedy szach się z +... teraz - wykonany więcej sprzętu dla + RAZERA. Przereklamowane - to pierwsze to narzuca mi łem na . Absurdalna cena jak - taki sprzęt. Gumki pod kciukiem - po trzech Korzy m miał problem kupi działaniem i po na sensor również choć korzystam z potrzebuję + Obydwie części musiałem działa Program psu jest oprogramowanie Razer Synapse, które zawiesza się za każdym razem kiedy je otwieramy lub kiedy odłączamy / podłączamy kabel do myszki ( przełączamy się z pracy przewodowej na bezprzewodową 4 na odwrót ). + posiada funkcje, które po prostu nie klawia działają np. kalibracja powierzchni. Wy włączam funkcje, mysz na profesjonalnej podkładce nie działa, za to na drewnianym blacie już tak - niestety byle W przerywając my nierównościach. Na szczęście kiedy już wszystko ustawimy - po drodze . poprzez alt + Z + del program st i komputer i nie wyciągamy kabla całość działa. użytkowników skrócie, z w tańszą lepszą mysz od nie"
          ],
          [
           "Negative",
           "Negative",
           "hhmm, no to jazda na tym Wygląd i to sprzęt ta zaleta. Jeśli chodzi o resztę to ; brak ż ł brak stabilności jest ćwicząc . ławce skos ujemny radzę zakładać pampersa ). Ja widze by sprzęt jest robiony du przez zwykłego Kowalskiego ( na Chiński tylko będzie Jung , Spaw ). Urządzenie do to na nogi bym kilka stopni w jedną stronę, modlitewnik tragedia, oparcie do ćwiczenia rozpiętek na siedząco jest krzywo osadzone, ogólnie o jeszcze raz wybrał że m Chińborka 1, ale nie za mam - a jest wart jakieś ( Mam jakieś 174 za oczywiście . jest niewygodny ćwicząc barki na wyciągu nie jego ramion. amor polecam TV Samsung Smart jakieś 40 pare cali za te pinąchy i oglądając co dziennie ćwiczeń jakieś 30 - 50 cm tu by m pompki z takie z pochodne, Rezultat ten sam ( o ile nie lepszy ), Jak ile radości. i Marsh..."
          ],
          [
           "Negative",
           "Negative",
           "Ten router to porażka, gdyż nie jest w , poprawnie to nie figu Huawei E180 pomimo a ze w może umieszczonej na opakowaniu producent zapewnia, że biedzie współpracować co okazało się nieprawdą. nie po chwili od włączenia rozłącza internet także ować da się z niego w ogóle korzystać i nie pomagają aktualizacje firmware. Być , 100 innym modem ten router by zadziałał ale producent powinien podać na opakowaniu prawdziwą listę kompatybilnych . która jest dostępna jedynie na jego stronie internetowej jak sie dobrze poszuka.. także Niestety polecam z jeśli nie ma sie modemu obsłu której producent % bedzie do niego pasował, a żeby n było to stanie i model modemu, a także sieć z 10 modem pochodzi musi sie zapoznać dokladnie z lista dostepna informacji tak stronie ,"
          ],
          [
           "Neutral",
           "Negative",
           "Jest kilka kartkowek / wejsciowek, ktore sa podstawa zaliczenia."
          ],
          [
           "Neutral",
           "Negative",
           "Pan Górniak jest , ale wykonuje raczej standardowe zadania ze skryptu."
          ],
          [
           "Neutral",
           "Negative",
           "- wszyscy ( można było oddać wypracowanie jedno wtedy było 3 ; lub Nie koło - niewielu się na to zdecydowało )."
          ],
          [
           "Neutral",
           "Negative",
           "Reszta zadań standard z \" magi \""
          ],
          [
           "Negative",
           "Negative",
           "Fizyka 2 [ / b ] Zdac egzamin jest dosyc trudno tak bylo w moim przypadku zdalo bardzo mało osub."
          ],
          [
           "Negative",
           "Negative",
           "* * * * * jakich mało * tę cenę to jakieś ewidentne żarty. Oddał em ku kamerę na które udowod nie nagrywała filmów akurat tych Za mi byly potrzebne. 1 wyskoczyła mi sarna nie łem filmu, 2. wsa 3 lis nie ma filmu Wszystkie sytuacje obeszły się szczęśliwie ale gdyby coś poszło ! pol potrzebował by m filmu łem wy mi moją racje ubezpieczycielowi. Oddał em kamerę i skoczył któ niby gdzies ma producenta i przydzielono mi nową ( po ie miesiącach w wracam ź ) I dziś znów sytuacja wyskakuje mi dzik na trasie przed maske u na śliskim znow wszystko szczęśliwie. I co i do domu wrzucam karte do e i co widze ? widze ze pol dnia moja kamera nie za gdzie cały dzień była to ! ! Jakies ku tam wa zarty ! i tę cenę kieszeni mozna kupic cos 1000 razy lepszego ."
          ],
          [
           "Neutral",
           "Negative",
           "krzesełko ale ładnej kolorystyce, bardzo przydatna regulacja siedziska i Jest można je bym wyczyścić bo jest głównie specjalnym materiałem w który nie wnika woda ale oprócz pokryte same minusy, moje ciało poci się łatwo tym krzesełku straszliwie - , ze oczywiście na ten materiał, do tego krzesełko jest bardzo ciężkie przy nie ma kółeczek z przodu co jeszcze bardziej uniemożliwia jego przesuwanie, zajmuje też sporo miejsca. w sporo nie z tego co już na rynku są jeszcze droższe, osobiście jest drugi raz względu m go tego kupiła."
          ],
          [
           "Negative",
           "Negative",
           "Na każdej laborce kartkówka, teraz moge stwierdzić że może nie były aż takie trudne, ale zaliczył em jedną na 5 czy 6... po prostu jeżeli nigdy przedtem nie miał eś do czynienia z językiem C to naprawde jest trudno."
          ],
          [
           "Negative",
           "Negative",
           "Graficzny zapis konstrukcji ( wykład ) Elektryczny Nudny."
          ],
          [
           "Neutral",
           "Negative",
           "Przyłapanie na ściąganiu to 2.0 z danej pracy."
          ],
          [
           "Positive",
           "Negative",
           "Choć gra ma już swoje lata i robi wrażenie i choć widać że jest to 1 razem lego u na pierwszy rzut mnie trudno też nie zauważyć zalet jakie ta gra to wywoł minut ładna po klimatyczna grafika czy według mnie jedna z największych zalet tej gry czyli ROBIENIE WŁASNYCH POSTACI, oka można grać. Niby nic takiego klasa jednak sam wier że coś takiego jest cieszy. Gra poziom trudności zmienia z poziomu na poziom, jeden etap jest łatwy inny Brz Wiele ują i myślenia jednak zagadki są do en w dosłownie 30 którymi dla . napisali na pudełku 7 latków innym ka są proste. zabawne jeszcze jak sik pająka jest według mnie najgorszą rzeczą w początku grze. I do pytań wszystkiego mamy tej częste czasem nie da i bagi które to wielu osób Gra tego : śmiech, złość i nerwice na , u mnie był t fakt problem. rozwiązania lego Batman jest dobrą grą ale nie bez wad."
          ],
          [
           "Negative",
           "Negative",
           "Dla mnie żadna rewelacja, ale może części jakiś wybrakowany produkt... Urządzenie mam Co chyba i Urządzenie w go braku z 5 razy. Za każdym razem mieszkanie zadymione i strasznie śmierdziało ( z palonym kablem w coś ). kompletnie nie można ( sumie ani na chwilkę spuścić z czone ponieważ, każdym powodu to regulacji temperatury, szybko się przypala. oka do czy nieprzywierającej, to w moim Panini uży z niej zrezygnowali - za łam razem coś się przyklei, a wyczyszczenie płytek to jakiś koszmar. Jedyne co mogę pochwalić to wygląd ; - )"
          ],
          [
           "Positive",
           "Negative",
           "Ogólnie bardzo polecam, Krzysztof Bogdan ze swoim plecakiem i ' humoru ( ' a teraz na koniec roku podajcie sobie ręce n a znak pokoju ' poczuciem ) spodoba się każdemu."
          ]
         ],
         "hovertemplate": "Predicted Label=%{customdata[1]}<br>TSNE-1=%{x}<br>TSNE-2=%{y}<br>True Label=%{customdata[0]}<br>Text=%{customdata[2]}<extra></extra>",
         "legendgroup": "Negative",
         "marker": {
          "color": "red",
          "symbol": "circle"
         },
         "mode": "markers",
         "name": "Negative",
         "orientation": "v",
         "showlegend": true,
         "type": "scatter",
         "x": [
          0.30551475,
          6.9769626,
          1.6523912,
          10.273226,
          6.0986238,
          6.90651,
          -0.384982,
          -6.3867617,
          3.8068805,
          -7.5927777,
          4.331912,
          -3.2058177,
          -1.1208656,
          7.5464616,
          -3.0683854,
          0.2975355,
          -5.6354275,
          3.6433961,
          3.8426523,
          14.882733,
          -14.682062,
          0.66113544,
          1.3903018,
          -0.40281862,
          -1.486368,
          -8.431787,
          5.32507,
          5.5401406,
          0.8972545,
          -4.45239,
          9.580858,
          6.293168,
          6.9096594,
          -3.3981557,
          11.081881,
          5.2029037,
          -9.104919,
          6.546383,
          19.396809,
          -4.2729497,
          7.592074,
          -0.5747296,
          9.806534,
          0.7935002,
          5.3391204,
          -0.8125786,
          -4.4001646,
          -3.4652462,
          3.3213787,
          2.1849062
         ],
         "xaxis": "x",
         "y": [
          10.554009,
          5.0204124,
          8.266008,
          -3.5873234,
          0.3251041,
          -2.4170964,
          5.256486,
          0.36618322,
          1.7868488,
          0.11376638,
          15.164621,
          7.554028,
          2.6265879,
          -0.78267443,
          8.382658,
          -6.0287533,
          -1.9752562,
          -5.349955,
          1.747719,
          -2.1139688,
          -2.8825827,
          6.719665,
          -4.7261496,
          7.705646,
          1.809399,
          0.9028646,
          9.72439,
          -3.6827383,
          6.898548,
          9.2409115,
          -0.22242911,
          14.887706,
          5.9379444,
          -8.328146,
          1.7057662,
          9.783228,
          -2.3551252,
          -5.3121514,
          -35.950424,
          6.752832,
          1.7243109,
          2.4883978,
          2.5692384,
          4.3614793,
          -2.8532252,
          10.457626,
          -2.5539875,
          11.338359,
          -1.5655453,
          -1.2052835
         ],
         "yaxis": "y"
        }
       ],
       "layout": {
        "height": 600,
        "legend": {
         "title": {
          "text": "Predicted Label"
         },
         "tracegroupgap": 0
        },
        "template": {
         "data": {
          "bar": [
           {
            "error_x": {
             "color": "#2a3f5f"
            },
            "error_y": {
             "color": "#2a3f5f"
            },
            "marker": {
             "line": {
              "color": "#E5ECF6",
              "width": 0.5
             },
             "pattern": {
              "fillmode": "overlay",
              "size": 10,
              "solidity": 0.2
             }
            },
            "type": "bar"
           }
          ],
          "barpolar": [
           {
            "marker": {
             "line": {
              "color": "#E5ECF6",
              "width": 0.5
             },
             "pattern": {
              "fillmode": "overlay",
              "size": 10,
              "solidity": 0.2
             }
            },
            "type": "barpolar"
           }
          ],
          "carpet": [
           {
            "aaxis": {
             "endlinecolor": "#2a3f5f",
             "gridcolor": "white",
             "linecolor": "white",
             "minorgridcolor": "white",
             "startlinecolor": "#2a3f5f"
            },
            "baxis": {
             "endlinecolor": "#2a3f5f",
             "gridcolor": "white",
             "linecolor": "white",
             "minorgridcolor": "white",
             "startlinecolor": "#2a3f5f"
            },
            "type": "carpet"
           }
          ],
          "choropleth": [
           {
            "colorbar": {
             "outlinewidth": 0,
             "ticks": ""
            },
            "type": "choropleth"
           }
          ],
          "contour": [
           {
            "colorbar": {
             "outlinewidth": 0,
             "ticks": ""
            },
            "colorscale": [
             [
              0,
              "#0d0887"
             ],
             [
              0.1111111111111111,
              "#46039f"
             ],
             [
              0.2222222222222222,
              "#7201a8"
             ],
             [
              0.3333333333333333,
              "#9c179e"
             ],
             [
              0.4444444444444444,
              "#bd3786"
             ],
             [
              0.5555555555555556,
              "#d8576b"
             ],
             [
              0.6666666666666666,
              "#ed7953"
             ],
             [
              0.7777777777777778,
              "#fb9f3a"
             ],
             [
              0.8888888888888888,
              "#fdca26"
             ],
             [
              1,
              "#f0f921"
             ]
            ],
            "type": "contour"
           }
          ],
          "contourcarpet": [
           {
            "colorbar": {
             "outlinewidth": 0,
             "ticks": ""
            },
            "type": "contourcarpet"
           }
          ],
          "heatmap": [
           {
            "colorbar": {
             "outlinewidth": 0,
             "ticks": ""
            },
            "colorscale": [
             [
              0,
              "#0d0887"
             ],
             [
              0.1111111111111111,
              "#46039f"
             ],
             [
              0.2222222222222222,
              "#7201a8"
             ],
             [
              0.3333333333333333,
              "#9c179e"
             ],
             [
              0.4444444444444444,
              "#bd3786"
             ],
             [
              0.5555555555555556,
              "#d8576b"
             ],
             [
              0.6666666666666666,
              "#ed7953"
             ],
             [
              0.7777777777777778,
              "#fb9f3a"
             ],
             [
              0.8888888888888888,
              "#fdca26"
             ],
             [
              1,
              "#f0f921"
             ]
            ],
            "type": "heatmap"
           }
          ],
          "heatmapgl": [
           {
            "colorbar": {
             "outlinewidth": 0,
             "ticks": ""
            },
            "colorscale": [
             [
              0,
              "#0d0887"
             ],
             [
              0.1111111111111111,
              "#46039f"
             ],
             [
              0.2222222222222222,
              "#7201a8"
             ],
             [
              0.3333333333333333,
              "#9c179e"
             ],
             [
              0.4444444444444444,
              "#bd3786"
             ],
             [
              0.5555555555555556,
              "#d8576b"
             ],
             [
              0.6666666666666666,
              "#ed7953"
             ],
             [
              0.7777777777777778,
              "#fb9f3a"
             ],
             [
              0.8888888888888888,
              "#fdca26"
             ],
             [
              1,
              "#f0f921"
             ]
            ],
            "type": "heatmapgl"
           }
          ],
          "histogram": [
           {
            "marker": {
             "pattern": {
              "fillmode": "overlay",
              "size": 10,
              "solidity": 0.2
             }
            },
            "type": "histogram"
           }
          ],
          "histogram2d": [
           {
            "colorbar": {
             "outlinewidth": 0,
             "ticks": ""
            },
            "colorscale": [
             [
              0,
              "#0d0887"
             ],
             [
              0.1111111111111111,
              "#46039f"
             ],
             [
              0.2222222222222222,
              "#7201a8"
             ],
             [
              0.3333333333333333,
              "#9c179e"
             ],
             [
              0.4444444444444444,
              "#bd3786"
             ],
             [
              0.5555555555555556,
              "#d8576b"
             ],
             [
              0.6666666666666666,
              "#ed7953"
             ],
             [
              0.7777777777777778,
              "#fb9f3a"
             ],
             [
              0.8888888888888888,
              "#fdca26"
             ],
             [
              1,
              "#f0f921"
             ]
            ],
            "type": "histogram2d"
           }
          ],
          "histogram2dcontour": [
           {
            "colorbar": {
             "outlinewidth": 0,
             "ticks": ""
            },
            "colorscale": [
             [
              0,
              "#0d0887"
             ],
             [
              0.1111111111111111,
              "#46039f"
             ],
             [
              0.2222222222222222,
              "#7201a8"
             ],
             [
              0.3333333333333333,
              "#9c179e"
             ],
             [
              0.4444444444444444,
              "#bd3786"
             ],
             [
              0.5555555555555556,
              "#d8576b"
             ],
             [
              0.6666666666666666,
              "#ed7953"
             ],
             [
              0.7777777777777778,
              "#fb9f3a"
             ],
             [
              0.8888888888888888,
              "#fdca26"
             ],
             [
              1,
              "#f0f921"
             ]
            ],
            "type": "histogram2dcontour"
           }
          ],
          "mesh3d": [
           {
            "colorbar": {
             "outlinewidth": 0,
             "ticks": ""
            },
            "type": "mesh3d"
           }
          ],
          "parcoords": [
           {
            "line": {
             "colorbar": {
              "outlinewidth": 0,
              "ticks": ""
             }
            },
            "type": "parcoords"
           }
          ],
          "pie": [
           {
            "automargin": true,
            "type": "pie"
           }
          ],
          "scatter": [
           {
            "fillpattern": {
             "fillmode": "overlay",
             "size": 10,
             "solidity": 0.2
            },
            "type": "scatter"
           }
          ],
          "scatter3d": [
           {
            "line": {
             "colorbar": {
              "outlinewidth": 0,
              "ticks": ""
             }
            },
            "marker": {
             "colorbar": {
              "outlinewidth": 0,
              "ticks": ""
             }
            },
            "type": "scatter3d"
           }
          ],
          "scattercarpet": [
           {
            "marker": {
             "colorbar": {
              "outlinewidth": 0,
              "ticks": ""
             }
            },
            "type": "scattercarpet"
           }
          ],
          "scattergeo": [
           {
            "marker": {
             "colorbar": {
              "outlinewidth": 0,
              "ticks": ""
             }
            },
            "type": "scattergeo"
           }
          ],
          "scattergl": [
           {
            "marker": {
             "colorbar": {
              "outlinewidth": 0,
              "ticks": ""
             }
            },
            "type": "scattergl"
           }
          ],
          "scattermapbox": [
           {
            "marker": {
             "colorbar": {
              "outlinewidth": 0,
              "ticks": ""
             }
            },
            "type": "scattermapbox"
           }
          ],
          "scatterpolar": [
           {
            "marker": {
             "colorbar": {
              "outlinewidth": 0,
              "ticks": ""
             }
            },
            "type": "scatterpolar"
           }
          ],
          "scatterpolargl": [
           {
            "marker": {
             "colorbar": {
              "outlinewidth": 0,
              "ticks": ""
             }
            },
            "type": "scatterpolargl"
           }
          ],
          "scatterternary": [
           {
            "marker": {
             "colorbar": {
              "outlinewidth": 0,
              "ticks": ""
             }
            },
            "type": "scatterternary"
           }
          ],
          "surface": [
           {
            "colorbar": {
             "outlinewidth": 0,
             "ticks": ""
            },
            "colorscale": [
             [
              0,
              "#0d0887"
             ],
             [
              0.1111111111111111,
              "#46039f"
             ],
             [
              0.2222222222222222,
              "#7201a8"
             ],
             [
              0.3333333333333333,
              "#9c179e"
             ],
             [
              0.4444444444444444,
              "#bd3786"
             ],
             [
              0.5555555555555556,
              "#d8576b"
             ],
             [
              0.6666666666666666,
              "#ed7953"
             ],
             [
              0.7777777777777778,
              "#fb9f3a"
             ],
             [
              0.8888888888888888,
              "#fdca26"
             ],
             [
              1,
              "#f0f921"
             ]
            ],
            "type": "surface"
           }
          ],
          "table": [
           {
            "cells": {
             "fill": {
              "color": "#EBF0F8"
             },
             "line": {
              "color": "white"
             }
            },
            "header": {
             "fill": {
              "color": "#C8D4E3"
             },
             "line": {
              "color": "white"
             }
            },
            "type": "table"
           }
          ]
         },
         "layout": {
          "annotationdefaults": {
           "arrowcolor": "#2a3f5f",
           "arrowhead": 0,
           "arrowwidth": 1
          },
          "autotypenumbers": "strict",
          "coloraxis": {
           "colorbar": {
            "outlinewidth": 0,
            "ticks": ""
           }
          },
          "colorscale": {
           "diverging": [
            [
             0,
             "#8e0152"
            ],
            [
             0.1,
             "#c51b7d"
            ],
            [
             0.2,
             "#de77ae"
            ],
            [
             0.3,
             "#f1b6da"
            ],
            [
             0.4,
             "#fde0ef"
            ],
            [
             0.5,
             "#f7f7f7"
            ],
            [
             0.6,
             "#e6f5d0"
            ],
            [
             0.7,
             "#b8e186"
            ],
            [
             0.8,
             "#7fbc41"
            ],
            [
             0.9,
             "#4d9221"
            ],
            [
             1,
             "#276419"
            ]
           ],
           "sequential": [
            [
             0,
             "#0d0887"
            ],
            [
             0.1111111111111111,
             "#46039f"
            ],
            [
             0.2222222222222222,
             "#7201a8"
            ],
            [
             0.3333333333333333,
             "#9c179e"
            ],
            [
             0.4444444444444444,
             "#bd3786"
            ],
            [
             0.5555555555555556,
             "#d8576b"
            ],
            [
             0.6666666666666666,
             "#ed7953"
            ],
            [
             0.7777777777777778,
             "#fb9f3a"
            ],
            [
             0.8888888888888888,
             "#fdca26"
            ],
            [
             1,
             "#f0f921"
            ]
           ],
           "sequentialminus": [
            [
             0,
             "#0d0887"
            ],
            [
             0.1111111111111111,
             "#46039f"
            ],
            [
             0.2222222222222222,
             "#7201a8"
            ],
            [
             0.3333333333333333,
             "#9c179e"
            ],
            [
             0.4444444444444444,
             "#bd3786"
            ],
            [
             0.5555555555555556,
             "#d8576b"
            ],
            [
             0.6666666666666666,
             "#ed7953"
            ],
            [
             0.7777777777777778,
             "#fb9f3a"
            ],
            [
             0.8888888888888888,
             "#fdca26"
            ],
            [
             1,
             "#f0f921"
            ]
           ]
          },
          "colorway": [
           "#636efa",
           "#EF553B",
           "#00cc96",
           "#ab63fa",
           "#FFA15A",
           "#19d3f3",
           "#FF6692",
           "#B6E880",
           "#FF97FF",
           "#FECB52"
          ],
          "font": {
           "color": "#2a3f5f"
          },
          "geo": {
           "bgcolor": "white",
           "lakecolor": "white",
           "landcolor": "#E5ECF6",
           "showlakes": true,
           "showland": true,
           "subunitcolor": "white"
          },
          "hoverlabel": {
           "align": "left"
          },
          "hovermode": "closest",
          "mapbox": {
           "style": "light"
          },
          "paper_bgcolor": "white",
          "plot_bgcolor": "#E5ECF6",
          "polar": {
           "angularaxis": {
            "gridcolor": "white",
            "linecolor": "white",
            "ticks": ""
           },
           "bgcolor": "#E5ECF6",
           "radialaxis": {
            "gridcolor": "white",
            "linecolor": "white",
            "ticks": ""
           }
          },
          "scene": {
           "xaxis": {
            "backgroundcolor": "#E5ECF6",
            "gridcolor": "white",
            "gridwidth": 2,
            "linecolor": "white",
            "showbackground": true,
            "ticks": "",
            "zerolinecolor": "white"
           },
           "yaxis": {
            "backgroundcolor": "#E5ECF6",
            "gridcolor": "white",
            "gridwidth": 2,
            "linecolor": "white",
            "showbackground": true,
            "ticks": "",
            "zerolinecolor": "white"
           },
           "zaxis": {
            "backgroundcolor": "#E5ECF6",
            "gridcolor": "white",
            "gridwidth": 2,
            "linecolor": "white",
            "showbackground": true,
            "ticks": "",
            "zerolinecolor": "white"
           }
          },
          "shapedefaults": {
           "line": {
            "color": "#2a3f5f"
           }
          },
          "ternary": {
           "aaxis": {
            "gridcolor": "white",
            "linecolor": "white",
            "ticks": ""
           },
           "baxis": {
            "gridcolor": "white",
            "linecolor": "white",
            "ticks": ""
           },
           "bgcolor": "#E5ECF6",
           "caxis": {
            "gridcolor": "white",
            "linecolor": "white",
            "ticks": ""
           }
          },
          "title": {
           "x": 0.05
          },
          "xaxis": {
           "automargin": true,
           "gridcolor": "white",
           "linecolor": "white",
           "ticks": "",
           "title": {
            "standoff": 15
           },
           "zerolinecolor": "white",
           "zerolinewidth": 2
          },
          "yaxis": {
           "automargin": true,
           "gridcolor": "white",
           "linecolor": "white",
           "ticks": "",
           "title": {
            "standoff": 15
           },
           "zerolinecolor": "white",
           "zerolinewidth": 2
          }
         }
        },
        "title": {
         "text": "Przestrzeń Wektorowa Testowych Przypadków (Kolor: Przewidywane Etykiety)"
        },
        "width": 1200,
        "xaxis": {
         "anchor": "y",
         "domain": [
          0,
          1
         ],
         "title": {
          "text": "TSNE-1"
         }
        },
        "yaxis": {
         "anchor": "x",
         "domain": [
          0,
          1
         ],
         "title": {
          "text": "TSNE-2"
         }
        }
       }
      }
     },
     "metadata": {},
     "output_type": "display_data"
    },
    {
     "data": {
      "application/vnd.plotly.v1+json": {
       "config": {
        "plotlyServerURL": "https://plot.ly"
       },
       "data": [
        {
         "customdata": [
          [
           "Negative",
           "Neutral",
           "Zacznijmy … tego, ze na zajecia trzeba sie absolutnie juz z zadan, od szanowny doktor niczego nie wytlumaczy, a jesli do sie zbierze miec tlumaczenia, to krzyz na droge, jesli cos bo"
          ],
          [
           "Positive",
           "Neutral",
           "Znam ją tylko z ćwiczeń gdzie dobrze i przystepnie tłumaczy."
          ],
          [
           "Negative",
           "Positive",
           "Analiza matematyczna 1 ćwiczenia Ocena : unikać [ / b ] posługując jest ćwiczeniach myślał em, że analize : bez liczy ( pokazywał jak się ' ułamki o różnych mianownikach, sensu się swoją ' maszyną liczącą ( kalkulator P wink : lubi z nim o ) )."
          ],
          [
           "Neutral",
           "Negative",
           "Ocena : do przejścia Pan Jerzy to całkiem niezły matematyk, co jest wydawać ekscentryczny ale nie jest taki zły jak by się mogło prawda"
          ],
          [
           "Positive",
           "Negative",
           "Miał em przyjemność mieć z tą panią wykład !"
          ],
          [
           "Negative",
           "Neutral",
           "Zapraszamy !"
          ],
          [
           "Negative",
           "Neutral",
           "Jeśli niechcesz słuchać to nie musisz."
          ],
          [
           "Positive",
           "Neutral",
           "Polecam ten kurs i polecam !"
          ],
          [
           "Neutral",
           "Negative",
           "Wykład jak to jest to samo co w skrypcie."
          ],
          [
           "Negative",
           "Neutral",
           "Potrafi przyczepic sie do wszystkie - osie symetri za grubym tym rysowane, wkrecajac srube w drewniany element z gwintem nalezy narysowac jest juz po drugiej stronie ( w ksiazce nic o os nie ma ) i podstawie na tej e cie obleje..."
          ],
          [
           "Negative",
           "Neutral",
           "NIE OLEWAJ GORNIAKA i nie podpadaj mu ( on jest st grozny... ) : P"
          ],
          [
           "Positive",
           "Negative",
           "Analiza matemtyczna 1 ocena : ok czasy / b ] miły, jest jakos mijają, wiesz za co masz ocene. co do trudnosci kolokwiów [ wszystko to kwestia przygotowania , )"
          ],
          [
           "Positive",
           "Negative",
           "Twoja nieobecność to jest ocena w egzaminie na stresu chyba, że odrobisz ten termin. na koniec jest krótki, bezstresowy egzamin ( bez szkole )."
          ],
          [
           "Positive",
           "Neutral",
           "Niesamowite poczucie humoru ciagle wstawki dla rozsmieszenia , itd.."
          ],
          [
           "Neutral",
           "Positive",
           "Umie wytłumaczyc trudne zadania, chociaz tak naprawde te najtrudniejsze to i po chęcią omiajał mówiąc by prostu że są one trudne pewno nie będziemy ich liczyc bo ale tak takich nie będzie na z : i Zrobił pare zapowiedzianych kartkówek, ) za 1 pkt."
          ],
          [
           "Negative",
           "Neutral",
           "Jeżeli niechcesz słuchać to nie musisz."
          ],
          [
           "Negative",
           "Positive",
           "Analiza matematyczna 1 ćwiczenia Ocena : unikać [ / b ] Na pierwszych ćwiczeniach myślał em, że analize zaliczę bez problemów ( pokazywał jak się dodaje ułamki o różnych mianownikach, bawił się swoją ' maszyną liczącą ( kalkulator : wink : lubi sie nim bawić ) )."
          ],
          [
           "Positive",
           "Neutral",
           "Tak Podstawa oceny w indeksie : egzamin Niespodziewajki : brak ( zadania powtarzają się co roku ) Poczucie humorupane pokłady Ogólne podejście do studenta : pozytywne Zerowy termin jest najprostszy ( 3 zadania ) - warunkiem przystąpienia jest jednak zaliczenie projektu u dr."
          ],
          [
           "Positive",
           "Negative",
           "Dobry wykładowca."
          ],
          [
           "Positive",
           "Neutral",
           "Scharoch wypada naprawde swietnie."
          ],
          [
           "Negative",
           "Neutral",
           "Po prostu trzeba dużo umieć . Turbo ! : |"
          ],
          [
           "Positive",
           "Neutral",
           "dr Kornel jest wporzadku. wprwawdzie nie potrafi nauczyc algebry ( jak sam przyznaje sam jej juz nie umie : D ), ale jest bardzo przyjaznie nastawiony do studentow. wyklady sa dosc ciekawe, bo pan dr niezbyt czesto porusza problematyke czysto matematyczna, zwykle opowiada co ciekawego dzieje sie na siwecie. kolokwia sa proste pod warunkiem, ze posiedzi sie przy skrypcie ; ) ale nie radze na nich sciagac ( zlaszcza od sasiadow ) bo na samym kole dr Kornel siedzi w kacie i na nikogo nie zwraca uwagi, za to przy sprawdzaniu prac robi wnikliwe.. sledztwo. ogólnie : polecam ! ! !"
          ],
          [
           "Positive",
           "Neutral",
           "Uważam, że to najlepszy kitowy obiektyw na rynku. Wykonanie metal i bardzo dobrej jakości tworzywi. Pierścień przysłony chodzi z należytym oporem i skokiem. Wbudowana stabilizacja jest wydajna i naprawdę pomaga w wielu sytuacjach. Obiektyw bardzo ostry już od największego otworu przysłony. Celność bdb. To za co pochwalę go dodatkowo to szybki silnik autofokusa - używał em go na poczatku z dosyć mułowatym X - E1, teraz, kiedy przesiadł em się na X - T1 to mogę tylko chwalić ! ! ! Ostatni plus to bardzo dobrze opracowany system uszczelnień - obiektyw, mimo, iż jest to zoom, w ogóle nie zasysa kurzu do środka ( miałem już wiele zoomów : Nikkory, Sigmy i tam był to problem ). Polecam !"
          ],
          [
           "Positive",
           "Neutral",
           "Duza częśc grupy zaliczyła w kolokwiach."
          ],
          [
           "Neutral",
           "Negative",
           "Niestety z zaliczeniem to jest łatwo ( kolokwia oceniane w systemie 0 - 1 ) ale generalnie jeśli jesteś na bieżąco nie zdasz."
          ],
          [
           "Negative",
           "Neutral",
           "Jest po prostu na tych wykładach nudno i niczego się człowiek nie dowie pożytecznego, bo na ćwiczeniach materiał idzie zdecydowanie szybciej ( wszystko za sprawą wszelkich dygresji Pana doktora podczas wykładu )."
          ],
          [
           "Positive",
           "Neutral",
           "Kurs : Fizyka ] ćw. [ / b , Miła, ale często się śmieje ( czesto ironicznie : P )."
          ],
          [
           "Positive",
           "Neutral",
           "Niesamowite poczucie humoru ciagle powraca dla rozsmieszenia towarzystwa itd.."
          ],
          [
           "Neutral",
           "Positive",
           "Pisemna to test z gramatyki ( uzupełnianka )... obszerny ale do przejścia, jest też poprawka."
          ],
          [
           "Negative",
           "Positive",
           "Na analizie 2 była że raz pierwszy jego wykładzie i stwierdziła m, na to strata czasu."
          ],
          [
           "Negative",
           "Neutral",
           "Kiedy na początku zobaczył em słuchawki zachwycał em się nimi. Dobry mikrofon, ładne opakowanie, przyjemny wygląd słuchawek. Ogólnie mówiąc NAJPIERW był em bardzo zadowolony. Gdzieś po 3 miesiącach problemy z mikrofonem się zaczęły raz działał raz nie, po 6 nie odpinał em go ponieważ wtedy już nie działał na długo i nie chciał em kusić losu licząc na kolejny cud, że jak podłącze to znowu zadziała. Po 3 / 4 roku siadła jedna strona zupełnie.... To już mnie kompletnie dobiło i zmienił em na akg 514 i co... ? Ogromna różnica w jakości a należało trochę dopłacić. I na nowych słuchawkach słychać znacznie lepiej w fps na jakim przeciwnik jest poziomie jak jest z tyłu na fatality nie mogł em rozróżnić. Dopóki się odwrócił em i sprawdził em zazwyczaj dead. Nie polecam na dłuższą metę na 3 miesiące mogą być w porządku ale na to zakup na krótko. Beznadziejne wykonanie, kabla mikrofona i ogólnie całych słuchawek."
          ],
          [
           "Neutral",
           "Positive",
           "Zaliczenie : : Strona internetowa wymyślonej firmy lub biznes plan."
          ],
          [
           "Neutral",
           "Positive",
           "Oczywiscie , ale tylko raz : D"
          ],
          [
           "Positive",
           "Neutral",
           "Gosc jest nieziemski ! ! !"
          ],
          [
           "Positive",
           "Neutral",
           "Warto sie sporo dowiedziec."
          ],
          [
           "Neutral",
           "Positive",
           "W sumie mam zajęcia, dopóki nie bedzie kolokwium."
          ],
          [
           "Negative",
           "Positive",
           "Ogolnie, , z ale jezeli ma sie mozliwosc zapisania do kogos innego, to raczej warto owszem niej skorzystac."
          ],
          [
           "Positive",
           "Negative",
           "Obiektyw ten przeznaczony jest dla osób które dopiero zaczynają użytkownika lustrzankami cyfrowymi marki Canon. Jest to obiektyw bez stabilizacji pracę ( jest to w nowszym modelu Mark III ). Cena tego obiektywu nie jest wygórowana. Można go już kupić w bardzo stronę stanie za około 160 - 190 zł, czyli jak na obiektyw śmieszne pieniądze. Dla początkującego wymaga będzie do dobry wybór na na się z możliwościami własnego sprzętu, jeśli nie chce y wykładać i początku wielkich sum na należy się zaawansowanych m dobrym dobre zdjęcia, lecz Pole to trochę wprawy i znajomości aparatu, którego używamy. ie obrazu zapoznanie początkującym użytkownikom. Bardziej innych ca skierować się w y dostępny obiektywów."
          ],
          [
           "Positive",
           "Negative",
           "Fizyka laborki robi ki ującej ! [ / b ] Tadeusz bardzo bor facet, początkowo wydawał się sympatyczny zapowiedział na pierwszych zajęciach kartkówke, ale że przestraszyć tylko samego siebie chyba : P Kartkówki sa po część grupy je chciał i która bardzo marudzi nie ma."
          ],
          [
           "Negative",
           "Neutral",
           "Za ta cenę spodziewał em się bardziej dopracowanego sprzętu. Miska mocowana w robocie jest w przeciwnym kierunku niż kręci się rózga tak więc przy cięższych ciastach lubi się wypiąć podczas pracy. Niedopracowane same rózgi do misy ( chociaż wyglądają bardzo profesjonalnie ) pozostawiają na dnie nierozmieszane ciasto lub krem ( zaznaczę ze posiadam inne miksery roboty które wypadają o niebo lepiej ) Najbardziej irytujące są jednak mieszadła silikonowe które powinny zbierać wszystko ze ścianek oraz spodu misy co bardzo przeszkadza a właściwie uniemożliwia podbijanie mas na * * * * * z jednoczesnym podgrzewaniem ( w tym celu to zakupił em ) chyba że chcemy jajecznicę to wtedy są wręcz idealne. Co do trwałości robota nie mogę nic powiedzieć za krótko go posiadam. Reasumując osobiście nie kupił by m ponownie robota za taką cenę wiedząc o jego wadach. Do napisania opini skłoniło mnie rozczarowanie : ( : ( : ( i jestem delikatnie wciekły nie wspomnę że lżejszy o 3800. Zawsze jest nadzieja ze ktoś z firmy Kenwood przeczyta moje wypociny i w przyszłych modelach poprawią niedoróbki. Tak tak wiem ze nadzieja jest matką....."
          ],
          [
           "Positive",
           "Negative",
           "Pan Gańcza jest osobą bardzo dobrą jako nauczyciel dla początkujących... nie rozumiem ego Pan komentarzy jeśli chodzi o \" ty k"
          ],
          [
           "Neutral",
           "Negative",
           "To był pierwszy krem do twarzy, którego , m. Jest tani, wydajny i dobrze natłuszcza jest co jest używał zaletą szczególnie jego Poza tym, krem jest nijaki. Nie polecam używania go latem i w zależy dni. dzeniu po a . się świeci i jest bardzo tłusta. Krem ma swój zapach, za dla nie przepadam. Dla mnie którym on zbyt mocny i za mocny strasznie uży krem do twarzy. Moim go jest odpowiedni wysch osób starszych, którym słoneczne na ochronie skóry przed mrozem. Z tego co pamiętam, to nie n zdaniem pod makijaż, ponieważ wyglądało to Woda i nienaturalnie. Polecam na mrozy."
          ],
          [
           "Neutral",
           "Positive",
           "Wg mnie te 6 minut to troche za dużo"
          ],
          [
           "Positive",
           "Negative",
           "Pani Małgorzata chętna jest do pomocy z trudniejszymi zadaniami."
          ],
          [
           "Neutral",
           "Negative",
           "psychologii Profesor jest bardzo miłą osobą jako człwiek, był wykładzie z na analitycznej I rzeczywiście delikatnie rzecz ujmując Pan pytania... niemniej niekiedy wykład prowadzony był z licznymi dygresjami.. co jest miłe... i przyjemnie mija czas ale stawiał zawsze nie z czego się uczyć..."
          ],
          [
           "Positive",
           "Negative",
           "Każda nieobecność to jest ocena w dół na koniec chyba, że odrobisz ten termin. na koniec jest krótki, bezstresowy egzamin ( bez paniki )."
          ],
          [
           "Positive",
           "Neutral",
           "Nie ma kartkówek i nikt tez nie pyta."
          ],
          [
           "Neutral",
           "Positive",
           "Tak czy inaczej, : wybie się między Panem Apostolukiem, a Panią Kołodziej - to wiesz już kogo wybrać sz )"
          ],
          [
           "Positive",
           "Negative",
           "Kurs : Fizyka 1 ćw. [ / b ] Miła, sympatyczna, często się śmieje ( czesto ironicznie : P )."
          ],
          [
           "Neutral",
           "Negative",
           "ma absolutnej ciszy, W słuch i wzrok absolutny, usłyszy i wypatrzy wszystko."
          ],
          [
           "Positive",
           "Neutral",
           "Lepiej nie mógł eś trafić."
          ],
          [
           "Neutral",
           "Negative",
           "Jest kilka kartkowek / wejsciowek, ktore sa podstawa zaliczenia."
          ],
          [
           "Neutral",
           "Negative",
           "Pan Górniak jest , ale wykonuje raczej standardowe zadania ze skryptu."
          ],
          [
           "Neutral",
           "Positive",
           "Wg mnie te 6 minut to troche za mało."
          ],
          [
           "Negative",
           "Positive",
           "Wydaje sie ze gardził studentami."
          ],
          [
           "Neutral",
           "Negative",
           "- wszyscy ( można było oddać wypracowanie jedno wtedy było 3 ; lub Nie koło - niewielu się na to zdecydowało )."
          ],
          [
           "Neutral",
           "Negative",
           "Reszta zadań standard z \" magi \""
          ],
          [
           "Negative",
           "Positive",
           "Ogolnie, ze ujdzie, ale jezeli ma sie możliwość zapisania do kogos innego, to raczej warto z tego skorzystac."
          ],
          [
           "Positive",
           "Neutral",
           "Ludzie... takiego lajtu - zyje to nie widzialem... \" ( Postanowilem przytoczyc kilka zdan z pierwszego wykladu jak mniej wiecej ) : \" . a"
          ],
          [
           "Neutral",
           "Negative",
           "krzesełko ale ładnej kolorystyce, bardzo przydatna regulacja siedziska i Jest można je bym wyczyścić bo jest głównie specjalnym materiałem w który nie wnika woda ale oprócz pokryte same minusy, moje ciało poci się łatwo tym krzesełku straszliwie - , ze oczywiście na ten materiał, do tego krzesełko jest bardzo ciężkie przy nie ma kółeczek z przodu co jeszcze bardziej uniemożliwia jego przesuwanie, zajmuje też sporo miejsca. w sporo nie z tego co już na rynku są jeszcze droższe, osobiście jest drugi raz względu m go tego kupiła."
          ],
          [
           "Positive",
           "Neutral",
           "ANALIZA MATEMATYCZNA 1 ( ) + ĆW musi Pani i byc sie mila 1 tłumaczy wszytko dokladnie bez zadnego pospiechu."
          ],
          [
           "Negative",
           "Neutral",
           "Radze trzymac sie z daleka !"
          ],
          [
           "Positive",
           "Neutral",
           "Na koniec jest koło - bardzo proste."
          ],
          [
           "Neutral",
           "Negative",
           "Przyłapanie na ściąganiu to 2.0 z danej pracy."
          ],
          [
           "Positive",
           "Neutral",
           "Szermierka to bardzo ciekawy sport, a Pan Gańcza potrafi go nauczyc."
          ],
          [
           "Positive",
           "Negative",
           "Choć gra ma już swoje lata i robi wrażenie i choć widać że jest to 1 razem lego u na pierwszy rzut mnie trudno też nie zauważyć zalet jakie ta gra to wywoł minut ładna po klimatyczna grafika czy według mnie jedna z największych zalet tej gry czyli ROBIENIE WŁASNYCH POSTACI, oka można grać. Niby nic takiego klasa jednak sam wier że coś takiego jest cieszy. Gra poziom trudności zmienia z poziomu na poziom, jeden etap jest łatwy inny Brz Wiele ują i myślenia jednak zagadki są do en w dosłownie 30 którymi dla . napisali na pudełku 7 latków innym ka są proste. zabawne jeszcze jak sik pająka jest według mnie najgorszą rzeczą w początku grze. I do pytań wszystkiego mamy tej częste czasem nie da i bagi które to wielu osób Gra tego : śmiech, złość i nerwice na , u mnie był t fakt problem. rozwiązania lego Batman jest dobrą grą ale nie bez wad."
          ],
          [
           "Positive",
           "Neutral",
           "Znam ją tez z ćwiczeń gdzie dobrze i przystepnie tłumaczy."
          ],
          [
           "Positive",
           "Negative",
           "Ogólnie bardzo polecam, Krzysztof Bogdan ze swoim plecakiem i ' humoru ( ' a teraz na koniec roku podajcie sobie ręce n a znak pokoju ' poczuciem ) spodoba się każdemu."
          ],
          [
           "Negative",
           "Neutral",
           "Mylący tytuł który kazał że mamy do czynienia z dziełem Smitha, w rzeczywistości w książce zawarte są tylko fragmenty Bogactwa Narodów oraz Teorii d Moralnych, które okraszone choć niestety bardzo kiepskim Praw jak było okazuje sprawia KSIĄŻKI którym NIE JEST ADAM do ! wrażenie sprawia może jakby ktoś ) mu napisać tą książkę, momentami odczuwa się wręcz sugeruje niechęć ( Smitha i o ogromną jego dzieła. Ogólnie to streszczenie / recenzję - się nazwanie tego książką opisy by autorem przesadą, ciężko się czyta. Jedyne co ! że ocena wynosi ponad 1 to że pojawiają się dokładne są"
          ]
         ],
         "hovertemplate": "Correct=False<br>TSNE-1=%{x}<br>TSNE-2=%{y}<br>True Label=%{customdata[0]}<br>Predicted Label=%{customdata[1]}<br>Text=%{customdata[2]}<extra></extra>",
         "legendgroup": "False",
         "marker": {
          "color": "#ab63fa",
          "symbol": "circle"
         },
         "mode": "markers",
         "name": "False",
         "orientation": "v",
         "showlegend": true,
         "type": "scatter",
         "x": [
          -12.050335,
          10.441473,
          -12.913944,
          6.9769626,
          10.273226,
          9.962255,
          -3.4941442,
          3.5831766,
          -0.384982,
          -10.510066,
          -9.203868,
          -7.5927777,
          4.331912,
          -13.523263,
          -9.895294,
          -3.0930717,
          -12.820367,
          -2.7776067,
          -3.2058177,
          -8.726995,
          1.2179158,
          -10.403451,
          11.3712,
          1.8452754,
          0.2975355,
          0.7406609,
          7.6827645,
          -13.296438,
          -5.339841,
          -4.396168,
          1.9767971,
          -1.2463697,
          -10.774,
          -2.0534344,
          3.888023,
          0.040880263,
          -8.464505,
          -0.40281862,
          -1.486368,
          3.7985532,
          -8.431787,
          5.5401406,
          2.3407035,
          -4.45239,
          9.580858,
          6.293168,
          4.2928853,
          4.1126785,
          6.9096594,
          -3.3981557,
          -1.545435,
          6.546383,
          19.396809,
          2.4108427,
          3.801672,
          -4.2729497,
          7.592074,
          -7.8962936,
          10.811944,
          0.7935002,
          -6.718527,
          -9.087069,
          -0.09538236,
          -4.4001646,
          -7.042238,
          -3.4652462,
          10.417121,
          2.1849062,
          -5.089752
         ],
         "xaxis": "x",
         "y": [
          -5.027265,
          -10.753408,
          8.260446,
          5.0204124,
          -3.5873234,
          6.776476,
          -4.44344,
          -3.7667725,
          5.256486,
          2.2987523,
          -1.1173564,
          0.11376638,
          15.164621,
          1.9904699,
          2.7545416,
          -4.2852015,
          8.19162,
          -1.321541,
          7.554028,
          -5.5924726,
          0.13955525,
          -2.4145544,
          7.093655,
          -9.444384,
          -6.0287533,
          -7.1954136,
          5.483198,
          2.2096758,
          -3.4644914,
          4.106397,
          -6.280737,
          5.4280677,
          -5.45086,
          0.89087003,
          5.9383245,
          -0.1067662,
          -4.581785,
          7.705646,
          1.809399,
          -5.2361417,
          0.9028646,
          -3.6827383,
          -12.872601,
          9.2409115,
          -0.22242911,
          14.887706,
          -7.539887,
          -9.813522,
          5.9379444,
          -8.328146,
          -4.063336,
          -5.3121514,
          -35.950424,
          -12.260486,
          5.1731005,
          6.752832,
          1.7243109,
          -3.7861,
          4.5732026,
          4.3614793,
          3.1214528,
          -8.152482,
          -1.7823372,
          -2.5539875,
          -1.8260517,
          11.338359,
          -10.756711,
          -1.2052835,
          -1.252049
         ],
         "yaxis": "y"
        },
        {
         "customdata": [
          [
           "Positive",
           "Positive",
           "Ogolna opinia : polecam ! ! !"
          ],
          [
           "Negative",
           "Negative",
           "Lakier roweru bardzo kiedy ŻE robią się odpryski nie wiadomo od w rower ! ny ale po ku miesiącach użytkowania widoczne odpryski lakieru czego za taką cenę jak Ż się ! kilku ! ! ! st ! ! ! ! ! ! ! ! ! ! ! ! ! ! ! Oczywiście producent twierdzi TEGO są to wady mechaniczne, dziecko ma w lepszym stanie ! na rowerze ale nie jeździć tej ! ODRADZAM ZAKUP Z ceny POWODU ! TYLE KASY I ła chyba ze rower będzie ! nieużywany za szybą. Na zakończenie powiem tak kupi lakier zwykły do paznokci a hybrydę wiadomo w tańszym zwykłym lakierze robią ! odpryski a lepszym leżał ! ! ! ! że ! ! ! ! am TO ! !"
          ],
          [
           "Negative",
           "Negative",
           "Budzik zdecydowanie nie jest warty ceny 75 zł. Zalety : ładny wygląd, dobre spasowanie materiału, duże czytelne cyfry, głośny alarm. Wady : wykonany z kiepskiej jakości, taniego plastiku, przyciski ( w tym alarmu i drzemki ) umieszczone z tyłu, co jest bardzo niepraktyczne w nocy, przyciski też tandetne ( głośne i twarde ). Może przeszkadzać : brak regulacji podświetlenia, bateria podtrzymująca pamięć w coraz rzadziej spotykanej postaci 9V ( nie mogły być paluszki ? ). Przydatna była by również opcja regulacji alarmu ( np. od delikatnego do mocnego )."
          ],
          [
           "Neutral",
           "Neutral",
           "Cóż...."
          ],
          [
           "Negative",
           "Negative",
           "Przereklamowane. ( podobnie jak inne towary . np. nie bosch i to wy serii dla prof. użytku ! ) nigdy za tę cenę, oczekiwał em od robota wyższej jakości. Zaledwie po kilku . użycia wydobywać się firmy smar z pod wałka / . dniach W tej cenie , powinno w mieć NIGDY Jednak Ogólnie siłę robot ma, i wygląda na nie do zajeżdżenia - choć mam obawy do przekładni czy się wa rozsypie - strasznie głośno wał cokolwiek z kuchni nie Poza się potwornie drogie dodatki, zaczął by to nie było. Osobiście, tym by śmy go nie kupili."
          ],
          [
           "Negative",
           "Negative",
           "Ja idąc na informatyke 3 nie znałęm te znam , jezyka g no i to nie jest kurs dla takich ludzi - doktor o , wszyscy wiedzą co to jest i że Bana każde jego skomplikowane słowo ! ! !"
          ],
          [
           "Neutral",
           "Neutral",
           "Przez większośc zajęć prowadzący uczą na na kilki grali śmy w piłkę : ) POLECAM jak kurs ( 100 zł )"
          ],
          [
           "Negative",
           "Negative",
           "jestem pilarzem od parunastu lat, skusił em się na tego partnera w listopadzie 2016r. Łatwo się uruchamia i dobrze pracuje, lekka, poręczna, wygodna ale za mały otwór wlewu oleju i za małe objętości zbiornika paliwa i oleju - trzeba często uzupełniać je, filtr powietrza w zasadzie jednorazowy zapycha się po około tygodniu pracy ( około 3h dziennej pracy piły ) - koszt nowego 10zł, zaś po 3 miesiącach pękła linka gazu ( każde naciśnięcie manetki gazu łamie linkę - takie dziwne rozwiązanie konstrukcyjne ) - koszt nowej 40zł, jak dla mnie trochę za wysokie koszty utrzymania tej piły - jestem zawiedziony tym modelem partnera."
          ],
          [
           "Neutral",
           "Neutral",
           "Ogólnie dla ambitnych nie niej a dla tych co chcą przejśc na 3.0 - warto się zapisac, nie marne sensu chodzic na polecam trochę własnej pracy i będzie : faj ma )"
          ],
          [
           "Negative",
           "Negative",
           "Podobnie jak większość zawiodła m się na tej kosiarce. Wydawało się, że firmowa kosiarka będzie służyć dłużej... Od samego początku była bardzo delikatna, dobra tylko do drobnej trawki na idealnie równym terenie. Koszenie na lekkich nierównościach zakończyło się powyginanym nożem. Nóż po roku wymieniony na nowy, bo nie dało się go naostrzyć. Długo jednak nim się nie cieszyła m, silnik zaczął dziwnie pracować... aż w końcu przestał. Powiem szczerze, że dużo lepiej sprawowała się moja pierwsza najtańsza kosiarka no name. Z nożem nic się nie działo na górkach i dołkach, silnik nie do zajeżdżenia. Gdyby nie to, że uszkodziły się kółka, to dalej by pracowała. Zawiodła m się na Gardenie."
          ],
          [
           "Positive",
           "Positive",
           "Ogólnie :"
          ],
          [
           "Negative",
           "Negative",
           "Fizyka 2 . . b . Zdac egzamin jest bardzo trudno tak bylo w moim przypadku zdalo bardzo mało osub."
          ],
          [
           "Negative",
           "Negative",
           "Witam Długo się namyślał em przed zakupem przyzwoitego wykonania i zdecydował em się na STEINELA 3002. Porażka Koszty pistolet lini pierwsza próba pracy zagrzewa, nika klej i przestał działać. Wysyłka na i Po wymianie systemu moc pistolet puszczał klej bokami, kapał z podajnika ) po pięciu minutach ponownie przestał Rumu Wysyłka na serwis. a do tej pory mam . od , serwis a popracował 5 ż Wydaje mi się n Jak za 100 powinien pistoletu dłużej. lat dostawy na serwis i odbiór zbliżają się do ceny zakupu. Nie polecam tego produktu. Zapomniał em serwis sam e zaskoczony jakością ością i nad nazwę plomb ( prawdopodobnie zmieniono puścił produktu na producenta byłem Rumuni wytrzymać Steinel to już nie te same narzędzia co kiedyś. Proponuję poważnie się zastanowić ) zakupem. Pozdrawiam"
          ],
          [
           "Neutral",
           "Neutral",
           "będzie zwykle do najłatwiejszych nie należą, ale jak człowiek się troszkę postara to Początki bez problemu."
          ],
          [
           "Negative",
           "Negative",
           "Ocena ogólna : UNIKAC : x = x"
          ],
          [
           "Neutral",
           "Neutral",
           "W tym roku nawet obnizyl prog zaliczenia z 12 na 10 pkt : shock : Generalnie nie jest zle, pozatym AiR nie ma innego wyboru ; )"
          ],
          [
           "Negative",
           "Negative",
           "Grzejniki ładne zmieniać mają beznadziejne działanie bez pamięci nastaw t możliwości programowania. Można jedynie ą nastawy fabryczne ale do czasu pierwszego zaniku napięcia, potem i tak wszystko powróci do nastaw fabrycznych. Poza tym termostaty bardzo łatwo się a i grzejnik m tego fabryka dała. Oczywiście na koszt właściciela. Grzejniki praktycznie ale ają się na ps i bez stałego niszczą Jeszcze jedno w czasie pracy wydają dziwne odgłosy i to całkiem napięcia Może to wyrzuty sumienie . co je zaprojektował."
          ],
          [
           "Negative",
           "Negative",
           "Za ta cenę spodziewał em zbyt bardziej dopracowanego ró Miska mocowana w chodzi jest w na kierunku niż kręci się rózga tak więc mojej cięższych maszyn lubi się wypiąć podczas pracy. mogę w rózgi do misy ( chociaż wyglądają dół profesjonalnie ) pozostawiają na dnie nierozmieszane ciasto lub samego ( zaznaczę ze posiadam inne : lepiej które wypadają o niebo wać ) opinie irytujące są jednak mieszadła silikonowe które powinny sy masę ze ścianek oraz spodu misy co bardzo przeszkadza a właściwie uniemożliwia podbijanie mas Canon * * * * * nie . podgrzewaniem gi w tym celu to zakupił em t chyba że bardzo jajecznicę przeciwnym się są wręcz idealne. Co do Najbardziej robota nie nie nic powiedzieć za krótko go posiadam. Reasumując osobiście Moc kupił by m ponownie robota za taką cenę wiedząc o jego wadach. Do nie opini skłoniło mnie rozczarowanie , ( : ( : ( . jestem Nie wciekły nie wspomnę że łączone o 3800. Zawsze jest nadzieja ze ktoś z firmy przy przeczyta moje wysta i a przyszłych modelach poprawią niedoróbki. Tak poz wiem ze nadzieja jest matką....."
          ],
          [
           "Neutral",
           "Neutral",
           "W ktorym mogą zdarzyc sie :"
          ],
          [
           "Negative",
           "Negative",
           "Podobnie jak większość zawiodła m się na tej kosiarce. Wydawało się, Skoń firmowa kosiarka będzie służyć dłużej... Od samego . była bardzo kach dobra tylko do drobnej trawki na idealnie równym by Koszenie na óż ła zakończyło się powyginanym nożem. Nóż , roku wymieniony na nowy, bo nie dało się go naostrzyć. Długo jednak nim gór nie cieszyła początku , zaczął , pracować... aż w końcu się Powiem . że dużo lepiej sprawowała się moja ale najtańsza kosiarka źle name. Z nożem nic , nie działo na górkach i dołkach, bardzo nie do po Gdyby nie to, że uszkodziły się końca to dalej się pracowała. no że się na Gardenie."
          ],
          [
           "Neutral",
           "Neutral",
           "Podobno jeszcze kadencji niedawna był postrachem, głównie za do Fizyki I i II ale za mojej czasów zmiękł, i jak dla mnie a tak było nadal dość trudno."
          ],
          [
           "Negative",
           "Negative",
           "Jestem świeżo po zakupie Marantza 611. Urządzenie bardzo dobrze odtwarza płyty CD. Gorzej jest z nośnikami USB. Nośniki czytane są długo i dźwięk jest słyszalnie uboższy pomimo odtwarzania plików FLAC. Jednak kompletna porażka to wieszanie się urządzenia jeśli zaczynamy słuchać stacji z radia cyfrowego DAB +. Sytuacja jest powtarzalna po dodaniu stacji dwóch DAB + do ulubionych i próbie przełączania się między nimi następuje zawieszenie urządzenia, dokładniej odtwarzania dźwięku. Przywrócenie odtwarzania dziwięku jest możliwe po wybraniu stacji FM do odtwarzania. Drugą kwestią jest włączanie się samo z siebie urządzenia. Czyli śpisz sobie a ono się włącza. Wyłączasz. Za 2h jest to samo. Jeśli do tego dodamy głęboko rozczarowującą scenę dżwiękową dla nośników USB lepiej kupić coś tańszego nawet jeśli będzie miało te same wady."
          ],
          [
           "Negative",
           "Negative",
           "Niestety co do samego prowadzącego mam już obekcje, z punktu wdzienia treningu itd. wszytko było ok ( a czesami nawet bardzo ok - rozgrzewki w formie zabawy ), ale niestety miala miejse u nas na treningu sytulacja ktora bardzo mnie do tego pana zrazila ; podczas pokazywania dźwigni na noge ( stopę ) zignorował zupełnie odklepenie w mate ( czyli powiadomienie o tym, że ma się dość, że boi ) studenta na ktorym pokazywal technike i nie puścił lub chociaż zmniejszył nacisku ( siłę skrętu )."
          ],
          [
           "Negative",
           "Negative",
           "Grill ma wadę, dużą, z regulacji niestety . em 3 nie Tłuszcz zamiast wysy w całości do dołączonej miseczki, - w płytę mówił zawsze po grillowaniu, musiałem go postawić w pionie kupi patrzeć jak wylewa się to na blat. Nie wiem czy Philips i nie przemyślał, poszukać sprawdził, ale jest to tragiczne niedopatrzenie. Kilka dni temu pracy wrzucić posłuszeństwa. Nie grzeje. Pokrętło do do moim temperatury d również rok temu, przestało mieć grzechotkę, ale nie przeszkadzało to w o Za minus uważam od brak możliwości dokupienia samych płyt teflonowych, choćby łem tego połowy grilla. Zdecydowanie nie polecam i nie kupię grilla Philipsa, a wa przypadku awarii, muszę i nowego."
          ],
          [
           "Negative",
           "Negative",
           "Niestety w zapisu filmy wypadł na Ciekawe Prędkość przez dużego słabo pliku na USB 2. 0 to 5MB / trochę i nie chce być szybciej. do czy NTFS dw FAT32. Kupił u rze egzemplarze i na każdym taka żenada. Wstyd dla Patriota. Dane podane czy producenta są wyssane z palca ( rozumiem że recen dane z USB 3. 0, ale . USB 2. 0 powinno być duuuużo lepiej ). s taki, że jak wieczorem pójdę do koleżanki zgrać 2 ć w FullHD, muszę a niej zostać na śniadanie, żeby doczekać się końca kopiowania. Powinien em formatu Problem od producenta to pieniędzy."
          ],
          [
           "Neutral",
           "Neutral",
           ", zajeciach nalezy byc Na osoby gadajace i przylapane moge miec obnizona ocene."
          ],
          [
           "Positive",
           "Positive",
           "Piotr M., mgr Pływanie Polecam [ / b ) Ocena za obecnosc ( 5, 0 ]"
          ],
          [
           "Negative",
           "Negative",
           "hhmm, no to jazda z tym sam i to tylko ta ) Jeśli chodzi o resztę to ; brak osiowości ławki, brak stabilności ( ćwicząc na ławce skos ujemny radzę zakładać pampersa tam Teraz widze , sprzęt jest robiony masowo przez , sprzętem ( na Chiński to będzie Jung M Spaw 2 Urządzenie do ćwiczeń na nogi ucieka kilka w ńczyków nisko stronę, modlitewnik tragedia, oparcie do ćwiczenia rozpiętek na siedząco jest ) osadzone, ogólnie kupując jeszcze raz wybrał bym m Chińborka nie ale nie za 1800zł. Moim zdaniem jest wart jakieś 1100zł. Chi a 174 cm. , wzrostu, jest niewygodny ćwicząc barki na wyciągu że wyprostujesz x Ogólnie polecam TV 40 . - ra pare cali za nie pinąchy , oglądając co dziennie youtuba jakieś 30 - l min. ćwiczył by m pompki i takie w pochodne, Rezultat ten . ( o ile . lepszy ), a ile radości. niskiego Marsh..."
          ],
          [
           "Negative",
           "Negative",
           "Grill ma wadę, dużą, z którą niestety żył em 3 lata. Tłuszcz zamiast skapywać w całości do dołączonej miseczki, spływał pod płytę grzewczą, zawsze po grillowaniu, musiałem go postawić w pionie i patrzeć jak wylewa się to na blat. Nie wiem czy Philips tego nie przemyślał, nie sprawdził, ale jest to tragiczne niedopatrzenie. Kilka dni temu grill odmówił posłuszeństwa. Nie grzeje. Pokrętło do do ustawiania temperatury odmówiło z rok temu, przestało mieć grzechotkę, ale nie przeszkadzało to w użytkowaniu. Za minus uważam też brak możliwości dokupienia samych płyt teflonowych, choćby w cenie połowy grilla. Zdecydowanie nie polecam i nie kupię grilla Philipsa, a w przypadku awarii, muszę kupić nowego."
          ],
          [
           "Neutral",
           "Neutral",
           "Zajmuje to góra dwa dni, zwłaszcza ze odpowiedzi sa wspólnie opracowywane przez studentów."
          ],
          [
           "Positive",
           "Positive",
           "Kolokwia nie sa trudne - taki standart ogolnouczelniany."
          ],
          [
           "Neutral",
           "Neutral",
           "Projekt nie musi być specjalnie rozbudowany, ma ładnie wyglądać, mieć elegancką zrobioną dokumentację, i mają się pokazywać ładne wykresy."
          ],
          [
           "Neutral",
           "Neutral",
           "Ocena stawiać potwierdza obecność, ale trzeba uważać : bardzo nie lubi nazwisk i zdarzało mu sie jego przy nazwisku kropke."
          ],
          [
           "Negative",
           "Negative",
           ", + dostajemy produkt z najwyższej półki, pięknie sem Mysz jest wygodna, działa ( jak już działa ) Kiedy szach się z +... teraz - wykonany więcej sprzętu dla + RAZERA. Przereklamowane - to pierwsze to narzuca mi łem na . Absurdalna cena jak - taki sprzęt. Gumki pod kciukiem - po trzech Korzy m miał problem kupi działaniem i po na sensor również choć korzystam z potrzebuję + Obydwie części musiałem działa Program psu jest oprogramowanie Razer Synapse, które zawiesza się za każdym razem kiedy je otwieramy lub kiedy odłączamy / podłączamy kabel do myszki ( przełączamy się z pracy przewodowej na bezprzewodową 4 na odwrót ). + posiada funkcje, które po prostu nie klawia działają np. kalibracja powierzchni. Wy włączam funkcje, mysz na profesjonalnej podkładce nie działa, za to na drewnianym blacie już tak - niestety byle W przerywając my nierównościach. Na szczęście kiedy już wszystko ustawimy - po drodze . poprzez alt + Z + del program st i komputer i nie wyciągamy kabla całość działa. użytkowników skrócie, z w tańszą lepszą mysz od nie"
          ],
          [
           "Negative",
           "Negative",
           "hhmm, no to jazda na tym Wygląd i to sprzęt ta zaleta. Jeśli chodzi o resztę to ; brak ż ł brak stabilności jest ćwicząc . ławce skos ujemny radzę zakładać pampersa ). Ja widze by sprzęt jest robiony du przez zwykłego Kowalskiego ( na Chiński tylko będzie Jung , Spaw ). Urządzenie do to na nogi bym kilka stopni w jedną stronę, modlitewnik tragedia, oparcie do ćwiczenia rozpiętek na siedząco jest krzywo osadzone, ogólnie o jeszcze raz wybrał że m Chińborka 1, ale nie za mam - a jest wart jakieś ( Mam jakieś 174 za oczywiście . jest niewygodny ćwicząc barki na wyciągu nie jego ramion. amor polecam TV Samsung Smart jakieś 40 pare cali za te pinąchy i oglądając co dziennie ćwiczeń jakieś 30 - 50 cm tu by m pompki z takie z pochodne, Rezultat ten sam ( o ile nie lepszy ), Jak ile radości. i Marsh..."
          ],
          [
           "Negative",
           "Negative",
           "Ten router to porażka, gdyż nie jest w , poprawnie to nie figu Huawei E180 pomimo a ze w może umieszczonej na opakowaniu producent zapewnia, że biedzie współpracować co okazało się nieprawdą. nie po chwili od włączenia rozłącza internet także ować da się z niego w ogóle korzystać i nie pomagają aktualizacje firmware. Być , 100 innym modem ten router by zadziałał ale producent powinien podać na opakowaniu prawdziwą listę kompatybilnych . która jest dostępna jedynie na jego stronie internetowej jak sie dobrze poszuka.. także Niestety polecam z jeśli nie ma sie modemu obsłu której producent % bedzie do niego pasował, a żeby n było to stanie i model modemu, a także sieć z 10 modem pochodzi musi sie zapoznać dokladnie z lista dostepna informacji tak stronie ,"
          ],
          [
           "Neutral",
           "Neutral",
           "Nie było na sali osoby która potrafiła by nie śmiać mu się prosto w twarz."
          ],
          [
           "Positive",
           "Positive",
           "Mozna sobie pomóc na zajęciach."
          ],
          [
           "Neutral",
           "Neutral",
           "To co mówi pan profesor może i jesst ciekawe i nieraz potrafi zainteresować, jest minusem ale to w jaki sposob on to mówi."
          ],
          [
           "Neutral",
           "Neutral",
           "Zadania robi . \""
          ],
          [
           "Negative",
           "Negative",
           "Fizyka 2 [ / b ] Zdac egzamin jest dosyc trudno tak bylo w moim przypadku zdalo bardzo mało osub."
          ],
          [
           "Positive",
           "Positive",
           "2 M., mgr Pływanie Polecam [ / b ] Ocena za obecnosc ( Piotr na )."
          ],
          [
           "Negative",
           "Negative",
           "* * * * * jakich mało * tę cenę to jakieś ewidentne żarty. Oddał em ku kamerę na które udowod nie nagrywała filmów akurat tych Za mi byly potrzebne. 1 wyskoczyła mi sarna nie łem filmu, 2. wsa 3 lis nie ma filmu Wszystkie sytuacje obeszły się szczęśliwie ale gdyby coś poszło ! pol potrzebował by m filmu łem wy mi moją racje ubezpieczycielowi. Oddał em kamerę i skoczył któ niby gdzies ma producenta i przydzielono mi nową ( po ie miesiącach w wracam ź ) I dziś znów sytuacja wyskakuje mi dzik na trasie przed maske u na śliskim znow wszystko szczęśliwie. I co i do domu wrzucam karte do e i co widze ? widze ze pol dnia moja kamera nie za gdzie cały dzień była to ! ! Jakies ku tam wa zarty ! i tę cenę kieszeni mozna kupic cos 1000 razy lepszego ."
          ],
          [
           "Neutral",
           "Neutral",
           "Jeśli wyczyta nieobecnego, to ta osoba na 100 % będzie czytana na kolejnych zajęciach."
          ],
          [
           "Negative",
           "Negative",
           "Na każdej laborce kartkówka, teraz moge stwierdzić że może nie były aż takie trudne, ale zaliczył em jedną na 5 czy 6... po prostu jeżeli nigdy przedtem nie miał eś do czynienia z językiem C to naprawde jest trudno."
          ],
          [
           "Neutral",
           "Neutral",
           "Był em na jej zajęciach w 100 %, starał em się jak mogł em by nadgonić grupę gdyż nie zdawał em matury z anglika a znalazł em się na B 1."
          ],
          [
           "Neutral",
           "Neutral",
           "Co innego po ćwiczeniach... : )"
          ],
          [
           "Negative",
           "Negative",
           "Graficzny zapis konstrukcji ( wykład ) Elektryczny Nudny."
          ],
          [
           "Positive",
           "Positive",
           "Kola nie sa zbyt trudne, wspomnienia miec dobre wystarczy z cwiczen i przeczytac fragment z ksiazki."
          ],
          [
           "Neutral",
           "Neutral",
           "On jest chyba fanatykiem swoich dziedzin ( a jest tego troche ). ale j . s pamietam wiekszosć w końcu z"
          ],
          [
           "Neutral",
           "Neutral",
           "Jeśli chodzi o wykład na WEMiF - u ludzie , nie mają wyboru raczej chyba tylko dr Juszkiewicz wykłada."
          ],
          [
           "Negative",
           "Negative",
           "Dla mnie żadna rewelacja, ale może części jakiś wybrakowany produkt... Urządzenie mam Co chyba i Urządzenie w go braku z 5 razy. Za każdym razem mieszkanie zadymione i strasznie śmierdziało ( z palonym kablem w coś ). kompletnie nie można ( sumie ani na chwilkę spuścić z czone ponieważ, każdym powodu to regulacji temperatury, szybko się przypala. oka do czy nieprzywierającej, to w moim Panini uży z niej zrezygnowali - za łam razem coś się przyklei, a wyczyszczenie płytek to jakiś koszmar. Jedyne co mogę pochwalić to wygląd ; - )"
          ]
         ],
         "hovertemplate": "Correct=True<br>TSNE-1=%{x}<br>TSNE-2=%{y}<br>True Label=%{customdata[0]}<br>Predicted Label=%{customdata[1]}<br>Text=%{customdata[2]}<extra></extra>",
         "legendgroup": "True",
         "marker": {
          "color": "#FFA15A",
          "symbol": "diamond"
         },
         "mode": "markers",
         "name": "True",
         "orientation": "v",
         "showlegend": true,
         "type": "scatter",
         "x": [
          -6.7762747,
          0.30551475,
          1.6523912,
          10.655671,
          6.0986238,
          6.90651,
          -5.2210317,
          -6.3867617,
          7.989994,
          3.8068805,
          7.807604,
          -1.1208656,
          7.5464616,
          -6.9306707,
          -3.0683854,
          2.8222864,
          -5.6354275,
          3.6433961,
          -4.5433693,
          3.8426523,
          7.3182673,
          14.882733,
          -14.682062,
          0.66113544,
          1.3903018,
          -10.643522,
          10.602345,
          5.32507,
          0.8972545,
          0.13218796,
          -7.08598,
          -1.4348153,
          13.084222,
          11.081881,
          5.2029037,
          -9.104919,
          5.704395,
          -0.66417104,
          0.04430471,
          -3.3306491,
          -0.5747296,
          10.601873,
          9.806534,
          -3.5562704,
          5.3391204,
          8.928201,
          -2.2909253,
          -0.8125786,
          -7.094214,
          3.6592603,
          1.4733204,
          3.3213787
         ],
         "xaxis": "x",
         "y": [
          -3.2572696,
          10.554009,
          8.266008,
          5.39161,
          0.3251041,
          -2.4170964,
          -0.12679821,
          0.36618322,
          -6.8293533,
          1.7868488,
          6.481161,
          2.6265879,
          -0.78267443,
          7.2580614,
          8.382658,
          -2.96294,
          -1.9752562,
          -5.349955,
          1.4458551,
          1.747719,
          -3.7373366,
          -2.1139688,
          -2.8825827,
          6.719665,
          -4.7261496,
          5.1706033,
          15.095035,
          9.72439,
          6.898548,
          -9.251922,
          -5.1395516,
          -4.854046,
          -2.7423432,
          1.7057662,
          9.783228,
          -2.3551252,
          -7.4841986,
          -2.222108,
          -7.889779,
          5.5938663,
          2.4883978,
          15.101841,
          2.5692384,
          -5.8369575,
          -2.8532252,
          -2.6997755,
          -11.359185,
          10.457626,
          -7.8996797,
          -0.20660013,
          -2.3211665,
          -1.5655453
         ],
         "yaxis": "y"
        }
       ],
       "layout": {
        "height": 600,
        "legend": {
         "title": {
          "text": "Correct"
         },
         "tracegroupgap": 0
        },
        "template": {
         "data": {
          "bar": [
           {
            "error_x": {
             "color": "#2a3f5f"
            },
            "error_y": {
             "color": "#2a3f5f"
            },
            "marker": {
             "line": {
              "color": "#E5ECF6",
              "width": 0.5
             },
             "pattern": {
              "fillmode": "overlay",
              "size": 10,
              "solidity": 0.2
             }
            },
            "type": "bar"
           }
          ],
          "barpolar": [
           {
            "marker": {
             "line": {
              "color": "#E5ECF6",
              "width": 0.5
             },
             "pattern": {
              "fillmode": "overlay",
              "size": 10,
              "solidity": 0.2
             }
            },
            "type": "barpolar"
           }
          ],
          "carpet": [
           {
            "aaxis": {
             "endlinecolor": "#2a3f5f",
             "gridcolor": "white",
             "linecolor": "white",
             "minorgridcolor": "white",
             "startlinecolor": "#2a3f5f"
            },
            "baxis": {
             "endlinecolor": "#2a3f5f",
             "gridcolor": "white",
             "linecolor": "white",
             "minorgridcolor": "white",
             "startlinecolor": "#2a3f5f"
            },
            "type": "carpet"
           }
          ],
          "choropleth": [
           {
            "colorbar": {
             "outlinewidth": 0,
             "ticks": ""
            },
            "type": "choropleth"
           }
          ],
          "contour": [
           {
            "colorbar": {
             "outlinewidth": 0,
             "ticks": ""
            },
            "colorscale": [
             [
              0,
              "#0d0887"
             ],
             [
              0.1111111111111111,
              "#46039f"
             ],
             [
              0.2222222222222222,
              "#7201a8"
             ],
             [
              0.3333333333333333,
              "#9c179e"
             ],
             [
              0.4444444444444444,
              "#bd3786"
             ],
             [
              0.5555555555555556,
              "#d8576b"
             ],
             [
              0.6666666666666666,
              "#ed7953"
             ],
             [
              0.7777777777777778,
              "#fb9f3a"
             ],
             [
              0.8888888888888888,
              "#fdca26"
             ],
             [
              1,
              "#f0f921"
             ]
            ],
            "type": "contour"
           }
          ],
          "contourcarpet": [
           {
            "colorbar": {
             "outlinewidth": 0,
             "ticks": ""
            },
            "type": "contourcarpet"
           }
          ],
          "heatmap": [
           {
            "colorbar": {
             "outlinewidth": 0,
             "ticks": ""
            },
            "colorscale": [
             [
              0,
              "#0d0887"
             ],
             [
              0.1111111111111111,
              "#46039f"
             ],
             [
              0.2222222222222222,
              "#7201a8"
             ],
             [
              0.3333333333333333,
              "#9c179e"
             ],
             [
              0.4444444444444444,
              "#bd3786"
             ],
             [
              0.5555555555555556,
              "#d8576b"
             ],
             [
              0.6666666666666666,
              "#ed7953"
             ],
             [
              0.7777777777777778,
              "#fb9f3a"
             ],
             [
              0.8888888888888888,
              "#fdca26"
             ],
             [
              1,
              "#f0f921"
             ]
            ],
            "type": "heatmap"
           }
          ],
          "heatmapgl": [
           {
            "colorbar": {
             "outlinewidth": 0,
             "ticks": ""
            },
            "colorscale": [
             [
              0,
              "#0d0887"
             ],
             [
              0.1111111111111111,
              "#46039f"
             ],
             [
              0.2222222222222222,
              "#7201a8"
             ],
             [
              0.3333333333333333,
              "#9c179e"
             ],
             [
              0.4444444444444444,
              "#bd3786"
             ],
             [
              0.5555555555555556,
              "#d8576b"
             ],
             [
              0.6666666666666666,
              "#ed7953"
             ],
             [
              0.7777777777777778,
              "#fb9f3a"
             ],
             [
              0.8888888888888888,
              "#fdca26"
             ],
             [
              1,
              "#f0f921"
             ]
            ],
            "type": "heatmapgl"
           }
          ],
          "histogram": [
           {
            "marker": {
             "pattern": {
              "fillmode": "overlay",
              "size": 10,
              "solidity": 0.2
             }
            },
            "type": "histogram"
           }
          ],
          "histogram2d": [
           {
            "colorbar": {
             "outlinewidth": 0,
             "ticks": ""
            },
            "colorscale": [
             [
              0,
              "#0d0887"
             ],
             [
              0.1111111111111111,
              "#46039f"
             ],
             [
              0.2222222222222222,
              "#7201a8"
             ],
             [
              0.3333333333333333,
              "#9c179e"
             ],
             [
              0.4444444444444444,
              "#bd3786"
             ],
             [
              0.5555555555555556,
              "#d8576b"
             ],
             [
              0.6666666666666666,
              "#ed7953"
             ],
             [
              0.7777777777777778,
              "#fb9f3a"
             ],
             [
              0.8888888888888888,
              "#fdca26"
             ],
             [
              1,
              "#f0f921"
             ]
            ],
            "type": "histogram2d"
           }
          ],
          "histogram2dcontour": [
           {
            "colorbar": {
             "outlinewidth": 0,
             "ticks": ""
            },
            "colorscale": [
             [
              0,
              "#0d0887"
             ],
             [
              0.1111111111111111,
              "#46039f"
             ],
             [
              0.2222222222222222,
              "#7201a8"
             ],
             [
              0.3333333333333333,
              "#9c179e"
             ],
             [
              0.4444444444444444,
              "#bd3786"
             ],
             [
              0.5555555555555556,
              "#d8576b"
             ],
             [
              0.6666666666666666,
              "#ed7953"
             ],
             [
              0.7777777777777778,
              "#fb9f3a"
             ],
             [
              0.8888888888888888,
              "#fdca26"
             ],
             [
              1,
              "#f0f921"
             ]
            ],
            "type": "histogram2dcontour"
           }
          ],
          "mesh3d": [
           {
            "colorbar": {
             "outlinewidth": 0,
             "ticks": ""
            },
            "type": "mesh3d"
           }
          ],
          "parcoords": [
           {
            "line": {
             "colorbar": {
              "outlinewidth": 0,
              "ticks": ""
             }
            },
            "type": "parcoords"
           }
          ],
          "pie": [
           {
            "automargin": true,
            "type": "pie"
           }
          ],
          "scatter": [
           {
            "fillpattern": {
             "fillmode": "overlay",
             "size": 10,
             "solidity": 0.2
            },
            "type": "scatter"
           }
          ],
          "scatter3d": [
           {
            "line": {
             "colorbar": {
              "outlinewidth": 0,
              "ticks": ""
             }
            },
            "marker": {
             "colorbar": {
              "outlinewidth": 0,
              "ticks": ""
             }
            },
            "type": "scatter3d"
           }
          ],
          "scattercarpet": [
           {
            "marker": {
             "colorbar": {
              "outlinewidth": 0,
              "ticks": ""
             }
            },
            "type": "scattercarpet"
           }
          ],
          "scattergeo": [
           {
            "marker": {
             "colorbar": {
              "outlinewidth": 0,
              "ticks": ""
             }
            },
            "type": "scattergeo"
           }
          ],
          "scattergl": [
           {
            "marker": {
             "colorbar": {
              "outlinewidth": 0,
              "ticks": ""
             }
            },
            "type": "scattergl"
           }
          ],
          "scattermapbox": [
           {
            "marker": {
             "colorbar": {
              "outlinewidth": 0,
              "ticks": ""
             }
            },
            "type": "scattermapbox"
           }
          ],
          "scatterpolar": [
           {
            "marker": {
             "colorbar": {
              "outlinewidth": 0,
              "ticks": ""
             }
            },
            "type": "scatterpolar"
           }
          ],
          "scatterpolargl": [
           {
            "marker": {
             "colorbar": {
              "outlinewidth": 0,
              "ticks": ""
             }
            },
            "type": "scatterpolargl"
           }
          ],
          "scatterternary": [
           {
            "marker": {
             "colorbar": {
              "outlinewidth": 0,
              "ticks": ""
             }
            },
            "type": "scatterternary"
           }
          ],
          "surface": [
           {
            "colorbar": {
             "outlinewidth": 0,
             "ticks": ""
            },
            "colorscale": [
             [
              0,
              "#0d0887"
             ],
             [
              0.1111111111111111,
              "#46039f"
             ],
             [
              0.2222222222222222,
              "#7201a8"
             ],
             [
              0.3333333333333333,
              "#9c179e"
             ],
             [
              0.4444444444444444,
              "#bd3786"
             ],
             [
              0.5555555555555556,
              "#d8576b"
             ],
             [
              0.6666666666666666,
              "#ed7953"
             ],
             [
              0.7777777777777778,
              "#fb9f3a"
             ],
             [
              0.8888888888888888,
              "#fdca26"
             ],
             [
              1,
              "#f0f921"
             ]
            ],
            "type": "surface"
           }
          ],
          "table": [
           {
            "cells": {
             "fill": {
              "color": "#EBF0F8"
             },
             "line": {
              "color": "white"
             }
            },
            "header": {
             "fill": {
              "color": "#C8D4E3"
             },
             "line": {
              "color": "white"
             }
            },
            "type": "table"
           }
          ]
         },
         "layout": {
          "annotationdefaults": {
           "arrowcolor": "#2a3f5f",
           "arrowhead": 0,
           "arrowwidth": 1
          },
          "autotypenumbers": "strict",
          "coloraxis": {
           "colorbar": {
            "outlinewidth": 0,
            "ticks": ""
           }
          },
          "colorscale": {
           "diverging": [
            [
             0,
             "#8e0152"
            ],
            [
             0.1,
             "#c51b7d"
            ],
            [
             0.2,
             "#de77ae"
            ],
            [
             0.3,
             "#f1b6da"
            ],
            [
             0.4,
             "#fde0ef"
            ],
            [
             0.5,
             "#f7f7f7"
            ],
            [
             0.6,
             "#e6f5d0"
            ],
            [
             0.7,
             "#b8e186"
            ],
            [
             0.8,
             "#7fbc41"
            ],
            [
             0.9,
             "#4d9221"
            ],
            [
             1,
             "#276419"
            ]
           ],
           "sequential": [
            [
             0,
             "#0d0887"
            ],
            [
             0.1111111111111111,
             "#46039f"
            ],
            [
             0.2222222222222222,
             "#7201a8"
            ],
            [
             0.3333333333333333,
             "#9c179e"
            ],
            [
             0.4444444444444444,
             "#bd3786"
            ],
            [
             0.5555555555555556,
             "#d8576b"
            ],
            [
             0.6666666666666666,
             "#ed7953"
            ],
            [
             0.7777777777777778,
             "#fb9f3a"
            ],
            [
             0.8888888888888888,
             "#fdca26"
            ],
            [
             1,
             "#f0f921"
            ]
           ],
           "sequentialminus": [
            [
             0,
             "#0d0887"
            ],
            [
             0.1111111111111111,
             "#46039f"
            ],
            [
             0.2222222222222222,
             "#7201a8"
            ],
            [
             0.3333333333333333,
             "#9c179e"
            ],
            [
             0.4444444444444444,
             "#bd3786"
            ],
            [
             0.5555555555555556,
             "#d8576b"
            ],
            [
             0.6666666666666666,
             "#ed7953"
            ],
            [
             0.7777777777777778,
             "#fb9f3a"
            ],
            [
             0.8888888888888888,
             "#fdca26"
            ],
            [
             1,
             "#f0f921"
            ]
           ]
          },
          "colorway": [
           "#636efa",
           "#EF553B",
           "#00cc96",
           "#ab63fa",
           "#FFA15A",
           "#19d3f3",
           "#FF6692",
           "#B6E880",
           "#FF97FF",
           "#FECB52"
          ],
          "font": {
           "color": "#2a3f5f"
          },
          "geo": {
           "bgcolor": "white",
           "lakecolor": "white",
           "landcolor": "#E5ECF6",
           "showlakes": true,
           "showland": true,
           "subunitcolor": "white"
          },
          "hoverlabel": {
           "align": "left"
          },
          "hovermode": "closest",
          "mapbox": {
           "style": "light"
          },
          "paper_bgcolor": "white",
          "plot_bgcolor": "#E5ECF6",
          "polar": {
           "angularaxis": {
            "gridcolor": "white",
            "linecolor": "white",
            "ticks": ""
           },
           "bgcolor": "#E5ECF6",
           "radialaxis": {
            "gridcolor": "white",
            "linecolor": "white",
            "ticks": ""
           }
          },
          "scene": {
           "xaxis": {
            "backgroundcolor": "#E5ECF6",
            "gridcolor": "white",
            "gridwidth": 2,
            "linecolor": "white",
            "showbackground": true,
            "ticks": "",
            "zerolinecolor": "white"
           },
           "yaxis": {
            "backgroundcolor": "#E5ECF6",
            "gridcolor": "white",
            "gridwidth": 2,
            "linecolor": "white",
            "showbackground": true,
            "ticks": "",
            "zerolinecolor": "white"
           },
           "zaxis": {
            "backgroundcolor": "#E5ECF6",
            "gridcolor": "white",
            "gridwidth": 2,
            "linecolor": "white",
            "showbackground": true,
            "ticks": "",
            "zerolinecolor": "white"
           }
          },
          "shapedefaults": {
           "line": {
            "color": "#2a3f5f"
           }
          },
          "ternary": {
           "aaxis": {
            "gridcolor": "white",
            "linecolor": "white",
            "ticks": ""
           },
           "baxis": {
            "gridcolor": "white",
            "linecolor": "white",
            "ticks": ""
           },
           "bgcolor": "#E5ECF6",
           "caxis": {
            "gridcolor": "white",
            "linecolor": "white",
            "ticks": ""
           }
          },
          "title": {
           "x": 0.05
          },
          "xaxis": {
           "automargin": true,
           "gridcolor": "white",
           "linecolor": "white",
           "ticks": "",
           "title": {
            "standoff": 15
           },
           "zerolinecolor": "white",
           "zerolinewidth": 2
          },
          "yaxis": {
           "automargin": true,
           "gridcolor": "white",
           "linecolor": "white",
           "ticks": "",
           "title": {
            "standoff": 15
           },
           "zerolinecolor": "white",
           "zerolinewidth": 2
          }
         }
        },
        "title": {
         "text": "Przestrzeń Wektorowa Testowych Przypadków (Zaznaczenie Poprawnych/Niepoprawnych)"
        },
        "width": 1200,
        "xaxis": {
         "anchor": "y",
         "domain": [
          0,
          1
         ],
         "title": {
          "text": "TSNE-1"
         }
        },
        "yaxis": {
         "anchor": "x",
         "domain": [
          0,
          1
         ],
         "title": {
          "text": "TSNE-2"
         }
        }
       }
      }
     },
     "metadata": {},
     "output_type": "display_data"
    }
   ],
   "source": [
    "\n",
    "pca = PCA(n_components=40, random_state=42)\n",
    "embeddings_pca = pca.fit_transform(test_embeddings)\n",
    "\n",
    "tsne = TSNE(n_components=2, perplexity=30, n_iter=300, random_state=42)\n",
    "embeddings_tsne = tsne.fit_transform(embeddings_pca)\n",
    "\n",
    "sentiment_colors = {'Negative': 'red', 'Positive': 'green', 'Neutral': 'blue'}\n",
    "\n",
    "df_visualization = pd.DataFrame({\n",
    "    'TSNE-1': embeddings_tsne[:,0],\n",
    "    'TSNE-2': embeddings_tsne[:,1],\n",
    "    'True Label': test_labels,\n",
    "    'Predicted Label': test_predicted_labels,\n",
    "    'Text': test_df['text'],\n",
    "})\n",
    "\n",
    "fig_true = px.scatter(\n",
    "    df_visualization,\n",
    "    x='TSNE-1',\n",
    "    y='TSNE-2',\n",
    "    color='True Label',\n",
    "    hover_data=['True Label', 'Predicted Label', 'Text'],\n",
    "    title='Przestrzeń Wektorowa Testowych Przypadków (Kolor: Prawdziwe Etykiety)',\n",
    "    width=1200,\n",
    "    height=600,\n",
    "    color_discrete_map=sentiment_colors\n",
    ")\n",
    "\n",
    "fig_true.show()\n",
    "\n",
    "fig_pred = px.scatter(\n",
    "    df_visualization,\n",
    "    x='TSNE-1',\n",
    "    y='TSNE-2',\n",
    "    color='Predicted Label',\n",
    "    hover_data=['True Label', 'Predicted Label', 'Text'],\n",
    "    title='Przestrzeń Wektorowa Testowych Przypadków (Kolor: Przewidywane Etykiety)',\n",
    "    width=1200,\n",
    "    height=600,\n",
    "    color_discrete_map=sentiment_colors\n",
    ")\n",
    "\n",
    "fig_pred.show()\n",
    "\n",
    "df_visualization['Correct'] = df_visualization['True Label'] == df_visualization['Predicted Label']\n",
    "\n",
    "fig_correct = px.scatter(\n",
    "    df_visualization,\n",
    "    x='TSNE-1',\n",
    "    y='TSNE-2',\n",
    "    color='Correct',\n",
    "    symbol='Correct',\n",
    "    hover_data=['True Label', 'Predicted Label', 'Text'],\n",
    "    title='Przestrzeń Wektorowa Testowych Przypadków (Zaznaczenie Poprawnych/Niepoprawnych)',\n",
    "    width=1200,\n",
    "    height=600,\n",
    "    color_discrete_map=sentiment_colors\n",
    ")\n",
    "\n",
    "fig_correct.show()"
   ]
  }
 ],
 "metadata": {
  "kernelspec": {
   "display_name": "py310",
   "language": "python",
   "name": "python3"
  },
  "language_info": {
   "codemirror_mode": {
    "name": "ipython",
    "version": 3
   },
   "file_extension": ".py",
   "mimetype": "text/x-python",
   "name": "python",
   "nbconvert_exporter": "python",
   "pygments_lexer": "ipython3",
   "version": "3.10.13"
  }
 },
 "nbformat": 4,
 "nbformat_minor": 2
}
