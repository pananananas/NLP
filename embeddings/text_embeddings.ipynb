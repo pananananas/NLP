{
 "cells": [
  {
   "cell_type": "code",
   "execution_count": 400,
   "metadata": {},
   "outputs": [],
   "source": [
    "from sklearn.feature_extraction.text import TfidfVectorizer\n",
    "from sklearn.manifold import TSNE\n",
    "import tensorflow_hub as hub\n",
    "import plotly.express as px\n",
    "import pandas as pd\n",
    "import warnings\n",
    "import hdbscan\n",
    "import spacy\n",
    "import re\n",
    "warnings.filterwarnings('ignore') "
   ]
  },
  {
   "cell_type": "markdown",
   "metadata": {},
   "source": [
    "# Łączenie plików"
   ]
  },
  {
   "cell_type": "code",
   "execution_count": 401,
   "metadata": {},
   "outputs": [],
   "source": [
    "file_paths = [\n",
    "    \"../annotations/texts/all/rev_bartek_whole.csv\",\n",
    "    \"../annotations/texts/all/rev_eryk_whole.csv\",\n",
    "    \"../annotations/texts/all/rev_darek_whole.csv\",\n",
    "    \"../annotations/texts/all/rev_patryk_whole.csv\",\n",
    "    \"../annotations/texts/final_texts.csv\"\n",
    "]\n",
    "\n",
    "dfs = [pd.read_csv(file) for file in file_paths]\n",
    "\n",
    "combined_df = pd.concat(dfs, ignore_index=True)"
   ]
  },
  {
   "cell_type": "code",
   "execution_count": 402,
   "metadata": {},
   "outputs": [
    {
     "data": {
      "text/html": [
       "<div>\n",
       "<style scoped>\n",
       "    .dataframe tbody tr th:only-of-type {\n",
       "        vertical-align: middle;\n",
       "    }\n",
       "\n",
       "    .dataframe tbody tr th {\n",
       "        vertical-align: top;\n",
       "    }\n",
       "\n",
       "    .dataframe thead th {\n",
       "        text-align: right;\n",
       "    }\n",
       "</style>\n",
       "<table border=\"1\" class=\"dataframe\">\n",
       "  <thead>\n",
       "    <tr style=\"text-align: right;\">\n",
       "      <th></th>\n",
       "      <th>id</th>\n",
       "      <th>text</th>\n",
       "      <th>label</th>\n",
       "      <th>Comments</th>\n",
       "    </tr>\n",
       "  </thead>\n",
       "  <tbody>\n",
       "    <tr>\n",
       "      <th>0</th>\n",
       "      <td>322337</td>\n",
       "      <td>Można się pozgłaszać na cwiczeniach z analizy ...</td>\n",
       "      <td>Neutral</td>\n",
       "      <td>NaN</td>\n",
       "    </tr>\n",
       "    <tr>\n",
       "      <th>1</th>\n",
       "      <td>322338</td>\n",
       "      <td>Polecam wziąć sobie do serca wszystkie rady \" ...</td>\n",
       "      <td>Neutral</td>\n",
       "      <td>NaN</td>\n",
       "    </tr>\n",
       "    <tr>\n",
       "      <th>2</th>\n",
       "      <td>322339</td>\n",
       "      <td>Był em na jej zajęciach w 100 % , starał em si...</td>\n",
       "      <td>Neutral</td>\n",
       "      <td>NaN</td>\n",
       "    </tr>\n",
       "    <tr>\n",
       "      <th>3</th>\n",
       "      <td>322340</td>\n",
       "      <td>Jesli sluchasz go na zajeciach i zrobisz w dom...</td>\n",
       "      <td>Neutral</td>\n",
       "      <td>NaN</td>\n",
       "    </tr>\n",
       "    <tr>\n",
       "      <th>4</th>\n",
       "      <td>322341</td>\n",
       "      <td>Bardzo luzacki prowadzący .</td>\n",
       "      <td>Positive</td>\n",
       "      <td>NaN</td>\n",
       "    </tr>\n",
       "  </tbody>\n",
       "</table>\n",
       "</div>"
      ],
      "text/plain": [
       "       id                                               text     label  \\\n",
       "0  322337  Można się pozgłaszać na cwiczeniach z analizy ...   Neutral   \n",
       "1  322338  Polecam wziąć sobie do serca wszystkie rady \" ...   Neutral   \n",
       "2  322339  Był em na jej zajęciach w 100 % , starał em si...   Neutral   \n",
       "3  322340  Jesli sluchasz go na zajeciach i zrobisz w dom...   Neutral   \n",
       "4  322341                        Bardzo luzacki prowadzący .  Positive   \n",
       "\n",
       "   Comments  \n",
       "0       NaN  \n",
       "1       NaN  \n",
       "2       NaN  \n",
       "3       NaN  \n",
       "4       NaN  "
      ]
     },
     "execution_count": 402,
     "metadata": {},
     "output_type": "execute_result"
    }
   ],
   "source": [
    "combined_df.head()"
   ]
  },
  {
   "cell_type": "code",
   "execution_count": 403,
   "metadata": {},
   "outputs": [],
   "source": [
    "texts_df = combined_df['text'].fillna('')\n",
    "labels = combined_df['label'].fillna('')"
   ]
  },
  {
   "cell_type": "markdown",
   "metadata": {},
   "source": [
    "# Preprocessing"
   ]
  },
  {
   "cell_type": "code",
   "execution_count": 404,
   "metadata": {},
   "outputs": [],
   "source": [
    "nlp = spacy.load(\"pl_core_news_sm\")\n",
    "\n",
    "def preprocess_text(text):\n",
    "\n",
    "    text = re.sub(r'\\d+', '', text)  # Usunięcie cyfr\n",
    "    text = re.sub(r'\\W+', ' ', text.lower())  # Usunięcie znaków interpunkcyjnych\n",
    "\n",
    "    doc = nlp(text)\n",
    "    \n",
    "    tokens = [token.lemma_ for token in doc if not token.is_stop] # Lematyzacja\n",
    "    \n",
    "    return ' '.join(tokens)"
   ]
  },
  {
   "cell_type": "code",
   "execution_count": 405,
   "metadata": {},
   "outputs": [],
   "source": [
    "texts = texts_df.apply(preprocess_text)"
   ]
  },
  {
   "cell_type": "code",
   "execution_count": 406,
   "metadata": {},
   "outputs": [
    {
     "data": {
      "text/plain": [
       "0      pozgłaszać cwiczenie analiza dostać trochę plus\n",
       "1                           polecać wziąć serce rada j\n",
       "2     zajęcia starać  mogła em nadgonić grupa zdawa...\n",
       "3    sluchać zajeci zrobić dom zadanek powinienes p...\n",
       "4                                    luzacki prowadzić\n",
       "Name: text, dtype: object"
      ]
     },
     "execution_count": 406,
     "metadata": {},
     "output_type": "execute_result"
    }
   ],
   "source": [
    "texts.head()"
   ]
  },
  {
   "cell_type": "markdown",
   "metadata": {},
   "source": [
    "# Generowanie osadzeń"
   ]
  },
  {
   "cell_type": "code",
   "execution_count": 407,
   "metadata": {},
   "outputs": [],
   "source": [
    "vectorizer = TfidfVectorizer(max_features=1000)\n",
    "\n",
    "tfidf_matrix = vectorizer.fit_transform(texts)\n",
    "\n",
    "tfidf_df = pd.DataFrame(tfidf_matrix.toarray(), columns=vectorizer.get_feature_names_out())"
   ]
  },
  {
   "cell_type": "code",
   "execution_count": 408,
   "metadata": {},
   "outputs": [
    {
     "data": {
      "text/html": [
       "<div>\n",
       "<style scoped>\n",
       "    .dataframe tbody tr th:only-of-type {\n",
       "        vertical-align: middle;\n",
       "    }\n",
       "\n",
       "    .dataframe tbody tr th {\n",
       "        vertical-align: top;\n",
       "    }\n",
       "\n",
       "    .dataframe thead th {\n",
       "        text-align: right;\n",
       "    }\n",
       "</style>\n",
       "<table border=\"1\" class=\"dataframe\">\n",
       "  <thead>\n",
       "    <tr style=\"text-align: right;\">\n",
       "      <th></th>\n",
       "      <th>absolutnie</th>\n",
       "      <th>absolutny</th>\n",
       "      <th>aktualizacja</th>\n",
       "      <th>aktywność</th>\n",
       "      <th>akurat</th>\n",
       "      <th>alarm</th>\n",
       "      <th>algebro</th>\n",
       "      <th>algebry</th>\n",
       "      <th>analityczny</th>\n",
       "      <th>analiza</th>\n",
       "      <th>...</th>\n",
       "      <th>śmyć</th>\n",
       "      <th>średnio</th>\n",
       "      <th>środek</th>\n",
       "      <th>świat</th>\n",
       "      <th>świetnie</th>\n",
       "      <th>źle</th>\n",
       "      <th>żaden</th>\n",
       "      <th>żart</th>\n",
       "      <th>żarówka</th>\n",
       "      <th>życzenie</th>\n",
       "    </tr>\n",
       "  </thead>\n",
       "  <tbody>\n",
       "    <tr>\n",
       "      <th>0</th>\n",
       "      <td>0.0</td>\n",
       "      <td>0.0</td>\n",
       "      <td>0.0</td>\n",
       "      <td>0.0</td>\n",
       "      <td>0.0</td>\n",
       "      <td>0.0</td>\n",
       "      <td>0.0</td>\n",
       "      <td>0.0</td>\n",
       "      <td>0.0</td>\n",
       "      <td>0.452387</td>\n",
       "      <td>...</td>\n",
       "      <td>0.0</td>\n",
       "      <td>0.0</td>\n",
       "      <td>0.0</td>\n",
       "      <td>0.0</td>\n",
       "      <td>0.0</td>\n",
       "      <td>0.0</td>\n",
       "      <td>0.0</td>\n",
       "      <td>0.0</td>\n",
       "      <td>0.0</td>\n",
       "      <td>0.0</td>\n",
       "    </tr>\n",
       "    <tr>\n",
       "      <th>1</th>\n",
       "      <td>0.0</td>\n",
       "      <td>0.0</td>\n",
       "      <td>0.0</td>\n",
       "      <td>0.0</td>\n",
       "      <td>0.0</td>\n",
       "      <td>0.0</td>\n",
       "      <td>0.0</td>\n",
       "      <td>0.0</td>\n",
       "      <td>0.0</td>\n",
       "      <td>0.000000</td>\n",
       "      <td>...</td>\n",
       "      <td>0.0</td>\n",
       "      <td>0.0</td>\n",
       "      <td>0.0</td>\n",
       "      <td>0.0</td>\n",
       "      <td>0.0</td>\n",
       "      <td>0.0</td>\n",
       "      <td>0.0</td>\n",
       "      <td>0.0</td>\n",
       "      <td>0.0</td>\n",
       "      <td>0.0</td>\n",
       "    </tr>\n",
       "    <tr>\n",
       "      <th>2</th>\n",
       "      <td>0.0</td>\n",
       "      <td>0.0</td>\n",
       "      <td>0.0</td>\n",
       "      <td>0.0</td>\n",
       "      <td>0.0</td>\n",
       "      <td>0.0</td>\n",
       "      <td>0.0</td>\n",
       "      <td>0.0</td>\n",
       "      <td>0.0</td>\n",
       "      <td>0.000000</td>\n",
       "      <td>...</td>\n",
       "      <td>0.0</td>\n",
       "      <td>0.0</td>\n",
       "      <td>0.0</td>\n",
       "      <td>0.0</td>\n",
       "      <td>0.0</td>\n",
       "      <td>0.0</td>\n",
       "      <td>0.0</td>\n",
       "      <td>0.0</td>\n",
       "      <td>0.0</td>\n",
       "      <td>0.0</td>\n",
       "    </tr>\n",
       "    <tr>\n",
       "      <th>3</th>\n",
       "      <td>0.0</td>\n",
       "      <td>0.0</td>\n",
       "      <td>0.0</td>\n",
       "      <td>0.0</td>\n",
       "      <td>0.0</td>\n",
       "      <td>0.0</td>\n",
       "      <td>0.0</td>\n",
       "      <td>0.0</td>\n",
       "      <td>0.0</td>\n",
       "      <td>0.000000</td>\n",
       "      <td>...</td>\n",
       "      <td>0.0</td>\n",
       "      <td>0.0</td>\n",
       "      <td>0.0</td>\n",
       "      <td>0.0</td>\n",
       "      <td>0.0</td>\n",
       "      <td>0.0</td>\n",
       "      <td>0.0</td>\n",
       "      <td>0.0</td>\n",
       "      <td>0.0</td>\n",
       "      <td>0.0</td>\n",
       "    </tr>\n",
       "    <tr>\n",
       "      <th>4</th>\n",
       "      <td>0.0</td>\n",
       "      <td>0.0</td>\n",
       "      <td>0.0</td>\n",
       "      <td>0.0</td>\n",
       "      <td>0.0</td>\n",
       "      <td>0.0</td>\n",
       "      <td>0.0</td>\n",
       "      <td>0.0</td>\n",
       "      <td>0.0</td>\n",
       "      <td>0.000000</td>\n",
       "      <td>...</td>\n",
       "      <td>0.0</td>\n",
       "      <td>0.0</td>\n",
       "      <td>0.0</td>\n",
       "      <td>0.0</td>\n",
       "      <td>0.0</td>\n",
       "      <td>0.0</td>\n",
       "      <td>0.0</td>\n",
       "      <td>0.0</td>\n",
       "      <td>0.0</td>\n",
       "      <td>0.0</td>\n",
       "    </tr>\n",
       "  </tbody>\n",
       "</table>\n",
       "<p>5 rows × 1000 columns</p>\n",
       "</div>"
      ],
      "text/plain": [
       "   absolutnie  absolutny  aktualizacja  aktywność  akurat  alarm  algebro  \\\n",
       "0         0.0        0.0           0.0        0.0     0.0    0.0      0.0   \n",
       "1         0.0        0.0           0.0        0.0     0.0    0.0      0.0   \n",
       "2         0.0        0.0           0.0        0.0     0.0    0.0      0.0   \n",
       "3         0.0        0.0           0.0        0.0     0.0    0.0      0.0   \n",
       "4         0.0        0.0           0.0        0.0     0.0    0.0      0.0   \n",
       "\n",
       "   algebry  analityczny   analiza  ...  śmyć  średnio  środek  świat  \\\n",
       "0      0.0          0.0  0.452387  ...   0.0      0.0     0.0    0.0   \n",
       "1      0.0          0.0  0.000000  ...   0.0      0.0     0.0    0.0   \n",
       "2      0.0          0.0  0.000000  ...   0.0      0.0     0.0    0.0   \n",
       "3      0.0          0.0  0.000000  ...   0.0      0.0     0.0    0.0   \n",
       "4      0.0          0.0  0.000000  ...   0.0      0.0     0.0    0.0   \n",
       "\n",
       "   świetnie  źle  żaden  żart  żarówka  życzenie  \n",
       "0       0.0  0.0    0.0   0.0      0.0       0.0  \n",
       "1       0.0  0.0    0.0   0.0      0.0       0.0  \n",
       "2       0.0  0.0    0.0   0.0      0.0       0.0  \n",
       "3       0.0  0.0    0.0   0.0      0.0       0.0  \n",
       "4       0.0  0.0    0.0   0.0      0.0       0.0  \n",
       "\n",
       "[5 rows x 1000 columns]"
      ]
     },
     "execution_count": 408,
     "metadata": {},
     "output_type": "execute_result"
    }
   ],
   "source": [
    "tfidf_df.head()"
   ]
  },
  {
   "cell_type": "code",
   "execution_count": 409,
   "metadata": {},
   "outputs": [],
   "source": [
    "model_url = \"https://tfhub.dev/google/universal-sentence-encoder/4\"\n",
    "embed = hub.load(model_url)\n",
    "\n",
    "def generate_embeddings(texts):\n",
    "    return embed(texts).numpy()\n",
    "\n",
    "embeddings = generate_embeddings(texts.tolist())\n",
    "\n",
    "embeddings_df = pd.DataFrame(embeddings)"
   ]
  },
  {
   "cell_type": "code",
   "execution_count": 410,
   "metadata": {},
   "outputs": [
    {
     "data": {
      "text/html": [
       "<div>\n",
       "<style scoped>\n",
       "    .dataframe tbody tr th:only-of-type {\n",
       "        vertical-align: middle;\n",
       "    }\n",
       "\n",
       "    .dataframe tbody tr th {\n",
       "        vertical-align: top;\n",
       "    }\n",
       "\n",
       "    .dataframe thead th {\n",
       "        text-align: right;\n",
       "    }\n",
       "</style>\n",
       "<table border=\"1\" class=\"dataframe\">\n",
       "  <thead>\n",
       "    <tr style=\"text-align: right;\">\n",
       "      <th></th>\n",
       "      <th>0</th>\n",
       "      <th>1</th>\n",
       "      <th>2</th>\n",
       "      <th>3</th>\n",
       "      <th>4</th>\n",
       "      <th>5</th>\n",
       "      <th>6</th>\n",
       "      <th>7</th>\n",
       "      <th>8</th>\n",
       "      <th>9</th>\n",
       "      <th>...</th>\n",
       "      <th>502</th>\n",
       "      <th>503</th>\n",
       "      <th>504</th>\n",
       "      <th>505</th>\n",
       "      <th>506</th>\n",
       "      <th>507</th>\n",
       "      <th>508</th>\n",
       "      <th>509</th>\n",
       "      <th>510</th>\n",
       "      <th>511</th>\n",
       "    </tr>\n",
       "  </thead>\n",
       "  <tbody>\n",
       "    <tr>\n",
       "      <th>0</th>\n",
       "      <td>-0.022776</td>\n",
       "      <td>-0.034864</td>\n",
       "      <td>0.039673</td>\n",
       "      <td>-0.020465</td>\n",
       "      <td>-0.047076</td>\n",
       "      <td>0.034509</td>\n",
       "      <td>0.050902</td>\n",
       "      <td>-0.047817</td>\n",
       "      <td>-0.034556</td>\n",
       "      <td>0.035569</td>\n",
       "      <td>...</td>\n",
       "      <td>-0.006126</td>\n",
       "      <td>-0.048756</td>\n",
       "      <td>0.027739</td>\n",
       "      <td>0.012175</td>\n",
       "      <td>-0.043583</td>\n",
       "      <td>-0.041169</td>\n",
       "      <td>0.007851</td>\n",
       "      <td>0.030071</td>\n",
       "      <td>-0.058633</td>\n",
       "      <td>-0.066715</td>\n",
       "    </tr>\n",
       "    <tr>\n",
       "      <th>1</th>\n",
       "      <td>0.064708</td>\n",
       "      <td>-0.059596</td>\n",
       "      <td>0.050324</td>\n",
       "      <td>-0.006950</td>\n",
       "      <td>0.048893</td>\n",
       "      <td>0.033492</td>\n",
       "      <td>-0.002916</td>\n",
       "      <td>-0.021219</td>\n",
       "      <td>0.003312</td>\n",
       "      <td>-0.032547</td>\n",
       "      <td>...</td>\n",
       "      <td>-0.043790</td>\n",
       "      <td>-0.082692</td>\n",
       "      <td>0.077276</td>\n",
       "      <td>0.016575</td>\n",
       "      <td>-0.026107</td>\n",
       "      <td>-0.057580</td>\n",
       "      <td>0.076561</td>\n",
       "      <td>-0.022957</td>\n",
       "      <td>0.001226</td>\n",
       "      <td>-0.073997</td>\n",
       "    </tr>\n",
       "    <tr>\n",
       "      <th>2</th>\n",
       "      <td>0.054768</td>\n",
       "      <td>-0.055792</td>\n",
       "      <td>-0.052570</td>\n",
       "      <td>-0.028063</td>\n",
       "      <td>-0.006749</td>\n",
       "      <td>-0.065960</td>\n",
       "      <td>-0.042303</td>\n",
       "      <td>0.010674</td>\n",
       "      <td>-0.099970</td>\n",
       "      <td>0.057676</td>\n",
       "      <td>...</td>\n",
       "      <td>0.001045</td>\n",
       "      <td>0.018698</td>\n",
       "      <td>0.004154</td>\n",
       "      <td>0.045637</td>\n",
       "      <td>0.056234</td>\n",
       "      <td>-0.037836</td>\n",
       "      <td>-0.000852</td>\n",
       "      <td>0.081776</td>\n",
       "      <td>0.015328</td>\n",
       "      <td>-0.091352</td>\n",
       "    </tr>\n",
       "    <tr>\n",
       "      <th>3</th>\n",
       "      <td>0.059520</td>\n",
       "      <td>-0.024957</td>\n",
       "      <td>-0.004416</td>\n",
       "      <td>0.028853</td>\n",
       "      <td>-0.009950</td>\n",
       "      <td>0.042348</td>\n",
       "      <td>0.054503</td>\n",
       "      <td>0.008530</td>\n",
       "      <td>0.005767</td>\n",
       "      <td>0.007712</td>\n",
       "      <td>...</td>\n",
       "      <td>-0.022986</td>\n",
       "      <td>-0.019342</td>\n",
       "      <td>0.085032</td>\n",
       "      <td>-0.080750</td>\n",
       "      <td>0.015194</td>\n",
       "      <td>-0.042662</td>\n",
       "      <td>0.029853</td>\n",
       "      <td>0.008092</td>\n",
       "      <td>-0.022786</td>\n",
       "      <td>-0.110640</td>\n",
       "    </tr>\n",
       "    <tr>\n",
       "      <th>4</th>\n",
       "      <td>-0.006367</td>\n",
       "      <td>-0.012220</td>\n",
       "      <td>0.065035</td>\n",
       "      <td>0.039759</td>\n",
       "      <td>0.044266</td>\n",
       "      <td>0.023789</td>\n",
       "      <td>-0.003222</td>\n",
       "      <td>-0.009262</td>\n",
       "      <td>-0.039947</td>\n",
       "      <td>0.003795</td>\n",
       "      <td>...</td>\n",
       "      <td>0.005564</td>\n",
       "      <td>-0.159424</td>\n",
       "      <td>0.011605</td>\n",
       "      <td>-0.003149</td>\n",
       "      <td>-0.001586</td>\n",
       "      <td>-0.041268</td>\n",
       "      <td>-0.034278</td>\n",
       "      <td>-0.019856</td>\n",
       "      <td>0.038922</td>\n",
       "      <td>-0.026927</td>\n",
       "    </tr>\n",
       "  </tbody>\n",
       "</table>\n",
       "<p>5 rows × 512 columns</p>\n",
       "</div>"
      ],
      "text/plain": [
       "        0         1         2         3         4         5         6    \\\n",
       "0 -0.022776 -0.034864  0.039673 -0.020465 -0.047076  0.034509  0.050902   \n",
       "1  0.064708 -0.059596  0.050324 -0.006950  0.048893  0.033492 -0.002916   \n",
       "2  0.054768 -0.055792 -0.052570 -0.028063 -0.006749 -0.065960 -0.042303   \n",
       "3  0.059520 -0.024957 -0.004416  0.028853 -0.009950  0.042348  0.054503   \n",
       "4 -0.006367 -0.012220  0.065035  0.039759  0.044266  0.023789 -0.003222   \n",
       "\n",
       "        7         8         9    ...       502       503       504       505  \\\n",
       "0 -0.047817 -0.034556  0.035569  ... -0.006126 -0.048756  0.027739  0.012175   \n",
       "1 -0.021219  0.003312 -0.032547  ... -0.043790 -0.082692  0.077276  0.016575   \n",
       "2  0.010674 -0.099970  0.057676  ...  0.001045  0.018698  0.004154  0.045637   \n",
       "3  0.008530  0.005767  0.007712  ... -0.022986 -0.019342  0.085032 -0.080750   \n",
       "4 -0.009262 -0.039947  0.003795  ...  0.005564 -0.159424  0.011605 -0.003149   \n",
       "\n",
       "        506       507       508       509       510       511  \n",
       "0 -0.043583 -0.041169  0.007851  0.030071 -0.058633 -0.066715  \n",
       "1 -0.026107 -0.057580  0.076561 -0.022957  0.001226 -0.073997  \n",
       "2  0.056234 -0.037836 -0.000852  0.081776  0.015328 -0.091352  \n",
       "3  0.015194 -0.042662  0.029853  0.008092 -0.022786 -0.110640  \n",
       "4 -0.001586 -0.041268 -0.034278 -0.019856  0.038922 -0.026927  \n",
       "\n",
       "[5 rows x 512 columns]"
      ]
     },
     "execution_count": 410,
     "metadata": {},
     "output_type": "execute_result"
    }
   ],
   "source": [
    "embeddings_df.head()"
   ]
  },
  {
   "cell_type": "markdown",
   "metadata": {},
   "source": [
    "# Tsne"
   ]
  },
  {
   "cell_type": "code",
   "execution_count": 411,
   "metadata": {},
   "outputs": [
    {
     "data": {
      "application/vnd.plotly.v1+json": {
       "config": {
        "plotlyServerURL": "https://plot.ly"
       },
       "data": [
        {
         "customdata": [
          [
           "pozgłaszać cwiczenie analiza dostać trochę plus",
           "Neutral"
          ],
          [
           "polecać wziąć serce rada j",
           "Neutral"
          ],
          [
           " zajęcia starać  mogła em nadgonić grupa zdawać em matura anglik znaleźć em b",
           "Neutral"
          ],
          [
           "sluchać zajeci zrobić dom zadanek powinienes problemow zaliczyc",
           "Neutral"
          ],
          [
           "zajęcia nudny sprawdzać obecnosci",
           "Neutral"
          ],
          [
           "cóż",
           "Neutral"
          ],
          [
           "prawde mowiac uczucie mieszany",
           "Neutral"
          ],
          [
           "krotko grupa zaliczylać oddal nikt jeden sprawka",
           "Neutral"
          ],
          [
           "human odzywać robić polcać nastawiać obecność dobry ocena",
           "Neutral"
          ],
          [
           "zajęcia prowadzić luz wymagać",
           "Neutral"
          ],
          [
           "kurs algebro geometria analityczny ocena",
           "Neutral"
          ],
          [
           "choc totalny tajfun tablica chwila Poprawiac facet spoko",
           "Neutral"
          ],
          [
           "chyba algebrze inaczej",
           "Neutral"
          ],
          [
           "niektóry v",
           "Neutral"
          ],
          [
           "przyłapanie ściąganiu dany praca",
           "Neutral"
          ],
          [
           "co prosty trochę pomęczyć sprawdzić wytrwałość wink przedmiot traktować poważnie praca nosić czas duży problem",
           "Neutral"
          ],
          [
           "sam labork robić zbyt",
           "Neutral"
          ],
          [
           "pisemny test gramatyka uzupełnianka obszerny przejścia poprawka",
           "Neutral"
          ],
          [
           "mówić profesor jesst ciekawy nieraz potrafić zainteresować minus mówić",
           "Neutral"
          ],
          [
           "oczywiscie odda d",
           "Neutral"
          ],
          [
           "prawda wykład średnio ciekawy wykonać folia pozostawiać życzenie",
           "Neutral"
          ],
          [
           "minus SA test dokładni poziom choc martwic niezaliczen pierwszy termin drugi łatwo zaliczaja",
           "Neutral"
          ],
          [
           "zdarzyc błąd",
           "Neutral"
          ],
          [
           "ocena obecność uważać lubić gadający zdarzać postawić nazwisko kropke",
           "Neutral"
          ],
          [
           "pierwszy termin wyklad zaliczylo osoba drugi dobrze wiec mozesz zalicz przedmiot inny wykladowca cwiczenie przepisac ocene wyklada mieć spokoj zrobil zero stres",
           "Neutral"
          ],
          [
           "dzielil sala grupa zazwyczaj pierwszy grupa mial zadanie najlatwiejy zle",
           "Neutral"
          ],
          [
           "wiedzieć czegos nauczyc majac wczesniej styk pp trochy rzecz glowo rozjasnilo mazanie folia",
           "Neutral"
          ],
          [
           "napisac kolokwi zdazaja rzadko kartkowka",
           "Neutral"
          ],
          [
           "lab przejść pobiegać pochodzić konsultacja chyba czuć radość student przychodzić",
           "Neutral"
          ],
          [
           "jedyny uwaga znajdziesz tablica waz slowy",
           "Neutral"
          ],
          [
           "zajecia chodzić oddać zrobić uratowac oblać podwyższyc ocene",
           "Neutral"
          ],
          [
           "koło zdanie łatwy",
           "Neutral"
          ],
          [
           "opinia podstawa kurs płyn ii zeszłoroczny prowadzić zajęcie zrozumiać potrafić nauczyć",
           "Neutral"
          ],
          [
           "zadanie egzamin latwy nalezać ukladajać pracownik wiec co spodziewac ocena ogólny średnio jeża",
           "Neutral"
          ],
          [
           "ocene podwyższać referat wystąpienie przypadek seminarka",
           "Neutral"
          ],
          [
           "informatyk ogólnie źle robić śmy ćw móc śmy przećwiczyć dom łatwy temat sposób spisać kod napisany dom przeróżny korzystać książka gł źródło dodatkowy wiedza kartkówka nei trudny przyjmować projekt pytać wiedzieć chodzić koniec okazać program zaliczeniowy oddawać luz podnosić ocena ponoć robić to znaczy dokr ę",
           "Neutral"
          ],
          [
           "zajmować góra dzień zwłaszcza odpowiedź sa wspólnie opracowywać student",
           "Neutral"
          ],
          [
           "pytanie laborka potrafić ciężki wylecieć koniec laboratorium reguła grupa bedą zapytać cały zajęcia",
           "Neutral"
          ],
          [
           "dostać trzy trochę postarać",
           "Neutral"
          ],
          [
           "inny ćwiczenia",
           "Neutral"
          ],
          [
           "podobno niedawn postrach głównie sprawa fizyka ii mój kadencja zmiękł chociaż nadal trudno",
           "Neutral"
          ],
          [
           "mieć zdanie rozmowa bedziesz zupelć robić byle mieć nieobecność zaliczyć",
           "Neutral"
          ],
          [
           "zaliczenie podstawa obecność",
           "Neutral"
          ],
          [
           "robić jeden zapowiedziać wejściówkea bodajże trzeci laboratorium",
           "Neutral"
          ],
          [
           "wymagać absolutny cisza słuch wzrok absolutny usłyszeć wypatrz",
           "Neutral"
          ],
          [
           "przyłożyć nauczyć aha lubić spóźniać",
           "Neutral"
          ],
          [
           "górniak wymagający dawać raczej standardowy zadanie skrypt",
           "Neutral"
          ],
          [
           "chodzić zajęcia wiadomo póki przyjść prowadzić rozgrzewać piłka każdy czas robić mały rozgrzewke konkurs wyścig rząd konkurs zucania dwutakt lewy ręka potać grać zespół system wybierać student najczeście grać mecz rewanż grać mecz streetball potem grać cały boisko",
           "Neutral"
          ],
          [
           "zaliczyć oddać wypracowanie napisać koło niewiele zdecydować",
           "Neutral"
          ],
          [
           "kazde cwiczenie zadan grupa ocena teza grupowy system oceniać chaotyczny zgodnie motto korzysc student raca e",
           "Neutral"
          ],
          [
           "koło zwykle łatwy należeć człowiek troszkę postarać zaliczyć problem",
           "Neutral"
          ],
          [
           "zwyczajnie pytać rzecz zwykle pomijać wydawać małoistotny",
           "Neutral"
          ],
          [
           "zaliczenie strona internetowy wymyśloć firma biznes plan",
           "Neutral"
          ],
          [
           "koniec wyklad dawać pytanie SA wybierać egzamin trudno zaliczyc",
           "Neutral"
          ],
          [
           "obnizyl prog zaliczenie punkt shock generalnie zle pozatym air inny wybór",
           "Neutral"
          ],
          [
           "podpisywać opinia poprzednik wszystek klawisza klawiatura",
           "Neutral"
          ],
          [
           "odpowiadać pytanie głośno zdecydowanie",
           "Neutral"
          ],
          [
           "wyklad lubić dygresja zarcik zamotać wlasny wyprowadzenia fizyk cwiczyć raz uciekl cwiczen pokluceć portier przyszedl dol powiedzial cwiczeniowiec nakrzyczal portier uciekl nieznany potrafić rozwlec rozwiazywać zdanie listy robic par cwiczen dawać punkt zadanek zglosić poznie procentować skubaniec umieć zapamietacć wskazac dany osobe sala wykladowy zwrocic nazwisko oplacać isc konsultacja szczegolnie ii kolokwium obecny dostać nadzwyczaj duze ilosci punktow duzy kol na przykład dostal punktow dalo ladny czworeczke",
           "Neutral"
          ],
          [
           "kolokwiać kartkówka ewentualnie aktywność należeć najprostrzy uczyć robić zadanie skrypt spokojnie mieć",
           "Neutral"
          ],
          [
           "kolokwium zaliczniowy ćwiczen wygladać nastepująco",
           "Neutral"
          ],
          [
           "Marcin szxxxak mgr fizykać ćwiecznie wppt ib ocena tendencja zwyżkowy b ogólnie zły prowadzący",
           "Neutral"
          ],
          [
           "wymagać przesadzać trochy uczyć problem",
           "Neutral"
          ],
          [
           "ogólnie ambitny warto chcieć przejśc warto zapisac sens chodzic wykład trochę własny praca",
           "Neutral"
          ],
          [
           "oczywiscie skrypt prowadzac sa biblia",
           "Neutral"
          ],
          [
           "inaczej wahać pan apostoluk pani kołodzi wiedzieć kto wybrać",
           "Neutral"
          ],
          [
           "niestety zaliczeć łatwo kolokwie oceniać system generalnie być bieżąco zdać",
           "Neutral"
          ],
          [
           "profesor miły osoba człwiek wykłada chemia analityczny rzeczywiście delikatnie rzecz ujmować podpowiadać pytanie niemniej niekiedy wykład prowadzić liczny dygresj miły przyjemnie mijać czas co uczyć",
           "Neutral"
          ],
          [
           "kurs algebro geometry analityczny wykład gosć swój świat wygnieciyć wyspać balować cały dno noc",
           "Neutral"
          ],
          [
           "wyczyta nieobecny osoba czytać kolejny zajęcia",
           "Neutral"
          ],
          [
           "matematyka nauczyć umieć skrypt nauczyc zapić",
           "Neutral"
          ],
          [
           "ocena przejście Jerzy całkiem fajny matematyk prawda dosyć ekscentryczny zły móc wydawać",
           "Neutral"
          ],
          [
           "naprawde",
           "Neutral"
          ],
          [
           "dać ściągać współpracować zdarzać sytuacja zaliczyć osoba ściągać ściągać niestety",
           "Neutral"
          ],
          [
           "piec kartkowek wejsciowka sa podstawa zaliczeć",
           "Neutral"
          ],
          [
           "sprawdzać obecnosci dawać ocene praktyka krotka rozmowa naprawde m student sluchajać",
           "Neutral"
          ],
          [
           "pytac ustć",
           "Neutral"
          ],
          [
           "zajecia porywajace zbytnio interesujace wiec pelnia polecać",
           "Neutral"
          ],
          [
           "oddawać sprawozdanie coś ważny",
           "Neutral"
          ],
          [
           "mówić sprawa niezwiązany przedmiot",
           "Neutral"
          ],
          [
           "wytłumaczyć czas pytać rozumieć rozumieć dany dział tłumaczyć potwierdzać zrozumilei koło raczej trudny liczyć dopytke koniec niezdawać swój wada ciekawa postacie czesto zagłebiać wykładzie temat",
           "Neutral"
          ],
          [
           "sala osoba potrafić śmiać prosto twarz",
           "Neutral"
          ],
          [
           "inny kola",
           "Neutral"
          ],
          [
           "projekt specjalnie rozbudować ładnie wyglądać mieć elegancki zrobiyć dokumentacja pokazywać ładny wykres",
           "Neutral"
          ],
          [
           "byl absolutnie _ _ cwiczen dopytka dostal wiec lagodny chodzacy",
           "Neutral"
          ],
          [
           "Kotarba Wiesław profesor",
           "Neutral"
          ],
          [
           "raz udać zaliczyć ostatni poprawka zaliczyć przepisać zadanie list przepić wszytki większość to znaczy mieć lista zrobić przejść",
           "Neutral"
          ],
          [
           "eit cz elektroniczny razem profesor",
           "Neutral"
          ],
          [
           "zauwazylać pilnować wstawianie plus aktywnosc cwiczenie ostatecznie przejmować wiedzieć dolicz punkt koło pary raz tablica bylam zostalo doliczyć pół punkt",
           "Neutral"
          ],
          [
           "reszta zadanie standard maga c",
           "Neutral"
          ],
          [
           "zaliczenie wymagać napisać dwa koło",
           "Neutral"
          ],
          [
           "oczywiscie koniec mieć odfajkować inaczej siedzić zrobić wszystko",
           "Neutral"
          ],
          [
           "raczej narzekać rewelacja",
           "Neutral"
          ],
          [
           "rrowadzić zarówno wykład ćwiczenie",
           "Neutral"
          ],
          [
           "wykład wykład sam skrypt",
           "Neutral"
          ],
          [
           "chodzić wykład wemif ie człowiek chyba wybór chyba doktor juszkiewicz wykładać",
           "Neutral"
          ],
          [
           "ćwiczenie warto przygotować błyskać każdy zajęcia zapamiętać",
           "Neutral"
          ],
          [
           "robić kartkówka",
           "Neutral"
          ],
          [
           "doktor",
           "Neutral"
          ],
          [
           "doktor chemik prowadzić kurs nasz wydział d rzecz",
           "Neutral"
          ],
          [
           "praktycznie pytać każdy zajęcia tyle grupa em szczeście pytać prawi każdy",
           "Neutral"
          ],
          [
           "zdecydujeć chodzic wykład pamiętać zajęcia punktualnie koleś zamykać drzwi koło sala każdy sala pilnować osoba ściagac dać rade",
           "Neutral"
          ],
          [
           "ocena wystawiać własć podstawa obecność",
           "Neutral"
          ],
          [
           "fakt zadać koło specyficzny",
           "Neutral"
          ],
          [
           "doktor t kowal chemia nieorganiczny ii ćwiczenie ocena pozytywny b specyficzny prowadzić zajęcia",
           "Neutral"
          ],
          [
           "umieć wytłumaczyc trudny zadanie chociaz naprawde trudniejy miły chęć omiajał mówić prosty trudny być liczyc koło d zrobić par zapowiedziany kartkówka każdy punkt",
           "Neutral"
          ],
          [
           "mieć nieusprawiedliwioną reszte usprawiedliwiac chyba odrabiać zanizać ocene końcowy",
           "Neutral"
          ],
          [
           "przepisować skrypt tablica",
           "Neutral"
          ],
          [
           "kurs angielski b e średnio jeża b kurs bezstresowy niezapowiedziany kartkówka zapowiedziany zresztą",
           "Neutral"
          ],
          [
           "ocena ujść ciężko dorwać",
           "Neutral"
          ],
          [
           "większośc zajęcia prowadzący uczyć pływać kilka grać śmy piłka polecać kurs odpłatny złoty",
           "Neutral"
          ],
          [
           "suma bezstresowy zajęcie dopóki kolokwium",
           "Neutral"
          ],
          [
           "chodzić sala hmmmm",
           "Neutral"
          ],
          [
           "zgadzać powyzszy opinia",
           "Neutral"
          ],
          [
           "cztery zapowiedziać kartkówka mogące dodać cztery dodatkowy punkt pula punkt kolokwi",
           "Neutral"
          ],
          [
           "chyba fanatyk swój dziedzina trochy pamietać wiekszosć koniec zdać",
           "Neutral"
          ],
          [
           "zajeci naleza cicho osoba gadajaca przylapać moge miec obnizonać ocene",
           "Neutral"
          ],
          [
           "zadanie robić",
           "Neutral"
          ],
          [
           "żaden gadać przedmiot popchnięty przód",
           "Neutral"
          ],
          [
           "achi temat kurs międzynarodowy standard praca raczej międzynarodowy organizacja praca prowadzący głowny człowiek taki",
           "Neutral"
          ],
          [
           "chcieć zrobić",
           "Neutral"
          ],
          [
           "według minuta trochy",
           "Neutral"
          ],
          [
           "jeśio usłyszeć być wykłaść sala wałbrzyski dobrze siadać rząd daleko nikły szansa usłyszeć",
           "Neutral"
          ],
          [
           "prowadzić wykładu patrzeć podłoga bać student d zaliczeć sem sprawdzać raz obecność przynajmniej raz zaliczyć",
           "Neutral"
          ],
          [
           "tyle liczba nagy prawda d pierwszy kolo latwo problemow zaliczyc troszkę pouczylo zrozumialo podstwa",
           "Neutral"
          ],
          [
           "lubić pożartować lekcja trzymać plan lekcja żart lekcja prowadzić mówić francuski",
           "Neutral"
          ],
          [
           "siakoś",
           "Neutral"
          ],
          [
           "założenie zaliczyć punkt praktyka punkt",
           "Neutral"
          ],
          [
           "forma dowolny referat rozprawka opowiadać dialog wiersz objętość strona maksymalć dwa",
           "Neutral"
          ],
          [
           "zazwyczaj wcześnie uprzedzać koło",
           "Neutral"
          ],
          [
           "ogólnie bwe pikuś",
           "Neutral"
          ],
          [
           "pytać każdy zjawisko cokolowiek wspólny dany ćwiczenie",
           "Neutral"
          ],
          [
           "widzieć uwaga sluchacza zaczynać uciekac opowiedzieć kawal anegdota historyjka pora wykladow masakryczna przynajmniej",
           "Neutral"
          ],
          [
           "mówić staropolski powiedzeć andr",
           "Neutral"
          ],
          [
           "znać minimum fizyka wersja profesor",
           "Neutral"
          ],
          [
           "docent powiedzieć inaczej",
           "Neutral"
          ],
          [
           "początek zaznaczać kurs teleinformatyka teoria obwód nazwa straszny twisted profesro stary przychodzić swój kartka przepisować tablica zwracać uwaga dziać sala koniec podawać zagadnienie koło przysc e gotowc opracowany sciąge",
           "Neutral"
          ],
          [
           "szukać klucz wielkość brać em uwaga to znaczy yato neo wzgląd duży rozstaw szczęk kupić em yato akurat dostępny pobliski sklep niski cena pyzatym część narzędzie firma sprawdzać rozpakować trochę rozczarować em sprawa regulowany szczęka rok bok sztywny duży klucz posiadać szerokość szczęka ruchomy duży szerokość nieruchomy prawdopodobnie luźny proces obróbka odchylać boka kolejny minus zablokować sworznia mianowicie nacięcie jakiś tarcza szlifierski plus ergonomiczny gumowy rączka otwor użyć klucz oczkowy zawieszić wiec klucz spełniać swój rola ideał człowiek ceniący zarówno funkcjonalność jakość wykonać",
           "Neutral"
          ],
          [
           "długo szukać metr odpowiedni fotelik wysoki latka wcześnie użytkować metr fotelik kilogram duży producent podawać kilogram niestety trochę wyrost chociaż teoretycznie dziecko mieścić środkowy przedział wagowy kilogram fotelik okazać zbyt mały maksymalnie wysuniętym zagłówek głowa dziecko dotykać górny krawędź fotelik wyobrażać fotelik służyć następny rok fotelik wyglądać solidnie myśleć świetnie nadawać fotelik następny nosidełko",
           "Neutral"
          ],
          [
           "krzesełko ładny kolorystyka przydatny regulacja siedziski oparcie szybko wyczyścić pokryć specjalny materiał wnikać woda oprócz sam minus dziecko poci krzesełko straszliwie wzgląd materiał krzesełko ciężki kółeczka przód uniemożliwiać przesuwanie zajmować sporo miejsce kosztować sporo wiedzieć rynek droższe osobiście drugi metr kupić",
           "Neutral"
          ],
          [
           "dobry wytrzymać obudowy plus przemawiać niezły odprowadzać ciepło wytrzymać konstrukcja solidny wykonanie atrakcyjny wygląd obudowy niestety wada niestabilny przypadek niektóry stary komputer przyczyna duży wymaganie prądowy chodzić port usb drugi widoczny wada fakt dysk zamontowanie sztywny wyczuć wyraźny poruszać obudowa drgani wpływać wydajność wytrzymałość dysk brać uwaga dysk należeć traktować delikatnie wada pominąć polecać obudowa",
           "Neutral"
          ],
          [
           "bazyl dwuletni buldog francuski ulubieńc cały nasz rodzinka borykać alergia szczególny uwaga zwracać karma który wybierać testować śmyć różny karm weterynaryjny gotowany mięso różny skutek spory problem częsty niespodziewany gaz K",
           "Neutral"
          ],
          [
           "pierwszy krem twarz używać metr tani wydajny natłuszczać skóra ogromny zaleta szczególnie zima krem nijaki polecać używać lato ciepły dzień skóra świeta tłusty krem swój zapach przepadać zbyt ciężki mocny krem twarz zdanie odpowiedni osoba stary zależeć ochrona skóra mroz pamiętać nadawać makijaż wyglądać brzydko nienaturalnie polecać mroza",
           "Neutral"
          ],
          [
           "szczerze wiedzieć polecać drogeri wow mieć metr rozstęp początkowy faza używać olejku widzieć rozstęp głębsz brzydsz wyglądać przyzwoicie pójść metr dermatológ przepisać maść pomału naprawiać błąd olej zdanie stracić metr pieniądz jedyny plus olejek nawilża skóra osoba skóra suchy zdecydowanie zadowolony",
           "Neutral"
          ],
          [
           "lodowka fajnie prezentować pojemny półka praktycznie rozplanować nieco głośna iść przyzwyczaić wydawać trochy dzwięek tradyzyjć lodówka własnie popsuć wymieniać rok sprzetu polecać wiedzieć trafić feralny model sklep agd potwierdzić firma beko rozreklamować wraz wzrot zainteresowanie stracić jakość dobrze wydać pary złoty mieć spokój parę rok",
           "Neutral"
          ],
          [
           "bohater film chłopiec stefek siostra elka mieszkać matka mały miasteczko życie określić dziwny stefek codziennie obserwować swój ojciec stacja kolejowy ojciec zostawić rodzina odejść inny kobieta chłopiec pogodzić zrozumieć stosować różny sztuczka wpłynąć ojciec los plan pełnia dopracoweć zmusić ojciec odwiedzić matka międzyczas elka rozmowa praca",
           "Neutral"
          ],
          [
           "spośród szlifiereka metabo wqw hitachi gva skillć dewalt okazal dobry pracować dobrze metabo poręczniejszać pracownik woleć dewalta przegrzewać zwyczajnie mocny rok wysyć być serwis nadzwyczaj sprawnie szybko działać zaznaczyć żę pracować duuużo ciężko często przystawka satynować duży obciążenie polecać dewalt lekko hitachi zdecydowanie droższy system regulacja obrót obciążenie świrywać",
           "Neutral"
          ],
          [
           "użytkować miesiąc awaryjność powiedzieć polecać mały łazienka fajny funkcja fresh matic spłuczka móc załadować środek zapachowo dezynfekcyjć kształt niebieski kredka aplikacja przekombinować działać kupić  miska style koniec polecę praktyczny korzystać niestety trochę odbijać powierzchnia miska winien profil miska przepraszać obrazowo konkretnie pozdrawiać",
           "Neutral"
          ],
          [
           "chyba spodziewać metr coś kosmetyk słyszać metr tyle słowo zachwyt kosmetyk zbyt ciepły tonacja uważać zrobić plamć twarz wykluczać spowodować brak umiejętność makijażowy plus fajny matowy wykończenie brak świecący drobinek piękny wytrzymały opakowanie ważny podróżować zdarzać kosmetyk niszczyć transport puder zaliczyć lot stolik lądowanie podłoga test odporność zdać celująco zmieniać fakt raczy kupić kolejny kosmetyk",
           "Neutral"
          ],
          [
           "pilot funkcjonalnie pierwszy klasa dosłownie sterować ogromny baza sprzęt możliwość dowolny konfigurować super wygląd podświetleć klawiszyć auto wyłączać ekran niestety jakość wykonać pozostawiać życzenie konkretnie klawisz użytkować zacinać pierwszy egzemplarz wymienić nowy drugi tez identyczny problem klawisz niestety rozebrać iść próbować em stary wystarczyć wyczyścić gumek wymienić styka węglowy dom pilota sprzęt audioa kilkanaście rok działać zarzut",
           "Neutral"
          ],
          [
           "pierwszy wrażenie pozytywny czytelny wyświetlacz am działać płynnie kończyć zaleta urządzenie navroad s bateria działać max minuta ładować cały urządzenie mocno grzeć znaczącą temperatura odczuć minuta sparować urządzenie telefon chcieć użyć zestaw głośnomówiący usłyszyć niewyraźny bełkot nadawać urządzenie głośnomówiący chodzić pojemność bateria przegrzewanie urządzenie krążą opinia foer serwis odsyć urządzenie opisować działo niestety nawigacja wyłączać godzina praca pomagać kilkukrotny rozłączć uchwyt ładujący sens pisać zalet urządzenie skoro brak możliwość normalny korzystać urządzenie trasach powyżej godzina mówić np godzina dwa kierowc oczywiście przykro urządzenie zaawansowany sprawować powyższy navroad zadowoleć urządzenie przegrywać niezadowolen urządzenie zadowalać odmawiać posłuszeństwo rok serwis navroad odmówić naprawa płatny wzgląd brak część",
           "Neutral"
          ]
         ],
         "hovertemplate": "Label=%{customdata[1]}<br>Dim1=%{x}<br>Dim2=%{y}<br>Text=%{customdata[0]}<extra></extra>",
         "legendgroup": "Neutral",
         "marker": {
          "color": "dodgerblue",
          "size": 10,
          "symbol": "circle"
         },
         "mode": "markers",
         "name": "Neutral",
         "orientation": "v",
         "showlegend": true,
         "type": "scatter",
         "x": [
          1.2220291,
          -2.2355404,
          -0.32086325,
          0.32715344,
          -1.6455543,
          -0.39093643,
          -0.5276053,
          -0.13844332,
          -0.06823004,
          -2.4921618,
          -3.2167008,
          1.7911484,
          0.23932883,
          -0.61789495,
          -0.0826066,
          0.5243933,
          0.72773725,
          -0.28747216,
          -0.902781,
          1.2880443,
          -1.2200372,
          -0.3150151,
          -0.46493408,
          -0.33994624,
          -0.45174727,
          -0.28479615,
          -0.8050409,
          -0.35960385,
          -1.074902,
          2.3030598,
          -1.0553943,
          1.3240731,
          -0.14167996,
          -0.69293535,
          -0.58885425,
          -0.017890569,
          -0.5690792,
          -0.50333726,
          1.3235778,
          2.32992,
          -0.3820389,
          0.05627932,
          0.11129475,
          0.7007021,
          -0.86679703,
          0.5786948,
          1.4406394,
          -1.6334716,
          1.2962953,
          -1.0396755,
          1.3189874,
          -0.37095314,
          2.2677748,
          0.37283134,
          2.1276975,
          0.191071,
          -0.19556838,
          -0.30506018,
          0.97193766,
          -0.966524,
          -1.7207735,
          -0.7163538,
          -1.9792647,
          1.3207722,
          -0.64125365,
          -0.65998477,
          -2.2379863,
          -2.9775882,
          -1.4590564,
          0.73248345,
          -1.5149007,
          -2.3039196,
          -0.6285022,
          0.16614467,
          -0.965955,
          -0.39093643,
          -1.5415983,
          -1.5158671,
          -0.6418265,
          0.43542308,
          -1.2777221,
          2.3582537,
          -0.43779966,
          -0.5660334,
          -1.3170251,
          0.120882034,
          -1.3279303,
          1.1287222,
          1.2197417,
          1.7727572,
          0.9987455,
          1.9696735,
          -2.4163191,
          -3.2875822,
          -1.9661769,
          -1.9319929,
          0.6911821,
          -3.3413491,
          -3.156979,
          -0.13629654,
          -1.3718258,
          0.040321648,
          1.3427042,
          -2.7962966,
          0.492141,
          -0.7709831,
          2.0116973,
          -1.2385602,
          -0.8350102,
          -1.9216721,
          -1.0084933,
          -1.3983787,
          0.10831509,
          0.92537665,
          -0.85974675,
          -0.5996166,
          1.0243988,
          -0.4884345,
          -0.56695855,
          1.1828228,
          -0.76719373,
          -0.6764127,
          -0.9394359,
          0.33520278,
          -2.4065084,
          -0.75550306,
          1.038647,
          1.4758052,
          1.3136982,
          -2.186343,
          -0.11186446,
          2.3170981,
          -0.7671618,
          -1.2862452,
          0.26099086,
          1.9708892,
          0.5737488,
          0.7004274,
          -0.48930928,
          1.0622073,
          2.1220012,
          -0.3258364,
          -0.14353712,
          -0.47369212,
          2.0957632,
          0.3203251,
          1.1085391,
          -0.25191706,
          -0.13305205,
          0.2335631
         ],
         "xaxis": "x",
         "y": [
          -0.5396549,
          1.7680286,
          -1.1574886,
          0.704314,
          -1.202139,
          -0.33608168,
          -0.6697381,
          0.36927766,
          2.5594723,
          -1.5882392,
          1.0374565,
          -1.4338523,
          -3.303041,
          -0.589322,
          0.7892486,
          -0.2451719,
          1.723616,
          -0.18293032,
          -2.6324296,
          -3.3357894,
          -0.9016495,
          0.1270623,
          -0.41231975,
          2.4293506,
          -0.26159716,
          0.41594863,
          -1.5658317,
          -0.36359903,
          0.16592208,
          -1.4115455,
          0.10066274,
          0.478623,
          -2.4146538,
          1.7652001,
          -0.11193814,
          1.5803946,
          -0.0531901,
          0.38973266,
          -0.5678117,
          -0.103870004,
          -2.157554,
          0.05804175,
          2.900251,
          1.3948567,
          -1.2089125,
          -2.4352765,
          1.4229813,
          0.50495416,
          0.3863858,
          0.7327139,
          0.4550977,
          1.1513455,
          0.90110385,
          0.73089755,
          0.32546848,
          -2.4704444,
          -0.21479888,
          -0.09809911,
          1.6942931,
          1.2965771,
          2.1567655,
          -1.2417834,
          -3.0281618,
          -3.3197322,
          -1.8761258,
          0.5581713,
          -0.67085737,
          0.8417696,
          -1.107163,
          -2.3593616,
          1.3281087,
          -3.631791,
          -0.10115931,
          2.4191136,
          -0.658522,
          -0.33608168,
          0.9402161,
          -1.7049304,
          -2.7738335,
          0.8171588,
          -0.5741981,
          -0.10448395,
          -0.49929842,
          -0.0436846,
          -2.6543226,
          0.049024023,
          -2.641854,
          -0.17093956,
          1.8093137,
          0.7278321,
          -3.1881452,
          1.2998043,
          -0.7853124,
          -1.0900518,
          -0.5870936,
          -1.4858305,
          1.7956578,
          -0.71190864,
          -0.8687296,
          1.1308042,
          -0.59104574,
          2.8841314,
          0.444306,
          -0.09183025,
          0.22826211,
          -0.31573877,
          -1.6240678,
          1.300179,
          2.0971878,
          1.3720496,
          1.2671105,
          -0.48005337,
          -2.539541,
          -0.013652831,
          -0.98028666,
          -0.12738255,
          1.8859689,
          -2.6229017,
          0.9227042,
          -2.3835154,
          -1.3518503,
          -0.83149,
          0.18372399,
          0.77187896,
          -2.1695018,
          -0.52226776,
          -0.04326698,
          -0.42730734,
          0.43707088,
          2.9026616,
          1.1500212,
          -1.2618302,
          -2.8829608,
          -2.565313,
          -3.324706,
          -1.3583962,
          -0.9804304,
          -0.5110506,
          -1.7211679,
          -1.1050593,
          -0.67249656,
          -0.40928283,
          -0.5387134,
          -0.9196853,
          -0.31010503,
          -0.5906341,
          -0.96561927,
          -0.5547918,
          -0.6450085,
          -1.7417665
         ],
         "yaxis": "y"
        },
        {
         "customdata": [
          [
           "luzacki prowadzić",
           "Positive"
          ],
          [
           "fizyk laborek polecać b tadeusz wporzadek facet początkowo wydawać groźny zapowiedzieć pierwszy zajęcia kartkówke zdołać przestraszyć sam siebie chyba p kartkówka sa specyficzny część grupa część marudź",
           "Positive"
          ],
          [
           "algebro geom analityczny polecać em wykład fajny podejsec student tez czlowieka mylić przyznale bledow",
           "Positive"
          ],
          [
           "duza częśc grupa zaliczyć kolokwia",
           "Positive"
          ],
          [
           "ogólnie polecać",
           "Positive"
          ],
          [
           "zaliczenie raczej problem",
           "Positive"
          ],
          [
           "doktor czylelć jasno prowadzić wykład chodzić suma musieć uczyc",
           "Positive"
          ],
          [
           "kisielewsko metr mgr pływać polecać b ocena obecnosc",
           "Positive"
          ],
          [
           "zasada prosty kolokwia zadanie ćwiczenie egzamin żądź p mastalerz niewtajemniczony ulubiić ksiazek prowadzący profesor skarżewski człowiek sympatyczny chociaż przypadek ocena proponować metr żaden dyskusja chyba polecać",
           "Positive"
          ],
          [
           "Małgorzata chętny pomoc trudniejszy zadani",
           "Positive"
          ],
          [
           "pogadać zagadać spytac",
           "Positive"
          ],
          [
           "kartkówka tez pytać",
           "Positive"
          ],
          [
           "dopiero miara luz zdać najwięcej osoba",
           "Positive"
          ],
          [
           "prowadzić przejrzyście",
           "Positive"
          ],
          [
           "sporo dowiedziec",
           "Positive"
          ],
          [
           "niesamowity poczucie humor ciagle wstawka rozsmieszeć towarzystwo i tak dalej",
           "Positive"
          ],
          [
           "ogólnie polecać",
           "Positive"
          ],
          [
           "puścić listy potem stwierdzić daleko czytać szybko niedziwie człowiek wpisywać obecność wcześnie zapas d hehe em nieobecność chyba dać dogadać lu zwolnić przynieść d uznawać d",
           "Positive"
          ],
          [
           "wprost chcieć przychodzić",
           "Positive"
          ],
          [
           "zajęcia prowadzić ciekawy potrafić przekazywać wiedza",
           "Positive"
          ],
          [
           "ogólnie polecać human punkt",
           "Positive"
          ],
          [
           "fajny kontakt student",
           "Positive"
          ],
          [
           "wyjątkowo miły człowiek nieco zestresować obecność świat człowiek radzić patrzenie podłoga podobno pomagać",
           "Positive"
          ],
          [
           "duza plus dodatkowy punkt aktywność",
           "Positive"
          ],
          [
           "egzamin łatwo",
           "Positive"
          ],
          [
           "scharoch wypadać naprawde swietć",
           "Positive"
          ],
          [
           "szermierka ciekawy sport gańcz potrafić nauczyc",
           "Positive"
          ],
          [
           "pytanie raczej prosty trudno zaliczyc",
           "Positive"
          ],
          [
           "analiza matematyczny wykład ćw wydawać mila osobka tłumaczyć wszytko dokladć zadny pospiech",
           "Positive"
          ],
          [
           "górniak ćwiczenie wogóle trzebaby chodzić",
           "Positive"
          ],
          [
           "wstęp programowania laborka wykład kurs archaiczn środowisko turbo pascal polecać tyc mieć nieco czynić pascal zaliczenie samouk pierwszy zajęcia podejść prowadzący zapytać uzyskać zaliczenie chodzeć laborek kara napisać program oprzeć baz dane piszesz program oddawać przyłożyć eś dostajesz przepisanie ocena wykład musieć pisać test zaliczyć wykład",
           "Positive"
          ],
          [
           "koniec koło prosty",
           "Positive"
          ],
          [
           "pospać zajęcia",
           "Positive"
          ],
          [
           "zajęcia panować miły atmosfera doktor modrzycki duży poczucie humor nudzić",
           "Positive"
          ],
          [
           "ogolny ocena polecać",
           "Positive"
          ],
          [
           "dbać zajęcia odezwać coś potrafić gnębi pomagać",
           "Positive"
          ],
          [
           "polecać kurs prowadzący",
           "Positive"
          ],
          [
           "mieć możliwość zapisania zajęcia pać doktor polecać serdecznie",
           "Positive"
          ],
          [
           "dobry wykładowiec",
           "Positive"
          ],
          [
           "gosc nieziemski",
           "Positive"
          ],
          [
           "dobrze mogł eś trafić",
           "Positive"
          ],
          [
           "doktor kornel wporzadek wprwawdzie potrafić nauczyc algebry przyznawać umieć d przyjaznie nastawić studentow wyklada sa ciekawy dr niezbyt czesto poruszać problematyke czysto matematyczny zwykle opowiadać ciekawy dziać siwet kolokwi sa prosty warunek posiedź skrypt raga sciagac zlaszcze sasiadow sam koło doktor kornel siedzieć kat nikt zwracać uwaga sprawdzać praca robić wnikliwy sledztwo ogólnie polecać",
           "Positive"
          ],
          [
           "człowiek taki lajtu zyć widzial postanowil przytoczyc zdan pierwszy wyklad mało wiecej wykl",
           "Positive"
          ],
          [
           "kolokwiać SA trudny standart ogolnouczelniać",
           "Positive"
          ],
          [
           "poczucie humor student tez czlowieka poprost super",
           "Positive"
          ],
          [
           "kurs fizyk ćw b miły sympatyczny śmiać czesto ironicznie p",
           "Positive"
          ],
          [
           "znać tez ćwiczenie przystepnie tłumaczyć",
           "Positive"
          ],
          [
           "gańcz osoba dobry nauczyciel początkujący rozumieć wogóle powyższy komentarz chodzić wiel K",
           "Positive"
          ],
          [
           "wykład cwiczenie prowadzić b gonić materiał robioć poprosto zaszybko",
           "Positive"
          ],
          [
           "doktor wymagać systematyczność spokojnie zaliczyć em komplet wykład profesor dowodzić śmieszność system niemnie doktor duda szczególnie laborka godny polecenie tłumaczyć wógle miły ocena prowadzący bdb ocena pomijać zasada zaliczeć wykład wydawać odgórnie narzucić",
           "Positive"
          ],
          [
           "kurs analiza matematyczny ii wyklad numer b najciekwszy prowadzacy jaki mial stycznosc pwr",
           "Positive"
          ],
          [
           "zajęcia ciekawy wiedza wchodzić cząstkowy widzimis łatwy człowiek uczyć skarbnica dobry humor przyjazny student człowiek polecać pośmiac nauczyć raz napisać zadanko tablica rozwiązać człapać sala podpatruej robić",
           "Positive"
          ],
          [
           "ogolnie wiedzieć sprawdzać UE chyba pierwszy prowadzić magnesa UE tez dać rade",
           "Positive"
          ],
          [
           "algebro geometria analityczny ocena spoko b doktor rałowski baaardzo zakręcony człowiek",
           "Positive"
          ],
          [
           "koło banalny wystarczyć przerobić solidnie skrypt mieć zadanie koło wziąć wprost skrypt pozmieniać dane",
           "Positive"
          ],
          [
           "dr bogdan przepuszczać osoba brakować punkt zaliczenie bądź zdobyć minimum któregoś kolokwium",
           "Positive"
          ],
          [
           "kurs analiza mat wykł ćw ocena pozytwyn negatywny wykład przepisywać skrypt doktor wilhelm człowiek ból skrupulatny punktualnym troche anemiczny",
           "Positive"
          ],
          [
           "em przyjemność mieć ten pani wykład",
           "Positive"
          ],
          [
           "doktor calek sympatyczny choc niektorzy lubić",
           "Positive"
          ],
          [
           "ogólnie normalny informatyk polecać brać ciemno",
           "Positive"
          ],
          [
           "tlumaczyl wmiary jasno wstep teoretyczny",
           "Positive"
          ],
          [
           "wspaniały prowadzić wykład",
           "Positive"
          ],
          [
           "fizyk fizyk ii wyklada ciekawy dowcipny człowiek sporo kawalow anegdot super zajecie prowadzić przyjazny student wyłączć ofiara który profesor upatrzeć poczatek semestr ciek",
           "Positive"
          ],
          [
           "tłumaczyć robić zadanie skrypt palnie jakies dowcip",
           "Positive"
          ],
          [
           "każdy nieobecność ocena dół koniec chyba odrobić termin koniec krótki bezstresowy egzamin panika",
           "Positive"
          ],
          [
           "naprawde warto poznac",
           "Positive"
          ],
          [
           "ogólnie polecać Krzysztof bogdan swój plecak poczucie humor koniec podajcie ręka wymieńcie znak pokój spodobać każdy",
           "Positive"
          ],
          [
           "zaliczenie najmniejszy problem",
           "Positive"
          ],
          [
           "kol sa zbyt trudny wystarczyć miec dobry notatka cwiczen przeczytacć ksiazka",
           "Positive"
          ],
          [
           "filozofia natura elektryczny ciekawy referat dotyczyć dowcipny człowiek dobra profesor prowadzić zajęcia baardzo rekreacyjnie temat ciekawy",
           "Positive"
          ],
          [
           "mieć odróbeka ważny powód prowadzić zajęcia dogadać",
           "Positive"
          ],
          [
           "angielski kobietka wymagajacać robić duzy problemow zaliczeć",
           "Positive"
          ],
          [
           "human odbębnieć zajęcia grać karta worms bierka sala osoba praktycznie siedziać studentow",
           "Positive"
          ],
          [
           "ogólnie dobry fizyk  zwrot ocena strsznie",
           "Positive"
          ],
          [
           "chcieć nauczyć dobry wybór pra ś",
           "Positive"
          ],
          [
           "wstęp algebry geometria ciocie dorotek pseudonim dostać nasz grupa chyba dobry prowadzić c",
           "Positive"
          ],
          [
           "podstawa ocena indeksa egzamin niespodziewajka brak zadanie powtarzać poczucie humorupany pokład ogólny podejście student pozytywny zerowy termin najprostszy zadanie warunek przystąpić zaliczenie projekt doktor",
           "Positive"
          ],
          [
           "potrafić przystepny wyjaśnić różny zjawisko często robić dowcipny zapamiętować d",
           "Positive"
          ],
          [
           "ksiadz irka niesamowicie prowadzić zajecie",
           "Positive"
          ],
          [
           "analiza matemtyczny ocena b miły zajecie mijać wiedzieć mieć ocene trudnosca kolokwi kwestia przygotować",
           "Positive"
          ],
          [
           "uważać dobry kitowy obiektyw rynek wykonać metal dobry jakość tworzywić pierścień przysłona chodzić należyty opor skokiem wbudować stabilizacja wydajny naprawdę pomagać sytuacja obiektyw ostry duży otwór przysłona celność bdb pochwala dodatkowo szybki silnik autofokus używać  poczatek dosyć mułowaty x e przesiaść em x t móc chwalić ostatni plus opracować system uszczelnienie obiektyw zoom ogół zasysać kurz środek mieć być zoom nikkora sigmy problem polecać",
           "Positive"
          ],
          [
           "obiektyw przeznaczyć osoba dopiero zaczynać fotografować lustrzanka cyfrowy marka canon obiektyw stabilizacja obraz nowszym model mark III cena obiektyw wygórować kupić dobry stan złoty obiektyw śmieszny pieniądz początkujący fotografa dobry wybór zapoznanie możliwość własny sprzęt wykładać początek wielki suma obiektyw sprzęt wykonać dobry zdjęcie wymagać trochę wprawa znajomość aparat używać polecać głównie początkuć użytkownik zaawansowany skierować strona obiektyw",
           "Positive"
          ],
          [
           "gra rok ciągle robić wrażenie widać odsłić ly batman pierwszy rzut oko trudno zauważyć zaleta gra chociażby ładny klimatyczny grafik duży zaleta gra robić własny postać który grać niby taki fakt taki cieszyć grać poziom trudność zmieniać poziom poziom etap łatwy trudny zagadek myśleć zagadka rozwiązać dosłown sekunda napisać pudełko latk inny słowo prosty fabuła cienky sik pająk najgorszą rzecz gra wszystko częsty glitheć bag osoba wywoływać kolejno śmiech zdziwienie nerwica szczęście niszowy problem podsumowywać ly batman dobry gra wada",
           "Positive"
          ]
         ],
         "hovertemplate": "Label=%{customdata[1]}<br>Dim1=%{x}<br>Dim2=%{y}<br>Text=%{customdata[0]}<extra></extra>",
         "legendgroup": "Positive",
         "marker": {
          "color": "green",
          "size": 10,
          "symbol": "circle"
         },
         "mode": "markers",
         "name": "Positive",
         "orientation": "v",
         "showlegend": true,
         "type": "scatter",
         "x": [
          -3.5789895,
          -0.40934607,
          -2.227402,
          -0.17263542,
          -2.1815248,
          2.5095882,
          -3.5249279,
          -1.5989261,
          -0.96759886,
          -0.7054174,
          -0.39093643,
          0.09000118,
          -1.1319108,
          -3.5799747,
          -0.733309,
          -2.1505466,
          -2.1815248,
          -0.83950436,
          1.3190646,
          -1.8882453,
          -2.1614442,
          -1.6874809,
          -1.4339054,
          0.78543,
          -0.49935734,
          -2.1713977,
          -1.4517056,
          0.5487276,
          -2.181767,
          -1.6465759,
          -1.4345915,
          0.9488969,
          -1.9139148,
          -2.397035,
          -1.5653831,
          -1.7275732,
          -1.9357601,
          -2.2134655,
          1.0978986,
          -0.39093643,
          -0.38302678,
          0.19316821,
          -0.7566563,
          0.22719091,
          -2.1692126,
          -2.4226017,
          -1.8344643,
          -1.411196,
          -3.3215466,
          -2.376029,
          -1.5085218,
          -1.2196169,
          -1.7053729,
          -3.2409313,
          1.3140156,
          -0.6647655,
          -2.4819853,
          -1.0066328,
          -2.9445345,
          -2.1546717,
          -3.5693562,
          -3.522589,
          -1.3919083,
          1.1102144,
          -0.4182957,
          -2.2767599,
          -2.2181106,
          2.5183582,
          0.13872461,
          -1.7065647,
          -2.374451,
          0.3752764,
          -1.212949,
          -1.4720157,
          1.0643693,
          -2.4056008,
          -0.40015292,
          0.5948047,
          -3.5983276,
          -0.970325,
          1.0829117,
          1.1003541,
          -0.10516046
         ],
         "xaxis": "x",
         "y": [
          -1.5448755,
          0.35786873,
          0.85046405,
          -0.037233397,
          2.86665,
          1.4034535,
          -0.8290327,
          2.0631895,
          0.37679031,
          -0.68149906,
          -0.33608168,
          1.5498157,
          -0.70687777,
          -1.5450531,
          -1.8929205,
          0.8531014,
          2.86665,
          -0.14510502,
          -2.3496585,
          -1.8740335,
          2.8956826,
          0.7080041,
          0.06507396,
          -0.15180688,
          0.6114145,
          -3.4879022,
          -2.026775,
          0.7417472,
          -0.013513004,
          -0.44779444,
          -0.008921688,
          0.38526797,
          -1.4501896,
          0.5149708,
          2.1213088,
          -1.6795825,
          1.4698429,
          -0.7761989,
          -1.8831677,
          -0.33608168,
          -0.8610163,
          0.14761904,
          -0.15758313,
          0.3892331,
          0.85621154,
          0.30238825,
          -0.28908476,
          -0.5962624,
          -1.3516433,
          -0.25196975,
          0.093706645,
          -0.15521264,
          -0.9071597,
          1.017645,
          0.83660585,
          1.1185373,
          -0.02806296,
          -1.3758062,
          -0.22307321,
          2.8006277,
          -0.5056901,
          -1.2645656,
          -1.9613757,
          1.8845952,
          0.72183645,
          -3.575899,
          1.6984059,
          1.3981571,
          0.1593544,
          -2.028667,
          -1.6873249,
          1.8295763,
          -0.52378637,
          2.4145086,
          -2.2333095,
          -1.1297201,
          1.3972213,
          1.3876998,
          -1.6301895,
          -0.43997866,
          -1.6720726,
          -1.7156926,
          -0.19091833
         ],
         "yaxis": "y"
        },
        {
         "customdata": [
          [
           "musieć przyznać nudzić  wykładzie michać przerwa wybyć em pojawić ",
           "Negative"
          ],
          [
           "wiedzieć zanotować",
           "Negative"
          ],
          [
           "potrafić przyczepic osie symetri gruby być olowkiem rysować wkrecajac sruby drewniany otwor gwint naleza narysowac wybrzuszeć drewno drugi strona ksiazka podstawa obleć",
           "Negative"
          ],
          [
           "prosty wykłaed nudno nic człowiek dowiedzieć pożyteczn ćwiczenia materiał iść zdecydowanie szybko sprawa wszelki dygresja doktor wykład",
           "Negative"
          ],
          [
           "straszny bałagan tablica porządnie skupić spieszyć zdążyć przepisywaen",
           "Negative"
          ],
          [
           "analiza matematyczny ćwiczenie ocena unikać b pierwszy ćwiczenia myśleć em analizy zaliczyć problem pokazywać dodawać ułamka różny mianownika bawić swój maszyna liczącą kalkulator wink lubić bawić",
           "Negative"
          ],
          [
           "niechcesz słuchać musieć",
           "Negative"
          ],
          [
           "zacznić zajecia absolutnie obryc zadan szanowny doktor nic wytlumaczyć zbierze tlumaczeć krzyza droge zrozumieć",
           "Negative"
          ],
          [
           "wydawać gardzić student",
           "Negative"
          ],
          [
           "zajęcia tragedia wogole mówić mikrofon mówić zrozumieć",
           "Negative"
          ],
          [
           "doktor prowadzić wykład dośc nurzący zasnąć",
           "Negative"
          ],
          [
           "graficzny zapis konstrukcja wykład elektryczny nudny",
           "Negative"
          ],
          [
           "radze trzymac daleki",
           "Negative"
          ],
          [
           "fizyk b zdac egzamin dosyc trudno przypadek zdalo osub",
           "Negative"
          ],
          [
           "negatyw",
           "Negative"
          ],
          [
           "b kołodzi prowadzić tragicznie",
           "Negative"
          ],
          [
           "ogolć ujść mozliwosc zapisania kogos inny raczej warto skorzystacć",
           "Negative"
          ],
          [
           "mazurek cel prawdopodobnie postawić zanudzić student pan pierwszy zajęcie dać znieść nieco jasny",
           "Negative"
          ],
          [
           "prosty umieć turbo pascalać",
           "Negative"
          ],
          [
           "ocena ogólny unikac x x",
           "Negative"
          ],
          [
           "kolokwium prawdopodnie sprawdzać ocena przypadkowy ogół temat krążą legenda",
           "Negative"
          ],
          [
           "uwaga",
           "Negative"
          ],
          [
           "poprawiać przynosić następny raz wyszukiwać kolejny błedy poprawić eś źle mieć poczatek",
           "Negative"
          ],
          [
           "niestety sam prowadzącego obekcja punkt wdzieniać trening i tak dalej wszytko czes rozgrzewka forma zabawa niestety mial miejse trening sytulacja zrazilać pokazywać dźwigni noge stopa zignorować zupełnie odklepeć mate powiadomieć bać student pokazywal technikea puścić chociaż zmniejszyć nacisk siła skręt",
           "Negative"
          ],
          [
           "analiza metr wykłada stwierdzić metr strata czas",
           "Negative"
          ],
          [
           "każdy laborka kartkówka moge stwierdzić trudny zaliczyć  jeden prosty eś czynić język c naprawde trudno",
           "Negative"
          ],
          [
           "miernictwo elektroniczny wykład ocena bieda wielki b mówic przpity trochy chrypk czas pić spiryt pierwszy wrażenie",
           "Negative"
          ],
          [
           "ocene niezbyt wysoki robić łaska wpisze",
           "Negative"
          ],
          [
           "koniec kurs kolokwium bądź egzamin reguła ciężki system oceniać pozostawiać życzenie",
           "Negative"
          ],
          [
           "jestes liceum mieć pech p rowć mozesz isc kurs jezyko japonskiego wyklad niezrozumialy czlowieka wrazenie doktor m inny jezyk d nikt chodzić uczyć bierzaco posiadać odpowiedni ksiazek notatka etc mieć szansa zdac kola SA trudny najgorszaa cech dr potrafić doczepic pierdolka zdarzać pomylica liczenie punkt wiec polecać konsultacja przypadkow pomylil liczenie qmpel przyklad pisal poprawke chociaz zaliczyl koło dopiero konsultacja okazalo potrzebć pisal poprawke pan",
           "Negative"
          ],
          [
           "iść informatyke znałęm ogół jezyk c kurs człowiek doktor zakładać wiedza rozumieja każdy skomplikowany słowo",
           "Negative"
          ],
          [
           "kurs chemia nieorganiczny ćw ocena najniższa unikać",
           "Negative"
          ],
          [
           "zadanie kosmos oczywiście czas twierdzić prosty",
           "Negative"
          ],
          [
           "biernacki prowadzić laborek naprawde dziwnie łebky zaangażować ważny niezrozumiale powtórz niezrozumiale",
           "Negative"
          ],
          [
           "zgrozo",
           "Negative"
          ],
          [
           "olewać gorniak podpadać naprawde grozny p",
           "Negative"
          ],
          [
           "lakier rower kiepski jakość robić odpryski wiadomo co rower ładny wygodny miesiąc użytkować widoczny odpryski lakier co taki cena oczywiście producent twierdzić wada mechaniczny dziecko dobry stan lakier rower firma odradzać zakup powód szkoda tyle kasa nerw chyba rower stać nieużywać szyba zakończenie powiedzieć porównować lakier zwykły paznokci hybrydę wiadomo tańszy zwykły lakierz robić odpryski dobry",
           "Negative"
          ],
          [
           "zadowolony zakup skrajnie niewygodny uciskać ucho minuta zwyczajnie zdjęcie słuchawka niesamowity ukojeć kolejny kwestia problem łączność początek sparować słuchawka telefon pierwszy utwór zacinać urok bezprzewodowy słuchawka wiedzieć wnikać wadać wadać numer sam posługiwać ten słuchawki komunikat głośność przeżyć sygnał chociażby wyłączanie urządzenie niezwykle irytować jakość dźwięk zadowalająca wada uważać słuchawka złoty powinien pozbawić metr móc cofnąć czas kupić metr sprzęt",
           "Negative"
          ],
          [
           "kupić  pociąg zestaw tor prosty zakręt zestaw tor zwrotnica skrzyżowanie zestaw kompletnie nic tor niedopasować rozstaw koło lokomotywa kłaść lokomotywa idealnie środek tor koło krawędź cały koło jazda pracować prawo lewo pociąg niemal czas jeden strona koło jechać powietrze tor najgorzej skrzyżować zwrotnic skrzyżowanie wąski pociąg stan przejechać zdarz rozpęd przejechać zwrotnic ledwo pokonywać prawda zestaw nadawać zabawa skoro pociąg kompatybilny tor yt obejrzeć co problem wystarczyć wpisać wyszukiwanie blocki pociąg rozstaw trzeci próba jixin blocki mubi pierwszy zestaw rok straż pożarny służyć potem zestaw budowniczy rozleciać raz budowniczyć pociąg polecać zdecydowanie podróbek litr d cena oczywiście zachęcać",
           "Negative"
          ],
          [
           "pilarz parunast rok skusić em partner listopad r łatwo uruchamiać pracować lekki poręczny wygodny mały otwór wlew olej mały objętość zbiornik paliwo olej uzupełniać filtr powietrze zasada jednorazowy zapychać tydzień praca h dzienny praca pić koszt nowy złoty miesiąc pęknąć linka gaz każdy nacisnąć manetka gaz łamać linka dziwny rozwiązanie konstrukcyjny koszt nowy złoty trochę wysoki koszt utrzymać piła zawiedziony model partner",
           "Negative"
          ],
          [
           "początek zobaczyć  słuchawka zachwycać  dobry mikrofon ładny opakowanie przyjemny wygląd słuchawka ogólnie mówić najpierw  zadowolony miesiąc problem mikrofon zacząć działać odpinać em działać długo chcieć em kusić los liczyć kolejny cud podłączy zadziałać siaść strona zupełnie kompletnie dobić zmienić em akg ogromny różnica jakość należeć trochę dopłacić nowy słuchawki słychać znacznie dobrze fps jaki przeciwnik poziom tył fatalit mogł  rozróżnić dopóki odwrócić em sprawdzić  zazwyczaj dead polecać długi meta miesiąc porządek zakup krótko beznadziejny wykonać kabel mikrofona ogólnie cały słuchawka",
           "Negative"
          ],
          [
           "dostać em badziewie prezent orange wybór mieć być pendrive czytnik bubel nazwa pamiętać wybór paść słuchawka dawno mieć być ucho zewnątrz nieźle wyglądać chyba duży zaleta dobrze wykonać niewygodny kabel krótki dźwięk środek widać najzwyklejszy chiński chłam móc zostać wykonać marn plastik zostać wykonać połączyć tani klej oby trzymać cena oczywiście ważny usprawiedliwienie zbyt pięknie początek lewa głośnik działać problem występować spowodować cienki włos drut zwyczajnie ukruszyć pęknięcie tuż punkt lutowanie zewnątrz przylutować ponownie wewnątrz egzemplarz szkoda czas produkt mogła em wysłać producent ramy gwarancja wzgląd niski wartość wysłać  kosz",
           "Negative"
          ],
          [
           "niestety lodówka pakowny kupić metr miejsce identyczny wzgląd pojemność lodówka whirlpool damsing miejsce duży litrowy garnka zmieścić duży l dzbanek sokiem otwór jajka wieczko otwierać włożyć jajka opadać zatrzymywać góra opcja zatrzymać podniesionrgo góra dozownik woda porażka zdarzać kapa calej lofowka podłoga nieumiejętć przystawka szklanka plus cich praca designe",
           "Negative"
          ],
          [
           "  jaki cena jakiś ewidentny żart oddać em jeden kamera gwarancja nagrywać film akurat potrzebny wyskoczyć sarna film wyskoczyć lis film sytuacja obesźć szczęśliwie poszło potrzebować metr film chociaż udowodnić mój racja ubezpieczyciel oddać  kamera zaginąć niby producent przydzielić nowy miesiąc media experta sytuacja wyskakować dzik trasa maske hamować śliski szczęśliwie wracać dom wrzucać karte komp widze widze pol dzień kamera nagrywać dzień podłączyć jakies wa zrzeć cena spokojnie kupic raz dobry",
           "Negative"
          ],
          [
           "niestety mój test wypaść strasznie marnie prędkość zapis duży pojedynczy plik usb mb s szybko obojętny ntfs fat kupić em egzemplarz każdy żenada wstyd patriot dane podać producent wyssać palec rozumieć dane usb usb duuuużo dobrze plus wieczór pójść koleżanka zgrać film fullhd musieć zostać śniadanie doczekać koniec kopiowanie em domagać producent zwrot pieniądz",
           "Negative"
          ],
          [
           "mieć metr robot pazdziernik reklamacja dostalam pieniadze glosny praca spoko dać zniesc oprzeć plastikowy czesciach siadalo sokowirowka sokowirowka wszyskto obrac podzielic czatka okol centymetr wracajac marchewka sokowirowka przestawalać działac wyrabial silniczka plastik napraw tyg sam wymiana nowy sokowirowke sam raz probować dac nowy robot wolalama gotowke koncu nadal plastikwoe podzespoly szkoda szukać czegos solidniejszego",
           "Negative"
          ],
          [
           "podobnie większość zawiość metr kosiarka wydawać firmowy kosiarka służyć długo sam początek delikatny dobry drobny trawka idealnie rówć teren koszyć lekki nierównościa zakończyć powyginany nóż nóż wymienić nowy dać naostrzyć długo cieszyć metr silnik zacząć dziwnie pracować koniec przestać powiedzieć szczerze dobrze sprawować pierwszy najtańsz kosiarka nam nóż dziać górka dołk silnik zajeżdżeć uszkodzić kółka daleko pracować zawiodła metr gardenie",
           "Negative"
          ],
          [
           "mylący tytuł sugerować czynić dzieło smith rzeczywistość książka zawrzeć fragment bogactwo naród teoria uczucie moralny okraszć niestety kiepski komentarz okazywać autor książka adam smith autor sprawiać wrażenie kazać napisać ten książka moment odczuwać wręcz niechęć smith dezaprobata względem dzieło ogólnie streszczeć recenzja nazwanie książka spory przesada ciężko czytać jedyny sprawiać ocena wynosić pojawiać dokładny cytat",
           "Negative"
          ],
          [
           "uważać pisać opinia coś rewelacyjny koniec sens chcieć metr napisać wadzie zmywarka bosch pierwszy przyznać whirpoola mialama wczesniej brakować kontrolka zakończyć myć dom usłyszeć metr końcowy sygnał wiadomo myć skończony samo wiadomo etap zdarzać wypluć tabletka garnik brudny niestety porównanie whirpool przegrywać kategoria ciasno ułożyć garnka whirpool radzić świetnie najwyraźniej dobry ciśnienie woda bosch mocno kulej chcieć upchać maxa musieć domywać ręcznie prowadnica dół precyzyjny wykonać kosz dolny całkowity wysuniecie spadać whirpool mieć miejsce prowadnica mieć kontuynuacja drzwiczk",
           "Negative"
          ],
          [
           "najpierw dostawać produkt wysoki półka pięknie zapakować mysz wygodny działać działać precyzyjć tyle sprzęt gracz razer przereklamować pierwszy narzucać myśl absurdalny cena sprzęt gumek kciuk odpaść trzy miesiąc scroll problem działać miesiąc sensor korzystać aluminiowy podkładka obydwie część musieć być czyścić gory oprogramowanie razer synapse zawieszać każdy raz otwierać odłączać podłączać kabel myszka przełączać praca przewodowy bezprzewodowy odwrót oprogramowanie posiadać funkcja prosty działać na przykład kalibracja powierzchnia włączać funkcja mysz profesjonalny podkładka działać drewniany blat niestety byle przerywać nierównościa szczęście ustawić droga restartuć poprzez alt ctrlć del program komputer wyciągać kabel całość działać skrót kupcie inny tańsić dobry mysz konkurencja",
           "Negative"
          ],
          [
           "bateria posiadać ładny design wysokość bateria centymetr przeciętny głębokość zlewozmywak centymetr woda wypływać bateria spadać wysokość metr powodować chcieć opłukać talerz umyć ręka bierzemy prysznic zachlapać szafki zadzwonić metr handlowiec firma blanco poprosić metr rada podać telefon serwisant kazać przykręcić ciśnienie woda próbować tłumaczyć bateria przystosować zlewozmywak blanco metr kupić zlew blanco problem sitko zlewa blanco ustawiyć nakieruwać wylewka bateria woda rozchlapować używać zlewozmywak myśl skierować wylewka strona sitko chyba kuchnia robić przestrzegać wszystek bateri typ firma blanco porażka totalny niewypać",
           "Negative"
          ],
          [
           "witać długo namyślać em zakup przyzwoity pistolet zdecydować  steinel porażka cały lini pierwszy próba praca zagrzewa podać klej przestać działać wysyłka serwis wymiana system grzejny pistolet puszczeć klej bok kapać podajnik pięć minuta ponownie przestać działać wysyłka serwis pora dwa miesiąc popracować minuta wydawać pistolet wytrzymać długo koszt dostawa serwis odbiór zbliżać cena zakup polecać produkt zapomnieć em serwis zaskoczć jakość tworzywo brak plomb prawdopodobnie zmienić wykonawca produkt producent rumuni steinel sam narzędzie kiedyś proponować poważnie zastanowić zakup pozdrawiać",
           "Negative"
          ],
          [
           "kupić  żarówka złoty sztuka ciąg tydzień raz sztuka zacząć migać szczęście zakupić lokalny supermarket dostać  zwrot gotówka złoty ręka dzień reklamacja zawiodł em philips zawodność taki marka zacząć migać kolejny żarówka reklamacja zostawić eoktom paragon sklep mówić trudno mieszany uczucie znajomy kupić ledy firma typ nam problem porównanie przepłacić em kupić em bublowaty produkt marka philips",
           "Negative"
          ],
          [
           "cena spodziewać em dopracować sprzęt miski mocować robota przeciwny kręcić rózga cięższy ciasto lubić wypiąć praca niedopracować sam rózg mis chociaż wyglądać profesjonalnie pozostawiać dno nierozmieszać ciasto krem zaznaczyć posiadać mikser robota wypadać niebo dobrze bardzo irytuć mieszaść silikonowy powinien zbierać ścianek spód mis przeszkadzać właściwie uniemożliwiać podbijać masa jednoczesny podgrzewanie cel zakupić  chyba chcieć jajecznica wręcz idealny trwałość robota móc powiedzieć krótko posiadać reasumować osobiście kupić metr ponownie robota taki cena wiedzieć wada napisać opinia skłonić rozczarowanąć delikatnie wciekły wspomnę lżejszy nadzieja firma kenwood przeczytać wypociny przyszły model poprawić niedoróbka wiedzieć nadzieja matka",
           "Negative"
          ],
          [
           "świeżo zakup marantza urządzenie odtwarzać płyta cd źle nośnik usb nośnik czytać długo dźwięk słyszalnie uboższy odtwarzać pliek flac kompletny porażka wieszać urządzenie zaczynać słuchać stacja radio cyfrowy dab sytuacja powtarzalny dodać stacja dwa daba ulubiony próba przełączać następować zawieszeć urządzenie dokładni odtwarzać dźwięk przywrócić odtwarzać dziwięku wybrać stacja fm odtwarzać drugi kwestia włączać samo siebie urządzenie śpisz włączać wyłączać h sam dodać głęboko rozczarowuć scena dżwiękowy nośnik usb dobrze kupić tańszy mieć sam wada",
           "Negative"
          ],
          [
           "router porażka stan poprawnie współpracować modem huawei e specyfikacja umieścić opakowanie producent zapewniać biedzie współpracować okazać nieprawda router chwila włączyć rozłącz internet dać ogół korzystać pomagać aktualizacja firmwary inny mod router zadziałać producent podać opakowanie prawdziwy lista kompatybilny modem dostępny strona internetowy poszukać polecać kupywać mody pasować producent model mody sieć mod pochodzić zgadzac dokladnie lista dostepny strona producent",
           "Negative"
          ],
          [
           "zanim wybrać metr lumie szukać metr opinia niestety trafić metr dyskusja samoczynny resetach tydzień użytkować telefon trafić serwis powód samoczynny wyłączania żądać pin telefon nowy salon oczywiście gwarancja wyłączać kilkanaście raz dziennie pierwszy tydzień serwis aktualizacja oprogramowanie pomogć nadal sam potem kolejny tydzień serwis aktualizacja oprogramować serwis potrzebować tyg aktualizacja oprogramowanie nadal sam zostać naprawiyć kolejny zwrot telefon gwarancja nowy skoro normalnie korzystać dno radzić wybrać sprawdzony ms lumiać wcześnie mieć metr lumiać telefon świetny nokia zastanawiać wybór telefon szczerze odradzać lumie oszczędźć nerw",
           "Negative"
          ],
          [
           "grzejnik ładny beznadziejny termostata pamięć nastawa możliwość programowanie skorygować nastaw fabryczny czas pierwszy zanik napięcie potem powrócić nastawa fabryczny termostata łatwo zacinać grzejnik dawać fabryka dać oczywiście koszt właściciel grzejnik praktycznie nadawać ogrzewania pomieszczenie stały dozór czas praca wydawać dziwny odgłos całkiem głośno wyrzut sumienie zaprojektować",
           "Negative"
          ],
          [
           "budzik zdecydowanie warta cena złoty zaleta ładny wygląd dobry spasować materiał duży czytelny cyfra głośny alarm wada wykonać kiepski jakość tani plastik przycisk alarm drzemki umieścić tył niepraktyczny noc przycisk tandetny głośny twardy przeszkadzać brak regulacja podświetleć bateria podtrzymuć pamięć rzadko spotykany postać v móc paluszek przydatny opcja regulacja alarm na przykład delikatny mocny",
           "Negative"
          ],
          [
           "grill wada duży który niestety żyć em rok tłuszcz zamiast skapywać całość dołączony miseczka spływać płyta grzewczyć grillować musieć być postawić pion patrzeć wylewać blat wiedzieć philips przemyśleć sprawdzić tragiczny niedopatrzenie dzień grill odmówić posłuszeństwo grzeć pokrętło ustawiać temperatura odmówić rok przestać mieć grzechotka przeszkadzać użytkowanie minus uważać brak możliwość dokupieć sam płyta teflonowy choćby cena połowa grilla zdecydowanie polecać kupić grilla philipsa przypadek awaria musieć kupić nowy",
           "Negative"
          ],
          [
           "przereklamować podobnie towar na przykład wkrętarka bosch seria profesor użytek cena oczekiwać  robot wyższej jakość zaledwie raz użyć wydobywać zaczynać smar wałek gniazda mieszaść cena mieć miejsce ogólnie siła robot wyglądać zajeżdżeć obawa przekładnia rozsypać strasznie głośno chodzić dzieciak kuchnia uciekać potwornie drogi dodatek osobiście śmyć kupić",
           "Negative"
          ],
          [
           "hhmm jazda wygląd zaleta chodzić reszta brak osiowość ławka brak stabilność ćwiczeć ławka skosć ujemny radza zakładać pampersa widze sprzęt robiony masowo zwykły kowalskiy chiński jung pęk spaw urządzenie ćwiczenie noga uciekać stopień jeden strona modlitewnik tragedia oparcie ćwiczenie rozpiętka siedząco krzywo osadzyć ogólnie kupować wybrać metr chińborka złoty zdanie wart jakiś złoty jakiś centymetr oczywiście wzrost niewygodny ćwiczieć bark wyciąg wyprostujesz ramiono ogólnie polecać tv samsung smarta jakiś par pinącha oglądać dziennie youtuba jakiś minuta ćwiczyć metr pompka pochodny rezultat dobry radość pozdrawiać marsh",
           "Negative"
          ],
          [
           "klawiatura otrzymać em rozpakować  podłączyć em zainstalować  soft pobrać strona razer windows widzieć klawiatura poprawnie instalować gładko niestety oprogramowanie razer rozpoznawać własny klawiatura pomagać przepinanie port usb wielokrotny restart odpięcie urządzenie usb komputer dodatek soft zaprojektować bezmyślnie dopóki wykryć klawiatura kliknąć ikony pomoc przeczytać dokumentacja zrobić inny oprogramowanie skonfigurować dodatkowy klawisz korzystać funkcja klawiatura metr móc klawiatura używać narzekać metr zbyt twardy klawisz obudowy dolny klawisza minia pad genialny pomysć być gra ziać szeroki szczelin który widać płytka drukować spód rozwiązanie wróżyć długi trwałość sprzęt wystarczyć kropla woda mówić kurz drugi poważny rozczarowanie produkt firma myśleć em kupować dobry sprzęt klawiatura zwrot nauczka przyszłość",
           "Negative"
          ],
          [
           "strasznie słabo brzmieć audiofil oczekiwać  cud stan słuchać muzyka prosty brzmieć inaczej wszędzie indziej pierwszy średni tona dziwnie wyciszć drugi wysoki niski ustawić zero podwyższyć okazywać wiec utwór znać pamięć słyszeć różny droższy tańszy głośnike brzmieć miara podobnie prosty brzmieć inaczej próbować  kombinować pokrętł odpowiedzialny niski wysoki tona pora udać wykręcić sensowny myśleć em widzieć jakiś czas prosty przyzwyczawać",
           "Negative"
          ],
          [
           "zakupić  telefon miesiąc móc korzystać internet wykonywać połączenie pisać wiadomość sms posiadać aparat telefoniczny sam początek dzień zakup smartfić zacząć em korzystać internet ciągle zacinać Masakra wkurzeć przestać em korzystać droga telefon stać zapłacić  złoty połowa mój renta oprócz bateria szybko rozładowywać wystarczą kilkuminutowy rozmowa musieć telefon ładować jedyny plus nagrywać rozmowa wygląd telefon naprawdę żałować zdecydować em zakupić telefon szkoda kasa",
           "Negative"
          ],
          [
           "jedyny pozytyw rzeczywiście telefonować telefon nokia dawny należeć obsługiwany intuicyjnie napaćkać mnóstwo zupełnie niepotrzebny aplikacja otworzyć wymagać połączyć sieciow uważać zrezygnować bateria trzymać długo dzień czuwać aparat fotograficzny lampa błyskowy wyświetlacz wytrzymać tydzień podobno uszkodzić mechaniczć wiadomo każdy aparat utracić gwarancja wymiana lcdeć dodatkowo złoty polecać",
           "Negative"
          ],
          [
           "rewelacja wybrakować produkt urządzenie grudzień użyć metr raz każdy raz mieszkanie zadymiyć strasznie śmierdzieć palony kabl jedzenie suma chwilka spuścić oko powód brak regulacja temperatura szybko przypalać powłok nieprzywierać paninia chyba zrezygnować każdy raz przykleić wyczyszczeć płytka koszmar jedyny móc pochwalić wygląd",
           "Negative"
          ]
         ],
         "hovertemplate": "Label=%{customdata[1]}<br>Dim1=%{x}<br>Dim2=%{y}<br>Text=%{customdata[0]}<extra></extra>",
         "legendgroup": "Negative",
         "marker": {
          "color": "red",
          "size": 10,
          "symbol": "circle"
         },
         "mode": "markers",
         "name": "Negative",
         "orientation": "v",
         "showlegend": true,
         "type": "scatter",
         "x": [
          -0.23764403,
          -0.6460518,
          0.38788486,
          -0.9040564,
          1.9942124,
          -0.87431306,
          -0.22842392,
          -1.8898466,
          -1.5265162,
          -0.834366,
          -3.4983857,
          -1.3996183,
          -0.7018111,
          -0.42350474,
          -0.39093643,
          -3.556738,
          2.296551,
          -1.114652,
          0.53725934,
          -0.8670809,
          -0.9928028,
          2.3673203,
          -0.3816097,
          -1.117071,
          -0.106495395,
          0.23238836,
          -1.1997901,
          0.47884047,
          -0.8560493,
          -0.20348714,
          -2.1265583,
          -2.7456598,
          0.7292621,
          -2.4984872,
          -0.39093643,
          -2.3039196,
          1.2606966,
          0.1271588,
          1.3209411,
          0.06717085,
          0.45462498,
          0.3655397,
          0.1821191,
          0.6953638,
          0.40634635,
          0.12859479,
          0.25813583,
          -0.84958285,
          -0.24731216,
          0.8264411,
          0.24093089,
          0.6271558,
          0.010746802,
          -0.17697947,
          0.22351468,
          1.5720114,
          0.22602513,
          -0.30982372,
          0.2561515,
          0.066263385,
          -0.09930814,
          -0.17574595,
          0.36622053,
          -0.118842855,
          0.46365798,
          0.6906472,
          -0.061234456
         ],
         "xaxis": "x",
         "y": [
          -1.537995,
          -1.5717323,
          -0.07318272,
          -0.4645183,
          -1.5147281,
          -0.1505678,
          -1.645084,
          0.23481344,
          0.65556663,
          -2.8109872,
          -1.096045,
          -1.1859196,
          -0.60353005,
          0.19201231,
          -0.33608168,
          -1.6558416,
          0.32889244,
          0.33543947,
          0.01810182,
          1.9582589,
          1.2402735,
          -1.3316984,
          -0.69067746,
          0.4461988,
          -0.47089767,
          0.20757459,
          -1.1458119,
          1.374523,
          0.8920745,
          0.15411861,
          0.079845704,
          0.3108613,
          0.6890748,
          -2.6055374,
          -0.33608168,
          -3.631791,
          -0.98732877,
          -1.3459164,
          0.39351365,
          -0.48790786,
          -1.2665871,
          -1.0428796,
          -0.5323045,
          -0.70251757,
          -0.8715692,
          -0.6016411,
          -0.7085728,
          2.2812216,
          -0.86028355,
          -1.0047107,
          -1.204202,
          -1.1628447,
          -1.3262494,
          -1.1048808,
          -1.7664605,
          -0.65560246,
          -1.2145574,
          0.3110376,
          -0.9369172,
          -1.1803724,
          -0.6941591,
          -0.49189252,
          -1.8777206,
          -0.40296015,
          -1.3986412,
          -1.4610254,
          -0.5840184
         ],
         "yaxis": "y"
        }
       ],
       "layout": {
        "legend": {
         "title": {
          "text": "Label"
         },
         "tracegroupgap": 0
        },
        "template": {
         "data": {
          "bar": [
           {
            "error_x": {
             "color": "#2a3f5f"
            },
            "error_y": {
             "color": "#2a3f5f"
            },
            "marker": {
             "line": {
              "color": "#E5ECF6",
              "width": 0.5
             },
             "pattern": {
              "fillmode": "overlay",
              "size": 10,
              "solidity": 0.2
             }
            },
            "type": "bar"
           }
          ],
          "barpolar": [
           {
            "marker": {
             "line": {
              "color": "#E5ECF6",
              "width": 0.5
             },
             "pattern": {
              "fillmode": "overlay",
              "size": 10,
              "solidity": 0.2
             }
            },
            "type": "barpolar"
           }
          ],
          "carpet": [
           {
            "aaxis": {
             "endlinecolor": "#2a3f5f",
             "gridcolor": "white",
             "linecolor": "white",
             "minorgridcolor": "white",
             "startlinecolor": "#2a3f5f"
            },
            "baxis": {
             "endlinecolor": "#2a3f5f",
             "gridcolor": "white",
             "linecolor": "white",
             "minorgridcolor": "white",
             "startlinecolor": "#2a3f5f"
            },
            "type": "carpet"
           }
          ],
          "choropleth": [
           {
            "colorbar": {
             "outlinewidth": 0,
             "ticks": ""
            },
            "type": "choropleth"
           }
          ],
          "contour": [
           {
            "colorbar": {
             "outlinewidth": 0,
             "ticks": ""
            },
            "colorscale": [
             [
              0,
              "#0d0887"
             ],
             [
              0.1111111111111111,
              "#46039f"
             ],
             [
              0.2222222222222222,
              "#7201a8"
             ],
             [
              0.3333333333333333,
              "#9c179e"
             ],
             [
              0.4444444444444444,
              "#bd3786"
             ],
             [
              0.5555555555555556,
              "#d8576b"
             ],
             [
              0.6666666666666666,
              "#ed7953"
             ],
             [
              0.7777777777777778,
              "#fb9f3a"
             ],
             [
              0.8888888888888888,
              "#fdca26"
             ],
             [
              1,
              "#f0f921"
             ]
            ],
            "type": "contour"
           }
          ],
          "contourcarpet": [
           {
            "colorbar": {
             "outlinewidth": 0,
             "ticks": ""
            },
            "type": "contourcarpet"
           }
          ],
          "heatmap": [
           {
            "colorbar": {
             "outlinewidth": 0,
             "ticks": ""
            },
            "colorscale": [
             [
              0,
              "#0d0887"
             ],
             [
              0.1111111111111111,
              "#46039f"
             ],
             [
              0.2222222222222222,
              "#7201a8"
             ],
             [
              0.3333333333333333,
              "#9c179e"
             ],
             [
              0.4444444444444444,
              "#bd3786"
             ],
             [
              0.5555555555555556,
              "#d8576b"
             ],
             [
              0.6666666666666666,
              "#ed7953"
             ],
             [
              0.7777777777777778,
              "#fb9f3a"
             ],
             [
              0.8888888888888888,
              "#fdca26"
             ],
             [
              1,
              "#f0f921"
             ]
            ],
            "type": "heatmap"
           }
          ],
          "heatmapgl": [
           {
            "colorbar": {
             "outlinewidth": 0,
             "ticks": ""
            },
            "colorscale": [
             [
              0,
              "#0d0887"
             ],
             [
              0.1111111111111111,
              "#46039f"
             ],
             [
              0.2222222222222222,
              "#7201a8"
             ],
             [
              0.3333333333333333,
              "#9c179e"
             ],
             [
              0.4444444444444444,
              "#bd3786"
             ],
             [
              0.5555555555555556,
              "#d8576b"
             ],
             [
              0.6666666666666666,
              "#ed7953"
             ],
             [
              0.7777777777777778,
              "#fb9f3a"
             ],
             [
              0.8888888888888888,
              "#fdca26"
             ],
             [
              1,
              "#f0f921"
             ]
            ],
            "type": "heatmapgl"
           }
          ],
          "histogram": [
           {
            "marker": {
             "pattern": {
              "fillmode": "overlay",
              "size": 10,
              "solidity": 0.2
             }
            },
            "type": "histogram"
           }
          ],
          "histogram2d": [
           {
            "colorbar": {
             "outlinewidth": 0,
             "ticks": ""
            },
            "colorscale": [
             [
              0,
              "#0d0887"
             ],
             [
              0.1111111111111111,
              "#46039f"
             ],
             [
              0.2222222222222222,
              "#7201a8"
             ],
             [
              0.3333333333333333,
              "#9c179e"
             ],
             [
              0.4444444444444444,
              "#bd3786"
             ],
             [
              0.5555555555555556,
              "#d8576b"
             ],
             [
              0.6666666666666666,
              "#ed7953"
             ],
             [
              0.7777777777777778,
              "#fb9f3a"
             ],
             [
              0.8888888888888888,
              "#fdca26"
             ],
             [
              1,
              "#f0f921"
             ]
            ],
            "type": "histogram2d"
           }
          ],
          "histogram2dcontour": [
           {
            "colorbar": {
             "outlinewidth": 0,
             "ticks": ""
            },
            "colorscale": [
             [
              0,
              "#0d0887"
             ],
             [
              0.1111111111111111,
              "#46039f"
             ],
             [
              0.2222222222222222,
              "#7201a8"
             ],
             [
              0.3333333333333333,
              "#9c179e"
             ],
             [
              0.4444444444444444,
              "#bd3786"
             ],
             [
              0.5555555555555556,
              "#d8576b"
             ],
             [
              0.6666666666666666,
              "#ed7953"
             ],
             [
              0.7777777777777778,
              "#fb9f3a"
             ],
             [
              0.8888888888888888,
              "#fdca26"
             ],
             [
              1,
              "#f0f921"
             ]
            ],
            "type": "histogram2dcontour"
           }
          ],
          "mesh3d": [
           {
            "colorbar": {
             "outlinewidth": 0,
             "ticks": ""
            },
            "type": "mesh3d"
           }
          ],
          "parcoords": [
           {
            "line": {
             "colorbar": {
              "outlinewidth": 0,
              "ticks": ""
             }
            },
            "type": "parcoords"
           }
          ],
          "pie": [
           {
            "automargin": true,
            "type": "pie"
           }
          ],
          "scatter": [
           {
            "fillpattern": {
             "fillmode": "overlay",
             "size": 10,
             "solidity": 0.2
            },
            "type": "scatter"
           }
          ],
          "scatter3d": [
           {
            "line": {
             "colorbar": {
              "outlinewidth": 0,
              "ticks": ""
             }
            },
            "marker": {
             "colorbar": {
              "outlinewidth": 0,
              "ticks": ""
             }
            },
            "type": "scatter3d"
           }
          ],
          "scattercarpet": [
           {
            "marker": {
             "colorbar": {
              "outlinewidth": 0,
              "ticks": ""
             }
            },
            "type": "scattercarpet"
           }
          ],
          "scattergeo": [
           {
            "marker": {
             "colorbar": {
              "outlinewidth": 0,
              "ticks": ""
             }
            },
            "type": "scattergeo"
           }
          ],
          "scattergl": [
           {
            "marker": {
             "colorbar": {
              "outlinewidth": 0,
              "ticks": ""
             }
            },
            "type": "scattergl"
           }
          ],
          "scattermapbox": [
           {
            "marker": {
             "colorbar": {
              "outlinewidth": 0,
              "ticks": ""
             }
            },
            "type": "scattermapbox"
           }
          ],
          "scatterpolar": [
           {
            "marker": {
             "colorbar": {
              "outlinewidth": 0,
              "ticks": ""
             }
            },
            "type": "scatterpolar"
           }
          ],
          "scatterpolargl": [
           {
            "marker": {
             "colorbar": {
              "outlinewidth": 0,
              "ticks": ""
             }
            },
            "type": "scatterpolargl"
           }
          ],
          "scatterternary": [
           {
            "marker": {
             "colorbar": {
              "outlinewidth": 0,
              "ticks": ""
             }
            },
            "type": "scatterternary"
           }
          ],
          "surface": [
           {
            "colorbar": {
             "outlinewidth": 0,
             "ticks": ""
            },
            "colorscale": [
             [
              0,
              "#0d0887"
             ],
             [
              0.1111111111111111,
              "#46039f"
             ],
             [
              0.2222222222222222,
              "#7201a8"
             ],
             [
              0.3333333333333333,
              "#9c179e"
             ],
             [
              0.4444444444444444,
              "#bd3786"
             ],
             [
              0.5555555555555556,
              "#d8576b"
             ],
             [
              0.6666666666666666,
              "#ed7953"
             ],
             [
              0.7777777777777778,
              "#fb9f3a"
             ],
             [
              0.8888888888888888,
              "#fdca26"
             ],
             [
              1,
              "#f0f921"
             ]
            ],
            "type": "surface"
           }
          ],
          "table": [
           {
            "cells": {
             "fill": {
              "color": "#EBF0F8"
             },
             "line": {
              "color": "white"
             }
            },
            "header": {
             "fill": {
              "color": "#C8D4E3"
             },
             "line": {
              "color": "white"
             }
            },
            "type": "table"
           }
          ]
         },
         "layout": {
          "annotationdefaults": {
           "arrowcolor": "#2a3f5f",
           "arrowhead": 0,
           "arrowwidth": 1
          },
          "autotypenumbers": "strict",
          "coloraxis": {
           "colorbar": {
            "outlinewidth": 0,
            "ticks": ""
           }
          },
          "colorscale": {
           "diverging": [
            [
             0,
             "#8e0152"
            ],
            [
             0.1,
             "#c51b7d"
            ],
            [
             0.2,
             "#de77ae"
            ],
            [
             0.3,
             "#f1b6da"
            ],
            [
             0.4,
             "#fde0ef"
            ],
            [
             0.5,
             "#f7f7f7"
            ],
            [
             0.6,
             "#e6f5d0"
            ],
            [
             0.7,
             "#b8e186"
            ],
            [
             0.8,
             "#7fbc41"
            ],
            [
             0.9,
             "#4d9221"
            ],
            [
             1,
             "#276419"
            ]
           ],
           "sequential": [
            [
             0,
             "#0d0887"
            ],
            [
             0.1111111111111111,
             "#46039f"
            ],
            [
             0.2222222222222222,
             "#7201a8"
            ],
            [
             0.3333333333333333,
             "#9c179e"
            ],
            [
             0.4444444444444444,
             "#bd3786"
            ],
            [
             0.5555555555555556,
             "#d8576b"
            ],
            [
             0.6666666666666666,
             "#ed7953"
            ],
            [
             0.7777777777777778,
             "#fb9f3a"
            ],
            [
             0.8888888888888888,
             "#fdca26"
            ],
            [
             1,
             "#f0f921"
            ]
           ],
           "sequentialminus": [
            [
             0,
             "#0d0887"
            ],
            [
             0.1111111111111111,
             "#46039f"
            ],
            [
             0.2222222222222222,
             "#7201a8"
            ],
            [
             0.3333333333333333,
             "#9c179e"
            ],
            [
             0.4444444444444444,
             "#bd3786"
            ],
            [
             0.5555555555555556,
             "#d8576b"
            ],
            [
             0.6666666666666666,
             "#ed7953"
            ],
            [
             0.7777777777777778,
             "#fb9f3a"
            ],
            [
             0.8888888888888888,
             "#fdca26"
            ],
            [
             1,
             "#f0f921"
            ]
           ]
          },
          "colorway": [
           "#636efa",
           "#EF553B",
           "#00cc96",
           "#ab63fa",
           "#FFA15A",
           "#19d3f3",
           "#FF6692",
           "#B6E880",
           "#FF97FF",
           "#FECB52"
          ],
          "font": {
           "color": "#2a3f5f"
          },
          "geo": {
           "bgcolor": "white",
           "lakecolor": "white",
           "landcolor": "#E5ECF6",
           "showlakes": true,
           "showland": true,
           "subunitcolor": "white"
          },
          "hoverlabel": {
           "align": "left"
          },
          "hovermode": "closest",
          "mapbox": {
           "style": "light"
          },
          "paper_bgcolor": "white",
          "plot_bgcolor": "#E5ECF6",
          "polar": {
           "angularaxis": {
            "gridcolor": "white",
            "linecolor": "white",
            "ticks": ""
           },
           "bgcolor": "#E5ECF6",
           "radialaxis": {
            "gridcolor": "white",
            "linecolor": "white",
            "ticks": ""
           }
          },
          "scene": {
           "xaxis": {
            "backgroundcolor": "#E5ECF6",
            "gridcolor": "white",
            "gridwidth": 2,
            "linecolor": "white",
            "showbackground": true,
            "ticks": "",
            "zerolinecolor": "white"
           },
           "yaxis": {
            "backgroundcolor": "#E5ECF6",
            "gridcolor": "white",
            "gridwidth": 2,
            "linecolor": "white",
            "showbackground": true,
            "ticks": "",
            "zerolinecolor": "white"
           },
           "zaxis": {
            "backgroundcolor": "#E5ECF6",
            "gridcolor": "white",
            "gridwidth": 2,
            "linecolor": "white",
            "showbackground": true,
            "ticks": "",
            "zerolinecolor": "white"
           }
          },
          "shapedefaults": {
           "line": {
            "color": "#2a3f5f"
           }
          },
          "ternary": {
           "aaxis": {
            "gridcolor": "white",
            "linecolor": "white",
            "ticks": ""
           },
           "baxis": {
            "gridcolor": "white",
            "linecolor": "white",
            "ticks": ""
           },
           "bgcolor": "#E5ECF6",
           "caxis": {
            "gridcolor": "white",
            "linecolor": "white",
            "ticks": ""
           }
          },
          "title": {
           "x": 0.05
          },
          "xaxis": {
           "automargin": true,
           "gridcolor": "white",
           "linecolor": "white",
           "ticks": "",
           "title": {
            "standoff": 15
           },
           "zerolinecolor": "white",
           "zerolinewidth": 2
          },
          "yaxis": {
           "automargin": true,
           "gridcolor": "white",
           "linecolor": "white",
           "ticks": "",
           "title": {
            "standoff": 15
           },
           "zerolinecolor": "white",
           "zerolinewidth": 2
          }
         }
        },
        "title": {
         "font": {
          "size": 20
         },
         "text": "Wizualizacja t-SNE dla osadzeń tekstów z TF-IDF",
         "x": 0.5
        },
        "xaxis": {
         "anchor": "y",
         "domain": [
          0,
          1
         ],
         "title": {
          "text": "Dim1"
         }
        },
        "yaxis": {
         "anchor": "x",
         "domain": [
          0,
          1
         ],
         "title": {
          "text": "Dim2"
         }
        }
       }
      }
     },
     "metadata": {},
     "output_type": "display_data"
    }
   ],
   "source": [
    "tsne = TSNE(n_components=2, random_state=42, perplexity=12, n_iter=1000)\n",
    "tsne_results_tdidf = tsne.fit_transform(tfidf_matrix.toarray())\n",
    "\n",
    "tsne_df_tdidf = pd.DataFrame(tsne_results_tdidf, columns=['Dim1', 'Dim2'])\n",
    "tsne_df_tdidf['Text'] = texts\n",
    "tsne_df_tdidf['Label'] = labels\n",
    "\n",
    "color_map = {\n",
    "    \"Neutral\": \"dodgerblue\",\n",
    "    \"Positive\": \"green\",\n",
    "    \"Negative\": \"red\"\n",
    "}\n",
    "\n",
    "fig = px.scatter(\n",
    "    tsne_df_tdidf, x='Dim1', y='Dim2', \n",
    "    color='Label', hover_data=['Text', 'Label'],\n",
    "    title='Wizualizacja t-SNE dla osadzeń tekstów z TF-IDF',\n",
    "    color_discrete_map=color_map\n",
    ")\n",
    "\n",
    "fig.update_traces(marker=dict(size=10))\n",
    "fig.update_layout(\n",
    "    title_x=0.5,\n",
    "    title_font=dict(size=20)\n",
    ")\n",
    "\n",
    "fig.show()"
   ]
  },
  {
   "cell_type": "code",
   "execution_count": 412,
   "metadata": {},
   "outputs": [
    {
     "data": {
      "application/vnd.plotly.v1+json": {
       "config": {
        "plotlyServerURL": "https://plot.ly"
       },
       "data": [
        {
         "customdata": [
          [
           "pozgłaszać cwiczenie analiza dostać trochę plus",
           "Neutral"
          ],
          [
           "polecać wziąć serce rada j",
           "Neutral"
          ],
          [
           " zajęcia starać  mogła em nadgonić grupa zdawać em matura anglik znaleźć em b",
           "Neutral"
          ],
          [
           "sluchać zajeci zrobić dom zadanek powinienes problemow zaliczyc",
           "Neutral"
          ],
          [
           "zajęcia nudny sprawdzać obecnosci",
           "Neutral"
          ],
          [
           "cóż",
           "Neutral"
          ],
          [
           "prawde mowiac uczucie mieszany",
           "Neutral"
          ],
          [
           "krotko grupa zaliczylać oddal nikt jeden sprawka",
           "Neutral"
          ],
          [
           "human odzywać robić polcać nastawiać obecność dobry ocena",
           "Neutral"
          ],
          [
           "zajęcia prowadzić luz wymagać",
           "Neutral"
          ],
          [
           "kurs algebro geometria analityczny ocena",
           "Neutral"
          ],
          [
           "choc totalny tajfun tablica chwila Poprawiac facet spoko",
           "Neutral"
          ],
          [
           "chyba algebrze inaczej",
           "Neutral"
          ],
          [
           "niektóry v",
           "Neutral"
          ],
          [
           "przyłapanie ściąganiu dany praca",
           "Neutral"
          ],
          [
           "co prosty trochę pomęczyć sprawdzić wytrwałość wink przedmiot traktować poważnie praca nosić czas duży problem",
           "Neutral"
          ],
          [
           "sam labork robić zbyt",
           "Neutral"
          ],
          [
           "pisemny test gramatyka uzupełnianka obszerny przejścia poprawka",
           "Neutral"
          ],
          [
           "mówić profesor jesst ciekawy nieraz potrafić zainteresować minus mówić",
           "Neutral"
          ],
          [
           "oczywiscie odda d",
           "Neutral"
          ],
          [
           "prawda wykład średnio ciekawy wykonać folia pozostawiać życzenie",
           "Neutral"
          ],
          [
           "minus SA test dokładni poziom choc martwic niezaliczen pierwszy termin drugi łatwo zaliczaja",
           "Neutral"
          ],
          [
           "zdarzyc błąd",
           "Neutral"
          ],
          [
           "ocena obecność uważać lubić gadający zdarzać postawić nazwisko kropke",
           "Neutral"
          ],
          [
           "pierwszy termin wyklad zaliczylo osoba drugi dobrze wiec mozesz zalicz przedmiot inny wykladowca cwiczenie przepisac ocene wyklada mieć spokoj zrobil zero stres",
           "Neutral"
          ],
          [
           "dzielil sala grupa zazwyczaj pierwszy grupa mial zadanie najlatwiejy zle",
           "Neutral"
          ],
          [
           "wiedzieć czegos nauczyc majac wczesniej styk pp trochy rzecz glowo rozjasnilo mazanie folia",
           "Neutral"
          ],
          [
           "napisac kolokwi zdazaja rzadko kartkowka",
           "Neutral"
          ],
          [
           "lab przejść pobiegać pochodzić konsultacja chyba czuć radość student przychodzić",
           "Neutral"
          ],
          [
           "jedyny uwaga znajdziesz tablica waz slowy",
           "Neutral"
          ],
          [
           "zajecia chodzić oddać zrobić uratowac oblać podwyższyc ocene",
           "Neutral"
          ],
          [
           "koło zdanie łatwy",
           "Neutral"
          ],
          [
           "opinia podstawa kurs płyn ii zeszłoroczny prowadzić zajęcie zrozumiać potrafić nauczyć",
           "Neutral"
          ],
          [
           "zadanie egzamin latwy nalezać ukladajać pracownik wiec co spodziewac ocena ogólny średnio jeża",
           "Neutral"
          ],
          [
           "ocene podwyższać referat wystąpienie przypadek seminarka",
           "Neutral"
          ],
          [
           "informatyk ogólnie źle robić śmy ćw móc śmy przećwiczyć dom łatwy temat sposób spisać kod napisany dom przeróżny korzystać książka gł źródło dodatkowy wiedza kartkówka nei trudny przyjmować projekt pytać wiedzieć chodzić koniec okazać program zaliczeniowy oddawać luz podnosić ocena ponoć robić to znaczy dokr ę",
           "Neutral"
          ],
          [
           "zajmować góra dzień zwłaszcza odpowiedź sa wspólnie opracowywać student",
           "Neutral"
          ],
          [
           "pytanie laborka potrafić ciężki wylecieć koniec laboratorium reguła grupa bedą zapytać cały zajęcia",
           "Neutral"
          ],
          [
           "dostać trzy trochę postarać",
           "Neutral"
          ],
          [
           "inny ćwiczenia",
           "Neutral"
          ],
          [
           "podobno niedawn postrach głównie sprawa fizyka ii mój kadencja zmiękł chociaż nadal trudno",
           "Neutral"
          ],
          [
           "mieć zdanie rozmowa bedziesz zupelć robić byle mieć nieobecność zaliczyć",
           "Neutral"
          ],
          [
           "zaliczenie podstawa obecność",
           "Neutral"
          ],
          [
           "robić jeden zapowiedziać wejściówkea bodajże trzeci laboratorium",
           "Neutral"
          ],
          [
           "wymagać absolutny cisza słuch wzrok absolutny usłyszeć wypatrz",
           "Neutral"
          ],
          [
           "przyłożyć nauczyć aha lubić spóźniać",
           "Neutral"
          ],
          [
           "górniak wymagający dawać raczej standardowy zadanie skrypt",
           "Neutral"
          ],
          [
           "chodzić zajęcia wiadomo póki przyjść prowadzić rozgrzewać piłka każdy czas robić mały rozgrzewke konkurs wyścig rząd konkurs zucania dwutakt lewy ręka potać grać zespół system wybierać student najczeście grać mecz rewanż grać mecz streetball potem grać cały boisko",
           "Neutral"
          ],
          [
           "zaliczyć oddać wypracowanie napisać koło niewiele zdecydować",
           "Neutral"
          ],
          [
           "kazde cwiczenie zadan grupa ocena teza grupowy system oceniać chaotyczny zgodnie motto korzysc student raca e",
           "Neutral"
          ],
          [
           "koło zwykle łatwy należeć człowiek troszkę postarać zaliczyć problem",
           "Neutral"
          ],
          [
           "zwyczajnie pytać rzecz zwykle pomijać wydawać małoistotny",
           "Neutral"
          ],
          [
           "zaliczenie strona internetowy wymyśloć firma biznes plan",
           "Neutral"
          ],
          [
           "koniec wyklad dawać pytanie SA wybierać egzamin trudno zaliczyc",
           "Neutral"
          ],
          [
           "obnizyl prog zaliczenie punkt shock generalnie zle pozatym air inny wybór",
           "Neutral"
          ],
          [
           "podpisywać opinia poprzednik wszystek klawisza klawiatura",
           "Neutral"
          ],
          [
           "odpowiadać pytanie głośno zdecydowanie",
           "Neutral"
          ],
          [
           "wyklad lubić dygresja zarcik zamotać wlasny wyprowadzenia fizyk cwiczyć raz uciekl cwiczen pokluceć portier przyszedl dol powiedzial cwiczeniowiec nakrzyczal portier uciekl nieznany potrafić rozwlec rozwiazywać zdanie listy robic par cwiczen dawać punkt zadanek zglosić poznie procentować skubaniec umieć zapamietacć wskazac dany osobe sala wykladowy zwrocic nazwisko oplacać isc konsultacja szczegolnie ii kolokwium obecny dostać nadzwyczaj duze ilosci punktow duzy kol na przykład dostal punktow dalo ladny czworeczke",
           "Neutral"
          ],
          [
           "kolokwiać kartkówka ewentualnie aktywność należeć najprostrzy uczyć robić zadanie skrypt spokojnie mieć",
           "Neutral"
          ],
          [
           "kolokwium zaliczniowy ćwiczen wygladać nastepująco",
           "Neutral"
          ],
          [
           "Marcin szxxxak mgr fizykać ćwiecznie wppt ib ocena tendencja zwyżkowy b ogólnie zły prowadzący",
           "Neutral"
          ],
          [
           "wymagać przesadzać trochy uczyć problem",
           "Neutral"
          ],
          [
           "ogólnie ambitny warto chcieć przejśc warto zapisac sens chodzic wykład trochę własny praca",
           "Neutral"
          ],
          [
           "oczywiscie skrypt prowadzac sa biblia",
           "Neutral"
          ],
          [
           "inaczej wahać pan apostoluk pani kołodzi wiedzieć kto wybrać",
           "Neutral"
          ],
          [
           "niestety zaliczeć łatwo kolokwie oceniać system generalnie być bieżąco zdać",
           "Neutral"
          ],
          [
           "profesor miły osoba człwiek wykłada chemia analityczny rzeczywiście delikatnie rzecz ujmować podpowiadać pytanie niemniej niekiedy wykład prowadzić liczny dygresj miły przyjemnie mijać czas co uczyć",
           "Neutral"
          ],
          [
           "kurs algebro geometry analityczny wykład gosć swój świat wygnieciyć wyspać balować cały dno noc",
           "Neutral"
          ],
          [
           "wyczyta nieobecny osoba czytać kolejny zajęcia",
           "Neutral"
          ],
          [
           "matematyka nauczyć umieć skrypt nauczyc zapić",
           "Neutral"
          ],
          [
           "ocena przejście Jerzy całkiem fajny matematyk prawda dosyć ekscentryczny zły móc wydawać",
           "Neutral"
          ],
          [
           "naprawde",
           "Neutral"
          ],
          [
           "dać ściągać współpracować zdarzać sytuacja zaliczyć osoba ściągać ściągać niestety",
           "Neutral"
          ],
          [
           "piec kartkowek wejsciowka sa podstawa zaliczeć",
           "Neutral"
          ],
          [
           "sprawdzać obecnosci dawać ocene praktyka krotka rozmowa naprawde m student sluchajać",
           "Neutral"
          ],
          [
           "pytac ustć",
           "Neutral"
          ],
          [
           "zajecia porywajace zbytnio interesujace wiec pelnia polecać",
           "Neutral"
          ],
          [
           "oddawać sprawozdanie coś ważny",
           "Neutral"
          ],
          [
           "mówić sprawa niezwiązany przedmiot",
           "Neutral"
          ],
          [
           "wytłumaczyć czas pytać rozumieć rozumieć dany dział tłumaczyć potwierdzać zrozumilei koło raczej trudny liczyć dopytke koniec niezdawać swój wada ciekawa postacie czesto zagłebiać wykładzie temat",
           "Neutral"
          ],
          [
           "sala osoba potrafić śmiać prosto twarz",
           "Neutral"
          ],
          [
           "inny kola",
           "Neutral"
          ],
          [
           "projekt specjalnie rozbudować ładnie wyglądać mieć elegancki zrobiyć dokumentacja pokazywać ładny wykres",
           "Neutral"
          ],
          [
           "byl absolutnie _ _ cwiczen dopytka dostal wiec lagodny chodzacy",
           "Neutral"
          ],
          [
           "Kotarba Wiesław profesor",
           "Neutral"
          ],
          [
           "raz udać zaliczyć ostatni poprawka zaliczyć przepisać zadanie list przepić wszytki większość to znaczy mieć lista zrobić przejść",
           "Neutral"
          ],
          [
           "eit cz elektroniczny razem profesor",
           "Neutral"
          ],
          [
           "zauwazylać pilnować wstawianie plus aktywnosc cwiczenie ostatecznie przejmować wiedzieć dolicz punkt koło pary raz tablica bylam zostalo doliczyć pół punkt",
           "Neutral"
          ],
          [
           "reszta zadanie standard maga c",
           "Neutral"
          ],
          [
           "zaliczenie wymagać napisać dwa koło",
           "Neutral"
          ],
          [
           "oczywiscie koniec mieć odfajkować inaczej siedzić zrobić wszystko",
           "Neutral"
          ],
          [
           "raczej narzekać rewelacja",
           "Neutral"
          ],
          [
           "rrowadzić zarówno wykład ćwiczenie",
           "Neutral"
          ],
          [
           "wykład wykład sam skrypt",
           "Neutral"
          ],
          [
           "chodzić wykład wemif ie człowiek chyba wybór chyba doktor juszkiewicz wykładać",
           "Neutral"
          ],
          [
           "ćwiczenie warto przygotować błyskać każdy zajęcia zapamiętać",
           "Neutral"
          ],
          [
           "robić kartkówka",
           "Neutral"
          ],
          [
           "doktor",
           "Neutral"
          ],
          [
           "doktor chemik prowadzić kurs nasz wydział d rzecz",
           "Neutral"
          ],
          [
           "praktycznie pytać każdy zajęcia tyle grupa em szczeście pytać prawi każdy",
           "Neutral"
          ],
          [
           "zdecydujeć chodzic wykład pamiętać zajęcia punktualnie koleś zamykać drzwi koło sala każdy sala pilnować osoba ściagac dać rade",
           "Neutral"
          ],
          [
           "ocena wystawiać własć podstawa obecność",
           "Neutral"
          ],
          [
           "fakt zadać koło specyficzny",
           "Neutral"
          ],
          [
           "doktor t kowal chemia nieorganiczny ii ćwiczenie ocena pozytywny b specyficzny prowadzić zajęcia",
           "Neutral"
          ],
          [
           "umieć wytłumaczyc trudny zadanie chociaz naprawde trudniejy miły chęć omiajał mówić prosty trudny być liczyc koło d zrobić par zapowiedziany kartkówka każdy punkt",
           "Neutral"
          ],
          [
           "mieć nieusprawiedliwioną reszte usprawiedliwiac chyba odrabiać zanizać ocene końcowy",
           "Neutral"
          ],
          [
           "przepisować skrypt tablica",
           "Neutral"
          ],
          [
           "kurs angielski b e średnio jeża b kurs bezstresowy niezapowiedziany kartkówka zapowiedziany zresztą",
           "Neutral"
          ],
          [
           "ocena ujść ciężko dorwać",
           "Neutral"
          ],
          [
           "większośc zajęcia prowadzący uczyć pływać kilka grać śmy piłka polecać kurs odpłatny złoty",
           "Neutral"
          ],
          [
           "suma bezstresowy zajęcie dopóki kolokwium",
           "Neutral"
          ],
          [
           "chodzić sala hmmmm",
           "Neutral"
          ],
          [
           "zgadzać powyzszy opinia",
           "Neutral"
          ],
          [
           "cztery zapowiedziać kartkówka mogące dodać cztery dodatkowy punkt pula punkt kolokwi",
           "Neutral"
          ],
          [
           "chyba fanatyk swój dziedzina trochy pamietać wiekszosć koniec zdać",
           "Neutral"
          ],
          [
           "zajeci naleza cicho osoba gadajaca przylapać moge miec obnizonać ocene",
           "Neutral"
          ],
          [
           "zadanie robić",
           "Neutral"
          ],
          [
           "żaden gadać przedmiot popchnięty przód",
           "Neutral"
          ],
          [
           "achi temat kurs międzynarodowy standard praca raczej międzynarodowy organizacja praca prowadzący głowny człowiek taki",
           "Neutral"
          ],
          [
           "chcieć zrobić",
           "Neutral"
          ],
          [
           "według minuta trochy",
           "Neutral"
          ],
          [
           "jeśio usłyszeć być wykłaść sala wałbrzyski dobrze siadać rząd daleko nikły szansa usłyszeć",
           "Neutral"
          ],
          [
           "prowadzić wykładu patrzeć podłoga bać student d zaliczeć sem sprawdzać raz obecność przynajmniej raz zaliczyć",
           "Neutral"
          ],
          [
           "tyle liczba nagy prawda d pierwszy kolo latwo problemow zaliczyc troszkę pouczylo zrozumialo podstwa",
           "Neutral"
          ],
          [
           "lubić pożartować lekcja trzymać plan lekcja żart lekcja prowadzić mówić francuski",
           "Neutral"
          ],
          [
           "siakoś",
           "Neutral"
          ],
          [
           "założenie zaliczyć punkt praktyka punkt",
           "Neutral"
          ],
          [
           "forma dowolny referat rozprawka opowiadać dialog wiersz objętość strona maksymalć dwa",
           "Neutral"
          ],
          [
           "zazwyczaj wcześnie uprzedzać koło",
           "Neutral"
          ],
          [
           "ogólnie bwe pikuś",
           "Neutral"
          ],
          [
           "pytać każdy zjawisko cokolowiek wspólny dany ćwiczenie",
           "Neutral"
          ],
          [
           "widzieć uwaga sluchacza zaczynać uciekac opowiedzieć kawal anegdota historyjka pora wykladow masakryczna przynajmniej",
           "Neutral"
          ],
          [
           "mówić staropolski powiedzeć andr",
           "Neutral"
          ],
          [
           "znać minimum fizyka wersja profesor",
           "Neutral"
          ],
          [
           "docent powiedzieć inaczej",
           "Neutral"
          ],
          [
           "początek zaznaczać kurs teleinformatyka teoria obwód nazwa straszny twisted profesro stary przychodzić swój kartka przepisować tablica zwracać uwaga dziać sala koniec podawać zagadnienie koło przysc e gotowc opracowany sciąge",
           "Neutral"
          ],
          [
           "szukać klucz wielkość brać em uwaga to znaczy yato neo wzgląd duży rozstaw szczęk kupić em yato akurat dostępny pobliski sklep niski cena pyzatym część narzędzie firma sprawdzać rozpakować trochę rozczarować em sprawa regulowany szczęka rok bok sztywny duży klucz posiadać szerokość szczęka ruchomy duży szerokość nieruchomy prawdopodobnie luźny proces obróbka odchylać boka kolejny minus zablokować sworznia mianowicie nacięcie jakiś tarcza szlifierski plus ergonomiczny gumowy rączka otwor użyć klucz oczkowy zawieszić wiec klucz spełniać swój rola ideał człowiek ceniący zarówno funkcjonalność jakość wykonać",
           "Neutral"
          ],
          [
           "długo szukać metr odpowiedni fotelik wysoki latka wcześnie użytkować metr fotelik kilogram duży producent podawać kilogram niestety trochę wyrost chociaż teoretycznie dziecko mieścić środkowy przedział wagowy kilogram fotelik okazać zbyt mały maksymalnie wysuniętym zagłówek głowa dziecko dotykać górny krawędź fotelik wyobrażać fotelik służyć następny rok fotelik wyglądać solidnie myśleć świetnie nadawać fotelik następny nosidełko",
           "Neutral"
          ],
          [
           "krzesełko ładny kolorystyka przydatny regulacja siedziski oparcie szybko wyczyścić pokryć specjalny materiał wnikać woda oprócz sam minus dziecko poci krzesełko straszliwie wzgląd materiał krzesełko ciężki kółeczka przód uniemożliwiać przesuwanie zajmować sporo miejsce kosztować sporo wiedzieć rynek droższe osobiście drugi metr kupić",
           "Neutral"
          ],
          [
           "dobry wytrzymać obudowy plus przemawiać niezły odprowadzać ciepło wytrzymać konstrukcja solidny wykonanie atrakcyjny wygląd obudowy niestety wada niestabilny przypadek niektóry stary komputer przyczyna duży wymaganie prądowy chodzić port usb drugi widoczny wada fakt dysk zamontowanie sztywny wyczuć wyraźny poruszać obudowa drgani wpływać wydajność wytrzymałość dysk brać uwaga dysk należeć traktować delikatnie wada pominąć polecać obudowa",
           "Neutral"
          ],
          [
           "bazyl dwuletni buldog francuski ulubieńc cały nasz rodzinka borykać alergia szczególny uwaga zwracać karma który wybierać testować śmyć różny karm weterynaryjny gotowany mięso różny skutek spory problem częsty niespodziewany gaz K",
           "Neutral"
          ],
          [
           "pierwszy krem twarz używać metr tani wydajny natłuszczać skóra ogromny zaleta szczególnie zima krem nijaki polecać używać lato ciepły dzień skóra świeta tłusty krem swój zapach przepadać zbyt ciężki mocny krem twarz zdanie odpowiedni osoba stary zależeć ochrona skóra mroz pamiętać nadawać makijaż wyglądać brzydko nienaturalnie polecać mroza",
           "Neutral"
          ],
          [
           "szczerze wiedzieć polecać drogeri wow mieć metr rozstęp początkowy faza używać olejku widzieć rozstęp głębsz brzydsz wyglądać przyzwoicie pójść metr dermatológ przepisać maść pomału naprawiać błąd olej zdanie stracić metr pieniądz jedyny plus olejek nawilża skóra osoba skóra suchy zdecydowanie zadowolony",
           "Neutral"
          ],
          [
           "lodowka fajnie prezentować pojemny półka praktycznie rozplanować nieco głośna iść przyzwyczaić wydawać trochy dzwięek tradyzyjć lodówka własnie popsuć wymieniać rok sprzetu polecać wiedzieć trafić feralny model sklep agd potwierdzić firma beko rozreklamować wraz wzrot zainteresowanie stracić jakość dobrze wydać pary złoty mieć spokój parę rok",
           "Neutral"
          ],
          [
           "bohater film chłopiec stefek siostra elka mieszkać matka mały miasteczko życie określić dziwny stefek codziennie obserwować swój ojciec stacja kolejowy ojciec zostawić rodzina odejść inny kobieta chłopiec pogodzić zrozumieć stosować różny sztuczka wpłynąć ojciec los plan pełnia dopracoweć zmusić ojciec odwiedzić matka międzyczas elka rozmowa praca",
           "Neutral"
          ],
          [
           "spośród szlifiereka metabo wqw hitachi gva skillć dewalt okazal dobry pracować dobrze metabo poręczniejszać pracownik woleć dewalta przegrzewać zwyczajnie mocny rok wysyć być serwis nadzwyczaj sprawnie szybko działać zaznaczyć żę pracować duuużo ciężko często przystawka satynować duży obciążenie polecać dewalt lekko hitachi zdecydowanie droższy system regulacja obrót obciążenie świrywać",
           "Neutral"
          ],
          [
           "użytkować miesiąc awaryjność powiedzieć polecać mały łazienka fajny funkcja fresh matic spłuczka móc załadować środek zapachowo dezynfekcyjć kształt niebieski kredka aplikacja przekombinować działać kupić  miska style koniec polecę praktyczny korzystać niestety trochę odbijać powierzchnia miska winien profil miska przepraszać obrazowo konkretnie pozdrawiać",
           "Neutral"
          ],
          [
           "chyba spodziewać metr coś kosmetyk słyszać metr tyle słowo zachwyt kosmetyk zbyt ciepły tonacja uważać zrobić plamć twarz wykluczać spowodować brak umiejętność makijażowy plus fajny matowy wykończenie brak świecący drobinek piękny wytrzymały opakowanie ważny podróżować zdarzać kosmetyk niszczyć transport puder zaliczyć lot stolik lądowanie podłoga test odporność zdać celująco zmieniać fakt raczy kupić kolejny kosmetyk",
           "Neutral"
          ],
          [
           "pilot funkcjonalnie pierwszy klasa dosłownie sterować ogromny baza sprzęt możliwość dowolny konfigurować super wygląd podświetleć klawiszyć auto wyłączać ekran niestety jakość wykonać pozostawiać życzenie konkretnie klawisz użytkować zacinać pierwszy egzemplarz wymienić nowy drugi tez identyczny problem klawisz niestety rozebrać iść próbować em stary wystarczyć wyczyścić gumek wymienić styka węglowy dom pilota sprzęt audioa kilkanaście rok działać zarzut",
           "Neutral"
          ],
          [
           "pierwszy wrażenie pozytywny czytelny wyświetlacz am działać płynnie kończyć zaleta urządzenie navroad s bateria działać max minuta ładować cały urządzenie mocno grzeć znaczącą temperatura odczuć minuta sparować urządzenie telefon chcieć użyć zestaw głośnomówiący usłyszyć niewyraźny bełkot nadawać urządzenie głośnomówiący chodzić pojemność bateria przegrzewanie urządzenie krążą opinia foer serwis odsyć urządzenie opisować działo niestety nawigacja wyłączać godzina praca pomagać kilkukrotny rozłączć uchwyt ładujący sens pisać zalet urządzenie skoro brak możliwość normalny korzystać urządzenie trasach powyżej godzina mówić np godzina dwa kierowc oczywiście przykro urządzenie zaawansowany sprawować powyższy navroad zadowoleć urządzenie przegrywać niezadowolen urządzenie zadowalać odmawiać posłuszeństwo rok serwis navroad odmówić naprawa płatny wzgląd brak część",
           "Neutral"
          ]
         ],
         "hovertemplate": "Label=%{customdata[1]}<br>Dim1=%{x}<br>Dim2=%{y}<br>Text=%{customdata[0]}<extra></extra>",
         "legendgroup": "Neutral",
         "marker": {
          "color": "dodgerblue",
          "size": 10,
          "symbol": "circle"
         },
         "mode": "markers",
         "name": "Neutral",
         "orientation": "v",
         "showlegend": true,
         "type": "scatter",
         "x": [
          23.51275,
          28.571283,
          -0.78046995,
          8.191108,
          27.757893,
          45.07595,
          28.616055,
          10.133819,
          10.571944,
          20.710106,
          -1.9550922,
          -11.78271,
          24.286564,
          42.90961,
          13.576856,
          -27.077127,
          29.399685,
          7.5879436,
          -11.67128,
          37.746494,
          -7.8386116,
          -13.349077,
          40.223835,
          6.089205,
          -15.00913,
          14.442746,
          -0.44250372,
          28.110472,
          -18.011978,
          8.1071,
          1.5150975,
          24.944225,
          -10.366024,
          -22.853197,
          17.586367,
          -29.195929,
          -15.857857,
          -4.274511,
          26.463943,
          44.319786,
          -10.807311,
          -6.368926,
          29.02125,
          2.0408788,
          9.698096,
          3.733619,
          16.12198,
          -27.166481,
          5.4231386,
          -22.20313,
          4.409094,
          9.560141,
          12.479343,
          5.016013,
          3.7628684,
          13.787755,
          11.729488,
          -33.805984,
          -16.716303,
          16.400066,
          -2.4529173,
          40.937836,
          -6.694779,
          20.740524,
          -7.705718,
          -9.793057,
          -21.9776,
          -14.177629,
          15.97222,
          29.924833,
          -4.600275,
          48.038624,
          -2.8105688,
          7.3406334,
          -16.437984,
          38.665115,
          11.902474,
          25.134085,
          15.293663,
          -31.599356,
          15.245944,
          44.131565,
          -4.9776926,
          8.6680975,
          19.892088,
          -8.096515,
          25.053381,
          -18.135115,
          32.316113,
          26.143612,
          8.089071,
          32.332085,
          19.193758,
          29.070337,
          -9.768177,
          19.115355,
          42.51308,
          48.53423,
          6.3290396,
          -0.4513138,
          -24.462057,
          27.866116,
          25.266748,
          -6.775808,
          -18.668926,
          -3.3239744,
          29.346363,
          -4.450423,
          21.108099,
          -8.805666,
          16.263784,
          16.330547,
          30.431955,
          0.4741497,
          -1.372836,
          0.4030798,
          41.579674,
          27.531656,
          -14.361322,
          32.54802,
          21.223154,
          -19.63306,
          -19.3045,
          -14.777423,
          -0.32660744,
          46.17628,
          -0.47671175,
          -13.196665,
          27.046276,
          31.993256,
          13.556177,
          1.1631417,
          14.664745,
          19.014643,
          24.223845,
          -25.894114,
          -40.891056,
          -35.129448,
          -31.253563,
          -35.212658,
          -29.980974,
          -27.429876,
          -29.808558,
          -32.564766,
          -29.200457,
          -35.488293,
          -29.845886,
          -30.852968,
          -30.822454,
          -40.943146
         ],
         "xaxis": "x",
         "y": [
          -6.1509614,
          21.22378,
          -12.225279,
          9.883458,
          16.902851,
          11.735792,
          12.868507,
          6.207736,
          -5.891646,
          -15.287487,
          11.279792,
          -16.754486,
          17.036676,
          7.5676923,
          -22.983063,
          4.896823,
          -12.128896,
          -9.215902,
          1.9807512,
          4.1952686,
          -10.733506,
          -17.405685,
          12.064176,
          -4.9634047,
          -3.002436,
          -12.399675,
          -4.632537,
          7.595219,
          7.056622,
          0.9359744,
          -1.2021499,
          6.3638515,
          10.032874,
          7.5146017,
          -7.5560226,
          -7.5496707,
          9.547334,
          2.1263483,
          10.096893,
          19.21462,
          11.292013,
          5.664577,
          -1.0068004,
          8.365188,
          -3.5866451,
          8.424667,
          -2.87216,
          -1.3833094,
          -3.237624,
          5.9984937,
          -5.9788027,
          7.593285,
          10.00904,
          12.188268,
          0.9889386,
          -5.9645505,
          14.591353,
          -3.5985317,
          -0.5949813,
          1.9077222,
          -24.314137,
          -4.2907395,
          1.1296296,
          7.095022,
          -3.6760557,
          -13.126238,
          -5.4340677,
          5.5800304,
          -5.132329,
          6.239735,
          -3.6979663,
          10.012048,
          0.9261453,
          12.905863,
          8.166972,
          7.266694,
          -1.0930703,
          13.372095,
          7.5727468,
          -14.537892,
          -12.734821,
          19.573347,
          -0.08781611,
          -2.1915977,
          15.090981,
          3.6976469,
          11.515134,
          2.3835912,
          -4.630059,
          7.063701,
          3.7877028,
          12.328772,
          11.040937,
          -11.951262,
          -5.90354,
          -3.3533578,
          11.199893,
          12.665252,
          5.5794334,
          -11.142627,
          0.5445927,
          -1.9289056,
          8.194707,
          9.496038,
          -0.88392234,
          -3.3205304,
          9.365209,
          8.883163,
          1.2715253,
          0.9177108,
          8.52607,
          -13.431502,
          2.8222888,
          8.749991,
          -7.9306946,
          -1.8779011,
          11.460174,
          8.771182,
          -10.869798,
          -3.0224214,
          11.502512,
          -4.8309937,
          4.4785213,
          -6.7945466,
          1.0083079,
          11.884039,
          10.913483,
          -12.2028265,
          6.248859,
          21.456547,
          -22.607473,
          0.4282139,
          5.501777,
          16.801256,
          18.614912,
          -6.7085757,
          -8.966644,
          -9.460173,
          -5.3106346,
          -13.407571,
          -10.979883,
          -4.386552,
          0.99450624,
          -8.275315,
          -2.9646242,
          -6.7992277,
          -1.6729636,
          -4.009604,
          -7.1571684,
          -5.578967
         ],
         "yaxis": "y"
        },
        {
         "customdata": [
          [
           "luzacki prowadzić",
           "Positive"
          ],
          [
           "fizyk laborek polecać b tadeusz wporzadek facet początkowo wydawać groźny zapowiedzieć pierwszy zajęcia kartkówke zdołać przestraszyć sam siebie chyba p kartkówka sa specyficzny część grupa część marudź",
           "Positive"
          ],
          [
           "algebro geom analityczny polecać em wykład fajny podejsec student tez czlowieka mylić przyznale bledow",
           "Positive"
          ],
          [
           "duza częśc grupa zaliczyć kolokwia",
           "Positive"
          ],
          [
           "ogólnie polecać",
           "Positive"
          ],
          [
           "zaliczenie raczej problem",
           "Positive"
          ],
          [
           "doktor czylelć jasno prowadzić wykład chodzić suma musieć uczyc",
           "Positive"
          ],
          [
           "kisielewsko metr mgr pływać polecać b ocena obecnosc",
           "Positive"
          ],
          [
           "zasada prosty kolokwia zadanie ćwiczenie egzamin żądź p mastalerz niewtajemniczony ulubiić ksiazek prowadzący profesor skarżewski człowiek sympatyczny chociaż przypadek ocena proponować metr żaden dyskusja chyba polecać",
           "Positive"
          ],
          [
           "Małgorzata chętny pomoc trudniejszy zadani",
           "Positive"
          ],
          [
           "pogadać zagadać spytac",
           "Positive"
          ],
          [
           "kartkówka tez pytać",
           "Positive"
          ],
          [
           "dopiero miara luz zdać najwięcej osoba",
           "Positive"
          ],
          [
           "prowadzić przejrzyście",
           "Positive"
          ],
          [
           "sporo dowiedziec",
           "Positive"
          ],
          [
           "niesamowity poczucie humor ciagle wstawka rozsmieszeć towarzystwo i tak dalej",
           "Positive"
          ],
          [
           "ogólnie polecać",
           "Positive"
          ],
          [
           "puścić listy potem stwierdzić daleko czytać szybko niedziwie człowiek wpisywać obecność wcześnie zapas d hehe em nieobecność chyba dać dogadać lu zwolnić przynieść d uznawać d",
           "Positive"
          ],
          [
           "wprost chcieć przychodzić",
           "Positive"
          ],
          [
           "zajęcia prowadzić ciekawy potrafić przekazywać wiedza",
           "Positive"
          ],
          [
           "ogólnie polecać human punkt",
           "Positive"
          ],
          [
           "fajny kontakt student",
           "Positive"
          ],
          [
           "wyjątkowo miły człowiek nieco zestresować obecność świat człowiek radzić patrzenie podłoga podobno pomagać",
           "Positive"
          ],
          [
           "duza plus dodatkowy punkt aktywność",
           "Positive"
          ],
          [
           "egzamin łatwo",
           "Positive"
          ],
          [
           "scharoch wypadać naprawde swietć",
           "Positive"
          ],
          [
           "szermierka ciekawy sport gańcz potrafić nauczyc",
           "Positive"
          ],
          [
           "pytanie raczej prosty trudno zaliczyc",
           "Positive"
          ],
          [
           "analiza matematyczny wykład ćw wydawać mila osobka tłumaczyć wszytko dokladć zadny pospiech",
           "Positive"
          ],
          [
           "górniak ćwiczenie wogóle trzebaby chodzić",
           "Positive"
          ],
          [
           "wstęp programowania laborka wykład kurs archaiczn środowisko turbo pascal polecać tyc mieć nieco czynić pascal zaliczenie samouk pierwszy zajęcia podejść prowadzący zapytać uzyskać zaliczenie chodzeć laborek kara napisać program oprzeć baz dane piszesz program oddawać przyłożyć eś dostajesz przepisanie ocena wykład musieć pisać test zaliczyć wykład",
           "Positive"
          ],
          [
           "koniec koło prosty",
           "Positive"
          ],
          [
           "pospać zajęcia",
           "Positive"
          ],
          [
           "zajęcia panować miły atmosfera doktor modrzycki duży poczucie humor nudzić",
           "Positive"
          ],
          [
           "ogolny ocena polecać",
           "Positive"
          ],
          [
           "dbać zajęcia odezwać coś potrafić gnębi pomagać",
           "Positive"
          ],
          [
           "polecać kurs prowadzący",
           "Positive"
          ],
          [
           "mieć możliwość zapisania zajęcia pać doktor polecać serdecznie",
           "Positive"
          ],
          [
           "dobry wykładowiec",
           "Positive"
          ],
          [
           "gosc nieziemski",
           "Positive"
          ],
          [
           "dobrze mogł eś trafić",
           "Positive"
          ],
          [
           "doktor kornel wporzadek wprwawdzie potrafić nauczyc algebry przyznawać umieć d przyjaznie nastawić studentow wyklada sa ciekawy dr niezbyt czesto poruszać problematyke czysto matematyczny zwykle opowiadać ciekawy dziać siwet kolokwi sa prosty warunek posiedź skrypt raga sciagac zlaszcze sasiadow sam koło doktor kornel siedzieć kat nikt zwracać uwaga sprawdzać praca robić wnikliwy sledztwo ogólnie polecać",
           "Positive"
          ],
          [
           "człowiek taki lajtu zyć widzial postanowil przytoczyc zdan pierwszy wyklad mało wiecej wykl",
           "Positive"
          ],
          [
           "kolokwiać SA trudny standart ogolnouczelniać",
           "Positive"
          ],
          [
           "poczucie humor student tez czlowieka poprost super",
           "Positive"
          ],
          [
           "kurs fizyk ćw b miły sympatyczny śmiać czesto ironicznie p",
           "Positive"
          ],
          [
           "znać tez ćwiczenie przystepnie tłumaczyć",
           "Positive"
          ],
          [
           "gańcz osoba dobry nauczyciel początkujący rozumieć wogóle powyższy komentarz chodzić wiel K",
           "Positive"
          ],
          [
           "wykład cwiczenie prowadzić b gonić materiał robioć poprosto zaszybko",
           "Positive"
          ],
          [
           "doktor wymagać systematyczność spokojnie zaliczyć em komplet wykład profesor dowodzić śmieszność system niemnie doktor duda szczególnie laborka godny polecenie tłumaczyć wógle miły ocena prowadzący bdb ocena pomijać zasada zaliczeć wykład wydawać odgórnie narzucić",
           "Positive"
          ],
          [
           "kurs analiza matematyczny ii wyklad numer b najciekwszy prowadzacy jaki mial stycznosc pwr",
           "Positive"
          ],
          [
           "zajęcia ciekawy wiedza wchodzić cząstkowy widzimis łatwy człowiek uczyć skarbnica dobry humor przyjazny student człowiek polecać pośmiac nauczyć raz napisać zadanko tablica rozwiązać człapać sala podpatruej robić",
           "Positive"
          ],
          [
           "ogolnie wiedzieć sprawdzać UE chyba pierwszy prowadzić magnesa UE tez dać rade",
           "Positive"
          ],
          [
           "algebro geometria analityczny ocena spoko b doktor rałowski baaardzo zakręcony człowiek",
           "Positive"
          ],
          [
           "koło banalny wystarczyć przerobić solidnie skrypt mieć zadanie koło wziąć wprost skrypt pozmieniać dane",
           "Positive"
          ],
          [
           "dr bogdan przepuszczać osoba brakować punkt zaliczenie bądź zdobyć minimum któregoś kolokwium",
           "Positive"
          ],
          [
           "kurs analiza mat wykł ćw ocena pozytwyn negatywny wykład przepisywać skrypt doktor wilhelm człowiek ból skrupulatny punktualnym troche anemiczny",
           "Positive"
          ],
          [
           "em przyjemność mieć ten pani wykład",
           "Positive"
          ],
          [
           "doktor calek sympatyczny choc niektorzy lubić",
           "Positive"
          ],
          [
           "ogólnie normalny informatyk polecać brać ciemno",
           "Positive"
          ],
          [
           "tlumaczyl wmiary jasno wstep teoretyczny",
           "Positive"
          ],
          [
           "wspaniały prowadzić wykład",
           "Positive"
          ],
          [
           "fizyk fizyk ii wyklada ciekawy dowcipny człowiek sporo kawalow anegdot super zajecie prowadzić przyjazny student wyłączć ofiara który profesor upatrzeć poczatek semestr ciek",
           "Positive"
          ],
          [
           "tłumaczyć robić zadanie skrypt palnie jakies dowcip",
           "Positive"
          ],
          [
           "każdy nieobecność ocena dół koniec chyba odrobić termin koniec krótki bezstresowy egzamin panika",
           "Positive"
          ],
          [
           "naprawde warto poznac",
           "Positive"
          ],
          [
           "ogólnie polecać Krzysztof bogdan swój plecak poczucie humor koniec podajcie ręka wymieńcie znak pokój spodobać każdy",
           "Positive"
          ],
          [
           "zaliczenie najmniejszy problem",
           "Positive"
          ],
          [
           "kol sa zbyt trudny wystarczyć miec dobry notatka cwiczen przeczytacć ksiazka",
           "Positive"
          ],
          [
           "filozofia natura elektryczny ciekawy referat dotyczyć dowcipny człowiek dobra profesor prowadzić zajęcia baardzo rekreacyjnie temat ciekawy",
           "Positive"
          ],
          [
           "mieć odróbeka ważny powód prowadzić zajęcia dogadać",
           "Positive"
          ],
          [
           "angielski kobietka wymagajacać robić duzy problemow zaliczeć",
           "Positive"
          ],
          [
           "human odbębnieć zajęcia grać karta worms bierka sala osoba praktycznie siedziać studentow",
           "Positive"
          ],
          [
           "ogólnie dobry fizyk  zwrot ocena strsznie",
           "Positive"
          ],
          [
           "chcieć nauczyć dobry wybór pra ś",
           "Positive"
          ],
          [
           "wstęp algebry geometria ciocie dorotek pseudonim dostać nasz grupa chyba dobry prowadzić c",
           "Positive"
          ],
          [
           "podstawa ocena indeksa egzamin niespodziewajka brak zadanie powtarzać poczucie humorupany pokład ogólny podejście student pozytywny zerowy termin najprostszy zadanie warunek przystąpić zaliczenie projekt doktor",
           "Positive"
          ],
          [
           "potrafić przystepny wyjaśnić różny zjawisko często robić dowcipny zapamiętować d",
           "Positive"
          ],
          [
           "ksiadz irka niesamowicie prowadzić zajecie",
           "Positive"
          ],
          [
           "analiza matemtyczny ocena b miły zajecie mijać wiedzieć mieć ocene trudnosca kolokwi kwestia przygotować",
           "Positive"
          ],
          [
           "uważać dobry kitowy obiektyw rynek wykonać metal dobry jakość tworzywić pierścień przysłona chodzić należyty opor skokiem wbudować stabilizacja wydajny naprawdę pomagać sytuacja obiektyw ostry duży otwór przysłona celność bdb pochwala dodatkowo szybki silnik autofokus używać  poczatek dosyć mułowaty x e przesiaść em x t móc chwalić ostatni plus opracować system uszczelnienie obiektyw zoom ogół zasysać kurz środek mieć być zoom nikkora sigmy problem polecać",
           "Positive"
          ],
          [
           "obiektyw przeznaczyć osoba dopiero zaczynać fotografować lustrzanka cyfrowy marka canon obiektyw stabilizacja obraz nowszym model mark III cena obiektyw wygórować kupić dobry stan złoty obiektyw śmieszny pieniądz początkujący fotografa dobry wybór zapoznanie możliwość własny sprzęt wykładać początek wielki suma obiektyw sprzęt wykonać dobry zdjęcie wymagać trochę wprawa znajomość aparat używać polecać głównie początkuć użytkownik zaawansowany skierować strona obiektyw",
           "Positive"
          ],
          [
           "gra rok ciągle robić wrażenie widać odsłić ly batman pierwszy rzut oko trudno zauważyć zaleta gra chociażby ładny klimatyczny grafik duży zaleta gra robić własny postać który grać niby taki fakt taki cieszyć grać poziom trudność zmieniać poziom poziom etap łatwy trudny zagadek myśleć zagadka rozwiązać dosłown sekunda napisać pudełko latk inny słowo prosty fabuła cienky sik pająk najgorszą rzecz gra wszystko częsty glitheć bag osoba wywoływać kolejno śmiech zdziwienie nerwica szczęście niszowy problem podsumowywać ly batman dobry gra wada",
           "Positive"
          ]
         ],
         "hovertemplate": "Label=%{customdata[1]}<br>Dim1=%{x}<br>Dim2=%{y}<br>Text=%{customdata[0]}<extra></extra>",
         "legendgroup": "Positive",
         "marker": {
          "color": "green",
          "size": 10,
          "symbol": "circle"
         },
         "mode": "markers",
         "name": "Positive",
         "orientation": "v",
         "showlegend": true,
         "type": "scatter",
         "x": [
          41.57044,
          -26.412582,
          -15.15237,
          28.149082,
          31.172586,
          41.247776,
          13.921244,
          -2.6155865,
          -19.69731,
          10.397327,
          33.94279,
          3.5221663,
          20.365665,
          45.67784,
          38.98119,
          -13.861662,
          31.172586,
          -11.223971,
          33.729965,
          15.124841,
          32.80109,
          23.894592,
          -8.141828,
          24.428469,
          30.886871,
          30.800137,
          13.327508,
          7.384903,
          -10.797922,
          20.043293,
          -37.299374,
          23.091137,
          33.340466,
          -13.274704,
          29.508158,
          13.369671,
          29.67498,
          5.8404555,
          36.00235,
          42.91778,
          21.856205,
          -33.165394,
          -9.258612,
          20.134497,
          -15.03901,
          -4.900087,
          20.201992,
          -7.9630466,
          -2.9178734,
          -25.240164,
          -5.3347044,
          -23.602602,
          -16.08896,
          -3.9609869,
          -17.044516,
          -11.098137,
          -23.751629,
          0.96972513,
          -11.491727,
          10.734227,
          29.040453,
          20.721926,
          -22.907402,
          9.052767,
          -5.3364,
          31.942032,
          -14.206113,
          41.174446,
          -7.006842,
          -11.111915,
          17.494274,
          9.560629,
          12.592411,
          10.71734,
          1.7282858,
          -4.2067513,
          -21.392523,
          -14.979167,
          3.533532,
          -6.4162736,
          -38.57872,
          -40.749504,
          -42.60787
         ],
         "xaxis": "x",
         "y": [
          9.17707,
          -10.455025,
          6.6901274,
          12.122956,
          18.751692,
          -2.1177557,
          14.55245,
          -23.591986,
          -1.1271582,
          -16.102098,
          6.4611506,
          -13.816574,
          -15.6547,
          10.036394,
          8.652612,
          19.334036,
          18.751692,
          -4.6378756,
          -1.293894,
          -1.7609936,
          19.152765,
          27.096884,
          -1.4811639,
          -4.82151,
          13.552388,
          6.8674603,
          1.0066857,
          11.349073,
          -1.6969029,
          2.1156497,
          2.2159414,
          3.2668707,
          10.113253,
          19.490246,
          17.075825,
          -3.177633,
          19.187473,
          5.5315633,
          9.849678,
          13.454203,
          14.3077755,
          -1.5136857,
          -1.8837646,
          7.235047,
          18.95,
          -21.879189,
          3.4695685,
          -6.193409,
          -21.070343,
          -3.2946448,
          -19.635286,
          2.0193946,
          -10.927386,
          10.563392,
          -2.6869721,
          -8.271768,
          -3.6754777,
          -15.409863,
          -18.304861,
          3.07784,
          3.0827127,
          13.169614,
          2.5212038,
          -14.0046015,
          2.0460055,
          2.8847518,
          -6.8976502,
          -2.5559838,
          -6.870832,
          0.761786,
          -4.2696304,
          -14.72313,
          -9.807656,
          1.2904866,
          -12.9299555,
          4.4993377,
          -1.0633233,
          0.52362615,
          3.999709,
          2.9521992,
          -7.913828,
          -11.274842,
          -4.748455
         ],
         "yaxis": "y"
        },
        {
         "customdata": [
          [
           "musieć przyznać nudzić  wykładzie michać przerwa wybyć em pojawić ",
           "Negative"
          ],
          [
           "wiedzieć zanotować",
           "Negative"
          ],
          [
           "potrafić przyczepic osie symetri gruby być olowkiem rysować wkrecajac sruby drewniany otwor gwint naleza narysowac wybrzuszeć drewno drugi strona ksiazka podstawa obleć",
           "Negative"
          ],
          [
           "prosty wykłaed nudno nic człowiek dowiedzieć pożyteczn ćwiczenia materiał iść zdecydowanie szybko sprawa wszelki dygresja doktor wykład",
           "Negative"
          ],
          [
           "straszny bałagan tablica porządnie skupić spieszyć zdążyć przepisywaen",
           "Negative"
          ],
          [
           "analiza matematyczny ćwiczenie ocena unikać b pierwszy ćwiczenia myśleć em analizy zaliczyć problem pokazywać dodawać ułamka różny mianownika bawić swój maszyna liczącą kalkulator wink lubić bawić",
           "Negative"
          ],
          [
           "niechcesz słuchać musieć",
           "Negative"
          ],
          [
           "zacznić zajecia absolutnie obryc zadan szanowny doktor nic wytlumaczyć zbierze tlumaczeć krzyza droge zrozumieć",
           "Negative"
          ],
          [
           "wydawać gardzić student",
           "Negative"
          ],
          [
           "zajęcia tragedia wogole mówić mikrofon mówić zrozumieć",
           "Negative"
          ],
          [
           "doktor prowadzić wykład dośc nurzący zasnąć",
           "Negative"
          ],
          [
           "graficzny zapis konstrukcja wykład elektryczny nudny",
           "Negative"
          ],
          [
           "radze trzymac daleki",
           "Negative"
          ],
          [
           "fizyk b zdac egzamin dosyc trudno przypadek zdalo osub",
           "Negative"
          ],
          [
           "negatyw",
           "Negative"
          ],
          [
           "b kołodzi prowadzić tragicznie",
           "Negative"
          ],
          [
           "ogolć ujść mozliwosc zapisania kogos inny raczej warto skorzystacć",
           "Negative"
          ],
          [
           "mazurek cel prawdopodobnie postawić zanudzić student pan pierwszy zajęcie dać znieść nieco jasny",
           "Negative"
          ],
          [
           "prosty umieć turbo pascalać",
           "Negative"
          ],
          [
           "ocena ogólny unikac x x",
           "Negative"
          ],
          [
           "kolokwium prawdopodnie sprawdzać ocena przypadkowy ogół temat krążą legenda",
           "Negative"
          ],
          [
           "uwaga",
           "Negative"
          ],
          [
           "poprawiać przynosić następny raz wyszukiwać kolejny błedy poprawić eś źle mieć poczatek",
           "Negative"
          ],
          [
           "niestety sam prowadzącego obekcja punkt wdzieniać trening i tak dalej wszytko czes rozgrzewka forma zabawa niestety mial miejse trening sytulacja zrazilać pokazywać dźwigni noge stopa zignorować zupełnie odklepeć mate powiadomieć bać student pokazywal technikea puścić chociaż zmniejszyć nacisk siła skręt",
           "Negative"
          ],
          [
           "analiza metr wykłada stwierdzić metr strata czas",
           "Negative"
          ],
          [
           "każdy laborka kartkówka moge stwierdzić trudny zaliczyć  jeden prosty eś czynić język c naprawde trudno",
           "Negative"
          ],
          [
           "miernictwo elektroniczny wykład ocena bieda wielki b mówic przpity trochy chrypk czas pić spiryt pierwszy wrażenie",
           "Negative"
          ],
          [
           "ocene niezbyt wysoki robić łaska wpisze",
           "Negative"
          ],
          [
           "koniec kurs kolokwium bądź egzamin reguła ciężki system oceniać pozostawiać życzenie",
           "Negative"
          ],
          [
           "jestes liceum mieć pech p rowć mozesz isc kurs jezyko japonskiego wyklad niezrozumialy czlowieka wrazenie doktor m inny jezyk d nikt chodzić uczyć bierzaco posiadać odpowiedni ksiazek notatka etc mieć szansa zdac kola SA trudny najgorszaa cech dr potrafić doczepic pierdolka zdarzać pomylica liczenie punkt wiec polecać konsultacja przypadkow pomylil liczenie qmpel przyklad pisal poprawke chociaz zaliczyl koło dopiero konsultacja okazalo potrzebć pisal poprawke pan",
           "Negative"
          ],
          [
           "iść informatyke znałęm ogół jezyk c kurs człowiek doktor zakładać wiedza rozumieja każdy skomplikowany słowo",
           "Negative"
          ],
          [
           "kurs chemia nieorganiczny ćw ocena najniższa unikać",
           "Negative"
          ],
          [
           "zadanie kosmos oczywiście czas twierdzić prosty",
           "Negative"
          ],
          [
           "biernacki prowadzić laborek naprawde dziwnie łebky zaangażować ważny niezrozumiale powtórz niezrozumiale",
           "Negative"
          ],
          [
           "zgrozo",
           "Negative"
          ],
          [
           "olewać gorniak podpadać naprawde grozny p",
           "Negative"
          ],
          [
           "lakier rower kiepski jakość robić odpryski wiadomo co rower ładny wygodny miesiąc użytkować widoczny odpryski lakier co taki cena oczywiście producent twierdzić wada mechaniczny dziecko dobry stan lakier rower firma odradzać zakup powód szkoda tyle kasa nerw chyba rower stać nieużywać szyba zakończenie powiedzieć porównować lakier zwykły paznokci hybrydę wiadomo tańszy zwykły lakierz robić odpryski dobry",
           "Negative"
          ],
          [
           "zadowolony zakup skrajnie niewygodny uciskać ucho minuta zwyczajnie zdjęcie słuchawka niesamowity ukojeć kolejny kwestia problem łączność początek sparować słuchawka telefon pierwszy utwór zacinać urok bezprzewodowy słuchawka wiedzieć wnikać wadać wadać numer sam posługiwać ten słuchawki komunikat głośność przeżyć sygnał chociażby wyłączanie urządzenie niezwykle irytować jakość dźwięk zadowalająca wada uważać słuchawka złoty powinien pozbawić metr móc cofnąć czas kupić metr sprzęt",
           "Negative"
          ],
          [
           "kupić  pociąg zestaw tor prosty zakręt zestaw tor zwrotnica skrzyżowanie zestaw kompletnie nic tor niedopasować rozstaw koło lokomotywa kłaść lokomotywa idealnie środek tor koło krawędź cały koło jazda pracować prawo lewo pociąg niemal czas jeden strona koło jechać powietrze tor najgorzej skrzyżować zwrotnic skrzyżowanie wąski pociąg stan przejechać zdarz rozpęd przejechać zwrotnic ledwo pokonywać prawda zestaw nadawać zabawa skoro pociąg kompatybilny tor yt obejrzeć co problem wystarczyć wpisać wyszukiwanie blocki pociąg rozstaw trzeci próba jixin blocki mubi pierwszy zestaw rok straż pożarny służyć potem zestaw budowniczy rozleciać raz budowniczyć pociąg polecać zdecydowanie podróbek litr d cena oczywiście zachęcać",
           "Negative"
          ],
          [
           "pilarz parunast rok skusić em partner listopad r łatwo uruchamiać pracować lekki poręczny wygodny mały otwór wlew olej mały objętość zbiornik paliwo olej uzupełniać filtr powietrze zasada jednorazowy zapychać tydzień praca h dzienny praca pić koszt nowy złoty miesiąc pęknąć linka gaz każdy nacisnąć manetka gaz łamać linka dziwny rozwiązanie konstrukcyjny koszt nowy złoty trochę wysoki koszt utrzymać piła zawiedziony model partner",
           "Negative"
          ],
          [
           "początek zobaczyć  słuchawka zachwycać  dobry mikrofon ładny opakowanie przyjemny wygląd słuchawka ogólnie mówić najpierw  zadowolony miesiąc problem mikrofon zacząć działać odpinać em działać długo chcieć em kusić los liczyć kolejny cud podłączy zadziałać siaść strona zupełnie kompletnie dobić zmienić em akg ogromny różnica jakość należeć trochę dopłacić nowy słuchawki słychać znacznie dobrze fps jaki przeciwnik poziom tył fatalit mogł  rozróżnić dopóki odwrócić em sprawdzić  zazwyczaj dead polecać długi meta miesiąc porządek zakup krótko beznadziejny wykonać kabel mikrofona ogólnie cały słuchawka",
           "Negative"
          ],
          [
           "dostać em badziewie prezent orange wybór mieć być pendrive czytnik bubel nazwa pamiętać wybór paść słuchawka dawno mieć być ucho zewnątrz nieźle wyglądać chyba duży zaleta dobrze wykonać niewygodny kabel krótki dźwięk środek widać najzwyklejszy chiński chłam móc zostać wykonać marn plastik zostać wykonać połączyć tani klej oby trzymać cena oczywiście ważny usprawiedliwienie zbyt pięknie początek lewa głośnik działać problem występować spowodować cienki włos drut zwyczajnie ukruszyć pęknięcie tuż punkt lutowanie zewnątrz przylutować ponownie wewnątrz egzemplarz szkoda czas produkt mogła em wysłać producent ramy gwarancja wzgląd niski wartość wysłać  kosz",
           "Negative"
          ],
          [
           "niestety lodówka pakowny kupić metr miejsce identyczny wzgląd pojemność lodówka whirlpool damsing miejsce duży litrowy garnka zmieścić duży l dzbanek sokiem otwór jajka wieczko otwierać włożyć jajka opadać zatrzymywać góra opcja zatrzymać podniesionrgo góra dozownik woda porażka zdarzać kapa calej lofowka podłoga nieumiejętć przystawka szklanka plus cich praca designe",
           "Negative"
          ],
          [
           "  jaki cena jakiś ewidentny żart oddać em jeden kamera gwarancja nagrywać film akurat potrzebny wyskoczyć sarna film wyskoczyć lis film sytuacja obesźć szczęśliwie poszło potrzebować metr film chociaż udowodnić mój racja ubezpieczyciel oddać  kamera zaginąć niby producent przydzielić nowy miesiąc media experta sytuacja wyskakować dzik trasa maske hamować śliski szczęśliwie wracać dom wrzucać karte komp widze widze pol dzień kamera nagrywać dzień podłączyć jakies wa zrzeć cena spokojnie kupic raz dobry",
           "Negative"
          ],
          [
           "niestety mój test wypaść strasznie marnie prędkość zapis duży pojedynczy plik usb mb s szybko obojętny ntfs fat kupić em egzemplarz każdy żenada wstyd patriot dane podać producent wyssać palec rozumieć dane usb usb duuuużo dobrze plus wieczór pójść koleżanka zgrać film fullhd musieć zostać śniadanie doczekać koniec kopiowanie em domagać producent zwrot pieniądz",
           "Negative"
          ],
          [
           "mieć metr robot pazdziernik reklamacja dostalam pieniadze glosny praca spoko dać zniesc oprzeć plastikowy czesciach siadalo sokowirowka sokowirowka wszyskto obrac podzielic czatka okol centymetr wracajac marchewka sokowirowka przestawalać działac wyrabial silniczka plastik napraw tyg sam wymiana nowy sokowirowke sam raz probować dac nowy robot wolalama gotowke koncu nadal plastikwoe podzespoly szkoda szukać czegos solidniejszego",
           "Negative"
          ],
          [
           "podobnie większość zawiość metr kosiarka wydawać firmowy kosiarka służyć długo sam początek delikatny dobry drobny trawka idealnie rówć teren koszyć lekki nierównościa zakończyć powyginany nóż nóż wymienić nowy dać naostrzyć długo cieszyć metr silnik zacząć dziwnie pracować koniec przestać powiedzieć szczerze dobrze sprawować pierwszy najtańsz kosiarka nam nóż dziać górka dołk silnik zajeżdżeć uszkodzić kółka daleko pracować zawiodła metr gardenie",
           "Negative"
          ],
          [
           "mylący tytuł sugerować czynić dzieło smith rzeczywistość książka zawrzeć fragment bogactwo naród teoria uczucie moralny okraszć niestety kiepski komentarz okazywać autor książka adam smith autor sprawiać wrażenie kazać napisać ten książka moment odczuwać wręcz niechęć smith dezaprobata względem dzieło ogólnie streszczeć recenzja nazwanie książka spory przesada ciężko czytać jedyny sprawiać ocena wynosić pojawiać dokładny cytat",
           "Negative"
          ],
          [
           "uważać pisać opinia coś rewelacyjny koniec sens chcieć metr napisać wadzie zmywarka bosch pierwszy przyznać whirpoola mialama wczesniej brakować kontrolka zakończyć myć dom usłyszeć metr końcowy sygnał wiadomo myć skończony samo wiadomo etap zdarzać wypluć tabletka garnik brudny niestety porównanie whirpool przegrywać kategoria ciasno ułożyć garnka whirpool radzić świetnie najwyraźniej dobry ciśnienie woda bosch mocno kulej chcieć upchać maxa musieć domywać ręcznie prowadnica dół precyzyjny wykonać kosz dolny całkowity wysuniecie spadać whirpool mieć miejsce prowadnica mieć kontuynuacja drzwiczk",
           "Negative"
          ],
          [
           "najpierw dostawać produkt wysoki półka pięknie zapakować mysz wygodny działać działać precyzyjć tyle sprzęt gracz razer przereklamować pierwszy narzucać myśl absurdalny cena sprzęt gumek kciuk odpaść trzy miesiąc scroll problem działać miesiąc sensor korzystać aluminiowy podkładka obydwie część musieć być czyścić gory oprogramowanie razer synapse zawieszać każdy raz otwierać odłączać podłączać kabel myszka przełączać praca przewodowy bezprzewodowy odwrót oprogramowanie posiadać funkcja prosty działać na przykład kalibracja powierzchnia włączać funkcja mysz profesjonalny podkładka działać drewniany blat niestety byle przerywać nierównościa szczęście ustawić droga restartuć poprzez alt ctrlć del program komputer wyciągać kabel całość działać skrót kupcie inny tańsić dobry mysz konkurencja",
           "Negative"
          ],
          [
           "bateria posiadać ładny design wysokość bateria centymetr przeciętny głębokość zlewozmywak centymetr woda wypływać bateria spadać wysokość metr powodować chcieć opłukać talerz umyć ręka bierzemy prysznic zachlapać szafki zadzwonić metr handlowiec firma blanco poprosić metr rada podać telefon serwisant kazać przykręcić ciśnienie woda próbować tłumaczyć bateria przystosować zlewozmywak blanco metr kupić zlew blanco problem sitko zlewa blanco ustawiyć nakieruwać wylewka bateria woda rozchlapować używać zlewozmywak myśl skierować wylewka strona sitko chyba kuchnia robić przestrzegać wszystek bateri typ firma blanco porażka totalny niewypać",
           "Negative"
          ],
          [
           "witać długo namyślać em zakup przyzwoity pistolet zdecydować  steinel porażka cały lini pierwszy próba praca zagrzewa podać klej przestać działać wysyłka serwis wymiana system grzejny pistolet puszczeć klej bok kapać podajnik pięć minuta ponownie przestać działać wysyłka serwis pora dwa miesiąc popracować minuta wydawać pistolet wytrzymać długo koszt dostawa serwis odbiór zbliżać cena zakup polecać produkt zapomnieć em serwis zaskoczć jakość tworzywo brak plomb prawdopodobnie zmienić wykonawca produkt producent rumuni steinel sam narzędzie kiedyś proponować poważnie zastanowić zakup pozdrawiać",
           "Negative"
          ],
          [
           "kupić  żarówka złoty sztuka ciąg tydzień raz sztuka zacząć migać szczęście zakupić lokalny supermarket dostać  zwrot gotówka złoty ręka dzień reklamacja zawiodł em philips zawodność taki marka zacząć migać kolejny żarówka reklamacja zostawić eoktom paragon sklep mówić trudno mieszany uczucie znajomy kupić ledy firma typ nam problem porównanie przepłacić em kupić em bublowaty produkt marka philips",
           "Negative"
          ],
          [
           "cena spodziewać em dopracować sprzęt miski mocować robota przeciwny kręcić rózga cięższy ciasto lubić wypiąć praca niedopracować sam rózg mis chociaż wyglądać profesjonalnie pozostawiać dno nierozmieszać ciasto krem zaznaczyć posiadać mikser robota wypadać niebo dobrze bardzo irytuć mieszaść silikonowy powinien zbierać ścianek spód mis przeszkadzać właściwie uniemożliwiać podbijać masa jednoczesny podgrzewanie cel zakupić  chyba chcieć jajecznica wręcz idealny trwałość robota móc powiedzieć krótko posiadać reasumować osobiście kupić metr ponownie robota taki cena wiedzieć wada napisać opinia skłonić rozczarowanąć delikatnie wciekły wspomnę lżejszy nadzieja firma kenwood przeczytać wypociny przyszły model poprawić niedoróbka wiedzieć nadzieja matka",
           "Negative"
          ],
          [
           "świeżo zakup marantza urządzenie odtwarzać płyta cd źle nośnik usb nośnik czytać długo dźwięk słyszalnie uboższy odtwarzać pliek flac kompletny porażka wieszać urządzenie zaczynać słuchać stacja radio cyfrowy dab sytuacja powtarzalny dodać stacja dwa daba ulubiony próba przełączać następować zawieszeć urządzenie dokładni odtwarzać dźwięk przywrócić odtwarzać dziwięku wybrać stacja fm odtwarzać drugi kwestia włączać samo siebie urządzenie śpisz włączać wyłączać h sam dodać głęboko rozczarowuć scena dżwiękowy nośnik usb dobrze kupić tańszy mieć sam wada",
           "Negative"
          ],
          [
           "router porażka stan poprawnie współpracować modem huawei e specyfikacja umieścić opakowanie producent zapewniać biedzie współpracować okazać nieprawda router chwila włączyć rozłącz internet dać ogół korzystać pomagać aktualizacja firmwary inny mod router zadziałać producent podać opakowanie prawdziwy lista kompatybilny modem dostępny strona internetowy poszukać polecać kupywać mody pasować producent model mody sieć mod pochodzić zgadzac dokladnie lista dostepny strona producent",
           "Negative"
          ],
          [
           "zanim wybrać metr lumie szukać metr opinia niestety trafić metr dyskusja samoczynny resetach tydzień użytkować telefon trafić serwis powód samoczynny wyłączania żądać pin telefon nowy salon oczywiście gwarancja wyłączać kilkanaście raz dziennie pierwszy tydzień serwis aktualizacja oprogramowanie pomogć nadal sam potem kolejny tydzień serwis aktualizacja oprogramować serwis potrzebować tyg aktualizacja oprogramowanie nadal sam zostać naprawiyć kolejny zwrot telefon gwarancja nowy skoro normalnie korzystać dno radzić wybrać sprawdzony ms lumiać wcześnie mieć metr lumiać telefon świetny nokia zastanawiać wybór telefon szczerze odradzać lumie oszczędźć nerw",
           "Negative"
          ],
          [
           "grzejnik ładny beznadziejny termostata pamięć nastawa możliwość programowanie skorygować nastaw fabryczny czas pierwszy zanik napięcie potem powrócić nastawa fabryczny termostata łatwo zacinać grzejnik dawać fabryka dać oczywiście koszt właściciel grzejnik praktycznie nadawać ogrzewania pomieszczenie stały dozór czas praca wydawać dziwny odgłos całkiem głośno wyrzut sumienie zaprojektować",
           "Negative"
          ],
          [
           "budzik zdecydowanie warta cena złoty zaleta ładny wygląd dobry spasować materiał duży czytelny cyfra głośny alarm wada wykonać kiepski jakość tani plastik przycisk alarm drzemki umieścić tył niepraktyczny noc przycisk tandetny głośny twardy przeszkadzać brak regulacja podświetleć bateria podtrzymuć pamięć rzadko spotykany postać v móc paluszek przydatny opcja regulacja alarm na przykład delikatny mocny",
           "Negative"
          ],
          [
           "grill wada duży który niestety żyć em rok tłuszcz zamiast skapywać całość dołączony miseczka spływać płyta grzewczyć grillować musieć być postawić pion patrzeć wylewać blat wiedzieć philips przemyśleć sprawdzić tragiczny niedopatrzenie dzień grill odmówić posłuszeństwo grzeć pokrętło ustawiać temperatura odmówić rok przestać mieć grzechotka przeszkadzać użytkowanie minus uważać brak możliwość dokupieć sam płyta teflonowy choćby cena połowa grilla zdecydowanie polecać kupić grilla philipsa przypadek awaria musieć kupić nowy",
           "Negative"
          ],
          [
           "przereklamować podobnie towar na przykład wkrętarka bosch seria profesor użytek cena oczekiwać  robot wyższej jakość zaledwie raz użyć wydobywać zaczynać smar wałek gniazda mieszaść cena mieć miejsce ogólnie siła robot wyglądać zajeżdżeć obawa przekładnia rozsypać strasznie głośno chodzić dzieciak kuchnia uciekać potwornie drogi dodatek osobiście śmyć kupić",
           "Negative"
          ],
          [
           "hhmm jazda wygląd zaleta chodzić reszta brak osiowość ławka brak stabilność ćwiczeć ławka skosć ujemny radza zakładać pampersa widze sprzęt robiony masowo zwykły kowalskiy chiński jung pęk spaw urządzenie ćwiczenie noga uciekać stopień jeden strona modlitewnik tragedia oparcie ćwiczenie rozpiętka siedząco krzywo osadzyć ogólnie kupować wybrać metr chińborka złoty zdanie wart jakiś złoty jakiś centymetr oczywiście wzrost niewygodny ćwiczieć bark wyciąg wyprostujesz ramiono ogólnie polecać tv samsung smarta jakiś par pinącha oglądać dziennie youtuba jakiś minuta ćwiczyć metr pompka pochodny rezultat dobry radość pozdrawiać marsh",
           "Negative"
          ],
          [
           "klawiatura otrzymać em rozpakować  podłączyć em zainstalować  soft pobrać strona razer windows widzieć klawiatura poprawnie instalować gładko niestety oprogramowanie razer rozpoznawać własny klawiatura pomagać przepinanie port usb wielokrotny restart odpięcie urządzenie usb komputer dodatek soft zaprojektować bezmyślnie dopóki wykryć klawiatura kliknąć ikony pomoc przeczytać dokumentacja zrobić inny oprogramowanie skonfigurować dodatkowy klawisz korzystać funkcja klawiatura metr móc klawiatura używać narzekać metr zbyt twardy klawisz obudowy dolny klawisza minia pad genialny pomysć być gra ziać szeroki szczelin który widać płytka drukować spód rozwiązanie wróżyć długi trwałość sprzęt wystarczyć kropla woda mówić kurz drugi poważny rozczarowanie produkt firma myśleć em kupować dobry sprzęt klawiatura zwrot nauczka przyszłość",
           "Negative"
          ],
          [
           "strasznie słabo brzmieć audiofil oczekiwać  cud stan słuchać muzyka prosty brzmieć inaczej wszędzie indziej pierwszy średni tona dziwnie wyciszć drugi wysoki niski ustawić zero podwyższyć okazywać wiec utwór znać pamięć słyszeć różny droższy tańszy głośnike brzmieć miara podobnie prosty brzmieć inaczej próbować  kombinować pokrętł odpowiedzialny niski wysoki tona pora udać wykręcić sensowny myśleć em widzieć jakiś czas prosty przyzwyczawać",
           "Negative"
          ],
          [
           "zakupić  telefon miesiąc móc korzystać internet wykonywać połączenie pisać wiadomość sms posiadać aparat telefoniczny sam początek dzień zakup smartfić zacząć em korzystać internet ciągle zacinać Masakra wkurzeć przestać em korzystać droga telefon stać zapłacić  złoty połowa mój renta oprócz bateria szybko rozładowywać wystarczą kilkuminutowy rozmowa musieć telefon ładować jedyny plus nagrywać rozmowa wygląd telefon naprawdę żałować zdecydować em zakupić telefon szkoda kasa",
           "Negative"
          ],
          [
           "jedyny pozytyw rzeczywiście telefonować telefon nokia dawny należeć obsługiwany intuicyjnie napaćkać mnóstwo zupełnie niepotrzebny aplikacja otworzyć wymagać połączyć sieciow uważać zrezygnować bateria trzymać długo dzień czuwać aparat fotograficzny lampa błyskowy wyświetlacz wytrzymać tydzień podobno uszkodzić mechaniczć wiadomo każdy aparat utracić gwarancja wymiana lcdeć dodatkowo złoty polecać",
           "Negative"
          ],
          [
           "rewelacja wybrakować produkt urządzenie grudzień użyć metr raz każdy raz mieszkanie zadymiyć strasznie śmierdzieć palony kabl jedzenie suma chwilka spuścić oko powód brak regulacja temperatura szybko przypalać powłok nieprzywierać paninia chyba zrezygnować każdy raz przykleić wyczyszczeć płytka koszmar jedyny móc pochwalić wygląd",
           "Negative"
          ]
         ],
         "hovertemplate": "Label=%{customdata[1]}<br>Dim1=%{x}<br>Dim2=%{y}<br>Text=%{customdata[0]}<extra></extra>",
         "legendgroup": "Negative",
         "marker": {
          "color": "red",
          "size": 10,
          "symbol": "circle"
         },
         "mode": "markers",
         "name": "Negative",
         "orientation": "v",
         "showlegend": true,
         "type": "scatter",
         "x": [
          0.49701753,
          33.133167,
          -22.952974,
          -20.354288,
          6.590751,
          -28.805828,
          32.877056,
          -19.916573,
          24.295692,
          2.5132608,
          15.47145,
          27.821964,
          18.376839,
          -4.05539,
          46.931656,
          19.14543,
          3.5190294,
          -18.291872,
          22.509989,
          36.65934,
          10.190347,
          46.362686,
          -9.680364,
          -33.628407,
          18.705397,
          -1.5606352,
          -25.613998,
          19.53159,
          -8.029313,
          -33.815056,
          -9.167434,
          11.518699,
          11.069283,
          0.1175834,
          45.855614,
          20.693079,
          -41.89699,
          -36.147293,
          -40.438263,
          -31.604128,
          -38.493397,
          -42.98229,
          -32.29251,
          -43.912537,
          -38.943516,
          -47.019424,
          -32.48486,
          -36.18168,
          -34.22948,
          -46.207115,
          -44.40235,
          -42.05092,
          -45.307186,
          -43.01226,
          -39.74053,
          -37.686867,
          -44.178356,
          -31.30375,
          -38.072563,
          -43.51168,
          -44.733128,
          -39.798687,
          -46.496624,
          -36.74144,
          -40.143696,
          -33.645214,
          -29.578093
         ],
         "xaxis": "x",
         "y": [
          -11.939177,
          16.583006,
          -6.410283,
          -14.351387,
          -6.9453564,
          2.273916,
          8.067611,
          -14.741349,
          26.986479,
          -11.4641905,
          14.606382,
          2.527723,
          11.929381,
          -21.380228,
          12.618292,
          21.110863,
          -0.88203675,
          9.885877,
          0.5476981,
          3.134988,
          -2.5187929,
          15.022493,
          6.485577,
          -11.858221,
          -5.41592,
          5.498895,
          -11.528473,
          -8.353528,
          -11.987202,
          -0.8604601,
          -9.082798,
          -2.7686532,
          4.773131,
          -3.382193,
          13.584642,
          -3.0571272,
          -12.573974,
          -4.184657,
          0.66494125,
          -9.990657,
          -9.577766,
          -6.8822994,
          2.879212,
          -13.233851,
          -17.105259,
          -10.808324,
          -5.590181,
          -2.4526794,
          -5.0538197,
          -3.2579775,
          -0.40356854,
          -10.461728,
          -8.380167,
          -11.009501,
          -15.672523,
          -10.998503,
          -6.5367937,
          1.9012401,
          -4.709912,
          -9.439798,
          -11.547963,
          -6.81411,
          -2.7822978,
          0.8178075,
          -2.7508228,
          -6.9108887,
          -5.467643
         ],
         "yaxis": "y"
        }
       ],
       "layout": {
        "legend": {
         "title": {
          "text": "Label"
         },
         "tracegroupgap": 0
        },
        "template": {
         "data": {
          "bar": [
           {
            "error_x": {
             "color": "#2a3f5f"
            },
            "error_y": {
             "color": "#2a3f5f"
            },
            "marker": {
             "line": {
              "color": "#E5ECF6",
              "width": 0.5
             },
             "pattern": {
              "fillmode": "overlay",
              "size": 10,
              "solidity": 0.2
             }
            },
            "type": "bar"
           }
          ],
          "barpolar": [
           {
            "marker": {
             "line": {
              "color": "#E5ECF6",
              "width": 0.5
             },
             "pattern": {
              "fillmode": "overlay",
              "size": 10,
              "solidity": 0.2
             }
            },
            "type": "barpolar"
           }
          ],
          "carpet": [
           {
            "aaxis": {
             "endlinecolor": "#2a3f5f",
             "gridcolor": "white",
             "linecolor": "white",
             "minorgridcolor": "white",
             "startlinecolor": "#2a3f5f"
            },
            "baxis": {
             "endlinecolor": "#2a3f5f",
             "gridcolor": "white",
             "linecolor": "white",
             "minorgridcolor": "white",
             "startlinecolor": "#2a3f5f"
            },
            "type": "carpet"
           }
          ],
          "choropleth": [
           {
            "colorbar": {
             "outlinewidth": 0,
             "ticks": ""
            },
            "type": "choropleth"
           }
          ],
          "contour": [
           {
            "colorbar": {
             "outlinewidth": 0,
             "ticks": ""
            },
            "colorscale": [
             [
              0,
              "#0d0887"
             ],
             [
              0.1111111111111111,
              "#46039f"
             ],
             [
              0.2222222222222222,
              "#7201a8"
             ],
             [
              0.3333333333333333,
              "#9c179e"
             ],
             [
              0.4444444444444444,
              "#bd3786"
             ],
             [
              0.5555555555555556,
              "#d8576b"
             ],
             [
              0.6666666666666666,
              "#ed7953"
             ],
             [
              0.7777777777777778,
              "#fb9f3a"
             ],
             [
              0.8888888888888888,
              "#fdca26"
             ],
             [
              1,
              "#f0f921"
             ]
            ],
            "type": "contour"
           }
          ],
          "contourcarpet": [
           {
            "colorbar": {
             "outlinewidth": 0,
             "ticks": ""
            },
            "type": "contourcarpet"
           }
          ],
          "heatmap": [
           {
            "colorbar": {
             "outlinewidth": 0,
             "ticks": ""
            },
            "colorscale": [
             [
              0,
              "#0d0887"
             ],
             [
              0.1111111111111111,
              "#46039f"
             ],
             [
              0.2222222222222222,
              "#7201a8"
             ],
             [
              0.3333333333333333,
              "#9c179e"
             ],
             [
              0.4444444444444444,
              "#bd3786"
             ],
             [
              0.5555555555555556,
              "#d8576b"
             ],
             [
              0.6666666666666666,
              "#ed7953"
             ],
             [
              0.7777777777777778,
              "#fb9f3a"
             ],
             [
              0.8888888888888888,
              "#fdca26"
             ],
             [
              1,
              "#f0f921"
             ]
            ],
            "type": "heatmap"
           }
          ],
          "heatmapgl": [
           {
            "colorbar": {
             "outlinewidth": 0,
             "ticks": ""
            },
            "colorscale": [
             [
              0,
              "#0d0887"
             ],
             [
              0.1111111111111111,
              "#46039f"
             ],
             [
              0.2222222222222222,
              "#7201a8"
             ],
             [
              0.3333333333333333,
              "#9c179e"
             ],
             [
              0.4444444444444444,
              "#bd3786"
             ],
             [
              0.5555555555555556,
              "#d8576b"
             ],
             [
              0.6666666666666666,
              "#ed7953"
             ],
             [
              0.7777777777777778,
              "#fb9f3a"
             ],
             [
              0.8888888888888888,
              "#fdca26"
             ],
             [
              1,
              "#f0f921"
             ]
            ],
            "type": "heatmapgl"
           }
          ],
          "histogram": [
           {
            "marker": {
             "pattern": {
              "fillmode": "overlay",
              "size": 10,
              "solidity": 0.2
             }
            },
            "type": "histogram"
           }
          ],
          "histogram2d": [
           {
            "colorbar": {
             "outlinewidth": 0,
             "ticks": ""
            },
            "colorscale": [
             [
              0,
              "#0d0887"
             ],
             [
              0.1111111111111111,
              "#46039f"
             ],
             [
              0.2222222222222222,
              "#7201a8"
             ],
             [
              0.3333333333333333,
              "#9c179e"
             ],
             [
              0.4444444444444444,
              "#bd3786"
             ],
             [
              0.5555555555555556,
              "#d8576b"
             ],
             [
              0.6666666666666666,
              "#ed7953"
             ],
             [
              0.7777777777777778,
              "#fb9f3a"
             ],
             [
              0.8888888888888888,
              "#fdca26"
             ],
             [
              1,
              "#f0f921"
             ]
            ],
            "type": "histogram2d"
           }
          ],
          "histogram2dcontour": [
           {
            "colorbar": {
             "outlinewidth": 0,
             "ticks": ""
            },
            "colorscale": [
             [
              0,
              "#0d0887"
             ],
             [
              0.1111111111111111,
              "#46039f"
             ],
             [
              0.2222222222222222,
              "#7201a8"
             ],
             [
              0.3333333333333333,
              "#9c179e"
             ],
             [
              0.4444444444444444,
              "#bd3786"
             ],
             [
              0.5555555555555556,
              "#d8576b"
             ],
             [
              0.6666666666666666,
              "#ed7953"
             ],
             [
              0.7777777777777778,
              "#fb9f3a"
             ],
             [
              0.8888888888888888,
              "#fdca26"
             ],
             [
              1,
              "#f0f921"
             ]
            ],
            "type": "histogram2dcontour"
           }
          ],
          "mesh3d": [
           {
            "colorbar": {
             "outlinewidth": 0,
             "ticks": ""
            },
            "type": "mesh3d"
           }
          ],
          "parcoords": [
           {
            "line": {
             "colorbar": {
              "outlinewidth": 0,
              "ticks": ""
             }
            },
            "type": "parcoords"
           }
          ],
          "pie": [
           {
            "automargin": true,
            "type": "pie"
           }
          ],
          "scatter": [
           {
            "fillpattern": {
             "fillmode": "overlay",
             "size": 10,
             "solidity": 0.2
            },
            "type": "scatter"
           }
          ],
          "scatter3d": [
           {
            "line": {
             "colorbar": {
              "outlinewidth": 0,
              "ticks": ""
             }
            },
            "marker": {
             "colorbar": {
              "outlinewidth": 0,
              "ticks": ""
             }
            },
            "type": "scatter3d"
           }
          ],
          "scattercarpet": [
           {
            "marker": {
             "colorbar": {
              "outlinewidth": 0,
              "ticks": ""
             }
            },
            "type": "scattercarpet"
           }
          ],
          "scattergeo": [
           {
            "marker": {
             "colorbar": {
              "outlinewidth": 0,
              "ticks": ""
             }
            },
            "type": "scattergeo"
           }
          ],
          "scattergl": [
           {
            "marker": {
             "colorbar": {
              "outlinewidth": 0,
              "ticks": ""
             }
            },
            "type": "scattergl"
           }
          ],
          "scattermapbox": [
           {
            "marker": {
             "colorbar": {
              "outlinewidth": 0,
              "ticks": ""
             }
            },
            "type": "scattermapbox"
           }
          ],
          "scatterpolar": [
           {
            "marker": {
             "colorbar": {
              "outlinewidth": 0,
              "ticks": ""
             }
            },
            "type": "scatterpolar"
           }
          ],
          "scatterpolargl": [
           {
            "marker": {
             "colorbar": {
              "outlinewidth": 0,
              "ticks": ""
             }
            },
            "type": "scatterpolargl"
           }
          ],
          "scatterternary": [
           {
            "marker": {
             "colorbar": {
              "outlinewidth": 0,
              "ticks": ""
             }
            },
            "type": "scatterternary"
           }
          ],
          "surface": [
           {
            "colorbar": {
             "outlinewidth": 0,
             "ticks": ""
            },
            "colorscale": [
             [
              0,
              "#0d0887"
             ],
             [
              0.1111111111111111,
              "#46039f"
             ],
             [
              0.2222222222222222,
              "#7201a8"
             ],
             [
              0.3333333333333333,
              "#9c179e"
             ],
             [
              0.4444444444444444,
              "#bd3786"
             ],
             [
              0.5555555555555556,
              "#d8576b"
             ],
             [
              0.6666666666666666,
              "#ed7953"
             ],
             [
              0.7777777777777778,
              "#fb9f3a"
             ],
             [
              0.8888888888888888,
              "#fdca26"
             ],
             [
              1,
              "#f0f921"
             ]
            ],
            "type": "surface"
           }
          ],
          "table": [
           {
            "cells": {
             "fill": {
              "color": "#EBF0F8"
             },
             "line": {
              "color": "white"
             }
            },
            "header": {
             "fill": {
              "color": "#C8D4E3"
             },
             "line": {
              "color": "white"
             }
            },
            "type": "table"
           }
          ]
         },
         "layout": {
          "annotationdefaults": {
           "arrowcolor": "#2a3f5f",
           "arrowhead": 0,
           "arrowwidth": 1
          },
          "autotypenumbers": "strict",
          "coloraxis": {
           "colorbar": {
            "outlinewidth": 0,
            "ticks": ""
           }
          },
          "colorscale": {
           "diverging": [
            [
             0,
             "#8e0152"
            ],
            [
             0.1,
             "#c51b7d"
            ],
            [
             0.2,
             "#de77ae"
            ],
            [
             0.3,
             "#f1b6da"
            ],
            [
             0.4,
             "#fde0ef"
            ],
            [
             0.5,
             "#f7f7f7"
            ],
            [
             0.6,
             "#e6f5d0"
            ],
            [
             0.7,
             "#b8e186"
            ],
            [
             0.8,
             "#7fbc41"
            ],
            [
             0.9,
             "#4d9221"
            ],
            [
             1,
             "#276419"
            ]
           ],
           "sequential": [
            [
             0,
             "#0d0887"
            ],
            [
             0.1111111111111111,
             "#46039f"
            ],
            [
             0.2222222222222222,
             "#7201a8"
            ],
            [
             0.3333333333333333,
             "#9c179e"
            ],
            [
             0.4444444444444444,
             "#bd3786"
            ],
            [
             0.5555555555555556,
             "#d8576b"
            ],
            [
             0.6666666666666666,
             "#ed7953"
            ],
            [
             0.7777777777777778,
             "#fb9f3a"
            ],
            [
             0.8888888888888888,
             "#fdca26"
            ],
            [
             1,
             "#f0f921"
            ]
           ],
           "sequentialminus": [
            [
             0,
             "#0d0887"
            ],
            [
             0.1111111111111111,
             "#46039f"
            ],
            [
             0.2222222222222222,
             "#7201a8"
            ],
            [
             0.3333333333333333,
             "#9c179e"
            ],
            [
             0.4444444444444444,
             "#bd3786"
            ],
            [
             0.5555555555555556,
             "#d8576b"
            ],
            [
             0.6666666666666666,
             "#ed7953"
            ],
            [
             0.7777777777777778,
             "#fb9f3a"
            ],
            [
             0.8888888888888888,
             "#fdca26"
            ],
            [
             1,
             "#f0f921"
            ]
           ]
          },
          "colorway": [
           "#636efa",
           "#EF553B",
           "#00cc96",
           "#ab63fa",
           "#FFA15A",
           "#19d3f3",
           "#FF6692",
           "#B6E880",
           "#FF97FF",
           "#FECB52"
          ],
          "font": {
           "color": "#2a3f5f"
          },
          "geo": {
           "bgcolor": "white",
           "lakecolor": "white",
           "landcolor": "#E5ECF6",
           "showlakes": true,
           "showland": true,
           "subunitcolor": "white"
          },
          "hoverlabel": {
           "align": "left"
          },
          "hovermode": "closest",
          "mapbox": {
           "style": "light"
          },
          "paper_bgcolor": "white",
          "plot_bgcolor": "#E5ECF6",
          "polar": {
           "angularaxis": {
            "gridcolor": "white",
            "linecolor": "white",
            "ticks": ""
           },
           "bgcolor": "#E5ECF6",
           "radialaxis": {
            "gridcolor": "white",
            "linecolor": "white",
            "ticks": ""
           }
          },
          "scene": {
           "xaxis": {
            "backgroundcolor": "#E5ECF6",
            "gridcolor": "white",
            "gridwidth": 2,
            "linecolor": "white",
            "showbackground": true,
            "ticks": "",
            "zerolinecolor": "white"
           },
           "yaxis": {
            "backgroundcolor": "#E5ECF6",
            "gridcolor": "white",
            "gridwidth": 2,
            "linecolor": "white",
            "showbackground": true,
            "ticks": "",
            "zerolinecolor": "white"
           },
           "zaxis": {
            "backgroundcolor": "#E5ECF6",
            "gridcolor": "white",
            "gridwidth": 2,
            "linecolor": "white",
            "showbackground": true,
            "ticks": "",
            "zerolinecolor": "white"
           }
          },
          "shapedefaults": {
           "line": {
            "color": "#2a3f5f"
           }
          },
          "ternary": {
           "aaxis": {
            "gridcolor": "white",
            "linecolor": "white",
            "ticks": ""
           },
           "baxis": {
            "gridcolor": "white",
            "linecolor": "white",
            "ticks": ""
           },
           "bgcolor": "#E5ECF6",
           "caxis": {
            "gridcolor": "white",
            "linecolor": "white",
            "ticks": ""
           }
          },
          "title": {
           "x": 0.05
          },
          "xaxis": {
           "automargin": true,
           "gridcolor": "white",
           "linecolor": "white",
           "ticks": "",
           "title": {
            "standoff": 15
           },
           "zerolinecolor": "white",
           "zerolinewidth": 2
          },
          "yaxis": {
           "automargin": true,
           "gridcolor": "white",
           "linecolor": "white",
           "ticks": "",
           "title": {
            "standoff": 15
           },
           "zerolinecolor": "white",
           "zerolinewidth": 2
          }
         }
        },
        "title": {
         "font": {
          "size": 20
         },
         "text": "Wizualizacja t-SNE dla osadzeń tekstów z Universal Sentence Encoder",
         "x": 0.5
        },
        "xaxis": {
         "anchor": "y",
         "domain": [
          0,
          1
         ],
         "title": {
          "text": "Dim1"
         }
        },
        "yaxis": {
         "anchor": "x",
         "domain": [
          0,
          1
         ],
         "title": {
          "text": "Dim2"
         }
        }
       }
      }
     },
     "metadata": {},
     "output_type": "display_data"
    }
   ],
   "source": [
    "tsne = TSNE(n_components=2, random_state=42, perplexity=12, n_iter=1000)\n",
    "tsne_results_use = tsne.fit_transform(embeddings)\n",
    "\n",
    "tsne_df_use = pd.DataFrame(tsne_results_use, columns=['Dim1', 'Dim2'])\n",
    "tsne_df_use['Text'] = texts\n",
    "tsne_df_use['Label'] = labels\n",
    "\n",
    "color_map = {\n",
    "    \"Neutral\": \"dodgerblue\",\n",
    "    \"Positive\": \"green\",\n",
    "    \"Negative\": \"red\"\n",
    "}\n",
    "\n",
    "fig = px.scatter(\n",
    "    tsne_df_use, x='Dim1', y='Dim2', \n",
    "    color='Label', hover_data=['Text', 'Label'],\n",
    "    title='Wizualizacja t-SNE dla osadzeń tekstów z Universal Sentence Encoder',\n",
    "    color_discrete_map=color_map\n",
    ")\n",
    "\n",
    "fig.update_traces(marker=dict(size=10))\n",
    "fig.update_layout(\n",
    "    title_x=0.5,\n",
    "    title_font=dict(size=20)\n",
    ")\n",
    "\n",
    "fig.show()"
   ]
  },
  {
   "cell_type": "markdown",
   "metadata": {},
   "source": [
    "# Klasteryzacja"
   ]
  },
  {
   "cell_type": "code",
   "execution_count": 413,
   "metadata": {},
   "outputs": [
    {
     "data": {
      "application/vnd.plotly.v1+json": {
       "config": {
        "plotlyServerURL": "https://plot.ly"
       },
       "data": [
        {
         "customdata": [
          [
           "pozgłaszać cwiczenie analiza dostać trochę plus",
           "0"
          ],
          [
           "prosty umieć turbo pascalać",
           "0"
          ],
          [
           "dbać zajęcia odezwać coś potrafić gnębi pomagać",
           "0"
          ],
          [
           "matematyka nauczyć umieć skrypt nauczyc zapić",
           "0"
          ],
          [
           "piec kartkowek wejsciowka sa podstawa zaliczeć",
           "0"
          ],
          [
           "zajecia porywajace zbytnio interesujace wiec pelnia polecać",
           "0"
          ],
          [
           "oddawać sprawozdanie coś ważny",
           "0"
          ],
          [
           "dobrze mogł eś trafić",
           "0"
          ],
          [
           "inny kola",
           "0"
          ],
          [
           "analiza metr wykłada stwierdzić metr strata czas",
           "0"
          ],
          [
           "kurs fizyk ćw b miły sympatyczny śmiać czesto ironicznie p",
           "0"
          ],
          [
           "eit cz elektroniczny razem profesor",
           "0"
          ],
          [
           "reszta zadanie standard maga c",
           "0"
          ],
          [
           "zaliczenie wymagać napisać dwa koło",
           "0"
          ],
          [
           "raczej narzekać rewelacja",
           "0"
          ],
          [
           "doktor calek sympatyczny choc niektorzy lubić",
           "0"
          ],
          [
           "tłumaczyć robić zadanie skrypt palnie jakies dowcip",
           "0"
          ],
          [
           "przepisować skrypt tablica",
           "0"
          ],
          [
           "kurs angielski b e średnio jeża b kurs bezstresowy niezapowiedziany kartkówka zapowiedziany zresztą",
           "0"
          ],
          [
           "suma bezstresowy zajęcie dopóki kolokwium",
           "0"
          ],
          [
           "zaliczenie najmniejszy problem",
           "0"
          ],
          [
           "chodzić sala hmmmm",
           "0"
          ],
          [
           "cztery zapowiedziać kartkówka mogące dodać cztery dodatkowy punkt pula punkt kolokwi",
           "0"
          ],
          [
           "zadanie robić",
           "0"
          ],
          [
           "jeśio usłyszeć być wykłaść sala wałbrzyski dobrze siadać rząd daleko nikły szansa usłyszeć",
           "0"
          ],
          [
           "zadanie kosmos oczywiście czas twierdzić prosty",
           "0"
          ],
          [
           "tyle liczba nagy prawda d pierwszy kolo latwo problemow zaliczyc troszkę pouczylo zrozumialo podstwa",
           "0"
          ],
          [
           "chcieć nauczyć dobry wybór pra ś",
           "0"
          ],
          [
           "forma dowolny referat rozprawka opowiadać dialog wiersz objętość strona maksymalć dwa",
           "0"
          ],
          [
           "zazwyczaj wcześnie uprzedzać koło",
           "0"
          ],
          [
           "potrafić przystepny wyjaśnić różny zjawisko często robić dowcipny zapamiętować d",
           "0"
          ],
          [
           "pytać każdy zjawisko cokolowiek wspólny dany ćwiczenie",
           "0"
          ],
          [
           "widzieć uwaga sluchacza zaczynać uciekac opowiedzieć kawal anegdota historyjka pora wykladow masakryczna przynajmniej",
           "0"
          ],
          [
           "mówić staropolski powiedzeć andr",
           "0"
          ],
          [
           "znać minimum fizyka wersja profesor",
           "0"
          ],
          [
           "docent powiedzieć inaczej",
           "0"
          ]
         ],
         "hovertemplate": "HDBSCAN_Clusters=%{customdata[1]}<br>Dim1=%{x}<br>Dim2=%{y}<br>Text=%{customdata[0]}<extra></extra>",
         "legendgroup": "0",
         "marker": {
          "color": "#636efa",
          "size": 10,
          "symbol": "circle"
         },
         "mode": "markers",
         "name": "Klaster 0",
         "orientation": "v",
         "showlegend": true,
         "type": "scatter",
         "x": [
          1.2220291,
          0.53725934,
          -1.7275732,
          0.73248345,
          0.16614467,
          -1.5415983,
          -1.5158671,
          -0.38302678,
          2.3582537,
          -0.106495395,
          -2.4226017,
          -1.3279303,
          1.2197417,
          1.7727572,
          1.9696735,
          -2.9445345,
          1.1102144,
          2.0116973,
          -1.2385602,
          -1.0084933,
          2.5183582,
          -1.3983787,
          0.92537665,
          1.0243988,
          -0.6764127,
          0.7292621,
          0.33520278,
          1.0643693,
          1.4758052,
          1.3136982,
          0.5948047,
          -0.11186446,
          2.3170981,
          -0.7671618,
          -1.2862452,
          0.26099086
         ],
         "xaxis": "x",
         "y": [
          -0.5396549,
          0.01810182,
          -1.6795825,
          -2.3593616,
          2.4191136,
          0.9402161,
          -1.7049304,
          -0.8610163,
          -0.10448395,
          -0.47089767,
          0.30238825,
          -2.641854,
          1.8093137,
          0.7278321,
          1.2998043,
          -0.22307321,
          1.8845952,
          -1.6240678,
          1.300179,
          1.2671105,
          1.3981571,
          -0.48005337,
          -0.013652831,
          1.8859689,
          -0.83149,
          0.6890748,
          0.77187896,
          -2.2333095,
          -0.42730734,
          0.43707088,
          1.3876998,
          1.1500212,
          -1.2618302,
          -2.8829608,
          -2.565313,
          -3.324706
         ],
         "yaxis": "y"
        },
        {
         "customdata": [
          [
           "polecać wziąć serce rada j",
           "-1"
          ],
          [
           "sluchać zajeci zrobić dom zadanek powinienes problemow zaliczyc",
           "-1"
          ],
          [
           "luzacki prowadzić",
           "-1"
          ],
          [
           "zajęcia nudny sprawdzać obecnosci",
           "-1"
          ],
          [
           "musieć przyznać nudzić  wykładzie michać przerwa wybyć em pojawić ",
           "-1"
          ],
          [
           "prawde mowiac uczucie mieszany",
           "-1"
          ],
          [
           "krotko grupa zaliczylać oddal nikt jeden sprawka",
           "-1"
          ],
          [
           "duza częśc grupa zaliczyć kolokwia",
           "-1"
          ],
          [
           "wiedzieć zanotować",
           "-1"
          ],
          [
           "choc totalny tajfun tablica chwila Poprawiac facet spoko",
           "-1"
          ],
          [
           "ogólnie polecać",
           "-1"
          ],
          [
           "potrafić przyczepic osie symetri gruby być olowkiem rysować wkrecajac sruby drewniany otwor gwint naleza narysowac wybrzuszeć drewno drugi strona ksiazka podstawa obleć",
           "-1"
          ],
          [
           "zaliczenie raczej problem",
           "-1"
          ],
          [
           "chyba algebrze inaczej",
           "-1"
          ],
          [
           "niektóry v",
           "-1"
          ],
          [
           "przyłapanie ściąganiu dany praca",
           "-1"
          ],
          [
           "sam labork robić zbyt",
           "-1"
          ],
          [
           "Małgorzata chętny pomoc trudniejszy zadani",
           "-1"
          ],
          [
           "pisemny test gramatyka uzupełnianka obszerny przejścia poprawka",
           "-1"
          ],
          [
           "mówić profesor jesst ciekawy nieraz potrafić zainteresować minus mówić",
           "-1"
          ],
          [
           "oczywiscie odda d",
           "-1"
          ],
          [
           "kartkówka tez pytać",
           "-1"
          ],
          [
           "dopiero miara luz zdać najwięcej osoba",
           "-1"
          ],
          [
           "prowadzić przejrzyście",
           "-1"
          ],
          [
           "sporo dowiedziec",
           "-1"
          ],
          [
           "zdarzyc błąd",
           "-1"
          ],
          [
           "wiedzieć czegos nauczyc majac wczesniej styk pp trochy rzecz glowo rozjasnilo mazanie folia",
           "-1"
          ],
          [
           "niesamowity poczucie humor ciagle wstawka rozsmieszeć towarzystwo i tak dalej",
           "-1"
          ],
          [
           "ogólnie polecać",
           "-1"
          ],
          [
           "napisac kolokwi zdazaja rzadko kartkowka",
           "-1"
          ],
          [
           "straszny bałagan tablica porządnie skupić spieszyć zdążyć przepisywaen",
           "-1"
          ],
          [
           "lab przejść pobiegać pochodzić konsultacja chyba czuć radość student przychodzić",
           "-1"
          ],
          [
           "jedyny uwaga znajdziesz tablica waz slowy",
           "-1"
          ],
          [
           "zajecia chodzić oddać zrobić uratowac oblać podwyższyc ocene",
           "-1"
          ],
          [
           "koło zdanie łatwy",
           "-1"
          ],
          [
           "niechcesz słuchać musieć",
           "-1"
          ],
          [
           "wprost chcieć przychodzić",
           "-1"
          ],
          [
           "zacznić zajecia absolutnie obryc zadan szanowny doktor nic wytlumaczyć zbierze tlumaczeć krzyza droge zrozumieć",
           "-1"
          ],
          [
           "ocene podwyższać referat wystąpienie przypadek seminarka",
           "-1"
          ],
          [
           "zajmować góra dzień zwłaszcza odpowiedź sa wspólnie opracowywać student",
           "-1"
          ],
          [
           "wydawać gardzić student",
           "-1"
          ],
          [
           "zajęcia tragedia wogole mówić mikrofon mówić zrozumieć",
           "-1"
          ],
          [
           "fajny kontakt student",
           "-1"
          ],
          [
           "dostać trzy trochę postarać",
           "-1"
          ],
          [
           "inny ćwiczenia",
           "-1"
          ],
          [
           "wyjątkowo miły człowiek nieco zestresować obecność świat człowiek radzić patrzenie podłoga podobno pomagać",
           "-1"
          ],
          [
           "duza plus dodatkowy punkt aktywność",
           "-1"
          ],
          [
           "podobno niedawn postrach głównie sprawa fizyka ii mój kadencja zmiękł chociaż nadal trudno",
           "-1"
          ],
          [
           "zaliczenie podstawa obecność",
           "-1"
          ],
          [
           "robić jeden zapowiedziać wejściówkea bodajże trzeci laboratorium",
           "-1"
          ],
          [
           "wymagać absolutny cisza słuch wzrok absolutny usłyszeć wypatrz",
           "-1"
          ],
          [
           "przyłożyć nauczyć aha lubić spóźniać",
           "-1"
          ],
          [
           "górniak wymagający dawać raczej standardowy zadanie skrypt",
           "-1"
          ],
          [
           "graficzny zapis konstrukcja wykład elektryczny nudny",
           "-1"
          ],
          [
           "zaliczyć oddać wypracowanie napisać koło niewiele zdecydować",
           "-1"
          ],
          [
           "egzamin łatwo",
           "-1"
          ],
          [
           "scharoch wypadać naprawde swietć",
           "-1"
          ],
          [
           "zwyczajnie pytać rzecz zwykle pomijać wydawać małoistotny",
           "-1"
          ],
          [
           "szermierka ciekawy sport gańcz potrafić nauczyc",
           "-1"
          ],
          [
           "pytanie raczej prosty trudno zaliczyc",
           "-1"
          ],
          [
           "zaliczenie strona internetowy wymyśloć firma biznes plan",
           "-1"
          ],
          [
           "analiza matematyczny wykład ćw wydawać mila osobka tłumaczyć wszytko dokladć zadny pospiech",
           "-1"
          ],
          [
           "obnizyl prog zaliczenie punkt shock generalnie zle pozatym air inny wybór",
           "-1"
          ],
          [
           "radze trzymac daleki",
           "-1"
          ],
          [
           "podpisywać opinia poprzednik wszystek klawisza klawiatura",
           "-1"
          ],
          [
           "górniak ćwiczenie wogóle trzebaby chodzić",
           "-1"
          ],
          [
           "fizyk b zdac egzamin dosyc trudno przypadek zdalo osub",
           "-1"
          ],
          [
           "odpowiadać pytanie głośno zdecydowanie",
           "-1"
          ],
          [
           "kolokwium zaliczniowy ćwiczen wygladać nastepująco",
           "-1"
          ],
          [
           "b kołodzi prowadzić tragicznie",
           "-1"
          ],
          [
           "wymagać przesadzać trochy uczyć problem",
           "-1"
          ],
          [
           "koniec koło prosty",
           "-1"
          ],
          [
           "oczywiscie skrypt prowadzac sa biblia",
           "-1"
          ],
          [
           "ogolć ujść mozliwosc zapisania kogos inny raczej warto skorzystacć",
           "-1"
          ],
          [
           "inaczej wahać pan apostoluk pani kołodzi wiedzieć kto wybrać",
           "-1"
          ],
          [
           "niestety zaliczeć łatwo kolokwie oceniać system generalnie być bieżąco zdać",
           "-1"
          ]
         ],
         "hovertemplate": "HDBSCAN_Clusters=%{customdata[1]}<br>Dim1=%{x}<br>Dim2=%{y}<br>Text=%{customdata[0]}<extra></extra>",
         "legendgroup": "-1",
         "marker": {
          "color": "#EF553B",
          "size": 10,
          "symbol": "circle"
         },
         "mode": "markers",
         "name": "Klaster -1",
         "orientation": "v",
         "showlegend": true,
         "type": "scatter",
         "x": [
          -2.2355404,
          0.32715344,
          -3.5789895,
          -1.6455543,
          -0.23764403,
          -0.5276053,
          -0.13844332,
          -0.17263542,
          -0.6460518,
          1.7911484,
          -2.1815248,
          0.38788486,
          2.5095882,
          0.23932883,
          -0.61789495,
          -0.0826066,
          0.72773725,
          -0.7054174,
          -0.28747216,
          -0.902781,
          1.2880443,
          0.09000118,
          -1.1319108,
          -3.5799747,
          -0.733309,
          -0.46493408,
          -0.8050409,
          -2.1505466,
          -2.1815248,
          -0.35960385,
          1.9942124,
          -1.074902,
          2.3030598,
          -1.0553943,
          1.3240731,
          -0.22842392,
          1.3190646,
          -1.8898466,
          -0.58885425,
          -0.5690792,
          -1.5265162,
          -0.834366,
          -1.6874809,
          1.3235778,
          2.32992,
          -1.4339054,
          0.78543,
          -0.3820389,
          0.11129475,
          0.7007021,
          -0.86679703,
          0.5786948,
          1.4406394,
          -1.3996183,
          1.2962953,
          -0.49935734,
          -2.1713977,
          -0.37095314,
          -1.4517056,
          0.5487276,
          2.2677748,
          -2.181767,
          2.1276975,
          -0.7018111,
          0.191071,
          -1.6465759,
          -0.42350474,
          -0.19556838,
          -0.966524,
          -3.556738,
          -0.7163538,
          0.9488969,
          1.3207722,
          2.296551,
          -0.64125365,
          -0.65998477
         ],
         "xaxis": "x",
         "y": [
          1.7680286,
          0.704314,
          -1.5448755,
          -1.202139,
          -1.537995,
          -0.6697381,
          0.36927766,
          -0.037233397,
          -1.5717323,
          -1.4338523,
          2.86665,
          -0.07318272,
          1.4034535,
          -3.303041,
          -0.589322,
          0.7892486,
          1.723616,
          -0.68149906,
          -0.18293032,
          -2.6324296,
          -3.3357894,
          1.5498157,
          -0.70687777,
          -1.5450531,
          -1.8929205,
          -0.41231975,
          -1.5658317,
          0.8531014,
          2.86665,
          -0.36359903,
          -1.5147281,
          0.16592208,
          -1.4115455,
          0.10066274,
          0.478623,
          -1.645084,
          -2.3496585,
          0.23481344,
          -0.11193814,
          -0.0531901,
          0.65556663,
          -2.8109872,
          0.7080041,
          -0.5678117,
          -0.103870004,
          0.06507396,
          -0.15180688,
          -2.157554,
          2.900251,
          1.3948567,
          -1.2089125,
          -2.4352765,
          1.4229813,
          -1.1859196,
          0.3863858,
          0.6114145,
          -3.4879022,
          1.1513455,
          -2.026775,
          0.7417472,
          0.90110385,
          -0.013513004,
          0.32546848,
          -0.60353005,
          -2.4704444,
          -0.44779444,
          0.19201231,
          -0.21479888,
          1.2965771,
          -1.6558416,
          -1.2417834,
          0.38526797,
          -3.3197322,
          0.32889244,
          -1.8761258,
          0.5581713
         ],
         "yaxis": "y"
        },
        {
         "customdata": [
          [
           " zajęcia starać  mogła em nadgonić grupa zdawać em matura anglik znaleźć em b",
           "1"
          ],
          [
           "fizyk laborek polecać b tadeusz wporzadek facet początkowo wydawać groźny zapowiedzieć pierwszy zajęcia kartkówke zdołać przestraszyć sam siebie chyba p kartkówka sa specyficzny część grupa część marudź",
           "1"
          ],
          [
           "cóż",
           "1"
          ],
          [
           "algebro geom analityczny polecać em wykład fajny podejsec student tez czlowieka mylić przyznale bledow",
           "1"
          ],
          [
           "human odzywać robić polcać nastawiać obecność dobry ocena",
           "1"
          ],
          [
           "zajęcia prowadzić luz wymagać",
           "1"
          ],
          [
           "kurs algebro geometria analityczny ocena",
           "1"
          ],
          [
           "doktor czylelć jasno prowadzić wykład chodzić suma musieć uczyc",
           "1"
          ],
          [
           "kisielewsko metr mgr pływać polecać b ocena obecnosc",
           "1"
          ],
          [
           "zasada prosty kolokwia zadanie ćwiczenie egzamin żądź p mastalerz niewtajemniczony ulubiić ksiazek prowadzący profesor skarżewski człowiek sympatyczny chociaż przypadek ocena proponować metr żaden dyskusja chyba polecać",
           "1"
          ],
          [
           "prosty wykłaed nudno nic człowiek dowiedzieć pożyteczn ćwiczenia materiał iść zdecydowanie szybko sprawa wszelki dygresja doktor wykład",
           "1"
          ],
          [
           "co prosty trochę pomęczyć sprawdzić wytrwałość wink przedmiot traktować poważnie praca nosić czas duży problem",
           "1"
          ],
          [
           "pogadać zagadać spytac",
           "1"
          ],
          [
           "prawda wykład średnio ciekawy wykonać folia pozostawiać życzenie",
           "1"
          ],
          [
           "minus SA test dokładni poziom choc martwic niezaliczen pierwszy termin drugi łatwo zaliczaja",
           "1"
          ],
          [
           "ocena obecność uważać lubić gadający zdarzać postawić nazwisko kropke",
           "1"
          ],
          [
           "pierwszy termin wyklad zaliczylo osoba drugi dobrze wiec mozesz zalicz przedmiot inny wykladowca cwiczenie przepisac ocene wyklada mieć spokoj zrobil zero stres",
           "1"
          ],
          [
           "dzielil sala grupa zazwyczaj pierwszy grupa mial zadanie najlatwiejy zle",
           "1"
          ],
          [
           "puścić listy potem stwierdzić daleko czytać szybko niedziwie człowiek wpisywać obecność wcześnie zapas d hehe em nieobecność chyba dać dogadać lu zwolnić przynieść d uznawać d",
           "1"
          ],
          [
           "opinia podstawa kurs płyn ii zeszłoroczny prowadzić zajęcie zrozumiać potrafić nauczyć",
           "1"
          ],
          [
           "zadanie egzamin latwy nalezać ukladajać pracownik wiec co spodziewac ocena ogólny średnio jeża",
           "1"
          ],
          [
           "analiza matematyczny ćwiczenie ocena unikać b pierwszy ćwiczenia myśleć em analizy zaliczyć problem pokazywać dodawać ułamka różny mianownika bawić swój maszyna liczącą kalkulator wink lubić bawić",
           "1"
          ],
          [
           "zajęcia prowadzić ciekawy potrafić przekazywać wiedza",
           "1"
          ],
          [
           "ogólnie polecać human punkt",
           "1"
          ],
          [
           "informatyk ogólnie źle robić śmy ćw móc śmy przećwiczyć dom łatwy temat sposób spisać kod napisany dom przeróżny korzystać książka gł źródło dodatkowy wiedza kartkówka nei trudny przyjmować projekt pytać wiedzieć chodzić koniec okazać program zaliczeniowy oddawać luz podnosić ocena ponoć robić to znaczy dokr ę",
           "1"
          ],
          [
           "pytanie laborka potrafić ciężki wylecieć koniec laboratorium reguła grupa bedą zapytać cały zajęcia",
           "1"
          ],
          [
           "doktor prowadzić wykład dośc nurzący zasnąć",
           "1"
          ],
          [
           "mieć zdanie rozmowa bedziesz zupelć robić byle mieć nieobecność zaliczyć",
           "1"
          ],
          [
           "chodzić zajęcia wiadomo póki przyjść prowadzić rozgrzewać piłka każdy czas robić mały rozgrzewke konkurs wyścig rząd konkurs zucania dwutakt lewy ręka potać grać zespół system wybierać student najczeście grać mecz rewanż grać mecz streetball potem grać cały boisko",
           "1"
          ],
          [
           "kazde cwiczenie zadan grupa ocena teza grupowy system oceniać chaotyczny zgodnie motto korzysc student raca e",
           "1"
          ],
          [
           "koło zwykle łatwy należeć człowiek troszkę postarać zaliczyć problem",
           "1"
          ],
          [
           "koniec wyklad dawać pytanie SA wybierać egzamin trudno zaliczyc",
           "1"
          ],
          [
           "wstęp programowania laborka wykład kurs archaiczn środowisko turbo pascal polecać tyc mieć nieco czynić pascal zaliczenie samouk pierwszy zajęcia podejść prowadzący zapytać uzyskać zaliczenie chodzeć laborek kara napisać program oprzeć baz dane piszesz program oddawać przyłożyć eś dostajesz przepisanie ocena wykład musieć pisać test zaliczyć wykład",
           "1"
          ],
          [
           "wyklad lubić dygresja zarcik zamotać wlasny wyprowadzenia fizyk cwiczyć raz uciekl cwiczen pokluceć portier przyszedl dol powiedzial cwiczeniowiec nakrzyczal portier uciekl nieznany potrafić rozwlec rozwiazywać zdanie listy robic par cwiczen dawać punkt zadanek zglosić poznie procentować skubaniec umieć zapamietacć wskazac dany osobe sala wykladowy zwrocic nazwisko oplacać isc konsultacja szczegolnie ii kolokwium obecny dostać nadzwyczaj duze ilosci punktow duzy kol na przykład dostal punktow dalo ladny czworeczke",
           "1"
          ],
          [
           "kolokwiać kartkówka ewentualnie aktywność należeć najprostrzy uczyć robić zadanie skrypt spokojnie mieć",
           "1"
          ],
          [
           "negatyw",
           "1"
          ],
          [
           "Marcin szxxxak mgr fizykać ćwiecznie wppt ib ocena tendencja zwyżkowy b ogólnie zły prowadzący",
           "1"
          ],
          [
           "ogólnie ambitny warto chcieć przejśc warto zapisac sens chodzic wykład trochę własny praca",
           "1"
          ],
          [
           "mazurek cel prawdopodobnie postawić zanudzić student pan pierwszy zajęcie dać znieść nieco jasny",
           "1"
          ],
          [
           "pospać zajęcia",
           "1"
          ],
          [
           "zajęcia panować miły atmosfera doktor modrzycki duży poczucie humor nudzić",
           "1"
          ],
          [
           "ogolny ocena polecać",
           "1"
          ],
          [
           "profesor miły osoba człwiek wykłada chemia analityczny rzeczywiście delikatnie rzecz ujmować podpowiadać pytanie niemniej niekiedy wykład prowadzić liczny dygresj miły przyjemnie mijać czas co uczyć",
           "1"
          ],
          [
           "kurs algebro geometry analityczny wykład gosć swój świat wygnieciyć wyspać balować cały dno noc",
           "1"
          ],
          [
           "wyczyta nieobecny osoba czytać kolejny zajęcia",
           "1"
          ],
          [
           "polecać kurs prowadzący",
           "1"
          ],
          [
           "ocena przejście Jerzy całkiem fajny matematyk prawda dosyć ekscentryczny zły móc wydawać",
           "1"
          ],
          [
           "naprawde",
           "1"
          ],
          [
           "dać ściągać współpracować zdarzać sytuacja zaliczyć osoba ściągać ściągać niestety",
           "1"
          ],
          [
           "mieć możliwość zapisania zajęcia pać doktor polecać serdecznie",
           "1"
          ],
          [
           "sprawdzać obecnosci dawać ocene praktyka krotka rozmowa naprawde m student sluchajać",
           "1"
          ],
          [
           "pytac ustć",
           "1"
          ],
          [
           "dobry wykładowiec",
           "1"
          ],
          [
           "gosc nieziemski",
           "1"
          ],
          [
           "ocena ogólny unikac x x",
           "1"
          ],
          [
           "kolokwium prawdopodnie sprawdzać ocena przypadkowy ogół temat krążą legenda",
           "1"
          ],
          [
           "uwaga",
           "1"
          ],
          [
           "mówić sprawa niezwiązany przedmiot",
           "1"
          ],
          [
           "doktor kornel wporzadek wprwawdzie potrafić nauczyc algebry przyznawać umieć d przyjaznie nastawić studentow wyklada sa ciekawy dr niezbyt czesto poruszać problematyke czysto matematyczny zwykle opowiadać ciekawy dziać siwet kolokwi sa prosty warunek posiedź skrypt raga sciagac zlaszcze sasiadow sam koło doktor kornel siedzieć kat nikt zwracać uwaga sprawdzać praca robić wnikliwy sledztwo ogólnie polecać",
           "1"
          ],
          [
           "wytłumaczyć czas pytać rozumieć rozumieć dany dział tłumaczyć potwierdzać zrozumilei koło raczej trudny liczyć dopytke koniec niezdawać swój wada ciekawa postacie czesto zagłebiać wykładzie temat",
           "1"
          ],
          [
           "sala osoba potrafić śmiać prosto twarz",
           "1"
          ],
          [
           "poprawiać przynosić następny raz wyszukiwać kolejny błedy poprawić eś źle mieć poczatek",
           "1"
          ],
          [
           "człowiek taki lajtu zyć widzial postanowil przytoczyc zdan pierwszy wyklad mało wiecej wykl",
           "1"
          ],
          [
           "projekt specjalnie rozbudować ładnie wyglądać mieć elegancki zrobiyć dokumentacja pokazywać ładny wykres",
           "1"
          ],
          [
           "kolokwiać SA trudny standart ogolnouczelniać",
           "1"
          ],
          [
           "niestety sam prowadzącego obekcja punkt wdzieniać trening i tak dalej wszytko czes rozgrzewka forma zabawa niestety mial miejse trening sytulacja zrazilać pokazywać dźwigni noge stopa zignorować zupełnie odklepeć mate powiadomieć bać student pokazywal technikea puścić chociaż zmniejszyć nacisk siła skręt",
           "1"
          ],
          [
           "każdy laborka kartkówka moge stwierdzić trudny zaliczyć  jeden prosty eś czynić język c naprawde trudno",
           "1"
          ],
          [
           "poczucie humor student tez czlowieka poprost super",
           "1"
          ],
          [
           "byl absolutnie _ _ cwiczen dopytka dostal wiec lagodny chodzacy",
           "1"
          ],
          [
           "Kotarba Wiesław profesor",
           "1"
          ],
          [
           "znać tez ćwiczenie przystepnie tłumaczyć",
           "1"
          ],
          [
           "gańcz osoba dobry nauczyciel początkujący rozumieć wogóle powyższy komentarz chodzić wiel K",
           "1"
          ],
          [
           "raz udać zaliczyć ostatni poprawka zaliczyć przepisać zadanie list przepić wszytki większość to znaczy mieć lista zrobić przejść",
           "1"
          ],
          [
           "wykład cwiczenie prowadzić b gonić materiał robioć poprosto zaszybko",
           "1"
          ],
          [
           "miernictwo elektroniczny wykład ocena bieda wielki b mówic przpity trochy chrypk czas pić spiryt pierwszy wrażenie",
           "1"
          ],
          [
           "zauwazylać pilnować wstawianie plus aktywnosc cwiczenie ostatecznie przejmować wiedzieć dolicz punkt koło pary raz tablica bylam zostalo doliczyć pół punkt",
           "1"
          ],
          [
           "doktor wymagać systematyczność spokojnie zaliczyć em komplet wykład profesor dowodzić śmieszność system niemnie doktor duda szczególnie laborka godny polecenie tłumaczyć wógle miły ocena prowadzący bdb ocena pomijać zasada zaliczeć wykład wydawać odgórnie narzucić",
           "1"
          ],
          [
           "kurs analiza matematyczny ii wyklad numer b najciekwszy prowadzacy jaki mial stycznosc pwr",
           "1"
          ],
          [
           "ocene niezbyt wysoki robić łaska wpisze",
           "1"
          ],
          [
           "zajęcia ciekawy wiedza wchodzić cząstkowy widzimis łatwy człowiek uczyć skarbnica dobry humor przyjazny student człowiek polecać pośmiac nauczyć raz napisać zadanko tablica rozwiązać człapać sala podpatruej robić",
           "1"
          ],
          [
           "ogolnie wiedzieć sprawdzać UE chyba pierwszy prowadzić magnesa UE tez dać rade",
           "1"
          ],
          [
           "koniec kurs kolokwium bądź egzamin reguła ciężki system oceniać pozostawiać życzenie",
           "1"
          ],
          [
           "oczywiscie koniec mieć odfajkować inaczej siedzić zrobić wszystko",
           "1"
          ],
          [
           "algebro geometria analityczny ocena spoko b doktor rałowski baaardzo zakręcony człowiek",
           "1"
          ],
          [
           "rrowadzić zarówno wykład ćwiczenie",
           "1"
          ],
          [
           "koło banalny wystarczyć przerobić solidnie skrypt mieć zadanie koło wziąć wprost skrypt pozmieniać dane",
           "1"
          ],
          [
           "dr bogdan przepuszczać osoba brakować punkt zaliczenie bądź zdobyć minimum któregoś kolokwium",
           "1"
          ],
          [
           "wykład wykład sam skrypt",
           "1"
          ],
          [
           "kurs analiza mat wykł ćw ocena pozytwyn negatywny wykład przepisywać skrypt doktor wilhelm człowiek ból skrupulatny punktualnym troche anemiczny",
           "1"
          ],
          [
           "em przyjemność mieć ten pani wykład",
           "1"
          ],
          [
           "chodzić wykład wemif ie człowiek chyba wybór chyba doktor juszkiewicz wykładać",
           "1"
          ],
          [
           "ogólnie normalny informatyk polecać brać ciemno",
           "1"
          ],
          [
           "ćwiczenie warto przygotować błyskać każdy zajęcia zapamiętać",
           "1"
          ],
          [
           "tlumaczyl wmiary jasno wstep teoretyczny",
           "1"
          ],
          [
           "robić kartkówka",
           "1"
          ],
          [
           "doktor",
           "1"
          ],
          [
           "doktor chemik prowadzić kurs nasz wydział d rzecz",
           "1"
          ],
          [
           "praktycznie pytać każdy zajęcia tyle grupa em szczeście pytać prawi każdy",
           "1"
          ],
          [
           "wspaniały prowadzić wykład",
           "1"
          ],
          [
           "jestes liceum mieć pech p rowć mozesz isc kurs jezyko japonskiego wyklad niezrozumialy czlowieka wrazenie doktor m inny jezyk d nikt chodzić uczyć bierzaco posiadać odpowiedni ksiazek notatka etc mieć szansa zdac kola SA trudny najgorszaa cech dr potrafić doczepic pierdolka zdarzać pomylica liczenie punkt wiec polecać konsultacja przypadkow pomylil liczenie qmpel przyklad pisal poprawke chociaz zaliczyl koło dopiero konsultacja okazalo potrzebć pisal poprawke pan",
           "1"
          ],
          [
           "zdecydujeć chodzic wykład pamiętać zajęcia punktualnie koleś zamykać drzwi koło sala każdy sala pilnować osoba ściagac dać rade",
           "1"
          ],
          [
           "ocena wystawiać własć podstawa obecność",
           "1"
          ],
          [
           "fakt zadać koło specyficzny",
           "1"
          ],
          [
           "fizyk fizyk ii wyklada ciekawy dowcipny człowiek sporo kawalow anegdot super zajecie prowadzić przyjazny student wyłączć ofiara który profesor upatrzeć poczatek semestr ciek",
           "1"
          ],
          [
           "doktor t kowal chemia nieorganiczny ii ćwiczenie ocena pozytywny b specyficzny prowadzić zajęcia",
           "1"
          ],
          [
           "umieć wytłumaczyc trudny zadanie chociaz naprawde trudniejy miły chęć omiajał mówić prosty trudny być liczyc koło d zrobić par zapowiedziany kartkówka każdy punkt",
           "1"
          ],
          [
           "mieć nieusprawiedliwioną reszte usprawiedliwiac chyba odrabiać zanizać ocene końcowy",
           "1"
          ],
          [
           "każdy nieobecność ocena dół koniec chyba odrobić termin koniec krótki bezstresowy egzamin panika",
           "1"
          ],
          [
           "ocena ujść ciężko dorwać",
           "1"
          ],
          [
           "naprawde warto poznac",
           "1"
          ],
          [
           "ogólnie polecać Krzysztof bogdan swój plecak poczucie humor koniec podajcie ręka wymieńcie znak pokój spodobać każdy",
           "1"
          ],
          [
           "iść informatyke znałęm ogół jezyk c kurs człowiek doktor zakładać wiedza rozumieja każdy skomplikowany słowo",
           "1"
          ],
          [
           "większośc zajęcia prowadzący uczyć pływać kilka grać śmy piłka polecać kurs odpłatny złoty",
           "1"
          ],
          [
           "kurs chemia nieorganiczny ćw ocena najniższa unikać",
           "1"
          ],
          [
           "zgadzać powyzszy opinia",
           "1"
          ],
          [
           "chyba fanatyk swój dziedzina trochy pamietać wiekszosć koniec zdać",
           "1"
          ],
          [
           "zajeci naleza cicho osoba gadajaca przylapać moge miec obnizonać ocene",
           "1"
          ],
          [
           "żaden gadać przedmiot popchnięty przód",
           "1"
          ],
          [
           "achi temat kurs międzynarodowy standard praca raczej międzynarodowy organizacja praca prowadzący głowny człowiek taki",
           "1"
          ],
          [
           "chcieć zrobić",
           "1"
          ],
          [
           "według minuta trochy",
           "1"
          ],
          [
           "kol sa zbyt trudny wystarczyć miec dobry notatka cwiczen przeczytacć ksiazka",
           "1"
          ],
          [
           "filozofia natura elektryczny ciekawy referat dotyczyć dowcipny człowiek dobra profesor prowadzić zajęcia baardzo rekreacyjnie temat ciekawy",
           "1"
          ],
          [
           "prowadzić wykładu patrzeć podłoga bać student d zaliczeć sem sprawdzać raz obecność przynajmniej raz zaliczyć",
           "1"
          ],
          [
           "mieć odróbeka ważny powód prowadzić zajęcia dogadać",
           "1"
          ],
          [
           "angielski kobietka wymagajacać robić duzy problemow zaliczeć",
           "1"
          ],
          [
           "human odbębnieć zajęcia grać karta worms bierka sala osoba praktycznie siedziać studentow",
           "1"
          ],
          [
           "lubić pożartować lekcja trzymać plan lekcja żart lekcja prowadzić mówić francuski",
           "1"
          ],
          [
           "ogólnie dobry fizyk  zwrot ocena strsznie",
           "1"
          ],
          [
           "siakoś",
           "1"
          ],
          [
           "założenie zaliczyć punkt praktyka punkt",
           "1"
          ],
          [
           "wstęp algebry geometria ciocie dorotek pseudonim dostać nasz grupa chyba dobry prowadzić c",
           "1"
          ],
          [
           "biernacki prowadzić laborek naprawde dziwnie łebky zaangażować ważny niezrozumiale powtórz niezrozumiale",
           "1"
          ],
          [
           "ogólnie bwe pikuś",
           "1"
          ],
          [
           "podstawa ocena indeksa egzamin niespodziewajka brak zadanie powtarzać poczucie humorupany pokład ogólny podejście student pozytywny zerowy termin najprostszy zadanie warunek przystąpić zaliczenie projekt doktor",
           "1"
          ],
          [
           "ksiadz irka niesamowicie prowadzić zajecie",
           "1"
          ],
          [
           "zgrozo",
           "1"
          ],
          [
           "olewać gorniak podpadać naprawde grozny p",
           "1"
          ],
          [
           "analiza matemtyczny ocena b miły zajecie mijać wiedzieć mieć ocene trudnosca kolokwi kwestia przygotować",
           "1"
          ],
          [
           "początek zaznaczać kurs teleinformatyka teoria obwód nazwa straszny twisted profesro stary przychodzić swój kartka przepisować tablica zwracać uwaga dziać sala koniec podawać zagadnienie koło przysc e gotowc opracowany sciąge",
           "1"
          ],
          [
           "lakier rower kiepski jakość robić odpryski wiadomo co rower ładny wygodny miesiąc użytkować widoczny odpryski lakier co taki cena oczywiście producent twierdzić wada mechaniczny dziecko dobry stan lakier rower firma odradzać zakup powód szkoda tyle kasa nerw chyba rower stać nieużywać szyba zakończenie powiedzieć porównować lakier zwykły paznokci hybrydę wiadomo tańszy zwykły lakierz robić odpryski dobry",
           "1"
          ],
          [
           "zadowolony zakup skrajnie niewygodny uciskać ucho minuta zwyczajnie zdjęcie słuchawka niesamowity ukojeć kolejny kwestia problem łączność początek sparować słuchawka telefon pierwszy utwór zacinać urok bezprzewodowy słuchawka wiedzieć wnikać wadać wadać numer sam posługiwać ten słuchawki komunikat głośność przeżyć sygnał chociażby wyłączanie urządzenie niezwykle irytować jakość dźwięk zadowalająca wada uważać słuchawka złoty powinien pozbawić metr móc cofnąć czas kupić metr sprzęt",
           "1"
          ],
          [
           "szukać klucz wielkość brać em uwaga to znaczy yato neo wzgląd duży rozstaw szczęk kupić em yato akurat dostępny pobliski sklep niski cena pyzatym część narzędzie firma sprawdzać rozpakować trochę rozczarować em sprawa regulowany szczęka rok bok sztywny duży klucz posiadać szerokość szczęka ruchomy duży szerokość nieruchomy prawdopodobnie luźny proces obróbka odchylać boka kolejny minus zablokować sworznia mianowicie nacięcie jakiś tarcza szlifierski plus ergonomiczny gumowy rączka otwor użyć klucz oczkowy zawieszić wiec klucz spełniać swój rola ideał człowiek ceniący zarówno funkcjonalność jakość wykonać",
           "1"
          ],
          [
           "długo szukać metr odpowiedni fotelik wysoki latka wcześnie użytkować metr fotelik kilogram duży producent podawać kilogram niestety trochę wyrost chociaż teoretycznie dziecko mieścić środkowy przedział wagowy kilogram fotelik okazać zbyt mały maksymalnie wysuniętym zagłówek głowa dziecko dotykać górny krawędź fotelik wyobrażać fotelik służyć następny rok fotelik wyglądać solidnie myśleć świetnie nadawać fotelik następny nosidełko",
           "1"
          ],
          [
           "kupić  pociąg zestaw tor prosty zakręt zestaw tor zwrotnica skrzyżowanie zestaw kompletnie nic tor niedopasować rozstaw koło lokomotywa kłaść lokomotywa idealnie środek tor koło krawędź cały koło jazda pracować prawo lewo pociąg niemal czas jeden strona koło jechać powietrze tor najgorzej skrzyżować zwrotnic skrzyżowanie wąski pociąg stan przejechać zdarz rozpęd przejechać zwrotnic ledwo pokonywać prawda zestaw nadawać zabawa skoro pociąg kompatybilny tor yt obejrzeć co problem wystarczyć wpisać wyszukiwanie blocki pociąg rozstaw trzeci próba jixin blocki mubi pierwszy zestaw rok straż pożarny służyć potem zestaw budowniczy rozleciać raz budowniczyć pociąg polecać zdecydowanie podróbek litr d cena oczywiście zachęcać",
           "1"
          ],
          [
           "pilarz parunast rok skusić em partner listopad r łatwo uruchamiać pracować lekki poręczny wygodny mały otwór wlew olej mały objętość zbiornik paliwo olej uzupełniać filtr powietrze zasada jednorazowy zapychać tydzień praca h dzienny praca pić koszt nowy złoty miesiąc pęknąć linka gaz każdy nacisnąć manetka gaz łamać linka dziwny rozwiązanie konstrukcyjny koszt nowy złoty trochę wysoki koszt utrzymać piła zawiedziony model partner",
           "1"
          ],
          [
           "uważać dobry kitowy obiektyw rynek wykonać metal dobry jakość tworzywić pierścień przysłona chodzić należyty opor skokiem wbudować stabilizacja wydajny naprawdę pomagać sytuacja obiektyw ostry duży otwór przysłona celność bdb pochwala dodatkowo szybki silnik autofokus używać  poczatek dosyć mułowaty x e przesiaść em x t móc chwalić ostatni plus opracować system uszczelnienie obiektyw zoom ogół zasysać kurz środek mieć być zoom nikkora sigmy problem polecać",
           "1"
          ],
          [
           "krzesełko ładny kolorystyka przydatny regulacja siedziski oparcie szybko wyczyścić pokryć specjalny materiał wnikać woda oprócz sam minus dziecko poci krzesełko straszliwie wzgląd materiał krzesełko ciężki kółeczka przód uniemożliwiać przesuwanie zajmować sporo miejsce kosztować sporo wiedzieć rynek droższe osobiście drugi metr kupić",
           "1"
          ],
          [
           "początek zobaczyć  słuchawka zachwycać  dobry mikrofon ładny opakowanie przyjemny wygląd słuchawka ogólnie mówić najpierw  zadowolony miesiąc problem mikrofon zacząć działać odpinać em działać długo chcieć em kusić los liczyć kolejny cud podłączy zadziałać siaść strona zupełnie kompletnie dobić zmienić em akg ogromny różnica jakość należeć trochę dopłacić nowy słuchawki słychać znacznie dobrze fps jaki przeciwnik poziom tył fatalit mogł  rozróżnić dopóki odwrócić em sprawdzić  zazwyczaj dead polecać długi meta miesiąc porządek zakup krótko beznadziejny wykonać kabel mikrofona ogólnie cały słuchawka",
           "1"
          ],
          [
           "dostać em badziewie prezent orange wybór mieć być pendrive czytnik bubel nazwa pamiętać wybór paść słuchawka dawno mieć być ucho zewnątrz nieźle wyglądać chyba duży zaleta dobrze wykonać niewygodny kabel krótki dźwięk środek widać najzwyklejszy chiński chłam móc zostać wykonać marn plastik zostać wykonać połączyć tani klej oby trzymać cena oczywiście ważny usprawiedliwienie zbyt pięknie początek lewa głośnik działać problem występować spowodować cienki włos drut zwyczajnie ukruszyć pęknięcie tuż punkt lutowanie zewnątrz przylutować ponownie wewnątrz egzemplarz szkoda czas produkt mogła em wysłać producent ramy gwarancja wzgląd niski wartość wysłać  kosz",
           "1"
          ],
          [
           "dobry wytrzymać obudowy plus przemawiać niezły odprowadzać ciepło wytrzymać konstrukcja solidny wykonanie atrakcyjny wygląd obudowy niestety wada niestabilny przypadek niektóry stary komputer przyczyna duży wymaganie prądowy chodzić port usb drugi widoczny wada fakt dysk zamontowanie sztywny wyczuć wyraźny poruszać obudowa drgani wpływać wydajność wytrzymałość dysk brać uwaga dysk należeć traktować delikatnie wada pominąć polecać obudowa",
           "1"
          ],
          [
           "niestety lodówka pakowny kupić metr miejsce identyczny wzgląd pojemność lodówka whirlpool damsing miejsce duży litrowy garnka zmieścić duży l dzbanek sokiem otwór jajka wieczko otwierać włożyć jajka opadać zatrzymywać góra opcja zatrzymać podniesionrgo góra dozownik woda porażka zdarzać kapa calej lofowka podłoga nieumiejętć przystawka szklanka plus cich praca designe",
           "1"
          ],
          [
           "bazyl dwuletni buldog francuski ulubieńc cały nasz rodzinka borykać alergia szczególny uwaga zwracać karma który wybierać testować śmyć różny karm weterynaryjny gotowany mięso różny skutek spory problem częsty niespodziewany gaz K",
           "1"
          ],
          [
           "  jaki cena jakiś ewidentny żart oddać em jeden kamera gwarancja nagrywać film akurat potrzebny wyskoczyć sarna film wyskoczyć lis film sytuacja obesźć szczęśliwie poszło potrzebować metr film chociaż udowodnić mój racja ubezpieczyciel oddać  kamera zaginąć niby producent przydzielić nowy miesiąc media experta sytuacja wyskakować dzik trasa maske hamować śliski szczęśliwie wracać dom wrzucać karte komp widze widze pol dzień kamera nagrywać dzień podłączyć jakies wa zrzeć cena spokojnie kupic raz dobry",
           "1"
          ],
          [
           "niestety mój test wypaść strasznie marnie prędkość zapis duży pojedynczy plik usb mb s szybko obojętny ntfs fat kupić em egzemplarz każdy żenada wstyd patriot dane podać producent wyssać palec rozumieć dane usb usb duuuużo dobrze plus wieczór pójść koleżanka zgrać film fullhd musieć zostać śniadanie doczekać koniec kopiowanie em domagać producent zwrot pieniądz",
           "1"
          ],
          [
           "mieć metr robot pazdziernik reklamacja dostalam pieniadze glosny praca spoko dać zniesc oprzeć plastikowy czesciach siadalo sokowirowka sokowirowka wszyskto obrac podzielic czatka okol centymetr wracajac marchewka sokowirowka przestawalać działac wyrabial silniczka plastik napraw tyg sam wymiana nowy sokowirowke sam raz probować dac nowy robot wolalama gotowke koncu nadal plastikwoe podzespoly szkoda szukać czegos solidniejszego",
           "1"
          ],
          [
           "podobnie większość zawiość metr kosiarka wydawać firmowy kosiarka służyć długo sam początek delikatny dobry drobny trawka idealnie rówć teren koszyć lekki nierównościa zakończyć powyginany nóż nóż wymienić nowy dać naostrzyć długo cieszyć metr silnik zacząć dziwnie pracować koniec przestać powiedzieć szczerze dobrze sprawować pierwszy najtańsz kosiarka nam nóż dziać górka dołk silnik zajeżdżeć uszkodzić kółka daleko pracować zawiodła metr gardenie",
           "1"
          ],
          [
           "mylący tytuł sugerować czynić dzieło smith rzeczywistość książka zawrzeć fragment bogactwo naród teoria uczucie moralny okraszć niestety kiepski komentarz okazywać autor książka adam smith autor sprawiać wrażenie kazać napisać ten książka moment odczuwać wręcz niechęć smith dezaprobata względem dzieło ogólnie streszczeć recenzja nazwanie książka spory przesada ciężko czytać jedyny sprawiać ocena wynosić pojawiać dokładny cytat",
           "1"
          ],
          [
           "uważać pisać opinia coś rewelacyjny koniec sens chcieć metr napisać wadzie zmywarka bosch pierwszy przyznać whirpoola mialama wczesniej brakować kontrolka zakończyć myć dom usłyszeć metr końcowy sygnał wiadomo myć skończony samo wiadomo etap zdarzać wypluć tabletka garnik brudny niestety porównanie whirpool przegrywać kategoria ciasno ułożyć garnka whirpool radzić świetnie najwyraźniej dobry ciśnienie woda bosch mocno kulej chcieć upchać maxa musieć domywać ręcznie prowadnica dół precyzyjny wykonać kosz dolny całkowity wysuniecie spadać whirpool mieć miejsce prowadnica mieć kontuynuacja drzwiczk",
           "1"
          ],
          [
           "najpierw dostawać produkt wysoki półka pięknie zapakować mysz wygodny działać działać precyzyjć tyle sprzęt gracz razer przereklamować pierwszy narzucać myśl absurdalny cena sprzęt gumek kciuk odpaść trzy miesiąc scroll problem działać miesiąc sensor korzystać aluminiowy podkładka obydwie część musieć być czyścić gory oprogramowanie razer synapse zawieszać każdy raz otwierać odłączać podłączać kabel myszka przełączać praca przewodowy bezprzewodowy odwrót oprogramowanie posiadać funkcja prosty działać na przykład kalibracja powierzchnia włączać funkcja mysz profesjonalny podkładka działać drewniany blat niestety byle przerywać nierównościa szczęście ustawić droga restartuć poprzez alt ctrlć del program komputer wyciągać kabel całość działać skrót kupcie inny tańsić dobry mysz konkurencja",
           "1"
          ],
          [
           "pierwszy krem twarz używać metr tani wydajny natłuszczać skóra ogromny zaleta szczególnie zima krem nijaki polecać używać lato ciepły dzień skóra świeta tłusty krem swój zapach przepadać zbyt ciężki mocny krem twarz zdanie odpowiedni osoba stary zależeć ochrona skóra mroz pamiętać nadawać makijaż wyglądać brzydko nienaturalnie polecać mroza",
           "1"
          ],
          [
           "bateria posiadać ładny design wysokość bateria centymetr przeciętny głębokość zlewozmywak centymetr woda wypływać bateria spadać wysokość metr powodować chcieć opłukać talerz umyć ręka bierzemy prysznic zachlapać szafki zadzwonić metr handlowiec firma blanco poprosić metr rada podać telefon serwisant kazać przykręcić ciśnienie woda próbować tłumaczyć bateria przystosować zlewozmywak blanco metr kupić zlew blanco problem sitko zlewa blanco ustawiyć nakieruwać wylewka bateria woda rozchlapować używać zlewozmywak myśl skierować wylewka strona sitko chyba kuchnia robić przestrzegać wszystek bateri typ firma blanco porażka totalny niewypać",
           "1"
          ],
          [
           "witać długo namyślać em zakup przyzwoity pistolet zdecydować  steinel porażka cały lini pierwszy próba praca zagrzewa podać klej przestać działać wysyłka serwis wymiana system grzejny pistolet puszczeć klej bok kapać podajnik pięć minuta ponownie przestać działać wysyłka serwis pora dwa miesiąc popracować minuta wydawać pistolet wytrzymać długo koszt dostawa serwis odbiór zbliżać cena zakup polecać produkt zapomnieć em serwis zaskoczć jakość tworzywo brak plomb prawdopodobnie zmienić wykonawca produkt producent rumuni steinel sam narzędzie kiedyś proponować poważnie zastanowić zakup pozdrawiać",
           "1"
          ],
          [
           "szczerze wiedzieć polecać drogeri wow mieć metr rozstęp początkowy faza używać olejku widzieć rozstęp głębsz brzydsz wyglądać przyzwoicie pójść metr dermatológ przepisać maść pomału naprawiać błąd olej zdanie stracić metr pieniądz jedyny plus olejek nawilża skóra osoba skóra suchy zdecydowanie zadowolony",
           "1"
          ],
          [
           "lodowka fajnie prezentować pojemny półka praktycznie rozplanować nieco głośna iść przyzwyczaić wydawać trochy dzwięek tradyzyjć lodówka własnie popsuć wymieniać rok sprzetu polecać wiedzieć trafić feralny model sklep agd potwierdzić firma beko rozreklamować wraz wzrot zainteresowanie stracić jakość dobrze wydać pary złoty mieć spokój parę rok",
           "1"
          ],
          [
           "bohater film chłopiec stefek siostra elka mieszkać matka mały miasteczko życie określić dziwny stefek codziennie obserwować swój ojciec stacja kolejowy ojciec zostawić rodzina odejść inny kobieta chłopiec pogodzić zrozumieć stosować różny sztuczka wpłynąć ojciec los plan pełnia dopracoweć zmusić ojciec odwiedzić matka międzyczas elka rozmowa praca",
           "1"
          ],
          [
           "spośród szlifiereka metabo wqw hitachi gva skillć dewalt okazal dobry pracować dobrze metabo poręczniejszać pracownik woleć dewalta przegrzewać zwyczajnie mocny rok wysyć być serwis nadzwyczaj sprawnie szybko działać zaznaczyć żę pracować duuużo ciężko często przystawka satynować duży obciążenie polecać dewalt lekko hitachi zdecydowanie droższy system regulacja obrót obciążenie świrywać",
           "1"
          ],
          [
           "użytkować miesiąc awaryjność powiedzieć polecać mały łazienka fajny funkcja fresh matic spłuczka móc załadować środek zapachowo dezynfekcyjć kształt niebieski kredka aplikacja przekombinować działać kupić  miska style koniec polecę praktyczny korzystać niestety trochę odbijać powierzchnia miska winien profil miska przepraszać obrazowo konkretnie pozdrawiać",
           "1"
          ],
          [
           "kupić  żarówka złoty sztuka ciąg tydzień raz sztuka zacząć migać szczęście zakupić lokalny supermarket dostać  zwrot gotówka złoty ręka dzień reklamacja zawiodł em philips zawodność taki marka zacząć migać kolejny żarówka reklamacja zostawić eoktom paragon sklep mówić trudno mieszany uczucie znajomy kupić ledy firma typ nam problem porównanie przepłacić em kupić em bublowaty produkt marka philips",
           "1"
          ],
          [
           "cena spodziewać em dopracować sprzęt miski mocować robota przeciwny kręcić rózga cięższy ciasto lubić wypiąć praca niedopracować sam rózg mis chociaż wyglądać profesjonalnie pozostawiać dno nierozmieszać ciasto krem zaznaczyć posiadać mikser robota wypadać niebo dobrze bardzo irytuć mieszaść silikonowy powinien zbierać ścianek spód mis przeszkadzać właściwie uniemożliwiać podbijać masa jednoczesny podgrzewanie cel zakupić  chyba chcieć jajecznica wręcz idealny trwałość robota móc powiedzieć krótko posiadać reasumować osobiście kupić metr ponownie robota taki cena wiedzieć wada napisać opinia skłonić rozczarowanąć delikatnie wciekły wspomnę lżejszy nadzieja firma kenwood przeczytać wypociny przyszły model poprawić niedoróbka wiedzieć nadzieja matka",
           "1"
          ],
          [
           "świeżo zakup marantza urządzenie odtwarzać płyta cd źle nośnik usb nośnik czytać długo dźwięk słyszalnie uboższy odtwarzać pliek flac kompletny porażka wieszać urządzenie zaczynać słuchać stacja radio cyfrowy dab sytuacja powtarzalny dodać stacja dwa daba ulubiony próba przełączać następować zawieszeć urządzenie dokładni odtwarzać dźwięk przywrócić odtwarzać dziwięku wybrać stacja fm odtwarzać drugi kwestia włączać samo siebie urządzenie śpisz włączać wyłączać h sam dodać głęboko rozczarowuć scena dżwiękowy nośnik usb dobrze kupić tańszy mieć sam wada",
           "1"
          ],
          [
           "router porażka stan poprawnie współpracować modem huawei e specyfikacja umieścić opakowanie producent zapewniać biedzie współpracować okazać nieprawda router chwila włączyć rozłącz internet dać ogół korzystać pomagać aktualizacja firmwary inny mod router zadziałać producent podać opakowanie prawdziwy lista kompatybilny modem dostępny strona internetowy poszukać polecać kupywać mody pasować producent model mody sieć mod pochodzić zgadzac dokladnie lista dostepny strona producent",
           "1"
          ],
          [
           "chyba spodziewać metr coś kosmetyk słyszać metr tyle słowo zachwyt kosmetyk zbyt ciepły tonacja uważać zrobić plamć twarz wykluczać spowodować brak umiejętność makijażowy plus fajny matowy wykończenie brak świecący drobinek piękny wytrzymały opakowanie ważny podróżować zdarzać kosmetyk niszczyć transport puder zaliczyć lot stolik lądowanie podłoga test odporność zdać celująco zmieniać fakt raczy kupić kolejny kosmetyk",
           "1"
          ],
          [
           "zanim wybrać metr lumie szukać metr opinia niestety trafić metr dyskusja samoczynny resetach tydzień użytkować telefon trafić serwis powód samoczynny wyłączania żądać pin telefon nowy salon oczywiście gwarancja wyłączać kilkanaście raz dziennie pierwszy tydzień serwis aktualizacja oprogramowanie pomogć nadal sam potem kolejny tydzień serwis aktualizacja oprogramować serwis potrzebować tyg aktualizacja oprogramowanie nadal sam zostać naprawiyć kolejny zwrot telefon gwarancja nowy skoro normalnie korzystać dno radzić wybrać sprawdzony ms lumiać wcześnie mieć metr lumiać telefon świetny nokia zastanawiać wybór telefon szczerze odradzać lumie oszczędźć nerw",
           "1"
          ],
          [
           "grzejnik ładny beznadziejny termostata pamięć nastawa możliwość programowanie skorygować nastaw fabryczny czas pierwszy zanik napięcie potem powrócić nastawa fabryczny termostata łatwo zacinać grzejnik dawać fabryka dać oczywiście koszt właściciel grzejnik praktycznie nadawać ogrzewania pomieszczenie stały dozór czas praca wydawać dziwny odgłos całkiem głośno wyrzut sumienie zaprojektować",
           "1"
          ],
          [
           "budzik zdecydowanie warta cena złoty zaleta ładny wygląd dobry spasować materiał duży czytelny cyfra głośny alarm wada wykonać kiepski jakość tani plastik przycisk alarm drzemki umieścić tył niepraktyczny noc przycisk tandetny głośny twardy przeszkadzać brak regulacja podświetleć bateria podtrzymuć pamięć rzadko spotykany postać v móc paluszek przydatny opcja regulacja alarm na przykład delikatny mocny",
           "1"
          ],
          [
           "obiektyw przeznaczyć osoba dopiero zaczynać fotografować lustrzanka cyfrowy marka canon obiektyw stabilizacja obraz nowszym model mark III cena obiektyw wygórować kupić dobry stan złoty obiektyw śmieszny pieniądz początkujący fotografa dobry wybór zapoznanie możliwość własny sprzęt wykładać początek wielki suma obiektyw sprzęt wykonać dobry zdjęcie wymagać trochę wprawa znajomość aparat używać polecać głównie początkuć użytkownik zaawansowany skierować strona obiektyw",
           "1"
          ],
          [
           "grill wada duży który niestety żyć em rok tłuszcz zamiast skapywać całość dołączony miseczka spływać płyta grzewczyć grillować musieć być postawić pion patrzeć wylewać blat wiedzieć philips przemyśleć sprawdzić tragiczny niedopatrzenie dzień grill odmówić posłuszeństwo grzeć pokrętło ustawiać temperatura odmówić rok przestać mieć grzechotka przeszkadzać użytkowanie minus uważać brak możliwość dokupieć sam płyta teflonowy choćby cena połowa grilla zdecydowanie polecać kupić grilla philipsa przypadek awaria musieć kupić nowy",
           "1"
          ],
          [
           "przereklamować podobnie towar na przykład wkrętarka bosch seria profesor użytek cena oczekiwać  robot wyższej jakość zaledwie raz użyć wydobywać zaczynać smar wałek gniazda mieszaść cena mieć miejsce ogólnie siła robot wyglądać zajeżdżeć obawa przekładnia rozsypać strasznie głośno chodzić dzieciak kuchnia uciekać potwornie drogi dodatek osobiście śmyć kupić",
           "1"
          ],
          [
           "hhmm jazda wygląd zaleta chodzić reszta brak osiowość ławka brak stabilność ćwiczeć ławka skosć ujemny radza zakładać pampersa widze sprzęt robiony masowo zwykły kowalskiy chiński jung pęk spaw urządzenie ćwiczenie noga uciekać stopień jeden strona modlitewnik tragedia oparcie ćwiczenie rozpiętka siedząco krzywo osadzyć ogólnie kupować wybrać metr chińborka złoty zdanie wart jakiś złoty jakiś centymetr oczywiście wzrost niewygodny ćwiczieć bark wyciąg wyprostujesz ramiono ogólnie polecać tv samsung smarta jakiś par pinącha oglądać dziennie youtuba jakiś minuta ćwiczyć metr pompka pochodny rezultat dobry radość pozdrawiać marsh",
           "1"
          ],
          [
           "klawiatura otrzymać em rozpakować  podłączyć em zainstalować  soft pobrać strona razer windows widzieć klawiatura poprawnie instalować gładko niestety oprogramowanie razer rozpoznawać własny klawiatura pomagać przepinanie port usb wielokrotny restart odpięcie urządzenie usb komputer dodatek soft zaprojektować bezmyślnie dopóki wykryć klawiatura kliknąć ikony pomoc przeczytać dokumentacja zrobić inny oprogramowanie skonfigurować dodatkowy klawisz korzystać funkcja klawiatura metr móc klawiatura używać narzekać metr zbyt twardy klawisz obudowy dolny klawisza minia pad genialny pomysć być gra ziać szeroki szczelin który widać płytka drukować spód rozwiązanie wróżyć długi trwałość sprzęt wystarczyć kropla woda mówić kurz drugi poważny rozczarowanie produkt firma myśleć em kupować dobry sprzęt klawiatura zwrot nauczka przyszłość",
           "1"
          ],
          [
           "pilot funkcjonalnie pierwszy klasa dosłownie sterować ogromny baza sprzęt możliwość dowolny konfigurować super wygląd podświetleć klawiszyć auto wyłączać ekran niestety jakość wykonać pozostawiać życzenie konkretnie klawisz użytkować zacinać pierwszy egzemplarz wymienić nowy drugi tez identyczny problem klawisz niestety rozebrać iść próbować em stary wystarczyć wyczyścić gumek wymienić styka węglowy dom pilota sprzęt audioa kilkanaście rok działać zarzut",
           "1"
          ],
          [
           "strasznie słabo brzmieć audiofil oczekiwać  cud stan słuchać muzyka prosty brzmieć inaczej wszędzie indziej pierwszy średni tona dziwnie wyciszć drugi wysoki niski ustawić zero podwyższyć okazywać wiec utwór znać pamięć słyszeć różny droższy tańszy głośnike brzmieć miara podobnie prosty brzmieć inaczej próbować  kombinować pokrętł odpowiedzialny niski wysoki tona pora udać wykręcić sensowny myśleć em widzieć jakiś czas prosty przyzwyczawać",
           "1"
          ],
          [
           "zakupić  telefon miesiąc móc korzystać internet wykonywać połączenie pisać wiadomość sms posiadać aparat telefoniczny sam początek dzień zakup smartfić zacząć em korzystać internet ciągle zacinać Masakra wkurzeć przestać em korzystać droga telefon stać zapłacić  złoty połowa mój renta oprócz bateria szybko rozładowywać wystarczą kilkuminutowy rozmowa musieć telefon ładować jedyny plus nagrywać rozmowa wygląd telefon naprawdę żałować zdecydować em zakupić telefon szkoda kasa",
           "1"
          ],
          [
           "jedyny pozytyw rzeczywiście telefonować telefon nokia dawny należeć obsługiwany intuicyjnie napaćkać mnóstwo zupełnie niepotrzebny aplikacja otworzyć wymagać połączyć sieciow uważać zrezygnować bateria trzymać długo dzień czuwać aparat fotograficzny lampa błyskowy wyświetlacz wytrzymać tydzień podobno uszkodzić mechaniczć wiadomo każdy aparat utracić gwarancja wymiana lcdeć dodatkowo złoty polecać",
           "1"
          ],
          [
           "gra rok ciągle robić wrażenie widać odsłić ly batman pierwszy rzut oko trudno zauważyć zaleta gra chociażby ładny klimatyczny grafik duży zaleta gra robić własny postać który grać niby taki fakt taki cieszyć grać poziom trudność zmieniać poziom poziom etap łatwy trudny zagadek myśleć zagadka rozwiązać dosłown sekunda napisać pudełko latk inny słowo prosty fabuła cienky sik pająk najgorszą rzecz gra wszystko częsty glitheć bag osoba wywoływać kolejno śmiech zdziwienie nerwica szczęście niszowy problem podsumowywać ly batman dobry gra wada",
           "1"
          ],
          [
           "pierwszy wrażenie pozytywny czytelny wyświetlacz am działać płynnie kończyć zaleta urządzenie navroad s bateria działać max minuta ładować cały urządzenie mocno grzeć znaczącą temperatura odczuć minuta sparować urządzenie telefon chcieć użyć zestaw głośnomówiący usłyszyć niewyraźny bełkot nadawać urządzenie głośnomówiący chodzić pojemność bateria przegrzewanie urządzenie krążą opinia foer serwis odsyć urządzenie opisować działo niestety nawigacja wyłączać godzina praca pomagać kilkukrotny rozłączć uchwyt ładujący sens pisać zalet urządzenie skoro brak możliwość normalny korzystać urządzenie trasach powyżej godzina mówić np godzina dwa kierowc oczywiście przykro urządzenie zaawansowany sprawować powyższy navroad zadowoleć urządzenie przegrywać niezadowolen urządzenie zadowalać odmawiać posłuszeństwo rok serwis navroad odmówić naprawa płatny wzgląd brak część",
           "1"
          ],
          [
           "rewelacja wybrakować produkt urządzenie grudzień użyć metr raz każdy raz mieszkanie zadymiyć strasznie śmierdzieć palony kabl jedzenie suma chwilka spuścić oko powód brak regulacja temperatura szybko przypalać powłok nieprzywierać paninia chyba zrezygnować każdy raz przykleić wyczyszczeć płytka koszmar jedyny móc pochwalić wygląd",
           "1"
          ]
         ],
         "hovertemplate": "HDBSCAN_Clusters=%{customdata[1]}<br>Dim1=%{x}<br>Dim2=%{y}<br>Text=%{customdata[0]}<extra></extra>",
         "legendgroup": "1",
         "marker": {
          "color": "#00cc96",
          "size": 10,
          "symbol": "circle"
         },
         "mode": "markers",
         "name": "Klaster 1",
         "orientation": "v",
         "showlegend": true,
         "type": "scatter",
         "x": [
          -0.32086325,
          -0.40934607,
          -0.39093643,
          -2.227402,
          -0.06823004,
          -2.4921618,
          -3.2167008,
          -3.5249279,
          -1.5989261,
          -0.96759886,
          -0.9040564,
          0.5243933,
          -0.39093643,
          -1.2200372,
          -0.3150151,
          -0.33994624,
          -0.45174727,
          -0.28479615,
          -0.83950436,
          -0.14167996,
          -0.69293535,
          -0.87431306,
          -1.8882453,
          -2.1614442,
          -0.017890569,
          -0.50333726,
          -3.4983857,
          0.05627932,
          -1.6334716,
          -1.0396755,
          1.3189874,
          0.37283134,
          -1.4345915,
          -0.30506018,
          0.97193766,
          -0.39093643,
          -1.7207735,
          -1.9792647,
          -1.114652,
          -1.9139148,
          -2.397035,
          -1.5653831,
          -2.2379863,
          -2.9775882,
          -1.4590564,
          -1.9357601,
          -1.5149007,
          -2.3039196,
          -0.6285022,
          -2.2134655,
          -0.965955,
          -0.39093643,
          1.0978986,
          -0.39093643,
          -0.8670809,
          -0.9928028,
          2.3673203,
          -0.6418265,
          0.19316821,
          0.43542308,
          -1.2777221,
          -0.3816097,
          -0.7566563,
          -0.43779966,
          0.22719091,
          -1.117071,
          0.23238836,
          -2.1692126,
          -0.5660334,
          -1.3170251,
          -1.8344643,
          -1.411196,
          0.120882034,
          -3.3215466,
          -1.1997901,
          1.1287222,
          -2.376029,
          -1.5085218,
          0.47884047,
          -1.2196169,
          -1.7053729,
          -0.8560493,
          0.9987455,
          -3.2409313,
          -2.4163191,
          1.3140156,
          -0.6647655,
          -3.2875822,
          -2.4819853,
          -1.0066328,
          -1.9661769,
          -2.1546717,
          -1.9319929,
          -3.5693562,
          0.6911821,
          -3.3413491,
          -3.156979,
          -0.13629654,
          -3.522589,
          -0.20348714,
          -1.3718258,
          0.040321648,
          1.3427042,
          -1.3919083,
          -2.7962966,
          0.492141,
          -0.7709831,
          -0.4182957,
          -0.8350102,
          -2.2767599,
          -2.2181106,
          -2.1265583,
          -1.9216721,
          -2.7456598,
          0.10831509,
          -0.85974675,
          -0.5996166,
          -0.4884345,
          -0.56695855,
          1.1828228,
          -0.76719373,
          0.13872461,
          -1.7065647,
          -0.9394359,
          -2.374451,
          0.3752764,
          -1.212949,
          -2.4065084,
          -1.4720157,
          -0.75550306,
          1.038647,
          -2.4056008,
          -2.4984872,
          -2.186343,
          -0.40015292,
          -3.5983276,
          -0.39093643,
          -2.3039196,
          -0.970325,
          1.9708892,
          1.2606966,
          0.1271588,
          0.5737488,
          0.7004274,
          1.3209411,
          0.06717085,
          1.0829117,
          -0.48930928,
          0.45462498,
          0.3655397,
          1.0622073,
          0.1821191,
          2.1220012,
          0.6953638,
          0.40634635,
          0.12859479,
          0.25813583,
          -0.84958285,
          -0.24731216,
          0.8264411,
          -0.3258364,
          0.24093089,
          0.6271558,
          -0.14353712,
          -0.47369212,
          2.0957632,
          0.3203251,
          1.1085391,
          0.010746802,
          -0.17697947,
          0.22351468,
          1.5720114,
          -0.25191706,
          0.22602513,
          -0.30982372,
          0.2561515,
          1.1003541,
          0.066263385,
          -0.09930814,
          -0.17574595,
          0.36622053,
          -0.13305205,
          -0.118842855,
          0.46365798,
          0.6906472,
          -0.10516046,
          0.2335631,
          -0.061234456
         ],
         "xaxis": "x",
         "y": [
          -1.1574886,
          0.35786873,
          -0.33608168,
          0.85046405,
          2.5594723,
          -1.5882392,
          1.0374565,
          -0.8290327,
          2.0631895,
          0.37679031,
          -0.4645183,
          -0.2451719,
          -0.33608168,
          -0.9016495,
          0.1270623,
          2.4293506,
          -0.26159716,
          0.41594863,
          -0.14510502,
          -2.4146538,
          1.7652001,
          -0.1505678,
          -1.8740335,
          2.8956826,
          1.5803946,
          0.38973266,
          -1.096045,
          0.05804175,
          0.50495416,
          0.7327139,
          0.4550977,
          0.73089755,
          -0.008921688,
          -0.09809911,
          1.6942931,
          -0.33608168,
          2.1567655,
          -3.0281618,
          0.33543947,
          -1.4501896,
          0.5149708,
          2.1213088,
          -0.67085737,
          0.8417696,
          -1.107163,
          1.4698429,
          1.3281087,
          -3.631791,
          -0.10115931,
          -0.7761989,
          -0.658522,
          -0.33608168,
          -1.8831677,
          -0.33608168,
          1.9582589,
          1.2402735,
          -1.3316984,
          -2.7738335,
          0.14761904,
          0.8171588,
          -0.5741981,
          -0.69067746,
          -0.15758313,
          -0.49929842,
          0.3892331,
          0.4461988,
          0.20757459,
          0.85621154,
          -0.0436846,
          -2.6543226,
          -0.28908476,
          -0.5962624,
          0.049024023,
          -1.3516433,
          -1.1458119,
          -0.17093956,
          -0.25196975,
          0.093706645,
          1.374523,
          -0.15521264,
          -0.9071597,
          0.8920745,
          -3.1881452,
          1.017645,
          -0.7853124,
          0.83660585,
          1.1185373,
          -1.0900518,
          -0.02806296,
          -1.3758062,
          -0.5870936,
          2.8006277,
          -1.4858305,
          -0.5056901,
          1.7956578,
          -0.71190864,
          -0.8687296,
          1.1308042,
          -1.2645656,
          0.15411861,
          -0.59104574,
          2.8841314,
          0.444306,
          -1.9613757,
          -0.09183025,
          0.22826211,
          -0.31573877,
          0.72183645,
          2.0971878,
          -3.575899,
          1.6984059,
          0.079845704,
          1.3720496,
          0.3108613,
          -2.539541,
          -0.98028666,
          -0.12738255,
          -2.6229017,
          0.9227042,
          -2.3835154,
          -1.3518503,
          0.1593544,
          -2.028667,
          0.18372399,
          -1.6873249,
          1.8295763,
          -0.52378637,
          -2.1695018,
          2.4145086,
          -0.52226776,
          -0.04326698,
          -1.1297201,
          -2.6055374,
          2.9026616,
          1.3972213,
          -1.6301895,
          -0.33608168,
          -3.631791,
          -0.43997866,
          -1.3583962,
          -0.98732877,
          -1.3459164,
          -0.9804304,
          -0.5110506,
          0.39351365,
          -0.48790786,
          -1.6720726,
          -1.7211679,
          -1.2665871,
          -1.0428796,
          -1.1050593,
          -0.5323045,
          -0.67249656,
          -0.70251757,
          -0.8715692,
          -0.6016411,
          -0.7085728,
          2.2812216,
          -0.86028355,
          -1.0047107,
          -0.40928283,
          -1.204202,
          -1.1628447,
          -0.5387134,
          -0.9196853,
          -0.31010503,
          -0.5906341,
          -0.96561927,
          -1.3262494,
          -1.1048808,
          -1.7664605,
          -0.65560246,
          -0.5547918,
          -1.2145574,
          0.3110376,
          -0.9369172,
          -1.7156926,
          -1.1803724,
          -0.6941591,
          -0.49189252,
          -1.8777206,
          -0.6450085,
          -0.40296015,
          -1.3986412,
          -1.4610254,
          -0.19091833,
          -1.7417665,
          -0.5840184
         ],
         "yaxis": "y"
        }
       ],
       "layout": {
        "legend": {
         "title": {
          "text": "HDBSCAN_Clusters"
         },
         "tracegroupgap": 0
        },
        "template": {
         "data": {
          "bar": [
           {
            "error_x": {
             "color": "#2a3f5f"
            },
            "error_y": {
             "color": "#2a3f5f"
            },
            "marker": {
             "line": {
              "color": "#E5ECF6",
              "width": 0.5
             },
             "pattern": {
              "fillmode": "overlay",
              "size": 10,
              "solidity": 0.2
             }
            },
            "type": "bar"
           }
          ],
          "barpolar": [
           {
            "marker": {
             "line": {
              "color": "#E5ECF6",
              "width": 0.5
             },
             "pattern": {
              "fillmode": "overlay",
              "size": 10,
              "solidity": 0.2
             }
            },
            "type": "barpolar"
           }
          ],
          "carpet": [
           {
            "aaxis": {
             "endlinecolor": "#2a3f5f",
             "gridcolor": "white",
             "linecolor": "white",
             "minorgridcolor": "white",
             "startlinecolor": "#2a3f5f"
            },
            "baxis": {
             "endlinecolor": "#2a3f5f",
             "gridcolor": "white",
             "linecolor": "white",
             "minorgridcolor": "white",
             "startlinecolor": "#2a3f5f"
            },
            "type": "carpet"
           }
          ],
          "choropleth": [
           {
            "colorbar": {
             "outlinewidth": 0,
             "ticks": ""
            },
            "type": "choropleth"
           }
          ],
          "contour": [
           {
            "colorbar": {
             "outlinewidth": 0,
             "ticks": ""
            },
            "colorscale": [
             [
              0,
              "#0d0887"
             ],
             [
              0.1111111111111111,
              "#46039f"
             ],
             [
              0.2222222222222222,
              "#7201a8"
             ],
             [
              0.3333333333333333,
              "#9c179e"
             ],
             [
              0.4444444444444444,
              "#bd3786"
             ],
             [
              0.5555555555555556,
              "#d8576b"
             ],
             [
              0.6666666666666666,
              "#ed7953"
             ],
             [
              0.7777777777777778,
              "#fb9f3a"
             ],
             [
              0.8888888888888888,
              "#fdca26"
             ],
             [
              1,
              "#f0f921"
             ]
            ],
            "type": "contour"
           }
          ],
          "contourcarpet": [
           {
            "colorbar": {
             "outlinewidth": 0,
             "ticks": ""
            },
            "type": "contourcarpet"
           }
          ],
          "heatmap": [
           {
            "colorbar": {
             "outlinewidth": 0,
             "ticks": ""
            },
            "colorscale": [
             [
              0,
              "#0d0887"
             ],
             [
              0.1111111111111111,
              "#46039f"
             ],
             [
              0.2222222222222222,
              "#7201a8"
             ],
             [
              0.3333333333333333,
              "#9c179e"
             ],
             [
              0.4444444444444444,
              "#bd3786"
             ],
             [
              0.5555555555555556,
              "#d8576b"
             ],
             [
              0.6666666666666666,
              "#ed7953"
             ],
             [
              0.7777777777777778,
              "#fb9f3a"
             ],
             [
              0.8888888888888888,
              "#fdca26"
             ],
             [
              1,
              "#f0f921"
             ]
            ],
            "type": "heatmap"
           }
          ],
          "heatmapgl": [
           {
            "colorbar": {
             "outlinewidth": 0,
             "ticks": ""
            },
            "colorscale": [
             [
              0,
              "#0d0887"
             ],
             [
              0.1111111111111111,
              "#46039f"
             ],
             [
              0.2222222222222222,
              "#7201a8"
             ],
             [
              0.3333333333333333,
              "#9c179e"
             ],
             [
              0.4444444444444444,
              "#bd3786"
             ],
             [
              0.5555555555555556,
              "#d8576b"
             ],
             [
              0.6666666666666666,
              "#ed7953"
             ],
             [
              0.7777777777777778,
              "#fb9f3a"
             ],
             [
              0.8888888888888888,
              "#fdca26"
             ],
             [
              1,
              "#f0f921"
             ]
            ],
            "type": "heatmapgl"
           }
          ],
          "histogram": [
           {
            "marker": {
             "pattern": {
              "fillmode": "overlay",
              "size": 10,
              "solidity": 0.2
             }
            },
            "type": "histogram"
           }
          ],
          "histogram2d": [
           {
            "colorbar": {
             "outlinewidth": 0,
             "ticks": ""
            },
            "colorscale": [
             [
              0,
              "#0d0887"
             ],
             [
              0.1111111111111111,
              "#46039f"
             ],
             [
              0.2222222222222222,
              "#7201a8"
             ],
             [
              0.3333333333333333,
              "#9c179e"
             ],
             [
              0.4444444444444444,
              "#bd3786"
             ],
             [
              0.5555555555555556,
              "#d8576b"
             ],
             [
              0.6666666666666666,
              "#ed7953"
             ],
             [
              0.7777777777777778,
              "#fb9f3a"
             ],
             [
              0.8888888888888888,
              "#fdca26"
             ],
             [
              1,
              "#f0f921"
             ]
            ],
            "type": "histogram2d"
           }
          ],
          "histogram2dcontour": [
           {
            "colorbar": {
             "outlinewidth": 0,
             "ticks": ""
            },
            "colorscale": [
             [
              0,
              "#0d0887"
             ],
             [
              0.1111111111111111,
              "#46039f"
             ],
             [
              0.2222222222222222,
              "#7201a8"
             ],
             [
              0.3333333333333333,
              "#9c179e"
             ],
             [
              0.4444444444444444,
              "#bd3786"
             ],
             [
              0.5555555555555556,
              "#d8576b"
             ],
             [
              0.6666666666666666,
              "#ed7953"
             ],
             [
              0.7777777777777778,
              "#fb9f3a"
             ],
             [
              0.8888888888888888,
              "#fdca26"
             ],
             [
              1,
              "#f0f921"
             ]
            ],
            "type": "histogram2dcontour"
           }
          ],
          "mesh3d": [
           {
            "colorbar": {
             "outlinewidth": 0,
             "ticks": ""
            },
            "type": "mesh3d"
           }
          ],
          "parcoords": [
           {
            "line": {
             "colorbar": {
              "outlinewidth": 0,
              "ticks": ""
             }
            },
            "type": "parcoords"
           }
          ],
          "pie": [
           {
            "automargin": true,
            "type": "pie"
           }
          ],
          "scatter": [
           {
            "fillpattern": {
             "fillmode": "overlay",
             "size": 10,
             "solidity": 0.2
            },
            "type": "scatter"
           }
          ],
          "scatter3d": [
           {
            "line": {
             "colorbar": {
              "outlinewidth": 0,
              "ticks": ""
             }
            },
            "marker": {
             "colorbar": {
              "outlinewidth": 0,
              "ticks": ""
             }
            },
            "type": "scatter3d"
           }
          ],
          "scattercarpet": [
           {
            "marker": {
             "colorbar": {
              "outlinewidth": 0,
              "ticks": ""
             }
            },
            "type": "scattercarpet"
           }
          ],
          "scattergeo": [
           {
            "marker": {
             "colorbar": {
              "outlinewidth": 0,
              "ticks": ""
             }
            },
            "type": "scattergeo"
           }
          ],
          "scattergl": [
           {
            "marker": {
             "colorbar": {
              "outlinewidth": 0,
              "ticks": ""
             }
            },
            "type": "scattergl"
           }
          ],
          "scattermapbox": [
           {
            "marker": {
             "colorbar": {
              "outlinewidth": 0,
              "ticks": ""
             }
            },
            "type": "scattermapbox"
           }
          ],
          "scatterpolar": [
           {
            "marker": {
             "colorbar": {
              "outlinewidth": 0,
              "ticks": ""
             }
            },
            "type": "scatterpolar"
           }
          ],
          "scatterpolargl": [
           {
            "marker": {
             "colorbar": {
              "outlinewidth": 0,
              "ticks": ""
             }
            },
            "type": "scatterpolargl"
           }
          ],
          "scatterternary": [
           {
            "marker": {
             "colorbar": {
              "outlinewidth": 0,
              "ticks": ""
             }
            },
            "type": "scatterternary"
           }
          ],
          "surface": [
           {
            "colorbar": {
             "outlinewidth": 0,
             "ticks": ""
            },
            "colorscale": [
             [
              0,
              "#0d0887"
             ],
             [
              0.1111111111111111,
              "#46039f"
             ],
             [
              0.2222222222222222,
              "#7201a8"
             ],
             [
              0.3333333333333333,
              "#9c179e"
             ],
             [
              0.4444444444444444,
              "#bd3786"
             ],
             [
              0.5555555555555556,
              "#d8576b"
             ],
             [
              0.6666666666666666,
              "#ed7953"
             ],
             [
              0.7777777777777778,
              "#fb9f3a"
             ],
             [
              0.8888888888888888,
              "#fdca26"
             ],
             [
              1,
              "#f0f921"
             ]
            ],
            "type": "surface"
           }
          ],
          "table": [
           {
            "cells": {
             "fill": {
              "color": "#EBF0F8"
             },
             "line": {
              "color": "white"
             }
            },
            "header": {
             "fill": {
              "color": "#C8D4E3"
             },
             "line": {
              "color": "white"
             }
            },
            "type": "table"
           }
          ]
         },
         "layout": {
          "annotationdefaults": {
           "arrowcolor": "#2a3f5f",
           "arrowhead": 0,
           "arrowwidth": 1
          },
          "autotypenumbers": "strict",
          "coloraxis": {
           "colorbar": {
            "outlinewidth": 0,
            "ticks": ""
           }
          },
          "colorscale": {
           "diverging": [
            [
             0,
             "#8e0152"
            ],
            [
             0.1,
             "#c51b7d"
            ],
            [
             0.2,
             "#de77ae"
            ],
            [
             0.3,
             "#f1b6da"
            ],
            [
             0.4,
             "#fde0ef"
            ],
            [
             0.5,
             "#f7f7f7"
            ],
            [
             0.6,
             "#e6f5d0"
            ],
            [
             0.7,
             "#b8e186"
            ],
            [
             0.8,
             "#7fbc41"
            ],
            [
             0.9,
             "#4d9221"
            ],
            [
             1,
             "#276419"
            ]
           ],
           "sequential": [
            [
             0,
             "#0d0887"
            ],
            [
             0.1111111111111111,
             "#46039f"
            ],
            [
             0.2222222222222222,
             "#7201a8"
            ],
            [
             0.3333333333333333,
             "#9c179e"
            ],
            [
             0.4444444444444444,
             "#bd3786"
            ],
            [
             0.5555555555555556,
             "#d8576b"
            ],
            [
             0.6666666666666666,
             "#ed7953"
            ],
            [
             0.7777777777777778,
             "#fb9f3a"
            ],
            [
             0.8888888888888888,
             "#fdca26"
            ],
            [
             1,
             "#f0f921"
            ]
           ],
           "sequentialminus": [
            [
             0,
             "#0d0887"
            ],
            [
             0.1111111111111111,
             "#46039f"
            ],
            [
             0.2222222222222222,
             "#7201a8"
            ],
            [
             0.3333333333333333,
             "#9c179e"
            ],
            [
             0.4444444444444444,
             "#bd3786"
            ],
            [
             0.5555555555555556,
             "#d8576b"
            ],
            [
             0.6666666666666666,
             "#ed7953"
            ],
            [
             0.7777777777777778,
             "#fb9f3a"
            ],
            [
             0.8888888888888888,
             "#fdca26"
            ],
            [
             1,
             "#f0f921"
            ]
           ]
          },
          "colorway": [
           "#636efa",
           "#EF553B",
           "#00cc96",
           "#ab63fa",
           "#FFA15A",
           "#19d3f3",
           "#FF6692",
           "#B6E880",
           "#FF97FF",
           "#FECB52"
          ],
          "font": {
           "color": "#2a3f5f"
          },
          "geo": {
           "bgcolor": "white",
           "lakecolor": "white",
           "landcolor": "#E5ECF6",
           "showlakes": true,
           "showland": true,
           "subunitcolor": "white"
          },
          "hoverlabel": {
           "align": "left"
          },
          "hovermode": "closest",
          "mapbox": {
           "style": "light"
          },
          "paper_bgcolor": "white",
          "plot_bgcolor": "#E5ECF6",
          "polar": {
           "angularaxis": {
            "gridcolor": "white",
            "linecolor": "white",
            "ticks": ""
           },
           "bgcolor": "#E5ECF6",
           "radialaxis": {
            "gridcolor": "white",
            "linecolor": "white",
            "ticks": ""
           }
          },
          "scene": {
           "xaxis": {
            "backgroundcolor": "#E5ECF6",
            "gridcolor": "white",
            "gridwidth": 2,
            "linecolor": "white",
            "showbackground": true,
            "ticks": "",
            "zerolinecolor": "white"
           },
           "yaxis": {
            "backgroundcolor": "#E5ECF6",
            "gridcolor": "white",
            "gridwidth": 2,
            "linecolor": "white",
            "showbackground": true,
            "ticks": "",
            "zerolinecolor": "white"
           },
           "zaxis": {
            "backgroundcolor": "#E5ECF6",
            "gridcolor": "white",
            "gridwidth": 2,
            "linecolor": "white",
            "showbackground": true,
            "ticks": "",
            "zerolinecolor": "white"
           }
          },
          "shapedefaults": {
           "line": {
            "color": "#2a3f5f"
           }
          },
          "ternary": {
           "aaxis": {
            "gridcolor": "white",
            "linecolor": "white",
            "ticks": ""
           },
           "baxis": {
            "gridcolor": "white",
            "linecolor": "white",
            "ticks": ""
           },
           "bgcolor": "#E5ECF6",
           "caxis": {
            "gridcolor": "white",
            "linecolor": "white",
            "ticks": ""
           }
          },
          "title": {
           "x": 0.05
          },
          "xaxis": {
           "automargin": true,
           "gridcolor": "white",
           "linecolor": "white",
           "ticks": "",
           "title": {
            "standoff": 15
           },
           "zerolinecolor": "white",
           "zerolinewidth": 2
          },
          "yaxis": {
           "automargin": true,
           "gridcolor": "white",
           "linecolor": "white",
           "ticks": "",
           "title": {
            "standoff": 15
           },
           "zerolinecolor": "white",
           "zerolinewidth": 2
          }
         }
        },
        "title": {
         "font": {
          "size": 20
         },
         "text": "Klasteryzacja z wykorzystaniem HDBSCAN dla osadzeń tekstów z TF-IDF",
         "x": 0.5
        },
        "xaxis": {
         "anchor": "y",
         "domain": [
          0,
          1
         ],
         "title": {
          "text": "Dim1"
         }
        },
        "yaxis": {
         "anchor": "x",
         "domain": [
          0,
          1
         ],
         "title": {
          "text": "Dim2"
         }
        }
       }
      }
     },
     "metadata": {},
     "output_type": "display_data"
    }
   ],
   "source": [
    "clusterer_hdbscan = hdbscan.HDBSCAN(min_cluster_size=5, min_samples=50)\n",
    "clusters_hdbscan_tfidf = clusterer_hdbscan.fit_predict(tfidf_matrix.toarray())\n",
    "tsne_df_tdidf['HDBSCAN_Clusters'] = clusters_hdbscan_tfidf\n",
    "tsne_df_tdidf['HDBSCAN_Clusters'] = tsne_df_tdidf['HDBSCAN_Clusters'].astype(str)\n",
    "\n",
    "fig_hdbscan = px.scatter(\n",
    "    tsne_df_tdidf, x='Dim1', y='Dim2', \n",
    "    color='HDBSCAN_Clusters', hover_data=['Text', 'HDBSCAN_Clusters'],\n",
    "    title='Klasteryzacja z wykorzystaniem HDBSCAN dla osadzeń tekstów z TF-IDF'\n",
    ")\n",
    "\n",
    "fig_hdbscan.update_traces(marker=dict(size=10))\n",
    "fig_hdbscan.update_layout(\n",
    "    title_x=0.5,\n",
    "    title_font=dict(size=20)\n",
    ")\n",
    "\n",
    "fig_hdbscan.for_each_trace(lambda t: t.update(name=f'Klaster {t.name}', legendgroup=t.name))\n",
    "\n",
    "fig_hdbscan.show()"
   ]
  },
  {
   "cell_type": "code",
   "execution_count": 414,
   "metadata": {},
   "outputs": [
    {
     "data": {
      "application/vnd.plotly.v1+json": {
       "config": {
        "plotlyServerURL": "https://plot.ly"
       },
       "data": [
        {
         "customdata": [
          [
           "pozgłaszać cwiczenie analiza dostać trochę plus",
           "-1"
          ],
          [
           "luzacki prowadzić",
           "-1"
          ],
          [
           "zajęcia prowadzić luz wymagać",
           "-1"
          ],
          [
           "zaliczenie raczej problem",
           "-1"
          ],
          [
           "niektóry v",
           "-1"
          ],
          [
           "przyłapanie ściąganiu dany praca",
           "-1"
          ],
          [
           "sam labork robić zbyt",
           "-1"
          ],
          [
           "oczywiscie odda d",
           "-1"
          ],
          [
           "pogadać zagadać spytac",
           "-1"
          ],
          [
           "prowadzić przejrzyście",
           "-1"
          ],
          [
           "wprost chcieć przychodzić",
           "-1"
          ],
          [
           "zajmować góra dzień zwłaszcza odpowiedź sa wspólnie opracowywać student",
           "-1"
          ],
          [
           "wydawać gardzić student",
           "-1"
          ],
          [
           "fajny kontakt student",
           "-1"
          ],
          [
           "inny ćwiczenia",
           "-1"
          ],
          [
           "duza plus dodatkowy punkt aktywność",
           "-1"
          ],
          [
           "podobno niedawn postrach głównie sprawa fizyka ii mój kadencja zmiękł chociaż nadal trudno",
           "-1"
          ],
          [
           "graficzny zapis konstrukcja wykład elektryczny nudny",
           "-1"
          ],
          [
           "kazde cwiczenie zadan grupa ocena teza grupowy system oceniać chaotyczny zgodnie motto korzysc student raca e",
           "-1"
          ],
          [
           "szermierka ciekawy sport gańcz potrafić nauczyc",
           "-1"
          ],
          [
           "zaliczenie strona internetowy wymyśloć firma biznes plan",
           "-1"
          ],
          [
           "negatyw",
           "-1"
          ],
          [
           "b kołodzi prowadzić tragicznie",
           "-1"
          ],
          [
           "wymagać przesadzać trochy uczyć problem",
           "-1"
          ],
          [
           "oczywiscie skrypt prowadzac sa biblia",
           "-1"
          ],
          [
           "pospać zajęcia",
           "-1"
          ],
          [
           "prosty umieć turbo pascalać",
           "-1"
          ],
          [
           "naprawde",
           "-1"
          ],
          [
           "pytac ustć",
           "-1"
          ],
          [
           "dobry wykładowiec",
           "-1"
          ],
          [
           "gosc nieziemski",
           "-1"
          ],
          [
           "uwaga",
           "-1"
          ],
          [
           "inny kola",
           "-1"
          ],
          [
           "kolokwiać SA trudny standart ogolnouczelniać",
           "-1"
          ],
          [
           "poczucie humor student tez czlowieka poprost super",
           "-1"
          ],
          [
           "eit cz elektroniczny razem profesor",
           "-1"
          ],
          [
           "reszta zadanie standard maga c",
           "-1"
          ],
          [
           "raczej narzekać rewelacja",
           "-1"
          ],
          [
           "wykład wykład sam skrypt",
           "-1"
          ],
          [
           "robić kartkówka",
           "-1"
          ],
          [
           "doktor",
           "-1"
          ],
          [
           "zaliczenie najmniejszy problem",
           "-1"
          ],
          [
           "chodzić sala hmmmm",
           "-1"
          ],
          [
           "zadanie robić",
           "-1"
          ],
          [
           "chcieć zrobić",
           "-1"
          ],
          [
           "siakoś",
           "-1"
          ],
          [
           "zgrozo",
           "-1"
          ],
          [
           "znać minimum fizyka wersja profesor",
           "-1"
          ],
          [
           "docent powiedzieć inaczej",
           "-1"
          ]
         ],
         "hovertemplate": "HDBSCAN_Clusters=%{customdata[1]}<br>Dim1=%{x}<br>Dim2=%{y}<br>Text=%{customdata[0]}<extra></extra>",
         "legendgroup": "-1",
         "marker": {
          "color": "#636efa",
          "size": 10,
          "symbol": "circle"
         },
         "mode": "markers",
         "name": "Klaster -1",
         "orientation": "v",
         "showlegend": true,
         "type": "scatter",
         "x": [
          23.51275,
          41.57044,
          20.710106,
          41.247776,
          42.90961,
          13.576856,
          29.399685,
          37.746494,
          33.94279,
          45.67784,
          33.729965,
          -15.857857,
          24.295692,
          23.894592,
          44.319786,
          24.428469,
          -10.807311,
          27.821964,
          -22.20313,
          13.327508,
          12.479343,
          46.931656,
          19.14543,
          40.937836,
          20.740524,
          33.340466,
          22.509989,
          48.038624,
          38.665115,
          36.00235,
          42.91778,
          46.362686,
          44.131565,
          20.134497,
          -15.03901,
          25.053381,
          32.316113,
          32.332085,
          29.070337,
          42.51308,
          48.53423,
          41.174446,
          16.330547,
          41.579674,
          32.54802,
          46.17628,
          45.855614,
          19.014643,
          24.223845
         ],
         "xaxis": "x",
         "y": [
          -6.1509614,
          9.17707,
          -15.287487,
          -2.1177557,
          7.5676923,
          -22.983063,
          -12.128896,
          4.1952686,
          6.4611506,
          10.036394,
          -1.293894,
          9.547334,
          26.986479,
          27.096884,
          19.21462,
          -4.82151,
          11.292013,
          2.527723,
          5.9984937,
          1.0066857,
          10.00904,
          12.618292,
          21.110863,
          -4.2907395,
          7.095022,
          10.113253,
          0.5476981,
          10.012048,
          7.266694,
          9.849678,
          13.454203,
          15.022493,
          19.573347,
          7.235047,
          18.95,
          11.515134,
          -4.630059,
          12.328772,
          -11.951262,
          11.199893,
          12.665252,
          -2.5559838,
          -13.431502,
          11.460174,
          -3.0224214,
          11.884039,
          13.584642,
          16.801256,
          18.614912
         ],
         "yaxis": "y"
        },
        {
         "customdata": [
          [
           "polecać wziąć serce rada j",
           "0"
          ],
          [
           " zajęcia starać  mogła em nadgonić grupa zdawać em matura anglik znaleźć em b",
           "0"
          ],
          [
           "sluchać zajeci zrobić dom zadanek powinienes problemow zaliczyc",
           "0"
          ],
          [
           "zajęcia nudny sprawdzać obecnosci",
           "0"
          ],
          [
           "fizyk laborek polecać b tadeusz wporzadek facet początkowo wydawać groźny zapowiedzieć pierwszy zajęcia kartkówke zdołać przestraszyć sam siebie chyba p kartkówka sa specyficzny część grupa część marudź",
           "0"
          ],
          [
           "musieć przyznać nudzić  wykładzie michać przerwa wybyć em pojawić ",
           "0"
          ],
          [
           "prawde mowiac uczucie mieszany",
           "0"
          ],
          [
           "algebro geom analityczny polecać em wykład fajny podejsec student tez czlowieka mylić przyznale bledow",
           "0"
          ],
          [
           "krotko grupa zaliczylać oddal nikt jeden sprawka",
           "0"
          ],
          [
           "human odzywać robić polcać nastawiać obecność dobry ocena",
           "0"
          ],
          [
           "duza częśc grupa zaliczyć kolokwia",
           "0"
          ],
          [
           "kurs algebro geometria analityczny ocena",
           "0"
          ],
          [
           "wiedzieć zanotować",
           "0"
          ],
          [
           "choc totalny tajfun tablica chwila Poprawiac facet spoko",
           "0"
          ],
          [
           "ogólnie polecać",
           "0"
          ],
          [
           "potrafić przyczepic osie symetri gruby być olowkiem rysować wkrecajac sruby drewniany otwor gwint naleza narysowac wybrzuszeć drewno drugi strona ksiazka podstawa obleć",
           "0"
          ],
          [
           "chyba algebrze inaczej",
           "0"
          ],
          [
           "doktor czylelć jasno prowadzić wykład chodzić suma musieć uczyc",
           "0"
          ],
          [
           "kisielewsko metr mgr pływać polecać b ocena obecnosc",
           "0"
          ],
          [
           "zasada prosty kolokwia zadanie ćwiczenie egzamin żądź p mastalerz niewtajemniczony ulubiić ksiazek prowadzący profesor skarżewski człowiek sympatyczny chociaż przypadek ocena proponować metr żaden dyskusja chyba polecać",
           "0"
          ],
          [
           "prosty wykłaed nudno nic człowiek dowiedzieć pożyteczn ćwiczenia materiał iść zdecydowanie szybko sprawa wszelki dygresja doktor wykład",
           "0"
          ],
          [
           "co prosty trochę pomęczyć sprawdzić wytrwałość wink przedmiot traktować poważnie praca nosić czas duży problem",
           "0"
          ],
          [
           "Małgorzata chętny pomoc trudniejszy zadani",
           "0"
          ],
          [
           "pisemny test gramatyka uzupełnianka obszerny przejścia poprawka",
           "0"
          ],
          [
           "mówić profesor jesst ciekawy nieraz potrafić zainteresować minus mówić",
           "0"
          ],
          [
           "kartkówka tez pytać",
           "0"
          ],
          [
           "dopiero miara luz zdać najwięcej osoba",
           "0"
          ],
          [
           "prawda wykład średnio ciekawy wykonać folia pozostawiać życzenie",
           "0"
          ],
          [
           "sporo dowiedziec",
           "0"
          ],
          [
           "minus SA test dokładni poziom choc martwic niezaliczen pierwszy termin drugi łatwo zaliczaja",
           "0"
          ],
          [
           "ocena obecność uważać lubić gadający zdarzać postawić nazwisko kropke",
           "0"
          ],
          [
           "pierwszy termin wyklad zaliczylo osoba drugi dobrze wiec mozesz zalicz przedmiot inny wykladowca cwiczenie przepisac ocene wyklada mieć spokoj zrobil zero stres",
           "0"
          ],
          [
           "dzielil sala grupa zazwyczaj pierwszy grupa mial zadanie najlatwiejy zle",
           "0"
          ],
          [
           "wiedzieć czegos nauczyc majac wczesniej styk pp trochy rzecz glowo rozjasnilo mazanie folia",
           "0"
          ],
          [
           "niesamowity poczucie humor ciagle wstawka rozsmieszeć towarzystwo i tak dalej",
           "0"
          ],
          [
           "ogólnie polecać",
           "0"
          ],
          [
           "napisac kolokwi zdazaja rzadko kartkowka",
           "0"
          ],
          [
           "straszny bałagan tablica porządnie skupić spieszyć zdążyć przepisywaen",
           "0"
          ],
          [
           "lab przejść pobiegać pochodzić konsultacja chyba czuć radość student przychodzić",
           "0"
          ],
          [
           "jedyny uwaga znajdziesz tablica waz slowy",
           "0"
          ],
          [
           "puścić listy potem stwierdzić daleko czytać szybko niedziwie człowiek wpisywać obecność wcześnie zapas d hehe em nieobecność chyba dać dogadać lu zwolnić przynieść d uznawać d",
           "0"
          ],
          [
           "zajecia chodzić oddać zrobić uratowac oblać podwyższyc ocene",
           "0"
          ],
          [
           "koło zdanie łatwy",
           "0"
          ],
          [
           "opinia podstawa kurs płyn ii zeszłoroczny prowadzić zajęcie zrozumiać potrafić nauczyć",
           "0"
          ],
          [
           "zadanie egzamin latwy nalezać ukladajać pracownik wiec co spodziewac ocena ogólny średnio jeża",
           "0"
          ],
          [
           "analiza matematyczny ćwiczenie ocena unikać b pierwszy ćwiczenia myśleć em analizy zaliczyć problem pokazywać dodawać ułamka różny mianownika bawić swój maszyna liczącą kalkulator wink lubić bawić",
           "0"
          ],
          [
           "niechcesz słuchać musieć",
           "0"
          ],
          [
           "zacznić zajecia absolutnie obryc zadan szanowny doktor nic wytlumaczyć zbierze tlumaczeć krzyza droge zrozumieć",
           "0"
          ],
          [
           "zajęcia prowadzić ciekawy potrafić przekazywać wiedza",
           "0"
          ],
          [
           "ocene podwyższać referat wystąpienie przypadek seminarka",
           "0"
          ],
          [
           "ogólnie polecać human punkt",
           "0"
          ],
          [
           "informatyk ogólnie źle robić śmy ćw móc śmy przećwiczyć dom łatwy temat sposób spisać kod napisany dom przeróżny korzystać książka gł źródło dodatkowy wiedza kartkówka nei trudny przyjmować projekt pytać wiedzieć chodzić koniec okazać program zaliczeniowy oddawać luz podnosić ocena ponoć robić to znaczy dokr ę",
           "0"
          ],
          [
           "zajęcia tragedia wogole mówić mikrofon mówić zrozumieć",
           "0"
          ],
          [
           "pytanie laborka potrafić ciężki wylecieć koniec laboratorium reguła grupa bedą zapytać cały zajęcia",
           "0"
          ],
          [
           "dostać trzy trochę postarać",
           "0"
          ],
          [
           "wyjątkowo miły człowiek nieco zestresować obecność świat człowiek radzić patrzenie podłoga podobno pomagać",
           "0"
          ],
          [
           "doktor prowadzić wykład dośc nurzący zasnąć",
           "0"
          ],
          [
           "mieć zdanie rozmowa bedziesz zupelć robić byle mieć nieobecność zaliczyć",
           "0"
          ],
          [
           "zaliczenie podstawa obecność",
           "0"
          ],
          [
           "robić jeden zapowiedziać wejściówkea bodajże trzeci laboratorium",
           "0"
          ],
          [
           "wymagać absolutny cisza słuch wzrok absolutny usłyszeć wypatrz",
           "0"
          ],
          [
           "przyłożyć nauczyć aha lubić spóźniać",
           "0"
          ],
          [
           "górniak wymagający dawać raczej standardowy zadanie skrypt",
           "0"
          ],
          [
           "chodzić zajęcia wiadomo póki przyjść prowadzić rozgrzewać piłka każdy czas robić mały rozgrzewke konkurs wyścig rząd konkurs zucania dwutakt lewy ręka potać grać zespół system wybierać student najczeście grać mecz rewanż grać mecz streetball potem grać cały boisko",
           "0"
          ],
          [
           "zaliczyć oddać wypracowanie napisać koło niewiele zdecydować",
           "0"
          ],
          [
           "egzamin łatwo",
           "0"
          ],
          [
           "scharoch wypadać naprawde swietć",
           "0"
          ],
          [
           "koło zwykle łatwy należeć człowiek troszkę postarać zaliczyć problem",
           "0"
          ],
          [
           "zwyczajnie pytać rzecz zwykle pomijać wydawać małoistotny",
           "0"
          ],
          [
           "pytanie raczej prosty trudno zaliczyc",
           "0"
          ],
          [
           "analiza matematyczny wykład ćw wydawać mila osobka tłumaczyć wszytko dokladć zadny pospiech",
           "0"
          ],
          [
           "koniec wyklad dawać pytanie SA wybierać egzamin trudno zaliczyc",
           "0"
          ],
          [
           "obnizyl prog zaliczenie punkt shock generalnie zle pozatym air inny wybór",
           "0"
          ],
          [
           "radze trzymac daleki",
           "0"
          ],
          [
           "podpisywać opinia poprzednik wszystek klawisza klawiatura",
           "0"
          ],
          [
           "górniak ćwiczenie wogóle trzebaby chodzić",
           "0"
          ],
          [
           "fizyk b zdac egzamin dosyc trudno przypadek zdalo osub",
           "0"
          ],
          [
           "odpowiadać pytanie głośno zdecydowanie",
           "0"
          ],
          [
           "wstęp programowania laborka wykład kurs archaiczn środowisko turbo pascal polecać tyc mieć nieco czynić pascal zaliczenie samouk pierwszy zajęcia podejść prowadzący zapytać uzyskać zaliczenie chodzeć laborek kara napisać program oprzeć baz dane piszesz program oddawać przyłożyć eś dostajesz przepisanie ocena wykład musieć pisać test zaliczyć wykład",
           "0"
          ],
          [
           "wyklad lubić dygresja zarcik zamotać wlasny wyprowadzenia fizyk cwiczyć raz uciekl cwiczen pokluceć portier przyszedl dol powiedzial cwiczeniowiec nakrzyczal portier uciekl nieznany potrafić rozwlec rozwiazywać zdanie listy robic par cwiczen dawać punkt zadanek zglosić poznie procentować skubaniec umieć zapamietacć wskazac dany osobe sala wykladowy zwrocic nazwisko oplacać isc konsultacja szczegolnie ii kolokwium obecny dostać nadzwyczaj duze ilosci punktow duzy kol na przykład dostal punktow dalo ladny czworeczke",
           "0"
          ],
          [
           "kolokwiać kartkówka ewentualnie aktywność należeć najprostrzy uczyć robić zadanie skrypt spokojnie mieć",
           "0"
          ],
          [
           "kolokwium zaliczniowy ćwiczen wygladać nastepująco",
           "0"
          ],
          [
           "Marcin szxxxak mgr fizykać ćwiecznie wppt ib ocena tendencja zwyżkowy b ogólnie zły prowadzący",
           "0"
          ],
          [
           "koniec koło prosty",
           "0"
          ],
          [
           "ogólnie ambitny warto chcieć przejśc warto zapisac sens chodzic wykład trochę własny praca",
           "0"
          ],
          [
           "ogolć ujść mozliwosc zapisania kogos inny raczej warto skorzystacć",
           "0"
          ],
          [
           "mazurek cel prawdopodobnie postawić zanudzić student pan pierwszy zajęcie dać znieść nieco jasny",
           "0"
          ],
          [
           "inaczej wahać pan apostoluk pani kołodzi wiedzieć kto wybrać",
           "0"
          ],
          [
           "niestety zaliczeć łatwo kolokwie oceniać system generalnie być bieżąco zdać",
           "0"
          ],
          [
           "zajęcia panować miły atmosfera doktor modrzycki duży poczucie humor nudzić",
           "0"
          ],
          [
           "ogolny ocena polecać",
           "0"
          ],
          [
           "profesor miły osoba człwiek wykłada chemia analityczny rzeczywiście delikatnie rzecz ujmować podpowiadać pytanie niemniej niekiedy wykład prowadzić liczny dygresj miły przyjemnie mijać czas co uczyć",
           "0"
          ],
          [
           "kurs algebro geometry analityczny wykład gosć swój świat wygnieciyć wyspać balować cały dno noc",
           "0"
          ],
          [
           "wyczyta nieobecny osoba czytać kolejny zajęcia",
           "0"
          ],
          [
           "dbać zajęcia odezwać coś potrafić gnębi pomagać",
           "0"
          ],
          [
           "polecać kurs prowadzący",
           "0"
          ],
          [
           "matematyka nauczyć umieć skrypt nauczyc zapić",
           "0"
          ],
          [
           "ocena przejście Jerzy całkiem fajny matematyk prawda dosyć ekscentryczny zły móc wydawać",
           "0"
          ],
          [
           "dać ściągać współpracować zdarzać sytuacja zaliczyć osoba ściągać ściągać niestety",
           "0"
          ],
          [
           "piec kartkowek wejsciowka sa podstawa zaliczeć",
           "0"
          ],
          [
           "mieć możliwość zapisania zajęcia pać doktor polecać serdecznie",
           "0"
          ],
          [
           "sprawdzać obecnosci dawać ocene praktyka krotka rozmowa naprawde m student sluchajać",
           "0"
          ],
          [
           "zajecia porywajace zbytnio interesujace wiec pelnia polecać",
           "0"
          ],
          [
           "ocena ogólny unikac x x",
           "0"
          ],
          [
           "kolokwium prawdopodnie sprawdzać ocena przypadkowy ogół temat krążą legenda",
           "0"
          ],
          [
           "oddawać sprawozdanie coś ważny",
           "0"
          ],
          [
           "dobrze mogł eś trafić",
           "0"
          ],
          [
           "mówić sprawa niezwiązany przedmiot",
           "0"
          ],
          [
           "doktor kornel wporzadek wprwawdzie potrafić nauczyc algebry przyznawać umieć d przyjaznie nastawić studentow wyklada sa ciekawy dr niezbyt czesto poruszać problematyke czysto matematyczny zwykle opowiadać ciekawy dziać siwet kolokwi sa prosty warunek posiedź skrypt raga sciagac zlaszcze sasiadow sam koło doktor kornel siedzieć kat nikt zwracać uwaga sprawdzać praca robić wnikliwy sledztwo ogólnie polecać",
           "0"
          ],
          [
           "wytłumaczyć czas pytać rozumieć rozumieć dany dział tłumaczyć potwierdzać zrozumilei koło raczej trudny liczyć dopytke koniec niezdawać swój wada ciekawa postacie czesto zagłebiać wykładzie temat",
           "0"
          ],
          [
           "sala osoba potrafić śmiać prosto twarz",
           "0"
          ],
          [
           "poprawiać przynosić następny raz wyszukiwać kolejny błedy poprawić eś źle mieć poczatek",
           "0"
          ],
          [
           "człowiek taki lajtu zyć widzial postanowil przytoczyc zdan pierwszy wyklad mało wiecej wykl",
           "0"
          ],
          [
           "projekt specjalnie rozbudować ładnie wyglądać mieć elegancki zrobiyć dokumentacja pokazywać ładny wykres",
           "0"
          ],
          [
           "niestety sam prowadzącego obekcja punkt wdzieniać trening i tak dalej wszytko czes rozgrzewka forma zabawa niestety mial miejse trening sytulacja zrazilać pokazywać dźwigni noge stopa zignorować zupełnie odklepeć mate powiadomieć bać student pokazywal technikea puścić chociaż zmniejszyć nacisk siła skręt",
           "0"
          ],
          [
           "analiza metr wykłada stwierdzić metr strata czas",
           "0"
          ],
          [
           "każdy laborka kartkówka moge stwierdzić trudny zaliczyć  jeden prosty eś czynić język c naprawde trudno",
           "0"
          ],
          [
           "byl absolutnie _ _ cwiczen dopytka dostal wiec lagodny chodzacy",
           "0"
          ],
          [
           "Kotarba Wiesław profesor",
           "0"
          ],
          [
           "kurs fizyk ćw b miły sympatyczny śmiać czesto ironicznie p",
           "0"
          ],
          [
           "znać tez ćwiczenie przystepnie tłumaczyć",
           "0"
          ],
          [
           "gańcz osoba dobry nauczyciel początkujący rozumieć wogóle powyższy komentarz chodzić wiel K",
           "0"
          ],
          [
           "raz udać zaliczyć ostatni poprawka zaliczyć przepisać zadanie list przepić wszytki większość to znaczy mieć lista zrobić przejść",
           "0"
          ],
          [
           "wykład cwiczenie prowadzić b gonić materiał robioć poprosto zaszybko",
           "0"
          ],
          [
           "miernictwo elektroniczny wykład ocena bieda wielki b mówic przpity trochy chrypk czas pić spiryt pierwszy wrażenie",
           "0"
          ],
          [
           "zauwazylać pilnować wstawianie plus aktywnosc cwiczenie ostatecznie przejmować wiedzieć dolicz punkt koło pary raz tablica bylam zostalo doliczyć pół punkt",
           "0"
          ],
          [
           "doktor wymagać systematyczność spokojnie zaliczyć em komplet wykład profesor dowodzić śmieszność system niemnie doktor duda szczególnie laborka godny polecenie tłumaczyć wógle miły ocena prowadzący bdb ocena pomijać zasada zaliczeć wykład wydawać odgórnie narzucić",
           "0"
          ],
          [
           "kurs analiza matematyczny ii wyklad numer b najciekwszy prowadzacy jaki mial stycznosc pwr",
           "0"
          ],
          [
           "ocene niezbyt wysoki robić łaska wpisze",
           "0"
          ],
          [
           "zajęcia ciekawy wiedza wchodzić cząstkowy widzimis łatwy człowiek uczyć skarbnica dobry humor przyjazny student człowiek polecać pośmiac nauczyć raz napisać zadanko tablica rozwiązać człapać sala podpatruej robić",
           "0"
          ],
          [
           "ogolnie wiedzieć sprawdzać UE chyba pierwszy prowadzić magnesa UE tez dać rade",
           "0"
          ],
          [
           "zaliczenie wymagać napisać dwa koło",
           "0"
          ],
          [
           "koniec kurs kolokwium bądź egzamin reguła ciężki system oceniać pozostawiać życzenie",
           "0"
          ],
          [
           "oczywiscie koniec mieć odfajkować inaczej siedzić zrobić wszystko",
           "0"
          ],
          [
           "algebro geometria analityczny ocena spoko b doktor rałowski baaardzo zakręcony człowiek",
           "0"
          ],
          [
           "rrowadzić zarówno wykład ćwiczenie",
           "0"
          ],
          [
           "koło banalny wystarczyć przerobić solidnie skrypt mieć zadanie koło wziąć wprost skrypt pozmieniać dane",
           "0"
          ],
          [
           "dr bogdan przepuszczać osoba brakować punkt zaliczenie bądź zdobyć minimum któregoś kolokwium",
           "0"
          ],
          [
           "kurs analiza mat wykł ćw ocena pozytwyn negatywny wykład przepisywać skrypt doktor wilhelm człowiek ból skrupulatny punktualnym troche anemiczny",
           "0"
          ],
          [
           "em przyjemność mieć ten pani wykład",
           "0"
          ],
          [
           "doktor calek sympatyczny choc niektorzy lubić",
           "0"
          ],
          [
           "chodzić wykład wemif ie człowiek chyba wybór chyba doktor juszkiewicz wykładać",
           "0"
          ],
          [
           "ogólnie normalny informatyk polecać brać ciemno",
           "0"
          ],
          [
           "ćwiczenie warto przygotować błyskać każdy zajęcia zapamiętać",
           "0"
          ],
          [
           "tlumaczyl wmiary jasno wstep teoretyczny",
           "0"
          ],
          [
           "doktor chemik prowadzić kurs nasz wydział d rzecz",
           "0"
          ],
          [
           "praktycznie pytać każdy zajęcia tyle grupa em szczeście pytać prawi każdy",
           "0"
          ],
          [
           "wspaniały prowadzić wykład",
           "0"
          ],
          [
           "jestes liceum mieć pech p rowć mozesz isc kurs jezyko japonskiego wyklad niezrozumialy czlowieka wrazenie doktor m inny jezyk d nikt chodzić uczyć bierzaco posiadać odpowiedni ksiazek notatka etc mieć szansa zdac kola SA trudny najgorszaa cech dr potrafić doczepic pierdolka zdarzać pomylica liczenie punkt wiec polecać konsultacja przypadkow pomylil liczenie qmpel przyklad pisal poprawke chociaz zaliczyl koło dopiero konsultacja okazalo potrzebć pisal poprawke pan",
           "0"
          ],
          [
           "zdecydujeć chodzic wykład pamiętać zajęcia punktualnie koleś zamykać drzwi koło sala każdy sala pilnować osoba ściagac dać rade",
           "0"
          ],
          [
           "ocena wystawiać własć podstawa obecność",
           "0"
          ],
          [
           "fakt zadać koło specyficzny",
           "0"
          ],
          [
           "fizyk fizyk ii wyklada ciekawy dowcipny człowiek sporo kawalow anegdot super zajecie prowadzić przyjazny student wyłączć ofiara który profesor upatrzeć poczatek semestr ciek",
           "0"
          ],
          [
           "doktor t kowal chemia nieorganiczny ii ćwiczenie ocena pozytywny b specyficzny prowadzić zajęcia",
           "0"
          ],
          [
           "tłumaczyć robić zadanie skrypt palnie jakies dowcip",
           "0"
          ],
          [
           "umieć wytłumaczyc trudny zadanie chociaz naprawde trudniejy miły chęć omiajał mówić prosty trudny być liczyc koło d zrobić par zapowiedziany kartkówka każdy punkt",
           "0"
          ],
          [
           "mieć nieusprawiedliwioną reszte usprawiedliwiac chyba odrabiać zanizać ocene końcowy",
           "0"
          ],
          [
           "każdy nieobecność ocena dół koniec chyba odrobić termin koniec krótki bezstresowy egzamin panika",
           "0"
          ],
          [
           "przepisować skrypt tablica",
           "0"
          ],
          [
           "kurs angielski b e średnio jeża b kurs bezstresowy niezapowiedziany kartkówka zapowiedziany zresztą",
           "0"
          ],
          [
           "ocena ujść ciężko dorwać",
           "0"
          ],
          [
           "naprawde warto poznac",
           "0"
          ],
          [
           "ogólnie polecać Krzysztof bogdan swój plecak poczucie humor koniec podajcie ręka wymieńcie znak pokój spodobać każdy",
           "0"
          ],
          [
           "iść informatyke znałęm ogół jezyk c kurs człowiek doktor zakładać wiedza rozumieja każdy skomplikowany słowo",
           "0"
          ],
          [
           "większośc zajęcia prowadzący uczyć pływać kilka grać śmy piłka polecać kurs odpłatny złoty",
           "0"
          ],
          [
           "suma bezstresowy zajęcie dopóki kolokwium",
           "0"
          ],
          [
           "kurs chemia nieorganiczny ćw ocena najniższa unikać",
           "0"
          ],
          [
           "zgadzać powyzszy opinia",
           "0"
          ],
          [
           "cztery zapowiedziać kartkówka mogące dodać cztery dodatkowy punkt pula punkt kolokwi",
           "0"
          ],
          [
           "chyba fanatyk swój dziedzina trochy pamietać wiekszosć koniec zdać",
           "0"
          ],
          [
           "zajeci naleza cicho osoba gadajaca przylapać moge miec obnizonać ocene",
           "0"
          ],
          [
           "żaden gadać przedmiot popchnięty przód",
           "0"
          ],
          [
           "achi temat kurs międzynarodowy standard praca raczej międzynarodowy organizacja praca prowadzący głowny człowiek taki",
           "0"
          ],
          [
           "według minuta trochy",
           "0"
          ],
          [
           "jeśio usłyszeć być wykłaść sala wałbrzyski dobrze siadać rząd daleko nikły szansa usłyszeć",
           "0"
          ],
          [
           "kol sa zbyt trudny wystarczyć miec dobry notatka cwiczen przeczytacć ksiazka",
           "0"
          ],
          [
           "filozofia natura elektryczny ciekawy referat dotyczyć dowcipny człowiek dobra profesor prowadzić zajęcia baardzo rekreacyjnie temat ciekawy",
           "0"
          ],
          [
           "prowadzić wykładu patrzeć podłoga bać student d zaliczeć sem sprawdzać raz obecność przynajmniej raz zaliczyć",
           "0"
          ],
          [
           "mieć odróbeka ważny powód prowadzić zajęcia dogadać",
           "0"
          ],
          [
           "zadanie kosmos oczywiście czas twierdzić prosty",
           "0"
          ],
          [
           "tyle liczba nagy prawda d pierwszy kolo latwo problemow zaliczyc troszkę pouczylo zrozumialo podstwa",
           "0"
          ],
          [
           "angielski kobietka wymagajacać robić duzy problemow zaliczeć",
           "0"
          ],
          [
           "human odbębnieć zajęcia grać karta worms bierka sala osoba praktycznie siedziać studentow",
           "0"
          ],
          [
           "lubić pożartować lekcja trzymać plan lekcja żart lekcja prowadzić mówić francuski",
           "0"
          ],
          [
           "ogólnie dobry fizyk  zwrot ocena strsznie",
           "0"
          ],
          [
           "założenie zaliczyć punkt praktyka punkt",
           "0"
          ],
          [
           "chcieć nauczyć dobry wybór pra ś",
           "0"
          ],
          [
           "forma dowolny referat rozprawka opowiadać dialog wiersz objętość strona maksymalć dwa",
           "0"
          ],
          [
           "wstęp algebry geometria ciocie dorotek pseudonim dostać nasz grupa chyba dobry prowadzić c",
           "0"
          ],
          [
           "biernacki prowadzić laborek naprawde dziwnie łebky zaangażować ważny niezrozumiale powtórz niezrozumiale",
           "0"
          ],
          [
           "zazwyczaj wcześnie uprzedzać koło",
           "0"
          ],
          [
           "ogólnie bwe pikuś",
           "0"
          ],
          [
           "podstawa ocena indeksa egzamin niespodziewajka brak zadanie powtarzać poczucie humorupany pokład ogólny podejście student pozytywny zerowy termin najprostszy zadanie warunek przystąpić zaliczenie projekt doktor",
           "0"
          ],
          [
           "potrafić przystepny wyjaśnić różny zjawisko często robić dowcipny zapamiętować d",
           "0"
          ],
          [
           "pytać każdy zjawisko cokolowiek wspólny dany ćwiczenie",
           "0"
          ],
          [
           "ksiadz irka niesamowicie prowadzić zajecie",
           "0"
          ],
          [
           "widzieć uwaga sluchacza zaczynać uciekac opowiedzieć kawal anegdota historyjka pora wykladow masakryczna przynajmniej",
           "0"
          ],
          [
           "mówić staropolski powiedzeć andr",
           "0"
          ],
          [
           "olewać gorniak podpadać naprawde grozny p",
           "0"
          ],
          [
           "analiza matemtyczny ocena b miły zajecie mijać wiedzieć mieć ocene trudnosca kolokwi kwestia przygotować",
           "0"
          ],
          [
           "początek zaznaczać kurs teleinformatyka teoria obwód nazwa straszny twisted profesro stary przychodzić swój kartka przepisować tablica zwracać uwaga dziać sala koniec podawać zagadnienie koło przysc e gotowc opracowany sciąge",
           "0"
          ],
          [
           "lakier rower kiepski jakość robić odpryski wiadomo co rower ładny wygodny miesiąc użytkować widoczny odpryski lakier co taki cena oczywiście producent twierdzić wada mechaniczny dziecko dobry stan lakier rower firma odradzać zakup powód szkoda tyle kasa nerw chyba rower stać nieużywać szyba zakończenie powiedzieć porównować lakier zwykły paznokci hybrydę wiadomo tańszy zwykły lakierz robić odpryski dobry",
           "0"
          ],
          [
           "zadowolony zakup skrajnie niewygodny uciskać ucho minuta zwyczajnie zdjęcie słuchawka niesamowity ukojeć kolejny kwestia problem łączność początek sparować słuchawka telefon pierwszy utwór zacinać urok bezprzewodowy słuchawka wiedzieć wnikać wadać wadać numer sam posługiwać ten słuchawki komunikat głośność przeżyć sygnał chociażby wyłączanie urządzenie niezwykle irytować jakość dźwięk zadowalająca wada uważać słuchawka złoty powinien pozbawić metr móc cofnąć czas kupić metr sprzęt",
           "0"
          ],
          [
           "szukać klucz wielkość brać em uwaga to znaczy yato neo wzgląd duży rozstaw szczęk kupić em yato akurat dostępny pobliski sklep niski cena pyzatym część narzędzie firma sprawdzać rozpakować trochę rozczarować em sprawa regulowany szczęka rok bok sztywny duży klucz posiadać szerokość szczęka ruchomy duży szerokość nieruchomy prawdopodobnie luźny proces obróbka odchylać boka kolejny minus zablokować sworznia mianowicie nacięcie jakiś tarcza szlifierski plus ergonomiczny gumowy rączka otwor użyć klucz oczkowy zawieszić wiec klucz spełniać swój rola ideał człowiek ceniący zarówno funkcjonalność jakość wykonać",
           "0"
          ],
          [
           "długo szukać metr odpowiedni fotelik wysoki latka wcześnie użytkować metr fotelik kilogram duży producent podawać kilogram niestety trochę wyrost chociaż teoretycznie dziecko mieścić środkowy przedział wagowy kilogram fotelik okazać zbyt mały maksymalnie wysuniętym zagłówek głowa dziecko dotykać górny krawędź fotelik wyobrażać fotelik służyć następny rok fotelik wyglądać solidnie myśleć świetnie nadawać fotelik następny nosidełko",
           "0"
          ],
          [
           "kupić  pociąg zestaw tor prosty zakręt zestaw tor zwrotnica skrzyżowanie zestaw kompletnie nic tor niedopasować rozstaw koło lokomotywa kłaść lokomotywa idealnie środek tor koło krawędź cały koło jazda pracować prawo lewo pociąg niemal czas jeden strona koło jechać powietrze tor najgorzej skrzyżować zwrotnic skrzyżowanie wąski pociąg stan przejechać zdarz rozpęd przejechać zwrotnic ledwo pokonywać prawda zestaw nadawać zabawa skoro pociąg kompatybilny tor yt obejrzeć co problem wystarczyć wpisać wyszukiwanie blocki pociąg rozstaw trzeci próba jixin blocki mubi pierwszy zestaw rok straż pożarny służyć potem zestaw budowniczy rozleciać raz budowniczyć pociąg polecać zdecydowanie podróbek litr d cena oczywiście zachęcać",
           "0"
          ],
          [
           "pilarz parunast rok skusić em partner listopad r łatwo uruchamiać pracować lekki poręczny wygodny mały otwór wlew olej mały objętość zbiornik paliwo olej uzupełniać filtr powietrze zasada jednorazowy zapychać tydzień praca h dzienny praca pić koszt nowy złoty miesiąc pęknąć linka gaz każdy nacisnąć manetka gaz łamać linka dziwny rozwiązanie konstrukcyjny koszt nowy złoty trochę wysoki koszt utrzymać piła zawiedziony model partner",
           "0"
          ],
          [
           "uważać dobry kitowy obiektyw rynek wykonać metal dobry jakość tworzywić pierścień przysłona chodzić należyty opor skokiem wbudować stabilizacja wydajny naprawdę pomagać sytuacja obiektyw ostry duży otwór przysłona celność bdb pochwala dodatkowo szybki silnik autofokus używać  poczatek dosyć mułowaty x e przesiaść em x t móc chwalić ostatni plus opracować system uszczelnienie obiektyw zoom ogół zasysać kurz środek mieć być zoom nikkora sigmy problem polecać",
           "0"
          ],
          [
           "krzesełko ładny kolorystyka przydatny regulacja siedziski oparcie szybko wyczyścić pokryć specjalny materiał wnikać woda oprócz sam minus dziecko poci krzesełko straszliwie wzgląd materiał krzesełko ciężki kółeczka przód uniemożliwiać przesuwanie zajmować sporo miejsce kosztować sporo wiedzieć rynek droższe osobiście drugi metr kupić",
           "0"
          ],
          [
           "początek zobaczyć  słuchawka zachwycać  dobry mikrofon ładny opakowanie przyjemny wygląd słuchawka ogólnie mówić najpierw  zadowolony miesiąc problem mikrofon zacząć działać odpinać em działać długo chcieć em kusić los liczyć kolejny cud podłączy zadziałać siaść strona zupełnie kompletnie dobić zmienić em akg ogromny różnica jakość należeć trochę dopłacić nowy słuchawki słychać znacznie dobrze fps jaki przeciwnik poziom tył fatalit mogł  rozróżnić dopóki odwrócić em sprawdzić  zazwyczaj dead polecać długi meta miesiąc porządek zakup krótko beznadziejny wykonać kabel mikrofona ogólnie cały słuchawka",
           "0"
          ],
          [
           "dostać em badziewie prezent orange wybór mieć być pendrive czytnik bubel nazwa pamiętać wybór paść słuchawka dawno mieć być ucho zewnątrz nieźle wyglądać chyba duży zaleta dobrze wykonać niewygodny kabel krótki dźwięk środek widać najzwyklejszy chiński chłam móc zostać wykonać marn plastik zostać wykonać połączyć tani klej oby trzymać cena oczywiście ważny usprawiedliwienie zbyt pięknie początek lewa głośnik działać problem występować spowodować cienki włos drut zwyczajnie ukruszyć pęknięcie tuż punkt lutowanie zewnątrz przylutować ponownie wewnątrz egzemplarz szkoda czas produkt mogła em wysłać producent ramy gwarancja wzgląd niski wartość wysłać  kosz",
           "0"
          ],
          [
           "dobry wytrzymać obudowy plus przemawiać niezły odprowadzać ciepło wytrzymać konstrukcja solidny wykonanie atrakcyjny wygląd obudowy niestety wada niestabilny przypadek niektóry stary komputer przyczyna duży wymaganie prądowy chodzić port usb drugi widoczny wada fakt dysk zamontowanie sztywny wyczuć wyraźny poruszać obudowa drgani wpływać wydajność wytrzymałość dysk brać uwaga dysk należeć traktować delikatnie wada pominąć polecać obudowa",
           "0"
          ],
          [
           "niestety lodówka pakowny kupić metr miejsce identyczny wzgląd pojemność lodówka whirlpool damsing miejsce duży litrowy garnka zmieścić duży l dzbanek sokiem otwór jajka wieczko otwierać włożyć jajka opadać zatrzymywać góra opcja zatrzymać podniesionrgo góra dozownik woda porażka zdarzać kapa calej lofowka podłoga nieumiejętć przystawka szklanka plus cich praca designe",
           "0"
          ],
          [
           "bazyl dwuletni buldog francuski ulubieńc cały nasz rodzinka borykać alergia szczególny uwaga zwracać karma który wybierać testować śmyć różny karm weterynaryjny gotowany mięso różny skutek spory problem częsty niespodziewany gaz K",
           "0"
          ],
          [
           "  jaki cena jakiś ewidentny żart oddać em jeden kamera gwarancja nagrywać film akurat potrzebny wyskoczyć sarna film wyskoczyć lis film sytuacja obesźć szczęśliwie poszło potrzebować metr film chociaż udowodnić mój racja ubezpieczyciel oddać  kamera zaginąć niby producent przydzielić nowy miesiąc media experta sytuacja wyskakować dzik trasa maske hamować śliski szczęśliwie wracać dom wrzucać karte komp widze widze pol dzień kamera nagrywać dzień podłączyć jakies wa zrzeć cena spokojnie kupic raz dobry",
           "0"
          ],
          [
           "niestety mój test wypaść strasznie marnie prędkość zapis duży pojedynczy plik usb mb s szybko obojętny ntfs fat kupić em egzemplarz każdy żenada wstyd patriot dane podać producent wyssać palec rozumieć dane usb usb duuuużo dobrze plus wieczór pójść koleżanka zgrać film fullhd musieć zostać śniadanie doczekać koniec kopiowanie em domagać producent zwrot pieniądz",
           "0"
          ],
          [
           "mieć metr robot pazdziernik reklamacja dostalam pieniadze glosny praca spoko dać zniesc oprzeć plastikowy czesciach siadalo sokowirowka sokowirowka wszyskto obrac podzielic czatka okol centymetr wracajac marchewka sokowirowka przestawalać działac wyrabial silniczka plastik napraw tyg sam wymiana nowy sokowirowke sam raz probować dac nowy robot wolalama gotowke koncu nadal plastikwoe podzespoly szkoda szukać czegos solidniejszego",
           "0"
          ],
          [
           "podobnie większość zawiość metr kosiarka wydawać firmowy kosiarka służyć długo sam początek delikatny dobry drobny trawka idealnie rówć teren koszyć lekki nierównościa zakończyć powyginany nóż nóż wymienić nowy dać naostrzyć długo cieszyć metr silnik zacząć dziwnie pracować koniec przestać powiedzieć szczerze dobrze sprawować pierwszy najtańsz kosiarka nam nóż dziać górka dołk silnik zajeżdżeć uszkodzić kółka daleko pracować zawiodła metr gardenie",
           "0"
          ],
          [
           "mylący tytuł sugerować czynić dzieło smith rzeczywistość książka zawrzeć fragment bogactwo naród teoria uczucie moralny okraszć niestety kiepski komentarz okazywać autor książka adam smith autor sprawiać wrażenie kazać napisać ten książka moment odczuwać wręcz niechęć smith dezaprobata względem dzieło ogólnie streszczeć recenzja nazwanie książka spory przesada ciężko czytać jedyny sprawiać ocena wynosić pojawiać dokładny cytat",
           "0"
          ],
          [
           "uważać pisać opinia coś rewelacyjny koniec sens chcieć metr napisać wadzie zmywarka bosch pierwszy przyznać whirpoola mialama wczesniej brakować kontrolka zakończyć myć dom usłyszeć metr końcowy sygnał wiadomo myć skończony samo wiadomo etap zdarzać wypluć tabletka garnik brudny niestety porównanie whirpool przegrywać kategoria ciasno ułożyć garnka whirpool radzić świetnie najwyraźniej dobry ciśnienie woda bosch mocno kulej chcieć upchać maxa musieć domywać ręcznie prowadnica dół precyzyjny wykonać kosz dolny całkowity wysuniecie spadać whirpool mieć miejsce prowadnica mieć kontuynuacja drzwiczk",
           "0"
          ],
          [
           "najpierw dostawać produkt wysoki półka pięknie zapakować mysz wygodny działać działać precyzyjć tyle sprzęt gracz razer przereklamować pierwszy narzucać myśl absurdalny cena sprzęt gumek kciuk odpaść trzy miesiąc scroll problem działać miesiąc sensor korzystać aluminiowy podkładka obydwie część musieć być czyścić gory oprogramowanie razer synapse zawieszać każdy raz otwierać odłączać podłączać kabel myszka przełączać praca przewodowy bezprzewodowy odwrót oprogramowanie posiadać funkcja prosty działać na przykład kalibracja powierzchnia włączać funkcja mysz profesjonalny podkładka działać drewniany blat niestety byle przerywać nierównościa szczęście ustawić droga restartuć poprzez alt ctrlć del program komputer wyciągać kabel całość działać skrót kupcie inny tańsić dobry mysz konkurencja",
           "0"
          ],
          [
           "pierwszy krem twarz używać metr tani wydajny natłuszczać skóra ogromny zaleta szczególnie zima krem nijaki polecać używać lato ciepły dzień skóra świeta tłusty krem swój zapach przepadać zbyt ciężki mocny krem twarz zdanie odpowiedni osoba stary zależeć ochrona skóra mroz pamiętać nadawać makijaż wyglądać brzydko nienaturalnie polecać mroza",
           "0"
          ],
          [
           "bateria posiadać ładny design wysokość bateria centymetr przeciętny głębokość zlewozmywak centymetr woda wypływać bateria spadać wysokość metr powodować chcieć opłukać talerz umyć ręka bierzemy prysznic zachlapać szafki zadzwonić metr handlowiec firma blanco poprosić metr rada podać telefon serwisant kazać przykręcić ciśnienie woda próbować tłumaczyć bateria przystosować zlewozmywak blanco metr kupić zlew blanco problem sitko zlewa blanco ustawiyć nakieruwać wylewka bateria woda rozchlapować używać zlewozmywak myśl skierować wylewka strona sitko chyba kuchnia robić przestrzegać wszystek bateri typ firma blanco porażka totalny niewypać",
           "0"
          ],
          [
           "witać długo namyślać em zakup przyzwoity pistolet zdecydować  steinel porażka cały lini pierwszy próba praca zagrzewa podać klej przestać działać wysyłka serwis wymiana system grzejny pistolet puszczeć klej bok kapać podajnik pięć minuta ponownie przestać działać wysyłka serwis pora dwa miesiąc popracować minuta wydawać pistolet wytrzymać długo koszt dostawa serwis odbiór zbliżać cena zakup polecać produkt zapomnieć em serwis zaskoczć jakość tworzywo brak plomb prawdopodobnie zmienić wykonawca produkt producent rumuni steinel sam narzędzie kiedyś proponować poważnie zastanowić zakup pozdrawiać",
           "0"
          ],
          [
           "szczerze wiedzieć polecać drogeri wow mieć metr rozstęp początkowy faza używać olejku widzieć rozstęp głębsz brzydsz wyglądać przyzwoicie pójść metr dermatológ przepisać maść pomału naprawiać błąd olej zdanie stracić metr pieniądz jedyny plus olejek nawilża skóra osoba skóra suchy zdecydowanie zadowolony",
           "0"
          ],
          [
           "lodowka fajnie prezentować pojemny półka praktycznie rozplanować nieco głośna iść przyzwyczaić wydawać trochy dzwięek tradyzyjć lodówka własnie popsuć wymieniać rok sprzetu polecać wiedzieć trafić feralny model sklep agd potwierdzić firma beko rozreklamować wraz wzrot zainteresowanie stracić jakość dobrze wydać pary złoty mieć spokój parę rok",
           "0"
          ],
          [
           "bohater film chłopiec stefek siostra elka mieszkać matka mały miasteczko życie określić dziwny stefek codziennie obserwować swój ojciec stacja kolejowy ojciec zostawić rodzina odejść inny kobieta chłopiec pogodzić zrozumieć stosować różny sztuczka wpłynąć ojciec los plan pełnia dopracoweć zmusić ojciec odwiedzić matka międzyczas elka rozmowa praca",
           "0"
          ],
          [
           "spośród szlifiereka metabo wqw hitachi gva skillć dewalt okazal dobry pracować dobrze metabo poręczniejszać pracownik woleć dewalta przegrzewać zwyczajnie mocny rok wysyć być serwis nadzwyczaj sprawnie szybko działać zaznaczyć żę pracować duuużo ciężko często przystawka satynować duży obciążenie polecać dewalt lekko hitachi zdecydowanie droższy system regulacja obrót obciążenie świrywać",
           "0"
          ],
          [
           "użytkować miesiąc awaryjność powiedzieć polecać mały łazienka fajny funkcja fresh matic spłuczka móc załadować środek zapachowo dezynfekcyjć kształt niebieski kredka aplikacja przekombinować działać kupić  miska style koniec polecę praktyczny korzystać niestety trochę odbijać powierzchnia miska winien profil miska przepraszać obrazowo konkretnie pozdrawiać",
           "0"
          ],
          [
           "kupić  żarówka złoty sztuka ciąg tydzień raz sztuka zacząć migać szczęście zakupić lokalny supermarket dostać  zwrot gotówka złoty ręka dzień reklamacja zawiodł em philips zawodność taki marka zacząć migać kolejny żarówka reklamacja zostawić eoktom paragon sklep mówić trudno mieszany uczucie znajomy kupić ledy firma typ nam problem porównanie przepłacić em kupić em bublowaty produkt marka philips",
           "0"
          ],
          [
           "cena spodziewać em dopracować sprzęt miski mocować robota przeciwny kręcić rózga cięższy ciasto lubić wypiąć praca niedopracować sam rózg mis chociaż wyglądać profesjonalnie pozostawiać dno nierozmieszać ciasto krem zaznaczyć posiadać mikser robota wypadać niebo dobrze bardzo irytuć mieszaść silikonowy powinien zbierać ścianek spód mis przeszkadzać właściwie uniemożliwiać podbijać masa jednoczesny podgrzewanie cel zakupić  chyba chcieć jajecznica wręcz idealny trwałość robota móc powiedzieć krótko posiadać reasumować osobiście kupić metr ponownie robota taki cena wiedzieć wada napisać opinia skłonić rozczarowanąć delikatnie wciekły wspomnę lżejszy nadzieja firma kenwood przeczytać wypociny przyszły model poprawić niedoróbka wiedzieć nadzieja matka",
           "0"
          ],
          [
           "świeżo zakup marantza urządzenie odtwarzać płyta cd źle nośnik usb nośnik czytać długo dźwięk słyszalnie uboższy odtwarzać pliek flac kompletny porażka wieszać urządzenie zaczynać słuchać stacja radio cyfrowy dab sytuacja powtarzalny dodać stacja dwa daba ulubiony próba przełączać następować zawieszeć urządzenie dokładni odtwarzać dźwięk przywrócić odtwarzać dziwięku wybrać stacja fm odtwarzać drugi kwestia włączać samo siebie urządzenie śpisz włączać wyłączać h sam dodać głęboko rozczarowuć scena dżwiękowy nośnik usb dobrze kupić tańszy mieć sam wada",
           "0"
          ],
          [
           "router porażka stan poprawnie współpracować modem huawei e specyfikacja umieścić opakowanie producent zapewniać biedzie współpracować okazać nieprawda router chwila włączyć rozłącz internet dać ogół korzystać pomagać aktualizacja firmwary inny mod router zadziałać producent podać opakowanie prawdziwy lista kompatybilny modem dostępny strona internetowy poszukać polecać kupywać mody pasować producent model mody sieć mod pochodzić zgadzac dokladnie lista dostepny strona producent",
           "0"
          ],
          [
           "chyba spodziewać metr coś kosmetyk słyszać metr tyle słowo zachwyt kosmetyk zbyt ciepły tonacja uważać zrobić plamć twarz wykluczać spowodować brak umiejętność makijażowy plus fajny matowy wykończenie brak świecący drobinek piękny wytrzymały opakowanie ważny podróżować zdarzać kosmetyk niszczyć transport puder zaliczyć lot stolik lądowanie podłoga test odporność zdać celująco zmieniać fakt raczy kupić kolejny kosmetyk",
           "0"
          ],
          [
           "zanim wybrać metr lumie szukać metr opinia niestety trafić metr dyskusja samoczynny resetach tydzień użytkować telefon trafić serwis powód samoczynny wyłączania żądać pin telefon nowy salon oczywiście gwarancja wyłączać kilkanaście raz dziennie pierwszy tydzień serwis aktualizacja oprogramowanie pomogć nadal sam potem kolejny tydzień serwis aktualizacja oprogramować serwis potrzebować tyg aktualizacja oprogramowanie nadal sam zostać naprawiyć kolejny zwrot telefon gwarancja nowy skoro normalnie korzystać dno radzić wybrać sprawdzony ms lumiać wcześnie mieć metr lumiać telefon świetny nokia zastanawiać wybór telefon szczerze odradzać lumie oszczędźć nerw",
           "0"
          ],
          [
           "grzejnik ładny beznadziejny termostata pamięć nastawa możliwość programowanie skorygować nastaw fabryczny czas pierwszy zanik napięcie potem powrócić nastawa fabryczny termostata łatwo zacinać grzejnik dawać fabryka dać oczywiście koszt właściciel grzejnik praktycznie nadawać ogrzewania pomieszczenie stały dozór czas praca wydawać dziwny odgłos całkiem głośno wyrzut sumienie zaprojektować",
           "0"
          ],
          [
           "budzik zdecydowanie warta cena złoty zaleta ładny wygląd dobry spasować materiał duży czytelny cyfra głośny alarm wada wykonać kiepski jakość tani plastik przycisk alarm drzemki umieścić tył niepraktyczny noc przycisk tandetny głośny twardy przeszkadzać brak regulacja podświetleć bateria podtrzymuć pamięć rzadko spotykany postać v móc paluszek przydatny opcja regulacja alarm na przykład delikatny mocny",
           "0"
          ],
          [
           "obiektyw przeznaczyć osoba dopiero zaczynać fotografować lustrzanka cyfrowy marka canon obiektyw stabilizacja obraz nowszym model mark III cena obiektyw wygórować kupić dobry stan złoty obiektyw śmieszny pieniądz początkujący fotografa dobry wybór zapoznanie możliwość własny sprzęt wykładać początek wielki suma obiektyw sprzęt wykonać dobry zdjęcie wymagać trochę wprawa znajomość aparat używać polecać głównie początkuć użytkownik zaawansowany skierować strona obiektyw",
           "0"
          ],
          [
           "grill wada duży który niestety żyć em rok tłuszcz zamiast skapywać całość dołączony miseczka spływać płyta grzewczyć grillować musieć być postawić pion patrzeć wylewać blat wiedzieć philips przemyśleć sprawdzić tragiczny niedopatrzenie dzień grill odmówić posłuszeństwo grzeć pokrętło ustawiać temperatura odmówić rok przestać mieć grzechotka przeszkadzać użytkowanie minus uważać brak możliwość dokupieć sam płyta teflonowy choćby cena połowa grilla zdecydowanie polecać kupić grilla philipsa przypadek awaria musieć kupić nowy",
           "0"
          ],
          [
           "przereklamować podobnie towar na przykład wkrętarka bosch seria profesor użytek cena oczekiwać  robot wyższej jakość zaledwie raz użyć wydobywać zaczynać smar wałek gniazda mieszaść cena mieć miejsce ogólnie siła robot wyglądać zajeżdżeć obawa przekładnia rozsypać strasznie głośno chodzić dzieciak kuchnia uciekać potwornie drogi dodatek osobiście śmyć kupić",
           "0"
          ],
          [
           "hhmm jazda wygląd zaleta chodzić reszta brak osiowość ławka brak stabilność ćwiczeć ławka skosć ujemny radza zakładać pampersa widze sprzęt robiony masowo zwykły kowalskiy chiński jung pęk spaw urządzenie ćwiczenie noga uciekać stopień jeden strona modlitewnik tragedia oparcie ćwiczenie rozpiętka siedząco krzywo osadzyć ogólnie kupować wybrać metr chińborka złoty zdanie wart jakiś złoty jakiś centymetr oczywiście wzrost niewygodny ćwiczieć bark wyciąg wyprostujesz ramiono ogólnie polecać tv samsung smarta jakiś par pinącha oglądać dziennie youtuba jakiś minuta ćwiczyć metr pompka pochodny rezultat dobry radość pozdrawiać marsh",
           "0"
          ],
          [
           "klawiatura otrzymać em rozpakować  podłączyć em zainstalować  soft pobrać strona razer windows widzieć klawiatura poprawnie instalować gładko niestety oprogramowanie razer rozpoznawać własny klawiatura pomagać przepinanie port usb wielokrotny restart odpięcie urządzenie usb komputer dodatek soft zaprojektować bezmyślnie dopóki wykryć klawiatura kliknąć ikony pomoc przeczytać dokumentacja zrobić inny oprogramowanie skonfigurować dodatkowy klawisz korzystać funkcja klawiatura metr móc klawiatura używać narzekać metr zbyt twardy klawisz obudowy dolny klawisza minia pad genialny pomysć być gra ziać szeroki szczelin który widać płytka drukować spód rozwiązanie wróżyć długi trwałość sprzęt wystarczyć kropla woda mówić kurz drugi poważny rozczarowanie produkt firma myśleć em kupować dobry sprzęt klawiatura zwrot nauczka przyszłość",
           "0"
          ],
          [
           "pilot funkcjonalnie pierwszy klasa dosłownie sterować ogromny baza sprzęt możliwość dowolny konfigurować super wygląd podświetleć klawiszyć auto wyłączać ekran niestety jakość wykonać pozostawiać życzenie konkretnie klawisz użytkować zacinać pierwszy egzemplarz wymienić nowy drugi tez identyczny problem klawisz niestety rozebrać iść próbować em stary wystarczyć wyczyścić gumek wymienić styka węglowy dom pilota sprzęt audioa kilkanaście rok działać zarzut",
           "0"
          ],
          [
           "strasznie słabo brzmieć audiofil oczekiwać  cud stan słuchać muzyka prosty brzmieć inaczej wszędzie indziej pierwszy średni tona dziwnie wyciszć drugi wysoki niski ustawić zero podwyższyć okazywać wiec utwór znać pamięć słyszeć różny droższy tańszy głośnike brzmieć miara podobnie prosty brzmieć inaczej próbować  kombinować pokrętł odpowiedzialny niski wysoki tona pora udać wykręcić sensowny myśleć em widzieć jakiś czas prosty przyzwyczawać",
           "0"
          ],
          [
           "zakupić  telefon miesiąc móc korzystać internet wykonywać połączenie pisać wiadomość sms posiadać aparat telefoniczny sam początek dzień zakup smartfić zacząć em korzystać internet ciągle zacinać Masakra wkurzeć przestać em korzystać droga telefon stać zapłacić  złoty połowa mój renta oprócz bateria szybko rozładowywać wystarczą kilkuminutowy rozmowa musieć telefon ładować jedyny plus nagrywać rozmowa wygląd telefon naprawdę żałować zdecydować em zakupić telefon szkoda kasa",
           "0"
          ],
          [
           "jedyny pozytyw rzeczywiście telefonować telefon nokia dawny należeć obsługiwany intuicyjnie napaćkać mnóstwo zupełnie niepotrzebny aplikacja otworzyć wymagać połączyć sieciow uważać zrezygnować bateria trzymać długo dzień czuwać aparat fotograficzny lampa błyskowy wyświetlacz wytrzymać tydzień podobno uszkodzić mechaniczć wiadomo każdy aparat utracić gwarancja wymiana lcdeć dodatkowo złoty polecać",
           "0"
          ],
          [
           "gra rok ciągle robić wrażenie widać odsłić ly batman pierwszy rzut oko trudno zauważyć zaleta gra chociażby ładny klimatyczny grafik duży zaleta gra robić własny postać który grać niby taki fakt taki cieszyć grać poziom trudność zmieniać poziom poziom etap łatwy trudny zagadek myśleć zagadka rozwiązać dosłown sekunda napisać pudełko latk inny słowo prosty fabuła cienky sik pająk najgorszą rzecz gra wszystko częsty glitheć bag osoba wywoływać kolejno śmiech zdziwienie nerwica szczęście niszowy problem podsumowywać ly batman dobry gra wada",
           "0"
          ],
          [
           "pierwszy wrażenie pozytywny czytelny wyświetlacz am działać płynnie kończyć zaleta urządzenie navroad s bateria działać max minuta ładować cały urządzenie mocno grzeć znaczącą temperatura odczuć minuta sparować urządzenie telefon chcieć użyć zestaw głośnomówiący usłyszyć niewyraźny bełkot nadawać urządzenie głośnomówiący chodzić pojemność bateria przegrzewanie urządzenie krążą opinia foer serwis odsyć urządzenie opisować działo niestety nawigacja wyłączać godzina praca pomagać kilkukrotny rozłączć uchwyt ładujący sens pisać zalet urządzenie skoro brak możliwość normalny korzystać urządzenie trasach powyżej godzina mówić np godzina dwa kierowc oczywiście przykro urządzenie zaawansowany sprawować powyższy navroad zadowoleć urządzenie przegrywać niezadowolen urządzenie zadowalać odmawiać posłuszeństwo rok serwis navroad odmówić naprawa płatny wzgląd brak część",
           "0"
          ],
          [
           "rewelacja wybrakować produkt urządzenie grudzień użyć metr raz każdy raz mieszkanie zadymiyć strasznie śmierdzieć palony kabl jedzenie suma chwilka spuścić oko powód brak regulacja temperatura szybko przypalać powłok nieprzywierać paninia chyba zrezygnować każdy raz przykleić wyczyszczeć płytka koszmar jedyny móc pochwalić wygląd",
           "0"
          ]
         ],
         "hovertemplate": "HDBSCAN_Clusters=%{customdata[1]}<br>Dim1=%{x}<br>Dim2=%{y}<br>Text=%{customdata[0]}<extra></extra>",
         "legendgroup": "0",
         "marker": {
          "color": "#EF553B",
          "size": 10,
          "symbol": "circle"
         },
         "mode": "markers",
         "name": "Klaster 0",
         "orientation": "v",
         "showlegend": true,
         "type": "scatter",
         "x": [
          28.571283,
          -0.78046995,
          8.191108,
          27.757893,
          -26.412582,
          0.49701753,
          28.616055,
          -15.15237,
          10.133819,
          10.571944,
          28.149082,
          -1.9550922,
          33.133167,
          -11.78271,
          31.172586,
          -22.952974,
          24.286564,
          13.921244,
          -2.6155865,
          -19.69731,
          -20.354288,
          -27.077127,
          10.397327,
          7.5879436,
          -11.67128,
          3.5221663,
          20.365665,
          -7.8386116,
          38.98119,
          -13.349077,
          6.089205,
          -15.00913,
          14.442746,
          -0.44250372,
          -13.861662,
          31.172586,
          28.110472,
          6.590751,
          -18.011978,
          8.1071,
          -11.223971,
          1.5150975,
          24.944225,
          -10.366024,
          -22.853197,
          -28.805828,
          32.877056,
          -19.916573,
          15.124841,
          17.586367,
          32.80109,
          -29.195929,
          2.5132608,
          -4.274511,
          26.463943,
          -8.141828,
          15.47145,
          -6.368926,
          29.02125,
          2.0408788,
          9.698096,
          3.733619,
          16.12198,
          -27.166481,
          5.4231386,
          30.886871,
          30.800137,
          4.409094,
          9.560141,
          7.384903,
          -10.797922,
          5.016013,
          3.7628684,
          18.376839,
          13.787755,
          20.043293,
          -4.05539,
          11.729488,
          -37.299374,
          -33.805984,
          -16.716303,
          16.400066,
          -2.4529173,
          23.091137,
          -6.694779,
          3.5190294,
          -18.291872,
          -7.705718,
          -9.793057,
          -13.274704,
          29.508158,
          -21.9776,
          -14.177629,
          15.97222,
          13.369671,
          29.67498,
          29.924833,
          -4.600275,
          -2.8105688,
          7.3406334,
          5.8404555,
          -16.437984,
          11.902474,
          36.65934,
          10.190347,
          25.134085,
          21.856205,
          15.293663,
          -33.165394,
          -31.599356,
          15.245944,
          -9.680364,
          -9.258612,
          -4.9776926,
          -33.628407,
          18.705397,
          -1.5606352,
          8.6680975,
          19.892088,
          -4.900087,
          20.201992,
          -7.9630466,
          -8.096515,
          -2.9178734,
          -25.613998,
          -18.135115,
          -25.240164,
          -5.3347044,
          19.53159,
          -23.602602,
          -16.08896,
          26.143612,
          -8.029313,
          8.089071,
          -3.9609869,
          19.193758,
          -17.044516,
          -11.098137,
          -23.751629,
          0.96972513,
          -11.491727,
          -9.768177,
          10.734227,
          19.115355,
          29.040453,
          6.3290396,
          -0.4513138,
          20.721926,
          -33.815056,
          -24.462057,
          27.866116,
          25.266748,
          -22.907402,
          -6.775808,
          9.052767,
          -18.668926,
          -3.3239744,
          -5.3364,
          29.346363,
          -4.450423,
          21.108099,
          31.942032,
          -14.206113,
          -9.167434,
          -8.805666,
          16.263784,
          11.518699,
          30.431955,
          0.4741497,
          -1.372836,
          0.4030798,
          27.531656,
          -14.361322,
          21.223154,
          -19.63306,
          -7.006842,
          -11.111915,
          -19.3045,
          17.494274,
          11.069283,
          -14.777423,
          9.560629,
          12.592411,
          -0.32660744,
          10.71734,
          -0.47671175,
          1.7282858,
          -13.196665,
          -4.2067513,
          0.1175834,
          27.046276,
          31.993256,
          -21.392523,
          -14.979167,
          13.556177,
          3.533532,
          1.1631417,
          14.664745,
          20.693079,
          -6.4162736,
          -25.894114,
          -41.89699,
          -36.147293,
          -40.891056,
          -35.129448,
          -40.438263,
          -31.604128,
          -38.57872,
          -31.253563,
          -38.493397,
          -42.98229,
          -35.212658,
          -32.29251,
          -29.980974,
          -43.912537,
          -38.943516,
          -47.019424,
          -32.48486,
          -36.18168,
          -34.22948,
          -46.207115,
          -27.429876,
          -44.40235,
          -42.05092,
          -29.808558,
          -32.564766,
          -29.200457,
          -35.488293,
          -29.845886,
          -45.307186,
          -43.01226,
          -39.74053,
          -37.686867,
          -30.852968,
          -44.178356,
          -31.30375,
          -38.072563,
          -40.749504,
          -43.51168,
          -44.733128,
          -39.798687,
          -46.496624,
          -30.822454,
          -36.74144,
          -40.143696,
          -33.645214,
          -42.60787,
          -40.943146,
          -29.578093
         ],
         "xaxis": "x",
         "y": [
          21.22378,
          -12.225279,
          9.883458,
          16.902851,
          -10.455025,
          -11.939177,
          12.868507,
          6.6901274,
          6.207736,
          -5.891646,
          12.122956,
          11.279792,
          16.583006,
          -16.754486,
          18.751692,
          -6.410283,
          17.036676,
          14.55245,
          -23.591986,
          -1.1271582,
          -14.351387,
          4.896823,
          -16.102098,
          -9.215902,
          1.9807512,
          -13.816574,
          -15.6547,
          -10.733506,
          8.652612,
          -17.405685,
          -4.9634047,
          -3.002436,
          -12.399675,
          -4.632537,
          19.334036,
          18.751692,
          7.595219,
          -6.9453564,
          7.056622,
          0.9359744,
          -4.6378756,
          -1.2021499,
          6.3638515,
          10.032874,
          7.5146017,
          2.273916,
          8.067611,
          -14.741349,
          -1.7609936,
          -7.5560226,
          19.152765,
          -7.5496707,
          -11.4641905,
          2.1263483,
          10.096893,
          -1.4811639,
          14.606382,
          5.664577,
          -1.0068004,
          8.365188,
          -3.5866451,
          8.424667,
          -2.87216,
          -1.3833094,
          -3.237624,
          13.552388,
          6.8674603,
          -5.9788027,
          7.593285,
          11.349073,
          -1.6969029,
          12.188268,
          0.9889386,
          11.929381,
          -5.9645505,
          2.1156497,
          -21.380228,
          14.591353,
          2.2159414,
          -3.5985317,
          -0.5949813,
          1.9077222,
          -24.314137,
          3.2668707,
          1.1296296,
          -0.88203675,
          9.885877,
          -3.6760557,
          -13.126238,
          19.490246,
          17.075825,
          -5.4340677,
          5.5800304,
          -5.132329,
          -3.177633,
          19.187473,
          6.239735,
          -3.6979663,
          0.9261453,
          12.905863,
          5.5315633,
          8.166972,
          -1.0930703,
          3.134988,
          -2.5187929,
          13.372095,
          14.3077755,
          7.5727468,
          -1.5136857,
          -14.537892,
          -12.734821,
          6.485577,
          -1.8837646,
          -0.08781611,
          -11.858221,
          -5.41592,
          5.498895,
          -2.1915977,
          15.090981,
          -21.879189,
          3.4695685,
          -6.193409,
          3.6976469,
          -21.070343,
          -11.528473,
          2.3835912,
          -3.2946448,
          -19.635286,
          -8.353528,
          2.0193946,
          -10.927386,
          7.063701,
          -11.987202,
          3.7877028,
          10.563392,
          11.040937,
          -2.6869721,
          -8.271768,
          -3.6754777,
          -15.409863,
          -18.304861,
          -5.90354,
          3.07784,
          -3.3533578,
          3.0827127,
          5.5794334,
          -11.142627,
          13.169614,
          -0.8604601,
          0.5445927,
          -1.9289056,
          8.194707,
          2.5212038,
          9.496038,
          -14.0046015,
          -0.88392234,
          -3.3205304,
          2.0460055,
          9.365209,
          8.883163,
          1.2715253,
          2.8847518,
          -6.8976502,
          -9.082798,
          0.9177108,
          8.52607,
          -2.7686532,
          2.8222888,
          8.749991,
          -7.9306946,
          -1.8779011,
          8.771182,
          -10.869798,
          11.502512,
          -4.8309937,
          -6.870832,
          0.761786,
          4.4785213,
          -4.2696304,
          4.773131,
          -6.7945466,
          -14.72313,
          -9.807656,
          1.0083079,
          1.2904866,
          10.913483,
          -12.9299555,
          -12.2028265,
          4.4993377,
          -3.382193,
          6.248859,
          21.456547,
          -1.0633233,
          0.52362615,
          -22.607473,
          3.999709,
          0.4282139,
          5.501777,
          -3.0571272,
          2.9521992,
          -6.7085757,
          -12.573974,
          -4.184657,
          -8.966644,
          -9.460173,
          0.66494125,
          -9.990657,
          -7.913828,
          -5.3106346,
          -9.577766,
          -6.8822994,
          -13.407571,
          2.879212,
          -10.979883,
          -13.233851,
          -17.105259,
          -10.808324,
          -5.590181,
          -2.4526794,
          -5.0538197,
          -3.2579775,
          -4.386552,
          -0.40356854,
          -10.461728,
          0.99450624,
          -8.275315,
          -2.9646242,
          -6.7992277,
          -1.6729636,
          -8.380167,
          -11.009501,
          -15.672523,
          -10.998503,
          -4.009604,
          -6.5367937,
          1.9012401,
          -4.709912,
          -11.274842,
          -9.439798,
          -11.547963,
          -6.81411,
          -2.7822978,
          -7.1571684,
          0.8178075,
          -2.7508228,
          -6.9108887,
          -4.748455,
          -5.578967,
          -5.467643
         ],
         "yaxis": "y"
        },
        {
         "customdata": [
          [
           "cóż",
           "1"
          ],
          [
           "zdarzyc błąd",
           "1"
          ]
         ],
         "hovertemplate": "HDBSCAN_Clusters=%{customdata[1]}<br>Dim1=%{x}<br>Dim2=%{y}<br>Text=%{customdata[0]}<extra></extra>",
         "legendgroup": "1",
         "marker": {
          "color": "#00cc96",
          "size": 10,
          "symbol": "circle"
         },
         "mode": "markers",
         "name": "Klaster 1",
         "orientation": "v",
         "showlegend": true,
         "type": "scatter",
         "x": [
          45.07595,
          40.223835
         ],
         "xaxis": "x",
         "y": [
          11.735792,
          12.064176
         ],
         "yaxis": "y"
        }
       ],
       "layout": {
        "legend": {
         "title": {
          "text": "HDBSCAN_Clusters"
         },
         "tracegroupgap": 0
        },
        "template": {
         "data": {
          "bar": [
           {
            "error_x": {
             "color": "#2a3f5f"
            },
            "error_y": {
             "color": "#2a3f5f"
            },
            "marker": {
             "line": {
              "color": "#E5ECF6",
              "width": 0.5
             },
             "pattern": {
              "fillmode": "overlay",
              "size": 10,
              "solidity": 0.2
             }
            },
            "type": "bar"
           }
          ],
          "barpolar": [
           {
            "marker": {
             "line": {
              "color": "#E5ECF6",
              "width": 0.5
             },
             "pattern": {
              "fillmode": "overlay",
              "size": 10,
              "solidity": 0.2
             }
            },
            "type": "barpolar"
           }
          ],
          "carpet": [
           {
            "aaxis": {
             "endlinecolor": "#2a3f5f",
             "gridcolor": "white",
             "linecolor": "white",
             "minorgridcolor": "white",
             "startlinecolor": "#2a3f5f"
            },
            "baxis": {
             "endlinecolor": "#2a3f5f",
             "gridcolor": "white",
             "linecolor": "white",
             "minorgridcolor": "white",
             "startlinecolor": "#2a3f5f"
            },
            "type": "carpet"
           }
          ],
          "choropleth": [
           {
            "colorbar": {
             "outlinewidth": 0,
             "ticks": ""
            },
            "type": "choropleth"
           }
          ],
          "contour": [
           {
            "colorbar": {
             "outlinewidth": 0,
             "ticks": ""
            },
            "colorscale": [
             [
              0,
              "#0d0887"
             ],
             [
              0.1111111111111111,
              "#46039f"
             ],
             [
              0.2222222222222222,
              "#7201a8"
             ],
             [
              0.3333333333333333,
              "#9c179e"
             ],
             [
              0.4444444444444444,
              "#bd3786"
             ],
             [
              0.5555555555555556,
              "#d8576b"
             ],
             [
              0.6666666666666666,
              "#ed7953"
             ],
             [
              0.7777777777777778,
              "#fb9f3a"
             ],
             [
              0.8888888888888888,
              "#fdca26"
             ],
             [
              1,
              "#f0f921"
             ]
            ],
            "type": "contour"
           }
          ],
          "contourcarpet": [
           {
            "colorbar": {
             "outlinewidth": 0,
             "ticks": ""
            },
            "type": "contourcarpet"
           }
          ],
          "heatmap": [
           {
            "colorbar": {
             "outlinewidth": 0,
             "ticks": ""
            },
            "colorscale": [
             [
              0,
              "#0d0887"
             ],
             [
              0.1111111111111111,
              "#46039f"
             ],
             [
              0.2222222222222222,
              "#7201a8"
             ],
             [
              0.3333333333333333,
              "#9c179e"
             ],
             [
              0.4444444444444444,
              "#bd3786"
             ],
             [
              0.5555555555555556,
              "#d8576b"
             ],
             [
              0.6666666666666666,
              "#ed7953"
             ],
             [
              0.7777777777777778,
              "#fb9f3a"
             ],
             [
              0.8888888888888888,
              "#fdca26"
             ],
             [
              1,
              "#f0f921"
             ]
            ],
            "type": "heatmap"
           }
          ],
          "heatmapgl": [
           {
            "colorbar": {
             "outlinewidth": 0,
             "ticks": ""
            },
            "colorscale": [
             [
              0,
              "#0d0887"
             ],
             [
              0.1111111111111111,
              "#46039f"
             ],
             [
              0.2222222222222222,
              "#7201a8"
             ],
             [
              0.3333333333333333,
              "#9c179e"
             ],
             [
              0.4444444444444444,
              "#bd3786"
             ],
             [
              0.5555555555555556,
              "#d8576b"
             ],
             [
              0.6666666666666666,
              "#ed7953"
             ],
             [
              0.7777777777777778,
              "#fb9f3a"
             ],
             [
              0.8888888888888888,
              "#fdca26"
             ],
             [
              1,
              "#f0f921"
             ]
            ],
            "type": "heatmapgl"
           }
          ],
          "histogram": [
           {
            "marker": {
             "pattern": {
              "fillmode": "overlay",
              "size": 10,
              "solidity": 0.2
             }
            },
            "type": "histogram"
           }
          ],
          "histogram2d": [
           {
            "colorbar": {
             "outlinewidth": 0,
             "ticks": ""
            },
            "colorscale": [
             [
              0,
              "#0d0887"
             ],
             [
              0.1111111111111111,
              "#46039f"
             ],
             [
              0.2222222222222222,
              "#7201a8"
             ],
             [
              0.3333333333333333,
              "#9c179e"
             ],
             [
              0.4444444444444444,
              "#bd3786"
             ],
             [
              0.5555555555555556,
              "#d8576b"
             ],
             [
              0.6666666666666666,
              "#ed7953"
             ],
             [
              0.7777777777777778,
              "#fb9f3a"
             ],
             [
              0.8888888888888888,
              "#fdca26"
             ],
             [
              1,
              "#f0f921"
             ]
            ],
            "type": "histogram2d"
           }
          ],
          "histogram2dcontour": [
           {
            "colorbar": {
             "outlinewidth": 0,
             "ticks": ""
            },
            "colorscale": [
             [
              0,
              "#0d0887"
             ],
             [
              0.1111111111111111,
              "#46039f"
             ],
             [
              0.2222222222222222,
              "#7201a8"
             ],
             [
              0.3333333333333333,
              "#9c179e"
             ],
             [
              0.4444444444444444,
              "#bd3786"
             ],
             [
              0.5555555555555556,
              "#d8576b"
             ],
             [
              0.6666666666666666,
              "#ed7953"
             ],
             [
              0.7777777777777778,
              "#fb9f3a"
             ],
             [
              0.8888888888888888,
              "#fdca26"
             ],
             [
              1,
              "#f0f921"
             ]
            ],
            "type": "histogram2dcontour"
           }
          ],
          "mesh3d": [
           {
            "colorbar": {
             "outlinewidth": 0,
             "ticks": ""
            },
            "type": "mesh3d"
           }
          ],
          "parcoords": [
           {
            "line": {
             "colorbar": {
              "outlinewidth": 0,
              "ticks": ""
             }
            },
            "type": "parcoords"
           }
          ],
          "pie": [
           {
            "automargin": true,
            "type": "pie"
           }
          ],
          "scatter": [
           {
            "fillpattern": {
             "fillmode": "overlay",
             "size": 10,
             "solidity": 0.2
            },
            "type": "scatter"
           }
          ],
          "scatter3d": [
           {
            "line": {
             "colorbar": {
              "outlinewidth": 0,
              "ticks": ""
             }
            },
            "marker": {
             "colorbar": {
              "outlinewidth": 0,
              "ticks": ""
             }
            },
            "type": "scatter3d"
           }
          ],
          "scattercarpet": [
           {
            "marker": {
             "colorbar": {
              "outlinewidth": 0,
              "ticks": ""
             }
            },
            "type": "scattercarpet"
           }
          ],
          "scattergeo": [
           {
            "marker": {
             "colorbar": {
              "outlinewidth": 0,
              "ticks": ""
             }
            },
            "type": "scattergeo"
           }
          ],
          "scattergl": [
           {
            "marker": {
             "colorbar": {
              "outlinewidth": 0,
              "ticks": ""
             }
            },
            "type": "scattergl"
           }
          ],
          "scattermapbox": [
           {
            "marker": {
             "colorbar": {
              "outlinewidth": 0,
              "ticks": ""
             }
            },
            "type": "scattermapbox"
           }
          ],
          "scatterpolar": [
           {
            "marker": {
             "colorbar": {
              "outlinewidth": 0,
              "ticks": ""
             }
            },
            "type": "scatterpolar"
           }
          ],
          "scatterpolargl": [
           {
            "marker": {
             "colorbar": {
              "outlinewidth": 0,
              "ticks": ""
             }
            },
            "type": "scatterpolargl"
           }
          ],
          "scatterternary": [
           {
            "marker": {
             "colorbar": {
              "outlinewidth": 0,
              "ticks": ""
             }
            },
            "type": "scatterternary"
           }
          ],
          "surface": [
           {
            "colorbar": {
             "outlinewidth": 0,
             "ticks": ""
            },
            "colorscale": [
             [
              0,
              "#0d0887"
             ],
             [
              0.1111111111111111,
              "#46039f"
             ],
             [
              0.2222222222222222,
              "#7201a8"
             ],
             [
              0.3333333333333333,
              "#9c179e"
             ],
             [
              0.4444444444444444,
              "#bd3786"
             ],
             [
              0.5555555555555556,
              "#d8576b"
             ],
             [
              0.6666666666666666,
              "#ed7953"
             ],
             [
              0.7777777777777778,
              "#fb9f3a"
             ],
             [
              0.8888888888888888,
              "#fdca26"
             ],
             [
              1,
              "#f0f921"
             ]
            ],
            "type": "surface"
           }
          ],
          "table": [
           {
            "cells": {
             "fill": {
              "color": "#EBF0F8"
             },
             "line": {
              "color": "white"
             }
            },
            "header": {
             "fill": {
              "color": "#C8D4E3"
             },
             "line": {
              "color": "white"
             }
            },
            "type": "table"
           }
          ]
         },
         "layout": {
          "annotationdefaults": {
           "arrowcolor": "#2a3f5f",
           "arrowhead": 0,
           "arrowwidth": 1
          },
          "autotypenumbers": "strict",
          "coloraxis": {
           "colorbar": {
            "outlinewidth": 0,
            "ticks": ""
           }
          },
          "colorscale": {
           "diverging": [
            [
             0,
             "#8e0152"
            ],
            [
             0.1,
             "#c51b7d"
            ],
            [
             0.2,
             "#de77ae"
            ],
            [
             0.3,
             "#f1b6da"
            ],
            [
             0.4,
             "#fde0ef"
            ],
            [
             0.5,
             "#f7f7f7"
            ],
            [
             0.6,
             "#e6f5d0"
            ],
            [
             0.7,
             "#b8e186"
            ],
            [
             0.8,
             "#7fbc41"
            ],
            [
             0.9,
             "#4d9221"
            ],
            [
             1,
             "#276419"
            ]
           ],
           "sequential": [
            [
             0,
             "#0d0887"
            ],
            [
             0.1111111111111111,
             "#46039f"
            ],
            [
             0.2222222222222222,
             "#7201a8"
            ],
            [
             0.3333333333333333,
             "#9c179e"
            ],
            [
             0.4444444444444444,
             "#bd3786"
            ],
            [
             0.5555555555555556,
             "#d8576b"
            ],
            [
             0.6666666666666666,
             "#ed7953"
            ],
            [
             0.7777777777777778,
             "#fb9f3a"
            ],
            [
             0.8888888888888888,
             "#fdca26"
            ],
            [
             1,
             "#f0f921"
            ]
           ],
           "sequentialminus": [
            [
             0,
             "#0d0887"
            ],
            [
             0.1111111111111111,
             "#46039f"
            ],
            [
             0.2222222222222222,
             "#7201a8"
            ],
            [
             0.3333333333333333,
             "#9c179e"
            ],
            [
             0.4444444444444444,
             "#bd3786"
            ],
            [
             0.5555555555555556,
             "#d8576b"
            ],
            [
             0.6666666666666666,
             "#ed7953"
            ],
            [
             0.7777777777777778,
             "#fb9f3a"
            ],
            [
             0.8888888888888888,
             "#fdca26"
            ],
            [
             1,
             "#f0f921"
            ]
           ]
          },
          "colorway": [
           "#636efa",
           "#EF553B",
           "#00cc96",
           "#ab63fa",
           "#FFA15A",
           "#19d3f3",
           "#FF6692",
           "#B6E880",
           "#FF97FF",
           "#FECB52"
          ],
          "font": {
           "color": "#2a3f5f"
          },
          "geo": {
           "bgcolor": "white",
           "lakecolor": "white",
           "landcolor": "#E5ECF6",
           "showlakes": true,
           "showland": true,
           "subunitcolor": "white"
          },
          "hoverlabel": {
           "align": "left"
          },
          "hovermode": "closest",
          "mapbox": {
           "style": "light"
          },
          "paper_bgcolor": "white",
          "plot_bgcolor": "#E5ECF6",
          "polar": {
           "angularaxis": {
            "gridcolor": "white",
            "linecolor": "white",
            "ticks": ""
           },
           "bgcolor": "#E5ECF6",
           "radialaxis": {
            "gridcolor": "white",
            "linecolor": "white",
            "ticks": ""
           }
          },
          "scene": {
           "xaxis": {
            "backgroundcolor": "#E5ECF6",
            "gridcolor": "white",
            "gridwidth": 2,
            "linecolor": "white",
            "showbackground": true,
            "ticks": "",
            "zerolinecolor": "white"
           },
           "yaxis": {
            "backgroundcolor": "#E5ECF6",
            "gridcolor": "white",
            "gridwidth": 2,
            "linecolor": "white",
            "showbackground": true,
            "ticks": "",
            "zerolinecolor": "white"
           },
           "zaxis": {
            "backgroundcolor": "#E5ECF6",
            "gridcolor": "white",
            "gridwidth": 2,
            "linecolor": "white",
            "showbackground": true,
            "ticks": "",
            "zerolinecolor": "white"
           }
          },
          "shapedefaults": {
           "line": {
            "color": "#2a3f5f"
           }
          },
          "ternary": {
           "aaxis": {
            "gridcolor": "white",
            "linecolor": "white",
            "ticks": ""
           },
           "baxis": {
            "gridcolor": "white",
            "linecolor": "white",
            "ticks": ""
           },
           "bgcolor": "#E5ECF6",
           "caxis": {
            "gridcolor": "white",
            "linecolor": "white",
            "ticks": ""
           }
          },
          "title": {
           "x": 0.05
          },
          "xaxis": {
           "automargin": true,
           "gridcolor": "white",
           "linecolor": "white",
           "ticks": "",
           "title": {
            "standoff": 15
           },
           "zerolinecolor": "white",
           "zerolinewidth": 2
          },
          "yaxis": {
           "automargin": true,
           "gridcolor": "white",
           "linecolor": "white",
           "ticks": "",
           "title": {
            "standoff": 15
           },
           "zerolinecolor": "white",
           "zerolinewidth": 2
          }
         }
        },
        "title": {
         "font": {
          "size": 20
         },
         "text": "Klasteryzacja z wykorzystaniem HDBSCAN dla osadzeń tekstów z Universal Sentence Encoder",
         "x": 0.5
        },
        "xaxis": {
         "anchor": "y",
         "domain": [
          0,
          1
         ],
         "title": {
          "text": "Dim1"
         }
        },
        "yaxis": {
         "anchor": "x",
         "domain": [
          0,
          1
         ],
         "title": {
          "text": "Dim2"
         }
        }
       }
      }
     },
     "metadata": {},
     "output_type": "display_data"
    }
   ],
   "source": [
    "clusterer_hdbscan = hdbscan.HDBSCAN(min_cluster_size=2, min_samples=5)\n",
    "clusters_hdbscan_use = clusterer_hdbscan.fit_predict(embeddings)\n",
    "tsne_df_use['HDBSCAN_Clusters'] = clusters_hdbscan_use\n",
    "tsne_df_use['HDBSCAN_Clusters'] = tsne_df_use['HDBSCAN_Clusters'].astype(str)\n",
    "\n",
    "fig_hdbscan = px.scatter(\n",
    "    tsne_df_use, x='Dim1', y='Dim2', \n",
    "    color='HDBSCAN_Clusters', hover_data=['Text', 'HDBSCAN_Clusters'],\n",
    "    title='Klasteryzacja z wykorzystaniem HDBSCAN dla osadzeń tekstów z Universal Sentence Encoder',\n",
    ")\n",
    "\n",
    "fig_hdbscan.update_traces(marker=dict(size=10))\n",
    "fig_hdbscan.update_layout(\n",
    "    title_x=0.5,\n",
    "    title_font=dict(size=20)\n",
    ")\n",
    "\n",
    "fig_hdbscan.for_each_trace(lambda t: t.update(name=f'Klaster {t.name}', legendgroup=t.name))\n",
    "\n",
    "fig_hdbscan.show()"
   ]
  }
 ],
 "metadata": {
  "kernelspec": {
   "display_name": "Python 3",
   "language": "python",
   "name": "python3"
  },
  "language_info": {
   "codemirror_mode": {
    "name": "ipython",
    "version": 3
   },
   "file_extension": ".py",
   "mimetype": "text/x-python",
   "name": "python",
   "nbconvert_exporter": "python",
   "pygments_lexer": "ipython3",
   "version": "3.10.8"
  }
 },
 "nbformat": 4,
 "nbformat_minor": 2
}
