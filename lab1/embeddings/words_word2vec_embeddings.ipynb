{
 "cells": [
  {
   "cell_type": "code",
   "execution_count": 1,
   "metadata": {},
   "outputs": [],
   "source": [
    "from gensim.models import KeyedVectors\n",
    "from sklearn.manifold import TSNE\n",
    "import plotly.express as px\n",
    "import pandas as pd\n",
    "import numpy as np"
   ]
  },
  {
   "cell_type": "code",
   "execution_count": 2,
   "metadata": {},
   "outputs": [],
   "source": [
    "model_path = 'nkjp+wiki-forms-all-100-cbow-hs.txt'\n",
    "model = KeyedVectors.load_word2vec_format(model_path, binary=False)\n"
   ]
  },
  {
   "cell_type": "code",
   "execution_count": 3,
   "metadata": {},
   "outputs": [
    {
     "name": "stdout",
     "output_type": "stream",
     "text": [
      "        word sentiment\n",
      "0  wszystkie   Neutral\n",
      "1    luzacki  Positive\n",
      "2      nudne  Negative\n",
      "3  wporzadku  Positive\n",
      "4     groźny  Negative\n"
     ]
    }
   ],
   "source": [
    "df = pd.read_csv('../annotations/words/all_words.csv')\n",
    "print(df.head())"
   ]
  },
  {
   "cell_type": "code",
   "execution_count": 8,
   "metadata": {},
   "outputs": [
    {
     "data": {
      "text/html": [
       "<div>\n",
       "<style scoped>\n",
       "    .dataframe tbody tr th:only-of-type {\n",
       "        vertical-align: middle;\n",
       "    }\n",
       "\n",
       "    .dataframe tbody tr th {\n",
       "        vertical-align: top;\n",
       "    }\n",
       "\n",
       "    .dataframe thead th {\n",
       "        text-align: right;\n",
       "    }\n",
       "</style>\n",
       "<table border=\"1\" class=\"dataframe\">\n",
       "  <thead>\n",
       "    <tr style=\"text-align: right;\">\n",
       "      <th></th>\n",
       "      <th>word</th>\n",
       "      <th>sentiment</th>\n",
       "      <th>embedding</th>\n",
       "    </tr>\n",
       "  </thead>\n",
       "  <tbody>\n",
       "    <tr>\n",
       "      <th>0</th>\n",
       "      <td>wszystkie</td>\n",
       "      <td>Neutral</td>\n",
       "      <td>[-2.297204, 1.9608, -0.525082, 2.372554, -0.15...</td>\n",
       "    </tr>\n",
       "    <tr>\n",
       "      <th>1</th>\n",
       "      <td>luzacki</td>\n",
       "      <td>Positive</td>\n",
       "      <td>[-0.152554, -0.560976, 0.308668, 0.333914, -0....</td>\n",
       "    </tr>\n",
       "    <tr>\n",
       "      <th>2</th>\n",
       "      <td>nudne</td>\n",
       "      <td>Negative</td>\n",
       "      <td>[0.64328, -1.358317, 1.081548, 1.442256, -0.99...</td>\n",
       "    </tr>\n",
       "    <tr>\n",
       "      <th>3</th>\n",
       "      <td>wporzadku</td>\n",
       "      <td>Positive</td>\n",
       "      <td>[1.384761, 0.213649, 0.392168, 1.123134, -0.52...</td>\n",
       "    </tr>\n",
       "    <tr>\n",
       "      <th>4</th>\n",
       "      <td>groźny</td>\n",
       "      <td>Negative</td>\n",
       "      <td>[0.519366, -0.409377, -0.176712, 0.629131, 0.6...</td>\n",
       "    </tr>\n",
       "  </tbody>\n",
       "</table>\n",
       "</div>"
      ],
      "text/plain": [
       "        word sentiment                                          embedding\n",
       "0  wszystkie   Neutral  [-2.297204, 1.9608, -0.525082, 2.372554, -0.15...\n",
       "1    luzacki  Positive  [-0.152554, -0.560976, 0.308668, 0.333914, -0....\n",
       "2      nudne  Negative  [0.64328, -1.358317, 1.081548, 1.442256, -0.99...\n",
       "3  wporzadku  Positive  [1.384761, 0.213649, 0.392168, 1.123134, -0.52...\n",
       "4     groźny  Negative  [0.519366, -0.409377, -0.176712, 0.629131, 0.6..."
      ]
     },
     "execution_count": 8,
     "metadata": {},
     "output_type": "execute_result"
    }
   ],
   "source": [
    "def get_word_embedding(word):\n",
    "    try:\n",
    "        return model[word]\n",
    "    except KeyError:\n",
    "        return np.zeros(model.vector_size)\n",
    "\n",
    "df['embedding'] = df['word'].apply(get_word_embedding)\n",
    "\n",
    "df.head()\n"
   ]
  },
  {
   "cell_type": "code",
   "execution_count": 5,
   "metadata": {},
   "outputs": [
    {
     "data": {
      "application/vnd.plotly.v1+json": {
       "config": {
        "plotlyServerURL": "https://plot.ly"
       },
       "data": [
        {
         "customdata": [
          [
           "wszystkie",
           "Neutral"
          ],
          [
           "mieszane",
           "Neutral"
          ],
          [
           "duza",
           "Neutral"
          ],
          [
           "totalny",
           "Neutral"
          ],
          [
           "symetri",
           "Neutral"
          ],
          [
           "grubym",
           "Neutral"
          ],
          [
           "drewniany",
           "Neutral"
          ],
          [
           "drugiej",
           "Neutral"
          ],
          [
           "niektórych",
           "Neutral"
          ],
          [
           "jasno",
           "Neutral"
          ],
          [
           "prosta",
           "Neutral"
          ],
          [
           "niewtajemniczonych",
           "Neutral"
          ],
          [
           "pożytecznego",
           "Neutral"
          ],
          [
           "wszelkich",
           "Neutral"
          ],
          [
           "większych",
           "Neutral"
          ],
          [
           "trudniejszymi",
           "Neutral"
          ],
          [
           "średnio",
           "Neutral"
          ],
          [
           "sporo",
           "Neutral"
          ],
          [
           "pierwszym",
           "Neutral"
          ],
          [
           "drugim",
           "Neutral"
          ],
          [
           "gadających",
           "Neutral"
          ],
          [
           "pierwszy",
           "Neutral"
          ],
          [
           "innego",
           "Neutral"
          ],
          [
           "pierwsza",
           "Neutral"
          ],
          [
           "najlatwiejsze",
           "Neutral"
          ],
          [
           "porządnie",
           "Neutral"
          ],
          [
           "łatwe",
           "Neutral"
          ],
          [
           "zeszłoroczny",
           "Neutral"
          ],
          [
           "zrozumiały",
           "Neutral"
          ],
          [
           "latwych",
           "Neutral"
          ],
          [
           "pierwszych",
           "Neutral"
          ],
          [
           "krotka",
           "Neutral"
          ],
          [
           "przypadkowe",
           "Neutral"
          ],
          [
           "ważnego",
           "Neutral"
          ],
          [
           "matematyczna",
           "Neutral"
          ],
          [
           "proste",
           "Neutral"
          ],
          [
           "wnikliwe",
           "Neutral"
          ],
          [
           "trudniejsze",
           "Neutral"
          ],
          [
           "następnym",
           "Neutral"
          ],
          [
           "kolejne",
           "Neutral"
          ],
          [
           "takiego",
           "Neutral"
          ],
          [
           "specjalnie",
           "Neutral"
          ],
          [
           "początkujących",
           "Neutral"
          ],
          [
           "powyższych",
           "Neutral"
          ],
          [
           "ostatniej",
           "Neutral"
          ],
          [
           "wielka",
           "Neutral"
          ],
          [
           "przpity",
           "Neutral"
          ],
          [
           "pierwsze",
           "Neutral"
          ],
          [
           "wysokie",
           "Neutral"
          ],
          [
           "ciężkie",
           "Neutral"
          ],
          [
           "odfajkowane",
           "Neutral"
          ],
          [
           "analityczną",
           "Neutral"
          ],
          [
           "zakręconym",
           "Neutral"
          ],
          [
           "banalne",
           "Neutral"
          ],
          [
           "pozmieniane",
           "Neutral"
          ],
          [
           "normalny",
           "Neutral"
          ],
          [
           "przygotowanym",
           "Neutral"
          ],
          [
           "teoretyczny",
           "Neutral"
          ],
          [
           "każdych",
           "Neutral"
          ],
          [
           "japonskiego",
           "Neutral"
          ],
          [
           "odpowiednie",
           "Neutral"
          ],
          [
           "specyficzne",
           "Neutral"
          ],
          [
           "dowcipny",
           "Neutral"
          ],
          [
           "jakies",
           "Neutral"
          ],
          [
           "najtrudniejsze",
           "Neutral"
          ],
          [
           "nieusprawiedliwioną",
           "Neutral"
          ],
          [
           "końcową",
           "Neutral"
          ],
          [
           "każda",
           "Neutral"
          ],
          [
           "krótki",
           "Neutral"
          ],
          [
           "niezapowiedzianych",
           "Neutral"
          ],
          [
           "zapowiedzianych",
           "Neutral"
          ],
          [
           "najmniejszego",
           "Neutral"
          ],
          [
           "nieorganiczna",
           "Neutral"
          ],
          [
           "najniższa",
           "Neutral"
          ],
          [
           "powyzszymi",
           "Neutral"
          ],
          [
           "zapowiedziane",
           "Neutral"
          ],
          [
           "mogące",
           "Neutral"
          ],
          [
           "dodatkowe",
           "Neutral"
          ],
          [
           "swoich",
           "Neutral"
          ],
          [
           "gadajace",
           "Neutral"
          ],
          [
           "przylapane",
           "Neutral"
          ],
          [
           "popchnięty",
           "Neutral"
          ],
          [
           "międzynarodowe",
           "Neutral"
          ],
          [
           "międzynarodowa",
           "Neutral"
          ],
          [
           "nikłe",
           "Neutral"
          ],
          [
           "elektryczny",
           "Neutral"
          ],
          [
           "ważny",
           "Neutral"
          ],
          [
           "naga",
           "Neutral"
          ],
          [
           "duzych",
           "Neutral"
          ],
          [
           "dowolna",
           "Neutral"
          ],
          [
           "naszej",
           "Neutral"
          ],
          [
           "ogólne",
           "Neutral"
          ],
          [
           "najprostszy",
           "Neutral"
          ],
          [
           "różne",
           "Neutral"
          ],
          [
           "każde",
           "Neutral"
          ],
          [
           "staropolskie",
           "Neutral"
          ],
          [
           "starszy",
           "Neutral"
          ],
          [
           "swoimi",
           "Neutral"
          ],
          [
           "opracowanymi",
           "Neutral"
          ],
          [
           "przeróżne",
           "Neutral"
          ],
          [
           "dodatkowej",
           "Neutral"
          ],
          [
           "zaliczeniowy",
           "Neutral"
          ],
          [
           "całych",
           "Neutral"
          ],
          [
           "zestresowany",
           "Neutral"
          ],
          [
           "duzy",
           "Neutral"
          ],
          [
           "mojej",
           "Neutral"
          ],
          [
           "inne",
           "Neutral"
          ],
          [
           "jego",
           "Neutral"
          ],
          [
           "jedną",
           "Neutral"
          ],
          [
           "zapowiedzianą",
           "Neutral"
          ],
          [
           "trzecim",
           "Neutral"
          ],
          [
           "absolutnej",
           "Neutral"
          ],
          [
           "absolutny",
           "Neutral"
          ],
          [
           "standardowe",
           "Neutral"
          ],
          [
           "małą",
           "Neutral"
          ],
          [
           "lewą",
           "Neutral"
          ],
          [
           "całe",
           "Neutral"
          ],
          [
           "graficzny",
           "Neutral"
          ],
          [
           "kazde",
           "Neutral"
          ],
          [
           "grupowa",
           "Neutral"
          ],
          [
           "wymyślonej",
           "Neutral"
          ],
          [
           "wszystkimi",
           "Neutral"
          ],
          [
           "głośno",
           "Neutral"
          ],
          [
           "zdecydowanie",
           "Neutral"
          ],
          [
           "jakiś",
           "Neutral"
          ],
          [
           "oparty",
           "Neutral"
          ],
          [
           "wlasnych",
           "Neutral"
          ],
          [
           "wasz",
           "Neutral"
          ],
          [
           "rozwiazywane",
           "Neutral"
          ],
          [
           "pare",
           "Neutral"
          ],
          [
           "dana",
           "Neutral"
          ],
          [
           "ii",
           "Neutral"
          ],
          [
           "dostali",
           "Neutral"
          ],
          [
           "dużo",
           "Neutral"
          ],
          [
           "zaliczniowe",
           "Neutral"
          ],
          [
           "złym",
           "Neutral"
          ],
          [
           "ogolna",
           "Neutral"
          ],
          [
           "analitycznej",
           "Neutral"
          ],
          [
           "licznymi",
           "Neutral"
          ],
          [
           "swój",
           "Neutral"
          ],
          [
           "wyspany",
           "Neutral"
          ],
          [
           "nieobecnego",
           "Neutral"
          ],
          [
           "kolejnych",
           "Neutral"
          ],
          [
           "aluminiowej",
           "Neutral"
          ],
          [
           "bezprzewodowych",
           "Neutral"
          ],
          [
           "bezprzewodową",
           "Neutral"
          ],
          [
           "budowniczy",
           "Neutral"
          ],
          [
           "błyskowej",
           "Neutral"
          ],
          [
           "calej",
           "Neutral"
          ],
          [
           "całkowitym",
           "Neutral"
          ],
          [
           "chiński",
           "Neutral"
          ],
          [
           "cicha",
           "Neutral"
          ],
          [
           "cienki",
           "Neutral"
          ],
          [
           "ciepłej",
           "Neutral"
          ],
          [
           "ciężki",
           "Neutral"
          ],
          [
           "cięższych",
           "Neutral"
          ],
          [
           "cyfrowymi",
           "Neutral"
          ],
          [
           "częste",
           "Neutral"
          ],
          [
           "delikatna",
           "Neutral"
          ],
          [
           "delikatnego",
           "Neutral"
          ],
          [
           "delikatnie",
           "Neutral"
          ],
          [
           "dezynfekcyjnym",
           "Neutral"
          ],
          [
           "dodatkowych",
           "Neutral"
          ],
          [
           "dolnymi",
           "Neutral"
          ],
          [
           "dostępny",
           "Neutral"
          ],
          [
           "dowolnego",
           "Neutral"
          ],
          [
           "dołączonej",
           "Neutral"
          ],
          [
           "drewnianym",
           "Neutral"
          ],
          [
           "drobnej",
           "Neutral"
          ],
          [
           "drogi",
           "Neutral"
          ],
          [
           "drogie",
           "Neutral"
          ],
          [
           "droższy",
           "Neutral"
          ],
          [
           "drugi",
           "Neutral"
          ],
          [
           "drugie",
           "Neutral"
          ],
          [
           "drugą",
           "Neutral"
          ],
          [
           "drukowaną",
           "Neutral"
          ],
          [
           "dużego",
           "Neutral"
          ],
          [
           "duży",
           "Neutral"
          ],
          [
           "dużą",
           "Neutral"
          ],
          [
           "dwuletni",
           "Neutral"
          ],
          [
           "dziennej",
           "Neutral"
          ],
          [
           "długiej",
           "Neutral"
          ],
          [
           "długo",
           "Neutral"
          ],
          [
           "dżwiękową",
           "Neutral"
          ],
          [
           "ewidentne",
           "Neutral"
          ],
          [
           "fabryczne",
           "Neutral"
          ],
          [
           "fabrycznych",
           "Neutral"
          ],
          [
           "fotograficzny",
           "Neutral"
          ],
          [
           "glosny",
           "Neutral"
          ],
          [
           "gotowane",
           "Neutral"
          ],
          [
           "grzejnego",
           "Neutral"
          ],
          [
           "grzewczą",
           "Neutral"
          ],
          [
           "gumowa",
           "Neutral"
          ],
          [
           "górnej",
           "Neutral"
          ],
          [
           "głośna",
           "Neutral"
          ],
          [
           "głośne",
           "Neutral"
          ],
          [
           "głośnomówiące",
           "Neutral"
          ],
          [
           "głośnomówiący",
           "Neutral"
          ],
          [
           "głośny",
           "Neutral"
          ],
          [
           "głębsze",
           "Neutral"
          ],
          [
           "identycznej",
           "Neutral"
          ],
          [
           "identyczny",
           "Neutral"
          ],
          [
           "innej",
           "Neutral"
          ],
          [
           "inny",
           "Neutral"
          ],
          [
           "innych",
           "Neutral"
          ],
          [
           "innym",
           "Neutral"
          ],
          [
           "jednorazowy",
           "Neutral"
          ],
          [
           "jedynym",
           "Neutral"
          ],
          [
           "kilkukrotne",
           "Neutral"
          ],
          [
           "kilkuminutowe",
           "Neutral"
          ],
          [
           "kolejna",
           "Neutral"
          ],
          [
           "kompletna",
           "Neutral"
          ],
          [
           "końcowego",
           "Neutral"
          ],
          [
           "lekka",
           "Neutral"
          ],
          [
           "lekkich",
           "Neutral"
          ],
          [
           "lewy",
           "Neutral"
          ],
          [
           "lokalnym",
           "Neutral"
          ],
          [
           "luźna",
           "Neutral"
          ],
          [
           "lżejszy",
           "Neutral"
          ],
          [
           "matowe",
           "Neutral"
          ],
          [
           "małe",
           "Neutral"
          ],
          [
           "małej",
           "Neutral"
          ],
          [
           "mały",
           "Neutral"
          ],
          [
           "małym",
           "Neutral"
          ],
          [
           "mechaniczne",
           "Neutral"
          ],
          [
           "mocnego",
           "Neutral"
          ],
          [
           "moim",
           "Neutral"
          ],
          [
           "najtańsza",
           "Neutral"
          ],
          [
           "największa",
           "Neutral"
          ],
          [
           "największego",
           "Neutral"
          ],
          [
           "największych",
           "Neutral"
          ],
          [
           "najwyższej",
           "Neutral"
          ],
          [
           "następny",
           "Neutral"
          ],
          [
           "nasza",
           "Neutral"
          ],
          [
           "niebieskiej",
           "Neutral"
          ],
          [
           "nieprzywierającej",
           "Neutral"
          ],
          [
           "nieruchomej",
           "Neutral"
          ],
          [
           "niskie",
           "Neutral"
          ],
          [
           "niskiej",
           "Neutral"
          ],
          [
           "niską",
           "Neutral"
          ],
          [
           "niszowy",
           "Neutral"
          ],
          [
           "normalnego",
           "Neutral"
          ],
          [
           "nowa",
           "Neutral"
          ],
          [
           "nowego",
           "Neutral"
          ],
          [
           "nowszym",
           "Neutral"
          ],
          [
           "nowy",
           "Neutral"
          ],
          [
           "obsługiwanych",
           "Neutral"
          ],
          [
           "oczkowych",
           "Neutral"
          ],
          [
           "ogromna",
           "Neutral"
          ],
          [
           "ogromną",
           "Neutral"
          ],
          [
           "ostry",
           "Neutral"
          ],
          [
           "palonym",
           "Neutral"
          ],
          [
           "pierwszego",
           "Neutral"
          ],
          [
           "plastikowych",
           "Neutral"
          ],
          [
           "plastikwoe",
           "Neutral"
          ],
          [
           "początkowej",
           "Neutral"
          ],
          [
           "początkującego",
           "Neutral"
          ],
          [
           "początkującym",
           "Neutral"
          ],
          [
           "podniesionrgo",
           "Neutral"
          ],
          [
           "podwyższone",
           "Neutral"
          ],
          [
           "podłączona",
           "Neutral"
          ],
          [
           "pojedynczego",
           "Neutral"
          ],
          [
           "potrzebne",
           "Neutral"
          ],
          [
           "poważne",
           "Neutral"
          ],
          [
           "powtarzalna",
           "Neutral"
          ],
          [
           "powyginanym",
           "Neutral"
          ],
          [
           "powyższy",
           "Neutral"
          ],
          [
           "prostych",
           "Neutral"
          ],
          [
           "przeciwnym",
           "Neutral"
          ],
          [
           "przewodowej",
           "Neutral"
          ],
          [
           "pyzatym",
           "Neutral"
          ],
          [
           "płatnej",
           "Neutral"
          ],
          [
           "regulowanej",
           "Neutral"
          ],
          [
           "ruchomej",
           "Neutral"
          ],
          [
           "równym",
           "Neutral"
          ],
          [
           "różnych",
           "Neutral"
          ],
          [
           "różnym",
           "Neutral"
          ],
          [
           "samoczynnego",
           "Neutral"
          ],
          [
           "samoczynnych",
           "Neutral"
          ],
          [
           "silikonowe",
           "Neutral"
          ],
          [
           "skończone",
           "Neutral"
          ],
          [
           "specjalnym",
           "Neutral"
          ],
          [
           "sporym",
           "Neutral"
          ],
          [
           "spotykanej",
           "Neutral"
          ],
          [
           "starszych",
           "Neutral"
          ],
          [
           "suchą",
           "Neutral"
          ],
          [
           "szczególną",
           "Neutral"
          ],
          [
           "szeroka",
           "Neutral"
          ],
          [
           "szlifierską",
           "Neutral"
          ],
          [
           "sztywna",
           "Neutral"
          ],
          [
           "sztywny",
           "Neutral"
          ],
          [
           "szybki",
           "Neutral"
          ],
          [
           "taki",
           "Neutral"
          ],
          [
           "taką",
           "Neutral"
          ],
          [
           "tani",
           "Neutral"
          ],
          [
           "taniego",
           "Neutral"
          ],
          [
           "tańszego",
           "Neutral"
          ],
          [
           "tańszych",
           "Neutral"
          ],
          [
           "tańszą",
           "Neutral"
          ],
          [
           "teflonowych",
           "Neutral"
          ],
          [
           "ten",
           "Neutral"
          ],
          [
           "tradyzyjnej",
           "Neutral"
          ],
          [
           "trudny",
           "Neutral"
          ],
          [
           "trzecia",
           "Neutral"
          ],
          [
           "twarde",
           "Neutral"
          ],
          [
           "tłusta",
           "Neutral"
          ],
          [
           "ujemny",
           "Neutral"
          ],
          [
           "umieszczonej",
           "Neutral"
          ],
          [
           "ważnym",
           "Neutral"
          ],
          [
           "weterynaryjnych",
           "Neutral"
          ],
          [
           "widoczne",
           "Neutral"
          ],
          [
           "widoczną",
           "Neutral"
          ],
          [
           "wielkich",
           "Neutral"
          ],
          [
           "wielokrotny",
           "Neutral"
          ],
          [
           "większa",
           "Neutral"
          ],
          [
           "większy",
           "Neutral"
          ],
          [
           "większym",
           "Neutral"
          ],
          [
           "wyciszone",
           "Neutral"
          ],
          [
           "wyraźne",
           "Neutral"
          ],
          [
           "wyssane",
           "Neutral"
          ],
          [
           "wysuniętym",
           "Neutral"
          ],
          [
           "wyższej",
           "Neutral"
          ],
          [
           "wąskie",
           "Neutral"
          ],
          [
           "węglowe",
           "Neutral"
          ],
          [
           "własnego",
           "Neutral"
          ],
          [
           "własnej",
           "Neutral"
          ],
          [
           "własnych",
           "Neutral"
          ],
          [
           "zaawansowani",
           "Neutral"
          ],
          [
           "zachlapane",
           "Neutral"
          ],
          [
           "zadymione",
           "Neutral"
          ],
          [
           "zaskoczony",
           "Neutral"
          ],
          [
           "znaczącą",
           "Neutral"
          ],
          [
           "zwykły",
           "Neutral"
          ],
          [
           "zwykłym",
           "Neutral"
          ],
          [
           "ładującego",
           "Neutral"
          ],
          [
           "łatwy",
           "Neutral"
          ],
          [
           "śliskim",
           "Neutral"
          ],
          [
           "śmieszne",
           "Neutral"
          ],
          [
           "średnie",
           "Neutral"
          ],
          [
           "środkowym",
           "Neutral"
          ],
          [
           "świecących",
           "Neutral"
          ]
         ],
         "hovertemplate": "sentiment=%{customdata[1]}<br>word=%{customdata[0]}<extra></extra>",
         "legendgroup": "Neutral",
         "marker": {
          "color": "#636efa",
          "symbol": "circle"
         },
         "mode": "markers",
         "name": "Neutral",
         "orientation": "v",
         "showlegend": true,
         "textposition": "top center",
         "type": "scatter",
         "x": [
          -5.539434432983398,
          -3.2693986892700195,
          4.295856475830078,
          -16.750680923461914,
          1.213869333267212,
          2.5899293422698975,
          -0.44023987650871277,
          -0.4136698842048645,
          13.171061515808105,
          -8.654377937316895,
          -0.737826943397522,
          -5.331650733947754,
          18.985885620117188,
          11.662841796875,
          11.656753540039062,
          -0.5419730544090271,
          -5.352921485900879,
          13.168058395385742,
          7.981601238250732,
          7.857233047485352,
          7.098380088806152,
          -18.849552154541016,
          21.314918518066406,
          -6.197956085205078,
          2.0577783584594727,
          -8.192512512207031,
          6.3306474685668945,
          -17.003795623779297,
          -18.59709358215332,
          3.9250638484954834,
          15.225777626037598,
          4.364604473114014,
          7.027223587036133,
          18.6029052734375,
          -2.3051393032073975,
          4.268679618835449,
          1.186576008796692,
          7.654922962188721,
          8.233177185058594,
          -5.93743896484375,
          21.177448272705078,
          -5.950529098510742,
          -5.438508033752441,
          13.424595832824707,
          0.012480281293392181,
          -4.1027607917785645,
          1.672871708869934,
          -7.737104415893555,
          -1.4764366149902344,
          0.7840124368667603,
          3.151962995529175,
          6.615977764129639,
          2.0409412384033203,
          4.655902862548828,
          3.818511486053467,
          -19.348512649536133,
          4.881749629974365,
          -14.043794631958008,
          14.334819793701172,
          3.0230870246887207,
          -4.132621765136719,
          -0.8730830550193787,
          -14.318772315979004,
          7.436594486236572,
          6.118844509124756,
          -3.0543153285980225,
          9.871757507324219,
          -7.49407434463501,
          -19.699113845825195,
          4.268313407897949,
          5.1982035636901855,
          20.79051399230957,
          -0.65794837474823,
          -3.514350175857544,
          0.27028825879096985,
          3.5050511360168457,
          -9.80799388885498,
          -4.240718364715576,
          12.139058113098145,
          0.6696770191192627,
          2.176335096359253,
          -4.083590030670166,
          -6.036510467529297,
          -5.644820690155029,
          -0.062203917652368546,
          -14.06811237335205,
          -20.62029457092285,
          -1.8803294897079468,
          9.193242073059082,
          -2.7228076457977295,
          -1.7960834503173828,
          -0.40640103816986084,
          -20.97373390197754,
          -4.434964656829834,
          7.266822814941406,
          -1.123113989830017,
          -10.730316162109375,
          12.735867500305176,
          5.171802520751953,
          -4.775486946105957,
          -2.618433952331543,
          -3.2245726585388184,
          13.494035720825195,
          -9.820069313049316,
          -22.607099533081055,
          -1.8301081657409668,
          -4.008754253387451,
          -2.1423075199127197,
          8.166492462158203,
          5.074344635009766,
          7.916229248046875,
          1.377587080001831,
          -16.829448699951172,
          -3.17646861076355,
          10.34571647644043,
          8.905411720275879,
          -6.5866007804870605,
          -15.70851993560791,
          7.274113178253174,
          -6.986621856689453,
          3.302509069442749,
          12.734452247619629,
          -8.852282524108887,
          -4.037907123565674,
          -22.127588272094727,
          -12.769370079040527,
          9.135143280029297,
          -17.981727600097656,
          2.2668192386627197,
          13.005330085754395,
          -8.106215476989746,
          -1.6350561380386353,
          -0.11682771891355515,
          13.199881553649902,
          2.176335096359253,
          3.6265697479248047,
          3.9197843074798584,
          2.0185282230377197,
          0.06215779483318329,
          -22.230257034301758,
          -9.51097297668457,
          1.2068246603012085,
          14.921069145202637,
          0.19387106597423553,
          7.815265655517578,
          6.980757713317871,
          -1.7454016208648682,
          7.942931652069092,
          2.9486870765686035,
          4.811320781707764,
          -12.657180786132812,
          -3.051379919052124,
          -15.292588233947754,
          5.15689754486084,
          -18.598468780517578,
          11.923460006713867,
          -0.4636232554912567,
          1.1521389484405518,
          -0.19656844437122345,
          16.9215030670166,
          -7.060244560241699,
          2.6870505809783936,
          10.767400741577148,
          0.8899001479148865,
          -10.591889381408691,
          20.786062240600586,
          -1.1910791397094727,
          0.3492158353328705,
          0.8920071721076965,
          -1.7511425018310547,
          3.51629900932312,
          -12.673151969909668,
          -18.927827835083008,
          -7.913000106811523,
          9.778107643127441,
          5.142046928405762,
          18.209026336669922,
          -18.78834342956543,
          11.916053771972656,
          8.385104179382324,
          2.38189959526062,
          0.8918577432632446,
          -9.596526145935059,
          3.629089593887329,
          6.828494071960449,
          -4.2444562911987305,
          10.260367393493652,
          -14.83703327178955,
          -8.186573028564453,
          3.7929959297180176,
          -2.1568331718444824,
          6.923990249633789,
          -0.6574188470840454,
          0.010837148874998093,
          -2.463907480239868,
          3.9874770641326904,
          -4.693506717681885,
          -14.80726146697998,
          -16.739999771118164,
          -2.7888357639312744,
          -1.4514116048812866,
          -22.433074951171875,
          -2.3275511264801025,
          -20.127717971801758,
          12.759868621826172,
          5.57337760925293,
          -18.792686462402344,
          2.2151939868927,
          3.9190948009490967,
          4.029099941253662,
          -6.056994915008545,
          -2.867455005645752,
          20.413301467895508,
          -3.555147886276245,
          10.912749290466309,
          -2.247213363647461,
          4.460000038146973,
          -1.052260398864746,
          -12.983203887939453,
          0.6385847926139832,
          -1.4805933237075806,
          0.5191746950149536,
          -17.83955192565918,
          4.131916522979736,
          -3.9115684032440186,
          16.90419578552246,
          -2.2553608417510986,
          -2.5080924034118652,
          -5.100917816162109,
          17.126113891601562,
          17.381494522094727,
          -2.3484339714050293,
          -19.13821029663086,
          -5.027805805206299,
          -0.6145059466362,
          0.9703211188316345,
          -0.41792771220207214,
          -1.492984414100647,
          -4.127985000610352,
          11.518308639526367,
          -14.015338897705078,
          19.522645950317383,
          -5.126051902770996,
          19.06314468383789,
          4.0264739990234375,
          -19.92070770263672,
          6.033248424530029,
          2.6315574645996094,
          -4.313435077667236,
          12.154438972473145,
          -16.90333366394043,
          3.316910982131958,
          19.46595001220703,
          9.115314483642578,
          1.1507624387741089,
          -0.7884279489517212,
          -4.715295314788818,
          5.060272693634033,
          2.095538377761841,
          -1.3635408878326416,
          1.2545183897018433,
          20.730154037475586,
          5.727545261383057,
          -0.20614653825759888,
          -1.316963791847229,
          1.7729454040527344,
          -23.10276985168457,
          11.832406044006348,
          6.618734836578369,
          7.162778854370117,
          2.0456695556640625,
          -3.281869649887085,
          -2.2292802333831787,
          -0.6894928812980652,
          5.397634029388428,
          13.133766174316406,
          5.272608757019043,
          -1.2717902660369873,
          6.679692268371582,
          -0.08541590720415115,
          7.345005035400391,
          3.8516995906829834,
          3.670102596282959,
          1.779563069343567,
          13.396653175354004,
          9.040769577026367,
          12.984402656555176,
          -0.984023928642273,
          2.902981758117676,
          -0.8628127574920654,
          -14.91158390045166,
          -17.638813018798828,
          -22.068193435668945,
          12.102137565612793,
          -17.436019897460938,
          15.884469032287598,
          15.818675994873047,
          12.246110916137695,
          12.514816284179688,
          5.196213245391846,
          -22.37286949157715,
          1.0524200201034546,
          -20.50421905517578,
          -6.255368232727051,
          -0.00054317491594702,
          -1.2825416326522827,
          -15.484575271606445,
          -0.7376388311386108,
          2.2811851501464844,
          9.18073558807373,
          1.5384913682937622,
          9.429499626159668,
          12.894463539123535,
          -7.338870048522949,
          -4.7608962059021,
          -13.718692779541016,
          4.864539623260498,
          1.9336305856704712,
          0.11805419623851776,
          7.906983852386475,
          1.3662526607513428,
          -3.6948764324188232,
          1.0090781450271606,
          -5.010452747344971,
          20.265701293945312,
          -1.9725680351257324,
          11.932923316955566,
          -0.7382188439369202,
          0.09073732048273087,
          1.734284520149231,
          -10.276227951049805,
          12.636563301086426,
          -19.320571899414062,
          3.2909042835235596,
          -0.298098623752594,
          -19.684223175048828,
          3.342437982559204,
          5.417756080627441,
          -3.026123523712158,
          1.5343371629714966,
          7.4483537673950195
         ],
         "xaxis": "x",
         "y": [
          20.923311233520508,
          23.150413513183594,
          -18.98989486694336,
          -8.792415618896484,
          2.506667375564575,
          -6.528479099273682,
          -5.807537078857422,
          10.21159839630127,
          6.844048976898193,
          4.904967784881592,
          -20.877307891845703,
          -8.09878158569336,
          -0.26864707469940186,
          8.002787590026855,
          5.222224235534668,
          -4.011023998260498,
          -0.5875208973884583,
          14.03498363494873,
          -10.944202423095703,
          -11.119660377502441,
          3.268770456314087,
          -13.290679931640625,
          -1.3692305088043213,
          -20.56624984741211,
          1.9356002807617188,
          3.5206000804901123,
          25.43359375,
          -10.752184867858887,
          -0.5603404641151428,
          1.431930422782898,
          5.272462844848633,
          -17.692081451416016,
          21.13896369934082,
          -1.4490642547607422,
          -16.903955459594727,
          22.134565353393555,
          20.041831970214844,
          25.19738006591797,
          -10.3328218460083,
          20.67353630065918,
          -1.305863857269287,
          2.0170907974243164,
          -8.19428539276123,
          7.775259017944336,
          9.740740776062012,
          -21.158967971801758,
          -1.03561270236969,
          21.648265838623047,
          25.144838333129883,
          23.11737632751465,
          -0.1364412009716034,
          -3.021270751953125,
          -5.233217239379883,
          21.75421905517578,
          13.418785095214844,
          -9.007011413574219,
          5.0934624671936035,
          -8.389812469482422,
          6.3879714012146,
          0.822930097579956,
          19.680395126342773,
          21.542198181152344,
          -3.3432414531707764,
          13.446173667907715,
          24.32427215576172,
          -0.24117431044578552,
          -3.3241705894470215,
          -20.747709274291992,
          -6.7309722900390625,
          0.2952671945095062,
          0.6661545038223267,
          -0.02471422776579857,
          0.031247928738594055,
          -18.926700592041016,
          -2.709157705307007,
          14.413582801818848,
          11.655055046081543,
          19.580366134643555,
          8.417314529418945,
          1.6759690046310425,
          -0.25293034315109253,
          -3.3974430561065674,
          17.72050666809082,
          -18.3820743560791,
          24.026905059814453,
          1.9991235733032227,
          -2.8334968090057373,
          -14.460824966430664,
          7.487768173217773,
          -17.89678382873535,
          10.01122760772705,
          21.3471622467041,
          -8.849493026733398,
          21.620670318603516,
          12.0916109085083,
          1.0303404331207275,
          -2.587435483932495,
          -13.795143127441406,
          4.881602764129639,
          21.641902923583984,
          6.379130840301514,
          -1.73965322971344,
          5.492740154266357,
          -0.9256237149238586,
          -4.253911018371582,
          10.181416511535645,
          21.61700439453125,
          -6.516934394836426,
          -6.196646690368652,
          -0.7062968015670776,
          -11.077432632446289,
          4.496705532073975,
          -9.069087028503418,
          17.91071128845215,
          -6.036189556121826,
          -3.9441301822662354,
          20.006101608276367,
          1.324841856956482,
          12.245338439941406,
          -18.798696517944336,
          4.427724361419678,
          -13.794854164123535,
          7.571861267089844,
          1.2681382894515991,
          -9.9586763381958,
          -7.470526695251465,
          7.879405975341797,
          -8.948548316955566,
          1.0598227977752686,
          13.528393745422363,
          -21.07277488708496,
          -1.4271841049194336,
          1.0244981050491333,
          14.155523300170898,
          -0.25293034315109253,
          -10.964165687561035,
          -17.76761245727539,
          3.241624355316162,
          -3.4767801761627197,
          -11.05721378326416,
          -0.9787837862968445,
          -2.2478601932525635,
          5.383744716644287,
          4.154719829559326,
          0.24578344821929932,
          -1.6104867458343506,
          -0.22358335554599762,
          0.6746639013290405,
          9.603523254394531,
          -5.671880722045898,
          -1.7270702123641968,
          -14.646349906921387,
          -6.436191558837891,
          2.91046404838562,
          -6.198784828186035,
          4.671433448791504,
          -2.6244559288024902,
          22.05280303955078,
          -19.762834548950195,
          -2.9827756881713867,
          4.424526214599609,
          -3.600013017654419,
          5.97743034362793,
          -3.629056692123413,
          -7.682645320892334,
          -4.763678550720215,
          4.298125743865967,
          -5.878411293029785,
          6.647935390472412,
          -2.630197286605835,
          26.121540069580078,
          -12.438838958740234,
          -12.965947151184082,
          21.726221084594727,
          -3.9401891231536865,
          -2.14553165435791,
          -2.409655809402466,
          -5.766756057739258,
          -7.4690351486206055,
          -14.424543380737305,
          7.152214050292969,
          8.267152786254883,
          3.69736909866333,
          -0.8237108588218689,
          20.07100486755371,
          15.55807113647461,
          3.8772976398468018,
          0.7802098393440247,
          -4.84989595413208,
          2.883777618408203,
          2.8737382888793945,
          -1.960176706314087,
          -13.948535919189453,
          8.029780387878418,
          -23.251819610595703,
          17.786977767944336,
          13.934155464172363,
          2.492522954940796,
          -6.536022663116455,
          21.68287467956543,
          7.519327163696289,
          -8.464936256408691,
          8.376697540283203,
          -9.490741729736328,
          6.028733253479004,
          -9.033178329467773,
          -9.859297752380371,
          -9.523650169372559,
          16.05204200744629,
          16.39048194885254,
          -20.147167205810547,
          -21.358409881591797,
          -5.460063457489014,
          -14.461623191833496,
          3.889244556427002,
          -4.386142253875732,
          -8.802118301391602,
          -18.995223999023438,
          -12.250434875488281,
          14.797952651977539,
          23.24029541015625,
          7.759782314300537,
          -6.6678643226623535,
          -8.16494369506836,
          16.194446563720703,
          -2.503169059753418,
          -7.115731716156006,
          -19.062644958496094,
          -21.46816062927246,
          -5.47483491897583,
          5.812626361846924,
          9.392770767211914,
          -12.445850372314453,
          -19.754209518432617,
          6.956979274749756,
          -0.15643750131130219,
          6.1279826164245605,
          25.19886016845703,
          9.4640531539917,
          -8.086469650268555,
          -5.095438003540039,
          -3.070010185241699,
          -19.547508239746094,
          -4.929112434387207,
          -7.23799991607666,
          -11.995847702026367,
          4.952827453613281,
          -1.7688970565795898,
          -21.573999404907227,
          -7.2547407150268555,
          -6.250165939331055,
          2.3606090545654297,
          -5.724768161773682,
          2.8630447387695312,
          -0.836660623550415,
          9.369682312011719,
          -7.609288215637207,
          -4.1055192947387695,
          -0.6931908130645752,
          17.752059936523438,
          -14.617940902709961,
          -4.722324848175049,
          26.466039657592773,
          23.37338638305664,
          -17.358718872070312,
          -3.923362970352173,
          -9.810538291931152,
          6.161355018615723,
          -9.278054237365723,
          -0.26933804154396057,
          -2.438754081726074,
          5.653735637664795,
          6.37323522567749,
          6.223801612854004,
          -10.703485488891602,
          6.400051116943359,
          -10.707563400268555,
          2.472805976867676,
          1.481959581375122,
          13.812520980834961,
          17.5623836517334,
          -8.809629440307617,
          -9.7400484085083,
          5.71024751663208,
          3.8304808139801025,
          -4.7721123695373535,
          -7.955384731292725,
          -18.67426872253418,
          -1.25248122215271,
          -17.857553482055664,
          -6.695987224578857,
          -5.296872615814209,
          -9.201513290405273,
          -5.778343200683594,
          -4.029117584228516,
          -0.6188281178474426,
          -0.481814444065094,
          2.39988374710083,
          -3.8066484928131104,
          2.0403029918670654,
          -10.021934509277344,
          -0.11695412546396255,
          -2.732006072998047,
          -20.73468017578125,
          19.251911163330078,
          -15.84508228302002,
          -9.536345481872559,
          5.14597749710083,
          -10.881675720214844,
          4.426727294921875,
          26.881406784057617,
          -5.878954887390137,
          5.154725551605225,
          -2.4505279064178467,
          -23.39849281311035,
          -12.603123664855957,
          -12.489899635314941,
          16.85115623474121,
          21.773317337036133,
          20.425216674804688,
          -7.035070896148682,
          7.5078349113464355,
          18.377195358276367,
          15.6694917678833,
          -2.9913761615753174,
          11.066862106323242,
          8.197369575500488,
          -8.948534965515137,
          16.575157165527344,
          17.001201629638672,
          -0.48966339230537415,
          -7.022477626800537,
          -9.068647384643555,
          -8.276833534240723,
          2.327261209487915,
          -2.8518314361572266,
          -5.894838809967041,
          21.7235050201416,
          16.16461944580078,
          -6.124292373657227,
          2.9011361598968506
         ],
         "yaxis": "y"
        },
        {
         "customdata": [
          [
           "luzacki",
           "Positive"
          ],
          [
           "wporzadku",
           "Positive"
          ],
          [
           "fajny",
           "Positive"
          ],
          [
           "dobra",
           "Positive"
          ],
          [
           "spoko",
           "Positive"
          ],
          [
           "czylelnie",
           "Positive"
          ],
          [
           "ulubiona",
           "Positive"
          ],
          [
           "sympatyczny",
           "Positive"
          ],
          [
           "ciekawe",
           "Positive"
          ],
          [
           "niesamowite",
           "Positive"
          ],
          [
           "dobry",
           "Positive"
          ],
          [
           "porywajace",
           "Positive"
          ],
          [
           "interesujace",
           "Positive"
          ],
          [
           "nieziemski",
           "Positive"
          ],
          [
           "ciekawą",
           "Positive"
          ],
          [
           "elegancką",
           "Positive"
          ],
          [
           "ładne",
           "Positive"
          ],
          [
           "ok",
           "Positive"
          ],
          [
           "lagodny",
           "Positive"
          ],
          [
           "miła",
           "Positive"
          ],
          [
           "sympatyczna",
           "Positive"
          ],
          [
           "dobrą",
           "Positive"
          ],
          [
           "godna",
           "Positive"
          ],
          [
           "bdb",
           "Positive"
          ],
          [
           "najciekwszy",
           "Positive"
          ],
          [
           "dobrego",
           "Positive"
          ],
          [
           "przyjazne",
           "Positive"
          ],
          [
           "pozytwyna",
           "Positive"
          ],
          [
           "skrupulatnym",
           "Positive"
          ],
          [
           "punktualnym",
           "Positive"
          ],
          [
           "wspaniała",
           "Positive"
          ],
          [
           "ciekawy",
           "Positive"
          ],
          [
           "przyjazny",
           "Positive"
          ],
          [
           "pozytywna",
           "Positive"
          ],
          [
           "bezstresowy",
           "Positive"
          ],
          [
           "bezstresowe",
           "Positive"
          ],
          [
           "dobre",
           "Positive"
          ],
          [
           "dobrym",
           "Positive"
          ],
          [
           "najlepszy",
           "Positive"
          ],
          [
           "pozytywne",
           "Positive"
          ],
          [
           "przystepny",
           "Positive"
          ],
          [
           "miły",
           "Positive"
          ],
          [
           "łatwiej",
           "Positive"
          ],
          [
           "swietnie",
           "Positive"
          ],
          [
           "mila",
           "Positive"
          ],
          [
           "dokladnie",
           "Positive"
          ],
          [
           "duze",
           "Positive"
          ],
          [
           "duzej",
           "Positive"
          ],
          [
           "ladna",
           "Positive"
          ],
          [
           "zwyżkowa",
           "Positive"
          ],
          [
           "duże",
           "Positive"
          ],
          [
           "miłą",
           "Positive"
          ],
          [
           "miłe",
           "Positive"
          ],
          [
           "przyjemnie",
           "Positive"
          ],
          [
           "atrakcyjny",
           "Positive"
          ],
          [
           "czytelne",
           "Positive"
          ],
          [
           "czytelny",
           "Positive"
          ],
          [
           "dobrej",
           "Positive"
          ],
          [
           "dobrze",
           "Positive"
          ],
          [
           "dokładne",
           "Positive"
          ],
          [
           "dopracowanego",
           "Positive"
          ],
          [
           "ergonomiczna",
           "Positive"
          ],
          [
           "fajna",
           "Positive"
          ],
          [
           "fajne",
           "Positive"
          ],
          [
           "genialnym",
           "Positive"
          ],
          [
           "idealne",
           "Positive"
          ],
          [
           "idealnie",
           "Positive"
          ],
          [
           "klimatyczna",
           "Positive"
          ],
          [
           "kompatybilny",
           "Positive"
          ],
          [
           "kompatybilnych",
           "Positive"
          ],
          [
           "lepszego",
           "Positive"
          ],
          [
           "lepszym",
           "Positive"
          ],
          [
           "lepszą",
           "Positive"
          ],
          [
           "mocniejszy",
           "Positive"
          ],
          [
           "najlepszych",
           "Positive"
          ],
          [
           "niezłe",
           "Positive"
          ],
          [
           "odpowiedni",
           "Positive"
          ],
          [
           "odpowiedniego",
           "Positive"
          ],
          [
           "piękne",
           "Positive"
          ],
          [
           "polecany",
           "Positive"
          ],
          [
           "poręczna",
           "Positive"
          ],
          [
           "poręczniejsza",
           "Positive"
          ],
          [
           "praktyczna",
           "Positive"
          ],
          [
           "precyzyjne",
           "Positive"
          ],
          [
           "przydatna",
           "Positive"
          ],
          [
           "przyjemny",
           "Positive"
          ],
          [
           "przyzwoicie",
           "Positive"
          ],
          [
           "przyzwoitego",
           "Positive"
          ],
          [
           "płynnie",
           "Positive"
          ],
          [
           "rewelacyjne",
           "Positive"
          ],
          [
           "sensownego",
           "Positive"
          ],
          [
           "solidne",
           "Positive"
          ],
          [
           "solidniejszego",
           "Positive"
          ],
          [
           "sprawdzonego",
           "Positive"
          ],
          [
           "super",
           "Positive"
          ],
          [
           "wydajna",
           "Positive"
          ],
          [
           "wydajny",
           "Positive"
          ],
          [
           "wygodna",
           "Positive"
          ],
          [
           "wygodny",
           "Positive"
          ],
          [
           "wytrzymała",
           "Positive"
          ],
          [
           "wytrzymałe",
           "Positive"
          ],
          [
           "zadowalająca",
           "Positive"
          ],
          [
           "zadowolona",
           "Positive"
          ],
          [
           "zadowolony",
           "Positive"
          ],
          [
           "ładna",
           "Positive"
          ],
          [
           "ładnej",
           "Positive"
          ],
          [
           "ładny",
           "Positive"
          ],
          [
           "świetny",
           "Positive"
          ]
         ],
         "hovertemplate": "sentiment=%{customdata[1]}<br>word=%{customdata[0]}<extra></extra>",
         "legendgroup": "Positive",
         "marker": {
          "color": "#EF553B",
          "symbol": "circle"
         },
         "mode": "markers",
         "name": "Positive",
         "orientation": "v",
         "showlegend": true,
         "textposition": "top center",
         "type": "scatter",
         "x": [
          -12.81814956665039,
          -6.8015456199646,
          -20.555896759033203,
          1.232698678970337,
          5.359503746032715,
          1.0963209867477417,
          -5.589487075805664,
          -14.648935317993164,
          6.926265716552734,
          2.9774274826049805,
          -20.918441772460938,
          0.9111012816429138,
          7.150263786315918,
          -16.692615509033203,
          11.103889465332031,
          9.79837417602539,
          3.8129072189331055,
          -5.360629081726074,
          -9.221227645874023,
          0.7879117727279663,
          0.7960596084594727,
          11.613997459411621,
          -0.36088696122169495,
          -23.762514114379883,
          1.6486830711364746,
          19.59014129638672,
          -1.3992259502410889,
          1.9437143802642822,
          3.977336883544922,
          3.9173059463500977,
          -3.773314952850342,
          -20.827682495117188,
          -18.538503646850586,
          -1.451965093612671,
          -11.196389198303223,
          -2.5073442459106445,
          1.7209612131118774,
          3.5861334800720215,
          -21.80207633972168,
          -0.40796178579330444,
          -9.419873237609863,
          -15.041902542114258,
          -10.199324607849121,
          6.074112415313721,
          3.4726722240448,
          6.117051601409912,
          7.423428058624268,
          2.7925610542297363,
          3.4640021324157715,
          -2.857651472091675,
          -0.7805292010307312,
          10.459370613098145,
          4.53964376449585,
          -10.174034118652344,
          -18.61801528930664,
          2.7303216457366943,
          -18.570837020874023,
          -3.566160202026367,
          -9.87331485748291,
          1.117018461227417,
          15.847366333007812,
          0.11840967833995819,
          1.7997034788131714,
          3.8977930545806885,
          2.5389256477355957,
          1.8800113201141357,
          -7.760632038116455,
          -4.463647842407227,
          9.767032623291016,
          9.449188232421875,
          20.014989852905273,
          4.6423234939575195,
          12.466733932495117,
          -13.31410026550293,
          17.36992645263672,
          2.126116991043091,
          -21.230716705322266,
          20.906164169311523,
          3.663580894470215,
          -10.56516170501709,
          -0.10327305644750595,
          -0.3236536681652069,
          -1.861797571182251,
          1.8169612884521484,
          0.9966290593147278,
          -18.604856491088867,
          -10.14685344696045,
          18.544517517089844,
          -7.7402472496032715,
          2.3573086261749268,
          19.086427688598633,
          -0.2247404158115387,
          17.261415481567383,
          15.106645584106445,
          5.316397666931152,
          0.37295693159103394,
          -17.148935317993164,
          0.20863759517669678,
          -18.017087936401367,
          -2.080824851989746,
          2.6741130352020264,
          -2.2299280166625977,
          -8.615671157836914,
          -8.655826568603516,
          1.2119643688201904,
          1.4020650386810303,
          -19.847461700439453,
          -21.035234451293945
         ],
         "xaxis": "x",
         "y": [
          -4.524282932281494,
          -5.266609191894531,
          -4.883709907531738,
          -22.135969161987305,
          8.015172958374023,
          -0.592025637626648,
          -16.00742530822754,
          -3.0678517818450928,
          22.694137573242188,
          23.541728973388672,
          -5.7650651931762695,
          0.9019723534584045,
          14.765604972839355,
          -8.224600791931152,
          -6.732430458068848,
          -6.068556785583496,
          24.60796546936035,
          -0.6076403260231018,
          -5.021790027618408,
          -20.519899368286133,
          -20.197879791259766,
          -6.657771587371826,
          -23.053829193115234,
          -3.7199792861938477,
          0.07118605077266693,
          -1.8781342506408691,
          20.395771026611328,
          0.11391950398683548,
          -4.6332855224609375,
          -3.607891321182251,
          -20.57564926147461,
          -5.024847030639648,
          -2.01957106590271,
          -21.94952392578125,
          -5.090263843536377,
          1.399169921875,
          24.216773986816406,
          -11.073602676391602,
          -6.438446998596191,
          22.24190330505371,
          -5.300788879394531,
          -2.770003318786621,
          10.034893989562988,
          9.922122955322266,
          -2.3515541553497314,
          10.04270076751709,
          14.04601001739502,
          9.656489372253418,
          -19.035547256469727,
          -9.891139030456543,
          23.91987419128418,
          -6.87477970123291,
          23.91851043701172,
          9.064868927001953,
          -2.7264292240142822,
          20.815053939819336,
          -0.7756388783454895,
          10.317842483520508,
          5.453700065612793,
          20.812456130981445,
          -3.360055685043335,
          -15.754554748535156,
          -20.41783332824707,
          24.835580825805664,
          -8.177284240722656,
          25.172073364257812,
          3.535374641418457,
          -17.13446044921875,
          -0.5157495141029358,
          0.1433895081281662,
          -1.6853655576705933,
          -12.435527801513672,
          -4.585359573364258,
          -12.301484107971191,
          5.8109660148620605,
          24.135854721069336,
          -10.036969184875488,
          -2.8502824306488037,
          24.074508666992188,
          -7.29660177230835,
          -17.266210556030273,
          -12.357685089111328,
          -17.718406677246094,
          20.903064727783203,
          -18.65143394470215,
          -4.087489604949951,
          5.483983993530273,
          -2.751840114593506,
          3.2201337814331055,
          24.06041145324707,
          -0.5134503841400146,
          19.64316749572754,
          -0.49344176054000854,
          -1.206749439239502,
          7.899694919586182,
          -17.92340087890625,
          -3.4416561126708984,
          -18.841251373291016,
          -3.429537296295166,
          -11.987736701965332,
          19.125869750976562,
          -19.862380981445312,
          -12.67044448852539,
          -12.639020919799805,
          -20.15073585510254,
          8.326972007751465,
          -4.6561360359191895,
          -5.919744491577148
         ],
         "yaxis": "y"
        },
        {
         "customdata": [
          [
           "nudne",
           "Negative"
          ],
          [
           "groźny",
           "Negative"
          ],
          [
           "nudno",
           "Negative"
          ],
          [
           "straszny",
           "Negative"
          ],
          [
           "ekscentryczny",
           "Negative"
          ],
          [
           "zły",
           "Negative"
          ],
          [
           "niezwiązanych",
           "Negative"
          ],
          [
           "źle",
           "Negative"
          ],
          [
           "trudne",
           "Negative"
          ],
          [
           "negatywna",
           "Negative"
          ],
          [
           "anemicznym",
           "Negative"
          ],
          [
           "niezrozumialy",
           "Negative"
          ],
          [
           "specyficzny",
           "Negative"
          ],
          [
           "skomplikowane",
           "Negative"
          ],
          [
           "wymagajaca",
           "Negative"
          ],
          [
           "masakryczna",
           "Negative"
          ],
          [
           "grozny",
           "Negative"
          ],
          [
           "straszna",
           "Negative"
          ],
          [
           "szanowny",
           "Negative"
          ],
          [
           "nurzący",
           "Negative"
          ],
          [
           "wymagający",
           "Negative"
          ],
          [
           "nudny",
           "Negative"
          ],
          [
           "chaotyczny",
           "Negative"
          ],
          [
           "najłatwiejszych",
           "Negative"
          ],
          [
           "małoistotne",
           "Negative"
          ],
          [
           "daleka",
           "Negative"
          ],
          [
           "archaicznego",
           "Negative"
          ],
          [
           "nieznanym",
           "Negative"
          ],
          [
           "najprostrzych",
           "Negative"
          ],
          [
           "wymagająca",
           "Negative"
          ],
          [
           "wygnieciony",
           "Negative"
          ],
          [
           "absurdalna",
           "Negative"
          ],
          [
           "beznadziejne",
           "Negative"
          ],
          [
           "brudne",
           "Negative"
          ],
          [
           "brzydsze",
           "Negative"
          ],
          [
           "bublowaty",
           "Negative"
          ],
          [
           "dziwne",
           "Negative"
          ],
          [
           "dziwnie",
           "Negative"
          ],
          [
           "feralny",
           "Negative"
          ],
          [
           "irytujące",
           "Negative"
          ],
          [
           "kiepskiej",
           "Negative"
          ],
          [
           "kiepskim",
           "Negative"
          ],
          [
           "marnego",
           "Negative"
          ],
          [
           "mułowatym",
           "Negative"
          ],
          [
           "mylący",
           "Negative"
          ],
          [
           "najgorsze",
           "Negative"
          ],
          [
           "najgorszą",
           "Negative"
          ],
          [
           "niedopasowane",
           "Negative"
          ],
          [
           "niedopracowane",
           "Negative"
          ],
          [
           "niepotrzebnych",
           "Negative"
          ],
          [
           "niepraktyczne",
           "Negative"
          ],
          [
           "niestabilna",
           "Negative"
          ],
          [
           "niewygodny",
           "Negative"
          ],
          [
           "niewyraźny",
           "Negative"
          ],
          [
           "nijaki",
           "Negative"
          ],
          [
           "potwornie",
           "Negative"
          ],
          [
           "przekombinowany",
           "Negative"
          ],
          [
           "przereklamowane",
           "Negative"
          ],
          [
           "rozczarowującą",
           "Negative"
          ],
          [
           "strasznie",
           "Negative"
          ],
          [
           "tandetne",
           "Negative"
          ],
          [
           "tragiczne",
           "Negative"
          ],
          [
           "uboższy",
           "Negative"
          ],
          [
           "wciekły",
           "Negative"
          ],
          [
           "wybrakowany",
           "Negative"
          ]
         ],
         "hovertemplate": "sentiment=%{customdata[1]}<br>word=%{customdata[0]}<extra></extra>",
         "legendgroup": "Negative",
         "marker": {
          "color": "#00cc96",
          "symbol": "circle"
         },
         "mode": "markers",
         "name": "Negative",
         "orientation": "v",
         "showlegend": true,
         "textposition": "top center",
         "type": "scatter",
         "x": [
          5.517576694488525,
          -16.619291305541992,
          -10.115145683288574,
          -17.185056686401367,
          -13.187020301818848,
          -19.323345184326172,
          10.086353302001953,
          -9.596476554870605,
          6.159980297088623,
          -1.3943188190460205,
          3.2393381595611572,
          -5.652341365814209,
          -18.712478637695312,
          2.3602447509765625,
          3.2105753421783447,
          -3.4834821224212646,
          1.8947001695632935,
          -3.2920281887054443,
          -0.6637647747993469,
          1.377992868423462,
          -16.408004760742188,
          -14.924921989440918,
          -15.985620498657227,
          -3.8464126586914062,
          1.4679665565490723,
          -4.012927532196045,
          17.65787696838379,
          5.265968322753906,
          9.457231521606445,
          1.5734264850616455,
          -2.8930797576904297,
          -1.480355978012085,
          4.914784908294678,
          0.4941243529319763,
          5.4272565841674805,
          0.1657869815826416,
          5.956021785736084,
          -7.905371189117432,
          -17.731956481933594,
          5.096099853515625,
          -3.713625431060791,
          3.6488184928894043,
          18.029356002807617,
          1.4347753524780273,
          -15.043006896972656,
          6.4724931716918945,
          12.250164985656738,
          1.7457811832427979,
          4.093040943145752,
          11.00818157196045,
          4.120567798614502,
          -1.2523645162582397,
          -17.144254684448242,
          -15.834356307983398,
          -12.292853355407715,
          -6.8075337409973145,
          -13.558226585388184,
          4.920677185058594,
          4.341653347015381,
          -6.920044898986816,
          4.581196308135986,
          3.249450445175171,
          -12.461336135864258,
          0.1873079389333725,
          -12.823945999145508
         ],
         "xaxis": "x",
         "y": [
          21.330089569091797,
          -1.5555766820907593,
          8.84069538116455,
          -7.597043991088867,
          -3.312060832977295,
          -7.863716125488281,
          0.6504184603691101,
          5.441693305969238,
          25.31820297241211,
          -22.09644317626953,
          -5.466677665710449,
          -4.488389015197754,
          -4.770462512969971,
          21.205345153808594,
          -17.499757766723633,
          -16.1477108001709,
          -0.8652700185775757,
          -21.3615779876709,
          -1.0955581665039062,
          -1.0181609392166138,
          -2.980942964553833,
          -4.251254558563232,
          -5.092374801635742,
          3.327087640762329,
          1.064914345741272,
          -13.79452133178711,
          -3.9129700660705566,
          -7.657444953918457,
          6.0094828605651855,
          -17.482606887817383,
          -3.53848934173584,
          -20.945484161376953,
          20.86129379272461,
          17.56195640563965,
          18.81379508972168,
          -0.5718921422958374,
          22.39908790588379,
          5.993900299072266,
          -11.312905311584473,
          21.458223342895508,
          10.047938346862793,
          -10.975557327270508,
          -3.184353828430176,
          0.02404097653925419,
          -4.899045467376709,
          23.036441802978516,
          -6.142545223236084,
          13.23414421081543,
          20.369123458862305,
          6.157884120941162,
          20.884885787963867,
          -19.77631950378418,
          -2.029695749282837,
          -5.534739017486572,
          -3.5191123485565186,
          6.048991680145264,
          -4.46871280670166,
          19.920339584350586,
          -1.5780893564224243,
          6.144927024841309,
          19.396387100219727,
          22.707225799560547,
          -11.90013313293457,
          -1.4654964208602905,
          -6.252246379852295
         ],
         "yaxis": "y"
        }
       ],
       "layout": {
        "legend": {
         "title": {
          "text": "sentiment"
         },
         "tracegroupgap": 0
        },
        "template": {
         "data": {
          "bar": [
           {
            "error_x": {
             "color": "#2a3f5f"
            },
            "error_y": {
             "color": "#2a3f5f"
            },
            "marker": {
             "line": {
              "color": "#E5ECF6",
              "width": 0.5
             },
             "pattern": {
              "fillmode": "overlay",
              "size": 10,
              "solidity": 0.2
             }
            },
            "type": "bar"
           }
          ],
          "barpolar": [
           {
            "marker": {
             "line": {
              "color": "#E5ECF6",
              "width": 0.5
             },
             "pattern": {
              "fillmode": "overlay",
              "size": 10,
              "solidity": 0.2
             }
            },
            "type": "barpolar"
           }
          ],
          "carpet": [
           {
            "aaxis": {
             "endlinecolor": "#2a3f5f",
             "gridcolor": "white",
             "linecolor": "white",
             "minorgridcolor": "white",
             "startlinecolor": "#2a3f5f"
            },
            "baxis": {
             "endlinecolor": "#2a3f5f",
             "gridcolor": "white",
             "linecolor": "white",
             "minorgridcolor": "white",
             "startlinecolor": "#2a3f5f"
            },
            "type": "carpet"
           }
          ],
          "choropleth": [
           {
            "colorbar": {
             "outlinewidth": 0,
             "ticks": ""
            },
            "type": "choropleth"
           }
          ],
          "contour": [
           {
            "colorbar": {
             "outlinewidth": 0,
             "ticks": ""
            },
            "colorscale": [
             [
              0,
              "#0d0887"
             ],
             [
              0.1111111111111111,
              "#46039f"
             ],
             [
              0.2222222222222222,
              "#7201a8"
             ],
             [
              0.3333333333333333,
              "#9c179e"
             ],
             [
              0.4444444444444444,
              "#bd3786"
             ],
             [
              0.5555555555555556,
              "#d8576b"
             ],
             [
              0.6666666666666666,
              "#ed7953"
             ],
             [
              0.7777777777777778,
              "#fb9f3a"
             ],
             [
              0.8888888888888888,
              "#fdca26"
             ],
             [
              1,
              "#f0f921"
             ]
            ],
            "type": "contour"
           }
          ],
          "contourcarpet": [
           {
            "colorbar": {
             "outlinewidth": 0,
             "ticks": ""
            },
            "type": "contourcarpet"
           }
          ],
          "heatmap": [
           {
            "colorbar": {
             "outlinewidth": 0,
             "ticks": ""
            },
            "colorscale": [
             [
              0,
              "#0d0887"
             ],
             [
              0.1111111111111111,
              "#46039f"
             ],
             [
              0.2222222222222222,
              "#7201a8"
             ],
             [
              0.3333333333333333,
              "#9c179e"
             ],
             [
              0.4444444444444444,
              "#bd3786"
             ],
             [
              0.5555555555555556,
              "#d8576b"
             ],
             [
              0.6666666666666666,
              "#ed7953"
             ],
             [
              0.7777777777777778,
              "#fb9f3a"
             ],
             [
              0.8888888888888888,
              "#fdca26"
             ],
             [
              1,
              "#f0f921"
             ]
            ],
            "type": "heatmap"
           }
          ],
          "heatmapgl": [
           {
            "colorbar": {
             "outlinewidth": 0,
             "ticks": ""
            },
            "colorscale": [
             [
              0,
              "#0d0887"
             ],
             [
              0.1111111111111111,
              "#46039f"
             ],
             [
              0.2222222222222222,
              "#7201a8"
             ],
             [
              0.3333333333333333,
              "#9c179e"
             ],
             [
              0.4444444444444444,
              "#bd3786"
             ],
             [
              0.5555555555555556,
              "#d8576b"
             ],
             [
              0.6666666666666666,
              "#ed7953"
             ],
             [
              0.7777777777777778,
              "#fb9f3a"
             ],
             [
              0.8888888888888888,
              "#fdca26"
             ],
             [
              1,
              "#f0f921"
             ]
            ],
            "type": "heatmapgl"
           }
          ],
          "histogram": [
           {
            "marker": {
             "pattern": {
              "fillmode": "overlay",
              "size": 10,
              "solidity": 0.2
             }
            },
            "type": "histogram"
           }
          ],
          "histogram2d": [
           {
            "colorbar": {
             "outlinewidth": 0,
             "ticks": ""
            },
            "colorscale": [
             [
              0,
              "#0d0887"
             ],
             [
              0.1111111111111111,
              "#46039f"
             ],
             [
              0.2222222222222222,
              "#7201a8"
             ],
             [
              0.3333333333333333,
              "#9c179e"
             ],
             [
              0.4444444444444444,
              "#bd3786"
             ],
             [
              0.5555555555555556,
              "#d8576b"
             ],
             [
              0.6666666666666666,
              "#ed7953"
             ],
             [
              0.7777777777777778,
              "#fb9f3a"
             ],
             [
              0.8888888888888888,
              "#fdca26"
             ],
             [
              1,
              "#f0f921"
             ]
            ],
            "type": "histogram2d"
           }
          ],
          "histogram2dcontour": [
           {
            "colorbar": {
             "outlinewidth": 0,
             "ticks": ""
            },
            "colorscale": [
             [
              0,
              "#0d0887"
             ],
             [
              0.1111111111111111,
              "#46039f"
             ],
             [
              0.2222222222222222,
              "#7201a8"
             ],
             [
              0.3333333333333333,
              "#9c179e"
             ],
             [
              0.4444444444444444,
              "#bd3786"
             ],
             [
              0.5555555555555556,
              "#d8576b"
             ],
             [
              0.6666666666666666,
              "#ed7953"
             ],
             [
              0.7777777777777778,
              "#fb9f3a"
             ],
             [
              0.8888888888888888,
              "#fdca26"
             ],
             [
              1,
              "#f0f921"
             ]
            ],
            "type": "histogram2dcontour"
           }
          ],
          "mesh3d": [
           {
            "colorbar": {
             "outlinewidth": 0,
             "ticks": ""
            },
            "type": "mesh3d"
           }
          ],
          "parcoords": [
           {
            "line": {
             "colorbar": {
              "outlinewidth": 0,
              "ticks": ""
             }
            },
            "type": "parcoords"
           }
          ],
          "pie": [
           {
            "automargin": true,
            "type": "pie"
           }
          ],
          "scatter": [
           {
            "fillpattern": {
             "fillmode": "overlay",
             "size": 10,
             "solidity": 0.2
            },
            "type": "scatter"
           }
          ],
          "scatter3d": [
           {
            "line": {
             "colorbar": {
              "outlinewidth": 0,
              "ticks": ""
             }
            },
            "marker": {
             "colorbar": {
              "outlinewidth": 0,
              "ticks": ""
             }
            },
            "type": "scatter3d"
           }
          ],
          "scattercarpet": [
           {
            "marker": {
             "colorbar": {
              "outlinewidth": 0,
              "ticks": ""
             }
            },
            "type": "scattercarpet"
           }
          ],
          "scattergeo": [
           {
            "marker": {
             "colorbar": {
              "outlinewidth": 0,
              "ticks": ""
             }
            },
            "type": "scattergeo"
           }
          ],
          "scattergl": [
           {
            "marker": {
             "colorbar": {
              "outlinewidth": 0,
              "ticks": ""
             }
            },
            "type": "scattergl"
           }
          ],
          "scattermapbox": [
           {
            "marker": {
             "colorbar": {
              "outlinewidth": 0,
              "ticks": ""
             }
            },
            "type": "scattermapbox"
           }
          ],
          "scatterpolar": [
           {
            "marker": {
             "colorbar": {
              "outlinewidth": 0,
              "ticks": ""
             }
            },
            "type": "scatterpolar"
           }
          ],
          "scatterpolargl": [
           {
            "marker": {
             "colorbar": {
              "outlinewidth": 0,
              "ticks": ""
             }
            },
            "type": "scatterpolargl"
           }
          ],
          "scatterternary": [
           {
            "marker": {
             "colorbar": {
              "outlinewidth": 0,
              "ticks": ""
             }
            },
            "type": "scatterternary"
           }
          ],
          "surface": [
           {
            "colorbar": {
             "outlinewidth": 0,
             "ticks": ""
            },
            "colorscale": [
             [
              0,
              "#0d0887"
             ],
             [
              0.1111111111111111,
              "#46039f"
             ],
             [
              0.2222222222222222,
              "#7201a8"
             ],
             [
              0.3333333333333333,
              "#9c179e"
             ],
             [
              0.4444444444444444,
              "#bd3786"
             ],
             [
              0.5555555555555556,
              "#d8576b"
             ],
             [
              0.6666666666666666,
              "#ed7953"
             ],
             [
              0.7777777777777778,
              "#fb9f3a"
             ],
             [
              0.8888888888888888,
              "#fdca26"
             ],
             [
              1,
              "#f0f921"
             ]
            ],
            "type": "surface"
           }
          ],
          "table": [
           {
            "cells": {
             "fill": {
              "color": "#EBF0F8"
             },
             "line": {
              "color": "white"
             }
            },
            "header": {
             "fill": {
              "color": "#C8D4E3"
             },
             "line": {
              "color": "white"
             }
            },
            "type": "table"
           }
          ]
         },
         "layout": {
          "annotationdefaults": {
           "arrowcolor": "#2a3f5f",
           "arrowhead": 0,
           "arrowwidth": 1
          },
          "autotypenumbers": "strict",
          "coloraxis": {
           "colorbar": {
            "outlinewidth": 0,
            "ticks": ""
           }
          },
          "colorscale": {
           "diverging": [
            [
             0,
             "#8e0152"
            ],
            [
             0.1,
             "#c51b7d"
            ],
            [
             0.2,
             "#de77ae"
            ],
            [
             0.3,
             "#f1b6da"
            ],
            [
             0.4,
             "#fde0ef"
            ],
            [
             0.5,
             "#f7f7f7"
            ],
            [
             0.6,
             "#e6f5d0"
            ],
            [
             0.7,
             "#b8e186"
            ],
            [
             0.8,
             "#7fbc41"
            ],
            [
             0.9,
             "#4d9221"
            ],
            [
             1,
             "#276419"
            ]
           ],
           "sequential": [
            [
             0,
             "#0d0887"
            ],
            [
             0.1111111111111111,
             "#46039f"
            ],
            [
             0.2222222222222222,
             "#7201a8"
            ],
            [
             0.3333333333333333,
             "#9c179e"
            ],
            [
             0.4444444444444444,
             "#bd3786"
            ],
            [
             0.5555555555555556,
             "#d8576b"
            ],
            [
             0.6666666666666666,
             "#ed7953"
            ],
            [
             0.7777777777777778,
             "#fb9f3a"
            ],
            [
             0.8888888888888888,
             "#fdca26"
            ],
            [
             1,
             "#f0f921"
            ]
           ],
           "sequentialminus": [
            [
             0,
             "#0d0887"
            ],
            [
             0.1111111111111111,
             "#46039f"
            ],
            [
             0.2222222222222222,
             "#7201a8"
            ],
            [
             0.3333333333333333,
             "#9c179e"
            ],
            [
             0.4444444444444444,
             "#bd3786"
            ],
            [
             0.5555555555555556,
             "#d8576b"
            ],
            [
             0.6666666666666666,
             "#ed7953"
            ],
            [
             0.7777777777777778,
             "#fb9f3a"
            ],
            [
             0.8888888888888888,
             "#fdca26"
            ],
            [
             1,
             "#f0f921"
            ]
           ]
          },
          "colorway": [
           "#636efa",
           "#EF553B",
           "#00cc96",
           "#ab63fa",
           "#FFA15A",
           "#19d3f3",
           "#FF6692",
           "#B6E880",
           "#FF97FF",
           "#FECB52"
          ],
          "font": {
           "color": "#2a3f5f"
          },
          "geo": {
           "bgcolor": "white",
           "lakecolor": "white",
           "landcolor": "#E5ECF6",
           "showlakes": true,
           "showland": true,
           "subunitcolor": "white"
          },
          "hoverlabel": {
           "align": "left"
          },
          "hovermode": "closest",
          "mapbox": {
           "style": "light"
          },
          "paper_bgcolor": "white",
          "plot_bgcolor": "#E5ECF6",
          "polar": {
           "angularaxis": {
            "gridcolor": "white",
            "linecolor": "white",
            "ticks": ""
           },
           "bgcolor": "#E5ECF6",
           "radialaxis": {
            "gridcolor": "white",
            "linecolor": "white",
            "ticks": ""
           }
          },
          "scene": {
           "xaxis": {
            "backgroundcolor": "#E5ECF6",
            "gridcolor": "white",
            "gridwidth": 2,
            "linecolor": "white",
            "showbackground": true,
            "ticks": "",
            "zerolinecolor": "white"
           },
           "yaxis": {
            "backgroundcolor": "#E5ECF6",
            "gridcolor": "white",
            "gridwidth": 2,
            "linecolor": "white",
            "showbackground": true,
            "ticks": "",
            "zerolinecolor": "white"
           },
           "zaxis": {
            "backgroundcolor": "#E5ECF6",
            "gridcolor": "white",
            "gridwidth": 2,
            "linecolor": "white",
            "showbackground": true,
            "ticks": "",
            "zerolinecolor": "white"
           }
          },
          "shapedefaults": {
           "line": {
            "color": "#2a3f5f"
           }
          },
          "ternary": {
           "aaxis": {
            "gridcolor": "white",
            "linecolor": "white",
            "ticks": ""
           },
           "baxis": {
            "gridcolor": "white",
            "linecolor": "white",
            "ticks": ""
           },
           "bgcolor": "#E5ECF6",
           "caxis": {
            "gridcolor": "white",
            "linecolor": "white",
            "ticks": ""
           }
          },
          "title": {
           "x": 0.05
          },
          "xaxis": {
           "automargin": true,
           "gridcolor": "white",
           "linecolor": "white",
           "ticks": "",
           "title": {
            "standoff": 15
           },
           "zerolinecolor": "white",
           "zerolinewidth": 2
          },
          "yaxis": {
           "automargin": true,
           "gridcolor": "white",
           "linecolor": "white",
           "ticks": "",
           "title": {
            "standoff": 15
           },
           "zerolinecolor": "white",
           "zerolinewidth": 2
          }
         }
        },
        "title": {
         "text": "t-SNE Visualization of Adjectives"
        },
        "xaxis": {
         "anchor": "y",
         "domain": [
          0,
          1
         ],
         "title": {
          "text": "t-SNE Component 1"
         }
        },
        "yaxis": {
         "anchor": "x",
         "domain": [
          0,
          1
         ],
         "title": {
          "text": "t-SNE Component 2"
         }
        }
       }
      }
     },
     "metadata": {},
     "output_type": "display_data"
    }
   ],
   "source": [
    "embeddings = np.vstack(df['embedding'].values)\n",
    "\n",
    "tsne = TSNE(n_components=2, random_state=42)\n",
    "embeddings_2d = tsne.fit_transform(embeddings)\n",
    "df_tsne = pd.DataFrame(embeddings_2d, columns=['x', 'y'])\n",
    "df_tsne['word'] = df['word']\n",
    "df_tsne['sentiment'] = df['sentiment']\n",
    "\n",
    "fig = px.scatter(df_tsne, x='x', y='y', color='sentiment',\n",
    "                 hover_data={'word': True, 'sentiment': True, 'x': False, 'y': False},\n",
    "                 title='t-SNE Visualization of Adjectives')\n",
    "\n",
    "fig.update_traces(textposition='top center')\n",
    "fig.update_layout(xaxis_title='t-SNE Component 1',\n",
    "                  yaxis_title='t-SNE Component 2')\n",
    "\n",
    "fig.show()"
   ]
  },
  {
   "cell_type": "code",
   "execution_count": 9,
   "metadata": {},
   "outputs": [
    {
     "data": {
      "text/html": [
       "<div>\n",
       "<style scoped>\n",
       "    .dataframe tbody tr th:only-of-type {\n",
       "        vertical-align: middle;\n",
       "    }\n",
       "\n",
       "    .dataframe tbody tr th {\n",
       "        vertical-align: top;\n",
       "    }\n",
       "\n",
       "    .dataframe thead th {\n",
       "        text-align: right;\n",
       "    }\n",
       "</style>\n",
       "<table border=\"1\" class=\"dataframe\">\n",
       "  <thead>\n",
       "    <tr style=\"text-align: right;\">\n",
       "      <th></th>\n",
       "      <th>word</th>\n",
       "      <th>sentiment</th>\n",
       "      <th>embedding</th>\n",
       "      <th>similar_word_1</th>\n",
       "      <th>similar_word_2</th>\n",
       "      <th>similar_word_3</th>\n",
       "      <th>similar_word_4</th>\n",
       "      <th>similar_word_5</th>\n",
       "    </tr>\n",
       "  </thead>\n",
       "  <tbody>\n",
       "    <tr>\n",
       "      <th>0</th>\n",
       "      <td>wszystkie</td>\n",
       "      <td>Neutral</td>\n",
       "      <td>[-2.297204, 1.9608, -0.525082, 2.372554, -0.15...</td>\n",
       "      <td>te</td>\n",
       "      <td>obydwa</td>\n",
       "      <td>oba</td>\n",
       "      <td>wszyskie</td>\n",
       "      <td>poszczególne</td>\n",
       "    </tr>\n",
       "    <tr>\n",
       "      <th>1</th>\n",
       "      <td>luzacki</td>\n",
       "      <td>Positive</td>\n",
       "      <td>[-0.152554, -0.560976, 0.308668, 0.333914, -0....</td>\n",
       "      <td>zabawny</td>\n",
       "      <td>egzaltowany</td>\n",
       "      <td>przyjacielski</td>\n",
       "      <td>staroświecki</td>\n",
       "      <td>wysublimowany</td>\n",
       "    </tr>\n",
       "    <tr>\n",
       "      <th>2</th>\n",
       "      <td>nudne</td>\n",
       "      <td>Negative</td>\n",
       "      <td>[0.64328, -1.358317, 1.081548, 1.442256, -0.99...</td>\n",
       "      <td>śmieszne</td>\n",
       "      <td>monotonne</td>\n",
       "      <td>beznadziejne</td>\n",
       "      <td>zabawne</td>\n",
       "      <td>męczące</td>\n",
       "    </tr>\n",
       "    <tr>\n",
       "      <th>3</th>\n",
       "      <td>wporzadku</td>\n",
       "      <td>Positive</td>\n",
       "      <td>[1.384761, 0.213649, 0.392168, 1.123134, -0.52...</td>\n",
       "      <td>smieszne</td>\n",
       "      <td>szczesliwy</td>\n",
       "      <td>szczesliwa</td>\n",
       "      <td>wazne</td>\n",
       "      <td>wporządku</td>\n",
       "    </tr>\n",
       "    <tr>\n",
       "      <th>4</th>\n",
       "      <td>groźny</td>\n",
       "      <td>Negative</td>\n",
       "      <td>[0.519366, -0.409377, -0.176712, 0.629131, 0.6...</td>\n",
       "      <td>niegroźny</td>\n",
       "      <td>niebezpieczny</td>\n",
       "      <td>silny</td>\n",
       "      <td>mocny</td>\n",
       "      <td>obiecujący</td>\n",
       "    </tr>\n",
       "  </tbody>\n",
       "</table>\n",
       "</div>"
      ],
      "text/plain": [
       "        word sentiment                                          embedding  \\\n",
       "0  wszystkie   Neutral  [-2.297204, 1.9608, -0.525082, 2.372554, -0.15...   \n",
       "1    luzacki  Positive  [-0.152554, -0.560976, 0.308668, 0.333914, -0....   \n",
       "2      nudne  Negative  [0.64328, -1.358317, 1.081548, 1.442256, -0.99...   \n",
       "3  wporzadku  Positive  [1.384761, 0.213649, 0.392168, 1.123134, -0.52...   \n",
       "4     groźny  Negative  [0.519366, -0.409377, -0.176712, 0.629131, 0.6...   \n",
       "\n",
       "  similar_word_1 similar_word_2 similar_word_3 similar_word_4 similar_word_5  \n",
       "0             te         obydwa            oba       wszyskie   poszczególne  \n",
       "1        zabawny    egzaltowany  przyjacielski   staroświecki  wysublimowany  \n",
       "2       śmieszne      monotonne   beznadziejne        zabawne        męczące  \n",
       "3       smieszne     szczesliwy     szczesliwa          wazne      wporządku  \n",
       "4      niegroźny  niebezpieczny          silny          mocny     obiecujący  "
      ]
     },
     "execution_count": 9,
     "metadata": {},
     "output_type": "execute_result"
    }
   ],
   "source": [
    "def get_most_similar_words(word, top_k=5):\n",
    "    try:\n",
    "        similar_words = model.most_similar(word, topn=top_k)\n",
    "        return [sim_word for sim_word, similarity in similar_words]\n",
    "    except KeyError:\n",
    "        return [None] * top_k\n",
    "\n",
    "top_k = 5\n",
    "for i in range(1, top_k + 1):\n",
    "    df[f'similar_word_{i}'] = None\n",
    "\n",
    "for idx, row in df.iterrows():\n",
    "    similar_words = get_most_similar_words(row['word'], top_k)\n",
    "    for i in range(1, top_k + 1):\n",
    "        df.at[idx, f'similar_word_{i}'] = similar_words[i - 1]\n",
    "\n",
    "df.head()"
   ]
  }
 ],
 "metadata": {
  "kernelspec": {
   "display_name": "Python 3",
   "language": "python",
   "name": "python3"
  },
  "language_info": {
   "codemirror_mode": {
    "name": "ipython",
    "version": 3
   },
   "file_extension": ".py",
   "mimetype": "text/x-python",
   "name": "python",
   "nbconvert_exporter": "python",
   "pygments_lexer": "ipython3",
   "version": "3.11.9"
  }
 },
 "nbformat": 4,
 "nbformat_minor": 2
}
