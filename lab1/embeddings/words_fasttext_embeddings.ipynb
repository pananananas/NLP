{
 "cells": [
  {
   "cell_type": "code",
   "execution_count": 1,
   "metadata": {},
   "outputs": [],
   "source": [
    "from gensim.models.fasttext import load_facebook_model\n",
    "from sklearn.manifold import TSNE\n",
    "import plotly.express as px\n",
    "import pandas as pd\n",
    "import numpy as np\n",
    "import gc"
   ]
  },
  {
   "cell_type": "code",
   "execution_count": 2,
   "metadata": {},
   "outputs": [
    {
     "data": {
      "text/html": [
       "<div>\n",
       "<style scoped>\n",
       "    .dataframe tbody tr th:only-of-type {\n",
       "        vertical-align: middle;\n",
       "    }\n",
       "\n",
       "    .dataframe tbody tr th {\n",
       "        vertical-align: top;\n",
       "    }\n",
       "\n",
       "    .dataframe thead th {\n",
       "        text-align: right;\n",
       "    }\n",
       "</style>\n",
       "<table border=\"1\" class=\"dataframe\">\n",
       "  <thead>\n",
       "    <tr style=\"text-align: right;\">\n",
       "      <th></th>\n",
       "      <th>word</th>\n",
       "      <th>sentiment</th>\n",
       "    </tr>\n",
       "  </thead>\n",
       "  <tbody>\n",
       "    <tr>\n",
       "      <th>0</th>\n",
       "      <td>wszystkie</td>\n",
       "      <td>Neutral</td>\n",
       "    </tr>\n",
       "    <tr>\n",
       "      <th>1</th>\n",
       "      <td>luzacki</td>\n",
       "      <td>Positive</td>\n",
       "    </tr>\n",
       "    <tr>\n",
       "      <th>2</th>\n",
       "      <td>nudne</td>\n",
       "      <td>Negative</td>\n",
       "    </tr>\n",
       "    <tr>\n",
       "      <th>3</th>\n",
       "      <td>wporzadku</td>\n",
       "      <td>Positive</td>\n",
       "    </tr>\n",
       "    <tr>\n",
       "      <th>4</th>\n",
       "      <td>groźny</td>\n",
       "      <td>Negative</td>\n",
       "    </tr>\n",
       "  </tbody>\n",
       "</table>\n",
       "</div>"
      ],
      "text/plain": [
       "        word sentiment\n",
       "0  wszystkie   Neutral\n",
       "1    luzacki  Positive\n",
       "2      nudne  Negative\n",
       "3  wporzadku  Positive\n",
       "4     groźny  Negative"
      ]
     },
     "execution_count": 2,
     "metadata": {},
     "output_type": "execute_result"
    }
   ],
   "source": [
    "csv_path = '../annotations/words/all_words.csv'\n",
    "\n",
    "df = pd.read_csv(csv_path)\n",
    "\n",
    "df.head()"
   ]
  },
  {
   "cell_type": "code",
   "execution_count": 3,
   "metadata": {},
   "outputs": [],
   "source": [
    "words = df['word'].tolist()"
   ]
  },
  {
   "cell_type": "code",
   "execution_count": 4,
   "metadata": {},
   "outputs": [],
   "source": [
    "model_path = 'fasttext/cc.pl.300.bin'\n",
    "\n",
    "model = load_facebook_model(model_path)"
   ]
  },
  {
   "cell_type": "code",
   "execution_count": 5,
   "metadata": {},
   "outputs": [
    {
     "name": "stdout",
     "output_type": "stream",
     "text": [
      "Pobieranie embeddingów dla słów...\n"
     ]
    },
    {
     "data": {
      "text/html": [
       "<div>\n",
       "<style scoped>\n",
       "    .dataframe tbody tr th:only-of-type {\n",
       "        vertical-align: middle;\n",
       "    }\n",
       "\n",
       "    .dataframe tbody tr th {\n",
       "        vertical-align: top;\n",
       "    }\n",
       "\n",
       "    .dataframe thead th {\n",
       "        text-align: right;\n",
       "    }\n",
       "</style>\n",
       "<table border=\"1\" class=\"dataframe\">\n",
       "  <thead>\n",
       "    <tr style=\"text-align: right;\">\n",
       "      <th></th>\n",
       "      <th>word</th>\n",
       "      <th>sentiment</th>\n",
       "      <th>embedding</th>\n",
       "    </tr>\n",
       "  </thead>\n",
       "  <tbody>\n",
       "    <tr>\n",
       "      <th>0</th>\n",
       "      <td>wszystkie</td>\n",
       "      <td>Neutral</td>\n",
       "      <td>[0.04213148, 0.03196649, 0.014593786, 0.007251...</td>\n",
       "    </tr>\n",
       "    <tr>\n",
       "      <th>1</th>\n",
       "      <td>luzacki</td>\n",
       "      <td>Positive</td>\n",
       "      <td>[-0.00025074184, 0.060088143, -0.06687481, -0....</td>\n",
       "    </tr>\n",
       "    <tr>\n",
       "      <th>2</th>\n",
       "      <td>nudne</td>\n",
       "      <td>Negative</td>\n",
       "      <td>[-0.04458306, 0.045463443, -0.005535635, -0.00...</td>\n",
       "    </tr>\n",
       "    <tr>\n",
       "      <th>3</th>\n",
       "      <td>wporzadku</td>\n",
       "      <td>Positive</td>\n",
       "      <td>[-0.018328566, 0.05708965, 0.018148778, 0.0063...</td>\n",
       "    </tr>\n",
       "    <tr>\n",
       "      <th>4</th>\n",
       "      <td>groźny</td>\n",
       "      <td>Negative</td>\n",
       "      <td>[-0.02980628, 0.008906932, -0.03944085, -0.072...</td>\n",
       "    </tr>\n",
       "  </tbody>\n",
       "</table>\n",
       "</div>"
      ],
      "text/plain": [
       "        word sentiment                                          embedding\n",
       "0  wszystkie   Neutral  [0.04213148, 0.03196649, 0.014593786, 0.007251...\n",
       "1    luzacki  Positive  [-0.00025074184, 0.060088143, -0.06687481, -0....\n",
       "2      nudne  Negative  [-0.04458306, 0.045463443, -0.005535635, -0.00...\n",
       "3  wporzadku  Positive  [-0.018328566, 0.05708965, 0.018148778, 0.0063...\n",
       "4     groźny  Negative  [-0.02980628, 0.008906932, -0.03944085, -0.072..."
      ]
     },
     "execution_count": 5,
     "metadata": {},
     "output_type": "execute_result"
    }
   ],
   "source": [
    "def get_embedding(word):\n",
    "    if word in model.wv:\n",
    "        return model.wv[word]\n",
    "    else:\n",
    "        return [0.0] * model.vector_size\n",
    "\n",
    "print(\"Pobieranie embeddingów dla słów...\")\n",
    "embeddings = df['word'].apply(get_embedding).tolist()\n",
    "embeddings_matrix = np.array(embeddings)\n",
    "df['embedding'] = embeddings\n",
    "\n",
    "df.head()"
   ]
  },
  {
   "cell_type": "code",
   "execution_count": 6,
   "metadata": {},
   "outputs": [
    {
     "data": {
      "text/html": [
       "<div>\n",
       "<style scoped>\n",
       "    .dataframe tbody tr th:only-of-type {\n",
       "        vertical-align: middle;\n",
       "    }\n",
       "\n",
       "    .dataframe tbody tr th {\n",
       "        vertical-align: top;\n",
       "    }\n",
       "\n",
       "    .dataframe thead th {\n",
       "        text-align: right;\n",
       "    }\n",
       "</style>\n",
       "<table border=\"1\" class=\"dataframe\">\n",
       "  <thead>\n",
       "    <tr style=\"text-align: right;\">\n",
       "      <th></th>\n",
       "      <th>word</th>\n",
       "      <th>sentiment</th>\n",
       "      <th>embedding</th>\n",
       "      <th>similar_word_1</th>\n",
       "      <th>similar_word_2</th>\n",
       "      <th>similar_word_3</th>\n",
       "      <th>similar_word_4</th>\n",
       "      <th>similar_word_5</th>\n",
       "    </tr>\n",
       "  </thead>\n",
       "  <tbody>\n",
       "    <tr>\n",
       "      <th>0</th>\n",
       "      <td>wszystkie</td>\n",
       "      <td>Neutral</td>\n",
       "      <td>[0.04213148, 0.03196649, 0.014593786, 0.007251...</td>\n",
       "      <td>wszytskie</td>\n",
       "      <td>wszelkie</td>\n",
       "      <td>pozostałe</td>\n",
       "      <td>Wszystkie</td>\n",
       "      <td>wszyskie</td>\n",
       "    </tr>\n",
       "    <tr>\n",
       "      <th>1</th>\n",
       "      <td>luzacki</td>\n",
       "      <td>Positive</td>\n",
       "      <td>[-0.00025074184, 0.060088143, -0.06687481, -0....</td>\n",
       "      <td>nonszalancki</td>\n",
       "      <td>luzackie</td>\n",
       "      <td>luzacko</td>\n",
       "      <td>zawadiacki</td>\n",
       "      <td>wyluzowany</td>\n",
       "    </tr>\n",
       "    <tr>\n",
       "      <th>2</th>\n",
       "      <td>nudne</td>\n",
       "      <td>Negative</td>\n",
       "      <td>[-0.04458306, 0.045463443, -0.005535635, -0.00...</td>\n",
       "      <td>monotonne</td>\n",
       "      <td>nudnawe</td>\n",
       "      <td>Nudne</td>\n",
       "      <td>nużące</td>\n",
       "      <td>nudne.</td>\n",
       "    </tr>\n",
       "    <tr>\n",
       "      <th>3</th>\n",
       "      <td>wporzadku</td>\n",
       "      <td>Positive</td>\n",
       "      <td>[-0.018328566, 0.05708965, 0.018148778, 0.0063...</td>\n",
       "      <td>wporządku</td>\n",
       "      <td>wpozadku</td>\n",
       "      <td>porzadku</td>\n",
       "      <td>porzadku.</td>\n",
       "      <td>pozadku</td>\n",
       "    </tr>\n",
       "    <tr>\n",
       "      <th>4</th>\n",
       "      <td>groźny</td>\n",
       "      <td>Negative</td>\n",
       "      <td>[-0.02980628, 0.008906932, -0.03944085, -0.072...</td>\n",
       "      <td>niebezpieczny</td>\n",
       "      <td>niegroźny</td>\n",
       "      <td>groźniejszy</td>\n",
       "      <td>najgroźniejszy</td>\n",
       "      <td>szkodliwy</td>\n",
       "    </tr>\n",
       "  </tbody>\n",
       "</table>\n",
       "</div>"
      ],
      "text/plain": [
       "        word sentiment                                          embedding  \\\n",
       "0  wszystkie   Neutral  [0.04213148, 0.03196649, 0.014593786, 0.007251...   \n",
       "1    luzacki  Positive  [-0.00025074184, 0.060088143, -0.06687481, -0....   \n",
       "2      nudne  Negative  [-0.04458306, 0.045463443, -0.005535635, -0.00...   \n",
       "3  wporzadku  Positive  [-0.018328566, 0.05708965, 0.018148778, 0.0063...   \n",
       "4     groźny  Negative  [-0.02980628, 0.008906932, -0.03944085, -0.072...   \n",
       "\n",
       "  similar_word_1 similar_word_2 similar_word_3  similar_word_4 similar_word_5  \n",
       "0      wszytskie       wszelkie      pozostałe       Wszystkie       wszyskie  \n",
       "1   nonszalancki       luzackie        luzacko      zawadiacki     wyluzowany  \n",
       "2      monotonne        nudnawe          Nudne          nużące         nudne.  \n",
       "3      wporządku       wpozadku       porzadku       porzadku.        pozadku  \n",
       "4  niebezpieczny      niegroźny    groźniejszy  najgroźniejszy      szkodliwy  "
      ]
     },
     "execution_count": 6,
     "metadata": {},
     "output_type": "execute_result"
    }
   ],
   "source": [
    "k = 5\n",
    "\n",
    "def get_top_k_similar(word, k):\n",
    "    if word in model.wv:\n",
    "        similar = model.wv.most_similar(word, topn=k)\n",
    "        return [sim_word for sim_word, score in similar]\n",
    "    else:\n",
    "        return [None] * k  # Jeśli słowo nie jest w słowniku\n",
    "\n",
    "\n",
    "for i in range(1, k+1):\n",
    "    df[f'similar_word_{i}'] = df['word'].apply(lambda x: get_top_k_similar(x, k)[i-1])\n",
    "\n",
    "df.head()"
   ]
  },
  {
   "cell_type": "code",
   "execution_count": 7,
   "metadata": {},
   "outputs": [
    {
     "name": "stdout",
     "output_type": "stream",
     "text": [
      "Zwalnianie pamięci zajmowanej przez model FastText...\n",
      "Pamięć zwolniona.\n"
     ]
    }
   ],
   "source": [
    "print(\"Zwalnianie pamięci zajmowanej przez model FastText...\")\n",
    "del model\n",
    "gc.collect()\n",
    "print(\"Pamięć zwolniona.\")"
   ]
  },
  {
   "cell_type": "code",
   "execution_count": 8,
   "metadata": {},
   "outputs": [],
   "source": [
    "df.to_csv('word-fasttext-embeddings.csv', index=False)"
   ]
  },
  {
   "cell_type": "code",
   "execution_count": 9,
   "metadata": {},
   "outputs": [],
   "source": [
    "tsne = TSNE(n_components=2, perplexity=30, n_iter=1000, random_state=42, init='random')\n",
    "tsne_result = tsne.fit_transform(embeddings_matrix)\n",
    "df['tsne_x'] = tsne_result[:, 0]\n",
    "df['tsne_y'] = tsne_result[:, 1]"
   ]
  },
  {
   "cell_type": "code",
   "execution_count": 10,
   "metadata": {},
   "outputs": [],
   "source": [
    "sentiment_colors = {'Negative': 'red', 'Positive': 'green', 'Neutral': 'blue'}"
   ]
  },
  {
   "cell_type": "code",
   "execution_count": 11,
   "metadata": {},
   "outputs": [
    {
     "data": {
      "application/vnd.plotly.v1+json": {
       "config": {
        "plotlyServerURL": "https://plot.ly"
       },
       "data": [
        {
         "customdata": [
          [
           "wszystkie",
           "Neutral"
          ],
          [
           "mieszane",
           "Neutral"
          ],
          [
           "duza",
           "Neutral"
          ],
          [
           "totalny",
           "Neutral"
          ],
          [
           "symetri",
           "Neutral"
          ],
          [
           "grubym",
           "Neutral"
          ],
          [
           "drewniany",
           "Neutral"
          ],
          [
           "drugiej",
           "Neutral"
          ],
          [
           "niektórych",
           "Neutral"
          ],
          [
           "jasno",
           "Neutral"
          ],
          [
           "prosta",
           "Neutral"
          ],
          [
           "niewtajemniczonych",
           "Neutral"
          ],
          [
           "pożytecznego",
           "Neutral"
          ],
          [
           "wszelkich",
           "Neutral"
          ],
          [
           "większych",
           "Neutral"
          ],
          [
           "trudniejszymi",
           "Neutral"
          ],
          [
           "średnio",
           "Neutral"
          ],
          [
           "sporo",
           "Neutral"
          ],
          [
           "pierwszym",
           "Neutral"
          ],
          [
           "drugim",
           "Neutral"
          ],
          [
           "gadających",
           "Neutral"
          ],
          [
           "pierwszy",
           "Neutral"
          ],
          [
           "innego",
           "Neutral"
          ],
          [
           "pierwsza",
           "Neutral"
          ],
          [
           "najlatwiejsze",
           "Neutral"
          ],
          [
           "porządnie",
           "Neutral"
          ],
          [
           "łatwe",
           "Neutral"
          ],
          [
           "zeszłoroczny",
           "Neutral"
          ],
          [
           "zrozumiały",
           "Neutral"
          ],
          [
           "latwych",
           "Neutral"
          ],
          [
           "pierwszych",
           "Neutral"
          ],
          [
           "krotka",
           "Neutral"
          ],
          [
           "przypadkowe",
           "Neutral"
          ],
          [
           "ważnego",
           "Neutral"
          ],
          [
           "matematyczna",
           "Neutral"
          ],
          [
           "proste",
           "Neutral"
          ],
          [
           "wnikliwe",
           "Neutral"
          ],
          [
           "trudniejsze",
           "Neutral"
          ],
          [
           "następnym",
           "Neutral"
          ],
          [
           "kolejne",
           "Neutral"
          ],
          [
           "takiego",
           "Neutral"
          ],
          [
           "specjalnie",
           "Neutral"
          ],
          [
           "początkujących",
           "Neutral"
          ],
          [
           "powyższych",
           "Neutral"
          ],
          [
           "ostatniej",
           "Neutral"
          ],
          [
           "wielka",
           "Neutral"
          ],
          [
           "przpity",
           "Neutral"
          ],
          [
           "pierwsze",
           "Neutral"
          ],
          [
           "wysokie",
           "Neutral"
          ],
          [
           "ciężkie",
           "Neutral"
          ],
          [
           "odfajkowane",
           "Neutral"
          ],
          [
           "analityczną",
           "Neutral"
          ],
          [
           "zakręconym",
           "Neutral"
          ],
          [
           "banalne",
           "Neutral"
          ],
          [
           "pozmieniane",
           "Neutral"
          ],
          [
           "normalny",
           "Neutral"
          ],
          [
           "przygotowanym",
           "Neutral"
          ],
          [
           "teoretyczny",
           "Neutral"
          ],
          [
           "każdych",
           "Neutral"
          ],
          [
           "japonskiego",
           "Neutral"
          ],
          [
           "odpowiednie",
           "Neutral"
          ],
          [
           "specyficzne",
           "Neutral"
          ],
          [
           "dowcipny",
           "Neutral"
          ],
          [
           "jakies",
           "Neutral"
          ],
          [
           "najtrudniejsze",
           "Neutral"
          ],
          [
           "nieusprawiedliwioną",
           "Neutral"
          ],
          [
           "końcową",
           "Neutral"
          ],
          [
           "każda",
           "Neutral"
          ],
          [
           "krótki",
           "Neutral"
          ],
          [
           "niezapowiedzianych",
           "Neutral"
          ],
          [
           "zapowiedzianych",
           "Neutral"
          ],
          [
           "najmniejszego",
           "Neutral"
          ],
          [
           "nieorganiczna",
           "Neutral"
          ],
          [
           "najniższa",
           "Neutral"
          ],
          [
           "powyzszymi",
           "Neutral"
          ],
          [
           "zapowiedziane",
           "Neutral"
          ],
          [
           "mogące",
           "Neutral"
          ],
          [
           "dodatkowe",
           "Neutral"
          ],
          [
           "swoich",
           "Neutral"
          ],
          [
           "gadajace",
           "Neutral"
          ],
          [
           "przylapane",
           "Neutral"
          ],
          [
           "popchnięty",
           "Neutral"
          ],
          [
           "międzynarodowe",
           "Neutral"
          ],
          [
           "międzynarodowa",
           "Neutral"
          ],
          [
           "nikłe",
           "Neutral"
          ],
          [
           "elektryczny",
           "Neutral"
          ],
          [
           "ważny",
           "Neutral"
          ],
          [
           "naga",
           "Neutral"
          ],
          [
           "duzych",
           "Neutral"
          ],
          [
           "dowolna",
           "Neutral"
          ],
          [
           "naszej",
           "Neutral"
          ],
          [
           "ogólne",
           "Neutral"
          ],
          [
           "najprostszy",
           "Neutral"
          ],
          [
           "różne",
           "Neutral"
          ],
          [
           "każde",
           "Neutral"
          ],
          [
           "staropolskie",
           "Neutral"
          ],
          [
           "starszy",
           "Neutral"
          ],
          [
           "swoimi",
           "Neutral"
          ],
          [
           "opracowanymi",
           "Neutral"
          ],
          [
           "przeróżne",
           "Neutral"
          ],
          [
           "dodatkowej",
           "Neutral"
          ],
          [
           "zaliczeniowy",
           "Neutral"
          ],
          [
           "całych",
           "Neutral"
          ],
          [
           "zestresowany",
           "Neutral"
          ],
          [
           "duzy",
           "Neutral"
          ],
          [
           "mojej",
           "Neutral"
          ],
          [
           "inne",
           "Neutral"
          ],
          [
           "jego",
           "Neutral"
          ],
          [
           "jedną",
           "Neutral"
          ],
          [
           "zapowiedzianą",
           "Neutral"
          ],
          [
           "trzecim",
           "Neutral"
          ],
          [
           "absolutnej",
           "Neutral"
          ],
          [
           "absolutny",
           "Neutral"
          ],
          [
           "standardowe",
           "Neutral"
          ],
          [
           "małą",
           "Neutral"
          ],
          [
           "lewą",
           "Neutral"
          ],
          [
           "całe",
           "Neutral"
          ],
          [
           "graficzny",
           "Neutral"
          ],
          [
           "kazde",
           "Neutral"
          ],
          [
           "grupowa",
           "Neutral"
          ],
          [
           "wymyślonej",
           "Neutral"
          ],
          [
           "wszystkimi",
           "Neutral"
          ],
          [
           "głośno",
           "Neutral"
          ],
          [
           "zdecydowanie",
           "Neutral"
          ],
          [
           "jakiś",
           "Neutral"
          ],
          [
           "oparty",
           "Neutral"
          ],
          [
           "wlasnych",
           "Neutral"
          ],
          [
           "wasz",
           "Neutral"
          ],
          [
           "rozwiazywane",
           "Neutral"
          ],
          [
           "pare",
           "Neutral"
          ],
          [
           "dana",
           "Neutral"
          ],
          [
           "ii",
           "Neutral"
          ],
          [
           "dostali",
           "Neutral"
          ],
          [
           "dużo",
           "Neutral"
          ],
          [
           "zaliczniowe",
           "Neutral"
          ],
          [
           "złym",
           "Neutral"
          ],
          [
           "ogolna",
           "Neutral"
          ],
          [
           "analitycznej",
           "Neutral"
          ],
          [
           "licznymi",
           "Neutral"
          ],
          [
           "swój",
           "Neutral"
          ],
          [
           "wyspany",
           "Neutral"
          ],
          [
           "nieobecnego",
           "Neutral"
          ],
          [
           "kolejnych",
           "Neutral"
          ],
          [
           "aluminiowej",
           "Neutral"
          ],
          [
           "bezprzewodowych",
           "Neutral"
          ],
          [
           "bezprzewodową",
           "Neutral"
          ],
          [
           "budowniczy",
           "Neutral"
          ],
          [
           "błyskowej",
           "Neutral"
          ],
          [
           "calej",
           "Neutral"
          ],
          [
           "całkowitym",
           "Neutral"
          ],
          [
           "chiński",
           "Neutral"
          ],
          [
           "cicha",
           "Neutral"
          ],
          [
           "cienki",
           "Neutral"
          ],
          [
           "ciepłej",
           "Neutral"
          ],
          [
           "ciężki",
           "Neutral"
          ],
          [
           "cięższych",
           "Neutral"
          ],
          [
           "cyfrowymi",
           "Neutral"
          ],
          [
           "częste",
           "Neutral"
          ],
          [
           "delikatna",
           "Neutral"
          ],
          [
           "delikatnego",
           "Neutral"
          ],
          [
           "delikatnie",
           "Neutral"
          ],
          [
           "dezynfekcyjnym",
           "Neutral"
          ],
          [
           "dodatkowych",
           "Neutral"
          ],
          [
           "dolnymi",
           "Neutral"
          ],
          [
           "dostępny",
           "Neutral"
          ],
          [
           "dowolnego",
           "Neutral"
          ],
          [
           "dołączonej",
           "Neutral"
          ],
          [
           "drewnianym",
           "Neutral"
          ],
          [
           "drobnej",
           "Neutral"
          ],
          [
           "drogi",
           "Neutral"
          ],
          [
           "drogie",
           "Neutral"
          ],
          [
           "droższy",
           "Neutral"
          ],
          [
           "drugi",
           "Neutral"
          ],
          [
           "drugie",
           "Neutral"
          ],
          [
           "drugą",
           "Neutral"
          ],
          [
           "drukowaną",
           "Neutral"
          ],
          [
           "dużego",
           "Neutral"
          ],
          [
           "duży",
           "Neutral"
          ],
          [
           "dużą",
           "Neutral"
          ],
          [
           "dwuletni",
           "Neutral"
          ],
          [
           "dziennej",
           "Neutral"
          ],
          [
           "długiej",
           "Neutral"
          ],
          [
           "długo",
           "Neutral"
          ],
          [
           "dżwiękową",
           "Neutral"
          ],
          [
           "ewidentne",
           "Neutral"
          ],
          [
           "fabryczne",
           "Neutral"
          ],
          [
           "fabrycznych",
           "Neutral"
          ],
          [
           "fotograficzny",
           "Neutral"
          ],
          [
           "glosny",
           "Neutral"
          ],
          [
           "gotowane",
           "Neutral"
          ],
          [
           "grzejnego",
           "Neutral"
          ],
          [
           "grzewczą",
           "Neutral"
          ],
          [
           "gumowa",
           "Neutral"
          ],
          [
           "górnej",
           "Neutral"
          ],
          [
           "głośna",
           "Neutral"
          ],
          [
           "głośne",
           "Neutral"
          ],
          [
           "głośnomówiące",
           "Neutral"
          ],
          [
           "głośnomówiący",
           "Neutral"
          ],
          [
           "głośny",
           "Neutral"
          ],
          [
           "głębsze",
           "Neutral"
          ],
          [
           "identycznej",
           "Neutral"
          ],
          [
           "identyczny",
           "Neutral"
          ],
          [
           "innej",
           "Neutral"
          ],
          [
           "inny",
           "Neutral"
          ],
          [
           "innych",
           "Neutral"
          ],
          [
           "innym",
           "Neutral"
          ],
          [
           "jednorazowy",
           "Neutral"
          ],
          [
           "jedynym",
           "Neutral"
          ],
          [
           "kilkukrotne",
           "Neutral"
          ],
          [
           "kilkuminutowe",
           "Neutral"
          ],
          [
           "kolejna",
           "Neutral"
          ],
          [
           "kompletna",
           "Neutral"
          ],
          [
           "końcowego",
           "Neutral"
          ],
          [
           "lekka",
           "Neutral"
          ],
          [
           "lekkich",
           "Neutral"
          ],
          [
           "lewy",
           "Neutral"
          ],
          [
           "lokalnym",
           "Neutral"
          ],
          [
           "luźna",
           "Neutral"
          ],
          [
           "lżejszy",
           "Neutral"
          ],
          [
           "matowe",
           "Neutral"
          ],
          [
           "małe",
           "Neutral"
          ],
          [
           "małej",
           "Neutral"
          ],
          [
           "mały",
           "Neutral"
          ],
          [
           "małym",
           "Neutral"
          ],
          [
           "mechaniczne",
           "Neutral"
          ],
          [
           "mocnego",
           "Neutral"
          ],
          [
           "moim",
           "Neutral"
          ],
          [
           "najtańsza",
           "Neutral"
          ],
          [
           "największa",
           "Neutral"
          ],
          [
           "największego",
           "Neutral"
          ],
          [
           "największych",
           "Neutral"
          ],
          [
           "najwyższej",
           "Neutral"
          ],
          [
           "następny",
           "Neutral"
          ],
          [
           "nasza",
           "Neutral"
          ],
          [
           "niebieskiej",
           "Neutral"
          ],
          [
           "nieprzywierającej",
           "Neutral"
          ],
          [
           "nieruchomej",
           "Neutral"
          ],
          [
           "niskie",
           "Neutral"
          ],
          [
           "niskiej",
           "Neutral"
          ],
          [
           "niską",
           "Neutral"
          ],
          [
           "niszowy",
           "Neutral"
          ],
          [
           "normalnego",
           "Neutral"
          ],
          [
           "nowa",
           "Neutral"
          ],
          [
           "nowego",
           "Neutral"
          ],
          [
           "nowszym",
           "Neutral"
          ],
          [
           "nowy",
           "Neutral"
          ],
          [
           "obsługiwanych",
           "Neutral"
          ],
          [
           "oczkowych",
           "Neutral"
          ],
          [
           "ogromna",
           "Neutral"
          ],
          [
           "ogromną",
           "Neutral"
          ],
          [
           "ostry",
           "Neutral"
          ],
          [
           "palonym",
           "Neutral"
          ],
          [
           "pierwszego",
           "Neutral"
          ],
          [
           "plastikowych",
           "Neutral"
          ],
          [
           "plastikwoe",
           "Neutral"
          ],
          [
           "początkowej",
           "Neutral"
          ],
          [
           "początkującego",
           "Neutral"
          ],
          [
           "początkującym",
           "Neutral"
          ],
          [
           "podniesionrgo",
           "Neutral"
          ],
          [
           "podwyższone",
           "Neutral"
          ],
          [
           "podłączona",
           "Neutral"
          ],
          [
           "pojedynczego",
           "Neutral"
          ],
          [
           "potrzebne",
           "Neutral"
          ],
          [
           "poważne",
           "Neutral"
          ],
          [
           "powtarzalna",
           "Neutral"
          ],
          [
           "powyginanym",
           "Neutral"
          ],
          [
           "powyższy",
           "Neutral"
          ],
          [
           "prostych",
           "Neutral"
          ],
          [
           "przeciwnym",
           "Neutral"
          ],
          [
           "przewodowej",
           "Neutral"
          ],
          [
           "pyzatym",
           "Neutral"
          ],
          [
           "płatnej",
           "Neutral"
          ],
          [
           "regulowanej",
           "Neutral"
          ],
          [
           "ruchomej",
           "Neutral"
          ],
          [
           "równym",
           "Neutral"
          ],
          [
           "różnych",
           "Neutral"
          ],
          [
           "różnym",
           "Neutral"
          ],
          [
           "samoczynnego",
           "Neutral"
          ],
          [
           "samoczynnych",
           "Neutral"
          ],
          [
           "silikonowe",
           "Neutral"
          ],
          [
           "skończone",
           "Neutral"
          ],
          [
           "specjalnym",
           "Neutral"
          ],
          [
           "sporym",
           "Neutral"
          ],
          [
           "spotykanej",
           "Neutral"
          ],
          [
           "starszych",
           "Neutral"
          ],
          [
           "suchą",
           "Neutral"
          ],
          [
           "szczególną",
           "Neutral"
          ],
          [
           "szeroka",
           "Neutral"
          ],
          [
           "szlifierską",
           "Neutral"
          ],
          [
           "sztywna",
           "Neutral"
          ],
          [
           "sztywny",
           "Neutral"
          ],
          [
           "szybki",
           "Neutral"
          ],
          [
           "taki",
           "Neutral"
          ],
          [
           "taką",
           "Neutral"
          ],
          [
           "tani",
           "Neutral"
          ],
          [
           "taniego",
           "Neutral"
          ],
          [
           "tańszego",
           "Neutral"
          ],
          [
           "tańszych",
           "Neutral"
          ],
          [
           "tańszą",
           "Neutral"
          ],
          [
           "teflonowych",
           "Neutral"
          ],
          [
           "ten",
           "Neutral"
          ],
          [
           "tradyzyjnej",
           "Neutral"
          ],
          [
           "trudny",
           "Neutral"
          ],
          [
           "trzecia",
           "Neutral"
          ],
          [
           "twarde",
           "Neutral"
          ],
          [
           "tłusta",
           "Neutral"
          ],
          [
           "ujemny",
           "Neutral"
          ],
          [
           "umieszczonej",
           "Neutral"
          ],
          [
           "ważnym",
           "Neutral"
          ],
          [
           "weterynaryjnych",
           "Neutral"
          ],
          [
           "widoczne",
           "Neutral"
          ],
          [
           "widoczną",
           "Neutral"
          ],
          [
           "wielkich",
           "Neutral"
          ],
          [
           "wielokrotny",
           "Neutral"
          ],
          [
           "większa",
           "Neutral"
          ],
          [
           "większy",
           "Neutral"
          ],
          [
           "większym",
           "Neutral"
          ],
          [
           "wyciszone",
           "Neutral"
          ],
          [
           "wyraźne",
           "Neutral"
          ],
          [
           "wyssane",
           "Neutral"
          ],
          [
           "wysuniętym",
           "Neutral"
          ],
          [
           "wyższej",
           "Neutral"
          ],
          [
           "wąskie",
           "Neutral"
          ],
          [
           "węglowe",
           "Neutral"
          ],
          [
           "własnego",
           "Neutral"
          ],
          [
           "własnej",
           "Neutral"
          ],
          [
           "własnych",
           "Neutral"
          ],
          [
           "zaawansowani",
           "Neutral"
          ],
          [
           "zachlapane",
           "Neutral"
          ],
          [
           "zadymione",
           "Neutral"
          ],
          [
           "zaskoczony",
           "Neutral"
          ],
          [
           "znaczącą",
           "Neutral"
          ],
          [
           "zwykły",
           "Neutral"
          ],
          [
           "zwykłym",
           "Neutral"
          ],
          [
           "ładującego",
           "Neutral"
          ],
          [
           "łatwy",
           "Neutral"
          ],
          [
           "śliskim",
           "Neutral"
          ],
          [
           "śmieszne",
           "Neutral"
          ],
          [
           "średnie",
           "Neutral"
          ],
          [
           "środkowym",
           "Neutral"
          ],
          [
           "świecących",
           "Neutral"
          ]
         ],
         "hovertemplate": "sentiment=%{customdata[1]}<br>t-SNE 1=%{x}<br>t-SNE 2=%{y}<br>word=%{customdata[0]}<extra></extra>",
         "legendgroup": "Neutral",
         "marker": {
          "color": "blue",
          "symbol": "circle"
         },
         "mode": "markers",
         "name": "Neutral",
         "orientation": "v",
         "showlegend": true,
         "textposition": "top center",
         "type": "scatter",
         "x": [
          -6.951480865478516,
          -5.65234375,
          16.000112533569336,
          9.406192779541016,
          -2.5736398696899414,
          -3.9481334686279297,
          6.704200267791748,
          -12.05350112915039,
          -4.842232704162598,
          -1.1010863780975342,
          16.177837371826172,
          0.5917346477508545,
          3.8578758239746094,
          -6.038302898406982,
          -5.498976707458496,
          -13.692054748535156,
          0.5551140904426575,
          -19.961566925048828,
          -4.029408931732178,
          -3.1470603942871094,
          -2.9233644008636475,
          14.659428596496582,
          4.047758102416992,
          17.48409080505371,
          -2.615227460861206,
          -0.5152952671051025,
          -15.718934059143066,
          7.901338577270508,
          3.010748863220215,
          -1.331480622291565,
          -4.471897602081299,
          13.250542640686035,
          -8.12179183959961,
          2.8151040077209473,
          8.464422225952148,
          -14.704840660095215,
          -4.733988285064697,
          -3.7700655460357666,
          -4.097666263580322,
          -15.457685470581055,
          3.8257763385772705,
          0.2374117225408554,
          1.288276195526123,
          -5.141385078430176,
          -12.189702033996582,
          15.93826961517334,
          -3.67219614982605,
          -15.264708518981934,
          -10.911890983581543,
          -12.806601524353027,
          -6.27202033996582,
          3.2410991191864014,
          -4.077110767364502,
          -14.328132629394531,
          -6.8646368980407715,
          11.563507080078125,
          -5.556118965148926,
          6.117940425872803,
          -3.293440341949463,
          2.457756519317627,
          -5.879734992980957,
          -6.033817291259766,
          5.859654426574707,
          -14.613715171813965,
          -4.179634094238281,
          2.6037275791168213,
          4.120372295379639,
          18.662933349609375,
          8.9360933303833,
          -1.7612669467926025,
          -1.6964430809020996,
          1.6923160552978516,
          6.813732147216797,
          14.053112030029297,
          -14.147093772888184,
          -5.318583965301514,
          -3.7277722358703613,
          -6.049094200134277,
          -8.510900497436523,
          -2.1546437740325928,
          -3.2026195526123047,
          2.540100574493408,
          -4.829565525054932,
          8.00345230102539,
          -9.210933685302734,
          4.82929801940918,
          11.99952220916748,
          17.90629005432129,
          -6.472585678100586,
          11.480631828308105,
          -15.147562026977539,
          -5.1229634284973145,
          10.988181114196777,
          -12.40320110321045,
          -18.18423080444336,
          -5.421744346618652,
          12.973328590393066,
          -14.142098426818848,
          -11.7260103225708,
          -11.756842613220215,
          -10.001993179321289,
          5.856338024139404,
          -4.941479206085205,
          0.830454409122467,
          17.10747718811035,
          -15.219704627990723,
          -12.726424217224121,
          -8.977034568786621,
          15.090006828308105,
          0.6403120756149292,
          -3.015381097793579,
          -11.9143705368042,
          9.114179611206055,
          -6.571735382080078,
          11.527530670166016,
          15.962800979614258,
          -16.315214157104492,
          6.018457412719727,
          -18.2563419342041,
          8.265567779541016,
          -8.6336030960083,
          -14.008052825927734,
          2.2212164402008057,
          1.264487385749817,
          14.143588066101074,
          5.218262672424316,
          -9.00124740600586,
          12.754021644592285,
          -4.028238773345947,
          -19.08058738708496,
          18.679729461669922,
          7.9023542404174805,
          -2.3542299270629883,
          -20.019193649291992,
          -3.7400102615356445,
          -6.733445167541504,
          12.211651802062988,
          -6.511513710021973,
          -14.663558006286621,
          15.308676719665527,
          0.47875791788101196,
          4.403282642364502,
          -4.6955718994140625,
          -7.151675701141357,
          -2.235546588897705,
          1.1472855806350708,
          3.5819692611694336,
          -4.986551284790039,
          -16.135324478149414,
          -6.883073329925537,
          8.074262619018555,
          17.923250198364258,
          9.91632080078125,
          -9.17020320892334,
          13.694238662719727,
          -6.999600410461426,
          -12.697928428649902,
          -9.69434928894043,
          16.777496337890625,
          5.027597904205322,
          0.24267539381980896,
          -3.6771302223205566,
          -4.418282508850098,
          -15.14611530303955,
          4.18905782699585,
          2.473191022872925,
          -7.739771842956543,
          -4.652845859527588,
          -14.188087463378906,
          19.896974563598633,
          -13.721580505371094,
          14.013298034667969,
          15.461516380310059,
          -15.351594924926758,
          15.30108642578125,
          2.0042812824249268,
          1.33461594581604,
          16.950517654418945,
          11.456483840942383,
          8.658822059631348,
          -9.90114688873291,
          -12.689642906188965,
          -0.11363343894481659,
          3.551368236541748,
          -8.879870414733887,
          -8.785445213317871,
          -3.3574633598327637,
          5.239171504974365,
          2.1274309158325195,
          -5.162644863128662,
          0.1451864242553711,
          1.4559271335601807,
          14.751300811767578,
          -11.292037010192871,
          14.253612518310547,
          -10.353510856628418,
          0.28773438930511475,
          0.3360005021095276,
          8.01358413696289,
          -3.685318946838379,
          -10.458145141601562,
          6.146183967590332,
          -13.347007751464844,
          13.651310920715332,
          -6.8942551612854,
          -6.176575660705566,
          8.629417419433594,
          -4.33888578414917,
          -8.831687927246094,
          -8.565757751464844,
          17.930137634277344,
          12.814483642578125,
          2.0665507316589355,
          17.718875885009766,
          -7.218535423278809,
          16.199501037597656,
          -6.901590824127197,
          18.57695960998535,
          14.122212409973145,
          -11.276708602905273,
          -13.346179962158203,
          -15.0971040725708,
          16.89325523376465,
          -8.918514251708984,
          -9.163769721984863,
          6.074746608734131,
          -8.583425521850586,
          13.189939498901367,
          14.577107429504395,
          1.5137614011764526,
          -4.385075569152832,
          -12.747547149658203,
          14.234441757202148,
          17.744361877441406,
          -8.361128807067871,
          -6.565431594848633,
          -8.494112014770508,
          -10.882858276367188,
          -14.248319625854492,
          10.167194366455078,
          10.516085624694824,
          4.304055690765381,
          18.65923309326172,
          3.807785749435425,
          -5.6590046882629395,
          15.209794044494629,
          -1.6487398147583008,
          -4.036747455596924,
          15.587483406066895,
          9.883511543273926,
          7.408536434173584,
          -3.897695302963257,
          2.4272027015686035,
          -4.241023540496826,
          -3.2527551651000977,
          -10.984257698059082,
          1.6474915742874146,
          1.8028496503829956,
          -1.7272037267684937,
          -5.381743431091309,
          4.92910623550415,
          2.3780086040496826,
          -5.170958518981934,
          -9.861440658569336,
          11.476846694946289,
          -3.286909341812134,
          7.063006401062012,
          -5.736110210418701,
          -4.109870433807373,
          -4.46757173538208,
          -1.6028339862823486,
          -9.812433242797852,
          -6.644051551818848,
          -8.633004188537598,
          -7.945342063903809,
          -6.915493965148926,
          -8.921088218688965,
          0.47106820344924927,
          -3.042412042617798,
          -10.316267013549805,
          -6.746897220611572,
          -5.553343296051025,
          -8.851387977600098,
          -10.614423751831055,
          -3.4856770038604736,
          10.066688537597656,
          8.892074584960938,
          14.571542739868164,
          2.390674591064453,
          17.829444885253906,
          9.630455017089844,
          7.851896286010742,
          13.615972518920898,
          11.437543869018555,
          6.877480506896973,
          7.074923515319824,
          6.9470319747924805,
          -2.300645112991333,
          12.576234817504883,
          -4.9217753410339355,
          14.08858871459961,
          -6.136573314666748,
          13.643795013427734,
          17.40985679626465,
          -11.822663307189941,
          16.63006591796875,
          10.280654907226562,
          -7.733946323394775,
          -4.347407341003418,
          -2.2038352489471436,
          -7.657037258148193,
          8.177420616149902,
          -5.6384596824646,
          9.048322677612305,
          14.685046195983887,
          13.001557350158691,
          -7.669419288635254,
          -7.877128601074219,
          -8.33489990234375,
          -6.622959613800049,
          -5.58066987991333,
          -12.865699768066406,
          -11.715141296386719,
          -9.44658088684082,
          1.384522795677185,
          -14.076374053955078,
          -8.786492347717285,
          1.026821255683899,
          -11.286087036132812,
          -11.983503341674805,
          0.7492216229438782,
          8.943804740905762,
          12.202399253845215,
          -5.638947010040283,
          2.7644171714782715,
          7.859492778778076,
          -2.7955198287963867,
          -11.607017517089844,
          -7.358739852905273,
          -2.355879783630371,
          -3.6193394660949707
         ],
         "xaxis": "x",
         "y": [
          8.815587043762207,
          6.26626443862915,
          -11.8549165725708,
          7.015163898468018,
          -0.6920437216758728,
          -19.125629425048828,
          -0.39467355608940125,
          -6.318916320800781,
          -8.271644592285156,
          15.775914192199707,
          -2.7065141201019287,
          -1.0055890083312988,
          -11.692630767822266,
          -8.919269561767578,
          -10.643913269042969,
          -13.878377914428711,
          21.560264587402344,
          3.3328065872192383,
          -22.198562622070312,
          -22.56608009338379,
          -6.223182201385498,
          8.172966003417969,
          -13.844033241271973,
          -9.022252082824707,
          6.08278226852417,
          16.884653091430664,
          8.06544017791748,
          3.949434518814087,
          10.074013710021973,
          -1.3831958770751953,
          -9.519187927246094,
          -0.9098981022834778,
          8.546170234680176,
          -13.373591423034668,
          -3.4381277561187744,
          8.682781219482422,
          13.419116973876953,
          8.06641960144043,
          -21.810876846313477,
          12.668717384338379,
          -13.241974830627441,
          3.1974616050720215,
          -0.9163818359375,
          -8.55557632446289,
          -5.989080429077148,
          -10.8419771194458,
          1.5000889301300049,
          13.609213829040527,
          15.135015487670898,
          7.480590343475342,
          2.414862632751465,
          -5.131769180297852,
          -17.699453353881836,
          8.797819137573242,
          4.805467128753662,
          9.719562530517578,
          -16.491008758544922,
          2.8057053089141846,
          -10.986913681030273,
          0.7143035531044006,
          8.456168174743652,
          7.857509136199951,
          10.909128189086914,
          11.9390230178833,
          7.417104244232178,
          -4.30214786529541,
          -5.4276909828186035,
          -9.899065017700195,
          12.870317459106445,
          -6.25386381149292,
          -6.20965576171875,
          -10.616205215454102,
          -3.9796555042266846,
          -8.840696334838867,
          -13.657292366027832,
          1.1552406549453735,
          10.498111724853516,
          9.144075393676758,
          -11.109350204467773,
          4.498125076293945,
          3.624511480331421,
          4.341202259063721,
          5.092753887176514,
          -4.579719066619873,
          13.523711204528809,
          0.7931426763534546,
          13.73688793182373,
          -5.156670570373535,
          -11.530481338500977,
          -6.165103435516357,
          -7.1449875831604,
          10.034945487976074,
          7.944406986236572,
          12.70546817779541,
          13.40835189819336,
          4.941319942474365,
          6.080007076263428,
          -15.284822463989258,
          -14.324318885803223,
          12.337285041809082,
          -4.843843936920166,
          2.3344931602478027,
          -11.80700397491455,
          10.265048027038574,
          15.315913200378418,
          -7.196345806121826,
          12.884479522705078,
          -12.465423583984375,
          -17.936323165893555,
          -6.229496955871582,
          -22.572242736816406,
          -3.136984348297119,
          6.908905506134033,
          7.517695426940918,
          -19.196617126464844,
          -18.259132385253906,
          12.410920143127441,
          1.1874536275863647,
          13.429375648498535,
          -5.2896318435668945,
          -4.085819721221924,
          -14.15885066986084,
          16.720151901245117,
          2.1865501403808594,
          10.47448444366455,
          4.3694024085998535,
          -10.4049072265625,
          11.453826904296875,
          3.0638391971588135,
          2.1760146617889404,
          -10.941768646240234,
          -3.0488598346710205,
          1.5185879468917847,
          3.411033868789673,
          5.034938812255859,
          -24.86486053466797,
          -1.5522973537445068,
          -1.370654821395874,
          -14.440681457519531,
          11.018936157226562,
          10.204307556152344,
          -7.413166522979736,
          -9.462052345275879,
          -2.6159675121307373,
          -3.9014806747436523,
          -4.28826379776001,
          -0.6107264757156372,
          -1.8922171592712402,
          -6.987710952758789,
          -20.067672729492188,
          1.6842830181121826,
          -0.8160823583602905,
          10.772621154785156,
          -2.5370752811431885,
          15.021055221557617,
          -7.7175822257995605,
          -13.671525955200195,
          10.258872985839844,
          -3.970673084259033,
          -10.023514747619629,
          15.939655303955078,
          -15.376612663269043,
          -6.799043655395508,
          -13.510387420654297,
          3.4135146141052246,
          -11.834474563598633,
          -5.0127973556518555,
          -17.087318420410156,
          -4.647047996520996,
          5.005277633666992,
          6.087046146392822,
          3.8365328311920166,
          8.125020980834961,
          13.91455078125,
          -18.005130767822266,
          -5.4694623947143555,
          -13.34878158569336,
          14.836873054504395,
          -19.217967987060547,
          3.336024284362793,
          -4.480741024017334,
          -5.419407844543457,
          19.0996150970459,
          -3.665929079055786,
          11.572816848754883,
          2.0283288955688477,
          -3.327903985977173,
          1.1870381832122803,
          8.05795669555664,
          3.3987367153167725,
          -9.813825607299805,
          -3.5575850009918213,
          -2.0906472206115723,
          -7.0112433433532715,
          -6.446536064147949,
          9.52806282043457,
          4.969303131103516,
          4.967459678649902,
          11.503569602966309,
          8.933931350708008,
          -3.325714349746704,
          5.123044013977051,
          -7.594488143920898,
          9.803401947021484,
          -9.58926773071289,
          -21.389169692993164,
          4.846865177154541,
          -23.463424682617188,
          9.65987491607666,
          9.591544151306152,
          -9.140862464904785,
          -6.67729377746582,
          -9.325984954833984,
          -2.5432844161987305,
          -7.4646897315979,
          7.675028324127197,
          -17.268775939941406,
          -3.0440032482147217,
          4.732839584350586,
          5.453859329223633,
          17.667224884033203,
          -4.937446117401123,
          14.63767147064209,
          -22.684463500976562,
          3.769214153289795,
          -10.08675765991211,
          -23.85123634338379,
          -9.118538856506348,
          -9.176322937011719,
          -10.850573539733887,
          -10.269941329956055,
          -2.3565502166748047,
          7.7232279777526855,
          -10.68492603302002,
          -2.56892728805542,
          -2.9191436767578125,
          -1.1039103269577026,
          15.133453369140625,
          -2.19486665725708,
          -18.66671371459961,
          6.0014448165893555,
          -10.892845153808594,
          -8.32182502746582,
          -14.540515899658203,
          -22.299291610717773,
          9.905579566955566,
          -4.763246059417725,
          -4.262012004852295,
          -10.677915573120117,
          -17.61334800720215,
          9.252832412719727,
          -16.52288055419922,
          -10.770318984985352,
          -5.305752277374268,
          -0.7646721005439758,
          -4.490406513214111,
          -1.0715075731277466,
          -0.9918413162231445,
          1.210106611251831,
          7.315376281738281,
          -2.2755773067474365,
          -10.943594932556152,
          8.900888442993164,
          11.696364402770996,
          -4.872063636779785,
          -17.442873001098633,
          5.6783905029296875,
          -6.78311014175415,
          -21.018779754638672,
          -2.4057490825653076,
          -17.26238250732422,
          -5.733801364898682,
          -3.7565133571624756,
          -0.8113688826560974,
          -20.926713943481445,
          -9.72793960571289,
          -20.482473373413086,
          -8.452640533447266,
          -4.3401875495910645,
          4.645501613616943,
          2.0506138801574707,
          -17.26810646057129,
          -22.42593765258789,
          -2.465726613998413,
          -8.085784912109375,
          -14.45975112915039,
          -17.391828536987305,
          -3.689135789871216,
          -3.323049306869507,
          -3.703437089920044,
          10.551445960998535,
          14.208353042602539,
          11.970199584960938,
          -17.449626922607422,
          15.383430480957031,
          -11.871281623840332,
          -12.188669204711914,
          -9.035576820373535,
          -14.98030948638916,
          -4.643404483795166,
          12.288680076599121,
          -2.1327590942382812,
          15.008071899414062,
          -8.989479064941406,
          6.870567321777344,
          -4.314924716949463,
          4.218021869659424,
          -4.292965888977051,
          -24.121461868286133,
          -2.961779832839966,
          12.34184741973877,
          -16.4566707611084,
          -11.011401176452637,
          5.20298957824707,
          -10.351419448852539,
          4.797070026397705,
          -21.460790634155273,
          4.180792331695557,
          12.882262229919434,
          3.839826822280884,
          -15.363814353942871,
          -1.8755924701690674,
          15.54073429107666,
          3.199159860610962,
          -12.227938652038574,
          -7.132600784301758,
          -10.608993530273438,
          0.047819532454013824,
          2.6274237632751465,
          3.251699209213257,
          11.227907180786133,
          -16.836898803710938,
          9.913667678833008,
          -20.17334747314453,
          -8.027200698852539,
          14.803130149841309,
          -18.538633346557617,
          9.373068809509277,
          7.757437229156494,
          -20.35799217224121,
          -5.670283317565918
         ],
         "yaxis": "y"
        },
        {
         "customdata": [
          [
           "luzacki",
           "Positive"
          ],
          [
           "wporzadku",
           "Positive"
          ],
          [
           "fajny",
           "Positive"
          ],
          [
           "dobra",
           "Positive"
          ],
          [
           "spoko",
           "Positive"
          ],
          [
           "czylelnie",
           "Positive"
          ],
          [
           "ulubiona",
           "Positive"
          ],
          [
           "sympatyczny",
           "Positive"
          ],
          [
           "ciekawe",
           "Positive"
          ],
          [
           "niesamowite",
           "Positive"
          ],
          [
           "dobry",
           "Positive"
          ],
          [
           "porywajace",
           "Positive"
          ],
          [
           "interesujace",
           "Positive"
          ],
          [
           "nieziemski",
           "Positive"
          ],
          [
           "ciekawą",
           "Positive"
          ],
          [
           "elegancką",
           "Positive"
          ],
          [
           "ładne",
           "Positive"
          ],
          [
           "ok",
           "Positive"
          ],
          [
           "lagodny",
           "Positive"
          ],
          [
           "miła",
           "Positive"
          ],
          [
           "sympatyczna",
           "Positive"
          ],
          [
           "dobrą",
           "Positive"
          ],
          [
           "godna",
           "Positive"
          ],
          [
           "bdb",
           "Positive"
          ],
          [
           "najciekwszy",
           "Positive"
          ],
          [
           "dobrego",
           "Positive"
          ],
          [
           "przyjazne",
           "Positive"
          ],
          [
           "pozytwyna",
           "Positive"
          ],
          [
           "skrupulatnym",
           "Positive"
          ],
          [
           "punktualnym",
           "Positive"
          ],
          [
           "wspaniała",
           "Positive"
          ],
          [
           "ciekawy",
           "Positive"
          ],
          [
           "przyjazny",
           "Positive"
          ],
          [
           "pozytywna",
           "Positive"
          ],
          [
           "bezstresowy",
           "Positive"
          ],
          [
           "bezstresowe",
           "Positive"
          ],
          [
           "dobre",
           "Positive"
          ],
          [
           "dobrym",
           "Positive"
          ],
          [
           "najlepszy",
           "Positive"
          ],
          [
           "pozytywne",
           "Positive"
          ],
          [
           "przystepny",
           "Positive"
          ],
          [
           "miły",
           "Positive"
          ],
          [
           "łatwiej",
           "Positive"
          ],
          [
           "swietnie",
           "Positive"
          ],
          [
           "mila",
           "Positive"
          ],
          [
           "dokladnie",
           "Positive"
          ],
          [
           "duze",
           "Positive"
          ],
          [
           "duzej",
           "Positive"
          ],
          [
           "ladna",
           "Positive"
          ],
          [
           "zwyżkowa",
           "Positive"
          ],
          [
           "duże",
           "Positive"
          ],
          [
           "miłą",
           "Positive"
          ],
          [
           "miłe",
           "Positive"
          ],
          [
           "przyjemnie",
           "Positive"
          ],
          [
           "atrakcyjny",
           "Positive"
          ],
          [
           "czytelne",
           "Positive"
          ],
          [
           "czytelny",
           "Positive"
          ],
          [
           "dobrej",
           "Positive"
          ],
          [
           "dobrze",
           "Positive"
          ],
          [
           "dokładne",
           "Positive"
          ],
          [
           "dopracowanego",
           "Positive"
          ],
          [
           "ergonomiczna",
           "Positive"
          ],
          [
           "fajna",
           "Positive"
          ],
          [
           "fajne",
           "Positive"
          ],
          [
           "genialnym",
           "Positive"
          ],
          [
           "idealne",
           "Positive"
          ],
          [
           "idealnie",
           "Positive"
          ],
          [
           "klimatyczna",
           "Positive"
          ],
          [
           "kompatybilny",
           "Positive"
          ],
          [
           "kompatybilnych",
           "Positive"
          ],
          [
           "lepszego",
           "Positive"
          ],
          [
           "lepszym",
           "Positive"
          ],
          [
           "lepszą",
           "Positive"
          ],
          [
           "mocniejszy",
           "Positive"
          ],
          [
           "najlepszych",
           "Positive"
          ],
          [
           "niezłe",
           "Positive"
          ],
          [
           "odpowiedni",
           "Positive"
          ],
          [
           "odpowiedniego",
           "Positive"
          ],
          [
           "piękne",
           "Positive"
          ],
          [
           "polecany",
           "Positive"
          ],
          [
           "poręczna",
           "Positive"
          ],
          [
           "poręczniejsza",
           "Positive"
          ],
          [
           "praktyczna",
           "Positive"
          ],
          [
           "precyzyjne",
           "Positive"
          ],
          [
           "przydatna",
           "Positive"
          ],
          [
           "przyjemny",
           "Positive"
          ],
          [
           "przyzwoicie",
           "Positive"
          ],
          [
           "przyzwoitego",
           "Positive"
          ],
          [
           "płynnie",
           "Positive"
          ],
          [
           "rewelacyjne",
           "Positive"
          ],
          [
           "sensownego",
           "Positive"
          ],
          [
           "solidne",
           "Positive"
          ],
          [
           "solidniejszego",
           "Positive"
          ],
          [
           "sprawdzonego",
           "Positive"
          ],
          [
           "super",
           "Positive"
          ],
          [
           "wydajna",
           "Positive"
          ],
          [
           "wydajny",
           "Positive"
          ],
          [
           "wygodna",
           "Positive"
          ],
          [
           "wygodny",
           "Positive"
          ],
          [
           "wytrzymała",
           "Positive"
          ],
          [
           "wytrzymałe",
           "Positive"
          ],
          [
           "zadowalająca",
           "Positive"
          ],
          [
           "zadowolona",
           "Positive"
          ],
          [
           "zadowolony",
           "Positive"
          ],
          [
           "ładna",
           "Positive"
          ],
          [
           "ładnej",
           "Positive"
          ],
          [
           "ładny",
           "Positive"
          ],
          [
           "świetny",
           "Positive"
          ]
         ],
         "hovertemplate": "sentiment=%{customdata[1]}<br>t-SNE 1=%{x}<br>t-SNE 2=%{y}<br>word=%{customdata[0]}<extra></extra>",
         "legendgroup": "Positive",
         "marker": {
          "color": "green",
          "symbol": "circle"
         },
         "mode": "markers",
         "name": "Positive",
         "orientation": "v",
         "showlegend": true,
         "textposition": "top center",
         "type": "scatter",
         "x": [
          5.22382926940918,
          -0.277524471282959,
          10.13485336303711,
          16.301082611083984,
          7.581996917724609,
          0.47408267855644226,
          16.162424087524414,
          5.951923370361328,
          -11.134284019470215,
          -6.9843525886535645,
          11.275361061096191,
          -2.678295135498047,
          -2.4239394664764404,
          8.250450134277344,
          10.997162818908691,
          10.336149215698242,
          -8.999863624572754,
          0.5521687269210815,
          3.3044650554656982,
          21.321928024291992,
          15.306114196777344,
          12.051377296447754,
          14.557123184204102,
          10.960299491882324,
          -2.532604217529297,
          5.41003942489624,
          -2.6721115112304688,
          -3.7600553035736084,
          -6.061851501464844,
          -6.136038303375244,
          15.60362720489502,
          10.451265335083008,
          6.162394046783447,
          10.872237205505371,
          4.214517116546631,
          3.880993604660034,
          -7.735483169555664,
          -6.733913421630859,
          11.133482933044434,
          -7.241081714630127,
          2.6196343898773193,
          9.323949813842773,
          -2.3586337566375732,
          -2.6274914741516113,
          21.641334533691406,
          -1.2356350421905518,
          -13.228484153747559,
          -16.093042373657227,
          21.05948257446289,
          9.88622760772705,
          -13.311120986938477,
          12.931334495544434,
          -8.038616180419922,
          0.3454643189907074,
          6.915687084197998,
          -6.765993595123291,
          3.323789119720459,
          -15.625393867492676,
          -1.590914011001587,
          -5.447807788848877,
          3.45086407661438,
          14.05802059173584,
          20.688329696655273,
          -8.544705390930176,
          -5.184839248657227,
          -5.939960956573486,
          -2.6725869178771973,
          14.482312202453613,
          -0.6864015460014343,
          -1.3672590255737305,
          5.5397562980651855,
          -6.763145446777344,
          12.289901733398438,
          13.351855278015137,
          -3.6856577396392822,
          -8.412484169006348,
          7.502144813537598,
          3.1894257068634033,
          -9.230660438537598,
          3.324418783187866,
          16.217330932617188,
          10.586099624633789,
          13.883572578430176,
          -5.636317253112793,
          13.075752258300781,
          7.620927333831787,
          -0.34855958819389343,
          4.440151214599609,
          0.8285853862762451,
          -6.824865341186523,
          4.086167335510254,
          -7.354466438293457,
          3.379316806793213,
          3.834824323654175,
          7.744053840637207,
          16.561880111694336,
          6.2755351066589355,
          16.48167610168457,
          7.389608860015869,
          10.896492004394531,
          -11.342687606811523,
          11.179206848144531,
          0.6717212796211243,
          0.6994821429252625,
          20.823863983154297,
          -16.05367088317871,
          9.883451461791992,
          10.3923921585083
         ],
         "xaxis": "x",
         "y": [
          9.193687438964844,
          8.035761833190918,
          15.341960906982422,
          -6.064150333404541,
          18.938913345336914,
          1.7307276725769043,
          -7.299403667449951,
          10.186773300170898,
          11.07021427154541,
          10.164652824401855,
          15.962642669677734,
          4.487818717956543,
          6.752297878265381,
          7.841812610626221,
          -16.149736404418945,
          -15.295548439025879,
          17.97461700439453,
          21.9628963470459,
          8.326733589172363,
          -3.4296233654022217,
          -4.918573379516602,
          -16.417531967163086,
          0.06583291292190552,
          18.34653091430664,
          2.9949324131011963,
          -12.544949531555176,
          11.82254409790039,
          -0.1980326920747757,
          -18.830387115478516,
          -18.491514205932617,
          -5.690864086151123,
          13.842615127563477,
          12.513967514038086,
          -8.11947250366211,
          12.753191947937012,
          12.990795135498047,
          16.18022346496582,
          -23.953886032104492,
          7.984618186950684,
          10.93427562713623,
          7.035447597503662,
          16.475568771362305,
          8.726158142089844,
          17.35624885559082,
          -2.97979736328125,
          6.743524074554443,
          18.269180297851562,
          -5.190542221069336,
          -5.329466342926025,
          -5.3592329025268555,
          17.801645278930664,
          -16.876033782958984,
          18.376893997192383,
          17.032913208007812,
          10.696148872375488,
          13.306640625,
          10.765560150146484,
          -2.5369486808776855,
          18.06070899963379,
          13.029914855957031,
          -9.013641357421875,
          -2.7555887699127197,
          -4.597548484802246,
          17.501333236694336,
          -19.134174346923828,
          11.16001033782959,
          17.277124404907227,
          -4.97190523147583,
          -3.9825291633605957,
          -4.4257426261901855,
          -12.901798248291016,
          -22.87210464477539,
          -15.446884155273438,
          4.7304792404174805,
          -9.841022491455078,
          16.219940185546875,
          6.546139240264893,
          -10.075156211853027,
          18.06607437133789,
          2.439089059829712,
          -1.1361199617385864,
          -3.522671699523926,
          -2.987973928451538,
          12.843343734741211,
          -2.976865530014038,
          12.720376968383789,
          16.82178497314453,
          -11.0010404586792,
          15.569103240966797,
          10.15140438079834,
          -12.169106483459473,
          14.933759689331055,
          -9.906654357910156,
          -9.429511070251465,
          18.712940216064453,
          -0.06611395627260208,
          14.268747329711914,
          -1.5092720985412598,
          13.81059741973877,
          -2.40561580657959,
          6.441611289978027,
          -4.238659858703613,
          12.499021530151367,
          12.321733474731445,
          -4.79518461227417,
          -2.8072049617767334,
          15.66537094116211,
          14.4551362991333
         ],
         "yaxis": "y"
        },
        {
         "customdata": [
          [
           "nudne",
           "Negative"
          ],
          [
           "groźny",
           "Negative"
          ],
          [
           "nudno",
           "Negative"
          ],
          [
           "straszny",
           "Negative"
          ],
          [
           "ekscentryczny",
           "Negative"
          ],
          [
           "zły",
           "Negative"
          ],
          [
           "niezwiązanych",
           "Negative"
          ],
          [
           "źle",
           "Negative"
          ],
          [
           "trudne",
           "Negative"
          ],
          [
           "negatywna",
           "Negative"
          ],
          [
           "anemicznym",
           "Negative"
          ],
          [
           "niezrozumialy",
           "Negative"
          ],
          [
           "specyficzny",
           "Negative"
          ],
          [
           "skomplikowane",
           "Negative"
          ],
          [
           "wymagajaca",
           "Negative"
          ],
          [
           "masakryczna",
           "Negative"
          ],
          [
           "grozny",
           "Negative"
          ],
          [
           "straszna",
           "Negative"
          ],
          [
           "szanowny",
           "Negative"
          ],
          [
           "nurzący",
           "Negative"
          ],
          [
           "wymagający",
           "Negative"
          ],
          [
           "nudny",
           "Negative"
          ],
          [
           "chaotyczny",
           "Negative"
          ],
          [
           "najłatwiejszych",
           "Negative"
          ],
          [
           "małoistotne",
           "Negative"
          ],
          [
           "daleka",
           "Negative"
          ],
          [
           "archaicznego",
           "Negative"
          ],
          [
           "nieznanym",
           "Negative"
          ],
          [
           "najprostrzych",
           "Negative"
          ],
          [
           "wymagająca",
           "Negative"
          ],
          [
           "wygnieciony",
           "Negative"
          ],
          [
           "absurdalna",
           "Negative"
          ],
          [
           "beznadziejne",
           "Negative"
          ],
          [
           "brudne",
           "Negative"
          ],
          [
           "brzydsze",
           "Negative"
          ],
          [
           "bublowaty",
           "Negative"
          ],
          [
           "dziwne",
           "Negative"
          ],
          [
           "dziwnie",
           "Negative"
          ],
          [
           "feralny",
           "Negative"
          ],
          [
           "irytujące",
           "Negative"
          ],
          [
           "kiepskiej",
           "Negative"
          ],
          [
           "kiepskim",
           "Negative"
          ],
          [
           "marnego",
           "Negative"
          ],
          [
           "mułowatym",
           "Negative"
          ],
          [
           "mylący",
           "Negative"
          ],
          [
           "najgorsze",
           "Negative"
          ],
          [
           "najgorszą",
           "Negative"
          ],
          [
           "niedopasowane",
           "Negative"
          ],
          [
           "niedopracowane",
           "Negative"
          ],
          [
           "niepotrzebnych",
           "Negative"
          ],
          [
           "niepraktyczne",
           "Negative"
          ],
          [
           "niestabilna",
           "Negative"
          ],
          [
           "niewygodny",
           "Negative"
          ],
          [
           "niewyraźny",
           "Negative"
          ],
          [
           "nijaki",
           "Negative"
          ],
          [
           "potwornie",
           "Negative"
          ],
          [
           "przekombinowany",
           "Negative"
          ],
          [
           "przereklamowane",
           "Negative"
          ],
          [
           "rozczarowującą",
           "Negative"
          ],
          [
           "strasznie",
           "Negative"
          ],
          [
           "tandetne",
           "Negative"
          ],
          [
           "tragiczne",
           "Negative"
          ],
          [
           "uboższy",
           "Negative"
          ],
          [
           "wciekły",
           "Negative"
          ],
          [
           "wybrakowany",
           "Negative"
          ]
         ],
         "hovertemplate": "sentiment=%{customdata[1]}<br>t-SNE 1=%{x}<br>t-SNE 2=%{y}<br>word=%{customdata[0]}<extra></extra>",
         "legendgroup": "Negative",
         "marker": {
          "color": "red",
          "symbol": "circle"
         },
         "mode": "markers",
         "name": "Negative",
         "orientation": "v",
         "showlegend": true,
         "textposition": "top center",
         "type": "scatter",
         "x": [
          -13.633554458618164,
          9.015926361083984,
          0.8361945748329163,
          8.804206848144531,
          5.751232624053955,
          11.884462356567383,
          -0.7250461578369141,
          -1.8294302225112915,
          -15.294401168823242,
          10.838851928710938,
          -2.9660236835479736,
          2.1044819355010986,
          7.071085453033447,
          -6.180022716522217,
          12.30621337890625,
          12.603769302368164,
          3.287172555923462,
          13.407158851623535,
          4.812839984893799,
          -1.0088627338409424,
          11.35783863067627,
          10.475457191467285,
          6.106362342834473,
          -0.6362628936767578,
          -4.3257317543029785,
          -1.1448519229888916,
          4.759819507598877,
          -7.380178928375244,
          -0.5202916264533997,
          12.010337829589844,
          3.1955885887145996,
          12.664175987243652,
          -8.31498908996582,
          -12.67873477935791,
          -8.869793891906738,
          -13.956108093261719,
          -11.869382858276367,
          1.5002992153167725,
          7.430543899536133,
          -10.698214530944824,
          -14.869300842285156,
          -6.671682834625244,
          5.415763854980469,
          -2.387986421585083,
          5.281165599822998,
          -8.654467582702637,
          11.442682266235352,
          -7.983819484710693,
          -7.429120063781738,
          -4.107738494873047,
          -7.3011040687561035,
          11.84579849243164,
          8.330349922180176,
          6.981049537658691,
          4.945408344268799,
          2.3199594020843506,
          4.180659770965576,
          -7.2052717208862305,
          2.824371814727783,
          2.113062620162964,
          -9.879233360290527,
          -9.445256233215332,
          12.399819374084473,
          -1.7146077156066895,
          4.288589954376221
         ],
         "xaxis": "x",
         "y": [
          9.173189163208008,
          9.217251777648926,
          17.788795471191406,
          8.710533142089844,
          9.389021873474121,
          16.26951789855957,
          -5.415672302246094,
          18.838258743286133,
          7.825005531311035,
          -8.12918472290039,
          -17.10024642944336,
          6.908862590789795,
          7.230362415313721,
          6.7292304039001465,
          -0.22380901873111725,
          -5.10823917388916,
          8.430157661437988,
          -5.5793352127075195,
          10.681342124938965,
          0.8019929528236389,
          0.9476618766784668,
          12.565086364746094,
          7.709007740020752,
          -1.7689013481140137,
          6.423003673553467,
          13.729510307312012,
          -8.873538970947266,
          -18.454164505004883,
          -2.1498618125915527,
          0.09985999763011932,
          4.872488498687744,
          -5.558065891265869,
          6.827552795410156,
          3.8707964420318604,
          5.68884801864624,
          1.5602753162384033,
          10.322638511657715,
          18.71539878845215,
          4.292649269104004,
          8.481941223144531,
          -2.0004723072052,
          -23.902400970458984,
          -11.205233573913574,
          -15.857808113098145,
          6.445181369781494,
          7.410545349121094,
          -13.760310173034668,
          5.309216022491455,
          5.355118751525879,
          -6.52069091796875,
          6.403230667114258,
          -3.7415385246276855,
          10.50228214263916,
          8.354862213134766,
          7.618914604187012,
          18.52753257751465,
          5.628991603851318,
          5.857198715209961,
          -4.3834428787231445,
          18.494779586791992,
          6.5132856369018555,
          7.981025695800781,
          3.7762019634246826,
          2.965150833129883,
          5.722616195678711
         ],
         "yaxis": "y"
        }
       ],
       "layout": {
        "legend": {
         "title": {
          "text": "sentiment"
         },
         "tracegroupgap": 0
        },
        "template": {
         "data": {
          "bar": [
           {
            "error_x": {
             "color": "#2a3f5f"
            },
            "error_y": {
             "color": "#2a3f5f"
            },
            "marker": {
             "line": {
              "color": "#E5ECF6",
              "width": 0.5
             },
             "pattern": {
              "fillmode": "overlay",
              "size": 10,
              "solidity": 0.2
             }
            },
            "type": "bar"
           }
          ],
          "barpolar": [
           {
            "marker": {
             "line": {
              "color": "#E5ECF6",
              "width": 0.5
             },
             "pattern": {
              "fillmode": "overlay",
              "size": 10,
              "solidity": 0.2
             }
            },
            "type": "barpolar"
           }
          ],
          "carpet": [
           {
            "aaxis": {
             "endlinecolor": "#2a3f5f",
             "gridcolor": "white",
             "linecolor": "white",
             "minorgridcolor": "white",
             "startlinecolor": "#2a3f5f"
            },
            "baxis": {
             "endlinecolor": "#2a3f5f",
             "gridcolor": "white",
             "linecolor": "white",
             "minorgridcolor": "white",
             "startlinecolor": "#2a3f5f"
            },
            "type": "carpet"
           }
          ],
          "choropleth": [
           {
            "colorbar": {
             "outlinewidth": 0,
             "ticks": ""
            },
            "type": "choropleth"
           }
          ],
          "contour": [
           {
            "colorbar": {
             "outlinewidth": 0,
             "ticks": ""
            },
            "colorscale": [
             [
              0,
              "#0d0887"
             ],
             [
              0.1111111111111111,
              "#46039f"
             ],
             [
              0.2222222222222222,
              "#7201a8"
             ],
             [
              0.3333333333333333,
              "#9c179e"
             ],
             [
              0.4444444444444444,
              "#bd3786"
             ],
             [
              0.5555555555555556,
              "#d8576b"
             ],
             [
              0.6666666666666666,
              "#ed7953"
             ],
             [
              0.7777777777777778,
              "#fb9f3a"
             ],
             [
              0.8888888888888888,
              "#fdca26"
             ],
             [
              1,
              "#f0f921"
             ]
            ],
            "type": "contour"
           }
          ],
          "contourcarpet": [
           {
            "colorbar": {
             "outlinewidth": 0,
             "ticks": ""
            },
            "type": "contourcarpet"
           }
          ],
          "heatmap": [
           {
            "colorbar": {
             "outlinewidth": 0,
             "ticks": ""
            },
            "colorscale": [
             [
              0,
              "#0d0887"
             ],
             [
              0.1111111111111111,
              "#46039f"
             ],
             [
              0.2222222222222222,
              "#7201a8"
             ],
             [
              0.3333333333333333,
              "#9c179e"
             ],
             [
              0.4444444444444444,
              "#bd3786"
             ],
             [
              0.5555555555555556,
              "#d8576b"
             ],
             [
              0.6666666666666666,
              "#ed7953"
             ],
             [
              0.7777777777777778,
              "#fb9f3a"
             ],
             [
              0.8888888888888888,
              "#fdca26"
             ],
             [
              1,
              "#f0f921"
             ]
            ],
            "type": "heatmap"
           }
          ],
          "heatmapgl": [
           {
            "colorbar": {
             "outlinewidth": 0,
             "ticks": ""
            },
            "colorscale": [
             [
              0,
              "#0d0887"
             ],
             [
              0.1111111111111111,
              "#46039f"
             ],
             [
              0.2222222222222222,
              "#7201a8"
             ],
             [
              0.3333333333333333,
              "#9c179e"
             ],
             [
              0.4444444444444444,
              "#bd3786"
             ],
             [
              0.5555555555555556,
              "#d8576b"
             ],
             [
              0.6666666666666666,
              "#ed7953"
             ],
             [
              0.7777777777777778,
              "#fb9f3a"
             ],
             [
              0.8888888888888888,
              "#fdca26"
             ],
             [
              1,
              "#f0f921"
             ]
            ],
            "type": "heatmapgl"
           }
          ],
          "histogram": [
           {
            "marker": {
             "pattern": {
              "fillmode": "overlay",
              "size": 10,
              "solidity": 0.2
             }
            },
            "type": "histogram"
           }
          ],
          "histogram2d": [
           {
            "colorbar": {
             "outlinewidth": 0,
             "ticks": ""
            },
            "colorscale": [
             [
              0,
              "#0d0887"
             ],
             [
              0.1111111111111111,
              "#46039f"
             ],
             [
              0.2222222222222222,
              "#7201a8"
             ],
             [
              0.3333333333333333,
              "#9c179e"
             ],
             [
              0.4444444444444444,
              "#bd3786"
             ],
             [
              0.5555555555555556,
              "#d8576b"
             ],
             [
              0.6666666666666666,
              "#ed7953"
             ],
             [
              0.7777777777777778,
              "#fb9f3a"
             ],
             [
              0.8888888888888888,
              "#fdca26"
             ],
             [
              1,
              "#f0f921"
             ]
            ],
            "type": "histogram2d"
           }
          ],
          "histogram2dcontour": [
           {
            "colorbar": {
             "outlinewidth": 0,
             "ticks": ""
            },
            "colorscale": [
             [
              0,
              "#0d0887"
             ],
             [
              0.1111111111111111,
              "#46039f"
             ],
             [
              0.2222222222222222,
              "#7201a8"
             ],
             [
              0.3333333333333333,
              "#9c179e"
             ],
             [
              0.4444444444444444,
              "#bd3786"
             ],
             [
              0.5555555555555556,
              "#d8576b"
             ],
             [
              0.6666666666666666,
              "#ed7953"
             ],
             [
              0.7777777777777778,
              "#fb9f3a"
             ],
             [
              0.8888888888888888,
              "#fdca26"
             ],
             [
              1,
              "#f0f921"
             ]
            ],
            "type": "histogram2dcontour"
           }
          ],
          "mesh3d": [
           {
            "colorbar": {
             "outlinewidth": 0,
             "ticks": ""
            },
            "type": "mesh3d"
           }
          ],
          "parcoords": [
           {
            "line": {
             "colorbar": {
              "outlinewidth": 0,
              "ticks": ""
             }
            },
            "type": "parcoords"
           }
          ],
          "pie": [
           {
            "automargin": true,
            "type": "pie"
           }
          ],
          "scatter": [
           {
            "fillpattern": {
             "fillmode": "overlay",
             "size": 10,
             "solidity": 0.2
            },
            "type": "scatter"
           }
          ],
          "scatter3d": [
           {
            "line": {
             "colorbar": {
              "outlinewidth": 0,
              "ticks": ""
             }
            },
            "marker": {
             "colorbar": {
              "outlinewidth": 0,
              "ticks": ""
             }
            },
            "type": "scatter3d"
           }
          ],
          "scattercarpet": [
           {
            "marker": {
             "colorbar": {
              "outlinewidth": 0,
              "ticks": ""
             }
            },
            "type": "scattercarpet"
           }
          ],
          "scattergeo": [
           {
            "marker": {
             "colorbar": {
              "outlinewidth": 0,
              "ticks": ""
             }
            },
            "type": "scattergeo"
           }
          ],
          "scattergl": [
           {
            "marker": {
             "colorbar": {
              "outlinewidth": 0,
              "ticks": ""
             }
            },
            "type": "scattergl"
           }
          ],
          "scattermapbox": [
           {
            "marker": {
             "colorbar": {
              "outlinewidth": 0,
              "ticks": ""
             }
            },
            "type": "scattermapbox"
           }
          ],
          "scatterpolar": [
           {
            "marker": {
             "colorbar": {
              "outlinewidth": 0,
              "ticks": ""
             }
            },
            "type": "scatterpolar"
           }
          ],
          "scatterpolargl": [
           {
            "marker": {
             "colorbar": {
              "outlinewidth": 0,
              "ticks": ""
             }
            },
            "type": "scatterpolargl"
           }
          ],
          "scatterternary": [
           {
            "marker": {
             "colorbar": {
              "outlinewidth": 0,
              "ticks": ""
             }
            },
            "type": "scatterternary"
           }
          ],
          "surface": [
           {
            "colorbar": {
             "outlinewidth": 0,
             "ticks": ""
            },
            "colorscale": [
             [
              0,
              "#0d0887"
             ],
             [
              0.1111111111111111,
              "#46039f"
             ],
             [
              0.2222222222222222,
              "#7201a8"
             ],
             [
              0.3333333333333333,
              "#9c179e"
             ],
             [
              0.4444444444444444,
              "#bd3786"
             ],
             [
              0.5555555555555556,
              "#d8576b"
             ],
             [
              0.6666666666666666,
              "#ed7953"
             ],
             [
              0.7777777777777778,
              "#fb9f3a"
             ],
             [
              0.8888888888888888,
              "#fdca26"
             ],
             [
              1,
              "#f0f921"
             ]
            ],
            "type": "surface"
           }
          ],
          "table": [
           {
            "cells": {
             "fill": {
              "color": "#EBF0F8"
             },
             "line": {
              "color": "white"
             }
            },
            "header": {
             "fill": {
              "color": "#C8D4E3"
             },
             "line": {
              "color": "white"
             }
            },
            "type": "table"
           }
          ]
         },
         "layout": {
          "annotationdefaults": {
           "arrowcolor": "#2a3f5f",
           "arrowhead": 0,
           "arrowwidth": 1
          },
          "autotypenumbers": "strict",
          "coloraxis": {
           "colorbar": {
            "outlinewidth": 0,
            "ticks": ""
           }
          },
          "colorscale": {
           "diverging": [
            [
             0,
             "#8e0152"
            ],
            [
             0.1,
             "#c51b7d"
            ],
            [
             0.2,
             "#de77ae"
            ],
            [
             0.3,
             "#f1b6da"
            ],
            [
             0.4,
             "#fde0ef"
            ],
            [
             0.5,
             "#f7f7f7"
            ],
            [
             0.6,
             "#e6f5d0"
            ],
            [
             0.7,
             "#b8e186"
            ],
            [
             0.8,
             "#7fbc41"
            ],
            [
             0.9,
             "#4d9221"
            ],
            [
             1,
             "#276419"
            ]
           ],
           "sequential": [
            [
             0,
             "#0d0887"
            ],
            [
             0.1111111111111111,
             "#46039f"
            ],
            [
             0.2222222222222222,
             "#7201a8"
            ],
            [
             0.3333333333333333,
             "#9c179e"
            ],
            [
             0.4444444444444444,
             "#bd3786"
            ],
            [
             0.5555555555555556,
             "#d8576b"
            ],
            [
             0.6666666666666666,
             "#ed7953"
            ],
            [
             0.7777777777777778,
             "#fb9f3a"
            ],
            [
             0.8888888888888888,
             "#fdca26"
            ],
            [
             1,
             "#f0f921"
            ]
           ],
           "sequentialminus": [
            [
             0,
             "#0d0887"
            ],
            [
             0.1111111111111111,
             "#46039f"
            ],
            [
             0.2222222222222222,
             "#7201a8"
            ],
            [
             0.3333333333333333,
             "#9c179e"
            ],
            [
             0.4444444444444444,
             "#bd3786"
            ],
            [
             0.5555555555555556,
             "#d8576b"
            ],
            [
             0.6666666666666666,
             "#ed7953"
            ],
            [
             0.7777777777777778,
             "#fb9f3a"
            ],
            [
             0.8888888888888888,
             "#fdca26"
            ],
            [
             1,
             "#f0f921"
            ]
           ]
          },
          "colorway": [
           "#636efa",
           "#EF553B",
           "#00cc96",
           "#ab63fa",
           "#FFA15A",
           "#19d3f3",
           "#FF6692",
           "#B6E880",
           "#FF97FF",
           "#FECB52"
          ],
          "font": {
           "color": "#2a3f5f"
          },
          "geo": {
           "bgcolor": "white",
           "lakecolor": "white",
           "landcolor": "#E5ECF6",
           "showlakes": true,
           "showland": true,
           "subunitcolor": "white"
          },
          "hoverlabel": {
           "align": "left"
          },
          "hovermode": "closest",
          "mapbox": {
           "style": "light"
          },
          "paper_bgcolor": "white",
          "plot_bgcolor": "#E5ECF6",
          "polar": {
           "angularaxis": {
            "gridcolor": "white",
            "linecolor": "white",
            "ticks": ""
           },
           "bgcolor": "#E5ECF6",
           "radialaxis": {
            "gridcolor": "white",
            "linecolor": "white",
            "ticks": ""
           }
          },
          "scene": {
           "xaxis": {
            "backgroundcolor": "#E5ECF6",
            "gridcolor": "white",
            "gridwidth": 2,
            "linecolor": "white",
            "showbackground": true,
            "ticks": "",
            "zerolinecolor": "white"
           },
           "yaxis": {
            "backgroundcolor": "#E5ECF6",
            "gridcolor": "white",
            "gridwidth": 2,
            "linecolor": "white",
            "showbackground": true,
            "ticks": "",
            "zerolinecolor": "white"
           },
           "zaxis": {
            "backgroundcolor": "#E5ECF6",
            "gridcolor": "white",
            "gridwidth": 2,
            "linecolor": "white",
            "showbackground": true,
            "ticks": "",
            "zerolinecolor": "white"
           }
          },
          "shapedefaults": {
           "line": {
            "color": "#2a3f5f"
           }
          },
          "ternary": {
           "aaxis": {
            "gridcolor": "white",
            "linecolor": "white",
            "ticks": ""
           },
           "baxis": {
            "gridcolor": "white",
            "linecolor": "white",
            "ticks": ""
           },
           "bgcolor": "#E5ECF6",
           "caxis": {
            "gridcolor": "white",
            "linecolor": "white",
            "ticks": ""
           }
          },
          "title": {
           "x": 0.05
          },
          "xaxis": {
           "automargin": true,
           "gridcolor": "white",
           "linecolor": "white",
           "ticks": "",
           "title": {
            "standoff": 15
           },
           "zerolinecolor": "white",
           "zerolinewidth": 2
          },
          "yaxis": {
           "automargin": true,
           "gridcolor": "white",
           "linecolor": "white",
           "ticks": "",
           "title": {
            "standoff": 15
           },
           "zerolinecolor": "white",
           "zerolinewidth": 2
          }
         }
        },
        "title": {
         "text": "Wizualizacja embeddingów słów za pomocą t-SNE"
        },
        "xaxis": {
         "anchor": "y",
         "domain": [
          0,
          1
         ],
         "title": {
          "text": "t-SNE 1"
         }
        },
        "yaxis": {
         "anchor": "x",
         "domain": [
          0,
          1
         ],
         "title": {
          "text": "t-SNE 2"
         }
        }
       }
      }
     },
     "metadata": {},
     "output_type": "display_data"
    }
   ],
   "source": [
    "fig_tsne = px.scatter(\n",
    "    df,\n",
    "    x='tsne_x',\n",
    "    y='tsne_y',\n",
    "    color='sentiment',\n",
    "    title='Wizualizacja embeddingów słów za pomocą t-SNE',\n",
    "    labels={'tsne_x': 't-SNE 1', 'tsne_y': 't-SNE 2'},\n",
    "    hover_data=['word', 'sentiment'],\n",
    "    color_discrete_map=sentiment_colors\n",
    ")\n",
    "\n",
    "fig_tsne.update_traces(textposition='top center')\n",
    "\n",
    "fig_tsne.show()"
   ]
  },
  {
   "cell_type": "code",
   "execution_count": 13,
   "metadata": {},
   "outputs": [
    {
     "data": {
      "text/html": [
       "<div>\n",
       "<style scoped>\n",
       "    .dataframe tbody tr th:only-of-type {\n",
       "        vertical-align: middle;\n",
       "    }\n",
       "\n",
       "    .dataframe tbody tr th {\n",
       "        vertical-align: top;\n",
       "    }\n",
       "\n",
       "    .dataframe thead th {\n",
       "        text-align: right;\n",
       "    }\n",
       "</style>\n",
       "<table border=\"1\" class=\"dataframe\">\n",
       "  <thead>\n",
       "    <tr style=\"text-align: right;\">\n",
       "      <th></th>\n",
       "      <th>word</th>\n",
       "      <th>sentiment</th>\n",
       "      <th>embedding</th>\n",
       "      <th>similar_word_1</th>\n",
       "      <th>similar_word_2</th>\n",
       "      <th>similar_word_3</th>\n",
       "      <th>similar_word_4</th>\n",
       "      <th>similar_word_5</th>\n",
       "      <th>tsne_x</th>\n",
       "      <th>tsne_y</th>\n",
       "    </tr>\n",
       "  </thead>\n",
       "  <tbody>\n",
       "    <tr>\n",
       "      <th>0</th>\n",
       "      <td>wszystkie</td>\n",
       "      <td>Neutral</td>\n",
       "      <td>[0.04213148, 0.03196649, 0.014593786, 0.007251...</td>\n",
       "      <td>wszytskie</td>\n",
       "      <td>wszelkie</td>\n",
       "      <td>pozostałe</td>\n",
       "      <td>Wszystkie</td>\n",
       "      <td>wszyskie</td>\n",
       "      <td>-6.951481</td>\n",
       "      <td>8.815587</td>\n",
       "    </tr>\n",
       "    <tr>\n",
       "      <th>1</th>\n",
       "      <td>luzacki</td>\n",
       "      <td>Positive</td>\n",
       "      <td>[-0.00025074184, 0.060088143, -0.06687481, -0....</td>\n",
       "      <td>nonszalancki</td>\n",
       "      <td>luzackie</td>\n",
       "      <td>luzacko</td>\n",
       "      <td>zawadiacki</td>\n",
       "      <td>wyluzowany</td>\n",
       "      <td>5.223829</td>\n",
       "      <td>9.193687</td>\n",
       "    </tr>\n",
       "    <tr>\n",
       "      <th>2</th>\n",
       "      <td>nudne</td>\n",
       "      <td>Negative</td>\n",
       "      <td>[-0.04458306, 0.045463443, -0.005535635, -0.00...</td>\n",
       "      <td>monotonne</td>\n",
       "      <td>nudnawe</td>\n",
       "      <td>Nudne</td>\n",
       "      <td>nużące</td>\n",
       "      <td>nudne.</td>\n",
       "      <td>-13.633554</td>\n",
       "      <td>9.173189</td>\n",
       "    </tr>\n",
       "    <tr>\n",
       "      <th>3</th>\n",
       "      <td>wporzadku</td>\n",
       "      <td>Positive</td>\n",
       "      <td>[-0.018328566, 0.05708965, 0.018148778, 0.0063...</td>\n",
       "      <td>wporządku</td>\n",
       "      <td>wpozadku</td>\n",
       "      <td>porzadku</td>\n",
       "      <td>porzadku.</td>\n",
       "      <td>pozadku</td>\n",
       "      <td>-0.277524</td>\n",
       "      <td>8.035762</td>\n",
       "    </tr>\n",
       "    <tr>\n",
       "      <th>4</th>\n",
       "      <td>groźny</td>\n",
       "      <td>Negative</td>\n",
       "      <td>[-0.02980628, 0.008906932, -0.03944085, -0.072...</td>\n",
       "      <td>niebezpieczny</td>\n",
       "      <td>niegroźny</td>\n",
       "      <td>groźniejszy</td>\n",
       "      <td>najgroźniejszy</td>\n",
       "      <td>szkodliwy</td>\n",
       "      <td>9.015926</td>\n",
       "      <td>9.217252</td>\n",
       "    </tr>\n",
       "    <tr>\n",
       "      <th>5</th>\n",
       "      <td>mieszane</td>\n",
       "      <td>Neutral</td>\n",
       "      <td>[-0.04262481, 0.019884935, 0.0288956, 0.035826...</td>\n",
       "      <td>Mieszane</td>\n",
       "      <td>rozmieszane</td>\n",
       "      <td>ambiwalentne</td>\n",
       "      <td>przemieszane</td>\n",
       "      <td>zmieszane</td>\n",
       "      <td>-5.652344</td>\n",
       "      <td>6.266264</td>\n",
       "    </tr>\n",
       "    <tr>\n",
       "      <th>6</th>\n",
       "      <td>fajny</td>\n",
       "      <td>Positive</td>\n",
       "      <td>[-0.04934426, 0.0101640625, 0.027789254, -0.04...</td>\n",
       "      <td>świetny</td>\n",
       "      <td>ciekawy</td>\n",
       "      <td>ładny</td>\n",
       "      <td>niezły</td>\n",
       "      <td>Fajny</td>\n",
       "      <td>10.134853</td>\n",
       "      <td>15.341961</td>\n",
       "    </tr>\n",
       "    <tr>\n",
       "      <th>7</th>\n",
       "      <td>dobra</td>\n",
       "      <td>Positive</td>\n",
       "      <td>[0.024816966, 0.04614558, -0.009925917, -0.011...</td>\n",
       "      <td>,dobra</td>\n",
       "      <td>Dobra</td>\n",
       "      <td>zła</td>\n",
       "      <td>b.dobra</td>\n",
       "      <td>dobra-</td>\n",
       "      <td>16.301083</td>\n",
       "      <td>-6.064150</td>\n",
       "    </tr>\n",
       "    <tr>\n",
       "      <th>8</th>\n",
       "      <td>duza</td>\n",
       "      <td>Neutral</td>\n",
       "      <td>[-0.025002176, -0.020540046, 0.020168146, 0.01...</td>\n",
       "      <td>mala</td>\n",
       "      <td>duża</td>\n",
       "      <td>wieksza</td>\n",
       "      <td>nieduza</td>\n",
       "      <td>najwieksza</td>\n",
       "      <td>16.000113</td>\n",
       "      <td>-11.854917</td>\n",
       "    </tr>\n",
       "    <tr>\n",
       "      <th>9</th>\n",
       "      <td>totalny</td>\n",
       "      <td>Neutral</td>\n",
       "      <td>[-0.003404307, 0.063702695, 0.011909514, 0.016...</td>\n",
       "      <td>Totalny</td>\n",
       "      <td>zupełny</td>\n",
       "      <td>absolutny</td>\n",
       "      <td>istny</td>\n",
       "      <td>masakryczny</td>\n",
       "      <td>9.406193</td>\n",
       "      <td>7.015164</td>\n",
       "    </tr>\n",
       "  </tbody>\n",
       "</table>\n",
       "</div>"
      ],
      "text/plain": [
       "        word sentiment                                          embedding  \\\n",
       "0  wszystkie   Neutral  [0.04213148, 0.03196649, 0.014593786, 0.007251...   \n",
       "1    luzacki  Positive  [-0.00025074184, 0.060088143, -0.06687481, -0....   \n",
       "2      nudne  Negative  [-0.04458306, 0.045463443, -0.005535635, -0.00...   \n",
       "3  wporzadku  Positive  [-0.018328566, 0.05708965, 0.018148778, 0.0063...   \n",
       "4     groźny  Negative  [-0.02980628, 0.008906932, -0.03944085, -0.072...   \n",
       "5   mieszane   Neutral  [-0.04262481, 0.019884935, 0.0288956, 0.035826...   \n",
       "6      fajny  Positive  [-0.04934426, 0.0101640625, 0.027789254, -0.04...   \n",
       "7      dobra  Positive  [0.024816966, 0.04614558, -0.009925917, -0.011...   \n",
       "8       duza   Neutral  [-0.025002176, -0.020540046, 0.020168146, 0.01...   \n",
       "9    totalny   Neutral  [-0.003404307, 0.063702695, 0.011909514, 0.016...   \n",
       "\n",
       "  similar_word_1 similar_word_2 similar_word_3  similar_word_4 similar_word_5  \\\n",
       "0      wszytskie       wszelkie      pozostałe       Wszystkie       wszyskie   \n",
       "1   nonszalancki       luzackie        luzacko      zawadiacki     wyluzowany   \n",
       "2      monotonne        nudnawe          Nudne          nużące         nudne.   \n",
       "3      wporządku       wpozadku       porzadku       porzadku.        pozadku   \n",
       "4  niebezpieczny      niegroźny    groźniejszy  najgroźniejszy      szkodliwy   \n",
       "5       Mieszane    rozmieszane   ambiwalentne    przemieszane      zmieszane   \n",
       "6        świetny        ciekawy          ładny          niezły          Fajny   \n",
       "7         ,dobra          Dobra            zła         b.dobra         dobra-   \n",
       "8           mala           duża        wieksza         nieduza     najwieksza   \n",
       "9        Totalny        zupełny      absolutny           istny    masakryczny   \n",
       "\n",
       "      tsne_x     tsne_y  \n",
       "0  -6.951481   8.815587  \n",
       "1   5.223829   9.193687  \n",
       "2 -13.633554   9.173189  \n",
       "3  -0.277524   8.035762  \n",
       "4   9.015926   9.217252  \n",
       "5  -5.652344   6.266264  \n",
       "6  10.134853  15.341961  \n",
       "7  16.301083  -6.064150  \n",
       "8  16.000113 -11.854917  \n",
       "9   9.406193   7.015164  "
      ]
     },
     "execution_count": 13,
     "metadata": {},
     "output_type": "execute_result"
    }
   ],
   "source": [
    "df.head(10)"
   ]
  }
 ],
 "metadata": {
  "kernelspec": {
   "display_name": "pytorch310",
   "language": "python",
   "name": "python3"
  },
  "language_info": {
   "codemirror_mode": {
    "name": "ipython",
    "version": 3
   },
   "file_extension": ".py",
   "mimetype": "text/x-python",
   "name": "python",
   "nbconvert_exporter": "python",
   "pygments_lexer": "ipython3",
   "version": "3.10.14"
  }
 },
 "nbformat": 4,
 "nbformat_minor": 2
}
