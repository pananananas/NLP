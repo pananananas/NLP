{
 "cells": [
  {
   "cell_type": "code",
   "execution_count": 1,
   "metadata": {},
   "outputs": [],
   "source": [
    "from statsmodels.stats.inter_rater import fleiss_kappa\n",
    "from sklearn.metrics import cohen_kappa_score\n",
    "from plotly.subplots import make_subplots\n",
    "import plotly.express as px\n",
    "import pandas as pd\n",
    "import numpy as np\n",
    "import itertools"
   ]
  },
  {
   "cell_type": "code",
   "execution_count": 2,
   "metadata": {},
   "outputs": [],
   "source": [
    "label_mapping = {\n",
    "    'negative': 1,\n",
    "    'Negative': 1,\n",
    "    'neutral': 2,\n",
    "    'Neutral': 2,\n",
    "    'positive': 3,\n",
    "    'Positive': 3\n",
    "}"
   ]
  },
  {
   "cell_type": "markdown",
   "metadata": {},
   "source": [
    "# 1. Iteracja"
   ]
  },
  {
   "cell_type": "code",
   "execution_count": 3,
   "metadata": {},
   "outputs": [
    {
     "name": "stdout",
     "output_type": "stream",
     "text": [
      "Plik 'annotations/texts/it1/bartek.csv' został pomyślnie wczytany.\n",
      "Plik 'annotations/texts/it1/darek.csv' został pomyślnie wczytany.\n",
      "Plik 'annotations/texts/it1/patryk.csv' został pomyślnie wczytany.\n",
      "\n",
      "Wszystkie pliki mają taką samą liczbę wierszy.\n",
      "Kolejność wierszy jest zgodna we wszystkich plikach.\n"
     ]
    }
   ],
   "source": [
    "files_it1 = {\n",
    "    'Bartek': 'annotations/texts/it1/bartek.csv',\n",
    "    'Darek': 'annotations/texts/it1/darek.csv',\n",
    "    'Patryk': 'annotations/texts/it1/patryk.csv'\n",
    "}\n",
    "\n",
    "data = {}\n",
    "for name, filepath in files_it1.items():\n",
    "    try:\n",
    "        df = pd.read_csv(filepath)\n",
    "        print(f\"Plik '{filepath}' został pomyślnie wczytany.\")\n",
    "        \n",
    "        df['label'] = df['label'].map(label_mapping)\n",
    "        \n",
    "        if df['label'].isnull().any():\n",
    "            unknown_labels = df[df['label'].isnull()]['label']\n",
    "            print(f\"Uwaga: W pliku '{filepath}' znaleziono nieznane etykiety: {unknown_labels.unique()}\")\n",
    "            exit(1)\n",
    "        \n",
    "        data[name] = df\n",
    "    except Exception as e:\n",
    "        print(f\"Nie udało się wczytać pliku '{filepath}': {e}\")\n",
    "        exit(1)\n",
    "\n",
    "row_counts = {name: df.shape[0] for name, df in data.items()}\n",
    "if len(set(row_counts.values())) != 1:\n",
    "    print(\"Pliki mają różną liczbę wierszy:\")\n",
    "    for name, count in row_counts.items():\n",
    "        print(f\" - {name}: {count} wierszy\")\n",
    "    exit(1)\n",
    "else:\n",
    "    print(\"\\nWszystkie pliki mają taką samą liczbę wierszy.\")\n",
    "\n",
    "num_rows = data['Bartek'].shape[0]\n",
    "order_match = True\n",
    "for i in range(num_rows):\n",
    "    texts = [data[name].iloc[i]['text'] for name in files_it1.keys()]\n",
    "    if not all(text == texts[0] for text in texts[1:]):\n",
    "        print(f\"Różnica w wierszu {i+1}.\")\n",
    "        order_match = False\n",
    "        break\n",
    "\n",
    "if order_match:\n",
    "    print(\"Kolejność wierszy jest zgodna we wszystkich plikach.\")\n",
    "else:\n",
    "    print(\"Kolejność wierszy różni się między plikami. Sprawdź dane wejściowe.\")\n",
    "    exit(1)"
   ]
  },
  {
   "cell_type": "code",
   "execution_count": 4,
   "metadata": {},
   "outputs": [
    {
     "name": "stdout",
     "output_type": "stream",
     "text": [
      "Przykładowe dane po połączeniu etykiet:\n"
     ]
    },
    {
     "data": {
      "text/html": [
       "<div>\n",
       "<style scoped>\n",
       "    .dataframe tbody tr th:only-of-type {\n",
       "        vertical-align: middle;\n",
       "    }\n",
       "\n",
       "    .dataframe tbody tr th {\n",
       "        vertical-align: top;\n",
       "    }\n",
       "\n",
       "    .dataframe thead th {\n",
       "        text-align: right;\n",
       "    }\n",
       "</style>\n",
       "<table border=\"1\" class=\"dataframe\">\n",
       "  <thead>\n",
       "    <tr style=\"text-align: right;\">\n",
       "      <th></th>\n",
       "      <th>text</th>\n",
       "      <th>Bartek</th>\n",
       "      <th>Darek</th>\n",
       "      <th>Patryk</th>\n",
       "    </tr>\n",
       "  </thead>\n",
       "  <tbody>\n",
       "    <tr>\n",
       "      <th>0</th>\n",
       "      <td>Lakier roweru bardzo kiepskiej jakości , robią...</td>\n",
       "      <td>1</td>\n",
       "      <td>1</td>\n",
       "      <td>1</td>\n",
       "    </tr>\n",
       "    <tr>\n",
       "      <th>1</th>\n",
       "      <td>Nie jestem zadowolony z zakupu . Przede wszyst...</td>\n",
       "      <td>1</td>\n",
       "      <td>1</td>\n",
       "      <td>1</td>\n",
       "    </tr>\n",
       "    <tr>\n",
       "      <th>2</th>\n",
       "      <td>Szukając klucze tej wielkości brał em dwa pod ...</td>\n",
       "      <td>1</td>\n",
       "      <td>3</td>\n",
       "      <td>2</td>\n",
       "    </tr>\n",
       "    <tr>\n",
       "      <th>3</th>\n",
       "      <td>Długo szukała m odpowiedniego fotelika dla bar...</td>\n",
       "      <td>1</td>\n",
       "      <td>1</td>\n",
       "      <td>2</td>\n",
       "    </tr>\n",
       "    <tr>\n",
       "      <th>4</th>\n",
       "      <td>Kupił em pociąg ( w zestawie kilka torów prost...</td>\n",
       "      <td>1</td>\n",
       "      <td>1</td>\n",
       "      <td>1</td>\n",
       "    </tr>\n",
       "  </tbody>\n",
       "</table>\n",
       "</div>"
      ],
      "text/plain": [
       "                                                text  Bartek  Darek  Patryk\n",
       "0  Lakier roweru bardzo kiepskiej jakości , robią...       1      1       1\n",
       "1  Nie jestem zadowolony z zakupu . Przede wszyst...       1      1       1\n",
       "2  Szukając klucze tej wielkości brał em dwa pod ...       1      3       2\n",
       "3  Długo szukała m odpowiedniego fotelika dla bar...       1      1       2\n",
       "4  Kupił em pociąg ( w zestawie kilka torów prost...       1      1       1"
      ]
     },
     "execution_count": 4,
     "metadata": {},
     "output_type": "execute_result"
    }
   ],
   "source": [
    "combined = pd.DataFrame()\n",
    "combined['text'] = data['Bartek']['text']\n",
    "combined['Bartek'] = data['Bartek']['label']\n",
    "combined['Darek'] = data['Darek']['label']\n",
    "combined['Patryk'] = data['Patryk']['label']\n",
    "\n",
    "print(\"Przykładowe dane po połączeniu etykiet:\")\n",
    "combined.head()"
   ]
  },
  {
   "cell_type": "code",
   "execution_count": 5,
   "metadata": {},
   "outputs": [
    {
     "name": "stdout",
     "output_type": "stream",
     "text": [
      "Współczynniki Kappa Cohena dla każdej pary annotatorów:\n",
      " - Bartek vs Darek:\n",
      "   * Kappa Cohena: 0.6554\n",
      "   * Procentowa zgodność: 85.42%\n",
      " - Bartek vs Patryk:\n",
      "   * Kappa Cohena: 0.6575\n",
      "   * Procentowa zgodność: 85.42%\n",
      " - Darek vs Patryk:\n",
      "   * Kappa Cohena: 0.8514\n",
      "   * Procentowa zgodność: 93.75%\n"
     ]
    }
   ],
   "source": [
    "def percent_agreement(series1, series2):\n",
    "    return (series1 == series2).mean()\n",
    "\n",
    "annotators = list(files_it1.keys())\n",
    "kappa_results = {}\n",
    "print(\"Współczynniki Kappa Cohena dla każdej pary annotatorów:\")\n",
    "for i in range(len(annotators)):\n",
    "    for j in range(i+1, len(annotators)):\n",
    "        annot1 = annotators[i]\n",
    "        annot2 = annotators[j]\n",
    "        kappa = cohen_kappa_score(combined[annot1], combined[annot2])\n",
    "        agreement = percent_agreement(combined[annot1], combined[annot2]) * 100\n",
    "        kappa_results[(annot1, annot2)] = kappa\n",
    "        print(f\" - {annot1} vs {annot2}:\")\n",
    "        print(f\"   * Kappa Cohena: {kappa:.4f}\")\n",
    "        print(f\"   * Procentowa zgodność: {agreement:.2f}%\")\n",
    "\n",
    "categories = sorted(combined[['Bartek', 'Darek', 'Patryk']].stack().unique())"
   ]
  },
  {
   "cell_type": "code",
   "execution_count": 6,
   "metadata": {},
   "outputs": [
    {
     "name": "stdout",
     "output_type": "stream",
     "text": [
      "Współczynnik Kappa Fleissa dla wszystkich annotatorów: 0.7195\n"
     ]
    }
   ],
   "source": [
    "def create_fleiss_matrix(df, categories):\n",
    "    fleiss_matrix = []\n",
    "    for index, row in df.iterrows():\n",
    "        counts = [row[['Bartek', 'Darek', 'Patryk']].tolist().count(category) for category in categories]\n",
    "        fleiss_matrix.append(counts)\n",
    "    return np.array(fleiss_matrix)\n",
    "\n",
    "fleiss_data = create_fleiss_matrix(combined, categories)\n",
    "\n",
    "kappa_fleiss = fleiss_kappa(fleiss_data, method='fleiss')\n",
    "print(f\"Współczynnik Kappa Fleissa dla wszystkich annotatorów: {kappa_fleiss:.4f}\")"
   ]
  },
  {
   "cell_type": "code",
   "execution_count": 7,
   "metadata": {},
   "outputs": [
    {
     "name": "stdout",
     "output_type": "stream",
     "text": [
      "Średnia procentowa zgodność między annotatorami: 88.19%\n"
     ]
    }
   ],
   "source": [
    "percent_agreements = []\n",
    "for i in range(len(annotators)):\n",
    "    for j in range(i+1, len(annotators)):\n",
    "        annot1 = annotators[i]\n",
    "        annot2 = annotators[j]\n",
    "        agreement = percent_agreement(combined[annot1], combined[annot2]) * 100\n",
    "        percent_agreements.append(agreement)\n",
    "average_agreement = np.mean(percent_agreements)\n",
    "print(f\"Średnia procentowa zgodność między annotatorami: {average_agreement:.2f}%\")"
   ]
  },
  {
   "cell_type": "code",
   "execution_count": 8,
   "metadata": {},
   "outputs": [
    {
     "name": "stdout",
     "output_type": "stream",
     "text": [
      "Krzyżowe tabele kontyngencji dla każdej pary annotatorów:\n",
      "\n",
      "Bartek vs Darek:\n",
      "Darek    1  2  3\n",
      "Bartek          \n",
      "1       34  0  1\n",
      "2        2  5  4\n",
      "3        0  0  2\n",
      "\n",
      "Bartek vs Patryk:\n",
      "Patryk   1  2  3\n",
      "Bartek          \n",
      "1       33  2  0\n",
      "2        2  6  3\n",
      "3        0  0  2\n",
      "\n",
      "Darek vs Patryk:\n",
      "Patryk   1  2  3\n",
      "Darek           \n",
      "1       35  1  0\n",
      "2        0  5  0\n",
      "3        0  2  5\n"
     ]
    }
   ],
   "source": [
    "print(\"Krzyżowe tabele kontyngencji dla każdej pary annotatorów:\")\n",
    "for annot1, annot2 in itertools.combinations(annotators, 2):\n",
    "    contingency = pd.crosstab(combined[annot1], combined[annot2])\n",
    "    print(f\"\\n{annot1} vs {annot2}:\")\n",
    "    print(contingency)"
   ]
  },
  {
   "cell_type": "code",
   "execution_count": 9,
   "metadata": {},
   "outputs": [
    {
     "name": "stdout",
     "output_type": "stream",
     "text": [
      "Interpretacja współczynników Kappa Cohena:\n",
      " - Bartek vs Darek: Kappa = 0.6554 -> Dobra zgodność.\n",
      " - Bartek vs Patryk: Kappa = 0.6575 -> Dobra zgodność.\n",
      " - Darek vs Patryk: Kappa = 0.8514 -> Bardzo dobra zgodność.\n",
      "\n",
      "Interpretacja współczynnika Kappa Fleissa: Kappa = 0.7195 -> Dobra zgodność.\n"
     ]
    }
   ],
   "source": [
    "def interpret_kappa(kappa):\n",
    "    if kappa < 0:\n",
    "        return \"Zgoda gorsza niż przypadkowa.\"\n",
    "    elif kappa == 0:\n",
    "        return \"Brak zgodności lepszy niż przypadkowy.\"\n",
    "    elif kappa <= 0.20:\n",
    "        return \"Znikoma zgodność.\"\n",
    "    elif kappa <= 0.40:\n",
    "        return \"Słaba zgodność.\"\n",
    "    elif kappa <= 0.60:\n",
    "        return \"Umiarkowana zgodność.\"\n",
    "    elif kappa <= 0.80:\n",
    "        return \"Dobra zgodność.\"\n",
    "    else:\n",
    "        return \"Bardzo dobra zgodność.\"\n",
    "\n",
    "print(\"Interpretacja współczynników Kappa Cohena:\")\n",
    "for pair, kappa in kappa_results.items():\n",
    "    interpretation = interpret_kappa(kappa)\n",
    "    print(f\" - {pair[0]} vs {pair[1]}: Kappa = {kappa:.4f} -> {interpretation}\")\n",
    "\n",
    "print(f\"\\nInterpretacja współczynnika Kappa Fleissa: Kappa = {kappa_fleiss:.4f} -> {interpret_kappa(kappa_fleiss)}\")"
   ]
  },
  {
   "cell_type": "code",
   "execution_count": 10,
   "metadata": {},
   "outputs": [
    {
     "name": "stdout",
     "output_type": "stream",
     "text": [
      "\n",
      "Liczba unikalnych etykiet w wierszu wskazuje na zgodność:\n",
      " - Maksymalna liczba unikalnych etykiet: 3\n",
      " - Liczba wierszy z najmniejszą zgodnością: 1\n",
      "\n",
      "Przykłady wierszy z najmniejszą zgodnością:\n",
      "                                                text  Bartek  Darek  Patryk\n",
      "2  Szukając klucze tej wielkości brał em dwa pod ...       1      3       2\n"
     ]
    }
   ],
   "source": [
    "def row_agreement(row):\n",
    "    unique_labels = row.nunique()\n",
    "    return unique_labels\n",
    "\n",
    "combined['agreement_level'] = combined[annotators].apply(row_agreement, axis=1)\n",
    "\n",
    "max_unique = combined['agreement_level'].max()\n",
    "min_agreement_rows = combined[combined['agreement_level'] == max_unique]\n",
    "\n",
    "print(f\"\\nLiczba unikalnych etykiet w wierszu wskazuje na zgodność:\")\n",
    "print(f\" - Maksymalna liczba unikalnych etykiet: {max_unique}\")\n",
    "print(f\" - Liczba wierszy z najmniejszą zgodnością: {min_agreement_rows.shape[0]}\")\n",
    "\n",
    "print(\"\\nPrzykłady wierszy z najmniejszą zgodnością:\")\n",
    "print(min_agreement_rows[['text'] + annotators].head(10))  # Wyświetli pierwsze 10 takich wierszy"
   ]
  },
  {
   "cell_type": "code",
   "execution_count": 11,
   "metadata": {},
   "outputs": [],
   "source": [
    "combined.to_csv('annotations/texts/it1/combined.csv', index=False)"
   ]
  },
  {
   "cell_type": "markdown",
   "metadata": {},
   "source": [
    "# Wytyczne do anotacji sentymentu\n",
    "\n",
    "1. Kategorie sentymentu:\n",
    "- `1` - Negatywny, gdy większa częsc wypowiedzi jest negatywna\n",
    "- `2` - Neutralny, gdy stona negatywna i pozytywna są równie liczne\n",
    "- `3` - Pozytywny, gdy większość recenzji jest pozytywna\n",
    "\n",
    "2. Kryteria anotacji\n",
    "\n",
    "- Określenie dominującego sentymentu w tekście:\n",
    "Jesli recenzja zawiera podobną ilosc wad i zalet to jest neutralna\n",
    "\n",
    "- Kontekst i cel opinii:\n",
    "Dobrze jest zdefiniować cel w jakim opinia została napisana.\n",
    "\n",
    "- Język i ton wypowiedzi:\n",
    "Jeśli recenzja jest mocno nacechowana emocjonalnie, najczesciej zbiega ku negatywnej lub pozytywnej.\n",
    "\n",
    "- Konsekwencja w ocenianiu:\n",
    "Ważne jest żeby trzymać się pewnych zasad podczas oceny wszystkich tekstów.\n",
    "\n",
    "3. Przykłady\n",
    "\n",
    "| Tekst | Anotacja |\n",
    "|-------|----------|\n",
    "| „Lakier roweru bardzo kiepskiej jakości... ODRADZAM ZAKUP” | **1 - Negatywny** |\n",
    "| „Obiektyw ten przeznaczony jest dla osób które dopiero zaczynają fotografowanie... Polecam go głównie początkującym użytkownikom.” | **3 - Pozytywny** |\n",
    "| „Pilot funkcjonalnie pierwsza klasa... Niestety sama jakość wykonania pozostawia wiele do życzenia.” | **2 - Neutralny** |\n",
    "| „Najpierw + dostajemy produkt z najwyższej półki... Super wygląd.” | **3 - Pozytywny** |\n",
    "| „Lodówka fajnie się prezentuje... ale popsuła się po 2.5 roku.” | **2 - Neutralny** |\n",
    "| „Długo szukała m odpowiedniego fotelika... Poza tym fotelik wyglądał solidnie i myślę, że świetnie nadawał by się jako fotelik następny po nosidełku.” | **2 - Neutralny** |\n"
   ]
  },
  {
   "cell_type": "markdown",
   "metadata": {},
   "source": [
    "# 2. Iteracja"
   ]
  },
  {
   "cell_type": "code",
   "execution_count": 12,
   "metadata": {},
   "outputs": [],
   "source": [
    "files_it2 = {\n",
    "    'Bartek': 'annotations/texts/it2/bartek.csv',\n",
    "    'Darek': 'annotations/texts/it2/darek.csv',\n",
    "    'Patryk': 'annotations/texts/it2/patryk.csv'\n",
    "}"
   ]
  },
  {
   "cell_type": "code",
   "execution_count": 13,
   "metadata": {},
   "outputs": [
    {
     "name": "stdout",
     "output_type": "stream",
     "text": [
      "Plik 'annotations/texts/it2/bartek.csv' został pomyślnie wczytany.\n",
      "Plik 'annotations/texts/it2/darek.csv' został pomyślnie wczytany.\n",
      "Plik 'annotations/texts/it2/patryk.csv' został pomyślnie wczytany.\n",
      "\n",
      "Wszystkie pliki mają taką samą liczbę wierszy.\n",
      "Kolejność wierszy jest zgodna we wszystkich plikach.\n"
     ]
    }
   ],
   "source": [
    "data = {}\n",
    "for name, filepath in files_it2.items():\n",
    "    try:\n",
    "        df = pd.read_csv(filepath)\n",
    "        print(f\"Plik '{filepath}' został pomyślnie wczytany.\")\n",
    "        \n",
    "        df['label'] = df['label'].map(label_mapping)\n",
    "        \n",
    "        if df['label'].isnull().any():\n",
    "            unknown_labels = df[df['label'].isnull()]['label']\n",
    "            print(f\"Uwaga: W pliku '{filepath}' znaleziono nieznane etykiety: {unknown_labels.unique()}\")\n",
    "            exit(1)\n",
    "        \n",
    "        data[name] = df\n",
    "    except Exception as e:\n",
    "        print(f\"Nie udało się wczytać pliku '{filepath}': {e}\")\n",
    "        exit(1)\n",
    "\n",
    "row_counts = {name: df.shape[0] for name, df in data.items()}\n",
    "if len(set(row_counts.values())) != 1:\n",
    "    print(\"Pliki mają różną liczbę wierszy:\")\n",
    "    for name, count in row_counts.items():\n",
    "        print(f\" - {name}: {count} wierszy\")\n",
    "    exit(1)\n",
    "else:\n",
    "    print(\"\\nWszystkie pliki mają taką samą liczbę wierszy.\")\n",
    "\n",
    "num_rows = data['Bartek'].shape[0]\n",
    "order_match = True\n",
    "for i in range(num_rows):\n",
    "    texts = [data[name].iloc[i]['text'] for name in files_it2.keys()]\n",
    "    if not all(text == texts[0] for text in texts[1:]):\n",
    "        print(f\"Różnica w wierszu {i+1}.\")\n",
    "        order_match = False\n",
    "        break\n",
    "\n",
    "if order_match:\n",
    "    print(\"Kolejność wierszy jest zgodna we wszystkich plikach.\")\n",
    "else:\n",
    "    print(\"Kolejność wierszy różni się między plikami. Sprawdź dane wejściowe.\")\n",
    "    exit(1)"
   ]
  },
  {
   "cell_type": "code",
   "execution_count": 14,
   "metadata": {},
   "outputs": [
    {
     "name": "stdout",
     "output_type": "stream",
     "text": [
      "Przykładowe dane po połączeniu etykiet:\n"
     ]
    },
    {
     "data": {
      "text/html": [
       "<div>\n",
       "<style scoped>\n",
       "    .dataframe tbody tr th:only-of-type {\n",
       "        vertical-align: middle;\n",
       "    }\n",
       "\n",
       "    .dataframe tbody tr th {\n",
       "        vertical-align: top;\n",
       "    }\n",
       "\n",
       "    .dataframe thead th {\n",
       "        text-align: right;\n",
       "    }\n",
       "</style>\n",
       "<table border=\"1\" class=\"dataframe\">\n",
       "  <thead>\n",
       "    <tr style=\"text-align: right;\">\n",
       "      <th></th>\n",
       "      <th>text</th>\n",
       "      <th>Bartek</th>\n",
       "      <th>Darek</th>\n",
       "      <th>Patryk</th>\n",
       "    </tr>\n",
       "  </thead>\n",
       "  <tbody>\n",
       "    <tr>\n",
       "      <th>0</th>\n",
       "      <td>Lakier roweru bardzo kiepskiej jakości , robią...</td>\n",
       "      <td>1</td>\n",
       "      <td>1</td>\n",
       "      <td>1</td>\n",
       "    </tr>\n",
       "    <tr>\n",
       "      <th>1</th>\n",
       "      <td>Nie jestem zadowolony z zakupu . Przede wszyst...</td>\n",
       "      <td>1</td>\n",
       "      <td>1</td>\n",
       "      <td>1</td>\n",
       "    </tr>\n",
       "    <tr>\n",
       "      <th>2</th>\n",
       "      <td>Szukając klucze tej wielkości brał em dwa pod ...</td>\n",
       "      <td>2</td>\n",
       "      <td>2</td>\n",
       "      <td>2</td>\n",
       "    </tr>\n",
       "    <tr>\n",
       "      <th>3</th>\n",
       "      <td>Długo szukała m odpowiedniego fotelika dla bar...</td>\n",
       "      <td>2</td>\n",
       "      <td>2</td>\n",
       "      <td>1</td>\n",
       "    </tr>\n",
       "    <tr>\n",
       "      <th>4</th>\n",
       "      <td>Kupił em pociąg ( w zestawie kilka torów prost...</td>\n",
       "      <td>1</td>\n",
       "      <td>1</td>\n",
       "      <td>1</td>\n",
       "    </tr>\n",
       "  </tbody>\n",
       "</table>\n",
       "</div>"
      ],
      "text/plain": [
       "                                                text  Bartek  Darek  Patryk\n",
       "0  Lakier roweru bardzo kiepskiej jakości , robią...       1      1       1\n",
       "1  Nie jestem zadowolony z zakupu . Przede wszyst...       1      1       1\n",
       "2  Szukając klucze tej wielkości brał em dwa pod ...       2      2       2\n",
       "3  Długo szukała m odpowiedniego fotelika dla bar...       2      2       1\n",
       "4  Kupił em pociąg ( w zestawie kilka torów prost...       1      1       1"
      ]
     },
     "execution_count": 14,
     "metadata": {},
     "output_type": "execute_result"
    }
   ],
   "source": [
    "combined = pd.DataFrame()\n",
    "combined['text'] = data['Bartek']['text']\n",
    "combined['Bartek'] = data['Bartek']['label']\n",
    "combined['Darek'] = data['Darek']['label']\n",
    "combined['Patryk'] = data['Patryk']['label']\n",
    "\n",
    "print(\"Przykładowe dane po połączeniu etykiet:\")\n",
    "combined.head()"
   ]
  },
  {
   "cell_type": "code",
   "execution_count": 15,
   "metadata": {},
   "outputs": [
    {
     "name": "stdout",
     "output_type": "stream",
     "text": [
      "Współczynniki Kappa Cohena dla każdej pary annotatorów:\n",
      " - Bartek vs Darek:\n",
      "   * Kappa Cohena: 0.9572\n",
      "   * Procentowa zgodność: 97.92%\n",
      " - Bartek vs Patryk:\n",
      "   * Kappa Cohena: 0.9156\n",
      "   * Procentowa zgodność: 95.83%\n",
      " - Darek vs Patryk:\n",
      "   * Kappa Cohena: 0.8715\n",
      "   * Procentowa zgodność: 93.75%\n"
     ]
    }
   ],
   "source": [
    "def percent_agreement(series1, series2):\n",
    "    return (series1 == series2).mean()\n",
    "\n",
    "annotators = list(files_it2.keys())\n",
    "kappa_results = {}\n",
    "print(\"Współczynniki Kappa Cohena dla każdej pary annotatorów:\")\n",
    "for i in range(len(annotators)):\n",
    "    for j in range(i+1, len(annotators)):\n",
    "        annot1 = annotators[i]\n",
    "        annot2 = annotators[j]\n",
    "        kappa = cohen_kappa_score(combined[annot1], combined[annot2])\n",
    "        agreement = percent_agreement(combined[annot1], combined[annot2]) * 100\n",
    "        kappa_results[(annot1, annot2)] = kappa\n",
    "        print(f\" - {annot1} vs {annot2}:\")\n",
    "        print(f\"   * Kappa Cohena: {kappa:.4f}\")\n",
    "        print(f\"   * Procentowa zgodność: {agreement:.2f}%\")\n",
    "\n",
    "categories = sorted(combined[['Bartek', 'Darek', 'Patryk']].stack().unique())"
   ]
  },
  {
   "cell_type": "code",
   "execution_count": 16,
   "metadata": {},
   "outputs": [
    {
     "name": "stdout",
     "output_type": "stream",
     "text": [
      "Współczynnik Kappa Fleissa dla wszystkich annotatorów: 0.9148\n"
     ]
    }
   ],
   "source": [
    "def create_fleiss_matrix(df, categories):\n",
    "    fleiss_matrix = []\n",
    "    for index, row in df.iterrows():\n",
    "        counts = [row[['Bartek', 'Darek', 'Patryk']].tolist().count(category) for category in categories]\n",
    "        fleiss_matrix.append(counts)\n",
    "    return np.array(fleiss_matrix)\n",
    "\n",
    "fleiss_data = create_fleiss_matrix(combined, categories)\n",
    "\n",
    "kappa_fleiss = fleiss_kappa(fleiss_data, method='fleiss')\n",
    "print(f\"Współczynnik Kappa Fleissa dla wszystkich annotatorów: {kappa_fleiss:.4f}\")"
   ]
  },
  {
   "cell_type": "code",
   "execution_count": 17,
   "metadata": {},
   "outputs": [
    {
     "name": "stdout",
     "output_type": "stream",
     "text": [
      "Średnia procentowa zgodność między annotatorami: 95.83%\n"
     ]
    }
   ],
   "source": [
    "percent_agreements = []\n",
    "for i in range(len(annotators)):\n",
    "    for j in range(i+1, len(annotators)):\n",
    "        annot1 = annotators[i]\n",
    "        annot2 = annotators[j]\n",
    "        agreement = percent_agreement(combined[annot1], combined[annot2]) * 100\n",
    "        percent_agreements.append(agreement)\n",
    "average_agreement = np.mean(percent_agreements)\n",
    "print(f\"Średnia procentowa zgodność między annotatorami: {average_agreement:.2f}%\")"
   ]
  },
  {
   "cell_type": "code",
   "execution_count": 18,
   "metadata": {},
   "outputs": [
    {
     "name": "stdout",
     "output_type": "stream",
     "text": [
      "Krzyżowe tabele kontyngencji dla każdej pary annotatorów:\n",
      "\n",
      "Bartek vs Darek:\n",
      "Darek    1   2  3\n",
      "Bartek           \n",
      "1       31   0  0\n",
      "2        1  13  0\n",
      "3        0   0  3\n",
      "\n",
      "Bartek vs Patryk:\n",
      "Patryk   1   2  3\n",
      "Bartek           \n",
      "1       30   1  0\n",
      "2        1  13  0\n",
      "3        0   0  3\n",
      "\n",
      "Darek vs Patryk:\n",
      "Patryk   1   2  3\n",
      "Darek            \n",
      "1       30   2  0\n",
      "2        1  12  0\n",
      "3        0   0  3\n"
     ]
    }
   ],
   "source": [
    "print(\"Krzyżowe tabele kontyngencji dla każdej pary annotatorów:\")\n",
    "for annot1, annot2 in itertools.combinations(annotators, 2):\n",
    "    contingency = pd.crosstab(combined[annot1], combined[annot2])\n",
    "    print(f\"\\n{annot1} vs {annot2}:\")\n",
    "    print(contingency)"
   ]
  },
  {
   "cell_type": "code",
   "execution_count": 19,
   "metadata": {},
   "outputs": [
    {
     "name": "stdout",
     "output_type": "stream",
     "text": [
      "\n",
      "Interpretacja współczynników Kappa Cohena:\n",
      " - Bartek vs Darek: Kappa = 0.9572 -> Bardzo dobra zgodność.\n",
      " - Bartek vs Patryk: Kappa = 0.9156 -> Bardzo dobra zgodność.\n",
      " - Darek vs Patryk: Kappa = 0.8715 -> Bardzo dobra zgodność.\n",
      "\n",
      "Interpretacja współczynnika Kappa Fleissa: Kappa = 0.9148 -> Bardzo dobra zgodność.\n"
     ]
    }
   ],
   "source": [
    "def interpret_kappa(kappa):\n",
    "    if kappa < 0:\n",
    "        return \"Zgoda gorsza niż przypadkowa.\"\n",
    "    elif kappa == 0:\n",
    "        return \"Brak zgodności lepszy niż przypadkowy.\"\n",
    "    elif kappa <= 0.20:\n",
    "        return \"Znikoma zgodność.\"\n",
    "    elif kappa <= 0.40:\n",
    "        return \"Słaba zgodność.\"\n",
    "    elif kappa <= 0.60:\n",
    "        return \"Umiarkowana zgodność.\"\n",
    "    elif kappa <= 0.80:\n",
    "        return \"Dobra zgodność.\"\n",
    "    else:\n",
    "        return \"Bardzo dobra zgodność.\"\n",
    "\n",
    "print(\"\\nInterpretacja współczynników Kappa Cohena:\")\n",
    "for pair, kappa in kappa_results.items():\n",
    "    interpretation = interpret_kappa(kappa)\n",
    "    print(f\" - {pair[0]} vs {pair[1]}: Kappa = {kappa:.4f} -> {interpretation}\")\n",
    "\n",
    "print(f\"\\nInterpretacja współczynnika Kappa Fleissa: Kappa = {kappa_fleiss:.4f} -> {interpret_kappa(kappa_fleiss)}\")"
   ]
  },
  {
   "cell_type": "code",
   "execution_count": 20,
   "metadata": {},
   "outputs": [
    {
     "name": "stdout",
     "output_type": "stream",
     "text": [
      "\n",
      "Liczba unikalnych etykiet w wierszu wskazuje na zgodność:\n",
      " - Maksymalna liczba unikalnych etykiet: 2\n",
      " - Liczba wierszy z najmniejszą zgodnością: 3\n",
      "\n",
      "Przykłady wierszy z najmniejszą zgodnością:\n",
      "                                                 text  Bartek  Darek  Patryk\n",
      "3   Długo szukała m odpowiedniego fotelika dla bar...       2      2       1\n",
      "29  Za ta cenę spodziewał em się bardziej dopracow...       1      1       2\n",
      "32  Chyba spodziewała m się czegoś więcej , po kos...       2      1       2\n"
     ]
    }
   ],
   "source": [
    "def row_agreement(row):\n",
    "    unique_labels = row.nunique()\n",
    "    return unique_labels\n",
    "\n",
    "combined['agreement_level'] = combined[annotators].apply(row_agreement, axis=1)\n",
    "\n",
    "max_unique = combined['agreement_level'].max()\n",
    "min_agreement_rows = combined[combined['agreement_level'] == max_unique]\n",
    "\n",
    "print(f\"\\nLiczba unikalnych etykiet w wierszu wskazuje na zgodność:\")\n",
    "print(f\" - Maksymalna liczba unikalnych etykiet: {max_unique}\")\n",
    "print(f\" - Liczba wierszy z najmniejszą zgodnością: {min_agreement_rows.shape[0]}\")\n",
    "\n",
    "print(\"\\nPrzykłady wierszy z najmniejszą zgodnością:\")\n",
    "print(min_agreement_rows[['text'] + annotators].head(10))  # Wyświetli pierwsze 10 takich wierszy"
   ]
  },
  {
   "cell_type": "code",
   "execution_count": 21,
   "metadata": {},
   "outputs": [],
   "source": [
    "combined.to_csv('annotations/texts/it2/combined.csv', index=False)"
   ]
  },
  {
   "cell_type": "markdown",
   "metadata": {},
   "source": [
    "# Analiza"
   ]
  },
  {
   "cell_type": "code",
   "execution_count": 32,
   "metadata": {},
   "outputs": [
    {
     "data": {
      "application/vnd.plotly.v1+json": {
       "config": {
        "plotlyServerURL": "https://plot.ly"
       },
       "data": [
        {
         "alignmentgroup": "True",
         "bingroup": "x",
         "hovertemplate": "len_char=%{x}<br>count=%{y}<extra></extra>",
         "legendgroup": "",
         "marker": {
          "color": "rgba(255, 0, 0, 0.6)",
          "pattern": {
           "shape": ""
          }
         },
         "name": "",
         "nbinsx": 300,
         "offsetgroup": "",
         "orientation": "v",
         "showlegend": false,
         "type": "histogram",
         "x": [
          630,
          739,
          1084,
          638,
          936,
          1048,
          531,
          813,
          576,
          675,
          713,
          622,
          900,
          1173,
          940,
          834,
          593,
          1142,
          850,
          815,
          967,
          558,
          571,
          724,
          573,
          909,
          1199,
          728,
          740,
          573,
          548
         ],
         "xaxis": "x",
         "yaxis": "y"
        },
        {
         "alignmentgroup": "True",
         "bingroup": "x",
         "hovertemplate": "len_char=%{x}<br>count=%{y}<extra></extra>",
         "legendgroup": "",
         "marker": {
          "color": "rgba(0, 0, 255, 0.6)",
          "pattern": {
           "shape": ""
          }
         },
         "name": "",
         "nbinsx": 300,
         "offsetgroup": "",
         "orientation": "v",
         "showlegend": false,
         "type": "histogram",
         "x": [
          917,
          595,
          541,
          646,
          349,
          603,
          526,
          513,
          520,
          605,
          533,
          665,
          655,
          1187
         ],
         "xaxis": "x2",
         "yaxis": "y2"
        },
        {
         "alignmentgroup": "True",
         "bingroup": "x",
         "hovertemplate": "len_char=%{x}<br>count=%{y}<extra></extra>",
         "legendgroup": "",
         "marker": {
          "color": "rgba(0, 255, 0, 0.6)",
          "pattern": {
           "shape": ""
          }
         },
         "name": "",
         "nbinsx": 300,
         "offsetgroup": "",
         "orientation": "v",
         "showlegend": false,
         "type": "histogram",
         "x": [
          704,
          752,
          923
         ],
         "xaxis": "x3",
         "yaxis": "y3"
        },
        {
         "alignmentgroup": "True",
         "bingroup": "x",
         "hovertemplate": "words_count=%{x}<br>count=%{y}<extra></extra>",
         "legendgroup": "",
         "marker": {
          "color": "rgba(255, 0, 0, 0.6)",
          "pattern": {
           "shape": ""
          }
         },
         "name": "",
         "nbinsx": 300,
         "offsetgroup": "",
         "orientation": "v",
         "showlegend": false,
         "type": "histogram",
         "x": [
          128,
          130,
          206,
          113,
          177,
          189,
          98,
          155,
          116,
          131,
          133,
          104,
          157,
          203,
          170,
          142,
          114,
          196,
          137,
          137,
          174,
          87,
          103,
          129,
          113,
          173,
          202,
          134,
          131,
          93,
          103
         ],
         "xaxis": "x4",
         "yaxis": "y4"
        },
        {
         "alignmentgroup": "True",
         "bingroup": "x",
         "hovertemplate": "words_count=%{x}<br>count=%{y}<extra></extra>",
         "legendgroup": "",
         "marker": {
          "color": "rgba(0, 0, 255, 0.6)",
          "pattern": {
           "shape": ""
          }
         },
         "name": "",
         "nbinsx": 300,
         "offsetgroup": "",
         "orientation": "v",
         "showlegend": false,
         "type": "histogram",
         "x": [
          157,
          102,
          95,
          107,
          58,
          119,
          95,
          94,
          99,
          110,
          90,
          121,
          105,
          194
         ],
         "xaxis": "x5",
         "yaxis": "y5"
        },
        {
         "alignmentgroup": "True",
         "bingroup": "x",
         "hovertemplate": "words_count=%{x}<br>count=%{y}<extra></extra>",
         "legendgroup": "",
         "marker": {
          "color": "rgba(0, 255, 0, 0.6)",
          "pattern": {
           "shape": ""
          }
         },
         "name": "",
         "nbinsx": 300,
         "offsetgroup": "",
         "orientation": "v",
         "showlegend": false,
         "type": "histogram",
         "x": [
          133,
          122,
          170
         ],
         "xaxis": "x6",
         "yaxis": "y6"
        }
       ],
       "layout": {
        "annotations": [
         {
          "font": {
           "size": 16
          },
          "showarrow": false,
          "text": "Text Length - Negative",
          "x": 0.14444444444444446,
          "xanchor": "center",
          "xref": "paper",
          "y": 1,
          "yanchor": "bottom",
          "yref": "paper"
         },
         {
          "font": {
           "size": 16
          },
          "showarrow": false,
          "text": "Text Length - Neutral",
          "x": 0.5,
          "xanchor": "center",
          "xref": "paper",
          "y": 1,
          "yanchor": "bottom",
          "yref": "paper"
         },
         {
          "font": {
           "size": 16
          },
          "showarrow": false,
          "text": "Text Length - Positive",
          "x": 0.8555555555555556,
          "xanchor": "center",
          "xref": "paper",
          "y": 1,
          "yanchor": "bottom",
          "yref": "paper"
         },
         {
          "font": {
           "size": 16
          },
          "showarrow": false,
          "text": "Word Count - Negative",
          "x": 0.14444444444444446,
          "xanchor": "center",
          "xref": "paper",
          "y": 0.375,
          "yanchor": "bottom",
          "yref": "paper"
         },
         {
          "font": {
           "size": 16
          },
          "showarrow": false,
          "text": "Word Count - Neutral",
          "x": 0.5,
          "xanchor": "center",
          "xref": "paper",
          "y": 0.375,
          "yanchor": "bottom",
          "yref": "paper"
         },
         {
          "font": {
           "size": 16
          },
          "showarrow": false,
          "text": "Word Count - Positive",
          "x": 0.8555555555555556,
          "xanchor": "center",
          "xref": "paper",
          "y": 0.375,
          "yanchor": "bottom",
          "yref": "paper"
         }
        ],
        "height": 800,
        "template": {
         "data": {
          "bar": [
           {
            "error_x": {
             "color": "#2a3f5f"
            },
            "error_y": {
             "color": "#2a3f5f"
            },
            "marker": {
             "line": {
              "color": "#E5ECF6",
              "width": 0.5
             },
             "pattern": {
              "fillmode": "overlay",
              "size": 10,
              "solidity": 0.2
             }
            },
            "type": "bar"
           }
          ],
          "barpolar": [
           {
            "marker": {
             "line": {
              "color": "#E5ECF6",
              "width": 0.5
             },
             "pattern": {
              "fillmode": "overlay",
              "size": 10,
              "solidity": 0.2
             }
            },
            "type": "barpolar"
           }
          ],
          "carpet": [
           {
            "aaxis": {
             "endlinecolor": "#2a3f5f",
             "gridcolor": "white",
             "linecolor": "white",
             "minorgridcolor": "white",
             "startlinecolor": "#2a3f5f"
            },
            "baxis": {
             "endlinecolor": "#2a3f5f",
             "gridcolor": "white",
             "linecolor": "white",
             "minorgridcolor": "white",
             "startlinecolor": "#2a3f5f"
            },
            "type": "carpet"
           }
          ],
          "choropleth": [
           {
            "colorbar": {
             "outlinewidth": 0,
             "ticks": ""
            },
            "type": "choropleth"
           }
          ],
          "contour": [
           {
            "colorbar": {
             "outlinewidth": 0,
             "ticks": ""
            },
            "colorscale": [
             [
              0,
              "#0d0887"
             ],
             [
              0.1111111111111111,
              "#46039f"
             ],
             [
              0.2222222222222222,
              "#7201a8"
             ],
             [
              0.3333333333333333,
              "#9c179e"
             ],
             [
              0.4444444444444444,
              "#bd3786"
             ],
             [
              0.5555555555555556,
              "#d8576b"
             ],
             [
              0.6666666666666666,
              "#ed7953"
             ],
             [
              0.7777777777777778,
              "#fb9f3a"
             ],
             [
              0.8888888888888888,
              "#fdca26"
             ],
             [
              1,
              "#f0f921"
             ]
            ],
            "type": "contour"
           }
          ],
          "contourcarpet": [
           {
            "colorbar": {
             "outlinewidth": 0,
             "ticks": ""
            },
            "type": "contourcarpet"
           }
          ],
          "heatmap": [
           {
            "colorbar": {
             "outlinewidth": 0,
             "ticks": ""
            },
            "colorscale": [
             [
              0,
              "#0d0887"
             ],
             [
              0.1111111111111111,
              "#46039f"
             ],
             [
              0.2222222222222222,
              "#7201a8"
             ],
             [
              0.3333333333333333,
              "#9c179e"
             ],
             [
              0.4444444444444444,
              "#bd3786"
             ],
             [
              0.5555555555555556,
              "#d8576b"
             ],
             [
              0.6666666666666666,
              "#ed7953"
             ],
             [
              0.7777777777777778,
              "#fb9f3a"
             ],
             [
              0.8888888888888888,
              "#fdca26"
             ],
             [
              1,
              "#f0f921"
             ]
            ],
            "type": "heatmap"
           }
          ],
          "heatmapgl": [
           {
            "colorbar": {
             "outlinewidth": 0,
             "ticks": ""
            },
            "colorscale": [
             [
              0,
              "#0d0887"
             ],
             [
              0.1111111111111111,
              "#46039f"
             ],
             [
              0.2222222222222222,
              "#7201a8"
             ],
             [
              0.3333333333333333,
              "#9c179e"
             ],
             [
              0.4444444444444444,
              "#bd3786"
             ],
             [
              0.5555555555555556,
              "#d8576b"
             ],
             [
              0.6666666666666666,
              "#ed7953"
             ],
             [
              0.7777777777777778,
              "#fb9f3a"
             ],
             [
              0.8888888888888888,
              "#fdca26"
             ],
             [
              1,
              "#f0f921"
             ]
            ],
            "type": "heatmapgl"
           }
          ],
          "histogram": [
           {
            "marker": {
             "pattern": {
              "fillmode": "overlay",
              "size": 10,
              "solidity": 0.2
             }
            },
            "type": "histogram"
           }
          ],
          "histogram2d": [
           {
            "colorbar": {
             "outlinewidth": 0,
             "ticks": ""
            },
            "colorscale": [
             [
              0,
              "#0d0887"
             ],
             [
              0.1111111111111111,
              "#46039f"
             ],
             [
              0.2222222222222222,
              "#7201a8"
             ],
             [
              0.3333333333333333,
              "#9c179e"
             ],
             [
              0.4444444444444444,
              "#bd3786"
             ],
             [
              0.5555555555555556,
              "#d8576b"
             ],
             [
              0.6666666666666666,
              "#ed7953"
             ],
             [
              0.7777777777777778,
              "#fb9f3a"
             ],
             [
              0.8888888888888888,
              "#fdca26"
             ],
             [
              1,
              "#f0f921"
             ]
            ],
            "type": "histogram2d"
           }
          ],
          "histogram2dcontour": [
           {
            "colorbar": {
             "outlinewidth": 0,
             "ticks": ""
            },
            "colorscale": [
             [
              0,
              "#0d0887"
             ],
             [
              0.1111111111111111,
              "#46039f"
             ],
             [
              0.2222222222222222,
              "#7201a8"
             ],
             [
              0.3333333333333333,
              "#9c179e"
             ],
             [
              0.4444444444444444,
              "#bd3786"
             ],
             [
              0.5555555555555556,
              "#d8576b"
             ],
             [
              0.6666666666666666,
              "#ed7953"
             ],
             [
              0.7777777777777778,
              "#fb9f3a"
             ],
             [
              0.8888888888888888,
              "#fdca26"
             ],
             [
              1,
              "#f0f921"
             ]
            ],
            "type": "histogram2dcontour"
           }
          ],
          "mesh3d": [
           {
            "colorbar": {
             "outlinewidth": 0,
             "ticks": ""
            },
            "type": "mesh3d"
           }
          ],
          "parcoords": [
           {
            "line": {
             "colorbar": {
              "outlinewidth": 0,
              "ticks": ""
             }
            },
            "type": "parcoords"
           }
          ],
          "pie": [
           {
            "automargin": true,
            "type": "pie"
           }
          ],
          "scatter": [
           {
            "fillpattern": {
             "fillmode": "overlay",
             "size": 10,
             "solidity": 0.2
            },
            "type": "scatter"
           }
          ],
          "scatter3d": [
           {
            "line": {
             "colorbar": {
              "outlinewidth": 0,
              "ticks": ""
             }
            },
            "marker": {
             "colorbar": {
              "outlinewidth": 0,
              "ticks": ""
             }
            },
            "type": "scatter3d"
           }
          ],
          "scattercarpet": [
           {
            "marker": {
             "colorbar": {
              "outlinewidth": 0,
              "ticks": ""
             }
            },
            "type": "scattercarpet"
           }
          ],
          "scattergeo": [
           {
            "marker": {
             "colorbar": {
              "outlinewidth": 0,
              "ticks": ""
             }
            },
            "type": "scattergeo"
           }
          ],
          "scattergl": [
           {
            "marker": {
             "colorbar": {
              "outlinewidth": 0,
              "ticks": ""
             }
            },
            "type": "scattergl"
           }
          ],
          "scattermapbox": [
           {
            "marker": {
             "colorbar": {
              "outlinewidth": 0,
              "ticks": ""
             }
            },
            "type": "scattermapbox"
           }
          ],
          "scatterpolar": [
           {
            "marker": {
             "colorbar": {
              "outlinewidth": 0,
              "ticks": ""
             }
            },
            "type": "scatterpolar"
           }
          ],
          "scatterpolargl": [
           {
            "marker": {
             "colorbar": {
              "outlinewidth": 0,
              "ticks": ""
             }
            },
            "type": "scatterpolargl"
           }
          ],
          "scatterternary": [
           {
            "marker": {
             "colorbar": {
              "outlinewidth": 0,
              "ticks": ""
             }
            },
            "type": "scatterternary"
           }
          ],
          "surface": [
           {
            "colorbar": {
             "outlinewidth": 0,
             "ticks": ""
            },
            "colorscale": [
             [
              0,
              "#0d0887"
             ],
             [
              0.1111111111111111,
              "#46039f"
             ],
             [
              0.2222222222222222,
              "#7201a8"
             ],
             [
              0.3333333333333333,
              "#9c179e"
             ],
             [
              0.4444444444444444,
              "#bd3786"
             ],
             [
              0.5555555555555556,
              "#d8576b"
             ],
             [
              0.6666666666666666,
              "#ed7953"
             ],
             [
              0.7777777777777778,
              "#fb9f3a"
             ],
             [
              0.8888888888888888,
              "#fdca26"
             ],
             [
              1,
              "#f0f921"
             ]
            ],
            "type": "surface"
           }
          ],
          "table": [
           {
            "cells": {
             "fill": {
              "color": "#EBF0F8"
             },
             "line": {
              "color": "white"
             }
            },
            "header": {
             "fill": {
              "color": "#C8D4E3"
             },
             "line": {
              "color": "white"
             }
            },
            "type": "table"
           }
          ]
         },
         "layout": {
          "annotationdefaults": {
           "arrowcolor": "#2a3f5f",
           "arrowhead": 0,
           "arrowwidth": 1
          },
          "autotypenumbers": "strict",
          "coloraxis": {
           "colorbar": {
            "outlinewidth": 0,
            "ticks": ""
           }
          },
          "colorscale": {
           "diverging": [
            [
             0,
             "#8e0152"
            ],
            [
             0.1,
             "#c51b7d"
            ],
            [
             0.2,
             "#de77ae"
            ],
            [
             0.3,
             "#f1b6da"
            ],
            [
             0.4,
             "#fde0ef"
            ],
            [
             0.5,
             "#f7f7f7"
            ],
            [
             0.6,
             "#e6f5d0"
            ],
            [
             0.7,
             "#b8e186"
            ],
            [
             0.8,
             "#7fbc41"
            ],
            [
             0.9,
             "#4d9221"
            ],
            [
             1,
             "#276419"
            ]
           ],
           "sequential": [
            [
             0,
             "#0d0887"
            ],
            [
             0.1111111111111111,
             "#46039f"
            ],
            [
             0.2222222222222222,
             "#7201a8"
            ],
            [
             0.3333333333333333,
             "#9c179e"
            ],
            [
             0.4444444444444444,
             "#bd3786"
            ],
            [
             0.5555555555555556,
             "#d8576b"
            ],
            [
             0.6666666666666666,
             "#ed7953"
            ],
            [
             0.7777777777777778,
             "#fb9f3a"
            ],
            [
             0.8888888888888888,
             "#fdca26"
            ],
            [
             1,
             "#f0f921"
            ]
           ],
           "sequentialminus": [
            [
             0,
             "#0d0887"
            ],
            [
             0.1111111111111111,
             "#46039f"
            ],
            [
             0.2222222222222222,
             "#7201a8"
            ],
            [
             0.3333333333333333,
             "#9c179e"
            ],
            [
             0.4444444444444444,
             "#bd3786"
            ],
            [
             0.5555555555555556,
             "#d8576b"
            ],
            [
             0.6666666666666666,
             "#ed7953"
            ],
            [
             0.7777777777777778,
             "#fb9f3a"
            ],
            [
             0.8888888888888888,
             "#fdca26"
            ],
            [
             1,
             "#f0f921"
            ]
           ]
          },
          "colorway": [
           "#636efa",
           "#EF553B",
           "#00cc96",
           "#ab63fa",
           "#FFA15A",
           "#19d3f3",
           "#FF6692",
           "#B6E880",
           "#FF97FF",
           "#FECB52"
          ],
          "font": {
           "color": "#2a3f5f"
          },
          "geo": {
           "bgcolor": "white",
           "lakecolor": "white",
           "landcolor": "#E5ECF6",
           "showlakes": true,
           "showland": true,
           "subunitcolor": "white"
          },
          "hoverlabel": {
           "align": "left"
          },
          "hovermode": "closest",
          "mapbox": {
           "style": "light"
          },
          "paper_bgcolor": "white",
          "plot_bgcolor": "#E5ECF6",
          "polar": {
           "angularaxis": {
            "gridcolor": "white",
            "linecolor": "white",
            "ticks": ""
           },
           "bgcolor": "#E5ECF6",
           "radialaxis": {
            "gridcolor": "white",
            "linecolor": "white",
            "ticks": ""
           }
          },
          "scene": {
           "xaxis": {
            "backgroundcolor": "#E5ECF6",
            "gridcolor": "white",
            "gridwidth": 2,
            "linecolor": "white",
            "showbackground": true,
            "ticks": "",
            "zerolinecolor": "white"
           },
           "yaxis": {
            "backgroundcolor": "#E5ECF6",
            "gridcolor": "white",
            "gridwidth": 2,
            "linecolor": "white",
            "showbackground": true,
            "ticks": "",
            "zerolinecolor": "white"
           },
           "zaxis": {
            "backgroundcolor": "#E5ECF6",
            "gridcolor": "white",
            "gridwidth": 2,
            "linecolor": "white",
            "showbackground": true,
            "ticks": "",
            "zerolinecolor": "white"
           }
          },
          "shapedefaults": {
           "line": {
            "color": "#2a3f5f"
           }
          },
          "ternary": {
           "aaxis": {
            "gridcolor": "white",
            "linecolor": "white",
            "ticks": ""
           },
           "baxis": {
            "gridcolor": "white",
            "linecolor": "white",
            "ticks": ""
           },
           "bgcolor": "#E5ECF6",
           "caxis": {
            "gridcolor": "white",
            "linecolor": "white",
            "ticks": ""
           }
          },
          "title": {
           "x": 0.05
          },
          "xaxis": {
           "automargin": true,
           "gridcolor": "white",
           "linecolor": "white",
           "ticks": "",
           "title": {
            "standoff": 15
           },
           "zerolinecolor": "white",
           "zerolinewidth": 2
          },
          "yaxis": {
           "automargin": true,
           "gridcolor": "white",
           "linecolor": "white",
           "ticks": "",
           "title": {
            "standoff": 15
           },
           "zerolinecolor": "white",
           "zerolinewidth": 2
          }
         }
        },
        "title": {
         "text": "Distribution of Text Length and Word Count by Sentiment Class"
        },
        "width": 1200,
        "xaxis": {
         "anchor": "y",
         "domain": [
          0,
          0.2888888888888889
         ]
        },
        "xaxis2": {
         "anchor": "y2",
         "domain": [
          0.35555555555555557,
          0.6444444444444445
         ]
        },
        "xaxis3": {
         "anchor": "y3",
         "domain": [
          0.7111111111111111,
          1
         ]
        },
        "xaxis4": {
         "anchor": "y4",
         "domain": [
          0,
          0.2888888888888889
         ]
        },
        "xaxis5": {
         "anchor": "y5",
         "domain": [
          0.35555555555555557,
          0.6444444444444445
         ]
        },
        "xaxis6": {
         "anchor": "y6",
         "domain": [
          0.7111111111111111,
          1
         ]
        },
        "yaxis": {
         "anchor": "x",
         "domain": [
          0.625,
          1
         ]
        },
        "yaxis2": {
         "anchor": "x2",
         "domain": [
          0.625,
          1
         ],
         "matches": "y",
         "showticklabels": false
        },
        "yaxis3": {
         "anchor": "x3",
         "domain": [
          0.625,
          1
         ],
         "matches": "y",
         "showticklabels": false
        },
        "yaxis4": {
         "anchor": "x4",
         "domain": [
          0,
          0.375
         ]
        },
        "yaxis5": {
         "anchor": "x5",
         "domain": [
          0,
          0.375
         ],
         "matches": "y4",
         "showticklabels": false
        },
        "yaxis6": {
         "anchor": "x6",
         "domain": [
          0,
          0.375
         ],
         "matches": "y4",
         "showticklabels": false
        }
       }
      }
     },
     "metadata": {},
     "output_type": "display_data"
    }
   ],
   "source": [
    "\n",
    "final_result = pd.read_csv('annotations/texts/it2/final_texts.csv')\n",
    "\n",
    "color_map = {\n",
    "    'Negative': 'rgba(255, 0, 0, 0.6)',  # Red\n",
    "    'Positive': 'rgba(0, 255, 0, 0.6)',  # Green\n",
    "    'Neutral': 'rgba(0, 0, 255, 0.6)'    # Blue\n",
    "}\n",
    "\n",
    "\n",
    "final_result[\"len_char\"] = final_result[\"text\"].apply(lambda x: len(x))\n",
    "final_result[\"words_count\"] = final_result[\"text\"].apply(lambda x: len(x.split()))\n",
    "\n",
    "df = final_result\n",
    "\n",
    "fig = make_subplots(rows=2, cols=3, subplot_titles=(\"Text Length - Negative\", \"Text Length - Neutral\", \"Text Length - Positive\",\n",
    "                                                    \"Word Count - Negative\", \"Word Count - Neutral\", \"Word Count - Positive\"), shared_yaxes=True)\n",
    "\n",
    "fig.add_trace(px.histogram(df[df['label'] == 'Negative'], x=\"len_char\", nbins=300, color_discrete_sequence=[color_map['Negative']]).data[0], row=1, col=1)\n",
    "fig.add_trace(px.histogram(df[df['label'] == 'Neutral'], x=\"len_char\", nbins=300, color_discrete_sequence=[color_map['Neutral']]).data[0], row=1, col=2)\n",
    "fig.add_trace(px.histogram(df[df['label'] == 'Positive'], x=\"len_char\", nbins=300, color_discrete_sequence=[color_map['Positive']]).data[0], row=1, col=3)\n",
    "\n",
    "fig.add_trace(px.histogram(df[df['label'] == 'Negative'], x=\"words_count\", nbins=300, color_discrete_sequence=[color_map['Negative']]).data[0], row=2, col=1)\n",
    "fig.add_trace(px.histogram(df[df['label'] == 'Neutral'], x=\"words_count\", nbins=300, color_discrete_sequence=[color_map['Neutral']]).data[0], row=2, col=2)\n",
    "fig.add_trace(px.histogram(df[df['label'] == 'Positive'], x=\"words_count\", nbins=300, color_discrete_sequence=[color_map['Positive']]).data[0], row=2, col=3)\n",
    "\n",
    "fig.update_layout(height=800, width=1200, title_text=\"Distribution of Text Length and Word Count by Sentiment Class\")\n",
    "\n",
    "fig.show()"
   ]
  },
  {
   "cell_type": "markdown",
   "metadata": {},
   "source": [
    "# Analiza Reviews"
   ]
  },
  {
   "cell_type": "code",
   "execution_count": 33,
   "metadata": {},
   "outputs": [],
   "source": [
    "df = pd.read_csv('annotations/texts/all/rev_combined.csv')"
   ]
  },
  {
   "cell_type": "code",
   "execution_count": 34,
   "metadata": {},
   "outputs": [
    {
     "data": {
      "application/vnd.plotly.v1+json": {
       "config": {
        "plotlyServerURL": "https://plot.ly"
       },
       "data": [
        {
         "alignmentgroup": "True",
         "bingroup": "x",
         "hovertemplate": "len_char=%{x}<br>count=%{y}<extra></extra>",
         "legendgroup": "",
         "marker": {
          "color": "rgba(255, 0, 0, 0.6)",
          "pattern": {
           "shape": ""
          }
         },
         "name": "",
         "nbinsx": 300,
         "offsetgroup": "",
         "orientation": "v",
         "showlegend": false,
         "type": "histogram",
         "x": [
          29,
          100,
          7,
          152,
          497,
          81,
          221,
          173,
          55,
          115,
          141,
          30,
          255,
          214,
          102,
          266,
          764,
          196,
          61,
          80,
          162,
          10,
          75,
          40,
          199,
          37,
          102,
          61,
          58,
          28,
          98,
          15,
          38,
          113,
          138,
          47
         ],
         "xaxis": "x",
         "yaxis": "y"
        },
        {
         "alignmentgroup": "True",
         "bingroup": "x",
         "hovertemplate": "len_char=%{x}<br>count=%{y}<extra></extra>",
         "legendgroup": "",
         "marker": {
          "color": "rgba(0, 0, 255, 0.6)",
          "pattern": {
           "shape": ""
          }
         },
         "name": "",
         "nbinsx": 300,
         "offsetgroup": "",
         "orientation": "v",
         "showlegend": false,
         "type": "histogram",
         "x": [
          102,
          138,
          10,
          145,
          65,
          173,
          21,
          95,
          73,
          50,
          341,
          75,
          29,
          142,
          133,
          24,
          197,
          41,
          285,
          32,
          42,
          107,
          51,
          42,
          46,
          103,
          102,
          16,
          70,
          52,
          139,
          101,
          43,
          11,
          46,
          70,
          144,
          44,
          59,
          87,
          41,
          41,
          47,
          199,
          45,
          98,
          124,
          33,
          84,
          165,
          33,
          121,
          261,
          112,
          166,
          58,
          153,
          66,
          139,
          36,
          112,
          143,
          4,
          115,
          131,
          207,
          47,
          46,
          123,
          255,
          108,
          30,
          158,
          51,
          110,
          59,
          30,
          47,
          105,
          114,
          86,
          17,
          65,
          184,
          25,
          38,
          200,
          193,
          135,
          130,
          12,
          61,
          121,
          50,
          24,
          74,
          168,
          44,
          42,
          52,
          369,
          66,
          529,
          92,
          157,
          68,
          34,
          159,
          138,
          35,
          69,
          85,
          93,
          76,
          423,
          120,
          150,
          108,
          85,
          68,
          100,
          128,
          71,
          45,
          806,
          145,
          53,
          137,
          103,
          166,
          45,
          111,
          127,
          305,
          164,
          88
         ],
         "xaxis": "x2",
         "yaxis": "y2"
        },
        {
         "alignmentgroup": "True",
         "bingroup": "x",
         "hovertemplate": "len_char=%{x}<br>count=%{y}<extra></extra>",
         "legendgroup": "",
         "marker": {
          "color": "rgba(0, 255, 0, 0.6)",
          "pattern": {
           "shape": ""
          }
         },
         "name": "",
         "nbinsx": 300,
         "offsetgroup": "",
         "orientation": "v",
         "showlegend": false,
         "type": "histogram",
         "x": [
          101,
          33,
          80,
          18,
          26,
          27,
          592,
          146,
          57,
          59,
          95,
          59,
          141,
          119,
          441,
          117,
          338,
          141,
          116,
          129,
          141,
          204,
          44,
          70,
          68,
          59,
          27,
          287,
          158,
          41,
          17,
          38,
          93,
          76,
          300,
          65,
          47,
          38,
          59,
          32,
          28,
          80,
          17,
          283,
          42,
          275,
          69,
          141,
          28,
          178,
          45,
          93,
          170,
          100,
          98,
          176,
          97,
          58,
          130,
          276,
          130,
          43,
          162,
          41,
          64,
          38,
          35,
          133,
          44,
          41,
          35,
          70,
          57,
          123,
          50,
          551,
          37,
          33,
          104,
          28
         ],
         "xaxis": "x3",
         "yaxis": "y3"
        },
        {
         "alignmentgroup": "True",
         "bingroup": "x",
         "hovertemplate": "words_count=%{x}<br>count=%{y}<extra></extra>",
         "legendgroup": "",
         "marker": {
          "color": "rgba(255, 0, 0, 0.6)",
          "pattern": {
           "shape": ""
          }
         },
         "name": "",
         "nbinsx": 300,
         "offsetgroup": "",
         "orientation": "v",
         "showlegend": false,
         "type": "histogram",
         "x": [
          8,
          18,
          2,
          31,
          92,
          18,
          45,
          38,
          10,
          22,
          30,
          6,
          46,
          34,
          17,
          50,
          172,
          40,
          12,
          16,
          27,
          3,
          18,
          7,
          38,
          6,
          21,
          11,
          9,
          6,
          21,
          5,
          7,
          22,
          23,
          10
         ],
         "xaxis": "x4",
         "yaxis": "y4"
        },
        {
         "alignmentgroup": "True",
         "bingroup": "x",
         "hovertemplate": "words_count=%{x}<br>count=%{y}<extra></extra>",
         "legendgroup": "",
         "marker": {
          "color": "rgba(0, 0, 255, 0.6)",
          "pattern": {
           "shape": ""
          }
         },
         "name": "",
         "nbinsx": 300,
         "offsetgroup": "",
         "orientation": "v",
         "showlegend": false,
         "type": "histogram",
         "x": [
          21,
          26,
          2,
          27,
          11,
          39,
          4,
          16,
          14,
          8,
          63,
          16,
          7,
          23,
          26,
          5,
          37,
          9,
          54,
          7,
          7,
          16,
          11,
          7,
          11,
          20,
          18,
          3,
          12,
          10,
          33,
          19,
          8,
          5,
          11,
          13,
          29,
          9,
          12,
          17,
          10,
          11,
          9,
          35,
          9,
          20,
          25,
          7,
          14,
          31,
          7,
          22,
          53,
          22,
          37,
          10,
          31,
          14,
          27,
          9,
          18,
          27,
          2,
          22,
          25,
          40,
          7,
          8,
          26,
          48,
          16,
          5,
          31,
          12,
          22,
          10,
          9,
          11,
          16,
          23,
          15,
          4,
          10,
          32,
          6,
          10,
          41,
          39,
          25,
          25,
          3,
          15,
          22,
          8,
          6,
          13,
          30,
          8,
          8,
          10,
          67,
          10,
          102,
          15,
          28,
          12,
          9,
          31,
          26,
          5,
          9,
          15,
          22,
          12,
          84,
          23,
          33,
          18,
          16,
          11,
          18,
          28,
          9,
          7,
          156,
          24,
          7,
          29,
          20,
          35,
          7,
          22,
          24,
          55,
          33,
          16
         ],
         "xaxis": "x5",
         "yaxis": "y5"
        },
        {
         "alignmentgroup": "True",
         "bingroup": "x",
         "hovertemplate": "words_count=%{x}<br>count=%{y}<extra></extra>",
         "legendgroup": "",
         "marker": {
          "color": "rgba(0, 255, 0, 0.6)",
          "pattern": {
           "shape": ""
          }
         },
         "name": "",
         "nbinsx": 300,
         "offsetgroup": "",
         "orientation": "v",
         "showlegend": false,
         "type": "histogram",
         "x": [
          22,
          6,
          13,
          3,
          6,
          6,
          112,
          31,
          9,
          11,
          24,
          11,
          24,
          22,
          90,
          25,
          61,
          31,
          24,
          24,
          26,
          38,
          9,
          12,
          12,
          9,
          4,
          51,
          30,
          7,
          3,
          7,
          17,
          20,
          56,
          10,
          10,
          9,
          13,
          4,
          5,
          11,
          3,
          56,
          10,
          52,
          11,
          28,
          6,
          33,
          7,
          18,
          24,
          19,
          16,
          36,
          20,
          13,
          25,
          44,
          23,
          6,
          33,
          7,
          10,
          8,
          6,
          22,
          8,
          7,
          5,
          13,
          11,
          22,
          8,
          94,
          8,
          6,
          20,
          7
         ],
         "xaxis": "x6",
         "yaxis": "y6"
        }
       ],
       "layout": {
        "annotations": [
         {
          "font": {
           "size": 16
          },
          "showarrow": false,
          "text": "Text Length - Negative",
          "x": 0.14444444444444446,
          "xanchor": "center",
          "xref": "paper",
          "y": 1,
          "yanchor": "bottom",
          "yref": "paper"
         },
         {
          "font": {
           "size": 16
          },
          "showarrow": false,
          "text": "Text Length - Neutral",
          "x": 0.5,
          "xanchor": "center",
          "xref": "paper",
          "y": 1,
          "yanchor": "bottom",
          "yref": "paper"
         },
         {
          "font": {
           "size": 16
          },
          "showarrow": false,
          "text": "Text Length - Positive",
          "x": 0.8555555555555556,
          "xanchor": "center",
          "xref": "paper",
          "y": 1,
          "yanchor": "bottom",
          "yref": "paper"
         },
         {
          "font": {
           "size": 16
          },
          "showarrow": false,
          "text": "Word Count - Negative",
          "x": 0.14444444444444446,
          "xanchor": "center",
          "xref": "paper",
          "y": 0.375,
          "yanchor": "bottom",
          "yref": "paper"
         },
         {
          "font": {
           "size": 16
          },
          "showarrow": false,
          "text": "Word Count - Neutral",
          "x": 0.5,
          "xanchor": "center",
          "xref": "paper",
          "y": 0.375,
          "yanchor": "bottom",
          "yref": "paper"
         },
         {
          "font": {
           "size": 16
          },
          "showarrow": false,
          "text": "Word Count - Positive",
          "x": 0.8555555555555556,
          "xanchor": "center",
          "xref": "paper",
          "y": 0.375,
          "yanchor": "bottom",
          "yref": "paper"
         }
        ],
        "height": 800,
        "template": {
         "data": {
          "bar": [
           {
            "error_x": {
             "color": "#2a3f5f"
            },
            "error_y": {
             "color": "#2a3f5f"
            },
            "marker": {
             "line": {
              "color": "#E5ECF6",
              "width": 0.5
             },
             "pattern": {
              "fillmode": "overlay",
              "size": 10,
              "solidity": 0.2
             }
            },
            "type": "bar"
           }
          ],
          "barpolar": [
           {
            "marker": {
             "line": {
              "color": "#E5ECF6",
              "width": 0.5
             },
             "pattern": {
              "fillmode": "overlay",
              "size": 10,
              "solidity": 0.2
             }
            },
            "type": "barpolar"
           }
          ],
          "carpet": [
           {
            "aaxis": {
             "endlinecolor": "#2a3f5f",
             "gridcolor": "white",
             "linecolor": "white",
             "minorgridcolor": "white",
             "startlinecolor": "#2a3f5f"
            },
            "baxis": {
             "endlinecolor": "#2a3f5f",
             "gridcolor": "white",
             "linecolor": "white",
             "minorgridcolor": "white",
             "startlinecolor": "#2a3f5f"
            },
            "type": "carpet"
           }
          ],
          "choropleth": [
           {
            "colorbar": {
             "outlinewidth": 0,
             "ticks": ""
            },
            "type": "choropleth"
           }
          ],
          "contour": [
           {
            "colorbar": {
             "outlinewidth": 0,
             "ticks": ""
            },
            "colorscale": [
             [
              0,
              "#0d0887"
             ],
             [
              0.1111111111111111,
              "#46039f"
             ],
             [
              0.2222222222222222,
              "#7201a8"
             ],
             [
              0.3333333333333333,
              "#9c179e"
             ],
             [
              0.4444444444444444,
              "#bd3786"
             ],
             [
              0.5555555555555556,
              "#d8576b"
             ],
             [
              0.6666666666666666,
              "#ed7953"
             ],
             [
              0.7777777777777778,
              "#fb9f3a"
             ],
             [
              0.8888888888888888,
              "#fdca26"
             ],
             [
              1,
              "#f0f921"
             ]
            ],
            "type": "contour"
           }
          ],
          "contourcarpet": [
           {
            "colorbar": {
             "outlinewidth": 0,
             "ticks": ""
            },
            "type": "contourcarpet"
           }
          ],
          "heatmap": [
           {
            "colorbar": {
             "outlinewidth": 0,
             "ticks": ""
            },
            "colorscale": [
             [
              0,
              "#0d0887"
             ],
             [
              0.1111111111111111,
              "#46039f"
             ],
             [
              0.2222222222222222,
              "#7201a8"
             ],
             [
              0.3333333333333333,
              "#9c179e"
             ],
             [
              0.4444444444444444,
              "#bd3786"
             ],
             [
              0.5555555555555556,
              "#d8576b"
             ],
             [
              0.6666666666666666,
              "#ed7953"
             ],
             [
              0.7777777777777778,
              "#fb9f3a"
             ],
             [
              0.8888888888888888,
              "#fdca26"
             ],
             [
              1,
              "#f0f921"
             ]
            ],
            "type": "heatmap"
           }
          ],
          "heatmapgl": [
           {
            "colorbar": {
             "outlinewidth": 0,
             "ticks": ""
            },
            "colorscale": [
             [
              0,
              "#0d0887"
             ],
             [
              0.1111111111111111,
              "#46039f"
             ],
             [
              0.2222222222222222,
              "#7201a8"
             ],
             [
              0.3333333333333333,
              "#9c179e"
             ],
             [
              0.4444444444444444,
              "#bd3786"
             ],
             [
              0.5555555555555556,
              "#d8576b"
             ],
             [
              0.6666666666666666,
              "#ed7953"
             ],
             [
              0.7777777777777778,
              "#fb9f3a"
             ],
             [
              0.8888888888888888,
              "#fdca26"
             ],
             [
              1,
              "#f0f921"
             ]
            ],
            "type": "heatmapgl"
           }
          ],
          "histogram": [
           {
            "marker": {
             "pattern": {
              "fillmode": "overlay",
              "size": 10,
              "solidity": 0.2
             }
            },
            "type": "histogram"
           }
          ],
          "histogram2d": [
           {
            "colorbar": {
             "outlinewidth": 0,
             "ticks": ""
            },
            "colorscale": [
             [
              0,
              "#0d0887"
             ],
             [
              0.1111111111111111,
              "#46039f"
             ],
             [
              0.2222222222222222,
              "#7201a8"
             ],
             [
              0.3333333333333333,
              "#9c179e"
             ],
             [
              0.4444444444444444,
              "#bd3786"
             ],
             [
              0.5555555555555556,
              "#d8576b"
             ],
             [
              0.6666666666666666,
              "#ed7953"
             ],
             [
              0.7777777777777778,
              "#fb9f3a"
             ],
             [
              0.8888888888888888,
              "#fdca26"
             ],
             [
              1,
              "#f0f921"
             ]
            ],
            "type": "histogram2d"
           }
          ],
          "histogram2dcontour": [
           {
            "colorbar": {
             "outlinewidth": 0,
             "ticks": ""
            },
            "colorscale": [
             [
              0,
              "#0d0887"
             ],
             [
              0.1111111111111111,
              "#46039f"
             ],
             [
              0.2222222222222222,
              "#7201a8"
             ],
             [
              0.3333333333333333,
              "#9c179e"
             ],
             [
              0.4444444444444444,
              "#bd3786"
             ],
             [
              0.5555555555555556,
              "#d8576b"
             ],
             [
              0.6666666666666666,
              "#ed7953"
             ],
             [
              0.7777777777777778,
              "#fb9f3a"
             ],
             [
              0.8888888888888888,
              "#fdca26"
             ],
             [
              1,
              "#f0f921"
             ]
            ],
            "type": "histogram2dcontour"
           }
          ],
          "mesh3d": [
           {
            "colorbar": {
             "outlinewidth": 0,
             "ticks": ""
            },
            "type": "mesh3d"
           }
          ],
          "parcoords": [
           {
            "line": {
             "colorbar": {
              "outlinewidth": 0,
              "ticks": ""
             }
            },
            "type": "parcoords"
           }
          ],
          "pie": [
           {
            "automargin": true,
            "type": "pie"
           }
          ],
          "scatter": [
           {
            "fillpattern": {
             "fillmode": "overlay",
             "size": 10,
             "solidity": 0.2
            },
            "type": "scatter"
           }
          ],
          "scatter3d": [
           {
            "line": {
             "colorbar": {
              "outlinewidth": 0,
              "ticks": ""
             }
            },
            "marker": {
             "colorbar": {
              "outlinewidth": 0,
              "ticks": ""
             }
            },
            "type": "scatter3d"
           }
          ],
          "scattercarpet": [
           {
            "marker": {
             "colorbar": {
              "outlinewidth": 0,
              "ticks": ""
             }
            },
            "type": "scattercarpet"
           }
          ],
          "scattergeo": [
           {
            "marker": {
             "colorbar": {
              "outlinewidth": 0,
              "ticks": ""
             }
            },
            "type": "scattergeo"
           }
          ],
          "scattergl": [
           {
            "marker": {
             "colorbar": {
              "outlinewidth": 0,
              "ticks": ""
             }
            },
            "type": "scattergl"
           }
          ],
          "scattermapbox": [
           {
            "marker": {
             "colorbar": {
              "outlinewidth": 0,
              "ticks": ""
             }
            },
            "type": "scattermapbox"
           }
          ],
          "scatterpolar": [
           {
            "marker": {
             "colorbar": {
              "outlinewidth": 0,
              "ticks": ""
             }
            },
            "type": "scatterpolar"
           }
          ],
          "scatterpolargl": [
           {
            "marker": {
             "colorbar": {
              "outlinewidth": 0,
              "ticks": ""
             }
            },
            "type": "scatterpolargl"
           }
          ],
          "scatterternary": [
           {
            "marker": {
             "colorbar": {
              "outlinewidth": 0,
              "ticks": ""
             }
            },
            "type": "scatterternary"
           }
          ],
          "surface": [
           {
            "colorbar": {
             "outlinewidth": 0,
             "ticks": ""
            },
            "colorscale": [
             [
              0,
              "#0d0887"
             ],
             [
              0.1111111111111111,
              "#46039f"
             ],
             [
              0.2222222222222222,
              "#7201a8"
             ],
             [
              0.3333333333333333,
              "#9c179e"
             ],
             [
              0.4444444444444444,
              "#bd3786"
             ],
             [
              0.5555555555555556,
              "#d8576b"
             ],
             [
              0.6666666666666666,
              "#ed7953"
             ],
             [
              0.7777777777777778,
              "#fb9f3a"
             ],
             [
              0.8888888888888888,
              "#fdca26"
             ],
             [
              1,
              "#f0f921"
             ]
            ],
            "type": "surface"
           }
          ],
          "table": [
           {
            "cells": {
             "fill": {
              "color": "#EBF0F8"
             },
             "line": {
              "color": "white"
             }
            },
            "header": {
             "fill": {
              "color": "#C8D4E3"
             },
             "line": {
              "color": "white"
             }
            },
            "type": "table"
           }
          ]
         },
         "layout": {
          "annotationdefaults": {
           "arrowcolor": "#2a3f5f",
           "arrowhead": 0,
           "arrowwidth": 1
          },
          "autotypenumbers": "strict",
          "coloraxis": {
           "colorbar": {
            "outlinewidth": 0,
            "ticks": ""
           }
          },
          "colorscale": {
           "diverging": [
            [
             0,
             "#8e0152"
            ],
            [
             0.1,
             "#c51b7d"
            ],
            [
             0.2,
             "#de77ae"
            ],
            [
             0.3,
             "#f1b6da"
            ],
            [
             0.4,
             "#fde0ef"
            ],
            [
             0.5,
             "#f7f7f7"
            ],
            [
             0.6,
             "#e6f5d0"
            ],
            [
             0.7,
             "#b8e186"
            ],
            [
             0.8,
             "#7fbc41"
            ],
            [
             0.9,
             "#4d9221"
            ],
            [
             1,
             "#276419"
            ]
           ],
           "sequential": [
            [
             0,
             "#0d0887"
            ],
            [
             0.1111111111111111,
             "#46039f"
            ],
            [
             0.2222222222222222,
             "#7201a8"
            ],
            [
             0.3333333333333333,
             "#9c179e"
            ],
            [
             0.4444444444444444,
             "#bd3786"
            ],
            [
             0.5555555555555556,
             "#d8576b"
            ],
            [
             0.6666666666666666,
             "#ed7953"
            ],
            [
             0.7777777777777778,
             "#fb9f3a"
            ],
            [
             0.8888888888888888,
             "#fdca26"
            ],
            [
             1,
             "#f0f921"
            ]
           ],
           "sequentialminus": [
            [
             0,
             "#0d0887"
            ],
            [
             0.1111111111111111,
             "#46039f"
            ],
            [
             0.2222222222222222,
             "#7201a8"
            ],
            [
             0.3333333333333333,
             "#9c179e"
            ],
            [
             0.4444444444444444,
             "#bd3786"
            ],
            [
             0.5555555555555556,
             "#d8576b"
            ],
            [
             0.6666666666666666,
             "#ed7953"
            ],
            [
             0.7777777777777778,
             "#fb9f3a"
            ],
            [
             0.8888888888888888,
             "#fdca26"
            ],
            [
             1,
             "#f0f921"
            ]
           ]
          },
          "colorway": [
           "#636efa",
           "#EF553B",
           "#00cc96",
           "#ab63fa",
           "#FFA15A",
           "#19d3f3",
           "#FF6692",
           "#B6E880",
           "#FF97FF",
           "#FECB52"
          ],
          "font": {
           "color": "#2a3f5f"
          },
          "geo": {
           "bgcolor": "white",
           "lakecolor": "white",
           "landcolor": "#E5ECF6",
           "showlakes": true,
           "showland": true,
           "subunitcolor": "white"
          },
          "hoverlabel": {
           "align": "left"
          },
          "hovermode": "closest",
          "mapbox": {
           "style": "light"
          },
          "paper_bgcolor": "white",
          "plot_bgcolor": "#E5ECF6",
          "polar": {
           "angularaxis": {
            "gridcolor": "white",
            "linecolor": "white",
            "ticks": ""
           },
           "bgcolor": "#E5ECF6",
           "radialaxis": {
            "gridcolor": "white",
            "linecolor": "white",
            "ticks": ""
           }
          },
          "scene": {
           "xaxis": {
            "backgroundcolor": "#E5ECF6",
            "gridcolor": "white",
            "gridwidth": 2,
            "linecolor": "white",
            "showbackground": true,
            "ticks": "",
            "zerolinecolor": "white"
           },
           "yaxis": {
            "backgroundcolor": "#E5ECF6",
            "gridcolor": "white",
            "gridwidth": 2,
            "linecolor": "white",
            "showbackground": true,
            "ticks": "",
            "zerolinecolor": "white"
           },
           "zaxis": {
            "backgroundcolor": "#E5ECF6",
            "gridcolor": "white",
            "gridwidth": 2,
            "linecolor": "white",
            "showbackground": true,
            "ticks": "",
            "zerolinecolor": "white"
           }
          },
          "shapedefaults": {
           "line": {
            "color": "#2a3f5f"
           }
          },
          "ternary": {
           "aaxis": {
            "gridcolor": "white",
            "linecolor": "white",
            "ticks": ""
           },
           "baxis": {
            "gridcolor": "white",
            "linecolor": "white",
            "ticks": ""
           },
           "bgcolor": "#E5ECF6",
           "caxis": {
            "gridcolor": "white",
            "linecolor": "white",
            "ticks": ""
           }
          },
          "title": {
           "x": 0.05
          },
          "xaxis": {
           "automargin": true,
           "gridcolor": "white",
           "linecolor": "white",
           "ticks": "",
           "title": {
            "standoff": 15
           },
           "zerolinecolor": "white",
           "zerolinewidth": 2
          },
          "yaxis": {
           "automargin": true,
           "gridcolor": "white",
           "linecolor": "white",
           "ticks": "",
           "title": {
            "standoff": 15
           },
           "zerolinecolor": "white",
           "zerolinewidth": 2
          }
         }
        },
        "title": {
         "text": "Distribution of Text Length and Word Count by Sentiment Class"
        },
        "width": 1200,
        "xaxis": {
         "anchor": "y",
         "domain": [
          0,
          0.2888888888888889
         ]
        },
        "xaxis2": {
         "anchor": "y2",
         "domain": [
          0.35555555555555557,
          0.6444444444444445
         ]
        },
        "xaxis3": {
         "anchor": "y3",
         "domain": [
          0.7111111111111111,
          1
         ]
        },
        "xaxis4": {
         "anchor": "y4",
         "domain": [
          0,
          0.2888888888888889
         ]
        },
        "xaxis5": {
         "anchor": "y5",
         "domain": [
          0.35555555555555557,
          0.6444444444444445
         ]
        },
        "xaxis6": {
         "anchor": "y6",
         "domain": [
          0.7111111111111111,
          1
         ]
        },
        "yaxis": {
         "anchor": "x",
         "domain": [
          0.625,
          1
         ]
        },
        "yaxis2": {
         "anchor": "x2",
         "domain": [
          0.625,
          1
         ],
         "matches": "y",
         "showticklabels": false
        },
        "yaxis3": {
         "anchor": "x3",
         "domain": [
          0.625,
          1
         ],
         "matches": "y",
         "showticklabels": false
        },
        "yaxis4": {
         "anchor": "x4",
         "domain": [
          0,
          0.375
         ]
        },
        "yaxis5": {
         "anchor": "x5",
         "domain": [
          0,
          0.375
         ],
         "matches": "y4",
         "showticklabels": false
        },
        "yaxis6": {
         "anchor": "x6",
         "domain": [
          0,
          0.375
         ],
         "matches": "y4",
         "showticklabels": false
        }
       }
      }
     },
     "metadata": {},
     "output_type": "display_data"
    }
   ],
   "source": [
    "df[\"len_char\"] = df[\"text\"].apply(lambda x: len(x))\n",
    "df[\"words_count\"] = df[\"text\"].apply(lambda x: len(x.split()))\n",
    "\n",
    "fig = make_subplots(rows=2, cols=3, subplot_titles=(\"Text Length - Negative\", \"Text Length - Neutral\", \"Text Length - Positive\",\n",
    "                                                    \"Word Count - Negative\", \"Word Count - Neutral\", \"Word Count - Positive\"), shared_yaxes=True)\n",
    "\n",
    "fig.add_trace(px.histogram(df[df['label'] == 'Negative'], x=\"len_char\", nbins=300, color_discrete_sequence=[color_map['Negative']]).data[0], row=1, col=1)\n",
    "fig.add_trace(px.histogram(df[df['label'] == 'Neutral'], x=\"len_char\", nbins=300, color_discrete_sequence=[color_map['Neutral']]).data[0], row=1, col=2)\n",
    "fig.add_trace(px.histogram(df[df['label'] == 'Positive'], x=\"len_char\", nbins=300, color_discrete_sequence=[color_map['Positive']]).data[0], row=1, col=3)\n",
    "\n",
    "fig.add_trace(px.histogram(df[df['label'] == 'Negative'], x=\"words_count\", nbins=300, color_discrete_sequence=[color_map['Negative']]).data[0], row=2, col=1)\n",
    "fig.add_trace(px.histogram(df[df['label'] == 'Neutral'], x=\"words_count\", nbins=300, color_discrete_sequence=[color_map['Neutral']]).data[0], row=2, col=2)\n",
    "fig.add_trace(px.histogram(df[df['label'] == 'Positive'], x=\"words_count\", nbins=300, color_discrete_sequence=[color_map['Positive']]).data[0], row=2, col=3)\n",
    "\n",
    "fig.update_layout(height=800, width=1200, title_text=\"Distribution of Text Length and Word Count by Sentiment Class\")\n",
    "\n",
    "fig.show()"
   ]
  },
  {
   "cell_type": "code",
   "execution_count": 35,
   "metadata": {},
   "outputs": [],
   "source": [
    "\n",
    "\n",
    "df = pd.read_csv('annotations/texts/all_texts.csv')\n"
   ]
  },
  {
   "cell_type": "code",
   "execution_count": 36,
   "metadata": {},
   "outputs": [
    {
     "data": {
      "application/vnd.plotly.v1+json": {
       "config": {
        "plotlyServerURL": "https://plot.ly"
       },
       "data": [
        {
         "alignmentgroup": "True",
         "bingroup": "x",
         "hovertemplate": "len_char=%{x}<br>count=%{y}<extra></extra>",
         "legendgroup": "",
         "marker": {
          "color": "rgba(255, 0, 0, 0.6)",
          "pattern": {
           "shape": ""
          }
         },
         "name": "",
         "nbinsx": 300,
         "offsetgroup": "",
         "orientation": "v",
         "showlegend": false,
         "type": "histogram",
         "x": [
          630,
          739,
          1084,
          638,
          936,
          1048,
          531,
          813,
          576,
          675,
          713,
          622,
          900,
          1173,
          940,
          834,
          593,
          1142,
          850,
          815,
          967,
          558,
          571,
          724,
          573,
          909,
          1199,
          728,
          740,
          573,
          548,
          29,
          100,
          7,
          152,
          497,
          81,
          221,
          173,
          55,
          115,
          141,
          30,
          255,
          214,
          102,
          266,
          764,
          196,
          61,
          80,
          162,
          10,
          75,
          40,
          199,
          37,
          102,
          61,
          58,
          28,
          98,
          15,
          38,
          113,
          138,
          47
         ],
         "xaxis": "x",
         "yaxis": "y"
        },
        {
         "alignmentgroup": "True",
         "bingroup": "x",
         "hovertemplate": "len_char=%{x}<br>count=%{y}<extra></extra>",
         "legendgroup": "",
         "marker": {
          "color": "rgba(0, 0, 255, 0.6)",
          "pattern": {
           "shape": ""
          }
         },
         "name": "",
         "nbinsx": 300,
         "offsetgroup": "",
         "orientation": "v",
         "showlegend": false,
         "type": "histogram",
         "x": [
          917,
          595,
          541,
          646,
          349,
          603,
          526,
          513,
          520,
          605,
          533,
          665,
          655,
          1187,
          102,
          138,
          10,
          145,
          65,
          173,
          21,
          95,
          73,
          50,
          341,
          75,
          29,
          142,
          133,
          24,
          197,
          41,
          285,
          32,
          42,
          107,
          51,
          42,
          46,
          103,
          102,
          16,
          70,
          52,
          139,
          101,
          43,
          11,
          46,
          70,
          144,
          44,
          59,
          87,
          41,
          41,
          47,
          199,
          45,
          98,
          124,
          33,
          84,
          165,
          33,
          121,
          261,
          112,
          166,
          58,
          153,
          66,
          139,
          36,
          112,
          143,
          4,
          115,
          131,
          207,
          47,
          46,
          123,
          255,
          108,
          30,
          158,
          51,
          110,
          59,
          30,
          47,
          105,
          114,
          86,
          17,
          65,
          184,
          25,
          38,
          200,
          193,
          135,
          130,
          12,
          61,
          121,
          50,
          24,
          74,
          168,
          44,
          42,
          52,
          369,
          66,
          529,
          92,
          157,
          68,
          34,
          159,
          138,
          35,
          69,
          85,
          93,
          76,
          423,
          120,
          150,
          108,
          85,
          68,
          100,
          128,
          71,
          45,
          806,
          145,
          53,
          137,
          103,
          166,
          45,
          111,
          127,
          305,
          164,
          88
         ],
         "xaxis": "x2",
         "yaxis": "y2"
        },
        {
         "alignmentgroup": "True",
         "bingroup": "x",
         "hovertemplate": "len_char=%{x}<br>count=%{y}<extra></extra>",
         "legendgroup": "",
         "marker": {
          "color": "rgba(0, 255, 0, 0.6)",
          "pattern": {
           "shape": ""
          }
         },
         "name": "",
         "nbinsx": 300,
         "offsetgroup": "",
         "orientation": "v",
         "showlegend": false,
         "type": "histogram",
         "x": [
          704,
          752,
          923,
          101,
          33,
          80,
          18,
          26,
          27,
          592,
          146,
          57,
          59,
          95,
          59,
          141,
          119,
          441,
          117,
          338,
          141,
          116,
          129,
          141,
          204,
          44,
          70,
          68,
          59,
          27,
          287,
          158,
          41,
          17,
          38,
          93,
          76,
          300,
          65,
          47,
          38,
          59,
          32,
          28,
          80,
          17,
          283,
          42,
          275,
          69,
          141,
          28,
          178,
          45,
          93,
          170,
          100,
          98,
          176,
          97,
          58,
          130,
          276,
          130,
          43,
          162,
          41,
          64,
          38,
          35,
          133,
          44,
          41,
          35,
          70,
          57,
          123,
          50,
          551,
          37,
          33,
          104,
          28
         ],
         "xaxis": "x3",
         "yaxis": "y3"
        },
        {
         "alignmentgroup": "True",
         "bingroup": "x",
         "hovertemplate": "words_count=%{x}<br>count=%{y}<extra></extra>",
         "legendgroup": "",
         "marker": {
          "color": "rgba(255, 0, 0, 0.6)",
          "pattern": {
           "shape": ""
          }
         },
         "name": "",
         "nbinsx": 300,
         "offsetgroup": "",
         "orientation": "v",
         "showlegend": false,
         "type": "histogram",
         "x": [
          128,
          130,
          206,
          113,
          177,
          189,
          98,
          155,
          116,
          131,
          133,
          104,
          157,
          203,
          170,
          142,
          114,
          196,
          137,
          137,
          174,
          87,
          103,
          129,
          113,
          173,
          202,
          134,
          131,
          93,
          103,
          8,
          18,
          2,
          31,
          92,
          18,
          45,
          38,
          10,
          22,
          30,
          6,
          46,
          34,
          17,
          50,
          172,
          40,
          12,
          16,
          27,
          3,
          18,
          7,
          38,
          6,
          21,
          11,
          9,
          6,
          21,
          5,
          7,
          22,
          23,
          10
         ],
         "xaxis": "x4",
         "yaxis": "y4"
        },
        {
         "alignmentgroup": "True",
         "bingroup": "x",
         "hovertemplate": "words_count=%{x}<br>count=%{y}<extra></extra>",
         "legendgroup": "",
         "marker": {
          "color": "rgba(0, 0, 255, 0.6)",
          "pattern": {
           "shape": ""
          }
         },
         "name": "",
         "nbinsx": 300,
         "offsetgroup": "",
         "orientation": "v",
         "showlegend": false,
         "type": "histogram",
         "x": [
          157,
          102,
          95,
          107,
          58,
          119,
          95,
          94,
          99,
          110,
          90,
          121,
          105,
          194,
          21,
          26,
          2,
          27,
          11,
          39,
          4,
          16,
          14,
          8,
          63,
          16,
          7,
          23,
          26,
          5,
          37,
          9,
          54,
          7,
          7,
          16,
          11,
          7,
          11,
          20,
          18,
          3,
          12,
          10,
          33,
          19,
          8,
          5,
          11,
          13,
          29,
          9,
          12,
          17,
          10,
          11,
          9,
          35,
          9,
          20,
          25,
          7,
          14,
          31,
          7,
          22,
          53,
          22,
          37,
          10,
          31,
          14,
          27,
          9,
          18,
          27,
          2,
          22,
          25,
          40,
          7,
          8,
          26,
          48,
          16,
          5,
          31,
          12,
          22,
          10,
          9,
          11,
          16,
          23,
          15,
          4,
          10,
          32,
          6,
          10,
          41,
          39,
          25,
          25,
          3,
          15,
          22,
          8,
          6,
          13,
          30,
          8,
          8,
          10,
          67,
          10,
          102,
          15,
          28,
          12,
          9,
          31,
          26,
          5,
          9,
          15,
          22,
          12,
          84,
          23,
          33,
          18,
          16,
          11,
          18,
          28,
          9,
          7,
          156,
          24,
          7,
          29,
          20,
          35,
          7,
          22,
          24,
          55,
          33,
          16
         ],
         "xaxis": "x5",
         "yaxis": "y5"
        },
        {
         "alignmentgroup": "True",
         "bingroup": "x",
         "hovertemplate": "words_count=%{x}<br>count=%{y}<extra></extra>",
         "legendgroup": "",
         "marker": {
          "color": "rgba(0, 255, 0, 0.6)",
          "pattern": {
           "shape": ""
          }
         },
         "name": "",
         "nbinsx": 300,
         "offsetgroup": "",
         "orientation": "v",
         "showlegend": false,
         "type": "histogram",
         "x": [
          133,
          122,
          170,
          22,
          6,
          13,
          3,
          6,
          6,
          112,
          31,
          9,
          11,
          24,
          11,
          24,
          22,
          90,
          25,
          61,
          31,
          24,
          24,
          26,
          38,
          9,
          12,
          12,
          9,
          4,
          51,
          30,
          7,
          3,
          7,
          17,
          20,
          56,
          10,
          10,
          9,
          13,
          4,
          5,
          11,
          3,
          56,
          10,
          52,
          11,
          28,
          6,
          33,
          7,
          18,
          24,
          19,
          16,
          36,
          20,
          13,
          25,
          44,
          23,
          6,
          33,
          7,
          10,
          8,
          6,
          22,
          8,
          7,
          5,
          13,
          11,
          22,
          8,
          94,
          8,
          6,
          20,
          7
         ],
         "xaxis": "x6",
         "yaxis": "y6"
        }
       ],
       "layout": {
        "annotations": [
         {
          "font": {
           "size": 16
          },
          "showarrow": false,
          "text": "Text Length - Negative",
          "x": 0.14444444444444446,
          "xanchor": "center",
          "xref": "paper",
          "y": 1,
          "yanchor": "bottom",
          "yref": "paper"
         },
         {
          "font": {
           "size": 16
          },
          "showarrow": false,
          "text": "Text Length - Neutral",
          "x": 0.5,
          "xanchor": "center",
          "xref": "paper",
          "y": 1,
          "yanchor": "bottom",
          "yref": "paper"
         },
         {
          "font": {
           "size": 16
          },
          "showarrow": false,
          "text": "Text Length - Positive",
          "x": 0.8555555555555556,
          "xanchor": "center",
          "xref": "paper",
          "y": 1,
          "yanchor": "bottom",
          "yref": "paper"
         },
         {
          "font": {
           "size": 16
          },
          "showarrow": false,
          "text": "Word Count - Negative",
          "x": 0.14444444444444446,
          "xanchor": "center",
          "xref": "paper",
          "y": 0.375,
          "yanchor": "bottom",
          "yref": "paper"
         },
         {
          "font": {
           "size": 16
          },
          "showarrow": false,
          "text": "Word Count - Neutral",
          "x": 0.5,
          "xanchor": "center",
          "xref": "paper",
          "y": 0.375,
          "yanchor": "bottom",
          "yref": "paper"
         },
         {
          "font": {
           "size": 16
          },
          "showarrow": false,
          "text": "Word Count - Positive",
          "x": 0.8555555555555556,
          "xanchor": "center",
          "xref": "paper",
          "y": 0.375,
          "yanchor": "bottom",
          "yref": "paper"
         }
        ],
        "height": 800,
        "template": {
         "data": {
          "bar": [
           {
            "error_x": {
             "color": "#2a3f5f"
            },
            "error_y": {
             "color": "#2a3f5f"
            },
            "marker": {
             "line": {
              "color": "#E5ECF6",
              "width": 0.5
             },
             "pattern": {
              "fillmode": "overlay",
              "size": 10,
              "solidity": 0.2
             }
            },
            "type": "bar"
           }
          ],
          "barpolar": [
           {
            "marker": {
             "line": {
              "color": "#E5ECF6",
              "width": 0.5
             },
             "pattern": {
              "fillmode": "overlay",
              "size": 10,
              "solidity": 0.2
             }
            },
            "type": "barpolar"
           }
          ],
          "carpet": [
           {
            "aaxis": {
             "endlinecolor": "#2a3f5f",
             "gridcolor": "white",
             "linecolor": "white",
             "minorgridcolor": "white",
             "startlinecolor": "#2a3f5f"
            },
            "baxis": {
             "endlinecolor": "#2a3f5f",
             "gridcolor": "white",
             "linecolor": "white",
             "minorgridcolor": "white",
             "startlinecolor": "#2a3f5f"
            },
            "type": "carpet"
           }
          ],
          "choropleth": [
           {
            "colorbar": {
             "outlinewidth": 0,
             "ticks": ""
            },
            "type": "choropleth"
           }
          ],
          "contour": [
           {
            "colorbar": {
             "outlinewidth": 0,
             "ticks": ""
            },
            "colorscale": [
             [
              0,
              "#0d0887"
             ],
             [
              0.1111111111111111,
              "#46039f"
             ],
             [
              0.2222222222222222,
              "#7201a8"
             ],
             [
              0.3333333333333333,
              "#9c179e"
             ],
             [
              0.4444444444444444,
              "#bd3786"
             ],
             [
              0.5555555555555556,
              "#d8576b"
             ],
             [
              0.6666666666666666,
              "#ed7953"
             ],
             [
              0.7777777777777778,
              "#fb9f3a"
             ],
             [
              0.8888888888888888,
              "#fdca26"
             ],
             [
              1,
              "#f0f921"
             ]
            ],
            "type": "contour"
           }
          ],
          "contourcarpet": [
           {
            "colorbar": {
             "outlinewidth": 0,
             "ticks": ""
            },
            "type": "contourcarpet"
           }
          ],
          "heatmap": [
           {
            "colorbar": {
             "outlinewidth": 0,
             "ticks": ""
            },
            "colorscale": [
             [
              0,
              "#0d0887"
             ],
             [
              0.1111111111111111,
              "#46039f"
             ],
             [
              0.2222222222222222,
              "#7201a8"
             ],
             [
              0.3333333333333333,
              "#9c179e"
             ],
             [
              0.4444444444444444,
              "#bd3786"
             ],
             [
              0.5555555555555556,
              "#d8576b"
             ],
             [
              0.6666666666666666,
              "#ed7953"
             ],
             [
              0.7777777777777778,
              "#fb9f3a"
             ],
             [
              0.8888888888888888,
              "#fdca26"
             ],
             [
              1,
              "#f0f921"
             ]
            ],
            "type": "heatmap"
           }
          ],
          "heatmapgl": [
           {
            "colorbar": {
             "outlinewidth": 0,
             "ticks": ""
            },
            "colorscale": [
             [
              0,
              "#0d0887"
             ],
             [
              0.1111111111111111,
              "#46039f"
             ],
             [
              0.2222222222222222,
              "#7201a8"
             ],
             [
              0.3333333333333333,
              "#9c179e"
             ],
             [
              0.4444444444444444,
              "#bd3786"
             ],
             [
              0.5555555555555556,
              "#d8576b"
             ],
             [
              0.6666666666666666,
              "#ed7953"
             ],
             [
              0.7777777777777778,
              "#fb9f3a"
             ],
             [
              0.8888888888888888,
              "#fdca26"
             ],
             [
              1,
              "#f0f921"
             ]
            ],
            "type": "heatmapgl"
           }
          ],
          "histogram": [
           {
            "marker": {
             "pattern": {
              "fillmode": "overlay",
              "size": 10,
              "solidity": 0.2
             }
            },
            "type": "histogram"
           }
          ],
          "histogram2d": [
           {
            "colorbar": {
             "outlinewidth": 0,
             "ticks": ""
            },
            "colorscale": [
             [
              0,
              "#0d0887"
             ],
             [
              0.1111111111111111,
              "#46039f"
             ],
             [
              0.2222222222222222,
              "#7201a8"
             ],
             [
              0.3333333333333333,
              "#9c179e"
             ],
             [
              0.4444444444444444,
              "#bd3786"
             ],
             [
              0.5555555555555556,
              "#d8576b"
             ],
             [
              0.6666666666666666,
              "#ed7953"
             ],
             [
              0.7777777777777778,
              "#fb9f3a"
             ],
             [
              0.8888888888888888,
              "#fdca26"
             ],
             [
              1,
              "#f0f921"
             ]
            ],
            "type": "histogram2d"
           }
          ],
          "histogram2dcontour": [
           {
            "colorbar": {
             "outlinewidth": 0,
             "ticks": ""
            },
            "colorscale": [
             [
              0,
              "#0d0887"
             ],
             [
              0.1111111111111111,
              "#46039f"
             ],
             [
              0.2222222222222222,
              "#7201a8"
             ],
             [
              0.3333333333333333,
              "#9c179e"
             ],
             [
              0.4444444444444444,
              "#bd3786"
             ],
             [
              0.5555555555555556,
              "#d8576b"
             ],
             [
              0.6666666666666666,
              "#ed7953"
             ],
             [
              0.7777777777777778,
              "#fb9f3a"
             ],
             [
              0.8888888888888888,
              "#fdca26"
             ],
             [
              1,
              "#f0f921"
             ]
            ],
            "type": "histogram2dcontour"
           }
          ],
          "mesh3d": [
           {
            "colorbar": {
             "outlinewidth": 0,
             "ticks": ""
            },
            "type": "mesh3d"
           }
          ],
          "parcoords": [
           {
            "line": {
             "colorbar": {
              "outlinewidth": 0,
              "ticks": ""
             }
            },
            "type": "parcoords"
           }
          ],
          "pie": [
           {
            "automargin": true,
            "type": "pie"
           }
          ],
          "scatter": [
           {
            "fillpattern": {
             "fillmode": "overlay",
             "size": 10,
             "solidity": 0.2
            },
            "type": "scatter"
           }
          ],
          "scatter3d": [
           {
            "line": {
             "colorbar": {
              "outlinewidth": 0,
              "ticks": ""
             }
            },
            "marker": {
             "colorbar": {
              "outlinewidth": 0,
              "ticks": ""
             }
            },
            "type": "scatter3d"
           }
          ],
          "scattercarpet": [
           {
            "marker": {
             "colorbar": {
              "outlinewidth": 0,
              "ticks": ""
             }
            },
            "type": "scattercarpet"
           }
          ],
          "scattergeo": [
           {
            "marker": {
             "colorbar": {
              "outlinewidth": 0,
              "ticks": ""
             }
            },
            "type": "scattergeo"
           }
          ],
          "scattergl": [
           {
            "marker": {
             "colorbar": {
              "outlinewidth": 0,
              "ticks": ""
             }
            },
            "type": "scattergl"
           }
          ],
          "scattermapbox": [
           {
            "marker": {
             "colorbar": {
              "outlinewidth": 0,
              "ticks": ""
             }
            },
            "type": "scattermapbox"
           }
          ],
          "scatterpolar": [
           {
            "marker": {
             "colorbar": {
              "outlinewidth": 0,
              "ticks": ""
             }
            },
            "type": "scatterpolar"
           }
          ],
          "scatterpolargl": [
           {
            "marker": {
             "colorbar": {
              "outlinewidth": 0,
              "ticks": ""
             }
            },
            "type": "scatterpolargl"
           }
          ],
          "scatterternary": [
           {
            "marker": {
             "colorbar": {
              "outlinewidth": 0,
              "ticks": ""
             }
            },
            "type": "scatterternary"
           }
          ],
          "surface": [
           {
            "colorbar": {
             "outlinewidth": 0,
             "ticks": ""
            },
            "colorscale": [
             [
              0,
              "#0d0887"
             ],
             [
              0.1111111111111111,
              "#46039f"
             ],
             [
              0.2222222222222222,
              "#7201a8"
             ],
             [
              0.3333333333333333,
              "#9c179e"
             ],
             [
              0.4444444444444444,
              "#bd3786"
             ],
             [
              0.5555555555555556,
              "#d8576b"
             ],
             [
              0.6666666666666666,
              "#ed7953"
             ],
             [
              0.7777777777777778,
              "#fb9f3a"
             ],
             [
              0.8888888888888888,
              "#fdca26"
             ],
             [
              1,
              "#f0f921"
             ]
            ],
            "type": "surface"
           }
          ],
          "table": [
           {
            "cells": {
             "fill": {
              "color": "#EBF0F8"
             },
             "line": {
              "color": "white"
             }
            },
            "header": {
             "fill": {
              "color": "#C8D4E3"
             },
             "line": {
              "color": "white"
             }
            },
            "type": "table"
           }
          ]
         },
         "layout": {
          "annotationdefaults": {
           "arrowcolor": "#2a3f5f",
           "arrowhead": 0,
           "arrowwidth": 1
          },
          "autotypenumbers": "strict",
          "coloraxis": {
           "colorbar": {
            "outlinewidth": 0,
            "ticks": ""
           }
          },
          "colorscale": {
           "diverging": [
            [
             0,
             "#8e0152"
            ],
            [
             0.1,
             "#c51b7d"
            ],
            [
             0.2,
             "#de77ae"
            ],
            [
             0.3,
             "#f1b6da"
            ],
            [
             0.4,
             "#fde0ef"
            ],
            [
             0.5,
             "#f7f7f7"
            ],
            [
             0.6,
             "#e6f5d0"
            ],
            [
             0.7,
             "#b8e186"
            ],
            [
             0.8,
             "#7fbc41"
            ],
            [
             0.9,
             "#4d9221"
            ],
            [
             1,
             "#276419"
            ]
           ],
           "sequential": [
            [
             0,
             "#0d0887"
            ],
            [
             0.1111111111111111,
             "#46039f"
            ],
            [
             0.2222222222222222,
             "#7201a8"
            ],
            [
             0.3333333333333333,
             "#9c179e"
            ],
            [
             0.4444444444444444,
             "#bd3786"
            ],
            [
             0.5555555555555556,
             "#d8576b"
            ],
            [
             0.6666666666666666,
             "#ed7953"
            ],
            [
             0.7777777777777778,
             "#fb9f3a"
            ],
            [
             0.8888888888888888,
             "#fdca26"
            ],
            [
             1,
             "#f0f921"
            ]
           ],
           "sequentialminus": [
            [
             0,
             "#0d0887"
            ],
            [
             0.1111111111111111,
             "#46039f"
            ],
            [
             0.2222222222222222,
             "#7201a8"
            ],
            [
             0.3333333333333333,
             "#9c179e"
            ],
            [
             0.4444444444444444,
             "#bd3786"
            ],
            [
             0.5555555555555556,
             "#d8576b"
            ],
            [
             0.6666666666666666,
             "#ed7953"
            ],
            [
             0.7777777777777778,
             "#fb9f3a"
            ],
            [
             0.8888888888888888,
             "#fdca26"
            ],
            [
             1,
             "#f0f921"
            ]
           ]
          },
          "colorway": [
           "#636efa",
           "#EF553B",
           "#00cc96",
           "#ab63fa",
           "#FFA15A",
           "#19d3f3",
           "#FF6692",
           "#B6E880",
           "#FF97FF",
           "#FECB52"
          ],
          "font": {
           "color": "#2a3f5f"
          },
          "geo": {
           "bgcolor": "white",
           "lakecolor": "white",
           "landcolor": "#E5ECF6",
           "showlakes": true,
           "showland": true,
           "subunitcolor": "white"
          },
          "hoverlabel": {
           "align": "left"
          },
          "hovermode": "closest",
          "mapbox": {
           "style": "light"
          },
          "paper_bgcolor": "white",
          "plot_bgcolor": "#E5ECF6",
          "polar": {
           "angularaxis": {
            "gridcolor": "white",
            "linecolor": "white",
            "ticks": ""
           },
           "bgcolor": "#E5ECF6",
           "radialaxis": {
            "gridcolor": "white",
            "linecolor": "white",
            "ticks": ""
           }
          },
          "scene": {
           "xaxis": {
            "backgroundcolor": "#E5ECF6",
            "gridcolor": "white",
            "gridwidth": 2,
            "linecolor": "white",
            "showbackground": true,
            "ticks": "",
            "zerolinecolor": "white"
           },
           "yaxis": {
            "backgroundcolor": "#E5ECF6",
            "gridcolor": "white",
            "gridwidth": 2,
            "linecolor": "white",
            "showbackground": true,
            "ticks": "",
            "zerolinecolor": "white"
           },
           "zaxis": {
            "backgroundcolor": "#E5ECF6",
            "gridcolor": "white",
            "gridwidth": 2,
            "linecolor": "white",
            "showbackground": true,
            "ticks": "",
            "zerolinecolor": "white"
           }
          },
          "shapedefaults": {
           "line": {
            "color": "#2a3f5f"
           }
          },
          "ternary": {
           "aaxis": {
            "gridcolor": "white",
            "linecolor": "white",
            "ticks": ""
           },
           "baxis": {
            "gridcolor": "white",
            "linecolor": "white",
            "ticks": ""
           },
           "bgcolor": "#E5ECF6",
           "caxis": {
            "gridcolor": "white",
            "linecolor": "white",
            "ticks": ""
           }
          },
          "title": {
           "x": 0.05
          },
          "xaxis": {
           "automargin": true,
           "gridcolor": "white",
           "linecolor": "white",
           "ticks": "",
           "title": {
            "standoff": 15
           },
           "zerolinecolor": "white",
           "zerolinewidth": 2
          },
          "yaxis": {
           "automargin": true,
           "gridcolor": "white",
           "linecolor": "white",
           "ticks": "",
           "title": {
            "standoff": 15
           },
           "zerolinecolor": "white",
           "zerolinewidth": 2
          }
         }
        },
        "title": {
         "text": "Distribution of Text Length and Word Count by Sentiment Class"
        },
        "width": 1200,
        "xaxis": {
         "anchor": "y",
         "domain": [
          0,
          0.2888888888888889
         ]
        },
        "xaxis2": {
         "anchor": "y2",
         "domain": [
          0.35555555555555557,
          0.6444444444444445
         ]
        },
        "xaxis3": {
         "anchor": "y3",
         "domain": [
          0.7111111111111111,
          1
         ]
        },
        "xaxis4": {
         "anchor": "y4",
         "domain": [
          0,
          0.2888888888888889
         ]
        },
        "xaxis5": {
         "anchor": "y5",
         "domain": [
          0.35555555555555557,
          0.6444444444444445
         ]
        },
        "xaxis6": {
         "anchor": "y6",
         "domain": [
          0.7111111111111111,
          1
         ]
        },
        "yaxis": {
         "anchor": "x",
         "domain": [
          0.625,
          1
         ]
        },
        "yaxis2": {
         "anchor": "x2",
         "domain": [
          0.625,
          1
         ],
         "matches": "y",
         "showticklabels": false
        },
        "yaxis3": {
         "anchor": "x3",
         "domain": [
          0.625,
          1
         ],
         "matches": "y",
         "showticklabels": false
        },
        "yaxis4": {
         "anchor": "x4",
         "domain": [
          0,
          0.375
         ]
        },
        "yaxis5": {
         "anchor": "x5",
         "domain": [
          0,
          0.375
         ],
         "matches": "y4",
         "showticklabels": false
        },
        "yaxis6": {
         "anchor": "x6",
         "domain": [
          0,
          0.375
         ],
         "matches": "y4",
         "showticklabels": false
        }
       }
      }
     },
     "metadata": {},
     "output_type": "display_data"
    }
   ],
   "source": [
    "df[\"len_char\"] = df[\"text\"].apply(lambda x: len(x))\n",
    "df[\"words_count\"] = df[\"text\"].apply(lambda x: len(x.split()))\n",
    "\n",
    "fig = make_subplots(rows=2, cols=3, subplot_titles=(\"Text Length - Negative\", \"Text Length - Neutral\", \"Text Length - Positive\", \"Word Count - Negative\", \"Word Count - Neutral\", \"Word Count - Positive\"), shared_yaxes=True)\n",
    "\n",
    "fig.add_trace(px.histogram(df[df['label'] == 'Negative'], x=\"len_char\", nbins=300, color_discrete_sequence=[color_map['Negative']]).data[0], row=1, col=1)\n",
    "fig.add_trace(px.histogram(df[df['label'] == 'Neutral'], x=\"len_char\", nbins=300, color_discrete_sequence=[color_map['Neutral']]).data[0], row=1, col=2)\n",
    "fig.add_trace(px.histogram(df[df['label'] == 'Positive'], x=\"len_char\", nbins=300, color_discrete_sequence=[color_map['Positive']]).data[0], row=1, col=3)\n",
    "\n",
    "fig.add_trace(px.histogram(df[df['label'] == 'Negative'], x=\"words_count\", nbins=300, color_discrete_sequence=[color_map['Negative']]).data[0], row=2, col=1)\n",
    "fig.add_trace(px.histogram(df[df['label'] == 'Neutral'], x=\"words_count\", nbins=300, color_discrete_sequence=[color_map['Neutral']]).data[0], row=2, col=2)\n",
    "fig.add_trace(px.histogram(df[df['label'] == 'Positive'], x=\"words_count\", nbins=300, color_discrete_sequence=[color_map['Positive']]).data[0], row=2, col=3)\n",
    "\n",
    "fig.update_layout(height=800, width=1200, title_text=\"Distribution of Text Length and Word Count by Sentiment Class\")\n",
    "\n",
    "fig.show()"
   ]
  }
 ],
 "metadata": {
  "kernelspec": {
   "display_name": "py310",
   "language": "python",
   "name": "python3"
  },
  "language_info": {
   "codemirror_mode": {
    "name": "ipython",
    "version": 3
   },
   "file_extension": ".py",
   "mimetype": "text/x-python",
   "name": "python",
   "nbconvert_exporter": "python",
   "pygments_lexer": "ipython3",
   "version": "3.10.14"
  }
 },
 "nbformat": 4,
 "nbformat_minor": 2
}
